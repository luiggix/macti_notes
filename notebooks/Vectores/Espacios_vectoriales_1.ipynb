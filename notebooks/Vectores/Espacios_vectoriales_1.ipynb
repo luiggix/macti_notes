{
 "cells": [
  {
   "cell_type": "markdown",
   "id": "6d0ebf25-9632-49f4-9b42-3622d9d9e3a9",
   "metadata": {},
   "source": [
    "# Espacio vectorial $\\mathbb{R}^2$.\n",
    "\n",
    "**Objetivo.**\n",
    "Revisar e ilustrar las propiedades del espacio vectorial $\\mathbb{R}^2$ usando la biblioteca `numpy`.\n",
    "\n",
    "\n",
    " <p xmlns:cc=\"http://creativecommons.org/ns#\" xmlns:dct=\"http://purl.org/dc/terms/\"><a property=\"dct:title\" rel=\"cc:attributionURL\" href=\"https://github.com/luiggix/intro_MeIA_2023\">Espacios_vectoriales_1.ipynb</a> by <span property=\"cc:attributionName\">Luis Miguel de la Cruz Salas</span> is licensed under <a href=\"http://creativecommons.org/licenses/by-nc-sa/4.0/?ref=chooser-v1\" target=\"_blank\" rel=\"license noopener noreferrer\" style=\"display:inline-block;\">CC BY-NC-SA 4.0<img style=\"height:22px!important;margin-left:3px;vertical-align:text-bottom;\" src=\"https://mirrors.creativecommons.org/presskit/icons/cc.svg?ref=chooser-v1\"><img style=\"height:22px!important;margin-left:3px;vertical-align:text-bottom;\" src=\"https://mirrors.creativecommons.org/presskit/icons/by.svg?ref=chooser-v1\"><img style=\"height:22px!important;margin-left:3px;vertical-align:text-bottom;\" src=\"https://mirrors.creativecommons.org/presskit/icons/nc.svg?ref=chooser-v1\"><img style=\"height:22px!important;margin-left:3px;vertical-align:text-bottom;\" src=\"https://mirrors.creativecommons.org/presskit/icons/sa.svg?ref=chooser-v1\"></a></p> "
   ]
  },
  {
   "cell_type": "markdown",
   "id": "778cc373-ff30-4063-8693-96ecc97150fe",
   "metadata": {},
   "source": [
    "## **Ejercicio 1.**\n",
    "\n",
    "---\n",
    "<font color=\"MediumBlue\"> Definimos dos vectores $\\vec{x} = (x_1, x_2)$ y $\\vec{y} = (y_1, y_2)$ ambos en $\\mathbb{R}^2$, y $\\alpha \\in \\mathbb{R}$. En el siguiente interactivo se implementa la operación conocida como SAXPY que se define como: $\\alpha \\vec{x} + \\vec{y}$. Modifica el valor de $\\alpha$ y de las componentes de los vectores $\\vec{x}$ y $\\vec{y}$, y observa lo que sucede cuando:\n",
    "</font>\n",
    "\n",
    "* <font color=\"MediumBlue\">$\\alpha = 1.0$, $\\alpha > 1.0$, $\\alpha < 1.0$, $\\alpha = 0.0$, $\\alpha < 0.0$.</font> \n",
    "* <font color=\"MediumBlue\">$\\vec{y} = (0,0)$.</font>\n",
    "\n",
    "---"
   ]
  },
  {
   "cell_type": "code",
   "execution_count": null,
   "id": "365bab00-d540-416b-b738-d9eeb8e822f8",
   "metadata": {
    "scrolled": true
   },
   "outputs": [],
   "source": [
    "%run ./vecspace.py"
   ]
  },
  {
   "cell_type": "markdown",
   "id": "d8e585f4-adba-4557-a444-a286e50d4ed8",
   "metadata": {},
   "source": [
    "## Vectores en $\\mathbb{R}^2$.\n",
    "\n",
    "Usando la biblioteca `numpy` podemos definir vectores en varias dimensiones. Para ejemplificar definiremos vectores en $\\mathbb{R}^2$ y haremos algunas operaciones en este espacio vectorial."
   ]
  },
  {
   "cell_type": "code",
   "execution_count": null,
   "id": "17783f94-50ae-421d-be28-dd8d9e92a57f",
   "metadata": {},
   "outputs": [],
   "source": [
    "# Importamos las bibliotecas requeridas\n",
    "import numpy as np\n",
    "#import macti.visual as mvis\n",
    "import visual as mvis"
   ]
  },
  {
   "cell_type": "code",
   "execution_count": null,
   "id": "6e3a266d-7bad-43f9-a9ff-6a18ba9759a2",
   "metadata": {},
   "outputs": [],
   "source": [
    "# Definimos dos vectores en R^2 (arreglos 1D de numpy de longitud 2).\n",
    "x = np.array([0.5, 1.0])\n",
    "y = np.array([1.5, 0.5])\n",
    "\n",
    "print('x = {}'.format(x))\n",
    "print('y = {}'.format(y))"
   ]
  },
  {
   "cell_type": "markdown",
   "id": "a516ee44-5369-4e88-b3d0-ec18eab53f38",
   "metadata": {},
   "source": [
    "La biblioteca `macti.visual` permite graficar los vectores en $\\mathbb{R}^2$ como sigue:"
   ]
  },
  {
   "cell_type": "code",
   "execution_count": null,
   "id": "bf4e02a0-915f-4291-b934-04713e998639",
   "metadata": {},
   "outputs": [],
   "source": [
    "v = mvis.Plotter()  # Definición de un objeto para crear figuras.\n",
    "v.set_coordsys(1)   # Definición del sistema de coordenadas.\n",
    "v.plot_vectors(1, [x, y], ['x', 'y']) # Graficación de los vectores 'x' y 'y'.\n",
    "v.grid()  # Muestra la rejilla del sistema de coordenadas."
   ]
  },
  {
   "cell_type": "markdown",
   "id": "ce32d2f2-fd74-489f-8f0a-cf4489c3cf4e",
   "metadata": {},
   "source": [
    "## Propiedades de un espacio vectorial.\n",
    "\n",
    "1. $\\vec{x} + \\vec{y} \\in \\mathbb{R}^n$.\n",
    "2. $\\vec{x} + \\vec{y} = \\vec{y} + \\vec{x}$.\n",
    "3. $\\vec{x} + (\\vec{y} + \\vec{z})= (\\vec{x} + \\vec{y}) + \\vec{z}$.\n",
    "4. Existe el vector neutro $\\vec{0} \\in \\mathbb{R}^n$ tal que $\\vec{x} + \\vec{0} = \\vec{x}$.\n",
    "5. Para cada $\\vec{x}\\in \\mathbb{R}^n$ existe el opuesto $-\\vec{x}$ tal que $\\vec{x} + (-\\vec{x}) = \\vec{0}$.\n",
    "6. $\\alpha \\vec{x} \\in \\mathbb{R}^n$.\n",
    "7. $\\alpha (\\vec{x} + \\vec{y}) = \\alpha \\vec{x} + \\alpha \\vec{y}$.\n",
    "8. $(\\alpha + \\beta) \\vec{x} = \\alpha \\vec{x} + \\beta \\vec{x}$.\n",
    "9. $\\alpha (\\beta \\vec{x}) = (\\alpha \\beta) \\vec{x}$.\n",
    "10. Existe el elemento neutro $\\mathbf{1} \\in \\mathbb{R}$ tal que $\\mathbf{1} \\vec{x} = \\vec{x}$.\n",
    "\n",
    "### Propiedad 1: la suma es una operación interna.\n",
    "\n",
    "$\\vec{x} + \\vec{y} \\in \\mathbb{R}^n$."
   ]
  },
  {
   "cell_type": "code",
   "execution_count": null,
   "id": "156d1c04-3507-424c-903f-fc30079573f4",
   "metadata": {},
   "outputs": [],
   "source": [
    "# Suma de dos vectores\n",
    "z = x + y\n",
    "\n",
    "print('x = {}'.format(x))\n",
    "print('y = {}'.format(y))\n",
    "print('z = {}'.format(z))\n",
    "\n",
    "# Graficamos los vectores y su suma\n",
    "v = mvis.Plotter()\n",
    "v.set_coordsys()\n",
    "v.plot_vectors_sum(1, [x, y], ['x', 'y'], ofx=-0.3) # Grafica los vectores y el resultado de la suma.\n",
    "v.grid()"
   ]
  },
  {
   "cell_type": "markdown",
   "id": "35c1b407-168d-43dd-9fc0-2ea29a2e5d53",
   "metadata": {},
   "source": [
    "<div class=\"alert alert-success\">\n",
    "Observa que la función <b>plot_vectors_sum()</b>  muestra los vectores originales y la suma de ellos. El nuevo vector $\\vec{z}$ está en $\\mathbb{R}^2$.\n",
    "</div>"
   ]
  },
  {
   "cell_type": "markdown",
   "id": "0e83eab0-67dd-40b8-bde7-9f6db0a7a42f",
   "metadata": {},
   "source": [
    "### Propiedad 2: la suma es conmutativa. \n",
    "\n",
    "$\\vec{x} + \\vec{y} = \\vec{y} + \\vec{x}$."
   ]
  },
  {
   "cell_type": "code",
   "execution_count": null,
   "id": "85510924-48b2-403b-8d19-748096da0710",
   "metadata": {},
   "outputs": [],
   "source": [
    "xpy = x + y\n",
    "ypx = y + x\n",
    "print(' x + y = {} \\t y + x = {}'.format(xpy, ypx))\n",
    "print('\\n ¿ x + y == y + x ? : {}'.format(np.isclose(xpy, ypx)))"
   ]
  },
  {
   "cell_type": "markdown",
   "id": "f77da6f9-2821-4ddb-be4d-73d8d109df2a",
   "metadata": {},
   "source": [
    "<div class=\"alert alert-success\">\n",
    "Observa que la operación suma $+$ se realiza componente a componente. \n",
    "</div>\n",
    "\n",
    "<div class=\"alert alert-info\" role=\"alert\">\n",
    "La función <b>np.isclose()</b> compara cada componente de los arreglos y determina que tan \"parecidas\" son hasta una tolerancia absoluta de $10^{-8}$.\n",
    "</div>\n"
   ]
  },
  {
   "cell_type": "markdown",
   "id": "6e3dd779-8703-483c-a2d0-2356132da6c8",
   "metadata": {},
   "source": [
    "### Propiedad 3: la suma es asociativa.\n",
    "\n",
    "$\\vec{x} + (\\vec{y} + \\vec{z})= (\\vec{x} + \\vec{y}) + \\vec{z}$."
   ]
  },
  {
   "cell_type": "code",
   "execution_count": null,
   "id": "b1d1fb91-5851-4b73-a865-070f47725730",
   "metadata": {},
   "outputs": [],
   "source": [
    "print(' x = {} \\t y = {} \\t z = {}'.format(x, y, z))\n",
    "print(' x + (y + z)= {} \\t (x + y) + z = {}'.format(x + (y + z), (x + y) + z))\n",
    "print('\\n ¿ x + (y + z) == (x + y) + z : {}'.format(np.isclose(x + (y + z), (x + y) + z)))"
   ]
  },
  {
   "cell_type": "markdown",
   "id": "e02e8e84-4204-4d03-9a78-d4b5f7e20467",
   "metadata": {},
   "source": [
    "### Propiedad 4: elemento neutro de la suma.\n",
    "\n",
    "Existe el vector neutro $\\vec{0} \\in \\mathbb{R}^n$ tal que $\\vec{x} + \\vec{0} = \\vec{x}$."
   ]
  },
  {
   "cell_type": "code",
   "execution_count": null,
   "id": "6444b657-468e-4a15-88c7-8aace14a9631",
   "metadata": {},
   "outputs": [],
   "source": [
    "cero = np.zeros(2)\n",
    "print(' x = {} \\t cero = {}'.format(x, cero))\n",
    "print(' x + cero = {}'.format(x + cero))"
   ]
  },
  {
   "cell_type": "markdown",
   "id": "d48e72df-f18b-43ac-9146-b8b10a01fcdf",
   "metadata": {},
   "source": [
    "### Propiedad 5: elemento inverso en la suma.\n",
    "\n",
    "Para cada $\\vec{x}\\in \\mathbb{R}^n$ existe el inverso $-\\vec{x}$ tal que $\\vec{x} + (-\\vec{x}) = \\vec{0}$."
   ]
  },
  {
   "cell_type": "code",
   "execution_count": null,
   "id": "a6d68b89-ee33-40bd-a02c-d25f99f437cd",
   "metadata": {},
   "outputs": [],
   "source": [
    "print(' x = {} \\t -x = {}'.format(x, -x))\n",
    "print(' x + (-x) = {}'.format(x + (-x)))"
   ]
  },
  {
   "cell_type": "markdown",
   "id": "d926a294-1213-4f7f-84f1-bc4a5a5772e9",
   "metadata": {},
   "source": [
    "### Propiedad 6: la multiplicación de un vector por un escalar produce un vector.\n",
    "\n",
    "$\\alpha \\vec{x} \\in \\mathbb{R}^n$."
   ]
  },
  {
   "cell_type": "code",
   "execution_count": null,
   "id": "9595f556-6a12-4bc6-8ee2-faa8c6efed30",
   "metadata": {},
   "outputs": [],
   "source": [
    "# Definimos un escalar\n",
    "α = 1.5\n",
    "\n",
    "# Realizamos la multiplicación de x por el escalar\n",
    "αx = α * x\n",
    "\n",
    "# Mostramos el resultado\n",
    "print(' α = {} \\t x = {} \\n α * x = {}  \\n '.format(α, x, αx))\n",
    "\n",
    "# Graficamos el vector orginal y el resultado.\n",
    "v = mvis.Plotter()\n",
    "v.set_coordsys()\n",
    "v.plot_vectors(1, [x, αx], ['x', 'αx'], w=0.020)\n",
    "v.grid()"
   ]
  },
  {
   "cell_type": "markdown",
   "id": "8a67c5e5-0087-4bab-9bbb-fed8bfeca5d2",
   "metadata": {},
   "source": [
    "<div class=\"alert alert-success\">\n",
    "Observa que el vector original $\\vec{x} = (0.5, 1.0)$, representado por la flecha azul, es más pequeño que el vector resultante $\\alpha \\vec{x} = (0.75, 1.5)$, representado por la flecha naranja. $\\alpha$ multiplica a cada componente del vector $\\vec{x}$. <br><br>\n",
    "Cuando multiplicamos un vector por un escalar, puede ocurrir que su longitud se agrande, se reduzca y/o que cambie de sentido.<br><br>\n",
    "Intenta modificar el valor de $\\alpha$ a $0.5$ y luego a $-0.5$, observa que sucede.\n",
    "</div>"
   ]
  },
  {
   "cell_type": "markdown",
   "id": "14bf4330-88c2-4af8-8778-4beac0064b59",
   "metadata": {},
   "source": [
    "### Propiedad 7: distributividad I.\n",
    "\n",
    "$\\alpha (\\vec{x} + \\vec{y}) = \\alpha \\vec{x} + \\alpha \\vec{y}$"
   ]
  },
  {
   "cell_type": "code",
   "execution_count": null,
   "id": "942dae2f-08af-459a-a33d-c69b32564036",
   "metadata": {},
   "outputs": [],
   "source": [
    "print(' α = {}'.format(α))\n",
    "print(' x = {} \\t y = {}'.format(x, y))\n",
    "print(' α * (x + y) = {}'.format(α * (x + y)))\n",
    "print(' α * x + α * y = {}'.format(α * x + α * y))\n",
    "print(' ¿ α * (x + y) == α * x + α * y ? : {}'.format(np.isclose(α * (x + y), α * x + α * y)))"
   ]
  },
  {
   "cell_type": "markdown",
   "id": "bed1a50b-13ec-41e0-afc0-9d5ec4de7423",
   "metadata": {},
   "source": [
    "### Propiedad 8: distributividad II.\n",
    "\n",
    "$(\\alpha + \\beta) \\vec{x} = \\alpha \\vec{x} + \\beta \\vec{x}$"
   ]
  },
  {
   "cell_type": "code",
   "execution_count": null,
   "id": "341cab24-9fd5-4402-8db0-5744fb3429cb",
   "metadata": {},
   "outputs": [],
   "source": [
    "# Definimos dos escalares\n",
    "α = 2.0\n",
    "β = 1.5\n",
    "\n",
    "print(' α = {} \\t β = {} \\t α + β = {}'.format(α, β, α + β))\n",
    "print(' x = {}'.format(x))\n",
    "print(' (α + β) * x = {}'.format((α + β) * x))\n",
    "print(' α * x + β * x = {}'.format(α * x + β * x))\n",
    "print(' ¿ (α + β) * x == α * x + β * x ? : {}'.format(np.isclose((α + β) * x, α * x + β * x)))"
   ]
  },
  {
   "cell_type": "markdown",
   "id": "4a34a8b7-9e98-462a-9385-2ba6d93c98f2",
   "metadata": {},
   "source": [
    "### Propiedad 9. asociatividad.\n",
    "\n",
    "$\\alpha (\\beta \\vec{x}) = (\\alpha \\beta) \\vec{x}$.\n"
   ]
  },
  {
   "cell_type": "code",
   "execution_count": null,
   "id": "d2fc07f6-295b-4ec8-8f05-1ead3b419ced",
   "metadata": {},
   "outputs": [],
   "source": [
    "# Definimos dos escalares\n",
    "α = 2.0\n",
    "β = 1.5\n",
    "\n",
    "print(' α = {} \\t β = {} \\t x = {}'.format(α, β, x))\n",
    "print(' α * (β * x) = {}'.format(α * ( β * x)))\n",
    "print(' (α * β) * x = {}'.format((α * β) * x))\n",
    "print(' ¿ α * (β * x) == (α * β) * x ? : {}'.format(np.isclose(α * (β * x), (α * β) * x)))"
   ]
  },
  {
   "cell_type": "markdown",
   "id": "9f5554d3-b2e7-4d56-86b3-e1700af85293",
   "metadata": {},
   "source": [
    "### Propiedad 10.\n",
    "\n",
    "Existe el elemento neutro $\\mathbf{1} \\in \\mathbb{R}$ tal que $\\mathbf{1} \\vec{x} = \\vec{x}$.\n"
   ]
  },
  {
   "cell_type": "code",
   "execution_count": null,
   "id": "d5e5cc97-e559-40f5-9387-544d0756452a",
   "metadata": {},
   "outputs": [],
   "source": [
    "α = 1.0\n",
    "\n",
    "print(' α = {} \\t x = {}'.format(α, x))\n",
    "print(' α * x = {}'.format(α * x))\n",
    "print(' ¿ α * x == x ? : {}'.format(np.isclose(α * x, x)))"
   ]
  },
  {
   "cell_type": "markdown",
   "id": "50659cd9-f7c5-424c-97c1-2b53ecd9b355",
   "metadata": {},
   "source": [
    "## **Ejercicio 2.**\n",
    "\n",
    "---\n",
    "<font color=\"MediumBlue\"> Definimos los siguientes vectores $\\vec{x} = (1.2, 3.4, 5.2, -6.7)$ y $\\vec{y} = (4.4, -2.3, 5.3, 8.9)$ ambos en $\\mathbb{R}^4$. <br><br>\n",
    "Usando $\\alpha = 0.5$ y $\\beta = 3.5$, verifica que se cumplen las propiedades 1 a 10 para $\\vec{x}$ y $\\vec{x}$.\n",
    "<br><br>\n",
    "<b>Hint</b>. Define los vectores $\\vec{x}$ y $\\vec{y}$ usando `numpy` y posteriormente copia los códigos utilizados en el ejemplo de $\\mathbb{R}^2$ para cada propiedad. En algunos casos debes ajustar el código para este ejercicio.<br><br>\n",
    "<b>Obervación</b>. En este caso no es posible realizar gráficas.\n",
    "</font>\n",
    "\n",
    "---"
   ]
  },
  {
   "cell_type": "code",
   "execution_count": null,
   "id": "205fb63a-e6a1-4a65-8f37-843eae6b8573",
   "metadata": {},
   "outputs": [],
   "source": [
    "### Definición de los vectores en R^4 con numpy\n",
    "### BEGIN SOLUTION\n",
    "x = np.array([1.2, 3.4, 5.2, -6.7])\n",
    "y = np.array([4.4, -2.3, 5.3, 8.9])\n",
    "### END SOLUTION\n",
    "\n",
    "print('x = {}'.format(x))\n",
    "print('y = {}'.format(y))"
   ]
  },
  {
   "cell_type": "code",
   "execution_count": null,
   "id": "b623ac36-5d6b-49c9-8674-aa40eddf046b",
   "metadata": {},
   "outputs": [],
   "source": [
    "### Propiedad 1.\n",
    "\n",
    "### BEGIN SOLUTION\n",
    "z = x + y \n",
    "print(z)\n",
    "### END SOLUTION"
   ]
  },
  {
   "cell_type": "code",
   "execution_count": null,
   "id": "4c135436-5227-4dec-830a-126b31de055a",
   "metadata": {},
   "outputs": [],
   "source": [
    "### Propiedad 2.\n",
    "\n",
    "### BEGIN SOLUTION\n",
    "xpy = x + y\n",
    "ypx = y + x\n",
    "print(' x + y = {} \\t y + x = {}'.format(xpy, ypx))\n",
    "print('\\n ¿ x + y == y + x ? : {}'.format(xpy == ypx))\n",
    "### END SOLUTION"
   ]
  },
  {
   "cell_type": "code",
   "execution_count": null,
   "id": "c67c60c7-7860-4d80-96af-87778bbd859f",
   "metadata": {},
   "outputs": [],
   "source": [
    "### Propiedad 3.\n",
    "\n",
    "### BEGIN SOLUTION\n",
    "print(' x = {} \\t y = {} \\t z = {}'.format(x, y, z))\n",
    "print(' x + (y + z)= {} \\t (x + y) + z = {}'.format(x + (y + z), (x + y) + z))\n",
    "print('\\n ¿ x + (y + z) == (x + y) + z : {}'.format(np.isclose(x + (y + z), (x + y) + z)))\n",
    "### END SOLUTION"
   ]
  },
  {
   "cell_type": "code",
   "execution_count": null,
   "id": "8303488b-ff89-4b0c-8fb1-7b711d1ae5f7",
   "metadata": {},
   "outputs": [],
   "source": [
    "### Propiedad 4.\n",
    "\n",
    "### BEGIN SOLUTION\n",
    "cero = np.zeros(4)\n",
    "print(' x = {} \\t cero = {}'.format(x, cero))\n",
    "print(' x + cero = {}'.format(x + cero))\n",
    "### END SOLUTION"
   ]
  },
  {
   "cell_type": "code",
   "execution_count": null,
   "id": "9d93d222-8a2c-4f51-9b5d-5bb6cae5d035",
   "metadata": {},
   "outputs": [],
   "source": [
    "### Propiedad 5.\n",
    "\n",
    "### BEGIN SOLUTION\n",
    "print(' x = {} \\t -x = {}'.format(x, -x))\n",
    "print(' x + (-x) = {}'.format(x + (-x)))\n",
    "### END SOLUTION"
   ]
  },
  {
   "cell_type": "code",
   "execution_count": null,
   "id": "7eac92d8-d50a-4928-b695-0558ab9222b8",
   "metadata": {},
   "outputs": [],
   "source": [
    "### Propiedad 6.\n",
    "\n",
    "### BEGIN SOLUTION\n",
    "α = 1.5\n",
    "αx = α * x\n",
    "print(' α = {} \\t x = {} \\n α * x = {}  \\n '.format(α, x, αx))\n",
    "### END SOLUTION"
   ]
  },
  {
   "cell_type": "code",
   "execution_count": null,
   "id": "8d327ccf-6f1b-4de8-9a9b-cd6ab7180b78",
   "metadata": {},
   "outputs": [],
   "source": [
    "### Propiedad 7.\n",
    "\n",
    "### BEGIN SOLUTION\n",
    "print(' α = {}'.format(α))\n",
    "print(' x = {} \\t y = {}'.format(x, y))\n",
    "print(' α * (x + y) = {}'.format(α * (x + y)))\n",
    "print(' α * x + α * y = {}'.format(α * x + α * y))\n",
    "print(' ¿ α * (x + y) == α * x + α * y ? : {}'.format(np.isclose(α * (x + y), α * x + α * y)))\n",
    "### END SOLUTION"
   ]
  },
  {
   "cell_type": "code",
   "execution_count": null,
   "id": "3cbde66f-79c1-44bd-b537-743e441b85f2",
   "metadata": {},
   "outputs": [],
   "source": [
    "### Propiedad 8.\n",
    "\n",
    "### BEGIN SOLUTION\n",
    "α = 2.0\n",
    "β = 1.5\n",
    "\n",
    "print(' α = {} \\t β = {} \\t α + β = {}'.format(α, β, α + β))\n",
    "print(' x = {}'.format(x))\n",
    "print(' (α + β) * x = {}'.format((α + β) * x))\n",
    "print(' α * x + β * x = {}'.format(α * x + β * x))\n",
    "print(' ¿ (α + β) * x == α * x + β * x ? : {}'.format(np.isclose((α + β) * x, α * x + β * x)))\n",
    "### END SOLUTION"
   ]
  },
  {
   "cell_type": "code",
   "execution_count": null,
   "id": "8cc247ff-cba3-4e4c-b90b-6faed3c87c51",
   "metadata": {},
   "outputs": [],
   "source": [
    "### Propiedad 9.\n",
    "\n",
    "### BEGIN SOLUTION\n",
    "α = 2.0\n",
    "β = 1.5\n",
    "\n",
    "print(' α = {} \\t β = {} \\t x = {}'.format(α, β, x))\n",
    "print(' α * (β * x) = {}'.format(α * ( β * x)))\n",
    "print(' (α * β) * x = {}'.format((α * β) * x))\n",
    "print(' ¿ α * (β * x) == (α * β) * x ? : {}'.format(np.isclose(α * (β * x), (α * β) * x)))\n",
    "### END SOLUTION"
   ]
  },
  {
   "cell_type": "code",
   "execution_count": null,
   "id": "3ec2da2e-4391-4da1-b147-1039feb2985b",
   "metadata": {},
   "outputs": [],
   "source": [
    "### Propiedad 10.\n",
    "\n",
    "### BEGIN SOLUTION\n",
    "α = 1.0\n",
    "\n",
    "print(' α = {} \\t x = {}'.format(α, x))\n",
    "print(' α * x = {}'.format(α * x))\n",
    "print(' ¿ α * x == x ? : {}'.format(np.isclose(α * x, x)))\n",
    "### END SOLUTION"
   ]
  },
  {
   "cell_type": "code",
   "execution_count": null,
   "id": "b40526f1-b8b8-459f-b8b4-fd41c4092634",
   "metadata": {},
   "outputs": [],
   "source": []
  }
 ],
 "metadata": {
  "kernelspec": {
   "display_name": "Python 3 (ipykernel)",
   "language": "python",
   "name": "python3"
  },
  "language_info": {
   "codemirror_mode": {
    "name": "ipython",
    "version": 3
   },
   "file_extension": ".py",
   "mimetype": "text/x-python",
   "name": "python",
   "nbconvert_exporter": "python",
   "pygments_lexer": "ipython3",
   "version": "3.11.5"
  }
 },
 "nbformat": 4,
 "nbformat_minor": 5
}
