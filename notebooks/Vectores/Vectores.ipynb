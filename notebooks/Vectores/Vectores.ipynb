{
 "cells": [
  {
   "cell_type": "markdown",
   "id": "f54fb059",
   "metadata": {},
   "source": [
    "# Vectores\n",
    "\n",
    "**Objetivo general**\n",
    "- Dar una definición concisa del concepto de vector, presentar dicho concepto en diferentes ramas del conocimiento. Se pretende familiarizar al alumno con las nociones básicas de operaciones con vectores.\n",
    "\n",
    "**Objetivos particulares**\n",
    "- Presentar una definción clara del concepto de vector.\n",
    "- Mostrar las peculiaridades de trabajar con vectores, especialmente cuando se realizan operaciones.\n",
    "- Ejemplificar la importancia de los vectores y sus operaciones, mostrando un par de criterios fundamentales para temas posteriores.\n",
    "\n",
    "## Contenido\n",
    "- [1 - Introducción.](#1)\n",
    "- [2 - Operaciones con vectores.](#2)\n",
    "    - [2.1 - Suma y resta de vectores.](#2-1)\n",
    "        - [Ejemplo 1 - Suma de vectores.](#ej-1)\n",
    "        - [Ejemplo 2 - Resta de vectores.](#ej-2)\n",
    "    - [2.2 - Multiplicación de un vector por un escalar.](#2-2)\n",
    "        - [Ejemplo 3 - Multiplicación entre vector y escalar.](#ej-3)\n",
    "    - [2.3 - Producto punto entre vectores.](#2-3)\n",
    "        - [Ejemplo 4 - Producto punto entre vectores.](#ej-4)\n",
    "    - [2.4 - Producto vectorial o producto cruz entre vectores.](#2-4)\n",
    "        - [Ejemplo 5 - Producto cruz entre vectores.](#ej-5)\n",
    "    - [2.5 - Producto mixto.](#2-5)\n",
    "        - [Ejemplo 6 - Producto mixto entre vectores.](#ej-6)\n",
    "        \n",
    "- [3 - Ortogonalidad y paralelismo.](#3)\n",
    "    - [3.1 - Ortogonalidad.](#3-1)\n",
    "        - [Ejemplo 7 - Determinar si dos vectores son ortogonales entre sí.](#ej-7)\n",
    "    - [3.2 - Paralelismo.](#3-2)\n",
    "        - [Ejemplo 8 - Determinar si dos vectores son paralelos entre sí.](#ej-8)\n",
    "- [4 - Ejercicios.](#4)\n",
    "- [5 - Referencias.](#5)"
   ]
  },
  {
   "cell_type": "markdown",
   "id": "8500e295",
   "metadata": {},
   "source": [
    "<a name='1'></a>\n",
    "## Introducción.\n",
    "\n",
    "¿Qué es un vector? Dentro del área de la física, se le conoce como vector a un segmento de recta en el espacio que parte de un punto hacia otro, es decir, que tiene dirección y sentido. Los vectores en física tienen por función expresar las llamadas magnitudes vectoriales. En computación, un vector representa una lista de números que pueden tomar muchos valores. En matemáticas se define vector como un elemento de un espacio vectorial. Esta noción es más abstracta y para muchos espacios vectoriales no es posible representar sus vectores mediante el módulo y la dirección, en particular los espacios de dimensión infinita sin producto escalar no son representables de ese modo. \n",
    "\n",
    "Los vectores en un espacio euclídeo se pueden representar geométricamente como segmentos de recta $\\mathbb{R}$, en el plano $\\mathbb{R}^{2}$ (bidimensional), o en el espacio $\\mathbb{R}^{3}$ (tridimensional).\n",
    "\n",
    "Mientras en el área de la computación, los vectores son una forma de almacenar datos que permiten contener una serie de valores del mismo tipo, cada uno de los valores contenidos tiene una posición asociada que se usará para accederlos. Está posición o índice será siempre un número entero positivo."
   ]
  },
  {
   "cell_type": "code",
   "execution_count": 1,
   "id": "8b523ff3-cfd9-462e-97c1-188a4bdfb8ea",
   "metadata": {},
   "outputs": [],
   "source": [
    "import numpy as np\n",
    "import macti.visual as mvis"
   ]
  },
  {
   "cell_type": "code",
   "execution_count": 2,
   "id": "c2795e46-bd08-47d7-8535-dbd2bae05e59",
   "metadata": {},
   "outputs": [
    {
     "name": "stdout",
     "output_type": "stream",
     "text": [
      " a = [2 4] \n",
      " b = [3 1] \n",
      " c = [3 4]\n"
     ]
    }
   ],
   "source": [
    "a = np.array([2,4])\n",
    "b = np.array([3,1])\n",
    "c = np.array([3,4])\n",
    "\n",
    "print(\" a = {} \\n b = {} \\n c = {}\".format(a, b, c))"
   ]
  },
  {
   "cell_type": "code",
   "execution_count": 3,
   "id": "53269470-4924-4cbe-a70b-9e0093fb02b2",
   "metadata": {},
   "outputs": [
    {
     "data": {
      "image/png": "[encoded data removed]",
      "text/plain": [
       "<Figure size 512x384 with 1 Axes>"
      ]
     },
     "metadata": {},
     "output_type": "display_data"
    }
   ],
   "source": [
    "v = mvis.Plotter()\n",
    "v.plot_vectors(1, [a, b, c], ['a', 'b', 'c'])\n",
    "v.grid()"
   ]
  },
  {
   "cell_type": "markdown",
   "id": "2bd0669b",
   "metadata": {},
   "source": [
    "<a name='2'></a>\n",
    "## Operaciones con vectores.\n",
    "A continuacion se presentan algunas operaciones que pueden realizarse entre vectores, en cada una de estas se remarcarán las propiedades de dicha operación."
   ]
  },
  {
   "cell_type": "markdown",
   "id": "1ff0b96f",
   "metadata": {},
   "source": [
    "### Suma de vectores.\n",
    "Para sumar dos vectores $\\vec{a}$ y $\\vec{b}$, debemos sumar cada una de las componentes de $\\vec{a}$ con cada una de las componentes de $\\vec{b}$. Por ejemplo, dados\n",
    " $\\vec{a} = (a_{1}, a_{2})$ y $\\vec{b} = (b_{1}, b_{2})$, entonces la suma de los vectores esta dada por: \n",
    "$$\n",
    "\\vec{a} + \\vec{b} = (a_{1} + b_{1}, a_{2} + b_{2})\n",
    "$$"
   ]
  },
  {
   "cell_type": "markdown",
   "id": "bd06a703",
   "metadata": {},
   "source": [
    "---\n",
    "<a name='ej-1'></a>\n",
    "#### **<font color=\"DodgerBlue\">Ejemplo 1. Suma de vectores.</font>**\n",
    "\n",
    "<font color=\"DarkBlue\">Dados los vectores $\\vec{a} = (2,4)$ y $\\vec{b} = (3,1)$ su suma es:\n",
    "    \n",
    "<font color=\"DarkBlue\">$$\\vec{a}+\\vec{b} = (2+3, 4+1) = (5, 5)$$\n",
    "\n",
    "---"
   ]
  },
  {
   "cell_type": "code",
   "execution_count": 4,
   "id": "2da91ac8-81ba-4cc9-9379-5eecd0798963",
   "metadata": {},
   "outputs": [
    {
     "name": "stdout",
     "output_type": "stream",
     "text": [
      " a = [2 4] \n",
      " b = [3 1]\n",
      " a + b = [5 5]\n"
     ]
    }
   ],
   "source": [
    "suma = a + b\n",
    "print(\" a = {} \\n b = {}\".format(a, b))\n",
    "print(\" a + b = {}\".format(suma))"
   ]
  },
  {
   "cell_type": "code",
   "execution_count": 9,
   "id": "d8f310ee-1337-4728-a3ac-4dfab7178385",
   "metadata": {},
   "outputs": [
    {
     "data": {
      "image/png": "[encoded data removed]",
      "text/plain": [
       "<Figure size 512x384 with 1 Axes>"
      ]
     },
     "metadata": {},
     "output_type": "display_data"
    }
   ],
   "source": [
    "v = mvis.Plotter()\n",
    "v.plot_vectors_sum(1, [a, b], ['a', 'b'], ofx=-0.2)\n",
    "v.grid()"
   ]
  },
  {
   "cell_type": "code",
   "execution_count": 11,
   "id": "06e701f2-fbb8-4aa2-9ccb-aafe47d6f7f6",
   "metadata": {},
   "outputs": [
    {
     "name": "stdout",
     "output_type": "stream",
     "text": [
      "[-1  3]\n"
     ]
    }
   ],
   "source": [
    "print(a-b)"
   ]
  },
  {
   "cell_type": "code",
   "execution_count": 12,
   "id": "f1307e3a-915d-4985-aae6-b1a52a0bc8c9",
   "metadata": {},
   "outputs": [
    {
     "data": {
      "image/png": "[encoded data removed]",
      "text/plain": [
       "<Figure size 512x384 with 1 Axes>"
      ]
     },
     "metadata": {},
     "output_type": "display_data"
    }
   ],
   "source": [
    "v = mvis.Plotter()\n",
    "v.plot_vectors_sum(1, [a, -b], ['a', '-b'])\n",
    "v.grid()"
   ]
  },
  {
   "cell_type": "code",
   "execution_count": 14,
   "id": "fa8664dd-9909-4f83-b3d2-2e5fc47ed0f7",
   "metadata": {},
   "outputs": [
    {
     "name": "stdout",
     "output_type": "stream",
     "text": [
      "[2 1]\n"
     ]
    }
   ],
   "source": [
    "print(-a+b-c+2*a)"
   ]
  },
  {
   "cell_type": "code",
   "execution_count": 23,
   "id": "0cc78a75-5a41-4531-b56c-ec14156e5452",
   "metadata": {},
   "outputs": [
    {
     "data": {
      "image/png": "[encoded data removed]",
      "text/plain": [
       "<Figure size 512x384 with 1 Axes>"
      ]
     },
     "metadata": {},
     "output_type": "display_data"
    }
   ],
   "source": [
    "v = mvis.Plotter()\n",
    "v.plot_vectors_sum(1, [-a, b, -c, 2*a], ['a', '-b', '-c','2*a'], ofx=0.2, w=0.015)\n",
    "v.grid()"
   ]
  },
  {
   "cell_type": "markdown",
   "id": "8c760b75-7b54-444e-afed-85a07dacc5cc",
   "metadata": {},
   "source": [
    "### Resta de vectores.\n",
    "Para restar dos vectores $\\vec{a}$ y $\\vec{b}$, debemos restar cada una de las componentes de $\\vec{a}$ con cada una de las componentes de $\\vec{b}$. Por ejemplo, dados\n",
    " $\\vec{a} = (a_{1}, a_{2})$ y $\\vec{b} = (b_{1}, b_{2})$, entonces la resta de los vectores esta dada por: \n",
    "$$\n",
    "\\vec{a} - \\vec{b} = (a_{1} - b_{1}, a_{2} - b_{2})\n",
    "$$"
   ]
  },
  {
   "cell_type": "markdown",
   "id": "bc9b3542-afa0-4f52-90a6-44d1fcd7bff2",
   "metadata": {},
   "source": [
    "---\n",
    "<a name='ej-1'></a>\n",
    "#### **<font color=\"DodgerBlue\">Ejemplo 1. Resta de vectores.</font>**\n",
    "\n",
    "<font color=\"DarkBlue\">Dados los vectores $\\vec{a} = (2,4)$ y $\\vec{b} = (3,1)$ su suma es:\n",
    "    \n",
    "<font color=\"DarkBlue\">$$\\vec{a}-\\vec{b} = (2-3, 4-1) = (-1, 3)$$\n",
    "\n",
    "---"
   ]
  },
  {
   "cell_type": "code",
   "execution_count": null,
   "id": "26cad4a7-9441-4365-b985-7886e6162bc1",
   "metadata": {},
   "outputs": [],
   "source": [
    "suma = a - b\n",
    "print(\" a = {} \\n b = {}\".format(a, b))\n",
    "print(\" a - b = {}\".format(suma))"
   ]
  },
  {
   "cell_type": "code",
   "execution_count": null,
   "id": "a0c8d046-c908-442e-b1c8-0991209baddf",
   "metadata": {},
   "outputs": [],
   "source": [
    "v = mvis.Plotter()\n",
    "v.plot_vectors_subs(1, [a, b], ['a', 'b'])\n",
    "v.grid()"
   ]
  },
  {
   "cell_type": "code",
   "execution_count": null,
   "id": "da32415c-22ff-4eac-833a-3bdf2a4553fa",
   "metadata": {},
   "outputs": [],
   "source": [
    "c = np.array([3,4])\n",
    "v = mvis.Plotter()\n",
    "v.plot_vectors(1, [a, b, c], ['a', 'b', 'c'])\n",
    "v.grid()"
   ]
  },
  {
   "cell_type": "code",
   "execution_count": null,
   "id": "06caa4d1-78ae-4fc5-aee0-315fc6738e11",
   "metadata": {},
   "outputs": [],
   "source": [
    "print(a+b+c)"
   ]
  },
  {
   "cell_type": "code",
   "execution_count": null,
   "id": "2fce2a32-015a-4701-8dc0-236493db2f63",
   "metadata": {},
   "outputs": [],
   "source": [
    "v = mvis.Plotter()\n",
    "v.plot_vectors_sum(1, [a, b, c], ['a', 'b', 'c'])\n",
    "v.grid()"
   ]
  },
  {
   "cell_type": "markdown",
   "id": "78db4438",
   "metadata": {},
   "source": [
    "<a name='2-2'></a>\n",
    "### Multiplicacion de un vector por un escalar.\n",
    "Un vector se puede multiplicar por un número real (escalar); el efecto de esta multiplicación será aumentar o disminuir su tamaño, o incluso cambiarle la dirección. Dado $\\lambda \\in \\mathbb{R}$ podemos multiplicar el vector $a$\n",
    "\n",
    ":\n",
    "$$\n",
    "\\lambda \\cdot \\vec{x} = (\\lambda(x_{1}), \\lambda(x_{2}), \\lambda(x_{3}))\n",
    "$$\n",
    "Donde $\\lambda \\in \\Re$ (valor escalar), y $\\vec{x} = (x_{1}, x_{2}, x_{3})$."
   ]
  },
  {
   "cell_type": "markdown",
   "id": "266a906c",
   "metadata": {},
   "source": [
    "---\n",
    "<a name='ej-3'></a>\n",
    "#### **<font color=\"DodgerBlue\">Ejemplo 3. Multiplicación entre vector y escalar.</font>**\n",
    "\n",
    "<font color=\"DarkBlue\">Al multiplicar un vector $\\vec{x}$ por un escalar $\\lambda$, obtenemos como resultado un nuevo vector $\\vec{y} = (\\lambda)(\\vec{x})$ que cumpla con las siguientes caracteristicas: Sí $\\lambda$ es positivo entonces $\\vec{x}$ y $\\vec{y}$ tendrán el mismo sentido. Sí $\\lambda$ es negativo, $\\vec{x}$ y $\\vec{y}$ tendrán sentido opuesto.\n",
    "\n",
    "<font color=\"DarkBlue\">Por ejemplo, sea $\\vec{x} = (2,4,1,2)$ y $\\lambda = 2$. Entonces la multiplicación resultará:\n",
    "    \n",
    "<font color=\"DarkBlue\">$$\\lambda \\vec{x} = 2(2,4,1,2) = (4,8,2,4)$$\n",
    "\n",
    "---"
   ]
  },
  {
   "cell_type": "markdown",
   "id": "c100c124",
   "metadata": {},
   "source": [
    "<a name='2-3'></a>\n",
    "### Producto punto entre vectores.\n",
    "El producto punto o producto escalar de dos vectores es una operación que da como resultado un número real. Hay distintas formas de definir esta operación, una de ellas es por medio de multiplicar el producto de los módulos de los vectores por el coseno del ángulo que forman, esto es:\n",
    "\n",
    "$$\n",
    "\\vec{u} \\cdot \\vec{v} = |\\vec{u}||\\vec{v}|\\cos{\\alpha}\n",
    "$$\n",
    "\n",
    "Sin embargo, la forma más común de definir el producto punto no es esa, sino por medio de la suma de los productos de sus respecticas coordenadas, es decir, si:\n",
    "\n",
    "$$\n",
    "\\vec{u} = (u_{1}, u_{2},..., u_{n}); ~ \\vec{v} = (v_{1}, v_{2},..., v_{3})\n",
    "$$\n",
    "\n",
    "entonces podemos definir el producto punto como:\n",
    "\n",
    "$$\n",
    "\\vec{u} \\cdot \\vec{v} = u_{1}v_{1} + u_{2}v_{2} + ... + u_{n}v_{n} = \\sum_{i=1}^{n}\\vec{u}_{i}\\vec{v}_{i} \n",
    "$$"
   ]
  },
  {
   "cell_type": "markdown",
   "id": "a5a875d5",
   "metadata": {},
   "source": [
    "---\n",
    "<a name='ej-4'></a>\n",
    "#### **<font color=\"DodgerBlue\">Ejemplo 4. Producto punto entre vectores.</font>**\n",
    "\n",
    "<font color=\"DarkBlue\">Consideremos $\\vec{x} = (4,1,2,2)$ , $\\vec{y} = (1,5,7,9)$. El producto punto entre estos vectores resultará:\n",
    "    \n",
    "<font color=\"DarkBlue\">$$\\vec{x} \\cdot \\vec{y} = 4*1 + 1*5 + 2*7 + 2*9 = 41$$\n",
    "\n",
    "---"
   ]
  },
  {
   "cell_type": "markdown",
   "id": "e5cb0b63",
   "metadata": {},
   "source": [
    "<a name='2-4'></a>\n",
    "### Producto vectorial o producto cruz entre vectores.\n",
    "El producto cruz, tambien llamado producto vectorial, entre los vectores $\\vec{u} = (u_{1}, u_{2}, u_{3}) ~ y ~ \\vec{v} = (v_{1}, v_{2}, v_{3})$, esta dado por:\n",
    "\n",
    "$$\n",
    "\\vec{u} \\times \\vec{v} = (u_{2}v_{3} - v_{2}u_{3})\\hat{i} - (u_{1}v_{3} - v_{1}u_{3})\\hat{j} + (u_{1}v_{2} - v_{1}u_{2})\\hat{k}\n",
    "$$\n",
    "\n",
    "y solo esta definido en $\\Re^{3}$. A diferencia del producto punto, donde se obtiene un escalar; $\\vec{u} \\times \\vec{v}$ es un vector.\n",
    "\n",
    "El producto cruz cumple con las siguientes propiedades. Dados $\\vec{u}, \\vec{v}, \\vec{w} \\in \\Re^{3}$ y $k \\in \\Re$:\n",
    "\n",
    "$$\n",
    "1.~~ \\vec{u} \\times \\vec{v} = -\\vec{v} \\times \\vec{u} ~~ (Propiedad ~ anticonmutativa) \\\\\n",
    "\\\\\n",
    "2.~~ (k\\vec{u} \\times \\vec{v} = k(\\vec{u} \\times \\vec{v}) = \\vec{u} \\times (k\\vec{v}) \\\\\n",
    "\\\\\n",
    "3.~~ \\vec{u} \\times (\\vec{v} + \\vec{w}) = \\vec{u} \\times \\vec{v} + \\vec{u} \\times \\vec{w} \\\\\n",
    "\\\\\n",
    "4.~~ (\\vec{u} + \\vec{v}) \\times \\vec{w} = \\vec{u} \\times \\vec{w} + \\vec{v} \\times \\vec{w} \\\\\n",
    "\\\\\n",
    "5.~~ \\vec{u} \\times \\vec{0} = \\vec{0} \\times \\vec{u} = \\vec{0} \\\\\n",
    "\\\\\n",
    "6.~~ \\vec{u} \\times \\vec{u} = \\vec{0} \\\\\n",
    "$$"
   ]
  },
  {
   "cell_type": "markdown",
   "id": "24b7df3f",
   "metadata": {},
   "source": [
    "---\n",
    "<a name='ej-5'></a>\n",
    "#### **<font color=\"DodgerBlue\">Ejemplo 5. Producto cruz entre vectores.</font>**\n",
    "\n",
    "<font color=\"DarkBlue\">Consideremos $\\vec{x} = (3,6,9)$ , $\\vec{y} = (2,5,7)$. El producto cruz entre estos vectores resultará:\n",
    "    \n",
    "<font color=\"DarkBlue\">$$\\vec{x} \\times \\vec{y} = (6*7 - 5*9)\\hat{i} - (3*7 - 2*9)\\hat{j} + (3*5 - 2*6)\\hat{k} = (-3)\\hat{i} - (3)\\hat{j} + (3)\\hat{k} = (-3,-3,3) $$\n",
    "\n",
    "---"
   ]
  },
  {
   "cell_type": "markdown",
   "id": "a36e1aa4",
   "metadata": {},
   "source": [
    "<a name='2-5'></a>\n",
    "### Producto mixto.\n",
    "El producto mixto o también llamado triple producto escalar, es una operación entre tres vectores que combina el producto punto con el producto cruz para obtener como resultado un escalar. Consideremos $\\vec{u}, \\vec{v}, \\vec{w} \\in \\Re^{3}$. El triple producto escalar se define por:\n",
    "\n",
    "$$\n",
    "\\vec{u} \\cdot \\vec{v} \\times \\vec{w} = u_{1}(v_{2}w_{3} - w_{2}v_{3}) - u_{2}(v_{1}w_{3} - w_{1}v_{3}) + u_{3}(v_{1}w_{2} - w_{1}v_{2})\n",
    "$$\n"
   ]
  },
  {
   "cell_type": "markdown",
   "id": "5f1cef51",
   "metadata": {},
   "source": [
    "---\n",
    "<a name='ej-6'></a>\n",
    "#### **<font color=\"DodgerBlue\">Ejemplo 6. Producto mixto entre vectores.</font>**\n",
    "\n",
    "<font color=\"DarkBlue\">Consideremos $\\vec{u} = (1,2,0)$ , $\\vec{v} = (0,-1,3)$ , $\\vec{w} = (-2,4,1)$. El triple producto escalar entre estos vectores resultará:\n",
    "    \n",
    "<font color=\"DarkBlue\">$$\\vec{u} \\cdot \\vec{v} \\times \\vec{w} = (1,2,0) \\cdot [(0,-1,3) \\times (-2,4,1)] = (1,2,0) \\cdot (-13,-6,-2) = -25 $$\n",
    "\n",
    "---"
   ]
  },
  {
   "cell_type": "markdown",
   "id": "d4b72758",
   "metadata": {},
   "source": [
    "<a name='3'></a>\n",
    "## Ortogonalidad y paralelismo.\n",
    "Las operaciones con vectores, en especial el producto punto y el producto cruz, son de gran utilidad. A continuación se mostrarán un par de aplicaciones que resultan fundamentales en temas posteriores. "
   ]
  },
  {
   "cell_type": "markdown",
   "id": "cf694bea",
   "metadata": {},
   "source": [
    "<a name='3-1'></a>\n",
    "### Ortogonalidad.\n",
    "Se dice que dos vectores son ortogonales o perpendiculares entre sí, si su producto escalar es cero, esto es:\n",
    "\n",
    "$$\n",
    "\\vec{u} \\cdot \\vec{v} = u_{1}v_{1} + u_{2}v_{2} + ... + u_{n}v_{n} = 0\n",
    "$$\n",
    "\n",
    "Entonces tenemos que el producto escalar nos ayuda a determinar si existe una condición de ortogonalidad entre vectores."
   ]
  },
  {
   "cell_type": "markdown",
   "id": "02df1aaf",
   "metadata": {},
   "source": [
    "---\n",
    "<a name='ej-7'></a>\n",
    "#### **<font color=\"DodgerBlue\">Ejemplo 7. Determinar si dos vectores son ortogonales entre sí.</font>**\n",
    "\n",
    "<font color=\"DarkBlue\">Consideremos $\\vec{a} = (1,2)$ y $\\vec{b} = (-2,1)$. Veamos si existe una condición de ortogonalidad entre ellos:\n",
    "    \n",
    "<font color=\"DarkBlue\">$$\\vec{a} \\cdot \\vec{b} = (1,2) \\cdot (-2,1) = (1*(-2)) + (2*1) = -2 + 2 = 0 $$\n",
    "\n",
    "Como el producto escalar entre los vectores resultó 0, podemos decir que los vectores $\\vec{a}$ y $\\vec{b}$ son perpendiculares.\n",
    "\n",
    "---"
   ]
  },
  {
   "cell_type": "markdown",
   "id": "3ead3260",
   "metadata": {},
   "source": [
    "<a name='3-2'></a>\n",
    "### Paralelismo.\n",
    "Se dice que dos vectores son paralelos entre sí, si su producto vectorial es tiene como resultado al vector nulo $\\vec{0}$, esto es:\n",
    "\n",
    "$$\n",
    "\\vec{u} \\times \\vec{v} = (u_{2}v_{3} - v_{2}u_{3})\\hat{i} - (u_{1}v_{3} - v_{1}u_{3})\\hat{j} + (u_{1}v_{2} - v_{1}u_{2})\\hat{k} = \\vec{0}\n",
    "$$\n",
    "\n",
    "Con ayuda de esta condición, podremos determinar si dos vectores son paralelos entre sí."
   ]
  },
  {
   "cell_type": "markdown",
   "id": "0cfef7e0",
   "metadata": {},
   "source": [
    "---\n",
    "<a name='ej-8'></a>\n",
    "#### **<font color=\"DodgerBlue\">Ejemplo 8. Determinar si dos vectores son paralelos entre sí.</font>**\n",
    "\n",
    "<font color=\"DarkBlue\">Consideremos $\\vec{x} = (3,6,9)$ y $\\vec{y} = (2,4,6)$. Veamos si existe una condición de paralelismo entre ellos:\n",
    "    \n",
    "<font color=\"DarkBlue\">$$\\vec{x} \\times \\vec{y} = (3,6,9) \\times (2,4,6) = (6*6 - 4*9)\\hat{i} - (3*6 - 2*9)\\hat{j} + (3*4 - 2*6)\\hat{k} = (0)\\hat{i} - (0)\\hat{j} + (0)\\hat{k} = (0,0,0) = \\vec{0} $$\n",
    "\n",
    "Como el producto vectorial entre los vectores resultó $\\vec{0}$, podemos decir que los vectores $\\vec{x}$ y $\\vec{y}$ son paralelos entre sí.\n",
    "\n",
    "---"
   ]
  },
  {
   "cell_type": "markdown",
   "id": "d0fb9c5b",
   "metadata": {},
   "source": [
    "<a name='4'></a>\n",
    "## Ejercicios.\n",
    "En las siguientes celdas se muestran algunos ejemplos de como visualizar varias operaciones entre vectores de manera gráfica."
   ]
  },
  {
   "cell_type": "code",
   "execution_count": null,
   "id": "653505d4",
   "metadata": {},
   "outputs": [],
   "source": [
    "import matplotlib.pyplot as plt"
   ]
  },
  {
   "cell_type": "markdown",
   "id": "3f706972",
   "metadata": {},
   "source": [
    "## Representación de un vector."
   ]
  },
  {
   "cell_type": "code",
   "execution_count": null,
   "id": "ff88303f",
   "metadata": {},
   "outputs": [],
   "source": [
    "vector = [1,2]\n",
    "print(\"Un vector: \", vector, \"podría verse de la siguiente manera:\")\n",
    "plt.plot([0,2], label=\"Vector (1,2)\")\n",
    "plt.plot([0,2], \"v\", ms=10, mfc=\"red\")\n",
    "plt.xlim([0,1.5])\n",
    "plt.ylim([0,2.5])\n",
    "plt.legend()\n",
    "plt.grid()"
   ]
  },
  {
   "cell_type": "markdown",
   "id": "3dbd8866",
   "metadata": {},
   "source": [
    "## Representación de suma de vectores."
   ]
  },
  {
   "cell_type": "code",
   "execution_count": null,
   "id": "9b8f6a7e",
   "metadata": {},
   "outputs": [],
   "source": [
    "vector = [1,2]\n",
    "vector2 = [2,3]\n",
    "print(\"La suma de los vectores: \", vector, vector2, \"se ve de la siguiente manera:\")\n",
    "\n",
    "plt.quiver(0,0,1,2, scale_units=\"xy\", angles=\"xy\", scale=1, color=\"b\", label=\"Vector (1,2)\")\n",
    "plt.quiver(0,0,2,3, scale_units=\"xy\", angles=\"xy\", scale=1, color=\"r\", label=\"Vector (2,3)\")\n",
    "plt.quiver(0,0,3,5, scale_units=\"xy\", angles=\"xy\", scale=1, color=\"g\", label=\"Resultante\")\n",
    "plt.xlim(0,6)\n",
    "plt.ylim(0,6)\n",
    "plt.grid()\n",
    "plt.legend()\n",
    "plt.show()"
   ]
  },
  {
   "cell_type": "markdown",
   "id": "910da293",
   "metadata": {},
   "source": [
    "## Representación de multiplicación entre vector y escalar."
   ]
  },
  {
   "cell_type": "code",
   "execution_count": null,
   "id": "3684ad11",
   "metadata": {},
   "outputs": [],
   "source": [
    "vector = [3,2]\n",
    "escalar = 3\n",
    "print(\"La multiplicación entre el vector:\", vector, \" y el escalar:\", escalar, \"se ve de la siguiente manera:\")\n",
    "\n",
    "plt.quiver(0,0,3,2, scale_units=\"xy\", angles=\"xy\", scale=1, color=\"b\", label=\"Vector (3,2)\")\n",
    "plt.quiver(0,0,9,6, scale_units=\"xy\", angles=\"xy\", scale=1, color=\"g\", label=\"Vector 3(3,2)\")\n",
    "\n",
    "plt.xlim(0,10)\n",
    "plt.ylim(0,10)\n",
    "plt.grid()\n",
    "plt.legend()\n",
    "plt.show()"
   ]
  },
  {
   "cell_type": "markdown",
   "id": "53b0d0bf",
   "metadata": {},
   "source": [
    "## Representación del producto cruz entre vectores."
   ]
  },
  {
   "cell_type": "code",
   "execution_count": null,
   "id": "febcb31d",
   "metadata": {},
   "outputs": [],
   "source": [
    "import matplotlib.pyplot as plt\n",
    "from mpl_toolkits.mplot3d import Axes3D\n",
    "import numpy as np\n",
    "\n",
    "vector = [1,2,3]\n",
    "vector2 = [2,3,2]\n",
    "vector3 = [-5,4,-1]\n",
    "print(\"El producto cruz entre los vectores:\", vector,\",\", vector2, \"se ve de la siguiente manera:\")\n",
    "\n",
    "fig = plt.figure()\n",
    "ax = fig.add_subplot(111, projection='3d')\n",
    "ax.quiver(0, 0, 0, 1, 2, 3, color=\"b\",label=\"Vector (1,2,3)\")\n",
    "ax.quiver(0, 0, 0, 2, 3, 2, color=\"g\",label=\"Vector (2,3,2)\")\n",
    "ax.quiver(0, 0, 0, -5, 4, -1, color=\"r\",label=\"Vector Resultante: (-5,4,-1)\")\n",
    "ax.set_xlim([-4, 2])\n",
    "ax.set_ylim([0, 4])\n",
    "ax.set_zlim([-1, 3])\n",
    "plt.legend()\n",
    "plt.show()\n",
    "\n",
    "\n"
   ]
  },
  {
   "cell_type": "markdown",
   "id": "a1fa1831",
   "metadata": {},
   "source": [
    "### Ahora, con ayuda de los códigos anteriores, realiza y grafica las siguientes operaciones con vectores.\n",
    "#### Considera $\\vec{x} = (3,6,1)$, $\\vec{y} = (3,2,5)$ y $\\lambda = 2$. \n",
    "* $\\vec{x} + \\vec{y}$\n",
    "* $\\vec{x} - \\lambda\\vec{y}$\n",
    "* $\\vec{x} \\times \\lambda\\vec{y} \\times \\vec{x}$"
   ]
  },
  {
   "cell_type": "markdown",
   "id": "15d738ad",
   "metadata": {},
   "source": [
    "<a name='5'></a>\n",
    "## Referencias.\n",
    "Para mayor aprendizaje se recomienda al lector visitar las diversas fuentes de donde se obtuvo la información anterior:\n",
    "\n",
    "* https://www.fisicalab.com/apartado/producto-de-vector-y-escalar\n",
    "* https://www.educaplus.org/movi/1_4sumavector.html\n",
    "* http://euclides.us.es/da/apuntes/alige/alige-I-4.pdf\n",
    "* Hernández Trujillo, J. (2009). Apuntes de Álgebra Lineal. Facultad de Química, UNAM."
   ]
  }
 ],
 "metadata": {
  "kernelspec": {
   "display_name": "Python 3 (ipykernel)",
   "language": "python",
   "name": "python3"
  },
  "language_info": {
   "codemirror_mode": {
    "name": "ipython",
    "version": 3
   },
   "file_extension": ".py",
   "mimetype": "text/x-python",
   "name": "python",
   "nbconvert_exporter": "python",
   "pygments_lexer": "ipython3",
   "version": "3.11.5"
  }
 },
 "nbformat": 4,
 "nbformat_minor": 5
}
