{
 "cells": [
  {
   "cell_type": "markdown",
   "id": "ff0e6ff1-fcfc-41bc-abc8-cbfba5212b5b",
   "metadata": {},
   "source": [
    "# Producto escalar $\\mathbb{R}^2$.\n",
    "\n",
    "**Objetivo.**\n",
    "Revisar e ilustrar las propiedades del producto escalar $\\mathbb{R}^n$, para $n>=2$ usando la biblioteca `numpy`.\n",
    "\n",
    "\n",
    " <p xmlns:cc=\"http://creativecommons.org/ns#\" xmlns:dct=\"http://purl.org/dc/terms/\"><a property=\"dct:title\" rel=\"cc:attributionURL\" href=\"https://github.com/luiggix/intro_MeIA_2023\">Espacios_vectoriales_1.ipynb</a> by <span property=\"cc:attributionName\">Luis Miguel de la Cruz Salas</span> is licensed under <a href=\"http://creativecommons.org/licenses/by-nc-sa/4.0/?ref=chooser-v1\" target=\"_blank\" rel=\"license noopener noreferrer\" style=\"display:inline-block;\">CC BY-NC-SA 4.0<img style=\"height:22px!important;margin-left:3px;vertical-align:text-bottom;\" src=\"https://mirrors.creativecommons.org/presskit/icons/cc.svg?ref=chooser-v1\"><img style=\"height:22px!important;margin-left:3px;vertical-align:text-bottom;\" src=\"https://mirrors.creativecommons.org/presskit/icons/by.svg?ref=chooser-v1\"><img style=\"height:22px!important;margin-left:3px;vertical-align:text-bottom;\" src=\"https://mirrors.creativecommons.org/presskit/icons/nc.svg?ref=chooser-v1\"><img style=\"height:22px!important;margin-left:3px;vertical-align:text-bottom;\" src=\"https://mirrors.creativecommons.org/presskit/icons/sa.svg?ref=chooser-v1\"></a></p> "
   ]
  },
  {
   "cell_type": "code",
   "execution_count": 1,
   "id": "329b3227-daf3-4126-bc29-e6d51bf39367",
   "metadata": {},
   "outputs": [],
   "source": [
    "# Importamos las bibliotecas requeridas\n",
    "import numpy as np\n",
    "import macti.visual as mvis"
   ]
  },
  {
   "cell_type": "markdown",
   "id": "0f7df42e-5c00-4d83-86be-634138cb88fb",
   "metadata": {},
   "source": [
    "## Producto escalar.\n",
    "$$\n",
    "\\langle \\vec{x}, \\vec{y} \\rangle = \\vec{y}^T \\cdot \\vec{x} = \\sum_{i=1}^n x_i y_i \\tag{1}\n",
    "$$\n",
    "\n",
    "**Propiedades**:\n",
    "* $\\langle \\vec{x}, \\vec{y} \\rangle = 0$ si y solo si $\\vec{x}$ y $\\vec{y}$ son ortogonales.\n",
    "* $\\langle \\vec{x}, \\vec{x} \\rangle \\ge 0$, además $\\langle \\vec{x}, \\vec{x} \\rangle = 0$ si y solo si $\\vec{x} = 0$\n",
    "* $\\langle \\alpha \\vec{x}, \\vec{y} \\rangle = \\alpha \\langle \\vec{x}, \\vec{y} \\rangle$\n",
    "* $\\langle \\vec{x}+\\vec{y}, \\vec{z} \\rangle = \\langle \\vec{x}, \\vec{z} \\rangle + \\langle \\vec{y}, \\vec{z} \\rangle$\n",
    "* $\\langle \\vec{x}, \\vec{y} \\rangle = \\langle \\vec{y}, \\vec{x} \\rangle $\n",
    "* Desigualdad de Schwarz : $||\\langle \\vec{x}, \\vec{y} \\rangle|| \\le ||\\vec{x}|| ||\\vec{y}||$"
   ]
  },
  {
   "cell_type": "code",
   "execution_count": 4,
   "id": "72fd1c2f-2ce7-41c9-8961-e5150b602e46",
   "metadata": {},
   "outputs": [],
   "source": [
    "# Definimos dos vectores en R^2 usando numpy\n",
    "x = np.array([2, 3]) \n",
    "y = np.array([3, 1])"
   ]
  },
  {
   "cell_type": "markdown",
   "id": "9caf5864-76ad-4245-8ee8-5b24018114d2",
   "metadata": {},
   "source": [
    "Es posible hacer una implementación de la fórmula $(1)$ usando ciclos `for` como sigue:"
   ]
  },
  {
   "cell_type": "code",
   "execution_count": 5,
   "id": "ef46b4cd-3f55-42b7-8029-aa450e8674a8",
   "metadata": {},
   "outputs": [
    {
     "data": {
      "text/plain": [
       "9.0"
      ]
     },
     "execution_count": 5,
     "metadata": {},
     "output_type": "execute_result"
    }
   ],
   "source": [
    "suma = 0.0\n",
    "for i in range(len(x)):\n",
    "    suma += x[i] * y[i]\n",
    "suma"
   ]
  },
  {
   "cell_type": "code",
   "execution_count": 6,
   "id": "09b85686-d597-4ece-8507-c9af2556da89",
   "metadata": {},
   "outputs": [
    {
     "data": {
      "text/plain": [
       "9"
      ]
     },
     "execution_count": 6,
     "metadata": {},
     "output_type": "execute_result"
    }
   ],
   "source": [
    "np.dot(x,y)"
   ]
  },
  {
   "cell_type": "code",
   "execution_count": 7,
   "id": "615739d5-1bef-4fbc-a38a-ceca93b76e32",
   "metadata": {},
   "outputs": [
    {
     "data": {
      "text/plain": [
       "9"
      ]
     },
     "execution_count": 7,
     "metadata": {},
     "output_type": "execute_result"
    }
   ],
   "source": [
    "x @ y"
   ]
  },
  {
   "cell_type": "code",
   "execution_count": 8,
   "id": "bb707548-a12d-4fbd-afff-525cdd58f982",
   "metadata": {},
   "outputs": [
    {
     "data": {
      "image/png": "[encoded data removed]",
      "text/plain": [
       "<Figure size 512x384 with 1 Axes>"
      ]
     },
     "metadata": {},
     "output_type": "display_data"
    }
   ],
   "source": [
    "v = mvis.Plotter()  # Definición de un objeto para crear figuras.\n",
    "v.set_coordsys(1)   # Definición del sistema de coordenadas.\n",
    "v.plot_vectors(1, [x, y], ['x', 'y']) # Graficación de los vectores 'x' y 'y'.\n",
    "v.grid()  # Muestra la rejilla del sistema de coordenadas."
   ]
  },
  {
   "cell_type": "code",
   "execution_count": 9,
   "id": "fa975307-82dd-46d0-836c-fc0c20eb1ab6",
   "metadata": {},
   "outputs": [],
   "source": [
    "z = np.array([-3, 2])"
   ]
  },
  {
   "cell_type": "code",
   "execution_count": 10,
   "id": "89cfb6f0-6d0c-4c45-9909-2a0214c2d371",
   "metadata": {},
   "outputs": [
    {
     "data": {
      "image/png": "[encoded data removed]",
      "text/plain": [
       "<Figure size 512x384 with 1 Axes>"
      ]
     },
     "metadata": {},
     "output_type": "display_data"
    }
   ],
   "source": [
    "v = mvis.Plotter()  # Definición de un objeto para crear figuras.\n",
    "v.set_coordsys(1)   # Definición del sistema de coordenadas.\n",
    "v.plot_vectors(1, [x, y, z], ['x', 'y', 'z']) # Graficación de los vectores 'x' y 'y'.\n",
    "v.grid()  # Muestra la rejilla del sistema de coordenadas."
   ]
  },
  {
   "cell_type": "code",
   "execution_count": 12,
   "id": "04935aca-692e-421f-bc3f-86dafe74c00e",
   "metadata": {},
   "outputs": [
    {
     "name": "stdout",
     "output_type": "stream",
     "text": [
      "9\n",
      "0\n",
      "-7\n"
     ]
    }
   ],
   "source": [
    "print(np.dot(x,y))\n",
    "print(np.dot(x,z))\n",
    "print(np.dot(z,y))"
   ]
  },
  {
   "cell_type": "code",
   "execution_count": 15,
   "id": "d5ab0739-a759-43b2-b579-6739a4b86afe",
   "metadata": {},
   "outputs": [],
   "source": [
    "theta1 = np.arctan(x[1] / x[0]) * 180 / np.pi"
   ]
  },
  {
   "cell_type": "code",
   "execution_count": 16,
   "id": "d3cdb0d8-df0f-4f34-b6c6-675e97c5f6ec",
   "metadata": {},
   "outputs": [],
   "source": [
    "theta2 = np.arctan(z[1] / z[0]) * 180 / np.pi"
   ]
  },
  {
   "cell_type": "code",
   "execution_count": 17,
   "id": "7271f190-8acd-450a-9f0f-920d87abe545",
   "metadata": {},
   "outputs": [
    {
     "data": {
      "text/plain": [
       "-90.0"
      ]
     },
     "execution_count": 17,
     "metadata": {},
     "output_type": "execute_result"
    }
   ],
   "source": [
    "theta2 - theta1"
   ]
  },
  {
   "cell_type": "code",
   "execution_count": 19,
   "id": "f40e561f-a0dd-4b89-81c2-bf7f3ceed548",
   "metadata": {},
   "outputs": [
    {
     "name": "stdout",
     "output_type": "stream",
     "text": [
      "13\n",
      "10\n",
      "13\n"
     ]
    }
   ],
   "source": [
    "print(np.dot(x,x))\n",
    "print(np.dot(y,y))\n",
    "print(np.dot(z,z))"
   ]
  },
  {
   "cell_type": "code",
   "execution_count": 21,
   "id": "04c19fda-6bc7-4776-b470-b9b236a334ae",
   "metadata": {},
   "outputs": [
    {
     "name": "stdout",
     "output_type": "stream",
     "text": [
      "13.5\n",
      "13.5\n",
      " ¿ α * <x,y> == <α * x, y> ? : True\n"
     ]
    }
   ],
   "source": [
    "# Definimos un escalar\n",
    "α = 1.5\n",
    "\n",
    "print(np.dot(α * x,y))\n",
    "print(α * np.dot(x,y))\n",
    "print(' ¿ α * <x,y> == <α * x, y> ? : {}'.format(np.isclose(α * np.dot(x,y), α * np.dot(x,y))))"
   ]
  },
  {
   "cell_type": "code",
   "execution_count": 23,
   "id": "6785ed65-6eb9-4174-9376-1d084832ab6b",
   "metadata": {},
   "outputs": [
    {
     "name": "stdout",
     "output_type": "stream",
     "text": [
      "-7\n",
      "-7\n",
      " ¿ <x + y, z> == <x, z> + <y, z>? : True\n"
     ]
    }
   ],
   "source": [
    "print(np.dot(x + y, z))\n",
    "print(np.dot(x, z) + np.dot(y, z))\n",
    "print(' ¿ <x + y, z> == <x, z> + <y, z>? : {}'.format(np.isclose(np.dot(x+y, z), np.dot(x, z) + np.dot(y, z))))"
   ]
  },
  {
   "cell_type": "code",
   "execution_count": 24,
   "id": "a7e1b9bd-b222-4bd7-b498-44ab3a7c6d33",
   "metadata": {},
   "outputs": [
    {
     "name": "stdout",
     "output_type": "stream",
     "text": [
      "9\n",
      "9\n",
      " ¿ <x, y> == <y, x> ? : True\n"
     ]
    }
   ],
   "source": [
    "print(np.dot(x,y))\n",
    "print(np.dot(y,x))\n",
    "print(' ¿ <x, y> == <y, x> ? : {}'.format(np.isclose(np.dot(x,y), np.dot(y,x))))"
   ]
  },
  {
   "cell_type": "code",
   "execution_count": 29,
   "id": "3f05accd-3416-4bae-91f1-3461dc913eb6",
   "metadata": {},
   "outputs": [
    {
     "name": "stdout",
     "output_type": "stream",
     "text": [
      "7\n",
      "11.40175425099138\n"
     ]
    }
   ],
   "source": [
    "print(np.abs(np.dot(z,y)))\n",
    "print(np.linalg.norm(z) * np.linalg.norm(y))"
   ]
  },
  {
   "cell_type": "code",
   "execution_count": null,
   "id": "1dc2a2db-4d79-430d-9cc7-9f77099496b5",
   "metadata": {},
   "outputs": [],
   "source": []
  }
 ],
 "metadata": {
  "kernelspec": {
   "display_name": "Python 3 (ipykernel)",
   "language": "python",
   "name": "python3"
  },
  "language_info": {
   "codemirror_mode": {
    "name": "ipython",
    "version": 3
   },
   "file_extension": ".py",
   "mimetype": "text/x-python",
   "name": "python",
   "nbconvert_exporter": "python",
   "pygments_lexer": "ipython3",
   "version": "3.11.5"
  }
 },
 "nbformat": 4,
 "nbformat_minor": 5
}
