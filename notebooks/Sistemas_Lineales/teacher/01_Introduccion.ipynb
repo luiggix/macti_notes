{
 "cells": [
  {
   "cell_type": "markdown",
   "id": "1b5d0ed5-772e-42f5-8951-d9c574c5bd4f",
   "metadata": {
    "nbgrader": {
     "grade": false,
     "grade_id": "cell-84b60fe957c30db3",
     "locked": true,
     "schema_version": 3,
     "solution": false,
     "task": false
    }
   },
   "source": [
    "# Sistemas de ecuaciones lineales: introducción\n",
    "\n",
    "**Objetivo general**\n",
    "- Plantear y resolver un problema en términos de la solución de un sistema de ecuaciones lineales.\n",
    "\n",
    "**Objetivos particulares**\n",
    "- Entender como plantear un problema en términos de un sistema de ecuaciones lineales.\n",
    "- Usar funciones de la biblioteca `numpy` para resolver el problema.\n",
    "- Comparar varios métodos para la solución de problemas más complejos.\n",
    "\n",
    "## Contenido\n",
    "- [1 - Planes de telefonía móvil.](#1)\n",
    "    - [1.1 - Modelo matemático.](#1-1)\n",
    "        - [Ejercicio 1 - Gráfica de rectas.](#ej-1)\n",
    "    - [1.2 - Sistema de ecuaciones lineales.](#1-2)\n",
    "        - [Ejercicio 2. Solución del sistema lineal.](#ej-2)\n",
    "    - [1.3 - Forma cuadrática.](#1-3)\n",
    "        - [Ejercicio 3. Forma cuadrática y tipos de sistemas.](#ej-3)\n",
    "- [2 - Sistemas de ecuaciones lineales en general.](#2)\n",
    "    - [2.1 - Métodos estacionarios para solución de sistemas lineales.](#2-1)\n",
    "    - [2-2 - Aplicación: Transferencia de calor.](#2-2)\n",
    "        - [Ejercicio 4. Evaluación de métodos.](#ej-4)\n",
    "        "
   ]
  },
  {
   "cell_type": "markdown",
   "id": "3b87eea5-b73a-454f-bb9f-103c0446b488",
   "metadata": {
    "nbgrader": {
     "grade": false,
     "grade_id": "cell-54222239890a3848",
     "locked": true,
     "schema_version": 3,
     "solution": false,
     "task": false
    }
   },
   "source": [
    "<a name='1'></a>\n",
    "## Planes de telefonía móvil.\n",
    "\n",
    "Dos compañías de telefonía compiten por ganar clientes. En la tabla que sigue se muestra el costo de la renta y el costo por Megabyte (MB) de datos de cada compañía.\n",
    "\n",
    "|    | Renta mensual | Costo por MB |\n",
    "|:--:|:----: | :----------: |\n",
    "| Compañía A  | $200$ | $0.10$       |\n",
    "| Compañía B  | $20$  | $0.30$       |\n",
    "\n",
    "**¿Cómo podríamos decidir cuál de estas companías conviene contratar?**"
   ]
  },
  {
   "cell_type": "markdown",
   "id": "683493d4-8758-4a03-a0df-a17fa798192e",
   "metadata": {
    "nbgrader": {
     "grade": false,
     "grade_id": "cell-f45ccbc89b20c7bc",
     "locked": true,
     "schema_version": 3,
     "solution": false,
     "task": false
    }
   },
   "source": [
    "<a name='1-1'></a>\n",
    "### Modelo matemático\n",
    "- Observamos en la tabla anterior que la compañía A tiene un precio fijo de 200 pesos mensuales que es 10 veces mayor al precio que cobra la compañía B (20 pesos). \n",
    "- Por otro lado, la compañía B cobra 0.30 pesos por cada MB, que es 3 veces mayor al precio por MB de la compañía A. \n",
    "- El precio final mensual de cada compañía depende básicamente de cuantos MB se usen. \n",
    "\n",
    "Podemos escribir la forma en que cambia el precio de cada compañía en función de los MB usados:\n",
    "\n",
    "$\n",
    "\\begin{array}{ccc}\n",
    "P_A & = & 0.10 x + 200 \\tag{1}\\\\\n",
    "P_B & = & 0.30 x + 20\n",
    "\\end{array}\n",
    "$\n",
    "\n",
    "donde $x$ representa el número de MB usados durante un mes. "
   ]
  },
  {
   "cell_type": "markdown",
   "id": "f48c243f-cf3e-4c79-a9bf-c9211370fbde",
   "metadata": {
    "nbgrader": {
     "grade": false,
     "grade_id": "cell-2977892199aab2e5",
     "locked": true,
     "schema_version": 3,
     "solution": false,
     "task": false
    }
   },
   "source": [
    "---\n",
    "<a name='ej-1'></a>\n",
    "#### **<font color=\"DodgerBlue\">Ejercicio 1. Gráfica de rectas.</font>**\n",
    "\n",
    "<font color=\"DarkBlue\">En el código siguiente complete las fórmulas para cada compañía de acuerdo con las ecuaciones dadas en (1) y posteriormente ejecute el código para obtener una gráfica de cómo cambia el precio en función de los MB utilizados.</font>\n",
    "\n",
    "---"
   ]
  },
  {
   "cell_type": "code",
   "execution_count": null,
   "id": "e63d202e-4997-4bb3-acf6-d3e77b11dfb8",
   "metadata": {
    "nbgrader": {
     "grade": false,
     "grade_id": "cell-c0896d95269a4ed7",
     "locked": true,
     "schema_version": 3,
     "solution": false,
     "task": false
    },
    "tags": []
   },
   "outputs": [],
   "source": [
    "# Importación de las bibliotecas numpy y matplotlib\n",
    "import numpy as np\n",
    "import matplotlib.pyplot as plt\n",
    "import sys, macti.visual\n",
    "\n",
    "#from macti.evaluation import FileAnswer\n",
    "#file_answer = FileAnswer('Sistemas_Lineales', 'teacher', 'local')\n",
    "\n",
    "#from macti.evaluation import Quizz\n",
    "#quizz = Quizz('1', 'Sistemas_Lineales', 'teacher', 'local')"
   ]
  },
  {
   "cell_type": "markdown",
   "id": "217f3ece-bfce-44c4-b7a3-d524ad90c49d",
   "metadata": {
    "nbgrader": {
     "grade": false,
     "grade_id": "cell-7136f8270adcd0f9",
     "locked": true,
     "schema_version": 3,
     "solution": false,
     "task": false
    }
   },
   "source": [
    "Fórmulas a implementar:\n",
    "$\n",
    "\\begin{array}{ccc}\n",
    "P_A & = & 0.10 x + 200\\\\\n",
    "P_B & = & 0.30 x + 20\n",
    "\\end{array}\n",
    "$"
   ]
  },
  {
   "cell_type": "code",
   "execution_count": null,
   "id": "15fe6aca-3fc9-49de-b916-61d366bb44ad",
   "metadata": {
    "nbgrader": {
     "grade": false,
     "grade_id": "cell-e79d1b24ab88a34b",
     "locked": false,
     "schema_version": 3,
     "solution": true,
     "task": false
    },
    "tags": []
   },
   "outputs": [],
   "source": [
    "# Megabytes desde 0 hasta 1500 (1.5 GB) en pasos de 10.\n",
    "x = np.linspace(0,1500,10)\n",
    "\n",
    "# Fórmulas de cada compañía\n",
    "# PA = ...\n",
    "# PB = ...\n",
    "#\n",
    "### BEGIN SOLUTION\n",
    "PA = 0.10 * x + 200\n",
    "PB = 0.30 * x + 20\n",
    "### END SOLUTION"
   ]
  },
  {
   "cell_type": "code",
   "execution_count": null,
   "id": "7b034a71-c0a8-4374-8a2f-c25b7b03d146",
   "metadata": {},
   "outputs": [],
   "source": [
    "#file_answer.write('1', PA, 'Checa la fórmula para PA')\n",
    "#file_answer.write('2', PB, 'Checa la fórmula para PB')"
   ]
  },
  {
   "cell_type": "code",
   "execution_count": null,
   "id": "aa1848db-28c6-4ba0-81a2-cdc7c09a809a",
   "metadata": {},
   "outputs": [],
   "source": [
    "#quizz.eval_numeric('1', PA)"
   ]
  },
  {
   "cell_type": "code",
   "execution_count": null,
   "id": "4db88e87-3772-4fdd-aa2b-55ff4608ea13",
   "metadata": {},
   "outputs": [],
   "source": [
    "#quizz.eval_numeric('2', PB)"
   ]
  },
  {
   "cell_type": "code",
   "execution_count": null,
   "id": "93f450c8-c17e-41eb-9bfe-beea1e509fd5",
   "metadata": {
    "nbgrader": {
     "grade": false,
     "grade_id": "cell-e3077dddbc880afe",
     "locked": true,
     "schema_version": 3,
     "solution": false,
     "task": false
    },
    "tags": []
   },
   "outputs": [],
   "source": [
    "# Gráfica de ambos casos\n",
    "plt.plot(x, PA, label = 'Compañía A')\n",
    "plt.plot(x, PB, label = 'Compañía B')\n",
    "\n",
    "# Decoración de la gráfica\n",
    "plt.xlabel('MB')\n",
    "plt.ylabel('Precio final')\n",
    "plt.legend()\n",
    "plt.show()"
   ]
  },
  {
   "cell_type": "markdown",
   "id": "6ebff79d-06e6-4678-bcf4-494ad6f59c28",
   "metadata": {
    "nbgrader": {
     "grade": false,
     "grade_id": "cell-2d1e99f212f5de5e",
     "locked": true,
     "schema_version": 3,
     "solution": false,
     "task": false
    }
   },
   "source": [
    "**¿Qué observamos en la figura anterior?**\n",
    "\n",
    "Para decidir cuál de los dos compañías elegir, debemos saber cuantos MB gastamos al mes. En la figura se ve que al principio, con pocos MB usados conviene contratar a la compañía B. Pero después, si hacemos uso intenso de nuestras redes sociales, el consumo de MB aumenta y como consecuencia el precio de la compañía A es más barato.\n",
    "\n",
    "**¿Será posible determinar con precisión el punto de cruce de las rectas?**\n"
   ]
  },
  {
   "cell_type": "markdown",
   "id": "c0944e5f-ce80-4c8c-a59d-33fe50a0fe71",
   "metadata": {
    "nbgrader": {
     "grade": false,
     "grade_id": "cell-2ea68e1f98d772d9",
     "locked": true,
     "schema_version": 3,
     "solution": false,
     "task": false
    }
   },
   "source": [
    "<a name='1-2'></a>\n",
    "### Sistema de ecuaciones lineales.\n",
    "\n",
    "Las ecuaciones $(1)$ tienen la forma típica de una recta: $y = m x + b$\n",
    "\n",
    "Para la compañía A tenemos que $m = 0.10$ y $b = 200$, mientras que para la compañía B tenemos $m = 0.35$ y $b = 20$, entonces escribimos:\n",
    "\n",
    "$$\n",
    "\\begin{array}{ccc}\n",
    "y & = & 0.10 x + 200 \\\\\n",
    "y & = & 0.35 x + 20\n",
    "\\end{array}\n",
    "$$\n",
    "\n",
    "Ahora, es posible escribir las ecuaciones de las líneas rectas en forma de un sistema de ecuaciones lineales como sigue:\n",
    "\n",
    "$$\n",
    "\\left[\n",
    "\\begin{array}{cc}\n",
    "0.10 & -1 \\\\\n",
    "0.35 & -1\n",
    "\\end{array} \\right]\n",
    "\\left[\n",
    "\\begin{array}{c}\n",
    "x \\\\\n",
    "y\n",
    "\\end{array} \\right] =\n",
    "\\left[\n",
    "\\begin{array}{c}\n",
    "-200 \\\\ \n",
    "-20\n",
    "\\end{array} \\right] \\tag{2}\n",
    "$$\n",
    "\n",
    "**¿Puede verificar que el sistema (2) es correcto?**\n",
    "\n",
    "Si resolvemos el sistema (2) entonces será posible conocer de manera precisa el cruce de las rectas."
   ]
  },
  {
   "cell_type": "markdown",
   "id": "96f4c2f9-08a0-4646-a22b-f5b78b834e77",
   "metadata": {
    "nbgrader": {
     "grade": false,
     "grade_id": "cell-cab4af23671c7b87",
     "locked": true,
     "schema_version": 3,
     "solution": false,
     "task": false
    }
   },
   "source": [
    "---\n",
    "<a name='ej-2'></a>\n",
    "#### **<font color=\"DodgerBlue\">Ejercicio 2. Solución del sistema lineal.</font>**\n",
    "\n",
    "<font color=\"DarkBlue\">1. En el siguiente código, complete los datos de la matriz `A` y el vector `b` de acuerdo con el sistema (2).</font>\n",
    "\n",
    "---"
   ]
  },
  {
   "cell_type": "code",
   "execution_count": null,
   "id": "18ba27f1-caea-4529-a589-0baa9f02599a",
   "metadata": {
    "nbgrader": {
     "grade": false,
     "grade_id": "cell-89d7f0096147cc45",
     "locked": false,
     "schema_version": 3,
     "solution": true,
     "task": false
    }
   },
   "outputs": [],
   "source": [
    "# Definimos la matriz A y el vector b\n",
    "# A = np.array([[],[]])\n",
    "# B = np.array([[]])\n",
    "#\n",
    "### BEGIN SOLUTION\n",
    "A = np.array([[0.10, -1.],[0.30,-1.]] )\n",
    "b = np.array([[-200.0,-20.0]])\n",
    "### END SOLUTION\n",
    "\n",
    "print(\"Matriz A : \\n\",A)\n",
    "print(\"Vector b : \\n\", b)"
   ]
  },
  {
   "cell_type": "code",
   "execution_count": null,
   "id": "48a1687e-6150-4133-8cfe-1926fbffbff8",
   "metadata": {},
   "outputs": [],
   "source": [
    "#file_answer.write('3', A, 'Checa los elementos de la matriz A')\n",
    "#file_answer.write('4', b, 'Checa los elementos del vector b')"
   ]
  },
  {
   "cell_type": "code",
   "execution_count": null,
   "id": "c31156ee-5d4b-4ec8-a9f5-0ca6171fe776",
   "metadata": {},
   "outputs": [],
   "source": [
    "#quizz.eval_numeric('3', A)"
   ]
  },
  {
   "cell_type": "code",
   "execution_count": null,
   "id": "4638f467-e595-4423-8dda-2e327582a2f0",
   "metadata": {},
   "outputs": [],
   "source": [
    "#quizz.eval_numeric('4', b)"
   ]
  },
  {
   "cell_type": "markdown",
   "id": "9aa5f08a-8d9e-4bcc-9570-08dee32848bc",
   "metadata": {
    "nbgrader": {
     "grade": false,
     "grade_id": "cell-4d8ff338dc348e8e",
     "locked": true,
     "schema_version": 3,
     "solution": false,
     "task": false
    }
   },
   "source": [
    "---\n",
    "<font color=\"DarkBlue\">2. Investigue como usar la función <a href=\"https://numpy.org/doc/stable/reference/generated/numpy.linalg.solve.html\">numpy.linalg.solve()</a> para resolver el sistema de ecuaciones. Resuelva el sistema y guarde la solución en el vector `xsol`.</font>\n",
    "\n",
    "---"
   ]
  },
  {
   "cell_type": "code",
   "execution_count": null,
   "id": "3a179f8b-f365-4090-ad53-8d7e202b0e9c",
   "metadata": {
    "nbgrader": {
     "grade": false,
     "grade_id": "cell-34a26f17f0fc4932",
     "locked": false,
     "schema_version": 3,
     "solution": true,
     "task": false
    }
   },
   "outputs": [],
   "source": [
    "# Resolvemos el sistema de ecuaciones lineal\n",
    "# xsol = np.linalg.solve( ... )\n",
    "#\n",
    "### BEGIN SOLUTION\n",
    "xsol = np.linalg.solve(A,b.T) \n",
    "### END SOLUTION\n",
    "\n",
    "print(\"Solución del sistema: \\n\", xsol)"
   ]
  },
  {
   "cell_type": "code",
   "execution_count": null,
   "id": "2d61b733-8804-42bb-afcd-4114a2de63ea",
   "metadata": {
    "nbgrader": {
     "grade": false,
     "grade_id": "cell-e32df4584ed5f3fe",
     "locked": true,
     "schema_version": 3,
     "solution": false,
     "task": false
    }
   },
   "outputs": [],
   "source": [
    "#file_answer.write('5', xsol, 'Verifica que usaste correctamente la función np.linalg.solve()')"
   ]
  },
  {
   "cell_type": "code",
   "execution_count": null,
   "id": "a57e123c-c1b3-43b4-8ddc-1505a92a1a58",
   "metadata": {},
   "outputs": [],
   "source": [
    "#quizz.eval_numeric('5', xsol)"
   ]
  },
  {
   "cell_type": "markdown",
   "id": "8807862c-16e1-4245-95d1-bde3f6390686",
   "metadata": {
    "nbgrader": {
     "grade": false,
     "grade_id": "cell-a5bf583ca2ff7da6",
     "locked": true,
     "schema_version": 3,
     "solution": false,
     "task": false
    }
   },
   "source": [
    "---\n",
    "<font color=\"DarkBlue\">3. Verifique que la solución es correcta multiplicando la matriz `A` por el vector solución `xsol`. El resultado debería ser el vector `b`.</font> **Hint**<font color=\"Navy\">: utilice la función</font> <a href=\"https://numpy.org/doc/stable/reference/generated/numpy.dot.html\">numpy.dot()</a>.\n",
    "\n",
    "---"
   ]
  },
  {
   "cell_type": "code",
   "execution_count": null,
   "id": "77cb588c-56fe-4470-91e2-f114fedbc678",
   "metadata": {
    "nbgrader": {
     "grade": false,
     "grade_id": "cell-1dfcaf232f03ee0c",
     "locked": false,
     "schema_version": 3,
     "solution": true,
     "task": false
    }
   },
   "outputs": [],
   "source": [
    "# Dot product\n",
    "# rhs = np.dot( ... )\n",
    "#\n",
    "### BEGIN SOLUTION\n",
    "rhs = np.dot(A, xsol)\n",
    "### END SOLUTION\n",
    "\n",
    "print(rhs)"
   ]
  },
  {
   "cell_type": "code",
   "execution_count": null,
   "id": "f4fe233d-d68b-4f36-8a6f-abb78fb6f5d9",
   "metadata": {
    "nbgrader": {
     "grade": false,
     "grade_id": "cell-4327e7efb9d97365",
     "locked": true,
     "schema_version": 3,
     "solution": false,
     "task": false
    }
   },
   "outputs": [],
   "source": [
    "#file_answer.write('6', rhs, 'Checa que la representación de cada número sea la correcta.')"
   ]
  },
  {
   "cell_type": "code",
   "execution_count": null,
   "id": "e9f3de5f-cf0f-47a4-ad22-ea0ea5238925",
   "metadata": {},
   "outputs": [],
   "source": [
    "#quizz.eval_numeric('6', rhs)"
   ]
  },
  {
   "cell_type": "markdown",
   "id": "0622ef82-1b1e-45ee-bbe3-fc93bc2f5c37",
   "metadata": {
    "nbgrader": {
     "grade": false,
     "grade_id": "cell-75dacd4eb60043a9",
     "locked": true,
     "schema_version": 3,
     "solution": false,
     "task": false
    }
   },
   "source": [
    "Si todo se hizo correctamente, el siguiente código debe graficar las rectas de las dos compañías y en el punto donde se cruzan"
   ]
  },
  {
   "cell_type": "code",
   "execution_count": null,
   "id": "2b47bd51-0744-4840-b278-9de05c846f00",
   "metadata": {
    "nbgrader": {
     "grade": false,
     "grade_id": "cell-28046a3c2b7bd0e2",
     "locked": true,
     "schema_version": 3,
     "solution": false,
     "task": false
    }
   },
   "outputs": [],
   "source": [
    "# Gráfica de las líneas de cada compañía\n",
    "plt.plot(x, PA, lw=3,label = 'A')\n",
    "plt.plot(x, PB, lw=3,label = 'B')\n",
    "\n",
    "# Punto de cruce de las líneas rectas\n",
    "plt.scatter(xsol[0], xsol[1], fc = 'C3', ec ='k', s = 100, alpha=0.85, zorder=5, label='Solución')\n",
    "\n",
    "# Decoración de la gráfica\n",
    "plt.xlabel('MB')\n",
    "plt.ylabel('Precio final')\n",
    "plt.title('Cruce de las rectas: ({:4.0f} MB, {:4.0f} pesos)'.format(xsol[0][0], xsol[1][0]))\n",
    "plt.vlines(xsol[0][0], 0, xsol[1][0], ls='--', lw=1.0, color='gray')\n",
    "plt.hlines(xsol[1][0], 0, xsol[0][0], ls='--', lw=1.0, color='gray')\n",
    "\n",
    "plt.grid(True)\n",
    "plt.legend()\n",
    "plt.show()"
   ]
  },
  {
   "cell_type": "code",
   "execution_count": null,
   "id": "0800f611",
   "metadata": {},
   "outputs": [],
   "source": [
    "#file_answer.to_file('1')"
   ]
  },
  {
   "cell_type": "code",
   "execution_count": null,
   "id": "adebf9a1-b36d-4cb5-b5ee-8b7830669d7a",
   "metadata": {},
   "outputs": [],
   "source": []
  }
 ],
 "metadata": {
  "celltoolbar": "Create Assignment",
  "kernelspec": {
   "display_name": "Python 3 (ipykernel)",
   "language": "python",
   "name": "python3"
  },
  "language_info": {
   "codemirror_mode": {
    "name": "ipython",
    "version": 3
   },
   "file_extension": ".py",
   "mimetype": "text/x-python",
   "name": "python",
   "nbconvert_exporter": "python",
   "pygments_lexer": "ipython3",
   "version": "3.10.7"
  }
 },
 "nbformat": 4,
 "nbformat_minor": 5
}
