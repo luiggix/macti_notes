{
 "cells": [
  {
   "cell_type": "code",
   "execution_count": 19,
   "id": "6dd9252b-07da-4ff4-ac45-bd8bb6e53af6",
   "metadata": {
    "tags": []
   },
   "outputs": [],
   "source": [
    "import os, sys, platform"
   ]
  },
  {
   "cell_type": "code",
   "execution_count": 21,
   "id": "2d8829c8-0565-4f86-b3c4-615dcb4cacaa",
   "metadata": {
    "tags": []
   },
   "outputs": [
    {
     "name": "stdout",
     "output_type": "stream",
     "text": [
      "C:\\Users\\luiggi\\Documents\\GitSites\\macti_notes\n",
      "['C:', 'Users', 'luiggi', 'Documents', 'GitSites', 'macti_notes']\n",
      "C:\\Users\\luiggi\\Documents\\GitSites\\macti_notes\\\n",
      "win32\n",
      "Windows\n"
     ]
    }
   ],
   "source": [
    "print(os.getcwd())\n",
    "a = os.getcwd().split('\\\\')\n",
    "print(a)\n",
    "i = a.index('macti_notes')\n",
    "path=''\n",
    "for i in a[0:i+1]:\n",
    "    path += i + '\\\\'\n",
    "print(path)\n",
    "\n",
    "print(sys.platform)\n",
    "print(platform.system())"
   ]
  },
  {
   "cell_type": "code",
   "execution_count": 16,
   "id": "bcb37c47-8c0c-4670-9e6b-aa875fc734ed",
   "metadata": {
    "tags": []
   },
   "outputs": [
    {
     "name": "stdout",
     "output_type": "stream",
     "text": [
      "C:\\Users\\luiggi\\Documents\\GitSites\\macti_notes\n"
     ]
    }
   ],
   "source": [
    "os.chdir(path)\n",
    "print(os.getcwd())"
   ]
  },
  {
   "cell_type": "code",
   "execution_count": null,
   "id": "54a9e8ba-b16d-4942-a405-50ddd6e4e197",
   "metadata": {},
   "outputs": [],
   "source": []
  }
 ],
 "metadata": {
  "kernelspec": {
   "display_name": "Python 3 (ipykernel)",
   "language": "python",
   "name": "python3"
  },
  "language_info": {
   "codemirror_mode": {
    "name": "ipython",
    "version": 3
   },
   "file_extension": ".py",
   "mimetype": "text/x-python",
   "name": "python",
   "nbconvert_exporter": "python",
   "pygments_lexer": "ipython3",
   "version": "3.11.2"
  }
 },
 "nbformat": 4,
 "nbformat_minor": 5
}
