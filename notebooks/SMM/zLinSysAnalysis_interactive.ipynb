{
 "cells": [
  {
   "cell_type": "code",
   "execution_count": 1,
   "id": "de6d3396-6020-4753-b60c-c7d3284c0c91",
   "metadata": {},
   "outputs": [],
   "source": [
    "from macti.SistemasLineales.eigen_fc import plotLinsys\n",
    "from ipywidgets import interact, interactive, fixed, interact_manual\n",
    "import ipywidgets as widgets\n",
    "import numpy as np"
   ]
  },
  {
   "cell_type": "code",
   "execution_count": 2,
   "id": "6946a099-41e4-48c9-8309-93a8dd50392b",
   "metadata": {},
   "outputs": [
    {
     "data": {
      "application/vnd.jupyter.widget-view+json": {
       "model_id": "a65affd2c4834678aa3a1d66edf3ec6f",
       "version_major": 2,
       "version_minor": 0
      },
      "text/plain": [
       "interactive(children=(Dropdown(description='Sistema', options=('Positivo Definido', 'Positivo Indefinido', 'In…"
      ]
     },
     "metadata": {},
     "output_type": "display_data"
    }
   ],
   "source": [
    "tipos_sistemas = ['Positivo Definido', 'Positivo Indefinido', 'Indefinido']\n",
    "w = interactive(plotLinsys, \n",
    "                sistema = widgets.Dropdown(options= tipos_sistemas,\n",
    "                                           description='Sistema'))\n",
    "display(w)"
   ]
  },
  {
   "cell_type": "code",
   "execution_count": null,
   "id": "1c2ee8e2-9091-4401-bfb2-028127b81afe",
   "metadata": {},
   "outputs": [],
   "source": []
  }
 ],
 "metadata": {
  "kernelspec": {
   "display_name": "Python 3 (ipykernel)",
   "language": "python",
   "name": "python3"
  },
  "language_info": {
   "codemirror_mode": {
    "name": "ipython",
    "version": 3
   },
   "file_extension": ".py",
   "mimetype": "text/x-python",
   "name": "python",
   "nbconvert_exporter": "python",
   "pygments_lexer": "ipython3",
   "version": "3.10.7"
  }
 },
 "nbformat": 4,
 "nbformat_minor": 5
}
