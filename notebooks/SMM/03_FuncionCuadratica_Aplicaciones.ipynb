{
 "cells": [
  {
   "cell_type": "markdown",
   "id": "1b5d0ed5-772e-42f5-8951-d9c574c5bd4f",
   "metadata": {
    "nbgrader": {
     "grade": false,
     "grade_id": "cell-84b60fe957c30db3",
     "locked": true,
     "schema_version": 3,
     "solution": false,
     "task": false
    }
   },
   "source": [
    "# Forma cuadrática de un sistema lineal y aplicaciones.\n",
    "\n",
    "**Objetivo general**\n",
    "- Mostrar gráficamente en qué consisten algunos métodos de solución de sistemas lineales.\n",
    "\n",
    "**Objetivos particulares**\n",
    "- Representar el sistema lineal en términos de una forma cuadrática.\n",
    "- Comparar varios métodos para la solución de problemas más complejos.\n",
    "        \n",
    " <p xmlns:cc=\"http://creativecommons.org/ns#\" xmlns:dct=\"http://purl.org/dc/terms/\"><a property=\"dct:title\" rel=\"cc:attributionURL\" href=\"https://github.com/luiggix/intro_MeIA_2023\">MACTI NOTES</a> by <span property=\"cc:attributionName\">Luis Miguel de la Cruz Salas</span> is licensed under <a href=\"http://creativecommons.org/licenses/by-nc-sa/4.0/?ref=chooser-v1\" target=\"_blank\" rel=\"license noopener noreferrer\" style=\"display:inline-block;\">CC BY-NC-SA 4.0<img style=\"height:22px!important;margin-left:3px;vertical-align:text-bottom;\" src=\"https://mirrors.creativecommons.org/presskit/icons/cc.svg?ref=chooser-v1\"><img style=\"height:22px!important;margin-left:3px;vertical-align:text-bottom;\" src=\"https://mirrors.creativecommons.org/presskit/icons/by.svg?ref=chooser-v1\"><img style=\"height:22px!important;margin-left:3px;vertical-align:text-bottom;\" src=\"https://mirrors.creativecommons.org/presskit/icons/nc.svg?ref=chooser-v1\"><img style=\"height:22px!important;margin-left:3px;vertical-align:text-bottom;\" src=\"https://mirrors.creativecommons.org/presskit/icons/sa.svg?ref=chooser-v1\"></a></p> "
   ]
  },
  {
   "cell_type": "markdown",
   "id": "71b168ea",
   "metadata": {},
   "source": [
    "## Forma cuadrática\n",
    "\n",
    "Denotando $A$ como la matriz del sistema, $\\mathbf{x}$ como la solución y $\\mathbf{b}$ como el lado derecho, se define la forma cuadrática de un sistema de ecuaciones lineales como sigue:\n",
    "\n",
    "$$ f(\\mathbf{x}) = \\dfrac{1}{2} \\mathbf{x}^T A \\mathbf{x} - \\mathbf{b}^T \\mathbf{x} + c $$\n",
    "\n",
    "La derivada de $f(\\mathbf{x})$ se escribe como sigue:\n",
    "\n",
    "$$ f^\\prime(\\mathbf{x}) = \\dfrac{1}{2} A^T \\mathbf{x} + \\dfrac{1}{2} A \\mathbf{x} - \\mathbf{b} $$\n",
    "\n",
    "Cuando la matriz del sistema $A$ es simétrica, es decir $A^T = A$, la derivada se reduce a:\n",
    "\n",
    "$$ f^\\prime(\\mathbf{x}) = A \\mathbf{x} - \\mathbf{b} $$\n",
    "\n",
    "Entonces, un punto crítico de $f(\\mathbf{x})$ se obtiene cuando $ f^\\prime(\\mathbf{x}) = A \\mathbf{x} - {\\mathbf{b}} = 0$ es decir cuando se cumple que\n",
    "\n",
    "$$A \\mathbf{x} = \\mathbf{b}$$\n",
    "\n",
    "Por lo tanto, **encontrar el punto crítico de la forma cuadrática** (minimizar o maximizar la función) **es equivalente a obtener la solución del sistema**, siempre y cuando la matriz $A$ del sistema sea simétrica."
   ]
  },
  {
   "cell_type": "markdown",
   "id": "0b3ce716",
   "metadata": {
    "nbgrader": {
     "grade": false,
     "grade_id": "cell-4284122803334142",
     "locked": true,
     "schema_version": 3,
     "solution": false,
     "task": false
    }
   },
   "source": [
    "La forma cuadrática nos dice mucho acerca del sistema de ecuaciones lineales que deseamos resolver. En el caso de un sistema de $2 \\times 2$ es posible graficar $f(\\mathbf{x})$. Para entender un poco más acerca de este concepto realice el siguiente ejercicio."
   ]
  },
  {
   "cell_type": "markdown",
   "id": "902d5b04",
   "metadata": {
    "nbgrader": {
     "grade": false,
     "grade_id": "cell-7646b62450a51a9b",
     "locked": true,
     "schema_version": 3,
     "solution": false,
     "task": false
    }
   },
   "source": [
    "---\n",
    "### **<font color=\"DodgerBlue\">Ejercicio 3. Forma cuadrática y tipos de sistemas.</font>**\n",
    "<font color=\"DarkBlue\">En el siguiente interactivo seleccione del menú</font> Sistema <font color=\"DarkBlue\">todas las posibilidads y responda las siguientes preguntas.</font>\n",
    "- <font color=\"DarkBlue\"> ¿Qué forma tiene la $f(\\mathbf{x})$ para un sistema</font>  **positivo definido**? \n",
    "- <font color=\"DarkBlue\"> ¿Qué forma tiene la $f(\\mathbf{x})$ para un sistema</font>  **positivo indefinido**?\n",
    "- <font color=\"DarkBlue\"> ¿Qué forma tiene la $f(\\mathbf{x})$ para un sistema</font>  **indefinido**?\n",
    "- <font color=\"DarkBlue\"> ¿Cuál de estos sistemas cree que se pueda resolver más fácilmente? ¿Por qué?</font>\n",
    "--- "
   ]
  },
  {
   "cell_type": "code",
   "execution_count": 1,
   "id": "0caa0576-ad09-47fa-8b07-b0e66caa6e0e",
   "metadata": {
    "nbgrader": {
     "grade": false,
     "grade_id": "cell-31f793706a936726",
     "locked": true,
     "schema_version": 3,
     "solution": false,
     "task": false
    },
    "tags": []
   },
   "outputs": [
    {
     "data": {
      "application/vnd.jupyter.widget-view+json": {
       "model_id": "a6d85c02582b4dda951a66932a0d4069",
       "version_major": 2,
       "version_minor": 0
      },
      "text/plain": [
       "interactive(children=(Dropdown(description='Sistema', options=('Positivo Definido', 'Positivo Indefinido', 'In…"
      ]
     },
     "metadata": {},
     "output_type": "display_data"
    }
   ],
   "source": [
    "%run \"./zLinSysAnalysis_interactive.ipynb\""
   ]
  },
  {
   "cell_type": "markdown",
   "id": "7c6a3676-f422-4f6b-ae7e-23688891adac",
   "metadata": {
    "nbgrader": {
     "grade": false,
     "grade_id": "cell-8a92af672b55c67b",
     "locked": true,
     "schema_version": 3,
     "solution": false,
     "task": false
    }
   },
   "source": [
    "<a name='2'></a>\n",
    "## Sistemas de ecuaciones lineales en general\n",
    "\n",
    "El sistema lineal (2) se puede escribir como sigue:\n",
    "\n",
    "$$\n",
    "\\begin{array}{ccc}\n",
    "a_{00} x_0 + a_{01} x_1 & = &b_0 \\\\\n",
    "a_{01} x_0 + a_{11} x_1 & = &b_1\n",
    "\\end{array} \\Longrightarrow\n",
    "\\underbrace{\n",
    "\\left[\n",
    "\\begin{array}{cccc}\n",
    "a_{00} & a_{01} \\\\\n",
    "a_{01} & a_{11}\n",
    "\\end{array} \\right]}_{A}\n",
    "\\underbrace{\n",
    "\\left[\n",
    "\\begin{array}{cccc}\n",
    "x_{0} \\\\\n",
    "x_{1} \n",
    "\\end{array} \\right]}_{\\mathbf{{x}}}\n",
    "=\n",
    "\\underbrace{\n",
    "\\left[\n",
    "\\begin{array}{c}\n",
    "b_0 \\\\ b_1\n",
    "\\end{array}\n",
    "\\right]}_{\\mathbf{{b}}}\n",
    "$$\n",
    "\n",
    "En general un sistema de ecuaciones lineales puede contener $n$ ecuaciones con $n$ incógnitas y se ve como sigue:\n",
    "\n",
    "$$\n",
    "A \\cdot \\mathbf{x} = \\mathbf{b} \\Longrightarrow\n",
    "\\left[\n",
    "\\begin{array}{ccccc}\n",
    "a_{00} & a_{01} & a_{02} & \\dots & a_{0n} \\\\\n",
    "a_{10} & a_{11} & a_{12} & \\dots & a_{1n} \\\\\n",
    "\\vdots & \\vdots & \\vdots & \\ddots & \\vdots \\\\\n",
    "a_{n1} & a_{n1} & a_{n2} & \\dots & a_{nn}\n",
    "\\end{array} \\right] \n",
    "\\left[\n",
    "\\begin{array}{cccc}\n",
    "x_{0} \\\\ x_{1} \\\\ \\vdots \\\\ x_{n}\n",
    "\\end{array} \\right] \n",
    "=\n",
    "\\left[\n",
    "\\begin{array}{c}\n",
    "b_0 \\\\ b_1 \\\\ \\vdots \\\\ b_{n}\n",
    "\\end{array}\n",
    "\\right]\n",
    "$$ "
   ]
  },
  {
   "cell_type": "markdown",
   "id": "cdbf0e35-107c-401e-adf9-af7680404143",
   "metadata": {
    "nbgrader": {
     "grade": false,
     "grade_id": "cell-6dd52f8e45a6b01d",
     "locked": true,
     "schema_version": 3,
     "solution": false,
     "task": false
    }
   },
   "source": [
    "## Métodos estacionarios para solución de sistemas lineales.\n",
    "\n",
    "Existen diferentes métodos de solución de los sistemas de ecuaciones lineales cada uno con ventajas y desventajas. En general se puede hablar de métodos estacionarios (Jacobi, Gauss-Seidel, SOR, etc.) y métodos no estacionarios (GGM, BICGSTAB, GMRES, etc.)."
   ]
  },
  {
   "cell_type": "markdown",
   "id": "4a689d8c-bf9e-4934-99b9-09cc42f410d8",
   "metadata": {
    "nbgrader": {
     "grade": false,
     "grade_id": "cell-c2c4414c25f5ea37",
     "locked": true,
     "schema_version": 3,
     "solution": false,
     "task": false
    }
   },
   "source": [
    "## Aplicación: Transferencia de calor\n",
    "Los sistemas de ecuaciones lineales aparecen en muchas aplicaciones. Por ejemplo, para estudiar la transferencia de calor en una placa cuadrada de metal se puede resolver numéricamente una ecuación diferencial parcial. La solución numérica se encuentra resolviendo un sistema lineal como el siguiente:\n",
    "\n",
    "<center>\n",
    "<img src=\"./calor02.png\"  width='500px'/>\n",
    "</center>\n",
    "    \n",
    "Estos sistemas suelen ser muy grandes y para resolverlos se requiere de muchas operaciones numéricas, lo que implica también mucho tiempo de cómputo."
   ]
  },
  {
   "cell_type": "markdown",
   "id": "d7d2d5fd-d61c-4000-89ae-57053c9a6eb3",
   "metadata": {
    "nbgrader": {
     "grade": false,
     "grade_id": "cell-b3f040dabd67c803",
     "locked": true,
     "schema_version": 3,
     "solution": false,
     "task": false
    }
   },
   "source": [
    "<a name='ej-4'></a>\n",
    "### **<font color=\"DodgerBlue\">Ejercicio 4. Evaluación de métodos.</font>**\n",
    "<font color=\"DarkBlue\">El objetivo de este ejercicio es comparar algunos métodos estacionarios de solución de sistemas de ecuaciones lineales para resolver un problema de transferencia de calor.</font>\n",
    "- <font color=\"DarkBlue\">En el siguiente interactivo seleccione un método y ejecute presionando `▶` .</font> \n",
    "- <font color=\"DarkBlue\">Observe el comportamiento de cada método, tome nota del tiempo de CPU, el error y el número de iteraciones. Repita cambiando el tamaño de la malla `N`.</font>\n",
    "- <font color=\"DarkBlue\">Posteriormente responda las preguntas en el *quiz* **Evaluación de los métodos: Jacobi, Gauss-Seidel, SOR** en Moodle.</font> "
   ]
  },
  {
   "cell_type": "code",
   "execution_count": 1,
   "id": "61c73d67-b251-4811-a39c-812bf67acc43",
   "metadata": {
    "nbgrader": {
     "grade": false,
     "grade_id": "cell-1c7fd9de3d90f50a",
     "locked": true,
     "schema_version": 3,
     "solution": false,
     "task": false
    },
    "tags": []
   },
   "outputs": [
    {
     "ename": "ModuleNotFoundError",
     "evalue": "No module named 'macti.SistemasLineales'",
     "output_type": "error",
     "traceback": [
      "\u001b[0;31m---------------------------------------------------------------------------\u001b[0m",
      "\u001b[0;31mModuleNotFoundError\u001b[0m                       Traceback (most recent call last)",
      "File \u001b[0;32m/tmp/ipykernel_2995/3192567522.py:1\u001b[0m\n\u001b[0;32m----> 1\u001b[0m \u001b[38;5;28;01mfrom\u001b[39;00m \u001b[38;5;21;01mmacti\u001b[39;00m\u001b[38;5;21;01m.\u001b[39;00m\u001b[38;5;21;01mSistemasLineales\u001b[39;00m\u001b[38;5;21;01m.\u001b[39;00m\u001b[38;5;21;01mtestSolvers\u001b[39;00m \u001b[38;5;28;01mimport\u001b[39;00m solucion\n\u001b[1;32m      2\u001b[0m \u001b[38;5;28;01mfrom\u001b[39;00m \u001b[38;5;21;01mipywidgets\u001b[39;00m \u001b[38;5;28;01mimport\u001b[39;00m interact, interactive, fixed, interact_manual\n\u001b[1;32m      3\u001b[0m \u001b[38;5;28;01mimport\u001b[39;00m \u001b[38;5;21;01mipywidgets\u001b[39;00m \u001b[38;5;28;01mas\u001b[39;00m \u001b[38;5;21;01mwidgets\u001b[39;00m\n",
      "\u001b[0;31mModuleNotFoundError\u001b[0m: No module named 'macti.SistemasLineales'"
     ]
    },
    {
     "ename": "ModuleNotFoundError",
     "evalue": "No module named 'macti.SistemasLineales'",
     "output_type": "error",
     "traceback": [
      "\u001b[0;31m---------------------------------------------------------------------------\u001b[0m",
      "\u001b[0;31mModuleNotFoundError\u001b[0m                       Traceback (most recent call last)",
      "Cell \u001b[0;32mIn[1], line 1\u001b[0m\n\u001b[0;32m----> 1\u001b[0m \u001b[43mget_ipython\u001b[49m\u001b[43m(\u001b[49m\u001b[43m)\u001b[49m\u001b[38;5;241;43m.\u001b[39;49m\u001b[43mrun_line_magic\u001b[49m\u001b[43m(\u001b[49m\u001b[38;5;124;43m'\u001b[39;49m\u001b[38;5;124;43mrun\u001b[39;49m\u001b[38;5;124;43m'\u001b[39;49m\u001b[43m,\u001b[49m\u001b[43m \u001b[49m\u001b[38;5;124;43m'\u001b[39;49m\u001b[38;5;124;43m\"\u001b[39;49m\u001b[38;5;124;43m./zCondCalor_interactive.ipynb\u001b[39;49m\u001b[38;5;124;43m\"\u001b[39;49m\u001b[38;5;124;43m'\u001b[39;49m\u001b[43m)\u001b[49m\n",
      "File \u001b[0;32m/opt/conda/lib/python3.11/site-packages/IPython/core/interactiveshell.py:2432\u001b[0m, in \u001b[0;36mInteractiveShell.run_line_magic\u001b[0;34m(self, magic_name, line, _stack_depth)\u001b[0m\n\u001b[1;32m   2430\u001b[0m     kwargs[\u001b[38;5;124m'\u001b[39m\u001b[38;5;124mlocal_ns\u001b[39m\u001b[38;5;124m'\u001b[39m] \u001b[38;5;241m=\u001b[39m \u001b[38;5;28mself\u001b[39m\u001b[38;5;241m.\u001b[39mget_local_scope(stack_depth)\n\u001b[1;32m   2431\u001b[0m \u001b[38;5;28;01mwith\u001b[39;00m \u001b[38;5;28mself\u001b[39m\u001b[38;5;241m.\u001b[39mbuiltin_trap:\n\u001b[0;32m-> 2432\u001b[0m     result \u001b[38;5;241m=\u001b[39m \u001b[43mfn\u001b[49m\u001b[43m(\u001b[49m\u001b[38;5;241;43m*\u001b[39;49m\u001b[43margs\u001b[49m\u001b[43m,\u001b[49m\u001b[43m \u001b[49m\u001b[38;5;241;43m*\u001b[39;49m\u001b[38;5;241;43m*\u001b[39;49m\u001b[43mkwargs\u001b[49m\u001b[43m)\u001b[49m\n\u001b[1;32m   2434\u001b[0m \u001b[38;5;66;03m# The code below prevents the output from being displayed\u001b[39;00m\n\u001b[1;32m   2435\u001b[0m \u001b[38;5;66;03m# when using magics with decorator @output_can_be_silenced\u001b[39;00m\n\u001b[1;32m   2436\u001b[0m \u001b[38;5;66;03m# when the last Python token in the expression is a ';'.\u001b[39;00m\n\u001b[1;32m   2437\u001b[0m \u001b[38;5;28;01mif\u001b[39;00m \u001b[38;5;28mgetattr\u001b[39m(fn, magic\u001b[38;5;241m.\u001b[39mMAGIC_OUTPUT_CAN_BE_SILENCED, \u001b[38;5;28;01mFalse\u001b[39;00m):\n",
      "File \u001b[0;32m/opt/conda/lib/python3.11/site-packages/IPython/core/magics/execution.py:737\u001b[0m, in \u001b[0;36mExecutionMagics.run\u001b[0;34m(self, parameter_s, runner, file_finder)\u001b[0m\n\u001b[1;32m    735\u001b[0m     \u001b[38;5;28;01mwith\u001b[39;00m preserve_keys(\u001b[38;5;28mself\u001b[39m\u001b[38;5;241m.\u001b[39mshell\u001b[38;5;241m.\u001b[39muser_ns, \u001b[38;5;124m'\u001b[39m\u001b[38;5;124m__file__\u001b[39m\u001b[38;5;124m'\u001b[39m):\n\u001b[1;32m    736\u001b[0m         \u001b[38;5;28mself\u001b[39m\u001b[38;5;241m.\u001b[39mshell\u001b[38;5;241m.\u001b[39muser_ns[\u001b[38;5;124m'\u001b[39m\u001b[38;5;124m__file__\u001b[39m\u001b[38;5;124m'\u001b[39m] \u001b[38;5;241m=\u001b[39m filename\n\u001b[0;32m--> 737\u001b[0m         \u001b[38;5;28;43mself\u001b[39;49m\u001b[38;5;241;43m.\u001b[39;49m\u001b[43mshell\u001b[49m\u001b[38;5;241;43m.\u001b[39;49m\u001b[43msafe_execfile_ipy\u001b[49m\u001b[43m(\u001b[49m\u001b[43mfilename\u001b[49m\u001b[43m,\u001b[49m\u001b[43m \u001b[49m\u001b[43mraise_exceptions\u001b[49m\u001b[38;5;241;43m=\u001b[39;49m\u001b[38;5;28;43;01mTrue\u001b[39;49;00m\u001b[43m)\u001b[49m\n\u001b[1;32m    738\u001b[0m     \u001b[38;5;28;01mreturn\u001b[39;00m\n\u001b[1;32m    740\u001b[0m \u001b[38;5;66;03m# Control the response to exit() calls made by the script being run\u001b[39;00m\n",
      "File \u001b[0;32m/opt/conda/lib/python3.11/site-packages/IPython/core/interactiveshell.py:2954\u001b[0m, in \u001b[0;36mInteractiveShell.safe_execfile_ipy\u001b[0;34m(self, fname, shell_futures, raise_exceptions)\u001b[0m\n\u001b[1;32m   2952\u001b[0m result \u001b[38;5;241m=\u001b[39m \u001b[38;5;28mself\u001b[39m\u001b[38;5;241m.\u001b[39mrun_cell(cell, silent\u001b[38;5;241m=\u001b[39m\u001b[38;5;28;01mTrue\u001b[39;00m, shell_futures\u001b[38;5;241m=\u001b[39mshell_futures)\n\u001b[1;32m   2953\u001b[0m \u001b[38;5;28;01mif\u001b[39;00m raise_exceptions:\n\u001b[0;32m-> 2954\u001b[0m     \u001b[43mresult\u001b[49m\u001b[38;5;241;43m.\u001b[39;49m\u001b[43mraise_error\u001b[49m\u001b[43m(\u001b[49m\u001b[43m)\u001b[49m\n\u001b[1;32m   2955\u001b[0m \u001b[38;5;28;01melif\u001b[39;00m \u001b[38;5;129;01mnot\u001b[39;00m result\u001b[38;5;241m.\u001b[39msuccess:\n\u001b[1;32m   2956\u001b[0m     \u001b[38;5;28;01mbreak\u001b[39;00m\n",
      "File \u001b[0;32m/opt/conda/lib/python3.11/site-packages/IPython/core/interactiveshell.py:270\u001b[0m, in \u001b[0;36mExecutionResult.raise_error\u001b[0;34m(self)\u001b[0m\n\u001b[1;32m    268\u001b[0m     \u001b[38;5;28;01mraise\u001b[39;00m \u001b[38;5;28mself\u001b[39m\u001b[38;5;241m.\u001b[39merror_before_exec\n\u001b[1;32m    269\u001b[0m \u001b[38;5;28;01mif\u001b[39;00m \u001b[38;5;28mself\u001b[39m\u001b[38;5;241m.\u001b[39merror_in_exec \u001b[38;5;129;01mis\u001b[39;00m \u001b[38;5;129;01mnot\u001b[39;00m \u001b[38;5;28;01mNone\u001b[39;00m:\n\u001b[0;32m--> 270\u001b[0m     \u001b[38;5;28;01mraise\u001b[39;00m \u001b[38;5;28mself\u001b[39m\u001b[38;5;241m.\u001b[39merror_in_exec\n",
      "    \u001b[0;31m[... skipping hidden 1 frame]\u001b[0m\n",
      "File \u001b[0;32m/tmp/ipykernel_2995/3192567522.py:1\u001b[0m\n\u001b[0;32m----> 1\u001b[0m \u001b[38;5;28;01mfrom\u001b[39;00m \u001b[38;5;21;01mmacti\u001b[39;00m\u001b[38;5;21;01m.\u001b[39;00m\u001b[38;5;21;01mSistemasLineales\u001b[39;00m\u001b[38;5;21;01m.\u001b[39;00m\u001b[38;5;21;01mtestSolvers\u001b[39;00m \u001b[38;5;28;01mimport\u001b[39;00m solucion\n\u001b[1;32m      2\u001b[0m \u001b[38;5;28;01mfrom\u001b[39;00m \u001b[38;5;21;01mipywidgets\u001b[39;00m \u001b[38;5;28;01mimport\u001b[39;00m interact, interactive, fixed, interact_manual\n\u001b[1;32m      3\u001b[0m \u001b[38;5;28;01mimport\u001b[39;00m \u001b[38;5;21;01mipywidgets\u001b[39;00m \u001b[38;5;28;01mas\u001b[39;00m \u001b[38;5;21;01mwidgets\u001b[39;00m\n",
      "\u001b[0;31mModuleNotFoundError\u001b[0m: No module named 'macti.SistemasLineales'"
     ]
    }
   ],
   "source": [
    "%run \"./zCondCalor_interactive.ipynb\""
   ]
  },
  {
   "cell_type": "code",
   "execution_count": null,
   "id": "0800f611",
   "metadata": {},
   "outputs": [],
   "source": []
  }
 ],
 "metadata": {
  "celltoolbar": "Create Assignment",
  "kernelspec": {
   "display_name": "Python 3 (ipykernel)",
   "language": "python",
   "name": "python3"
  },
  "language_info": {
   "codemirror_mode": {
    "name": "ipython",
    "version": 3
   },
   "file_extension": ".py",
   "mimetype": "text/x-python",
   "name": "python",
   "nbconvert_exporter": "python",
   "pygments_lexer": "ipython3",
   "version": "3.11.6"
  }
 },
 "nbformat": 4,
 "nbformat_minor": 5
}
