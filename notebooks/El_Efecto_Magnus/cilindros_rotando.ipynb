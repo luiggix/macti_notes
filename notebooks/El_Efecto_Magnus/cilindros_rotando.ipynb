{
 "cells": [
  {
   "cell_type": "code",
   "execution_count": 1,
   "id": "828a5182-5ffa-447e-8a89-9c65f4341e42",
   "metadata": {},
   "outputs": [],
   "source": [
    "import numpy as np\n",
    "import matplotlib.pyplot as plt\n",
    "import ipywidgets as widgets\n",
    "from magnus_lib import mi_animacion"
   ]
  },
  {
   "cell_type": "code",
   "execution_count": 4,
   "id": "10ffc7ac-9dbc-4567-a95d-390a7c6c72f1",
   "metadata": {},
   "outputs": [],
   "source": [
    "# Dimensiones del dominio\n",
    "x_start, x_end = -2.0, 2.0  \n",
    "y_start, y_end = -1.0, 1.0 \n",
    "\n",
    "N = 200                               # Número de puntos discretos\n",
    "x = np.linspace(x_start, x_end, 2*N)    # Arreglo 1D en x\n",
    "y = np.linspace(y_start, y_end, N)    # Arreglo 1D en y\n",
    "xg, yg = np.meshgrid(x, y)            # Malla del dominio"
   ]
  },
  {
   "cell_type": "code",
   "execution_count": 5,
   "id": "980bd5a3-4c94-45e0-9439-e69af749e108",
   "metadata": {},
   "outputs": [
    {
     "data": {
      "application/vnd.jupyter.widget-view+json": {
       "model_id": "6b61c8a750d04f7c96b777c2d92e37b6",
       "version_major": 2,
       "version_minor": 0
      },
      "text/plain": [
       "Output()"
      ]
     },
     "metadata": {},
     "output_type": "display_data"
    },
    {
     "data": {
      "application/vnd.jupyter.widget-view+json": {
       "model_id": "3de3e0f7c494418c85231c8afb7fa130",
       "version_major": 2,
       "version_minor": 0
      },
      "text/plain": [
       "VBox(children=(HBox(children=(Dropdown(description='Cilindros', options=(1, 2, 3, 4), value=1), IntSlider(valu…"
      ]
     },
     "metadata": {},
     "output_type": "display_data"
    }
   ],
   "source": [
    "w_num_cil = widgets.Dropdown(\n",
    "    value=1, \n",
    "    options=[1,2,3,4], \n",
    "    description='Cilindros'\n",
    ")\n",
    "\n",
    "w_Γ = widgets.Dropdown(\n",
    "    value=0.0, \n",
    "    options=[-4.0, 0.0, 4.0], \n",
    "    description='Con rotación'\n",
    ")\n",
    "\n",
    "w_i = widgets.IntSlider(\n",
    "    value=0, \n",
    "    min=0, max=23, step=1,\n",
    "    description='Gira cilindros'\n",
    ")\n",
    "\n",
    "w_kind = widgets.Dropdown(\n",
    "    value = 'Streamfunction',\n",
    "    options=['Streamfunction','Streamplot'], \n",
    "    description='Flujo',\n",
    ")\n",
    "\n",
    "\n",
    "ui = widgets.VBox([widgets.HBox([w_num_cil, w_i]),\n",
    "                   widgets.HBox([w_Γ, w_kind])])#, layout=widgets.Layout(widht='100px'))\n",
    "\n",
    "ui.layout = widgets.Layout(border='solid 1px black')\n",
    "ui.layout.width = '500px'\n",
    "\n",
    "out = widgets.interactive_output(mi_animacion, {'x':widgets.fixed(x), 'y':widgets.fixed(y), 'i': w_i, 'Γ': w_Γ, 'num_cil': w_num_cil,'kind': w_kind})\n",
    "\n",
    "display(out, ui)"
   ]
  },
  {
   "cell_type": "code",
   "execution_count": null,
   "id": "c63d780e-0815-41ef-a4c9-19f954c3203e",
   "metadata": {},
   "outputs": [],
   "source": []
  }
 ],
 "metadata": {
  "kernelspec": {
   "display_name": "Python 3 (ipykernel)",
   "language": "python",
   "name": "python3"
  },
  "language_info": {
   "codemirror_mode": {
    "name": "ipython",
    "version": 3
   },
   "file_extension": ".py",
   "mimetype": "text/x-python",
   "name": "python",
   "nbconvert_exporter": "python",
   "pygments_lexer": "ipython3",
   "version": "3.10.10"
  }
 },
 "nbformat": 4,
 "nbformat_minor": 5
}
