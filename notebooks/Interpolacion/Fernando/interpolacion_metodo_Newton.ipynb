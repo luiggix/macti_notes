{
 "cells": [
  {
   "cell_type": "markdown",
   "id": "1487acab",
   "metadata": {},
   "source": [
    "## Interpolación con el método de polinomios de Newton o diferencias dividias"
   ]
  },
  {
   "cell_type": "markdown",
   "id": "8ad295dd",
   "metadata": {},
   "source": [
    "**Objetivo general**"
   ]
  },
  {
   "cell_type": "markdown",
   "id": "9cc1cd0e",
   "metadata": {},
   "source": [
    "- Entender para qué sirve interpolar y cómo aplicar el método de Newton para resolver esta situación"
   ]
  },
  {
   "cell_type": "markdown",
   "id": "4ea30a4c",
   "metadata": {},
   "source": [
    "**Objetivos particulares**"
   ]
  },
  {
   "cell_type": "markdown",
   "id": "ee4894dd",
   "metadata": {},
   "source": [
    "- Entender el origen del método del polinomio Newton o diferencias divididas\n",
    "- Aprender el procedimiento para aplicar el método cuando se quiere interpolar\n",
    "- Resolver ejercicios"
   ]
  },
  {
   "cell_type": "code",
   "execution_count": null,
   "id": "14aa024d",
   "metadata": {},
   "outputs": [],
   "source": []
  },
  {
   "cell_type": "markdown",
   "id": "0812d01c",
   "metadata": {},
   "source": [
    "### Breve explicación del surgimiento del método de diferencias divididas."
   ]
  },
  {
   "cell_type": "markdown",
   "id": "43aa3aa1",
   "metadata": {},
   "source": [
    "En varias ocasiones sólo contamos con una cantidad limitada de puntos conocidos por ejemplo, $(x_{0},y_{0})$, $(x_{1},y_{1})$, $\\cdots$ $(x_{n},y_{n})$ y lo que deseamos es conocer qué función o polinomio se aproxima por esos puntos o también podemos querer conocer un qué valor le corresponde a una $x$ posterior a los valores de $x$ con los que ya contamos.\n",
    "\n",
    "Al proceso con el que construimos una función continua $f(x)$ que pasa por los $n+1$ puntos ($n$ más el 0), de modo que podremos obtener cualqueir otro punto, le llamamos **interpolación**.  "
   ]
  },
  {
   "cell_type": "markdown",
   "id": "045f485d",
   "metadata": {},
   "source": [
    "El método de Newton o de diferencias divididas consiste en que consideramos el siguiente polinomio \n",
    "\n",
    "$$p(x) = b_{0} + b_{1}(x-x_{0}) + b_{2}(x-x_{0})(x-x_{1}) + b_{3}(x-x_{0})(x-x_{1})(x-x_{2}) \\cdots + b_{n}(x-x_{0})\\cdots(x-x_{n})$$\n",
    "\n",
    "A su vez, escribrimos un polinomio por cada grado del polinomio.\n",
    "\n",
    "$P_{0}(x_{0}) = a_{0} = f(x_{0})$\n",
    "\n",
    "$P_{1}(x_{1}) = a_{0} + (x_{1}-x_{0})a_{1} = f(x_{1})$\n",
    "\n",
    "$P_{2}(x_{2}) = a_{0} + (x_{2}-x_{0})a_{1} + (x_{2}-x_{0})(x_{2}-x_{1})a_{2} = f(x_{2})$\n",
    "\n",
    "$ \\cdots $\n",
    "\n",
    "$P_{n}(x_{n}) = a_{0} + (x_{n}-x_{0})a_{1} + \\dots +(x_{n}-x_{0})(x_{n}-x_{n-1})a_{n} = f(x_{n})$\n"
   ]
  },
  {
   "cell_type": "markdown",
   "id": "7ec53efb",
   "metadata": {},
   "source": [
    "### Procedimiento"
   ]
  },
  {
   "cell_type": "markdown",
   "id": "3ff94f49",
   "metadata": {},
   "source": [
    "Entonces realizamos el siguiente proceso\n",
    "\n",
    "1. Sustituimos el primer punto de nuestros datos ( $x=x_{0}$ ) en el polinomio de grado cero y obtenemos que\n",
    "   $f(x_{0}) = a_{0}$\n",
    "   y de esta manera obtenemos el primer coeficiente ($a_{0}$) de nuestro polinomio"
   ]
  },
  {
   "cell_type": "markdown",
   "id": "43b1a65e",
   "metadata": {},
   "source": [
    "2. Para cualquier otro coeficiente $a_{i}$ mayor que $a_{0}$ restamos el polinomio de $x_{n}$ con el de $x_{n-1}$,\n",
    "   por ejemplo, para obtener a $a_{1}$ restamos $P_{1}(x_{1})$ menos $P_{0}(x=x_{0})$\n",
    "   \n",
    "   $f(x_{1}) - f(x_{0}) = a_{0} + a_{1}(x_{1}-x_{0}) - a_{0}$\n",
    "   \n",
    "   $$\\Longrightarrow a_{1} = \\frac{f(x_{1})-f(x_{0})}{x_{1}-x_{0}}$$"
   ]
  },
  {
   "cell_type": "markdown",
   "id": "23533a45",
   "metadata": {},
   "source": [
    "Y usamos una nueva notación, para representar las expresiones $$\\frac{f(x_{n})-f(x_{n-1})}{x_{n}-x_{n-1}}$$ a las  que llamaremos **diferencias divididas**\n",
    "   \n",
    "Por ejemplo\n",
    "\n",
    "$a_{0} \\equiv f[x_{0}] $\n",
    "\n",
    "$a_{1} \\equiv f[x_{0},x_{1}]$\n",
    "\n",
    "Y en general,\n",
    "\n",
    "$a_{n} \\equiv  f[x_{0},x_{1}, \\dots, x_{n}] = \\frac{f[x_{1},\\dots,x_{n}]-f[x_{0},\\dots,x_{n-1}]}{x_{n}-x_{0}}$\n",
    "\n",
    "Cuando solo se tiene $f[x_{n}]$ es sólo el valor $y$ del $n$-ésimo punto. "
   ]
  },
  {
   "cell_type": "markdown",
   "id": "cd9a969f",
   "metadata": {},
   "source": [
    "### Ejercicio 1\n",
    "\n",
    "Obtenga el coeficiente $a_{2}$ en función de la y escriba el resultado en la celda siguiente"
   ]
  },
  {
   "cell_type": "code",
   "execution_count": null,
   "id": "6d45180c",
   "metadata": {},
   "outputs": [],
   "source": [
    "user = input()\n",
    "if user == \"f(x_{2})\":\n",
    "    print(\"Correcto\")"
   ]
  },
  {
   "cell_type": "code",
   "execution_count": null,
   "id": "b659065b",
   "metadata": {},
   "outputs": [],
   "source": []
  },
  {
   "cell_type": "markdown",
   "id": "52dc9743",
   "metadata": {},
   "source": [
    "### Solución\n",
    "$f(x_{2}) - f(x_{1}) = a_{2}(x_{2}-x_{1})(x_{2}-x_{0}) + a_{1}(x_{2}-x_{0}) + a_{0} - a_{1}(x_{1}-x_{0}) - a_{0}$\n",
    "\n",
    "$ \\Longrightarrow f(x_{2}) - f(x_{1}) - a_{1}(x_{2}-x_{0}) - a_{0} + a_{1}(x_{1}-x_{0}) + a_{0} = a_{2}(x_{2}-x_{1})(x_{2}-x_{0})  $\n",
    "\n",
    "$ \\Longrightarrow f(x_{2}) - f(x_{1}) - a_{1}(x_{2}-x_{0} - x_{1} + x_{0}) - a_{0} + a_{0} = a_{2}(x_{2}-x_{1})(x_{2}-x_{0})  $\n",
    "\n",
    "$ \\Longrightarrow \\frac{f(x_{2}) - f(x_{1}) - a_{1}(x_{2} - x_{1})}{(x_{2}-x_{1})(x_{2}-x_{0})} = f[x_{0},x_{1},x_{2}] \\equiv a_{2}  $\n",
    "\n",
    "$ a_{2}  = \\frac{f(x_{2}) - f(x_{1}) - f[x_{0},x_{1}](x_{2} - x_{1})}{(x_{2}-x_{1})(x_{2}-x_{0})} = \\frac{f[x_{1},x_{2}]-f[x_{0},x_{1}]}{x_{2}-x_{0}}$"
   ]
  },
  {
   "cell_type": "markdown",
   "id": "dc7846e9",
   "metadata": {},
   "source": [
    "Así, podemos obtener el $n$-ésimo coeficiente del polinomio si calculamos todas las diferencias divididas antecedentes a $f[x_{0},\\dots,x_{n}]$, incluyendo la misma.\n",
    "\n",
    "$x_{0} \\hspace{5mm} f_{0}$\n",
    "\n",
    "$ \\hspace{20mm} f[x_{0},x_{1}]$\n",
    "\n",
    "$x_{1} \\hspace{5mm} f_{1} \\hspace{25mm} f[x_{0},x_{1},x_{2}]$\n",
    "\n",
    "$\\hspace{20mm} f[x_{1},x_{2}] \\hspace{30mm} f[x_{0},x_{1},x_{2},x_{3}]$\n",
    "\n",
    "$x_{2} \\hspace{5mm} f_{2} \\hspace{25mm} f[x_{1},x_{2},x_{3}]$\n",
    "\n",
    "$ \\hspace{20mm} f[x_{2},x_{3}]$\n",
    "\n",
    "$x_{3} \\hspace{5mm} f_{3}$"
   ]
  },
  {
   "cell_type": "markdown",
   "id": "b45c9005",
   "metadata": {},
   "source": [
    "Para hacer esta tarea más sencilla se coloca en una tabla los valores de las diferencias divididas hasta llegar a n-ésimo coeficiente y las diferencias divididas que corresponden a los coeficientes serían solo los valores de la primera fila, las demás diferencias se utilizan solo para calcular a los coeficientes."
   ]
  },
  {
   "cell_type": "markdown",
   "id": "e0d75d8d",
   "metadata": {},
   "source": [
    "\n",
    "|   |   |   |   |\n",
    "|---|---|---|---|\n",
    "| $f[x_{0}]$  | $f[x_{0},x_{1}]$ |  $f[x_{0},x_{1},x_{2}]$ |  $f[x_{0},x_{1},x_{2},x_{3}]$|\n",
    "| $f[x_{1}]$  | $f[x_{1},x_{2}]$  |  $f[x_{1},x_{2},x_{3}]$ | $0$ |  \n",
    "| $f[x_{2}]$   | $ f[x_{2},x_{3}]$  | $0$  | $0$  | \n",
    "| $f[x_{3}]$   |  $0$ |  $0$ |$0$   |   "
   ]
  },
  {
   "cell_type": "markdown",
   "id": "6cf15710",
   "metadata": {},
   "source": [
    "### Ejemplo 1\n",
    "\n",
    "Ahora que ya sabemos cómo de manera general se calculan los coeficientes de polinomio de interpolación o las diferencias finitas, calculemos las diferencias divididas de un polinomio que tiene que pasar por los puntos **(x,y) = [(-5,-2),(-1,6),(0,1),(2,3)]**, usando python"
   ]
  },
  {
   "cell_type": "code",
   "execution_count": 72,
   "id": "c80a6e54",
   "metadata": {},
   "outputs": [],
   "source": [
    "# importamos librerias que nos permiten \n",
    "# realizar operaciones con facilidad\n",
    "\n",
    "import numpy as np #la libreria numpy permite realizar calculos como raices cuadradas o multiplicacion de matrices\n",
    "import matplotlib.pyplot as plt # la libreria matplotlib permite graficar\n",
    "import ipywidgets as widgets # la libreria ipywidgets permite crear widgets \n"
   ]
  },
  {
   "cell_type": "code",
   "execution_count": 19,
   "id": "0226160e",
   "metadata": {},
   "outputs": [],
   "source": [
    "# diferencias_divididas recibe como entrada los valores x y los valores y de los puntos que tenemos y \n",
    "# calcula los coeficientes del polinomio de interpolación o lo mismo, las diferencias divididas de igual manera \n",
    "# que como rellenamos la tabla y devuelve la tabla con los valores\n",
    "\n",
    "\n",
    "def diferencias_divididas(x,y):\n",
    "    \n",
    "    n = len(y)\n",
    "    \n",
    "    # crea una matriz de ceros de n filas por n columnas con n igual a el número de elementos de valores de y\n",
    "\n",
    "    coef = np.zeros([n,n])\n",
    "    \n",
    "    # rellena la primera columna de la matriz de coeficientes con los datos y\n",
    "    coef[:,0] = y\n",
    "    \n",
    "    # para el indice de la columna de 1 hasta el n-esimo punto\n",
    "    for j in range(1,n):\n",
    "        # para el indice de la fila desde el n-esimo punto menos el valor de la columna\n",
    "        for i in range(n-j):\n",
    "            # el valor de la matriz en la fila i y en la columna j es el valor ...\n",
    "            coef[i][j] = (coef[i+1][j-1] - coef[i][j-1])/(x[i+j]-x[i])\n",
    "    \n",
    "    return coef\n",
    "\n"
   ]
  },
  {
   "cell_type": "markdown",
   "id": "75155a75",
   "metadata": {},
   "source": [
    "Veamos como se obtuvieron los coeficientes de acuerdo a la tabla.\n",
    "La primera columna será solo los valores de $y$ que ya conocemos\n",
    "$f(x_{0}) = -2$\n",
    "$f(x_{1}) = 6$\n",
    "$f(x_{2}) = 1$\n",
    "$f(x_{3}) = 3$\n",
    "\n",
    "\n",
    "Calculemos algunos valores de la segunda columna\n",
    "\n",
    "Recordamos que $$f[x_{n},\\dots,x_{0}] = \\frac{f[x_{n},\\dots,x_{1}]-f[x_{n-1},\\dots,x_{0}]}{x_{n}-x_{0}}$$\n",
    "\n",
    "\n",
    "Entonces, $$f[x_{1},x_{0}] = \\frac{f[x_{1},\\dots,x_{1}]-f[x_{0},\\dots,x_{0}]}{x_{1}-x_{0}}= \\frac{6-(-2)}{-1-(-5)}=\\frac{8}{4}=2$$\n",
    "\n",
    "\n",
    "Y, $$f[x_{2},x_{1}] = \\frac{f[x_{2},\\dots,x_{2}]-f[x_{1},\\dots,x_{1}]}{x_{2}-x_{1}}= \\frac{1-6}{0-(-1)}=\\frac{-5}{1}=-5$$\n",
    "\n",
    "Y asi sucesivamente\n",
    "\n",
    "En la tercera columna estará el valor,\n",
    "\n",
    "$f[x_{2},x_{1},x_{0}] = \\frac{f[x_{2},x_{1}]-f[x_{1},x_{0}]}{x_{2}-x_{0}} = \\frac{-5-2}{0-(-5)} = \\frac{-7}{5}=-1.4$\n",
    "\n"
   ]
  },
  {
   "cell_type": "markdown",
   "id": "9abbc92f",
   "metadata": {},
   "source": [
    "### Ejercicio 2\n",
    "\n",
    "Calcula $f[x_{3},x_{2},x_{1}]$ y $f[x_{4},x_{3},x_{2},x_{1}]$ e inserta el valor en la celda de abajo\n"
   ]
  },
  {
   "cell_type": "code",
   "execution_count": null,
   "id": "be7cfb22",
   "metadata": {},
   "outputs": [],
   "source": []
  },
  {
   "cell_type": "markdown",
   "id": "acb29a69",
   "metadata": {},
   "source": [
    "Felicidades, completaste la tabla de diferencias dividas. Lo mismo que acabas de hacer, lo realiza el cógido y como muestra, ejecutemos la función diferencias divididas que como entrada tendrán los valores de **x** e **y**"
   ]
  },
  {
   "cell_type": "code",
   "execution_count": 76,
   "id": "e3abe829",
   "metadata": {},
   "outputs": [
    {
     "name": "stdout",
     "output_type": "stream",
     "text": [
      "[[-2.          2.         -1.4         0.48571429]\n",
      " [ 6.         -5.          2.          0.        ]\n",
      " [ 1.          1.          0.          0.        ]\n",
      " [ 3.          0.          0.          0.        ]]\n"
     ]
    }
   ],
   "source": [
    "x = np.array([-5, -1, 0, 2])\n",
    "y = np.array([-2, 6, 1, 3])\n",
    "\n",
    "\n",
    "diferencias  = diferencias_divididas(x, y)\n",
    "# evaluate on new data points\n",
    "\n",
    "print(diferencias)"
   ]
  },
  {
   "cell_type": "markdown",
   "id": "16fc55ef",
   "metadata": {},
   "source": [
    "Ahora que ya contamos con los coeficientes que únicamente son las diferencias divididas de la primera fila, solo nos resta sustituir dichos valores en el polinomio de interpolación.\n",
    "\n",
    "De esta manera, si queremos conocer qué valor tendría el punto 100 en el polinomio tendríamos que hacer lo siguiente:"
   ]
  },
  {
   "cell_type": "markdown",
   "id": "eb56bc2e",
   "metadata": {},
   "source": [
    "Empezamos con $P(x) = b_{0} + b_{1}(x-x_{0}) + b_{2}(x-x_{0})(x-x_{1}) + b_{3}(x-x_{0})(x-x_{1})(x-x_{2}) $\n",
    "\n",
    "y sustituyendo los coeficientes y los valores de *x* $P(x) = -2 + 2(x-(-5)) + -1.4(x-(-5))(x-(-1)) + 0.4857(x-(-5))(x-(-1))(x-0) $\n",
    " \n",
    " \n",
    "Así que para $x=100$, \n",
    "\n",
    "$$P(100) =-2 + 2(100-(-5)) + -1.4(100-(-5))(100-(-1)) + 0.4857(100-(-5))(100-(-1))(100-0)= 500461.0  $$"
   ]
  },
  {
   "cell_type": "markdown",
   "id": "e6565954",
   "metadata": {},
   "source": [
    "### Ejercicio 3\n",
    "Calcula el valor que nos daría el polinomio si $x=7$ y escribe el resultado abajo"
   ]
  },
  {
   "cell_type": "code",
   "execution_count": null,
   "id": "81805dcb",
   "metadata": {},
   "outputs": [],
   "source": []
  },
  {
   "cell_type": "markdown",
   "id": "f06bcb7c",
   "metadata": {},
   "source": [
    "¡Felicidades!\n",
    "\n",
    "Ahora que ya sabes como calcular con lápiz y papel el polinomio de interpolación y obtener nuevos valores a partir de él solo resta que un código en python nos realice los mismos calculos y puedas comprobar que tu resultado del valor $x=7$ es correcto."
   ]
  },
  {
   "cell_type": "code",
   "execution_count": 91,
   "id": "f218832c",
   "metadata": {},
   "outputs": [],
   "source": [
    "# La función multiplicandos realiza las restas y multiplicaciones de los términos que acompañan a los coeficientes,\n",
    "# por ejemplo (x-x_0)*(x-x_1) = (7-(-5))*(7-(-1)). Tiene como entradas:\n",
    "# 1) el valor i que es un índice que debe tener\n",
    "# varios valores, desde 1 hasta el número de puntos (x,y)-1 (en nuestro caso particular sería hasta 3),\n",
    "# 2) el valor x del cual queremos conocer su correspondiente valor y según el polinomio\n",
    "# 3) los valores x de los puntos que ya conocemos (en nuestro caso particular son -5,-1,0 y 2)\n",
    "\n",
    "# y devuelve el resultado del multplicando que acompaña a los coeficientes \n",
    "\n",
    "def multplicandos(i, value, x):\n",
    "    multiplicando = 1;\n",
    "    for j in range(i):\n",
    "        multiplicando = multiplicando * (value - x[j]);2\n",
    "    return multiplicando;"
   ]
  },
  {
   "cell_type": "code",
   "execution_count": 92,
   "id": "7426aa83",
   "metadata": {},
   "outputs": [],
   "source": [
    "# La función polinomiodeNewton realiza la suma de los términos del polinomio, empezando por el valor del primer\n",
    "# coeficiente del polinomio b_{0}, que en nuestro caso es -2, hasta el último término del polinimio, que en nuestro \n",
    "# caso es 0.4857(7-(-5))(7-(-1))(7-0). \n",
    "\n",
    "# tiene como entradas:\n",
    "# 1) el valor x del cual queremos conocer su correspondiente valor y según el polinomio\n",
    "# 2) los valores x de los puntos que ya conocemos (en nuestro caso particular son -5,-1,0 y 2)\n",
    "# 3) la tabla de diferencias dividas\n",
    "# 4) el número de puntos que concemos (en nuestro caso conocemos cuatro puntos)\n",
    "\n",
    "\n",
    "# devuelve el resultado de la suma de los términos del polinomio de interpolación\n",
    "\n",
    "def polinomiodeNewton(value, x, y, n):\n",
    " \n",
    "    sum = y[0][0];\n",
    " \n",
    "    for i in range(1, n):\n",
    "        sum = sum + (multplicandos(i, value, x) * y[0][i]); \n",
    "     \n",
    "    return sum;"
   ]
  },
  {
   "cell_type": "markdown",
   "id": "b53693e3",
   "metadata": {},
   "source": [
    "Probemos que valor nos devuelve el polinomio cuando $x=7$ utilizando nuestras funciones. Ejecuta la siguiente celda"
   ]
  },
  {
   "cell_type": "code",
   "execution_count": 93,
   "id": "70ec5a36",
   "metadata": {},
   "outputs": [
    {
     "data": {
      "text/plain": [
       "214.0"
      ]
     },
     "execution_count": 93,
     "metadata": {},
     "output_type": "execute_result"
    }
   ],
   "source": [
    "polinomiodeNewton(7,x,diferencias,4)"
   ]
  },
  {
   "cell_type": "markdown",
   "id": "6a534639",
   "metadata": {},
   "source": [
    "**¡Que es el valor que anteriormente obtuviste!**"
   ]
  },
  {
   "cell_type": "markdown",
   "id": "ed94f35d",
   "metadata": {},
   "source": [
    "¿Qué pasa si no queremos obtener los valores correspondientes de los valores x según el polinomio pero no sólo de un valor si no de varios?\n",
    "\n",
    "Creemos una lista de los valores x y con un for, pasemos cada valor de x a la función polinomiodeNewton y los resultados que se vayan obteniendo los guardamos en una lista. En las siguientes dos celdas hacemos esto. Los puntos x van desde -4 hasta 4 y los valores *y* se almacenan en la lista *fx*"
   ]
  },
  {
   "cell_type": "code",
   "execution_count": 94,
   "id": "d94d2f4b",
   "metadata": {},
   "outputs": [],
   "source": [
    "puntosx = [-4,-3,-2,-1,0,1,2,3,4]\n",
    "\n",
    "\n",
    "fx = []\n",
    "for i in puntosx:\n",
    "    fx.append(polinomiodeNewton(i,x,diferencias,4))\n",
    "    "
   ]
  },
  {
   "cell_type": "code",
   "execution_count": 84,
   "id": "2e30dd2d",
   "metadata": {},
   "outputs": [
    {
     "name": "stdout",
     "output_type": "stream",
     "text": [
      "[10.028571428571428, 13.428571428571427, 11.114285714285714, 6.0, 1.0, -0.9714285714285689, 3.0, 15.82857142857143, 40.42857142857144]\n"
     ]
    }
   ],
   "source": [
    "print(fx)"
   ]
  },
  {
   "cell_type": "markdown",
   "id": "e44b7112",
   "metadata": {},
   "source": [
    "Como vemos, al valor de -1 le corresponde el valor 6 es decir, ¡recuperamos el punto $(x,y)$ que ya teníamos y el valor de $y$ sí es igual al que ya sabíamos!.\n",
    "\n",
    "De la misma manera, según nuestra función, al valor 0 le corresonde el valor 1 y al valor de 2 le corresponde el valor de 3. Y además conseguimos saber los valores de $y$ para -4,-3,-2,1,3 y 4.\n",
    "\n",
    "Finalmente, grafiquemos dichos puntos."
   ]
  },
  {
   "cell_type": "code",
   "execution_count": 85,
   "id": "d49ed650",
   "metadata": {},
   "outputs": [
    {
     "data": {
      "text/plain": [
       "[<matplotlib.lines.Line2D at 0x7f09e20260a0>]"
      ]
     },
     "execution_count": 85,
     "metadata": {},
     "output_type": "execute_result"
    },
    {
     "data": {
      "image/png": "[encoded data removed]",
      "text/plain": [
       "<Figure size 432x288 with 1 Axes>"
      ]
     },
     "metadata": {
      "needs_background": "light"
     },
     "output_type": "display_data"
    }
   ],
   "source": [
    "plt.plot(puntosx,fx)"
   ]
  },
  {
   "cell_type": "markdown",
   "id": "ca137a76",
   "metadata": {},
   "source": [
    "**¿Qué crees que pasaría si no consideramos todos los coeficientes que obtuvimos para el polinomio de interpolación?** Es decir, que por ejemplo sólo consideremos que el polinomio de interpolación sea \n",
    "$$P(x) = -2 + 2(x-(-5)) + -1.4(x-(-5))(x-(-1)) $$"
   ]
  },
  {
   "cell_type": "markdown",
   "id": "0124af0c",
   "metadata": {},
   "source": [
    "Efectivamente, nuestro polinomio dara los mismos valores de $y$ para $x$ igual a -5, -1 y 0. Pero dado que no estamos considerando el último coeficiente o incluso si lo consideramos pero cambiamos de un valor distinto a 0.4857, el valor de 2 no sería igual a 3."
   ]
  },
  {
   "cell_type": "code",
   "execution_count": 106,
   "id": "7d6c78c7",
   "metadata": {},
   "outputs": [],
   "source": [
    "def aumentandoCoeficientes(numCoeficientes):\n",
    "    puntosx = np.linspace(-5,5,100)\n",
    "    fx = []\n",
    "    for i in puntosx:\n",
    "        fx.append(polinomiodeNewton(i,x,diferencias,numCoeficientes))\n",
    "    fig,ax = plt.subplots()\n",
    "    plt.plot(puntosx,fx)\n",
    "    \n",
    "    "
   ]
  },
  {
   "cell_type": "code",
   "execution_count": 108,
   "id": "2f5f5ecc",
   "metadata": {},
   "outputs": [
    {
     "data": {
      "application/vnd.jupyter.widget-view+json": {
       "model_id": "d10e7215e93d48d2ac0f3be762a9adca",
       "version_major": 2,
       "version_minor": 0
      },
      "text/plain": [
       "interactive(children=(Dropdown(description='numCoeficientes', options=(1, 2, 3, 4), value=1), Output()), _dom_…"
      ]
     },
     "metadata": {},
     "output_type": "display_data"
    },
    {
     "data": {
      "text/plain": [
       "<function __main__.aumentandoCoeficientes(numCoeficientes)>"
      ]
     },
     "execution_count": 108,
     "metadata": {},
     "output_type": "execute_result"
    }
   ],
   "source": [
    "%matplotlib notebook\n",
    "widgets.interact(aumentandoCoeficientes,numCoeficientes=[1,2,3,4])"
   ]
  },
  {
   "cell_type": "markdown",
   "id": "c4ce1089",
   "metadata": {},
   "source": [
    "### Ejercicio 4\n",
    "En la gráfica de arriba cambia el valor de número de coeficientes que tiene el nuestro polinomio de interpolación. Los valores de los coeficientes son los mismos que obtuviste en la tabla de diferencias divididas o que se obtuvieron con el código de python, sin embargo al cambiar el valor de $numCoeficientes$, estarás cambiando el número de coeficientes que utilizas.\n",
    "\n",
    "Explica:\n",
    "1. ¿Por qué los valores $y$ cuando $numCoeficientes = 1$ son 2? \n",
    "2. Si $numCoeficientes = 2$, ¿qué puntos $(x,y)$ sí coinciden con los que inicialmente contamos? ¿Y si $numCoeficientes = 3$? ¿Por qué?"
   ]
  },
  {
   "cell_type": "code",
   "execution_count": null,
   "id": "5997d9b9",
   "metadata": {},
   "outputs": [],
   "source": []
  }
 ],
 "metadata": {
  "@webio": {
   "lastCommId": null,
   "lastKernelId": null
  },
  "kernelspec": {
   "display_name": "Python 3",
   "language": "python",
   "name": "python3"
  },
  "language_info": {
   "codemirror_mode": {
    "name": "ipython",
    "version": 3
   },
   "file_extension": ".py",
   "mimetype": "text/x-python",
   "name": "python",
   "nbconvert_exporter": "python",
   "pygments_lexer": "ipython3",
   "version": "3.8.8"
  }
 },
 "nbformat": 4,
 "nbformat_minor": 5
}
