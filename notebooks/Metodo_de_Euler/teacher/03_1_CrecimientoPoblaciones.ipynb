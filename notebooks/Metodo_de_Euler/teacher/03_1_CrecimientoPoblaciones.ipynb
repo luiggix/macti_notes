{
 "cells": [
  {
   "cell_type": "markdown",
   "id": "68c03375-afd1-4b9f-b5c0-8445d244156c",
   "metadata": {
    "nbgrader": {
     "grade": false,
     "grade_id": "cell-bd8caf0a2a917694",
     "locked": true,
     "schema_version": 3,
     "solution": false,
     "task": false
    }
   },
   "source": [
    "# Crecimiento de poblaciones.\n",
    "\n",
    "\n",
    "**Objetivo general.**\n",
    "\n",
    "Aplicar los conceptos vistos en clase para resolver un problema de crecimiento de una población aplicando el Método de Euler hacia adelante.\n",
    "\n",
    "**Objetivos particulares.**\n",
    "- Definir los pasos a seguir a partir de la lista de cotejo.\n",
    "- Hacer uso de las herramientas numéricas y de graficaciónd e Python para resolver el problema.\n",
    "\n",
    "## Contenido\n",
    "- [1. Introducción.](#1)\n",
    "- [Ejercicio 1. Solución de un problema con el método de Euler](#ej-1)\n",
    "    - [Lista de cotejo](#ej-1-lista)\n",
    "- [Solución.](#2)\n",
    "    - [Definición de los parámetros del problema.](#2-1)\n",
    "    - [Descripción del algoritmo de solución para una $N_t$ fija.](#2-2)\n",
    "    - [Implementación del algoritmo de solución para una $N_t$ fija.](#2-3)\n",
    "    - [Descripción e implementación del algoritmo de solución para $N_t$ variable.](#2-4)\n",
    "    - [Reproducción de la gráfica.](#2-5)"
   ]
  },
  {
   "cell_type": "markdown",
   "id": "d4f013ff-bb3d-440d-a18c-7ac4a5109009",
   "metadata": {
    "nbgrader": {
     "grade": false,
     "grade_id": "cell-94661db01a01795f",
     "locked": true,
     "schema_version": 3,
     "solution": false,
     "task": false
    }
   },
   "source": [
    "<a name='1'></a>\n",
    "## Introducción\n",
    "En el estudio de crecimiento de poblaciones, limitadas por competencia por alimentos, se tiene un modelo matemático conocido como la ecuación logística:\n",
    "\n",
    "$$\n",
    "\\begin{eqnarray*}\n",
    "\t\\frac{d y(t)}{d t} & = & \\lambda y ( 1 -y), \\qquad \\text{ para }  0 < t  < T_{max} \\\\\n",
    "\ty(0) & = & y_0 \\qquad \\text{(condición inicial)}\n",
    "\\end{eqnarray*}\n",
    "$$\n",
    "\n",
    "donde $y_0$ es la población inicial, $\\lambda > 0$ y $T_{max} = h_t * N_t$. \n",
    "\n",
    "Obsérvese que en este caso la ecuación es no lineal pues del lado derecho aparece un término cuadrático de $y$.\n",
    "\n",
    "Este problema tiene la siguiente solución analítica: $y(t) = \\dfrac{y_0}{y_0 + (1-y_0)e^{-\\lambda t}}$."
   ]
  },
  {
   "cell_type": "markdown",
   "id": "087eabb6",
   "metadata": {
    "nbgrader": {
     "grade": false,
     "grade_id": "cell-6fc69edc24b3cb9d",
     "locked": true,
     "schema_version": 3,
     "solution": false,
     "task": false
    }
   },
   "source": [
    "---\n",
    "<a name='ej-1'></a>\n",
    "## **<font color=\"DodgerBlue\">Ejercicio 1. Solución de un problema con el método de Euler.</font>**\n",
    "\n",
    "- <font color=\"DarkBlue\"> Escribir la fórmula del método de Euler hacia adelante para este caso.</font>\n",
    "- <font color=\"DarkBlue\"> Diseñar e implementar un algoritmo para calcular la solución.</font>\n",
    "- <font color=\"DarkBlue\"> Reproducir la gráfica que se muestra en la siguiente figura para: $\\lambda = 10$, $T_{max} = 1.0$, $y_0 = 0.01$ y $N_t = 4$, $16$ y $64$.</font>\n",
    "\n",
    "<center>\n",
    "<img src=\"../utils/figs/logistica.png\"  width='500px'/>\n",
    "</center>\n",
    "\n",
    "---"
   ]
  },
  {
   "cell_type": "markdown",
   "id": "5696ebf8-165d-4ba6-b7be-302d17749580",
   "metadata": {
    "nbgrader": {
     "grade": false,
     "grade_id": "cell-8a545dc7424c924b",
     "locked": true,
     "schema_version": 3,
     "solution": false,
     "task": false
    }
   },
   "source": [
    "<a name='ej-1-lista'></a>\n",
    "### Lista de cotejo.\n",
    "\n",
    "1. Definición de los parámetros del problema.\n",
    "2. Descripción del algoritmo de solución para una $N_t$ fija.\n",
    "3. Implementación del algoritmo de solución para una $N_t$ fija.\n",
    "4. Descripción e implementación del algoritmo de solución para $N_t$ variable.\n",
    "6. Reproducción de la gráfica.\n",
    "5. Comparación con la solución analítica, de manera numérica y gráfica, en los puntos 3 y 4."
   ]
  },
  {
   "cell_type": "markdown",
   "id": "35bf8f9a",
   "metadata": {
    "nbgrader": {
     "grade": false,
     "grade_id": "cell-c912b31ac7c12905",
     "locked": true,
     "schema_version": 3,
     "solution": false,
     "task": false
    }
   },
   "source": [
    "<a name=\"2\"></a>\n",
    "## Solución"
   ]
  },
  {
   "cell_type": "code",
   "execution_count": 1,
   "id": "8d14eae4-7ae4-4d16-92f0-1477f1b8fb30",
   "metadata": {
    "nbgrader": {
     "grade": false,
     "grade_id": "cell-b6f4b6e2260cd8ce",
     "locked": true,
     "schema_version": 3,
     "solution": false,
     "task": false
    }
   },
   "outputs": [],
   "source": [
    "import matplotlib.pyplot as plt\n",
    "import numpy as np"
   ]
  },
  {
   "cell_type": "markdown",
   "id": "4f08087a",
   "metadata": {
    "nbgrader": {
     "grade": false,
     "grade_id": "cell-9c021489d3b59560",
     "locked": true,
     "schema_version": 3,
     "solution": false,
     "task": false
    }
   },
   "source": [
    "<a name=\"2-1\"></a>\n",
    "### Definición de los parámetros del problema."
   ]
  },
  {
   "cell_type": "code",
   "execution_count": 6,
   "id": "4ca9f25d",
   "metadata": {
    "nbgrader": {
     "grade": false,
     "grade_id": "cell-68553e4f7a23f471",
     "locked": false,
     "schema_version": 3,
     "solution": true,
     "task": false
    }
   },
   "outputs": [],
   "source": [
    "# Valores de los parámetros\n",
    "#λ    = ... \n",
    "#Tmax = ...\n",
    "#y0   = ...\n",
    "#Nt   = ...\n",
    "\n",
    "### BEGIN SOLUTION\n",
    "λ    = 10.0 # \n",
    "Tmax = 1.0  # Tiempo máximo de simulación.\n",
    "y0   = 0.01 # Condición inicial. \n",
    "Nt   = [4, 16, 64] # Pasos de tiempo para los tres casos.\n",
    "### END SOLUTION"
   ]
  },
  {
   "cell_type": "markdown",
   "id": "f317d22d",
   "metadata": {
    "nbgrader": {
     "grade": false,
     "grade_id": "cell-05eb28877c6c1bc7",
     "locked": true,
     "schema_version": 3,
     "solution": false,
     "task": false
    }
   },
   "source": [
    "<a name=\"2-2\"></a>\n",
    "### Descripción del algoritmo de solución para una $N_t$ fija.\n",
    "\n",
    "Diseñe un algoritmo, tómele una foto o screenshot, use el nombre `algoritmo.png` y ponga esa imagen en el directorio `utils/figs`."
   ]
  },
  {
   "cell_type": "markdown",
   "id": "b0e74098",
   "metadata": {
    "nbgrader": {
     "grade": true,
     "grade_id": "cell-1fc32fd25a2aa67c",
     "locked": false,
     "points": 0,
     "schema_version": 3,
     "solution": true,
     "task": false
    }
   },
   "source": [
    "<center>\n",
    "<img src=\"../utils/figs/algoritmo.png\"  width='100px'/>\n",
    "</center>"
   ]
  },
  {
   "cell_type": "markdown",
   "id": "a4d47ea1",
   "metadata": {
    "nbgrader": {
     "grade": false,
     "grade_id": "cell-1de1eede3cf6cfd1",
     "locked": true,
     "schema_version": 3,
     "solution": false,
     "task": false
    }
   },
   "source": [
    "<a name=\"2-3\"></a>\n",
    "### Implementación del algoritmo de solución para una $N_t$ fija."
   ]
  },
  {
   "cell_type": "code",
   "execution_count": 14,
   "id": "e80053fe",
   "metadata": {
    "nbgrader": {
     "grade": false,
     "grade_id": "cell-93faaa14f5b18ea6",
     "locked": false,
     "schema_version": 3,
     "solution": true,
     "task": false
    }
   },
   "outputs": [
    {
     "name": "stdout",
     "output_type": "stream",
     "text": [
      "Error numérico : 0.74879\n"
     ]
    },
    {
     "data": {
      "text/plain": [
       "[<matplotlib.lines.Line2D at 0x7f77c3593340>]"
      ]
     },
     "execution_count": 14,
     "metadata": {},
     "output_type": "execute_result"
    },
    {
     "data": {
      "image/png": "[encoded data removed]",
      "text/plain": [
       "<Figure size 432x288 with 1 Axes>"
      ]
     },
     "metadata": {
      "needs_background": "light"
     },
     "output_type": "display_data"
    }
   ],
   "source": [
    "# Código para el cálculo de la solución analítica\n",
    "# \n",
    "# A continuación implemente su algoritmo\n",
    "# Use:\n",
    "# t :para el arreglo con los pasos de tiempo\n",
    "# ht : para el paso de tiempo\n",
    "# y0 : para el valor inicial\n",
    "# y : para almacenar la solución\n",
    "# ye : para la solución exacta\n",
    "# error : para almacenar el error (norma L-2)\n",
    "\n",
    "### BEGIN SOLUTION\n",
    "ht = Tmax / Nt[0]\n",
    "t  = np.linspace(0, Tmax, Nt[0]+1)\n",
    "y  = [y0]\n",
    "\n",
    "# Cálculo de la solución exacta\n",
    "ye = y0 /(y0 + (1-y0) * np.exp(-λ * t) )\n",
    "\n",
    "# Función f(t,y)\n",
    "f = lambda y : λ * y * (1 - y)\n",
    "\n",
    "for n in range(0, Nt[0]):\n",
    "    ynew = y[n] + ht * f(y[n]) # Método de Euler hacia adelante\n",
    "    y.append(ynew)             # Agregamos el valor calculado al arreglo\n",
    "\n",
    "error = np.linalg.norm(y - ye, 2)\n",
    "### END SOLUTION\n",
    "\n",
    "print('Error numérico : {:0.5f}'.format(error))\n",
    "\n",
    "# Imprimimos y graficamos la solución\n",
    "plt.plot(t, y, 'o-')\n",
    "\n",
    "# Cálculo de la solución exacta para graficarla\n",
    "te = np.linspace(0, Tmax, 100)\n",
    "ye = y0 /(y0 + (1-y0) * np.exp(-λ * te) )\n",
    "plt.plot(te, ye, 'k-', lw=4, alpha=0.5)"
   ]
  },
  {
   "cell_type": "markdown",
   "id": "66fb6090",
   "metadata": {
    "nbgrader": {
     "grade": false,
     "grade_id": "cell-d383edc1a05e1f29",
     "locked": true,
     "schema_version": 3,
     "solution": false,
     "task": false
    }
   },
   "source": [
    "<a name=\"2-4\"></a>\n",
    "### Descripción e implementación del algoritmo de solución para $N_t$ variable y que reproduzca la gráfica anterior.\n",
    "\n",
    "Agregue una imagen del algoritmo.\n",
    "\n",
    "**Hint**: Defina una función como la que sigue para realizar los cálculos para una $N_t$ dada:\n",
    "\n",
    "```python\n",
    "def solLogistica(λ, y0, Tmax, i):\n",
    "    ...\n",
    "    return t, y, error\n",
    "```\n",
    "En esta función debe determinar que variable(s) dependen del índice `i`."
   ]
  },
  {
   "cell_type": "code",
   "execution_count": 11,
   "id": "dced2fce",
   "metadata": {
    "nbgrader": {
     "grade": false,
     "grade_id": "cell-88bbc5f0ed66a33a",
     "locked": false,
     "schema_version": 3,
     "solution": true,
     "task": false
    }
   },
   "outputs": [],
   "source": [
    "# Función que calcula la solución\n",
    "#\n",
    "\n",
    "### BEGIN SOLUTION\n",
    "def solLogistica(λ, y0, Tmax, i):\n",
    "    ht = Tmax / Nt[i]\n",
    "    t  = np.linspace(0, Tmax, Nt[i]+1)\n",
    "    y  = [y0]\n",
    "\n",
    "    # Cálculo de la solución exacta    \n",
    "    ye = y0 /(y0 + (1-y0) * np.exp(-λ * t) )\n",
    "\n",
    "    # Función f(t,y)\n",
    "    f = lambda y : λ * y * (1 - y)\n",
    "\n",
    "    for n in range(0, Nt[i]):\n",
    "        ynew = y[n] + ht * f(y[n]) # Método de Euler hacia adelante\n",
    "        y.append(ynew)             # Agregamos el valor calculado al arreglo\n",
    "\n",
    "    error = np.linalg.norm(y - ye, 2)\n",
    "    \n",
    "    return t, y, error\n",
    "### END SOLUTION"
   ]
  },
  {
   "cell_type": "markdown",
   "id": "e9b34dea",
   "metadata": {
    "nbgrader": {
     "grade": false,
     "grade_id": "cell-d05bc10f065f48e3",
     "locked": true,
     "schema_version": 3,
     "solution": false,
     "task": false
    }
   },
   "source": [
    "<a name=\"2-5\"></a>\n",
    "### Reproducción de la gráfica:\n",
    "\n",
    "**Hint**: En la siguiente celda debe agregar un ciclo similar al siguiente:\n",
    "\n",
    "```python\n",
    "for i in range(0,3):\n",
    "    t, y, e = solLogistica(...)\n",
    "    ...\n",
    "    plt.plot(...)\n",
    "```"
   ]
  },
  {
   "cell_type": "code",
   "execution_count": 12,
   "id": "1149ac59",
   "metadata": {
    "nbgrader": {
     "grade": false,
     "grade_id": "cell-dcdd7ec8ff8a93c0",
     "locked": false,
     "schema_version": 3,
     "solution": true,
     "task": false
    }
   },
   "outputs": [
    {
     "data": {
      "image/png": "[encoded data removed]",
      "text/plain": [
       "<Figure size 720x360 with 1 Axes>"
      ]
     },
     "metadata": {
      "needs_background": "light"
     },
     "output_type": "display_data"
    }
   ],
   "source": [
    "fig = plt.figure(figsize=(10,5))\n",
    "fig.suptitle('Función logística', ha = 'right', va='top', x = 0.30, fontsize=16)\n",
    "\n",
    "color =['C0', 'g', 'C4']\n",
    "marca = ['o', 'v', 'P']\n",
    "\n",
    "# Agrege un código que calcule la solución para Nt = 4, 16, 64\n",
    "#\n",
    "### BEGIN SOLUTION\n",
    "for i in range(0,3):\n",
    "    t, y, e = solLogistica(λ, y0, Tmax, i)\n",
    "    Parametros = ' $N_t$' + '= {}'.format(Nt[i])\n",
    "    Error = ', Error: {:6.5f}'.format(e)\n",
    "    plt.plot(t, y, '--', c=color[i], marker=marca[i], lw = 1.0, label=Parametros + Error)\n",
    "### END SOLUTION\n",
    "\n",
    "plt.title('$y(t) = \\dfrac{y0}{y0 + (1 -y0)e^{-\\lambda t}}$', fontsize=12, color='blue')\n",
    "plt.xlabel('$t$')\n",
    "plt.ylabel('$y(t)$')\n",
    "\n",
    "# Cálculo de la solución exacta para graficar\n",
    "te = np.linspace(0, Tmax, 100)\n",
    "ye = y0 /(y0 + (1-y0) * np.exp(-λ * te) )\n",
    "plt.plot(te, ye, 'k-', lw=4, alpha=0.5)\n",
    "\n",
    "plt.legend(loc='upper left', ncol=1, framealpha=0.75, fancybox=True, fontsize=14)\n",
    "plt.grid()"
   ]
  },
  {
   "cell_type": "code",
   "execution_count": null,
   "id": "da8d2b1a",
   "metadata": {},
   "outputs": [],
   "source": []
  }
 ],
 "metadata": {
  "celltoolbar": "Create Assignment",
  "kernelspec": {
   "display_name": "Python 3 (ipykernel)",
   "language": "python",
   "name": "python3"
  },
  "language_info": {
   "codemirror_mode": {
    "name": "ipython",
    "version": 3
   },
   "file_extension": ".py",
   "mimetype": "text/x-python",
   "name": "python",
   "nbconvert_exporter": "python",
   "pygments_lexer": "ipython3",
   "version": "3.11.2"
  }
 },
 "nbformat": 4,
 "nbformat_minor": 5
}
