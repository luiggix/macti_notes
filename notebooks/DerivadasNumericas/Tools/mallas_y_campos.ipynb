{
 "cells": [
  {
   "cell_type": "markdown",
   "metadata": {},
   "source": [
    "# Campos escalares y vectoriales\n",
    "\n",
    "## Matplotlib: anatomía de una figura.\n",
    "\n",
    "![hello](https://matplotlib.org/stable/_images/anatomy.png)"
   ]
  },
  {
   "cell_type": "markdown",
   "metadata": {},
   "source": [
    "**Matplotlib** es una biblioteca de Python multiplataforma para generar gráficos (plots) en dos dimensiones con las siguientes características: \n",
    "\n",
    "* Se puede usar en una variedad de ámbitos:\n",
    "    - Scripts de Python, Shells de IPython, Notebooks de Jupyter, Aplicaciones para Web e Interfaces Gráficas de Usuario (GUI). \n",
    "* Se puede usar para desarrollar aplicaciones profesionales.\n",
    "* Puede generar varios tipos de formatos de figuras y videos:\n",
    "    - png, jpg, svg, pdf, mp4, ...\n",
    "* Tiene un soporte limitado para realizar figuras en 3D.\n",
    "* Puede combinarse con otras bibliotecas y aplicaciones para extender su funcionalidad.\n",
    "\n",
    "**Arquitectura** de tres capas:\n",
    "* **Scripting**: API para crear gráficas.\n",
    "    - Provee de una interfaz simple para crear gráficas.\n",
    "    - Está orientada a usuarios sin mucha experiencia en la programación.\n",
    "    - Es lo que se conoce como el API de pyplot.\n",
    "* **Artist**: Hace el trabajo interno de creación de los elementos de la gráfica.\n",
    "   - Los Artist (¿artesanos?) dibujan los elementos de la gráfica.\n",
    "   - Cada elemento que se ve en la gráfica es un Artist.\n",
    "   - Provee de un API orientado a objetos muy flexible.\n",
    "   - Está orientado a programadores expertos para crear aplicaciones complejas.\n",
    "* **Backend**: El lugar donde se despliega la gráfica. Las gráficas se envían a un dispositivo de salida. Puede ser cualquier interfaz que soporta Matplotlib:\n",
    "   - User interface backends (interactive backends): pygtk, wxpython, tkinter, qt4, macosx, … \n",
    "   - Hard-copy backends (non-interactive backends): .png, .svg, .pdf, .ps"
   ]
  },
  {
   "cell_type": "code",
   "execution_count": 4,
   "metadata": {},
   "outputs": [],
   "source": [
    "import numpy as np\n",
    "import matplotlib.pyplot as plt\n",
    "import macti.visual as mvis\n",
    "from mpl_toolkits.axes_grid1 import make_axes_locatable\n",
    "\n",
    "# TODO: hacer este cambio en macti.visual\n",
    "plt.rcParams['axes.grid'] = False"
   ]
  },
  {
   "cell_type": "code",
   "execution_count": 2,
   "metadata": {},
   "outputs": [
    {
     "data": {
      "text/plain": [
       "<Figure size 640x480 with 0 Axes>"
      ]
     },
     "metadata": {},
     "output_type": "display_data"
    }
   ],
   "source": [
    "# Se crea una figura vacía, sin ejes.\n",
    "fig = plt.figure()  "
   ]
  },
  {
   "cell_type": "code",
   "execution_count": 5,
   "metadata": {},
   "outputs": [
    {
     "data": {
      "image/png": "[encoded data removed]",
      "text/plain": [
       "<Figure size 512x384 with 1 Axes>"
      ]
     },
     "metadata": {},
     "output_type": "display_data"
    }
   ],
   "source": [
    "# Se crea una figura con un conjunto de ejes\n",
    "fig, ax = plt.subplots()  "
   ]
  },
  {
   "cell_type": "code",
   "execution_count": 6,
   "metadata": {},
   "outputs": [
    {
     "data": {
      "image/png": "[encoded data removed]",
      "text/plain": [
       "<Figure size 512x384 with 4 Axes>"
      ]
     },
     "metadata": {},
     "output_type": "display_data"
    }
   ],
   "source": [
    "# Se crea una figura con una \"rejilla\" de ejes de 2x2\n",
    "fig, axs = plt.subplots(2, 2)  "
   ]
  },
  {
   "cell_type": "markdown",
   "metadata": {},
   "source": [
    "## Definición de una malla"
   ]
  },
  {
   "cell_type": "code",
   "execution_count": 7,
   "metadata": {},
   "outputs": [
    {
     "name": "stdout",
     "output_type": "stream",
     "text": [
      "hx = 0.2, hy = 0.2\n"
     ]
    }
   ],
   "source": [
    "# Tamaño del dominio\n",
    "Lx = 2.0\n",
    "Ly = 1.0\n",
    "\n",
    "# Número de nodos en cada eje\n",
    "Nx = 9\n",
    "Ny = 4\n",
    "\n",
    "# Tamaño de la malla en cada dirección\n",
    "hx = Lx / (Nx+1)\n",
    "hy = Ly / (Ny+1)\n",
    "\n",
    "print('hx = {}, hy = {}'.format(hx, hy))"
   ]
  },
  {
   "cell_type": "code",
   "execution_count": 8,
   "metadata": {},
   "outputs": [
    {
     "name": "stdout",
     "output_type": "stream",
     "text": [
      "Total de nodos en x = 11, en y = 6\n",
      "Coordenadas en x : [0.  0.2 0.4 0.6 0.8 1.  1.2 1.4 1.6 1.8 2. ]\n",
      "Coordenadas en y : [0.  0.2 0.4 0.6 0.8 1. ]\n"
     ]
    }
   ],
   "source": [
    "# Número total de nodos incluyendo las fronteras\n",
    "NxT = Nx + 2\n",
    "NyT = Ny + 2\n",
    "\n",
    "# Coordenadas de la malla\n",
    "xn = np.linspace(0,Lx,NxT)\n",
    "yn = np.linspace(0,Ly,NyT)\n",
    "\n",
    "print('Total de nodos en x = {}, en y = {}'.format(NxT, NyT))\n",
    "print('Coordenadas en x : {}'.format(xn))\n",
    "print('Coordenadas en y : {}'.format(yn))"
   ]
  },
  {
   "cell_type": "code",
   "execution_count": 9,
   "metadata": {},
   "outputs": [
    {
     "name": "stdout",
     "output_type": "stream",
     "text": [
      "[[0.  0.  0.  0.  0.  0. ]\n",
      " [0.2 0.2 0.2 0.2 0.2 0.2]\n",
      " [0.4 0.4 0.4 0.4 0.4 0.4]\n",
      " [0.6 0.6 0.6 0.6 0.6 0.6]\n",
      " [0.8 0.8 0.8 0.8 0.8 0.8]\n",
      " [1.  1.  1.  1.  1.  1. ]\n",
      " [1.2 1.2 1.2 1.2 1.2 1.2]\n",
      " [1.4 1.4 1.4 1.4 1.4 1.4]\n",
      " [1.6 1.6 1.6 1.6 1.6 1.6]\n",
      " [1.8 1.8 1.8 1.8 1.8 1.8]\n",
      " [2.  2.  2.  2.  2.  2. ]]\n",
      "[[0.  0.2 0.4 0.6 0.8 1. ]\n",
      " [0.  0.2 0.4 0.6 0.8 1. ]\n",
      " [0.  0.2 0.4 0.6 0.8 1. ]\n",
      " [0.  0.2 0.4 0.6 0.8 1. ]\n",
      " [0.  0.2 0.4 0.6 0.8 1. ]\n",
      " [0.  0.2 0.4 0.6 0.8 1. ]\n",
      " [0.  0.2 0.4 0.6 0.8 1. ]\n",
      " [0.  0.2 0.4 0.6 0.8 1. ]\n",
      " [0.  0.2 0.4 0.6 0.8 1. ]\n",
      " [0.  0.2 0.4 0.6 0.8 1. ]\n",
      " [0.  0.2 0.4 0.6 0.8 1. ]]\n"
     ]
    }
   ],
   "source": [
    "# Generación de una rejilla\n",
    "xg, yg = np.meshgrid(xn, yn, indexing='ij')\n",
    "\n",
    "print(xg)\n",
    "print(yg)"
   ]
  },
  {
   "cell_type": "code",
   "execution_count": 10,
   "metadata": {},
   "outputs": [
    {
     "data": {
      "image/png": "[encoded data removed]",
      "text/plain": [
       "<Figure size 512x384 with 1 Axes>"
      ]
     },
     "metadata": {},
     "output_type": "display_data"
    }
   ],
   "source": [
    "# Dibujamos los puntos de la malla\n",
    "plt.scatter(xg,yg)\n",
    "plt.show()"
   ]
  },
  {
   "cell_type": "markdown",
   "metadata": {},
   "source": [
    "Lo que hemos hecho hasta ahora es usar pyplot (`plt`) para realizar las gráficas. Vayamos un nivel más abajo para tener más control. Esto permitirá construir varias subgráficas, cada una con sus propios ejes."
   ]
  },
  {
   "cell_type": "code",
   "execution_count": 11,
   "metadata": {},
   "outputs": [
    {
     "data": {
      "image/png": "[encoded data removed]",
      "text/plain": [
       "<Figure size 512x384 with 1 Axes>"
      ]
     },
     "metadata": {},
     "output_type": "display_data"
    }
   ],
   "source": [
    "# Obtenemos los ejes de la figura actual\n",
    "ax = plt.gca()\n",
    "\n",
    "# Razón de aspecto de la figura\n",
    "ax.set_aspect('equal')\n",
    "\n",
    "# Se grafican los puntos de la malla\n",
    "ax.scatter(xg,yg)\n",
    "\n",
    "plt.show()"
   ]
  },
  {
   "cell_type": "markdown",
   "metadata": {},
   "source": [
    "Usando las funciones `vlines` y `hlines` es posible dibujar líneas verticales y horizontales; con ellas podemos dibujar el dominio de la malla (un rectángulo)."
   ]
  },
  {
   "cell_type": "code",
   "execution_count": 12,
   "metadata": {},
   "outputs": [
    {
     "data": {
      "image/png": "[encoded data removed]",
      "text/plain": [
       "<Figure size 512x384 with 1 Axes>"
      ]
     },
     "metadata": {},
     "output_type": "display_data"
    }
   ],
   "source": [
    "ax = plt.gca()\n",
    "ax.set_aspect('equal')\n",
    "\n",
    "# Dibujamos dos líneas verticales\n",
    "ax.vlines(xn[0], ymin=yn[0], ymax=yn[-1])\n",
    "ax.vlines(xn[-1], ymin=yn[0], ymax=yn[-1])\n",
    "\n",
    "# Dibujamos dos líneas horizontales\n",
    "ax.hlines(yn[0], xmin=xn[0], xmax=xn[-1])\n",
    "ax.hlines(yn[-1], xmin=xn[0], xmax=xn[-1])\n",
    "\n",
    "plt.show()"
   ]
  },
  {
   "cell_type": "markdown",
   "metadata": {},
   "source": [
    "Si vamos un poco más allá, podemos usar nuevamente las funciones `vlines` y `hlines` para dibujar la malla; lo anterior se logra mediante el uso de ciclos `for`."
   ]
  },
  {
   "cell_type": "code",
   "execution_count": 13,
   "metadata": {},
   "outputs": [
    {
     "data": {
      "image/png": "[encoded data removed]",
      "text/plain": [
       "<Figure size 512x384 with 1 Axes>"
      ]
     },
     "metadata": {},
     "output_type": "display_data"
    }
   ],
   "source": [
    "ax = plt.gca()\n",
    "ax.set_aspect('equal')\n",
    "\n",
    "# Elminamos las marcas sobre los ejes\n",
    "ax.set_xticks([])\n",
    "ax.set_yticks([])\n",
    "    \n",
    "# Dibujamos todas las líneas verticales de la malla\n",
    "for xi in xn:\n",
    "    ax.vlines(xi, ymin=yn[0], ymax=yn[-1], lw=0.5, color='darkgray')\n",
    "\n",
    "# Dibujamos todas las líneas horizontales de la malla\n",
    "for yi in yn:\n",
    "    ax.hlines(yi, xmin=xn[0], xmax=xn[-1], lw=0.5, color='darkgray')\n",
    "\n",
    "# Dibujamos un punto en cada nodo de la malla\n",
    "ax.scatter(xg,yg, marker='.', color='darkgray')\n",
    "\n",
    "plt.show()"
   ]
  },
  {
   "cell_type": "markdown",
   "metadata": {},
   "source": [
    "Con lo aprendido hasta ahora, podemos definir tres funciones:\n",
    "- `set_axes()` : para configurar los ejes de la figura.\n",
    "- `plot_mesh()` : para dibujar la malla.\n",
    "- `plot_frame()` : para dibujar el contorno de la malla (las fronteras)."
   ]
  },
  {
   "cell_type": "code",
   "execution_count": 14,
   "metadata": {},
   "outputs": [],
   "source": [
    "def set_axes(ax):\n",
    "    \"\"\"\n",
    "    Configura la razón de aspecto, quita las marcas de los ejes y el marco.\n",
    "    \n",
    "    Parameters\n",
    "    ----------\n",
    "    ax: axis\n",
    "    Ejes que se vana configurar.\n",
    "    \"\"\"\n",
    "    ax.set_aspect('equal') \n",
    "    ax.set_xticks([])\n",
    "    ax.set_yticks([])\n",
    "    ax.spines['bottom'].set_visible(False)\n",
    "    ax.spines['left'].set_visible(False)\n",
    "    \n",
    "def plot_mesh(ax, xg, yg):\n",
    "    \"\"\"\n",
    "    Dibuja la malla del dominio.\n",
    "    \n",
    "    Paramters\n",
    "    ---------\n",
    "    ax: axis\n",
    "    Son los ejes donde se dibujará la malla.\n",
    "    \n",
    "    xn: np.array\n",
    "    Coordenadas en x de la malla.\n",
    "    \n",
    "    yn: np.array\n",
    "    Coordenadas en y de la malla.\n",
    "    \"\"\"\n",
    "    set_axes(ax)\n",
    "    \n",
    "    xn = xg[:,0]\n",
    "    yn = yg[0,:]\n",
    "    for xi in xn:\n",
    "        ax.vlines(xi, ymin=yn[0], ymax=yn[-1], lw=0.5, color='darkgray')\n",
    "        \n",
    "    for yi in yn:\n",
    "        ax.hlines(yi, xmin=xn[0], xmax=xn[-1], lw=0.5, color='darkgray')\n",
    "        \n",
    "    ax.scatter(xg, yg, marker='.', color='darkgray')\n",
    "    \n",
    "def plot_frame(ax, xn, yn, lw = 0.5, color = 'k'):\n",
    "    \"\"\"\n",
    "    Dibuja el recuadro de la malla.\n",
    "    \n",
    "    Paramters\n",
    "    ---------\n",
    "    ax: axis\n",
    "    Son los ejes donde se dibujará la malla.\n",
    "    \n",
    "    xn: np.array\n",
    "    Coordenadas en x de la malla.\n",
    "    \n",
    "    yn: np.array\n",
    "    Coordenadas en y de la malla.\n",
    "    \"\"\"\n",
    "    set_axes(ax)\n",
    "    \n",
    "    # Dibujamos dos líneas verticales\n",
    "    ax.vlines(xn[0], ymin=yn[0], ymax=yn[-1], lw = lw, color=color)\n",
    "    ax.vlines(xn[-1], ymin=yn[0], ymax=yn[-1], lw = lw, color=color)\n",
    "\n",
    "    # Dibujamos dos líneas horizontales\n",
    "    ax.hlines(yn[0], xmin=xn[0], xmax=xn[-1], lw = lw, color=color)\n",
    "    ax.hlines(yn[-1], xmin=xn[0], xmax=xn[-1], lw = lw, color=color)"
   ]
  },
  {
   "cell_type": "markdown",
   "metadata": {},
   "source": [
    "Ahora usamos la funciones anteriores para dibujar la malla junto con su contorno."
   ]
  },
  {
   "cell_type": "code",
   "execution_count": 15,
   "metadata": {},
   "outputs": [
    {
     "data": {
      "image/png": "[encoded data removed]",
      "text/plain": [
       "<Figure size 512x384 with 1 Axes>"
      ]
     },
     "metadata": {},
     "output_type": "display_data"
    }
   ],
   "source": [
    "ax = plt.gca()\n",
    "\n",
    "# Ejecutamos la función plot_mesh(...)\n",
    "plot_mesh(ax, xg, yg)\n",
    "\n",
    "# Dibujamos el recuadro con la función plot_fame(...)\n",
    "plot_frame(ax, xn, yn)"
   ]
  },
  {
   "cell_type": "markdown",
   "metadata": {},
   "source": [
    "## Definición de un campo escalar\n",
    "\n",
    "Un campo escalar en 2D, es una función que para cada par $(x,y)$ define un solo valor. Matemáticamente tenemos:\n",
    "\n",
    "$$\n",
    "f(x,y) : \\mathbb{R}^2 \\to \\mathbb{R}\n",
    "$$\n",
    "\n",
    "Definimos el campo escalar $T(x,y)$ en la malla que hemos construido antes como sigue:"
   ]
  },
  {
   "cell_type": "code",
   "execution_count": 16,
   "metadata": {},
   "outputs": [
    {
     "name": "stdout",
     "output_type": "stream",
     "text": [
      "Campo escalar T:\n",
      " [[ 0.          0.          0.          0.          0.          0.        ]\n",
      " [ 0.          0.84147098  0.90929743  0.14112001 -0.7568025  -0.95892427]\n",
      " [ 0.          0.90929743 -0.7568025  -0.2794155   0.98935825 -0.54402111]\n",
      " [ 0.          0.14112001 -0.2794155   0.41211849 -0.53657292  0.65028784]\n",
      " [ 0.         -0.7568025   0.98935825 -0.53657292 -0.28790332  0.91294525]\n",
      " [ 0.         -0.95892427 -0.54402111  0.65028784  0.91294525 -0.13235175]\n",
      " [ 0.         -0.2794155  -0.53657292 -0.75098725 -0.90557836 -0.98803162]\n",
      " [ 0.          0.6569866   0.99060736  0.83665564  0.27090579 -0.42818267]\n",
      " [ 0.          0.98935825 -0.28790332 -0.90557836  0.55142668  0.74511316]\n",
      " [ 0.          0.41211849 -0.75098725  0.95637593 -0.99177885  0.85090352]\n",
      " [ 0.         -0.54402111  0.91294525 -0.98803162  0.74511316 -0.26237485]]\n"
     ]
    }
   ],
   "source": [
    "# Definición de un campo escalar en cada punto de la malla\n",
    "T = np.zeros((NxT, NyT))\n",
    "\n",
    "# Asignamos un valor a cada entrada del arreglo\n",
    "for i in range(NxT):\n",
    "    for j in range(NyT):\n",
    "        T[i,j] = np.sin(i*j)\n",
    "        \n",
    "print('Campo escalar T:\\n {}'.format(T))"
   ]
  },
  {
   "cell_type": "code",
   "execution_count": 17,
   "metadata": {},
   "outputs": [
    {
     "data": {
      "image/png": "[encoded data removed]",
      "text/plain": [
       "<Figure size 512x384 with 2 Axes>"
      ]
     },
     "metadata": {},
     "output_type": "display_data"
    }
   ],
   "source": [
    "ax = plt.gca()\n",
    "\n",
    "# Hacemos una gráfica de contornos \"llenos\" del campo escalar.\n",
    "c = ax.contourf(xg, yg, T, levels=50, cmap='inferno')\n",
    "\n",
    "# Creamos una barra de color\n",
    "plt.colorbar(c)\n",
    "plt.show()"
   ]
  },
  {
   "cell_type": "markdown",
   "metadata": {},
   "source": [
    "Lo interesante sería dibujar también la malla junto con el campo escalar. Eso lo hacemos como siguue:"
   ]
  },
  {
   "cell_type": "code",
   "execution_count": 18,
   "metadata": {},
   "outputs": [
    {
     "data": {
      "image/png": "[encoded data removed]",
      "text/plain": [
       "<Figure size 512x384 with 2 Axes>"
      ]
     },
     "metadata": {},
     "output_type": "display_data"
    }
   ],
   "source": [
    "ax = plt.gca()\n",
    "\n",
    "# Hacemos una gráfica de contornos \"llenos\" del campo escalar.\n",
    "c = ax.contourf(xg, yg, T, levels=50, cmap='inferno')\n",
    "\n",
    "# Se dibuja la malla\n",
    "plot_mesh(ax, xg, yg)\n",
    "\n",
    "plt.colorbar(c)\n",
    "plt.show()"
   ]
  },
  {
   "cell_type": "markdown",
   "metadata": {},
   "source": [
    "En la gráfica anterior, la barra de color es muy grande. Esto se puede ajustar como sigue"
   ]
  },
  {
   "cell_type": "code",
   "execution_count": null,
   "metadata": {},
   "outputs": [],
   "source": [
    "ax = plt.gca()\n",
    "ax.set_aspect('equal')\n",
    "\n",
    "# Definimos los límites de los ejes\n",
    "lmax = max(Lx,Ly)   # El máximo entre Lx y Ly\n",
    "offx = lmax * 0.01  # Definimos una pequeña compensación \n",
    "offy = lmax * 0.01  # para hacer la gráfica, igual en ambas direcciones\n",
    "ax.set_xlim(-offx, Lx+offx) # Definimos los límites\n",
    "ax.set_ylim(-offy, Ly+offy) # de la gráfica\n",
    "\n",
    "# Creamos un espacio fijo para la barra (unos ejes espaciales)\n",
    "divider = make_axes_locatable(ax)\n",
    "cax = divider.append_axes(\"right\", \"5%\", pad=\"3%\")\n",
    "cax.set_xticks([])\n",
    "cax.set_yticks([])\n",
    "cax.spines['bottom'].set_visible(False)\n",
    "cax.spines['left'].set_visible(False)\n",
    "\n",
    "# Dibujamos el campo escalar y la malla\n",
    "c = ax.contourf(xg, yg, T, levels=50, cmap='inferno')\n",
    "plot_mesh(ax, xg, yg)\n",
    "\n",
    "# Dibujamos la barra de color en los ejes cax\n",
    "fig = plt.gcf()\n",
    "fig.colorbar(c, cax=cax, ticks=[-0.9, 0.0, 0.9], orientation='vertical')\n",
    "\n",
    "plt.show()"
   ]
  },
  {
   "cell_type": "markdown",
   "metadata": {},
   "source": [
    "Encapsulamos el código anterior en la función `set_canvas()`."
   ]
  },
  {
   "cell_type": "code",
   "execution_count": null,
   "metadata": {},
   "outputs": [],
   "source": [
    "def set_canvas(ax, Lx, Ly):\n",
    "    \"\"\"\n",
    "    Configura un lienzo para hacer las gráficas más estéticas.\n",
    "    \n",
    "    Parameters\n",
    "    ----------\n",
    "    ax: axis\n",
    "    Son los ejes que se van a configurar.\n",
    "    \n",
    "    Lx: float\n",
    "    Tamaño del dominio en dirección x.\n",
    "    \n",
    "    Ly: float\n",
    "    Tamaño del dominio en dirección y.\n",
    "    \n",
    "    Returns\n",
    "    -------\n",
    "    cax: axis\n",
    "    Eje donde se dibuja el mapa de color.\n",
    "    \"\"\"\n",
    "    set_axes(ax)\n",
    "\n",
    "    lmax = max(Lx,Ly)\n",
    "    offx = lmax * 0.01\n",
    "    offy = lmax * 0.01\n",
    "    ax.set_xlim(-offx, Lx+offx)\n",
    "    ax.set_ylim(-offy, Ly+offy)\n",
    "    ax.grid(False)\n",
    "    \n",
    "    ax.set_aspect('equal')\n",
    "    divider = make_axes_locatable(ax)\n",
    "    cax = divider.append_axes(\"right\", \"5%\", pad=\"3%\")\n",
    "    cax.set_xticks([])\n",
    "    cax.set_yticks([])\n",
    "    cax.spines['bottom'].set_visible(False)\n",
    "    cax.spines['left'].set_visible(False)\n",
    "    \n",
    "    return cax"
   ]
  },
  {
   "cell_type": "code",
   "execution_count": null,
   "metadata": {},
   "outputs": [],
   "source": [
    "# Probamos la función set_canvas(...)\n",
    "ax = plt.gca()\n",
    "set_canvas(ax, Lx, Ly)\n",
    "\n",
    "plt.show()"
   ]
  },
  {
   "cell_type": "markdown",
   "metadata": {},
   "source": [
    "Observa que se muestra un \"lienzo\" vacío donde podemos realizar nuestra gráfica. Por ejemplo, podemos dibujar la malla:"
   ]
  },
  {
   "cell_type": "code",
   "execution_count": null,
   "metadata": {},
   "outputs": [],
   "source": [
    "# Ahora dibujamos la malla dentro del canvas.\n",
    "ax = plt.gca()\n",
    "cax = set_canvas(ax, Lx, Ly)\n",
    "plot_mesh(ax, xg, yg)"
   ]
  },
  {
   "cell_type": "markdown",
   "metadata": {},
   "source": [
    "Y también podemos dibujar la malla, el campo escalar y la barra de color en el lienzo:"
   ]
  },
  {
   "cell_type": "code",
   "execution_count": null,
   "metadata": {},
   "outputs": [],
   "source": [
    "# Ahora dibujamos el campo escalar y la malla\n",
    "ax = plt.gca()\n",
    "cax = set_canvas(ax, Lx, Ly)\n",
    "\n",
    "c = ax.contourf(xg, yg, T, levels=50, cmap='inferno')\n",
    "\n",
    "# Aquí se dibuja la barra de color en los ejes cax.\n",
    "fig.colorbar(c, cax=cax, ticks=[-0.9, 0.0, 0.9], orientation='vertical')\n",
    "\n",
    "plot_mesh(ax, xg, yg)"
   ]
  },
  {
   "cell_type": "markdown",
   "metadata": {},
   "source": [
    "Finalmente, podemos graficar una porción del campo escalar, por ejemplo en una línea para $y$ =constante o en una línea para $x$ 0 constante. Veamos:"
   ]
  },
  {
   "cell_type": "code",
   "execution_count": null,
   "metadata": {},
   "outputs": [],
   "source": [
    "# Hacemos una gráfica de T para y = constante\n",
    "ax = plt.gca()\n",
    "ax.plot(xn,T[:,1])\n",
    "ax.set_xlabel('$x$')\n",
    "ax.set_ylabel('$T$')\n",
    "plt.show()"
   ]
  },
  {
   "cell_type": "code",
   "execution_count": null,
   "metadata": {},
   "outputs": [],
   "source": [
    "# Hacemos una gráfica de T para x = constante\n",
    "ax = plt.gca()\n",
    "ax.plot(yn,T[1,:])\n",
    "ax.set_xlabel('$y$')\n",
    "ax.set_ylabel('$T$')\n",
    "plt.show()"
   ]
  },
  {
   "cell_type": "markdown",
   "metadata": {},
   "source": [
    "Definimos ahora algunos valores sobre la frontera del dominio."
   ]
  },
  {
   "cell_type": "code",
   "execution_count": null,
   "metadata": {},
   "outputs": [],
   "source": [
    "T[: ,-1] = 1.0 # TOP\n",
    "T[-1, :] = 1.0 # RIGHT\n",
    "T[0 , :] = 1.0 # LEFT\n",
    "T[: , 0] = 1.0 # BOTTOM"
   ]
  },
  {
   "cell_type": "code",
   "execution_count": null,
   "metadata": {},
   "outputs": [],
   "source": [
    "ax = plt.gca()\n",
    "cax = set_canvas(ax, Lx, Ly)\n",
    "\n",
    "c = ax.contourf(xg, yg, T, levels=50, cmap='inferno')\n",
    "plot_mesh(ax, xg, yg)\n",
    "\n",
    "fig.colorbar(c, cax=cax, ticks=[-0.9, 0.0, 0.9], orientation='vertical')\n",
    "plt.show()"
   ]
  },
  {
   "cell_type": "code",
   "execution_count": null,
   "metadata": {},
   "outputs": [],
   "source": [
    "# Un punto especiales en el dominio (comienza en 20 y reduce a 2.5)\n",
    "T[NxT//3, NyT//3] = 20"
   ]
  },
  {
   "cell_type": "code",
   "execution_count": null,
   "metadata": {},
   "outputs": [],
   "source": [
    "ax = plt.gca()\n",
    "cax = set_canvas(ax, Lx, Ly)\n",
    "\n",
    "c = ax.contourf(xg, yg, T, levels=50, cmap='inferno')\n",
    "plot_mesh(ax, xg, yg)\n",
    "\n",
    "fig.colorbar(c, cax=cax, ticks=[-0.9, 0.0, 0.9], orientation='vertical')\n",
    "plt.show()"
   ]
  },
  {
   "cell_type": "markdown",
   "metadata": {},
   "source": [
    "## Definición de un campo vectorial\n",
    "\n",
    "Un campo vectorial en 2D, es una función que para cada par $(x,y)$ define dos valores. Matemáticamente tenemos:\n",
    "\n",
    "$$\n",
    "\\vec{V}(x,y) : \\mathbb{R}^2 \\to \\mathbb{R}^2\n",
    "$$\n",
    "\n",
    "donde $(x,y)$ representa las coordenadas de un punto en $\\mathbb{R}^2$. La función vectorial la definimos como $\\vec{V}(x,y) = (v_x,v_y)$, donde $v_x$ y $v_y$ son dos funciones que dependen de la posición $(x,y)$.\n",
    "\n",
    "\n",
    "Ahora, vamos a definir el campo vectorial $\\vec{V}(x,y)$ en la malla que hemos construido antes."
   ]
  },
  {
   "cell_type": "code",
   "execution_count": null,
   "metadata": {},
   "outputs": [],
   "source": [
    "# Definición del campo vectorial (en este caso dos valores por nodo)\n",
    "v = np.zeros((2, NxT, NyT))\n",
    "\n",
    "# Creamos un campo vectorial con las siguientes fórmulas\n",
    "A = 1.0\n",
    "alpha_x = 1.0\n",
    "alpha_y = 1.0\n",
    "\n",
    "# Primera componente del campo vectorial\n",
    "v[0] = -A * np.cos(np.pi * alpha_y * yg / Ly) * np.sin(np.pi * alpha_x * xg / Lx)\n",
    "\n",
    "# Segunda componente del campo vectorial\n",
    "v[1] =  A * np.sin(np.pi * alpha_y * yg / Ly) * np.cos(np.pi * alpha_x * xg / Lx)\n",
    "\n",
    "print('Componente x del campo vectorial:\\n {}'.format(v[0]))\n",
    "print('Componente y del campo vectorial:\\n {}'.format(v[1]))"
   ]
  },
  {
   "cell_type": "markdown",
   "metadata": {},
   "source": [
    "Vamos a graficar cada componente de la velocidad como si fuesen campos escalares independientes"
   ]
  },
  {
   "cell_type": "code",
   "execution_count": null,
   "metadata": {},
   "outputs": [],
   "source": [
    "ax = plt.gca()\n",
    "cax = set_canvas(ax, Lx, Ly)\n",
    "\n",
    "# Componente x del campo vectorial\n",
    "c = ax.contourf(xg, yg, v[0], levels=50, cmap='viridis')\n",
    "fig.colorbar(c, cax=cax, ticks=[-0.9, 0.0, 0.9], orientation='vertical')\n",
    "\n",
    "plot_mesh(ax, xg, yg)"
   ]
  },
  {
   "cell_type": "code",
   "execution_count": null,
   "metadata": {},
   "outputs": [],
   "source": [
    "ax = plt.gca()\n",
    "cax = set_canvas(ax, Lx, Ly)\n",
    "\n",
    "# Componente y del campo vectorial\n",
    "c = ax.contourf(xg, yg, v[1], levels=50, cmap='viridis')\n",
    "fig.colorbar(c, cax=cax, ticks=[-0.9, 0.0, 0.9], orientation='vertical')\n",
    "\n",
    "plot_mesh(ax, xg, yg)\n",
    "plt.show()"
   ]
  },
  {
   "cell_type": "markdown",
   "metadata": {},
   "source": [
    "## Subgráficas en una sola figura.\n",
    "\n",
    "Ahora vamos a graficar las dos componentes de la velocidad en una sola figura, pero en dos subgráficas (subplots)."
   ]
  },
  {
   "cell_type": "code",
   "execution_count": null,
   "metadata": {},
   "outputs": [],
   "source": [
    "# Definimos dos subgráficas: 2 renglones y 1 columna\n",
    "fig, (ax1, ax2) = plt.subplots(2,1)\n",
    "\n",
    "# Primera subgráfica\n",
    "# ----------------------\n",
    "## Definición del lienzo\n",
    "cax1 = set_canvas(ax1, Lx, Ly)\n",
    "\n",
    "## Graficación de la componente x del campo escalar sobre la malla\n",
    "cu = ax1.contourf(xg, yg, v[0], levels=50, cmap='viridis')\n",
    "fig.colorbar(cu, cax=cax1, ticks=[-0.9, 0.0, 0.9], orientation='vertical')\n",
    "plot_mesh(ax1, xg, yg)\n",
    "\n",
    "# Segunda subgráfica\n",
    "# ----------------------\n",
    "## Definición del lienzo\n",
    "cax2 = set_canvas(ax2, Lx, Ly)\n",
    "\n",
    "## Graficación de la componente x del campo escalar sobre la malla\n",
    "cu = ax2.contourf(xg, yg, v[1], levels=50, cmap='viridis')\n",
    "fig.colorbar(cu, cax=cax2, ticks=[-0.9, 0.0, 0.9], orientation='vertical')\n",
    "plot_mesh(ax2, xg, yg)\n",
    "\n",
    "plt.show()"
   ]
  },
  {
   "cell_type": "markdown",
   "metadata": {},
   "source": [
    "Ahora graficamos el campo escalar $T(x,y)$ y el campo vectorial $\\vec{V}(x,y)$, este último usando vectores."
   ]
  },
  {
   "cell_type": "code",
   "execution_count": null,
   "metadata": {},
   "outputs": [],
   "source": [
    "fig, (ax1, ax2) = plt.subplots(2,1)\n",
    "\n",
    "# Primera subgráfica\n",
    "# ----------------------\n",
    "## Definición del lienzo\n",
    "cax1 = set_canvas(ax1, Lx, Ly)\n",
    "\n",
    "## Graficación del campo escalar T sobre la malla\n",
    "cu = ax1.contourf(xg, yg, T, levels=50, cmap='inferno')\n",
    "fig.colorbar(cu, cax=cax1, ticks=[-0.9, 0.0, 0.9], orientation='vertical')\n",
    "plot_mesh(ax1, xg, yg)\n",
    "\n",
    "# Segunda subgráfica\n",
    "# ----------------------\n",
    "## Definición del lienzo\n",
    "cax2 = set_canvas(ax2, Lx, Ly)\n",
    "\n",
    "## Graficación del campo vectorial V sobre la malla\n",
    "cu = ax2.quiver(xg, yg, v[0], v[1])\n",
    "plot_mesh(ax2, xg, yg)\n",
    "\n",
    "plt.show()"
   ]
  },
  {
   "cell_type": "markdown",
   "metadata": {},
   "source": [
    "Finalmente, realizamos cuatro subgráficas."
   ]
  },
  {
   "cell_type": "code",
   "execution_count": null,
   "metadata": {},
   "outputs": [],
   "source": [
    "# Creación de tres gráficas\n",
    "fig, ax = plt.subplots(2,2, figsize=(10,10))\n",
    "\n",
    "# Primera gráfica: la malla\n",
    "cax0 = set_canvas(ax[0, 0], Lx, Ly)\n",
    "plot_mesh(ax[0,0], xg, yg)\n",
    "\n",
    "# Segunda gráfica: campo escalar T\n",
    "cax1 = set_canvas(ax[0,1], Lx, Ly)\n",
    "cu = ax[0,1].contourf(xg, yg, T, levels=50, cmap='inferno')\n",
    "fig.colorbar(cu, cax=cax1, ticks=[-0.9, 0.0, 0.9], orientation='vertical')\n",
    "\n",
    "# Tercera gráfica: campo vectorial V\n",
    "cax2 = set_canvas(ax[1,0], Lx, Ly)\n",
    "cu = ax[1,0].quiver(xg, yg, v[0], v[1])\n",
    "plot_frame(ax[1,0], xn, yn)\n",
    "\n",
    "# Cuarta gráfica: Temperatura en x = constante\n",
    "ax[1,1].plot(xn,T[:,1])\n",
    "ax[1,1].set_xlabel('$x$')\n",
    "ax[1,1].set_ylabel('$T$')\n",
    "\n",
    "plt.tight_layout()\n",
    "plt.savefig('figura.pdf')\n",
    "plt.show()"
   ]
  },
  {
   "cell_type": "code",
   "execution_count": null,
   "metadata": {},
   "outputs": [],
   "source": []
  }
 ],
 "metadata": {
  "kernelspec": {
   "display_name": "Python 3 (ipykernel)",
   "language": "python",
   "name": "python3"
  },
  "language_info": {
   "codemirror_mode": {
    "name": "ipython",
    "version": 3
   },
   "file_extension": ".py",
   "mimetype": "text/x-python",
   "name": "python",
   "nbconvert_exporter": "python",
   "pygments_lexer": "ipython3",
   "version": "3.10.7"
  }
 },
 "nbformat": 4,
 "nbformat_minor": 4
}
