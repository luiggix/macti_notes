{
 "cells": [
  {
   "cell_type": "markdown",
   "id": "019f91df-8574-4dfa-bb8d-85ba1884527a",
   "metadata": {},
   "source": [
    "# Conducción de Calor en 2D\n",
    "\n",
    "**Objetivo General**\n",
    "- Resolver numérica y computacionalmente la ecuación de conducción de calor en dos dimensiones.\n",
    "\n",
    "**Objetivos particulares**\n",
    "- Definir los parámetros físicos y numéricos.\n",
    "- Definir la malla del dominio.\n",
    "- Definir la temperatura inicial junto con sus condiciones de frontera y graficarla sobre la malla.\n",
    "- Definir el sistema lineal y resolverlo.\n",
    "- Graficar la solución."
   ]
  },
  {
   "cell_type": "code",
   "execution_count": null,
   "id": "16a74c5d-fb61-4d81-a145-f0dbf3ab7f9d",
   "metadata": {
    "tags": []
   },
   "outputs": [],
   "source": [
    "import numpy as np\n",
    "import matplotlib.pyplot as plt\n",
    "import hecompa_FD2D as fd2\n",
    "import macti.visual as mvis\n",
    "\n",
    "# TODO: hacer este cambio en macti.visual\n",
    "plt.rcParams['axes.grid'] = False"
   ]
  },
  {
   "cell_type": "markdown",
   "id": "8f3e18c6-152c-4a86-9fe6-482020e71c83",
   "metadata": {},
   "source": [
    "## Parámetros físicos y numéricos"
   ]
  },
  {
   "cell_type": "code",
   "execution_count": null,
   "id": "09aa2236-baf0-4331-bbe6-16e7a153dd4b",
   "metadata": {
    "tags": []
   },
   "outputs": [],
   "source": [
    "# Tamaño del dominio\n",
    "Lx = 1.0\n",
    "Ly = 1.0\n",
    "\n",
    "# Número de nodos en cada eje\n",
    "Nx = 4\n",
    "Ny = 4\n",
    "\n",
    "# Número total de nodos en cada eje incluyendo las fronteras\n",
    "NxT = Nx + 2\n",
    "NyT = Ny + 2\n",
    "\n",
    "# Número total de nodos\n",
    "NT = NxT * NyT\n",
    "\n",
    "# Número total de incógnitas\n",
    "N = Nx * Ny\n",
    "\n",
    "# Tamaño de la malla en cada dirección\n",
    "hx = Lx / (Nx+1)\n",
    "hy = Ly / (Ny+1)\n",
    "\n",
    "# Coordenadas de la malla\n",
    "xn = np.linspace(0,Lx,NxT)\n",
    "yn = np.linspace(0,Ly,NyT)\n",
    "\n",
    "# Generación de una rejilla\n",
    "xg, yg = np.meshgrid(xn, yn, indexing='ij')"
   ]
  },
  {
   "cell_type": "code",
   "execution_count": null,
   "id": "0d64c6a9-26eb-4044-bae4-ec3229d5d099",
   "metadata": {
    "tags": []
   },
   "outputs": [],
   "source": [
    "print('Total de nodos en x = {}, en y = {}'.format(NxT, NyT))\n",
    "print('Total de incógnitas = {}'.format(N))\n",
    "print('Coordenadas en x : {}'.format(xn))\n",
    "print('Coordenadas en y : {}'.format(yn))\n",
    "print('hx = {}, hy = {}'.format(hx, hy))"
   ]
  },
  {
   "cell_type": "markdown",
   "id": "522eaba8-b040-47ef-8a09-164d41eb219e",
   "metadata": {
    "tags": []
   },
   "source": [
    "### Graficación de la malla del dominio"
   ]
  },
  {
   "cell_type": "code",
   "execution_count": null,
   "id": "d18f4ecb-85b3-4943-9cad-0544d1fd6803",
   "metadata": {
    "tags": []
   },
   "outputs": [],
   "source": [
    "fig = plt.figure()\n",
    "ax = plt.gca()\n",
    "\n",
    "# Ejecutamos la función plot_mesh(...)\n",
    "fd2.plot_mesh(ax, xg, yg)\n",
    "\n",
    "# Dibujamos el recuadro con la función plot_fame(...)\n",
    "fd2.plot_frame(ax, xn, yn)"
   ]
  },
  {
   "cell_type": "markdown",
   "id": "69b21f36-0b80-4343-a72a-94cb1a2e9029",
   "metadata": {},
   "source": [
    "## Campo de temperaturas y sus condiciones de frontera"
   ]
  },
  {
   "cell_type": "code",
   "execution_count": null,
   "id": "a6f1f3d8-df24-48c6-9c47-7245baf30c94",
   "metadata": {
    "tags": []
   },
   "outputs": [],
   "source": [
    "# Definición de un campo escalar en cada punto de la malla\n",
    "T = np.zeros((NxT, NyT))\n",
    "\n",
    "# Condiciones de frontera\n",
    "TB = 1.0\n",
    "TT = -1.0\n",
    "\n",
    "T[0 , :] = 0.0 # LEFT\n",
    "T[-1, :] = 0.0 # RIGHT\n",
    "T[: , 0] = TB  # BOTTOM\n",
    "T[: ,-1] = TT  # TOP\n",
    "\n",
    "print('Campo escalar T ({}):\\n {}'.format(T.shape, T))"
   ]
  },
  {
   "cell_type": "markdown",
   "id": "dc19fd8e-39fb-4c0a-af63-aee2879fd8b4",
   "metadata": {},
   "source": [
    "### Graficación del campo escalar sobre la malla"
   ]
  },
  {
   "cell_type": "code",
   "execution_count": null,
   "id": "ce425213-53ea-4f74-8ed7-ebebb116d5d7",
   "metadata": {
    "tags": []
   },
   "outputs": [],
   "source": [
    "fig = plt.figure()\n",
    "ax = plt.gca()\n",
    "cax = fd2.set_canvas(ax, Lx, Ly)\n",
    "\n",
    "c = ax.contourf(xg, yg, T, levels=50, cmap='inferno')\n",
    "fd2.plot_mesh(ax, xg, yg)\n",
    "\n",
    "fig.colorbar(c, cax=cax, ticks=[-0.9, 0.0, 0.9])\n",
    "plt.show()"
   ]
  },
  {
   "cell_type": "markdown",
   "id": "68a35d52-02ba-4107-b616-abb8a31528e1",
   "metadata": {},
   "source": [
    "## Sistema lineal"
   ]
  },
  {
   "cell_type": "code",
   "execution_count": null,
   "id": "95900c1b-67ce-45af-88e0-96af6ad0cb3a",
   "metadata": {
    "tags": []
   },
   "outputs": [],
   "source": [
    "# La matriz del sistema. Usamos la función predefinida buildMatrix2D()\n",
    "A = fd2.buildMatrix2D(Nx,Ny,-4)\n",
    "A"
   ]
  },
  {
   "cell_type": "code",
   "execution_count": null,
   "id": "16c86fb9-4974-4513-ba0b-c2f20d0842cb",
   "metadata": {
    "tags": []
   },
   "outputs": [],
   "source": [
    "# RHS\n",
    "b = np.zeros((Nx,Ny))\n",
    "b[:, 0] -= TB  # BOTTOM\n",
    "b[:,-1] -= TT  # TOP\n",
    "b"
   ]
  },
  {
   "cell_type": "markdown",
   "id": "35682be1-3ecf-4b94-9844-d19dba4e1f47",
   "metadata": {},
   "source": [
    "## Solución del sistema"
   ]
  },
  {
   "cell_type": "markdown",
   "id": "2c387d45-56d0-421d-9ef0-9dccb478907c",
   "metadata": {},
   "source": [
    "Revisamos el formato del vector b"
   ]
  },
  {
   "cell_type": "code",
   "execution_count": null,
   "id": "056ea00b-5fe2-4a33-aa55-14e1fc3a2bb8",
   "metadata": {
    "tags": []
   },
   "outputs": [],
   "source": [
    "b.shape"
   ]
  },
  {
   "cell_type": "markdown",
   "id": "852e0281-9d8f-4663-a464-ef38c140b325",
   "metadata": {
    "tags": []
   },
   "source": [
    "El vector debe ser de una sola dimensión:"
   ]
  },
  {
   "cell_type": "code",
   "execution_count": null,
   "id": "5012e4ef-715c-459a-8844-c44d349c7342",
   "metadata": {
    "tags": []
   },
   "outputs": [],
   "source": [
    "b.flatten()"
   ]
  },
  {
   "cell_type": "code",
   "execution_count": null,
   "id": "c69e8abc-c785-4caf-880b-7423b1b6c3bb",
   "metadata": {
    "tags": []
   },
   "outputs": [],
   "source": [
    "# Calculamos la solución.\n",
    "T_temp = np.linalg.solve(A, b.flatten())\n",
    "T_temp"
   ]
  },
  {
   "cell_type": "code",
   "execution_count": null,
   "id": "4ed5d78d-c42f-4d46-8a2d-c73d110f0038",
   "metadata": {
    "tags": []
   },
   "outputs": [],
   "source": [
    "T_temp.shape"
   ]
  },
  {
   "cell_type": "markdown",
   "id": "5682f06d-ed61-427b-a575-867482a9589a",
   "metadata": {},
   "source": [
    "Colocamos la solución en el campo escalar T de manera adecuada"
   ]
  },
  {
   "cell_type": "code",
   "execution_count": null,
   "id": "56a184c1-ad62-4ff5-85b6-18efeb9488ef",
   "metadata": {
    "tags": []
   },
   "outputs": [],
   "source": [
    "T[1:-1,1:-1] = T_temp.reshape(Nx,Ny)\n",
    "T"
   ]
  },
  {
   "cell_type": "markdown",
   "id": "bd6ac093-2680-4852-8653-1df382fecfef",
   "metadata": {},
   "source": [
    "### Gráfica de la solución"
   ]
  },
  {
   "cell_type": "code",
   "execution_count": null,
   "id": "525826a9-976d-47a0-b788-eb9fd494517e",
   "metadata": {
    "tags": []
   },
   "outputs": [],
   "source": [
    "fig = plt.figure()\n",
    "ax = plt.gca()\n",
    "cax = fd2.set_canvas(ax, Lx, Ly)\n",
    "\n",
    "c = ax.contourf(xg, yg, T, levels=50, cmap='inferno')\n",
    "fd2.plot_mesh(ax, xg, yg)\n",
    "\n",
    "fig.colorbar(c, cax=cax, ticks=[-0.9, 0.0, 0.9])\n",
    "plt.show()"
   ]
  },
  {
   "cell_type": "code",
   "execution_count": null,
   "id": "c9d7ff7d-ad8c-4e4f-9443-40e45315f50f",
   "metadata": {},
   "outputs": [],
   "source": []
  }
 ],
 "metadata": {
  "kernelspec": {
   "display_name": "Python 3 (ipykernel)",
   "language": "python",
   "name": "python3"
  },
  "language_info": {
   "codemirror_mode": {
    "name": "ipython",
    "version": 3
   },
   "file_extension": ".py",
   "mimetype": "text/x-python",
   "name": "python",
   "nbconvert_exporter": "python",
   "pygments_lexer": "ipython3",
   "version": "3.11.2"
  }
 },
 "nbformat": 4,
 "nbformat_minor": 5
}
