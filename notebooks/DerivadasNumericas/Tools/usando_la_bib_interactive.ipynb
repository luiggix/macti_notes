{
 "cells": [
  {
   "cell_type": "code",
   "execution_count": 1,
   "id": "5f65a6a8-34e2-4d79-9de4-ea8f99afa060",
   "metadata": {},
   "outputs": [],
   "source": [
    "import numpy as np\n",
    "import matplotlib.pyplot as plt\n",
    "import hecompa_FD2D as fd2\n",
    "import ipywidgets as widgets\n",
    "\n",
    "# TODO: hacer este cambio en macti.visual\n",
    "plt.rcParams['axes.grid'] = False"
   ]
  },
  {
   "cell_type": "code",
   "execution_count": 4,
   "id": "3c5262dd-d087-46a6-908f-2815563c7fe9",
   "metadata": {},
   "outputs": [
    {
     "data": {
      "application/vnd.jupyter.widget-view+json": {
       "model_id": "ff9bd5b0c5204be9ac304679e74c3e6f",
       "version_major": 2,
       "version_minor": 0
      },
      "text/plain": [
       "interactive(children=(FloatSlider(value=2.0, description='Lx', max=6.0, min=-2.0), FloatSlider(value=1.0, desc…"
      ]
     },
     "metadata": {},
     "output_type": "display_data"
    }
   ],
   "source": [
    "def ejemplo(Lx = 2.0, Ly = 1.0, Nx = 9, Ny =4):\n",
    "    # Tamaño de la malla en cada dirección\n",
    "    hx = Lx / (Nx+1)\n",
    "    hy = Ly / (Ny+1)\n",
    "\n",
    "    # Número total de nodos incluyendo las fronteras\n",
    "    NxT = Nx + 2\n",
    "    NyT = Ny + 2\n",
    "\n",
    "    # Coordenadas de la malla\n",
    "    xn = np.linspace(0,Lx,NxT)\n",
    "    yn = np.linspace(0,Ly,NyT)\n",
    "\n",
    "    # Generación de una rejilla\n",
    "    xg, yg = np.meshgrid(xn, yn, indexing='ij')\n",
    "    \n",
    "    # Definición de un campo escalar en cada punto de la malla\n",
    "    T = np.zeros((NxT, NyT))\n",
    "\n",
    "    # Asignamos un valor a cada entrada del arreglo\n",
    "    for i in range(NxT):\n",
    "        for j in range(NyT):\n",
    "            T[i,j] = np.sin(i*j)\n",
    "            \n",
    "    # Definición del campo vectorial (en este caso dos valores por nodo)\n",
    "    v = np.zeros((2, NxT, NyT))\n",
    "\n",
    "    # Creamos un campo vectorial con las siguientes fórmulas\n",
    "    A = 1.0\n",
    "    alpha_x = 1.0\n",
    "    alpha_y = 1.0\n",
    "    v[0] = -A * np.cos(np.pi * alpha_y * yg / Ly) * np.sin(np.pi * alpha_x * xg / Lx)\n",
    "    v[1] =  A * np.sin(np.pi * alpha_y * yg / Ly) * np.cos(np.pi * alpha_x * xg / Lx)\n",
    "    \n",
    "    # Creación de tres gráficas\n",
    "    fig, ax = plt.subplots(3,1, figsize=(10,10))\n",
    "\n",
    "    # Primera gráfica: la malla\n",
    "    cax0 = fd2.set_canvas(ax[0], Lx, Ly)\n",
    "    fd2.plot_mesh(ax[0], xg, yg)\n",
    "\n",
    "    # Segunda gráfica: campo escalar T\n",
    "    cax1 = fd2.set_canvas(ax[1], Lx, Ly)\n",
    "    cu = ax[1].contourf(xg, yg, T, levels=50, cmap='inferno')\n",
    "    fig.colorbar(cu, cax=cax1, ticks=[-0.9, 0.0, 0.9], orientation='vertical')\n",
    "\n",
    "    # Tercera gráfica: campo vectorial V\n",
    "    cax2 = fd2.set_canvas(ax[2], Lx, Ly)\n",
    "    cu = ax[2].quiver(xg, yg, v[0], v[1])\n",
    "    fd2.plot_frame(ax[2],xn,yn)\n",
    "\n",
    "    plt.show()  \n",
    "    \n",
    "widgets.interactive(ejemplo)"
   ]
  },
  {
   "cell_type": "code",
   "execution_count": null,
   "id": "679d52b5-f2f9-4b1c-b17b-b50d26ec466c",
   "metadata": {},
   "outputs": [],
   "source": []
  }
 ],
 "metadata": {
  "kernelspec": {
   "display_name": "Python 3 (ipykernel)",
   "language": "python",
   "name": "python3"
  },
  "language_info": {
   "codemirror_mode": {
    "name": "ipython",
    "version": 3
   },
   "file_extension": ".py",
   "mimetype": "text/x-python",
   "name": "python",
   "nbconvert_exporter": "python",
   "pygments_lexer": "ipython3",
   "version": "3.9.12"
  }
 },
 "nbformat": 4,
 "nbformat_minor": 5
}
