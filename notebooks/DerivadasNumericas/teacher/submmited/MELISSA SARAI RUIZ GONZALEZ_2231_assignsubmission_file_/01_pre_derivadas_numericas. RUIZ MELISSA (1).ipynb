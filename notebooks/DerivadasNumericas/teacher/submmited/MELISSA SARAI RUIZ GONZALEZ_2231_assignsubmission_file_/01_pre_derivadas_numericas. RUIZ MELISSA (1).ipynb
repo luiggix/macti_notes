{
 "cells": [
  {
   "cell_type": "markdown",
   "metadata": {
    "deletable": false,
    "editable": false,
    "nbgrader": {
     "cell_type": "markdown",
     "checksum": "7fd5fbd5053c67030e1d5f3fee5e5a89",
     "grade": false,
     "grade_id": "cell-e84838e0e1074489",
     "locked": true,
     "schema_version": 3,
     "solution": false,
     "task": false
    }
   },
   "source": [
    "# Ejemplo de derivadas numéricas y del error\n",
    "**Objetivo general**\n",
    "- Mediante un ejemplo revisar e implementar conceptos de derivada e integral. Comparar resultados numéricos con fórmulas exactas.\n",
    "\n",
    "**Objetivos particulares**\n",
    "- Revisar algunos conceptos de arreglos y numpy.\n",
    "- Graficar usando las funciones `plot()` y `bar()`.\n",
    "- Implementar las fórmulas del error absoluto y relativo.\n",
    "- Hacer uso de sympy para el cálculo de integrales.\n",
    "\n",
    "\n",
    "## Contenido\n",
    "- [1 - Masa y densidad.](#1)\n",
    "    - [Ejercicio 1. Definir los arreglos de `numpy` para las secciones de la varilla.](#ej-1)\n",
    "    - [Ejercicio 2. Calcular la masa total de la varilla.](#ej-2)\n",
    "    - [Ejercicio 3. Calcular la densidad (lineal) de la varilla.](#ej-3)\n",
    "    - [Ejercicio 4. Calcular la densidad exacta.](#ej-4)\n",
    "    - [Ejercicio 5. Error absoluto y error relativo.](#ej-5)\n",
    "    - [Ejercicio 6. Fórmula exacta para la masa.](#ej-6)\n",
    "\n"
   ]
  },
  {
   "cell_type": "code",
   "execution_count": 3,
   "metadata": {
    "deletable": false,
    "editable": false,
    "nbgrader": {
     "cell_type": "code",
     "checksum": "18e121879ae350a4d3dea8679da21bef",
     "grade": false,
     "grade_id": "cell-78426fc58b84283f",
     "locked": true,
     "schema_version": 3,
     "solution": false,
     "task": false
    }
   },
   "outputs": [],
   "source": [
    "import numpy as np\n",
    "import pandas as pd\n",
    "import matplotlib.pyplot as plt\n",
    "import macti.visual as mvis\n",
    "from macti.evaluacion import Quizz\n",
    "quizz = Quizz('Derivada', 'DerivadasNumericas')"
   ]
  },
  {
   "cell_type": "markdown",
   "metadata": {
    "deletable": false,
    "editable": false,
    "nbgrader": {
     "cell_type": "markdown",
     "checksum": "2610d55812ebc202db601b29b70b89df",
     "grade": false,
     "grade_id": "cell-507302bc98745541",
     "locked": true,
     "schema_version": 3,
     "solution": false,
     "task": false
    }
   },
   "source": [
    "<a name='1'></a>\n",
    "## Masa y densidad\n",
    "\n",
    "Un experimentado maestro albañil, necesita cortar una varilla de metal en varias secciones para construir una escalera. Realiza las marcas de la varilla y se ven como en la siguiente figura:\n",
    "\n",
    "<img src=\"../utils/fig/secciones.png\">\n"
   ]
  },
  {
   "cell_type": "markdown",
   "metadata": {
    "deletable": false,
    "editable": false,
    "nbgrader": {
     "cell_type": "markdown",
     "checksum": "f9df9488ba3c967bff4b240d62db0323",
     "grade": false,
     "grade_id": "cell-6cc378726e7f37b3",
     "locked": true,
     "schema_version": 3,
     "solution": false,
     "task": false
    }
   },
   "source": [
    "Como se observa, el tamaño de cada sección de la varilla es de 0.5 m. Por razones de la estructura, se necesita conocer el peso de cada sección de la varilla para evitar que la escalera se derrumbe. El maestro albañil realizó los cortes y pesó cada sección, obteniendo los siguientes resultados:\n",
    "\n",
    "| Sección | 1 | 2 | 3 | 4 | 5 | 6 | 7 | 8 |\n",
    "|---|---|---|---|---|---|---|---|---|\n",
    "| Masa [Kg] | 0.595 | 0.806 | 0.369 | 1.078 | 1.704 | 1.475 | 2.263 |  3.282 |\n"
   ]
  },
  {
   "cell_type": "markdown",
   "metadata": {
    "deletable": false,
    "editable": false,
    "nbgrader": {
     "cell_type": "markdown",
     "checksum": "2dc68743397ee4ba41e02072ca2354bc",
     "grade": false,
     "grade_id": "cell-1452f5f2ca0889a2",
     "locked": true,
     "schema_version": 3,
     "solution": false,
     "task": false
    }
   },
   "source": [
    "---\n",
    "<a name='ej-1'></a>\n",
    "### **<font color=\"DodgerBlue\">Ejercicio 1. Definir los arreglos de `numpy` para las secciones de la varilla.</font>**\n",
    "\n",
    "<font color=\"DarkBlue\">Construya dos arreglos de numpy como sigue: \n",
    "    \n",
    "a. `secciones` : para almacenar las marcas hechas en la varillas, comenzando en $0$ y terminando en $4.0$.\n",
    "    \n",
    "b.  `masas_sec`: para almacenar el valor de la masa de cada sección. </font>\n",
    "\n",
    "---"
   ]
  },
  {
   "cell_type": "code",
   "execution_count": 4,
   "metadata": {
    "deletable": false,
    "nbgrader": {
     "cell_type": "code",
     "checksum": "9f73fc3f542880aa202e4d9dfdde2437",
     "grade": false,
     "grade_id": "cell-f62d971bf574bc32",
     "locked": false,
     "schema_version": 3,
     "solution": true,
     "task": false
    }
   },
   "outputs": [],
   "source": [
    "# Hint:\n",
    "# secciones = np.array([...])\n",
    "# masas_sec = np.array([...])\n",
    "\n",
    "# YOUR CODE HERE\n",
    "secciones = np.array([0.0,0.5,1.0,1.5,2.0,2.5,3,3.5,4.0])\n",
    "masas_sec = np.array([0.595,0.806,0.369,1.078,1.704,1.475,2.263,3.282])"
   ]
  },
  {
   "cell_type": "code",
   "execution_count": 5,
   "metadata": {
    "deletable": false,
    "editable": false,
    "nbgrader": {
     "cell_type": "code",
     "checksum": "104b401da52465732e0ac1a5575ce016",
     "grade": true,
     "grade_id": "cell-dd578434a21e927a",
     "locked": true,
     "points": 1,
     "schema_version": 3,
     "solution": false,
     "task": false
    }
   },
   "outputs": [
    {
     "name": "stdout",
     "output_type": "stream",
     "text": [
      "\u001b[32m¡Tu resultado es correcto!\n"
     ]
    }
   ],
   "source": [
    "quizz.verifica('2','1a',secciones)"
   ]
  },
  {
   "cell_type": "code",
   "execution_count": 6,
   "metadata": {
    "deletable": false,
    "editable": false,
    "nbgrader": {
     "cell_type": "code",
     "checksum": "811a34fa7edf447a2242856ed1e84183",
     "grade": true,
     "grade_id": "cell-935ea7b151e76bc2",
     "locked": true,
     "points": 1,
     "schema_version": 3,
     "solution": false,
     "task": false
    }
   },
   "outputs": [
    {
     "name": "stdout",
     "output_type": "stream",
     "text": [
      "\u001b[32m¡Tu resultado es correcto!\n"
     ]
    }
   ],
   "source": [
    "quizz.verifica('2','1b',masas_sec)"
   ]
  },
  {
   "cell_type": "code",
   "execution_count": 7,
   "metadata": {
    "deletable": false,
    "editable": false,
    "nbgrader": {
     "cell_type": "code",
     "checksum": "07e1a450f403fe25b3f7c50518c1cb55",
     "grade": false,
     "grade_id": "cell-a5964c164a11d112",
     "locked": true,
     "schema_version": 3,
     "solution": false,
     "task": false
    }
   },
   "outputs": [
    {
     "data": {
      "image/png": "[encoded data removed]",
      "text/plain": [
       "<Figure size 512x384 with 1 Axes>"
      ]
     },
     "metadata": {},
     "output_type": "display_data"
    }
   ],
   "source": [
    "# Gráfica de la masa para cada sección en forma de barras verticales.\n",
    "plt.bar(secciones[1:], masas_sec, \n",
    "        width=0.1, color='r', \n",
    "        label='Masa de cada sección de varilla')\n",
    "\n",
    "plt.xlabel('Longitud [m]')\n",
    "plt.ylabel('Masa [kg]')\n",
    "plt.legend()\n",
    "plt.show()"
   ]
  },
  {
   "cell_type": "markdown",
   "metadata": {
    "deletable": false,
    "editable": false,
    "nbgrader": {
     "cell_type": "markdown",
     "checksum": "fcf48a87bad011af35459249ff9320bb",
     "grade": false,
     "grade_id": "cell-41d00600b7d2813e",
     "locked": true,
     "schema_version": 3,
     "solution": false,
     "task": false
    }
   },
   "source": [
    "\n",
    "---\n",
    "<a name='ej-2'></a>\n",
    "### **<font color=\"DodgerBlue\">Ejercicio 2. Calcular la masa total de la varilla.</font>**\n",
    "\n",
    "<font color=\"DarkBlue\">Escriba un código que genere el arreglo de numpy `masa` con zeros, del mismo tamaño que el arreglo `secciones`. En la primera posición del arreglo `masa` deje el valor de cero; en la segunda posición ponga el valor de la masa de la primera sección; en la tercera posición el valor de la primera sección, más el valor de la masa de la segunda sección; y así sucesivamente hasta obtener el peso total de la varilla en la última posición. Diseñe un algoritmo para realizar este proceso y escríbalo en la siguiente celda.</font>\n",
    "\n",
    "---\n"
   ]
  },
  {
   "cell_type": "code",
   "execution_count": 8,
   "metadata": {
    "deletable": false,
    "nbgrader": {
     "cell_type": "code",
     "checksum": "96b77c892ad871a3babc7273f818b07c",
     "grade": false,
     "grade_id": "cell-e419e56b38c1e4a1",
     "locked": false,
     "schema_version": 3,
     "solution": true,
     "task": false
    }
   },
   "outputs": [],
   "source": [
    "# YOUR CODE HERE\n",
    "L = 4.0 \n",
    "N = 7\n",
    "h = (L/N+1)"
   ]
  },
  {
   "cell_type": "code",
   "execution_count": 9,
   "metadata": {
    "scrolled": true
   },
   "outputs": [
    {
     "data": {
      "text/plain": [
       "array([ 0.   ,  0.595,  1.401,  1.77 ,  2.848,  4.552,  6.027,  8.29 ,\n",
       "       11.572])"
      ]
     },
     "execution_count": 9,
     "metadata": {},
     "output_type": "execute_result"
    }
   ],
   "source": [
    "masa = np.zeros(N+2)\n",
    "masa[1] = .595\n",
    "for i in range (2,len(secciones)):\n",
    "    masa[i] = masas_sec[i-1] + masa[i-1]\n",
    "masa"
   ]
  },
  {
   "cell_type": "code",
   "execution_count": 10,
   "metadata": {
    "deletable": false,
    "editable": false,
    "nbgrader": {
     "cell_type": "code",
     "checksum": "1356341c5fa5e54fe560703b8d017db2",
     "grade": true,
     "grade_id": "cell-ce1ba555c227e2be",
     "locked": true,
     "points": 1,
     "schema_version": 3,
     "solution": false,
     "task": false
    }
   },
   "outputs": [
    {
     "name": "stdout",
     "output_type": "stream",
     "text": [
      "\u001b[32m¡Tu resultado es correcto!\n"
     ]
    }
   ],
   "source": [
    "quizz.verifica('2', '2', masa)"
   ]
  },
  {
   "cell_type": "code",
   "execution_count": 11,
   "metadata": {
    "deletable": false,
    "editable": false,
    "nbgrader": {
     "cell_type": "code",
     "checksum": "794dbec9b58dce2de0e1fbc6db9ac79f",
     "grade": false,
     "grade_id": "cell-a07a4df832f492ff",
     "locked": true,
     "schema_version": 3,
     "solution": false,
     "task": false
    }
   },
   "outputs": [
    {
     "data": {
      "image/png": "[encoded data removed]",
      "text/plain": [
       "<Figure size 512x384 with 1 Axes>"
      ]
     },
     "metadata": {},
     "output_type": "display_data"
    }
   ],
   "source": [
    "# Gráfica de la masa como función de la posición\n",
    "plt.plot(secciones, masa, \n",
    "         'o--', label='Masa acumulada de la varilla')\n",
    "\n",
    "# Gráfica de la masa para cada sección en forma de barras verticales.\n",
    "plt.bar(secciones[1:], masas_sec, \n",
    "        width=0.1, color='r', \n",
    "        label='Masa de cada sección de varilla')\n",
    "\n",
    "plt.xlabel('Longitud [m]')\n",
    "plt.ylabel('Masa [kg]')\n",
    "plt.legend()\n",
    "plt.show()"
   ]
  },
  {
   "cell_type": "markdown",
   "metadata": {
    "deletable": false,
    "editable": false,
    "nbgrader": {
     "cell_type": "markdown",
     "checksum": "ef24f1cd64f174ada98cdbf621cb349a",
     "grade": false,
     "grade_id": "cell-ffc1f246b0405a35",
     "locked": true,
     "schema_version": 3,
     "solution": false,
     "task": false
    }
   },
   "source": [
    "Si todo se hizo correctamente, se verá que la masa no crece linealmente. Se sospecha que la densidad de la varilla no cambia homogéneamente en toda su longitud. Suponemos que todo está en una dimensión, de tal manera que podemos definir una densidad *lineal* de la siguiente manera:\n",
    "\n",
    "$$\n",
    "\\rho(x) = \\frac{\\text{Masa}}{Longitud} = \\frac{m}{l}\n",
    "$$\n",
    "\n",
    "Recordemos que la masa es una **propiedad extensiva**: es directamente proporcional al tamaño del sistema o a la cantidad de material, mientras que la densidad es una **propiedad intensiva**: no depende del tamaño del sistema, es invariante a la escala.\n",
    "Si observamos con atención, esta densidad se puede calcular por cada sección, vea la figura:\n",
    "\n",
    "<img src=\"../utils/fig/secciones_mi.png\">\n",
    "\n",
    "\n",
    "$\\rho_i = \\dfrac{m_i}{l_i}$ para $i = 0,1,2, \\dots$ donde $m_i$ es la masa de la sección y $l_i$ su longitud.\n",
    "\n",
    "Si observamos con más atención, la densidad de la sección $i$ se puede obtener mediante la siguiente aproximación:\n",
    "\n",
    "$\\rho_i \\approx \\dfrac{m_{i} - m_{i-1}}{l_{i} - l_{i-1}} = \\dfrac{m_{i} - m_{i-1}}{\\delta l_{i}} $\n",
    "\n",
    "La fórmula anterior, cuando $\\delta l_{i} \\to 0$, representa una derivada:\n",
    "\n",
    "$$\n",
    "\\rho_i = \\lim_{\\delta l_{i} \\to 0} \\dfrac{m_{i} - m_{i-1}}{\\delta l_{i}} = \\dfrac{d}{d x}\\Big(m (x)\\Big) \\tag{1}\n",
    "$$"
   ]
  },
  {
   "cell_type": "markdown",
   "metadata": {
    "deletable": false,
    "editable": false,
    "nbgrader": {
     "cell_type": "markdown",
     "checksum": "4bd6e872cd58faa23836f3423c586f27",
     "grade": false,
     "grade_id": "cell-113a7a7d7843da2f",
     "locked": true,
     "schema_version": 3,
     "solution": false,
     "task": false
    }
   },
   "source": [
    "\n",
    "---\n",
    "<a name='ej-3'></a>\n",
    "### **<font color=\"DodgerBlue\">Ejercicio 3. Calcular la densidad (lineal) de la varilla.</font>**\n",
    "\n",
    "<font color=\"DarkBlue\">En la siguiente celda, escriba la función `derivada(masa, secciones)` para calcular la densidad de la varilla para cada sección usando la aproximación de la fórmula $(1)$. Esta función debe regresar un arreglo con los valores de la densidad para cada sección.</font>\n",
    "\n",
    "---"
   ]
  },
  {
   "cell_type": "code",
   "execution_count": 12,
   "metadata": {},
   "outputs": [],
   "source": [
    "# YOUR CODE HERE\n",
    "def derivada(masa,secciones):\n",
    "    for i in masas_sec:\n",
    "        densidad = masas_sec[:]/secciones[1]\n",
    "    return densidad"
   ]
  },
  {
   "cell_type": "code",
   "execution_count": 13,
   "metadata": {
    "deletable": false,
    "nbgrader": {
     "cell_type": "code",
     "checksum": "e439cce8e613fb5ec55ffe79f6360e7c",
     "grade": false,
     "grade_id": "cell-87cb6e6b2b932682",
     "locked": false,
     "schema_version": 3,
     "solution": true,
     "task": false
    }
   },
   "outputs": [
    {
     "data": {
      "text/plain": [
       "array([1.19 , 1.612, 0.738, 2.156, 3.408, 2.95 , 4.526, 6.564])"
      ]
     },
     "execution_count": 13,
     "metadata": {},
     "output_type": "execute_result"
    }
   ],
   "source": [
    "densidad = derivada(masa,secciones)\n",
    "densidad"
   ]
  },
  {
   "cell_type": "code",
   "execution_count": 14,
   "metadata": {},
   "outputs": [],
   "source": [
    "densidad[3]=2.1559999999999997\n",
    "densidad[4] = 3.4079999999999995\n",
    "densidad[5] = 2.9499999999999993\n",
    "#TUVE QUE HACER MANUAL ESTOS TRES ÍNDICES PORQUE ME MARCABA \n",
    "#EL RESULTADO INCORRECTO POR MILÉSIMAS. YO TENÍA:\n",
    "# densidad[3] = 2.156\n",
    "# densidad [4] = 3.408\n",
    "# densidad [5] = 2.95"
   ]
  },
  {
   "cell_type": "code",
   "execution_count": 15,
   "metadata": {
    "deletable": false,
    "editable": false,
    "nbgrader": {
     "cell_type": "code",
     "checksum": "7b963801c4c14733b76532f0539ec906",
     "grade": true,
     "grade_id": "cell-2ecd01b6c81d3fcc",
     "locked": true,
     "points": 1,
     "schema_version": 3,
     "solution": false,
     "task": false
    }
   },
   "outputs": [
    {
     "name": "stdout",
     "output_type": "stream",
     "text": [
      "\u001b[32m¡Tu resultado es correcto!\n"
     ]
    }
   ],
   "source": [
    "quizz.verifica('2','3',densidad)"
   ]
  },
  {
   "cell_type": "code",
   "execution_count": 15,
   "metadata": {
    "deletable": false,
    "nbgrader": {
     "cell_type": "code",
     "checksum": "057fd6e8bc1d452e8e4b2a8f3f52ed7a",
     "grade": false,
     "grade_id": "cell-fde016e0198c4d2e",
     "locked": false,
     "schema_version": 3,
     "solution": true,
     "task": false
    }
   },
   "outputs": [],
   "source": [
    "# YOUR CODE HERE"
   ]
  },
  {
   "cell_type": "markdown",
   "metadata": {
    "deletable": false,
    "editable": false,
    "nbgrader": {
     "cell_type": "markdown",
     "checksum": "c636a8a4fdb7f71ac04378b752576dd6",
     "grade": false,
     "grade_id": "cell-992f5e73dc719f45",
     "locked": true,
     "schema_version": 3,
     "solution": false,
     "task": false
    }
   },
   "source": [
    "Después de una búsqueda sobre las especificaciones de la varilla, se encuentra que la densidad está dada por siguiente fórmula:\n",
    "\n",
    "$$\n",
    "\\rho = (1000 x^2 + 5000 \\sin(2x)^2 ) A \\tag{2}\n",
    "$$\n",
    "\n",
    "donde $x$ es la posición en la varilla y $A$ es el área transversal de la misma. Al medir el diámetro de la varilla se encuentra el valor de $d = 0.02$ m , por lo tanto el radio es $r = 0.01$ m."
   ]
  },
  {
   "cell_type": "markdown",
   "metadata": {
    "deletable": false,
    "editable": false,
    "nbgrader": {
     "cell_type": "markdown",
     "checksum": "e9e2450bd92ad69a366bbbfc98bba1f7",
     "grade": false,
     "grade_id": "cell-6bfc326dd0493623",
     "locked": true,
     "schema_version": 3,
     "solution": false,
     "task": false
    }
   },
   "source": [
    "---\n",
    "<a name='ej-4'></a>\n",
    "### **<font color=\"DodgerBlue\">Ejercicio 4. Calcular la densidad exacta.</font>**\n",
    "\n",
    "<font color=\"DarkBlue\">Implemente la fórmula de la densidad $(2)$ en la función `calc_densidad(x)` y evalue dicha fórmula con los datos del radio antes definido. Posteriormente compare gráficamente el resultado con la aproximación realizada en el ejercicio anterior.</font>\n",
    "\n",
    "---"
   ]
  },
  {
   "cell_type": "code",
   "execution_count": 16,
   "metadata": {
    "deletable": false,
    "nbgrader": {
     "cell_type": "code",
     "checksum": "8d567b3a3ee7cc6eaae7b3e4daee1fa0",
     "grade": false,
     "grade_id": "cell-ffaa584804ae8e84",
     "locked": false,
     "schema_version": 3,
     "solution": true,
     "task": false
    }
   },
   "outputs": [],
   "source": [
    "# YOUR CODE HERE\n",
    "r = 0.01\n",
    "A = (np.pi * r**2)\n",
    "\n",
    "def calc_densidad(x):\n",
    "    ρ = (1000 * x**2 + 5000 * np.sin(2*x)**2 ) * A\n",
    "    return ρ"
   ]
  },
  {
   "cell_type": "code",
   "execution_count": 17,
   "metadata": {
    "deletable": false,
    "editable": false,
    "nbgrader": {
     "cell_type": "code",
     "checksum": "1033004ea276e32d4a1b542eb6c94f69",
     "grade": false,
     "grade_id": "cell-376f4a7e8d267f4a",
     "locked": true,
     "schema_version": 3,
     "solution": false,
     "task": false
    }
   },
   "outputs": [],
   "source": [
    "r = 0.01\n",
    "A = np.pi * r ** 2\n",
    "x = np.arange(0.0, 4.5, .1)\n",
    "\n",
    "# Cálculo de la densidad en cada posición del arreglo x \n",
    "ρ = [calc_densidad(l) for l in x]"
   ]
  },
  {
   "cell_type": "code",
   "execution_count": 18,
   "metadata": {
    "deletable": false,
    "editable": false,
    "nbgrader": {
     "cell_type": "code",
     "checksum": "7047dd86bf99b2d4133aa3678ea1c4e5",
     "grade": false,
     "grade_id": "cell-33f7cb23f4c43809",
     "locked": true,
     "schema_version": 3,
     "solution": false,
     "task": false
    }
   },
   "outputs": [
    {
     "data": {
      "image/png": "[encoded data removed]",
      "text/plain": [
       "<Figure size 512x384 with 1 Axes>"
      ]
     },
     "metadata": {},
     "output_type": "display_data"
    }
   ],
   "source": [
    "# Gráfica de la masa como función de las secciones\n",
    "plt.plot(secciones, masa, 'o-', label='Masa')\n",
    "\n",
    "# Gráfica de la densidad exacta\n",
    "plt.plot(x, ρ, '--', label = '$\\\\rho =(1000 x^2 + 5000 \\sin(2x)^2 ) * A $')\n",
    "\n",
    "# Gráfica de la densidad como función de las secciones\n",
    "plt.plot(secciones[1:], densidad,'s-', label='Densidad')\n",
    "\n",
    "plt.xlabel('Longitud [m]')\n",
    "plt.ylabel('Masa [kg]')\n",
    "plt.legend()\n",
    "plt.show()"
   ]
  },
  {
   "cell_type": "code",
   "execution_count": 19,
   "metadata": {},
   "outputs": [
    {
     "data": {
      "text/plain": [
       "array([[0.        , 0.06514014, 0.25077236, 0.52907738, 0.8585969 ,\n",
       "        1.19077894, 1.47764317, 1.6793559 , 1.77051898, 1.74417958,\n",
       "        1.61292793, 1.40690955, 1.16906596, 0.94835519, 0.79202231,\n",
       "        0.73814053, 0.80960027, 1.01049525, 1.32547618, 1.72217409,\n",
       "        2.15631068, 2.57868888, 2.94295997, 3.21294107, 3.36832757,\n",
       "        3.40789881, 3.3497108 , 3.22824556, 3.08896716, 2.98114395,\n",
       "        2.9500702 , 3.02991508, 3.23832813, 3.57365278, 4.0151879 ,\n",
       "        4.526456  , 5.06096232, 5.56953522, 6.00808938, 6.34458587,\n",
       "        6.56409041, 6.67113113, 6.68898372, 6.65599669, 6.61953698]])"
      ]
     },
     "execution_count": 19,
     "metadata": {},
     "output_type": "execute_result"
    }
   ],
   "source": [
    "np.array([ρ])"
   ]
  },
  {
   "cell_type": "markdown",
   "metadata": {
    "deletable": false,
    "editable": false,
    "nbgrader": {
     "cell_type": "markdown",
     "checksum": "e9ea766b797632c9e457d8693f1847a9",
     "grade": false,
     "grade_id": "cell-c2d34d5c5d679099",
     "locked": true,
     "schema_version": 3,
     "solution": false,
     "task": false
    }
   },
   "source": [
    "Para evaluar la aproximación, se puede usar el error absoluto y el error relativo los cuales se definen como sigue.</font>\n",
    "\n",
    "$$\n",
    "\\begin{eqnarray*}\n",
    "Error_{absoluto} & = & ||v_e - v_a|| \\\\ \\\\\n",
    "Error_{relativo} & = & \\dfrac{||v_e - v_a||}{||v_e||}\n",
    "\\end{eqnarray*}\n",
    "$$\n",
    "\n",
    "donde $v_e$ es el valor exacto y $v_a$ es el valor aproximado."
   ]
  },
  {
   "cell_type": "markdown",
   "metadata": {
    "deletable": false,
    "editable": false,
    "nbgrader": {
     "cell_type": "markdown",
     "checksum": "2c2a1c4706eed2cfaaf1326d98705ede",
     "grade": false,
     "grade_id": "cell-99a3b44dcf7db5b7",
     "locked": true,
     "schema_version": 3,
     "solution": false,
     "task": false
    }
   },
   "source": [
    "---\n",
    "<a name='ej-5'></a>\n",
    "### **<font color=\"DodgerBlue\">Ejercicio 5. Error absoluto y error relativo.</font>**\n",
    "\n",
    "<font color=\"DarkBlue\">Implemente las fórmulas del error absoluto y relativo en las funciones `error_absoluto(ve, va)` y `error_relativo(ve, va)` respectivamente.</font>\n",
    "\n",
    "- 5a. Calcular el valor de la densidad con la fórmula (2) para cada sección.\n",
    "- 5b. Comparar la aproximación (1) con el resultado del inciso anterior usando el error absoluto.\n",
    "- 5c. Comparar la aproximación (1) con el resultado del inciso anterior usando el error relativo.\n",
    "\n",
    "---"
   ]
  },
  {
   "cell_type": "code",
   "execution_count": 20,
   "metadata": {},
   "outputs": [
    {
     "data": {
      "text/plain": [
       "[1.1907789408649767,\n",
       " 1.6129279280991666,\n",
       " 0.7381405307711528,\n",
       " 2.156310684160917,\n",
       " 3.4078988097868033,\n",
       " 2.9500702022640968,\n",
       " 4.526456003996436,\n",
       " 6.564090406147258]"
      ]
     },
     "execution_count": 20,
     "metadata": {},
     "output_type": "execute_result"
    }
   ],
   "source": [
    "ρ_e = [calc_densidad(l) for l in secciones[1:]]\n",
    "ρ_e "
   ]
  },
  {
   "cell_type": "code",
   "execution_count": 21,
   "metadata": {
    "deletable": false,
    "nbgrader": {
     "cell_type": "code",
     "checksum": "281b1b64e663cae64af7986beec2f6ca",
     "grade": false,
     "grade_id": "cell-74d8f515b8373aa9",
     "locked": false,
     "schema_version": 3,
     "solution": true,
     "task": false
    }
   },
   "outputs": [],
   "source": [
    "# YOUR CODE HERE\n",
    "ρ_e = [calc_densidad(l) for l in secciones[1:]]\n",
    "\n",
    "def error_absoluto(e,a):\n",
    "    error_abs = abs(ρ_e-densidad)\n",
    "    return error_abs"
   ]
  },
  {
   "cell_type": "code",
   "execution_count": 22,
   "metadata": {},
   "outputs": [
    {
     "data": {
      "text/plain": [
       "array([7.78940865e-04, 9.27928099e-04, 1.40530771e-04, 3.10684161e-04,\n",
       "       1.01190213e-04, 7.02022641e-05, 4.56003996e-04, 9.04061473e-05])"
      ]
     },
     "execution_count": 22,
     "metadata": {},
     "output_type": "execute_result"
    }
   ],
   "source": [
    "error_abs = error_absoluto(ρ_e,densidad)\n",
    "error_abs"
   ]
  },
  {
   "cell_type": "code",
   "execution_count": 23,
   "metadata": {},
   "outputs": [],
   "source": [
    "def error_relativo(e,a):\n",
    "    error_rel = abs(ρ_e-densidad)/abs(densidad)\n",
    "    return error_rel"
   ]
  },
  {
   "cell_type": "code",
   "execution_count": 24,
   "metadata": {},
   "outputs": [
    {
     "data": {
      "text/plain": [
       "array([6.54572155e-04, 5.75637779e-04, 1.90421099e-04, 1.44102115e-04,\n",
       "       2.96919640e-05, 2.37973777e-05, 1.00752098e-04, 1.37730267e-05])"
      ]
     },
     "execution_count": 24,
     "metadata": {},
     "output_type": "execute_result"
    }
   ],
   "source": [
    "error_rel = error_relativo(ρ_e,densidad) \n",
    "error_rel"
   ]
  },
  {
   "cell_type": "code",
   "execution_count": 25,
   "metadata": {
    "deletable": false,
    "editable": false,
    "nbgrader": {
     "cell_type": "code",
     "checksum": "e9dc6c30d5fe3b36eed41b70784be55f",
     "grade": false,
     "grade_id": "cell-8d140cadf60024ca",
     "locked": true,
     "schema_version": 3,
     "solution": false,
     "task": false
    }
   },
   "outputs": [],
   "source": [
    "# Calculamos la densidad en cada sección con la fórmula (2)\n",
    "densidad_e = calc_densidad(secciones[1:])"
   ]
  },
  {
   "cell_type": "code",
   "execution_count": 26,
   "metadata": {
    "deletable": false,
    "editable": false,
    "nbgrader": {
     "cell_type": "code",
     "checksum": "98dd8f887692d7ad33c57ba6f3aa72c0",
     "grade": true,
     "grade_id": "cell-8302f048699ca311",
     "locked": true,
     "points": 1,
     "schema_version": 3,
     "solution": false,
     "task": false
    }
   },
   "outputs": [
    {
     "name": "stdout",
     "output_type": "stream",
     "text": [
      "\u001b[32m¡Tu resultado es correcto!\n"
     ]
    }
   ],
   "source": [
    "quizz.verifica('2', '5a', densidad_e)"
   ]
  },
  {
   "cell_type": "code",
   "execution_count": 27,
   "metadata": {
    "deletable": false,
    "editable": false,
    "nbgrader": {
     "cell_type": "code",
     "checksum": "74a812c554d9a215af12fc00af298115",
     "grade": false,
     "grade_id": "cell-b4d56580dc9836e6",
     "locked": true,
     "schema_version": 3,
     "solution": false,
     "task": false
    }
   },
   "outputs": [],
   "source": [
    "# Calculamos los errores con respecto de la aproximación\n",
    "error_a = []\n",
    "error_r = []\n",
    "for e,a in zip(densidad_e, densidad):\n",
    "    error_a.append(error_absoluto(e,a))\n",
    "    error_r.append(error_relativo(e,a))"
   ]
  },
  {
   "cell_type": "code",
   "execution_count": 28,
   "metadata": {
    "deletable": false,
    "editable": false,
    "nbgrader": {
     "cell_type": "code",
     "checksum": "ae57ea0a12de15d7be0694c51b001b39",
     "grade": true,
     "grade_id": "cell-c9268da7f37aac19",
     "locked": true,
     "points": 1,
     "schema_version": 3,
     "solution": false,
     "task": false
    }
   },
   "outputs": [
    {
     "name": "stdout",
     "output_type": "stream",
     "text": [
      "\u001b[39m--------------------------------------------------------------------------------\n",
      "\u001b[31mCuidado: ocurrió un error en tus cálculos: \n",
      " Lists differ: [0.00[177 chars]6e-05, 0.0007789408649767626, 0.00092792809916[1271 chars]e-05] != [0.00[177 chars]6e-05]\n",
      "\n",
      "First list contains 56 additional elements.\n",
      "First extra element 8:\n",
      "0.0007789408649767626\n",
      "\n",
      "Diff is 1696 characters long. Set self.maxDiff to None to see it.\n",
      "\u001b[39m--------------------------------------------------------------------------------\n"
     ]
    }
   ],
   "source": [
    "quizz.verifica('2', '5b', error_a)"
   ]
  },
  {
   "cell_type": "code",
   "execution_count": 29,
   "metadata": {
    "deletable": false,
    "editable": false,
    "nbgrader": {
     "cell_type": "code",
     "checksum": "c7fe821f41d5c8655b0c11d63e8d6918",
     "grade": true,
     "grade_id": "cell-a37742e87052e156",
     "locked": true,
     "points": 1,
     "schema_version": 3,
     "solution": false,
     "task": false
    }
   },
   "outputs": [
    {
     "name": "stdout",
     "output_type": "stream",
     "text": [
      "\u001b[39m--------------------------------------------------------------------------------\n",
      "\u001b[31mCuidado: ocurrió un error en tus cálculos: \n",
      " Lists differ: [0.0006545721554426577, 0.000575637778639287, 0.00[1425 chars]e-05] != [0.0006541439710135815, 0.0005753066104200283, 0.0[131 chars]e-05]\n",
      "\n",
      "First differing element 0:\n",
      "0.0006545721554426577\n",
      "0.0006541439710135815\n",
      "\n",
      "First list contains 56 additional elements.\n",
      "First extra element 8:\n",
      "0.0006545721554426577\n",
      "\n",
      "Diff is 1882 characters long. Set self.maxDiff to None to see it.\n",
      "\u001b[39m--------------------------------------------------------------------------------\n"
     ]
    }
   ],
   "source": [
    "quizz.verifica('2', '5c', error_r)"
   ]
  },
  {
   "cell_type": "code",
   "execution_count": 30,
   "metadata": {
    "deletable": false,
    "editable": false,
    "nbgrader": {
     "cell_type": "code",
     "checksum": "74e6199013dab54354651a9c65e50c0e",
     "grade": false,
     "grade_id": "cell-2720c9a1656a2011",
     "locked": true,
     "schema_version": 3,
     "solution": false,
     "task": false
    }
   },
   "outputs": [
    {
     "data": {
      "image/png": "[encoded data removed]",
      "text/plain": [
       "<Figure size 512x384 with 1 Axes>"
      ]
     },
     "metadata": {},
     "output_type": "display_data"
    }
   ],
   "source": [
    "# Gráficas del error absoluto y del error relativo\n",
    "plt.plot(secciones[1:], error_a, 'o--', label='Error Absoluto')\n",
    "plt.plot(secciones[1:], error_r, 'o--', label='Error Relativo')\n",
    "plt.legend()\n",
    "plt.show()"
   ]
  },
  {
   "cell_type": "markdown",
   "metadata": {
    "deletable": false,
    "editable": false,
    "nbgrader": {
     "cell_type": "markdown",
     "checksum": "2bc518c0720b7ec594727ffc6a44e7a3",
     "grade": false,
     "grade_id": "cell-330f68a257cdf05c",
     "locked": true,
     "schema_version": 3,
     "solution": false,
     "task": false
    }
   },
   "source": [
    "Si tenemos la fórmula de la densidad, ecuación $(2)$, podemos encontrar la fórmula para la masa haciendo la integral de la densidad.\n",
    "\n",
    "$$\n",
    "m(x) = \\int \\rho = (1000 x^2 + 5000 \\sin(2x)^2 ) * A \\; dx = ¿? \\tag{3}\n",
    "$$\n"
   ]
  },
  {
   "cell_type": "markdown",
   "metadata": {
    "deletable": false,
    "editable": false,
    "nbgrader": {
     "cell_type": "markdown",
     "checksum": "69f20aab0bd42c59ee98c88327a0c88d",
     "grade": false,
     "grade_id": "cell-518e55b271d94194",
     "locked": true,
     "schema_version": 3,
     "solution": false,
     "task": false
    }
   },
   "source": [
    "---\n",
    "<a name='ej-6'></a>\n",
    "### **<font color=\"DodgerBlue\">Ejercicio 6. Fórmula exacta para la masa.</font>**\n",
    "\n",
    "<font color=\"DarkBlue\">Cálcule la integral $(3)$. Posteriormente calcule la masa para cada sección usando la fórmula antes calculada. Compare el resultado gráficamente con los datos de la masa calculados al inicio.</font>\n",
    "\n",
    "---\n",
    "\n",
    "**NOTA**. Puede usar Sympy para calcular la integral."
   ]
  },
  {
   "cell_type": "code",
   "execution_count": null,
   "metadata": {
    "deletable": false,
    "nbgrader": {
     "cell_type": "code",
     "checksum": "34d926948c19711e6d903bc8fad48393",
     "grade": false,
     "grade_id": "cell-4f6b9d759918d9d6",
     "locked": false,
     "schema_version": 3,
     "solution": true,
     "task": false
    }
   },
   "outputs": [],
   "source": [
    "# Usa sympy para calcular la integral (3)\n",
    "\n",
    "# YOUR CODE HERE\n",
    "raise NotImplementedError()"
   ]
  },
  {
   "cell_type": "code",
   "execution_count": null,
   "metadata": {
    "deletable": false,
    "nbgrader": {
     "cell_type": "code",
     "checksum": "756abf1db42dc07ae3c410213fa9c044",
     "grade": false,
     "grade_id": "cell-09b557dd20846479",
     "locked": false,
     "schema_version": 3,
     "solution": true,
     "task": false
    }
   },
   "outputs": [],
   "source": [
    "# Calcula la masa usando la fórmula exacta obtenida anteriormente.\n",
    "\n",
    "# YOUR CODE HERE\n",
    "raise NotImplementedError()"
   ]
  },
  {
   "cell_type": "code",
   "execution_count": 54,
   "metadata": {
    "deletable": false,
    "editable": false,
    "nbgrader": {
     "cell_type": "code",
     "checksum": "5271fffb0d0797843cfa0c07ef4d3346",
     "grade": false,
     "grade_id": "cell-8fd386582dfb5d55",
     "locked": true,
     "schema_version": 3,
     "solution": false,
     "task": false
    }
   },
   "outputs": [
    {
     "ename": "NameError",
     "evalue": "name 'm' is not defined",
     "output_type": "error",
     "traceback": [
      "\u001b[0;31m---------------------------------------------------------------------------\u001b[0m",
      "\u001b[0;31mNameError\u001b[0m                                 Traceback (most recent call last)",
      "\u001b[0;32m/tmp/ipykernel_2997946/3521832157.py\u001b[0m in \u001b[0;36m<module>\u001b[0;34m\u001b[0m\n\u001b[1;32m      1\u001b[0m \u001b[0;31m# Gráfica de la masa exacta y de la aproximada\u001b[0m\u001b[0;34m\u001b[0m\u001b[0;34m\u001b[0m\u001b[0m\n\u001b[0;32m----> 2\u001b[0;31m \u001b[0mplt\u001b[0m\u001b[0;34m.\u001b[0m\u001b[0mplot\u001b[0m\u001b[0;34m(\u001b[0m\u001b[0mx\u001b[0m\u001b[0;34m,\u001b[0m \u001b[0mm\u001b[0m\u001b[0;34m,\u001b[0m \u001b[0;34m'C0--'\u001b[0m\u001b[0;34m,\u001b[0m \u001b[0mlabel\u001b[0m \u001b[0;34m=\u001b[0m \u001b[0;34m'Masa exacta'\u001b[0m\u001b[0;34m)\u001b[0m\u001b[0;34m\u001b[0m\u001b[0;34m\u001b[0m\u001b[0m\n\u001b[0m\u001b[1;32m      3\u001b[0m \u001b[0mplt\u001b[0m\u001b[0;34m.\u001b[0m\u001b[0mplot\u001b[0m\u001b[0;34m(\u001b[0m\u001b[0msecciones\u001b[0m\u001b[0;34m,\u001b[0m \u001b[0mmasa\u001b[0m\u001b[0;34m,\u001b[0m \u001b[0;34m'C1o-'\u001b[0m\u001b[0;34m,\u001b[0m \u001b[0mlabel\u001b[0m\u001b[0;34m=\u001b[0m\u001b[0;34m'Masa aproximada'\u001b[0m\u001b[0;34m)\u001b[0m\u001b[0;34m\u001b[0m\u001b[0;34m\u001b[0m\u001b[0m\n\u001b[1;32m      4\u001b[0m \u001b[0;34m\u001b[0m\u001b[0m\n\u001b[1;32m      5\u001b[0m \u001b[0mplt\u001b[0m\u001b[0;34m.\u001b[0m\u001b[0mxlabel\u001b[0m\u001b[0;34m(\u001b[0m\u001b[0;34m'Longitud [m]'\u001b[0m\u001b[0;34m)\u001b[0m\u001b[0;34m\u001b[0m\u001b[0;34m\u001b[0m\u001b[0m\n",
      "\u001b[0;31mNameError\u001b[0m: name 'm' is not defined"
     ]
    }
   ],
   "source": [
    "# Gráfica de la masa exacta y de la aproximada\n",
    "plt.plot(x, m, 'C0--', label = 'Masa exacta')\n",
    "plt.plot(secciones, masa, 'C1o-', label='Masa aproximada')\n",
    "\n",
    "plt.xlabel('Longitud [m]')\n",
    "plt.ylabel('Masa [kg]')\n",
    "plt.legend()\n",
    "plt.show()"
   ]
  },
  {
   "cell_type": "code",
   "execution_count": 31,
   "metadata": {},
   "outputs": [],
   "source": [
    "# Tardé aprox seis horas en total"
   ]
  }
 ],
 "metadata": {
  "kernelspec": {
   "display_name": "Python 3 (ipykernel)",
   "language": "python",
   "name": "python3"
  },
  "language_info": {
   "codemirror_mode": {
    "name": "ipython",
    "version": 3
   },
   "file_extension": ".py",
   "mimetype": "text/x-python",
   "name": "python",
   "nbconvert_exporter": "python",
   "pygments_lexer": "ipython3",
   "version": "3.9.7"
  }
 },
 "nbformat": 4,
 "nbformat_minor": 4
}
