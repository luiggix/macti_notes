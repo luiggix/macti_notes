{
 "cells": [
  {
   "cell_type": "code",
   "execution_count": 1,
   "id": "770ee844",
   "metadata": {},
   "outputs": [],
   "source": [
    "import os\n",
    "import shutil"
   ]
  },
  {
   "cell_type": "code",
   "execution_count": 2,
   "id": "161555ea",
   "metadata": {},
   "outputs": [
    {
     "data": {
      "text/plain": [
       "'C:\\\\Users\\\\luiggi\\\\Documents\\\\GitSites\\\\macti_notes\\\\notebooks\\\\Derivada\\\\DerivadasNumericas\\\\teacher'"
      ]
     },
     "execution_count": 2,
     "metadata": {},
     "output_type": "execute_result"
    }
   ],
   "source": [
    "os.getcwd()"
   ]
  },
  {
   "cell_type": "code",
   "execution_count": 3,
   "id": "6aaba231",
   "metadata": {},
   "outputs": [
    {
     "data": {
      "text/plain": [
       "['ALEXANDER TOLENTINO JUAREZ_2256_assignsubmission_file_',\n",
       " 'ALEXIS SOTO SILVA_2257_assignsubmission_file_',\n",
       " 'ANGEL KALEB JACOBO REYES_2243_assignsubmission_file_',\n",
       " 'BRYANT ALEXIS MENDOZA REYES_2227_assignsubmission_file_',\n",
       " 'CARLO JOSUE GOMEZ SALAZAR_2237_assignsubmission_file_',\n",
       " 'CARMEN JOSELYN PEREZ PEREZ_2251_assignsubmission_file_',\n",
       " 'CASANDRA ORTIZ ROJAS_2234_assignsubmission_file_',\n",
       " 'CLAUDIO SANTIAGO PEREZ RUIZ_2260_assignsubmission_file_',\n",
       " 'DANIA CAROLINA ARUMIR POMARES_2240_assignsubmission_file_',\n",
       " 'DIANA MICHELL HERNANDEZ TREJO_2253_assignsubmission_file_',\n",
       " 'ENRIQUE RAMIREZ HERNANDEZ_2249_assignsubmission_file_',\n",
       " 'Evelyn Abigail Mosso Mendoza _2261_assignsubmission_file_',\n",
       " 'FRIDA CRIOLLO LUNA_2229_assignsubmission_file_',\n",
       " 'FRIDA LESLY CORTES LOPEZ_2245_assignsubmission_file_',\n",
       " 'GERALDINE SOLORIO ZAMORA_2263_assignsubmission_file_',\n",
       " 'JEREMY NAIN MARTINEZ QUINTERO_2262_assignsubmission_file_',\n",
       " 'JULIETA SANCHEZ SCHIAFFINI_2225_assignsubmission_file_',\n",
       " 'JULIO CERVANTES HANAN_2226_assignsubmission_file_',\n",
       " 'KARLA SAHIAN RANGEL LEDESMA_2230_assignsubmission_file_',\n",
       " 'KATYA BAUTISTA HERNANDEZ_2246_assignsubmission_file_',\n",
       " 'MELISSA SARAI RUIZ GONZALEZ_2231_assignsubmission_file_',\n",
       " 'MOISES MENDEZ HERNANDEZ_2250_assignsubmission_file_',\n",
       " 'RODRIGO EMILIANO LEON CORONA_2232_assignsubmission_file_',\n",
       " 'SARAI VAZQUEZ JUAREZ_2239_assignsubmission_file_',\n",
       " 'SAUL PEREZ SANCHEZ_2241_assignsubmission_file_',\n",
       " 'SERGIO DE JESUS HERNANDEZ SANCHEZ_2224_assignsubmission_file_',\n",
       " 'SOFIA JAQUELINE ESTRADA SANCHEZ_2248_assignsubmission_file_',\n",
       " 'VICTOR MANUEL FERNANDEZ MACHORRO_2238_assignsubmission_file_',\n",
       " 'VIRGIL ORTIZ LASCURAIN_2254_assignsubmission_file_',\n",
       " 'YESHUA JIMENEZ ORTEGA_2244_assignsubmission_file_']"
      ]
     },
     "execution_count": 3,
     "metadata": {},
     "output_type": "execute_result"
    }
   ],
   "source": [
    "os.chdir('submitted/')\n",
    "alumnos = os.listdir()\n",
    "alumnos"
   ]
  },
  {
   "cell_type": "code",
   "execution_count": 4,
   "id": "7458e113",
   "metadata": {},
   "outputs": [
    {
     "data": {
      "text/plain": [
       "'C:\\\\Users\\\\luiggi\\\\Documents\\\\GitSites\\\\macti_notes\\\\notebooks\\\\Derivada\\\\DerivadasNumericas\\\\teacher\\\\submitted'"
      ]
     },
     "execution_count": 4,
     "metadata": {},
     "output_type": "execute_result"
    }
   ],
   "source": [
    "os.getcwd()"
   ]
  },
  {
   "cell_type": "code",
   "execution_count": 5,
   "id": "788b4754",
   "metadata": {},
   "outputs": [
    {
     "name": "stdout",
     "output_type": "stream",
     "text": [
      "ALEXANDER TOLENTINO JUAREZ_2256_assignsubmission_file_\n",
      "01_pre_derivadas_numericas_Alexander Tolentino Juárez.ipynb\n",
      "ALEXIS SOTO SILVA_2257_assignsubmission_file_\n",
      "01_pre_derivadas_numericas.ipynb\n",
      "ANGEL KALEB JACOBO REYES_2243_assignsubmission_file_\n",
      "masa_y_densidad_JacoboReyesAngelKaleb.ipynb\n",
      "BRYANT ALEXIS MENDOZA REYES_2227_assignsubmission_file_\n",
      "01_pre_derivadas_numericas.ipynb\n",
      "CARLO JOSUE GOMEZ SALAZAR_2237_assignsubmission_file_\n",
      "01_pre_derivadas_numericas.ipynb\n",
      "CARMEN JOSELYN PEREZ PEREZ_2251_assignsubmission_file_\n",
      "Quizz ejemplo masa y densidad.ipynb\n",
      "CASANDRA ORTIZ ROJAS_2234_assignsubmission_file_\n",
      "01_DERIVADAS Y MASA - ORTIZ ROJAS CASANDRA.ipynb\n",
      "CLAUDIO SANTIAGO PEREZ RUIZ_2260_assignsubmission_file_\n",
      "01_pre_derivadas_numericas.Claudio.Santiago.Perez.Ruiz.ipynb\n",
      "DANIA CAROLINA ARUMIR POMARES_2240_assignsubmission_file_\n",
      "Dania_Arumir_Masa_y_Densidad.ipynb\n",
      "DIANA MICHELL HERNANDEZ TREJO_2253_assignsubmission_file_\n",
      "01_pre_derivadas_numericas_Diana_Hernandez.ipynb\n",
      "ENRIQUE RAMIREZ HERNANDEZ_2249_assignsubmission_file_\n",
      "01_pre_derivadas_numericas_Enrique Ramírez.ipynb\n",
      "Evelyn Abigail Mosso Mendoza _2261_assignsubmission_file_\n",
      "01_pre_derivadas_numericas.ipynb\n",
      "FRIDA CRIOLLO LUNA_2229_assignsubmission_file_\n",
      "CriolloLuna.ipynb\n",
      "FRIDA LESLY CORTES LOPEZ_2245_assignsubmission_file_\n",
      "01_pre_derivadas_numericas_Lesly Cortes Lopez.ipynb\n",
      "GERALDINE SOLORIO ZAMORA_2263_assignsubmission_file_\n",
      "01_pre_derivadas_numericas Geraldine Solorio Zamora (1).ipynb\n",
      "JEREMY NAIN MARTINEZ QUINTERO_2262_assignsubmission_file_\n",
      "01_pre_derivadas_numericas.ipynb.json\n",
      "JULIETA SANCHEZ SCHIAFFINI_2225_assignsubmission_file_\n",
      "01_pre_derivadas_numericas.ipynb\n",
      "JULIO CERVANTES HANAN_2226_assignsubmission_file_\n",
      "Quiz derivadas.ipynb\n",
      "KARLA SAHIAN RANGEL LEDESMA_2230_assignsubmission_file_\n",
      "01_pre_derivadas_numericas.ipynb\n",
      "KATYA BAUTISTA HERNANDEZ_2246_assignsubmission_file_\n",
      "Katya-Bautista-01-pre-derivadas-numericas.ipynb\n",
      "MELISSA SARAI RUIZ GONZALEZ_2231_assignsubmission_file_\n",
      "01_pre_derivadas_numericas. RUIZ MELISSA (1).ipynb\n",
      "MOISES MENDEZ HERNANDEZ_2250_assignsubmission_file_\n",
      "01_pre_derivadas_numericasMoisesMendezHernandez.ipynb\n",
      "RODRIGO EMILIANO LEON CORONA_2232_assignsubmission_file_\n",
      "01_pre_derivadas_numericas_Rodrigo Leon.ipynb\n",
      "SARAI VAZQUEZ JUAREZ_2239_assignsubmission_file_\n",
      "01_pre_derivadas_numericas_SaraiVazquezJuarez (1).ipynb\n",
      "SAUL PEREZ SANCHEZ_2241_assignsubmission_file_\n",
      "01_pre_derivadas_numericas.ipynb\n",
      "SERGIO DE JESUS HERNANDEZ SANCHEZ_2224_assignsubmission_file_\n",
      "01_pre_derivadas_numericas.ipynb\n",
      "SOFIA JAQUELINE ESTRADA SANCHEZ_2248_assignsubmission_file_\n",
      "Quizz ejemplo Masa y Densidad.ipynb\n",
      "VICTOR MANUEL FERNANDEZ MACHORRO_2238_assignsubmission_file_\n",
      "01_pre_derivadas_numericas - FERNANDEZ MACHORRO VICTOR.ipynb\n",
      "VIRGIL ORTIZ LASCURAIN_2254_assignsubmission_file_\n",
      "01_pre_derivadas_numericas_Virgil_Ortiz.ipynb\n",
      "YESHUA JIMENEZ ORTEGA_2244_assignsubmission_file_\n",
      "01_pre_derivadas_numericas(1).ipynb\n"
     ]
    }
   ],
   "source": [
    "for i in alumnos:\n",
    "    os.chdir(i)\n",
    "    print(i)\n",
    "    filename = os.listdir()\n",
    "    print(filename[0])\n",
    "    os.mkdir('dernum')\n",
    "    os.rename(filename[0], '01_pre_derivadas_numericas.ipynb')\n",
    "    shutil.move('./01_pre_derivadas_numericas.ipynb', './dernum/01_pre_derivadas_numericas.ipynb' )\n",
    "    os.chdir('../')"
   ]
  },
  {
   "cell_type": "code",
   "execution_count": null,
   "id": "685a752f",
   "metadata": {},
   "outputs": [],
   "source": [
    "os.getcwd()"
   ]
  },
  {
   "cell_type": "code",
   "execution_count": null,
   "id": "59a9772c",
   "metadata": {},
   "outputs": [],
   "source": [
    "for i in alumnos:\n",
    "    os.chdir(i + '/dernum')\n",
    "    filename = os.listdir()\n",
    "    print(os.getcwd())\n",
    "    print(filename[0])\n",
    "    os.chdir('../../')"
   ]
  },
  {
   "cell_type": "code",
   "execution_count": null,
   "id": "92eda1ce",
   "metadata": {},
   "outputs": [],
   "source": []
  }
 ],
 "metadata": {
  "kernelspec": {
   "display_name": "Python 3 (ipykernel)",
   "language": "python",
   "name": "python3"
  },
  "language_info": {
   "codemirror_mode": {
    "name": "ipython",
    "version": 3
   },
   "file_extension": ".py",
   "mimetype": "text/x-python",
   "name": "python",
   "nbconvert_exporter": "python",
   "pygments_lexer": "ipython3",
   "version": "3.10.10"
  }
 },
 "nbformat": 4,
 "nbformat_minor": 5
}
