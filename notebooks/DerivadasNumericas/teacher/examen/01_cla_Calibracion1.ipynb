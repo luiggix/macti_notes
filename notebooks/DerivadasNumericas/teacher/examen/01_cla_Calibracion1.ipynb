{
 "cells": [
  {
   "cell_type": "markdown",
   "metadata": {},
   "source": [
    "# Conducción estacionaria\n",
    "\n",
    "**Trabajo realizado con el apoyo del Programa UNAM-DGAPA-PAPIME PE101019**\n",
    "\n",
    "- Autor: Luis M. de la Cruz Salas\n",
    "- Rev: mié 24 feb 2021 14:41:27 CST"
   ]
  },
  {
   "cell_type": "code",
   "execution_count": 6,
   "metadata": {
    "tags": []
   },
   "outputs": [],
   "source": [
    "import numpy as np\n",
    "import matplotlib.pyplot as plt\n",
    "import macti.visual as mvis\n",
    "from macti.evaluacion import Quizz\n",
    "quizz = Quizz('DerivadasNumericas', 'Examen', 'local')\n",
    "\n",
    "# Parámetros para el estilo de las gráficas\n",
    "params = {'figure.figsize' : (14,7),\n",
    "          'text.usetex'    : True,\n",
    "          'xtick.labelsize': 20,\n",
    "          'ytick.labelsize': 20,\n",
    "          'axes.labelsize' : 24,\n",
    "          'axes.titlesize' : 24,\n",
    "          'legend.fontsize': 24,\n",
    "          'lines.linewidth': 3,\n",
    "          'lines.markersize': 10,\n",
    "          'grid.color'     : 'darkgray',\n",
    "          'grid.linewidth' : 0.5,\n",
    "          'grid.linestyle' : '--',\n",
    "          'font.family': 'DejaVu Serif',\n",
    "         }\n",
    "plt.rcParams['axes.grid'] = False\n",
    "plt.rcParams.update(params)"
   ]
  },
  {
   "cell_type": "code",
   "execution_count": 8,
   "metadata": {
    "tags": []
   },
   "outputs": [],
   "source": [
    "def buildMatrix(N, d):\n",
    "    '''\n",
    "    Parameters:\n",
    "    N: int Tamaño de la matriz.\n",
    "    d: float Contenido de la diagonal.\n",
    "    '''\n",
    "    # Matriz de ceros\n",
    "    A = np.zeros((N,N))\n",
    "    \n",
    "    # Primer renglón\n",
    "    A[0,0] = d\n",
    "    A[0,1] = -1\n",
    "    \n",
    "    # Renglones interiores\n",
    "    for i in range(1,N-1):\n",
    "        A[i,i] = d\n",
    "        A[i,i+1] = -1\n",
    "        A[i,i-1] = -1\n",
    "    \n",
    "    # Último renglón\n",
    "    A[N-1,N-2] = -1\n",
    "    A[N-1,N-1] = d\n",
    "    \n",
    "    return A"
   ]
  },
  {
   "cell_type": "markdown",
   "metadata": {},
   "source": [
    "---\n",
    "<a name='ej-1'></a>\n",
    "### **<font color=\"DodgerBlue\">Ejercicio 1. Definir lo siguiente:</font>**\n",
    "```python\n",
    "# Parámetros físicos: L, TA, TB, k, S, w = 2.5 * pi\n",
    "L = ...\n",
    "...\n",
    "\n",
    "# Parámetros numéricos: N, h\n",
    "N = ...\n",
    "...\n",
    "\n",
    "# Coordenadas de la malla\n",
    "x = ...\n",
    "```\n",
    "---"
   ]
  },
  {
   "cell_type": "code",
   "execution_count": 17,
   "metadata": {
    "tags": []
   },
   "outputs": [],
   "source": [
    "### BEGIN SOLUTION\n",
    "# Parámetros físicos: L, TA, TB, k, S, w = 2.5 * pi\n",
    "L = 1.0\n",
    "TA = 1.0\n",
    "TB = 1.0\n",
    "k = 1.0\n",
    "S = 0.0\n",
    "w = 2.5 * np.pi\n",
    "\n",
    "# Parámetros numéricos: N, h\n",
    "N = 39\n",
    "h = L / (N+1)\n",
    "\n",
    "# Coordenadas de la malla\n",
    "x = np.linspace(0, L, N+2)\n",
    "### END SOLUTION"
   ]
  },
  {
   "cell_type": "code",
   "execution_count": 15,
   "metadata": {
    "tags": []
   },
   "outputs": [
    {
     "name": "stdout",
     "output_type": "stream",
     "text": [
      "\u001b[32m¡Tu resultado es correcto!\n"
     ]
    }
   ],
   "source": [
    "quizz.verifica('1','1',np.round(x,3))"
   ]
  },
  {
   "cell_type": "markdown",
   "metadata": {},
   "source": [
    "---\n",
    "<a name='ej-2'></a>\n",
    "### **<font color=\"DodgerBlue\">Ejercicio 2. Definir lo siguiente:</font>**\n",
    "```python\n",
    "# Arreglo para almacenar la solución\n",
    "T = ...\n",
    "\n",
    "# Los valores en los extremos son conocidos debido a las cond. Dirichlet\n",
    "T[0] = ...\n",
    "T[-1] = ...\n",
    "\n",
    "# Lado derecho del sistema\n",
    "b = ...\n",
    "\n",
    "# Aplicacion de las condiciones de frontera Dirichlet\n",
    "b[0] = ...\n",
    "b[-1] = ...\n",
    "\n",
    "# Construcción de la matriz\n",
    "w = ...\n",
    "A = ...\n",
    "\n",
    "```\n",
    "---"
   ]
  },
  {
   "cell_type": "code",
   "execution_count": 26,
   "metadata": {
    "tags": []
   },
   "outputs": [],
   "source": [
    "### BEGIN SOLUTION\n",
    "# Arreglo para almacenar la solución\n",
    "T = np.zeros(N+2)\n",
    "\n",
    "# Los valores en los extremos son conocidos debido a las cond. Dirichlet\n",
    "T[ 0] = TA\n",
    "T[-1] = TB\n",
    "\n",
    "# Lado derecho del sistema\n",
    "b = np.zeros(N) \n",
    "\n",
    "# Aplicacion de las condiciones de frontera Dirichlet\n",
    "b[ 0] += TA   \n",
    "b[-1] += TB \n",
    "\n",
    "# Construcción de la matriz\n",
    "w = 2.5 * np.pi\n",
    "A = buildMatrix(N, 2-(w * h)**2) # Matriz del sistema\n",
    "### END SOLUTION"
   ]
  },
  {
   "cell_type": "code",
   "execution_count": 29,
   "metadata": {
    "tags": []
   },
   "outputs": [
    {
     "name": "stdout",
     "output_type": "stream",
     "text": [
      "\u001b[32m¡Tu resultado es correcto!\n"
     ]
    }
   ],
   "source": [
    "quizz.verifica('1','2',np.round(A.diagonal(),8))"
   ]
  },
  {
   "cell_type": "code",
   "execution_count": 53,
   "metadata": {
    "tags": []
   },
   "outputs": [],
   "source": [
    "# Solución del sistema lineal\n",
    "T[1:-1] = np.linalg.solve(A,b)"
   ]
  },
  {
   "cell_type": "code",
   "execution_count": 40,
   "metadata": {
    "tags": []
   },
   "outputs": [
    {
     "name": "stdout",
     "output_type": "stream",
     "text": [
      "\u001b[32m¡Tu resultado es correcto!\n"
     ]
    }
   ],
   "source": [
    "quizz.verifica('1','3',np.round(T,8))"
   ]
  },
  {
   "cell_type": "markdown",
   "metadata": {},
   "source": [
    "---\n",
    "<a name='ej-3'></a>\n",
    "### **<font color=\"DodgerBlue\">Ejercicio 3. Agregar una función para calcular la solución exacta:</font>**\n",
    "```python\n",
    "def solExact(x, w):\n",
    "    ...\n",
    "\n",
    "```\n",
    "---"
   ]
  },
  {
   "cell_type": "code",
   "execution_count": 41,
   "metadata": {
    "tags": []
   },
   "outputs": [],
   "source": [
    "### BEGIN SOLUTION\n",
    "# Agrega la función: def solExact(x, w):\n",
    "def solExact(x,w):\n",
    "    return ((1.0 - 1.0 * np.cos(w))/np.sin(w)) * np.sin(w * x) + np.cos(w * x)\n",
    "### END SOLUTION"
   ]
  },
  {
   "cell_type": "markdown",
   "metadata": {},
   "source": [
    "---\n",
    "<a name='ej-4'></a>\n",
    "### **<font color=\"DodgerBlue\">Ejercicio 4. Agregar el cálculo del error:</font>**\n",
    "```python\n",
    "Error =     ...\n",
    "```\n",
    "---"
   ]
  },
  {
   "cell_type": "code",
   "execution_count": 50,
   "metadata": {
    "tags": []
   },
   "outputs": [
    {
     "name": "stdout",
     "output_type": "stream",
     "text": [
      "0.04614723768420828\n"
     ]
    }
   ],
   "source": [
    "# Agrega el cálculo del error: \n",
    "\n",
    "### BEGIN SOLUTION\n",
    "# Agrega el cálculo del error: \n",
    "Error = np.linalg.norm(solExact(x,w) - T, 2)\n",
    "### END SOLUTION\n",
    "\n",
    "print(Error)"
   ]
  },
  {
   "cell_type": "code",
   "execution_count": 51,
   "metadata": {
    "tags": []
   },
   "outputs": [
    {
     "name": "stdout",
     "output_type": "stream",
     "text": [
      "\u001b[32m¡Tu resultado es correcto!\n"
     ]
    }
   ],
   "source": [
    "quizz.verifica('1','4',np.round(Error,8))"
   ]
  },
  {
   "cell_type": "code",
   "execution_count": 52,
   "metadata": {
    "tags": []
   },
   "outputs": [
    {
     "data": {
      "image/png": "[encoded data removed]",
      "text/plain": [
       "<Figure size 800x560 with 1 Axes>"
      ]
     },
     "metadata": {},
     "output_type": "display_data"
    }
   ],
   "source": [
    "#\n",
    "# El código siguiente realiza las gráficas usando lo calculado en las celdas anteriores\n",
    "#\n",
    "titulo = 'Ecuación : $\\partial^2 u(x)/\\partial x^2 = \\omega^2 u(x); \\,\\,\\, u(a) = u(b) = 1$'\n",
    "numerica = 'Sol. Numérica : $E(h = %g) = %g$' % (h, Error)\n",
    "exacta = 'Sol. Analítica : $u(x) = \\\\frac{1 - \\cos(\\omega)}{\\sin(\\omega)} \\sin(\\omega x) + \\cos(\\omega x)$'\n",
    "\n",
    "plt.figure(figsize=(10,7))\n",
    "xsol = np.linspace(0,1,100)\n",
    "plt.plot(xsol, solExact(xsol,w),'-', label=exacta)\n",
    "plt.scatter(x, T, fc = 'C1', ec='k', zorder= 10, label=numerica)\n",
    "plt.title(titulo)\n",
    "plt.xlabel('$x$')\n",
    "plt.ylabel('$T$')\n",
    "plt.ylim(-2.0,3.0)\n",
    "plt.legend(loc='upper center', fontsize=18)\n",
    "plt.grid()\n",
    "plt.savefig('calibracion1.pdf')\n",
    "plt.show()"
   ]
  },
  {
   "cell_type": "code",
   "execution_count": null,
   "metadata": {},
   "outputs": [],
   "source": []
  },
  {
   "cell_type": "code",
   "execution_count": null,
   "metadata": {},
   "outputs": [],
   "source": []
  }
 ],
 "metadata": {
  "kernelspec": {
   "display_name": "Python 3 (ipykernel)",
   "language": "python",
   "name": "python3"
  },
  "language_info": {
   "codemirror_mode": {
    "name": "ipython",
    "version": 3
   },
   "file_extension": ".py",
   "mimetype": "text/x-python",
   "name": "python",
   "nbconvert_exporter": "python",
   "pygments_lexer": "ipython3",
   "version": "3.11.5"
  }
 },
 "nbformat": 4,
 "nbformat_minor": 4
}
