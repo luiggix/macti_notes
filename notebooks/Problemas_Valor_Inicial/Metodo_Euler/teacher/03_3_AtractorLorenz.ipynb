{
 "cells": [
  {
   "cell_type": "markdown",
   "id": "b6747f2b-8289-45a0-84c5-757ff6a0be2f",
   "metadata": {},
   "source": [
    "# Atractor de Lorenz\n",
    "\n",
    "Resolver numéricamente las ecuaciones de Lorenz y dibujar las trayectorias en el espacio fase $x − y − z$ para $N$ posiciones iniciales elegidas aletoriamente como se muestra en la siguiente figura y video: \n",
    "\n",
    "<table style=\"width:100%\">\n",
    "  <tr>\n",
    "     <td style=\"text-align:center\"><img src=\"../utils/figs/lorenz.png\"  width='300px' style=\"float: left\"/></td>\n",
    "    <td style=\"text-align:center\"><video src=\"../utils/figs/lorenz.mp4\" width=\"320\" controls></video></td>\n",
    "  </tr>\n",
    "</table>\n",
    "\n",
    "\n",
    "El atractor de Lorenz está definido por las siguientes ecuaciones:\n",
    "\n",
    "$$\n",
    "\\dfrac{dx}{dt} = \\sigma(y − x),\\qquad\n",
    "$$\n",
    "$$\n",
    "\\dfrac{dy}{dt} = x(\\rho − z) − y,\\qquad\n",
    "$$\n",
    "$$\n",
    "\\dfrac{dz}{dt} = xy − \\beta z\n",
    "$$\n",
    "para $\\sigma = 10$, $\\beta = 8/3$, $\\rho = 28$."
   ]
  },
  {
   "cell_type": "code",
   "execution_count": 1,
   "id": "c23dd23a-4f0d-48ad-90d8-20fde9f07fc5",
   "metadata": {
    "tags": []
   },
   "outputs": [
    {
     "data": {
      "text/html": [
       "<iframe width=\"560\" height=\"315\" src=\"https://www.youtube.com/embed/XZ7Ly7dDCzo\" title=\"YouTube video player\" frameborder=\"0\" allow=\"accelerometer; autoplay; clipboard-write; encrypted-media; gyroscope; picture-in-picture; web-share\" allowfullscreen></iframe>\n"
      ],
      "text/plain": [
       "<IPython.core.display.HTML object>"
      ]
     },
     "metadata": {},
     "output_type": "display_data"
    }
   ],
   "source": [
    "%%html\n",
    "<iframe width=\"560\" height=\"315\" src=\"https://www.youtube.com/embed/XZ7Ly7dDCzo\" title=\"YouTube video player\" frameborder=\"0\" allow=\"accelerometer; autoplay; clipboard-write; encrypted-media; gyroscope; picture-in-picture; web-share\" allowfullscreen></iframe>"
   ]
  },
  {
   "cell_type": "code",
   "execution_count": 2,
   "id": "7fb4aac2-4bc5-4a7a-a1f9-45ea5ea669f8",
   "metadata": {
    "tags": []
   },
   "outputs": [
    {
     "data": {
      "text/html": [
       "<iframe width=\"560\" height=\"315\" src=\"https://www.youtube.com/embed/gIwvFMiJNVU\" title=\"YouTube video player\" frameborder=\"0\" allow=\"accelerometer; autoplay; clipboard-write; encrypted-media; gyroscope; picture-in-picture; web-share\" allowfullscreen></iframe>\n"
      ],
      "text/plain": [
       "<IPython.core.display.HTML object>"
      ]
     },
     "metadata": {},
     "output_type": "display_data"
    }
   ],
   "source": [
    "%%html\n",
    "<iframe width=\"560\" height=\"315\" src=\"https://www.youtube.com/embed/gIwvFMiJNVU\" title=\"YouTube video player\" frameborder=\"0\" allow=\"accelerometer; autoplay; clipboard-write; encrypted-media; gyroscope; picture-in-picture; web-share\" allowfullscreen></iframe>"
   ]
  },
  {
   "cell_type": "code",
   "execution_count": null,
   "id": "bd2d9fb3-3ec7-4fb9-97c5-d2760457b1db",
   "metadata": {},
   "outputs": [],
   "source": []
  }
 ],
 "metadata": {
  "kernelspec": {
   "display_name": "Python 3 (ipykernel)",
   "language": "python",
   "name": "python3"
  },
  "language_info": {
   "codemirror_mode": {
    "name": "ipython",
    "version": 3
   },
   "file_extension": ".py",
   "mimetype": "text/x-python",
   "name": "python",
   "nbconvert_exporter": "python",
   "pygments_lexer": "ipython3",
   "version": "3.11.2"
  }
 },
 "nbformat": 4,
 "nbformat_minor": 5
}
