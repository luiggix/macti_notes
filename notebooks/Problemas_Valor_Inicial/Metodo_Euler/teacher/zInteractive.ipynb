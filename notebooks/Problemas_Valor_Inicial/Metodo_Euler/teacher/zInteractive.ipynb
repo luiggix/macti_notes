{
 "cells": [
  {
   "cell_type": "code",
   "execution_count": 2,
   "id": "b8ad9c8e-aa98-4492-b7d1-5b1455d6a80e",
   "metadata": {},
   "outputs": [],
   "source": [
    "# Importamos las bibliotecas necesarias\n",
    "import matplotlib.pyplot as plt\n",
    "import numpy as np\n",
    "import ipywidgets as widgets\n",
    "import time\n",
    "import macti.visual\n",
    "#from macti.evaluacion import Evalua\n",
    "#ȩ = Evalua('MetodoEuler')"
   ]
  },
  {
   "cell_type": "code",
   "execution_count": 3,
   "id": "625b4203-4cfc-42b2-b75e-9edfde202beb",
   "metadata": {},
   "outputs": [],
   "source": [
    "def lorenz_eqs(x_y_z, 𝜎=10.0, 𝛽=8./3, 𝜌=28.0):\n",
    "    '''\n",
    "    Evaluación de las funciones F, G y H de las ecuaciones de Lorenz.\n",
    "    '''\n",
    "    x, y, z = x_y_z\n",
    "    return [𝜎 * (y - x),      # F\n",
    "            x * (𝜌 - z) - y,  # G\n",
    "            x * y - 𝛽 * z]    # H\n",
    "\n",
    "def efecto_mariposa(Nt=1000, dt = 0.001, sigma=10.0, beta=8./3, rho=28.0, angle=30):\n",
    "    N = 2 # Número de trayectorias en el espacio fase    \n",
    "    x0 = np.array([[ 5.98168845,  9.14898233, 18.04053198],\n",
    "                   [ 5.28839638,  7.82341498, 19.0658776 ]])\n",
    "\n",
    "    #Trayectoria\n",
    "    trace = np.zeros((N, 3, Nt))\n",
    "    trace[:, :, 0] = x0\n",
    "\n",
    "    # Solución de las ecs. de Lorenz usando el método de Euler\n",
    "    for t in range(1, Nt):\n",
    "        fx = np.asarray([lorenz_eqs(x, sigma, beta, rho) for x in trace[:,:,t-1]])\n",
    "        trace[:,:,t] = trace[:,:,t-1] + dt * fx\n",
    "\n",
    "    fig = plt.figure(figsize=(10,4))\n",
    "    fig.suptitle('El efecto mariposa')\n",
    "\n",
    "    # Primera subgráfica\n",
    "    ax = fig.add_subplot(1, 2, 1, projection='3d')\n",
    "    ax.view_init(30, angle)\n",
    "    ax.set_xlabel('$x$')\n",
    "    ax.set_ylabel('$y$')\n",
    "    ax.set_zlabel('$z$')\n",
    "\n",
    "    # Graficamos la condicion inicial\n",
    "    ax.scatter(trace[:,0,0], trace[:,1,0], trace[:,2,0], fc='green', ec='k', s = 50, zorder=10) \n",
    "\n",
    "    # Graficamos la trayectoria\n",
    "    for i in range(N):\n",
    "        ax.plot(trace[i,0,:], trace[i,1,:], trace[i,2,:], '-', lw='0.5')\n",
    "\n",
    "    # Graficamos la posición final\n",
    "        ax.scatter(trace[:,0,-1], trace[:,1,-1], trace[:,2,-1], fc='red', ec='k', s = 50, zorder=5)\n",
    "        \n",
    "    # Segunda subgráfica\n",
    "    \n",
    "    \n",
    "    ax = fig.add_subplot(1, 2, 2)\n",
    "    ax.set_xlabel('$x$')\n",
    "    ax.set_ylabel('$z$')\n",
    "    \n",
    "    # Graficamos la condicion inicial\n",
    "    ax.scatter(trace[:,0,0], trace[:,2,0], fc='green', ec='k', s = 50, zorder=10) \n",
    "\n",
    "    for i in range(N):\n",
    "        ax.plot(trace[i,0,:], trace[i,2,:], '-', lw=2.0)\n",
    "\n",
    "    # Graficamos la posición final\n",
    "        ax.scatter(trace[:,0,-1], trace[:,2,-1], fc='red', ec='k', s = 50, zorder=5) \n",
    "    \n",
    "    plt.tight_layout()\n",
    "    plt.show()"
   ]
  },
  {
   "cell_type": "code",
   "execution_count": 4,
   "id": "f6857d59-f034-4c71-b26e-4998f7076f5c",
   "metadata": {},
   "outputs": [
    {
     "data": {
      "application/vnd.jupyter.widget-view+json": {
       "model_id": "0bc97505db3342698406fe089771ca4f",
       "version_major": 2,
       "version_minor": 0
      },
      "text/plain": [
       "Output()"
      ]
     },
     "metadata": {},
     "output_type": "display_data"
    },
    {
     "data": {
      "application/vnd.jupyter.widget-view+json": {
       "model_id": "67b4473520a7457ea957aa3060be86a1",
       "version_major": 2,
       "version_minor": 0
      },
      "text/plain": [
       "VBox(children=(HBox(children=(IntSlider(value=1000, description='Nt', max=10000, min=1, step=100), FloatSlider…"
      ]
     },
     "metadata": {},
     "output_type": "display_data"
    }
   ],
   "source": [
    "w_Nt = widgets.IntSlider(min=1, max=10000, step=100, value=1000, description='Nt')\n",
    "w_dt = widgets.FloatSlider(min=0.001, max=0.010, step=0.001, value=0.010, description='dt')\n",
    "w_rho=widgets.FloatSlider(min=28, max=98, step=10, value=48, description='𝜌')\n",
    "w_angle=widgets.FloatSlider(min=0, max=90, step=2, value=30, description='Rotación')\n",
    "\n",
    "ui = widgets.VBox([widgets.HBox([w_Nt, w_dt]), \n",
    "                   widgets.HBox([w_rho, w_angle])])\n",
    "\n",
    "ui.layout = widgets.Layout(border='solid 1px black')\n",
    "ui.layout.width = '650px'\n",
    "    \n",
    "out = widgets.interactive_output(efecto_mariposa, {'Nt': w_Nt, 'dt': w_dt, 'rho': w_rho,'angle': w_angle})\n",
    "\n",
    "display(out, ui)"
   ]
  },
  {
   "cell_type": "code",
   "execution_count": null,
   "id": "8edd1115-8886-4e3d-ab66-1e2b4afc872b",
   "metadata": {},
   "outputs": [],
   "source": []
  }
 ],
 "metadata": {
  "kernelspec": {
   "display_name": "Python 3 (ipykernel)",
   "language": "python",
   "name": "python3"
  },
  "language_info": {
   "codemirror_mode": {
    "name": "ipython",
    "version": 3
   },
   "file_extension": ".py",
   "mimetype": "text/x-python",
   "name": "python",
   "nbconvert_exporter": "python",
   "pygments_lexer": "ipython3",
   "version": "3.10.7"
  }
 },
 "nbformat": 4,
 "nbformat_minor": 5
}
