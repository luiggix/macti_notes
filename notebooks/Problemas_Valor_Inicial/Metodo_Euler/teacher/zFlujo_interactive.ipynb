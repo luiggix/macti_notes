{
 "cells": [
  {
   "cell_type": "code",
   "execution_count": 1,
   "id": "21c94ad4-7474-4676-944a-57fe48ca427a",
   "metadata": {
    "tags": []
   },
   "outputs": [],
   "source": [
    "import ipywidgets as widgets\n",
    "from partrack import solveFlujo "
   ]
  },
  {
   "cell_type": "code",
   "execution_count": 2,
   "id": "8db8d4db-fe82-4bfe-bc9f-18748baeb332",
   "metadata": {
    "tags": []
   },
   "outputs": [
    {
     "data": {
      "application/vnd.jupyter.widget-view+json": {
       "model_id": "4117734e95bc44c7a626db9a7b7b2f5a",
       "version_major": 2,
       "version_minor": 0
      },
      "text/plain": [
       "interactive(children=(IntSlider(value=20, description='Nt', max=50, min=10, step=5), FloatSlider(value=0.02, d…"
      ]
     },
     "metadata": {},
     "output_type": "display_data"
    }
   ],
   "source": [
    "w = widgets.interactive(solveFlujo, {\"manual\":True}, \n",
    "                Nt = widgets.IntSlider(min=10, max=50, step=5, value=20),\n",
    "                ht = widgets.FloatSlider(min=0.01, max=0.05, step=0.01, value=0.02),\n",
    "                rango = widgets.FloatRangeSlider(value=[-0.25,0.25], min=-0.45, max=0.45, step=0.05, description='Intervalo'),\n",
    "                w = widgets.FloatSlider(min=0.0, max=10, step=1.0, value=0.0, description='Omega'),\n",
    "                dTray = widgets.Checkbox( value=True, description='Dibuja trayectorias', disabled=False, indent=True))\n",
    "display(w)"
   ]
  },
  {
   "cell_type": "code",
   "execution_count": null,
   "id": "5d0ca4c5-517f-4a5d-9c06-29768b75fc93",
   "metadata": {},
   "outputs": [],
   "source": []
  }
 ],
 "metadata": {
  "kernelspec": {
   "display_name": "Python 3 (ipykernel)",
   "language": "python",
   "name": "python3"
  },
  "language_info": {
   "codemirror_mode": {
    "name": "ipython",
    "version": 3
   },
   "file_extension": ".py",
   "mimetype": "text/x-python",
   "name": "python",
   "nbconvert_exporter": "python",
   "pygments_lexer": "ipython3",
   "version": "3.11.3"
  }
 },
 "nbformat": 4,
 "nbformat_minor": 5
}
