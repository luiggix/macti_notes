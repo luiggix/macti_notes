{
 "cells": [
  {
   "cell_type": "markdown",
   "metadata": {
    "deletable": false,
    "editable": false,
    "nbgrader": {
     "cell_type": "markdown",
     "checksum": "3956c9f8fa155aa31595e2c0b2131eac",
     "grade": false,
     "grade_id": "cell-47a7fa6437b65ddb",
     "locked": true,
     "schema_version": 3,
     "solution": false,
     "task": false
    }
   },
   "source": [
    "# Diferencias finitas: cálculo del error\n",
    "**Objetivo general**\n",
    "- Implementar varias fórmulas de aproximación de la primera derivada y compararlas entre ellas mediante el cálculo del error.\n",
    "\n",
    "**Objetivos particulares**\n",
    "- Revisar las fórmulas de aproximación de la primera derivada: Forward, Backward, Central.\n",
    "- Implementar funciones para calcular las fórmulas.\n",
    "- Calcular el error que introducen estas fórmulas.\n",
    "- Mostrar de manera gráfica el error.\n",
    "- Implementar funciones de varios órdenes para compararlas con las fórmulas anteriores.\n",
    "\n",
    "## Contenido\n",
    "- [1 - Introducción.](#1)\n",
    "- [2 - Diferencias finitas hacia adelante (Forward).](#2)\n",
    "- [3 - Diferencias finitas hacia atrás (Backward).](#3)\n",
    "    - [Ejercicio 1.](#ej-1)\n",
    "- [4 - Diferencias finitas centradas.](#4)\n",
    "    - [Ejercicio 2.](#ej-2)\n",
    "    - [Ejercicio 3.](#ej-3)\n",
    "    - [Ejercicio 4.](#ej-4)\n",
    "    - [Ejercicio 5.](#ej-5)"
   ]
  },
  {
   "cell_type": "code",
   "execution_count": null,
   "metadata": {
    "deletable": false,
    "editable": false,
    "nbgrader": {
     "cell_type": "code",
     "checksum": "c2dab7d150489bd90039c5c8f66ae175",
     "grade": false,
     "grade_id": "cell-7dc17344e20d415d",
     "locked": true,
     "schema_version": 3,
     "solution": false,
     "task": false
    }
   },
   "outputs": [],
   "source": [
    "import numpy as np\n",
    "import pandas as pd\n",
    "import matplotlib.pyplot as plt\n",
    "import macti.visual as mvis\n",
    "from macti.evaluacion import Quizz\n",
    "quizz = Quizz('Derivada', 'DerivadasNumericas')"
   ]
  },
  {
   "cell_type": "markdown",
   "metadata": {
    "deletable": false,
    "editable": false,
    "nbgrader": {
     "cell_type": "markdown",
     "checksum": "cf5d03910894ccd230a0548a3590b2ee",
     "grade": false,
     "grade_id": "cell-eb4b6cf1628c5372",
     "locked": true,
     "schema_version": 3,
     "solution": false,
     "task": false
    }
   },
   "source": [
    "<a name='1'></a>\n",
    "## Introducción\n",
    "\n",
    "La siguiente herramienta tiene como propósito mostras diferentes funciones y sus derivadas exactas así como el cálculo numérico de las derivadas usando varias aproximaciones. Puedes elegir la función y el tipo de aproximación. Después, puedes mover el punto donde se realiza la aproximación (punto azul) y el tamaño de la $h$."
   ]
  },
  {
   "cell_type": "code",
   "execution_count": null,
   "metadata": {
    "deletable": false,
    "editable": false,
    "nbgrader": {
     "cell_type": "code",
     "checksum": "757ec84c00d9dae5d881bf221ea3a67f",
     "grade": false,
     "grade_id": "cell-9245c2a0f7a2af87",
     "locked": true,
     "schema_version": 3,
     "solution": false,
     "task": false
    }
   },
   "outputs": [],
   "source": [
    "%run \"../utils/src/zinteractive1.ipynb\""
   ]
  },
  {
   "cell_type": "markdown",
   "metadata": {
    "deletable": false,
    "editable": false,
    "nbgrader": {
     "cell_type": "markdown",
     "checksum": "26d948966a548d8bc8d88d0e5fef328d",
     "grade": false,
     "grade_id": "cell-37a7a124d84a4539",
     "locked": true,
     "schema_version": 3,
     "solution": false,
     "task": false
    }
   },
   "source": [
    "<a name='2'></a>\n",
    "## Diferencias finitas hacia adelante (Forward).\n",
    "\n",
    "$\n",
    "\\displaystyle\n",
    "\\dfrac{\\partial u(x)}{\\partial x} \\approx \\lim\\limits_{h\\to 0} \\frac{u(x+h) - u(x)}{h}\n",
    "$\n",
    "\n",
    "La siguiente función de Python implementa está formula."
   ]
  },
  {
   "cell_type": "code",
   "execution_count": null,
   "metadata": {
    "deletable": false,
    "editable": false,
    "nbgrader": {
     "cell_type": "code",
     "checksum": "66ac3e27bf18bf80620ac1e0909e5af5",
     "grade": false,
     "grade_id": "cell-f5be7bd256ed1645",
     "locked": true,
     "schema_version": 3,
     "solution": false,
     "task": false
    }
   },
   "outputs": [],
   "source": [
    "def forwardFD(u,x,h):\n",
    "    \"\"\" \n",
    "    Esquema de diferencias finitas hacia adelante.\n",
    "    \n",
    "    Parameters\n",
    "    ----------\n",
    "    u : función. \n",
    "    Función a evaluar.\n",
    "    \n",
    "    x : array\n",
    "    Lugar(es) donde se evalúa la función\n",
    "    \n",
    "    h : array\n",
    "    Tamaño(s) de la diferencia entre u(x+h) y u(x).\n",
    "    \n",
    "    Returns\n",
    "    -------\n",
    "    Cálculo de la derivada numérica hacia adelante.\n",
    "    \"\"\"\n",
    "    return (u(x+h)-u(x))/h"
   ]
  },
  {
   "cell_type": "markdown",
   "metadata": {
    "deletable": false,
    "editable": false,
    "nbgrader": {
     "cell_type": "markdown",
     "checksum": "19bdefd726a060b05768bcda61046606",
     "grade": false,
     "grade_id": "cell-2eadda47e0827a9a",
     "locked": true,
     "schema_version": 3,
     "solution": false,
     "task": false
    }
   },
   "source": [
    "Para probar la función `forwardFD` vamos a comparar su efectividad aproximando la derivada de $\\sin(1.0)$. Esta aproximación será mejor cuando $h \\to 0$. Entonces, vamos a definir el siguiente conjunto de valores: \n",
    "\n",
    "$$\n",
    "\\begin{eqnarray*}\n",
    "H & = & \\{h|h = \\frac{1}{2^i} \\; \\text{para} \\; i = 1,\\dots,5 \\} \\\\\n",
    "  & = & \\{1.0, 0.5, 0.25, 0.125, 0.0625, 0.03125 \\}\n",
    "\\end{eqnarray*}\n",
    "$$  "
   ]
  },
  {
   "cell_type": "code",
   "execution_count": null,
   "metadata": {
    "deletable": false,
    "editable": false,
    "nbgrader": {
     "cell_type": "code",
     "checksum": "2e2dc1f38c3b78ffeb6f407d8e33973c",
     "grade": false,
     "grade_id": "cell-b5b992201dec895e",
     "locked": true,
     "schema_version": 3,
     "solution": false,
     "task": false
    }
   },
   "outputs": [],
   "source": [
    "# Definimos un arreglo con diferentes tamaños de h:\n",
    "N = 6\n",
    "h = np.array([1 / 2**i for i in range(0,N)])\n",
    "\n",
    "# Definimos un arreglo con valores de 1.0 (donde evaluaremos el cos(x)):\n",
    "x = np.ones(N)\n",
    "\n",
    "print(h)\n",
    "print(x)"
   ]
  },
  {
   "cell_type": "markdown",
   "metadata": {
    "deletable": false,
    "editable": false,
    "nbgrader": {
     "cell_type": "markdown",
     "checksum": "aa04e3ad2fc9818530624e012cb24b15",
     "grade": false,
     "grade_id": "cell-4be9e8870811a4a8",
     "locked": true,
     "schema_version": 3,
     "solution": false,
     "task": false
    }
   },
   "source": [
    "Calculamos el error entre la derivada exacta, que este caso es $\\cos(x)$, y la aproximación usando la fórmula:\n",
    "\n",
    "$$\n",
    "Error = || \\cos(x) - D_+ \\sin(x)||\n",
    "$$\n",
    "\n",
    "donde $D_+$ representa la aplicación de la fórmula hacia adelante."
   ]
  },
  {
   "cell_type": "code",
   "execution_count": null,
   "metadata": {
    "deletable": false,
    "editable": false,
    "nbgrader": {
     "cell_type": "code",
     "checksum": "4de7b5a99dbf87af7eebc9e7a50fad44",
     "grade": false,
     "grade_id": "cell-c216d1ff156077fb",
     "locked": true,
     "schema_version": 3,
     "solution": false,
     "task": false
    }
   },
   "outputs": [],
   "source": [
    "# Calculamos el error entre la derivada exacta y la derivada numérica:\n",
    "ef = np.fabs(np.cos(x) - forwardFD(np.sin, x, h) )\n",
    "\n",
    "# Colocamos la información de h y del error en un Dataframe y mostramos el resultado:\n",
    "Error = pd.DataFrame(np.array([h, ef]).T, \n",
    "                     columns=['$h$','$D_+$'])\n",
    "Error"
   ]
  },
  {
   "cell_type": "code",
   "execution_count": null,
   "metadata": {
    "deletable": false,
    "editable": false,
    "nbgrader": {
     "cell_type": "code",
     "checksum": "1eec93ef558a2d87451b2e2f09812374",
     "grade": false,
     "grade_id": "cell-2c9d18d9f960e2c9",
     "locked": true,
     "schema_version": 3,
     "solution": false,
     "task": false
    }
   },
   "outputs": [],
   "source": [
    "# Hacemos el gráfico del error vs h\n",
    "plt.plot(h, ef, '^-', label='$D_+$')\n",
    "plt.xlabel('$h$')\n",
    "plt.ylabel('Error')\n",
    "plt.title('Aproximación de la derivada')\n",
    "plt.legend()\n",
    "plt.show()"
   ]
  },
  {
   "cell_type": "markdown",
   "metadata": {
    "deletable": false,
    "editable": false,
    "nbgrader": {
     "cell_type": "markdown",
     "checksum": "316cd6a4604c84e9b8b26bfdc2ca33c5",
     "grade": false,
     "grade_id": "cell-133ea05218837b88",
     "locked": true,
     "schema_version": 3,
     "solution": false,
     "task": false
    }
   },
   "source": [
    "<a name='3'></a>\n",
    "## Diferencias finitas hacia atrás (Backward).\n",
    "\n",
    "$\n",
    "\\displaystyle\n",
    "\\frac{\\partial u(x)}{\\partial x} \\approx \\lim\\limits_{h\\to 0} \\frac{u(x) - u(x-h)}{h}\n",
    "$\n",
    "\n",
    "La siguiente función de Python implementa está formula."
   ]
  },
  {
   "cell_type": "code",
   "execution_count": null,
   "metadata": {
    "deletable": false,
    "editable": false,
    "nbgrader": {
     "cell_type": "code",
     "checksum": "3e94ebbe13c91d5335191bf20a654f28",
     "grade": false,
     "grade_id": "cell-7e2b4354827ac4d7",
     "locked": true,
     "schema_version": 3,
     "solution": false,
     "task": false
    }
   },
   "outputs": [],
   "source": [
    "def backwardFD(u,x,h):\n",
    "    \"\"\" \n",
    "    Esquema de diferencias finitas hacia atrás.\n",
    "    \n",
    "    Parameters\n",
    "    ----------\n",
    "    u : función. \n",
    "    Función a evaluar.\n",
    "    \n",
    "    x : array\n",
    "    Lugar(es) donde se evalúa la función\n",
    "    \n",
    "    h : array\n",
    "    Tamaño(s) de la diferencia entre u(x+h) y u(x).\n",
    "    \n",
    "    Returns\n",
    "    -------\n",
    "    Cálculo de la derivada numérica hacia atrás.\n",
    "    \"\"\"\n",
    "    return (u(x)-u(x-h))/h"
   ]
  },
  {
   "cell_type": "markdown",
   "metadata": {
    "deletable": false,
    "editable": false,
    "nbgrader": {
     "cell_type": "markdown",
     "checksum": "03f45634e6bae1975dccfcbd6d8d23a2",
     "grade": false,
     "grade_id": "cell-357483325ace2450",
     "locked": true,
     "schema_version": 3,
     "solution": false,
     "task": false
    }
   },
   "source": [
    "Calculamos el error entre la derivada exacta, que este caso es $\\cos(x)$, y la aproximación usando la fórmula:\n",
    "\n",
    "$$\n",
    "Error = || \\cos(x) - D_- \\sin(x)||\n",
    "$$\n",
    "\n",
    "donde $D_-$ representa la aplicación de la fórmula hacia atrás."
   ]
  },
  {
   "cell_type": "markdown",
   "metadata": {
    "deletable": false,
    "editable": false,
    "nbgrader": {
     "cell_type": "markdown",
     "checksum": "7e05b598e061663baebe5432e9a574ac",
     "grade": false,
     "grade_id": "cell-943ab43554f20a31",
     "locked": true,
     "schema_version": 3,
     "solution": false,
     "task": false
    }
   },
   "source": [
    "<a name='ej-1'></a>\n",
    "\n",
    "---\n",
    "### **<font color=\"DodgerBlue\">Ejercicio 1. Calcular el error para diferencias finitas hacia atrás.</font>**\n",
    "\n",
    "<font color=\"DarkBlue\">Tomando como base el ejemplo de diferencias finitas hacia adelante, completa el código que falta en la siguiente celda. </font>.\n",
    "\n",
    "---"
   ]
  },
  {
   "cell_type": "code",
   "execution_count": null,
   "metadata": {
    "deletable": false,
    "nbgrader": {
     "cell_type": "code",
     "checksum": "65c71f0072363ab3b0946f11eca2a76c",
     "grade": false,
     "grade_id": "cell-d4058ae30c0d1f3e",
     "locked": false,
     "schema_version": 3,
     "solution": true,
     "task": false
    }
   },
   "outputs": [],
   "source": [
    "# Calculamos el error entre la derivada exacta y la derivada numérica:\n",
    "# YOUR CODE HERE\n",
    "raise NotImplementedError()"
   ]
  },
  {
   "cell_type": "code",
   "execution_count": null,
   "metadata": {
    "deletable": false,
    "editable": false,
    "nbgrader": {
     "cell_type": "code",
     "checksum": "d85751eb2b84db014f87563bd0e4fbd9",
     "grade": true,
     "grade_id": "cell-6ed07a8ee7b11018",
     "locked": true,
     "points": 1,
     "schema_version": 3,
     "solution": false,
     "task": false
    }
   },
   "outputs": [],
   "source": [
    "quizz.verifica('1', '1', eb)"
   ]
  },
  {
   "cell_type": "code",
   "execution_count": null,
   "metadata": {
    "deletable": false,
    "editable": false,
    "nbgrader": {
     "cell_type": "code",
     "checksum": "707c2c2f1c3e23d39b5c85dcbd93d724",
     "grade": false,
     "grade_id": "cell-4929e022aaf36b7c",
     "locked": true,
     "schema_version": 3,
     "solution": false,
     "task": false
    }
   },
   "outputs": [],
   "source": [
    "# Metemos la información de h y del error en un Dataframe y mostramos el resultado:\n",
    "Error = pd.DataFrame(np.array([h, ef, eb]).T, \n",
    "                     columns=['$h$','$D_+$', '$D_-$'])\n",
    "Error"
   ]
  },
  {
   "cell_type": "code",
   "execution_count": null,
   "metadata": {
    "deletable": false,
    "editable": false,
    "nbgrader": {
     "cell_type": "code",
     "checksum": "e36d7800c4c3fb074a2a5c88ccb77c61",
     "grade": false,
     "grade_id": "cell-31a1539e256b5498",
     "locked": true,
     "schema_version": 3,
     "solution": false,
     "task": false
    }
   },
   "outputs": [],
   "source": [
    "# Hacemos el gráfico del error vs h\n",
    "plt.plot(h, ef, '^-', label='$D_+$')\n",
    "plt.plot(h, eb, 'v-', label='$D_-$')\n",
    "plt.xlabel('$h$')\n",
    "plt.ylabel('Error')\n",
    "plt.title('Aproximación de la derivada')\n",
    "plt.legend()\n",
    "plt.show()"
   ]
  },
  {
   "cell_type": "markdown",
   "metadata": {
    "deletable": false,
    "editable": false,
    "nbgrader": {
     "cell_type": "markdown",
     "checksum": "26e40ab974b2875a794ac50cff87d5f3",
     "grade": false,
     "grade_id": "cell-e74c0ad3f9598429",
     "locked": true,
     "schema_version": 3,
     "solution": false,
     "task": false
    }
   },
   "source": [
    "<a name='4'></a>\n",
    "## Diferencias finitas centradas.\n",
    "\n",
    "$\n",
    "\\displaystyle\n",
    "\\frac{\\partial u(x)}{\\partial x} \\approx \\lim\\limits_{h\\to 0} \\frac{u(x+h) - u(x-h)}{2h}\n",
    "$\n",
    "\n",
    "La siguiente función de Python implementa está formula."
   ]
  },
  {
   "cell_type": "code",
   "execution_count": null,
   "metadata": {
    "deletable": false,
    "editable": false,
    "nbgrader": {
     "cell_type": "code",
     "checksum": "d7f10b9c1203e91f1b5b45756abafd0e",
     "grade": false,
     "grade_id": "cell-d42272d190256dcd",
     "locked": true,
     "schema_version": 3,
     "solution": false,
     "task": false
    }
   },
   "outputs": [],
   "source": [
    "def centeredFD(u,x,h):\n",
    "    \"\"\" \n",
    "    Esquema de diferencias finitas centradas.\n",
    "    \n",
    "    Parameters\n",
    "    ----------\n",
    "    u : función. \n",
    "    Función a evaluar.\n",
    "    \n",
    "    x : array\n",
    "    Lugar(es) donde se evalúa la función\n",
    "    \n",
    "    h : array\n",
    "    Tamaño(s) de la diferencia entre u(x+h) y u(x).\n",
    "    \n",
    "    Returns\n",
    "    -------\n",
    "    Cálculo de la derivada numérica centrada.\n",
    "    \"\"\"\n",
    "    return (u(x+h)-u(x-h))/(2*h)"
   ]
  },
  {
   "cell_type": "code",
   "execution_count": null,
   "metadata": {
    "deletable": false,
    "editable": false,
    "nbgrader": {
     "cell_type": "code",
     "checksum": "d9e729d52243bcd565df889f66842176",
     "grade": false,
     "grade_id": "cell-bd0c2b07c1779707",
     "locked": true,
     "schema_version": 3,
     "solution": false,
     "task": false
    }
   },
   "outputs": [],
   "source": [
    "# Calculamos el error entre la derivada exacta y la derivada numérica:\n",
    "ec = np.fabs( np.cos(x) - centeredFD(np.sin,x,h) )"
   ]
  },
  {
   "cell_type": "markdown",
   "metadata": {
    "deletable": false,
    "editable": false,
    "nbgrader": {
     "cell_type": "markdown",
     "checksum": "7ffba1b75a810c5b1a616918a1f7d5c5",
     "grade": false,
     "grade_id": "cell-e6c6a99e7f98789b",
     "locked": true,
     "schema_version": 3,
     "solution": false,
     "task": false
    }
   },
   "source": [
    "---\n",
    "<a name='ej-2'></a>\n",
    "### **<font color=\"DodgerBlue\">Ejercicio 2. Agregar el error de diferencias finitas centradas al DataFrame.</font>**\n",
    "\n",
    "<font color=\"DarkBlue\">Tomando como base los ejemplos de diferencias finitas hacia adelante y hacia atrás, completa el código que falta en la siguiente celda. </font>.\n",
    "\n",
    "---"
   ]
  },
  {
   "cell_type": "code",
   "execution_count": null,
   "metadata": {
    "deletable": false,
    "nbgrader": {
     "cell_type": "code",
     "checksum": "be7d5485869bfb7fe4eb4c21d4cea4af",
     "grade": false,
     "grade_id": "cell-f5df8ec6b1d67a8b",
     "locked": false,
     "schema_version": 3,
     "solution": true,
     "task": false
    }
   },
   "outputs": [],
   "source": [
    "# Metemos la información de h y del error en un Dataframe y mostramos el resultado:\n",
    "# YOUR CODE HERE\n",
    "raise NotImplementedError()\n",
    "Error"
   ]
  },
  {
   "cell_type": "markdown",
   "metadata": {
    "deletable": false,
    "editable": false,
    "nbgrader": {
     "cell_type": "markdown",
     "checksum": "9477a3af9c89676931709bddd899e935",
     "grade": false,
     "grade_id": "cell-88c2c26033466725",
     "locked": true,
     "schema_version": 3,
     "solution": false,
     "task": false
    }
   },
   "source": [
    "Observe que en este caso los errores son varios órdenes de magnitud más pequeños. Para hacer una gráfica más representativa usaremos escala `loglog`:"
   ]
  },
  {
   "cell_type": "code",
   "execution_count": null,
   "metadata": {
    "deletable": false,
    "editable": false,
    "nbgrader": {
     "cell_type": "code",
     "checksum": "f7fa5e9a605bd901345f244e61129f1a",
     "grade": false,
     "grade_id": "cell-51bb63becf64fd82",
     "locked": true,
     "schema_version": 3,
     "solution": false,
     "task": false
    }
   },
   "outputs": [],
   "source": [
    "# Hacemos el gráfico del error vs h\n",
    "plt.plot(h, ef, '^-', label='$D_+$')\n",
    "plt.plot(h, eb, 'v-', label='$D_-$')\n",
    "plt.plot(h, ec, 's-', label='$D_0$')\n",
    "plt.xlabel('$h$')\n",
    "plt.ylabel('Error')\n",
    "plt.title('Aproximación de la derivada')\n",
    "plt.legend()\n",
    "plt.loglog()  # Definimos la escala log-log\n",
    "plt.show()"
   ]
  },
  {
   "cell_type": "markdown",
   "metadata": {
    "deletable": false,
    "editable": false,
    "nbgrader": {
     "cell_type": "markdown",
     "checksum": "7f6f22ef0ecf0c4cb29030f28b8c455e",
     "grade": false,
     "grade_id": "cell-0fe2e38dd2d2add9",
     "locked": true,
     "schema_version": 3,
     "solution": false,
     "task": false
    }
   },
   "source": [
    "Como se puede apreciar, la gráfica anterior muestra que la aproximación con diferencias finitas centradas es mejor, pues es de orden cuadrático."
   ]
  },
  {
   "cell_type": "markdown",
   "metadata": {
    "deletable": false,
    "editable": false,
    "nbgrader": {
     "cell_type": "markdown",
     "checksum": "9f384e62f294b6189267fbd442b0c332",
     "grade": false,
     "grade_id": "cell-2d67eed642e3a5cd",
     "locked": true,
     "schema_version": 3,
     "solution": false,
     "task": false
    }
   },
   "source": [
    "\n",
    "---\n",
    "<a name='ej-3'></a>\n",
    "### **<font color=\"DodgerBlue\">Ejercicio 3. Aproximación con cuatro puntos.</font>**\n",
    "\n",
    "<font color=\"DarkBlue\">\n",
    "Implementar a siguiente fórmula de aproximación para el cálculo de la primera derivada y usarla \n",
    "para calcular la derivada del $\\sin(x)$ en $x=1.0$ y compararla con las anteriores.\n",
    "</font>.\n",
    "\n",
    "$$\n",
    "D_3 u = \\dfrac{1}{6 h} \n",
    "\\left[ 2u_{i+1} + 3u_{i} - 6u_{i-1} + u_{i-2} \\right]\n",
    "$$\n",
    "\n",
    "---\n",
    "\n",
    "**Hint**: Recuerde que $u_i = u(x)$, $u_{i+1} = u(x+h)$, $u_{i-1} = u(x-h)$ y $u_{i-2} = u(x-2h)$."
   ]
  },
  {
   "cell_type": "code",
   "execution_count": null,
   "metadata": {
    "deletable": false,
    "nbgrader": {
     "cell_type": "code",
     "checksum": "eb9466156d7536488c21e6079bc1c273",
     "grade": false,
     "grade_id": "cell-b41916ec8e0ae161",
     "locked": false,
     "schema_version": 3,
     "solution": true,
     "task": false
    }
   },
   "outputs": [],
   "source": [
    "# Implementación de D3\n",
    "def D3(u,x,h):\n",
    "    # YOUR CODE HERE\n",
    "    raise NotImplementedError()"
   ]
  },
  {
   "cell_type": "code",
   "execution_count": null,
   "metadata": {
    "deletable": false,
    "editable": false,
    "nbgrader": {
     "cell_type": "code",
     "checksum": "50bffa66eb9667eaf14725ee33b138fe",
     "grade": false,
     "grade_id": "cell-59b2cdd40a34b6d1",
     "locked": true,
     "schema_version": 3,
     "solution": false,
     "task": false
    }
   },
   "outputs": [],
   "source": [
    "# Calculamos el error entre la derivada exacta y la derivada numérica:\n",
    "e3 = np.fabs( np.cos(x) - D3(np.sin,x,h) )"
   ]
  },
  {
   "cell_type": "code",
   "execution_count": null,
   "metadata": {
    "deletable": false,
    "editable": false,
    "nbgrader": {
     "cell_type": "code",
     "checksum": "6c8f3fcd4c3cd65bb03dbef1c5febab2",
     "grade": true,
     "grade_id": "cell-414fa4467f039252",
     "locked": true,
     "points": 1,
     "schema_version": 3,
     "solution": false,
     "task": false
    }
   },
   "outputs": [],
   "source": [
    "quizz.verifica('1', '3', e3)"
   ]
  },
  {
   "cell_type": "code",
   "execution_count": null,
   "metadata": {
    "deletable": false,
    "editable": false,
    "nbgrader": {
     "cell_type": "code",
     "checksum": "cfd5d70f4ce0b7ac2ddcb492d0a92baa",
     "grade": false,
     "grade_id": "cell-6158d40de12ee08e",
     "locked": true,
     "schema_version": 3,
     "solution": false,
     "task": false
    }
   },
   "outputs": [],
   "source": [
    "# Metemos la información de h y del error en un Dataframe y mostramos el resultado:\n",
    "Error = pd.DataFrame(np.array([h,ef,eb,ec,e3]).T, \n",
    "                     columns=['$h$','$D_+$', '$D_-$','$D_0$','$D_3$'])\n",
    "Error"
   ]
  },
  {
   "cell_type": "code",
   "execution_count": null,
   "metadata": {
    "deletable": false,
    "editable": false,
    "nbgrader": {
     "cell_type": "code",
     "checksum": "703334246244e99c2b736b1b28820487",
     "grade": false,
     "grade_id": "cell-da9db1c214a29c0a",
     "locked": true,
     "schema_version": 3,
     "solution": false,
     "task": false
    }
   },
   "outputs": [],
   "source": [
    "# Hacemos el gráfico del error vs h\n",
    "plt.plot(h, ef, '^-', label='$D_+$')\n",
    "plt.plot(h, eb, 'v-', label='$D_-$')\n",
    "plt.plot(h, ec, 's-', label='$D_0$')\n",
    "plt.plot(h, e3, 'o-', label='$D_3$')\n",
    "\n",
    "plt.xlabel('$h$')\n",
    "plt.ylabel('Error')\n",
    "plt.title('Aproximación de la derivada')\n",
    "plt.legend()\n",
    "plt.loglog()  # Definimos la escala log-log\n",
    "plt.show()"
   ]
  },
  {
   "cell_type": "markdown",
   "metadata": {
    "deletable": false,
    "editable": false,
    "nbgrader": {
     "cell_type": "markdown",
     "checksum": "ed59876380cfa20623057613757ca280",
     "grade": false,
     "grade_id": "cell-e538b449fe87160d",
     "locked": true,
     "schema_version": 3,
     "solution": false,
     "task": false
    }
   },
   "source": [
    "\n",
    "---\n",
    "<a name='ej-4'></a>\n",
    "### **<font color=\"DodgerBlue\">Ejercicio 4. Aproximación con tres puntos (left).</font>**\n",
    "\n",
    "<font color=\"DarkBlue\">\n",
    "Implementar a siguiente fórmula de aproximación para el cálculo de la primera derivada y usarla \n",
    "para calcular la derivada del $\\sin(x)$ en $x=1.0$ y compararla con las anteriores.\n",
    "</font>.\n",
    "\n",
    "$$\n",
    "D_{2l}f^\\prime = \\frac{3 f_i - 4 f_{i-1} + f_{i-2}}{2h}\n",
    "$$\n",
    "\n",
    "---\n"
   ]
  },
  {
   "cell_type": "code",
   "execution_count": null,
   "metadata": {
    "deletable": false,
    "nbgrader": {
     "cell_type": "code",
     "checksum": "588636c475632e7a174781dcdef1f275",
     "grade": false,
     "grade_id": "cell-ebe47a5c551e962f",
     "locked": false,
     "schema_version": 3,
     "solution": true,
     "task": false
    }
   },
   "outputs": [],
   "source": [
    "# Implementación\n",
    "def D2l(u,x,h):\n",
    "    # YOUR CODE HERE\n",
    "    raise NotImplementedError()"
   ]
  },
  {
   "cell_type": "code",
   "execution_count": null,
   "metadata": {
    "deletable": false,
    "editable": false,
    "nbgrader": {
     "cell_type": "code",
     "checksum": "d54b2185177eaaa4e670ebc5110253e2",
     "grade": false,
     "grade_id": "cell-1c3019aad841aa13",
     "locked": true,
     "schema_version": 3,
     "solution": false,
     "task": false
    }
   },
   "outputs": [],
   "source": [
    "# Calculamos el error entre la derivada exacta y la derivada numérica:\n",
    "e2l = np.fabs( np.cos(x) - D2l(np.sin,x,h) )"
   ]
  },
  {
   "cell_type": "code",
   "execution_count": null,
   "metadata": {
    "deletable": false,
    "editable": false,
    "nbgrader": {
     "cell_type": "code",
     "checksum": "f7a9aadfbcdd1839e029b3fc8395c9f4",
     "grade": true,
     "grade_id": "cell-97ca66d5ed97ce1e",
     "locked": true,
     "points": 1,
     "schema_version": 3,
     "solution": false,
     "task": false
    }
   },
   "outputs": [],
   "source": [
    "quizz.verifica('1','4',e2l)"
   ]
  },
  {
   "cell_type": "code",
   "execution_count": null,
   "metadata": {
    "deletable": false,
    "editable": false,
    "nbgrader": {
     "cell_type": "code",
     "checksum": "5391ba0ad2cafc4eb21d12e1853f22e0",
     "grade": false,
     "grade_id": "cell-a6a2cd9c7d8cd952",
     "locked": true,
     "schema_version": 3,
     "solution": false,
     "task": false
    }
   },
   "outputs": [],
   "source": [
    "# Metemos la información de h y del error en un Dataframe y mostramos el resultado:\n",
    "Error = pd.DataFrame(np.array([h,ef,eb,ec,e3,e2l]).T, \n",
    "                     columns=['$h$','$D_+$', '$D_-$','$D_0$','$D_3$', '$D_{2l}$'])\n",
    "Error"
   ]
  },
  {
   "cell_type": "code",
   "execution_count": null,
   "metadata": {
    "deletable": false,
    "editable": false,
    "nbgrader": {
     "cell_type": "code",
     "checksum": "196c5d6ce2f76f0e69efc6a29e348391",
     "grade": false,
     "grade_id": "cell-bb24d8de33eb72a8",
     "locked": true,
     "schema_version": 3,
     "solution": false,
     "task": false
    }
   },
   "outputs": [],
   "source": [
    "# Hacemos el gráfico del error vs h\n",
    "plt.plot(h, ef, '^-', label='$D_+$')\n",
    "plt.plot(h, eb, 'v-', label='$D_-$')\n",
    "plt.plot(h, ec, 's-', label='$D_0$')\n",
    "plt.plot(h, e3, 'o-', label='$D_3$')\n",
    "plt.plot(h, e2l, 'P-', label='$D_{2l}$')\n",
    "\n",
    "plt.xlabel('$h$')\n",
    "plt.ylabel('Error')\n",
    "plt.title('Aproximación de la derivada')\n",
    "plt.legend()\n",
    "plt.loglog()  # Definimos la escala log-log\n",
    "plt.show()"
   ]
  },
  {
   "cell_type": "markdown",
   "metadata": {
    "deletable": false,
    "editable": false,
    "nbgrader": {
     "cell_type": "markdown",
     "checksum": "ffded7327c20edc1959515a1412843d2",
     "grade": false,
     "grade_id": "cell-8018cc6f12c5bebf",
     "locked": true,
     "schema_version": 3,
     "solution": false,
     "task": false
    }
   },
   "source": [
    "\n",
    "---\n",
    "<a name='ej-5'></a>\n",
    "### **<font color=\"DodgerBlue\">Ejercicio 5. Aproximación con tres puntos (right).</font>**\n",
    "\n",
    "<font color=\"DarkBlue\">\n",
    "Obtener los coeficientes $A$, $B$ y $C$ para una aproximación del siguiente tipo: \n",
    "</font>\n",
    "\n",
    "$$\n",
    "D_{2r} f^\\prime = A f_i + B f_{i+1} + C f_{i+2}\n",
    "$$\n",
    "\n",
    "<font color=\"DarkBlue\">\n",
    "y luego implementar la fórmula y graficarla junto con los resultados anteriores.\n",
    "</font>\n",
    "\n",
    "---"
   ]
  },
  {
   "cell_type": "markdown",
   "metadata": {
    "deletable": false,
    "editable": false,
    "nbgrader": {
     "cell_type": "markdown",
     "checksum": "f29e7428b8067e0bf5792f96f7ae807f",
     "grade": false,
     "grade_id": "cell-dbc456d46ec3dc42",
     "locked": true,
     "schema_version": 3,
     "solution": false,
     "task": false
    }
   },
   "source": [
    "Los coeficientes de la fórmula son: $A = -3 / 2h$, $B = 2/h$ y $C = -1/2h$ de tal manera que la fórmula de diferencias queda como sigue:\n",
    "\n",
    "$$\n",
    "f^\\prime = \\frac{-3 f_i + 4 f_{i+1} - f_{i+2}}{2h}\n",
    "$$"
   ]
  },
  {
   "cell_type": "code",
   "execution_count": null,
   "metadata": {
    "deletable": false,
    "nbgrader": {
     "cell_type": "code",
     "checksum": "e0edaf5db6cfb5213eb5b402a7ba5c73",
     "grade": false,
     "grade_id": "cell-812084fe3cf7015c",
     "locked": false,
     "schema_version": 3,
     "solution": true,
     "task": false
    }
   },
   "outputs": [],
   "source": [
    "# Implementación\n",
    "def D2r(u,x,h):\n",
    "    # YOUR CODE HERE\n",
    "    raise NotImplementedError()"
   ]
  },
  {
   "cell_type": "code",
   "execution_count": null,
   "metadata": {
    "deletable": false,
    "editable": false,
    "nbgrader": {
     "cell_type": "code",
     "checksum": "d4baedc9cf6b98794244162c8b77fb94",
     "grade": false,
     "grade_id": "cell-37408374c79fbef8",
     "locked": true,
     "schema_version": 3,
     "solution": false,
     "task": false
    }
   },
   "outputs": [],
   "source": [
    "# Calculamos el error entre la derivada exacta y la derivada numérica:\n",
    "e2r = np.fabs( np.cos(x) - D2r(np.sin,x,h) )"
   ]
  },
  {
   "cell_type": "code",
   "execution_count": null,
   "metadata": {
    "deletable": false,
    "editable": false,
    "nbgrader": {
     "cell_type": "code",
     "checksum": "d185d5201ba7f4fb699752a4ed08a53e",
     "grade": true,
     "grade_id": "cell-a7a1252506117ec1",
     "locked": true,
     "points": 1,
     "schema_version": 3,
     "solution": false,
     "task": false
    }
   },
   "outputs": [],
   "source": [
    "quizz.verifica('1','5',e2r)"
   ]
  },
  {
   "cell_type": "code",
   "execution_count": null,
   "metadata": {
    "deletable": false,
    "editable": false,
    "nbgrader": {
     "cell_type": "code",
     "checksum": "82ec83514ae85fbdd90a9fcd9b7d94cb",
     "grade": false,
     "grade_id": "cell-721a4fbbfd375f00",
     "locked": true,
     "schema_version": 3,
     "solution": false,
     "task": false
    }
   },
   "outputs": [],
   "source": [
    "# Calculamos el error entre la derivada exacta y la derivada numérica:\n",
    "e2r = np.fabs( np.cos(x) - D2r(np.sin,x,h) )\n",
    "\n",
    "# Metemos la información de h y del error en un Dataframe y mostramos el resultado:\n",
    "Error = pd.DataFrame(np.array([h,ef,eb,ec,e3,e2l,e2r]).transpose(), \n",
    "                     columns=['$h$','$D_+$', '$D_-$','$D_0$','$D_3$', '$D_{2i}$', '$D_{2r}$'])\n",
    "Error"
   ]
  },
  {
   "cell_type": "code",
   "execution_count": null,
   "metadata": {
    "deletable": false,
    "editable": false,
    "nbgrader": {
     "cell_type": "code",
     "checksum": "881f117901c322749799488a5f284a3b",
     "grade": false,
     "grade_id": "cell-c296f908d29a5b18",
     "locked": true,
     "schema_version": 3,
     "solution": false,
     "task": false
    }
   },
   "outputs": [],
   "source": [
    "# Hacemos el gráfico del error vs h\n",
    "plt.plot(h, ef, '^-', label='$D_+$')\n",
    "plt.plot(h, eb, 'v-', label='$D_-$')\n",
    "plt.plot(h, ec, 's-', label='$D_0$')\n",
    "plt.plot(h, e3, 'o-', label='$D_3$')\n",
    "plt.plot(h, e2l, 'P--', label='$D_{2l}$')\n",
    "plt.plot(h, e2r, 'p-.', label='$D_{2r}$')\n",
    "\n",
    "plt.xlabel('$h$')\n",
    "plt.ylabel('Error')\n",
    "plt.title('Aproximación de la derivada')\n",
    "plt.legend()\n",
    "plt.loglog()  # Definimos la escala log-log\n",
    "plt.show()"
   ]
  },
  {
   "cell_type": "code",
   "execution_count": null,
   "metadata": {},
   "outputs": [],
   "source": []
  }
 ],
 "metadata": {
  "kernelspec": {
   "display_name": "Python 3 (ipykernel)",
   "language": "python",
   "name": "python3"
  },
  "language_info": {
   "codemirror_mode": {
    "name": "ipython",
    "version": 3
   },
   "file_extension": ".py",
   "mimetype": "text/x-python",
   "name": "python",
   "nbconvert_exporter": "python",
   "pygments_lexer": "ipython3",
   "version": "3.9.7"
  }
 },
 "nbformat": 4,
 "nbformat_minor": 4
}
