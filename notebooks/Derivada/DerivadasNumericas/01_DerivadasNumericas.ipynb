{
 "cells": [
  {
   "cell_type": "markdown",
   "metadata": {},
   "source": [
    "# Cálculo de derivadas numéricas\n",
    "## Proyecto PAPIME PE101019\n",
    "- Autor: Luis M. de la Cruz Salas\n",
    "- Rev: lun jul  6 19:29:17 CDT 2020"
   ]
  },
  {
   "cell_type": "code",
   "execution_count": 3,
   "metadata": {},
   "outputs": [],
   "source": [
    "import numpy as np\n",
    "import pandas as pd\n",
    "import matplotlib.pyplot as plt\n",
    "%matplotlib inline"
   ]
  },
  {
   "cell_type": "code",
   "execution_count": 4,
   "metadata": {},
   "outputs": [],
   "source": [
    "params = {'figure.figsize' : (10,5),\n",
    "#          'text.usetex'    : True,\n",
    "          'xtick.labelsize': 15,\n",
    "          'ytick.labelsize': 15,\n",
    "          'axes.labelsize' : 20,\n",
    "          'axes.titlesize' : 20,\n",
    "          'legend.fontsize': 15,\n",
    "          'lines.linewidth'     : 3}\n",
    "\n",
    "plt.rcParams.update(params)"
   ]
  },
  {
   "cell_type": "markdown",
   "metadata": {},
   "source": [
    "### Aproximación de la primera derivada usando diferencias finitas hacia adelante (Forward):\n",
    "\n",
    "$\n",
    "\\displaystyle\n",
    "\\dfrac{\\partial u(x)}{\\partial x} \\approx \\lim\\limits_{h\\to 0} \\frac{u(x+h) - u(x)}{h}\n",
    "$\n",
    "\n",
    "Definimos una función de Python para calcular está formula como sigue:"
   ]
  },
  {
   "cell_type": "code",
   "execution_count": 5,
   "metadata": {},
   "outputs": [],
   "source": [
    "def forwardFD(u,x,h):\n",
    "    \"\"\" \n",
    "    Esquema de diferencias finitas hacia adelante.\n",
    "    \n",
    "    Parameters\n",
    "    ----------\n",
    "    u : función. \n",
    "    Función a evaluar.\n",
    "    \n",
    "    x : array\n",
    "    Lugar(es) donde se evalúa la función\n",
    "    \n",
    "    h : array\n",
    "    Tamaño(s) de la diferencia entre u(x+h) y u(x).\n",
    "    \n",
    "    Returns\n",
    "    -------\n",
    "    Cálculo de la derivada numérica hacia adelante.\n",
    "    \"\"\"\n",
    "    return (u(x+h)-u(x))/h"
   ]
  },
  {
   "cell_type": "code",
   "execution_count": 6,
   "metadata": {},
   "outputs": [
    {
     "name": "stdout",
     "output_type": "stream",
     "text": [
      "[1.      0.5     0.25    0.125   0.0625  0.03125]\n",
      "[1. 1. 1. 1. 1. 1.]\n"
     ]
    }
   ],
   "source": [
    "# Definimos un arreglo con diferentes tamaños de h:\n",
    "N = 6\n",
    "h = np.zeros(N)\n",
    "\n",
    "h[0] = 1.0\n",
    "for i in range(1,N):\n",
    "    h[i] = h[i-1] * 0.5\n",
    "\n",
    "# Definimos un arreglo con valores de 1.0 (donde evaluaremos el cos(x)):\n",
    "x = np.ones(N)\n",
    "\n",
    "print(h)\n",
    "print(x)"
   ]
  },
  {
   "cell_type": "code",
   "execution_count": 7,
   "metadata": {},
   "outputs": [
    {
     "data": {
      "text/html": [
       "<div>\n",
       "<style scoped>\n",
       "    .dataframe tbody tr th:only-of-type {\n",
       "        vertical-align: middle;\n",
       "    }\n",
       "\n",
       "    .dataframe tbody tr th {\n",
       "        vertical-align: top;\n",
       "    }\n",
       "\n",
       "    .dataframe thead th {\n",
       "        text-align: right;\n",
       "    }\n",
       "</style>\n",
       "<table border=\"1\" class=\"dataframe\">\n",
       "  <thead>\n",
       "    <tr style=\"text-align: right;\">\n",
       "      <th></th>\n",
       "      <th>$h$</th>\n",
       "      <th>$D_+$</th>\n",
       "    </tr>\n",
       "  </thead>\n",
       "  <tbody>\n",
       "    <tr>\n",
       "      <th>0</th>\n",
       "      <td>1.00000</td>\n",
       "      <td>0.472476</td>\n",
       "    </tr>\n",
       "    <tr>\n",
       "      <th>1</th>\n",
       "      <td>0.50000</td>\n",
       "      <td>0.228254</td>\n",
       "    </tr>\n",
       "    <tr>\n",
       "      <th>2</th>\n",
       "      <td>0.25000</td>\n",
       "      <td>0.110248</td>\n",
       "    </tr>\n",
       "    <tr>\n",
       "      <th>3</th>\n",
       "      <td>0.12500</td>\n",
       "      <td>0.053929</td>\n",
       "    </tr>\n",
       "    <tr>\n",
       "      <th>4</th>\n",
       "      <td>0.06250</td>\n",
       "      <td>0.026639</td>\n",
       "    </tr>\n",
       "    <tr>\n",
       "      <th>5</th>\n",
       "      <td>0.03125</td>\n",
       "      <td>0.013235</td>\n",
       "    </tr>\n",
       "  </tbody>\n",
       "</table>\n",
       "</div>"
      ],
      "text/plain": [
       "       $h$     $D_+$\n",
       "0  1.00000  0.472476\n",
       "1  0.50000  0.228254\n",
       "2  0.25000  0.110248\n",
       "3  0.12500  0.053929\n",
       "4  0.06250  0.026639\n",
       "5  0.03125  0.013235"
      ]
     },
     "execution_count": 7,
     "metadata": {},
     "output_type": "execute_result"
    }
   ],
   "source": [
    "# Calculamos el error entre la derivada exacta y la derivada numérica:\n",
    "ef = np.fabs( np.cos(x) - forwardFD(np.sin,x,h) )\n",
    "\n",
    "# Colocamos la información de h y del error en un Dataframe y mostramos el resultado:\n",
    "Error = pd.DataFrame(np.array([h, ef]).transpose(), \n",
    "                     columns=['$h$','$D_+$'])\n",
    "Error"
   ]
  },
  {
   "cell_type": "code",
   "execution_count": 8,
   "metadata": {},
   "outputs": [
    {
     "data": {
      "image/png": "[encoded data removed]",
      "text/plain": [
       "<Figure size 1000x500 with 1 Axes>"
      ]
     },
     "metadata": {},
     "output_type": "display_data"
    }
   ],
   "source": [
    "# Hacemos el gráfico del error vs h\n",
    "plt.plot(h, ef, '^-', label='$D_+$')\n",
    "plt.xlabel('$h$')\n",
    "plt.ylabel('Error')\n",
    "plt.title('Aproximación de la derivada')\n",
    "plt.legend()\n",
    "plt.show()"
   ]
  },
  {
   "cell_type": "markdown",
   "metadata": {},
   "source": [
    "### Aproximación de la primera derivada usando diferencias finitas hacia atrás (Backward):\n",
    "\n",
    "$\n",
    "\\displaystyle\n",
    "\\frac{\\partial u(x)}{\\partial x} \\approx \\lim\\limits_{h\\to 0} \\frac{u(x) - u(x-h)}{h}\n",
    "$\n",
    "\n",
    "Definimos una función de Python para calcular está formula como sigue:"
   ]
  },
  {
   "cell_type": "code",
   "execution_count": null,
   "metadata": {},
   "outputs": [],
   "source": [
    "def backwardFD(u,x,h):\n",
    "    \"\"\" \n",
    "    Esquema de diferencias finitas hacia atrás.\n",
    "    \n",
    "    Parameters\n",
    "    ----------\n",
    "    u : función. \n",
    "    Función a evaluar.\n",
    "    \n",
    "    x : array\n",
    "    Lugar(es) donde se evalúa la función\n",
    "    \n",
    "    h : array\n",
    "    Tamaño(s) de la diferencia entre u(x+h) y u(x).\n",
    "    \n",
    "    Returns\n",
    "    -------\n",
    "    Cálculo de la derivada numérica hacia atrás.\n",
    "    \"\"\"\n",
    "    return (u(x)-u(x-h))/h"
   ]
  },
  {
   "cell_type": "code",
   "execution_count": null,
   "metadata": {},
   "outputs": [],
   "source": [
    "# Calculamos el error entre la derivada exacta y la derivada numérica:\n",
    "eb = np.fabs( np.cos(x) - backwardFD(np.sin,x,h) )\n",
    "\n",
    "# Metemos la información de h y del error en un Dataframe y mostramos el resultado:\n",
    "Error = pd.DataFrame(np.array([h, ef, eb]).transpose(), \n",
    "                     columns=['$h$','$D_+$', '$D_-$'])\n",
    "Error"
   ]
  },
  {
   "cell_type": "code",
   "execution_count": null,
   "metadata": {},
   "outputs": [],
   "source": [
    "# Hacemos el gráfico del error vs h\n",
    "plt.plot(h, ef, '^-', label='$D_+$')\n",
    "plt.plot(h, eb, 'v-', label='$D_-$')\n",
    "plt.xlabel('$h$')\n",
    "plt.ylabel('Error')\n",
    "plt.title('Aproximación de la derivada')\n",
    "plt.legend()\n",
    "plt.show()"
   ]
  },
  {
   "cell_type": "markdown",
   "metadata": {},
   "source": [
    "### Aproximación de la primera derivada usando diferencias finitas hacía centradas (Centered):\n",
    "\n",
    "$\n",
    "\\displaystyle\n",
    "\\frac{\\partial u(x)}{\\partial x} \\approx \\lim\\limits_{h\\to 0} \\frac{u(x+h) - u(x-h)}{2h}\n",
    "$\n",
    "\n",
    "Definimos una función de Python para calcular está formula como sigue:"
   ]
  },
  {
   "cell_type": "code",
   "execution_count": null,
   "metadata": {},
   "outputs": [],
   "source": [
    "def centeredFD(u,x,h):\n",
    "    \"\"\" \n",
    "    Esquema de diferencias finitas centradas.\n",
    "    \n",
    "    Parameters\n",
    "    ----------\n",
    "    u : función. \n",
    "    Función a evaluar.\n",
    "    \n",
    "    x : array\n",
    "    Lugar(es) donde se evalúa la función\n",
    "    \n",
    "    h : array\n",
    "    Tamaño(s) de la diferencia entre u(x+h) y u(x).\n",
    "    \n",
    "    Returns\n",
    "    -------\n",
    "    Cálculo de la derivada numérica centrada.\n",
    "    \"\"\"\n",
    "    return (u(x+h)-u(x-h))/(2*h)"
   ]
  },
  {
   "cell_type": "code",
   "execution_count": null,
   "metadata": {},
   "outputs": [],
   "source": [
    "# Calculamos el error entre la derivada exacta y la derivada numérica:\n",
    "ec = np.fabs( np.cos(x) - centeredFD(np.sin,x,h) )\n",
    "\n",
    "# Metemos la información de h y del error en un Dataframe y mostramos el resultado:\n",
    "Error = pd.DataFrame(np.array([h,ef,eb,ec]).transpose(), \n",
    "                     columns=['$h$','$D_+$', '$D_-$','$D_0$'])\n",
    "Error"
   ]
  },
  {
   "cell_type": "markdown",
   "metadata": {},
   "source": [
    "Observe que en este caso los errores son varios órdenes de magnitud más pequeños que para $D_+$ y $D_-$. Para hacer una gráfica más representativa usaremos escala log-log:"
   ]
  },
  {
   "cell_type": "code",
   "execution_count": null,
   "metadata": {},
   "outputs": [],
   "source": [
    "# Hacemos el gráfico del error vs h\n",
    "plt.plot(h, ef, '^-', label='$D_+$')\n",
    "plt.plot(h, eb, 'v-', label='$D_-$')\n",
    "plt.plot(h, ec, 's-', label='$D_0$')\n",
    "plt.xlabel('$h$')\n",
    "plt.ylabel('Error')\n",
    "plt.title('Aproximación de la derivada')\n",
    "plt.legend()\n",
    "plt.loglog()  # Definimos la escala log-log\n",
    "plt.show()"
   ]
  },
  {
   "cell_type": "markdown",
   "metadata": {},
   "source": [
    "Como se puede apreciar, la gráfica anterior muestra que la aproximación con diferencias finitas centradas es mejor, pues es de orden cuadrático."
   ]
  },
  {
   "cell_type": "markdown",
   "metadata": {},
   "source": [
    "## Ejercicio 0.\n",
    "Para mejorar aún más la aproximación de la derivada se pueden usar más puntos en la fórmula de aproximación. Por ejemplo: \n",
    "\n",
    "$\n",
    "D_3 u = \\dfrac{1}{6 h} \n",
    "\\left[ 2u_{i+1} + 3u_{i} - 6u_{i-1} + u_{i-2} \\right]\n",
    "$\n",
    "\n",
    "- Agregar una función de Python para calcular la derivada con la fórmula anterior.\n",
    "- Calcular el error, completar la tabla de errores y hacer el gráfico con todas las aproximaciones. \n",
    "\n",
    "Al final de este ejercicio se debe obtener un gráfico similar al de la siguiente figura:\n",
    "\n",
    "<img src=\"../Figuras/dernum.png\">\n",
    "\n",
    "**Hint**: Recuerde que $u_i = u(x)$, $u_{i+1} = u(x+h)$, $u_{i-1} = u(x-h)$ y $u_{i-2} = u(x-2h)$."
   ]
  },
  {
   "cell_type": "code",
   "execution_count": null,
   "metadata": {},
   "outputs": [],
   "source": [
    "# Implementación de D3"
   ]
  },
  {
   "cell_type": "markdown",
   "metadata": {},
   "source": [
    "# Herramienta interativa\n",
    "La siguiente herramienta tiene como propósito mostras diferentes funciones y sus derivadas exactas así como el cálculo numérico de las derivadas usando varias aproximaciones. Puedes elegir la función y el tipo de aproximación. Después, puedes mover el punto donde se realiza la aproximación y el tamaño de la $h$."
   ]
  },
  {
   "cell_type": "code",
   "execution_count": null,
   "metadata": {},
   "outputs": [],
   "source": [
    "# LINUX y MACOS\n",
    "%run \"./utils/interactiveDerivadasNumericas.ipynb\"\n",
    "\n",
    "# Si usas WINDOWS debes comentar la línea de arriba y \n",
    "# descomentar la línea que sigue. Deberás también sustituir\n",
    "# TU_DIRECTORIO por el directorio donde esté el repositorio GeoMaC\n",
    "\n",
    "#%run \"D:\\\\TU_DIRECTORIO\\\\GeoMaC\\\\DerivadasNumericas\\\\utils\\\\interactiveDerivadasNumericas.ipynb\""
   ]
  },
  {
   "cell_type": "code",
   "execution_count": null,
   "metadata": {},
   "outputs": [],
   "source": []
  }
 ],
 "metadata": {
  "kernelspec": {
   "display_name": "Python 3 (ipykernel)",
   "language": "python",
   "name": "python3"
  },
  "language_info": {
   "codemirror_mode": {
    "name": "ipython",
    "version": 3
   },
   "file_extension": ".py",
   "mimetype": "text/x-python",
   "name": "python",
   "nbconvert_exporter": "python",
   "pygments_lexer": "ipython3",
   "version": "3.10.7"
  }
 },
 "nbformat": 4,
 "nbformat_minor": 4
}
