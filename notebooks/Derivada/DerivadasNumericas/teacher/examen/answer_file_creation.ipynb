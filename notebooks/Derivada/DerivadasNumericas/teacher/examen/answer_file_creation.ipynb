{
 "cells": [
  {
   "cell_type": "code",
   "execution_count": 2,
   "id": "4f67517d-a9e3-4647-b489-2112beedb6e4",
   "metadata": {
    "tags": []
   },
   "outputs": [],
   "source": [
    "import numpy as np\n",
    "import pandas as pd"
   ]
  },
  {
   "cell_type": "code",
   "execution_count": 17,
   "id": "0e83b995-51a3-4290-90e2-f93bcb276e0a",
   "metadata": {
    "tags": []
   },
   "outputs": [
    {
     "data": {
      "text/html": [
       "<div>\n",
       "<style scoped>\n",
       "    .dataframe tbody tr th:only-of-type {\n",
       "        vertical-align: middle;\n",
       "    }\n",
       "\n",
       "    .dataframe tbody tr th {\n",
       "        vertical-align: top;\n",
       "    }\n",
       "\n",
       "    .dataframe thead th {\n",
       "        text-align: right;\n",
       "    }\n",
       "</style>\n",
       "<table border=\"1\" class=\"dataframe\">\n",
       "  <thead>\n",
       "    <tr style=\"text-align: right;\">\n",
       "      <th></th>\n",
       "      <th>1</th>\n",
       "      <th>2</th>\n",
       "      <th>3</th>\n",
       "      <th>4</th>\n",
       "    </tr>\n",
       "  </thead>\n",
       "  <tbody>\n",
       "    <tr>\n",
       "      <th>0</th>\n",
       "      <td>[0.0, 0.025, 0.05, 0.075, 0.1, 0.125, 0.15, 0....</td>\n",
       "      <td>[1.96144686, 1.96144686, 1.96144686, 1.9614468...</td>\n",
       "      <td>[1.0, 1.17861629, 1.31179322, 1.3943964, 1.423...</td>\n",
       "      <td>[0.04614724]</td>\n",
       "    </tr>\n",
       "  </tbody>\n",
       "</table>\n",
       "</div>"
      ],
      "text/plain": [
       "                                                   1  \\\n",
       "0  [0.0, 0.025, 0.05, 0.075, 0.1, 0.125, 0.15, 0....   \n",
       "\n",
       "                                                   2  \\\n",
       "0  [1.96144686, 1.96144686, 1.96144686, 1.9614468...   \n",
       "\n",
       "                                                   3             4  \n",
       "0  [1.0, 1.17861629, 1.31179322, 1.3943964, 1.423...  [0.04614724]  "
      ]
     },
     "execution_count": 17,
     "metadata": {},
     "output_type": "execute_result"
    }
   ],
   "source": [
    "# Numero de quiz\n",
    "q = '1'\n",
    "# Numeración de los ejercicios\n",
    "ejercicios = ['1', '2', '3', '4']\n",
    "\n",
    "# Lista vacía para las respuestas\n",
    "respuestas = []\n",
    "\n",
    "# Agregar las respuestas a cada ejercicio\n",
    "respuestas.append(np.array([0., 0.025, 0.05, 0.075, 0.1, 0.125, 0.15, 0.175, 0.2, 0.225, 0.25, \n",
    "                            0.275, 0.3, 0.325, 0.35, 0.375, 0.4, 0.425, 0.45, 0.475, 0.5, 0.525, \n",
    "                            0.55,  0.575, 0.6, 0.625, 0.65, 0.675, 0.7, 0.725, 0.75, 0.775, 0.8,\n",
    "                            0.825, 0.85, 0.875, 0.9, 0.925, 0.95, 0.975, 1.]))   # 1\n",
    "respuestas.append(np.array([1.96144686, 1.96144686, 1.96144686, 1.96144686, 1.96144686,\n",
    "       1.96144686, 1.96144686, 1.96144686, 1.96144686, 1.96144686,\n",
    "       1.96144686, 1.96144686, 1.96144686, 1.96144686, 1.96144686,\n",
    "       1.96144686, 1.96144686, 1.96144686, 1.96144686, 1.96144686,\n",
    "       1.96144686, 1.96144686, 1.96144686, 1.96144686, 1.96144686,\n",
    "       1.96144686, 1.96144686, 1.96144686, 1.96144686, 1.96144686,\n",
    "       1.96144686, 1.96144686, 1.96144686, 1.96144686, 1.96144686,\n",
    "       1.96144686, 1.96144686, 1.96144686, 1.96144686]))   # 2\n",
    "\n",
    "respuestas.append([ 1.        ,  1.17861629,  1.31179322,  1.3943964 ,  1.42324122,\n",
    "        1.39721561,  1.31732296,  1.18664336,  1.01021494,  0.79483955,\n",
    "        0.5488206 ,  0.28164289,  0.00360697, -0.27456802, -0.54215754,\n",
    "       -0.78884519, -1.00512038, -1.18264502, -1.31457498, -1.39582394,\n",
    "       -1.4232595 , -1.39582394, -1.31457498, -1.18264502, -1.00512038,\n",
    "       -0.78884519, -0.54215754, -0.27456802,  0.00360697,  0.28164289,\n",
    "        0.5488206 ,  0.79483955,  1.01021494,  1.18664336,  1.31732296,\n",
    "        1.39721561,  1.42324122,  1.3943964 ,  1.31179322,  1.17861629,\n",
    "        1.        ])           # 3\n",
    "respuestas.append(np.array([0.04614724])) # 4\n",
    "#respuestas.append(np.array([0.498646])) # 4a\n",
    "#respuestas.append(np.array([4.9e-09]))  # 4b\n",
    "#respuestas.append(np.array([1.1e-09]))  # 4c\n",
    "#respuestas.append(['3x^2-3xh+h^2', '3x^2-3hx+h^2'])     # 5\n",
    "\n",
    "# Convertimos a un DataFrame\n",
    "ans_df = pd.DataFrame([respuestas], columns=ejercicios)\n",
    "\n",
    "# Escribimos las respuestas en un archivo tipo parquet, binario y comprimido\n",
    "ans_df.to_parquet('.__ans_' + q, compression='gzip')\n",
    "\n",
    "# Mostramos el contenido del DataFrame\n",
    "ans_df"
   ]
  },
  {
   "cell_type": "code",
   "execution_count": 18,
   "id": "f9cc6ce8-e5cd-43ae-abde-1ef16a0f676d",
   "metadata": {
    "tags": []
   },
   "outputs": [
    {
     "data": {
      "text/html": [
       "<div>\n",
       "<style scoped>\n",
       "    .dataframe tbody tr th:only-of-type {\n",
       "        vertical-align: middle;\n",
       "    }\n",
       "\n",
       "    .dataframe tbody tr th {\n",
       "        vertical-align: top;\n",
       "    }\n",
       "\n",
       "    .dataframe thead th {\n",
       "        text-align: right;\n",
       "    }\n",
       "</style>\n",
       "<table border=\"1\" class=\"dataframe\">\n",
       "  <thead>\n",
       "    <tr style=\"text-align: right;\">\n",
       "      <th></th>\n",
       "      <th>1</th>\n",
       "      <th>2</th>\n",
       "      <th>3</th>\n",
       "      <th>4</th>\n",
       "    </tr>\n",
       "  </thead>\n",
       "  <tbody>\n",
       "    <tr>\n",
       "      <th>0</th>\n",
       "      <td>[0.0, 0.025, 0.05, 0.075, 0.1, 0.125, 0.15, 0....</td>\n",
       "      <td>[1.96144686, 1.96144686, 1.96144686, 1.9614468...</td>\n",
       "      <td>[1.0, 1.17861629, 1.31179322, 1.3943964, 1.423...</td>\n",
       "      <td>[0.04614724]</td>\n",
       "    </tr>\n",
       "  </tbody>\n",
       "</table>\n",
       "</div>"
      ],
      "text/plain": [
       "                                                   1  \\\n",
       "0  [0.0, 0.025, 0.05, 0.075, 0.1, 0.125, 0.15, 0....   \n",
       "\n",
       "                                                   2  \\\n",
       "0  [1.96144686, 1.96144686, 1.96144686, 1.9614468...   \n",
       "\n",
       "                                                   3             4  \n",
       "0  [1.0, 1.17861629, 1.31179322, 1.3943964, 1.423...  [0.04614724]  "
      ]
     },
     "execution_count": 18,
     "metadata": {},
     "output_type": "execute_result"
    }
   ],
   "source": [
    "# Se puede leer el contenido del archivo tipo parquet, binario y comprimido como sigue\n",
    "ans_df2 = pd.read_parquet('.__ans_' + q) # Se lee en un DataFrame\n",
    "ans_df2"
   ]
  },
  {
   "cell_type": "code",
   "execution_count": null,
   "id": "9cafcc00-5233-443e-b695-db4b963bb453",
   "metadata": {},
   "outputs": [],
   "source": []
  }
 ],
 "metadata": {
  "kernelspec": {
   "display_name": "Python 3 (ipykernel)",
   "language": "python",
   "name": "python3"
  },
  "language_info": {
   "codemirror_mode": {
    "name": "ipython",
    "version": 3
   },
   "file_extension": ".py",
   "mimetype": "text/x-python",
   "name": "python",
   "nbconvert_exporter": "python",
   "pygments_lexer": "ipython3",
   "version": "3.11.3"
  }
 },
 "nbformat": 4,
 "nbformat_minor": 5
}
