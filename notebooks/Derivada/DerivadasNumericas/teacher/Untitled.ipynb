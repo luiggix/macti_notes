{
 "cells": [
  {
   "cell_type": "code",
   "execution_count": 1,
   "id": "45676530-04ed-4c2e-8a15-29c6b24af22e",
   "metadata": {
    "tags": []
   },
   "outputs": [],
   "source": [
    "import numpy as np\n",
    "import matplotlib.pyplot as plt\n",
    "import sys\n",
    "import time"
   ]
  },
  {
   "cell_type": "code",
   "execution_count": 2,
   "id": "4bead092-02c1-497e-81a2-3e8640eaf96e",
   "metadata": {
    "tags": []
   },
   "outputs": [],
   "source": [
    "def Laplaciano1D(N, diagonal):\n",
    "    \"\"\"\n",
    "        Devuelve la matriz A, del sistema Ax = b, \n",
    "        considerando las condiciones de frontera. \n",
    "        Params:\n",
    "            N: int\n",
    "                Número de incognitas. \\n\n",
    "            diagonal: escalar\n",
    "                Valor de la diagonal principal. \\n\n",
    "        Return:\n",
    "            A: ndarray\n",
    "                Matriz NxN, con tres bandas distintas a cero.\n",
    "    \"\"\"\n",
    "    A = np.zeros((N,N))\n",
    "    A[0,0] = diagonal; A[0,1] = 1\n",
    "    for i in range(1,N-1):\n",
    "        A[i,i] = diagonal\n",
    "        A[i,i+1] = 1\n",
    "        A[i,i-1] = 1\n",
    "    A[N-1,N-2] = 1; A[N-1,N-1] = diagonal \n",
    "    return A"
   ]
  },
  {
   "cell_type": "code",
   "execution_count": null,
   "id": "35a7ffba-c3c3-4f11-8e9e-a9a377befe63",
   "metadata": {},
   "outputs": [],
   "source": []
  }
 ],
 "metadata": {
  "kernelspec": {
   "display_name": "Python 3 (ipykernel)",
   "language": "python",
   "name": "python3"
  },
  "language_info": {
   "codemirror_mode": {
    "name": "ipython",
    "version": 3
   },
   "file_extension": ".py",
   "mimetype": "text/x-python",
   "name": "python",
   "nbconvert_exporter": "python",
   "pygments_lexer": "ipython3",
   "version": "3.11.3"
  }
 },
 "nbformat": 4,
 "nbformat_minor": 5
}
