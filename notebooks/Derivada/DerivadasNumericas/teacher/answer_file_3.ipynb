{
 "cells": [
  {
   "cell_type": "code",
   "execution_count": 2,
   "id": "4f67517d-a9e3-4647-b489-2112beedb6e4",
   "metadata": {},
   "outputs": [],
   "source": [
    "import numpy as np\n",
    "import pandas as pd"
   ]
  },
  {
   "cell_type": "code",
   "execution_count": 11,
   "id": "0e83b995-51a3-4290-90e2-f93bcb276e0a",
   "metadata": {},
   "outputs": [
    {
     "data": {
      "text/html": [
       "<div>\n",
       "<style scoped>\n",
       "    .dataframe tbody tr th:only-of-type {\n",
       "        vertical-align: middle;\n",
       "    }\n",
       "\n",
       "    .dataframe tbody tr th {\n",
       "        vertical-align: top;\n",
       "    }\n",
       "\n",
       "    .dataframe thead th {\n",
       "        text-align: right;\n",
       "    }\n",
       "</style>\n",
       "<table border=\"1\" class=\"dataframe\">\n",
       "  <thead>\n",
       "    <tr style=\"text-align: right;\">\n",
       "      <th></th>\n",
       "      <th>1</th>\n",
       "      <th>2</th>\n",
       "      <th>3</th>\n",
       "    </tr>\n",
       "  </thead>\n",
       "  <tbody>\n",
       "    <tr>\n",
       "      <th>0</th>\n",
       "      <td>[1.0, 0.9382716049382716, 0.8641975308641976, ...</td>\n",
       "      <td>[0.10000000000000009, 1.0000000000000026e-05, ...</td>\n",
       "      <td>[0.03333333333333336, 0.03333333333333342, 0.0...</td>\n",
       "    </tr>\n",
       "  </tbody>\n",
       "</table>\n",
       "</div>"
      ],
      "text/plain": [
       "                                                   1  \\\n",
       "0  [1.0, 0.9382716049382716, 0.8641975308641976, ...   \n",
       "\n",
       "                                                   2  \\\n",
       "0  [0.10000000000000009, 1.0000000000000026e-05, ...   \n",
       "\n",
       "                                                   3  \n",
       "0  [0.03333333333333336, 0.03333333333333342, 0.0...  "
      ]
     },
     "execution_count": 11,
     "metadata": {},
     "output_type": "execute_result"
    }
   ],
   "source": [
    "# Numero de quiz\n",
    "q = '3'\n",
    "# Numeración de los ejercicios\n",
    "ejercicios = ['1', '2', '3']\n",
    "\n",
    "# Lista vacía para las respuestas\n",
    "respuestas = []\n",
    "\n",
    "# Agregar las respuestas a cada ejercicio\n",
    "respuestas.append(np.array([1., 0.9382716049382716, 0.8641975308641976, 0.7777777777777778, 0.6790123456790124,\n",
    "0.5679012345679012, 0.44444444444444453, 0.3086419753086421, 0.16049382716049387, 0. ]))   # 1\n",
    "respuestas.append(np.array([0.10000000000000009, 1.0000000000000026e-05, 100.0])) # 1b\n",
    "respuestas.append(np.array([0.03333333333333336, 0.03333333333333342, 0.03333333333333333])) # 2\n",
    "    \n",
    "# Convertimos a un DataFrame\n",
    "ans_df = pd.DataFrame([respuestas], columns=ejercicios)\n",
    "\n",
    "# Escribimos las respuestas en un archivo tipo parquet, binario y comprimido\n",
    "ans_df.to_parquet('.__ans_' + q, compression='gzip')\n",
    "\n",
    "# Mostramos el contenido del DataFrame\n",
    "ans_df"
   ]
  },
  {
   "cell_type": "code",
   "execution_count": 12,
   "id": "f9cc6ce8-e5cd-43ae-abde-1ef16a0f676d",
   "metadata": {},
   "outputs": [
    {
     "data": {
      "text/html": [
       "<div>\n",
       "<style scoped>\n",
       "    .dataframe tbody tr th:only-of-type {\n",
       "        vertical-align: middle;\n",
       "    }\n",
       "\n",
       "    .dataframe tbody tr th {\n",
       "        vertical-align: top;\n",
       "    }\n",
       "\n",
       "    .dataframe thead th {\n",
       "        text-align: right;\n",
       "    }\n",
       "</style>\n",
       "<table border=\"1\" class=\"dataframe\">\n",
       "  <thead>\n",
       "    <tr style=\"text-align: right;\">\n",
       "      <th></th>\n",
       "      <th>1</th>\n",
       "      <th>2</th>\n",
       "      <th>3</th>\n",
       "    </tr>\n",
       "  </thead>\n",
       "  <tbody>\n",
       "    <tr>\n",
       "      <th>0</th>\n",
       "      <td>[1.0, 0.9382716049382716, 0.8641975308641976, ...</td>\n",
       "      <td>[0.10000000000000009, 1.0000000000000026e-05, ...</td>\n",
       "      <td>[0.03333333333333336, 0.03333333333333342, 0.0...</td>\n",
       "    </tr>\n",
       "  </tbody>\n",
       "</table>\n",
       "</div>"
      ],
      "text/plain": [
       "                                                   1  \\\n",
       "0  [1.0, 0.9382716049382716, 0.8641975308641976, ...   \n",
       "\n",
       "                                                   2  \\\n",
       "0  [0.10000000000000009, 1.0000000000000026e-05, ...   \n",
       "\n",
       "                                                   3  \n",
       "0  [0.03333333333333336, 0.03333333333333342, 0.0...  "
      ]
     },
     "execution_count": 12,
     "metadata": {},
     "output_type": "execute_result"
    }
   ],
   "source": [
    "# Se puede leer el contenido del archivo tipo parquet, binario y comprimido como sigue\n",
    "ans_df2 = pd.read_parquet('.__ans_' + q) # Se lee en un DataFrame\n",
    "ans_df2"
   ]
  },
  {
   "cell_type": "code",
   "execution_count": null,
   "id": "9cafcc00-5233-443e-b695-db4b963bb453",
   "metadata": {},
   "outputs": [],
   "source": []
  }
 ],
 "metadata": {
  "kernelspec": {
   "display_name": "Python 3 (ipykernel)",
   "language": "python",
   "name": "python3"
  },
  "language_info": {
   "codemirror_mode": {
    "name": "ipython",
    "version": 3
   },
   "file_extension": ".py",
   "mimetype": "text/x-python",
   "name": "python",
   "nbconvert_exporter": "python",
   "pygments_lexer": "ipython3",
   "version": "3.9.7"
  }
 },
 "nbformat": 4,
 "nbformat_minor": 5
}
