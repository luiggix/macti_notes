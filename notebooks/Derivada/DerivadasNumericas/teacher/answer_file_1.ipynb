{
 "cells": [
  {
   "cell_type": "code",
   "execution_count": 3,
   "id": "4f67517d-a9e3-4647-b489-2112beedb6e4",
   "metadata": {},
   "outputs": [],
   "source": [
    "import numpy as np\n",
    "import pandas as pd"
   ]
  },
  {
   "cell_type": "code",
   "execution_count": 10,
   "id": "0e83b995-51a3-4290-90e2-f93bcb276e0a",
   "metadata": {},
   "outputs": [
    {
     "data": {
      "text/html": [
       "<div>\n",
       "<style scoped>\n",
       "    .dataframe tbody tr th:only-of-type {\n",
       "        vertical-align: middle;\n",
       "    }\n",
       "\n",
       "    .dataframe tbody tr th {\n",
       "        vertical-align: top;\n",
       "    }\n",
       "\n",
       "    .dataframe thead th {\n",
       "        text-align: right;\n",
       "    }\n",
       "</style>\n",
       "<table border=\"1\" class=\"dataframe\">\n",
       "  <thead>\n",
       "    <tr style=\"text-align: right;\">\n",
       "      <th></th>\n",
       "      <th>1</th>\n",
       "      <th>3</th>\n",
       "      <th>4</th>\n",
       "      <th>5</th>\n",
       "    </tr>\n",
       "  </thead>\n",
       "  <tbody>\n",
       "    <tr>\n",
       "      <th>0</th>\n",
       "      <td>[0.30116867893975674, 0.18378858653924723, 0.0...</td>\n",
       "      <td>[0.04328716467638616, 0.007314259467387063, 0....</td>\n",
       "      <td>[0.30116867893975663, 0.0664084941387375, 0.01...</td>\n",
       "      <td>[0.05447393345855461, 0.015967259298707015, 0....</td>\n",
       "    </tr>\n",
       "  </tbody>\n",
       "</table>\n",
       "</div>"
      ],
      "text/plain": [
       "                                                   1  \\\n",
       "0  [0.30116867893975674, 0.18378858653924723, 0.0...   \n",
       "\n",
       "                                                   3  \\\n",
       "0  [0.04328716467638616, 0.007314259467387063, 0....   \n",
       "\n",
       "                                                   4  \\\n",
       "0  [0.30116867893975663, 0.0664084941387375, 0.01...   \n",
       "\n",
       "                                                   5  \n",
       "0  [0.05447393345855461, 0.015967259298707015, 0....  "
      ]
     },
     "execution_count": 10,
     "metadata": {},
     "output_type": "execute_result"
    }
   ],
   "source": [
    "# Numero de quiz\n",
    "q = '1'\n",
    "# Numeración de los ejercicios\n",
    "ejercicios = ['1', '3', '4', '5']\n",
    "\n",
    "# Lista vacía para las respuestas\n",
    "respuestas = []\n",
    "\n",
    "# Agregar las respuestas a cada ejercicio\n",
    "respuestas.append(np.array([0.30116867893975674, 0.18378858653924723, 0.09902659327010976, 0.05111755470681567, 0.0259357188871161, 0.01305897865217398]))   # 1\n",
    "respuestas.append(np.array([0.04328716467638616, 0.007314259467387063, 0.0010144751979000999, 0.0001322131039275254,1.6833944394778477e-05, 2.1224493503835262e-06])) # 3\n",
    "respuestas.append(np.array([0.30116867893975663, 0.0664084941387375, 0.01426460000097185, 0.00320851614352069,0.0007538830674147512, 0.0001822384172283087])) # 4\n",
    "respuestas.append(np.array([0.05447393345855461, 0.015967259298707015, 0.0077587669210623655, 0.002388904600281183, 0.00065123129586242,0.00016940067863169261])) #\n",
    "\n",
    "# Convertimos a un DataFrame\n",
    "ans_df = pd.DataFrame([respuestas], columns=ejercicios)\n",
    "\n",
    "# Escribimos las respuestas en un archivo tipo parquet, binario y comprimido\n",
    "ans_df.to_parquet('.__ans_' + q, compression='gzip')\n",
    "\n",
    "# Mostramos el contenido del DataFrame\n",
    "ans_df"
   ]
  },
  {
   "cell_type": "code",
   "execution_count": 11,
   "id": "f9cc6ce8-e5cd-43ae-abde-1ef16a0f676d",
   "metadata": {},
   "outputs": [
    {
     "data": {
      "text/html": [
       "<div>\n",
       "<style scoped>\n",
       "    .dataframe tbody tr th:only-of-type {\n",
       "        vertical-align: middle;\n",
       "    }\n",
       "\n",
       "    .dataframe tbody tr th {\n",
       "        vertical-align: top;\n",
       "    }\n",
       "\n",
       "    .dataframe thead th {\n",
       "        text-align: right;\n",
       "    }\n",
       "</style>\n",
       "<table border=\"1\" class=\"dataframe\">\n",
       "  <thead>\n",
       "    <tr style=\"text-align: right;\">\n",
       "      <th></th>\n",
       "      <th>1</th>\n",
       "      <th>3</th>\n",
       "      <th>4</th>\n",
       "      <th>5</th>\n",
       "    </tr>\n",
       "  </thead>\n",
       "  <tbody>\n",
       "    <tr>\n",
       "      <th>0</th>\n",
       "      <td>[0.30116867893975674, 0.18378858653924723, 0.0...</td>\n",
       "      <td>[0.04328716467638616, 0.007314259467387063, 0....</td>\n",
       "      <td>[0.30116867893975663, 0.0664084941387375, 0.01...</td>\n",
       "      <td>[0.05447393345855461, 0.015967259298707015, 0....</td>\n",
       "    </tr>\n",
       "  </tbody>\n",
       "</table>\n",
       "</div>"
      ],
      "text/plain": [
       "                                                   1  \\\n",
       "0  [0.30116867893975674, 0.18378858653924723, 0.0...   \n",
       "\n",
       "                                                   3  \\\n",
       "0  [0.04328716467638616, 0.007314259467387063, 0....   \n",
       "\n",
       "                                                   4  \\\n",
       "0  [0.30116867893975663, 0.0664084941387375, 0.01...   \n",
       "\n",
       "                                                   5  \n",
       "0  [0.05447393345855461, 0.015967259298707015, 0....  "
      ]
     },
     "execution_count": 11,
     "metadata": {},
     "output_type": "execute_result"
    }
   ],
   "source": [
    "# Se puede leer el contenido del archivo tipo parquet, binario y comprimido como sigue\n",
    "ans_df2 = pd.read_parquet('.__ans_' + q) # Se lee en un DataFrame\n",
    "ans_df2"
   ]
  },
  {
   "cell_type": "code",
   "execution_count": null,
   "id": "9cafcc00-5233-443e-b695-db4b963bb453",
   "metadata": {},
   "outputs": [],
   "source": []
  }
 ],
 "metadata": {
  "kernelspec": {
   "display_name": "Python 3 (ipykernel)",
   "language": "python",
   "name": "python3"
  },
  "language_info": {
   "codemirror_mode": {
    "name": "ipython",
    "version": 3
   },
   "file_extension": ".py",
   "mimetype": "text/x-python",
   "name": "python",
   "nbconvert_exporter": "python",
   "pygments_lexer": "ipython3",
   "version": "3.10.7"
  }
 },
 "nbformat": 4,
 "nbformat_minor": 5
}
