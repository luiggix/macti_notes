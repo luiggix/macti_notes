{
 "cells": [
  {
   "cell_type": "markdown",
   "metadata": {},
   "source": [
    "# Diferencias finitas: cálculo del error\n",
    "**Objetivo general**\n",
    "- Implementar varias fórmulas de aproximación de la primera derivada y compararlas entre ellas mediante el cálculo del error.\n",
    "\n",
    "**Objetivos particulares**\n",
    "- Revisar las fórmulas de aproximación de la primera derivada: Forward, Backward, Central.\n",
    "- Implementar funciones para calcular las fórmulas.\n",
    "- Calcular el error que introducen estas fórmulas.\n",
    "- Mostrar de manera gráfica el error.\n",
    "- Implementar funciones de varios órdenes para compararlas con las fórmulas anteriores.\n",
    "\n",
    "## Contenido\n",
    "- [1 - Introducción.](#1)\n",
    "- [2 - Diferencias finitas hacia adelante (Forward).](#2)\n",
    "- [3 - Diferencias finitas hacia atrás (Backward).](#3)\n",
    "- [4 - Diferencias finitas centradas.](#4)\n",
    "- [2 - La curva del olvido](#2)    \n",
    "    - [2.1 - ¿Cuánto dura el recuerdo?.](#2-1)\n",
    "    - [Ejercicio 1.](#ej-1)\n",
    "- [3 - Definición de Derivada.](#3)\n",
    "    - [Ejercicio 2.](#ej-2)\n"
   ]
  },
  {
   "cell_type": "code",
   "execution_count": 51,
   "metadata": {},
   "outputs": [],
   "source": [
    "import numpy as np\n",
    "import pandas as pd\n",
    "import matplotlib.pyplot as plt\n",
    "import macti.visual as mvis\n",
    "from macti.evaluacion import Quizz\n",
    "quizz = Quizz('Derivada', 'DerivadasNumericas')"
   ]
  },
  {
   "cell_type": "markdown",
   "metadata": {},
   "source": [
    "<a name='1'></a>\n",
    "## Introducción\n",
    "\n",
    "La siguiente herramienta tiene como propósito mostras diferentes funciones y sus derivadas exactas así como el cálculo numérico de las derivadas usando varias aproximaciones. Puedes elegir la función y el tipo de aproximación. Después, puedes mover el punto donde se realiza la aproximación (punto azul) y el tamaño de la $h$."
   ]
  },
  {
   "cell_type": "code",
   "execution_count": 52,
   "metadata": {},
   "outputs": [
    {
     "data": {
      "application/vnd.jupyter.widget-view+json": {
       "model_id": "d5bc9254bac24880922400c57a03aa0f",
       "version_major": 2,
       "version_minor": 0
      },
      "text/plain": [
       "interactive(children=(Dropdown(description='Función', options=(cos(x), sin(x), exp(x), exp(x)*cos(x), tan(x), …"
      ]
     },
     "metadata": {},
     "output_type": "display_data"
    },
    {
     "data": {
      "text/plain": [
       "<function FD.numericalDer(f, x0, h, aprox='All')>"
      ]
     },
     "metadata": {},
     "output_type": "display_data"
    }
   ],
   "source": [
    "%run \"../utils/src/zinteractive1.ipynb\""
   ]
  },
  {
   "cell_type": "markdown",
   "metadata": {},
   "source": [
    "<a name='2'></a>\n",
    "## Diferencias finitas hacia adelante (Forward).\n",
    "\n",
    "$\n",
    "\\displaystyle\n",
    "\\dfrac{\\partial u(x)}{\\partial x} \\approx \\lim\\limits_{h\\to 0} \\frac{u(x+h) - u(x)}{h}\n",
    "$\n",
    "\n",
    "La siguiente función de Python implementa está formula."
   ]
  },
  {
   "cell_type": "code",
   "execution_count": 53,
   "metadata": {},
   "outputs": [],
   "source": [
    "def forwardFD(u,x,h):\n",
    "    \"\"\" \n",
    "    Esquema de diferencias finitas hacia adelante.\n",
    "    \n",
    "    Parameters\n",
    "    ----------\n",
    "    u : función. \n",
    "    Función a evaluar.\n",
    "    \n",
    "    x : array\n",
    "    Lugar(es) donde se evalúa la función\n",
    "    \n",
    "    h : array\n",
    "    Tamaño(s) de la diferencia entre u(x+h) y u(x).\n",
    "    \n",
    "    Returns\n",
    "    -------\n",
    "    Cálculo de la derivada numérica hacia adelante.\n",
    "    \"\"\"\n",
    "    return (u(x+h)-u(x))/h"
   ]
  },
  {
   "cell_type": "markdown",
   "metadata": {},
   "source": [
    "Para probar la función `forwardFD` vamos a comparar su efectividad aproximando la derivada de $\\sin(1.0)$. Esta aproximación será mejor cuando $h \\to 0$. Entonces, vamos a definir el siguiente conjunto de valores: \n",
    "\n",
    "$$\n",
    "\\begin{eqnarray*}\n",
    "H & = & \\{h|h = \\frac{1}{2^i} \\; \\text{para} \\; i = 1,\\dots,5 \\} \\\\\n",
    "  & = & \\{1.0, 0.5, 0.25, 0.125, 0.0625, 0.03125 \\}\n",
    "\\end{eqnarray*}\n",
    "$$  "
   ]
  },
  {
   "cell_type": "code",
   "execution_count": 54,
   "metadata": {},
   "outputs": [
    {
     "name": "stdout",
     "output_type": "stream",
     "text": [
      "[1.      0.5     0.25    0.125   0.0625  0.03125]\n",
      "[1. 1. 1. 1. 1. 1.]\n"
     ]
    }
   ],
   "source": [
    "# Definimos un arreglo con diferentes tamaños de h:\n",
    "N = 6\n",
    "h = np.array([1 / 2**i for i in range(0,N)])\n",
    "\n",
    "# Definimos un arreglo con valores de 1.0 (donde evaluaremos el cos(x)):\n",
    "x = np.ones(N)\n",
    "\n",
    "print(h)\n",
    "print(x)"
   ]
  },
  {
   "cell_type": "markdown",
   "metadata": {},
   "source": [
    "Calculamos el error entre la derivada exacta, que este caso es $\\cos(x)$, y la aproximación usando la fórmula:\n",
    "\n",
    "$$\n",
    "Error = || \\cos(x) - D_+ \\sin(x)||\n",
    "$$\n",
    "\n",
    "donde $D_+$ representa la aplicación de la fórmula hacia adelante."
   ]
  },
  {
   "cell_type": "code",
   "execution_count": 55,
   "metadata": {},
   "outputs": [
    {
     "data": {
      "text/html": [
       "<div>\n",
       "<style scoped>\n",
       "    .dataframe tbody tr th:only-of-type {\n",
       "        vertical-align: middle;\n",
       "    }\n",
       "\n",
       "    .dataframe tbody tr th {\n",
       "        vertical-align: top;\n",
       "    }\n",
       "\n",
       "    .dataframe thead th {\n",
       "        text-align: right;\n",
       "    }\n",
       "</style>\n",
       "<table border=\"1\" class=\"dataframe\">\n",
       "  <thead>\n",
       "    <tr style=\"text-align: right;\">\n",
       "      <th></th>\n",
       "      <th>$h$</th>\n",
       "      <th>$D_+$</th>\n",
       "    </tr>\n",
       "  </thead>\n",
       "  <tbody>\n",
       "    <tr>\n",
       "      <th>0</th>\n",
       "      <td>1.00000</td>\n",
       "      <td>0.472476</td>\n",
       "    </tr>\n",
       "    <tr>\n",
       "      <th>1</th>\n",
       "      <td>0.50000</td>\n",
       "      <td>0.228254</td>\n",
       "    </tr>\n",
       "    <tr>\n",
       "      <th>2</th>\n",
       "      <td>0.25000</td>\n",
       "      <td>0.110248</td>\n",
       "    </tr>\n",
       "    <tr>\n",
       "      <th>3</th>\n",
       "      <td>0.12500</td>\n",
       "      <td>0.053929</td>\n",
       "    </tr>\n",
       "    <tr>\n",
       "      <th>4</th>\n",
       "      <td>0.06250</td>\n",
       "      <td>0.026639</td>\n",
       "    </tr>\n",
       "    <tr>\n",
       "      <th>5</th>\n",
       "      <td>0.03125</td>\n",
       "      <td>0.013235</td>\n",
       "    </tr>\n",
       "  </tbody>\n",
       "</table>\n",
       "</div>"
      ],
      "text/plain": [
       "       $h$     $D_+$\n",
       "0  1.00000  0.472476\n",
       "1  0.50000  0.228254\n",
       "2  0.25000  0.110248\n",
       "3  0.12500  0.053929\n",
       "4  0.06250  0.026639\n",
       "5  0.03125  0.013235"
      ]
     },
     "execution_count": 55,
     "metadata": {},
     "output_type": "execute_result"
    }
   ],
   "source": [
    "# Calculamos el error entre la derivada exacta y la derivada numérica:\n",
    "ef = np.fabs(np.cos(x) - forwardFD(np.sin, x, h) )\n",
    "\n",
    "# Colocamos la información de h y del error en un Dataframe y mostramos el resultado:\n",
    "Error = pd.DataFrame(np.array([h, ef]).T, \n",
    "                     columns=['$h$','$D_+$'])\n",
    "Error"
   ]
  },
  {
   "cell_type": "code",
   "execution_count": 56,
   "metadata": {},
   "outputs": [
    {
     "data": {
      "image/png": "[encoded data removed]",
      "text/plain": [
       "<Figure size 512x384 with 1 Axes>"
      ]
     },
     "metadata": {},
     "output_type": "display_data"
    }
   ],
   "source": [
    "# Hacemos el gráfico del error vs h\n",
    "plt.plot(h, ef, '^-', label='$D_+$')\n",
    "plt.xlabel('$h$')\n",
    "plt.ylabel('Error')\n",
    "plt.title('Aproximación de la derivada')\n",
    "plt.legend()\n",
    "plt.show()"
   ]
  },
  {
   "cell_type": "markdown",
   "metadata": {},
   "source": [
    "<a name='3'></a>\n",
    "## Diferencias finitas hacia atrás (Backward).\n",
    "\n",
    "$\n",
    "\\displaystyle\n",
    "\\frac{\\partial u(x)}{\\partial x} \\approx \\lim\\limits_{h\\to 0} \\frac{u(x) - u(x-h)}{h}\n",
    "$\n",
    "\n",
    "La siguiente función de Python implementa está formula."
   ]
  },
  {
   "cell_type": "code",
   "execution_count": 57,
   "metadata": {},
   "outputs": [],
   "source": [
    "def backwardFD(u,x,h):\n",
    "    \"\"\" \n",
    "    Esquema de diferencias finitas hacia atrás.\n",
    "    \n",
    "    Parameters\n",
    "    ----------\n",
    "    u : función. \n",
    "    Función a evaluar.\n",
    "    \n",
    "    x : array\n",
    "    Lugar(es) donde se evalúa la función\n",
    "    \n",
    "    h : array\n",
    "    Tamaño(s) de la diferencia entre u(x+h) y u(x).\n",
    "    \n",
    "    Returns\n",
    "    -------\n",
    "    Cálculo de la derivada numérica hacia atrás.\n",
    "    \"\"\"\n",
    "    return (u(x)-u(x-h))/h"
   ]
  },
  {
   "cell_type": "markdown",
   "metadata": {},
   "source": [
    "Calculamos el error entre la derivada exacta, que este caso es $\\cos(x)$, y la aproximación usando la fórmula:\n",
    "\n",
    "$$\n",
    "Error = || \\cos(x) - D_- \\sin(x)||\n",
    "$$\n",
    "\n",
    "donde $D_-$ representa la aplicación de la fórmula hacia atrás."
   ]
  },
  {
   "cell_type": "markdown",
   "metadata": {},
   "source": [
    "---\n",
    "<a name='ej-1'></a>\n",
    "### **<font color=\"DodgerBlue\">Ejercicio 1. Calcular el error para diferencias finitas hacia atrás.</font>**\n",
    "\n",
    "<font color=\"DarkBlue\">Tomando como base el ejemplo de diferencias finitas hacia adelante, completa el código que falta en la siguiente celda. </font>.\n",
    "\n",
    "---"
   ]
  },
  {
   "cell_type": "code",
   "execution_count": 58,
   "metadata": {},
   "outputs": [],
   "source": [
    "# Calculamos el error entre la derivada exacta y la derivada numérica:\n",
    "### BEGIN SOLUTION\n",
    "eb = np.fabs( np.cos(x) - backwardFD(np.sin,x,h) )\n",
    "### END SOLUTION"
   ]
  },
  {
   "cell_type": "code",
   "execution_count": 59,
   "metadata": {},
   "outputs": [
    {
     "name": "stdout",
     "output_type": "stream",
     "text": [
      "\u001b[32m¡Tu resultado es correcto!\n"
     ]
    }
   ],
   "source": [
    "quizz.verifica('1', '1', eb)"
   ]
  },
  {
   "cell_type": "code",
   "execution_count": 60,
   "metadata": {},
   "outputs": [
    {
     "data": {
      "text/html": [
       "<div>\n",
       "<style scoped>\n",
       "    .dataframe tbody tr th:only-of-type {\n",
       "        vertical-align: middle;\n",
       "    }\n",
       "\n",
       "    .dataframe tbody tr th {\n",
       "        vertical-align: top;\n",
       "    }\n",
       "\n",
       "    .dataframe thead th {\n",
       "        text-align: right;\n",
       "    }\n",
       "</style>\n",
       "<table border=\"1\" class=\"dataframe\">\n",
       "  <thead>\n",
       "    <tr style=\"text-align: right;\">\n",
       "      <th></th>\n",
       "      <th>$h$</th>\n",
       "      <th>$D_+$</th>\n",
       "      <th>$D_-$</th>\n",
       "    </tr>\n",
       "  </thead>\n",
       "  <tbody>\n",
       "    <tr>\n",
       "      <th>0</th>\n",
       "      <td>1.00000</td>\n",
       "      <td>0.472476</td>\n",
       "      <td>0.301169</td>\n",
       "    </tr>\n",
       "    <tr>\n",
       "      <th>1</th>\n",
       "      <td>0.50000</td>\n",
       "      <td>0.228254</td>\n",
       "      <td>0.183789</td>\n",
       "    </tr>\n",
       "    <tr>\n",
       "      <th>2</th>\n",
       "      <td>0.25000</td>\n",
       "      <td>0.110248</td>\n",
       "      <td>0.099027</td>\n",
       "    </tr>\n",
       "    <tr>\n",
       "      <th>3</th>\n",
       "      <td>0.12500</td>\n",
       "      <td>0.053929</td>\n",
       "      <td>0.051118</td>\n",
       "    </tr>\n",
       "    <tr>\n",
       "      <th>4</th>\n",
       "      <td>0.06250</td>\n",
       "      <td>0.026639</td>\n",
       "      <td>0.025936</td>\n",
       "    </tr>\n",
       "    <tr>\n",
       "      <th>5</th>\n",
       "      <td>0.03125</td>\n",
       "      <td>0.013235</td>\n",
       "      <td>0.013059</td>\n",
       "    </tr>\n",
       "  </tbody>\n",
       "</table>\n",
       "</div>"
      ],
      "text/plain": [
       "       $h$     $D_+$     $D_-$\n",
       "0  1.00000  0.472476  0.301169\n",
       "1  0.50000  0.228254  0.183789\n",
       "2  0.25000  0.110248  0.099027\n",
       "3  0.12500  0.053929  0.051118\n",
       "4  0.06250  0.026639  0.025936\n",
       "5  0.03125  0.013235  0.013059"
      ]
     },
     "execution_count": 60,
     "metadata": {},
     "output_type": "execute_result"
    }
   ],
   "source": [
    "# Metemos la información de h y del error en un Dataframe y mostramos el resultado:\n",
    "Error = pd.DataFrame(np.array([h, ef, eb]).T, \n",
    "                     columns=['$h$','$D_+$', '$D_-$'])\n",
    "Error"
   ]
  },
  {
   "cell_type": "code",
   "execution_count": 61,
   "metadata": {},
   "outputs": [
    {
     "data": {
      "image/png": "[encoded data removed]",
      "text/plain": [
       "<Figure size 512x384 with 1 Axes>"
      ]
     },
     "metadata": {},
     "output_type": "display_data"
    }
   ],
   "source": [
    "# Hacemos el gráfico del error vs h\n",
    "plt.plot(h, ef, '^-', label='$D_+$')\n",
    "plt.plot(h, eb, 'v-', label='$D_-$')\n",
    "plt.xlabel('$h$')\n",
    "plt.ylabel('Error')\n",
    "plt.title('Aproximación de la derivada')\n",
    "plt.legend()\n",
    "plt.show()"
   ]
  },
  {
   "cell_type": "markdown",
   "metadata": {},
   "source": [
    "<a name='4'></a>\n",
    "## Diferencias finitas centradas.\n",
    "\n",
    "$\n",
    "\\displaystyle\n",
    "\\frac{\\partial u(x)}{\\partial x} \\approx \\lim\\limits_{h\\to 0} \\frac{u(x+h) - u(x-h)}{2h}\n",
    "$\n",
    "\n",
    "La siguiente función de Python implementa está formula."
   ]
  },
  {
   "cell_type": "code",
   "execution_count": 62,
   "metadata": {},
   "outputs": [],
   "source": [
    "def centeredFD(u,x,h):\n",
    "    \"\"\" \n",
    "    Esquema de diferencias finitas centradas.\n",
    "    \n",
    "    Parameters\n",
    "    ----------\n",
    "    u : función. \n",
    "    Función a evaluar.\n",
    "    \n",
    "    x : array\n",
    "    Lugar(es) donde se evalúa la función\n",
    "    \n",
    "    h : array\n",
    "    Tamaño(s) de la diferencia entre u(x+h) y u(x).\n",
    "    \n",
    "    Returns\n",
    "    -------\n",
    "    Cálculo de la derivada numérica centrada.\n",
    "    \"\"\"\n",
    "    return (u(x+h)-u(x-h))/(2*h)"
   ]
  },
  {
   "cell_type": "code",
   "execution_count": 63,
   "metadata": {},
   "outputs": [],
   "source": [
    "# Calculamos el error entre la derivada exacta y la derivada numérica:\n",
    "ec = np.fabs( np.cos(x) - centeredFD(np.sin,x,h) )"
   ]
  },
  {
   "cell_type": "markdown",
   "metadata": {},
   "source": [
    "---\n",
    "<a name='ej-2'></a>\n",
    "### **<font color=\"DodgerBlue\">Ejercicio 2. Agregar el error de diferencias finitas centradas al DataFrame.</font>**\n",
    "\n",
    "<font color=\"DarkBlue\">Tomando como base los ejemplos de diferencias finitas hacia adelante y hacia atrás, completa el código que falta en la siguiente celda. </font>.\n",
    "\n",
    "---"
   ]
  },
  {
   "cell_type": "code",
   "execution_count": 64,
   "metadata": {},
   "outputs": [
    {
     "data": {
      "text/html": [
       "<div>\n",
       "<style scoped>\n",
       "    .dataframe tbody tr th:only-of-type {\n",
       "        vertical-align: middle;\n",
       "    }\n",
       "\n",
       "    .dataframe tbody tr th {\n",
       "        vertical-align: top;\n",
       "    }\n",
       "\n",
       "    .dataframe thead th {\n",
       "        text-align: right;\n",
       "    }\n",
       "</style>\n",
       "<table border=\"1\" class=\"dataframe\">\n",
       "  <thead>\n",
       "    <tr style=\"text-align: right;\">\n",
       "      <th></th>\n",
       "      <th>$h$</th>\n",
       "      <th>$D_+$</th>\n",
       "      <th>$D_-$</th>\n",
       "      <th>$D_0$</th>\n",
       "    </tr>\n",
       "  </thead>\n",
       "  <tbody>\n",
       "    <tr>\n",
       "      <th>0</th>\n",
       "      <td>1.00000</td>\n",
       "      <td>0.472476</td>\n",
       "      <td>0.301169</td>\n",
       "      <td>0.085654</td>\n",
       "    </tr>\n",
       "    <tr>\n",
       "      <th>1</th>\n",
       "      <td>0.50000</td>\n",
       "      <td>0.228254</td>\n",
       "      <td>0.183789</td>\n",
       "      <td>0.022233</td>\n",
       "    </tr>\n",
       "    <tr>\n",
       "      <th>2</th>\n",
       "      <td>0.25000</td>\n",
       "      <td>0.110248</td>\n",
       "      <td>0.099027</td>\n",
       "      <td>0.005611</td>\n",
       "    </tr>\n",
       "    <tr>\n",
       "      <th>3</th>\n",
       "      <td>0.12500</td>\n",
       "      <td>0.053929</td>\n",
       "      <td>0.051118</td>\n",
       "      <td>0.001406</td>\n",
       "    </tr>\n",
       "    <tr>\n",
       "      <th>4</th>\n",
       "      <td>0.06250</td>\n",
       "      <td>0.026639</td>\n",
       "      <td>0.025936</td>\n",
       "      <td>0.000352</td>\n",
       "    </tr>\n",
       "    <tr>\n",
       "      <th>5</th>\n",
       "      <td>0.03125</td>\n",
       "      <td>0.013235</td>\n",
       "      <td>0.013059</td>\n",
       "      <td>0.000088</td>\n",
       "    </tr>\n",
       "  </tbody>\n",
       "</table>\n",
       "</div>"
      ],
      "text/plain": [
       "       $h$     $D_+$     $D_-$     $D_0$\n",
       "0  1.00000  0.472476  0.301169  0.085654\n",
       "1  0.50000  0.228254  0.183789  0.022233\n",
       "2  0.25000  0.110248  0.099027  0.005611\n",
       "3  0.12500  0.053929  0.051118  0.001406\n",
       "4  0.06250  0.026639  0.025936  0.000352\n",
       "5  0.03125  0.013235  0.013059  0.000088"
      ]
     },
     "execution_count": 64,
     "metadata": {},
     "output_type": "execute_result"
    }
   ],
   "source": [
    "# Metemos la información de h y del error en un Dataframe y mostramos el resultado:\n",
    "### BEGIN SOLUTION\n",
    "Error = pd.DataFrame(np.array([h,ef,eb,ec]).T, \n",
    "                     columns=['$h$','$D_+$', '$D_-$','$D_0$'])\n",
    "### END SOLUTION\n",
    "Error"
   ]
  },
  {
   "cell_type": "markdown",
   "metadata": {},
   "source": [
    "Observe que en este caso los errores son varios órdenes de magnitud más pequeños. Para hacer una gráfica más representativa usaremos escala `loglog`:"
   ]
  },
  {
   "cell_type": "code",
   "execution_count": 65,
   "metadata": {},
   "outputs": [
    {
     "data": {
      "image/png": "[encoded data removed]",
      "text/plain": [
       "<Figure size 512x384 with 1 Axes>"
      ]
     },
     "metadata": {},
     "output_type": "display_data"
    }
   ],
   "source": [
    "# Hacemos el gráfico del error vs h\n",
    "plt.plot(h, ef, '^-', label='$D_+$')\n",
    "plt.plot(h, eb, 'v-', label='$D_-$')\n",
    "plt.plot(h, ec, 's-', label='$D_0$')\n",
    "plt.xlabel('$h$')\n",
    "plt.ylabel('Error')\n",
    "plt.title('Aproximación de la derivada')\n",
    "plt.legend()\n",
    "plt.loglog()  # Definimos la escala log-log\n",
    "plt.show()"
   ]
  },
  {
   "cell_type": "markdown",
   "metadata": {},
   "source": [
    "Como se puede apreciar, la gráfica anterior muestra que la aproximación con diferencias finitas centradas es mejor, pues es de orden cuadrático."
   ]
  },
  {
   "cell_type": "markdown",
   "metadata": {},
   "source": [
    "\n",
    "---\n",
    "<a name='ej-3'></a>\n",
    "### **<font color=\"DodgerBlue\">Ejercicio 3. Aproximación con cuatro puntos.</font>**\n",
    "\n",
    "<font color=\"DarkBlue\">\n",
    "Implementar a siguiente fórmula de aproximación para el cálculo de la primera derivada y usarla \n",
    "para calcular la derivada del $\\sin(x)$ en $x=1.0$ y compararla con las anteriores.\n",
    "</font>.\n",
    "\n",
    "$$\n",
    "D_3 u = \\dfrac{1}{6 h} \n",
    "\\left[ 2u_{i+1} + 3u_{i} - 6u_{i-1} + u_{i-2} \\right]\n",
    "$$\n",
    "\n",
    "---\n",
    "\n",
    "**Hint**: Recuerde que $u_i = u(x)$, $u_{i+1} = u(x+h)$, $u_{i-1} = u(x-h)$ y $u_{i-2} = u(x-2h)$."
   ]
  },
  {
   "cell_type": "code",
   "execution_count": 66,
   "metadata": {},
   "outputs": [],
   "source": [
    "# Implementación de D3\n",
    "def D3(u,x,h):\n",
    "    ### BEGIN SOLUTION\n",
    "    return (2*u(x+h)+3*u(x)-6*u(x-h)+u(x-2*h)) / (6*h)\n",
    "    ### END SOLUTION"
   ]
  },
  {
   "cell_type": "code",
   "execution_count": 67,
   "metadata": {},
   "outputs": [],
   "source": [
    "# Calculamos el error entre la derivada exacta y la derivada numérica:\n",
    "e3 = np.fabs( np.cos(x) - D3(np.sin,x,h) )"
   ]
  },
  {
   "cell_type": "code",
   "execution_count": 68,
   "metadata": {},
   "outputs": [
    {
     "name": "stdout",
     "output_type": "stream",
     "text": [
      "\u001b[32m¡Tu resultado es correcto!\n"
     ]
    }
   ],
   "source": [
    "quizz.verifica('1', '3', e3)"
   ]
  },
  {
   "cell_type": "code",
   "execution_count": 69,
   "metadata": {},
   "outputs": [
    {
     "data": {
      "text/html": [
       "<div>\n",
       "<style scoped>\n",
       "    .dataframe tbody tr th:only-of-type {\n",
       "        vertical-align: middle;\n",
       "    }\n",
       "\n",
       "    .dataframe tbody tr th {\n",
       "        vertical-align: top;\n",
       "    }\n",
       "\n",
       "    .dataframe thead th {\n",
       "        text-align: right;\n",
       "    }\n",
       "</style>\n",
       "<table border=\"1\" class=\"dataframe\">\n",
       "  <thead>\n",
       "    <tr style=\"text-align: right;\">\n",
       "      <th></th>\n",
       "      <th>$h$</th>\n",
       "      <th>$D_+$</th>\n",
       "      <th>$D_-$</th>\n",
       "      <th>$D_0$</th>\n",
       "      <th>$D_3$</th>\n",
       "    </tr>\n",
       "  </thead>\n",
       "  <tbody>\n",
       "    <tr>\n",
       "      <th>0</th>\n",
       "      <td>1.00000</td>\n",
       "      <td>0.472476</td>\n",
       "      <td>0.301169</td>\n",
       "      <td>0.085654</td>\n",
       "      <td>0.043287</td>\n",
       "    </tr>\n",
       "    <tr>\n",
       "      <th>1</th>\n",
       "      <td>0.50000</td>\n",
       "      <td>0.228254</td>\n",
       "      <td>0.183789</td>\n",
       "      <td>0.022233</td>\n",
       "      <td>0.007314</td>\n",
       "    </tr>\n",
       "    <tr>\n",
       "      <th>2</th>\n",
       "      <td>0.25000</td>\n",
       "      <td>0.110248</td>\n",
       "      <td>0.099027</td>\n",
       "      <td>0.005611</td>\n",
       "      <td>0.001014</td>\n",
       "    </tr>\n",
       "    <tr>\n",
       "      <th>3</th>\n",
       "      <td>0.12500</td>\n",
       "      <td>0.053929</td>\n",
       "      <td>0.051118</td>\n",
       "      <td>0.001406</td>\n",
       "      <td>0.000132</td>\n",
       "    </tr>\n",
       "    <tr>\n",
       "      <th>4</th>\n",
       "      <td>0.06250</td>\n",
       "      <td>0.026639</td>\n",
       "      <td>0.025936</td>\n",
       "      <td>0.000352</td>\n",
       "      <td>0.000017</td>\n",
       "    </tr>\n",
       "    <tr>\n",
       "      <th>5</th>\n",
       "      <td>0.03125</td>\n",
       "      <td>0.013235</td>\n",
       "      <td>0.013059</td>\n",
       "      <td>0.000088</td>\n",
       "      <td>0.000002</td>\n",
       "    </tr>\n",
       "  </tbody>\n",
       "</table>\n",
       "</div>"
      ],
      "text/plain": [
       "       $h$     $D_+$     $D_-$     $D_0$     $D_3$\n",
       "0  1.00000  0.472476  0.301169  0.085654  0.043287\n",
       "1  0.50000  0.228254  0.183789  0.022233  0.007314\n",
       "2  0.25000  0.110248  0.099027  0.005611  0.001014\n",
       "3  0.12500  0.053929  0.051118  0.001406  0.000132\n",
       "4  0.06250  0.026639  0.025936  0.000352  0.000017\n",
       "5  0.03125  0.013235  0.013059  0.000088  0.000002"
      ]
     },
     "execution_count": 69,
     "metadata": {},
     "output_type": "execute_result"
    }
   ],
   "source": [
    "# Metemos la información de h y del error en un Dataframe y mostramos el resultado:\n",
    "Error = pd.DataFrame(np.array([h,ef,eb,ec,e3]).T, \n",
    "                     columns=['$h$','$D_+$', '$D_-$','$D_0$','$D_3$'])\n",
    "Error"
   ]
  },
  {
   "cell_type": "code",
   "execution_count": 70,
   "metadata": {},
   "outputs": [
    {
     "data": {
      "image/png": "[encoded data removed]",
      "text/plain": [
       "<Figure size 512x384 with 1 Axes>"
      ]
     },
     "metadata": {},
     "output_type": "display_data"
    }
   ],
   "source": [
    "# Hacemos el gráfico del error vs h\n",
    "plt.plot(h, ef, '^-', label='$D_+$')\n",
    "plt.plot(h, eb, 'v-', label='$D_-$')\n",
    "plt.plot(h, ec, 's-', label='$D_0$')\n",
    "plt.plot(h, e3, 'o-', label='$D_3$')\n",
    "\n",
    "plt.xlabel('$h$')\n",
    "plt.ylabel('Error')\n",
    "plt.title('Aproximación de la derivada')\n",
    "plt.legend()\n",
    "plt.loglog()  # Definimos la escala log-log\n",
    "plt.show()"
   ]
  },
  {
   "cell_type": "markdown",
   "metadata": {},
   "source": [
    "\n",
    "---\n",
    "<a name='ej-4'></a>\n",
    "### **<font color=\"DodgerBlue\">Ejercicio 4. Aproximación con tres puntos (left).</font>**\n",
    "\n",
    "<font color=\"DarkBlue\">\n",
    "Implementar a siguiente fórmula de aproximación para el cálculo de la primera derivada y usarla \n",
    "para calcular la derivada del $\\sin(x)$ en $x=1.0$ y compararla con las anteriores.\n",
    "</font>.\n",
    "\n",
    "$$\n",
    "D_{2l}f^\\prime = \\frac{3 f_i - 4 f_{i-1} + f_{i-2}}{2h}\n",
    "$$\n",
    "\n",
    "---\n"
   ]
  },
  {
   "cell_type": "code",
   "execution_count": 71,
   "metadata": {},
   "outputs": [],
   "source": [
    "# Implementación\n",
    "def D2l(u,x,h):\n",
    "    ### BEGIN SOLUTION\n",
    "    return (3*u(x) - 4*u(x-h) + u(x-2*h)) / (2*h)\n",
    "    ### END SOLUTION"
   ]
  },
  {
   "cell_type": "code",
   "execution_count": 72,
   "metadata": {},
   "outputs": [],
   "source": [
    "# Calculamos el error entre la derivada exacta y la derivada numérica:\n",
    "e2l = np.fabs( np.cos(x) - D2l(np.sin,x,h) )"
   ]
  },
  {
   "cell_type": "code",
   "execution_count": 73,
   "metadata": {},
   "outputs": [
    {
     "name": "stdout",
     "output_type": "stream",
     "text": [
      "\u001b[32m¡Tu resultado es correcto!\n"
     ]
    }
   ],
   "source": [
    "quizz.verifica('1','4',e2l)"
   ]
  },
  {
   "cell_type": "code",
   "execution_count": 74,
   "metadata": {},
   "outputs": [
    {
     "data": {
      "text/html": [
       "<div>\n",
       "<style scoped>\n",
       "    .dataframe tbody tr th:only-of-type {\n",
       "        vertical-align: middle;\n",
       "    }\n",
       "\n",
       "    .dataframe tbody tr th {\n",
       "        vertical-align: top;\n",
       "    }\n",
       "\n",
       "    .dataframe thead th {\n",
       "        text-align: right;\n",
       "    }\n",
       "</style>\n",
       "<table border=\"1\" class=\"dataframe\">\n",
       "  <thead>\n",
       "    <tr style=\"text-align: right;\">\n",
       "      <th></th>\n",
       "      <th>$h$</th>\n",
       "      <th>$D_+$</th>\n",
       "      <th>$D_-$</th>\n",
       "      <th>$D_0$</th>\n",
       "      <th>$D_3$</th>\n",
       "      <th>$D_{2l}$</th>\n",
       "    </tr>\n",
       "  </thead>\n",
       "  <tbody>\n",
       "    <tr>\n",
       "      <th>0</th>\n",
       "      <td>1.00000</td>\n",
       "      <td>0.472476</td>\n",
       "      <td>0.301169</td>\n",
       "      <td>0.085654</td>\n",
       "      <td>0.043287</td>\n",
       "      <td>0.301169</td>\n",
       "    </tr>\n",
       "    <tr>\n",
       "      <th>1</th>\n",
       "      <td>0.50000</td>\n",
       "      <td>0.228254</td>\n",
       "      <td>0.183789</td>\n",
       "      <td>0.022233</td>\n",
       "      <td>0.007314</td>\n",
       "      <td>0.066408</td>\n",
       "    </tr>\n",
       "    <tr>\n",
       "      <th>2</th>\n",
       "      <td>0.25000</td>\n",
       "      <td>0.110248</td>\n",
       "      <td>0.099027</td>\n",
       "      <td>0.005611</td>\n",
       "      <td>0.001014</td>\n",
       "      <td>0.014265</td>\n",
       "    </tr>\n",
       "    <tr>\n",
       "      <th>3</th>\n",
       "      <td>0.12500</td>\n",
       "      <td>0.053929</td>\n",
       "      <td>0.051118</td>\n",
       "      <td>0.001406</td>\n",
       "      <td>0.000132</td>\n",
       "      <td>0.003209</td>\n",
       "    </tr>\n",
       "    <tr>\n",
       "      <th>4</th>\n",
       "      <td>0.06250</td>\n",
       "      <td>0.026639</td>\n",
       "      <td>0.025936</td>\n",
       "      <td>0.000352</td>\n",
       "      <td>0.000017</td>\n",
       "      <td>0.000754</td>\n",
       "    </tr>\n",
       "    <tr>\n",
       "      <th>5</th>\n",
       "      <td>0.03125</td>\n",
       "      <td>0.013235</td>\n",
       "      <td>0.013059</td>\n",
       "      <td>0.000088</td>\n",
       "      <td>0.000002</td>\n",
       "      <td>0.000182</td>\n",
       "    </tr>\n",
       "  </tbody>\n",
       "</table>\n",
       "</div>"
      ],
      "text/plain": [
       "       $h$     $D_+$     $D_-$     $D_0$     $D_3$  $D_{2l}$\n",
       "0  1.00000  0.472476  0.301169  0.085654  0.043287  0.301169\n",
       "1  0.50000  0.228254  0.183789  0.022233  0.007314  0.066408\n",
       "2  0.25000  0.110248  0.099027  0.005611  0.001014  0.014265\n",
       "3  0.12500  0.053929  0.051118  0.001406  0.000132  0.003209\n",
       "4  0.06250  0.026639  0.025936  0.000352  0.000017  0.000754\n",
       "5  0.03125  0.013235  0.013059  0.000088  0.000002  0.000182"
      ]
     },
     "execution_count": 74,
     "metadata": {},
     "output_type": "execute_result"
    }
   ],
   "source": [
    "# Metemos la información de h y del error en un Dataframe y mostramos el resultado:\n",
    "Error = pd.DataFrame(np.array([h,ef,eb,ec,e3,e2l]).T, \n",
    "                     columns=['$h$','$D_+$', '$D_-$','$D_0$','$D_3$', '$D_{2l}$'])\n",
    "Error"
   ]
  },
  {
   "cell_type": "code",
   "execution_count": 75,
   "metadata": {},
   "outputs": [
    {
     "data": {
      "image/png": "[encoded data removed]",
      "text/plain": [
       "<Figure size 512x384 with 1 Axes>"
      ]
     },
     "metadata": {},
     "output_type": "display_data"
    }
   ],
   "source": [
    "# Hacemos el gráfico del error vs h\n",
    "plt.plot(h, ef, '^-', label='$D_+$')\n",
    "plt.plot(h, eb, 'v-', label='$D_-$')\n",
    "plt.plot(h, ec, 's-', label='$D_0$')\n",
    "plt.plot(h, e3, 'o-', label='$D_3$')\n",
    "plt.plot(h, e2l, 'P-', label='$D_{2l}$')\n",
    "\n",
    "plt.xlabel('$h$')\n",
    "plt.ylabel('Error')\n",
    "plt.title('Aproximación de la derivada')\n",
    "plt.legend()\n",
    "plt.loglog()  # Definimos la escala log-log\n",
    "plt.show()"
   ]
  },
  {
   "cell_type": "markdown",
   "metadata": {},
   "source": [
    "\n",
    "\n",
    "¿Cuál de todas las aproximaciones usaría? ¿Por qué?\n",
    "\n",
    "\n",
    "\n",
    "\n",
    "---\n",
    "<a name='ej-5'></a>\n",
    "### **<font color=\"DodgerBlue\">Ejercicio 5. Aproximación con tres puntos (right).</font>**\n",
    "\n",
    "<font color=\"DarkBlue\">\n",
    "Obtener los coeficientes $A$, $B$ y $C$ para una aproximación del siguiente tipo: \n",
    "</font>\n",
    "\n",
    "$$\n",
    "D_{2r} f^\\prime = A f_i + B f_{i+1} + C f_{i+2}\n",
    "$$\n",
    "\n",
    "<font color=\"DarkBlue\">\n",
    "y luego implementar la fórmula y graficarla junto con los resultados anteriores.\n",
    "</font>\n",
    "\n",
    "---"
   ]
  },
  {
   "cell_type": "markdown",
   "metadata": {},
   "source": [
    "Los coeficientes de la fórmula son: $A = -3 / 2h$, $B = 2/h$ y $C = -1/2h$ de tal manera que la fórmula de diferencias queda como sigue:\n",
    "\n",
    "$$\n",
    "f^\\prime = \\frac{-3 f_i + 4 f_{i+1} - f_{i+2}}{2h}\n",
    "$$"
   ]
  },
  {
   "cell_type": "code",
   "execution_count": 76,
   "metadata": {},
   "outputs": [],
   "source": [
    "# Implementación\n",
    "def D2r(u,x,h):\n",
    "    ### BEGIN SOLUTION\n",
    "    return (-3*u(x) + 4*u(x+h) - u(x+2*h)) / (2*h)\n",
    "    ### END SOLUTION"
   ]
  },
  {
   "cell_type": "code",
   "execution_count": 77,
   "metadata": {},
   "outputs": [],
   "source": [
    "# Calculamos el error entre la derivada exacta y la derivada numérica:\n",
    "e2r = np.fabs( np.cos(x) - D2r(np.sin,x,h) )"
   ]
  },
  {
   "cell_type": "code",
   "execution_count": 78,
   "metadata": {},
   "outputs": [
    {
     "name": "stdout",
     "output_type": "stream",
     "text": [
      "\u001b[32m¡Tu resultado es correcto!\n"
     ]
    }
   ],
   "source": [
    "quizz.verifica('1','5',e2r)"
   ]
  },
  {
   "cell_type": "code",
   "execution_count": 79,
   "metadata": {},
   "outputs": [
    {
     "data": {
      "text/html": [
       "<div>\n",
       "<style scoped>\n",
       "    .dataframe tbody tr th:only-of-type {\n",
       "        vertical-align: middle;\n",
       "    }\n",
       "\n",
       "    .dataframe tbody tr th {\n",
       "        vertical-align: top;\n",
       "    }\n",
       "\n",
       "    .dataframe thead th {\n",
       "        text-align: right;\n",
       "    }\n",
       "</style>\n",
       "<table border=\"1\" class=\"dataframe\">\n",
       "  <thead>\n",
       "    <tr style=\"text-align: right;\">\n",
       "      <th></th>\n",
       "      <th>$h$</th>\n",
       "      <th>$D_+$</th>\n",
       "      <th>$D_-$</th>\n",
       "      <th>$D_0$</th>\n",
       "      <th>$D_3$</th>\n",
       "      <th>$D_{2i}$</th>\n",
       "      <th>$D_{2r}$</th>\n",
       "    </tr>\n",
       "  </thead>\n",
       "  <tbody>\n",
       "    <tr>\n",
       "      <th>0</th>\n",
       "      <td>1.00000</td>\n",
       "      <td>0.472476</td>\n",
       "      <td>0.301169</td>\n",
       "      <td>0.085654</td>\n",
       "      <td>0.043287</td>\n",
       "      <td>0.301169</td>\n",
       "      <td>0.054474</td>\n",
       "    </tr>\n",
       "    <tr>\n",
       "      <th>1</th>\n",
       "      <td>0.50000</td>\n",
       "      <td>0.228254</td>\n",
       "      <td>0.183789</td>\n",
       "      <td>0.022233</td>\n",
       "      <td>0.007314</td>\n",
       "      <td>0.066408</td>\n",
       "      <td>0.015967</td>\n",
       "    </tr>\n",
       "    <tr>\n",
       "      <th>2</th>\n",
       "      <td>0.25000</td>\n",
       "      <td>0.110248</td>\n",
       "      <td>0.099027</td>\n",
       "      <td>0.005611</td>\n",
       "      <td>0.001014</td>\n",
       "      <td>0.014265</td>\n",
       "      <td>0.007759</td>\n",
       "    </tr>\n",
       "    <tr>\n",
       "      <th>3</th>\n",
       "      <td>0.12500</td>\n",
       "      <td>0.053929</td>\n",
       "      <td>0.051118</td>\n",
       "      <td>0.001406</td>\n",
       "      <td>0.000132</td>\n",
       "      <td>0.003209</td>\n",
       "      <td>0.002389</td>\n",
       "    </tr>\n",
       "    <tr>\n",
       "      <th>4</th>\n",
       "      <td>0.06250</td>\n",
       "      <td>0.026639</td>\n",
       "      <td>0.025936</td>\n",
       "      <td>0.000352</td>\n",
       "      <td>0.000017</td>\n",
       "      <td>0.000754</td>\n",
       "      <td>0.000651</td>\n",
       "    </tr>\n",
       "    <tr>\n",
       "      <th>5</th>\n",
       "      <td>0.03125</td>\n",
       "      <td>0.013235</td>\n",
       "      <td>0.013059</td>\n",
       "      <td>0.000088</td>\n",
       "      <td>0.000002</td>\n",
       "      <td>0.000182</td>\n",
       "      <td>0.000169</td>\n",
       "    </tr>\n",
       "  </tbody>\n",
       "</table>\n",
       "</div>"
      ],
      "text/plain": [
       "       $h$     $D_+$     $D_-$     $D_0$     $D_3$  $D_{2i}$  $D_{2r}$\n",
       "0  1.00000  0.472476  0.301169  0.085654  0.043287  0.301169  0.054474\n",
       "1  0.50000  0.228254  0.183789  0.022233  0.007314  0.066408  0.015967\n",
       "2  0.25000  0.110248  0.099027  0.005611  0.001014  0.014265  0.007759\n",
       "3  0.12500  0.053929  0.051118  0.001406  0.000132  0.003209  0.002389\n",
       "4  0.06250  0.026639  0.025936  0.000352  0.000017  0.000754  0.000651\n",
       "5  0.03125  0.013235  0.013059  0.000088  0.000002  0.000182  0.000169"
      ]
     },
     "execution_count": 79,
     "metadata": {},
     "output_type": "execute_result"
    }
   ],
   "source": [
    "# Calculamos el error entre la derivada exacta y la derivada numérica:\n",
    "e2r = np.fabs( np.cos(x) - D2r(np.sin,x,h) )\n",
    "\n",
    "# Metemos la información de h y del error en un Dataframe y mostramos el resultado:\n",
    "Error = pd.DataFrame(np.array([h,ef,eb,ec,e3,e2l,e2r]).transpose(), \n",
    "                     columns=['$h$','$D_+$', '$D_-$','$D_0$','$D_3$', '$D_{2i}$', '$D_{2r}$'])\n",
    "Error"
   ]
  },
  {
   "cell_type": "code",
   "execution_count": 80,
   "metadata": {},
   "outputs": [
    {
     "data": {
      "image/png": "[encoded data removed]",
      "text/plain": [
       "<Figure size 512x384 with 1 Axes>"
      ]
     },
     "metadata": {},
     "output_type": "display_data"
    }
   ],
   "source": [
    "# Hacemos el gráfico del error vs h\n",
    "plt.plot(h, ef, '^-', label='$D_+$')\n",
    "plt.plot(h, eb, 'v-', label='$D_-$')\n",
    "plt.plot(h, ec, 's-', label='$D_0$')\n",
    "plt.plot(h, e3, 'o-', label='$D_3$')\n",
    "plt.plot(h, e2l, 'P--', label='$D_{2l}$')\n",
    "plt.plot(h, e2r, 'p-.', label='$D_{2r}$')\n",
    "\n",
    "plt.xlabel('$h$')\n",
    "plt.ylabel('Error')\n",
    "plt.title('Aproximación de la derivada')\n",
    "plt.legend()\n",
    "plt.loglog()  # Definimos la escala log-log\n",
    "plt.show()"
   ]
  }
 ],
 "metadata": {
  "kernelspec": {
   "display_name": "Python 3 (ipykernel)",
   "language": "python",
   "name": "python3"
  },
  "language_info": {
   "codemirror_mode": {
    "name": "ipython",
    "version": 3
   },
   "file_extension": ".py",
   "mimetype": "text/x-python",
   "name": "python",
   "nbconvert_exporter": "python",
   "pygments_lexer": "ipython3",
   "version": "3.10.7"
  }
 },
 "nbformat": 4,
 "nbformat_minor": 4
}
