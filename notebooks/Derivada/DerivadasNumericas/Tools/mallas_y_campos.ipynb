{
 "cells": [
  {
   "cell_type": "code",
   "execution_count": 1,
   "metadata": {},
   "outputs": [],
   "source": [
    "import numpy as np\n",
    "import matplotlib.pyplot as plt\n",
    "from mpl_toolkits.axes_grid1 import make_axes_locatable"
   ]
  },
  {
   "cell_type": "code",
   "execution_count": 2,
   "metadata": {},
   "outputs": [],
   "source": [
    "def plot_mesh(xm, ym):\n",
    "    for y in ym:\n",
    "        plt.plot([xm[0],xm[-1]], [y,y], color = 'gray', ls = '-', lw = 0.5)\n",
    "    for x in xm:\n",
    "        plt.plot([x,x], [ym[0],ym[-1]], color = 'gray', ls = '-', lw = 0.5)"
   ]
  },
  {
   "cell_type": "code",
   "execution_count": 3,
   "metadata": {},
   "outputs": [
    {
     "name": "stdout",
     "output_type": "stream",
     "text": [
      "0.2 0.2\n"
     ]
    }
   ],
   "source": [
    "#\n",
    "# 0       1       2       3       4       5   \n",
    "# |                                       |   Nx  = 4 (nodos interiores)\n",
    "# |-------|-------|-------|-------|-------|           (grados de libertad)\n",
    "# |                                       |\n",
    "# 0   1       2       3       4       5   6   hx = L / (Nx + 1)\n",
    "#\n",
    "#  <----------------- L ------------------>  \n",
    "#\n",
    "Nx = 4\n",
    "Ny = 4\n",
    "Lx = 1.0\n",
    "Ly = 1.0\n",
    "hx = Lx / (Nx+1)\n",
    "hy = Ly / (Ny+1)\n",
    "print(hx, hy)"
   ]
  },
  {
   "cell_type": "code",
   "execution_count": 4,
   "metadata": {},
   "outputs": [
    {
     "name": "stdout",
     "output_type": "stream",
     "text": [
      "6 6\n",
      "[0.  0.2 0.4 0.6 0.8 1. ]\n",
      "[0.  0.2 0.4 0.6 0.8 1. ]\n"
     ]
    }
   ],
   "source": [
    "NxT = Nx + 2\n",
    "NyT = Ny + 2\n",
    "\n",
    "# Coordenadas de la malla\n",
    "xn = np.linspace(0,Lx,NxT)\n",
    "yn = np.linspace(0,Ly,NyT)\n",
    "print(NxT, NyT)\n",
    "print(xn)\n",
    "print(yn)"
   ]
  },
  {
   "cell_type": "code",
   "execution_count": 5,
   "metadata": {},
   "outputs": [
    {
     "name": "stdout",
     "output_type": "stream",
     "text": [
      "[[0.  0.  0.  0.  0.  0. ]\n",
      " [0.2 0.2 0.2 0.2 0.2 0.2]\n",
      " [0.4 0.4 0.4 0.4 0.4 0.4]\n",
      " [0.6 0.6 0.6 0.6 0.6 0.6]\n",
      " [0.8 0.8 0.8 0.8 0.8 0.8]\n",
      " [1.  1.  1.  1.  1.  1. ]]\n",
      "[[0.  0.2 0.4 0.6 0.8 1. ]\n",
      " [0.  0.2 0.4 0.6 0.8 1. ]\n",
      " [0.  0.2 0.4 0.6 0.8 1. ]\n",
      " [0.  0.2 0.4 0.6 0.8 1. ]\n",
      " [0.  0.2 0.4 0.6 0.8 1. ]\n",
      " [0.  0.2 0.4 0.6 0.8 1. ]]\n"
     ]
    }
   ],
   "source": [
    "# Generación de una rejilla\n",
    "xg, yg = np.meshgrid(xn, yn, indexing='ij', sparse=False)\n",
    "\n",
    "print(xg)\n",
    "print(yg)"
   ]
  },
  {
   "cell_type": "code",
   "execution_count": 9,
   "metadata": {},
   "outputs": [
    {
     "name": "stdout",
     "output_type": "stream",
     "text": [
      "[[1. 1. 1. 1. 1. 1.]\n",
      " [1. 1. 1. 1. 1. 1.]\n",
      " [1. 1. 1. 1. 1. 1.]\n",
      " [1. 1. 1. 1. 1. 1.]\n",
      " [1. 1. 1. 1. 1. 1.]\n",
      " [1. 1. 1. 1. 1. 1.]]\n"
     ]
    }
   ],
   "source": [
    "# Definición de un campo escalar\n",
    "T = np.zeros((NxT, NyT))\n",
    "for i in range(NxT):\n",
    "    for j in range(NyT):\n",
    "        T[i,j] = 1#i / NxT\n",
    "        \n",
    "print(T)"
   ]
  },
  {
   "cell_type": "code",
   "execution_count": 10,
   "metadata": {},
   "outputs": [
    {
     "name": "stdout",
     "output_type": "stream",
     "text": [
      "[[3.5 1.5 1.5 1.5 1.5 4.5]\n",
      " [3.5 1.  1.  1.  1.  4.5]\n",
      " [3.5 1.  4.5 1.  1.  4.5]\n",
      " [3.5 1.  1.  1.  1.  4.5]\n",
      " [3.5 1.  1.  1.  4.5 4.5]\n",
      " [3.5 2.5 2.5 2.5 2.5 4.5]]\n"
     ]
    }
   ],
   "source": [
    "# Valores en las fronteras del dominio\n",
    "TL = 1.5; TR = 2.5\n",
    "TB = 3.5; TT = 4.5\n",
    "\n",
    "T[0 , :] = TL # LEFT\n",
    "T[-1, :] = TR # RIGHT\n",
    "T[: , 0] = TB # BOTTOM\n",
    "T[: ,-1] = TT # TOP\n",
    "\n",
    "# Dos puntos especiales en el dominio\n",
    "T[NxT//3, NyT//3] = TT\n",
    "T[2*NxT//3, 2*NyT//3] = TT\n",
    "\n",
    "print(T)"
   ]
  },
  {
   "cell_type": "code",
   "execution_count": 11,
   "metadata": {},
   "outputs": [
    {
     "data": {
      "image/png": "[encoded data removed]",
      "text/plain": [
       "<Figure size 640x480 with 2 Axes>"
      ]
     },
     "metadata": {},
     "output_type": "display_data"
    }
   ],
   "source": [
    "plt.imshow(T)\n",
    "plt.colorbar()\n",
    "plt.show()"
   ]
  },
  {
   "cell_type": "code",
   "execution_count": null,
   "metadata": {},
   "outputs": [],
   "source": [
    "# Definición del campo vectorial (en este caso dos valores por nodo)\n",
    "v = np.zeros((2, NxT, NyT))\n",
    "A = 1.0\n",
    "alpha_x = 1.0\n",
    "alpha_y = 1.0\n",
    "v[0] = -A * np.cos(np.pi * alpha_y * yg / Ly) * np.sin(np.pi * alpha_x * xg / Lx)\n",
    "v[1] =  A * np.sin(np.pi * alpha_y * yg / Ly) * np.cos(np.pi * alpha_x * xg / Lx)\n",
    "\n",
    "print(v[0])\n",
    "print(v[1])"
   ]
  },
  {
   "cell_type": "code",
   "execution_count": null,
   "metadata": {},
   "outputs": [],
   "source": [
    "fig = plt.figure(figsize=(9,5))\n",
    "\n",
    "plt.subplot(1,2,1)\n",
    "plt.imshow(v[0])\n",
    "\n",
    "plt.subplot(1,2,2)\n",
    "plt.imshow(v[1])\n",
    "\n",
    "plt.show()"
   ]
  },
  {
   "cell_type": "code",
   "execution_count": null,
   "metadata": {},
   "outputs": [],
   "source": [
    "fig = plt.figure(figsize=(12,5))\n",
    "\n",
    "plt.subplot(1,3,1)\n",
    "plt.imshow(v[0])\n",
    "\n",
    "plt.subplot(1,3,2)\n",
    "plt.imshow(v[1])\n",
    "\n",
    "plt.subplot(1,3,3)\n",
    "plt.quiver(xg, yg, v[0], v[1])\n",
    "\n",
    "plt.show()"
   ]
  },
  {
   "cell_type": "code",
   "execution_count": null,
   "metadata": {},
   "outputs": [],
   "source": [
    "plt.scatter(xg, yg, marker='.')\n",
    "plot_mesh(xn, yn)"
   ]
  },
  {
   "cell_type": "code",
   "execution_count": null,
   "metadata": {},
   "outputs": [],
   "source": [
    "plt.scatter(xg, yg, marker='.')\n",
    "plot_mesh(xn, yn)\n",
    "\n",
    "plt.xticks(xn, labels=[])\n",
    "plt.yticks(yn, labels=[])\n",
    "plt.xlabel('$x$')\n",
    "plt.ylabel('$y$')\n",
    "\n",
    "lmax = max(Lx,Ly)\n",
    "offx = lmax * 0.1\n",
    "offy = lmax * 0.1\n",
    "plt.xlim(-offx, Lx+offx)\n",
    "plt.ylim(-offy, Ly+offy)\n",
    "\n",
    "ax = plt.gca()\n",
    "ax.set_aspect('equal')\n",
    "divider = make_axes_locatable(ax)\n",
    "cax = divider.append_axes(\"right\", \"5%\", pad=\"3%\")\n",
    "cax.set_xticks([])\n",
    "cax.set_yticks([])\n",
    "\n",
    "plt.show()"
   ]
  },
  {
   "cell_type": "code",
   "execution_count": null,
   "metadata": {},
   "outputs": [],
   "source": [
    "fig = plt.figure(figsize=(12,5))\n",
    "\n",
    "plt.subplot(1,3,1)\n",
    "plt.scatter(xg, yg, marker='.')\n",
    "plt.xticks(xn, labels=[])\n",
    "plt.yticks(yn, labels=[])\n",
    "plt.xlabel('$x$')\n",
    "plt.ylabel('$y$')\n",
    "lmax = max(Lx,Ly)\n",
    "offx = lmax * 0.1\n",
    "offy = lmax * 0.1\n",
    "plt.xlim(-offx, Lx+offx)\n",
    "plt.ylim(-offy, Ly+offy)\n",
    "plot_mesh(xn, yn)\n",
    "ax = plt.gca()\n",
    "ax.set_aspect('equal')\n",
    "divider = make_axes_locatable(ax)\n",
    "cax = divider.append_axes(\"right\", \"5%\", pad=\"3%\")\n",
    "cax.set_xticks([])\n",
    "cax.set_yticks([])\n",
    "\n",
    "plt.subplot(1,3,2)\n",
    "c = plt.contourf(xg, yg, T, levels=20, cmap='inferno')\n",
    "plt.xticks(xn, labels=[])\n",
    "plt.yticks(yn, labels=[])\n",
    "plt.xlabel('$x$')\n",
    "#plt.ylabel('$y$')\n",
    "lmax = max(Lx,Ly)\n",
    "offx = lmax * 0.1\n",
    "offy = lmax * 0.1\n",
    "plt.xlim(-offx, Lx+offx)\n",
    "plt.ylim(-offy, Ly+offy)\n",
    "plot_mesh(xn, yn)\n",
    "ax = plt.gca()\n",
    "ax.set_aspect('equal')\n",
    "divider = make_axes_locatable(ax)\n",
    "cax = divider.append_axes(\"right\", \"5%\", pad=\"3%\")\n",
    "cax.set_xticks([])\n",
    "cax.set_yticks([])\n",
    "fig.colorbar(c, cax=cax, ticks=[0, TL, TR, TB, TT], orientation='vertical')\n",
    "\n",
    "plt.subplot(1,3,3)\n",
    "plt.quiver(xg, yg, v[0], v[1])\n",
    "plt.xticks(xn, labels=[])\n",
    "plt.yticks(yn, labels=[])\n",
    "plt.xlabel('$x$')\n",
    "#plt.ylabel('$y$')\n",
    "plt.xlim(-offx, Lx+offx)\n",
    "plt.ylim(-offy, Ly+offy)\n",
    "plot_mesh(xn, yn)\n",
    "ax = plt.gca()\n",
    "ax.set_aspect('equal')\n",
    "divider = make_axes_locatable(ax)\n",
    "cax = divider.append_axes(\"right\", \"5%\", pad=\"3%\")\n",
    "cax.set_xticks([])\n",
    "cax.set_yticks([])\n",
    "\n",
    "plt.savefig('nodes.pdf')\n",
    "plt.show()"
   ]
  },
  {
   "cell_type": "code",
   "execution_count": null,
   "metadata": {},
   "outputs": [],
   "source": []
  }
 ],
 "metadata": {
  "kernelspec": {
   "display_name": "Python 3 (ipykernel)",
   "language": "python",
   "name": "python3"
  },
  "language_info": {
   "codemirror_mode": {
    "name": "ipython",
    "version": 3
   },
   "file_extension": ".py",
   "mimetype": "text/x-python",
   "name": "python",
   "nbconvert_exporter": "python",
   "pygments_lexer": "ipython3",
   "version": "3.10.7"
  }
 },
 "nbformat": 4,
 "nbformat_minor": 4
}
