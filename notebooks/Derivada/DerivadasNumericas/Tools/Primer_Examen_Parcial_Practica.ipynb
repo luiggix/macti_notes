{
 "cells": [
  {
   "cell_type": "code",
   "execution_count": 37,
   "id": "6ae315a9",
   "metadata": {},
   "outputs": [],
   "source": [
    "import numpy as np\n",
    "import matplotlib.pyplot as plt\n",
    "import ipywidgets as widgets\n",
    "import macti.visual as mvis"
   ]
  },
  {
   "cell_type": "markdown",
   "id": "6d73133e-4a13-42aa-927e-63c65fc2d77c",
   "metadata": {},
   "source": [
    "$$\n",
    "T(x) =\n",
    "\\left(\\frac{T_B - T_A}{L} + \\frac{S}{2\\kappa} \\left(L - x\\right) \\right)x + T_A\n",
    "$$"
   ]
  },
  {
   "cell_type": "code",
   "execution_count": 38,
   "id": "a17b8c67-fa5e-4e1a-8dcd-4a5ec8659f9c",
   "metadata": {},
   "outputs": [],
   "source": [
    "# Solucion exacta\n",
    "def sol_exacta(x, TA, TB, S, L, k):\n",
    "    \"\"\"\n",
    "    Calcula la temperatura usando la fórmula obtenida con Series de Taylor.\n",
    "\n",
    "    Parameters\n",
    "    ----------\n",
    "    x: np.array\n",
    "    Coordenadas donde se calcula la temperatura.\n",
    "\n",
    "    TA: float\n",
    "    Es la condición de frontera a la izquierda.\n",
    "    \n",
    "    TB: float\n",
    "    Es la condición de frontera a la derecha.\n",
    "\n",
    "    S: float\n",
    "    es la fuente.\n",
    "    \n",
    "    L: float\n",
    "    L es la longitud del dominio.\n",
    "    \n",
    "    k: float\n",
    "    es la conductividad del material.\n",
    "    \n",
    "    Return\n",
    "    ------\n",
    "    al final esta función dibuja la solución.\n",
    "    \"\"\"\n",
    "# BEGIN SOLUTION\n",
    "    return ((TB - TA)/L + S /(2*k) * (L - x) ) * x + TA\n",
    "# END SOLUTION"
   ]
  },
  {
   "cell_type": "code",
   "execution_count": 39,
   "id": "c21e21f7-be0d-42ee-8a36-7f8f28bf6ad1",
   "metadata": {},
   "outputs": [],
   "source": [
    "def error_absoluto(ve, va):\n",
    "    \"\"\"\n",
    "    Calcula el error absoluto entre el valor exacto (ve) y el valor aproximado (va).\n",
    "    \"\"\"\n",
    "    return np.linalg.norm(ve - va)"
   ]
  },
  {
   "cell_type": "code",
   "execution_count": 40,
   "id": "593ba476-d37f-407f-a22c-1bbf14ca689a",
   "metadata": {},
   "outputs": [],
   "source": [
    "def error_relativo(ve, va):\n",
    "    \"\"\"\n",
    "    Calcula el error absoluto entre el valor exacto (ve) y el valor aproximado (va).\n",
    "    \"\"\"\n",
    "# BEGIN SOLUTION\n",
    "    return np.linalg.norm(ve - va) / np.linalg.norm(ve)\n",
    "# END SOLUTION"
   ]
  },
  {
   "cell_type": "code",
   "execution_count": 58,
   "id": "fb9f3d0b",
   "metadata": {},
   "outputs": [],
   "source": [
    "def conduccion_1d(k, S, L, TA, TB, N):\n",
    "    \"\"\"\n",
    "    Calcula la temperatura en 1D mediante diferencias finitas.\n",
    "    \n",
    "    Parameters\n",
    "    ----------    \n",
    "    L: float\n",
    "    L es la longitud del dominio.\n",
    "    \n",
    "    k: float\n",
    "    es la conductividad del material.\n",
    "    \n",
    "    S: float\n",
    "    es la fuente.\n",
    "    \n",
    "    TA: float\n",
    "    Es la condición de frontera a la izquierda.\n",
    "    \n",
    "    TB: float\n",
    "    Es la condición de frontera a la derecha.\n",
    "\n",
    "    N: int\n",
    "    Es el número de nodos internos (grados de libertad).\n",
    "    \n",
    "    Return\n",
    "    ------\n",
    "    al final esta función dibuja la solución.\n",
    "    \"\"\"\n",
    "\n",
    "    # Cálculo de algunos parámetros numéricos\n",
    "    h = L / (N+1)\n",
    "    r = k / h**2\n",
    "    \n",
    "    # Definición de arreglos \n",
    "    T = np.zeros(N+2)\n",
    "    b = np.zeros(N)\n",
    "    A = np.zeros((N,N))\n",
    "\n",
    "    # Se inicializa todo el arreglo b con S/r\n",
    "    b[:] = S / r\n",
    "\n",
    "    # Condiciones de frontera en el arreglo de la Temperatura.\n",
    "    T[0] = TA\n",
    "    T[-1] = TB\n",
    "    \n",
    "    # Se ajusta el vector del lado derecho (RHS) con las condiciones de frontera.\n",
    "    b[0] += TA\n",
    "    b[-1] += TB\n",
    "\n",
    "    # Se calculan las entradas de la matriz del sistema de ecuaciones lineales.\n",
    "    A[0,0] = 2\n",
    "    A[0,1] = -1\n",
    "    for i in range(1,N-1):\n",
    "        A[i,i] = 2\n",
    "        A[i,i+1] = -1\n",
    "        A[i,i-1] = -1\n",
    "    A[-1,-2] = -1\n",
    "    A[-1,-1] = 2\n",
    "\n",
    "    # Se resuelve el sistema lineal.\n",
    "    T[1:N+1] = np.linalg.solve(A,b)\n",
    "\n",
    "    # Coordenadas para la solución exacta.\n",
    "    xe = np.linspace(0,L,100)\n",
    "    \n",
    "    # Coordenadas para la solución numérica.\n",
    "    xa = np.linspace(0,L,N+2)\n",
    "    \n",
    "    # Se calcula la solución exacta en las coordenadas xe.\n",
    "    # Se calcula el error absoluto y el error relativo.\n",
    "    # Te = ...\n",
    "    # ea = ...\n",
    "    # er = ...\n",
    "    # BEGIN SOLUTION\n",
    "    Te = sol_exacta(xe, TA, TB, S, L, k)\n",
    "    ea = error_absoluto(T, sol_exacta(xa,TA,TB,S,L,k))\n",
    "    er = error_relativo(T, sol_exacta(xa,TA,TB,S,L,k))\n",
    "    # END SOLUTION\n",
    "\n",
    "    # Se imprime el error absoluto y el relativo.\n",
    "    print('Error absoluto = {:6.5e}, Error relativo = {:6.5e}'.format(ea, er))\n",
    "\n",
    "    # Se realiza la gráfica de la solución.\n",
    "    plt.plot(xa, T, 'o-', lw = 1, label = 'Numérica', zorder=5)\n",
    "    plt.plot(xe, Te, lw=5, label = 'Exacta')\n",
    "    plt.xlabel('$x$')\n",
    "    plt.ylabel('$T$')\n",
    "    plt.legend()\n",
    "    plt.show()"
   ]
  },
  {
   "cell_type": "code",
   "execution_count": 59,
   "id": "5c44e305",
   "metadata": {},
   "outputs": [
    {
     "data": {
      "application/vnd.jupyter.widget-view+json": {
       "model_id": "b8fd9d90f3a6473c91ec618ac1983aa7",
       "version_major": 2,
       "version_minor": 0
      },
      "text/plain": [
       "interactive(children=(FloatSlider(value=0.02, description='k', max=1.0, min=0.02), FloatSlider(value=0.0, desc…"
      ]
     },
     "execution_count": 59,
     "metadata": {},
     "output_type": "execute_result"
    }
   ],
   "source": [
    "widgets.interactive(conduccion_1d,\n",
    "                    k = widgets.FloatSlider(max=1.0, min=0.02, value=0.02, step=0.1), \n",
    "                    S = widgets.FloatSlider(max=10.0, min=0.0, value=0, step=1.0), \n",
    "                    L = widgets.fixed(5.0), \n",
    "                    TA = widgets.fixed(200), \n",
    "                    TB = widgets.fixed(1000), \n",
    "                    N = widgets.IntSlider(max=10, min=4, value=4))"
   ]
  },
  {
   "cell_type": "code",
   "execution_count": null,
   "id": "d7e9f749",
   "metadata": {},
   "outputs": [],
   "source": []
  }
 ],
 "metadata": {
  "kernelspec": {
   "display_name": "Python 3 (ipykernel)",
   "language": "python",
   "name": "python3"
  },
  "language_info": {
   "codemirror_mode": {
    "name": "ipython",
    "version": 3
   },
   "file_extension": ".py",
   "mimetype": "text/x-python",
   "name": "python",
   "nbconvert_exporter": "python",
   "pygments_lexer": "ipython3",
   "version": "3.10.7"
  }
 },
 "nbformat": 4,
 "nbformat_minor": 5
}
