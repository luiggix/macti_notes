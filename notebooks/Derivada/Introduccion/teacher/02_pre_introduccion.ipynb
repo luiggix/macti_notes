{
 "cells": [
  {
   "cell_type": "markdown",
   "id": "7a1f6f90",
   "metadata": {
    "nbgrader": {
     "grade": false,
     "grade_id": "cell-ef667930739c7b23",
     "locked": true,
     "schema_version": 3,
     "solution": false,
     "task": false
    }
   },
   "source": [
    "# La derivada de una función y su aproximación\n",
    "\n",
    "**Objetivo general**\n",
    "- Revisar el concepto de derivada usando herramientas visuales que permitan comprender su sentido geométrico.\n",
    "\n",
    "**Objetivos particulares**\n",
    "- Comprender lo que significa el cambio instantáneo.\n",
    "- Revisar algunas reglas de derivación.\n",
    "- Realizar ejercicios que fortalezcan los conceptos aprendidos.\n",
    "\n",
    "## Contenido\n",
    "- [1 - Introducción.](#1)\n",
    "- [2 - La curva del olvido](#2)    \n",
    "    - [2.1 - ¿Cuánto dura el recuerdo?.](#2-1)\n",
    "    - [Ejercicio 1.](#ej-1)\n",
    "- [3 - Definición de Derivada.](#3)\n",
    "    - [Ejercicio 2.](#ej-2)"
   ]
  },
  {
   "cell_type": "code",
   "execution_count": 1,
   "id": "a845ea45-d17a-4b48-a6ee-d50c688cce08",
   "metadata": {
    "nbgrader": {
     "grade": false,
     "grade_id": "cell-2e82af6118297b04",
     "locked": true,
     "schema_version": 3,
     "solution": false,
     "task": false
    }
   },
   "outputs": [],
   "source": [
    "# Importamos todas las bibliotecas\n",
    "import matplotlib.pyplot as plt\n",
    "import numpy as np\n",
    "import pandas as pd\n",
    "import macti.visual\n",
    "from macti.evaluacion import Quizz\n",
    "quizz = Quizz('Derivada', 'Introduccion')"
   ]
  },
  {
   "cell_type": "markdown",
   "id": "2add3a2f",
   "metadata": {
    "nbgrader": {
     "grade": false,
     "grade_id": "cell-1adcd6754423e310",
     "locked": true,
     "schema_version": 3,
     "solution": false,
     "task": false
    }
   },
   "source": [
    "<a name='1'></a>\n",
    "## Introducción\n",
    "\n",
    "Si revisamos con cuidado, algunas definiciones matemáticas utilizan un tipo de figura literaria conocida como <a href=https://es.wikipedia.org/wiki/Ox%C3%ADmoron>*oxímoron*</a>. En términos simples, un oxímoron consiste en usar dos conceptos de significado opuesto y con ello generar un tercer concepto. \n",
    "\n",
    "Por ejemplo: **La razón de cambio instantáneo**. \n",
    "- Cuando se habla de un *cambio*, se requiere de la comparación entre dos o más estados y con ello analizar las diferencias entre un estado y otro; \n",
    "- por otro lado, la palabra *instantáneo* tiene que ver con algo que dura un solo instante, es decir un tiempo puntal. \n",
    "\n",
    "Entonces el concepto \"**cambio instantáneo**\" representa un oxímoron. Pero ¿cuál es su significado?\n",
    "¿Será importante este concepto en nuestra vida diaria?\n",
    "\n",
    "En lo que sigue veremos que la razón de cambio instantáneo tiene que ver con un concepto muy importante en Cálculo: *la derivada*."
   ]
  },
  {
   "cell_type": "markdown",
   "id": "2be9ccfc",
   "metadata": {
    "nbgrader": {
     "grade": false,
     "grade_id": "cell-94664a4f80b73ecf",
     "locked": true,
     "schema_version": 3,
     "solution": false,
     "task": false
    }
   },
   "source": [
    "<a name='2'></a>\n",
    "## La curva del olvido.\n",
    "\n",
    "Un estudiante de lenguas participará en un concurso internacional cuyo principal reto es el conocimiento del vocabulario de un cierto idioma. Por ello, es importante que el estudiante utilice un método de estudio adecuado para recordar el significado del mayor número de palabras posible.\n",
    "\n",
    "La <a href=https://es.wikipedia.org/wiki/Curva_del_olvido>curva del olvido</a> puede ayudar al estudiante a generar un plan de estudio adecuado. La función que define esta curva es la siguiente:\n",
    "\n",
    "$$\n",
    "R(t) = e^{-t/S}\n",
    "$$\n",
    "\n",
    "donde $R$ es cuanto recordamos, $S$ es la intensidad del recuerdo y $t$ el tiempo. Podemos definir $S \\in (0,1]$, donde $1$ es la máxima intensidad de recuerdo y un valor cercano a $0$ corresponde a algo que no nos interesa nada.\n",
    "\n",
    "**Observación**: $S$ no puede ser exactamente $0$ por que en ese caso la función $R(t)$ no está definida.\n",
    "\n",
    "La siguiente gráfica muestra cómo decrecen nuestros recuerdos con el paso del tiempo."
   ]
  },
  {
   "cell_type": "code",
   "execution_count": null,
   "id": "35941f88",
   "metadata": {
    "nbgrader": {
     "grade": false,
     "grade_id": "cell-1a899f195f61c7b7",
     "locked": true,
     "schema_version": 3,
     "solution": false,
     "task": false
    }
   },
   "outputs": [],
   "source": [
    "# Primero definimos la función del olvido\n",
    "def R(t, S=0.9):\n",
    "    return np.exp(-t/S)\n",
    "\n",
    "# Dominio de tiempo (hasta 7 días).\n",
    "t = np.linspace(0,7,100)\n",
    "\n",
    "# Tres curvas del olvido para tres valores de S\n",
    "plt.plot(t, R(t,0.1), lw=3, c='C3', label='{}'.format(0.1))\n",
    "plt.plot(t, R(t,0.5), lw=3, c='C2', label='{}'.format(0.5))\n",
    "plt.plot(t, R(t,0.9), lw=3, c='C1', label='{}'.format(0.9))\n",
    "\n",
    "# Configuración de la gráfica. \n",
    "plt.title(\"Función del olvido: $R(t)=e^{-t/S}$\")\n",
    "plt.ylabel(\"$R(t)$\")\n",
    "plt.xlabel(\"$t$ [días]\")\n",
    "plt.legend(title = 'Intensidad $S$')\n",
    "plt.show()"
   ]
  },
  {
   "cell_type": "markdown",
   "id": "fe8bb8e3",
   "metadata": {
    "nbgrader": {
     "grade": false,
     "grade_id": "cell-cba9a7ed271ac4b9",
     "locked": true,
     "schema_version": 3,
     "solution": false,
     "task": false
    }
   },
   "source": [
    "<a name='2-1'></a>\n",
    "### ¿Cuánto tiempo dura el recuerdo?\n",
    "\n",
    "¿Será posible determinar cada cuanto tiempo el estudiante debe repasar las palabras para que no las olvide y pueda ganar el concurso? ¿De qué depende esto?\n",
    "\n",
    "Tomemos por ejemplo el caso de $S=0.9$ (curva naranja). ¿En qué parte de la gráfica se incrementa el olvido? en otras palabras ¿en qué parte de la gráfica el descenso es más rápido?\n",
    "\n",
    "Para conocer ese descenso, debemos calcular la pendiente $m$ y eso lo podemos hacer con la siguiente fórmula:\n",
    "\n",
    "$$\n",
    "m = \\frac{R(t_2) - R(t_1)}{t_2 - t_1} \\tag{1}\n",
    "$$\n",
    "\n",
    "donde $t_1$ y $t_2$ son dos tiempos distintos.\n",
    "\n",
    "Si definimos $h = t_2 - t_1$ y $t = t_1$ podemos escribir la fórmula $(1)$ como sigue:\n",
    "\n",
    "$$\n",
    "m(t) = \\frac{R(t + h) - R(t)}{h} \\tag{2}\n",
    "$$\n",
    "\n",
    "En esta última fórmula vemos que la pendiente depende de $t$, es decir, en qué día nos encontramos.\n",
    "\n",
    "Vamos a calcular $R(t)$ y $m(t)$ en $t = [0,1,2,3,4,5,6,7]$, para $h = 1$ :"
   ]
  },
  {
   "cell_type": "code",
   "execution_count": null,
   "id": "3cf4ee5e",
   "metadata": {
    "nbgrader": {
     "grade": false,
     "grade_id": "cell-97d91dc18671ce5f",
     "locked": true,
     "schema_version": 3,
     "solution": false,
     "task": false
    }
   },
   "outputs": [],
   "source": [
    "h = 1.0\n",
    "td = np.arange(0,8,h) # Definición de las t = 0,1,2,...,7\n",
    "r = np.zeros(len(td)) # Arreglo para almacenar el valor de R\n",
    "m = np.zeros(len(td)) # Arreglo para almacenar las pendientes\n",
    "\n",
    "print('td = {}'.format(td))\n",
    "print('r = {}'.format(r))\n",
    "print('m = {}'.format(m))"
   ]
  },
  {
   "cell_type": "code",
   "execution_count": null,
   "id": "911dd94e-36c9-4f47-9e63-a776fb10b60a",
   "metadata": {
    "nbgrader": {
     "grade": false,
     "grade_id": "cell-0759e5cea3ff2ed4",
     "locked": true,
     "schema_version": 3,
     "solution": false,
     "task": false
    }
   },
   "outputs": [],
   "source": [
    "# Hacemos los cálculos en cada uno de los días\n",
    "for i, t in enumerate(td):\n",
    "    r[i] = R(t)                  # Función del olvido\n",
    "    m[i] = (R(t + h) - R(t)) / h # Pendiente\n",
    "\n",
    "# Ponemos la información en un DataFrame y la mostramos\n",
    "tabla = pd.DataFrame(np.array([td, r, m]).T, \n",
    "                     columns = ['$t$', '$R(t)$', '$m(t)$'])\n",
    "tabla"
   ]
  },
  {
   "cell_type": "markdown",
   "id": "6079ccf1-8d3b-404f-ac41-33517b3f23c0",
   "metadata": {
    "nbgrader": {
     "grade": false,
     "grade_id": "cell-cf505433bdd1f9f6",
     "locked": true,
     "schema_version": 3,
     "solution": false,
     "task": false
    }
   },
   "source": [
    "Observa que la pendiente es negativa, lo cual indica un decrecimiento. También la magnitud de la pendiente (su valor absoluto) disminuye conforme $t$  avanza. Vemos que el recuerdo disminuye mucho al principio, de tal manera que en el tercer día ya casi no se recuerda nada, alrededor del $3.5\\%$. Esto se ve de manera gráfica como sigue:"
   ]
  },
  {
   "cell_type": "code",
   "execution_count": null,
   "id": "9a65795c-4c5d-43ad-9b1c-2e27e913465c",
   "metadata": {
    "nbgrader": {
     "grade": false,
     "grade_id": "cell-bf938b851ea40331",
     "locked": true,
     "schema_version": 3,
     "solution": false,
     "task": false
    }
   },
   "outputs": [],
   "source": [
    "# Dominio de tiempo (hasta 7 días).\n",
    "t = np.linspace(0,7,100)\n",
    "\n",
    "# La curva del olvido para S = 0.9\n",
    "plt.plot(t, R(t), lw=3, c='C1')\n",
    "\n",
    "# Línea punteada\n",
    "plt.plot([0,1,2,3], [R(0), R(1), R(2), R(3)], 'o--', lw=1, zorder=5)\n",
    "\n",
    "# Configuración de la gráfica. \n",
    "plt.title(\"Función del olvido: $R(t)=e^{-t/S}$, para $S = 0.9$\")\n",
    "plt.ylabel(\"$R(t)$\")\n",
    "plt.xlabel(\"$t$ [días]\")\n",
    "# Información de los primeros 3 días\n",
    "plt.text(2,0.6,'$R$({2:}) = {0:5.4f},\\t $m$({2:}) = {1:5.4f}'.format(R(0), m[0], 0))\n",
    "plt.text(2,0.5,'$R$({2:}) = {0:5.4f},\\t $m$({2:}) = {1:5.4f}'.format(R(1), m[1], 1))\n",
    "plt.text(2,0.4,'$R$({2:}) = {0:5.4f},\\t $m$({2:}) = {1:5.4f}'.format(R(2), m[2], 2))\n",
    "plt.text(2,0.3,'$R$({2:}) = {0:5.4f},\\t $m$({2:}) = {1:5.4f}'.format(R(3), m[3], 3))\n",
    "plt.show()"
   ]
  },
  {
   "cell_type": "markdown",
   "id": "2c08c3ac",
   "metadata": {
    "nbgrader": {
     "grade": false,
     "grade_id": "cell-5c05f63f1fd4273e",
     "locked": true,
     "schema_version": 3,
     "solution": false,
     "task": false
    }
   },
   "source": [
    "En la gráfica anterior, la línea punteada nos muestra gráficamente el cambio en la pendiente de la recta que une los puntos negros, los cualea indican los días. Lo que estamos observando es la razón de cambio de $R(t)$ en intervalos de tiempo de longitud $h = 1$. **Esto es justamente lo que expresa la fórmula $(2)$**. \n",
    "\n",
    "Los valores de $R$ para los diferentes días indican como es que vamos olvidando lo que estudiamos en el día 0. Para el día 1 ya solo recordamos el $32.92\\%,$ en el segundo día el recuerdo es del $10.84\\%$ y para el día 3 el recuerdo es mínimo, del $3.57\\%$. Por lo tanto, es conveniente repasar lo aprendido en el día 0 de manera frecuente, para este caso con $S=0.9$, sería conveniente repasar todos los días.\n",
    "\n",
    "¿Para este ejemplo, cómo podemos calcular **la razón de cambio instantáneo**? La respueta es: haciendo $h$ muy pequeña, es decir $h \\to 0$. \n",
    "\n",
    "Para ello, esta razón debería calcularse en un solo instante de tiempo, lo cual implica que $t_1 = t_2 \\Longrightarrow h = 0$, y esto nos lleva a que la fórmula de $m(t)$ no está bien definida (¡división por cero!). \n",
    "\n",
    "Pero, ¿qué pasa si $h$ se hace muy pequeña? es decir:\n",
    "\n",
    "$$\n",
    "\\lim_{h \\to 0}  \\frac{R(t + h) - R(t)}{h} \\tag{3} = ¿?\n",
    "$$\n",
    "\n",
    "¿Cúanto vale este límite? ¿Es posible calcularlo en cualquier caso y para cualquier tipo de función?"
   ]
  },
  {
   "cell_type": "markdown",
   "id": "d0b470b5-8aa6-4aed-bb89-468d491ec311",
   "metadata": {
    "nbgrader": {
     "grade": false,
     "grade_id": "cell-f44b8e3bb191a430",
     "locked": true,
     "schema_version": 3,
     "solution": false,
     "task": false
    }
   },
   "source": [
    "---\n",
    "<a name='ej-1'></a>\n",
    "### **<font color=\"DodgerBlue\">Ejercicio 1. ¿Qué pasa cuando $h \\to 0$ para diferentes valores de $S$?.</font>**\n",
    "\n",
    "<font color=\"DarkBlue\">Ejecuta la siguiente celda de código para generar el interactivo en donde podrás modificar $S$, $h$ y $t$. Explora qué sucede para cada valor de los parámetros y posteriomente responde las preguntas del </font> [Quiz 1](#quiz-1).\n",
    "\n",
    "<font color=\"DarkBlue\"> Para ver los valores de $R(t)$, $R^\\prime(t)$ y $m(t)$ haz clic sobre el botón `Muestra valores` sobre el interactivo</font>"
   ]
  },
  {
   "cell_type": "code",
   "execution_count": null,
   "id": "89f87b08",
   "metadata": {
    "nbgrader": {
     "grade": false,
     "grade_id": "cell-ea92671f648d4634",
     "locked": true,
     "schema_version": 3,
     "solution": false,
     "task": false
    }
   },
   "outputs": [],
   "source": [
    "%run \"../utils/src/zinteractivo1.ipynb\""
   ]
  },
  {
   "cell_type": "markdown",
   "id": "dc733144",
   "metadata": {
    "nbgrader": {
     "grade": false,
     "grade_id": "cell-0f788df06b98434f",
     "locked": true,
     "schema_version": 3,
     "solution": false,
     "task": false
    }
   },
   "source": [
    "**Comentarios.**\n",
    "\n",
    "En la gráfica de la izquierda observamos que conforme $h$ se hace más pequeño, observamos que la línea roja se aproxima cada vez mejor a la línea tangente (azul) que pasa por el punto rojo. La línea roja representa una aproximación a la razón de cambio instantánea en el punto rojo.\n",
    "\n",
    "En la gráfica de la derecha observamos la gráfica de $R^\\prime(t)$ (curva azul), un punto verde que representa el valor exacto de $R^\\prime(t)$ y un punto negro que es la aproximación para una $h$ dada.\n",
    "\n",
    "Entonces, la tangente en el punto rojo, no es otra cosa que **la razón de cambio instantánea**. Veremos enseguida que ambas cosas representan un concepto conocido como *la derivada de la función* en el punto rojo.\n",
    "\n",
    "---"
   ]
  },
  {
   "cell_type": "markdown",
   "id": "7de7275c-4ba4-4a46-93bd-36ef15048c16",
   "metadata": {
    "nbgrader": {
     "grade": false,
     "grade_id": "cell-47c951928e8cfabf",
     "locked": true,
     "schema_version": 3,
     "solution": false,
     "task": false
    }
   },
   "source": [
    "<a name='quiz-1'></a>\n",
    "### **<font color=\"DodgerBlue\">Quiz 1</font>**\n",
    "\n",
    "<font color=\"DarkBlue\"> El valor absoluto de la diferencia entre un valor exacto ($v_{e}$) y un valor aproximado ($v_{a}$) se conoce como el **error absoluto** y se escribe como sigue:\n",
    "$$\n",
    "E_a = |v_e - v_a| \\tag{4}\n",
    "$$\n",
    "Usando esta definición, responde las siguientes preguntas. </font>\n",
    "\n",
    "**NOTA.**\n",
    "<font color=\"MediumVioletRed\">\n",
    "Para responder las preguntas, tienes que mover los parámetros en el interactivo a los valores correspondientes de $S$, $h$ y $t$; posteriormente realiza los cálculos necesarios para obtener la respuesta correcta. No olvides revisar las reglas de redondeo.\n",
    "</font>\n",
    "\n",
    "1. <font color=\"DarkBlue\">¿Cuál es la diferencia entre $R'(1)$ y $m(1)$ redondeada a 4 decimales\n",
    "para $S = 0.9$, $t = 1.0$ y $h = 1.0$? Completa el código de la celda siguiente para obtener la respuesta.</font>\n",
    "\n",
    "**Hint:**\n",
    "<font color=\"DarkBlue\">\n",
    "calcula $|R'(1) - m(1)|$, usando las funciones `abs()` para calcular el valor absoluto y `round()` para redondear un número hasta un cierto número de dígitos. Puedes usar `help(abs)` y `help(round)` para obtener ayuda sobre el uso de estas funciones. "
   ]
  },
  {
   "cell_type": "code",
   "execution_count": null,
   "id": "1a05e74f-f2a3-4d40-a10f-be6319510321",
   "metadata": {
    "nbgrader": {
     "grade": false,
     "grade_id": "cell-348ed31937e2b936",
     "locked": false,
     "schema_version": 3,
     "solution": true,
     "task": false
    }
   },
   "outputs": [],
   "source": [
    "# Define ve, va y Ea_1:\n",
    "# ve = ... # valor exacto R'(1) \n",
    "# va = ... # valor aproximado m(1) con h = 1.0\n",
    "# Ea_1 = ... # Error absoluto\n",
    "### BEGIN SOLUTION\n",
    "ve = -0.36576999\n",
    "va = -0.22082496\n",
    "Ea_1 = round(abs(round(ve,4) - round(va,4)), 4)\n",
    "### END SOLUTION\n",
    "print(Ea_1)"
   ]
  },
  {
   "cell_type": "code",
   "execution_count": null,
   "id": "bade6231-ac12-45ca-8636-0c94d021b9fa",
   "metadata": {
    "nbgrader": {
     "grade": true,
     "grade_id": "cell-474fd3ea0d7016df",
     "locked": true,
     "points": 1,
     "schema_version": 3,
     "solution": false,
     "task": false
    }
   },
   "outputs": [],
   "source": [
    "quizz.verifica('1', '1', Ea_1)"
   ]
  },
  {
   "cell_type": "markdown",
   "id": "64131c26-441a-4397-b98f-96282a29b753",
   "metadata": {
    "nbgrader": {
     "grade": false,
     "grade_id": "cell-aaf324b924db9694",
     "locked": true,
     "schema_version": 3,
     "solution": false,
     "task": false
    }
   },
   "source": [
    "2. <font color=\"DarkBlue\">Cuál es la diferencia entre $R'(1)$ y $m(1)$ redondeada a 4 decimales\n",
    "para $S = 0.9$, $t = 1.0$ y $h = 0.1$</font>"
   ]
  },
  {
   "cell_type": "code",
   "execution_count": null,
   "id": "256115c4-9457-4d77-b06f-8dff36501fc9",
   "metadata": {
    "nbgrader": {
     "grade": false,
     "grade_id": "cell-596b1292de477d47",
     "locked": false,
     "schema_version": 3,
     "solution": true,
     "task": false
    }
   },
   "outputs": [],
   "source": [
    "# Define ve, va y Ea_2:\n",
    "# ve = ... # valor exacto R'(1) \n",
    "# va = ... # valor aproximado m(1) con h = 0.1\n",
    "# Ea_2 = ... # Error absoluto\n",
    "### BEGIN SOLUTION\n",
    "ve = -0.36576999\n",
    "va = -0.34618159\n",
    "Ea_2 = round(abs(round(ve,4) - round(va,4)), 4)\n",
    "### END SOLUTION\n",
    "print(Ea_2)"
   ]
  },
  {
   "cell_type": "code",
   "execution_count": null,
   "id": "39e75171-a743-4324-a428-ba95e1bd3210",
   "metadata": {
    "nbgrader": {
     "grade": true,
     "grade_id": "cell-dbd20509041dd215",
     "locked": true,
     "points": 1,
     "schema_version": 3,
     "solution": false,
     "task": false
    }
   },
   "outputs": [],
   "source": [
    "quizz.verifica('1', '2', Ea_2)"
   ]
  },
  {
   "cell_type": "markdown",
   "id": "fecc83b8-65f6-46e1-b47f-fae6c2ac3bc1",
   "metadata": {
    "nbgrader": {
     "grade": false,
     "grade_id": "cell-74db9e0867140b3e",
     "locked": true,
     "schema_version": 3,
     "solution": false,
     "task": false
    }
   },
   "source": [
    "3. <font color=\"DarkBlue\">¿Qué sucede con la diferencia entre $R^\\prime(t)$ y $m(t)$, cuando $h$ se hace más pequeño ($h\\to 0$), sin importar el valor de $t$ ni de $S$?</font>  \n",
    "    1. Se hace más grande.\n",
    "    2. Se mantiene constante.\n",
    "    3. Se hace más pequeña.\n",
    "    4. No es posible determinarlo."
   ]
  },
  {
   "cell_type": "code",
   "execution_count": 4,
   "id": "1064de43",
   "metadata": {
    "nbgrader": {
     "grade": false,
     "grade_id": "cell-9de9a4432a4ba989",
     "locked": true,
     "schema_version": 3,
     "solution": false,
     "task": false
    }
   },
   "outputs": [
    {
     "name": "stdout",
     "output_type": "stream",
     "text": [
      "3. = C\n"
     ]
    }
   ],
   "source": [
    "res = 'C'"
   ]
  },
  {
   "cell_type": "code",
   "execution_count": 5,
   "id": "9ce00d84",
   "metadata": {
    "nbgrader": {
     "grade": true,
     "grade_id": "cell-02ce09759a12d363",
     "locked": true,
     "points": 1,
     "schema_version": 3,
     "solution": false,
     "task": false
    }
   },
   "outputs": [
    {
     "name": "stdout",
     "output_type": "stream",
     "text": [
      "\u001b[32m¡Tu respuesta es correcta!\n"
     ]
    }
   ],
   "source": [
    "quizz.responde('1', '3', res)"
   ]
  },
  {
   "cell_type": "code",
   "execution_count": null,
   "id": "69c15814-f84c-4ff5-9e78-9141a2b73b28",
   "metadata": {
    "nbgrader": {
     "grade": true,
     "grade_id": "cell-fe303e910ad150a5",
     "locked": false,
     "points": 1,
     "schema_version": 3,
     "solution": true,
     "task": false
    }
   },
   "outputs": [],
   "source": [
    "quizz.responde('1', '3')"
   ]
  },
  {
   "cell_type": "markdown",
   "id": "c874a673-9be3-4cd1-892c-f97e6cc4c781",
   "metadata": {
    "nbgrader": {
     "grade": false,
     "grade_id": "cell-fcab13ffe0bf2d8b",
     "locked": true,
     "schema_version": 3,
     "solution": false,
     "task": false
    }
   },
   "source": [
    "4. <font color=\"DarkBlue\">Escribe una función para calcular la fórmula (4) que reciba el valor exacto ($v_e$), el valor aproximado ($v_a$) y el número de decimales de la aproximación ($p$) y que regrese el error absoluto entre $v_e$ y $v_a$. Posteriomente pruebe la función con el valor de $R^\\prime(t)$ (valor exacto) y el valor de $m(t)$ (valor aproximado) con los siguientes parámetros</font>:\n",
    "\n",
    "    1. $S = 0.3, t = 0, h = 1$\n",
    "    2. $S = 0.3, t = 0, h = 0.1$\n",
    "    3. $S = 0.3, t = 6, h = 1.0$\n",
    "    4. $S = 0.3, t = 6, h = 0.1$\n",
    "    \n",
    "Para los incisos A. y B. use $p = 6$ y para los incisos C. y D. $p = 10$."
   ]
  },
  {
   "cell_type": "code",
   "execution_count": null,
   "id": "d1e71f77-ba99-4b44-a96e-991a5adf0a1a",
   "metadata": {
    "nbgrader": {
     "grade": false,
     "grade_id": "cell-3e0b1780fbf7fd3d",
     "locked": false,
     "schema_version": 3,
     "solution": true,
     "task": false
    }
   },
   "outputs": [],
   "source": [
    "# Completa la función de error con la fórmula (4)\n",
    "def error_absoluto(ve, va, p):\n",
    "### BEGIN SOLUTION\n",
    "    return round(abs(round(ve,p) - round(va,p)), p)\n",
    "### END SOLUTION"
   ]
  },
  {
   "cell_type": "code",
   "execution_count": null,
   "id": "6c82af09-4f77-4a75-9dc0-2f6cbb97e1f5",
   "metadata": {
    "nbgrader": {
     "grade": false,
     "grade_id": "cell-013ec301d9e3fc91",
     "locked": false,
     "schema_version": 3,
     "solution": true,
     "task": false
    }
   },
   "outputs": [],
   "source": [
    "# Define ve, va y p con los valores del inciso A.\n",
    "# ve = ... # valor exacto R'(t) \n",
    "# va = ... # valor aproximado m(t)\n",
    "# p = ...  # precisión\n",
    "### BEGIN SOLUTION\n",
    "ve = -3.3333333333\n",
    "va = -0.9643260067\n",
    "p = 6\n",
    "### END SOLUTION\n",
    "EA = error_absoluto(ve, va, p) # S = 0.3, t = 0, h = 1\n",
    "print(EA)"
   ]
  },
  {
   "cell_type": "code",
   "execution_count": null,
   "id": "a0ab8954-a5e7-4c35-93ec-aa05f03158f8",
   "metadata": {
    "nbgrader": {
     "grade": true,
     "grade_id": "cell-8e4be17fd0a90dae",
     "locked": true,
     "points": 2,
     "schema_version": 3,
     "solution": false,
     "task": false
    }
   },
   "outputs": [],
   "source": [
    "quizz.verifica('1', '4A', EA)"
   ]
  },
  {
   "cell_type": "code",
   "execution_count": null,
   "id": "c2969cb8-416e-48ae-95d8-40d59902616a",
   "metadata": {
    "nbgrader": {
     "grade": false,
     "grade_id": "cell-01ef3280c6230f43",
     "locked": false,
     "schema_version": 3,
     "solution": true,
     "task": false
    }
   },
   "outputs": [],
   "source": [
    "# Define ve, va y p con los valores del inciso B.\n",
    "# ve = ... # valor exacto R'(t) \n",
    "# va = ... # valor aproximado m(t)\n",
    "# p = ...  # precisión\n",
    "### BEGIN SOLUTION\n",
    "ve = -3.3333333333\n",
    "va = -2.8346868943\n",
    "p = 6\n",
    "### END SOLUTION\n",
    "EB = error_absoluto(ve, va, p) # S = 0.3, t = 0, h = 0.1\n",
    "print(EB)"
   ]
  },
  {
   "cell_type": "code",
   "execution_count": null,
   "id": "d97b347e-a4ac-4557-b86b-07d863b4fa37",
   "metadata": {
    "nbgrader": {
     "grade": true,
     "grade_id": "cell-81e4f14f10409322",
     "locked": true,
     "points": 1,
     "schema_version": 3,
     "solution": false,
     "task": false
    }
   },
   "outputs": [],
   "source": [
    "quizz.verifica('1', '4B', EB)"
   ]
  },
  {
   "cell_type": "code",
   "execution_count": null,
   "id": "d9bed917-3923-4246-a104-10fed098c526",
   "metadata": {
    "nbgrader": {
     "grade": false,
     "grade_id": "cell-2997c5940135b719",
     "locked": false,
     "schema_version": 3,
     "solution": true,
     "task": false
    }
   },
   "outputs": [],
   "source": [
    "# Define ve, va y p con los valores del inciso C.\n",
    "# ve = ... # valor exacto R'(t) \n",
    "# va = ... # valor aproximado m(t)\n",
    "# p = ...  # precisión\n",
    "### BEGIN SOLUTION\n",
    "ve = -0.0000000069\n",
    "va = -0.0000000020\n",
    "p = 10\n",
    "### END SOLUTION\n",
    "EC = error_absoluto(ve, va, p) # S = 0.3, t = 6, h = 1.0\n",
    "print(EC)"
   ]
  },
  {
   "cell_type": "code",
   "execution_count": null,
   "id": "afc6ef12-6614-4322-bb32-a74960ed5d7d",
   "metadata": {
    "nbgrader": {
     "grade": true,
     "grade_id": "cell-294eaed5708ad8fe",
     "locked": true,
     "points": 1,
     "schema_version": 3,
     "solution": false,
     "task": false
    }
   },
   "outputs": [],
   "source": [
    "quizz.verifica('1', '4C', EC)"
   ]
  },
  {
   "cell_type": "code",
   "execution_count": null,
   "id": "fb301b2d-2dec-46bb-97dc-35582b915daa",
   "metadata": {
    "nbgrader": {
     "grade": false,
     "grade_id": "cell-43f35565c71ec472",
     "locked": false,
     "schema_version": 3,
     "solution": true,
     "task": false
    }
   },
   "outputs": [],
   "source": [
    "# Define ve, va y p con los valores del inciso D.\n",
    "# ve = ... # valor exacto R'(t) \n",
    "# va = ... # valor aproximado m(t)\n",
    "# p = ...  # precisión\n",
    "### BEGIN SOLUTION\n",
    "ve = -0.0000000069\n",
    "va = -0.0000000058\n",
    "p = 10\n",
    "### END SOLUTION\n",
    "ED = error_absoluto(ve, va, p) # S = 0.3, t = 6, h = 0.1\n",
    "print(ED)"
   ]
  },
  {
   "cell_type": "code",
   "execution_count": null,
   "id": "a6c150bd-6dac-4010-8a8e-ee2590129765",
   "metadata": {
    "nbgrader": {
     "grade": true,
     "grade_id": "cell-9672129772c55bc8",
     "locked": true,
     "points": 1,
     "schema_version": 3,
     "solution": false,
     "task": false
    }
   },
   "outputs": [],
   "source": [
    "quizz.verifica('1', '4D', ED)"
   ]
  },
  {
   "cell_type": "markdown",
   "id": "56612446",
   "metadata": {
    "nbgrader": {
     "grade": false,
     "grade_id": "cell-ca421ca762ee8ddb",
     "locked": true,
     "schema_version": 3,
     "solution": false,
     "task": false
    }
   },
   "source": [
    "<a name='3'></a>\n",
    "## Definición de derivada\n",
    "\n",
    "La fórmula $(3)$ no es otra cosa que la definición formal de la derivada de una función. En casi todos los libros de cálculo encontrarás la siguiente notación para la derivada de la función $f(x)$:\n",
    "\n",
    "$$ \n",
    "\\frac{d f}{dx} = f^\\prime(x)=\\lim_{h \\to 0} \\frac{f(x + h) - f(x)}{h} \\tag{5}\n",
    "$$\n",
    "\n",
    "La derivada existe siempre y cuando exista este límite. ¿Puedes imaginar cuando este límite no existe? \n",
    "\n",
    "Observe que en la definición anterior se está calculando la pendiente de la función $f(x)$ en $x$. ¿Cuándo es que esta pendiente no se puede calcular?"
   ]
  },
  {
   "cell_type": "markdown",
   "id": "c57cfe54-2079-4a43-bdeb-62d1b1eb1d3e",
   "metadata": {
    "nbgrader": {
     "grade": false,
     "grade_id": "cell-c23f75885700922b",
     "locked": true,
     "schema_version": 3,
     "solution": false,
     "task": false
    }
   },
   "source": [
    "---\n",
    "<a name='ej-2'></a>\n",
    "### **<font color=\"DodgerBlue\">Ejercicio 2. Aproximación de la derivada hacia adelante y hacia atrás.</font>**\n",
    "\n",
    "<font color=\"DarkBlue\">Ejecuta la siguiente celda de código. Obtendrás un interactivo en donde podrás modificar $h$ y $x$.<br>\n",
    "Explora los valores de $f^\\prime$, $m$ y del Error Absoluto cuando modificas $x$ y $h$. Observa lo que sucede cuando activas el botón `Hacia atrás`. ¿El error absoluto es menor o mayor con el botón `Hacia atrás` activado? ¿De que depende?</font>\n",
    "\n",
    "---"
   ]
  },
  {
   "cell_type": "code",
   "execution_count": null,
   "id": "4bcdd802",
   "metadata": {
    "nbgrader": {
     "grade": false,
     "grade_id": "cell-d7006e864839c594",
     "locked": true,
     "schema_version": 3,
     "solution": false,
     "task": false
    }
   },
   "outputs": [],
   "source": [
    "%run \"../utils/src/zinteractivo2.ipynb\""
   ]
  },
  {
   "cell_type": "markdown",
   "id": "cd943230-dac6-489d-b894-0b05b13723a0",
   "metadata": {
    "nbgrader": {
     "grade": false,
     "grade_id": "cell-b0587cc5cfa5a9ec",
     "locked": true,
     "schema_version": 3,
     "solution": false,
     "task": false
    }
   },
   "source": [
    "\n",
    "Observamos en el interactivo anterior que también es posible calcular la derivada \"hacia atrás\" lo cual significa usar un punto a la izquierda del lugar donde se desea obtener la derivada (punto rojo). Esto se puede escribir analíticamente de la siguiente manera:\n",
    "\n",
    "$$ \n",
    "\\frac{d f}{dx} = f^\\prime(x)=\\lim_{h \\to 0} \\frac{f(x) - f(x-h)}{h} \\tag{6}\n",
    "$$\n",
    "\n",
    "Entonces, las ecuaciones $(5)$ y $(6)$ indican dos maneras de calcular la derivada en un punto, pero que deben coincidir cuando $h \\to 0$.\n",
    "\n",
    "Se puede pensar en el límite por la derecha, ecuación $(5)$ y el límite por la izquierda, ecuación $(6)$. Ambos deben existir y deben ser iguales para que la derivada en un punto dado exista."
   ]
  },
  {
   "cell_type": "markdown",
   "id": "43a02193-2c34-4f36-8c10-b8ee0f224fa7",
   "metadata": {
    "nbgrader": {
     "grade": false,
     "grade_id": "cell-502130ef0eaf06fd",
     "locked": true,
     "schema_version": 3,
     "solution": false,
     "task": false
    }
   },
   "source": [
    "<a name='2-1'></a>\n",
    "## ¿Cómo calcular la derivada analíticamente?\n",
    "\n",
    "Consideremos la función $f(x) = x^3$ y apliquemos la definición de derivada:\n",
    "\n",
    "$$\n",
    "\\frac{d f}{dx} = \\lim_{h \\to 0} \\frac{f(x + h) - f(x)}{h} = \\lim_{h \\to 0} \\frac{(x + h)^3 - x^3}{h}\n",
    "$$\n",
    "\n",
    "Si expandimos los términos del numerador obtenemos:\n",
    "\n",
    "$$\n",
    "\\frac{d f}{dx} = \\lim_{h \\to 0} \\, (3x^2 + 3 x h + h ^2) \\tag{7}\n",
    "$$\n",
    "\n",
    "Al calcular el límite de la derecha obtenemos:\n",
    "\n",
    "$$\n",
    "\\frac{d f}{dx} = 3x^2\n",
    "$$\n",
    "\n",
    "Hemos calculado la derivada analítica de $f(x) = x^3$. \n",
    "\n",
    "\n",
    "**¿Podrías calcular la derivada analíticamente usando la definición de la ecuación $(6)$?**"
   ]
  },
  {
   "cell_type": "markdown",
   "id": "f4bf7231-c450-413a-aa1f-4baabf028dac",
   "metadata": {
    "nbgrader": {
     "grade": false,
     "grade_id": "cell-a948d8c5bc7ae0ac",
     "locked": true,
     "schema_version": 3,
     "solution": false,
     "task": false
    }
   },
   "source": [
    "---\n",
    "<a name='ej-3'></a>\n",
    "### **<font color=\"DodgerBlue\">Ejercicio 3. Derivada analítica hacia atrás.</font>**\n",
    "\n",
    "<font color=\"DarkBlue\">Para $f(x) = x^3$ y usando la definición de la ecuación $(6)$, escribe el numerador que resulta usnado notación $\\LaTeX$:</font>\n",
    "\n",
    "---"
   ]
  },
  {
   "cell_type": "code",
   "execution_count": 7,
   "id": "0e26e4bb-e854-4129-ba33-2bb614dcaa87",
   "metadata": {
    "nbgrader": {
     "grade": true,
     "grade_id": "cell-8de9cd376a7758fa",
     "locked": false,
     "points": 2,
     "schema_version": 3,
     "solution": true,
     "task": false
    }
   },
   "outputs": [
    {
     "name": "stdout",
     "output_type": "stream",
     "text": [
      "\u001b[39m--------------------------------------------------------------------------------\n",
      "\u001b[31mCuidado: ocurrió un error en tus cálculos y/o en tu respuesta.\n",
      "\u001b[39m--------------------------------------------------------------------------------\n"
     ]
    }
   ],
   "source": [
    "quizz.responde('1', '5', 'x')"
   ]
  },
  {
   "cell_type": "code",
   "execution_count": null,
   "id": "016c11ec-ce1f-4d28-8e8e-50a4ded920c9",
   "metadata": {},
   "outputs": [],
   "source": []
  }
 ],
 "metadata": {
  "celltoolbar": "Create Assignment",
  "kernelspec": {
   "display_name": "Python 3 (ipykernel)",
   "language": "python",
   "name": "python3"
  },
  "language_info": {
   "codemirror_mode": {
    "name": "ipython",
    "version": 3
   },
   "file_extension": ".py",
   "mimetype": "text/x-python",
   "name": "python",
   "nbconvert_exporter": "python",
   "pygments_lexer": "ipython3",
   "version": "3.9.7"
  }
 },
 "nbformat": 4,
 "nbformat_minor": 5
}
