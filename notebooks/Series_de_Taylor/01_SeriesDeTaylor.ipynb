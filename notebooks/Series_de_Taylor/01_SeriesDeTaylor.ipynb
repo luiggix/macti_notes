{
 "cells": [
  {
   "cell_type": "markdown",
   "metadata": {},
   "source": [
    "# Aproximación de funciones con Series de Taylor \n",
    "\n",
    "**Objetivo general**\n",
    "- Entender cómo un polinomio de Taylor puede aproximar una función.\n",
    "\n",
    "**Objetivos particulares**\n",
    "- Desarrollar diferentes grados del polinomio de Taylor para la función coseno.\n",
    "- Comparar las diferentes aproximaciones usando el error absoluto en un punto.\n",
    "- Describir el Teorema de Taylor.\n",
    "\n",
    "## Contenido\n",
    "- [1 - Introducción.](#1)\n",
    "- [2 - Un ejemplo de aproximación con Series de Taylor](#2)    \n",
    "    - [2.1 - Aproximación 0.](#2-1)\n",
    "    - [2.2 - Aproximación 1.](#2-2)\n",
    "    - [2.3 - Aproximación 2.](#2-3)\n",
    "    - [2.4 - Aproximación 3.](#2-4)\n",
    "    - [2.5 - Aproximación 4.](#2-5)\n",
    "    - [2.6 - Resumen.](#2-6)\n",
    "- [3 - Herramienta Interactiva.](#3)\n",
    "- [4 - Teorema de Taylor.](#4)\n",
    "    - [4.1 - Forma del residuo $R_n(x)$.](#2-6)"
   ]
  },
  {
   "cell_type": "code",
   "execution_count": null,
   "metadata": {},
   "outputs": [],
   "source": [
    "import numpy as np\n",
    "import matplotlib.pyplot as plt\n",
    "import macti.visual as mvis"
   ]
  },
  {
   "cell_type": "markdown",
   "metadata": {
    "id": "y--_YzpGWFeK"
   },
   "source": [
    "<a name='1'></a>\n",
    "## Introducción\n",
    "\n",
    "Algunas veces es necesario aproximar funciones complicadas usando una combinación de otras funciones más simples. Estas funciones más simples deberían permitir un tratamiento sencillo, por ejemplo encontrar sus derivadas o sus integrales. La pregunta es **¿qué tan bien se pueden aproximar las funciones complicadas con una combinación de funciones simples?** <br> <br>\n",
    "\n",
    "<a name='2'></a>\n",
    "## Un ejemplo de aproximación con Series de Taylor\n",
    "\n",
    "Consideremos la función trigonométrica $\\cos(x)$ en el intervalo $[-2\\pi, 2\\pi]$ cuya gráfica es la siguiente:"
   ]
  },
  {
   "cell_type": "code",
   "execution_count": null,
   "metadata": {},
   "outputs": [],
   "source": [
    "x = np.linspace(-2*np.pi,2*np.pi,100) # Dominio de la función\n",
    "y = np.cos(x)                         # Función coseno\n",
    "\n",
    "plt.plot(x, y, label = 'cos($x$)') # Gráfica de la función coseno\n",
    "\n",
    "# Configuración de la gráfica\n",
    "plt.xlabel(\"$x$\")\n",
    "plt.ylabel(\"$y$\")\n",
    "plt.ylim(-1.6,1.2)\n",
    "mvis.set_ticks(plt.gca(), trig=True) # Se muestran las marcas en el eje x en múltiplos de pi\n",
    "plt.legend(loc='lower center', frameon=True, facecolor='w')\n",
    "plt.show()"
   ]
  },
  {
   "cell_type": "markdown",
   "metadata": {
    "id": "UKFen-M9WFfH"
   },
   "source": [
    "¿Será posible aproximar la función $\\cos(x)$ mediante un polinomio del tipo: $P(x) = c_0 + c_1 x + c_2 x^2 + c_3 x^3 + c_4 x^4 + \\dots$? <br>\n",
    "\n",
    "Para fijar ideas, intentemos aproximar el $\\cos(x)$ en $x=0$. Sabemos que $\\cos(0) = 1$. <br>\n",
    "\n",
    "### Aproximación 0\n",
    "\n",
    "Esta primera aproximación utiliza solo el término constante del polinomio, esto es: $P_0(x) = c_0$. Dado que se debe cumplir que $P_0(0) = \\cos(0) = 1$ entonces $c_0 = 1$, es decir: $P_0(x) = 1$ <br>\n",
    "\n",
    "¿Cómo se ve esta aproximación?"
   ]
  },
  {
   "cell_type": "code",
   "execution_count": null,
   "metadata": {
    "colab": {
     "base_uri": "https://localhost:8080/",
     "height": 372
    },
    "id": "0hB7UkCzWFfQ",
    "outputId": "b111bbdd-4e55-4c73-a7c9-2343693fd808"
   },
   "outputs": [],
   "source": [
    "P0 = lambda x : np.ones(len(x)) # Función que genera una lista de 1's.\n",
    "\n",
    "# Lugar donde se desea aproximar\n",
    "x0 = 0\n",
    "y0 = np.cos(x0)\n",
    "\n",
    "# Graficamos el coseno y la aproximación P0\n",
    "plt.plot(x, y, label = 'cos($x$)')\n",
    "plt.plot(x, P0(x), label='$P_0(x) = 1$')\n",
    "# Dibujamos el punto donde se hace la aproximación x0\n",
    "plt.scatter(x0, y0, marker='o', zorder=10)\n",
    "\n",
    "# Configuración de la gráfica\n",
    "plt.xlabel(\"$x$\")\n",
    "plt.ylabel(\"$y$\")\n",
    "plt.ylim(-1.6,1.2)\n",
    "mvis.set_ticks(plt.gca(), trig=True) # Se muestran las marcas en el eje x en múltiplos de pi\n",
    "plt.legend(loc='lower center', frameon=True, facecolor='w')\n",
    "plt.show()"
   ]
  },
  {
   "cell_type": "markdown",
   "metadata": {
    "id": "JOmYBtAbWFf1"
   },
   "source": [
    "Observamos que solo hay algunos puntos donde la función y el polinomio son iguales, particularmente en $x=0$ (punto negro). No parece ser una buena aproximación. <br> <br>\n",
    "¿Cómo se podría tener una mejor aproximación?"
   ]
  },
  {
   "cell_type": "markdown",
   "metadata": {
    "id": "t79J3aX4WFf9"
   },
   "source": [
    "### Aproximación 1\n",
    "\n",
    "La respuesta a la pregunta anterior es **usando más términos en el polinomio**. Usemos ahora el polinomio lineal: $P_1(x) = c_0 + c_1 x$ . <br>\n",
    "\n",
    "Deseamos que $P_1(0) = \\cos(0)$, entonces si evaluamos $P_1$ en $x=0$ obtenemos: $P_1(0) = c_0 + c_1 * 0 =  c_0$. \n",
    "\n",
    "Pero $P_1(0) = \\cos(0) = 1$ entonces $c_0 = 1$, que es el mismo valor que habíamos obtenido en la aproximación anterior.\n",
    "\n",
    "Sería muy bueno que tanto $P_1(x)$ como $\\cos(x)$ también tuvieran la misma derivada en $x=0$, es decir $P_1^\\prime(0) = \\cos^\\prime(0)$. \n",
    "- Calculemos la derivada y veamos que se puede obtener de esta condición:\n",
    "\n",
    "$\n",
    "\\begin{array}{lclcc}\n",
    "P_1(x) = c_0 + c_1 x& \\approx & \\cos(x) \\\\\n",
    "P_1^\\prime(x) = c_1 & \\approx & -\\sin(x)\n",
    "\\end{array}\n",
    "$\n",
    "- Ahora evaluamos en $x=0$:\n",
    "\n",
    "$\n",
    "\\begin{array}{lclcc}\n",
    "P_1(0) = c_0 + c_1 * 0 & = & \\cos(0) = 1 & \\Longrightarrow & c_0 = 1\\\\\n",
    "P_1^\\prime(0) = c_1 & = & -\\sin(0) = 0 & \\Longrightarrow & c_1 = 0 \n",
    "\\end{array}\n",
    "$\n",
    "\n",
    "Observamos de lo anterior que al evaluar $P_1(x)$ y $P_1^\\prime(x)$ en $x=0$ obtenemos $c_0 = 1$ y $c_1 = 0$ respectivamente, por lo que el polinomio que se obtiene es el mismo que antes: $P_1(x) = 1$. Nuestra aproximación no mejoró ¿Por qué?"
   ]
  },
  {
   "cell_type": "markdown",
   "metadata": {
    "id": "qOZhTbbRWFgL"
   },
   "source": [
    "### Aproximación 2\n",
    "\n",
    "Dado que la aproximación 1 no mejoró con respecto a la aproximación 0, vamos ahora a incluir en el polinomio un término de segundo grado: $P_2(x) = c_0 + c_1 x + c_2 x^2$\n",
    "\n",
    "- Siguiendo la misma estrategia que antes podemos calcular la primera y segunda derivadas:\n",
    "\n",
    "$\n",
    "\\begin{array}{lclcc}\n",
    "P_2(x) = c_0 + c_1 x + c_2 x^2 & \\approx & \\cos(x) \\\\\n",
    "P_2^\\prime(x) = c_1 + 2 c_2 x  & \\approx & -\\sin(x) \\\\\n",
    "P_2^{\\prime\\prime}(x) = 2 c_2  & \\approx & -\\cos(x)\n",
    "\\end{array}\n",
    "$\n",
    "\n",
    "- Evaluamos en $x=0$:\n",
    "\n",
    "$\n",
    "\\begin{array}{lclcc}\n",
    "P_2(0) = c_0 + c_1 * 0 + c_2 * 0^2 & = & \\cos(0) = 1 & \\Longrightarrow & c_0 = 1\\\\\n",
    "P_2^\\prime(0) = c_1 + 2 c_2 * 0 & = & -\\sin(0) = 0 & \\Longrightarrow & c_1 = 0 \\\\\n",
    "P_2^{\\prime\\prime}(0) = 2 c_2  & = & -\\cos(0) = -1 & \\Longrightarrow & c_2 = -1/2 \n",
    "\\end{array}\n",
    "$\n",
    "\n",
    "En este caso las condiciones que se pidieron fueron:\n",
    "- $P_2(0) = \\cos(0)$, \n",
    "- $P_2^\\prime(0) = \\cos^\\prime(0) = -\\sin(x)$\n",
    "- $P_2^{\\prime\\prime}(0) = \\cos^{\\prime\\prime}(0)= -\\cos(x)$, \n",
    "\n",
    "de tal manera que el polinomio de esta aproximación es: $P_2(x) = 1 - \\frac{1}{2} x^2$\n",
    "\n",
    "¿Es mejor esta aproximación? Veamos:"
   ]
  },
  {
   "cell_type": "code",
   "execution_count": null,
   "metadata": {
    "colab": {
     "base_uri": "https://localhost:8080/",
     "height": 372
    },
    "id": "q3jk6L6lWFgS",
    "outputId": "734b45f5-46c2-4c2e-c9a7-3fdc2878970d"
   },
   "outputs": [],
   "source": [
    "# Construcción del polinomio de aproximación\n",
    "c0 = 1\n",
    "c1 = 0\n",
    "c2 = -1/2\n",
    "P2 = lambda x : c0 + c1 * x + c2 * x**2 # Evaluación del polinomio\n",
    "\n",
    "# Graficamos el coseno y la aproximación P2\n",
    "plt.plot(x, y, label = 'cos($x$)')\n",
    "plt.plot(x, P2(x), label='$P_2(x) = 1 - x^2/2$', lw = 2)\n",
    "# Dibujamos el punto donde se hace la aproximación x0\n",
    "plt.scatter(x0, y0, marker='o', color='black', zorder=10)\n",
    "\n",
    "# Configuración de la gráfica\n",
    "plt.xlabel(\"$x$\")\n",
    "plt.ylabel(\"$y$\")\n",
    "plt.ylim(-1.6,1.2)\n",
    "mvis.set_ticks(plt.gca(), trig=True) # Se muestran las marcas en el eje x en múltiplos de pi\n",
    "plt.legend(loc='lower center', frameon=True, facecolor='w')\n",
    "plt.show()"
   ]
  },
  {
   "cell_type": "markdown",
   "metadata": {
    "id": "fv1GaaELWFg5"
   },
   "source": [
    "Observamos que esta aproximación es muy buena en una vecindad de $x=0$. \n",
    "Una manera de evaluar la diferencia entre $P_2(x)$ y $\\cos(x)$ en un intervalo alrededor de $x=0$ es calculando la norma del error absoluto entre la aproximación y la función, es decir:\n",
    "\n",
    "$\\displaystyle Error = ||\\hat{u} - u||$\n",
    "\n",
    "donde $\\hat{u}$ es la aproximación y $u$ es el valor exacto. Existen varias maneras de calcular la norma de un vector, para ello recomendamos que revises el siguiente cuaderno \"\". Calcularemos la norma Euclideana que se define como:\n",
    "\n",
    "$\\displaystyle Error = ||\\hat{u}_i - u_i||_2 = \\left[\\sum_{i=1}^{N} (u_a(i) - u(i))^2 \\right]^{1/2}$\n",
    "\n",
    "donde $N$ es el número de puntos donde se realiza la comparación. Calculemos este error para la aproximación $P_2(x)$ en el intervalo $[-\\pi/2, \\pi/2]$ con $100$ puntos:"
   ]
  },
  {
   "cell_type": "code",
   "execution_count": null,
   "metadata": {
    "colab": {
     "base_uri": "https://localhost:8080/"
    },
    "id": "hgjLLSP1WFhA",
    "outputId": "8b4f1306-4e21-42f3-ce46-d71280f8b567"
   },
   "outputs": [],
   "source": [
    "# Definimos el intervalo xa = [-pi/2, pi/2] \n",
    "xa = np.linspace(-np.pi*0.5, np.pi*0.5, 100) # usamos N = 100 muestras para la comparación\n",
    "\n",
    "# Calculamos la norma Euclideana del error para p2\n",
    "Error_p2 = np.linalg.norm(P2(xa) - np.cos(xa), 2)\n",
    "print('||P2(x) - cos(x)|| = {:10.8}'.format(Error_p2))"
   ]
  },
  {
   "cell_type": "markdown",
   "metadata": {
    "id": "8Vc4pUucWFhs"
   },
   "source": [
    "### Aproximación 3\n",
    "\n",
    "Veamos si podemos mejorar la aproximación con un polinomio de grado 3: $P_3(x) = c_0 + c_1 x + c_2 x^2 + c_3 x^3$. <br>\n",
    "En este caso, para encontrar los coeficientes imponemos las siguientes condiciones:\n",
    "\n",
    "$\n",
    "\\begin{array}{lclcc}\n",
    "P_3(x) = c_0 + c_1 x + c_2 x^2 + c_3 x^3 & \\approx & \\cos(x) \\\\\n",
    "P_3^\\prime(x) = c_1 + 2 c_2 x + 3 c_3 x^2 & \\approx & -\\sin(x) \\\\\n",
    "P_3^{\\prime\\prime}(x) = 2 c_2 + 6 c_3 x & \\approx & -\\cos(x) \\\\\n",
    "P_3^{\\prime\\prime\\prime}(x) = 6 c_3  & \\approx & \\sin(x) \\\\\n",
    "    \\hline\n",
    "P_3(0) = c_0 + c_1 * 0 + c_2 * 0^2 + c_3 * 0^3 & = & \\cos(0) = 1 & \\Longrightarrow & c_0 = 1\\\\\n",
    "P_3^\\prime(0) = c_1 + 2 c_2 * 0 + 3 c_3 * 0^2 & = & -\\sin(0) = 0 & \\Longrightarrow & c_1 = 0 \\\\\n",
    "P_3^{\\prime\\prime}(0) = 2 c_2 + 6 c_3 * 0 & = & -\\cos(0) = -1 & \\Longrightarrow & c_2 = -1/2 \\\\   \n",
    "P_3^{\\prime\\prime\\prime}(0) = 6 c_3  & = & \\sin(0) = 0 & \\Longrightarrow & c_3 = 0 \\\\   \n",
    "\\end{array}\n",
    "$\n",
    "\n",
    "es decir, ahora las condiciones son para la función y sus derivadas hasta la de tercer orden. Sustituyendo los coeficientes $c$'s antes calculados en el polinomio vemos que no hay cambios con respecto a la aproximación anterior: $P_3(x) = 1 - \\frac{1}{2} x^2$ ¿Por qué?\n",
    "\n",
    "Hagamos una aproximación con más términos."
   ]
  },
  {
   "cell_type": "markdown",
   "metadata": {
    "id": "rhdUUl-qWFhy"
   },
   "source": [
    "### Aproximación 4\n",
    "\n",
    "En esta aproximación usaremos un polinomio de grado 4: $P_4(x) = c_0 + c_1 x + c_2 x^2 + c_3 x^3 + c_4 x^4$\n",
    "\n",
    "Con las siguientes condiciones:\n",
    "\n",
    "$\n",
    "\\begin{array}{lclcc}\n",
    "P_4(x) = c_0 + c_1 x + c_2 x^2 + c_3 x^3 + c_4 x^4 & \\approx & \\cos(x) \\\\\n",
    "P_4^\\prime(x) = 1 * c_1 + 2 * c_2 x + 3 * c_3 x^2 + 4 * c_4 x^3 & \\approx & -\\sin(x) \\\\\n",
    "P_4^{\\prime\\prime}(x) = 1 * 2 * c_2 + 2 * 3 * c_3 x + 3 * 4 * c_4 x^2 & \\approx & -\\cos(x) \\\\\n",
    "P_4^{\\prime\\prime\\prime}(x) = 1 * 2 * 3 * c_3  + 2 * 3 * 4 * c_4 x & \\approx & \\sin(x) \\\\\n",
    "P_4^{(4)}(x) = 1 * 2 * 3 * 4 * c_4 & \\approx & \\cos(x) \\\\\n",
    "    \\hline\n",
    "P_4(0) = c_0 + c_1 * 0 + c_2 * 0^2 + c_3 * 0^3 + c_4 0^4 & = & \\cos(0) = 1 & \\Longrightarrow & c_0 = 1\\\\\n",
    "P_4^\\prime(0) = 1! * c_1 + 2 * c_2 *0 + 3 * c_3 * 0^2 + 4 * c_4 * 0^3 & = \n",
    "& -\\sin(0) = 0 & \\Longrightarrow & c_1 = \\frac{0}{1!} \\\\\n",
    "P_4^{\\prime\\prime}(0) = 2! * c_2 + 2 * 3 * c_3 * 0 + 3 * 4 * c_4 * 0^2 & = \n",
    "& -\\cos(0) = -1 & \\Longrightarrow & c_2 = \\frac{-1}{2!} \\\\   \n",
    "P_4^{\\prime\\prime\\prime}(0) = 3! * c_3  + 2 * 3 * 4 * c_4 * 0 & = \n",
    "& \\sin(0) = 0 & \\Longrightarrow & c_3 = \\frac{0}{3!} \\\\\n",
    "P_4^{(4)}(x) = 4! * c_4 & = \n",
    "& \\cos(0) = 1 & \\Longrightarrow & c_4 = \\frac{1}{4!} \\\\\n",
    "\\end{array}\n",
    "$\n",
    "\n",
    "Obsérvese que hemos puesto de manera explícita los coeficientes de multiplicación que se obtienen al momento de calcular las derivadas. \n",
    "Lo anterior es para darnos cuenta de que los coeficientes se calculan usando el factorial de un número. \n",
    "De esta manera, podemos escribir el polinomio como sigue:\n",
    "\n",
    "$P_4(x) = c_0 + c_1 x + c_2 x^2 + c_3 x^3 + c_4 x^4 = 1 + \\frac{0}{1!} x + \\frac{-1}{2!} x^2 + \\frac{0}{3!} x^3 + \\frac{1}{4!} x^4 = 1 - \\frac{1}{2!} x^2 + \\frac{1}{4!} x^4$\n",
    "\n",
    "Una cosa interesante que se puede notar es que los coeficientes de las aproximaciones anteriores se mantienen en el mismo valor, sin importar el grado del polinomio que se use.\n",
    "\n",
    "Veamos que tan buena es esta última aproximación:"
   ]
  },
  {
   "cell_type": "code",
   "execution_count": null,
   "metadata": {
    "colab": {
     "base_uri": "https://localhost:8080/",
     "height": 372
    },
    "id": "gdB9CwVaWFh4",
    "outputId": "8d2405e6-915e-4008-a803-cbde1afdeac3"
   },
   "outputs": [],
   "source": [
    "# Construcción del polinomio de aproximación\n",
    "c3 = 0\n",
    "c4 = 1/24\n",
    "P4 = lambda x : c0 + c2 * x**2 + c3 * x**3 + c4 * x**4 # Evaluación del polinomio\n",
    "\n",
    "# Graficamos el coseno y la aproximación P4\n",
    "plt.plot(x, y, label = 'cos($x$)')\n",
    "plt.plot(x, P4(x), label='$P_4(x) = 1 - x^2 / 2 + x^4 / 24$')\n",
    "\n",
    "# Dibujamos el punto donde se hace la aproximación x0\n",
    "plt.scatter(x = x0, y=y0, marker='o', color='black', zorder=10)\n",
    "\n",
    "# Configuración de la gráfica\n",
    "plt.xlabel(\"$x$\")\n",
    "plt.ylabel(\"$y$\")\n",
    "plt.ylim(-1.6,1.2)\n",
    "mvis.set_ticks(plt.gca(), trig=True) # Se muestran las marcas en el eje x en múltiplos de pi\n",
    "plt.legend(loc='lower center', frameon=True, facecolor='w')\n",
    "plt.show()"
   ]
  },
  {
   "cell_type": "markdown",
   "metadata": {
    "id": "_LrAtAYWWFia"
   },
   "source": [
    "Observamos una mejor aproximación. Esto lo podemos comprobar calculando los errores para \n",
    "$P_2$ y $P_4$:"
   ]
  },
  {
   "cell_type": "code",
   "execution_count": null,
   "metadata": {
    "colab": {
     "base_uri": "https://localhost:8080/"
    },
    "id": "fEmzwLmAWFif",
    "outputId": "d2873aaa-121c-4749-fdcc-17368a78bb33"
   },
   "outputs": [],
   "source": [
    "# Calculamos la norma Euclideana del error para p4\n",
    "Error_p4 = np.linalg.norm(P4(xa) - np.cos(xa), 2)\n",
    "\n",
    "print('||P2(x) - cos(x)|| = {:10.8}'.format(Error_p2))\n",
    "print('||P4(x) - cos(x)|| = {:10.8}'.format(Error_p4))"
   ]
  },
  {
   "cell_type": "markdown",
   "metadata": {
    "id": "WUceEYxiWFjD"
   },
   "source": [
    "Nótese lo siguiente: \n",
    "- El error disminuyó con respecto a la aproximación con $P_2(x)$. \n",
    "- Los polinomios de grado impar no aportan mejoría, dado que las derivadas impares corresponden a la función $\\sin(x)$ que al evaluarla en $x=0$ nos da un valor de cero, lo cual elimina el término impar del polinomio. \n",
    "\n",
    "Entonces, si queremos mejorar la aproximación de $P_4(x)$ deberíamos usar un polinomio de grado 6. El polinomio de grado 6 es:\n",
    "\n",
    "$P_6(x) = 1 - \\frac{1}{2!} x^2 + \\frac{1}{4!} x^4 - \\frac{1}{6!} x^6$\n",
    "\n",
    "Se deja como ejercicio al estudiante que verifique que los coeficientes de $P_6$ están correctamente calculados. \n",
    "\n",
    "La gráfica de este último polinomio es la siguiente:"
   ]
  },
  {
   "cell_type": "code",
   "execution_count": null,
   "metadata": {
    "colab": {
     "base_uri": "https://localhost:8080/",
     "height": 372
    },
    "id": "XrRcJBPiWFjJ",
    "outputId": "25ba56be-5357-42bf-d8e6-b7ecc67dae15"
   },
   "outputs": [],
   "source": [
    "# Construcción del polinomio de aproximación\n",
    "c5 = 0\n",
    "c6 = -1 / (1 * 2 * 3 * 4 * 5 * 6)\n",
    "P6 = lambda x : c0 + c2 * x**2 + c4 * x**4 + c5 * x**5 + c6 * x**6\n",
    "\n",
    "# Graficamos el coseno y la aproximación P4\n",
    "plt.plot(x, y, label = 'cos($x$)')\n",
    "plt.plot(x, P6(x), label='$P_6(x) = 1 - x^2 / 2 + x^4 / 24$ - x^6 / 720')\n",
    "# Dibujamos el punto donde se hace la aproximación x0\n",
    "plt.scatter(x0, y0, marker='o', color='black', zorder=10)\n",
    "\n",
    "# Configuración de la gráfica\n",
    "plt.xlabel(\"$x$\")\n",
    "plt.ylabel(\"$y$\")\n",
    "plt.ylim(-1.6,1.2)\n",
    "mvis.set_ticks(plt.gca(), trig=True) # Se muestran las marcas en el eje x en múltiplos de pi\n",
    "plt.legend(loc='lower center', frameon=True, facecolor='w')\n",
    "plt.show()"
   ]
  },
  {
   "cell_type": "markdown",
   "metadata": {
    "id": "zHF_p-QAWFjr"
   },
   "source": [
    "Los errores correspondientes para $P_2$, $P_4$ y $P_6$ son los siguientes:"
   ]
  },
  {
   "cell_type": "code",
   "execution_count": null,
   "metadata": {
    "id": "EfC-OSGkWFjx"
   },
   "outputs": [],
   "source": [
    "# Calculamos la norma Euclideana del error para P6\n",
    "Error_p6 = np.linalg.norm(P6(xa) - np.cos(xa), 2)\n",
    "\n",
    "print('||P2(x) - cos(x)|| = {:10.8}'.format(Error_p2))\n",
    "print('||P4(x) - cos(x)|| = {:10.8}'.format(Error_p4))\n",
    "print('||P6(x) - cos(x)|| = {:10.8}'.format(Error_p6))"
   ]
  },
  {
   "cell_type": "markdown",
   "metadata": {
    "id": "JC-1Xl1cWFkV"
   },
   "source": [
    "Vemos que la aproximación con $P_6(x)$ es la mejor.\n",
    "\n",
    "Grafiquemos todas las aproximaciones juntas:"
   ]
  },
  {
   "cell_type": "code",
   "execution_count": null,
   "metadata": {
    "id": "U5cXgpQJWFka"
   },
   "outputs": [],
   "source": [
    "# Graficamos el coseno y junto con p0, p2, p4 y p6\n",
    "plt.plot(x, y, label = 'cos($x$)')\n",
    "plt.plot(x, P0(x), label='$P_0$')\n",
    "plt.plot(x, P2(x), label='$P_2$ (Error = {:6.5f})'.format(Error_p2))\n",
    "plt.plot(x, P4(x), label='$P_4$ (Error = {:6.5f})'.format(Error_p4))\n",
    "plt.plot(x, P6(x), label='$P_6$ (Error = {:6.5f})'.format(Error_p6))\n",
    "# Dibujamos el punto donde se hace la aproximación x0\n",
    "plt.scatter(x0, y0, marker='o', color='black', zorder=10)\n",
    "\n",
    "# Configuración de la gráfica\n",
    "plt.xlabel(\"$x$\")\n",
    "plt.ylabel(\"$y$\")\n",
    "plt.ylim(-1.6,1.2)\n",
    "mvis.set_ticks(plt.gca(), trig=True) # Se muestran las marcas en el eje x en múltiplos de pi\n",
    "plt.legend(bbox_to_anchor=(0.95, 0.15, 0.5, 0.5), frameon=True, facecolor='w')\n",
    "plt.show()"
   ]
  },
  {
   "cell_type": "markdown",
   "metadata": {
    "id": "I7lPf4gHWFlE"
   },
   "source": [
    "### Resumen\n",
    "\n",
    "- Hemos visto como una función puede ser aproximada por una combinación lineal de otras funciones, en este caso por polinomios.\n",
    "- Los polinomios son más fáciles de tratar, por ejemplo para calcular sus derivadas y sus integrales.\n",
    "- Para calcular los coeficientes del polinomio de aproximación, la estrategia es que se cumplan las siguientes condiciones:\n",
    "    + la función y el polinomio deben ser iguales cuando se evalúan en el punto donde se desea hacer la aproximación.\n",
    "    + las derivadas de la función y las correspondientes derivadas del polinomio, deben ser iguales cuando se evalúan en el punto donde se desea hacer la aproximación.\n",
    "- Por ejemplo, si se desea aproximar la función $f(x)$ en $x=0$ usando $P_3(x) = c_0 + c_1 x + c_2 x^2 + c_3 x^3$ imponemos las condiciones:\n",
    "\n",
    "$\n",
    "\\begin{array}{ccc}\n",
    "P_3(0) = f(0) & \\text{ para obtener } & c_0 = f(0)\\\\\n",
    "P_3^\\prime(0) = f^\\prime(0) & \\text{ para obtener } & c_1 = f^\\prime(0) / 1!\\\\\n",
    "P_3^{\\prime\\prime}(0) = f^{\\prime\\prime}(0) & \\text{ para obtener } & c_2 = f^{\\prime\\prime}(0) / 2!\\\\\n",
    "P_3^{\\prime\\prime\\prime}(0) = f^{\\prime\\prime\\prime}(0) & \\text{ para obtener } & c_3 = f^{\\prime\\prime\\prime}(0) / 3!\\\\\n",
    "\\end{array}\n",
    "$\n",
    "\n",
    "- Por lo tanto, otra manera de escribir el polinomio es la siguiente:\n",
    "\n",
    "$P_3(x) = f(0) + \\dfrac{f^\\prime(0)}{1!} x + \\dfrac{f^{\\prime\\prime}(0)}{2!} x^2 + \\dfrac{f^{\\prime\\prime\\prime}(0)}{3!} x^3$ \n",
    "\n",
    "- Se puede comprobar fácilmente que si la aproximación se requiere hacer en un punto diferente de cero, digamos en $x = a$, el polinomio de tercer grado se escribe como:\n",
    "\n",
    "$P_3(x) = f(a) + \\dfrac{f^\\prime(a)}{1!}(x-a) + \\dfrac{f^{\\prime\\prime}(a)}{2!} (x-a)^2 + \\dfrac{f^{\\prime\\prime\\prime}(a)}{3!} (x-a)^3$ \n",
    "\n",
    "- La forma anterior se conoce como la serie (o polinomio) de Taylor de tercer grado alrededor de $a$ . \n",
    "\n",
    "- En general, una serie de Taylor de grado $n$ se escribe como:\n",
    "\n",
    "$\\displaystyle\n",
    "P_n(x) = f(a) + f^\\prime(a)(x-a) + f^{\\prime\\prime}(a)\\frac{(x-a)^2}{2!} + \\dots + f^{(n)}(a)\\frac{(x-a)^n}{n!}\n",
    " = \\sum_{i=0}^n f^{(i)}(a)\\frac{(x-a)^i}{i!}$  <br> (recordemos que $0! = 1$)\n",
    " \n",
    " - Cuando $a = 0$ la serie de Taylor también se conoce como serie de Maclaurin.\n",
    " - Es probable que encuetres diferentes notaciones para las series de Taylor, particularmente suele usarse $T_n(x)$ para hacer referencia a una de estas series.\n",
    " - **OJO**: Para que todo la anterior sea válido, se deben cumplir ciertas condiciones sobre la la función que se está aproximando, particularmente que todas las derivadas de $f(x)$ hasta la $n$-ésima existan y sean continuas."
   ]
  },
  {
   "cell_type": "markdown",
   "metadata": {
    "id": "b_2_-c0tWFlJ"
   },
   "source": [
    "## Herramienta interactiva\n",
    "\n",
    "La siguiente herramienta permite evaluar de manera interactiva diferentes series de Taylor para algunas funciones. Puedes elegir la función, el grado del polinomio de aproximación y el lugar donde se desea aproximar. **OJO**: cuidado con la función $\\log(x)$."
   ]
  },
  {
   "cell_type": "code",
   "execution_count": null,
   "metadata": {
    "colab": {
     "base_uri": "https://localhost:8080/",
     "height": 520,
     "referenced_widgets": [
      "c88616ca9a394d7a8a24d35c53b3f151",
      "24bcb78428d84a16b65177e6022b5a26",
      "857dc9df56bd492493e5b27f89448d15",
      "850fd190e4914968ab73e5f8a3dc1297",
      "d6a30915a09c47efb782919422fe5f03",
      "7cbcf7e572f64be3920e4dbe180daa86",
      "68dd0eeabc9740529b72301fec92210b",
      "e954a401e99a4b34a2c83c7cec66dfb7",
      "43aa6f9a7a064d4aab9a07f00c80f29a",
      "0a5bab3cba7b4678aefa9e9fc9ec23a0",
      "466ed626873e437e8931a415b9eb3705",
      "c6a72721a6334b5da54de503fbe553c4",
      "c4f7d335afbd4957bff6eae7a83fdf79"
     ]
    },
    "id": "gfqPzu6BWFlP",
    "outputId": "92917e70-252d-4c90-a563-2b1801197284"
   },
   "outputs": [],
   "source": [
    "%run \"./zinteractivo1.ipynb\""
   ]
  },
  {
   "cell_type": "markdown",
   "metadata": {},
   "source": [
    "Ahora que ya sabemos que usando las series de Taylor es posible aproximar funciones hasta un cierto grado, y sabemos además cómo construir estas series para cualquier función continua y diferenciable, podemos hablar de su aplicación en la vida real. Pero antes veamos un resultado teórico que es útil en la práctica."
   ]
  },
  {
   "cell_type": "markdown",
   "metadata": {
    "id": "hWsWNh8GWFls"
   },
   "source": [
    "## Teorema de Taylor\n",
    "\n",
    "Este teorema nos dice básicamente qué tan grande es la diferencia entre la función $f(x)$ y su aproximación con una serie de Taylor $T_n(x)$ en un punto específico. El teorema se escribe como sigue:\n",
    "***\n",
    "Si tenemos una función $f(x)$ que tiene al menos $(n+1)$ derivadas continuas en un intervalo que contiene a $a$ y $x$, entonces:\n",
    "\n",
    "$\\displaystyle\n",
    "f(x) = f(a) + f^\\prime(a)(x-a) + f^{\\prime\\prime}(a)\\frac{(x-a)^2}{2!} + \\dots + f^{(n)}(a)\\frac{(x-a)^n}{n!} + R_n(x)\n",
    " = T_n(x) + R_n(x)\n",
    "$\n",
    "\n",
    "donde $T_n(x)$ es el polinomio de Taylor de grado $n$ de $f(x)$ y $R_n(x)$ se conoce como el error o el residuo.\n",
    "***"
   ]
  },
  {
   "cell_type": "markdown",
   "metadata": {
    "id": "PoQgtaNPWFl1"
   },
   "source": [
    "### Forma del residuo $R_n(x)$:\n",
    "\n",
    "Existen varias formas para expresar el residuo:\n",
    "\n",
    "- Forma de Lagrange:\n",
    "$\\displaystyle\n",
    "\\boxed{R_n(x) = \\frac{f^{(n+1)}(\\xi)}{(n+1)!}(x-a)^{n+1}}\n",
    "$\n",
    "- Forma de Cauchy:\n",
    "$\\displaystyle\n",
    "\\boxed{R_n(x) = \\frac{f^{(n+1)}(\\xi)}{n!}(x-\\xi)^{n}(x-a)}\n",
    "$\n",
    "- Forma Integral:\n",
    "$\\displaystyle\n",
    "\\boxed{R_n(x) = \\int_{a}^{x} \\frac{f^{(n+1)}(t)}{n!} (x-t)^n dt}\n",
    "$\n",
    "\n",
    "donde $\\xi$ es un número real entre $x$ y $a$.\n",
    "\n",
    "Estas tres formas NO permiten calcular de manera sencilla el residuo por lo que en general se usa una cota, como se muestra a continuación:\n",
    "\n",
    "Si $|f^{(n+1)}(x)| \\leq M$ en el intervalo $(a-x, a+x)$ entonces el residuo es\n",
    "\n",
    "$\\displaystyle\n",
    "\\boxed{R_n(x) \\leq \\frac{M(x-a)^{n+1}}{(n+1)!}}\n",
    "$\n",
    "\n",
    "Usando esta desligualdad, se pueden hacer distintos tipos de aproximaciones."
   ]
  },
  {
   "cell_type": "code",
   "execution_count": null,
   "metadata": {
    "id": "4mNvF6etWFog"
   },
   "outputs": [],
   "source": []
  }
 ],
 "metadata": {
  "colab": {
   "collapsed_sections": [],
   "include_colab_link": true,
   "name": "01_SeriesDeTaylor.ipynb",
   "provenance": [],
   "toc_visible": true
  },
  "kernelspec": {
   "display_name": "Python 3 (ipykernel)",
   "language": "python",
   "name": "python3"
  },
  "language_info": {
   "codemirror_mode": {
    "name": "ipython",
    "version": 3
   },
   "file_extension": ".py",
   "mimetype": "text/x-python",
   "name": "python",
   "nbconvert_exporter": "python",
   "pygments_lexer": "ipython3",
   "version": "3.9.7"
  },
  "widgets": {
   "application/vnd.jupyter.widget-state+json": {
    "0a5bab3cba7b4678aefa9e9fc9ec23a0": {
     "model_module": "@jupyter-widgets/base",
     "model_module_version": "1.2.0",
     "model_name": "LayoutModel",
     "state": {
      "_model_module": "@jupyter-widgets/base",
      "_model_module_version": "1.2.0",
      "_model_name": "LayoutModel",
      "_view_count": null,
      "_view_module": "@jupyter-widgets/base",
      "_view_module_version": "1.2.0",
      "_view_name": "LayoutView",
      "align_content": null,
      "align_items": null,
      "align_self": null,
      "border": null,
      "bottom": null,
      "display": null,
      "flex": null,
      "flex_flow": null,
      "grid_area": null,
      "grid_auto_columns": null,
      "grid_auto_flow": null,
      "grid_auto_rows": null,
      "grid_column": null,
      "grid_gap": null,
      "grid_row": null,
      "grid_template_areas": null,
      "grid_template_columns": null,
      "grid_template_rows": null,
      "height": null,
      "justify_content": null,
      "justify_items": null,
      "left": null,
      "margin": null,
      "max_height": null,
      "max_width": null,
      "min_height": null,
      "min_width": null,
      "object_fit": null,
      "object_position": null,
      "order": null,
      "overflow": null,
      "overflow_x": null,
      "overflow_y": null,
      "padding": null,
      "right": null,
      "top": null,
      "visibility": null,
      "width": null
     }
    },
    "24bcb78428d84a16b65177e6022b5a26": {
     "model_module": "@jupyter-widgets/base",
     "model_module_version": "1.2.0",
     "model_name": "LayoutModel",
     "state": {
      "_model_module": "@jupyter-widgets/base",
      "_model_module_version": "1.2.0",
      "_model_name": "LayoutModel",
      "_view_count": null,
      "_view_module": "@jupyter-widgets/base",
      "_view_module_version": "1.2.0",
      "_view_name": "LayoutView",
      "align_content": null,
      "align_items": null,
      "align_self": null,
      "border": null,
      "bottom": null,
      "display": null,
      "flex": null,
      "flex_flow": null,
      "grid_area": null,
      "grid_auto_columns": null,
      "grid_auto_flow": null,
      "grid_auto_rows": null,
      "grid_column": null,
      "grid_gap": null,
      "grid_row": null,
      "grid_template_areas": null,
      "grid_template_columns": null,
      "grid_template_rows": null,
      "height": null,
      "justify_content": null,
      "justify_items": null,
      "left": null,
      "margin": null,
      "max_height": null,
      "max_width": null,
      "min_height": null,
      "min_width": null,
      "object_fit": null,
      "object_position": null,
      "order": null,
      "overflow": null,
      "overflow_x": null,
      "overflow_y": null,
      "padding": null,
      "right": null,
      "top": null,
      "visibility": null,
      "width": null
     }
    },
    "43aa6f9a7a064d4aab9a07f00c80f29a": {
     "model_module": "@jupyter-widgets/controls",
     "model_module_version": "1.5.0",
     "model_name": "SliderStyleModel",
     "state": {
      "_model_module": "@jupyter-widgets/controls",
      "_model_module_version": "1.5.0",
      "_model_name": "SliderStyleModel",
      "_view_count": null,
      "_view_module": "@jupyter-widgets/base",
      "_view_module_version": "1.2.0",
      "_view_name": "StyleView",
      "description_width": "",
      "handle_color": null
     }
    },
    "466ed626873e437e8931a415b9eb3705": {
     "model_module": "@jupyter-widgets/controls",
     "model_module_version": "1.5.0",
     "model_name": "SliderStyleModel",
     "state": {
      "_model_module": "@jupyter-widgets/controls",
      "_model_module_version": "1.5.0",
      "_model_name": "SliderStyleModel",
      "_view_count": null,
      "_view_module": "@jupyter-widgets/base",
      "_view_module_version": "1.2.0",
      "_view_name": "StyleView",
      "description_width": "",
      "handle_color": null
     }
    },
    "68dd0eeabc9740529b72301fec92210b": {
     "model_module": "@jupyter-widgets/controls",
     "model_module_version": "1.5.0",
     "model_name": "DescriptionStyleModel",
     "state": {
      "_model_module": "@jupyter-widgets/controls",
      "_model_module_version": "1.5.0",
      "_model_name": "DescriptionStyleModel",
      "_view_count": null,
      "_view_module": "@jupyter-widgets/base",
      "_view_module_version": "1.2.0",
      "_view_name": "StyleView",
      "description_width": ""
     }
    },
    "7cbcf7e572f64be3920e4dbe180daa86": {
     "model_module": "@jupyter-widgets/output",
     "model_module_version": "1.0.0",
     "model_name": "OutputModel",
     "state": {
      "_dom_classes": [],
      "_model_module": "@jupyter-widgets/output",
      "_model_module_version": "1.0.0",
      "_model_name": "OutputModel",
      "_view_count": null,
      "_view_module": "@jupyter-widgets/output",
      "_view_module_version": "1.0.0",
      "_view_name": "OutputView",
      "layout": "IPY_MODEL_c4f7d335afbd4957bff6eae7a83fdf79",
      "msg_id": "",
      "outputs": [
       {
        "image/png": "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\n",
        "metadata": {
         "needs_background": "light",
         "tags": []
        },
        "output_type": "display_data",
        "text/plain": "<Figure size 720x360 with 1 Axes>"
       },
       {
        "metadata": {
         "tags": []
        },
        "output_type": "display_data",
        "text/plain": "-0.841470984807897*x - 0.27015115293407*(x - 1.0)**2 + 1.38177329067604"
       }
      ]
     }
    },
    "850fd190e4914968ab73e5f8a3dc1297": {
     "model_module": "@jupyter-widgets/controls",
     "model_module_version": "1.5.0",
     "model_name": "IntSliderModel",
     "state": {
      "_dom_classes": [],
      "_model_module": "@jupyter-widgets/controls",
      "_model_module_version": "1.5.0",
      "_model_name": "IntSliderModel",
      "_view_count": null,
      "_view_module": "@jupyter-widgets/controls",
      "_view_module_version": "1.5.0",
      "_view_name": "IntSliderView",
      "continuous_update": true,
      "description": "grado",
      "description_tooltip": null,
      "disabled": false,
      "layout": "IPY_MODEL_0a5bab3cba7b4678aefa9e9fc9ec23a0",
      "max": 16,
      "min": 0,
      "orientation": "horizontal",
      "readout": true,
      "readout_format": "d",
      "step": 1,
      "style": "IPY_MODEL_43aa6f9a7a064d4aab9a07f00c80f29a",
      "value": 2
     }
    },
    "857dc9df56bd492493e5b27f89448d15": {
     "model_module": "@jupyter-widgets/controls",
     "model_module_version": "1.5.0",
     "model_name": "DropdownModel",
     "state": {
      "_dom_classes": [],
      "_model_module": "@jupyter-widgets/controls",
      "_model_module_version": "1.5.0",
      "_model_name": "DropdownModel",
      "_options_labels": [
       "cos(x)",
       "sin(x)",
       "tan(x)",
       "exp(x)",
       "exp(-x**2)",
       "exp(x)*cos(3*x)",
       "log(x)",
       "3.14159265358979**x",
       "x**3 + x**2 + x"
      ],
      "_view_count": null,
      "_view_module": "@jupyter-widgets/controls",
      "_view_module_version": "1.5.0",
      "_view_name": "DropdownView",
      "description": "función",
      "description_tooltip": null,
      "disabled": false,
      "index": 0,
      "layout": "IPY_MODEL_e954a401e99a4b34a2c83c7cec66dfb7",
      "style": "IPY_MODEL_68dd0eeabc9740529b72301fec92210b"
     }
    },
    "c4f7d335afbd4957bff6eae7a83fdf79": {
     "model_module": "@jupyter-widgets/base",
     "model_module_version": "1.2.0",
     "model_name": "LayoutModel",
     "state": {
      "_model_module": "@jupyter-widgets/base",
      "_model_module_version": "1.2.0",
      "_model_name": "LayoutModel",
      "_view_count": null,
      "_view_module": "@jupyter-widgets/base",
      "_view_module_version": "1.2.0",
      "_view_name": "LayoutView",
      "align_content": null,
      "align_items": null,
      "align_self": null,
      "border": null,
      "bottom": null,
      "display": null,
      "flex": null,
      "flex_flow": null,
      "grid_area": null,
      "grid_auto_columns": null,
      "grid_auto_flow": null,
      "grid_auto_rows": null,
      "grid_column": null,
      "grid_gap": null,
      "grid_row": null,
      "grid_template_areas": null,
      "grid_template_columns": null,
      "grid_template_rows": null,
      "height": null,
      "justify_content": null,
      "justify_items": null,
      "left": null,
      "margin": null,
      "max_height": null,
      "max_width": null,
      "min_height": null,
      "min_width": null,
      "object_fit": null,
      "object_position": null,
      "order": null,
      "overflow": null,
      "overflow_x": null,
      "overflow_y": null,
      "padding": null,
      "right": null,
      "top": null,
      "visibility": null,
      "width": null
     }
    },
    "c6a72721a6334b5da54de503fbe553c4": {
     "model_module": "@jupyter-widgets/base",
     "model_module_version": "1.2.0",
     "model_name": "LayoutModel",
     "state": {
      "_model_module": "@jupyter-widgets/base",
      "_model_module_version": "1.2.0",
      "_model_name": "LayoutModel",
      "_view_count": null,
      "_view_module": "@jupyter-widgets/base",
      "_view_module_version": "1.2.0",
      "_view_name": "LayoutView",
      "align_content": null,
      "align_items": null,
      "align_self": null,
      "border": null,
      "bottom": null,
      "display": null,
      "flex": null,
      "flex_flow": null,
      "grid_area": null,
      "grid_auto_columns": null,
      "grid_auto_flow": null,
      "grid_auto_rows": null,
      "grid_column": null,
      "grid_gap": null,
      "grid_row": null,
      "grid_template_areas": null,
      "grid_template_columns": null,
      "grid_template_rows": null,
      "height": null,
      "justify_content": null,
      "justify_items": null,
      "left": null,
      "margin": null,
      "max_height": null,
      "max_width": null,
      "min_height": null,
      "min_width": null,
      "object_fit": null,
      "object_position": null,
      "order": null,
      "overflow": null,
      "overflow_x": null,
      "overflow_y": null,
      "padding": null,
      "right": null,
      "top": null,
      "visibility": null,
      "width": null
     }
    },
    "c88616ca9a394d7a8a24d35c53b3f151": {
     "model_module": "@jupyter-widgets/controls",
     "model_module_version": "1.5.0",
     "model_name": "VBoxModel",
     "state": {
      "_dom_classes": [
       "widget-interact"
      ],
      "_model_module": "@jupyter-widgets/controls",
      "_model_module_version": "1.5.0",
      "_model_name": "VBoxModel",
      "_view_count": null,
      "_view_module": "@jupyter-widgets/controls",
      "_view_module_version": "1.5.0",
      "_view_name": "VBoxView",
      "box_style": "",
      "children": [
       "IPY_MODEL_857dc9df56bd492493e5b27f89448d15",
       "IPY_MODEL_850fd190e4914968ab73e5f8a3dc1297",
       "IPY_MODEL_d6a30915a09c47efb782919422fe5f03",
       "IPY_MODEL_7cbcf7e572f64be3920e4dbe180daa86"
      ],
      "layout": "IPY_MODEL_24bcb78428d84a16b65177e6022b5a26"
     }
    },
    "d6a30915a09c47efb782919422fe5f03": {
     "model_module": "@jupyter-widgets/controls",
     "model_module_version": "1.5.0",
     "model_name": "FloatSliderModel",
     "state": {
      "_dom_classes": [],
      "_model_module": "@jupyter-widgets/controls",
      "_model_module_version": "1.5.0",
      "_model_name": "FloatSliderModel",
      "_view_count": null,
      "_view_module": "@jupyter-widgets/controls",
      "_view_module_version": "1.5.0",
      "_view_name": "FloatSliderView",
      "continuous_update": true,
      "description": "x0",
      "description_tooltip": null,
      "disabled": false,
      "layout": "IPY_MODEL_c6a72721a6334b5da54de503fbe553c4",
      "max": 3,
      "min": -3,
      "orientation": "horizontal",
      "readout": true,
      "readout_format": ".2f",
      "step": 0.2,
      "style": "IPY_MODEL_466ed626873e437e8931a415b9eb3705",
      "value": 1
     }
    },
    "e954a401e99a4b34a2c83c7cec66dfb7": {
     "model_module": "@jupyter-widgets/base",
     "model_module_version": "1.2.0",
     "model_name": "LayoutModel",
     "state": {
      "_model_module": "@jupyter-widgets/base",
      "_model_module_version": "1.2.0",
      "_model_name": "LayoutModel",
      "_view_count": null,
      "_view_module": "@jupyter-widgets/base",
      "_view_module_version": "1.2.0",
      "_view_name": "LayoutView",
      "align_content": null,
      "align_items": null,
      "align_self": null,
      "border": null,
      "bottom": null,
      "display": null,
      "flex": null,
      "flex_flow": null,
      "grid_area": null,
      "grid_auto_columns": null,
      "grid_auto_flow": null,
      "grid_auto_rows": null,
      "grid_column": null,
      "grid_gap": null,
      "grid_row": null,
      "grid_template_areas": null,
      "grid_template_columns": null,
      "grid_template_rows": null,
      "height": null,
      "justify_content": null,
      "justify_items": null,
      "left": null,
      "margin": null,
      "max_height": null,
      "max_width": null,
      "min_height": null,
      "min_width": null,
      "object_fit": null,
      "object_position": null,
      "order": null,
      "overflow": null,
      "overflow_x": null,
      "overflow_y": null,
      "padding": null,
      "right": null,
      "top": null,
      "visibility": null,
      "width": null
     }
    }
   }
  }
 },
 "nbformat": 4,
 "nbformat_minor": 4
}
