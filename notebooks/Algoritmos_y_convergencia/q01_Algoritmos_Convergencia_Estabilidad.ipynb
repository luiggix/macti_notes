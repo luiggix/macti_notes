{
 "cells": [
  {
   "cell_type": "markdown",
   "metadata": {
    "nbgrader": {
     "grade": false,
     "grade_id": "cell-debbb0865d39d7e3",
     "locked": true,
     "schema_version": 3,
     "solution": false,
     "task": false
    },
    "tags": []
   },
   "source": [
    "# Algoritmos, Convergencia, Estabilidad\n",
    "\n",
    "# **<font color=\"DodgerBlue\">Quizz 1. </font>**\n",
    "\n",
    "<div class=\"alert alert-info\" role=\"alert\">\n",
    "    \n",
    "# Instrucciones. \n",
    "1. Cada ejercicio se describe en una celda de texto de tipo <i>read-only</i> (que no se puede modificar).\n",
    "2. En las celdas posteriores a la descripción de cada ejercicio encontrarás celdas con el texto:\n",
    "```python\n",
    "# YOUR CODE HERE\n",
    "raise NotImplementedError()\n",
    "```\n",
    "3. Cuando ya estés listo para completar el ejercicio, debes eliminar el texto <font color=\"Green\"><b>raise</b></font> <font color=\"black\">NotImplementedError()</font> y enseguida escribir tu respuesta.\n",
    "4. Una vez que completes tu respuesta, deberás ejecutar la celda donde hiciste la implementación.\n",
    "5. Posteriormente encontrarás celdas de tipo <i>read-only</i> con un texto similar al siguiente:\n",
    "```python\n",
    "quizz.eval_numeric('1a',w)\n",
    "```\n",
    "6. Cuando ejecutes este tipo de celdas, obtendrás retroalimentación sobre el ejercicio que acabas de completar.\n",
    "7. En caso de que tu respuesta no sea correcta, obtendrás una ayuda para realizar el ejercicio correctamente. En dicho caso, deberás regresar al lugar donde escribiste tu respuesta, corregir y volver a ejecutar las celdas correspondientes para revisar el nuevo resultado.\n",
    "8. Siempre ejecuta todas las celdas que preceden al ejercicio, pues generalmente son requeridas para que todo funcione correctamente.\n",
    "    \n",
    "</div>"
   ]
  },
  {
   "cell_type": "code",
   "execution_count": 1,
   "metadata": {
    "nbgrader": {
     "grade": false,
     "grade_id": "cell-f14748b943724949",
     "locked": true,
     "schema_version": 3,
     "solution": false,
     "task": false
    },
    "tags": []
   },
   "outputs": [],
   "source": [
    "from macti.evaluation import Quizz, FileAnswer\n",
    "quizz = Quizz(\"1\", \"notebooks\", \"Algoritmos_y_convergencia\", \"local\")\n",
    "#file_answer = FileAnswer(\"notebooks\", \"Algoritmos_y_convergencia\", \"local\")"
   ]
  },
  {
   "cell_type": "markdown",
   "metadata": {
    "nbgrader": {
     "grade": false,
     "grade_id": "cell-ba04ef4b6045d28c",
     "locked": true,
     "schema_version": 3,
     "solution": false,
     "task": false
    },
    "tags": []
   },
   "source": [
    "<font color=\"DarkBlue\">\n",
    "<ol>\n",
    "<li>\n",
    "    \n",
    "El código <b>interactivo.py</b> calcula la integral:\n",
    "\n",
    "$$\n",
    "y_n = \\int_{0}^{1} \\frac{x^n}{x+5} dx\n",
    "$$\n",
    "\n",
    "para $n = 3, \\dots, 10$ de manera exacta y muestra el resultado en la gráfica (curva azul). \n",
    "\n",
    "También calcula la integral usando el siguiente algoritmo (curva naranja):\n",
    "\n",
    "1. Condición inicial:\n",
    "$$\n",
    "y_0 = \\int_{0}^{1} \\frac{1}{x+5} dx = \\big[\\ln(x+5)\\big]_0^1 = \\ln 6 - \\ln 5 \\approx 0.182 \\qquad \\text{(Redondeado a tres cifras)}\n",
    "$$\n",
    "\n",
    "2. Relación de recurrencia:\n",
    "$$\n",
    "y_n + 5 y_{n-1} =  \\frac{1}{n} \\tag{1}\n",
    "$$\n",
    "    \n",
    "Para $N = 7$, ¿cuantos dígitos ($r$) se requieren para que la solución numérica sea prácticamente igual a la exacta? Escribe tu respuesta en la variable <b>respuesta</b>.\n",
    "</li>\n",
    "</ol>\n",
    "</font>\n",
    "    \n",
    "<div class=\"alert alert-info\" role=\"alert\">\n",
    "Ejecuta la celda siguiente para obtener el interactivo y modifica el valor de $N$ (número de iteraciones) y el de $r$ (error de truncamiento) y observa lo que sucede.\n",
    "</div>"
   ]
  },
  {
   "cell_type": "code",
   "execution_count": 3,
   "metadata": {
    "nbgrader": {
     "grade": false,
     "grade_id": "cell-5afdbe342d5bd679",
     "locked": true,
     "schema_version": 3,
     "solution": false,
     "task": false
    },
    "tags": []
   },
   "outputs": [
    {
     "data": {
      "application/vnd.jupyter.widget-view+json": {
       "model_id": "bc5dd73b6a6f498d93f81808ad09dc94",
       "version_major": 2,
       "version_minor": 0
      },
      "text/plain": [
       "interactive(children=(IntSlider(value=5, description='N', max=10, min=3), IntSlider(value=3, description='r', …"
      ]
     },
     "metadata": {},
     "output_type": "display_data"
    },
    {
     "data": {
      "text/plain": [
       "<function __main__.calc_exac_num(N, r)>"
      ]
     },
     "metadata": {},
     "output_type": "display_data"
    }
   ],
   "source": [
    "%run \"./interactivo_01.py\""
   ]
  },
  {
   "cell_type": "code",
   "execution_count": 3,
   "metadata": {
    "nbgrader": {
     "grade": false,
     "grade_id": "cell-5dc7b9a98930de75",
     "locked": false,
     "schema_version": 3,
     "solution": true,
     "task": false
    },
    "tags": []
   },
   "outputs": [],
   "source": [
    "### BEGIN SOLUTION\n",
    "respuesta = '8'\n",
    "\n",
    "#file_answer.write(\"1\", respuesta, \"Asegurate que N=7, revisa que no haya diferencia entre las dos gráficas, aunque esta sea mínima.\")\n",
    "### END SOLUTION\n",
    "\n",
    "# respuesta = ..."
   ]
  },
  {
   "cell_type": "code",
   "execution_count": 4,
   "metadata": {
    "nbgrader": {
     "grade": true,
     "grade_id": "cell-82d0a3f5f4fbc5da",
     "locked": true,
     "points": 1,
     "schema_version": 3,
     "solution": false,
     "task": false
    },
    "tags": []
   },
   "outputs": [
    {
     "name": "stdout",
     "output_type": "stream",
     "text": [
      "\u001b[39m----------------------------------------\n",
      "\u001b[32mTu respuesta: \u001b[39m8\u001b[32m, es correcta.\n",
      "\u001b[39m----------------------------------------\n"
     ]
    }
   ],
   "source": [
    "quizz.eval_option(\"1\", respuesta)"
   ]
  },
  {
   "cell_type": "markdown",
   "metadata": {
    "nbgrader": {
     "grade": false,
     "grade_id": "cell-bc0957dea4ed3f2e",
     "locked": true,
     "schema_version": 3,
     "solution": false,
     "task": false
    },
    "tags": []
   },
   "source": [
    "<font color=\"DarkBlue\">\n",
    "<ol start=\"2\">\n",
    "<li> Calcula la derivada de la siguiente expresión $f(x) = \\dfrac{x^5}{5}−\\dfrac{5x^4}{4}+\\dfrac{25x^3}{3}−\\dfrac{125x^2}{2}+625x-3125\\log(x+5)$ y escribe tu respuesta en la celda siguiente en la variable $f$ usando expresiones de Python y Sympy.\n",
    "</ol>\n",
    "</font>"
   ]
  },
  {
   "cell_type": "code",
   "execution_count": 5,
   "metadata": {
    "nbgrader": {
     "grade": false,
     "grade_id": "cell-6bdc15cfea15fa09",
     "locked": false,
     "schema_version": 3,
     "solution": true,
     "task": false
    },
    "tags": []
   },
   "outputs": [
    {
     "data": {
      "text/latex": [
       "$\\displaystyle \\frac{x^{4}}{x + 5}$"
      ],
      "text/plain": [
       "x**4/(x + 5)"
      ]
     },
     "metadata": {},
     "output_type": "display_data"
    }
   ],
   "source": [
    "x = sympy.symbols('x')\n",
    "\n",
    "### BEGIN SOLUTION\n",
    "f = x**4 / (x+5)\n",
    "\n",
    "\n",
    "#file_answer.write(\"2\", str(f), \"Revisa las reglas de derivación.\")\n",
    "### END SOLUTION\n",
    "\n",
    "# f = ...\n",
    "display(f)"
   ]
  },
  {
   "cell_type": "code",
   "execution_count": 6,
   "metadata": {
    "nbgrader": {
     "grade": true,
     "grade_id": "cell-d8af18c4616dc181",
     "locked": true,
     "points": 1,
     "schema_version": 3,
     "solution": false,
     "task": false
    },
    "tags": []
   },
   "outputs": [
    {
     "name": "stdout",
     "output_type": "stream",
     "text": [
      "\u001b[39m----------------------------------------\n",
      "\u001b[32mTu respuesta:\n"
     ]
    },
    {
     "data": {
      "text/latex": [
       "$\\displaystyle \\frac{x^{4}}{x + 5}$"
      ],
      "text/plain": [
       "x**4/(x + 5)"
      ]
     },
     "metadata": {},
     "output_type": "display_data"
    },
    {
     "name": "stdout",
     "output_type": "stream",
     "text": [
      "\u001b[32mes correcta.\n",
      "\u001b[39m----------------------------------------\n"
     ]
    }
   ],
   "source": [
    "quizz.eval_expression(\"2\", f)"
   ]
  },
  {
   "cell_type": "markdown",
   "metadata": {
    "nbgrader": {
     "grade": false,
     "grade_id": "cell-9b414c0dcdac0360",
     "locked": true,
     "schema_version": 3,
     "solution": false,
     "task": false
    },
    "tags": []
   },
   "source": [
    "<font color=\"DarkBlue\">\n",
    "<ol start=\"3\">\n",
    "<li>  La suma $\\sum_{i=1}^{10} (1 / i^2)$ se puede obtener mediante el siguiente algoritmo escrito en Python:\n",
    "\n",
    "---\n",
    "```python\n",
    "suma = 0\n",
    "for i in range(1,11):\n",
    "    termino = 1 / i**2 \n",
    "    suma += termino\n",
    "print(\"{:0.52f}\".format(suma))\n",
    "```\n",
    "---\n",
    "\n",
    "Escribe el código anterior en la celda siguiente y checa el valor de la suma que se obtiene.\n",
    "</li>\n",
    "</ol>\n",
    "</font>\n"
   ]
  },
  {
   "cell_type": "code",
   "execution_count": 9,
   "metadata": {
    "nbgrader": {
     "grade": false,
     "grade_id": "cell-8457a52ced628c7e",
     "locked": false,
     "schema_version": 3,
     "solution": true,
     "task": false
    },
    "tags": []
   },
   "outputs": [
    {
     "name": "stdout",
     "output_type": "stream",
     "text": [
      "1.5497677311665407628993307298514991998672485351562500\n"
     ]
    }
   ],
   "source": [
    "### BEGIN SOLUTION\n",
    "suma = 0\n",
    "for i in range(1,11):\n",
    "    termino = 1 / i**2\n",
    "    suma += termino\n",
    "print(\"{:0.52f}\".format(suma))\n",
    "\n",
    "#file_answer.write(\"3\", suma, \"Revisa tu código, tienes algún error en la implementación.\")\n",
    "### END SOLUTION"
   ]
  },
  {
   "cell_type": "code",
   "execution_count": 10,
   "metadata": {},
   "outputs": [
    {
     "name": "stdout",
     "output_type": "stream",
     "text": [
      "1.5497677311665408\n",
      "1.5497677311665408\n",
      "1.5497677311665408\n"
     ]
    }
   ],
   "source": [
    "print(str(suma))\n",
    "print(repr(suma))\n",
    "print(suma)"
   ]
  },
  {
   "cell_type": "code",
   "execution_count": 22,
   "metadata": {},
   "outputs": [
    {
     "data": {
      "text/plain": [
       "False"
      ]
     },
     "execution_count": 22,
     "metadata": {},
     "output_type": "execute_result"
    }
   ],
   "source": [
    "1.5497677311665409 == suma"
   ]
  },
  {
   "cell_type": "code",
   "execution_count": 11,
   "metadata": {},
   "outputs": [
    {
     "name": "stdout",
     "output_type": "stream",
     "text": [
      "1.5497677311665407628993307298514991998672485351562500\n"
     ]
    }
   ],
   "source": [
    "print(\"{:0.52f}\".format(suma))"
   ]
  },
  {
   "cell_type": "code",
   "execution_count": 8,
   "metadata": {
    "nbgrader": {
     "grade": true,
     "grade_id": "cell-26378614765cbcff",
     "locked": true,
     "points": 2,
     "schema_version": 3,
     "solution": false,
     "task": false
    },
    "tags": []
   },
   "outputs": [
    {
     "name": "stdout",
     "output_type": "stream",
     "text": [
      "\u001b[39m----------------------------------------\n",
      "\u001b[32mTu resultado es correcto.\n",
      "\u001b[39m----------------------------------------\n"
     ]
    }
   ],
   "source": [
    "quizz.eval_numeric(\"3\", suma)"
   ]
  },
  {
   "cell_type": "markdown",
   "metadata": {
    "nbgrader": {
     "grade": false,
     "grade_id": "cell-d493f3b0aaf79c7c",
     "locked": true,
     "schema_version": 3,
     "solution": false,
     "task": false
    },
    "tags": []
   },
   "source": [
    "<font color=\"DarkBlue\">\n",
    "<ol start=\"4\">\n",
    "<li>  Repite el mismo algoritmo del ejercicio 3, pero ahora hazlo redondeando cada valor $(1/i^2)$ a tres dígitos. Almacena la suma en la variable <b>suma1</b> y checa la diferencia con respecto al resutado del ejercicio 3.\n",
    "</li>\n",
    "</ol>\n",
    "</font>"
   ]
  },
  {
   "cell_type": "code",
   "execution_count": 9,
   "metadata": {
    "nbgrader": {
     "grade": false,
     "grade_id": "cell-68e32b20780f4ca1",
     "locked": false,
     "schema_version": 3,
     "solution": true,
     "task": false
    },
    "tags": []
   },
   "outputs": [
    {
     "name": "stdout",
     "output_type": "stream",
     "text": [
      "1.5490000000000001545430450278217904269695281982421875\n"
     ]
    }
   ],
   "source": [
    "### BEGIN SOLUTION\n",
    "suma1 = 0\n",
    "r = 3\n",
    "for i in range(1,11):\n",
    "    termino = round(1 / i**2, r)\n",
    "    suma1 += termino \n",
    "print(\"{:0.52f}\".format(suma1))\n",
    "\n",
    "#file_answer.write(\"4\", suma1, \"Revisa tu código, tienes algún error en la implementación.\")\n",
    "### END SOLUTION"
   ]
  },
  {
   "cell_type": "code",
   "execution_count": 10,
   "metadata": {
    "nbgrader": {
     "grade": true,
     "grade_id": "cell-59ace9a978954667",
     "locked": true,
     "points": 2,
     "schema_version": 3,
     "solution": false,
     "task": false
    },
    "tags": []
   },
   "outputs": [
    {
     "name": "stdout",
     "output_type": "stream",
     "text": [
      "\u001b[39m----------------------------------------\n",
      "\u001b[32mTu resultado es correcto.\n",
      "\u001b[39m----------------------------------------\n"
     ]
    }
   ],
   "source": [
    "quizz.eval_numeric(\"4\", suma1)"
   ]
  },
  {
   "cell_type": "markdown",
   "metadata": {
    "nbgrader": {
     "grade": false,
     "grade_id": "cell-b3e790de9409fc12",
     "locked": true,
     "schema_version": 3,
     "solution": false,
     "task": false
    },
    "tags": []
   },
   "source": [
    "<font color=\"DarkBlue\">\n",
    "<ol start=\"5\">\n",
    "<li> Repite el algoritmo del ejercicio 4, pero ahora realiza la suma en orden inverso: $\\dfrac{1}{100} + \\dfrac{1}{81} + \\dots + \\dfrac{1}{1}$.  Almacena la suma en la variable <b>suma2</b> y checa la diferencia con respecto al resutado del ejercicio 4.\n",
    "    \n",
    "<b>Hint</b>. Recuerda que la función <b>range()</b> recibe tres parámetros: <b>start</b>, <b>stop</b> y <b>step</b>, donde <b>step</b> puede ser negativo.\n",
    "</li>\n",
    "</ol>\n",
    "</font>"
   ]
  },
  {
   "cell_type": "code",
   "execution_count": 11,
   "metadata": {
    "nbgrader": {
     "grade": false,
     "grade_id": "cell-1fc45a5374cf4c47",
     "locked": false,
     "schema_version": 3,
     "solution": true,
     "task": false
    },
    "tags": []
   },
   "outputs": [
    {
     "name": "stdout",
     "output_type": "stream",
     "text": [
      "1.5489999999999999324984401027904823422431945800781250\n"
     ]
    }
   ],
   "source": [
    "### BEGIN SOLUTION\n",
    "suma2 = 0\n",
    "r = 3\n",
    "for i in range(10,0,-1):\n",
    "    termino = round(1 / i**2, r)\n",
    "    suma2 += termino\n",
    "print(\"{:0.52f}\".format(suma2))\n",
    "\n",
    "#file_answer.write(\"5\", suma2, \"Revisa tu código, tienes algún error en la implementación.\")\n",
    "### END SOLUTION"
   ]
  },
  {
   "cell_type": "code",
   "execution_count": 12,
   "metadata": {
    "nbgrader": {
     "grade": true,
     "grade_id": "cell-37d0b117ac5e14ab",
     "locked": true,
     "points": 2,
     "schema_version": 3,
     "solution": false,
     "task": false
    },
    "tags": []
   },
   "outputs": [
    {
     "name": "stdout",
     "output_type": "stream",
     "text": [
      "\u001b[39m----------------------------------------\n",
      "\u001b[32mTu resultado es correcto.\n",
      "\u001b[39m----------------------------------------\n"
     ]
    }
   ],
   "source": [
    "quizz.eval_numeric(\"5\", suma2)"
   ]
  },
  {
   "cell_type": "markdown",
   "metadata": {
    "nbgrader": {
     "grade": false,
     "grade_id": "cell-00d73754a35962ad",
     "locked": true,
     "schema_version": 3,
     "solution": false,
     "task": false
    },
    "tags": []
   },
   "source": [
    "<font color=\"DarkBlue\">\n",
    "<ol start=\"6\">\n",
    "<li> Calcula los siguientes errores absolutos: </li>\n",
    "    <ol>\n",
    "    <li>$E_1$ = $\\big|$<b>suma</b> - <b>suma1</b>$\\big|$</li>\n",
    "    <li>$E_2$ = $\\big|$<b>suma</b> - <b>suma2</b>$\\big|$</li>\n",
    "    <li>$E_{12}$ = $\\big|$<b>suma2</b> - <b>suma1</b>$\\big|$</li>\n",
    "    </ol>\n",
    "</ol>\n",
    "</font>"
   ]
  },
  {
   "cell_type": "code",
   "execution_count": 13,
   "metadata": {
    "nbgrader": {
     "grade": false,
     "grade_id": "cell-a7cb7c1a4b1e0713",
     "locked": false,
     "schema_version": 3,
     "solution": true,
     "task": false
    },
    "tags": []
   },
   "outputs": [
    {
     "name": "stdout",
     "output_type": "stream",
     "text": [
      "E1 = 0.0007677311665406083562857020297087728977203369140625\n",
      "E2 = 0.0007677311665408304008906270610168576240539550781250\n",
      "E12 = 0.0000000000000002220446049250313080847263336181640625\n"
     ]
    }
   ],
   "source": [
    "### BEGIN SOLUTION\n",
    "E1 = np.abs(suma-suma1)\n",
    "E2 = np.abs(suma-suma2)\n",
    "E12 = np.abs(suma2-suma1)\n",
    "\n",
    "#file_answer.write(\"6\", [E1, E2, E12], \"Revisa tu código, tienes algún error en la implementación.\")\n",
    "### END SOLUTION\n",
    "# E1 = ...\n",
    "# E2 = ...\n",
    "# E3 = ...\n",
    "#\n",
    "print(\"E1 = {:0.52f}\".format(E1))\n",
    "print(\"E2 = {:0.52f}\".format(E2))\n",
    "print(\"E12 = {:0.52f}\".format(E12))"
   ]
  },
  {
   "cell_type": "code",
   "execution_count": 14,
   "metadata": {
    "nbgrader": {
     "grade": true,
     "grade_id": "cell-90f0b888d87bd3e6",
     "locked": true,
     "points": 2,
     "schema_version": 3,
     "solution": false,
     "task": false
    },
    "tags": []
   },
   "outputs": [
    {
     "name": "stdout",
     "output_type": "stream",
     "text": [
      "\u001b[39m----------------------------------------\n",
      "\u001b[32mTu resultado es correcto.\n",
      "\u001b[39m----------------------------------------\n"
     ]
    }
   ],
   "source": [
    "quizz.eval_numeric(\"6\", [E1, E2, E12])"
   ]
  },
  {
   "cell_type": "code",
   "execution_count": null,
   "metadata": {
    "nbgrader": {
     "grade": false,
     "grade_id": "cell-7553b3837ec80b56",
     "locked": true,
     "schema_version": 3,
     "solution": false,
     "task": false
    },
    "tags": []
   },
   "outputs": [],
   "source": [
    "#file_answer.to_file(\"1\")"
   ]
  },
  {
   "cell_type": "code",
   "execution_count": null,
   "metadata": {},
   "outputs": [],
   "source": []
  }
 ],
 "metadata": {
  "kernelspec": {
   "display_name": "Python 3 (ipykernel)",
   "language": "python",
   "name": "python3"
  },
  "language_info": {
   "codemirror_mode": {
    "name": "ipython",
    "version": 3
   },
   "file_extension": ".py",
   "mimetype": "text/x-python",
   "name": "python",
   "nbconvert_exporter": "python",
   "pygments_lexer": "ipython3",
   "version": "3.11.6"
  }
 },
 "nbformat": 4,
 "nbformat_minor": 4
}
