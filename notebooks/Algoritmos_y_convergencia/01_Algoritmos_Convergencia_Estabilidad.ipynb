{
 "cells": [
  {
   "cell_type": "markdown",
   "metadata": {},
   "source": [
    "# Aproximación, Convergencia, Estabilidad.\n",
    "\n",
    "**Objetivo general.**\n",
    "- Entender que es un algoritmo e implementar un ejemplo.\n",
    "- Entender los conceptos de aproximación, convergencia y estabilidad.\n",
    "\n",
    "## Introducción.\n",
    "\n",
    "Cuando usamos una computadora para simular problemas de la vida real, lo primero que debemos tomar en cuenta es que necesitamos construir **algoritmos** que generen soluciones numéricas, las cuales deberán **aproximar** a la solución real del problema que estamos estudiando. Un algoritmo debe **converger** a la solución real y debe ser **estable**. \n",
    "\n",
    "Para entender estos conceptos, veamos un ejemplo."
   ]
  },
  {
   "cell_type": "markdown",
   "metadata": {},
   "source": [
    "## Ejemplo.\n",
    "\n",
    "Nos piden calcular la siguiente integral:\n",
    "\n",
    "$$\n",
    "y_n = \\int_{0}^{1} \\frac{x^n}{x+5} dx\n",
    "$$\n",
    "\n",
    "para $n = 0, 1, 2, 3, \\dots$\n",
    "\n",
    "Seguramente, durante tus primeros semestres has batallado con las derivadas de funciones, pero ¡aún más con las integrales!\n",
    "\n",
    "Es importante que tengas frescos los métodos y técnicas para derivar e integrar; por ahora, para este ejemplo, usaremos la biblioteca Sympy para hacer un análisis del problema que se ha planteado.\n",
    "\n",
    "\n",
    "<div class=\"alert alert-info\" role=\"alert\">\n",
    "En las celdas que siguen, trata de entender el código que se está implementando. Durante la clase el profesor explicará con más detalle que es lo que está sucediendo. Si tienes dudas, por favor pregunta a tu profesor durante la clase, seguramente no eres el único(a) que tiene preguntas.\n",
    "</div>\n",
    "\n",
    "### Integral exacta."
   ]
  },
  {
   "cell_type": "code",
   "execution_count": null,
   "metadata": {},
   "outputs": [],
   "source": [
    "import sympy\n",
    "import numpy as np\n",
    "import pandas as pd\n",
    "import ipywidgets as widgets\n",
    "import matplotlib.pyplot as plt\n",
    "import macti.visual as mvis"
   ]
  },
  {
   "cell_type": "code",
   "execution_count": null,
   "metadata": {},
   "outputs": [],
   "source": [
    "# Modifica el valor de n = 0, 1, 2, 3 y 4, ejectua la celda y observa el resultado\n",
    "n = 0\n",
    "\n",
    "# Función original \n",
    "x = sympy.symbols('x')\n",
    "f = x**n / (x+5)\n",
    "print(\"Función original:\")\n",
    "display(f)\n",
    "\n",
    "# Integral de la función original\n",
    "g = sympy.integrate(f, x)\n",
    "print(\"Integral de la función original:\")\n",
    "display(g)"
   ]
  },
  {
   "cell_type": "markdown",
   "metadata": {},
   "source": [
    "La siguiente función calcula el valor de la integral en el intervalo $[0,1]$ y grafica la función $f(x) = \\frac{x^n}{x+5}$ para $n=0,1,2,3,4$"
   ]
  },
  {
   "cell_type": "code",
   "execution_count": null,
   "metadata": {},
   "outputs": [],
   "source": [
    "def integral_exacta(N, iexacta):\n",
    "    vis = mvis.Plotter(1,1, [dict(title=r'$f(x) = \\frac{x^n}{x+5}$', \n",
    "                                 xlabel='$n$')])\n",
    "    x = sympy.symbols('x')\n",
    "\n",
    "    for n in range(N):\n",
    "        f = x**n / (x+5)\n",
    "        g = sympy.integrate(f, (x, 0.0, 1.0))\n",
    "\n",
    "        fn = sympy.lambdify(x, f)\n",
    "        t = np.linspace(0.0,1,20)\n",
    "        vis.plot(1, t, fn(t), label = '$n$ = {}'.format(n))\n",
    "        \n",
    "        iexacta.append(g)\n",
    "        print(\"n = {}, Valor de la integral = {}\".format(n, g))\n",
    "\n",
    "    vis.legend()\n",
    "    vis.grid()\n",
    "    vis.show()\n",
    "    \n",
    "# Arreglo donde se almacena el valor numérico de la integral\n",
    "iexacta = []\n",
    "\n",
    "# Ejecutamos la función para n = 0,1,2,3,4\n",
    "integral_exacta(5, iexacta)  "
   ]
  },
  {
   "cell_type": "markdown",
   "metadata": {},
   "source": [
    "<div class=\"alert alert-success\">\n",
    "<b>Observaciones.</b><br>\n",
    "1. La curva de la función original siempre está por arriba del cero, independientemente del valor de $n$.<br>\n",
    "2. La integral de una función representa el área bajo la curva de la misma.<br>\n",
    "3. De acuerdo con los puntos 1 y 2, el valor de la integral de $f(x)$ debe ser siempre positivo. <br>\n",
    "4. El área bajo la curva va disminuyendo conforme $n \\to 0$. Esto se verifica observando el valor de la integral para cada $n$.<br>\n",
    "5. El cálculo exacto se almacenó en el arreglo <b>iexacta</b> para usarlo en comparaciones posteriores. \n",
    "</div>"
   ]
  },
  {
   "cell_type": "markdown",
   "metadata": {},
   "source": [
    "### Aproximación de la integral.\n",
    "\n",
    "En este curso aprenderás a construir algoritmos numéricos para aproximar soluciones exactas. Así que vamos a implementar el siguiente algoritmo para aproximar la integral que ya se calculó previamente:\n",
    "\n",
    "---\n",
    "**Algoritmo 1**.\n",
    "\n",
    "Calcular la integral usando la siguiente relación de recurrencia:\n",
    "\n",
    "$$\n",
    "y_n + 5 y_{n-1} =  \\frac{1}{n} \\tag{1}\n",
    "$$\n",
    "\n",
    "Cuando $n=0$ y redondeando a tres cifras obtenemos:\n",
    "\n",
    "$$\n",
    "y_0 = \\int_{0}^{1} \\frac{1}{x+5} dx = \\big[\\ln(x+5)\\big]_0^1 = \\ln 6 - \\ln 5 \\approx 0.182\n",
    "$$\n",
    "\n",
    "$y_0$ es nuestra condición inicial para la relación $(1)$.\n",
    "\n",
    "---\n",
    "\n",
    "<div class=\"alert alert-success\" role=\"alert\">\n",
    "Observa que la ecuación $(1)$ se puede escribir como sigue:\n",
    "\n",
    "$$\n",
    "y_n  =  \\frac{1}{n} - 5 y_{n-1} \\tag{2}\n",
    "$$\n",
    "</div>"
   ]
  },
  {
   "cell_type": "code",
   "execution_count": null,
   "metadata": {},
   "outputs": [],
   "source": [
    "# Implementación del algoritmo\n",
    "\n",
    "# r es el número de cifras significativas\n",
    "r = 3\n",
    "\n",
    "# y0 es la condición inicial\n",
    "y0 = round(np.log(6) - np.log(5), r)\n",
    "\n",
    "# Función que implementa el algoritmo 1 (ecuación (2)).\n",
    "def algoritmo_1(y, n, r):\n",
    "    return round(1.0 / n - 5 * y[n-1], r)\n",
    "\n",
    "# Creamos una lista para almacenar la solución, cuyo primer elemento es la condición inicial.\n",
    "y = [y0]\n",
    "print(\"n = {}, Valor de la integral = {}\".format(0, y0))\n",
    "\n",
    "# N es el número de iteraciones\n",
    "N = 5\n",
    "\n",
    "# Cálculamos las integrales de 1 a N-1 y guardamos el resultado en la lista.\n",
    "for n in range(1, N):\n",
    "    y.append(algoritmo_1(y, n, r))\n",
    "    print(\"n = {}, Valor de la integral = {}\".format(n, y[-1]))"
   ]
  },
  {
   "cell_type": "markdown",
   "metadata": {},
   "source": [
    "### Error absoluto.\n",
    "Para comparar este resultado aproximado con el valor exacto, definimos el error absoluto como sigue:\n",
    "\n",
    "$$\n",
    "Error_a = |v_e - v_n|\n",
    "$$\n",
    "\n",
    "donde $v_e$ representa a la solución exacta y $v_n$ a la solución numérica. La siguiente función implementa el cálculo de este error."
   ]
  },
  {
   "cell_type": "code",
   "execution_count": null,
   "metadata": {},
   "outputs": [],
   "source": [
    "def calc_error(sol_exa, sol_num):\n",
    "    error = []\n",
    "    for e, n in zip(sol_exa, sol_num):\n",
    "        error.append(np.abs(e - n))\n",
    "    return error"
   ]
  },
  {
   "cell_type": "code",
   "execution_count": null,
   "metadata": {},
   "outputs": [],
   "source": [
    "# Usamos un DataFrame para mostrar los resultados\n",
    "datos = pd.DataFrame(np.array([iexacta, y, calc_error(iexacta, y)]).T, columns = ['Exacta','Numérica','Error'])\n",
    "datos"
   ]
  },
  {
   "cell_type": "markdown",
   "metadata": {},
   "source": [
    "En la celda siguiente se dibujan las gráficas de la solución exacta, la solución numérica y el error."
   ]
  },
  {
   "cell_type": "code",
   "execution_count": null,
   "metadata": {},
   "outputs": [],
   "source": [
    "vis = mvis.Plotter(1,2,[dict(title = \"Valor de la integral\", xlabel='$n$'), \n",
    "                        dict(title=\"Error\", xlabel='$n$')],\n",
    "                  dict(figsize=(10,4)))\n",
    "xn = [i for i in range(N)]\n",
    "vis.plot(1, xn, iexacta, marker='o', label='Exacta')\n",
    "vis.plot(1, xn, y, marker='s', label='Numérica')\n",
    "vis.plot(2, xn, datos.Error, marker='o', color='C2',label='Error absoluto')\n",
    "\n",
    "vis.figtitle('N={}, Redondeo: {}'.format(N,r))\n",
    "vis.grid()\n",
    "vis.legend()\n",
    "\n",
    "plt.xticks([i for i in range(N)])\n",
    "plt.show()"
   ]
  },
  {
   "cell_type": "markdown",
   "metadata": {},
   "source": [
    "**¿Qué conclusiones puedes obtener de los resultados que se han obtenido?**<br>\n",
    "**¿Cómo podrías mejorar el resultado numérico?**"
   ]
  },
  {
   "cell_type": "markdown",
   "metadata": {},
   "source": [
    "Lo que acabas de experimentar en este ejercicio es cómo un **algoritmo** puede **aproximar** la solución de un problema; esta aproximación puede o no **converger** a la solución exacta dependiendo del valor de diferentes parámetros. De igual manera, se puede observar que el algoritmo numérico puede ser **inestable**, pues después de unos pasos la solución numérica comienza a oscilar. A continuación te damos unas definiciones más formales:\n",
    "\n",
    "<div class=\"alert alert-success\">\n",
    "\n",
    "<ul>\n",
    "<li>Un <b>algoritmo</b> consiste de un conjunto finito de instrucciones o reglas bien definidas, ordenadas y que no son ambiguas, que siguiéndolas correctamente permiten solucionar problemas, realizar cálculos, procesar datos o llevar acabo diferentes tipos de tareas.</li>\n",
    "    \n",
    "<li>\n",
    "<b>Aproximación.</b> \n",
    "El grado de aproximación de un modelo numérico al modelo matemático original, se caracteriza por el error que se introduce con respecto de la solución exacta.\n",
    "</li>\n",
    "\n",
    "<li>\n",
    "<b>Estabilidad.</b>\n",
    "Caracteriza la manera de propagación de los errores iniciales durante el proceso de cálculo de los algoritmos. Si el error va disminuyendo conforme el algoritmo se va ejecutando, entonces tenemos estabilidad. Por otro lado, si el error es muy grande, oscila y/o se incrementa sin ningún control, entonces el método/algoritmo es inestable. La estabilidad es una característica que define la calidad de cada método o algoritmo.\n",
    "</li>\n",
    "    \n",
    "<li>\n",
    "<b>Convergencia.</b>\n",
    "Significa que la solución numérica se va acercando cada vez más a la solución exacta conforme el algoritmo numérico avanza y algunos parámetros se van ajustando.\n",
    "</li>\n",
    "\n",
    "</ul>\n",
    "\n",
    "</div>"
   ]
  },
  {
   "cell_type": "code",
   "execution_count": null,
   "metadata": {},
   "outputs": [],
   "source": []
  }
 ],
 "metadata": {
  "kernelspec": {
   "display_name": "Python 3 (ipykernel)",
   "language": "python",
   "name": "python3"
  },
  "language_info": {
   "codemirror_mode": {
    "name": "ipython",
    "version": 3
   },
   "file_extension": ".py",
   "mimetype": "text/x-python",
   "name": "python",
   "nbconvert_exporter": "python",
   "pygments_lexer": "ipython3",
   "version": "3.10.10"
  }
 },
 "nbformat": 4,
 "nbformat_minor": 4
}
