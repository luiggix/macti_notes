{
 "cells": [
  {
   "cell_type": "markdown",
   "metadata": {
    "nbgrader": {
     "grade": false,
     "grade_id": "cell-7fe7fc2e46d2c8a3",
     "locked": true,
     "schema_version": 3,
     "solution": false,
     "task": false
    },
    "tags": []
   },
   "source": [
    "# Algoritmos condicionalmente estables.\n",
    "\n",
    "# **<font color=\"DodgerBlue\">Quizz 2. </font>**\n",
    "\n",
    "<div class=\"alert alert-info\" role=\"alert\">\n",
    "    \n",
    "# Instrucciones. \n",
    "1. Cada ejercicio se describe en una celda de texto de tipo <i>read-only</i> (que no se puede modificar).\n",
    "2. En las celdas posteriores a la descripción de cada ejercicio encontrarás celdas con el texto:\n",
    "```python\n",
    "# YOUR CODE HERE\n",
    "raise NotImplementedError()\n",
    "```\n",
    "3. Cuando ya estés listo para completar el ejercicio, debes eliminar el texto <font color=\"Green\"><b>raise</b></font> <font color=\"black\">NotImplementedError()</font> y enseguida escribir tu respuesta.\n",
    "4. Una vez que completes tu respuesta, deberás ejecutar la celda donde hiciste la implementación.\n",
    "5. Posteriormente encontrarás celdas de tipo <i>read-only</i> con un texto similar al siguiente:\n",
    "```python\n",
    "quizz.eval_numeric('1a',w)\n",
    "```\n",
    "6. Cuando ejecutes este tipo de celdas, obtendrás retroalimentación sobre el ejercicio que acabas de completar.\n",
    "7. En caso de que tu respuesta no sea correcta, obtendrás una ayuda para realizar el ejercicio correctamente. En dicho caso, deberás regresar al lugar donde escribiste tu respuesta, corregir y volver a ejecutar las celdas correspondientes para revisar el nuevo resultado.\n",
    "8. Siempre ejecuta todas las celdas que preceden al ejercicio, pues generalmente son requeridas para que todo funcione correctamente.\n",
    "    \n",
    "</div>"
   ]
  },
  {
   "cell_type": "code",
   "execution_count": null,
   "metadata": {
    "nbgrader": {
     "grade": false,
     "grade_id": "cell-a0416cfb10c0e351",
     "locked": true,
     "schema_version": 3,
     "solution": false,
     "task": false
    },
    "tags": []
   },
   "outputs": [],
   "source": [
    "import numpy as np\n",
    "import ipywidgets as widgets\n",
    "import macti.visual as mvis\n",
    "\n",
    "from macti.evaluation import Quizz, FileAnswer\n",
    "quizz = Quizz(\"2\", \"notebooks\", \"Algoritmos_y_convergencia\", \"local\")\n",
    "#file_answer = FileAnswer(\"notebooks\", \"Algoritmos_y_convergencia\", \"local\")"
   ]
  },
  {
   "cell_type": "markdown",
   "metadata": {
    "nbgrader": {
     "grade": false,
     "grade_id": "cell-d06ea64cdddc5737",
     "locked": true,
     "schema_version": 3,
     "solution": false,
     "task": false
    },
    "tags": []
   },
   "source": [
    "\n",
    "<font color=\"DarkBlue\">\n",
    "<ol>\n",
    "<li> La siguiente Ecuación Diferencial Ordinaria\n",
    "$$\n",
    "\\frac{d}{dt}y(t) = -a y(t), \\;\\; y(0) = 1, \\;\\; a > 0, \\;\\; \\forall t \\tag{1}\n",
    "$$\n",
    "tiene la solución analítica: $y(t) = e^{-at}$ la cual se puede aproximar mediante el siguiente algoritmo:\n",
    "\n",
    "---\n",
    "1. Condición inicial:\n",
    "$$y_0 = 1.0$$\n",
    "\n",
    "2. Para $n=0,1,2, \\dots, N$, evaluar:\n",
    "$$\n",
    "y_{n+1} = (1 - a \\delta t ) y_n \\tag{2}\n",
    "$$\n",
    "--- \n",
    "En la siguiente celda de código, completa el algoritmo con lo siguiente:\n",
    "\n",
    "<ul>\n",
    "<li> El cálculo de la solución exacta.</li>\n",
    "<li> La inicialización de la condición inicial.</li>\n",
    "<li> El ciclo para evaluar la relación de recurrencia descrita en $(2)$.</li>\n",
    "<li> El cálculo del error absoluto.</li>\n",
    "</ul>\n",
    "\n",
    "Ejecuta la función para: $a = 0.5$ y $\\delta t = 0.2$ y checa que tu resultado sea correcto.\n",
    "</li>\n",
    "</ol>\n",
    "</font>\n"
   ]
  },
  {
   "cell_type": "code",
   "execution_count": null,
   "metadata": {
    "nbgrader": {
     "grade": false,
     "grade_id": "cell-ca835c7cc1d3a5f2",
     "locked": false,
     "schema_version": 3,
     "solution": true,
     "task": false
    },
    "tags": []
   },
   "outputs": [],
   "source": [
    "def ode_num(a, dt, sol = True):\n",
    "    t = np.arange(0.0, 10.0, dt)\n",
    "    N = len(t)\n",
    "    yn = np.zeros(N)\n",
    "    er = np.zeros(N)\n",
    "\n",
    "    ### BEGIN SOLUTION\n",
    "    y = np.exp(-a * t)\n",
    "    yn[0] = 1.0\n",
    "    for i in range(1,N):\n",
    "        yn[i] = (1 - a * dt) * yn[i-1]\n",
    "        er[i] = np.abs(y[i] - yn[i])\n",
    "    ### END SOLUTION\n",
    "    # y = ...\n",
    "    # yn[0] = ...\n",
    "    # for i in range( ...):\n",
    "    #     ...\n",
    "    \n",
    "    # Graficación\n",
    "    vis = mvis.Plotter(1,2,[dict(title = \"$y(t) = e^{-at}$\", xlabel='$t$'),\n",
    "                           dict(title=\"Error\", xlabel='$t$')], \n",
    "                       dict(figsize=(10,4)))\n",
    "\n",
    "    vis.plot(1, t, y,  marker='o', alpha=0.75, label='Exacta')\n",
    "    vis.plot(1, t, yn, marker='s', alpha=0.75, label='Numérica')\n",
    "    vis.plot(2, t, er, marker='o', color='C2', label='Error absoluto')\n",
    "\n",
    "    vis.figtitle('Solución para $a$ = {}'.format(a))\n",
    "    vis.grid()\n",
    "    vis.legend()\n",
    "    vis.show()\n",
    "    \n",
    "    if sol:\n",
    "        return y, yn, er"
   ]
  },
  {
   "cell_type": "code",
   "execution_count": null,
   "metadata": {
    "nbgrader": {
     "grade": false,
     "grade_id": "cell-f2a15c5fd375137c",
     "locked": false,
     "schema_version": 3,
     "solution": true,
     "task": false
    },
    "tags": []
   },
   "outputs": [],
   "source": [
    "### BEGIN SOLUTION\n",
    "y_exa, y_num, error = ode_num(0.5, 0.2)\n",
    "\n",
    "#file_answer.write(\"1A\", y_exa, \"Revisa la implementación de la solución exacta.\")\n",
    "#file_answer.write(\"1B\", y_num, \"Revisa la implementación del algoritmo.\")\n",
    "#file_answer.write(\"1C\", error, \"Revisa la implementación del cálculo del error.\")\n",
    "### END SOLUTION\n",
    "# y_exa, y_num, error = ..."
   ]
  },
  {
   "cell_type": "code",
   "execution_count": null,
   "metadata": {
    "nbgrader": {
     "grade": true,
     "grade_id": "cell-1c3093d4af830885",
     "locked": true,
     "points": 3,
     "schema_version": 3,
     "solution": false,
     "task": false
    },
    "tags": []
   },
   "outputs": [],
   "source": [
    "quizz.eval_numeric(\"1A\", y_exa)\n",
    "quizz.eval_numeric(\"1B\", y_num)\n",
    "quizz.eval_numeric(\"1C\", error)"
   ]
  },
  {
   "cell_type": "markdown",
   "metadata": {
    "nbgrader": {
     "grade": false,
     "grade_id": "cell-1345fd69ae3441aa",
     "locked": true,
     "schema_version": 3,
     "solution": false,
     "task": false
    },
    "tags": []
   },
   "source": [
    "<font color=\"DarkBlue\">\n",
    "<ol start=\"2\">\n",
    "<li> Construye un interactivo usando la función <b>ode_num()</b> y responde lo siguiente:\n",
    "\n",
    "<ol>\n",
    "<li> Para $a=1.0$, ¿cuál es valor máximo de $\\delta t$ con el que se obtienen solo valores positivos en la solución numérica?(1.0)</li> \n",
    "<li> Para $a=1.0$, $\\delta t = 2.0$ ¿cuáles son los valores máximo y mínimo que toma la solución numérica? Proporciona tu respuesta en forma de lista: [max, min].(1, -1)</li> \n",
    "<li> Para $a=4.0$, ¿cuál es valor de $\\delta t$ que produce una solución numérica que solo toma los valores $1$ y $-1$? (0.5)</li>\n",
    "<li> Para $a=4.0$, ¿cuál es valor máximo de $\\delta t$ que produce una solución numérica que oscila pero que va dismuyendo y al final converge a la solución exacta? (0.4)</li>\n",
    "<li> Para $a=4.0$, ¿a partir de que valor de $\\delta t$ el error absoluto comienza a crecer exponencialmente y sin control? (0.6) </li>\n",
    "<li> Para $a=5.0$, ¿cuál es el error máximo que se obtiene con $\\delta t = 2.0$? (6561.0) ()</li>\n",
    "<li> Para $a=2.50$, ¿cuál es el valor mínimo de la solución numérica que se obtiene con $\\delta t = 1.0$ redondeado a tres decimales? (-17.0859375)</li>\n",
    "</ol>\n",
    "\n",
    "<b>Hint</b>: para responder las últimas dos preguntas utiliza el argumento <b>sol = widgets.fixed(True)</b> en el interactivo y obtendrás los valores de $y$, $yn$ y $error$ al final del interactivo.\n",
    "</li>\n",
    "</ol>\n",
    "</font>"
   ]
  },
  {
   "cell_type": "code",
   "execution_count": null,
   "metadata": {
    "nbgrader": {
     "grade": false,
     "grade_id": "cell-27c3d507407d95ce",
     "locked": false,
     "schema_version": 3,
     "solution": true,
     "task": false
    },
    "tags": []
   },
   "outputs": [],
   "source": [
    "### BEGIN SOLUTION\n",
    "w = widgets.interact(ode_num,          \n",
    "                     a = widgets.FloatSlider(min=1, max=5, step=0.5, value=1, description=\"$a$\"),\n",
    "                     dt = widgets.FloatSlider(min=0.1, max=2.0, step=0.1, value=0.5, description=\"$\\delta t$\"),\n",
    "                     sol = widgets.fixed(False))\n",
    "### END SOLUTION\n",
    "# w = widgets.interact( ... )\n",
    "\n",
    "display(w)"
   ]
  },
  {
   "cell_type": "code",
   "execution_count": null,
   "metadata": {
    "nbgrader": {
     "grade": false,
     "grade_id": "cell-d0b3ba58fa40d9a1",
     "locked": false,
     "schema_version": 3,
     "solution": true,
     "task": false
    },
    "tags": []
   },
   "outputs": [],
   "source": [
    "### BEGIN SOLUTION\n",
    "respuesta_2_A = 1.0\n",
    "respuesta_2_B = [1.0, -1.0]\n",
    "respuesta_2_C = 0.5\n",
    "respuesta_2_D = 0.4\n",
    "respuesta_2_E = 0.6\n",
    "respuesta_2_F = 6561.0\n",
    "respuesta_2_G = -17.086\n",
    "\n",
    "#file_answer.write(\"2A\", respuesta_2_A, \"Asegura que a = 1.00, y checa los valores de la gráfica naranja.\")\n",
    "#file_answer.write(\"2B\", respuesta_2_B, \"Proporciona tu respuesta en forma de lista: [max, min], usa flotantes para max y min.\")\n",
    "#file_answer.write(\"2C\", respuesta_2_C, \"Asegura que a = 4.00\")\n",
    "#file_answer.write(\"2D\", respuesta_2_D, \"Asegura que a = 4.00\")\n",
    "#file_answer.write(\"2E\", respuesta_2_E, \"Asegura que a = 4.00\")\n",
    "#file_answer.write(\"2F\", respuesta_2_F, \"Asegura que a = 5.00, usa flotantes en tu respuesta.\")\n",
    "#file_answer.write(\"2G\", respuesta_2_G, \"Asegura que a = 2.50, realiza el redondeo a tres decimales.\")\n",
    "### END SOLUTION\n",
    "# respuesta_2_A = ...\n",
    "# respuesta_2_B = ...\n",
    "# etc. ..."
   ]
  },
  {
   "cell_type": "code",
   "execution_count": null,
   "metadata": {
    "nbgrader": {
     "grade": true,
     "grade_id": "cell-2fb6ffbaf99b07d9",
     "locked": true,
     "points": 1,
     "schema_version": 3,
     "solution": false,
     "task": false
    },
    "tags": []
   },
   "outputs": [],
   "source": [
    "quizz.eval_numeric(\"2A\", respuesta_2_A)"
   ]
  },
  {
   "cell_type": "code",
   "execution_count": null,
   "metadata": {
    "nbgrader": {
     "grade": true,
     "grade_id": "cell-48510a12c70c562f",
     "locked": true,
     "points": 1,
     "schema_version": 3,
     "solution": false,
     "task": false
    },
    "tags": []
   },
   "outputs": [],
   "source": [
    "quizz.eval_numeric(\"2B\", respuesta_2_B)"
   ]
  },
  {
   "cell_type": "code",
   "execution_count": null,
   "metadata": {
    "nbgrader": {
     "grade": true,
     "grade_id": "cell-dedbc48048c33e3e",
     "locked": true,
     "points": 1,
     "schema_version": 3,
     "solution": false,
     "task": false
    },
    "tags": []
   },
   "outputs": [],
   "source": [
    "quizz.eval_numeric(\"2C\", respuesta_2_C)"
   ]
  },
  {
   "cell_type": "code",
   "execution_count": null,
   "metadata": {
    "nbgrader": {
     "grade": true,
     "grade_id": "cell-78debb7060159d13",
     "locked": true,
     "points": 1,
     "schema_version": 3,
     "solution": false,
     "task": false
    },
    "tags": []
   },
   "outputs": [],
   "source": [
    "quizz.eval_numeric(\"2D\", respuesta_2_D)"
   ]
  },
  {
   "cell_type": "code",
   "execution_count": null,
   "metadata": {
    "nbgrader": {
     "grade": true,
     "grade_id": "cell-3c72e8eaec4cfe5a",
     "locked": true,
     "points": 1,
     "schema_version": 3,
     "solution": false,
     "task": false
    },
    "tags": []
   },
   "outputs": [],
   "source": [
    "quizz.eval_numeric(\"2E\", respuesta_2_E)"
   ]
  },
  {
   "cell_type": "code",
   "execution_count": null,
   "metadata": {
    "nbgrader": {
     "grade": true,
     "grade_id": "cell-038ed2a517e554c8",
     "locked": true,
     "points": 1,
     "schema_version": 3,
     "solution": false,
     "task": false
    },
    "tags": []
   },
   "outputs": [],
   "source": [
    "quizz.eval_numeric(\"2F\", respuesta_2_F)"
   ]
  },
  {
   "cell_type": "code",
   "execution_count": null,
   "metadata": {
    "nbgrader": {
     "grade": true,
     "grade_id": "cell-2a0b79da869cdb4c",
     "locked": true,
     "points": 1,
     "schema_version": 3,
     "solution": false,
     "task": false
    },
    "tags": []
   },
   "outputs": [],
   "source": [
    "quizz.eval_numeric(\"2G\", respuesta_2_G)"
   ]
  },
  {
   "cell_type": "code",
   "execution_count": null,
   "metadata": {
    "tags": []
   },
   "outputs": [],
   "source": [
    "#file_answer.to_file(\"2\")"
   ]
  },
  {
   "cell_type": "code",
   "execution_count": null,
   "metadata": {},
   "outputs": [],
   "source": []
  }
 ],
 "metadata": {
  "kernelspec": {
   "display_name": "Python 3 (ipykernel)",
   "language": "python",
   "name": "python3"
  },
  "language_info": {
   "codemirror_mode": {
    "name": "ipython",
    "version": 3
   },
   "file_extension": ".py",
   "mimetype": "text/x-python",
   "name": "python",
   "nbconvert_exporter": "python",
   "pygments_lexer": "ipython3",
   "version": "3.11.6"
  }
 },
 "nbformat": 4,
 "nbformat_minor": 4
}
