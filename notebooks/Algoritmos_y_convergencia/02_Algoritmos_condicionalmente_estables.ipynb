{
 "cells": [
  {
   "cell_type": "markdown",
   "metadata": {},
   "source": [
    "# Algoritmos condicionalmente estables.\n",
    "\n",
    "**Objetivo general.**\n",
    "- Entender e implementar un algoritmo para resolver una ecuación diferencial ordinaria.\n",
    "- Entender qué es lo que se requiere para que un algoritmo sea estable."
   ]
  },
  {
   "cell_type": "code",
   "execution_count": null,
   "metadata": {},
   "outputs": [],
   "source": [
    "import sympy\n",
    "import numpy as np\n",
    "import pandas as pd\n",
    "import ipywidgets as widgets\n",
    "import matplotlib.pyplot as plt\n",
    "\n",
    "import macti.visual as mvis"
   ]
  },
  {
   "cell_type": "markdown",
   "metadata": {},
   "source": [
    "## Ecuación diferencial ordinaria.\n",
    "\n",
    "La siguiente Ecuación Diferencial Ordinaria (ODE, por sus siglas en inglés)\n",
    "$$\n",
    "\\frac{d y(t)}{dt} = -a y(t), \\;\\; y(0) = 1, \\;\\; a > 0, \\;\\; \\forall t \\tag{1}\n",
    "$$\n",
    "tiene solución analítica: $y(t) = e^{-at}$. \n",
    "\n",
    "---\n",
    "La ecuación $(1)$ expresa el [decaimiento exponencial](https://es.wikipedia.org/wiki/Decaimiento_exponencial) de una cantidad representada por $y(t)$. Esta cantidad disminuye a una tasa proporcional con respecto a su valor actual. El valor $a$ es una tasa positiva llamada constante de decaimiento exponencial.\n",
    "\n",
    "---\n",
    "\n",
    "Veamos cómo se ve esta solución para diferentes valores de $a$:"
   ]
  },
  {
   "cell_type": "code",
   "execution_count": null,
   "metadata": {},
   "outputs": [],
   "source": [
    "def exacta(a, t):\n",
    "    \"\"\"\n",
    "    Solución exacta: y(t) = exp(-a*t)\n",
    "    \n",
    "    Parameters\n",
    "    ----------\n",
    "    a: float\n",
    "    Constante de decaimiento exponencial.\n",
    "    \n",
    "    t: ndarray\n",
    "    Arreglo con los puntos donde se evalúa la solución.\n",
    "    \n",
    "    Returns\n",
    "    -------\n",
    "    Valores calculados de la solución exacta.\n",
    "    \"\"\"\n",
    "    return np.exp(-a * t)"
   ]
  },
  {
   "cell_type": "code",
   "execution_count": null,
   "metadata": {},
   "outputs": [],
   "source": [
    "vis = mvis.Plotter(1,1,[dict(title = \"$y(t) = e^{-at}$\", xlabel='$t$')])\n",
    "    \n",
    "t = np.linspace(0,10,100) # Nos limitamos a valores positivos\n",
    "\n",
    "for i in range(1,10):\n",
    "    a = i * 0.25\n",
    "    vis.plot(1, t, exacta(a, t), label='$a$ = {}'.format(a))\n",
    "\n",
    "vis.grid()\n",
    "vis.legend()\n",
    "plt.show()"
   ]
  },
  {
   "cell_type": "markdown",
   "metadata": {},
   "source": [
    "## Aproximación de la solución.\n",
    "\n",
    "Sea $y(t)$ la solución exacta de la ecuación $(1)$, entonces: \n",
    "* Definimos $y_n \\approx y(t_n)$ como la solución numérica aproximada en $t_n = n \\delta t$ para $n=0,1,2,\\dots, N$ y $\\delta t$ un paso de tiempo.\n",
    "\n",
    "* Aproximamos la derivada de la ecuación $(1)$ como sigue:\n",
    "$$\n",
    "\\frac{y_{n+1}-y_n}{\\delta t} = -a y_n, \\,\\,\\,\\,\\, y_0 = 1\n",
    "$$\n",
    "\n",
    "* Despejamos $y_{n+1}$ para obtener la relación de recurrencia:\n",
    "$$\n",
    "y_{n+1} = (1 - a \\delta t ) y_n \\quad \\text{ para } n=0,1,2,\\dots, N\n",
    "$$\n",
    "\n",
    "Entonces, un algoritmo numérico para aproximar la solución de la ecuación $(1)$ es el siguiente:\n",
    "\n",
    "1. Condición inicial:\n",
    "$$y_0 = \\alpha$$\n",
    "\n",
    "2. Para $n=0,1,2, \\dots, N$, evaluar:\n",
    "$$\n",
    "y_{n+1} = (1 - a \\delta t ) y_n\n",
    "$$"
   ]
  },
  {
   "cell_type": "code",
   "execution_count": null,
   "metadata": {},
   "outputs": [],
   "source": [
    "# Parámetro físicos del problema\n",
    "a = 1.0      # Constante de decaimiento exponencial\n",
    "t_max = 10.0 # Tiempo máximo de la solución\n",
    "\n",
    "# Parámetros numéricos\n",
    "dt = 0.1\n",
    "N = int(t_max/dt)\n",
    "\n",
    "# Arreglo para el cálculo de la solución.\n",
    "tn = np.arange(0, t_max, dt)\n",
    "\n",
    "# Solución exacta\n",
    "y = exacta(a, tn)\n",
    "\n",
    "# Arreglo para la solución numérica\n",
    "yn = np.zeros(N)\n",
    "\n",
    "# Arreglo para almacenar el error absoluto\n",
    "er = np.zeros(N)\n",
    "\n",
    "# Condición inicial.\n",
    "yn[0] = 1.0\n",
    "\n",
    "# Algoritmo numérico\n",
    "for i in range(1,N):\n",
    "    yn[i] = (1 - a * dt) * yn[i-1]\n",
    "    er[i] = np.abs(y[i] - yn[i])\n",
    "\n",
    "_ = [print('y[{0:>2}] = {1:>0.14f} yn[{0:>2}] = {2:>0.14f} er[{0:>2}] = {3:>0.14f}'.format(i,y[i],yn[i],er[i])) for i in range(N)]"
   ]
  },
  {
   "cell_type": "code",
   "execution_count": null,
   "metadata": {},
   "outputs": [],
   "source": [
    "vis = mvis.Plotter(1,2,[dict(title = \"$y(t) = e^{-at}$\", xlabel='$t$'),\n",
    "                       dict(title=\"Error\", xlabel='$t$')], \n",
    "                   dict(figsize=(10,4)))\n",
    "    \n",
    "vis.plot(1, tn, y,  marker='o', alpha=0.75, label='Exacta')\n",
    "vis.plot(1, tn, yn, marker='s', alpha=0.75, label='Numérica')\n",
    "vis.plot(2, tn, er, marker='o', color='C2', label='Error absoluto')\n",
    "\n",
    "vis.figtitle('Solución para $a$ = {}'.format(a))\n",
    "vis.grid()\n",
    "vis.legend()\n",
    "plt.show()"
   ]
  },
  {
   "cell_type": "code",
   "execution_count": null,
   "metadata": {},
   "outputs": [],
   "source": []
  }
 ],
 "metadata": {
  "kernelspec": {
   "display_name": "Python 3 (ipykernel)",
   "language": "python",
   "name": "python3"
  },
  "language_info": {
   "codemirror_mode": {
    "name": "ipython",
    "version": 3
   },
   "file_extension": ".py",
   "mimetype": "text/x-python",
   "name": "python",
   "nbconvert_exporter": "python",
   "pygments_lexer": "ipython3",
   "version": "3.10.10"
  }
 },
 "nbformat": 4,
 "nbformat_minor": 4
}
