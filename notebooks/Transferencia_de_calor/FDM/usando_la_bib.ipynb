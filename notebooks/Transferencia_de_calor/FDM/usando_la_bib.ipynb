{
 "cells": [
  {
   "cell_type": "code",
   "execution_count": null,
   "id": "10a332be-3c48-43b0-b262-2dd29e5581bc",
   "metadata": {},
   "outputs": [],
   "source": [
    "import numpy as np\n",
    "import matplotlib.pyplot as plt\n",
    "import hecompa_FD2D as fd2\n",
    "\n",
    "# TODO: hacer este cambio en macti.visual\n",
    "plt.rcParams['axes.grid'] = False"
   ]
  },
  {
   "cell_type": "code",
   "execution_count": null,
   "id": "a7e6595b-4fda-4533-9b06-1605f56b77fa",
   "metadata": {},
   "outputs": [],
   "source": [
    "# Tamaño del dominio\n",
    "Lx = 2.0\n",
    "Ly = 1.0\n",
    "\n",
    "# Número de nodos en cada eje\n",
    "Nx = 9\n",
    "Ny = 4\n",
    "\n",
    "# Tamaño de la malla en cada dirección\n",
    "hx = Lx / (Nx+1)\n",
    "hy = Ly / (Ny+1)\n",
    "\n",
    "print('hx = {}, hy = {}'.format(hx, hy))\n",
    "\n",
    "# Número total de nodos incluyendo las fronteras\n",
    "NxT = Nx + 2\n",
    "NyT = Ny + 2\n",
    "\n",
    "# Coordenadas de la malla\n",
    "xn = np.linspace(0,Lx,NxT)\n",
    "yn = np.linspace(0,Ly,NyT)\n",
    "\n",
    "print('Total de nodos en x = {}, en y = {}'.format(NxT, NyT))\n",
    "print('Coordenadas en x : {}'.format(xn))\n",
    "print('Coordenadas en y : {}'.format(yn))\n",
    "\n",
    "# Generación de una rejilla\n",
    "xg, yg = np.meshgrid(xn, yn, indexing='ij')\n",
    "\n",
    "# Definición de un campo escalar en cada punto de la malla\n",
    "T = np.zeros((NxT, NyT))\n",
    "\n",
    "# Asignamos un valor a cada entrada del arreglo\n",
    "for i in range(NxT):\n",
    "    for j in range(NyT):\n",
    "        T[i,j] = np.sin(i*j)\n",
    "        \n",
    "# Definición del campo vectorial (en este caso dos valores por nodo)\n",
    "v = np.zeros((2, NxT, NyT))\n",
    "\n",
    "# Creamos un campo vectorial con las siguientes fórmulas\n",
    "A = 1.0\n",
    "alpha_x = 1.0\n",
    "alpha_y = 1.0\n",
    "v[0] = -A * np.cos(np.pi * alpha_y * yg / Ly) * np.sin(np.pi * alpha_x * xg / Lx)\n",
    "v[1] =  A * np.sin(np.pi * alpha_y * yg / Ly) * np.cos(np.pi * alpha_x * xg / Lx)"
   ]
  },
  {
   "cell_type": "code",
   "execution_count": null,
   "id": "f9c80b1e-c7a6-459a-b9e2-94c909c5cd56",
   "metadata": {},
   "outputs": [],
   "source": [
    "# Creación de tres gráficas\n",
    "fig, ax = plt.subplots(3,1, figsize=(10,10))\n",
    "\n",
    "# Primera gráfica: la malla\n",
    "cax0 = fd2.set_canvas(ax[0], Lx, Ly)\n",
    "hvis.plot_mesh(ax[0], xg, yg)\n",
    "\n",
    "# Segunda gráfica: campo escalar T\n",
    "cax1 = fd2.set_canvas(ax[1], Lx, Ly)\n",
    "cu = ax[1].contourf(xg, yg, T, levels=50, cmap='inferno')\n",
    "fig.colorbar(cu, cax=cax1, ticks=[-0.9, 0.0, 0.9], orientation='vertical')\n",
    "\n",
    "# Tercera gráfica: campo vectorial V\n",
    "cax2 = fd2.set_canvas(ax[2], Lx, Ly)\n",
    "cu = ax[2].quiver(xg, yg, v[0], v[1])\n",
    "hvis.plot_frame(ax[2],xn,yn)\n",
    "\n",
    "plt.show()"
   ]
  },
  {
   "cell_type": "code",
   "execution_count": null,
   "id": "06cb9ca1-5fd9-48cd-b93f-bfc4e2ff9186",
   "metadata": {},
   "outputs": [],
   "source": []
  }
 ],
 "metadata": {
  "kernelspec": {
   "display_name": "Python 3 (ipykernel)",
   "language": "python",
   "name": "python3"
  },
  "language_info": {
   "codemirror_mode": {
    "name": "ipython",
    "version": 3
   },
   "file_extension": ".py",
   "mimetype": "text/x-python",
   "name": "python",
   "nbconvert_exporter": "python",
   "pygments_lexer": "ipython3",
   "version": "3.9.7"
  }
 },
 "nbformat": 4,
 "nbformat_minor": 5
}
