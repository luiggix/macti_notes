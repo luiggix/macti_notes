{
 "cells": [
  {
   "cell_type": "markdown",
   "metadata": {},
   "source": [
    "# Conducción de calor en 2D: <font color=green>Caso estacionario</font>\n",
    "\n",
    "**Trabajo realizado con el apoyo del Programa UNAM-DGAPA-PAPIME PE101019**\n",
    "\n",
    "*   Autores: \n",
    "    - Luis M. de la Cruz Salas\n",
    "*   Rev: mié 12 may 2021 16:13:28 CDT"
   ]
  },
  {
   "cell_type": "markdown",
   "metadata": {},
   "source": [
    "<img src=\"./Figuras/conceptualCOMPLETO.png\" style=\"width: 300px;\"/>\n",
    "\n",
    "<div>\n",
    " <img src=\"./Figuras/condCalor2D.png\"  hspace=\"5\" vspace=\"5\" style=\"float: right; width:150px\"/>\n",
    "    Estudiar la conducción de calor en una placa en dos dimensiones, como la que se muestra en la figura. La lontitud vertical de la placa es el doble que la longitud horizontal: $Ly = 2Lx$.\n",
    "    Las condiciones de frontera son de tipo Dirichlet, es decir, la temperatura está dada en las paredes de la placa.\n",
    "    En la figura se distingue $T_L, T_R, T_T$ y $T_B$ que corresponden a las temperaturas dadas en las paredes izquierda (LEFT), derecha (RIGHT), arriba (TOP) y abajo (BOTTOM), respectivamente. En este ejemplo tenemos los siguiente valores:\n",
    "    \n",
    "$$ \n",
    "T_L = 0, \\qquad T_R = 0, \\qquad T_B = 0, \\qquad T_T = 1 \n",
    "$$\n",
    "\n",
    "La conductividad $\\kappa$ se considera constante y no hay dependencia temporal.\n",
    "</div>"
   ]
  },
  {
   "cell_type": "markdown",
   "metadata": {},
   "source": [
    "<img src=\"./Figuras/matematicoCOMPLETO.png\" style=\"width: 300px;\"/>\n",
    "\n",
    "El modelo matemático de este problema consiste de la siguiente ecuación diferencial parcial:\n",
    "\n",
    "$$\n",
    "\\dfrac{\\partial}{\\partial x} \\left(\\kappa \\dfrac{\\partial T}{\\partial x}\\right) + \\dfrac{\\partial}{\\partial y} \\left(\\kappa \\dfrac{\\partial T}{\\partial y}\\right) = 0\n",
    "$$"
   ]
  },
  {
   "cell_type": "markdown",
   "metadata": {},
   "source": [
    "<img src=\"./Figuras/numericoCOMPLETO.png\" style=\"width: 300px;\"/>\n",
    "\n",
    "En este ejemplo haremos la solución de manera implícita y con el método de volumen finito (FVM, por sus siglas en inglés).\n"
   ]
  },
  {
   "cell_type": "markdown",
   "metadata": {},
   "source": [
    "<img src=\"./Figuras/computacionalCOMPLETO.png\" style=\"width: 450px;\"/>"
   ]
  },
  {
   "cell_type": "code",
   "execution_count": 1,
   "metadata": {
    "tags": []
   },
   "outputs": [],
   "source": [
    "#-----------------------------------------------------------\n",
    "# Ruta absoluta de PyNoxtli\n",
    "#\n",
    "#import os, sys\n",
    "#sys.path.insert(0, os.path.abspath('../../base'))\n",
    "#-----------------------------------------------------------\n",
    "#\n",
    "# Módulos de numpy\n",
    "#\n",
    "import numpy as np\n",
    "#\n",
    "# Módulos necesarios de PyNoxtli\n",
    "#\n",
    "from macti.PyNoxtli.geo.rectangle import Rectangle\n",
    "from macti.PyNoxtli.fvm.sDiffusion import sDiffusion2D\n",
    "from macti.PyNoxtli.fvm.pde import PDE\n",
    "from macti.PyNoxtli.utils.displayInfo import printInfo\n",
    "#import macti.PyNoxtli.vis.flowix as flx\n",
    "import macti.visual as mvis\n",
    "# Si tienes instalado LaTeX, lo siguiente hace los textos \n",
    "# más estilizados. Si no tienes LaTeX, debes comentar la \n",
    "# línea: 'text.usetex': True\n",
    "import matplotlib.pyplot as plt\n",
    "# Parámetros para el estilo de las gráficas\n",
    "#params = {\n",
    "#          'text.usetex'    : True,\n",
    "#          'font.family': 'DejaVu Serif',\n",
    "#         }\n",
    "#plt.rcParams.update(params)"
   ]
  },
  {
   "cell_type": "code",
   "execution_count": 15,
   "metadata": {
    "tags": []
   },
   "outputs": [],
   "source": [
    "#\n",
    "# Propiedades físicas y geométricas del dominio\n",
    "#\n",
    "Lx = 1.0 # meters\n",
    "Ly = 2.0\n",
    "TL = 0 # °C \n",
    "TR = 0 # °C\n",
    "TB = 0 # °C\n",
    "TT = 1 # °C\n",
    "k  = 1 # W/m.K\n",
    "Nx = 5 # Número de nodos\n",
    "Ny = 9"
   ]
  },
  {
   "cell_type": "code",
   "execution_count": 16,
   "metadata": {
    "tags": []
   },
   "outputs": [],
   "source": [
    "#\n",
    "# Definición del dominio y condiciones de frontera\n",
    "placa = Rectangle(Lx, Ly)\n",
    "placa.boundaryConditions(dirichlet = {'LEFT':TL, 'RIGHT':TR, 'BOTTOM':TB, 'TOP':TT})\n",
    "#\n",
    "# Creación de la malla\n",
    "#\n",
    "malla     = placa.constructMesh(Nx, Ny) # Se construye la malla del dominio\n",
    "ivx, ivy, _ = malla.bounds(bi = 1, ei = Nx-1,\n",
    "                           bj = 1, ej = Ny-1) # Grados de libertad\n",
    "nx  = malla.nx    # Número de nodos\n",
    "ny  = malla.ny    # Número de nodos\n",
    "nvx = malla.vx    # Número de volúmenes\n",
    "nvy = malla.vy    # Número de volúmenes\n",
    "dx  = malla.dx    # Tamaño de los volúmenes\n",
    "dy  = malla.dy    # Tamaño de los volúmenes\n",
    "#\n",
    "# Arreglo para almacenar la solución\n",
    "T = np.zeros((nvy+2, nvx+2)) # El arreglo contiene ceros\n",
    "T[-1,:] = TT      # Condición de frontera pared superior\n",
    "T[0,:] = TB      # Condición de frontera pared inferior\n",
    "T[:,0] = TL      # Condición de frontera pared izquierda\n",
    "T[:,-1] = TR      # Condición de frontera pared derecha"
   ]
  },
  {
   "cell_type": "code",
   "execution_count": 17,
   "metadata": {
    "tags": []
   },
   "outputs": [
    {
     "name": "stdout",
     "output_type": "stream",
     "text": [
      ".--------------------------------------------------------------------------------.\n",
      "|              PyNoxtli : Ver. 1.0, LMCS-2021, [GNU GPL License V3]              |\n",
      ".--------------------------------------------------------------------------------.\n",
      "|     Longitud_x = 1.000000000000000e+00                                         |\n",
      "|     Longitud_y = 2.000000000000000e+00                                         |\n",
      "|    TL_TR_TT_TB = (0, 0, 1, 0)                                                  |\n",
      "|  Conductividad =     1                                                         |\n",
      "|          Nodos =   (5, 9)                                                      |\n",
      "|      Volúmenes =   (4, 8)                                                      |\n",
      "|         Deltas = (0.25, 0.25)                                                  |\n",
      "|          Inner =   (4, 8)                                                      |\n",
      ".--------------------------------------------------------------------------------.\n"
     ]
    }
   ],
   "source": [
    "#\n",
    "# Impresión de los datos del problema\n",
    "#\n",
    "printInfo(Longitud_x = Lx,\n",
    "          Longitud_y = Ly,\n",
    "          TL_TR_TT_TB = (TL, TR, TT, TB),\n",
    "          Conductividad = k,\n",
    "          Nodos = (nx,ny),\n",
    "          Volúmenes = (nvx,nvy),\n",
    "          Deltas = (dx,dy),\n",
    "          Inner = (ivx, ivy))"
   ]
  },
  {
   "cell_type": "code",
   "execution_count": 18,
   "metadata": {
    "tags": []
   },
   "outputs": [
    {
     "name": "stdout",
     "output_type": "stream",
     "text": [
      "Solución:\n",
      "[[0.00000000e+00 0.00000000e+00 0.00000000e+00 0.00000000e+00\n",
      "  0.00000000e+00 0.00000000e+00]\n",
      " [0.00000000e+00 9.02771798e-04 2.17596863e-03 2.17596863e-03\n",
      "  9.02771798e-04 0.00000000e+00]\n",
      " [0.00000000e+00 3.24058335e-03 7.80100122e-03 7.80100122e-03\n",
      "  3.24058335e-03 0.00000000e+00]\n",
      " [0.00000000e+00 7.49895651e-03 1.79866590e-02 1.79866590e-02\n",
      "  7.49895651e-03 0.00000000e+00]\n",
      " [0.00000000e+00 1.62669037e-02 3.86602042e-02 3.86602042e-02\n",
      "  1.62669037e-02 0.00000000e+00]\n",
      " [0.00000000e+00 3.51744491e-02 8.17274046e-02 8.17274046e-02\n",
      "  3.51744491e-02 0.00000000e+00]\n",
      " [0.00000000e+00 7.78771022e-02 1.71348016e-01 1.71348016e-01\n",
      "  7.78771022e-02 0.00000000e+00]\n",
      " [0.00000000e+00 1.82862437e-01 3.54439675e-01 3.54439675e-01\n",
      "  1.82862437e-01 0.00000000e+00]\n",
      " [0.00000000e+00 4.81995197e-01 7.09108709e-01 7.09108709e-01\n",
      "  4.81995197e-01 0.00000000e+00]\n",
      " [0.00000000e+00 1.00000000e+00 1.00000000e+00 1.00000000e+00\n",
      "  1.00000000e+00 0.00000000e+00]]\n"
     ]
    }
   ],
   "source": [
    "#\n",
    "# Definición de la fuente \n",
    "#\n",
    "Su = np.zeros((ivy, ivx)) # Por ahora no hay fuente\n",
    "#\n",
    "# Definición del esquema de disccretización\n",
    "#\n",
    "dif_scheme = sDiffusion2D(malla, Su, Gamma = k)\n",
    "#\n",
    "# Definición de la ecuación a resolver\n",
    "#\n",
    "laplace = PDE(placa, T)\n",
    "#\n",
    "# Creación del sistema lineal y su solución\n",
    "#\n",
    "Su.shape = ivy * ivx\n",
    "laplace.setNumericalScheme(dif_scheme)\n",
    "sol = laplace.solve()\n",
    "print('Solución:\\n{}'.format(T))"
   ]
  },
  {
   "cell_type": "code",
   "execution_count": 33,
   "metadata": {},
   "outputs": [
    {
     "data": {
      "image/png": "[encoded data removed]",
      "text/plain": [
       "<Figure size 800x640 with 4 Axes>"
      ]
     },
     "metadata": {},
     "output_type": "display_data"
    }
   ],
   "source": [
    "x, y, _ = malla.coordinatesMeshFVM()\n",
    "# Generación de una rejilla\n",
    "xg, yg = np.meshgrid(x, y, indexing='ij')\n",
    "\n",
    "vis = mvis.Plotter(1,3,[dict(aspect='equal'), dict(aspect='equal'), dict(aspect='equal')],\n",
    "                  dict(figsize=(10,8)))\n",
    "\n",
    "vis.draw_domain(1, xg, yg)\n",
    "vis.plot_mesh2D(2, xg, yg, nodeson=True)\n",
    "vis.plot_frame(2, xg, yg)\n",
    "\n",
    "cax3 = vis.set_canvas(3,Lx,Ly)\n",
    "c = vis.contourf(3, xg, yg, T.T, levels=50, cmap='inferno')\n",
    "vis.fig.colorbar(c, cax=cax3, ticks = [T.min(), T.max()], shrink=0.5, orientation='vertical')\n",
    "vis.plot_mesh2D(3, xg, yg)"
   ]
  },
  {
   "cell_type": "code",
   "execution_count": 26,
   "metadata": {
    "tags": []
   },
   "outputs": [
    {
     "data": {
      "image/png": "[encoded data removed]",
      "text/plain": [
       "<Figure size 640x320 with 2 Axes>"
      ]
     },
     "metadata": {},
     "output_type": "display_data"
    }
   ],
   "source": [
    "#\n",
    "# Graficación de Temperatura vs posición\n",
    "#\n",
    "par2 = [{'title':'Corte en $x=0.5$', 'xlabel':'$y$ [m]', 'ylabel':'T [$^o$ C]', 'ylim':(0,1.1)},\n",
    "        {'title':'Corte en $y=0.75$', 'xlabel':'$x$ [m]', 'ylim':(0,1.1)}]   \n",
    "v2 = mvis.Plotter(1, 2, par2,{'figsize':(8,4)})\n",
    "v2.plot(1, y, T[:,2], ls='-', marker = 'o', c = 'C0')\n",
    "v2.plot(2, x, T[-2,:], ls = '-',marker = 'o', c = 'C1')\n",
    "v2.show()\n"
   ]
  },
  {
   "cell_type": "code",
   "execution_count": 34,
   "metadata": {},
   "outputs": [],
   "source": [
    "import numpy as np\n",
    "import matplotlib.pyplot as plt\n",
    "\n",
    "from macti.PyNoxtli.geo.rectangle import Rectangle\n",
    "from macti.PyNoxtli.fvm.sDiffusion import sDiffusion2D\n",
    "from macti.PyNoxtli.fvm.pde import PDE\n",
    "from macti.PyNoxtli.utils.displayInfo import printInfo\n",
    "import macti.visual as mvis"
   ]
  },
  {
   "cell_type": "code",
   "execution_count": 35,
   "metadata": {},
   "outputs": [],
   "source": [
    "def diffusion2D(Lx, Ly, Nx, Ny, TL, TR, TB, TT, k):\n",
    "    #\n",
    "    # Definición del dominio y condiciones de frontera\n",
    "    placa = Rectangle(Lx, Ly)\n",
    "    placa.boundaryConditions(dirichlet = {'LEFT':TL, 'RIGHT':TR, 'BOTTOM':TB, 'TOP':TT})\n",
    "    #\n",
    "    # Creación de la malla\n",
    "    #\n",
    "    malla     = placa.constructMesh(Nx, Ny) # Se construye la malla del dominio\n",
    "    ivx, ivy, _ = malla.bounds(bi = 1, ei = Nx-1,\n",
    "                               bj = 1, ej = Ny-1) # Grados de libertad\n",
    "    nx  = malla.nx    # Número de nodos\n",
    "    ny  = malla.ny    # Número de nodos\n",
    "    nvx = malla.vx    # Número de volúmenes\n",
    "    nvy = malla.vy    # Número de volúmenes\n",
    "    dx  = malla.dx    # Tamaño de los volúmenes\n",
    "    dy  = malla.dy    # Tamaño de los volúmenes\n",
    "    #\n",
    "    # Arreglo para almacenar la solución\n",
    "    T = np.zeros((nvy+2, nvx+2)) # El arreglo contiene ceros\n",
    "    T[-1,:] = TT      # Condición de frontera pared superior\n",
    "    T[0,:] = TB      # Condición de frontera pared inferior\n",
    "    T[:,0] = TL      # Condición de frontera pared izquierda\n",
    "    T[:,-1] = TR      # Condición de frontera pared derecha\n",
    "    #\n",
    "    # Definición de la fuente \n",
    "    #\n",
    "    Su = np.zeros((ivy, ivx)) # Por ahora no hay fuente\n",
    "    #\n",
    "    # Definición del esquema de disccretización\n",
    "    #\n",
    "    dif_scheme = sDiffusion2D(malla, Su, Gamma = k)\n",
    "    #\n",
    "    # Definición de la ecuación a resolver\n",
    "    #\n",
    "    laplace = PDE(placa, T)\n",
    "    #\n",
    "    # Creación del sistema lineal y su solución\n",
    "    #\n",
    "    Su.shape = ivy * ivx\n",
    "    laplace.setNumericalScheme(dif_scheme)\n",
    "    sol = laplace.solve()\n",
    "\n",
    "    x, y, _ = malla.coordinatesMeshFVM()\n",
    "    # Generación de una rejilla\n",
    "    xg, yg = np.meshgrid(x, y, indexing='ij')\n",
    "    \n",
    "    vis = mvis.Plotter(1,3,[dict(aspect='equal'), dict(aspect='equal'), dict(aspect='equal')],\n",
    "                      dict(figsize=(10,8)))\n",
    "    \n",
    "    vis.draw_domain(1, xg, yg)\n",
    "    vis.plot_mesh2D(2, xg, yg, nodeson=True)\n",
    "    vis.plot_frame(2, xg, yg)\n",
    "    \n",
    "    cax3 = vis.set_canvas(3,Lx,Ly)\n",
    "    c = vis.contourf(3, xg, yg, T.T, levels=50, cmap='inferno')\n",
    "    vis.fig.colorbar(c, cax=cax3, ticks = [T.min(), T.max()], shrink=0.5, orientation='vertical')\n",
    "    vis.plot_mesh2D(3, xg, yg)\n",
    "    vis.show()"
   ]
  },
  {
   "cell_type": "code",
   "execution_count": 36,
   "metadata": {},
   "outputs": [
    {
     "data": {
      "image/png": "[encoded data removed]",
      "text/plain": [
       "<Figure size 800x640 with 4 Axes>"
      ]
     },
     "metadata": {},
     "output_type": "display_data"
    }
   ],
   "source": [
    "Lx = 1.0 # meters\n",
    "Ly = 2.0\n",
    "TL = 0 # °C \n",
    "TR = 0 # °C\n",
    "TB = 0 # °C\n",
    "TT = 1 # °C\n",
    "k  = 1 # W/m.K\n",
    "Nx = 5 # Número de nodos\n",
    "Ny = 9\n",
    "\n",
    "diffusion2D(Lx, Ly, Nx, Ny, TL, TR, TB, TT, k)"
   ]
  },
  {
   "cell_type": "code",
   "execution_count": 39,
   "metadata": {},
   "outputs": [
    {
     "data": {
      "application/vnd.jupyter.widget-view+json": {
       "model_id": "9cda87055b80463581e8e14dab8e659c",
       "version_major": 2,
       "version_minor": 0
      },
      "text/plain": [
       "interactive(children=(FloatSlider(value=2.0, description='Lx', max=3.0, min=1.0, step=0.5), FloatSlider(value=…"
      ]
     },
     "metadata": {},
     "output_type": "display_data"
    },
    {
     "data": {
      "text/plain": [
       "<function __main__.diffusion2D(Lx, Ly, Nx, Ny, TL, TR, TB, TT, k)>"
      ]
     },
     "execution_count": 39,
     "metadata": {},
     "output_type": "execute_result"
    }
   ],
   "source": [
    "import ipywidgets as wd\n",
    "\n",
    "wd.interact(diffusion2D,\n",
    "            Lx = (1.0,3.0,0.5), Ly = (1.0,3.0,0.5), Nx = (5,10,1), Ny = (9,20,1),\n",
    "            TL = (0.0,1.0,0.5), TR = (0.0,1.0,0.5), TB = (0.0,1.0,0.5), TT = (0.0,1.0,0.5),\n",
    "            k = wd.fixed(1))"
   ]
  },
  {
   "cell_type": "code",
   "execution_count": null,
   "metadata": {},
   "outputs": [],
   "source": []
  }
 ],
 "metadata": {
  "kernelspec": {
   "display_name": "Python 3 (ipykernel)",
   "language": "python",
   "name": "python3"
  },
  "language_info": {
   "codemirror_mode": {
    "name": "ipython",
    "version": 3
   },
   "file_extension": ".py",
   "mimetype": "text/x-python",
   "name": "python",
   "nbconvert_exporter": "python",
   "pygments_lexer": "ipython3",
   "version": "3.11.5"
  }
 },
 "nbformat": 4,
 "nbformat_minor": 4
}
