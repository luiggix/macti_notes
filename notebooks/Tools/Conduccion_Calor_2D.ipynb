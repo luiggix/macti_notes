{
 "cells": [
  {
   "cell_type": "markdown",
   "id": "019f91df-8574-4dfa-bb8d-85ba1884527a",
   "metadata": {},
   "source": [
    "# Conducción de Calor en 2D\n",
    "\n",
    "**Objetivo General**\n",
    "- Resolver numérica y computacionalmente la ecuación de conducción de calor en dos dimensiones.\n",
    "\n",
    "**Objetivos particulares**\n",
    "- Definir los parámetros físicos y numéricos.\n",
    "- Definir la malla del dominio.\n",
    "- Definir la temperatura inicial junto con sus condiciones de frontera y graficarla sobre la malla.\n",
    "- Definir el sistema lineal y resolverlo.\n",
    "- Graficar la solución."
   ]
  },
  {
   "cell_type": "markdown",
   "id": "92c18d08-d40a-48ba-b5cf-1cb2ecb0df94",
   "metadata": {},
   "source": [
    "**Autor:** Luis Miguel de la Cruz Salas\n",
    "\n",
    "## Introducción.\n",
    "**Jean-Baptiste Joseph Fourier**\n",
    "fue un matemático y físico francés que ejerció una fuerte influencia en la ciencia a través de su trabajo *Théorie analytique de la chaleur*. En este trabajo mostró que es posible analizar la conducción de calor en cuerpos sólidos en términos de series matemáticas infinitas, las cuales ahora llevan su nombre: *Series de Fourier*. Fourier comenzó su trabajo en 1807, en Grenoble, y lo completó en París en 1822. Su trabajo le permitió expresar la conducción de calor en objetos bidimensionales (hojas muy delgadas de algún material) en términos de una ecuación diferencial:\n",
    "\n",
    "\n",
    "$$\n",
    "\\dfrac{\\partial u}{ \\partial t} = \\kappa \\left(\\dfrac{\\partial^2 u}{ \\partial x^2} + \\dfrac{\\partial^2 u}{ \\partial y^2}\\right) + S\n",
    "$$\n",
    "\n",
    "donde $u$ representa la temperatura en un instante de tiempo $t$ y en un punto $(x,y)$ del plano Cartesiano, $\\kappa$ es la conductividad del material y $S$ una fuente de calor.\n",
    "\n",
    "## Descripción de un caso en 2D.\n",
    "\n",
    "<div>\n",
    " <img src=\"./condCalor2D.png\"  hspace=\"5\" vspace=\"5\" style=\"float: right; width:150px\"/>\n",
    "    Cuando el problema es estacionario, es decir no hay cambios en el tiempo, y el dominio de estudio es una placa en dos dimensiones, como la que se muestra en la figura, podemos escribir el problema como sigue:\n",
    "\n",
    "$$\n",
    "- \\kappa \\left(\\dfrac{\\partial^2 u}{ \\partial x^2} + \\dfrac{\\partial^2 u}{ \\partial y^2}\\right) = S \\tag{1}\n",
    "$$\n",
    "    Podemos aplicar condiciones de frontera son de tipo Dirichlet o Neumanna en las paredes de la placa.\n",
    "    En la figura se distingue $T_L, T_R, T_T$ y $T_B$ que corresponden a las temperaturas dadas en las paredes izquierda (LEFT), derecha (RIGHT), arriba (TOP) y abajo (BOTTOM), respectivamente.\n",
    "</div>\n",
    "\n",
    "A la ecuación $(1)$ le podemos aplicar el método de diferencias finitas, de tal manera que obtendríamos un sistema de ecuaciones lineales como el siguiente:\n",
    "\n",
    "<center>\n",
    "<img src=\"./calor02.png\"  width='500px'/>\n",
    "</center>\n",
    "\n",
    "En general un sistema de ecuaciones lineales puede contener $n$ ecuaciones con $n$ incógnitas y se ve como sigue:\n",
    "\n",
    "$$\n",
    "A \\cdot \\mathbf{x} = \\mathbf{b} \\Longrightarrow\n",
    "\\left[\n",
    "\\begin{array}{ccccc}\n",
    "a_{00} & a_{01} & a_{02} & \\dots & a_{0n} \\\\\n",
    "a_{10} & a_{11} & a_{12} & \\dots & a_{1n} \\\\\n",
    "\\vdots & \\vdots & \\vdots & \\ddots & \\vdots \\\\\n",
    "a_{n1} & a_{n1} & a_{n2} & \\dots & a_{nn}\n",
    "\\end{array} \\right] \n",
    "\\left[\n",
    "\\begin{array}{cccc}\n",
    "x_{0} \\\\ x_{1} \\\\ \\vdots \\\\ x_{n}\n",
    "\\end{array} \\right] \n",
    "=\n",
    "\\left[\n",
    "\\begin{array}{c}\n",
    "b_0 \\\\ b_1 \\\\ \\vdots \\\\ b_{n}\n",
    "\\end{array}\n",
    "\\right]\n",
    "$$ \n",
    "\n",
    "El sistema se puede resolver usando diferentes tipos de métodos.\n"
   ]
  },
  {
   "cell_type": "code",
   "execution_count": 1,
   "id": "16a74c5d-fb61-4d81-a145-f0dbf3ab7f9d",
   "metadata": {
    "tags": []
   },
   "outputs": [],
   "source": [
    "import numpy as np\n",
    "import matplotlib.pyplot as plt\n",
    "import macti.visual as mvis"
   ]
  },
  {
   "cell_type": "markdown",
   "id": "8f3e18c6-152c-4a86-9fe6-482020e71c83",
   "metadata": {},
   "source": [
    "## Parámetros físicos y numéricos"
   ]
  },
  {
   "cell_type": "code",
   "execution_count": 2,
   "id": "09aa2236-baf0-4331-bbe6-16e7a153dd4b",
   "metadata": {
    "tags": []
   },
   "outputs": [],
   "source": [
    "# Tamaño del dominio\n",
    "Lx = 1.0\n",
    "Ly = 1.0\n",
    "k = 1.0\n",
    "# Número de nodos en cada eje\n",
    "Nx = 4\n",
    "Ny = 4\n",
    "\n",
    "# Número total de nodos en cada eje incluyendo las fronteras\n",
    "NxT = Nx + 2\n",
    "NyT = Ny + 2\n",
    "\n",
    "# Número total de nodos\n",
    "NT = NxT * NyT\n",
    "\n",
    "# Número total de incógnitas\n",
    "N = Nx * Ny\n",
    "\n",
    "# Tamaño de la malla en cada dirección\n",
    "hx = Lx / (Nx+1)\n",
    "hy = Ly / (Ny+1)\n",
    "\n",
    "# Coordenadas de la malla\n",
    "xn = np.linspace(0,Lx,NxT)\n",
    "yn = np.linspace(0,Ly,NyT)\n",
    "\n",
    "# Generación de una rejilla\n",
    "xg, yg = np.meshgrid(xn, yn, indexing='ij')"
   ]
  },
  {
   "cell_type": "code",
   "execution_count": 3,
   "id": "0d64c6a9-26eb-4044-bae4-ec3229d5d099",
   "metadata": {
    "tags": []
   },
   "outputs": [
    {
     "name": "stdout",
     "output_type": "stream",
     "text": [
      "Total de nodos en x = 6, en y = 6\n",
      "Total de incógnitas = 16\n",
      "Coordenadas en x : [0.  0.2 0.4 0.6 0.8 1. ]\n",
      "Coordenadas en y : [0.  0.2 0.4 0.6 0.8 1. ]\n",
      "hx = 0.2, hy = 0.2\n"
     ]
    }
   ],
   "source": [
    "print('Total de nodos en x = {}, en y = {}'.format(NxT, NyT))\n",
    "print('Total de incógnitas = {}'.format(N))\n",
    "print('Coordenadas en x : {}'.format(xn))\n",
    "print('Coordenadas en y : {}'.format(yn))\n",
    "print('hx = {}, hy = {}'.format(hx, hy))"
   ]
  },
  {
   "cell_type": "markdown",
   "id": "522eaba8-b040-47ef-8a09-164d41eb219e",
   "metadata": {
    "tags": []
   },
   "source": [
    "### Graficación de la malla del dominio"
   ]
  },
  {
   "cell_type": "code",
   "execution_count": 4,
   "id": "b5b2b80d-41d6-4931-a108-b93d7b83a36f",
   "metadata": {},
   "outputs": [],
   "source": [
    "from mpl_toolkits.axes_grid1 import make_axes_locatable\n",
    "def set_axes(ax):\n",
    "    \"\"\"\n",
    "    Configura la razón de aspecto, quita las marcas de los ejes y el marco.\n",
    "    \n",
    "    Parameters\n",
    "    ----------\n",
    "    ax: axis\n",
    "    Ejes que se vana configurar.\n",
    "    \"\"\"\n",
    "    ax.set_aspect('equal') \n",
    "    ax.set_xticks([])\n",
    "    ax.set_yticks([])\n",
    "    ax.spines['bottom'].set_visible(False)\n",
    "    ax.spines['left'].set_visible(False)\n",
    "    \n",
    "def plot_mesh(ax, xg, yg):\n",
    "    \"\"\"\n",
    "    Dibuja la malla del dominio.\n",
    "    \n",
    "    Paramters\n",
    "    ---------\n",
    "    ax: axis\n",
    "    Son los ejes donde se dibujará la malla.\n",
    "    \n",
    "    xn: np.array\n",
    "    Coordenadas en x de la malla.\n",
    "    \n",
    "    yn: np.array\n",
    "    Coordenadas en y de la malla.\n",
    "    \"\"\"\n",
    "    set_axes(ax)\n",
    "    \n",
    "    xn = xg[:,0]\n",
    "    yn = yg[0,:]\n",
    "    \n",
    "    for xi in xn:\n",
    "        ax.vlines(xi, ymin=yn[0], ymax=yn[-1], lw=0.5, color='darkgray')\n",
    "        \n",
    "    for yi in yn:\n",
    "        ax.hlines(yi, xmin=xn[0], xmax=xn[-1], lw=0.5, color='darkgray')\n",
    "        \n",
    "    ax.scatter(xg,yg, marker='.', color='darkgray')\n",
    "    \n",
    "def plot_frame(ax, xn, yn, lw = 0.5, color = 'k'):\n",
    "    \"\"\"\n",
    "    Dibuja el recuadro de la malla.\n",
    "    \n",
    "    Paramters\n",
    "    ---------\n",
    "    ax: axis\n",
    "    Son los ejes donde se dibujará la malla.\n",
    "    \n",
    "    xn: np.array\n",
    "    Coordenadas en x de la malla.\n",
    "    \n",
    "    yn: np.array\n",
    "    Coordenadas en y de la malla.\n",
    "    \"\"\"\n",
    "    set_axes(ax)\n",
    "    \n",
    "    # Dibujamos dos líneas verticales\n",
    "    ax.vlines(xn[0], ymin=yn[0], ymax=yn[-1], lw = lw, color=color)\n",
    "    ax.vlines(xn[-1], ymin=yn[0], ymax=yn[-1], lw = lw, color=color)\n",
    "\n",
    "    # Dibujamos dos líneas horizontales\n",
    "    ax.hlines(yn[0], xmin=xn[0], xmax=xn[-1], lw = lw, color=color)\n",
    "    ax.hlines(yn[-1], xmin=xn[0], xmax=xn[-1], lw = lw, color=color)\n",
    "\n",
    "def set_canvas(ax, Lx, Ly):\n",
    "    \"\"\"\n",
    "    Configura un lienzo para hacer las gráficas más estéticas.\n",
    "    \n",
    "    Parameters\n",
    "    ----------\n",
    "    ax: axis\n",
    "    Son los ejes que se van a configurar.\n",
    "    \n",
    "    Lx: float\n",
    "    Tamaño del dominio en dirección x.\n",
    "    \n",
    "    Ly: float\n",
    "    Tamaño del dominio en dirección y.\n",
    "    \n",
    "    Returns\n",
    "    -------\n",
    "    cax: axis\n",
    "    Eje donde se dibuja el mapa de color.\n",
    "    \"\"\"\n",
    "    set_axes(ax)\n",
    "\n",
    "    lmax = max(Lx,Ly)\n",
    "    offx = lmax * 0.01\n",
    "    offy = lmax * 0.01\n",
    "    ax.set_xlim(-offx, Lx+offx)\n",
    "    ax.set_ylim(-offy, Ly+offy)\n",
    "    ax.grid(False)\n",
    "    \n",
    "    ax.set_aspect('equal')\n",
    "    divider = make_axes_locatable(ax)\n",
    "    cax = divider.append_axes(\"right\", \"5%\", pad=\"3%\")\n",
    "    cax.set_xticks([])\n",
    "    cax.set_yticks([])\n",
    "    cax.spines['bottom'].set_visible(False)\n",
    "    cax.spines['left'].set_visible(False)\n",
    "    \n",
    "    return cax"
   ]
  },
  {
   "cell_type": "code",
   "execution_count": 5,
   "id": "d18f4ecb-85b3-4943-9cad-0544d1fd6803",
   "metadata": {
    "tags": []
   },
   "outputs": [
    {
     "data": {
      "image/png": "[encoded data removed]",
      "text/plain": [
       "<Figure size 512x384 with 1 Axes>"
      ]
     },
     "metadata": {},
     "output_type": "display_data"
    }
   ],
   "source": [
    "fig = plt.figure()\n",
    "ax = plt.gca()\n",
    "\n",
    "# Ejecutamos la función plot_mesh(...)\n",
    "plot_mesh(ax, xg, yg)\n",
    "\n",
    "# Dibujamos el recuadro con la función plot_fame(...)\n",
    "plot_frame(ax, xn, yn)"
   ]
  },
  {
   "cell_type": "code",
   "execution_count": 6,
   "id": "85d98bac-397f-449d-8108-2d34da9643d2",
   "metadata": {},
   "outputs": [
    {
     "data": {
      "image/png": "[encoded data removed]",
      "text/plain": [
       "<Figure size 512x384 with 1 Axes>"
      ]
     },
     "metadata": {},
     "output_type": "display_data"
    }
   ],
   "source": [
    "vis = mvis.Plotter(1,1)\n",
    "\n",
    "vis.draw_domain(1, xg, yg)"
   ]
  },
  {
   "cell_type": "code",
   "execution_count": 7,
   "id": "f885137c-1c47-4cdc-b93d-6069d7528351",
   "metadata": {},
   "outputs": [
    {
     "data": {
      "image/png": "[encoded data removed]",
      "text/plain": [
       "<Figure size 512x384 with 2 Axes>"
      ]
     },
     "metadata": {},
     "output_type": "display_data"
    }
   ],
   "source": [
    "vis = mvis.Plotter(1,2,[dict(aspect='equal'), dict(aspect='equal')])\n",
    "\n",
    "vis.draw_domain(1, xg, yg)\n",
    "vis.plot_mesh2D(2, xg, yg)\n",
    "vis.plot_frame(2, xg, yg)"
   ]
  },
  {
   "cell_type": "markdown",
   "id": "69b21f36-0b80-4343-a72a-94cb1a2e9029",
   "metadata": {},
   "source": [
    "## Campo de temperaturas y sus condiciones de frontera"
   ]
  },
  {
   "cell_type": "code",
   "execution_count": 8,
   "id": "a6f1f3d8-df24-48c6-9c47-7245baf30c94",
   "metadata": {
    "tags": []
   },
   "outputs": [
    {
     "name": "stdout",
     "output_type": "stream",
     "text": [
      "Campo escalar T ((6, 6)):\n",
      " [[ 1.  0.  0.  0.  0. -1.]\n",
      " [ 1.  0.  0.  0.  0. -1.]\n",
      " [ 1.  0.  0.  0.  0. -1.]\n",
      " [ 1.  0.  0.  0.  0. -1.]\n",
      " [ 1.  0.  0.  0.  0. -1.]\n",
      " [ 1.  0.  0.  0.  0. -1.]]\n"
     ]
    }
   ],
   "source": [
    "# Definición de un campo escalar en cada punto de la malla\n",
    "T = np.zeros((NxT, NyT))\n",
    "\n",
    "# Condiciones de frontera\n",
    "TB = 1.0\n",
    "TT = -1.0\n",
    "\n",
    "T[0 , :] = 0.0 # LEFT\n",
    "T[-1, :] = 0.0 # RIGHT\n",
    "T[: , 0] = TB  # BOTTOM\n",
    "T[: ,-1] = TT  # TOP\n",
    "\n",
    "print('Campo escalar T ({}):\\n {}'.format(T.shape, T))"
   ]
  },
  {
   "cell_type": "markdown",
   "id": "dc19fd8e-39fb-4c0a-af63-aee2879fd8b4",
   "metadata": {},
   "source": [
    "### Graficación del campo escalar sobre la malla"
   ]
  },
  {
   "cell_type": "code",
   "execution_count": 9,
   "id": "ce425213-53ea-4f74-8ed7-ebebb116d5d7",
   "metadata": {
    "tags": []
   },
   "outputs": [
    {
     "data": {
      "image/png": "[encoded data removed]",
      "text/plain": [
       "<Figure size 512x384 with 2 Axes>"
      ]
     },
     "metadata": {},
     "output_type": "display_data"
    }
   ],
   "source": [
    "fig = plt.figure()\n",
    "ax = plt.gca()\n",
    "cax = set_canvas(ax, Lx, Ly)\n",
    "\n",
    "c = ax.contourf(xg, yg, T, levels=50, cmap='inferno')\n",
    "plot_mesh(ax, xg, yg)\n",
    "fig.colorbar(c, cax=cax, ticks=[-0.9, 0.0, 0.9])\n",
    "plt.show()"
   ]
  },
  {
   "cell_type": "code",
   "execution_count": 10,
   "id": "5d0ddd6c-7f83-4764-acf7-0fe031ef8823",
   "metadata": {},
   "outputs": [
    {
     "data": {
      "image/png": "[encoded data removed]",
      "text/plain": [
       "<Figure size 512x384 with 3 Axes>"
      ]
     },
     "metadata": {},
     "output_type": "display_data"
    }
   ],
   "source": [
    "vis = mvis.Plotter(1,3,[dict(aspect='equal'), dict(aspect='equal'), dict(aspect='equal')])\n",
    "\n",
    "vis.draw_domain(1, xg, yg)\n",
    "vis.plot_mesh2D(2, xg, yg)\n",
    "vis.plot_frame(2, xg, yg)\n",
    "vis.contourf(3, xg, yg, T, levels=50, cmap='inferno')\n",
    "vis.show()"
   ]
  },
  {
   "cell_type": "code",
   "execution_count": 11,
   "id": "573083c2-fb7a-4965-bb03-2be3775ecd06",
   "metadata": {},
   "outputs": [
    {
     "data": {
      "image/png": "[encoded data removed]",
      "text/plain": [
       "<Figure size 640x1280 with 3 Axes>"
      ]
     },
     "metadata": {},
     "output_type": "display_data"
    }
   ],
   "source": [
    "vis = mvis.Plotter(1,3,[dict(aspect='equal'), dict(aspect='equal'), dict(aspect='equal')],\n",
    "                  dict(figsize=(8,16)))\n",
    "\n",
    "vis.draw_domain(1, xg, yg)\n",
    "vis.plot_mesh2D(2, xg, yg, nodeson=True)\n",
    "vis.plot_frame(2, xg, yg)\n",
    "vis.contourf(3, xg, yg, T, levels=50, cmap='inferno')\n",
    "vis.plot_mesh2D(3,xg, yg)\n",
    "vis.show()"
   ]
  },
  {
   "cell_type": "markdown",
   "id": "c5f1a7de-1a1d-480b-a56a-f01a60e1a4d3",
   "metadata": {},
   "source": [
    "### Campo vectorial"
   ]
  },
  {
   "cell_type": "code",
   "execution_count": 12,
   "id": "2047c14b-5c97-48c9-ad8f-68c8babee1dc",
   "metadata": {},
   "outputs": [],
   "source": [
    "qx = np.zeros((Nx+2, Ny+2))\n",
    "qy = qx.copy()\n",
    "\n",
    "for i in range(1,Nx+1):\n",
    "    for j in range(1,Ny+1):\n",
    "        qx[i,j] = -k * (T[i+1,j] - T[i-1,j]) / 2 * hx\n",
    "        qy[i,j] = -k * (T[i,j+1] - T[i,j-1]) / 2 * hy"
   ]
  },
  {
   "cell_type": "code",
   "execution_count": 13,
   "id": "d25f8501-ce37-4c14-91ee-fad5c8bad43a",
   "metadata": {},
   "outputs": [
    {
     "data": {
      "image/png": "[encoded data removed]",
      "text/plain": [
       "<Figure size 640x640 with 5 Axes>"
      ]
     },
     "metadata": {},
     "output_type": "display_data"
    }
   ],
   "source": [
    "ax1 = dict(aspect='equal', title='Dominio')\n",
    "ax2 = dict(aspect='equal', title='Malla')\n",
    "ax3 = dict(aspect='equal', title='Temperatura')\n",
    "ax4 = dict(aspect='equal', title='Flujo de calor')\n",
    "\n",
    "vis = mvis.Plotter(2,2,[ax1, ax2, ax3, ax4],\n",
    "                  dict(figsize=(8,8)))\n",
    "\n",
    "vis.draw_domain(1, xg, yg)\n",
    "vis.plot_mesh2D(2, xg, yg, nodeson=True)\n",
    "vis.plot_frame(2, xg, yg)\n",
    "\n",
    "cax3 = vis.set_canvas(3,Lx,Ly)\n",
    "c = vis.contourf(3, xg, yg, T, levels=50, cmap='inferno')\n",
    "vis.fig.colorbar(c, cax=cax3, ticks = [T.min(), T.max()], shrink=0.5, orientation='vertical')\n",
    "vis.plot_mesh2D(3, xg, yg)\n",
    "\n",
    "vis.plot_frame(4, xg, yg)\n",
    "vis.quiver(4, xg, yg, qx, qy, scale=1)\n",
    "vis.show()"
   ]
  },
  {
   "cell_type": "markdown",
   "id": "68a35d52-02ba-4107-b616-abb8a31528e1",
   "metadata": {},
   "source": [
    "## Sistema lineal"
   ]
  },
  {
   "cell_type": "code",
   "execution_count": 14,
   "id": "95900c1b-67ce-45af-88e0-96af6ad0cb3a",
   "metadata": {
    "tags": []
   },
   "outputs": [
    {
     "data": {
      "text/plain": [
       "array([[-4.,  1.,  0.,  0.,  1.,  0.,  0.,  0.,  0.,  0.,  0.,  0.,  0.,\n",
       "         0.,  0.,  0.],\n",
       "       [ 1., -4.,  1.,  0.,  0.,  1.,  0.,  0.,  0.,  0.,  0.,  0.,  0.,\n",
       "         0.,  0.,  0.],\n",
       "       [ 0.,  1., -4.,  1.,  0.,  0.,  1.,  0.,  0.,  0.,  0.,  0.,  0.,\n",
       "         0.,  0.,  0.],\n",
       "       [ 0.,  0.,  1., -4.,  0.,  0.,  0.,  1.,  0.,  0.,  0.,  0.,  0.,\n",
       "         0.,  0.,  0.],\n",
       "       [ 1.,  0.,  0.,  0., -4.,  1.,  0.,  0.,  1.,  0.,  0.,  0.,  0.,\n",
       "         0.,  0.,  0.],\n",
       "       [ 0.,  1.,  0.,  0.,  1., -4.,  1.,  0.,  0.,  1.,  0.,  0.,  0.,\n",
       "         0.,  0.,  0.],\n",
       "       [ 0.,  0.,  1.,  0.,  0.,  1., -4.,  1.,  0.,  0.,  1.,  0.,  0.,\n",
       "         0.,  0.,  0.],\n",
       "       [ 0.,  0.,  0.,  1.,  0.,  0.,  1., -4.,  0.,  0.,  0.,  1.,  0.,\n",
       "         0.,  0.,  0.],\n",
       "       [ 0.,  0.,  0.,  0.,  1.,  0.,  0.,  0., -4.,  1.,  0.,  0.,  1.,\n",
       "         0.,  0.,  0.],\n",
       "       [ 0.,  0.,  0.,  0.,  0.,  1.,  0.,  0.,  1., -4.,  1.,  0.,  0.,\n",
       "         1.,  0.,  0.],\n",
       "       [ 0.,  0.,  0.,  0.,  0.,  0.,  1.,  0.,  0.,  1., -4.,  1.,  0.,\n",
       "         0.,  1.,  0.],\n",
       "       [ 0.,  0.,  0.,  0.,  0.,  0.,  0.,  1.,  0.,  0.,  1., -4.,  0.,\n",
       "         0.,  0.,  1.],\n",
       "       [ 0.,  0.,  0.,  0.,  0.,  0.,  0.,  0.,  1.,  0.,  0.,  0., -4.,\n",
       "         1.,  0.,  0.],\n",
       "       [ 0.,  0.,  0.,  0.,  0.,  0.,  0.,  0.,  0.,  1.,  0.,  0.,  1.,\n",
       "        -4.,  1.,  0.],\n",
       "       [ 0.,  0.,  0.,  0.,  0.,  0.,  0.,  0.,  0.,  0.,  1.,  0.,  0.,\n",
       "         1., -4.,  1.],\n",
       "       [ 0.,  0.,  0.,  0.,  0.,  0.,  0.,  0.,  0.,  0.,  0.,  1.,  0.,\n",
       "         0.,  1., -4.]])"
      ]
     },
     "execution_count": 14,
     "metadata": {},
     "output_type": "execute_result"
    }
   ],
   "source": [
    "import FDM\n",
    "# La matriz del sistema. Usamos la función predefinida buildMatrix2D()\n",
    "A = FDM.buildMatrix2D(Nx,Ny,-4)\n",
    "A"
   ]
  },
  {
   "cell_type": "code",
   "execution_count": 15,
   "id": "16c86fb9-4974-4513-ba0b-c2f20d0842cb",
   "metadata": {
    "tags": []
   },
   "outputs": [
    {
     "data": {
      "text/plain": [
       "array([[-1.,  0.,  0.,  1.],\n",
       "       [-1.,  0.,  0.,  1.],\n",
       "       [-1.,  0.,  0.,  1.],\n",
       "       [-1.,  0.,  0.,  1.]])"
      ]
     },
     "execution_count": 15,
     "metadata": {},
     "output_type": "execute_result"
    }
   ],
   "source": [
    "# RHS\n",
    "b = np.zeros((Nx,Ny))\n",
    "b[:, 0] -= TB  # BOTTOM\n",
    "b[:,-1] -= TT  # TOP\n",
    "b"
   ]
  },
  {
   "cell_type": "markdown",
   "id": "35682be1-3ecf-4b94-9844-d19dba4e1f47",
   "metadata": {},
   "source": [
    "## Solución del sistema"
   ]
  },
  {
   "cell_type": "markdown",
   "id": "2c387d45-56d0-421d-9ef0-9dccb478907c",
   "metadata": {},
   "source": [
    "Revisamos el formato del vector b"
   ]
  },
  {
   "cell_type": "code",
   "execution_count": 16,
   "id": "056ea00b-5fe2-4a33-aa55-14e1fc3a2bb8",
   "metadata": {
    "tags": []
   },
   "outputs": [
    {
     "data": {
      "text/plain": [
       "(4, 4)"
      ]
     },
     "execution_count": 16,
     "metadata": {},
     "output_type": "execute_result"
    }
   ],
   "source": [
    "b.shape"
   ]
  },
  {
   "cell_type": "markdown",
   "id": "852e0281-9d8f-4663-a464-ef38c140b325",
   "metadata": {
    "tags": []
   },
   "source": [
    "El vector debe ser de una sola dimensión:"
   ]
  },
  {
   "cell_type": "code",
   "execution_count": 17,
   "id": "5012e4ef-715c-459a-8844-c44d349c7342",
   "metadata": {
    "tags": []
   },
   "outputs": [
    {
     "data": {
      "text/plain": [
       "array([-1.,  0.,  0.,  1., -1.,  0.,  0.,  1., -1.,  0.,  0.,  1., -1.,\n",
       "        0.,  0.,  1.])"
      ]
     },
     "execution_count": 17,
     "metadata": {},
     "output_type": "execute_result"
    }
   ],
   "source": [
    "b.flatten()"
   ]
  },
  {
   "cell_type": "code",
   "execution_count": 18,
   "id": "c69e8abc-c785-4caf-880b-7423b1b6c3bb",
   "metadata": {
    "tags": []
   },
   "outputs": [
    {
     "data": {
      "text/plain": [
       "array([ 0.40909091,  0.11363636, -0.11363636, -0.40909091,  0.52272727,\n",
       "        0.15909091, -0.15909091, -0.52272727,  0.52272727,  0.15909091,\n",
       "       -0.15909091, -0.52272727,  0.40909091,  0.11363636, -0.11363636,\n",
       "       -0.40909091])"
      ]
     },
     "execution_count": 18,
     "metadata": {},
     "output_type": "execute_result"
    }
   ],
   "source": [
    "# Calculamos la solución.\n",
    "T_temp = np.linalg.solve(A, b.flatten())\n",
    "T_temp"
   ]
  },
  {
   "cell_type": "code",
   "execution_count": 19,
   "id": "4ed5d78d-c42f-4d46-8a2d-c73d110f0038",
   "metadata": {
    "tags": []
   },
   "outputs": [
    {
     "data": {
      "text/plain": [
       "(16,)"
      ]
     },
     "execution_count": 19,
     "metadata": {},
     "output_type": "execute_result"
    }
   ],
   "source": [
    "T_temp.shape"
   ]
  },
  {
   "cell_type": "markdown",
   "id": "5682f06d-ed61-427b-a575-867482a9589a",
   "metadata": {},
   "source": [
    "Colocamos la solución en el campo escalar T de manera adecuada"
   ]
  },
  {
   "cell_type": "code",
   "execution_count": 20,
   "id": "56a184c1-ad62-4ff5-85b6-18efeb9488ef",
   "metadata": {
    "tags": []
   },
   "outputs": [
    {
     "data": {
      "text/plain": [
       "array([[ 1.        ,  0.        ,  0.        ,  0.        ,  0.        ,\n",
       "        -1.        ],\n",
       "       [ 1.        ,  0.40909091,  0.11363636, -0.11363636, -0.40909091,\n",
       "        -1.        ],\n",
       "       [ 1.        ,  0.52272727,  0.15909091, -0.15909091, -0.52272727,\n",
       "        -1.        ],\n",
       "       [ 1.        ,  0.52272727,  0.15909091, -0.15909091, -0.52272727,\n",
       "        -1.        ],\n",
       "       [ 1.        ,  0.40909091,  0.11363636, -0.11363636, -0.40909091,\n",
       "        -1.        ],\n",
       "       [ 1.        ,  0.        ,  0.        ,  0.        ,  0.        ,\n",
       "        -1.        ]])"
      ]
     },
     "execution_count": 20,
     "metadata": {},
     "output_type": "execute_result"
    }
   ],
   "source": [
    "T[1:-1,1:-1] = T_temp.reshape(Nx,Ny)\n",
    "T"
   ]
  },
  {
   "cell_type": "code",
   "execution_count": 21,
   "id": "2b5543a5-d5a2-4d2f-b798-7a043cf13dd1",
   "metadata": {},
   "outputs": [],
   "source": [
    "qx = np.zeros((Nx+2, Ny+2))\n",
    "qy = qx.copy()\n",
    "\n",
    "for i in range(1,Nx+1):\n",
    "    for j in range(1,Ny+1):\n",
    "        qx[i,j] = -k * (T[i+1,j] - T[i-1,j]) / 2 * hx\n",
    "        qy[i,j] = -k * (T[i,j+1] - T[i,j-1]) / 2 * hy"
   ]
  },
  {
   "cell_type": "markdown",
   "id": "bd6ac093-2680-4852-8653-1df382fecfef",
   "metadata": {},
   "source": [
    "### Gráfica de la solución"
   ]
  },
  {
   "cell_type": "code",
   "execution_count": 22,
   "id": "a68bf446-2f0d-4046-8800-eaa27653b8fd",
   "metadata": {},
   "outputs": [
    {
     "data": {
      "image/png": "[encoded data removed]",
      "text/plain": [
       "<Figure size 640x640 with 5 Axes>"
      ]
     },
     "metadata": {},
     "output_type": "display_data"
    }
   ],
   "source": [
    "vis = mvis.Plotter(2,2,[ax1, ax2, ax3, ax4],\n",
    "                  dict(figsize=(8,8)))\n",
    "\n",
    "vis.draw_domain(1, xg, yg)\n",
    "vis.plot_mesh2D(2, xg, yg, nodeson=True)\n",
    "vis.plot_frame(2, xg, yg)\n",
    "\n",
    "cax3 = vis.set_canvas(3,Lx,Ly)\n",
    "c = vis.contourf(3, xg, yg, T, levels=50, cmap='inferno')\n",
    "vis.fig.colorbar(c, cax=cax3, ticks = [T.min(), T.max()], shrink=0.5, orientation='vertical')\n",
    "vis.plot_mesh2D(3, xg, yg)\n",
    "\n",
    "vis.plot_frame(4, xg, yg)\n",
    "vis.quiver(4, xg, yg, qx, qy, scale=1)\n",
    "vis.show()"
   ]
  },
  {
   "cell_type": "markdown",
   "id": "cc4b7232-beae-43e8-b924-d6de84fd8a07",
   "metadata": {},
   "source": [
    "### Interactivo"
   ]
  },
  {
   "cell_type": "code",
   "execution_count": 23,
   "id": "360010b8-b8d7-4c7c-907d-d8bce132203b",
   "metadata": {},
   "outputs": [],
   "source": [
    "def heat_cond(Lx, Ly, Nx, Ny):\n",
    "    # Número total de nodos en cada eje incluyendo las fronteras\n",
    "    NxT = Nx + 2\n",
    "    NyT = Ny + 2\n",
    "    \n",
    "    # Número total de nodos\n",
    "    NT = NxT * NyT\n",
    "    \n",
    "    # Número total de incógnitas\n",
    "    N = Nx * Ny\n",
    "    \n",
    "    # Tamaño de la malla en cada dirección\n",
    "    hx = Lx / (Nx+1)\n",
    "    hy = Ly / (Ny+1)\n",
    "    \n",
    "    # Coordenadas de la malla\n",
    "    xn = np.linspace(0,Lx,NxT)\n",
    "    yn = np.linspace(0,Ly,NyT)\n",
    "    \n",
    "    # Generación de una rejilla\n",
    "    xg, yg = np.meshgrid(xn, yn, indexing='ij')\n",
    "\n",
    "    # Definición de un campo escalar en cada punto de la malla\n",
    "    T = np.zeros((NxT, NyT))\n",
    "    \n",
    "    # Condiciones de frontera\n",
    "    TB = 1.0\n",
    "    TT = -1.0\n",
    "    \n",
    "    T[0 , :] = 0.0 # LEFT\n",
    "    T[-1, :] = 0.0 # RIGHT\n",
    "    T[: , 0] = TB  # BOTTOM\n",
    "    T[: ,-1] = TT  # TOP\n",
    "\n",
    "    # La matriz del sistema. Usamos la función predefinida buildMatrix2D()\n",
    "    A = FDM.buildMatrix2D(Nx,Ny,-4)\n",
    "\n",
    "    # RHS\n",
    "    b = np.zeros((Nx,Ny))\n",
    "    b[:, 0] -= TB  # BOTTOM\n",
    "    b[:,-1] -= TT  # TOP\n",
    "\n",
    "    # Calculamos la solución.\n",
    "    T[1:-1,1:-1] = np.linalg.solve(A, b.flatten()).reshape(Nx,Ny)\n",
    "\n",
    "    qx = np.zeros((Nx+2, Ny+2))\n",
    "    qy = qx.copy()\n",
    "    \n",
    "    for i in range(1,Nx+1):\n",
    "        for j in range(1,Ny+1):\n",
    "            qx[i,j] = -k * (T[i+1,j] - T[i-1,j]) / 2 * hx\n",
    "            qy[i,j] = -k * (T[i,j+1] - T[i,j-1]) / 2 * hy\n",
    "\n",
    "\n",
    "    ax1 = dict(aspect='equal', title='Dominio')\n",
    "    ax2 = dict(aspect='equal', title='Malla')\n",
    "    ax3 = dict(aspect='equal', title='Temperatura')\n",
    "    ax4 = dict(aspect='equal', title='Flujo de calor')\n",
    "\n",
    "    vis = mvis.Plotter(2,2,[ax1, ax2, ax3, ax4],\n",
    "                      dict(figsize=(8,8)))\n",
    "    \n",
    "    vis.draw_domain(1, xg, yg)\n",
    "    vis.plot_mesh2D(2, xg, yg, nodeson=True)\n",
    "    vis.plot_frame(2, xg, yg)\n",
    "    \n",
    "    cax3 = vis.set_canvas(3,Lx,Ly)\n",
    "    c = vis.contourf(3, xg, yg, T, levels=50, cmap='inferno')\n",
    "    vis.fig.colorbar(c, cax=cax3, ticks = [T.min(), T.max()], shrink=0.5, orientation='vertical')\n",
    "    vis.plot_mesh2D(3, xg, yg)\n",
    "    \n",
    "    vis.plot_frame(4, xg, yg)\n",
    "    vis.quiver(4, xg, yg, qx, qy, scale=1)\n",
    "    vis.show()"
   ]
  },
  {
   "cell_type": "code",
   "execution_count": 24,
   "id": "0bb37c80-d7ff-46e3-9b83-3f1611c9f3bf",
   "metadata": {},
   "outputs": [
    {
     "data": {
      "image/png": "[encoded data removed]",
      "text/plain": [
       "<Figure size 640x640 with 5 Axes>"
      ]
     },
     "metadata": {},
     "output_type": "display_data"
    }
   ],
   "source": [
    "heat_cond(Lx=1, Ly=1, Nx=4, Ny=4)"
   ]
  },
  {
   "cell_type": "code",
   "execution_count": 25,
   "id": "28519473-8f34-47ca-98ff-e453cf43b4b6",
   "metadata": {},
   "outputs": [],
   "source": [
    "import ipywidgets as widgets"
   ]
  },
  {
   "cell_type": "code",
   "execution_count": 26,
   "id": "43e841cd-3308-4a95-a985-55fa3ce7fd0b",
   "metadata": {},
   "outputs": [
    {
     "data": {
      "application/vnd.jupyter.widget-view+json": {
       "model_id": "c1245eb6431844dc902f845feab3b4f5",
       "version_major": 2,
       "version_minor": 0
      },
      "text/plain": [
       "interactive(children=(IntSlider(value=2, description='Lx', max=3, min=1), IntSlider(value=2, description='Ly',…"
      ]
     },
     "metadata": {},
     "output_type": "display_data"
    },
    {
     "data": {
      "text/plain": [
       "<function __main__.heat_cond(Lx, Ly, Nx, Ny)>"
      ]
     },
     "execution_count": 26,
     "metadata": {},
     "output_type": "execute_result"
    }
   ],
   "source": [
    "widgets.interact(heat_cond, Lx = (1,3,1), Ly = (1,3,1), Nx = (4, 8, 1), Ny = (4, 8, 1))"
   ]
  },
  {
   "cell_type": "code",
   "execution_count": null,
   "id": "be8d5287-c7b7-4885-92cf-05389566cc18",
   "metadata": {},
   "outputs": [],
   "source": []
  }
 ],
 "metadata": {
  "kernelspec": {
   "display_name": "Python 3 (ipykernel)",
   "language": "python",
   "name": "python3"
  },
  "language_info": {
   "codemirror_mode": {
    "name": "ipython",
    "version": 3
   },
   "file_extension": ".py",
   "mimetype": "text/x-python",
   "name": "python",
   "nbconvert_exporter": "python",
   "pygments_lexer": "ipython3",
   "version": "3.11.6"
  }
 },
 "nbformat": 4,
 "nbformat_minor": 5
}
