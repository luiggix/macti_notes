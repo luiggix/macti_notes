{
 "cells": [
  {
   "cell_type": "code",
   "execution_count": 7,
   "metadata": {},
   "outputs": [],
   "source": [
    "import numpy as np\n",
    "from fvm import plot_mesh, plot_contour, Laplaciano2D, RHS"
   ]
  },
  {
   "cell_type": "code",
   "execution_count": 8,
   "metadata": {},
   "outputs": [
    {
     "name": "stdout",
     "output_type": "stream",
     "text": [
      "0.2 0.2\n",
      "4 4\n",
      "5 5\n"
     ]
    }
   ],
   "source": [
    "#\n",
    "# 0       1       2       3       4       5   \n",
    "# |                                       |   Nx  = 4 (nodos interiores)\n",
    "# *---*---|---*---|---*---|---*---|---*---*   Nvx = 5 (volúmenes)\n",
    "# |                                       |\n",
    "# 0   1       2       3       4       5   6   hx = L / Nx + 1 = L / Nvx \n",
    "#\n",
    "#  <----------------- L ------------------>  \n",
    "#\n",
    "Nx = 4\n",
    "Ny = 4\n",
    "Nvx = Nx + 1\n",
    "Nvy = Ny + 1\n",
    "Lx = 1.0\n",
    "Ly = 1.0\n",
    "hx = Lx / (Nx+1)\n",
    "hy = Ly / (Ny+1)\n",
    "print(hx, hy)\n",
    "print(Nx, Ny)\n",
    "print(Nvx, Nvy)"
   ]
  },
  {
   "cell_type": "code",
   "execution_count": 9,
   "metadata": {},
   "outputs": [
    {
     "data": {
      "image/png": "[encoded data removed]",
      "text/plain": [
       "<Figure size 640x480 with 2 Axes>"
      ]
     },
     "metadata": {},
     "output_type": "display_data"
    }
   ],
   "source": [
    "NxT = Nvx + 2\n",
    "NyT = Nvy + 2\n",
    "\n",
    "# Coordenadas de la malla\n",
    "x = np.zeros(NxT)\n",
    "y = np.zeros(NyT)\n",
    "x[-1] = Lx\n",
    "y[-1] = Ly\n",
    "x[1:-1] = np.linspace(0.5*hx,Lx-0.5*hx,Nvx)\n",
    "y[1:-1] = np.linspace(0.5*hy,Ly-0.5*hy,Nvy)\n",
    "xg, yg = np.meshgrid(x, y, indexing='ij', sparse=False)\n",
    "plot_mesh(Lx, Ly, xg, yg,fdm=True)"
   ]
  },
  {
   "cell_type": "code",
   "execution_count": 10,
   "metadata": {},
   "outputs": [
    {
     "data": {
      "image/png": "[encoded data removed]",
      "text/plain": [
       "<Figure size 640x480 with 2 Axes>"
      ]
     },
     "metadata": {},
     "output_type": "display_data"
    }
   ],
   "source": [
    "# Definición del campo escalar\n",
    "T = np.zeros((NxT, NyT))\n",
    "\n",
    "# Valores en las fronteras del dominio\n",
    "TL = 0.0; TR = 0.0\n",
    "TB = 100.0; TT = 0.0\n",
    "\n",
    "T[0 , :] = TL # LEFT\n",
    "T[-1, :] = TR # RIGHT\n",
    "T[: , 0] = TB # BOTTOM\n",
    "T[: ,-1] = TT # TOP\n",
    "\n",
    "plot_contour(Lx, Ly, xg, yg, T, \n",
    "             ticks = [0, TL, TR, TB, TT], \n",
    "             mesh = True, cmap='viridis')"
   ]
  },
  {
   "cell_type": "code",
   "execution_count": 11,
   "metadata": {},
   "outputs": [
    {
     "ename": "TypeError",
     "evalue": "Laplaciano2D() missing 2 required positional arguments: 'aS' and 'aP'",
     "output_type": "error",
     "traceback": [
      "\u001b[0;31m---------------------------------------------------------------------------\u001b[0m",
      "\u001b[0;31mTypeError\u001b[0m                                 Traceback (most recent call last)",
      "Cell \u001b[0;32mIn[11], line 1\u001b[0m\n\u001b[0;32m----> 1\u001b[0m A \u001b[38;5;241m=\u001b[39m \u001b[43mLaplaciano2D\u001b[49m\u001b[43m(\u001b[49m\u001b[43mNx\u001b[49m\u001b[43m,\u001b[49m\u001b[43m \u001b[49m\u001b[43mNy\u001b[49m\u001b[43m,\u001b[49m\u001b[43m \u001b[49m\u001b[38;5;241;43m-\u001b[39;49m\u001b[38;5;241;43m4\u001b[39;49m\u001b[43m)\u001b[49m\n\u001b[1;32m      2\u001b[0m f \u001b[38;5;241m=\u001b[39m RHS(Nx, Ny, T)\n\u001b[1;32m      3\u001b[0m Tt \u001b[38;5;241m=\u001b[39m np\u001b[38;5;241m.\u001b[39mlinalg\u001b[38;5;241m.\u001b[39msolve(A,f)\u001b[38;5;241m.\u001b[39mreshape(Ny, Nx)\n",
      "\u001b[0;31mTypeError\u001b[0m: Laplaciano2D() missing 2 required positional arguments: 'aS' and 'aP'"
     ]
    }
   ],
   "source": [
    "A = Laplaciano2D(Nx, Ny, -4)\n",
    "f = RHS(Nx, Ny, T)\n",
    "Tt = np.linalg.solve(A,f).reshape(Ny, Nx)\n",
    "\n",
    "import matplotlib.pyplot as plt\n",
    "plt.imshow(Tt)"
   ]
  },
  {
   "cell_type": "code",
   "execution_count": 6,
   "metadata": {},
   "outputs": [
    {
     "ename": "NameError",
     "evalue": "name 'Tt' is not defined",
     "output_type": "error",
     "traceback": [
      "\u001b[0;31m---------------------------------------------------------------------------\u001b[0m",
      "\u001b[0;31mNameError\u001b[0m                                 Traceback (most recent call last)",
      "Cell \u001b[0;32mIn[6], line 1\u001b[0m\n\u001b[0;32m----> 1\u001b[0m T[\u001b[38;5;241m1\u001b[39m:Nx\u001b[38;5;241m+\u001b[39m\u001b[38;5;241m1\u001b[39m,\u001b[38;5;241m1\u001b[39m:Ny\u001b[38;5;241m+\u001b[39m\u001b[38;5;241m1\u001b[39m] \u001b[38;5;241m=\u001b[39m \u001b[43mTt\u001b[49m\u001b[38;5;241m.\u001b[39mT\n\u001b[1;32m      3\u001b[0m fig \u001b[38;5;241m=\u001b[39m plt\u001b[38;5;241m.\u001b[39mfigure(figsize\u001b[38;5;241m=\u001b[39m(\u001b[38;5;241m12\u001b[39m,\u001b[38;5;241m5\u001b[39m))\n\u001b[1;32m      5\u001b[0m plt\u001b[38;5;241m.\u001b[39msubplot(\u001b[38;5;241m1\u001b[39m,\u001b[38;5;241m2\u001b[39m,\u001b[38;5;241m1\u001b[39m)\n",
      "\u001b[0;31mNameError\u001b[0m: name 'Tt' is not defined"
     ]
    }
   ],
   "source": [
    "T[1:Nx+1,1:Ny+1] = Tt.T\n",
    "\n",
    "fig = plt.figure(figsize=(12,5))\n",
    "\n",
    "plt.subplot(1,2,1)\n",
    "plot_mesh(Lx, Ly, xg, yg)\n",
    "\n",
    "plt.subplot(1,2,2)\n",
    "plot_contour(Lx, Ly, xg, yg, T, ticks = [0, 50, 100], \n",
    "             mesh = True, lines = 20, colors = 'white',\n",
    "             cmap='viridis', yshared=True)"
   ]
  },
  {
   "cell_type": "code",
   "execution_count": null,
   "metadata": {},
   "outputs": [],
   "source": []
  }
 ],
 "metadata": {
  "kernelspec": {
   "display_name": "Python 3 (ipykernel)",
   "language": "python",
   "name": "python3"
  },
  "language_info": {
   "codemirror_mode": {
    "name": "ipython",
    "version": 3
   },
   "file_extension": ".py",
   "mimetype": "text/x-python",
   "name": "python",
   "nbconvert_exporter": "python",
   "pygments_lexer": "ipython3",
   "version": "3.11.6"
  }
 },
 "nbformat": 4,
 "nbformat_minor": 4
}
