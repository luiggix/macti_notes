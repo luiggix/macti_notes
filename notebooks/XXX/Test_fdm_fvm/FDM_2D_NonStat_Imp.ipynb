{
 "cells": [
  {
   "cell_type": "code",
   "execution_count": null,
   "metadata": {},
   "outputs": [],
   "source": [
    "import numpy as np\n",
    "from fdm import plot_mesh, plot_contour, Laplaciano2D_NS, RHS_NS"
   ]
  },
  {
   "cell_type": "code",
   "execution_count": null,
   "metadata": {},
   "outputs": [],
   "source": [
    "#\n",
    "# 0       1       2       3       4       5   \n",
    "# |                                       |   Nx  = 4 (nodos interiores)\n",
    "# *---*---|---*---|---*---|---*---|---*---*   Nvx = 5 (volúmenes)\n",
    "# |                                       |\n",
    "# 0   1       2       3       4       5   6   hx = L / Nx + 1 = L / Nvx \n",
    "#\n",
    "#  <----------------- L ------------------>  \n",
    "#\n",
    "Nx = 10\n",
    "Ny = 21\n",
    "Lx = 1.0\n",
    "Ly = 2.0\n",
    "hx = Lx / (Nx+1)\n",
    "hy = Ly / (Ny+1)\n",
    "h = hx\n",
    "k = 1.0\n",
    "print(hx, hy)\n",
    "print(Nx, Ny)"
   ]
  },
  {
   "cell_type": "code",
   "execution_count": null,
   "metadata": {},
   "outputs": [],
   "source": [
    "# Nodos totales incluyendo las fronteras\n",
    "NxT = Nx + 2\n",
    "NyT = Ny + 2\n",
    "\n",
    "print(NxT, NyT)\n",
    "\n",
    "# Coordenadas de la malla\n",
    "xn = np.linspace(0,Lx,NxT)\n",
    "yn = np.linspace(0,Ly,NyT)\n",
    "xg, yg = np.meshgrid(xn, yn, indexing='ij', sparse=False)\n",
    "plot_mesh(Lx, Ly, xg, yg)"
   ]
  },
  {
   "cell_type": "code",
   "execution_count": null,
   "metadata": {},
   "outputs": [],
   "source": [
    "# Definición del campo escalar\n",
    "T = np.zeros((NxT, NyT))\n",
    "\n",
    "# Valores en las fronteras del dominio\n",
    "TL = 0.0; TR = 0.0\n",
    "TB = 100.0; TT = 0.0\n",
    "\n",
    "T[0 , :] = TL # LEFT\n",
    "T[-1, :] = TR # RIGHT\n",
    "T[: , 0] = TB # BOTTOM\n",
    "T[: ,-1] = TT # TOP\n",
    "\n",
    "plot_contour(Lx, Ly, xg, yg, T, ticks = [0, TL, TR, TB, TT], cmap='viridis', yshared=True)"
   ]
  },
  {
   "cell_type": "code",
   "execution_count": null,
   "metadata": {},
   "outputs": [],
   "source": [
    "%%time\n",
    "# Método de Euler hacia atrás (implicito)\n",
    "ht = 0.1\n",
    "r = k * ht / h**2\n",
    "T_new = T.copy()\n",
    "tolerancia = 9.0e-2 #1.0e-3\n",
    "error = 1.0\n",
    "error_lista = []\n",
    "\n",
    "A = Laplaciano2D_NS(Nx, Ny, r)\n",
    "\n",
    "count = 1\n",
    "while(error > tolerancia):\n",
    "    f = RHS_NS(Nx, Ny, T, r)\n",
    "    Tt = np.linalg.solve(A,f).reshape(Ny, Nx)\n",
    "    \n",
    "    T_new[1:Nx+1,1:Ny+1] = Tt.T\n",
    "\n",
    "    error = np.linalg.norm(T_new - T)\n",
    "    print(count, error)\n",
    "    error_lista.append(error)\n",
    "    T[:] = T_new[:]\n",
    "    count += 1"
   ]
  },
  {
   "cell_type": "code",
   "execution_count": null,
   "metadata": {},
   "outputs": [],
   "source": [
    "import matplotlib.pyplot as plt\n",
    "\n",
    "fig = plt.figure(figsize=(12,5))\n",
    "plt.subplot(1,3,1)\n",
    "plot_mesh(Lx, Ly, xg, yg)\n",
    "\n",
    "plt.subplot(1,3,2)\n",
    "plot_contour(Lx, Ly, xg, yg, T, ticks = [0, 50, 1000], \n",
    "             mesh = True, lines = 10, colors = 'white',\n",
    "             cmap='viridis', yshared=True)\n",
    "\n",
    "plt.subplot(1,3,3)\n",
    "plt.plot(error_lista)\n",
    "plt.yscale('log')\n",
    "plt.ylabel('Error')\n",
    "plt.xlabel('Iteración')\n",
    "plt.tight_layout()"
   ]
  },
  {
   "cell_type": "code",
   "execution_count": null,
   "metadata": {},
   "outputs": [],
   "source": []
  }
 ],
 "metadata": {
  "kernelspec": {
   "display_name": "Python 3 (ipykernel)",
   "language": "python",
   "name": "python3"
  },
  "language_info": {
   "codemirror_mode": {
    "name": "ipython",
    "version": 3
   },
   "file_extension": ".py",
   "mimetype": "text/x-python",
   "name": "python",
   "nbconvert_exporter": "python",
   "pygments_lexer": "ipython3",
   "version": "3.11.6"
  }
 },
 "nbformat": 4,
 "nbformat_minor": 4
}
