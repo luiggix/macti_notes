{
 "cells": [
  {
   "cell_type": "markdown",
   "metadata": {},
   "source": [
    "# Convección de calor forzada: Método implícito"
   ]
  },
  {
   "cell_type": "markdown",
   "metadata": {},
   "source": [
    "<table border=\"1\">\n",
    "  <tbody>\n",
    "    <tr>\n",
    "      <td><img src=\"sol0.png\" width=\"100\"></td>\n",
    "      <td><img src=\"sol1.png\" width=\"100\"></td>\n",
    "    </tr>\n",
    "    <tr>\n",
    "      <td><img src=\"sol2.png\" width=\"100\"></td>\n",
    "      <td><img src=\"sol3.png\" width=\"100\"></td>\n",
    "    </tr>\n",
    "  </tbody>\n",
    "</table>"
   ]
  },
  {
   "cell_type": "markdown",
   "metadata": {},
   "source": [
    "Aproximar la solución al siguiente problema usando diferencias finitas:\n",
    "\n",
    "---\n",
    "## Modelo matemático.\n",
    "\n",
    "### Ecuación a resolver.\n",
    "$$\n",
    "\\rho \\dfrac{\\partial T}{\\partial t} + \\nabla \\cdot\\left( \\vec{u} T - \\kappa \\nabla T\\right) = 0\n",
    "$$\n",
    "\n",
    "El dominio espacial de solución es $(x,y) \\in [0,1] \\times [0,1]$, mientras que el tiempo varía como sigue $t = 0, \\dots, Nt$.\n",
    "\n",
    "Use $\\kappa = 1$ y $\\rho = 1$.\n",
    "\n",
    "---"
   ]
  },
  {
   "cell_type": "code",
   "execution_count": null,
   "metadata": {},
   "outputs": [],
   "source": [
    "# Importar bibliotecas\n",
    "import numpy as np\n",
    "from fdm import plot_mesh, plot_contour, plot_vector, Laplaciano2D_NS, RHS_NS\n",
    "\n",
    "# Definir parámetros físicos y numéricos.\n",
    "Nx = 21\n",
    "Ny = 21\n",
    "Lx = 1.0\n",
    "Ly = 1.0\n",
    "hx = Lx / (Nx+1)\n",
    "hy = Ly / (Ny+1)\n",
    "h = hx\n",
    "k = 1.0\n",
    "print(hx, hy)\n",
    "print(Nx, Ny)"
   ]
  },
  {
   "cell_type": "markdown",
   "metadata": {},
   "source": [
    "### Condiciones de frontera.\n",
    "- $T(0,y) = 0$ \n",
    "- $T(1,y) = 0$ \n",
    "- $T(x,0) = 0$ \n",
    "- $T(x,1) = 0$ \n",
    "    "
   ]
  },
  {
   "cell_type": "code",
   "execution_count": null,
   "metadata": {},
   "outputs": [],
   "source": [
    "# Defina la malla\n",
    "\n",
    "# Número total de nodos incluyendo las fronteras.\n",
    "NxT = Nx + 2\n",
    "NyT = Ny + 2\n",
    "\n",
    "print(NxT, NyT)\n",
    "\n",
    "# Coordenadas de la malla\n",
    "xn = np.linspace(0,Lx,NxT)\n",
    "yn = np.linspace(0,Ly,NyT)\n",
    "xg, yg = np.meshgrid(xn, yn, indexing='ij', sparse=False)\n",
    "plot_mesh(Lx, Ly, xg, yg)"
   ]
  },
  {
   "cell_type": "code",
   "execution_count": null,
   "metadata": {},
   "outputs": [],
   "source": [
    "# Defina las condiciones de frontera sobre esa malla.\n",
    "\n",
    "# Campo escalar sobre la malla\n",
    "T = np.zeros((NxT, NyT))\n",
    "\n",
    "# Valores en las fronteras del dominio\n",
    "TL = 0.0; TR = 0.0\n",
    "TB = 0.0; TT = 0.0\n",
    "\n",
    "T[0 , :] = TL # LEFT\n",
    "T[-1, :] = TR # RIGHT\n",
    "T[: , 0] = TB # BOTTOM\n",
    "T[: ,-1] = TT # TOP\n",
    "\n",
    "plot_contour(Lx, Ly, xg, yg, T, ticks = [0, 1], cmap='viridis', yshared=True)"
   ]
  },
  {
   "cell_type": "markdown",
   "metadata": {},
   "source": [
    "### Condición inicial.\n",
    "\n",
    "$$\n",
    "T(x,y) = \\begin{cases}\n",
    "\\sin^2(\\frac{\\pi}{2}(1-\\frac{r}{0.1})) & \\text{Para} \\,\\,\\, r < 0.1  \\\\\n",
    "0 & \\text{Para} \\,\\,\\, r \\geq 0.1  \\\\\n",
    "\\end{cases}\n",
    "$$\n",
    "\n",
    "con $r = \\sqrt{(x-c_x)^2 + (y-c_y^2)}$ y $c = (c_x,c_y) \\in (0,1)\\times(0,1)$"
   ]
  },
  {
   "cell_type": "code",
   "execution_count": null,
   "metadata": {},
   "outputs": [],
   "source": [
    "# Definir la condición inicial\n",
    "\n",
    "cx = 0.25\n",
    "cy = 0.5\n",
    "\n",
    "for i in range(0, NxT):\n",
    "    for j in range(0, NyT):\n",
    "        r = np.sqrt( (xn[i] - cx)**2 + (yn[j] - cy)**2)\n",
    "        if r < 0.1:\n",
    "            T[i,j] = np.sin(0.5 * np.pi * (1 - r / 0.1) )**2\n",
    "        \n",
    "plot_contour(Lx, Ly, xg, yg, T, ticks = [0, 1], cmap='viridis', yshared=True)"
   ]
  },
  {
   "cell_type": "markdown",
   "metadata": {},
   "source": [
    "### Velocidad.\n",
    "La velocidad está dada por:\n",
    "\n",
    "$$\n",
    "u = -A \\cos(\\alpha_y \\pi y) \\sin(\\alpha_x \\pi x) \\\\\n",
    "v = A \\sin(\\alpha_y \\pi y) \\cos(\\alpha_x \\pi x)\n",
    "$$\n",
    "\n",
    "Utilice  $A = 1.0$ y $\\alpha_x = \\alpha_y = 2$."
   ]
  },
  {
   "cell_type": "code",
   "execution_count": null,
   "metadata": {},
   "outputs": [],
   "source": [
    "# Definir la velocidad\n",
    "v = np.zeros((2, NxT, NyT))\n",
    "A = 1.0\n",
    "alpha_x = 2.0\n",
    "alpha_y = 2.0\n",
    "v[0] = -A * np.cos(np.pi * alpha_y * yg / Ly) * np.sin(np.pi * alpha_x * xg / Lx)\n",
    "v[1] =  A * np.sin(np.pi * alpha_y * yg / Ly) * np.cos(np.pi * alpha_x * xg / Lx)\n",
    "\n",
    "plot_vector(Lx, Ly, xg, yg, v)"
   ]
  },
  {
   "cell_type": "code",
   "execution_count": null,
   "metadata": {},
   "outputs": [],
   "source": [
    "%%time\n",
    "# Método de Euler hacia atrás (implicito)\n",
    "ht = 0.01\n",
    "r = k * ht / h**2\n",
    "T_new = T.copy()\n",
    "tolerancia = 1.0e-3 #1.0e-3\n",
    "error = 1.0\n",
    "error_lista = []\n",
    "\n",
    "A = Laplaciano2D_NS(Nx, Ny, r)\n",
    "\n",
    "count = 1\n",
    "while(error > tolerancia):\n",
    "    f = RHS_NS(Nx, Ny, T, r)\n",
    "    Tt = np.linalg.solve(A,f).reshape(Ny, Nx)\n",
    "    T_new[1:Nx+1,1:Ny+1] = Tt.T\n",
    "\n",
    "    error = np.linalg.norm(T_new - T)\n",
    "    print(count, error)\n",
    "    error_lista.append(error)\n",
    "    T[:] = T_new[:]\n",
    "    count += 1"
   ]
  },
  {
   "cell_type": "code",
   "execution_count": null,
   "metadata": {},
   "outputs": [],
   "source": [
    "import matplotlib.pyplot as plt\n",
    "\n",
    "fig = plt.figure(figsize=(12,5))\n",
    "plt.subplot(1,3,1)\n",
    "plot_mesh(Lx, Ly, xg, yg)\n",
    "\n",
    "plt.subplot(1,3,2)\n",
    "plot_contour(Lx, Ly, xg, yg, T, ticks = [0, .01, 0.], \n",
    "             mesh = True, lines = 0, colors = 'white',\n",
    "             cmap='viridis', yshared=True)\n"
   ]
  },
  {
   "cell_type": "code",
   "execution_count": null,
   "metadata": {},
   "outputs": [],
   "source": []
  }
 ],
 "metadata": {
  "kernelspec": {
   "display_name": "Python 3 (ipykernel)",
   "language": "python",
   "name": "python3"
  },
  "language_info": {
   "codemirror_mode": {
    "name": "ipython",
    "version": 3
   },
   "file_extension": ".py",
   "mimetype": "text/x-python",
   "name": "python",
   "nbconvert_exporter": "python",
   "pygments_lexer": "ipython3",
   "version": "3.11.6"
  }
 },
 "nbformat": 4,
 "nbformat_minor": 4
}
