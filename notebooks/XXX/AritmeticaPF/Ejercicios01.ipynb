{
 "cells": [
  {
   "cell_type": "markdown",
   "metadata": {},
   "source": [
    "# Ejercicios para el primer examen: Resueltos\n",
    "## Geofísica Matemática y Computacional\n",
    "\n",
    "- Prof. Luis Miguel de la Cruz Salas\n",
    "- Rev: sáb oct  3 19:11:26 CDT 2020"
   ]
  },
  {
   "cell_type": "markdown",
   "metadata": {},
   "source": [
    "## Ejercicio 1.\n",
    "Las ecuaciones siguientes tienen una solución en los intervalos que se mencionan:\n",
    "\n",
    "1. $x \\cos(x) - 2x^2 + 3x - 1 = 0$ en $[0.2, 0.3]$ y $[1.2, 1.3]$\n",
    "2. $(x-2)^2 - \\ln(x) = 0$ en $[1,2]$ y $[e, 4]$\n",
    "3. $2^x \\cos(2x)-(x-2)^2 = 0$ en $[2,3]$ y $[3,4]$\n",
    "4. $x - (\\ln(x))^x = 0 $ en $[4,5]$\n",
    "\n",
    "**Realice lo siguiente**:\n",
    "- Gráfique la función.\n",
    "    - Modifique la función a ser evaluada ($y$).\n",
    "    - Modifique el dominio de graficación de la función ($x$).\n",
    "    - Modifique los extremos del intervalo a evaluar ($A$ y $B$).\n",
    "- Use el teorema del valor intermedio para mostrar que la solución existe en cada intervalo mencionado.\n"
   ]
  },
  {
   "cell_type": "code",
   "execution_count": null,
   "metadata": {},
   "outputs": [],
   "source": [
    "import numpy as np\n",
    "import matplotlib.pyplot as plt\n",
    "%matplotlib inline"
   ]
  },
  {
   "cell_type": "code",
   "execution_count": null,
   "metadata": {},
   "outputs": [],
   "source": [
    "# Función a ser evaluada\n",
    "y = lambda x: x * np.cos(x)-2 * x**2 + 3 * x - 1\n",
    "\n",
    "# Dominio de la función\n",
    "xmin = 0\n",
    "xmax = 2\n",
    "x = np.linspace(xmin, xmax, 100)\n",
    "\n",
    "A = 1.2  # Extremo izquierdo del intervalo\n",
    "B = 1.3  # Extremo derecho del intervalo\n",
    "\n",
    "# Gráfica de la función\n",
    "plt.plot(x,y(x), 'r-', lw=2)\n",
    "\n",
    "# Líneas verticales en los extremos del intervalo y línea en y = 0\n",
    "ymin = np.min(y(x))\n",
    "ymax = np.max(y(x))\n",
    "plt.plot([A,A], [ymin,ymax], 'g--', lw=1)\n",
    "plt.plot([B,B], [ymin,ymax], 'g--', lw=1)\n",
    "plt.plot([xmin, xmax], [0,0], 'b-', lw=1)\n",
    "\n",
    "plt.grid()\n",
    "plt.show()"
   ]
  },
  {
   "cell_type": "markdown",
   "metadata": {},
   "source": [
    "## Ejercicio 2.\n",
    "Calcular el segundo polinomio de Taylor $P_2(x)$ de la función $f(x) = e^x \\cos(x)$ alrededor de $x_0 = 0$, así como el error $R_2(x)$ de acuerdo con el Teorema de Taylor.\n",
    "\n",
    "**Realice lo siguiente**:\n",
    "\n",
    "- Aproximar $f(x)$ usando $P_2(x)$ en $x = 0.5$ y calcular el error absoluto y relativo de la aproximación. \n",
    "- ¿Cómo se compara el error absoluto con la fórmula del error $R_2(x)$? **Hint**: encuentre una cota máxima de $R_2(x)$ en $[0,0.5]$.\n",
    "- Encuentre una cota para $R_2(x)$ en el intervalo $[0,1]$.\n",
    "- Aproximar la integral $\\int_0^1 f(x) dx$ usando $\\int_0^1 P_2(x) dx$.\n",
    "- Calcule la integral exacta de $\\int_0^1 f(x) dx$ y compare con el error absoluto de la aproximación anterior. ¿Cómo se compara este resultado con el error calculado de la siguiente manera $\\int_0^1 |R_2(x)| dx$?\n",
    "- Haga una gráfica de $f(x)$ y $P_2(x)$ en el intervalo $[0, 0.5]$. Decore la gráfica con una leyenda para cada una de las curvas, etiqueta en los ejes, y un título que diga: \"$|f(0.5)-P_2(0.5)| = E_a$\" donde $E_a$ es el error absoluto en $x=0.5$."
   ]
  },
  {
   "cell_type": "markdown",
   "metadata": {},
   "source": [
    "## Ejercicio 3.\n",
    "Calcular el error absoluto y relativo de las siguientes aproximaciones:\n",
    "- $p = \\pi, pa = 3.1416$\n",
    "- $p = e, pa = 2.718$\n",
    "- $p = 8!, pa = 39900$\n",
    "- $p = \\sqrt{2}, pa = 1.4142$\n",
    "- $p = \\sqrt{2}, pa = 1.414213$\n",
    "- $p = \\frac{4}{5} + \\frac{1}{3}, pa = round(p,3)$\n",
    "- $p = \\frac{1}{3}-\\frac{3}{11}+\\frac{3}{20}, pa = round(p,3)$\n",
    "- $p = \\frac{1}{3}-\\frac{3}{11}+\\frac{3}{20}, pa =$ truncamiento de $p$ a $3$ dígitos."
   ]
  },
  {
   "cell_type": "code",
   "execution_count": null,
   "metadata": {},
   "outputs": [],
   "source": [
    "Ea = np.fabs(np.pi - 3.1416)\n",
    "Er = np.fabs(np.pi - 3.1416) / np.fabs(np.pi)\n",
    "print('Error absoluto = {:.55f}'.format(Ea))\n",
    "print('Error relativo = {:.55f}'.format(Er))"
   ]
  },
  {
   "cell_type": "code",
   "execution_count": null,
   "metadata": {},
   "outputs": [],
   "source": [
    "from decimal import getcontext, Decimal\n",
    "getcontext().prec=5\n",
    "print(getcontext())\n",
    "\n",
    "print(format(Decimal(3.1416),'.55f'))\n",
    "print(format(np.pi, '.55f'))"
   ]
  },
  {
   "cell_type": "code",
   "execution_count": null,
   "metadata": {},
   "outputs": [],
   "source": [
    "Ea = np.fabs(np.pi - float(Decimal(3.1416)))\n",
    "Er = np.fabs(np.pi - float(Decimal(3.1416))) / np.fabs(np.pi)\n",
    "print('Error absoluto = {:.55f}'.format(Ea))\n",
    "print('Error relativo = {:.55f}'.format(Er))"
   ]
  },
  {
   "cell_type": "code",
   "execution_count": null,
   "metadata": {},
   "outputs": [],
   "source": [
    "getcontext().prec=4\n",
    "format(Decimal(np.exp(1))*1,'.55f')"
   ]
  },
  {
   "cell_type": "markdown",
   "metadata": {},
   "source": [
    "## Ejercicio 4.\n",
    "Suponga que tenemos dos puntos en el plano Cartesiano $(x_0, y_0)$ y $(x_1, y_1)$ con $y_0 \\neq y_1$. Las siguientes dos fórmulas calculan en dónde es que esta línea cruza al eje $x$:\n",
    "$$\n",
    "x = \\frac{x_0y_1 - x_1y_0}{y_1-y_0} \n",
    "\\quad \\quad \\text{y} \\quad \\quad\n",
    "x = x_0 - \\frac{(x_1 - x_0)y_0}{y_1-y_0} \n",
    "$$\n",
    "\n",
    "**Realizar lo siguiente**:\n",
    "- Mostrar que ambas fórmulas son equivalentes. **Hint**: calcular la fórmula de la recta que pasa por ambos puntos y luego evaluarla cuando $y=0$ y despejar $x$.\n",
    "- Usar los siguientes datos $(x_0, y_0) = (1.31, 3.24)$ y $(x_1, y_1) = (1.93, 4.76)$ y una aritmética de redondeo a 6 dígitos para calcular $x$ usando las dos fórmulas anteriores. ¿Puede determinar cuál de las dos fórmulas es mejor y por qué? \n",
    "\n",
    "**Hint**: Evalue primero usando la precisión por omisión: \n",
    "```python\n",
    "# Primera fórmula\n",
    "def f1(x0,y0,x1,y1):\n",
    "    return (x0*y1 - x1*y0) /(y1 - y0)\n",
    "# Segunda fórmula\n",
    "def f2(x0,y0,x1,y1):\n",
    "    return x0 - (x1 - x0)*y0 /(y1 - y0)\n",
    "# Evaluación sin redondeo\n",
    "f1_e = f1(1.31,3.24,1.93,4.76)\n",
    "f2_e = f2(1.31,3.24,1.93,4.76)\n",
    "print('f1 = {:.55f}'.format(f1_e))\n",
    "print('f2 = {:.55f}'.format(f2_e))\n",
    "```\n",
    "Posteriormente evalue usando redondeo:\n",
    "\n",
    "```python\n",
    "# Usamos las siguiente bibliotecas para redondear\n",
    "from decimal import getcontext, Decimal \n",
    "getcontext().prec=6 # precisión a 6 dígitos\n",
    "print(getcontext())\n",
    "# Evaluamos con redondeo\n",
    "(x0, y0) = (Decimal(1.31),Decimal(3.24))\n",
    "(x1, y1) = (Decimal(1.93),Decimal(4.76))\n",
    "print('\\n {:.6f} \\t {:.6f} \\t {:.6f} \\t {:.6f} \\n'.format(x0,y0,x1,y1))\n",
    "f1_a = f1(x0,y0,x1,y1)\n",
    "f2_a = f2(x0,y0,x1,y1)\n",
    "print('f1 = {:.10f}'.format(f1_a))\n",
    "print('f2 = {:.10f}'.format(f2_a))\n",
    "```\n",
    "Ahora calcule el error absoluto y relativo comparando con los primeros resultados.\n",
    "\n",
    "```python\n",
    "E1_a = np.fabs(f1_e - float(f1_a))\n",
    "E2_a = np.fabs(f2_e - float(f2_a))\n",
    "E1_r = E1_a / np.fabs(f1_e)\n",
    "E2_r = E2_a / np.fabs(f2_e)\n",
    "print('Error absoluto f1: {:.55f}'.format(E1_a))\n",
    "print('Error absoluto f2: {:.55f}'.format(E2_a))\n",
    "print('Error relativo f1: {:.55f}'.format(E1_r))\n",
    "print('Error relativo f2: {:.55f}'.format(E2_r))\n",
    "```"
   ]
  },
  {
   "cell_type": "code",
   "execution_count": null,
   "metadata": {},
   "outputs": [],
   "source": [
    "def f1(x0,y0,x1,y1):\n",
    "    return (x0*y1 - x1*y0) /(y1 - y0)\n",
    "\n",
    "def f2(x0,y0,x1,y1):\n",
    "    return x0 - (x1 - x0)*y0 /(y1 - y0)"
   ]
  },
  {
   "cell_type": "code",
   "execution_count": null,
   "metadata": {},
   "outputs": [],
   "source": [
    "f1_e = f1(1.31,3.24,1.93,4.76)\n",
    "f2_e = f2(1.31,3.24,1.93,4.76)\n",
    "print('f1 = {:.55f}'.format(f1_e))\n",
    "print('f2 = {:.55f}'.format(f2_e))"
   ]
  },
  {
   "cell_type": "code",
   "execution_count": null,
   "metadata": {},
   "outputs": [],
   "source": [
    "from decimal import getcontext, Decimal\n",
    "getcontext().prec=6\n",
    "print(getcontext())\n",
    "(x0, y0) = (Decimal(1.31),Decimal(3.24))\n",
    "(x1, y1) = (Decimal(1.93),Decimal(4.76))\n",
    "print('\\n {:.6f} \\t {:.6f} \\t {:.6f} \\t {:.6f} \\n'.format(x0,y0,x1,y1))\n",
    "f1_a = f1(x0,y0,x1,y1)\n",
    "f2_a = f2(x0,y0,x1,y1)\n",
    "print('f1 = {:.10f}'.format(f1_a))\n",
    "print('f2 = {:.10f}'.format(f2_a))"
   ]
  },
  {
   "cell_type": "code",
   "execution_count": null,
   "metadata": {},
   "outputs": [],
   "source": [
    "E1_a = np.fabs(f1_e - float(f1_a))\n",
    "E2_a = np.fabs(f2_e - float(f2_a))\n",
    "\n",
    "E1_r = E1_a / np.fabs(f1_e)\n",
    "E2_r = E2_a / np.fabs(f2_e)\n",
    "\n",
    "print('Error absoluto f1: {:.55f}'.format(E1_a))\n",
    "print('Error absoluto f2: {:.55f}'.format(E2_a))\n",
    "\n",
    "print('Error relativo f1: {:.55f}'.format(E1_r))\n",
    "print('Error relativo f2: {:.55f}'.format(E2_r))"
   ]
  },
  {
   "cell_type": "markdown",
   "metadata": {},
   "source": [
    "## Ejercicio 5. \n",
    "La secuencia $\\{F_n\\}$ descrita por $F_0 = 1, F_1 = 1$, y $F_{n+2}$ = $F_n + F_{n+1}$, si $n \\geq 0$, se conoce como la secuencia de Fibonacci. Sus términos ocurren naturalmente en especies botánicas, particularmente en aquellas con pétalos o escalas que se arreglan en forma de espiral logarítmica. \n",
    "\n",
    "Considere la secuencia $\\{x_n\\}$, donde $x_n = F_{n+1} / F_n$. El límite\n",
    "$\\lim_{n \\to \\infty} x_n = x$ existe y es: \n",
    "$$\n",
    "\\displaystyle x = \\frac{1 + \\sqrt{5}}{2} \\quad \\text{(golden ratio)} \n",
    "$$\n",
    "Escribir un algoritmo para aproximar $x$ y dada una $n$, calcular el error absoluto y el error relativo de la aproximación. Grafique la secuencia $x$.\n",
    "\n",
    "**Hint**: calcule los números de Fibonacci y posteriormente la secuencia $x_n$. "
   ]
  },
  {
   "cell_type": "code",
   "execution_count": null,
   "metadata": {},
   "outputs": [],
   "source": [
    "# Secuencia de Fibonacci\n",
    "n = 300\n",
    "a, b = 1, 1\n",
    "x = [1]\n",
    "while a < n:\n",
    "    print(a, end=',')\n",
    "    a, b = b, a+b\n",
    "    x.append(b/a)\n",
    "\n",
    "golden_ratio = (1 + np.sqrt(5))/2\n",
    "print('\\nGolden ratio : {:.55f}'.format(golden_ratio))\n",
    "print('Secuencia xn : {:.55f}'.format(x[-1]))\n",
    "Ea = np.fabs(golden_ratio - x[-1])\n",
    "Er = np.fabs(golden_ratio - x[-1]) / np.fabs(golden_ratio)\n",
    "print('Error absoluto : {:.55f}'.format(Ea))\n",
    "print('Error relativo : {:.55f}'.format(Er))\n",
    "\n",
    "plt.plot(x, 'o--')\n",
    "plt.show()"
   ]
  },
  {
   "cell_type": "code",
   "execution_count": null,
   "metadata": {},
   "outputs": [],
   "source": []
  }
 ],
 "metadata": {
  "kernelspec": {
   "display_name": "Python 3",
   "language": "python",
   "name": "python3"
  },
  "language_info": {
   "codemirror_mode": {
    "name": "ipython",
    "version": 3
   },
   "file_extension": ".py",
   "mimetype": "text/x-python",
   "name": "python",
   "nbconvert_exporter": "python",
   "pygments_lexer": "ipython3",
   "version": "3.7.6"
  }
 },
 "nbformat": 4,
 "nbformat_minor": 4
}
