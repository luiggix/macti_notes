{
 "cells": [
  {
   "cell_type": "markdown",
   "metadata": {},
   "source": [
    "# Aritmética de Punto flotante\n",
    "## Geofísica Matemática y Computacional\n",
    "\n",
    "- Prof. Luis Miguel de la Cruz Salas\n",
    "- Rev: lun sep 28 20:17:37 CDT 2020"
   ]
  },
  {
   "cell_type": "markdown",
   "metadata": {},
   "source": [
    "La aritmética que se realiza en una computadora digital es diferente de la que se usa en matemáticas:\n",
    "\n",
    "$$\n",
    "\\begin{eqnarray}\n",
    "2 + 2 & = & 4 \\\\\n",
    "4^2 & = &16 \\\\\n",
    "\\left(\\sqrt{3}\\right)^2 & = & 3 ? \n",
    "\\end{eqnarray}\n",
    "$$"
   ]
  },
  {
   "cell_type": "code",
   "execution_count": null,
   "metadata": {},
   "outputs": [],
   "source": [
    "2 + 2 "
   ]
  },
  {
   "cell_type": "code",
   "execution_count": null,
   "metadata": {},
   "outputs": [],
   "source": [
    "4**2"
   ]
  },
  {
   "cell_type": "code",
   "execution_count": null,
   "metadata": {},
   "outputs": [],
   "source": [
    "import math\n",
    "math.sqrt(3)**2"
   ]
  },
  {
   "cell_type": "markdown",
   "metadata": {},
   "source": [
    "- En la aritmética continua se permite que un número real pueda tener un número infinito de dígitos.\n",
    "\n",
    "$$\\frac{1}{3} = 0.3333333 \\dots 33333 \\dots $$\n",
    "\n",
    "- Una computadora solo puede representar un subconjunto de los números reales, el cual solo contiene números racionales (positivos y negativos)."
   ]
  },
  {
   "cell_type": "code",
   "execution_count": null,
   "metadata": {},
   "outputs": [],
   "source": [
    "1/3"
   ]
  },
  {
   "cell_type": "code",
   "execution_count": null,
   "metadata": {},
   "outputs": [],
   "source": [
    "format(1/3, '.55f')"
   ]
  },
  {
   "cell_type": "markdown",
   "metadata": {},
   "source": [
    "En el hardware de una computadora, los números se aproximan en base binaria; particularmente los números de punto flotante se aproximan con fracciones binarias. Por ejemplo, la fracción binaria $0.101$ se aproxima como sigue:\n",
    "\n",
    "$$\n",
    "0.101 = \\frac{1}{2^1} + \\frac{0}{2^2} + \\frac{1}{2^3} = 0.5 + 0.125 = 0.625\n",
    "$$\n",
    "\n",
    "Observe que la suma de fracciones anterior se puede escribir como: \n",
    "\n",
    "$$\n",
    "\\frac{1 * 2^2 + 1}{2^3} = \\frac{5}{2^3} = 0.625 \n",
    "$$\n",
    "\n",
    "es decir, la representación del número $0.625$ está dada en la forma: $\\displaystyle \\frac{J}{2^N}$.\n",
    "\n",
    "En base 10 el número anterior se puede representar somo sigue:\n",
    "\n",
    "$$\n",
    "0.625 = \\frac{6}{10} + \\frac{2}{10^2} + \\frac{5}{10^3}\n",
    "$$\n",
    "\n",
    "**Pero no siempre es posible representar los números de punto flotante con fracciones binarias**.\n",
    "\n",
    "Como se puedo observar anteriormente, la fracción $1/3$ se puede aproximar como una fracción en base $10$. Por ejemplo: \n",
    "$$\n",
    "\\begin{eqnarray}\n",
    "0.3 & = & \\frac{3}{10} \\\\\n",
    "0.33 & = & \\frac{3}{10} + \\frac{3}{100} \\\\\n",
    "0.333 & = &\\frac{3}{10} + \\frac{3}{100} + \\frac{3}{1000}\n",
    "\\end{eqnarray}\n",
    "$$\n",
    "\n",
    "Pero en binario no es posible representar $1/3$ de manera exacta. \n",
    "\n",
    "Otro ejemplo es el número $0.1 = 1/10$:"
   ]
  },
  {
   "cell_type": "code",
   "execution_count": null,
   "metadata": {},
   "outputs": [],
   "source": [
    "print(0.1)"
   ]
  },
  {
   "cell_type": "code",
   "execution_count": null,
   "metadata": {},
   "outputs": [],
   "source": [
    "print(1/10) # El resultado que imprime se ve correcto\n",
    "            # pero el resultado de la operación es \n",
    "            # la fracción binaria representable más cercana\n",
    "            # al valor correcto."
   ]
  },
  {
   "cell_type": "code",
   "execution_count": null,
   "metadata": {},
   "outputs": [],
   "source": [
    "format(0.1, '.55f') "
   ]
  },
  {
   "cell_type": "code",
   "execution_count": null,
   "metadata": {},
   "outputs": [],
   "source": [
    "format(1/10, '.55f') "
   ]
  },
  {
   "cell_type": "markdown",
   "metadata": {},
   "source": [
    "Existen varios números decimales que comparten la misma fracción binaria más aproximada. \n",
    "\n",
    "Por ejemplo, los siguientes números \n",
    "$$\n",
    "\\begin{array}{l}\n",
    "0.1 \\\\ \n",
    "0.10000000000000001 \\\\ \n",
    "0.1000000000000000055511151231257827021181583404541015625\n",
    "\\end{array}\n",
    "$$\n",
    "\n",
    "son todos aproximados por la siguiente fracción:\n",
    "$$\n",
    "\\frac{3602879701896397}{2^{55}} \n",
    "$$"
   ]
  },
  {
   "cell_type": "code",
   "execution_count": null,
   "metadata": {},
   "outputs": [],
   "source": [
    "format(3602879701896397 / 2 ** 55, '.55f')"
   ]
  },
  {
   "cell_type": "code",
   "execution_count": null,
   "metadata": {},
   "outputs": [],
   "source": [
    "format(0.10000000000000001, '.55f') "
   ]
  },
  {
   "cell_type": "code",
   "execution_count": null,
   "metadata": {},
   "outputs": [],
   "source": [
    "format(0.1000000000000000055511151231257827021181583404541015625, '.55f') "
   ]
  },
  {
   "cell_type": "markdown",
   "metadata": {},
   "source": [
    "Esto es muy importante cuando se usan constantes matemáticas en cálculos numéricos"
   ]
  },
  {
   "cell_type": "code",
   "execution_count": null,
   "metadata": {},
   "outputs": [],
   "source": [
    "print(str(math.pi))            # Se redondea el valor real almacenado\n",
    "print(repr(math.pi))           # para propósitos de despliegue \n",
    "print(format(math.pi, '.55f')) # muestra el valor real almacenado"
   ]
  },
  {
   "cell_type": "markdown",
   "metadata": {},
   "source": [
    "**Observación**: Esto puede crear ciertas ilusiones sobre el valor real de un número."
   ]
  },
  {
   "cell_type": "markdown",
   "metadata": {},
   "source": [
    "### Ejercicio:\n",
    "¿Que resultará de las siguientes evaluaciones?:\n",
    "```python\n",
    "0.1 == 1/10\n",
    "0.1 == repr(1/10)\n",
    "repr(0.1) == 1/10\n",
    ".1 + .1 + .1 == 0.3\n",
    "round(.1, 1) + round(.1, 1) + round(.1, 1) == round(.3, 1)\n",
    "round(.1 + .1 + .1, 10) == round(.3, 10)\n",
    "```\n",
    "Explique el resultado de las evaluaciones.\n",
    "\n",
    "**Hint**: Checar el valor más aproximado almacenado en memoria usando por ejemplo `format(x,'.52f')` y también usar el comando `type` para conocer el tipo de dato."
   ]
  },
  {
   "cell_type": "code",
   "execution_count": null,
   "metadata": {},
   "outputs": [],
   "source": [
    "0.1 == 1/10"
   ]
  },
  {
   "cell_type": "code",
   "execution_count": null,
   "metadata": {},
   "outputs": [],
   "source": [
    "0.1 == repr(1/10) "
   ]
  },
  {
   "cell_type": "code",
   "execution_count": null,
   "metadata": {},
   "outputs": [],
   "source": [
    "repr(0.1) == 1/10"
   ]
  },
  {
   "cell_type": "code",
   "execution_count": null,
   "metadata": {},
   "outputs": [],
   "source": [
    "0.1 + 0.1 + 0.1 == 0.3"
   ]
  },
  {
   "cell_type": "code",
   "execution_count": null,
   "metadata": {},
   "outputs": [],
   "source": [
    "format(0.3, '.55f')"
   ]
  },
  {
   "cell_type": "code",
   "execution_count": null,
   "metadata": {},
   "outputs": [],
   "source": [
    "round(.1, 1) + round(.1, 1) + round(.1, 1) == round(.3, 1)"
   ]
  },
  {
   "cell_type": "code",
   "execution_count": null,
   "metadata": {},
   "outputs": [],
   "source": [
    "round(.1 + .1 + .1, 10) == round(.3, 10)"
   ]
  },
  {
   "cell_type": "markdown",
   "metadata": {},
   "source": [
    "## Sistema  Numérico de Punto Flotante\n",
    "\n",
    "- Las computadoras cuentan con una cierta capacidad finita para almacenar información. \n",
    "\n",
    "- Los números reales se representan mediante los llamados **números de punto flotante** (*floating point numbers*) usando las siguentes características:\n",
    "\n",
    "    1. Signo **+** o **-** .\n",
    "    2. Mantisa con $t$ dígitos; donde $t$ es un entero positivo mayor o igual a 1.\n",
    "    3. Base $\\beta$; donde $\\beta$ es un entero positivo mayor que 1\n",
    "    4. Exponente $e$; donde $m \\le e \\le M$ con $m \\le 0$ y $M > t$ <br><br>\n",
    "\n",
    "- Cada número de punto flotante se representa como:\n",
    "    $$\n",
    "    \\pm .d_1d_2d_3\\dots d_t \\times \\beta^e\n",
    "    $$\n",
    "    donde $0 \\le d_i \\le \\beta - 1 \\,\\,\\, (i= 1,2,3,\\dots , t)$\n",
    "- La forma normalizada ocurre cuando $d_1 \\neq 0$\n",
    "\n",
    "- El número de dígitos en la mantisa es finito, lo que propicia un error en la representación y en las operaciones aritméticas\n",
    "\n",
    "### Por ejemplo\n",
    "**IBM 3000 series**\n",
    "\n",
    "- Sistema numérico de punto flotante (SNPF) de simple precisión: 1 dígito binario (bit) para el signo, 7 bits para el exponente en base 16, y 24 bits para la mantisa.\n",
    "    - 24 dígitos binarios corresponde a $\\approx$ 6 dígitos decimales.\n",
    "    - El exponente va de 0000000 = 0 a 1111111 = 127. \n",
    "    - Para asegurar la representación de números de magnitud pequeña, se resta 64 al exponente, de tal manera que el rango en realidad es de -64 a 63.\n",
    "    - Por ejemplo:\n",
    "\n",
    "|Signo|$$e$$|$$t$$|\n",
    "|---|---|---|\n",
    "|0|1000010|101100110000010000000000|\n",
    "| | | |\n",
    "\n",
    "$$\n",
    "1000010 = 1 \\cdot 2^6 + 0 \\cdot 2^5 + 0 \\cdot 0^4 + 0 \\cdot 2^3 + \n",
    "0 \\cdot 2^2 + 1 \\cdot 2^1 + 0 \\cdot 2^0  = 66\n",
    "\\Longrightarrow 16^{66-64}.\n",
    "$$\n",
    "\n",
    "$$\n",
    "\\left[\n",
    "\\left(\\frac{1}{2}\\right)^1 + \\left(\\frac{1}{2}\\right)^3 +\n",
    "\\left(\\frac{1}{2}\\right)^4 + \\left(\\frac{1}{2}\\right)^7 +\n",
    "\\left(\\frac{1}{2}\\right)^8 + \\left(\\frac{1}{2}\\right)^{14} \n",
    "\\right] 16^{66-64} = 179.015625\n",
    "$$\n",
    "\n",
    "- En este sistema, el siguiente número más pequeño y el siguiente más grande son:\n",
    "\n",
    "\n",
    "|0 |1000010 |101100110000001111111111 | = | 179.0156097412109375 |\n",
    "|---|---|---|---|---|\n",
    "|0 |1000010 |101100110000010000000001 | = | 179.0156402587890625 |\n",
    "\n",
    "$$\n",
    "\\Longrightarrow  179.015625 \\mbox{ representa } [179.0156097412109375, 179.0156402587890625]\n",
    "$$\n",
    "\n",
    "<br>\n",
    "\n",
    "<img src=\"floatingNumbers.png\" alt=\"Smiley\">\n",
    "\n",
    "\n",
    "- En 1985, el IEEE (Institute for Electrical and Electronic Engineers) publicó: *Binary Floating Point Arithmetic Standard 754, 1985 *.\n",
    "- Se especifican los formatos para precisión simple, doble y extendida, y esos estándares son usados por muchos constructores de CPUs."
   ]
  },
  {
   "cell_type": "markdown",
   "metadata": {},
   "source": [
    "### Error de representación\n",
    "Recordemos que muchas fracciones decimales no pueden representarse exactamente como fracciones binarias. Por esta razón, todos los lenguajes de programación no muestran el número decimal exacto que se espera.\n",
    "\n",
    "La mayoría de las computadoras utilizan el estándar IEEE-754 para representar números de punto flotante. Los números de doble precisión en el IEEE-754 tienen 53 bits de precisión, por lo tanto, la representación del número $0.1$ en este sistema requiere de un número $J$, de 53 bits, tal que:\n",
    "\n",
    "$$\n",
    "\\frac{J}{2^N} \\approx 0.1\n",
    "$$\n",
    "\n",
    "Usando la fórmula anterior tenemos que:\n",
    "\n",
    "$$\n",
    "J \\approx \\frac{2^N}{10}\n",
    "$$\n",
    "\n",
    "Dado que $J$ debe tener exactamente 53 bits, entonces se cumple que $2^{52} \\leq J \\leq 2^{53}$. Se puede comprobar fácilmente que para que esto ocurra, entonces $N = 56$:"
   ]
  },
  {
   "cell_type": "code",
   "execution_count": null,
   "metadata": {},
   "outputs": [],
   "source": [
    "J = 2**56 // 10 # división entera\n",
    "print('{} < {} < {}'.format(2**52, J, 2**53))\n",
    "print(2**52 < J < 2**53)"
   ]
  },
  {
   "cell_type": "markdown",
   "metadata": {},
   "source": [
    "Observe que en la celda anterior realizamos la división entera con el propósito de comparar con otros valores enteros. Si hacemos el cálculo usando flotantes y luego convertimos a entero obtenemos el valor requerido de $J$:"
   ]
  },
  {
   "cell_type": "code",
   "execution_count": null,
   "metadata": {},
   "outputs": [],
   "source": [
    "J = int(2**56 / 10) \n",
    "J"
   ]
  },
  {
   "cell_type": "markdown",
   "metadata": {},
   "source": [
    "Entonces, la representación de $0.1$ en este sistema es $\\displaystyle \\frac{7205759403792794}{2^{56}}$ que se puede reducir a \n",
    "$\\displaystyle \\frac{3602879701896397}{2^{55}}$, por lo tanto:"
   ]
  },
  {
   "cell_type": "code",
   "execution_count": null,
   "metadata": {},
   "outputs": [],
   "source": [
    "representacion = 3602879701896397 / 2**55"
   ]
  },
  {
   "cell_type": "code",
   "execution_count": null,
   "metadata": {},
   "outputs": [],
   "source": [
    "0.1 == representacion"
   ]
  },
  {
   "cell_type": "code",
   "execution_count": null,
   "metadata": {},
   "outputs": [],
   "source": [
    "print('0.1 ~ {:.55f} en el sistema en IEEE-754'.format(representacion))"
   ]
  },
  {
   "cell_type": "markdown",
   "metadata": {},
   "source": [
    "La mayoría de los lenguajes utilizan 17 dígitos significativos para desplegar los números de punto flotante:"
   ]
  },
  {
   "cell_type": "code",
   "execution_count": null,
   "metadata": {},
   "outputs": [],
   "source": [
    "print('0.1 ~ {:.17f} en el sistema en IEEE-754'.format(representacion))"
   ]
  },
  {
   "cell_type": "markdown",
   "metadata": {},
   "source": [
    "## Algunas funciones útiles"
   ]
  },
  {
   "cell_type": "code",
   "execution_count": null,
   "metadata": {},
   "outputs": [],
   "source": [
    "from decimal import Decimal\n",
    "from fractions import Fraction"
   ]
  },
  {
   "cell_type": "code",
   "execution_count": null,
   "metadata": {},
   "outputs": [],
   "source": [
    "Fraction.from_float(0.1) # regresa los enteros usados para \n",
    "                         # la representación del número flotante "
   ]
  },
  {
   "cell_type": "code",
   "execution_count": null,
   "metadata": {},
   "outputs": [],
   "source": [
    "3602879701896397 / 36028797018963968"
   ]
  },
  {
   "cell_type": "code",
   "execution_count": null,
   "metadata": {},
   "outputs": [],
   "source": [
    "2**55"
   ]
  },
  {
   "cell_type": "code",
   "execution_count": null,
   "metadata": {},
   "outputs": [],
   "source": [
    "print('0.1 ~ {:.55f}'.format(3602879701896397 / 36028797018963968))"
   ]
  },
  {
   "cell_type": "code",
   "execution_count": null,
   "metadata": {},
   "outputs": [],
   "source": [
    "(0.1).as_integer_ratio() # regresa los enteros usados para \n",
    "                         # la representación del número flotante "
   ]
  },
  {
   "cell_type": "code",
   "execution_count": null,
   "metadata": {},
   "outputs": [],
   "source": [
    "Decimal.from_float(0.1)"
   ]
  },
  {
   "cell_type": "code",
   "execution_count": null,
   "metadata": {},
   "outputs": [],
   "source": [
    "## Cualquier otro número\n",
    "x = 3.14159\n",
    "x.as_integer_ratio() "
   ]
  },
  {
   "cell_type": "code",
   "execution_count": null,
   "metadata": {},
   "outputs": [],
   "source": [
    "3537115888337719 / 1125899906842624"
   ]
  },
  {
   "cell_type": "markdown",
   "metadata": {},
   "source": [
    "**Conversión decimal a hexadecimal**"
   ]
  },
  {
   "cell_type": "code",
   "execution_count": null,
   "metadata": {},
   "outputs": [],
   "source": [
    "x.hex() # Convierte el flotante a hexadecimal"
   ]
  },
  {
   "cell_type": "code",
   "execution_count": null,
   "metadata": {},
   "outputs": [],
   "source": [
    "float.fromhex('0x1.921f9f01b866ep+1') # convierte el hexadecimal a flotante"
   ]
  },
  {
   "cell_type": "code",
   "execution_count": null,
   "metadata": {},
   "outputs": [],
   "source": [
    "x == float.fromhex('0x1.921f9f01b866ep+1')"
   ]
  },
  {
   "cell_type": "markdown",
   "metadata": {},
   "source": [
    "El uso de hexadecimales es útil para portabilidad de valores entre diferentes versiones de Python y para el intercambio de información con otros lenguajes.\n",
    "\n",
    "**Mitigación del error**\n",
    "\n",
    "Es posible que en algunos casos se pierda precisión de tal manera que el resultado se vea afectado, por ejemplo:"
   ]
  },
  {
   "cell_type": "code",
   "execution_count": null,
   "metadata": {},
   "outputs": [],
   "source": [
    "lista = [0.1] * 10\n",
    "lista"
   ]
  },
  {
   "cell_type": "code",
   "execution_count": null,
   "metadata": {},
   "outputs": [],
   "source": [
    "suma = sum(lista)\n",
    "print('Suma = {:.52f}'.format(suma))"
   ]
  },
  {
   "cell_type": "code",
   "execution_count": null,
   "metadata": {},
   "outputs": [],
   "source": [
    "suma = math.fsum(lista)\n",
    "print('Suma = {:.52f}'.format(suma))"
   ]
  },
  {
   "cell_type": "markdown",
   "metadata": {},
   "source": [
    "La función `math.fsum()`ayuda **a mitigar** la pérdida de precisión durante la suma."
   ]
  },
  {
   "cell_type": "markdown",
   "metadata": {},
   "source": [
    "**Decimal**\n",
    "\n",
    "Con esta biblioteca, los números se pueden representar de manera exacta y es my útil cuando se requiere de una \"aritmética exacta\"."
   ]
  },
  {
   "cell_type": "code",
   "execution_count": null,
   "metadata": {},
   "outputs": [],
   "source": [
    "from decimal import getcontext, Decimal\n",
    "getcontext()"
   ]
  },
  {
   "cell_type": "code",
   "execution_count": null,
   "metadata": {},
   "outputs": [],
   "source": [
    "getcontext().prec = 10\n",
    "print(getcontext())\n",
    "\n",
    "r = Decimal(0.1) + Decimal(0.1) + Decimal(0.1)\n",
    "print('\\n 0.3 ~ {:.55f} '.format(r))"
   ]
  },
  {
   "cell_type": "markdown",
   "metadata": {},
   "source": [
    "**Truncamiento y redondeo**\n",
    "\n",
    "Dado el número $\\pi = 3.1415926535897931159979634 \\dots  = 0.31415926535897931159979634 \\dots \\times 10^1$, podemos hacer lo siguiente:\n",
    "\n",
    "- **Truncamiento**: Usando 5 dígitos: $0.31415 \\times 10^1 = 3.1415 $\n",
    "- **Redondeo**: Usando 5 dígitos: $(0.31415 + 0.00001) \\times 10^1 = 3.1416$\n",
    "\n",
    "\n",
    "Opciones de redondeo: \n",
    "- ROUND_CEILING, \n",
    "- ROUND_DOWN, \n",
    "- ROUND_FLOOR, \n",
    "- ROUND_HALF_DOWN, \n",
    "- ROUND_HALF_EVEN, \n",
    "- ROUND_HALF_UP, \n",
    "- ROUND_UP, \n",
    "- ROUND_05UP."
   ]
  },
  {
   "cell_type": "code",
   "execution_count": null,
   "metadata": {},
   "outputs": [],
   "source": [
    "from decimal import setcontext, Context, ROUND_CEILING, ROUND_FLOOR, ROUND_HALF_DOWN, ROUND_HALF_EVEN, ROUND_HALF_UP, ROUND_UP, ROUND_05UP\n",
    "redondeo = ['ROUND_CEILING', 'ROUND_FLOOR', 'ROUND_HALF_DOWN', \n",
    "            'ROUND_HALF_EVEN', 'ROUND_HALF_UP', 'ROUND_UP', 'ROUND_05UP']\n",
    "for r in redondeo:\n",
    "    setcontext(Context(prec=6, rounding=r))\n",
    "    print(getcontext())\n",
    "    print(Decimal(3.1415926535897931159979634) * 1, '\\n')"
   ]
  },
  {
   "cell_type": "markdown",
   "metadata": {},
   "source": [
    "**Fractions**"
   ]
  },
  {
   "cell_type": "code",
   "execution_count": null,
   "metadata": {},
   "outputs": [],
   "source": [
    "from fractions import Fraction\n",
    "\n",
    "num1 = Fraction(2,3)\n",
    "num2 = Fraction(1,3)\n",
    "\n",
    "print(\"num1 = {} and num2 = {}\".format(num1,num2))\n",
    "\n",
    "print(num1 + num2)\n",
    "\n",
    "print(num1 - num2)\n",
    "\n",
    "print(num1*10)\n",
    "\n",
    "print(num1/num2)\n"
   ]
  },
  {
   "cell_type": "markdown",
   "metadata": {},
   "source": [
    "## Características del SNPF en Python 3\n",
    "\n",
    "<font color=##009900>**NumPy**</font> soporta una variedad más amplia de tipos numéricos.\n",
    "\n",
    "<img src=\"dataTypes.png\" alt=\"Smiley\">\n"
   ]
  },
  {
   "cell_type": "code",
   "execution_count": null,
   "metadata": {
    "scrolled": true
   },
   "outputs": [],
   "source": [
    "import numpy as np\n",
    "x = np.float64(0.1)\n",
    "print(format(x,'.52f'))\n",
    "print(type(x))\n",
    "\n",
    "y = np.int_([1,2,4])\n",
    "print(y)\n",
    "print(type(y))\n",
    "print(type(y[1]))\n",
    "\n",
    "z = np.arange(3, dtype=np.uint8)\n",
    "print(z)\n",
    "print(type(z))\n",
    "print(type(z[0]))"
   ]
  },
  {
   "cell_type": "code",
   "execution_count": null,
   "metadata": {},
   "outputs": [],
   "source": [
    "xd = math.pi\n",
    "print(format(xd,'.52f'))\n",
    "print(type(xd))\n",
    "\n",
    "xdd = np.float64(xd)\n",
    "print(format(xdd,'.52f'))\n",
    "print(type(xdd))"
   ]
  },
  {
   "cell_type": "code",
   "execution_count": null,
   "metadata": {
    "scrolled": true
   },
   "outputs": [],
   "source": [
    "np.finfo(np.float)"
   ]
  },
  {
   "cell_type": "code",
   "execution_count": null,
   "metadata": {
    "scrolled": true
   },
   "outputs": [],
   "source": [
    "np.finfo(np.float64)"
   ]
  },
  {
   "cell_type": "code",
   "execution_count": null,
   "metadata": {
    "scrolled": true
   },
   "outputs": [],
   "source": [
    "np.finfo(np.float64).eps"
   ]
  },
  {
   "cell_type": "code",
   "execution_count": null,
   "metadata": {
    "scrolled": true
   },
   "outputs": [],
   "source": [
    "np.finfo(np.float64).nmant"
   ]
  },
  {
   "cell_type": "code",
   "execution_count": null,
   "metadata": {},
   "outputs": [],
   "source": [
    "print(np.finfo(np.float))\n",
    "print(np.finfo(np.float32))\n",
    "print(np.finfo(np.float16))"
   ]
  },
  {
   "cell_type": "markdown",
   "metadata": {
    "collapsed": true
   },
   "source": [
    "- Para entender esto con mayor detalle véase:\n",
    "    - http://www.lahey.com/float.htm\n",
    "    - https://docs.oracle.com/cd/E19957-01/806-3568/ncg_goldberg.html"
   ]
  },
  {
   "cell_type": "markdown",
   "metadata": {},
   "source": [
    "## Error Absoluto y Relativo\n",
    "\n",
    "Dado un número $p$ y una aproximación $pa$, se define lo siguiente:\n",
    "\n",
    "**Error Absoluto** : $E_a = |p - pa|$\n",
    "\n",
    "**Error Relativo**: $\\displaystyle E_r = \\frac{|p - pa|}{|p|}$"
   ]
  },
  {
   "cell_type": "code",
   "execution_count": null,
   "metadata": {},
   "outputs": [],
   "source": [
    "import pandas as pd\n",
    "p = [0.3000e1, 0.3000e-3, 0.3000e-4]\n",
    "pa = [0.3100e1, 0.3100e-3, 0.3100e-4]\n",
    "df = pd.DataFrame(np.array([p, pa]).T, columns=['p', 'pa'])\n",
    "df"
   ]
  },
  {
   "cell_type": "code",
   "execution_count": null,
   "metadata": {},
   "outputs": [],
   "source": [
    "E_a = []\n",
    "E_r = []\n",
    "for ip, ipa in zip(p, pa):\n",
    "    E_a.append( np.fabs(ip-ipa) )\n",
    "    E_r.append( np.fabs(ip-ipa) / np.fabs(ip) )\n",
    "\n",
    "df['$E_a$'] = E_a\n",
    "df['$E_r$'] = E_r"
   ]
  },
  {
   "cell_type": "code",
   "execution_count": null,
   "metadata": {},
   "outputs": [],
   "source": [
    "df"
   ]
  },
  {
   "cell_type": "markdown",
   "metadata": {},
   "source": [
    "## Dígitos significativos\n",
    "Un número $pa$ aproxima a un número $p$ hasta $t$ dígitos significativos (número de dígitos decimales) si $t$ es el entero no negativo más grande para el cual se cumple lo siguiente:\n",
    "\n",
    "$$\n",
    "\\frac{|p - pa|}{|p|} \\leq 5 \\times 10^{-t}\n",
    "$$"
   ]
  },
  {
   "cell_type": "markdown",
   "metadata": {},
   "source": [
    "### Ejercicio\n",
    "\n",
    "Encontrar el intervalo en el que debe caer $pa$ para aproximar $p$ con un error relativo de a lo más $10^{-4}$ para los siguientes valores de $p$: \n",
    "    **a)** $\\pi$, \n",
    "    **b)** $e$, \n",
    "    **c)** $\\sqrt{2}$, \n",
    "    **d)** $\\sqrt[3]{7}$.\n",
    "    \n",
    "**a)**\n",
    "\n",
    "$$\n",
    "\\begin{eqnarray}\n",
    "\\frac{|\\pi - pa|}{|\\pi|} \\leq 10^{-4} & \\Longrightarrow & |\\pi - pa| \\leq |\\pi| \\times 10^{-4} \\\\\n",
    "& \\Longrightarrow & -\\pi \\times 10^{-4} \\leq \\pi - pa \\leq \\pi \\times 10^{-4} \\\\\n",
    "& \\Longrightarrow & -(1+ 10^{-4}) \\times \\pi \\leq - pa \\leq -(1- 10^{-4}) \\times \\pi \\\\\n",
    "& \\Longrightarrow & -(1- 10^{-4}) \\times \\pi \\leq pa \\leq -(1+ 10^{-4}) \\times \\pi \n",
    "\\end{eqnarray}\n",
    "$$"
   ]
  },
  {
   "cell_type": "code",
   "execution_count": null,
   "metadata": {},
   "outputs": [],
   "source": [
    "A = round((1-1e-4) * math.pi, 4)\n",
    "B = round((1+1e-4) * math.pi, 4)"
   ]
  },
  {
   "cell_type": "code",
   "execution_count": null,
   "metadata": {},
   "outputs": [],
   "source": [
    "print('Intervalo : [ {}, {}]'.format(A,B))"
   ]
  },
  {
   "cell_type": "code",
   "execution_count": null,
   "metadata": {},
   "outputs": [],
   "source": [
    "pa = 3.1415"
   ]
  },
  {
   "cell_type": "code",
   "execution_count": null,
   "metadata": {},
   "outputs": [],
   "source": [
    "E_r_1 = np.fabs(A - pa) / np.fabs(A)\n",
    "E_r_2 = np.fabs(B - pa) / np.fabs(B)\n",
    "\n",
    "print('E_1 = {:.5f}'.format(E_r_1))\n",
    "print('E_2 = {:.5f}'.format(E_r_2))\n"
   ]
  },
  {
   "cell_type": "code",
   "execution_count": null,
   "metadata": {},
   "outputs": [],
   "source": []
  }
 ],
 "metadata": {
  "kernelspec": {
   "display_name": "Python 3",
   "language": "python",
   "name": "python3"
  },
  "language_info": {
   "codemirror_mode": {
    "name": "ipython",
    "version": 3
   },
   "file_extension": ".py",
   "mimetype": "text/x-python",
   "name": "python",
   "nbconvert_exporter": "python",
   "pygments_lexer": "ipython3",
   "version": "3.7.6"
  }
 },
 "nbformat": 4,
 "nbformat_minor": 2
}
