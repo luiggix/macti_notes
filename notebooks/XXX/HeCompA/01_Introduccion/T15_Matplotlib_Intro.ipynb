{
 "cells": [
  {
   "cell_type": "markdown",
   "metadata": {},
   "source": [
    "# Introducción a Python para IA.\n",
    "\n",
    "<p xmlns:cc=\"http://creativecommons.org/ns#\" xmlns:dct=\"http://purl.org/dc/terms/\"><a property=\"dct:title\" rel=\"cc:attributionURL\" href=\"https://github.com/luiggix/intro_MeIA_2023\">Introducción a Python para IA</a> by <span property=\"cc:attributionName\">Luis Miguel de la Cruz Salas</span> is licensed under <a href=\"http://creativecommons.org/licenses/by-nc-sa/4.0/?ref=chooser-v1\" target=\"_blank\" rel=\"license noopener noreferrer\" style=\"display:inline-block;\">CC BY-NC-SA 4.0<img style=\"height:22px!important;margin-left:3px;vertical-align:text-bottom;\" src=\"https://mirrors.creativecommons.org/presskit/icons/cc.svg?ref=chooser-v1\"><img style=\"height:22px!important;margin-left:3px;vertical-align:text-bottom;\" src=\"https://mirrors.creativecommons.org/presskit/icons/by.svg?ref=chooser-v1\"><img style=\"height:22px!important;margin-left:3px;vertical-align:text-bottom;\" src=\"https://mirrors.creativecommons.org/presskit/icons/nc.svg?ref=chooser-v1\"><img style=\"height:22px!important;margin-left:3px;vertical-align:text-bottom;\" src=\"https://mirrors.creativecommons.org/presskit/icons/sa.svg?ref=chooser-v1\"></a></p> \n",
    "\n",
    "# Objetivos.\n",
    "\n",
    "Revisar los conceptos de Matplotlib y el uso de varias de sus funciones."
   ]
  },
  {
   "cell_type": "markdown",
   "metadata": {
    "tags": []
   },
   "source": [
    "# Introducción.\n",
    "\n",
    "**Matplotlib** es una biblioteca de Python multiplataforma para generar gráficos (plots) en dos dimensiones con las siguientes características: \n",
    "\n",
    "* Se puede usar en una variedad de ámbitos:\n",
    "    - Scripts de Python, Shells de IPython, Notebooks de Jupyter, Aplicaciones para Web e Interfaces Gráficas de Usuario (GUI). \n",
    "* Se puede usar para desarrollar aplicaciones profesionales.\n",
    "* Puede generar varios tipos de formatos de figuras y videos:\n",
    "    - png, jpg, svg, pdf, mp4, ...\n",
    "* Tiene un soporte limitado para realizar figuras en 3D.\n",
    "* Puede combinarse con otras bibliotecas y aplicaciones para extender su funcionalidad.\n",
    "\n",
    "**Arquitectura** de tres capas:\n",
    "* **Scripting**: API para crear gráficas.\n",
    "    - Provee de una interfaz simple para crear gráficas.\n",
    "    - Está orientada a usuarios sin mucha experiencia en la programación.\n",
    "    - Es lo que se conoce como el API de pyplot.\n",
    "* **Artist**: Hace el trabajo interno de creación de los elementos de la gráfica.\n",
    "   - Los Artist (¿artesanos?) dibujan los elementos de la gráfica.\n",
    "   - Cada elemento que se ve en la gráfica es un Artist.\n",
    "   - Provee de un API orientado a objetos muy flexible.\n",
    "   - Está orientado a programadores expertos para crear aplicaciones complejas.\n",
    "* **Backend**: El lugar donde se despliega la gráfica. Las gráficas se envían a un dispositivo de salida. Puede ser cualquier interfaz que soporta Matplotlib:\n",
    "   - User interface backends (interactive backends): pygtk, wxpython, tkinter, qt4, macosx, … \n",
    "   - Hard-copy backends (non-interactive backends): .png, .svg, .pdf, .ps"
   ]
  },
  {
   "cell_type": "markdown",
   "metadata": {
    "tags": []
   },
   "source": [
    "# Matplotlib: anatomía de una figura.\n",
    "\n",
    "[https://matplotlib.org/stable/_images/anatomy.png]\n",
    "<img src=\"https://matplotlib.org/stable/_images/anatomy.png\" width=500>"
   ]
  },
  {
   "cell_type": "code",
   "execution_count": 1,
   "metadata": {
    "tags": []
   },
   "outputs": [],
   "source": [
    "import numpy as np\n",
    "import matplotlib.pyplot as plt"
   ]
  },
  {
   "cell_type": "markdown",
   "metadata": {},
   "source": [
    "## Figure\n",
    "- Representa a la figura completa. \n",
    "- Le da seguimiento a todos sus ejes hijos (*Axes*), un puñado de artistas especiales (*titles*, *figure legends*, etc.) y el lienzo (*canvas*).\n",
    "- Una figura puede tener cualquier número de ejes (*Axes*), y siempre debe haber al menos uno.\n",
    "- La forma más fácil de crear una figura es con `pyplot`."
   ]
  },
  {
   "cell_type": "code",
   "execution_count": 2,
   "metadata": {
    "tags": []
   },
   "outputs": [
    {
     "data": {
      "text/plain": [
       "<Figure size 640x480 with 0 Axes>"
      ]
     },
     "metadata": {},
     "output_type": "display_data"
    }
   ],
   "source": [
    "# Creación de una figura (pyplot)\n",
    "fig = plt.figure()"
   ]
  },
  {
   "cell_type": "code",
   "execution_count": 3,
   "metadata": {
    "tags": []
   },
   "outputs": [
    {
     "name": "stdout",
     "output_type": "stream",
     "text": [
      "Figure(640x480) <class 'matplotlib.figure.Figure'> 139885307633616\n"
     ]
    }
   ],
   "source": [
    "print(fig, type(fig), id(fig))"
   ]
  },
  {
   "cell_type": "markdown",
   "metadata": {},
   "source": [
    "## Axes\n",
    "- Es la región de la imagen con el espacio para graficar los datos.\n",
    "- Una figura puede contener muchos objetos de tipo *Axes*, pero un objeto *Axes* solo puede estar en una figura.\n",
    "- Los objetos *Axes* contienen dos objetos *Axis* (tres en 3D) los cuales se encargan de los límites de los datos.\n",
    "- Cada objeto *Axes* tiene un título (`set_title())`, un *x-label* (`set_xlabel()`) y un *y-label* (`set_ylabel()`).\n",
    "- La clase `Axes` y sus funciones miembro son el primer punto de entrada para trabajar con la interface Orientada a Objetos."
   ]
  },
  {
   "cell_type": "code",
   "execution_count": 4,
   "metadata": {
    "tags": []
   },
   "outputs": [
    {
     "name": "stdout",
     "output_type": "stream",
     "text": [
      "Figure(640x480) <class 'matplotlib.figure.Figure'> 139885306022736\n",
      "Axes(0.125,0.11;0.775x0.77) <class 'matplotlib.axes._axes.Axes'> 139885311588944\n"
     ]
    },
    {
     "data": {
      "image/png": "[encoded data removed]",
      "text/plain": [
       "<Figure size 640x480 with 1 Axes>"
      ]
     },
     "metadata": {},
     "output_type": "display_data"
    }
   ],
   "source": [
    "# Obtiene los ejes (Axes) de la figura actual (get current axes)\n",
    "ax = plt.gca() \n",
    "\n",
    "# Obtiene la figura actual\n",
    "fig = plt.gcf()\n",
    "\n",
    "print(fig, type(fig), id(fig))\n",
    "print(ax, type(ax), id(ax))"
   ]
  },
  {
   "cell_type": "markdown",
   "metadata": {},
   "source": [
    "## Subgráficas en una figura."
   ]
  },
  {
   "cell_type": "code",
   "execution_count": 5,
   "metadata": {
    "tags": []
   },
   "outputs": [
    {
     "name": "stdout",
     "output_type": "stream",
     "text": [
      "Figure(640x480) <class 'matplotlib.figure.Figure'> 139885310848016\n",
      "Axes(0.125,0.11;0.775x0.77) <class 'matplotlib.axes._axes.Axes'> 139885306467216\n"
     ]
    },
    {
     "data": {
      "image/png": "[encoded data removed]",
      "text/plain": [
       "<Figure size 640x480 with 1 Axes>"
      ]
     },
     "metadata": {},
     "output_type": "display_data"
    }
   ],
   "source": [
    "# Genera una subgráfica\n",
    "fig, ax = plt.subplots(1)\n",
    "\n",
    "print(fig, type(fig), id(fig))\n",
    "print(ax, type(ax), id(ax))"
   ]
  },
  {
   "cell_type": "code",
   "execution_count": 6,
   "metadata": {
    "tags": []
   },
   "outputs": [
    {
     "data": {
      "text/plain": [
       "Text(0.5, 1.0, 'Ejes 1,1')"
      ]
     },
     "execution_count": 6,
     "metadata": {},
     "output_type": "execute_result"
    },
    {
     "data": {
      "image/png": "[encoded data removed]",
      "text/plain": [
       "<Figure size 640x480 with 6 Axes>"
      ]
     },
     "metadata": {},
     "output_type": "display_data"
    }
   ],
   "source": [
    "# Genera 6 subgráficas, arreglo de 2 renglones por tres columnas\n",
    "fig, axes = plt.subplots(2,3)\n",
    "\n",
    "# Se puede usar cada conjunto de ejes por separado\n",
    "axes[0,0].set_title('Ejes 0,0')\n",
    "axes[1,1].set_title('Ejes 1,1')"
   ]
  },
  {
   "cell_type": "code",
   "execution_count": null,
   "metadata": {
    "tags": []
   },
   "outputs": [],
   "source": [
    "print(axes[0,1], type(axes[0,1]), id(axes[0,1]))"
   ]
  },
  {
   "cell_type": "markdown",
   "metadata": {},
   "source": [
    "## Axis\n",
    "- Estos son objetos del tipo línea numerada. \n",
    "- Se encargan de configurar los límites de la gráfica y de generar las marcas sobre los ejes (*ticks*) y las etiquetas sobre esas marcas (*ticklabels*).\n",
    "- El lugar donde se ponen esas marcas se determina por un objeto `Locator` y las cadenas de las etiquetas son formateadas por un objeto `Formatter`.\n",
    "- La combinación de los objetos `Locator` y `Formatter` adecuados dan un control muy fino sobre el lugar de los *ticks* y sus *ticklabels*.\n"
   ]
  },
  {
   "cell_type": "code",
   "execution_count": 7,
   "metadata": {
    "tags": []
   },
   "outputs": [
    {
     "data": {
      "text/plain": [
       "([<matplotlib.axis.YTick at 0x7f3993ae1e10>,\n",
       "  <matplotlib.axis.YTick at 0x7f3993b8e390>],\n",
       " [Text(0, 0.0, 'A'), Text(0, 1.0, 'B')])"
      ]
     },
     "execution_count": 7,
     "metadata": {},
     "output_type": "execute_result"
    },
    {
     "data": {
      "image/png": "[encoded data removed]",
      "text/plain": [
       "<Figure size 1000x500 with 1 Axes>"
      ]
     },
     "metadata": {},
     "output_type": "display_data"
    }
   ],
   "source": [
    "# Generación de las etiquetas de los ejes, los ticks y los tickslabels.\n",
    "fig = plt.figure(figsize=(10,5))\n",
    "plt.xlabel('x')\n",
    "plt.ylabel('y')\n",
    "plt.xticks(ticks=np.linspace(0,1,5), labels=['a', 'b', 'c', 'd', 'e'])\n",
    "plt.yticks(ticks=np.linspace(0,1,2), labels=['A', 'B'])\n",
    "#plt.show()"
   ]
  },
  {
   "cell_type": "markdown",
   "metadata": {},
   "source": [
    "## Artist\n",
    "- Todo lo que se puede ver en la figura es un *Artist*: `Figure`, `Axes` y `Axis`, `Text`, `Line2D`, `collection`, `Patch`, etc.\n",
    "- Cuando una figura es producida/generada, todos los *Artist* son dibujados sobre el canvas.\n",
    "- La mayoría de los *Artist* están ligados a objetos de tipo `Axes`, esos *Artist* no se pueden compartir con múltiples `Axes`, ni se pueden mover a otros `Axes`.\n"
   ]
  },
  {
   "cell_type": "markdown",
   "metadata": {},
   "source": [
    "### Ejemplo 0. Varios `Artist` en una figura."
   ]
  },
  {
   "cell_type": "code",
   "execution_count": null,
   "metadata": {
    "tags": []
   },
   "outputs": [],
   "source": [
    "# Figura con una gráfica y varios Artist\n",
    "\n",
    "# Datos a graficar\n",
    "x = np.linspace(0,2*np.pi,100)\n",
    "y = np.sin(4*x)*np.exp(-x)\n",
    "\n",
    "# La siguiente instrucción crea la figura, aunque no es\n",
    "# necesario hacer explícita esta creación pues la figura \n",
    "# se crea automáticamente con el uso de algunas funciones \n",
    "# de matplotlib. Es útil para definir características de\n",
    "# la figura al inicio, por ejemplo figsize=(,)\n",
    "plt.figure()\n",
    "\n",
    "# Graficamos los datos con una línea y le ponemos una etiqueta\n",
    "plt.plot(x,y, label='$\\sin(4 \\pi x) e^{-x}$')\n",
    "\n",
    "# Lo que sigue es la decoración de la figura y de los ejes\n",
    "plt.suptitle('FIGURA') # título de la figura\n",
    "plt.title('Onda amortiguada') # título de los ejes\n",
    "plt.xlabel('$x$')\n",
    "plt.ylabel('$y$')\n",
    "plt.grid()\n",
    "plt.legend()\n",
    "\n",
    "# Despliegue de la gráfica y generación de un archivo\n",
    "plt.savefig('onda_amortiguada.pdf')\n",
    "plt.show()"
   ]
  },
  {
   "cell_type": "markdown",
   "metadata": {
    "tags": []
   },
   "source": [
    "### Ejemplo 1. `plot()` y `scatter()`\n",
    "Dibujar las funciones $\\sin(x)$ , $\\cos(x)$ y puntos aleatorios en una sola gráfica en el dominio $(x,y) \\in [0,2\\pi] \\times [-1,1]$."
   ]
  },
  {
   "cell_type": "code",
   "execution_count": null,
   "metadata": {
    "tags": []
   },
   "outputs": [],
   "source": [
    "# Definimos el dominio para x\n",
    "x = np.linspace(0,2*np.pi,100)\n",
    "\n",
    "# Generamos un conjunto de datos aleatorios\n",
    "r = np.random.rand(2,50)\n",
    "\n",
    "# Transformamos los datos al dominio de (x,y)\n",
    "r[0] *= 2*np.pi      # de 0 a 2 * pi\n",
    "r[1] =  r[1] * 2 - 1 # de -1  a 1\n",
    "\n",
    "# Lo anterior se puede hacer también con la siguiente operación entre arreglos\n",
    "# r = np.random.rand(2,50) * np.array([2*np.pi, 2]).reshape(2,1) - np.array([0,1]).reshape(2,1)\n",
    "\n",
    "# Evaluamos las funciones sin(x) y cos(x)\n",
    "y1 = np.sin(x)\n",
    "y2 = np.cos(x)\n",
    "\n",
    "# Graficamos\n",
    "plt.plot(x, y1, x, y2)  # Dibuja líneas por omisión\n",
    "plt.scatter(r[0], r[1], c='C2') # Dibuja marcadores\n",
    "\n",
    "plt.show()"
   ]
  },
  {
   "cell_type": "markdown",
   "metadata": {},
   "source": [
    "La gráfica anterior se puede decorar un poco mejor usando las opciones de los *artist* involucrados."
   ]
  },
  {
   "cell_type": "code",
   "execution_count": null,
   "metadata": {
    "tags": []
   },
   "outputs": [],
   "source": [
    "# Para la gráfica de sin(x), cambiamos el ancho de la línea (lw=3), \n",
    "# el color (c='C7') y la etiqueta (label='sin')\n",
    "plt.plot(x, y1, lw = 3, c='C7', label='sin')\n",
    "\n",
    "# Para la gráfica de cos(x) solo agregamos la etiqueta (label='cos')\n",
    "plt.plot(x, y2, label='cos')\n",
    "\n",
    "# Para los puntos aleatorios calculamos un 'area' para cada marcador.\n",
    "# Esta área se cálcula de manera pseudo-aleatoria.\n",
    "area = np.random.rand(50) * 100\n",
    "\n",
    "# Usamos el área para cambiar el tamaño de cada marcador (s=area),\n",
    "# cambiamos el mapa de color (cmap='cool'), el color del borde de los\n",
    "# marcadores lo hacemos de color negro (edgecolor='k'), y le damos una\n",
    "# transparencia al marcador (alpha=0.5).\n",
    "plt.scatter(r[0], r[1], s=area, c=area, cmap='cool', edgecolor='k', alpha=0.5)\n",
    "\n",
    "# Ponemos nombre a los ejes\n",
    "plt.xlabel('x')\n",
    "plt.ylabel('y')\n",
    "# Dibujamos la leyenda\n",
    "plt.legend()\n",
    "\n",
    "plt.show()"
   ]
  },
  {
   "cell_type": "markdown",
   "metadata": {
    "tags": []
   },
   "source": [
    "### Ejemplo 2. `imshow()` y `colorbar()`\n",
    "Visualizar una imagen. Vamos a usar la biblioteca [*Python Image Library* (PIL)](https://pillow.readthedocs.io/en/stable/) para leer una imagen en formato jpg. "
   ]
  },
  {
   "cell_type": "code",
   "execution_count": null,
   "metadata": {
    "tags": []
   },
   "outputs": [],
   "source": [
    "from PIL import Image\n",
    "\n",
    "fjpg = Image.open('../utils/fig/chapulin.jpg')\n",
    "print(type(fjpg))"
   ]
  },
  {
   "cell_type": "code",
   "execution_count": null,
   "metadata": {
    "tags": []
   },
   "outputs": [],
   "source": [
    "# El contenido de la imagen se puede transformar en un arreglo de numpy.\n",
    "chapulin = np.asarray(fjpg)\n",
    "print(type(chapulin))\n",
    "print(chapulin.shape)\n",
    "print(repr(chapulin)) "
   ]
  },
  {
   "cell_type": "code",
   "execution_count": null,
   "metadata": {
    "tags": []
   },
   "outputs": [],
   "source": [
    "# Graficamos al chapulin\n",
    "plt.imshow(chapulin)\n",
    "plt.show()"
   ]
  },
  {
   "cell_type": "markdown",
   "metadata": {},
   "source": [
    "Como el objeto `chapulin` es un objeto de tipo `ndarray`, podemos usar las funciones de numpy sobre él."
   ]
  },
  {
   "cell_type": "code",
   "execution_count": null,
   "metadata": {
    "tags": []
   },
   "outputs": [],
   "source": [
    "# Obtenmos uno de los canales de la imagen\n",
    "canal1_chapulin = chapulin[:,:,2]"
   ]
  },
  {
   "cell_type": "code",
   "execution_count": null,
   "metadata": {
    "tags": []
   },
   "outputs": [],
   "source": [
    "plt.imshow(canal1_chapulin)\n",
    "plt.show()"
   ]
  },
  {
   "cell_type": "code",
   "execution_count": null,
   "metadata": {
    "tags": []
   },
   "outputs": [],
   "source": [
    "# Podemos usar el parámetro cmap para cambiar el mapa de color\n",
    "plt.imshow(canal1_chapulin, cmap='hot')\n",
    "plt.show()"
   ]
  },
  {
   "cell_type": "code",
   "execution_count": null,
   "metadata": {
    "tags": []
   },
   "outputs": [],
   "source": [
    "# Podemos agregar una barra de colores\n",
    "nueva = plt.imshow(canal1_chapulin, cmap='seismic')\n",
    "plt.colorbar(nueva)\n",
    "plt.show()"
   ]
  },
  {
   "cell_type": "markdown",
   "metadata": {
    "tags": []
   },
   "source": [
    "### Ejemplo 3. Ajuste del `colorbar`\n",
    "\n",
    "Algunas veces la barra de color no se ajusta automáticamente a la figura que representa. Por ejemplo:"
   ]
  },
  {
   "cell_type": "code",
   "execution_count": null,
   "metadata": {
    "tags": []
   },
   "outputs": [],
   "source": [
    "fig = plt.figure(figsize=(5, 5))\n",
    "im = plt.imshow(chapulin, interpolation=\"hermite\")\n",
    "plt.colorbar(im)\n",
    "plt.tight_layout()"
   ]
  },
  {
   "cell_type": "markdown",
   "metadata": {},
   "source": [
    "Para ajustar el colorbar en esos casos se puede hacer uso de la función `make_axes_locatable` (parte del módulo `axes_divider`). Esta función toma unos ejes existentes, crea un divisor para estos ejes y regresa un objeto de la clase `AxesLocator`. El método `append_axes` de este `AxesLocator` se puede usar para crear unos ejes nuevos en uno de los lados (\"top\", \"right\", \"bottom\", or \"left\") de los ejes originales"
   ]
  },
  {
   "cell_type": "code",
   "execution_count": null,
   "metadata": {
    "tags": []
   },
   "outputs": [],
   "source": [
    "from mpl_toolkits.axes_grid1 import make_axes_locatable\n",
    "\n",
    "fig = plt.figure(figsize=(5, 5))\n",
    "im = plt.imshow(chapulin, interpolation=\"none\")\n",
    "\n",
    "divider = make_axes_locatable(plt.gca())\n",
    "cax = divider.append_axes(\"right\", \"5%\", pad=\"3%\")\n",
    "plt.colorbar(im, cax=cax)\n",
    "plt.tight_layout()"
   ]
  },
  {
   "cell_type": "markdown",
   "metadata": {},
   "source": [
    "Cuando se pone el colorbar en la parte superior de la figura, es necesario ajustar la orientación y los ticks:"
   ]
  },
  {
   "cell_type": "code",
   "execution_count": null,
   "metadata": {
    "tags": []
   },
   "outputs": [],
   "source": [
    "fig = plt.figure(figsize=(5, 5))\n",
    "im = plt.imshow(chapulin, interpolation=\"none\")\n",
    "\n",
    "divider = make_axes_locatable(plt.gca())\n",
    "cax = divider.append_axes(\"top\", \"5%\", pad=\"3%\")\n",
    "plt.colorbar(im, cax=cax, orientation='horizontal')\n",
    "cax.xaxis.set_ticks_position(\"top\") # Posición de los ticks\n",
    "plt.tight_layout()"
   ]
  },
  {
   "cell_type": "markdown",
   "metadata": {},
   "source": [
    "### Ejemplo 4. `hist()`\n",
    "\n",
    "Crear un histograma con los valores del objeto `canal1_chapulin`."
   ]
  },
  {
   "cell_type": "markdown",
   "metadata": {},
   "source": [
    "Para hacer el histograma necesitamos un arreglo 1D, entonces primero debemos cambiar el `shape` del objeto `canal1_chapulin`:"
   ]
  },
  {
   "cell_type": "code",
   "execution_count": null,
   "metadata": {
    "tags": []
   },
   "outputs": [],
   "source": [
    "print(canal1_chapulin.shape)"
   ]
  },
  {
   "cell_type": "code",
   "execution_count": null,
   "metadata": {
    "tags": []
   },
   "outputs": [],
   "source": [
    "canal1_chapulin_flat = canal1_chapulin.flatten()\n",
    "print(canal1_chapulin_flat.shape)\n",
    "print(canal1_chapulin_flat)"
   ]
  },
  {
   "cell_type": "code",
   "execution_count": null,
   "metadata": {
    "tags": []
   },
   "outputs": [],
   "source": [
    "# Usamos la función hist() para generar el histogramos, \n",
    "# debemos definir cuantas barras queremos (bins=5).\n",
    "plt.hist(canal1_chapulin_flat, bins=5)\n",
    "plt.show()"
   ]
  },
  {
   "cell_type": "markdown",
   "metadata": {},
   "source": [
    "Vamos ahora a mejorar un poco la gráfica:"
   ]
  },
  {
   "cell_type": "code",
   "execution_count": null,
   "metadata": {
    "tags": []
   },
   "outputs": [],
   "source": [
    "# Los parámetros que usamos son los siguientes:\n",
    "# facecolor = 'C3', color de las barras (es equivalente a fc='C3)\n",
    "# ec = 'gray', color del contorno (es equivalente a edgecolor='gray')\n",
    "# alpha = 0.5, transparencia\n",
    "plt.hist(canal1_chapulin_flat, bins=15, facecolor='C3', ec = 'gray', alpha=0.5)\n",
    "plt.show()"
   ]
  },
  {
   "cell_type": "markdown",
   "metadata": {},
   "source": [
    "### Ejemplo 5. Múltiples gráficas `add_subplot()`\n",
    "\n",
    "Varias subgráficas"
   ]
  },
  {
   "cell_type": "code",
   "execution_count": null,
   "metadata": {
    "tags": []
   },
   "outputs": [],
   "source": [
    "fig = plt.figure()\n",
    "\n",
    "ax = fig.add_subplot(1, 2, 1)\n",
    "imgplot = plt.imshow(chapulin)\n",
    "ax.set_title('Original')\n",
    "plt.colorbar(ticks=[0,100,200], orientation='horizontal')\n",
    "\n",
    "ax = fig.add_subplot(1, 2, 2)\n",
    "imgplot = plt.imshow(canal1_chapulin, cmap='hot')\n",
    "ax.set_title('Canal 2')\n",
    "plt.colorbar(ticks=[0,100,200], orientation='horizontal')\n",
    "\n",
    "plt.tight_layout()\n",
    "plt.show()"
   ]
  },
  {
   "cell_type": "code",
   "execution_count": null,
   "metadata": {
    "tags": []
   },
   "outputs": [],
   "source": [
    "fig = plt.figure()\n",
    "\n",
    "ax1 = fig.add_subplot(311)\n",
    "plt.hist(chapulin[:,:,0].flatten(), bins=15, facecolor='C1', ec = 'gray', alpha=0.5)\n",
    "ax1.set_title('Canal 0')\n",
    "ax1.set_xticks(np.arange(0,300,25))\n",
    "ax1.set_yticks(np.arange(0,500000,100000))\n",
    "ax1.set_ylim(0,475000)\n",
    "\n",
    "ax2 = fig.add_subplot(312, sharex = ax1, sharey = ax1)\n",
    "plt.hist(chapulin[:,:,1].flatten(), bins=15, facecolor='C2', ec = 'gray', alpha=0.5)\n",
    "ax2.set_title('Canal 1')\n",
    "\n",
    "ax3 = fig.add_subplot(313, sharex = ax1, sharey = ax1)\n",
    "plt.hist(canal1_chapulin_flat, bins=15, facecolor='C3', ec = 'gray', alpha=0.5)\n",
    "ax3.set_title('Canal 2')\n",
    "\n",
    "plt.tight_layout()\n",
    "plt.show()"
   ]
  },
  {
   "cell_type": "markdown",
   "metadata": {},
   "source": [
    "### Ejemplo 6. Efecto de `tight_layout`\n",
    "\n",
    "Algunas veces los títulos, las etiquetas de los ejes o los ticklabels pueden quedar fuera de la gráfica. La función `tight_layout` ayuda a mejorar la posición de estos elementos."
   ]
  },
  {
   "cell_type": "code",
   "execution_count": null,
   "metadata": {
    "tags": []
   },
   "outputs": [],
   "source": [
    "# Definimos una función para realizar algunas gráficas\n",
    "\n",
    "def grafica(ax, fontsize=12):\n",
    "    ax.scatter(r[0], r[1], s=area, c=area, zorder = 2,\n",
    "               cmap='cool', edgecolor='k', alpha=0.5)\n",
    "    ax.plot(x, y1, lw = 3, c='C7', label='sin')\n",
    "    ax.plot(x, y2, label='cos')\n",
    "\n",
    "    ax.set_xlabel('x-label', fontsize=fontsize)\n",
    "    ax.set_ylabel('y-label', fontsize=fontsize)\n",
    "    ax.set_title('Title', fontsize=fontsize)"
   ]
  },
  {
   "cell_type": "code",
   "execution_count": null,
   "metadata": {
    "tags": []
   },
   "outputs": [],
   "source": [
    "fig, ax = plt.subplots()\n",
    "grafica(ax, fontsize=16)\n",
    "#plt.tight_layout()    # Ajusta la gráfica automáticamente\n",
    "plt.savefig('figura_tight.pdf')"
   ]
  },
  {
   "cell_type": "code",
   "execution_count": null,
   "metadata": {
    "tags": []
   },
   "outputs": [],
   "source": [
    "fig, ((ax1, ax2), (ax3, ax4)) = plt.subplots(nrows=2, ncols=2)\n",
    "grafica(ax1)\n",
    "grafica(ax2)\n",
    "grafica(ax3)\n",
    "grafica(ax4)\n",
    "\n",
    "#plt.tight_layout() # Ajusta la gráfica automáticamente\n",
    "#plt.tight_layout(pad=0.4, w_pad=0.5, h_pad=2.0, rect=[0,0,0.5,1])\n",
    "\n",
    "plt.savefig('figura_2x2.pdf')"
   ]
  },
  {
   "cell_type": "code",
   "execution_count": null,
   "metadata": {
    "tags": []
   },
   "outputs": [],
   "source": [
    "ax1 = plt.subplot(221)\n",
    "ax2 = plt.subplot(223)\n",
    "ax3 = plt.subplot(122)\n",
    "\n",
    "grafica(ax1)\n",
    "grafica(ax2)\n",
    "grafica(ax3)\n",
    "\n",
    "#plt.tight_layout() # Ajusta la gráfica automáticamente\n"
   ]
  },
  {
   "cell_type": "markdown",
   "metadata": {},
   "source": [
    "### Ejemplo 7. Múltiples gráficas con `subplot2grid`"
   ]
  },
  {
   "cell_type": "code",
   "execution_count": null,
   "metadata": {
    "tags": []
   },
   "outputs": [],
   "source": [
    "# (0,0) (0,1) (0,2)\n",
    "# (1,0) (1,1) (1,2)\n",
    "# (2,0) (2,1) (2,2)\n",
    "\n",
    "ax1 = plt.subplot2grid((3, 3), (0, 0))\n",
    "ax2 = plt.subplot2grid((3, 3), (0, 1), colspan=2)\n",
    "ax3 = plt.subplot2grid((3, 3), (1, 0), colspan=2, rowspan=2)\n",
    "ax4 = plt.subplot2grid((3, 3), (1, 2), rowspan=2)\n",
    "\n",
    "grafica(ax1)\n",
    "grafica(ax2)\n",
    "grafica(ax3)\n",
    "grafica(ax4)\n",
    "\n",
    "#plt.tight_layout()"
   ]
  },
  {
   "cell_type": "markdown",
   "metadata": {},
   "source": [
    "### Ejemplo 8. Múltiples gráficas con `Grispec`"
   ]
  },
  {
   "cell_type": "code",
   "execution_count": null,
   "metadata": {
    "tags": []
   },
   "outputs": [],
   "source": [
    "import matplotlib.gridspec as gridspec\n",
    "\n",
    "fig = plt.figure(tight_layout=True)\n",
    "gs = gridspec.GridSpec(2, 2)\n",
    "\n",
    "print(gs, type(gs))\n",
    "\n",
    "ax = fig.add_subplot(gs[0, :])\n",
    "grafica(ax)\n",
    "ax.set_ylabel('y_0')\n",
    "ax.set_xlabel('x_0')\n",
    "\n",
    "ax = fig.add_subplot(gs[1, 0])\n",
    "ax.plot(np.arange(1., 0., -0.1) * 2000., np.arange(1., 0., -0.1))\n",
    "ax.set_ylabel('y_10')\n",
    "ax.set_xlabel('x_10')\n",
    "ax.tick_params(axis='x', rotation=55)\n",
    "\n",
    "ax = fig.add_subplot(gs[1, 1])\n",
    "grafica(ax)\n",
    "\n",
    "plt.show()"
   ]
  },
  {
   "cell_type": "markdown",
   "metadata": {},
   "source": [
    "### Ejemplo 9. Personalización de los ticks\n",
    "\n",
    "Existen los *major ticks* y lo *minor ticks* "
   ]
  },
  {
   "cell_type": "code",
   "execution_count": null,
   "metadata": {
    "tags": []
   },
   "outputs": [],
   "source": [
    "plt.figure(figsize=(6,4))\n",
    "ax = plt.axes(xscale='log', yscale='log')\n",
    "plt.xlim(1,1000)\n",
    "plt.ylim(1,1000)\n",
    "plt.grid()"
   ]
  },
  {
   "cell_type": "markdown",
   "metadata": {},
   "source": [
    "Los *major ticks* se ven con una raya más larga y una etiqueta, mientras que cada *minor tick* se muestran con una raya más pequeña y sin etiqueta.\n",
    "\n",
    "Estas propiedades se pueden personalizar usando objetos `formatter` y `locator` de cada uno de los ejes.\n",
    "\n",
    "Podemos revisar estos objetos en el ejemplo anterior como sigue:"
   ]
  },
  {
   "cell_type": "code",
   "execution_count": null,
   "metadata": {
    "tags": []
   },
   "outputs": [],
   "source": [
    "print(ax.xaxis.get_major_locator())\n",
    "print(ax.xaxis.get_minor_locator())\n",
    "\n",
    "print(ax.xaxis.get_major_formatter())\n",
    "print(ax.xaxis.get_minor_formatter())"
   ]
  },
  {
   "cell_type": "code",
   "execution_count": null,
   "metadata": {
    "tags": []
   },
   "outputs": [],
   "source": [
    "plt.figure(figsize=(5,3))\n",
    "ax = plt.axes()\n",
    "grafica(ax)"
   ]
  },
  {
   "cell_type": "code",
   "execution_count": null,
   "metadata": {
    "tags": []
   },
   "outputs": [],
   "source": [
    "plt.figure(figsize=(5,3))\n",
    "ax = plt.axes()\n",
    "grafica(ax)\n",
    "\n",
    "# Esconde las etiquetas de los ticks\n",
    "ax.xaxis.set_major_formatter(plt.NullFormatter())\n",
    "ax.yaxis.set_major_formatter(plt.NullFormatter())"
   ]
  },
  {
   "cell_type": "code",
   "execution_count": null,
   "metadata": {
    "tags": []
   },
   "outputs": [],
   "source": [
    "plt.figure(figsize=(6,4))\n",
    "ax = plt.axes()\n",
    "grafica(ax)\n",
    "\n",
    "# Esconde los ticks\n",
    "ax.xaxis.set_major_locator(plt.NullLocator())\n",
    "ax.yaxis.set_major_locator(plt.NullLocator())"
   ]
  },
  {
   "cell_type": "markdown",
   "metadata": {},
   "source": [
    "Esconder los `ticks` puede ser útil en algunos casos. Por ejemplo en el siguiente caso: \n",
    "\n",
    "#### Visualizando las [Olivetti Faces](https://cam-orl.co.uk/facedatabase.html)\n",
    "\n",
    "Es un conjunto que contiene fotos de caras tomadas enter abril de 1992 y abril de 1994 en los laboratorios de *AT&T* en Cambridge.\n"
   ]
  },
  {
   "cell_type": "code",
   "execution_count": null,
   "metadata": {
    "tags": []
   },
   "outputs": [],
   "source": [
    "fig, ax = plt.subplots(6, 6, figsize=(3, 3))\n",
    "fig.subplots_adjust(hspace=0, wspace=0)\n",
    "\n",
    "# Get some face data from scikit-learn\n",
    "from sklearn.datasets import fetch_olivetti_faces\n",
    "faces = fetch_olivetti_faces().images\n",
    "print(faces.shape)\n",
    "\n",
    "for i in range(6):\n",
    "    for j in range(6):\n",
    "        ax[i, j].xaxis.set_major_locator(plt.NullLocator())\n",
    "        ax[i, j].yaxis.set_major_locator(plt.NullLocator())\n",
    "        ax[i, j].imshow(faces[(1+j+1)*(i+1)+30], cmap=\"gray\")"
   ]
  },
  {
   "cell_type": "markdown",
   "metadata": {},
   "source": [
    "#### Aumentando o disminuyendo el número de ticks"
   ]
  },
  {
   "cell_type": "code",
   "execution_count": null,
   "metadata": {
    "tags": []
   },
   "outputs": [],
   "source": [
    "# 9 subgráficas que comparten el eje y\n",
    "fig, ax = plt.subplots(3, 3, sharey=True)\n",
    "plt.tight_layout()"
   ]
  },
  {
   "cell_type": "code",
   "execution_count": null,
   "metadata": {
    "tags": []
   },
   "outputs": [],
   "source": [
    "# Recorro los ejes y en cada uno aumento los ticks\n",
    "for i, axi in enumerate(ax.flat):\n",
    "    axi.xaxis.set_major_locator(plt.MaxNLocator(i+1))\n",
    "    axi.xaxis.set_major_formatter(plt.NullFormatter())\n",
    "\n",
    "fig\n"
   ]
  },
  {
   "cell_type": "markdown",
   "metadata": {},
   "source": [
    "#### Ticks y Ticklabels más elegantes\n",
    "https://matplotlib.org/3.2.1/tutorials/introductory/customizing.html"
   ]
  },
  {
   "cell_type": "code",
   "execution_count": null,
   "metadata": {
    "tags": []
   },
   "outputs": [],
   "source": [
    "params = {'text.usetex': True,\n",
    "          'font.family': 'DejaVu Serif'}\n",
    "plt.rcParams.update(params)\n",
    "\n",
    "fig, ax = plt.subplots()\n",
    "x = np.linspace(0, 3 * np.pi, 1000)\n",
    "ax.plot(x, np.sin(x), lw=3, label='Seno')\n",
    "ax.plot(x, np.cos(x), lw=3, label='Coseno')\n",
    "\n",
    "# Set up grid, legend, and limits\n",
    "ax.grid(True)\n",
    "ax.legend(frameon=False)\n",
    "ax.axis('equal')\n",
    "ax.set_xlim(0, 3 * np.pi);\n",
    "\n",
    "# Ubicación de los ticks en múltiplos de pi\n",
    "ax.xaxis.set_major_locator(plt.MultipleLocator(np.pi / 2))\n",
    "ax.xaxis.set_minor_locator(plt.MultipleLocator(np.pi / 4))\n",
    "plt.savefig('fig_latex.pdf')"
   ]
  },
  {
   "cell_type": "code",
   "execution_count": null,
   "metadata": {
    "tags": []
   },
   "outputs": [],
   "source": [
    "def format_func(value, tick_number):\n",
    "    # find number of multiples of pi/2\n",
    "    N = int(np.round(2 * value / np.pi))\n",
    "    if N == 0:\n",
    "        return \"0\"\n",
    "    elif N == 1:\n",
    "        return \"$\\pi/2$\"\n",
    "    elif N == 2:\n",
    "        return \"$\\pi$\"\n",
    "    elif N % 2 > 0:\n",
    "        return \"${0}\\pi/2$\".format(N)\n",
    "    else:\n",
    "        return \"${0}\\pi$\".format(N // 2)\n",
    "\n",
    "ax.xaxis.set_major_formatter(plt.FuncFormatter(format_func))\n",
    "fig\n",
    "fig.savefig('fig_latex2.pdf')"
   ]
  },
  {
   "cell_type": "markdown",
   "metadata": {},
   "source": [
    "\n",
    "\n",
    "Opciones para `Locator` y `Formmater`\n",
    "\n",
    "|Clase `Locator` |Descripción |\n",
    "|---|---|\n",
    "|NullLocator | No ticks|\n",
    "|FixedLocator | Tick locations are fixed|\n",
    "|IndexLocator | Locator for index plots (e.g., where x = range(len(y)))|\n",
    "|LinearLocator | Evenly spaced ticks from min to max|\n",
    "|LogLocator | Logarithmically ticks from min to max|\n",
    "|MultipleLocator | Ticks and range are a multiple of base|\n",
    "|MaxNLocator | Finds up to a max number of ticks at nice locations|\n",
    "|AutoLocator |(Default.) MaxNLocator with simple defaults.|\n",
    "|AutoMinorLocator \tLocator for minor ticks|\n",
    "\n",
    "|Clase `Formatter` |Descripción|\n",
    "|---|---|\n",
    "|NullFormatter |No labels on the ticks|\n",
    "|IndexFormatter |Set the strings from a list of labels|\n",
    "|FixedFormatter |Set the strings manually for the labels|\n",
    "|FuncFormatter |User-defined function sets the labels|\n",
    "|FormatStrFormatter |Use a format string for each value|\n",
    "|ScalarFormatter |(Default.) Formatter for scalar values|\n",
    "|LogFormatter |Default formatter for log axes|\n"
   ]
  },
  {
   "cell_type": "markdown",
   "metadata": {},
   "source": [
    "# Animación de una línea."
   ]
  },
  {
   "cell_type": "markdown",
   "metadata": {},
   "source": [
    "La siguiente función genera los puntos de la línea dados $x$ y $t$."
   ]
  },
  {
   "cell_type": "code",
   "execution_count": null,
   "metadata": {
    "tags": []
   },
   "outputs": [],
   "source": [
    "def funcion(x, t):\n",
    "    A = 0.95 * np.sin(2 * np.pi * t / 25)  # Amplitud\n",
    "    return A * np.sinc(x)  # Función: sin(x) / x"
   ]
  },
  {
   "cell_type": "markdown",
   "metadata": {},
   "source": [
    "Dibujemos un par de curvas:"
   ]
  },
  {
   "cell_type": "code",
   "execution_count": null,
   "metadata": {
    "tags": []
   },
   "outputs": [],
   "source": [
    "x = np.linspace(-3, 3, 61)\n",
    "plt.plot(x,funcion(x,1)) # curva para t = 1\n",
    "plt.plot(x,funcion(x,3)) # curva para t = 3\n",
    "plt.show()"
   ]
  },
  {
   "cell_type": "markdown",
   "metadata": {},
   "source": [
    "Ahora vamos a dibujar las curvas para $t$ en un rango de $0$ a $25$:"
   ]
  },
  {
   "cell_type": "code",
   "execution_count": null,
   "metadata": {
    "tags": []
   },
   "outputs": [],
   "source": [
    "for t in range(0,25,1):\n",
    "    plt.plot(x, funcion(x, t))"
   ]
  },
  {
   "cell_type": "code",
   "execution_count": null,
   "metadata": {
    "tags": []
   },
   "outputs": [],
   "source": [
    "# Módulo para crear la animación\n",
    "from matplotlib.animation import FuncAnimation\n",
    "\n",
    "#\n",
    "# Paso 1. Definición de la figura\n",
    "#\n",
    "fig = plt.figure(figsize=(5,3))           # Figura\n",
    "ax = plt.axes(xlim=(-3, 3), ylim=(-1, 1)) # Ejes\n",
    "#\n",
    "# Paso 2. Graficación del primer estado de la curva\n",
    "#\n",
    "l = plt.plot(x, funcion(x,0))\n",
    "#\n",
    "# Paso 3. Definición de una función para actualizar los datos \n",
    "# de la curva. Esta función será ejecutada en cada paso de la animación.\n",
    "#\n",
    "def plotLine(i, linea, x):\n",
    "    linea.set_ydata(funcion(x,i)) # cambia los datos en la dirección y\n",
    "#\n",
    "# Paso 4. Uso de la función FuncAnimation() para crear la animación\n",
    "#\n",
    "anim = FuncAnimation(fig,             # Figura\n",
    "                     plotLine,        # Función que cambia los datos\n",
    "                     fargs=(l[0], x), # Argumentos de la funcion plotLine()\n",
    "                     interval=100,    # Intervalo entre cuadros [ms]\n",
    "                     frames=25,       # Total de cuadros\n",
    "                     repeat=True)     # Animación en un ciclo\n",
    "\n",
    "plt.show()"
   ]
  },
  {
   "cell_type": "code",
   "execution_count": null,
   "metadata": {
    "tags": []
   },
   "outputs": [],
   "source": [
    "# Desplegamos la animación\n",
    "from IPython.display import HTML\n",
    "HTML(anim.to_jshtml())"
   ]
  },
  {
   "cell_type": "code",
   "execution_count": null,
   "metadata": {},
   "outputs": [],
   "source": []
  }
 ],
 "metadata": {
  "kernelspec": {
   "display_name": "Python 3 (ipykernel)",
   "language": "python",
   "name": "python3"
  },
  "language_info": {
   "codemirror_mode": {
    "name": "ipython",
    "version": 3
   },
   "file_extension": ".py",
   "mimetype": "text/x-python",
   "name": "python",
   "nbconvert_exporter": "python",
   "pygments_lexer": "ipython3",
   "version": "3.11.6"
  }
 },
 "nbformat": 4,
 "nbformat_minor": 4
}
