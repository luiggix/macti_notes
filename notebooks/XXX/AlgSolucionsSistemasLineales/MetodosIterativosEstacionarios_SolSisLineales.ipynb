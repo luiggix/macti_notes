{
 "cells": [
  {
   "cell_type": "markdown",
   "metadata": {},
   "source": [
    "# Cruce de rectas\n",
    "\n",
    "Considere las siguientes dos ecuaciones:\n",
    "\n",
    "$\n",
    "\\begin{matrix}\n",
    "a_{00} x_0 + a_{01} x_1 & = &b_0 \\\\\n",
    "a_{01} x_0 + a_{11} x_1 & = &b_1\n",
    "\\end{matrix}\n",
    "$\n",
    "\n",
    "Estas ecuaciones representan dos líneas rectas en el plano Cartesiano. En forma matricial se escriben como:\n",
    "\n",
    "$\n",
    "\\left[\n",
    "\\begin{array}{cccc}\n",
    "a_{00} & a_{01} \\\\\n",
    "a_{01} & a_{11}\n",
    "\\end{array} \\right] \n",
    "\\left[\n",
    "\\begin{array}{cccc}\n",
    "x_{0} \\\\\n",
    "x_{1}\n",
    "\\end{array} \\right] \n",
    "=\n",
    "\\left[\n",
    "\\begin{array}{c}\n",
    "b_0 \\\\ b_1\n",
    "\\end{array}\n",
    "\\right]\n",
    "$\n",
    "\n",
    "Para encontrar el punto de cruce de las dos rectas debemos resolver el sistema de ecuaciones."
   ]
  },
  {
   "cell_type": "markdown",
   "metadata": {},
   "source": [
    "## Ejemplo: \n",
    "$\n",
    "\\begin{array}{ccc}\n",
    "3x_0 + 2x_1 & = &2 \\\\\n",
    "2x_0 + 6x_1 & = &-8\n",
    "\\end{array} \\Longrightarrow\n",
    "\\left[\n",
    "\\begin{array}{cc}\n",
    "3 & 2 \\\\\n",
    "2 & 6\n",
    "\\end{array} \\right]\n",
    "\\left[\n",
    "\\begin{array}{cccc}\n",
    "x_{0} \\\\\n",
    "x_{1}\n",
    "\\end{array} \\right] \n",
    "=\n",
    "\\left[\n",
    "\\begin{array}{c}\n",
    "2\\\\ -8\n",
    "\\end{array}\n",
    "\\right]\n",
    "$\n",
    "\n",
    "Las ecuaciones se pueden escribir como:\n",
    "\n",
    "$\n",
    "\\begin{array}{ccc}\n",
    "\\dfrac{3}{2}x_0 + x_1 & = & \\dfrac{2}{2} \\\\\n",
    "\\dfrac{2}{6}x_0 + x_1 & = & -\\dfrac{8}{6}\n",
    "\\end{array} \\Longrightarrow\n",
    "\\begin{array}{ccc}\n",
    "y_0 = m_0 x + b_0 \\\\\n",
    "y_1 = m_1 x + b_1\n",
    "\\end{array} \\text{ donde }\n",
    "\\begin{array}{ccc}\n",
    "m_0 = -\\dfrac{3}{2} & b_0 = 1 \\\\\n",
    "m_1 = -\\dfrac{2}{6} & b_1 = -\\dfrac{8}{6}\n",
    "\\end{array}\n",
    "$"
   ]
  },
  {
   "cell_type": "code",
   "execution_count": null,
   "metadata": {},
   "outputs": [],
   "source": [
    "import numpy as np\n",
    "import matplotlib.pyplot as plt\n",
    "import matplotlib as mpl\n",
    "%matplotlib inline\n",
    "plt.style.use(['seaborn'])\n",
    "mpl.rcParams['figure.titlesize'] = 24\n",
    "mpl.rcParams['axes.titlesize'] = 20\n",
    "mpl.rcParams['axes.titlecolor'] = 'blue'\n",
    "mpl.rcParams['axes.labelsize'] = 20\n",
    "mpl.rcParams['legend.fontsize'] = 15\n",
    "mpl.rcParams['lines.linewidth'] = 3.0\n",
    "mpl.rcParams['scatter.edgecolors'] = 'black'\n",
    "mpl.rcParams['legend.fancybox'] = True\n",
    "mpl.rcParams['legend.frameon'] = True\n",
    "mpl.rcParams['legend.edgecolor'] = 'black'"
   ]
  },
  {
   "cell_type": "markdown",
   "metadata": {},
   "source": [
    "**Gráficas de las rectas**"
   ]
  },
  {
   "cell_type": "code",
   "execution_count": null,
   "metadata": {},
   "outputs": [],
   "source": [
    "# Parámetros de las rectas\n",
    "m0 = -3/2\n",
    "b0 = 1\n",
    "m1 = -2/6\n",
    "b1 = -8/6\n",
    "\n",
    "# Ecuciones de las rectas\n",
    "x = np.linspace(0,3,10)\n",
    "y0 = m0 * x + b0\n",
    "y1 = m1 * x + b1\n",
    "\n",
    "#Gráficas\n",
    "plt.plot(x,y0,label = '$3x_0+2x_1=2$')\n",
    "plt.plot(x,y1,label = '$2x_0+6x_1=-8$')\n",
    "plt.xlabel('$x_0$')\n",
    "plt.ylabel('$x_1$')\n",
    "plt.suptitle('Cruce de rectas', y=1)\n",
    "plt.grid(c='w')\n",
    "plt.legend()\n",
    "#plt.savefig('cruceRectas.pdf')"
   ]
  },
  {
   "cell_type": "markdown",
   "metadata": {},
   "source": [
    "**Solución del sistema lineal**"
   ]
  },
  {
   "cell_type": "code",
   "execution_count": null,
   "metadata": {
    "scrolled": true
   },
   "outputs": [],
   "source": [
    "A = np.matrix([[3, 2],[2,6]] )\n",
    "b = np.array([2,-8])\n",
    "print(\"Matriz A : \\n\",A)\n",
    "print(\"Vector b : \\n\", b)\n",
    "sol = np.linalg.solve(A,b)\n",
    "print(\"Solución del sistema : \\n\", sol)"
   ]
  },
  {
   "cell_type": "markdown",
   "metadata": {},
   "source": [
    "**Gráfica de la solución**"
   ]
  },
  {
   "cell_type": "code",
   "execution_count": null,
   "metadata": {},
   "outputs": [],
   "source": [
    "plt.plot(x,y0,label = '$3x_0+2x_1=2$')\n",
    "plt.plot(x,y1,label = '$2x_0+6x_1=-8$')\n",
    "plt.scatter(sol[0], sol[1], c='red', s = 75, alpha=0.75, zorder=5, label='Solución')\n",
    "plt.xlabel('$x_0$')\n",
    "plt.ylabel('$x_1$')\n",
    "plt.suptitle('Cruce de rectas', y=1)\n",
    "plt.title('Solución')\n",
    "plt.grid(color='white')\n",
    "plt.legend()\n",
    "#plt.savefig('cruceRectasSolucion.pdf')"
   ]
  },
  {
   "cell_type": "code",
   "execution_count": null,
   "metadata": {},
   "outputs": [],
   "source": [
    "def grafica(x, y0, y1, xini, sol, titulo):\n",
    "    plt.plot(x,y0,label = '$3x_0+2x_1=2$')\n",
    "    plt.plot(x,y1,label = '$2x_0+6x_1=-8$')\n",
    "    plt.scatter(xini[0][0], xini[1][0], c='yellow', s=75, alpha=0.95, zorder=5, label='Inicio')\n",
    "    plt.scatter(sol[0], sol[1], c='red', s=75, alpha=0.75, zorder=5, label='Solución')\n",
    "    plt.plot(xini[0], xini[1], 'k.--', lw=1.0, zorder=6, label='Aproximación')\n",
    "    plt.xlabel('$x_0$')\n",
    "    plt.ylabel('$x_1$')\n",
    "    plt.suptitle('Cruce de rectas', y=1)\n",
    "    plt.title(titulo, color='blue')\n",
    "    plt.grid(color='white')\n",
    "    plt.legend()"
   ]
  },
  {
   "cell_type": "markdown",
   "metadata": {},
   "source": [
    "# Jacobi"
   ]
  },
  {
   "cell_type": "code",
   "execution_count": null,
   "metadata": {},
   "outputs": [],
   "source": [
    "def jacobi(A,b,tol,kmax,xini):\n",
    "    N = len(b)\n",
    "    xnew = np.zeros(N)\n",
    "    xold = np.zeros(N)\n",
    "    \n",
    "    # Solución inicial\n",
    "    xold[0] = xini[0][0]\n",
    "    xold[1] = xini[1][0]\n",
    "    \n",
    "    error = 10\n",
    "    k = 0\n",
    "    print('{:^2} {:^10} {:^12} {:^12}'.format(' i ', 'Error', 'x0', 'x1'))\n",
    "    while(error > tol and k < kmax) :\n",
    "        for i in range(0,N): # se puede hacer en paralelo\n",
    "            xnew[i] = 0\n",
    "            for j in range(0,i):\n",
    "                xnew[i] += A[i,j] * xold[j]\n",
    "            for j in range(i+1,N):\n",
    "                xnew[i] += A[i,j] * xold[j]                \n",
    "            xnew[i] = (b[i] - xnew[i]) / A[i,i]\n",
    "        \n",
    "        # Almacenamos la solución actual\n",
    "        xini[0].append(xnew[0])\n",
    "        xini[1].append(xnew[1])\n",
    "        \n",
    "        error = np.linalg.norm(xnew-xold)\n",
    "        k += 1\n",
    "        xold[:] = xnew[:]\n",
    "        print('{:2d} {:10.9f} ({:10.9f}, {:10.9f})'.format(k, error, xnew[0], xnew[1]))\n",
    "    return xnew, error, k"
   ]
  },
  {
   "cell_type": "code",
   "execution_count": null,
   "metadata": {},
   "outputs": [],
   "source": [
    "xini = [[0],[0]]\n",
    "sol, e, it = jacobi(A,b,1e-5,100, xini)"
   ]
  },
  {
   "cell_type": "code",
   "execution_count": null,
   "metadata": {},
   "outputs": [],
   "source": [
    "grafica(x, y0, y1, xini, sol, 'Jacobi, iter = {}, error = {:4.3e}'.format(it, e) )\n",
    "#plt.savefig('Jacobi.pdf')"
   ]
  },
  {
   "cell_type": "markdown",
   "metadata": {},
   "source": [
    "# Gauss-Seidel"
   ]
  },
  {
   "cell_type": "code",
   "execution_count": null,
   "metadata": {},
   "outputs": [],
   "source": [
    "def gauss_seidel(A,b,tol,kmax,xini):\n",
    "    N = len(b)\n",
    "    xnew = np.zeros(N)\n",
    "    xold = np.zeros(N)\n",
    "    \n",
    "    # Solución inicial\n",
    "    xold[0] = xini[0][0]\n",
    "    xold[1] = xini[1][0]\n",
    "    \n",
    "    error = 10\n",
    "    k = 0\n",
    "    print('{:^2} {:^10} {:^12} {:^12}'.format(' i ', 'Error', 'x0', 'x1'))\n",
    "    while(error > tol and k < kmax) :\n",
    "        for i in range(0,N): # se puede hacer en paralelo\n",
    "            xnew[i] = 0\n",
    "            for j in range(0,i):\n",
    "                xnew[i] += A[i,j] * xnew[j]\n",
    "            for j in range(i+1,N):\n",
    "                xnew[i] += A[i,j] * xold[j]                \n",
    "            xnew[i] = (b[i] - xnew[i]) / A[i,i]\n",
    "            \n",
    "        # Almacenamos la solución actual\n",
    "        xini[0].append(xnew[0])\n",
    "        xini[1].append(xnew[1])\n",
    "        \n",
    "        error = np.linalg.norm(xnew-xold)\n",
    "        k += 1\n",
    "        xold[:] = xnew[:]\n",
    "        print('{:2d} {:10.9f} ({:10.9f}, {:10.9f})'.format(k, error, xnew[0], xnew[1]))\n",
    "    return xnew, error, k"
   ]
  },
  {
   "cell_type": "code",
   "execution_count": null,
   "metadata": {},
   "outputs": [],
   "source": [
    "xini = [[0], [0]]\n",
    "sol, e, it = gauss_seidel(A,b,1e-5,100, xini)"
   ]
  },
  {
   "cell_type": "code",
   "execution_count": null,
   "metadata": {},
   "outputs": [],
   "source": [
    "grafica(x, y0, y1, xini, sol, 'Gauss-Seidel, iter = {}, error = {:4.3e}'.format(it,e))\n",
    "#plt.savefig('Gauss-Seidel.pdf')"
   ]
  },
  {
   "cell_type": "markdown",
   "metadata": {},
   "source": [
    "# SOR: *successive overrelaxation*"
   ]
  },
  {
   "cell_type": "code",
   "execution_count": null,
   "metadata": {},
   "outputs": [],
   "source": [
    "def sor(A,b,tol,kmax,w,xini):\n",
    "    N = len(b)\n",
    "    xnew = np.zeros(N)\n",
    "    xold = np.zeros(N)\n",
    "    \n",
    "    # Solución inicial\n",
    "    xold[0] = xini[0][0]\n",
    "    xold[1] = xini[1][0]  \n",
    "    \n",
    "    error = 10\n",
    "    k = 0\n",
    "    print('{:^2} {:^10} {:^12} {:^12}'.format(' i ', 'Error', 'x0', 'x1'))\n",
    "    while(error > tol and k < kmax) :\n",
    "        for i in range(0,N): # se puede hacer en paralelo\n",
    "            sigma = 0\n",
    "            for j in range(0,i):\n",
    "                sigma += A[i,j] * xnew[j]\n",
    "            for j in range(i+1,N):\n",
    "                sigma += A[i,j] * xold[j]                \n",
    "            sigma = (b[i] - sigma) / A[i,i]\n",
    "            xnew[i] = xold[i] + w * (sigma -xold[i])\n",
    "\n",
    "        # Almacenamos la solución actual\n",
    "        xini[0].append(xnew[0])\n",
    "        xini[1].append(xnew[1])\n",
    "        \n",
    "        error = np.linalg.norm(xnew-xold)\n",
    "        k += 1\n",
    "        xold[:] = xnew[:]\n",
    "        print('{:2d} {:10.9f} ({:10.9f}, {:10.9f})'.format(k, error, xnew[0], xnew[1]))\n",
    "    return xnew, error, k"
   ]
  },
  {
   "cell_type": "code",
   "execution_count": null,
   "metadata": {},
   "outputs": [],
   "source": [
    "xini = [[0],[0]]\n",
    "w = 2.00 # optimo 1.09\n",
    "sol, e, it = sor(A,b,1e-5,100,w, xini)"
   ]
  },
  {
   "cell_type": "code",
   "execution_count": null,
   "metadata": {},
   "outputs": [],
   "source": [
    "grafica(x, y0, y1, xini, sol, 'SOR, iter = {}, w = {}, error = {:4.3e}'.format(it, w,e))\n",
    "#plt.savefig('SOR.pdf')"
   ]
  },
  {
   "cell_type": "code",
   "execution_count": null,
   "metadata": {},
   "outputs": [],
   "source": []
  }
 ],
 "metadata": {
  "kernelspec": {
   "display_name": "Python 3",
   "language": "python",
   "name": "python3"
  },
  "language_info": {
   "codemirror_mode": {
    "name": "ipython",
    "version": 3
   },
   "file_extension": ".py",
   "mimetype": "text/x-python",
   "name": "python",
   "nbconvert_exporter": "python",
   "pygments_lexer": "ipython3",
   "version": "3.8.8"
  }
 },
 "nbformat": 4,
 "nbformat_minor": 4
}
