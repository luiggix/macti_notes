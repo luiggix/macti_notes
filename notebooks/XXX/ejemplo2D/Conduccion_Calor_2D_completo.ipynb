{
 "cells": [
  {
   "cell_type": "markdown",
   "id": "019f91df-8574-4dfa-bb8d-85ba1884527a",
   "metadata": {},
   "source": [
    "# Conducción de Calor en 2D\n",
    "\n",
    "**Objetivo General**\n",
    "- Resolver numérica y computacionalmente la ecuación de conducción de calor en dos dimensiones.\n",
    "\n",
    "**Objetivos particulares**\n",
    "- Definir los parámetros físicos y numéricos.\n",
    "- Definir la malla del dominio.\n",
    "- Definir la temperatura inicial junto con sus condiciones de frontera y graficarla sobre la malla.\n",
    "- Definir el sistema lineal y resolverlo.\n",
    "- Graficar la solución."
   ]
  },
  {
   "cell_type": "code",
   "execution_count": 1,
   "id": "16a74c5d-fb61-4d81-a145-f0dbf3ab7f9d",
   "metadata": {
    "tags": []
   },
   "outputs": [],
   "source": [
    "import numpy as np\n",
    "import matplotlib.pyplot as plt\n",
    "import ipywidgets as widgets\n",
    "import FD2D as fd2\n",
    "#import macti.visual as mvis\n",
    "\n",
    "# TODO: hacer este cambio en macti.visual\n",
    "plt.rcParams['axes.grid'] = False"
   ]
  },
  {
   "cell_type": "markdown",
   "id": "1fae89ad-bc67-401f-81d1-ae18f2d8ac09",
   "metadata": {},
   "source": [
    "## Flujo de calor\n",
    "\n",
    "Fourier también estableció una ley para el flujo de calor que se escribe como:\n",
    "\n",
    "$$\n",
    "\\vec{q} = -\\kappa \\nabla T = -\\left(\\kappa _x \\dfrac{\\partial T}{\\partial x}, \\kappa _y \\dfrac{\\partial T}{\\partial y}\\right)\n",
    "$$\n",
    "\n",
    "Usando la información calculada de la temperatura (almacenada en el arreglo `u`), vamos a calcular el flujo de calor usando la siguiente fórmula en diferencias:\n",
    "\n",
    "$$\n",
    "\\vec{q}_{i,j} = \\big(qx_{i,j}, qy_{i,j}\\big) = - \\Big(\\dfrac{\\kappa_x}{2h_x} (T_{i+1,j}-T_{i-1,j}), \\dfrac{\\kappa_y}{2h_y} (T_{i,j+1}-T_{i,j-1}) \\Big)\n",
    "$$"
   ]
  },
  {
   "cell_type": "code",
   "execution_count": 2,
   "id": "1bdd49b8-63ba-477c-92c9-6e4c7f99de05",
   "metadata": {
    "tags": []
   },
   "outputs": [],
   "source": [
    "def calc_heat_flux(T, hx, hy, kx, ky):\n",
    "    qx = np.zeros(T.shape)\n",
    "    qy = np.zeros(T.shape)\n",
    "\n",
    "    print(qx.shape, qy.shape)\n",
    "    \n",
    "    NyT, NxT = T.shape\n",
    "\n",
    "    sx = kx / 2*hx\n",
    "    sy = ky / 2*hy\n",
    "    \n",
    "    for i in range(1,NyT-1):\n",
    "        for j in range(1,NxT-1):\n",
    "            qx[i,j] = -sx * (T[i+1,j] - T[i-1,j])\n",
    "            qy[i,j] = -sy * (T[i,j+1] - T[i,j-1])\n",
    "            \n",
    "    return qy, qx"
   ]
  },
  {
   "cell_type": "markdown",
   "id": "8f3e18c6-152c-4a86-9fe6-482020e71c83",
   "metadata": {},
   "source": [
    "## Parámetros físicos y numéricos"
   ]
  },
  {
   "cell_type": "code",
   "execution_count": 3,
   "id": "09aa2236-baf0-4331-bbe6-16e7a153dd4b",
   "metadata": {
    "tags": []
   },
   "outputs": [],
   "source": [
    "def conduccion2D_i(Lx, Ly, kx, ky, TC, TH, F1, F2, S, IS, JS, Nx, Ny, grad):\n",
    "    # Número total de nodos en cada eje incluyendo las fronteras\n",
    "    NxT = Nx + 2\n",
    "    NyT = Ny + 2\n",
    "\n",
    "    # Número total de nodos\n",
    "    NT = NxT * NyT\n",
    "\n",
    "    # Número total de incógnitas\n",
    "    N = Nx * Ny\n",
    "\n",
    "    # Tamaño de la malla en cada dirección\n",
    "    hx = Lx / (Nx+1)\n",
    "    hy = Ly / (Ny+1)\n",
    "\n",
    "    # Coordenadas de la malla\n",
    "    xn = np.linspace(0,Lx,NxT)\n",
    "    yn = np.linspace(0,Ly,NyT)\n",
    "\n",
    "    # Generación de una rejilla\n",
    "    xg, yg = np.meshgrid(xn, yn, indexing='ij')\n",
    "\n",
    "    # Definición de un campo escalar en cada punto de la malla\n",
    "    T = np.zeros((NyT, NxT))\n",
    "\n",
    "    # Calculo de los coeficientes para la matriz\n",
    "    a, b, c = fd2.calc_coef_FDM(kx, ky, hx, hy)\n",
    "\n",
    "    if grad == 'vertical':\n",
    "        FL = F1\n",
    "        FR = F2\n",
    "        T0 = fd2.calc_grad_vertical(T, TH, TC, FL, FR, S, IS, JS, hx, a, b, c)\n",
    "    elif grad == 'horizontal':\n",
    "        FB = F1\n",
    "        FT = F2\n",
    "        T0 = fd2.calc_grad_horizontal(T, TH, TC, FB, FT, S, IS, JS, hy, a, b, c)\n",
    "    \n",
    "    qx, qy = calc_heat_flux(T, hx, hy, kx, ky)\n",
    "    \n",
    "    fd2.plot_solution(T, T0, qx, qy, Lx, Ly, xg, yg, xn, yn)"
   ]
  },
  {
   "cell_type": "code",
   "execution_count": 4,
   "id": "78cfb0d9-29e7-433b-99d7-2ff32ec52da5",
   "metadata": {
    "tags": []
   },
   "outputs": [
    {
     "data": {
      "application/vnd.jupyter.widget-view+json": {
       "model_id": "bedae5e389334d9485838eae0767506c",
       "version_major": 2,
       "version_minor": 0
      },
      "text/plain": [
       "VBox(children=(HTML(value='Simulación de la conducción de calor en un infierno en 2D rectangular usando Difere…"
      ]
     },
     "metadata": {},
     "output_type": "display_data"
    },
    {
     "data": {
      "application/vnd.jupyter.widget-view+json": {
       "model_id": "70df2dae8816431499453c9394cfac8d",
       "version_major": 2,
       "version_minor": 0
      },
      "text/plain": [
       "HBox(children=(VBox(children=(IntSlider(value=4, description='Nx', layout=Layout(width='250px'), max=40, min=4…"
      ]
     },
     "metadata": {},
     "output_type": "display_data"
    },
    {
     "data": {
      "application/vnd.jupyter.widget-view+json": {
       "model_id": "1553135983dd42f2975e056258aa88e5",
       "version_major": 2,
       "version_minor": 0
      },
      "text/plain": [
       "Output()"
      ]
     },
     "metadata": {},
     "output_type": "display_data"
    }
   ],
   "source": [
    "w_Lx = widgets.BoundedFloatText(value=1.0, min = 1.0, description='Lx', disabled=False, layout=widgets.Layout(width='200px'))\n",
    "w_Ly = widgets.BoundedFloatText(value=1.0, min = 1.0, description='Ly', disabled=False, layout=widgets.Layout(width='200px'))\n",
    "w_kx = widgets.BoundedFloatText(value=1.0, min = 1.0, description='$\\kappa_x$', disabled=False, layout=widgets.Layout(width='200px'))\n",
    "w_ky = widgets.BoundedFloatText(value=1.0, min = 1.0, description='$\\kappa_y$', disabled=False, layout=widgets.Layout(width='200px'))\n",
    "w_TC = widgets.FloatText(value=-1.0, description='TC', disabled=False, layout=widgets.Layout(width='200px'))\n",
    "w_TH = widgets.FloatText(value= 1.0, description='TH', disabled=False, layout=widgets.Layout(width='200px'))\n",
    "w_F1 = widgets.FloatText(value=0.0, description='F1', disabled=False, layout=widgets.Layout(width='200px'))\n",
    "w_F2 = widgets.FloatText(value=0.0, description='F2', disabled=False, layout=widgets.Layout(width='200px'))\n",
    "\n",
    "w_S  = widgets.FloatText(value=0.0, description='S', disabled=False, \n",
    "                         layout=widgets.Layout(width='200px'))\n",
    "\n",
    "w_IS = widgets.IntSlider(value=1, min=1, max=40, step=1,\n",
    "                         description='IS', disabled=False, \n",
    "                         style=dict(handle_color = '#CD5C5C'),\n",
    "                         layout=widgets.Layout(width='250px'))\n",
    "w_JS = widgets.IntSlider(value=1, min=1, max=40, step=1,\n",
    "                         description='JS', disabled=False, \n",
    "                         style=dict(handle_color = '#CD5C5C'),\n",
    "                         layout=widgets.Layout(width='250px'))\n",
    "w_Nx = widgets.IntSlider(value=4, min=4, max=40, step=2,\n",
    "                         description='Nx', disabled=False, \n",
    "                         style=dict(handle_color = '#3CB371'),\n",
    "                         layout=widgets.Layout(width='250px'))\n",
    "w_Ny = widgets.IntSlider(value=4, min=4, max=40, step=2,\n",
    "                         description='Ny', disabled=False, \n",
    "                         style=dict(handle_color = '#3CB371'),\n",
    "                         layout=widgets.Layout(width='250px'))\n",
    "\n",
    "restrict_IS = widgets.link(\n",
    "    (w_Nx, 'value'),  # Valor del primer slider ligado con\n",
    "    (w_IS, 'max')     # el máximo del segundo slider\n",
    ")\n",
    "\n",
    "restrict_JS = widgets.link(\n",
    "    (w_Ny, 'value'),  # Valor del primer slider ligado con\n",
    "    (w_JS, 'max')     # el máximo del segundo slider\n",
    ")\n",
    "\n",
    "w_grad = widgets.SelectionSlider(value = 'vertical', options=['vertical','horizontal'], \n",
    "                              description='Gradiente',\n",
    "                              layout=widgets.Layout(width='200px'))\n",
    "\n",
    "button = widgets.Button(description=\"Run\", icon='play', \n",
    "                        style=dict(button_color='lightgreen'),\n",
    "                        layout=widgets.Layout(width='100px')    \n",
    ")\n",
    "title = widgets.HTML(value=r\"Simulación de la conducción de calor en un infierno en 2D rectangular usando Diferencias Finitas\")\n",
    "eq = widgets.HTMLMath(value=r\"$$-\\left(\\kappa_x\\frac{\\partial^2 T}{\\partial x^2} + \\kappa_y\\frac{\\partial^2 T}{\\partial y^2}\\right)= S$$\",\n",
    "description='')\n",
    "\n",
    "ti = widgets.VBox([title, eq], \n",
    "                  layout=widgets.Layout(border = 'solid 1px black', \n",
    "                                        width='700px',\n",
    "                                        align_items='center'))\n",
    "ui = widgets.HBox([widgets.VBox([w_Nx, w_Ny, w_IS, w_JS, w_S]),\n",
    "                   widgets.VBox([w_Lx, w_Ly, w_kx, w_ky, w_grad]),\n",
    "                   widgets.VBox([w_TC, w_TH, w_F1, w_F2, button],\n",
    "                               layout=widgets.Layout(align_items = 'flex-end')),\n",
    "                  ])\n",
    "\n",
    "ui.layout = widgets.Layout(border='solid 1px black')\n",
    "ui.layout.width = '700px'\n",
    "\n",
    "output = widgets.Output()\n",
    "\n",
    "display(ti, ui, output)\n",
    "\n",
    "def on_button_clicked(b):\n",
    "    output.clear_output(wait=True)\n",
    "    with output:\n",
    "        conduccion2D_i(Lx = w_Lx.value, Ly = w_Ly.value, \n",
    "                       kx = w_kx.value, ky = w_ky.value,\n",
    "                       TC = w_TC.value, TH = w_TH.value,\n",
    "                       Nx = w_Nx.value, Ny = w_Ny.value,\n",
    "                       S = w_S.value,\n",
    "                       IS = w_IS.value, JS = w_JS.value,\n",
    "                       F1 = w_F1.value, F2 = w_F2.value,\n",
    "                       grad = w_grad.value) \n",
    "button.on_click(on_button_clicked)"
   ]
  },
  {
   "cell_type": "code",
   "execution_count": null,
   "id": "6c911106-c1cb-4891-ba6d-5c7b00d68c7c",
   "metadata": {},
   "outputs": [],
   "source": []
  },
  {
   "cell_type": "code",
   "execution_count": null,
   "id": "1037e903-3a52-4c87-a7bc-5c522f323b48",
   "metadata": {},
   "outputs": [],
   "source": []
  }
 ],
 "metadata": {
  "kernelspec": {
   "display_name": "Python 3 (ipykernel)",
   "language": "python",
   "name": "python3"
  },
  "language_info": {
   "codemirror_mode": {
    "name": "ipython",
    "version": 3
   },
   "file_extension": ".py",
   "mimetype": "text/x-python",
   "name": "python",
   "nbconvert_exporter": "python",
   "pygments_lexer": "ipython3",
   "version": "3.10.7"
  }
 },
 "nbformat": 4,
 "nbformat_minor": 5
}
