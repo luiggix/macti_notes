{
 "cells": [
  {
   "cell_type": "markdown",
   "metadata": {},
   "source": [
    "# Ejercicios para el primer examen: Resueltos\n",
    "## Geofísica Matemática y Computacional\n",
    "\n",
    "- Prof. Luis Miguel de la Cruz Salas\n",
    "- Rev: sáb oct  3 19:11:26 CDT 2020"
   ]
  },
  {
   "cell_type": "markdown",
   "metadata": {},
   "source": [
    "## Error Absoluto y Relativo\n",
    "\n",
    "Dado un número $p$ y una aproximación $pa$, se define lo siguiente:\n",
    "\n",
    "**Error Absoluto** : $E_a = |p - pa|$\n",
    "\n",
    "**Error Relativo**: $\\displaystyle E_r = \\frac{|p - pa|}{|p|}$"
   ]
  },
  {
   "cell_type": "code",
   "execution_count": 55,
   "metadata": {},
   "outputs": [
    {
     "data": {
      "text/html": [
       "<div>\n",
       "<style scoped>\n",
       "    .dataframe tbody tr th:only-of-type {\n",
       "        vertical-align: middle;\n",
       "    }\n",
       "\n",
       "    .dataframe tbody tr th {\n",
       "        vertical-align: top;\n",
       "    }\n",
       "\n",
       "    .dataframe thead th {\n",
       "        text-align: right;\n",
       "    }\n",
       "</style>\n",
       "<table border=\"1\" class=\"dataframe\">\n",
       "  <thead>\n",
       "    <tr style=\"text-align: right;\">\n",
       "      <th></th>\n",
       "      <th>p</th>\n",
       "      <th>pa</th>\n",
       "    </tr>\n",
       "  </thead>\n",
       "  <tbody>\n",
       "    <tr>\n",
       "      <th>0</th>\n",
       "      <td>3.00000</td>\n",
       "      <td>3.100000</td>\n",
       "    </tr>\n",
       "    <tr>\n",
       "      <th>1</th>\n",
       "      <td>0.00030</td>\n",
       "      <td>0.000310</td>\n",
       "    </tr>\n",
       "    <tr>\n",
       "      <th>2</th>\n",
       "      <td>0.00003</td>\n",
       "      <td>0.000031</td>\n",
       "    </tr>\n",
       "  </tbody>\n",
       "</table>\n",
       "</div>"
      ],
      "text/plain": [
       "         p        pa\n",
       "0  3.00000  3.100000\n",
       "1  0.00030  0.000310\n",
       "2  0.00003  0.000031"
      ]
     },
     "execution_count": 55,
     "metadata": {},
     "output_type": "execute_result"
    }
   ],
   "source": [
    "import pandas as pd\n",
    "p = [0.3000e1, 0.3000e-3, 0.3000e-4]\n",
    "pa = [0.3100e1, 0.3100e-3, 0.3100e-4]\n",
    "df = pd.DataFrame(np.array([p, pa]).T, columns=['p', 'pa'])\n",
    "df"
   ]
  },
  {
   "cell_type": "code",
   "execution_count": 56,
   "metadata": {},
   "outputs": [],
   "source": [
    "E_a = []\n",
    "E_r = []\n",
    "for ip, ipa in zip(p, pa):\n",
    "    E_a.append( np.fabs(ip-ipa) )\n",
    "    E_r.append( np.fabs(ip-ipa) / np.fabs(ip) )\n",
    "\n",
    "df['$E_a$'] = E_a\n",
    "df['$E_r$'] = E_r"
   ]
  },
  {
   "cell_type": "code",
   "execution_count": 57,
   "metadata": {},
   "outputs": [
    {
     "data": {
      "text/html": [
       "<div>\n",
       "<style scoped>\n",
       "    .dataframe tbody tr th:only-of-type {\n",
       "        vertical-align: middle;\n",
       "    }\n",
       "\n",
       "    .dataframe tbody tr th {\n",
       "        vertical-align: top;\n",
       "    }\n",
       "\n",
       "    .dataframe thead th {\n",
       "        text-align: right;\n",
       "    }\n",
       "</style>\n",
       "<table border=\"1\" class=\"dataframe\">\n",
       "  <thead>\n",
       "    <tr style=\"text-align: right;\">\n",
       "      <th></th>\n",
       "      <th>p</th>\n",
       "      <th>pa</th>\n",
       "      <th>$E_a$</th>\n",
       "      <th>$E_r$</th>\n",
       "    </tr>\n",
       "  </thead>\n",
       "  <tbody>\n",
       "    <tr>\n",
       "      <th>0</th>\n",
       "      <td>3.00000</td>\n",
       "      <td>3.100000</td>\n",
       "      <td>0.100000</td>\n",
       "      <td>0.033333</td>\n",
       "    </tr>\n",
       "    <tr>\n",
       "      <th>1</th>\n",
       "      <td>0.00030</td>\n",
       "      <td>0.000310</td>\n",
       "      <td>0.000010</td>\n",
       "      <td>0.033333</td>\n",
       "    </tr>\n",
       "    <tr>\n",
       "      <th>2</th>\n",
       "      <td>0.00003</td>\n",
       "      <td>0.000031</td>\n",
       "      <td>0.000001</td>\n",
       "      <td>0.033333</td>\n",
       "    </tr>\n",
       "  </tbody>\n",
       "</table>\n",
       "</div>"
      ],
      "text/plain": [
       "         p        pa     $E_a$     $E_r$\n",
       "0  3.00000  3.100000  0.100000  0.033333\n",
       "1  0.00030  0.000310  0.000010  0.033333\n",
       "2  0.00003  0.000031  0.000001  0.033333"
      ]
     },
     "execution_count": 57,
     "metadata": {},
     "output_type": "execute_result"
    }
   ],
   "source": [
    "df"
   ]
  },
  {
   "cell_type": "markdown",
   "metadata": {},
   "source": [
    "## Dígitos significativos\n",
    "Un número $pa$ aproxima a un número $p$ hasta $t$ dígitos significativos (número de dígitos decimales) si $t$ es el entero no negativo más grande para el cual se cumple lo siguiente:\n",
    "\n",
    "$$\n",
    "\\frac{|p - pa|}{|p|} \\leq 5 \\times 10^{-t}\n",
    "$$"
   ]
  },
  {
   "cell_type": "markdown",
   "metadata": {},
   "source": [
    "### Ejercicio\n",
    "\n",
    "Encontrar el intervalo en el que debe caer $pa$ para aproximar $p$ con un error relativo de a lo más $10^{-4}$ para los siguientes valores de $p$: \n",
    "    **a)** $\\pi$, \n",
    "    **b)** $e$, \n",
    "    **c)** $\\sqrt{2}$, \n",
    "    **d)** $\\sqrt[3]{7}$.\n",
    "    \n",
    "**a)**\n",
    "\n",
    "$$\n",
    "\\begin{eqnarray}\n",
    "\\frac{|\\pi - pa|}{|\\pi|} \\leq 10^{-4} & \\Longrightarrow & |\\pi - pa| \\leq |\\pi| \\times 10^{-4} \\\\\n",
    "& \\Longrightarrow & -\\pi \\times 10^{-4} \\leq \\pi - pa \\leq \\pi \\times 10^{-4} \\\\\n",
    "& \\Longrightarrow & -(1+ 10^{-4}) \\times \\pi \\leq - pa \\leq -(1- 10^{-4}) \\times \\pi \\\\\n",
    "& \\Longrightarrow & -(1- 10^{-4}) \\times \\pi \\leq pa \\leq -(1+ 10^{-4}) \\times \\pi \n",
    "\\end{eqnarray}\n",
    "$$"
   ]
  },
  {
   "cell_type": "code",
   "execution_count": 58,
   "metadata": {},
   "outputs": [],
   "source": [
    "A = round((1-1e-4) * math.pi, 4)\n",
    "B = round((1+1e-4) * math.pi, 4)"
   ]
  },
  {
   "cell_type": "code",
   "execution_count": 59,
   "metadata": {},
   "outputs": [
    {
     "name": "stdout",
     "output_type": "stream",
     "text": [
      "Intervalo : [ 3.1413, 3.1419]\n"
     ]
    }
   ],
   "source": [
    "print('Intervalo : [ {}, {}]'.format(A,B))"
   ]
  },
  {
   "cell_type": "code",
   "execution_count": 60,
   "metadata": {},
   "outputs": [],
   "source": [
    "pa = 3.1415"
   ]
  },
  {
   "cell_type": "code",
   "execution_count": 61,
   "metadata": {
    "scrolled": true
   },
   "outputs": [
    {
     "name": "stdout",
     "output_type": "stream",
     "text": [
      "E_1 = 0.00006\n",
      "E_2 = 0.00013\n"
     ]
    }
   ],
   "source": [
    "E_r_1 = np.fabs(A - pa) / np.fabs(A)\n",
    "E_r_2 = np.fabs(B - pa) / np.fabs(B)\n",
    "\n",
    "print('E_1 = {:.5f}'.format(E_r_1))\n",
    "print('E_2 = {:.5f}'.format(E_r_2))\n"
   ]
  },
  {
   "cell_type": "code",
   "execution_count": null,
   "metadata": {},
   "outputs": [],
   "source": []
  },
  {
   "cell_type": "markdown",
   "metadata": {},
   "source": [
    "## Ejercicio 1.\n",
    "Las ecuaciones siguientes tienen una solución en los intervalos que se mencionan:\n",
    "\n",
    "1. $x \\cos(x) - 2x^2 + 3x - 1 = 0$ en $[0.2, 0.3]$ y $[1.2, 1.3]$\n",
    "2. $(x-2)^2 - \\ln(x) = 0$ en $[1,2]$ y $[e, 4]$\n",
    "3. $2^x \\cos(2x)-(x-2)^2 = 0$ en $[2,3]$ y $[3,4]$\n",
    "4. $x - (\\ln(x))^x = 0 $ en $[4,5]$\n",
    "\n",
    "**Realice lo siguiente**:\n",
    "- Gráfique la función.\n",
    "    - Modifique la función a ser evaluada ($y$).\n",
    "    - Modifique el dominio de graficación de la función ($x$).\n",
    "    - Modifique los extremos del intervalo a evaluar ($A$ y $B$).\n",
    "- Use el teorema del valor intermedio para mostrar que la solución existe en cada intervalo mencionado.\n"
   ]
  },
  {
   "cell_type": "code",
   "execution_count": null,
   "metadata": {},
   "outputs": [],
   "source": [
    "import numpy as np\n",
    "import matplotlib.pyplot as plt\n",
    "%matplotlib inline"
   ]
  },
  {
   "cell_type": "code",
   "execution_count": null,
   "metadata": {},
   "outputs": [],
   "source": [
    "# Función a ser evaluada\n",
    "y = lambda x: x * np.cos(x)-2 * x**2 + 3 * x - 1\n",
    "\n",
    "# Dominio de la función\n",
    "xmin = 0\n",
    "xmax = 2\n",
    "x = np.linspace(xmin, xmax, 100)\n",
    "\n",
    "A = 1.2  # Extremo izquierdo del intervalo\n",
    "B = 1.3  # Extremo derecho del intervalo\n",
    "\n",
    "# Gráfica de la función\n",
    "plt.plot(x,y(x), 'r-', lw=2)\n",
    "\n",
    "# Líneas verticales en los extremos del intervalo y línea en y = 0\n",
    "ymin = np.min(y(x))\n",
    "ymax = np.max(y(x))\n",
    "plt.plot([A,A], [ymin,ymax], 'g--', lw=1)\n",
    "plt.plot([B,B], [ymin,ymax], 'g--', lw=1)\n",
    "plt.plot([xmin, xmax], [0,0], 'b-', lw=1)\n",
    "\n",
    "plt.grid()\n",
    "plt.show()"
   ]
  },
  {
   "cell_type": "markdown",
   "metadata": {},
   "source": [
    "## Ejercicio 2.\n",
    "Calcular el segundo polinomio de Taylor $P_2(x)$ de la función $f(x) = e^x \\cos(x)$ alrededor de $x_0 = 0$, así como el error $R_2(x)$ de acuerdo con el Teorema de Taylor.\n",
    "\n",
    "**Realice lo siguiente**:\n",
    "\n",
    "- Aproximar $f(x)$ usando $P_2(x)$ en $x = 0.5$ y calcular el error absoluto y relativo de la aproximación. \n",
    "- ¿Cómo se compara el error absoluto con la fórmula del error $R_2(x)$? **Hint**: encuentre una cota máxima de $R_2(x)$ en $[0,0.5]$.\n",
    "- Encuentre una cota para $R_2(x)$ en el intervalo $[0,1]$.\n",
    "- Aproximar la integral $\\int_0^1 f(x) dx$ usando $\\int_0^1 P_2(x) dx$.\n",
    "- Calcule la integral exacta de $\\int_0^1 f(x) dx$ y compare con el error absoluto de la aproximación anterior. ¿Cómo se compara este resultado con el error calculado de la siguiente manera $\\int_0^1 |R_2(x)| dx$?\n",
    "- Haga una gráfica de $f(x)$ y $P_2(x)$ en el intervalo $[0, 0.5]$. Decore la gráfica con una leyenda para cada una de las curvas, etiqueta en los ejes, y un título que diga: \"$|f(0.5)-P_2(0.5)| = E_a$\" donde $E_a$ es el error absoluto en $x=0.5$."
   ]
  },
  {
   "cell_type": "markdown",
   "metadata": {},
   "source": [
    "## Ejercicio 3.\n",
    "Calcular el error absoluto y relativo de las siguientes aproximaciones:\n",
    "- $p = \\pi, pa = 3.1416$\n",
    "- $p = e, pa = 2.718$\n",
    "- $p = 8!, pa = 39900$\n",
    "- $p = \\sqrt{2}, pa = 1.4142$\n",
    "- $p = \\sqrt{2}, pa = 1.414213$\n",
    "- $p = \\frac{4}{5} + \\frac{1}{3}, pa = round(p,3)$\n",
    "- $p = \\frac{1}{3}-\\frac{3}{11}+\\frac{3}{20}, pa = round(p,3)$\n",
    "- $p = \\frac{1}{3}-\\frac{3}{11}+\\frac{3}{20}, pa =$ truncamiento de $p$ a $3$ dígitos."
   ]
  },
  {
   "cell_type": "code",
   "execution_count": null,
   "metadata": {},
   "outputs": [],
   "source": [
    "Ea = np.fabs(np.pi - 3.1416)\n",
    "Er = np.fabs(np.pi - 3.1416) / np.fabs(np.pi)\n",
    "print('Error absoluto = {:.55f}'.format(Ea))\n",
    "print('Error relativo = {:.55f}'.format(Er))"
   ]
  },
  {
   "cell_type": "code",
   "execution_count": null,
   "metadata": {},
   "outputs": [],
   "source": [
    "from decimal import getcontext, Decimal\n",
    "getcontext().prec=5\n",
    "print(getcontext())\n",
    "\n",
    "print(format(Decimal(3.1416),'.55f'))\n",
    "print(format(np.pi, '.55f'))"
   ]
  },
  {
   "cell_type": "code",
   "execution_count": null,
   "metadata": {},
   "outputs": [],
   "source": [
    "Ea = np.fabs(np.pi - float(Decimal(3.1416)))\n",
    "Er = np.fabs(np.pi - float(Decimal(3.1416))) / np.fabs(np.pi)\n",
    "print('Error absoluto = {:.55f}'.format(Ea))\n",
    "print('Error relativo = {:.55f}'.format(Er))"
   ]
  },
  {
   "cell_type": "code",
   "execution_count": null,
   "metadata": {},
   "outputs": [],
   "source": [
    "getcontext().prec=4\n",
    "format(Decimal(np.exp(1))*1,'.55f')"
   ]
  },
  {
   "cell_type": "markdown",
   "metadata": {},
   "source": [
    "## Ejercicio 4.\n",
    "Suponga que tenemos dos puntos en el plano Cartesiano $(x_0, y_0)$ y $(x_1, y_1)$ con $y_0 \\neq y_1$. Las siguientes dos fórmulas calculan en dónde es que esta línea cruza al eje $x$:\n",
    "$$\n",
    "x = \\frac{x_0y_1 - x_1y_0}{y_1-y_0} \n",
    "\\quad \\quad \\text{y} \\quad \\quad\n",
    "x = x_0 - \\frac{(x_1 - x_0)y_0}{y_1-y_0} \n",
    "$$\n",
    "\n",
    "**Realizar lo siguiente**:\n",
    "- Mostrar que ambas fórmulas son equivalentes. **Hint**: calcular la fórmula de la recta que pasa por ambos puntos y luego evaluarla cuando $y=0$ y despejar $x$.\n",
    "- Usar los siguientes datos $(x_0, y_0) = (1.31, 3.24)$ y $(x_1, y_1) = (1.93, 4.76)$ y una aritmética de redondeo a 6 dígitos para calcular $x$ usando las dos fórmulas anteriores. ¿Puede determinar cuál de las dos fórmulas es mejor y por qué? \n",
    "\n",
    "**Hint**: Evalue primero usando la precisión por omisión: \n",
    "```python\n",
    "# Primera fórmula\n",
    "def f1(x0,y0,x1,y1):\n",
    "    return (x0*y1 - x1*y0) /(y1 - y0)\n",
    "# Segunda fórmula\n",
    "def f2(x0,y0,x1,y1):\n",
    "    return x0 - (x1 - x0)*y0 /(y1 - y0)\n",
    "# Evaluación sin redondeo\n",
    "f1_e = f1(1.31,3.24,1.93,4.76)\n",
    "f2_e = f2(1.31,3.24,1.93,4.76)\n",
    "print('f1 = {:.55f}'.format(f1_e))\n",
    "print('f2 = {:.55f}'.format(f2_e))\n",
    "```\n",
    "Posteriormente evalue usando redondeo:\n",
    "\n",
    "```python\n",
    "# Usamos las siguiente bibliotecas para redondear\n",
    "from decimal import getcontext, Decimal \n",
    "getcontext().prec=6 # precisión a 6 dígitos\n",
    "print(getcontext())\n",
    "# Evaluamos con redondeo\n",
    "(x0, y0) = (Decimal(1.31),Decimal(3.24))\n",
    "(x1, y1) = (Decimal(1.93),Decimal(4.76))\n",
    "print('\\n {:.6f} \\t {:.6f} \\t {:.6f} \\t {:.6f} \\n'.format(x0,y0,x1,y1))\n",
    "f1_a = f1(x0,y0,x1,y1)\n",
    "f2_a = f2(x0,y0,x1,y1)\n",
    "print('f1 = {:.10f}'.format(f1_a))\n",
    "print('f2 = {:.10f}'.format(f2_a))\n",
    "```\n",
    "Ahora calcule el error absoluto y relativo comparando con los primeros resultados.\n",
    "\n",
    "```python\n",
    "E1_a = np.fabs(f1_e - float(f1_a))\n",
    "E2_a = np.fabs(f2_e - float(f2_a))\n",
    "E1_r = E1_a / np.fabs(f1_e)\n",
    "E2_r = E2_a / np.fabs(f2_e)\n",
    "print('Error absoluto f1: {:.55f}'.format(E1_a))\n",
    "print('Error absoluto f2: {:.55f}'.format(E2_a))\n",
    "print('Error relativo f1: {:.55f}'.format(E1_r))\n",
    "print('Error relativo f2: {:.55f}'.format(E2_r))\n",
    "```"
   ]
  },
  {
   "cell_type": "code",
   "execution_count": null,
   "metadata": {},
   "outputs": [],
   "source": [
    "def f1(x0,y0,x1,y1):\n",
    "    return (x0*y1 - x1*y0) /(y1 - y0)\n",
    "\n",
    "def f2(x0,y0,x1,y1):\n",
    "    return x0 - (x1 - x0)*y0 /(y1 - y0)"
   ]
  },
  {
   "cell_type": "code",
   "execution_count": null,
   "metadata": {},
   "outputs": [],
   "source": [
    "f1_e = f1(1.31,3.24,1.93,4.76)\n",
    "f2_e = f2(1.31,3.24,1.93,4.76)\n",
    "print('f1 = {:.55f}'.format(f1_e))\n",
    "print('f2 = {:.55f}'.format(f2_e))"
   ]
  },
  {
   "cell_type": "code",
   "execution_count": null,
   "metadata": {},
   "outputs": [],
   "source": [
    "from decimal import getcontext, Decimal\n",
    "getcontext().prec=6\n",
    "print(getcontext())\n",
    "(x0, y0) = (Decimal(1.31),Decimal(3.24))\n",
    "(x1, y1) = (Decimal(1.93),Decimal(4.76))\n",
    "print('\\n {:.6f} \\t {:.6f} \\t {:.6f} \\t {:.6f} \\n'.format(x0,y0,x1,y1))\n",
    "f1_a = f1(x0,y0,x1,y1)\n",
    "f2_a = f2(x0,y0,x1,y1)\n",
    "print('f1 = {:.10f}'.format(f1_a))\n",
    "print('f2 = {:.10f}'.format(f2_a))"
   ]
  },
  {
   "cell_type": "code",
   "execution_count": null,
   "metadata": {},
   "outputs": [],
   "source": [
    "E1_a = np.fabs(f1_e - float(f1_a))\n",
    "E2_a = np.fabs(f2_e - float(f2_a))\n",
    "\n",
    "E1_r = E1_a / np.fabs(f1_e)\n",
    "E2_r = E2_a / np.fabs(f2_e)\n",
    "\n",
    "print('Error absoluto f1: {:.55f}'.format(E1_a))\n",
    "print('Error absoluto f2: {:.55f}'.format(E2_a))\n",
    "\n",
    "print('Error relativo f1: {:.55f}'.format(E1_r))\n",
    "print('Error relativo f2: {:.55f}'.format(E2_r))"
   ]
  },
  {
   "cell_type": "markdown",
   "metadata": {},
   "source": [
    "## Ejercicio 5. \n",
    "La secuencia $\\{F_n\\}$ descrita por $F_0 = 1, F_1 = 1$, y $F_{n+2}$ = $F_n + F_{n+1}$, si $n \\geq 0$, se conoce como la secuencia de Fibonacci. Sus términos ocurren naturalmente en especies botánicas, particularmente en aquellas con pétalos o escalas que se arreglan en forma de espiral logarítmica. \n",
    "\n",
    "Considere la secuencia $\\{x_n\\}$, donde $x_n = F_{n+1} / F_n$. El límite\n",
    "$\\lim_{n \\to \\infty} x_n = x$ existe y es: \n",
    "$$\n",
    "\\displaystyle x = \\frac{1 + \\sqrt{5}}{2} \\quad \\text{(golden ratio)} \n",
    "$$\n",
    "Escribir un algoritmo para aproximar $x$ y dada una $n$, calcular el error absoluto y el error relativo de la aproximación. Grafique la secuencia $x$.\n",
    "\n",
    "**Hint**: calcule los números de Fibonacci y posteriormente la secuencia $x_n$. "
   ]
  },
  {
   "cell_type": "code",
   "execution_count": null,
   "metadata": {},
   "outputs": [],
   "source": [
    "# Secuencia de Fibonacci\n",
    "n = 300\n",
    "a, b = 1, 1\n",
    "x = [1]\n",
    "while a < n:\n",
    "    print(a, end=',')\n",
    "    a, b = b, a+b\n",
    "    x.append(b/a)\n",
    "\n",
    "golden_ratio = (1 + np.sqrt(5))/2\n",
    "print('\\nGolden ratio : {:.55f}'.format(golden_ratio))\n",
    "print('Secuencia xn : {:.55f}'.format(x[-1]))\n",
    "Ea = np.fabs(golden_ratio - x[-1])\n",
    "Er = np.fabs(golden_ratio - x[-1]) / np.fabs(golden_ratio)\n",
    "print('Error absoluto : {:.55f}'.format(Ea))\n",
    "print('Error relativo : {:.55f}'.format(Er))\n",
    "\n",
    "plt.plot(x, 'o--')\n",
    "plt.show()"
   ]
  },
  {
   "cell_type": "code",
   "execution_count": null,
   "metadata": {},
   "outputs": [],
   "source": []
  }
 ],
 "metadata": {
  "kernelspec": {
   "display_name": "Python 3 (ipykernel)",
   "language": "python",
   "name": "python3"
  },
  "language_info": {
   "codemirror_mode": {
    "name": "ipython",
    "version": 3
   },
   "file_extension": ".py",
   "mimetype": "text/x-python",
   "name": "python",
   "nbconvert_exporter": "python",
   "pygments_lexer": "ipython3",
   "version": "3.11.6"
  }
 },
 "nbformat": 4,
 "nbformat_minor": 4
}
