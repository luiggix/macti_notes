{
 "cells": [
  {
   "cell_type": "markdown",
   "metadata": {},
   "source": [
    "# Geofísica Matemática y Computacional.\n",
    "\n",
    "## Examen\n",
    "\n",
    "### 23 de noviembre de 2021\n",
    "\n",
    "Antes de entregar este *notebook*, asegúrese de que la ejecución se realiza como se espera.\n",
    "1. Reinicie el kernel.\n",
    "    - Para ello seleccione en el menú principal: Kernel$\\rightarrow$Restart.\n",
    "2. Llene todos las celdas que indican:\n",
    "    - `YOUR CODE HERE` o\n",
    "    - \"YOUR ANSWER HERE\"\n",
    "3. Ponga su nombre en la celda siguiente (y el de sus colaboradores si es el caso).\n",
    "4. Una vez terminado el ejercicio haga clic en el botón Validate y asegúrese de que no hay ningún error en la ejecución."
   ]
  },
  {
   "cell_type": "code",
   "execution_count": null,
   "metadata": {},
   "outputs": [],
   "source": [
    "NAME = \"\"\n",
    "COLLABORATORS = \"\""
   ]
  },
  {
   "cell_type": "markdown",
   "metadata": {},
   "source": [
    "---"
   ]
  },
  {
   "cell_type": "markdown",
   "metadata": {
    "deletable": false,
    "editable": false,
    "nbgrader": {
     "cell_type": "markdown",
     "checksum": "fcbc180aa52d63e8f7c826e1c843d676",
     "grade": false,
     "grade_id": "cell-81b3f7692918ebba",
     "locked": true,
     "schema_version": 3,
     "solution": false,
     "task": false
    }
   },
   "source": [
    "# Convección-difusión de calor NO estacionaria\n",
    "Considere el siguiente problema:\n",
    "\n",
    "$$\n",
    "\\begin{eqnarray*}\n",
    "\\frac{\\partial T}{\\partial t} +\n",
    "u \\frac{\\partial T}{\\partial x} -\n",
    "\\kappa \\frac{\\partial^2 T}{\\partial x^2} & = & 0 \\\\\n",
    "T(0, t) & = & 1 \\qquad \\text{para} \\qquad 0 < t < T_{max} \\\\\n",
    "T(L, t) & = & 0 \\qquad \\text{para} \\qquad 0 < t < T_{max} \\\\\n",
    "T(x, 0) & = & 0 \\qquad \\text{para} \\qquad 0 < x \\leq L\n",
    "\\end{eqnarray*}\n",
    "$$\n",
    "\n",
    "<img src=\"conv03.png\" width=\"300\" align=\"middle\">\n",
    "\n",
    "La solución analítica es la siguiente:\n",
    "\n",
    "$$\n",
    "\\displaystyle\n",
    "T(x,t) = 0.5  \\left[\\text{erfc}\\left(\\frac{x - ut}{2 \\sqrt{\\kappa t}}\\right) +\n",
    "\\exp\\left(\\frac{u x}{\\kappa}\\right)\n",
    "\\text{erfc}\\left(\\frac{x + ut}{2 \\sqrt{\\kappa t}}\\right) \\right]\n",
    "$$"
   ]
  },
  {
   "cell_type": "markdown",
   "metadata": {
    "deletable": false,
    "editable": false,
    "nbgrader": {
     "cell_type": "markdown",
     "checksum": "581f55e69b47bde67f1de29779399cfa",
     "grade": false,
     "grade_id": "cell-96f8d3f992674ea0",
     "locked": true,
     "schema_version": 3,
     "solution": false,
     "task": false
    }
   },
   "source": [
    "Implementar la solución numérica con diferencias finitas en Python.\n",
    "\n",
    "Utilice los siguientes datos:\n",
    "\n",
    "- $L = 2.5$ [m],  \n",
    "- $T_{max} = 1$ [s]\n",
    "- $h_t = 0.002$ [s]\n",
    "\n",
    "La $u$ y la $\\kappa$ se definen más adelante.\n",
    "\n",
    "- $\\kappa = 0.001$ [kg/m s], \n"
   ]
  },
  {
   "cell_type": "code",
   "execution_count": null,
   "metadata": {},
   "outputs": [],
   "source": [
    "import numpy as np\n",
    "import matplotlib.pyplot as plt\n",
    "plt.style.use('seaborn-paper')\n",
    "params = {'figure.figsize' : (10,7),\n",
    "#          'text.usetex'    : True,\n",
    "          'xtick.labelsize': 20,\n",
    "          'ytick.labelsize': 20,\n",
    "          'axes.labelsize' : 24,\n",
    "          'axes.titlesize' : 24,\n",
    "          'legend.fontsize': 12,\n",
    "          'lines.linewidth': 3,\n",
    "          'lines.markersize': 10,\n",
    "          'grid.color'     : 'darkgray',\n",
    "          'grid.linewidth' : 0.5,\n",
    "          'grid.linestyle' : '--',\n",
    "          'font.family': 'DejaVu Serif',\n",
    "         }\n",
    "plt.rcParams.update(params)"
   ]
  },
  {
   "cell_type": "code",
   "execution_count": null,
   "metadata": {
    "deletable": false,
    "editable": false,
    "nbgrader": {
     "cell_type": "code",
     "checksum": "590b4b75ec930ff1795d4b2f972a2178",
     "grade": false,
     "grade_id": "cell-165dc1c9ecefae40",
     "locked": true,
     "schema_version": 3,
     "solution": false,
     "task": false
    }
   },
   "outputs": [],
   "source": [
    "def mesh(L,N):\n",
    "    x = np.linspace(0,L,N+2)\n",
    "    return (L / (N+1), x)"
   ]
  },
  {
   "cell_type": "markdown",
   "metadata": {
    "deletable": false,
    "editable": false,
    "nbgrader": {
     "cell_type": "markdown",
     "checksum": "c516496aaf1840641cb6f79241625a5f",
     "grade": false,
     "grade_id": "cell-b0264611b455563d",
     "locked": true,
     "schema_version": 3,
     "solution": false,
     "task": false
    }
   },
   "source": [
    "## Cálculo de la matriz\n",
    "En la siguiente función deberá implementar el cálculo de la matriz del sistema de tal manera que mediante el parámetro `scheme` se pueda elegir entre el esquema de **Diferencias Centradas** y el **Upwind**. Tendrá entonces que escribir un código similar al siguiente:\n",
    "\n",
    "```python\n",
    "    if scheme == 'C': # Caso: Diferencias Centradas\n",
    "        b = ...\n",
    "        c = ...\n",
    "    elif scheme == 'U': # Caso: Upwind\n",
    "        ...\n",
    "```"
   ]
  },
  {
   "cell_type": "code",
   "execution_count": null,
   "metadata": {
    "deletable": false,
    "nbgrader": {
     "cell_type": "code",
     "checksum": "3ff64d41355b1b815b39b5e01132addc",
     "grade": false,
     "grade_id": "cell-124ebaaf18ef867e",
     "locked": false,
     "schema_version": 3,
     "solution": true,
     "task": false
    }
   },
   "outputs": [],
   "source": [
    "def Laplaciano1D(par, scheme):#N, h, ht, Gamma, rho, v):\n",
    "    u     = par['u'] \n",
    "    kappa = par['kappa']\n",
    "    N     = par['N'] \n",
    "    h     = par['h']\n",
    "    ht    = par['ht']\n",
    "\n",
    "    # YOUR CODE HERE\n",
    "    raise NotImplementedError()\n",
    "\n",
    "    a = b + c\n",
    "    A = np.zeros((N,N))\n",
    "    A[0,0] = a + 1\n",
    "    A[0,1] = -b\n",
    "    for i in range(1,N-1):\n",
    "        A[i,i] = a + 1\n",
    "        A[i,i+1] = -b\n",
    "        A[i,i-1] = -c\n",
    "    A[N-1,N-2] = -c\n",
    "    A[N-1,N-1] = a + 1\n",
    "    return A"
   ]
  },
  {
   "cell_type": "markdown",
   "metadata": {
    "deletable": false,
    "editable": false,
    "nbgrader": {
     "cell_type": "markdown",
     "checksum": "13db4c3f448a3e1880213600260fc0b7",
     "grade": false,
     "grade_id": "cell-ed49ce764344aaee",
     "locked": true,
     "schema_version": 3,
     "solution": false,
     "task": false
    }
   },
   "source": [
    "## Cálculo del RHS\n",
    "De igual manera que en el caso de la matriz, deberá implementar en la siguiente función los casos para calcular el RHS del sistema usando **Diferencias Finitas** o **Upwind** dependiendo del valor de `scheme`."
   ]
  },
  {
   "cell_type": "code",
   "execution_count": null,
   "metadata": {
    "deletable": false,
    "nbgrader": {
     "cell_type": "code",
     "checksum": "dc68385ab2639b57c187fdef2b0d89a3",
     "grade": false,
     "grade_id": "cell-74858191b1e99842",
     "locked": false,
     "schema_version": 3,
     "solution": true,
     "task": false
    }
   },
   "outputs": [],
   "source": [
    "def RHS(par, T, scheme):\n",
    "    u     = par['u'] \n",
    "    kappa = par['kappa']\n",
    "    N     = par['N'] \n",
    "    h     = par['h']\n",
    "    ht    = par['ht']\n",
    "    T0    = par['BC'][0]\n",
    "    TL    = par['BC'][1]\n",
    "\n",
    "    f = np.copy(T[1:N+1])\n",
    "\n",
    "    # YOUR CODE HERE\n",
    "    raise NotImplementedError()\n",
    "    \n",
    "    f[0]   += ht * c * T0  \n",
    "    f[N-1] += ht * b * TL\n",
    "    \n",
    "    return f"
   ]
  },
  {
   "cell_type": "markdown",
   "metadata": {
    "deletable": false,
    "editable": false,
    "nbgrader": {
     "cell_type": "markdown",
     "checksum": "98c44e75ea92e4459d766878ccd09e81",
     "grade": false,
     "grade_id": "cell-02de29b43915f024",
     "locked": true,
     "schema_version": 3,
     "solution": false,
     "task": false
    }
   },
   "source": [
    "## Solución analítica.\n",
    "\n",
    "Observe que la solución analítica contiene la función especial $erfc(x)$ que es la <a href='https://mathworld.wolfram.com/Erfc.html'>función error complementaria</a>. Esta función la puede usar a través de la biblioteca `special` de `scipy` (incluya `from scipy import special`) :\n",
    "\n",
    "```python\n",
    "    special.erfc( ... )\n",
    "```\n"
   ]
  },
  {
   "cell_type": "code",
   "execution_count": null,
   "metadata": {
    "deletable": false,
    "nbgrader": {
     "cell_type": "code",
     "checksum": "95d94f63e549112a8e7dce9fb9b3f6c8",
     "grade": false,
     "grade_id": "cell-8fc577de434a8c95",
     "locked": false,
     "schema_version": 3,
     "solution": true,
     "task": false
    }
   },
   "outputs": [],
   "source": [
    "from scipy import special\n",
    "\n",
    "def analyticSol(par, i, NP = 100):\n",
    "    L     = par['L']\n",
    "    u     = par['u']\n",
    "    kappa = par['kappa']\n",
    "    t     = par['ht'] * i\n",
    "\n",
    "    # YOUR CODE HERE\n",
    "    raise NotImplementedError()"
   ]
  },
  {
   "cell_type": "markdown",
   "metadata": {
    "deletable": false,
    "editable": false,
    "nbgrader": {
     "cell_type": "markdown",
     "checksum": "8ff3a4d9c8c7ba3f67d4cfbc4384cd3a",
     "grade": false,
     "grade_id": "cell-04233116254155f6",
     "locked": true,
     "schema_version": 3,
     "solution": false,
     "task": false
    }
   },
   "source": [
    "## Cálculo de la solución numérica\n",
    "\n",
    "Debido a que usamos el método implícito, en el siguiente código deberá incluir la llamada a las funciones para calcular la matriz, el RHS y la solución del sistema.\n"
   ]
  },
  {
   "cell_type": "code",
   "execution_count": null,
   "metadata": {
    "deletable": false,
    "nbgrader": {
     "cell_type": "code",
     "checksum": "4a3fa42febb58c0bce0e5dbff72acaf2",
     "grade": false,
     "grade_id": "cell-d98640b2b08aa0e7",
     "locked": false,
     "schema_version": 3,
     "solution": true,
     "task": false
    }
   },
   "outputs": [],
   "source": [
    "def numSol(par, T, scheme):\n",
    "    L     = par['L']\n",
    "    N     = par['N']\n",
    "    ht    = par['ht']\n",
    "    Nt    = par['Nt']\n",
    "    freq  = par['freq']\n",
    "\n",
    "    error = []\n",
    "    x = np.linspace(0,L,N+2)\n",
    "    for i in range(1, Nt+1):        \n",
    "        # YOUR CODE HERE\n",
    "        raise NotImplementedError()\n",
    "    \n",
    "        if (i % freq == 0):\n",
    "            xa, Ta = analyticSol(par, i, N+2)\n",
    "            E = np.linalg.norm(Ta - T)\n",
    "            error.append(E)\n",
    "            etiqueta = 'Step = {:2.1f}, $||E||_2$ = {:5.6f}'.format(i*ht, E)\n",
    "            plt.plot(x, T, '-', lw = 1.5, label=etiqueta)\n",
    "            plt.plot(xa, Ta, '--', lw = 1.0, color='gray')\n",
    "    \n",
    "    return error"
   ]
  },
  {
   "cell_type": "code",
   "execution_count": null,
   "metadata": {
    "deletable": false,
    "editable": false,
    "nbgrader": {
     "cell_type": "code",
     "checksum": "aee31ad50fe282d53a95d864cf2bf9f7",
     "grade": false,
     "grade_id": "cell-b0a42611b8937a35",
     "locked": true,
     "schema_version": 3,
     "solution": false,
     "task": false
    }
   },
   "outputs": [],
   "source": [
    "def casos(u, kappa, N, scheme):\n",
    "    par = {}\n",
    "    par['L']     = 2.5 # m\n",
    "    par['kappa'] = kappa # kg / m.s\n",
    "    par['u']     = u # m/s\n",
    "    par['BC']    = (1.0, 0.0)\n",
    "    par['N']     = N # Número de incógnitas\n",
    "    par['Tmax']  = 1.0\n",
    "    par['ht']    = 0.001\n",
    "    par['Nt']    = int(par['Tmax'] / par['ht'])\n",
    "    par['freq']  = 100\n",
    "    h, x = mesh(par['L'], par['N'])\n",
    "    par['h'] = h\n",
    "\n",
    "    N  = par['N']\n",
    "    T0 = par['BC'][0]\n",
    "    TL = par['BC'][1]\n",
    "\n",
    "    T = np.zeros(N+2)\n",
    "    T[0] = T0\n",
    "    T[-1] = TL\n",
    "    xa, Ta = analyticSol(par, par['Nt'])\n",
    "    \n",
    "    plt.figure(figsize=(10,5))\n",
    "\n",
    "    error = numSol(par, T, scheme)\n",
    "    plt.plot(xa,Ta, '--', lw=1.0, color='gray', label='Analítica')\n",
    "    plt.xlabel('x [m]')\n",
    "    plt.ylabel('T [$^o$C]')\n",
    "    plt.grid()\n",
    "    plt.legend(loc='upper right')\n",
    "        \n",
    "    plt.show()"
   ]
  },
  {
   "cell_type": "markdown",
   "metadata": {
    "deletable": false,
    "editable": false,
    "nbgrader": {
     "cell_type": "markdown",
     "checksum": "af4a930889b9e13ae0e081041bc583c7",
     "grade": false,
     "grade_id": "cell-896c7ac8cedb1452",
     "locked": true,
     "schema_version": 3,
     "solution": false,
     "task": false
    }
   },
   "source": [
    "### Caso 1.\n",
    "\n",
    "Calcule la solución usando los siguientes datos:\n",
    "\n",
    "- $u = 1.0$\n",
    "- $\\alpha = 0.01$\n",
    "- $N = 100$\n",
    "- Esquema: Diferencias Centradas"
   ]
  },
  {
   "cell_type": "code",
   "execution_count": null,
   "metadata": {
    "deletable": false,
    "nbgrader": {
     "cell_type": "code",
     "checksum": "f0e5278eddb197718e88dc30fa967761",
     "grade": false,
     "grade_id": "cell-d1027f9daaa170b5",
     "locked": false,
     "schema_version": 3,
     "solution": true,
     "task": false
    }
   },
   "outputs": [],
   "source": [
    "# YOUR CODE HERE\n",
    "raise NotImplementedError()"
   ]
  },
  {
   "cell_type": "markdown",
   "metadata": {
    "deletable": false,
    "editable": false,
    "nbgrader": {
     "cell_type": "markdown",
     "checksum": "cb09adee08c4ad664b6778da8a52f3c0",
     "grade": false,
     "grade_id": "cell-c7340d954614911f",
     "locked": true,
     "schema_version": 3,
     "solution": false,
     "task": false
    }
   },
   "source": [
    "### Caso 2.\n",
    "\n",
    "Calcule la solución usando los siguientes datos:\n",
    "\n",
    "- $u = 1.0$\n",
    "- $\\alpha = 0.01$\n",
    "- $N = 100$\n",
    "- Esquema: Upwind"
   ]
  },
  {
   "cell_type": "code",
   "execution_count": null,
   "metadata": {
    "deletable": false,
    "nbgrader": {
     "cell_type": "code",
     "checksum": "ed3ba4aecd5d3d5663242cbb059b4ca9",
     "grade": false,
     "grade_id": "cell-a4b9608165ab2b22",
     "locked": false,
     "schema_version": 3,
     "solution": true,
     "task": false
    }
   },
   "outputs": [],
   "source": [
    "# YOUR CODE HERE\n",
    "raise NotImplementedError()"
   ]
  },
  {
   "cell_type": "markdown",
   "metadata": {
    "deletable": false,
    "editable": false,
    "nbgrader": {
     "cell_type": "markdown",
     "checksum": "0b7adc45b7ef9cc29c6060dee59f4002",
     "grade": false,
     "grade_id": "cell-4ded47513efe9d04",
     "locked": true,
     "schema_version": 3,
     "solution": false,
     "task": false
    }
   },
   "source": [
    "### Pregunta 1: \n",
    "    1.1 ¿Cual de los casos 1 y 2 proporciona una mejor solución? <br>\n",
    "    1.2 ¿Por qué sucede esto?"
   ]
  },
  {
   "cell_type": "markdown",
   "metadata": {
    "deletable": false,
    "nbgrader": {
     "cell_type": "markdown",
     "checksum": "fe1b8bca02a56c46bbed441efba884ff",
     "grade": true,
     "grade_id": "cell-4763c56c0b979211",
     "locked": false,
     "points": 2,
     "schema_version": 3,
     "solution": true,
     "task": false
    }
   },
   "source": [
    "YOUR ANSWER HERE"
   ]
  },
  {
   "cell_type": "markdown",
   "metadata": {
    "deletable": false,
    "editable": false,
    "nbgrader": {
     "cell_type": "markdown",
     "checksum": "8f6a1d5b56194a1c7c837dbb12b449d5",
     "grade": false,
     "grade_id": "cell-7611df817a616cc4",
     "locked": true,
     "schema_version": 3,
     "solution": false,
     "task": false
    }
   },
   "source": [
    "### Caso 3.\n",
    "\n",
    "Calcule la solución usando los siguientes datos:\n",
    "\n",
    "- $u = 1.0$\n",
    "- $\\alpha = 0.001$\n",
    "- $N = 100$\n",
    "- Esquema: Diferencias Centradas"
   ]
  },
  {
   "cell_type": "code",
   "execution_count": null,
   "metadata": {
    "deletable": false,
    "nbgrader": {
     "cell_type": "code",
     "checksum": "a88e55dc8490dafdd78e1276698b2ae2",
     "grade": false,
     "grade_id": "cell-d6081cc742754775",
     "locked": false,
     "schema_version": 3,
     "solution": true,
     "task": false
    }
   },
   "outputs": [],
   "source": [
    "# YOUR CODE HERE\n",
    "raise NotImplementedError()"
   ]
  },
  {
   "cell_type": "markdown",
   "metadata": {
    "deletable": false,
    "editable": false,
    "nbgrader": {
     "cell_type": "markdown",
     "checksum": "96b99733a26272618cd1b8697b4edc85",
     "grade": false,
     "grade_id": "cell-16fe083aa3693b4d",
     "locked": true,
     "schema_version": 3,
     "solution": false,
     "task": false
    }
   },
   "source": [
    "### Pregunta 2: \n",
    "¿Cómo podría mejorar la solución del caso 3?"
   ]
  },
  {
   "cell_type": "markdown",
   "metadata": {
    "deletable": false,
    "nbgrader": {
     "cell_type": "markdown",
     "checksum": "3e248e14d67189984499fd2c64a80a46",
     "grade": true,
     "grade_id": "cell-c114acd40810dc0e",
     "locked": false,
     "points": 1,
     "schema_version": 3,
     "solution": true,
     "task": false
    }
   },
   "source": [
    "YOUR ANSWER HERE"
   ]
  },
  {
   "cell_type": "markdown",
   "metadata": {
    "deletable": false,
    "editable": false,
    "nbgrader": {
     "cell_type": "markdown",
     "checksum": "42b42c4b0ed82c2045b09512204ba374",
     "grade": false,
     "grade_id": "cell-5702c156bdceeab1",
     "locked": true,
     "schema_version": 3,
     "solution": false,
     "task": false
    }
   },
   "source": [
    "### Caso 4.\n",
    "\n",
    "Calcule la solución usando los siguientes datos:\n",
    "\n",
    "- $u = 1.0$\n",
    "- $\\alpha = 0.001$\n",
    "- $N = 100$\n",
    "- Esquema: Upwind"
   ]
  },
  {
   "cell_type": "code",
   "execution_count": null,
   "metadata": {
    "deletable": false,
    "nbgrader": {
     "cell_type": "code",
     "checksum": "89b2105d65bb8c5b7b9959b30fd560aa",
     "grade": false,
     "grade_id": "cell-6bc6b8fcc95ba96b",
     "locked": false,
     "schema_version": 3,
     "solution": true,
     "task": false
    }
   },
   "outputs": [],
   "source": [
    "# YOUR CODE HERE\n",
    "raise NotImplementedError()"
   ]
  },
  {
   "cell_type": "markdown",
   "metadata": {
    "deletable": false,
    "editable": false,
    "nbgrader": {
     "cell_type": "markdown",
     "checksum": "9700bb512ed1cd722b9bc8f2592f50d3",
     "grade": false,
     "grade_id": "cell-3cccee4773c8876f",
     "locked": true,
     "schema_version": 3,
     "solution": false,
     "task": false
    }
   },
   "source": [
    "### Pregunta 3: \n",
    "¿Cómo podría mejorar la solución del caso 4?"
   ]
  },
  {
   "cell_type": "markdown",
   "metadata": {
    "deletable": false,
    "nbgrader": {
     "cell_type": "markdown",
     "checksum": "531da73f8aace16efb36f53d56574af5",
     "grade": true,
     "grade_id": "cell-1c81a620061b7836",
     "locked": false,
     "points": 0,
     "schema_version": 3,
     "solution": true,
     "task": false
    }
   },
   "source": [
    "YOUR ANSWER HERE"
   ]
  }
 ],
 "metadata": {
  "kernelspec": {
   "display_name": "Python 3",
   "language": "python",
   "name": "python3"
  },
  "language_info": {
   "codemirror_mode": {
    "name": "ipython",
    "version": 3
   },
   "file_extension": ".py",
   "mimetype": "text/x-python",
   "name": "python",
   "nbconvert_exporter": "python",
   "pygments_lexer": "ipython3",
   "version": "3.8.8"
  }
 },
 "nbformat": 4,
 "nbformat_minor": 4
}
