{
 "cells": [
  {
   "cell_type": "markdown",
   "metadata": {},
   "source": [
    "# Geofísica Matemática y Computacional.\n",
    "\n",
    "## Examen\n",
    "\n",
    "### 23 de noviembre de 2021\n",
    "\n",
    "Antes de entregar este *notebook*, asegúrese de que la ejecución se realiza como se espera.\n",
    "1. Reinicie el kernel.\n",
    "    - Para ello seleccione en el menú principal: Kernel$\\rightarrow$Restart.\n",
    "2. Llene todos las celdas que indican:\n",
    "    - `YOUR CODE HERE` o\n",
    "    - \"YOUR ANSWER HERE\"\n",
    "3. Ponga su nombre en la celda siguiente (y el de sus colaboradores si es el caso).\n",
    "4. Una vez terminado el ejercicio haga clic en el botón Validate y asegúrese de que no hay ningún error en la ejecución."
   ]
  },
  {
   "cell_type": "code",
   "execution_count": null,
   "metadata": {},
   "outputs": [],
   "source": [
    "NAME = \"\"\n",
    "COLLABORATORS = \"\""
   ]
  },
  {
   "cell_type": "markdown",
   "metadata": {},
   "source": [
    "---"
   ]
  },
  {
   "cell_type": "markdown",
   "metadata": {
    "deletable": false,
    "editable": false,
    "nbgrader": {
     "cell_type": "markdown",
     "checksum": "4c17b9550c79ad5bed217bc4df13f829",
     "grade": false,
     "grade_id": "cell-755d44c54570648a",
     "locked": true,
     "schema_version": 3,
     "solution": false,
     "task": false
    }
   },
   "source": [
    "# Convección-difusión de calor estacionaria\n",
    "Considere el siguiente problema:\n",
    "\n",
    "$$\n",
    "\\begin{eqnarray*}\n",
    "c_p \\rho \\frac{\\partial}{\\partial x} \\left( u T \\right) -\n",
    "\\frac{\\partial }{\\partial x} \\left( \\kappa \\frac{\\partial T}{\\partial x}\\right) & = &\n",
    "S \\\\\n",
    "T(0) & = & 1 \\\\\n",
    "T(L) & = & 0\n",
    "\\end{eqnarray*}\n",
    "$$\n",
    "\n",
    "<img src=\"conv03.png\" width=\"300\" align=\"middle\">\n",
    "\n",
    "La solución analítica es la siguiente:\n",
    "\n",
    "$$\n",
    "\\displaystyle\n",
    "T(x) = \\frac{\\exp\\left(\\frac{\\rho u x}{\\kappa}\\right) - 1 }{\\exp\\left(\\frac{\\rho v L}{\\kappa}\\right) - 1} (T_L - T_0) + T_0\n",
    "$$"
   ]
  },
  {
   "cell_type": "markdown",
   "metadata": {
    "deletable": false,
    "editable": false,
    "nbgrader": {
     "cell_type": "markdown",
     "checksum": "9562afb3c95ad47bcb01595587ec3585",
     "grade": false,
     "grade_id": "cell-c980dda45090c7c2",
     "locked": true,
     "schema_version": 3,
     "solution": false,
     "task": false
    }
   },
   "source": [
    "Implementar la solución numérica con diferencias finitas en Python.\n",
    "\n",
    "Utilice los siguientes datos:\n",
    "\n",
    "- $L = 1.0$ [m], \n",
    "- $c_p = 1.0$ [J / Kg $^\\text{o}$K], \n",
    "- $\\rho = 1.0$ [kg/m$^3$], \n",
    "- $\\kappa = 0.1$ [kg/m s], \n",
    "- $S = 0$ "
   ]
  },
  {
   "cell_type": "markdown",
   "metadata": {
    "deletable": false,
    "editable": false,
    "nbgrader": {
     "cell_type": "markdown",
     "checksum": "6e94c6f4e969ccd97e8d86b83cd54630",
     "grade": false,
     "grade_id": "cell-17078edcf862e19f",
     "locked": true,
     "schema_version": 3,
     "solution": false,
     "task": false
    }
   },
   "source": [
    "## Diferencias Centradas\n",
    "1. Realice la implementación usando el esquema de **Diferencias Centradas para el término advectivo** y haga las siguientes pruebas:\n",
    "\n",
    "    1. $u = 0.1$ [m/s], con $6$ nodos.<br>    \n",
    "    2. $u = 2.5$ [m/s], con $6$ nodos.<br>\n",
    "    3. $u = 2.5$ [m/s], con $N = $ tal que el error sea menor a $0.005$.<br>\n",
    "    \n",
    "En todos los casos compare la solución numérica con la analítica calculando el error con la fórmula: $E = ||T_a - T_n||_\\infty$. Genere figuras similares a las siguientes:\n",
    "\n",
    "<table>\n",
    "    <tr>\n",
    "        <td><img src=\"caso1c.png\" width=\"300\"></td>\n",
    "        <td><img src=\"caso2c.png\" width=\"300\"></td>\n",
    "    </tr>\n",
    "</table>"
   ]
  },
  {
   "cell_type": "code",
   "execution_count": null,
   "metadata": {},
   "outputs": [],
   "source": [
    "import numpy as np\n",
    "import matplotlib.pyplot as plt\n",
    "# Parámetros para el estilo de las gráficas\n",
    "plt.style.use('seaborn-paper')\n",
    "params = {'figure.figsize' : (10,7),\n",
    "#          'text.usetex'    : True,\n",
    "          'xtick.labelsize': 20,\n",
    "          'ytick.labelsize': 20,\n",
    "          'axes.labelsize' : 24,\n",
    "          'axes.titlesize' : 24,\n",
    "          'legend.fontsize': 24,\n",
    "          'lines.linewidth': 3,\n",
    "          'lines.markersize': 10,\n",
    "          'grid.color'     : 'darkgray',\n",
    "          'grid.linewidth' : 0.5,\n",
    "          'grid.linestyle' : '--',\n",
    "          'font.family': 'DejaVu Serif',\n",
    "         }\n",
    "plt.rcParams.update(params)"
   ]
  },
  {
   "cell_type": "code",
   "execution_count": null,
   "metadata": {
    "deletable": false,
    "nbgrader": {
     "cell_type": "code",
     "checksum": "0956e3240cc71f9c9c24eaf28cc186e1",
     "grade": false,
     "grade_id": "cell-ada9b2a21e267a6b",
     "locked": false,
     "schema_version": 3,
     "solution": true,
     "task": false
    }
   },
   "outputs": [],
   "source": [
    "def mesh(L,N):\n",
    "    \"\"\"\n",
    "    Esta función calcula el h y las coordenadas de la malla\n",
    "    \n",
    "    Parameters\n",
    "    ----------\n",
    "    L : float\n",
    "    Longitud del dominio.\n",
    "    \n",
    "    N : int\n",
    "    Número de incógnitas (sin las fronteras)\n",
    "    \n",
    "    Returns\n",
    "    -------\n",
    "    h, x: el tamaño h de la malla y las coordenadas en la dirección x\n",
    "    \"\"\"\n",
    "    # YOUR CODE HERE\n",
    "    raise NotImplementedError()"
   ]
  },
  {
   "cell_type": "code",
   "execution_count": null,
   "metadata": {
    "deletable": false,
    "nbgrader": {
     "cell_type": "code",
     "checksum": "5af58d4f86275ddd3683e31e75d126e5",
     "grade": false,
     "grade_id": "cell-87a0c8f03135a141",
     "locked": false,
     "schema_version": 3,
     "solution": true,
     "task": false
    }
   },
   "outputs": [],
   "source": [
    "def Laplaciano1D(par):\n",
    "    \"\"\"\n",
    "    Esta función calcula los coeficientes de la matriz de \n",
    "    diferencias finitas.\n",
    "    \n",
    "    Paremeters\n",
    "    ----------\n",
    "    par: dict\n",
    "    Diccionario que contiene todos los datos del problema.\n",
    "    \n",
    "    Returns\n",
    "    ----------\n",
    "    A : la matriz de la discretización.\n",
    "    \"\"\"\n",
    "    N     = par['N'] \n",
    "    h     = par['h']\n",
    "    alpha = par['alpha']\n",
    "    cp    = par['cp']\n",
    "    rho   = par['rho']\n",
    "    u     = par['u'] \n",
    "\n",
    "    # YOUR CODE HERE\n",
    "    raise NotImplementedError()\n",
    "    \n",
    "    a = b + c\n",
    "    A = np.zeros((N,N))\n",
    "    A[0,0] = a \n",
    "    A[0,1] = -b\n",
    "    for i in range(1,N-1):\n",
    "        A[i,i] = a \n",
    "        A[i,i+1] = -b \n",
    "        A[i,i-1] = -c \n",
    "    A[N-1,N-2] = -c\n",
    "    A[N-1,N-1] = a\n",
    "    \n",
    "    return A"
   ]
  },
  {
   "cell_type": "code",
   "execution_count": null,
   "metadata": {
    "deletable": false,
    "nbgrader": {
     "cell_type": "code",
     "checksum": "1409d4d67a6ecafa8c6c7933ecfa42d6",
     "grade": false,
     "grade_id": "cell-bebb262006deee1b",
     "locked": false,
     "schema_version": 3,
     "solution": true,
     "task": false
    }
   },
   "outputs": [],
   "source": [
    "def RHS(par):\n",
    "    \"\"\"\n",
    "    Esta función calcula el lado derecho del sistema lineal.\n",
    "    \n",
    "    Paremeters\n",
    "    ----------\n",
    "    par: dict\n",
    "    Diccionario que contiene todos los datos del problema.\n",
    "    \n",
    "    Returns\n",
    "    ----------\n",
    "    f : el vector del lado derecho del sistema.\n",
    "    \"\"\"\n",
    "    N     = par['N'] \n",
    "    h     = par['h']\n",
    "    alpha = par['alpha']\n",
    "    cp    = par['cp']\n",
    "    rho   = par['rho']\n",
    "    u     = par['u'] \n",
    "    T0    = par['BC'][0]\n",
    "    TL    = par['BC'][1]\n",
    "    \n",
    "    f = np.zeros(N)       \n",
    "\n",
    "    # YOUR CODE HERE\n",
    "    raise NotImplementedError()\n",
    "    \n",
    "    f[0]   = c * T0  \n",
    "    f[N-1] = b * TL\n",
    "    \n",
    "    return f"
   ]
  },
  {
   "cell_type": "code",
   "execution_count": null,
   "metadata": {
    "deletable": false,
    "editable": false,
    "nbgrader": {
     "cell_type": "code",
     "checksum": "67a177978d8634d4bd49cec21df24556",
     "grade": false,
     "grade_id": "cell-618e2d9edfccd145",
     "locked": true,
     "schema_version": 3,
     "solution": false,
     "task": false
    }
   },
   "outputs": [],
   "source": [
    "def plotSol(par, x, T, E):\n",
    "    \"\"\"\n",
    "    Función de graficación de la solución analítica y la numérica\n",
    "    \"\"\"\n",
    "    titulo = 'u = {}, N = {}'.format(par['u'], par['N'])\n",
    "    error = '$||E||_2$ = {:10.8f}'.format(E)\n",
    "    plt.figure(figsize=(10,5))\n",
    "    plt.title(titulo + ', ' + error)\n",
    "    plt.scatter(x,T, zorder=5, s=100, fc='C1', ec='k', alpha=0.75, label='Numérica')\n",
    "    plt.plot(x,T, 'C1--', lw=1.0)\n",
    "    xa, Ta = analyticSol(par)\n",
    "    plt.plot(xa,Ta,'k-', label='Analítica')\n",
    "    plt.xlim(-0.1,1.1)\n",
    "    plt.ylim(-0.1,1.3)\n",
    "    plt.xlabel('x [m]')\n",
    "    plt.ylabel('T[$^o$C]')\n",
    "    plt.grid()\n",
    "    plt.legend(loc='lower left')\n",
    "    plt.show()"
   ]
  },
  {
   "cell_type": "code",
   "execution_count": null,
   "metadata": {
    "deletable": false,
    "nbgrader": {
     "cell_type": "code",
     "checksum": "ea64b18a08f3ae75ba0ab36dcbdd3be7",
     "grade": false,
     "grade_id": "cell-2732573726dcdfeb",
     "locked": false,
     "schema_version": 3,
     "solution": true,
     "task": false
    }
   },
   "outputs": [],
   "source": [
    "def analyticSol(par, NP = 100):\n",
    "    \"\"\"\n",
    "    Calcula la solución analítica\n",
    "    \n",
    "    Paremeters\n",
    "    ----------\n",
    "    par: dict\n",
    "    Diccionario que contiene todos los datos del problema.\n",
    "    \n",
    "    NP: int\n",
    "    Número de puntos para calcular la solución analítica. Si no se da\n",
    "    ningún valor usa 100 puntos para hacer el cálculo.\n",
    "    \n",
    "    Returns\n",
    "    ----------\n",
    "    xa, Ta : un arreglo (xa) con las coordenadas donde se calcula la \n",
    "       solución analítica y otro arreglo (Ta) con la solución analítica.\n",
    "    \"\"\"\n",
    "    L     = par['L']\n",
    "    rho   = par['rho']\n",
    "    u     = par['u']\n",
    "    alpha = par['alpha']\n",
    "    T0    = par['BC'][0]\n",
    "    TL    = par['BC'][1]\n",
    "\n",
    "    # YOUR CODE HERE\n",
    "    raise NotImplementedError()"
   ]
  },
  {
   "cell_type": "code",
   "execution_count": null,
   "metadata": {
    "deletable": false,
    "nbgrader": {
     "cell_type": "code",
     "checksum": "017b6a860189fb3e473d583e5b8915dd",
     "grade": false,
     "grade_id": "cell-27a52b9ff8ad4668",
     "locked": false,
     "schema_version": 3,
     "solution": true,
     "task": false
    }
   },
   "outputs": [],
   "source": [
    "def numSol(par):\n",
    "    \"\"\"\n",
    "    Función que calcula la matriz del sistema (A), el lado derecho (f)\n",
    "    y con esta información resuelve el sistema lineal para obtener la \n",
    "    solución.\n",
    "    \n",
    "    Paremeters\n",
    "    ----------\n",
    "    par: dict\n",
    "    Diccionario que contiene todos los datos del problema.\n",
    "    \n",
    "    Returns\n",
    "    ----------\n",
    "    T : un arreglo (T) con la solución analítica.\n",
    "    \"\"\"\n",
    "    \n",
    "    # YOUR CODE HERE\n",
    "    raise NotImplementedError()"
   ]
  },
  {
   "cell_type": "code",
   "execution_count": null,
   "metadata": {
    "deletable": false,
    "nbgrader": {
     "cell_type": "code",
     "checksum": "2398709d85ae9ea8ceef330b8dadb9d0",
     "grade": false,
     "grade_id": "cell-2242bc3f117b0f4f",
     "locked": false,
     "schema_version": 3,
     "solution": true,
     "task": false
    }
   },
   "outputs": [],
   "source": [
    "def error(Ta, Tn):\n",
    "    \"\"\"\n",
    "    Función que calcula el error de la solución numérica.\n",
    "    \n",
    "    Paremeters\n",
    "    ----------\n",
    "    Ta: array\n",
    "    Arreglo con la solución analítica.\n",
    "    \n",
    "    T: array\n",
    "    Arreglo con la solución numérica.\n",
    "    \n",
    "    Returns\n",
    "    ----------\n",
    "    E : float\n",
    "    Error de la solución numérica con respecto a la analítica.\n",
    "    \"\"\"\n",
    "    # YOUR CODE HERE\n",
    "    raise NotImplementedError()"
   ]
  },
  {
   "cell_type": "code",
   "execution_count": null,
   "metadata": {
    "deletable": false,
    "editable": false,
    "nbgrader": {
     "cell_type": "code",
     "checksum": "0ba2d2e90d565004a9fc1b40364cf8b8",
     "grade": false,
     "grade_id": "cell-e7080bd7ac9c1dd6",
     "locked": true,
     "schema_version": 3,
     "solution": false,
     "task": false
    }
   },
   "outputs": [],
   "source": [
    "def casos(u, N):\n",
    "    \"\"\"\n",
    "    Función para resolver cada caso que usa las funciones anteriores.\n",
    "\n",
    "    Paremeters\n",
    "    ----------\n",
    "    u: float\n",
    "    Velocidad.\n",
    "    \n",
    "    N: int\n",
    "    Número de incógnitas.\n",
    "    \"\"\"    \n",
    "    # Definición de un diccionario para almancenar los datos del problema\n",
    "    par = {}\n",
    "    par['L']     = 1.0 # m\n",
    "    par['cp']    = 1.0 # [J / Kg K]\n",
    "    par['rho']   = 1.0 # kg/m^3\n",
    "    par['u']     = u   # m/s\n",
    "    par['alpha'] = 0.1 # kg / m.s\n",
    "    par['BC']    = (1.0, 0.0) # Condiciones de frontera\n",
    "    par['N']     = N   # Número de incógnitas\n",
    "    h, x = mesh(par['L'], par['N'])\n",
    "    par['h'] = h\n",
    "\n",
    "    # Definición del arreglo donde se almacenará la solución numérica\n",
    "    N  = par['N']\n",
    "    T        = np.zeros(N+2)\n",
    "    T[0]     = par['BC'][0]  # Condición de frontera en x = 0\n",
    "    T[N+1]   = par['BC'][1]  # Condición de frontera en x = L\n",
    "\n",
    "    # Se ejecuta la función para obtener la solución\n",
    "    T[1:N+1] = numSol(par)\n",
    "\n",
    "    # Se calcula la función para calcular la solución analítica\n",
    "    _, Ta = analyticSol(par, N+2)\n",
    "\n",
    "    # Se calcula el error\n",
    "    Error = error(Ta, T)\n",
    "\n",
    "    # Se grafica la solución\n",
    "    plotSol(par, x, T, Error)"
   ]
  },
  {
   "cell_type": "markdown",
   "metadata": {
    "deletable": false,
    "editable": false,
    "nbgrader": {
     "cell_type": "markdown",
     "checksum": "6652acc9134cf244c7a51bdb0c7d34bb",
     "grade": false,
     "grade_id": "cell-ef8d925d622a9e9d",
     "locked": true,
     "schema_version": 3,
     "solution": false,
     "task": false
    }
   },
   "source": [
    "### Caso 1.A.\n",
    "- u = 0.1\n",
    "- N = 6"
   ]
  },
  {
   "cell_type": "code",
   "execution_count": null,
   "metadata": {
    "deletable": false,
    "nbgrader": {
     "cell_type": "code",
     "checksum": "75349257829909be5f11d9e57169792e",
     "grade": false,
     "grade_id": "cell-7e3c2018a4ca6048",
     "locked": false,
     "schema_version": 3,
     "solution": true,
     "task": false
    }
   },
   "outputs": [],
   "source": [
    "# YOUR CODE HERE\n",
    "raise NotImplementedError()"
   ]
  },
  {
   "cell_type": "markdown",
   "metadata": {
    "deletable": false,
    "editable": false,
    "nbgrader": {
     "cell_type": "markdown",
     "checksum": "71c05340304f21bf95f8e4d13430631d",
     "grade": false,
     "grade_id": "cell-0526f0b16fa661b4",
     "locked": true,
     "schema_version": 3,
     "solution": false,
     "task": false
    }
   },
   "source": [
    "### Caso 1.B.\n",
    "- u = 2.5\n",
    "- N = 6"
   ]
  },
  {
   "cell_type": "code",
   "execution_count": null,
   "metadata": {
    "deletable": false,
    "nbgrader": {
     "cell_type": "code",
     "checksum": "0ab04e58e96a0dee0072440437fe4411",
     "grade": false,
     "grade_id": "cell-ce58cf2b759c379d",
     "locked": false,
     "schema_version": 3,
     "solution": true,
     "task": false
    }
   },
   "outputs": [],
   "source": [
    "# YOUR CODE HERE\n",
    "raise NotImplementedError()"
   ]
  },
  {
   "cell_type": "markdown",
   "metadata": {
    "deletable": false,
    "editable": false,
    "nbgrader": {
     "cell_type": "markdown",
     "checksum": "064f290ee6e682d34fd51c134b3dc70c",
     "grade": false,
     "grade_id": "cell-08ebc471c541e176",
     "locked": true,
     "schema_version": 3,
     "solution": false,
     "task": false
    }
   },
   "source": [
    "### Caso 1.C.\n",
    "- u = 2.5\n",
    "- N = ?"
   ]
  },
  {
   "cell_type": "code",
   "execution_count": null,
   "metadata": {
    "deletable": false,
    "nbgrader": {
     "cell_type": "code",
     "checksum": "2c23fda8373e028bff92379ef5fd34c2",
     "grade": false,
     "grade_id": "cell-e4531f91b2003ea4",
     "locked": false,
     "schema_version": 3,
     "solution": true,
     "task": false
    }
   },
   "outputs": [],
   "source": [
    "# YOUR CODE HERE\n",
    "raise NotImplementedError()"
   ]
  },
  {
   "cell_type": "markdown",
   "metadata": {
    "deletable": false,
    "editable": false,
    "nbgrader": {
     "cell_type": "markdown",
     "checksum": "55c7ffb1ff262007452edb428d239ae9",
     "grade": false,
     "grade_id": "cell-1d1ecb69c9cca389",
     "locked": true,
     "schema_version": 3,
     "solution": false,
     "task": false
    }
   },
   "source": [
    "## Upwind\n",
    "2. Realice la implementación usando el esquema **Upwind para el término advectivo** y haga las siguientes pruebas:\n",
    "\n",
    "    1. $u = 0.1$ [m/s], con $6$ nodos.<br>    \n",
    "    2. $u = 2.5$ [m/s], con $6$ nodos.<br>\n",
    "    3. $u = 2.5$ [m/s], con $N = $ tal que el error sea menor a $0.1$.<br>\n",
    "    \n",
    "En todos los casos compare la solución numérica con la analítica calculando el error con la fórmula: $E = ||T_a - T_n||_\\infty$. Genere figuras similares a las siguientes:\n",
    "\n",
    "<table>\n",
    "    <tr>\n",
    "        <td><img src=\"caso1u.png\" width=\"300\"></td>\n",
    "        <td><img src=\"caso2u.png\" width=\"300\"></td>\n",
    "    </tr>\n",
    "</table>"
   ]
  },
  {
   "cell_type": "code",
   "execution_count": null,
   "metadata": {
    "deletable": false,
    "nbgrader": {
     "cell_type": "code",
     "checksum": "a6e073882c814eddb1b26b04a0b856f5",
     "grade": false,
     "grade_id": "cell-659dddf5e97be612",
     "locked": false,
     "schema_version": 3,
     "solution": true,
     "task": false
    }
   },
   "outputs": [],
   "source": [
    "def Laplaciano1D(par):\n",
    "    \"\"\"\n",
    "    Esta función calcula los coeficientes de la matriz de \n",
    "    diferencias finitas.\n",
    "    \n",
    "    Paremeters\n",
    "    ----------\n",
    "    par: dict\n",
    "    Diccionario que contiene todos los datos del problema.\n",
    "    \n",
    "    Returns\n",
    "    ----------\n",
    "    A : la matriz de la discretización.\n",
    "    \"\"\"\n",
    "    N     = par['N'] \n",
    "    h     = par['h']\n",
    "    alpha = par['alpha']\n",
    "    cp    = par['cp']\n",
    "    rho   = par['rho']\n",
    "    u     = par['u'] \n",
    "\n",
    "    # YOUR CODE HERE\n",
    "    raise NotImplementedError()\n",
    "    \n",
    "    a = b + c\n",
    "    A = np.zeros((N,N))\n",
    "    A[0,0] = a \n",
    "    A[0,1] = -b\n",
    "    for i in range(1,N-1):\n",
    "        A[i,i] = a \n",
    "        A[i,i+1] = -b \n",
    "        A[i,i-1] = -c \n",
    "    A[N-1,N-2] = -c\n",
    "    A[N-1,N-1] = a\n",
    "    \n",
    "    return A"
   ]
  },
  {
   "cell_type": "code",
   "execution_count": null,
   "metadata": {
    "deletable": false,
    "nbgrader": {
     "cell_type": "code",
     "checksum": "a198a3f105426abbff74b607d48323f9",
     "grade": false,
     "grade_id": "cell-529c5e2c302b48e4",
     "locked": false,
     "schema_version": 3,
     "solution": true,
     "task": false
    }
   },
   "outputs": [],
   "source": [
    "def RHS(par):\n",
    "    \"\"\"\n",
    "    Esta función calcula el lado derecho del sistema lineal.\n",
    "    \n",
    "    Paremeters\n",
    "    ----------\n",
    "    par: dict\n",
    "    Diccionario que contiene todos los datos del problema.\n",
    "    \n",
    "    Returns\n",
    "    ----------\n",
    "    f : el vector del lado derecho del sistema.\n",
    "    \"\"\"\n",
    "    N     = par['N'] \n",
    "    h     = par['h']\n",
    "    alpha = par['alpha']\n",
    "    cp    = par['cp']\n",
    "    rho   = par['rho']\n",
    "    u     = par['u'] \n",
    "    T0    = par['BC'][0]\n",
    "    TL    = par['BC'][1]\n",
    "    \n",
    "    f = np.zeros(N)       \n",
    "\n",
    "    # YOUR CODE HERE\n",
    "    raise NotImplementedError()\n",
    "    \n",
    "    f[0]   = c * T0  \n",
    "    f[N-1] = b * TL\n",
    "    \n",
    "    return f"
   ]
  },
  {
   "cell_type": "markdown",
   "metadata": {
    "deletable": false,
    "editable": false,
    "nbgrader": {
     "cell_type": "markdown",
     "checksum": "8d7b3dbabf4d7faf4824afafee4a31ce",
     "grade": false,
     "grade_id": "cell-10df772d696e2c75",
     "locked": true,
     "schema_version": 3,
     "solution": false,
     "task": false
    }
   },
   "source": [
    "### Caso 2.A.\n",
    "- u = 0.1\n",
    "- N = 6"
   ]
  },
  {
   "cell_type": "code",
   "execution_count": null,
   "metadata": {
    "deletable": false,
    "nbgrader": {
     "cell_type": "code",
     "checksum": "f33480ead5737665a036930a3dccd160",
     "grade": false,
     "grade_id": "cell-fe048daa94be630d",
     "locked": false,
     "schema_version": 3,
     "solution": true,
     "task": false
    }
   },
   "outputs": [],
   "source": [
    "# YOUR CODE HERE\n",
    "raise NotImplementedError()"
   ]
  },
  {
   "cell_type": "markdown",
   "metadata": {
    "deletable": false,
    "editable": false,
    "nbgrader": {
     "cell_type": "markdown",
     "checksum": "b1964cde69c2a35b721be843e8b3b715",
     "grade": false,
     "grade_id": "cell-89d914b0fdc5cee1",
     "locked": true,
     "schema_version": 3,
     "solution": false,
     "task": false
    }
   },
   "source": [
    "### Caso 2.B.\n",
    "- u = 2.5\n",
    "- N = 6"
   ]
  },
  {
   "cell_type": "code",
   "execution_count": null,
   "metadata": {
    "deletable": false,
    "nbgrader": {
     "cell_type": "code",
     "checksum": "0758d588845663f8053c8c3134365ff2",
     "grade": false,
     "grade_id": "cell-77e1a50e6c25c35d",
     "locked": false,
     "schema_version": 3,
     "solution": true,
     "task": false
    }
   },
   "outputs": [],
   "source": [
    "# YOUR CODE HERE\n",
    "raise NotImplementedError()"
   ]
  },
  {
   "cell_type": "markdown",
   "metadata": {
    "deletable": false,
    "editable": false,
    "nbgrader": {
     "cell_type": "markdown",
     "checksum": "5e63e67fe2ac28dc93edf8eaeae80062",
     "grade": false,
     "grade_id": "cell-4e40a07d2c22ce23",
     "locked": true,
     "schema_version": 3,
     "solution": false,
     "task": false
    }
   },
   "source": [
    "### Caso 2.C.\n",
    "- u = 2.5\n",
    "- N = ?"
   ]
  },
  {
   "cell_type": "code",
   "execution_count": null,
   "metadata": {
    "deletable": false,
    "nbgrader": {
     "cell_type": "code",
     "checksum": "09487b6e427e804746c56462ceaca9c6",
     "grade": false,
     "grade_id": "cell-a8b633a6a3cb7cc2",
     "locked": false,
     "schema_version": 3,
     "solution": true,
     "task": false
    }
   },
   "outputs": [],
   "source": [
    "# YOUR CODE HERE\n",
    "raise NotImplementedError()"
   ]
  },
  {
   "cell_type": "code",
   "execution_count": null,
   "metadata": {},
   "outputs": [],
   "source": []
  }
 ],
 "metadata": {
  "kernelspec": {
   "display_name": "Python 3",
   "language": "python",
   "name": "python3"
  },
  "language_info": {
   "codemirror_mode": {
    "name": "ipython",
    "version": 3
   },
   "file_extension": ".py",
   "mimetype": "text/x-python",
   "name": "python",
   "nbconvert_exporter": "python",
   "pygments_lexer": "ipython3",
   "version": "3.8.8"
  }
 },
 "nbformat": 4,
 "nbformat_minor": 4
}
