{
  "nbformat": 4,
  "nbformat_minor": 0,
  "metadata": {
    "colab": {
      "provenance": []
    },
    "kernelspec": {
      "name": "python3",
      "display_name": "Python 3"
    },
    "language_info": {
      "name": "python"
    },
    "widgets": {
      "application/vnd.jupyter.widget-state+json": {
        "b0068a61a26b4bdbb54c61ad97b9c3f7": {
          "model_module": "@jupyter-widgets/controls",
          "model_name": "FloatSliderModel",
          "model_module_version": "1.5.0",
          "state": {
            "_dom_classes": [],
            "_model_module": "@jupyter-widgets/controls",
            "_model_module_version": "1.5.0",
            "_model_name": "FloatSliderModel",
            "_view_count": null,
            "_view_module": "@jupyter-widgets/controls",
            "_view_module_version": "1.5.0",
            "_view_name": "FloatSliderView",
            "continuous_update": true,
            "description": "Angle",
            "description_tooltip": null,
            "disabled": false,
            "layout": "IPY_MODEL_967caab46ff64e25acbc38e614b1817c",
            "max": 6.283185307179586,
            "min": 0,
            "orientation": "horizontal",
            "readout": true,
            "readout_format": ".2f",
            "step": 0.1,
            "style": "IPY_MODEL_cc62d0ba1a804fe0835ff8e1b6effeb8",
            "value": 0
          }
        },
        "967caab46ff64e25acbc38e614b1817c": {
          "model_module": "@jupyter-widgets/base",
          "model_name": "LayoutModel",
          "model_module_version": "1.2.0",
          "state": {
            "_model_module": "@jupyter-widgets/base",
            "_model_module_version": "1.2.0",
            "_model_name": "LayoutModel",
            "_view_count": null,
            "_view_module": "@jupyter-widgets/base",
            "_view_module_version": "1.2.0",
            "_view_name": "LayoutView",
            "align_content": null,
            "align_items": null,
            "align_self": null,
            "border": null,
            "bottom": null,
            "display": null,
            "flex": null,
            "flex_flow": null,
            "grid_area": null,
            "grid_auto_columns": null,
            "grid_auto_flow": null,
            "grid_auto_rows": null,
            "grid_column": null,
            "grid_gap": null,
            "grid_row": null,
            "grid_template_areas": null,
            "grid_template_columns": null,
            "grid_template_rows": null,
            "height": null,
            "justify_content": null,
            "justify_items": null,
            "left": null,
            "margin": null,
            "max_height": null,
            "max_width": null,
            "min_height": null,
            "min_width": null,
            "object_fit": null,
            "object_position": null,
            "order": null,
            "overflow": null,
            "overflow_x": null,
            "overflow_y": null,
            "padding": null,
            "right": null,
            "top": null,
            "visibility": null,
            "width": null
          }
        },
        "cc62d0ba1a804fe0835ff8e1b6effeb8": {
          "model_module": "@jupyter-widgets/controls",
          "model_name": "SliderStyleModel",
          "model_module_version": "1.5.0",
          "state": {
            "_model_module": "@jupyter-widgets/controls",
            "_model_module_version": "1.5.0",
            "_model_name": "SliderStyleModel",
            "_view_count": null,
            "_view_module": "@jupyter-widgets/base",
            "_view_module_version": "1.2.0",
            "_view_name": "StyleView",
            "description_width": "",
            "handle_color": null
          }
        },
        "f3d97f1ebf3c4d148fe764a3629130b3": {
          "model_module": "@jupyter-widgets/controls",
          "model_name": "VBoxModel",
          "model_module_version": "1.5.0",
          "state": {
            "_dom_classes": [
              "widget-interact"
            ],
            "_model_module": "@jupyter-widgets/controls",
            "_model_module_version": "1.5.0",
            "_model_name": "VBoxModel",
            "_view_count": null,
            "_view_module": "@jupyter-widgets/controls",
            "_view_module_version": "1.5.0",
            "_view_name": "VBoxView",
            "box_style": "",
            "children": [
              "IPY_MODEL_e2e758ee08414342977bdfee8e7d7a90",
              "IPY_MODEL_4bb259fb30324d9d824ae728250d4126"
            ],
            "layout": "IPY_MODEL_488c54b56b6d4ac991c2c289a50d8a80"
          }
        },
        "e2e758ee08414342977bdfee8e7d7a90": {
          "model_module": "@jupyter-widgets/controls",
          "model_name": "IntTextModel",
          "model_module_version": "1.5.0",
          "state": {
            "_dom_classes": [],
            "_model_module": "@jupyter-widgets/controls",
            "_model_module_version": "1.5.0",
            "_model_name": "IntTextModel",
            "_view_count": null,
            "_view_module": "@jupyter-widgets/controls",
            "_view_module_version": "1.5.0",
            "_view_name": "IntTextView",
            "continuous_update": false,
            "description": "vectores",
            "description_tooltip": null,
            "disabled": false,
            "layout": "IPY_MODEL_49fda5a89411471cb61a843a9df7abd9",
            "step": 1,
            "style": "IPY_MODEL_28170ddd62ca4170ad8001d759139ed1",
            "value": 0
          }
        },
        "4bb259fb30324d9d824ae728250d4126": {
          "model_module": "@jupyter-widgets/output",
          "model_name": "OutputModel",
          "model_module_version": "1.0.0",
          "state": {
            "_dom_classes": [],
            "_model_module": "@jupyter-widgets/output",
            "_model_module_version": "1.0.0",
            "_model_name": "OutputModel",
            "_view_count": null,
            "_view_module": "@jupyter-widgets/output",
            "_view_module_version": "1.0.0",
            "_view_name": "OutputView",
            "layout": "IPY_MODEL_ab64bfc417ee4600b8fac6349efc69ad",
            "msg_id": "",
            "outputs": [
              {
                "output_type": "stream",
                "name": "stderr",
                "text": [
                  "/usr/local/lib/python3.9/dist-packages/matplotlib/quiver.py:630: RuntimeWarning: Mean of empty slice.\n",
                  "  amean = a.mean()\n",
                  "/usr/local/lib/python3.9/dist-packages/numpy/core/_methods.py:189: RuntimeWarning: invalid value encountered in double_scalars\n",
                  "  ret = ret.dtype.type(ret / rcount)\n"
                ]
              },
              {
                "output_type": "display_data",
                "data": {
                  "text/plain": "<Figure size 720x720 with 1 Axes>",
                  "image/png": "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\n"
                },
                "metadata": {
                  "needs_background": "light"
                }
              }
            ]
          }
        },
        "488c54b56b6d4ac991c2c289a50d8a80": {
          "model_module": "@jupyter-widgets/base",
          "model_name": "LayoutModel",
          "model_module_version": "1.2.0",
          "state": {
            "_model_module": "@jupyter-widgets/base",
            "_model_module_version": "1.2.0",
            "_model_name": "LayoutModel",
            "_view_count": null,
            "_view_module": "@jupyter-widgets/base",
            "_view_module_version": "1.2.0",
            "_view_name": "LayoutView",
            "align_content": null,
            "align_items": null,
            "align_self": null,
            "border": null,
            "bottom": null,
            "display": null,
            "flex": null,
            "flex_flow": null,
            "grid_area": null,
            "grid_auto_columns": null,
            "grid_auto_flow": null,
            "grid_auto_rows": null,
            "grid_column": null,
            "grid_gap": null,
            "grid_row": null,
            "grid_template_areas": null,
            "grid_template_columns": null,
            "grid_template_rows": null,
            "height": null,
            "justify_content": null,
            "justify_items": null,
            "left": null,
            "margin": null,
            "max_height": null,
            "max_width": null,
            "min_height": null,
            "min_width": null,
            "object_fit": null,
            "object_position": null,
            "order": null,
            "overflow": null,
            "overflow_x": null,
            "overflow_y": null,
            "padding": null,
            "right": null,
            "top": null,
            "visibility": null,
            "width": null
          }
        },
        "49fda5a89411471cb61a843a9df7abd9": {
          "model_module": "@jupyter-widgets/base",
          "model_name": "LayoutModel",
          "model_module_version": "1.2.0",
          "state": {
            "_model_module": "@jupyter-widgets/base",
            "_model_module_version": "1.2.0",
            "_model_name": "LayoutModel",
            "_view_count": null,
            "_view_module": "@jupyter-widgets/base",
            "_view_module_version": "1.2.0",
            "_view_name": "LayoutView",
            "align_content": null,
            "align_items": null,
            "align_self": null,
            "border": null,
            "bottom": null,
            "display": null,
            "flex": null,
            "flex_flow": null,
            "grid_area": null,
            "grid_auto_columns": null,
            "grid_auto_flow": null,
            "grid_auto_rows": null,
            "grid_column": null,
            "grid_gap": null,
            "grid_row": null,
            "grid_template_areas": null,
            "grid_template_columns": null,
            "grid_template_rows": null,
            "height": null,
            "justify_content": null,
            "justify_items": null,
            "left": null,
            "margin": null,
            "max_height": null,
            "max_width": null,
            "min_height": null,
            "min_width": null,
            "object_fit": null,
            "object_position": null,
            "order": null,
            "overflow": null,
            "overflow_x": null,
            "overflow_y": null,
            "padding": null,
            "right": null,
            "top": null,
            "visibility": null,
            "width": null
          }
        },
        "28170ddd62ca4170ad8001d759139ed1": {
          "model_module": "@jupyter-widgets/controls",
          "model_name": "DescriptionStyleModel",
          "model_module_version": "1.5.0",
          "state": {
            "_model_module": "@jupyter-widgets/controls",
            "_model_module_version": "1.5.0",
            "_model_name": "DescriptionStyleModel",
            "_view_count": null,
            "_view_module": "@jupyter-widgets/base",
            "_view_module_version": "1.2.0",
            "_view_name": "StyleView",
            "description_width": ""
          }
        },
        "ab64bfc417ee4600b8fac6349efc69ad": {
          "model_module": "@jupyter-widgets/base",
          "model_name": "LayoutModel",
          "model_module_version": "1.2.0",
          "state": {
            "_model_module": "@jupyter-widgets/base",
            "_model_module_version": "1.2.0",
            "_model_name": "LayoutModel",
            "_view_count": null,
            "_view_module": "@jupyter-widgets/base",
            "_view_module_version": "1.2.0",
            "_view_name": "LayoutView",
            "align_content": null,
            "align_items": null,
            "align_self": null,
            "border": null,
            "bottom": null,
            "display": null,
            "flex": null,
            "flex_flow": null,
            "grid_area": null,
            "grid_auto_columns": null,
            "grid_auto_flow": null,
            "grid_auto_rows": null,
            "grid_column": null,
            "grid_gap": null,
            "grid_row": null,
            "grid_template_areas": null,
            "grid_template_columns": null,
            "grid_template_rows": null,
            "height": null,
            "justify_content": null,
            "justify_items": null,
            "left": null,
            "margin": null,
            "max_height": null,
            "max_width": null,
            "min_height": null,
            "min_width": null,
            "object_fit": null,
            "object_position": null,
            "order": null,
            "overflow": null,
            "overflow_x": null,
            "overflow_y": null,
            "padding": null,
            "right": null,
            "top": null,
            "visibility": null,
            "width": null
          }
        },
        "01e83879284340b0bedde5ff06388b81": {
          "model_module": "@jupyter-widgets/controls",
          "model_name": "VBoxModel",
          "model_module_version": "1.5.0",
          "state": {
            "_dom_classes": [
              "widget-interact"
            ],
            "_model_module": "@jupyter-widgets/controls",
            "_model_module_version": "1.5.0",
            "_model_name": "VBoxModel",
            "_view_count": null,
            "_view_module": "@jupyter-widgets/controls",
            "_view_module_version": "1.5.0",
            "_view_name": "VBoxView",
            "box_style": "",
            "children": [
              "IPY_MODEL_e3e5357f84394b108bb90465a1a32a44",
              "IPY_MODEL_a20c2f9b577d44dda4715009974efec6"
            ],
            "layout": "IPY_MODEL_35502e63676142bb8d911a651264133c"
          }
        },
        "e3e5357f84394b108bb90465a1a32a44": {
          "model_module": "@jupyter-widgets/controls",
          "model_name": "FloatSliderModel",
          "model_module_version": "1.5.0",
          "state": {
            "_dom_classes": [],
            "_model_module": "@jupyter-widgets/controls",
            "_model_module_version": "1.5.0",
            "_model_name": "FloatSliderModel",
            "_view_count": null,
            "_view_module": "@jupyter-widgets/controls",
            "_view_module_version": "1.5.0",
            "_view_name": "FloatSliderView",
            "continuous_update": true,
            "description": "scale",
            "description_tooltip": null,
            "disabled": false,
            "layout": "IPY_MODEL_5520edc7a0b448ceb642111ac1b134f9",
            "max": 10,
            "min": 0,
            "orientation": "horizontal",
            "readout": true,
            "readout_format": ".2f",
            "step": 0.1,
            "style": "IPY_MODEL_ab1325340e114e6bac052d66b6929b2b",
            "value": 5
          }
        },
        "a20c2f9b577d44dda4715009974efec6": {
          "model_module": "@jupyter-widgets/output",
          "model_name": "OutputModel",
          "model_module_version": "1.0.0",
          "state": {
            "_dom_classes": [],
            "_model_module": "@jupyter-widgets/output",
            "_model_module_version": "1.0.0",
            "_model_name": "OutputModel",
            "_view_count": null,
            "_view_module": "@jupyter-widgets/output",
            "_view_module_version": "1.0.0",
            "_view_name": "OutputView",
            "layout": "IPY_MODEL_95d3b6e8367f427d857857c083d0e437",
            "msg_id": "",
            "outputs": [
              {
                "output_type": "display_data",
                "data": {
                  "text/plain": "<Figure size 432x288 with 1 Axes>",
                  "image/png": "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\n"
                },
                "metadata": {
                  "needs_background": "light"
                }
              }
            ]
          }
        },
        "35502e63676142bb8d911a651264133c": {
          "model_module": "@jupyter-widgets/base",
          "model_name": "LayoutModel",
          "model_module_version": "1.2.0",
          "state": {
            "_model_module": "@jupyter-widgets/base",
            "_model_module_version": "1.2.0",
            "_model_name": "LayoutModel",
            "_view_count": null,
            "_view_module": "@jupyter-widgets/base",
            "_view_module_version": "1.2.0",
            "_view_name": "LayoutView",
            "align_content": null,
            "align_items": null,
            "align_self": null,
            "border": null,
            "bottom": null,
            "display": null,
            "flex": null,
            "flex_flow": null,
            "grid_area": null,
            "grid_auto_columns": null,
            "grid_auto_flow": null,
            "grid_auto_rows": null,
            "grid_column": null,
            "grid_gap": null,
            "grid_row": null,
            "grid_template_areas": null,
            "grid_template_columns": null,
            "grid_template_rows": null,
            "height": null,
            "justify_content": null,
            "justify_items": null,
            "left": null,
            "margin": null,
            "max_height": null,
            "max_width": null,
            "min_height": null,
            "min_width": null,
            "object_fit": null,
            "object_position": null,
            "order": null,
            "overflow": null,
            "overflow_x": null,
            "overflow_y": null,
            "padding": null,
            "right": null,
            "top": null,
            "visibility": null,
            "width": null
          }
        },
        "5520edc7a0b448ceb642111ac1b134f9": {
          "model_module": "@jupyter-widgets/base",
          "model_name": "LayoutModel",
          "model_module_version": "1.2.0",
          "state": {
            "_model_module": "@jupyter-widgets/base",
            "_model_module_version": "1.2.0",
            "_model_name": "LayoutModel",
            "_view_count": null,
            "_view_module": "@jupyter-widgets/base",
            "_view_module_version": "1.2.0",
            "_view_name": "LayoutView",
            "align_content": null,
            "align_items": null,
            "align_self": null,
            "border": null,
            "bottom": null,
            "display": null,
            "flex": null,
            "flex_flow": null,
            "grid_area": null,
            "grid_auto_columns": null,
            "grid_auto_flow": null,
            "grid_auto_rows": null,
            "grid_column": null,
            "grid_gap": null,
            "grid_row": null,
            "grid_template_areas": null,
            "grid_template_columns": null,
            "grid_template_rows": null,
            "height": null,
            "justify_content": null,
            "justify_items": null,
            "left": null,
            "margin": null,
            "max_height": null,
            "max_width": null,
            "min_height": null,
            "min_width": null,
            "object_fit": null,
            "object_position": null,
            "order": null,
            "overflow": null,
            "overflow_x": null,
            "overflow_y": null,
            "padding": null,
            "right": null,
            "top": null,
            "visibility": null,
            "width": null
          }
        },
        "ab1325340e114e6bac052d66b6929b2b": {
          "model_module": "@jupyter-widgets/controls",
          "model_name": "SliderStyleModel",
          "model_module_version": "1.5.0",
          "state": {
            "_model_module": "@jupyter-widgets/controls",
            "_model_module_version": "1.5.0",
            "_model_name": "SliderStyleModel",
            "_view_count": null,
            "_view_module": "@jupyter-widgets/base",
            "_view_module_version": "1.2.0",
            "_view_name": "StyleView",
            "description_width": "",
            "handle_color": null
          }
        },
        "95d3b6e8367f427d857857c083d0e437": {
          "model_module": "@jupyter-widgets/base",
          "model_name": "LayoutModel",
          "model_module_version": "1.2.0",
          "state": {
            "_model_module": "@jupyter-widgets/base",
            "_model_module_version": "1.2.0",
            "_model_name": "LayoutModel",
            "_view_count": null,
            "_view_module": "@jupyter-widgets/base",
            "_view_module_version": "1.2.0",
            "_view_name": "LayoutView",
            "align_content": null,
            "align_items": null,
            "align_self": null,
            "border": null,
            "bottom": null,
            "display": null,
            "flex": null,
            "flex_flow": null,
            "grid_area": null,
            "grid_auto_columns": null,
            "grid_auto_flow": null,
            "grid_auto_rows": null,
            "grid_column": null,
            "grid_gap": null,
            "grid_row": null,
            "grid_template_areas": null,
            "grid_template_columns": null,
            "grid_template_rows": null,
            "height": null,
            "justify_content": null,
            "justify_items": null,
            "left": null,
            "margin": null,
            "max_height": null,
            "max_width": null,
            "min_height": null,
            "min_width": null,
            "object_fit": null,
            "object_position": null,
            "order": null,
            "overflow": null,
            "overflow_x": null,
            "overflow_y": null,
            "padding": null,
            "right": null,
            "top": null,
            "visibility": null,
            "width": null
          }
        }
      }
    }
  },
  "cells": [
    {
      "cell_type": "markdown",
      "source": [
        "<font color=blue>\n",
        "<font size = 14>\n",
        "Integrales de línea en un campo vectorial\n",
        "\n",
        "---"
      ],
      "metadata": {
        "id": "SttnwwQ_a7u9"
      }
    },
    {
      "cell_type": "markdown",
      "source": [
        "\n",
        "\n",
        "**Objetivo general**\n",
        "- Comprender la idea de la integral de linea actuando sobre un campo vectorial asi como tener una idea intuitiva de la manera de utilizar esta heramienta para problemas aplicados en fenomenos rales, usando simulaciones computacionales para obtener la idea central del tema.\n",
        "**Objetivos particulares**\n",
        "- Comprender el concepto de producto interno en el espacio $R^n$.\n",
        "- Juntar las ideas de producto interno y de integral para comprender lo que hace una integral de linea.\n",
        "- Conocer la utilidad de la integral de línea y resolver algunas aplicaiones de ella.\n",
        "\n",
        "## Contenido\n",
        "- [1 - Producto interno en $R^n$.](#1)\n",
        "    - [1.1 - Definicion de producto punto.](#1-1)\n",
        "        - [Ejercicio 1 - Cálculo de un producto punto.](#ej-1)\n",
        "    - [1.2 - La integral.](#1-2)\n",
        "        - [Ejercicio 2 - Título del ejercicio.](#ej-2)\n",
        "- [2 - Tema 2.](#2)\n",
        "    - [2.1 - Subtema C.](#2-1)\n",
        "    - [2-2 - Subtema D.](#2-2)\n",
        "        - [Ejercicio 3 - Título dell ejercicio.](#ej-3)"
      ],
      "metadata": {
        "id": "hYcPR8mkwLNS"
      }
    },
    {
      "cell_type": "markdown",
      "source": [
        "<a name='1'></a>\n",
        "## Producto interno en $R^n$\n",
        "\n"
      ],
      "metadata": {
        "id": "oVscIlEWwYJV"
      }
    },
    {
      "cell_type": "markdown",
      "source": [
        "<a name='1-1'></a>\n",
        "### Definición y producto punto\n",
        "\n",
        "Un producto interno o producto interior, sobre un espacio vectorial (para el caso de este notebook será $R^n$), es una operacion que asigna a cada par de vectores u y v un escalar tal que <u|v> y cumple con las siguinetes propiedades:\n",
        "\n",
        "* <v|v> $\\geq 0$\n",
        "* <v|v> = 0 si y solo si v =0\n",
        "* <u|v+w> = <u|v> + <u|w>\n",
        "* Sea $\\alpha \\in R$ entonces < $\\alpha$ v|w> = $\\alpha$<v|w>\n",
        "* <v|w>= $\\bar{<w|v>}$ (Esta última propiedad se usa con los números complejos, por lo que para fines de este notebook no se usará pero es importante saber de su existencia)\n",
        "\n",
        "En el caso de $ R^n$ el porducto interior es mejor conocido como producto punto y está definido como $\\vec{a} \\cdot \\vec{b} = ||\\vec{a}||||\\vec{b}||cosθ $ donde $||\\vec{a}||$ y $||\\vec{b}||$ son la magnitud del vector $\\vec{a}$ y $\\vec{b}$ respectivamente y $θ$ el ángulo entre ambos.\n",
        "\n",
        "\n",
        "\n",
        "Ten en cuenta que $\\textbf{el producto punto de dos vectores es un escalar, no un vector.}$ Eso significa, por ejemplo, que no tiene sentido preguntar a qué es igual $\\vec{a} \\cdot \\vec{b} \\cdot \\vec{c} $.\n",
        "\n",
        "Una vez que hayamos evaluado $\\vec{a} \\cdot \\vec{b}$\n",
        " y obtenido un número, terminaríamos por tratar de tomar el producto punto entre un número y un vector.\n",
        "\n",
        " Otra forma equivalente y más sencilla de calcular el producto punto es conociendo los coeficientes de sus componentes; de modo que el produto punto será la suma de las multiplicaciones de sus componentes.\n",
        "\n",
        "Supongamos que tenemos a los vectores \n",
        "\n",
        "$x = (x_1,x_2,...,x_n)$\n",
        "\n",
        "$y = (y_1,y_2,...,y_n) $\n",
        "\n",
        "\n",
        "Tenemos que el producto interior entonces será:\n",
        "\n",
        "$\\sum_{i=1}^n x_iy_i$\n",
        "\n",
        "Ahora para visualizar mejor el porducto punto veámos un ejemplo.\n",
        "\n",
        "## Ejemplo de producto punto en $R^n$\n",
        "Si tenemos los vectores \n",
        "$x = (3,2)$\n",
        "$y = (5,6)$\n",
        " Entonces el producto punto será $\\alpha = (3)(5)+(2)(6)= 20$\n",
        "\n",
        "## Una ballena que cae del cielo\n",
        "\n",
        "Supongamos que una ballena llamada Whilly, cae del cielo, y que cae a lo largo de una trayectoria curvada, porque las corrientes de aire la empujan de un lado para otro.\n",
        "\n"
      ],
      "metadata": {
        "id": "A9CdaKo_wemN"
      }
    },
    {
      "cell_type": "markdown",
      "source": [
        "<img src = 'Whilly.svg'>\n",
        "<figcaption> <center> Figura 1 Whilly y su trayectoria curva.  </center> </figcaption>"
      ],
      "metadata": {
        "id": "TEDtGHc4y-_a"
      }
    },
    {
      "cell_type": "markdown",
      "source": [
        "En este ejemplo, se asume que el alumno está familiarizado con las ideas de la física que la fuerza hace trabajo sobre un objeto en movimiento, además la fuerza está definida como \n",
        "$$\n",
        "\\begin{align}\n",
        "{\\vec{W} = \\vec{F} \\cdot \\vec{s}}\n",
        "\\end{align}\n",
        "$$\n",
        "\n",
        "es decir que el trabajo está definido como el producto punto entre el vector de fuerza y el vector de desplazamiento."
      ],
      "metadata": {
        "id": "hrJqMISv1RSI"
      }
    },
    {
      "cell_type": "markdown",
      "source": [
        "$\\textbf{Pregunta clave:}$ ¿cuál es el trabajo que la fuerza de gravedad realiza sobre Whilly conforme cae a lo largo de la trayectoria curvada C?\n",
        "\n",
        "\n",
        "Usualmente, calculamos el trabajo con respecto a un vector constante de fuerza y un vector constante de desplazamiento. ¿Qué podemos hacer con una trayectoria curvada? \n",
        "\n",
        "Podemos comenzar imaginándonos que la curva está compuesta de muchos vectores pequeños de desplazamiento:\n",
        "\n",
        "$\\vec{\\Delta s_1}, \\vec{Δs_2}, ...$\n",
        "\n",
        "El trabajo realizado por la gravedad a lo largo de cada uno de estos vectores de desplazamiento es el producto punto del vector de fuerza de gravedad, que denotaremos $\\vec{F_g} $, con el vector de desplazamiento mismo por lo que la contibción de los vectores se verá como:\n",
        "\n",
        "$∑_i^n\\vec{F_g} \\cdot \\vec{Δs_i}$\n",
        "\n",
        "\n"
      ],
      "metadata": {
        "id": "BYZVj6A54nHv"
      }
    },
    {
      "cell_type": "code",
      "source": [
        "import matplotlib.pyplot as plt #Se importa la paquetería que genera gráficas\n",
        "import numpy as np #Se importa la paquetería que tiene acceso a la parte matemática\n",
        "import ipywidgets as widgets #Se importa la paquetería para la generación de la parte interactiva con el usuario\n",
        "\n",
        "\n",
        "\n",
        "# Se generan las refinaciones del eje y\n",
        "y = np.linspace(0, 10, 100)\n",
        "# Se grafica una función en el eje vertical para simular una trayectoria de caída\n",
        "x = 4 + 2 * np.sin(2 * y)\n",
        "\n",
        "\n",
        "y1 = np.linspace(0, 10,10)\n",
        "x1 = 4 + 2 * np.sin(2 * y1)\n",
        "\n",
        "\n",
        "\n",
        "# Graficación\n",
        "fig, ax = plt.subplots()\n",
        "\n",
        "\n",
        "ax.plot(x, y+x, linewidth=2.0)\n",
        "ax.plot(x1, y1+x1, linewidth=2.0)\n",
        "\n",
        "ax.set(xlim=(0, 7), xticks=np.arange(1, 11),\n",
        "       ylim=(0, 10), yticks=np.arange(1, 11))\n",
        "\n",
        "plt.show()"
      ],
      "metadata": {
        "colab": {
          "base_uri": "https://localhost:8080/",
          "height": 169
        },
        "id": "cObRIhplCBsW",
        "outputId": "435417b1-35cc-4555-a917-4b3153b07249"
      },
      "execution_count": null,
      "outputs": [
        {
          "output_type": "display_data",
          "data": {
            "text/plain": [
              "<Figure size 432x288 with 1 Axes>"
            ],
            "image/png": "[encoded data removed]"
          },
          "metadata": {
            "needs_background": "light"
          }
        }
      ]
    },
    {
      "cell_type": "code",
      "source": [
        "y = np.linspace(0, 10, 100)\n",
        "x = 4 + 2 * np.sin(2 * y)\n",
        "\n",
        "\n",
        "y1 = np.linspace(0, 10, 10)\n",
        "x1 = 4 + 2 * np.sin(2 * y1)\n",
        "\n",
        "plt.plot(x, x+y, color = 'red')\n",
        "plt.plot(x1, x1+y1, color = 'blue')\n",
        "\n",
        "\n",
        "plt.show()\n",
        "print(type(y))\n",
        "#widgets.interact(plt, y1=widgets.FloatSlider(value=2, min=0.1, max=5, step=0.1, description='Vector:'))\n",
        "\n",
        "\n",
        "# Vector origin location\n",
        "X = [0]\n",
        "Y = [0]\n",
        "  \n",
        "# Directional vectors\n",
        "U = [2]  \n",
        "V = [1]  \n",
        "  \n",
        "# Creating plot\n",
        "plt.quiver(X, Y, U, V, color='b', units='xy', scale=1)\n",
        "plt.title('Single Vector')\n",
        "  \n",
        "# x-lim and y-lim\n",
        "plt.xlim(-2, 5)\n",
        "plt.ylim(-2, 2.5)\n",
        "  \n",
        "# Show plot with grid\n",
        "plt.grid()\n",
        "plt.show()"
      ],
      "metadata": {
        "colab": {
          "base_uri": "https://localhost:8080/",
          "height": 547
        },
        "id": "0NNWRcCOL8uC",
        "outputId": "85463d0c-0c25-4e07-f70e-1d37e0fe20c9"
      },
      "execution_count": null,
      "outputs": [
        {
          "output_type": "display_data",
          "data": {
            "text/plain": [
              "<Figure size 432x288 with 1 Axes>"
            ],
            "image/png": "[encoded data removed]"
          },
          "metadata": {
            "needs_background": "light"
          }
        },
        {
          "output_type": "stream",
          "name": "stdout",
          "text": [
            "<class 'numpy.ndarray'>\n"
          ]
        },
        {
          "output_type": "display_data",
          "data": {
            "text/plain": [
              "<Figure size 432x288 with 1 Axes>"
            ],
            "image/png": "[encoded data removed]"
          },
          "metadata": {
            "needs_background": "light"
          }
        }
      ]
    },
    {
      "cell_type": "code",
      "source": [
        "#Se define la funcion de la curva\n",
        "def f(y): # sample function\n",
        " return 4+2*np.sin(2*y)\n",
        "\n",
        "\n",
        "\n",
        "\n",
        "# Se evalua la funcion en el rango de -2 a 4 con 150 intervalos\n",
        "x = np.linspace(-10,30,150)\n",
        "#Se le pasa a la funcion los valores definidos en x.\n",
        "y = f(x)\n",
        "\n",
        "\n",
        "for i in range(-10, 30):\n",
        "  a = i\n",
        "  h = 0.1\n",
        "  fprime = (f(a+h)-f(a))/h # derivative\n",
        "  #Se calcula la tangente\n",
        "  tan = f(a)+fprime*(x-a)  # tangent\n",
        "\n",
        "  # Se grafica la funcion y la tangente.\n",
        "  plt.plot(y,x,'b')\n",
        "  #revisar limites\n",
        "  #for j in range(0,5):\n",
        "  plt.plot(a,f(a),'om')#,x+a,tan)#,'--r')\n",
        "  plt.plot(x+a, tan)\n",
        "    #Se muestra la grafica.\n",
        "plt.show()"
      ],
      "metadata": {
        "colab": {
          "base_uri": "https://localhost:8080/",
          "height": 265
        },
        "id": "SmaYLQ0Mswnv",
        "outputId": "6630bfb3-bb9c-44a9-d8a5-e0df2c1dade2"
      },
      "execution_count": 25,
      "outputs": [
        {
          "output_type": "display_data",
          "data": {
            "text/plain": [
              "<Figure size 432x288 with 1 Axes>"
            ],
            "image/png": "[encoded data removed]"
          },
          "metadata": {
            "needs_background": "light"
          }
        }
      ]
    },
    {
      "cell_type": "markdown",
      "source": [
        "Pero lo que realmente nos interesa es el valor límite de esta suma conforme el tamaño de esos pasos es más y más pequeño. Para ello haremos uso de la integral ya que toma en cuenta las contibuciones de las trayectorias infinitesimales y se verá de la forma:\n",
        "\n",
        "$∫_C \\vec{F}\\cdot \\vec{ds}$\n",
        "Similar a una integral de línea en un campo escalar pero ahora consideramos el pequeño paso $\\vec{ds} $ como un vector, no como una longitud.\n",
        "\n",
        "\n",
        "$\\textbf{Nota}$: la cantidad que sumamos conforme caminamos a lo largo de C no es todo el valor de $\\vec{F_g}$ en cada punto, sino la componente de $\\vec{F_g}$ que apunta en la misma dirección que el vector $\\vec{ds}$. Es decir, la componente de la fuerza en la dirección de la curva."
      ],
      "metadata": {
        "id": "fUWNDCcRCCE6"
      }
    },
    {
      "cell_type": "markdown",
      "source": [
        "<font size = 14>\n",
        "Ejemplo 1\n",
        "\n",
        "Supón que la trayectoria de caída de Whilly está descrita por la curva parametrizada\n",
        "\\begin{equation}\n",
        "S=\\begin{bmatrix}\n",
        "100 (t-sin(t))\\\\\n",
        "100 (-t-sin(t))\n",
        "\\end{bmatrix}\n",
        "\\end{equation}\n",
        "\n",
        "Podemos expresar el vector d$\\vec{s}$que representa un pequeño paso en dirección de la curva, con la derivada de esta función multiplicada por dt:\n",
        "\n",
        "$d\\vec{s}= \\frac{d\\vec{s}}{dt} dt = \\vec{s}'dt$\n",
        "\n",
        "La forma de visualizar esto es pensar que un pequeño incremento de tamaño dt sobre el parámetro t resulta en un pequeño incremento $\\vec{s}'(t)$ a lo largo de la curva $\\vec{s}(t)$."
      ],
      "metadata": {
        "id": "8R5kYTt-yJPJ"
      }
    },
    {
      "cell_type": "markdown",
      "source": [
        "Calculamos la derivada \n",
        "\n",
        "\\begin{equation}\n",
        "\\frac{d\\vec{s}}{dt}=\\begin{bmatrix}\n",
        "100 (t-sin(t))\\\\\n",
        "100 (-t-sin(t))\n",
        "\\end{bmatrix}\n",
        "=\\begin{bmatrix}\n",
        "100 (1-cos(t))\\\\\n",
        "100 (-1-cos(t))\n",
        "\\end{bmatrix}\n",
        "\\end{equation}\n",
        "\n",
        "\n",
        "La fuerza de gravedad está dada por la aceleración, $9.81 \\dfrac{\\text{m}}{\\text{s}^2}$, multiplicada por la masa de Whilly. La masa típica de una ballena azul, resulta ser de alrededor de 170,000 kg, por lo que usaremos ese número.\n",
        "Ya que la fuerza se dirige solamente hacia abajo, la gravedad como vector de fuerza se ve así:\n",
        "\n",
        "\\begin{equation}\n",
        "\\vec{F}=\\begin{bmatrix}\n",
        "0\\\\\n",
        "-(170,000)(9.81)\n",
        "\\end{bmatrix}\n",
        "\\end{equation}\n",
        "\n",
        "\n",
        "\n",
        "Digamos que queremos encontrar el trabajo que realiza la gravedad entre los tiempos t = 0 y t = 10. ¿Qué obtienes cuando sustituyes esta información en la integral de línea $\\int_C \\vec{F}_g \\cdot d\\vec{s}$ y la evalúas? \n",
        "\n",
        "$W = \\int_C\\vec{F}_g \\cdot d\\vec{s}=\\int_{0}^{10} \\vec{F}_g \\cdot \\vec{s}'(t)dt \n",
        "\\\\\n",
        "= \\int_0^{10} \\begin{equation}\n",
        "\\begin{bmatrix}\n",
        "0\\\\\n",
        "-(170,000)(9.81)\n",
        "\\end{bmatrix}\n",
        " \\cdot \\begin{bmatrix}\n",
        "100 (1-cos(t))\\\\\n",
        "100 (-1-cos(t))\n",
        "\\end{bmatrix}\n",
        "\\end{equation} dt\n",
        "\\\\\\\\\n",
        "=\\int_0^{10} −(170,000)(9.81)100(−1−cos(t))dt\n",
        "\\\\\\\\\n",
        "=166,770,000\\int_0^{10}(1+cos(t))dt\n",
        "\\\\\\\\\n",
        "=166,770,000[t+sen(t)]_0^{10}\\\\\n",
        "=166,770,000[10+sen(10)]-[0+sen(0)] \\approx 1.69\\text{x}10^9$"
      ],
      "metadata": {
        "id": "XCctpvRl6ZGr"
      }
    },
    {
      "cell_type": "markdown",
      "source": [
        "# Visualizar integrales de línea en campos vectoriales más generales\n",
        "\n",
        "En el ejemplo anterior, el campo vectorial gravitacional es constante. En todos lados, la gravedad apunta directo hacia abajo con la misma magnitud. Para la mayoría de las integrales de línea en un campo vectorial, los vectores del campo varían en diferentes puntos del espacio, por lo que el valor de su producto punto con $d\\vec{s}$ cambia."
      ],
      "metadata": {
        "id": "FVatz92R5LWz"
      }
    },
    {
      "cell_type": "code",
      "source": [
        "print(\"AQUI VA UN WIDGET\")"
      ],
      "metadata": {
        "id": "9FJSfG-06X0R",
        "colab": {
          "base_uri": "https://localhost:8080/"
        },
        "outputId": "3ad993e4-51cf-4595-b191-8f2969da94af"
      },
      "execution_count": null,
      "outputs": [
        {
          "output_type": "stream",
          "name": "stdout",
          "text": [
            "AQUI VA UN WIDGET\n"
          ]
        }
      ]
    },
    {
      "cell_type": "markdown",
      "source": [
        "Analicemos qué está sucediendo.La integral de línea en sí misma la escribimos como:\n",
        "\n",
        "$\\int_C \\vec{F(r})\\cdot d\\vec{r} = \\int_a^b \\vec{F(r}(t))⋅\\vec{r'}(t) dt$\n",
        "\n",
        "Donde:\n",
        "$\\vec{F}$ es uncampo vectorial, que asocia cada punto en el espacio con un vector. Lo puedes pensar como un campo de fuerzas.\n",
        "\n",
        "C es una curva a través del espacio.\n",
        "\n",
        "$\\vec{r}(t)$ es una función vectorial que parametriza la curva C, donde $a \\leq t \\leq b$.\n",
        "\n",
        "$\\vec{r'}(t)$ es la derivada de $\\vec{r}$ que representa el vector velocidad de una partícula cuya posición esta dada por $\\vec{r}(t)$ mientras t se incrementa a razón constante. Cuando multiplicas este vector por un pequeño paso en el tiempo, dt, obtienes el vector de desplazamiento, que se puede  pensar como un pequeño paso a lo largo de la curva. Técnicamente, es un pequeño paso en la dirección tangente a la curva."
      ],
      "metadata": {
        "id": "jQ-t-_2h6efe"
      }
    },
    {
      "cell_type": "markdown",
      "source": [
        "$\\textbf{¿Qué representa el producto punto $\\vec{F(r(t))}\\cdot\\vec{r}'(t)dt$?}$\n",
        " \n",
        "$\\ \\ $a) La razón con la cual la fuerza cambia respecto a t .\n",
        " \n",
        "$\\ \\ $b) La componente de $\\vec{F(r)}$ que paunta en la misma dirección que el peuqueño paso a lo largo de la curva en el punto $\\vec{r}(t)$, nultiplicada por el tamaño de ese paso."
      ],
      "metadata": {
        "id": "OVTWbwUVoPTU"
      }
    },
    {
      "cell_type": "code",
      "source": [
        "x =input(\"Elige la respuesta\")\n",
        "print(x)\n",
        "\n",
        "while x != \"b\":\n",
        "  print(\"Intentalo de nuevo\")\n",
        "  del(x)\n",
        "  x =input(\"Elige la respuesta\")\n",
        "  print(x)\n",
        "else:\n",
        "  print(\"¡Correcto!\")"
      ],
      "metadata": {
        "colab": {
          "base_uri": "https://localhost:8080/"
        },
        "id": "FJI-RceVmbFP",
        "outputId": "ad288a58-fe51-448b-ed2f-34d7443fc6f9"
      },
      "execution_count": null,
      "outputs": [
        {
          "output_type": "stream",
          "name": "stdout",
          "text": [
            "Elige la respuestab\n",
            "b\n",
            "¡Correcto!\n"
          ]
        }
      ]
    },
    {
      "cell_type": "markdown",
      "source": [
        "En términos de física, puedes pensar este producto punto como un d$\\vec{W}$, es decir, la pequeña cantidad de trabajo hecho por el campo de fuerza $\\vec{F}$ sobre una partícula que se mueve a lo largo de $\\textit{C}$"
      ],
      "metadata": {
        "id": "7RbSymq7svBp"
      }
    },
    {
      "cell_type": "markdown",
      "source": [
        "<font size = 14>\n",
        "Ejemplo 2\n",
        "\n",
        "Considera el campo vectorial descrito por la función\n",
        "\n",
        "\\begin{equation}\n",
        "\\vec{F}(x,y)=\\begin{bmatrix}\n",
        "-y\\\\\n",
        "x\n",
        "\\end{bmatrix}\n",
        "\\end{equation}"
      ],
      "metadata": {
        "id": "ex6IcmSgtWuJ"
      }
    },
    {
      "cell_type": "code",
      "source": [
        "def cvec(vectores):\n",
        "  x = np.linspace(-5,5,vectores)\n",
        "  y = np.linspace(-5,5,vectores)\n",
        "  z = np.linspace(0, 2*np.pi)\n",
        "  m = np.cos(z)\n",
        "  n = np.sin(z)\n",
        "\n",
        "  plt.figure(figsize=(10,10))\n",
        "\n",
        "  xmesh, ymesh = np.meshgrid(x,y)\n",
        "\n",
        "  umesh = -ymesh\n",
        "  vmesh = xmesh\n",
        "\n",
        "  plt.quiver(xmesh, ymesh, umesh, vmesh)\n",
        "  plt.plot(m+2,n)\n",
        "\n",
        "  plt.axis('equal')\n",
        "\n",
        "\n",
        "  plt.grid(True)\n",
        "  plt.show()\n",
        "\n",
        "\n",
        "widgets.interact(cvec, vectores=widgets.IntText(value=0))"
      ],
      "metadata": {
        "colab": {
          "base_uri": "https://localhost:8080/",
          "height": 505,
          "referenced_widgets": [
            "f3d97f1ebf3c4d148fe764a3629130b3",
            "e2e758ee08414342977bdfee8e7d7a90",
            "4bb259fb30324d9d824ae728250d4126",
            "488c54b56b6d4ac991c2c289a50d8a80",
            "49fda5a89411471cb61a843a9df7abd9",
            "28170ddd62ca4170ad8001d759139ed1",
            "ab64bfc417ee4600b8fac6349efc69ad"
          ]
        },
        "id": "-qOADidZ2Qqg",
        "outputId": "eafa7403-1f23-4b72-ee43-65585de9b8e4"
      },
      "execution_count": null,
      "outputs": [
        {
          "output_type": "display_data",
          "data": {
            "text/plain": [
              "interactive(children=(IntText(value=0, description='vectores'), Output()), _dom_classes=('widget-interact',))"
            ],
            "application/vnd.jupyter.widget-view+json": {
              "version_major": 2,
              "version_minor": 0,
              "model_id": "f3d97f1ebf3c4d148fe764a3629130b3"
            }
          },
          "metadata": {}
        },
        {
          "output_type": "execute_result",
          "data": {
            "text/plain": [
              "<function __main__.cvec(vectores)>"
            ]
          },
          "metadata": {},
          "execution_count": 5
        }
      ]
    },
    {
      "cell_type": "markdown",
      "source": [
        "Pensado como una fuerza, este campo vectorial empuja objetos alrededor del origen en sentido contraria a las manecillas del reloj. Por ejemplo, tal vez represente la fuerza debida al aire dentro de un tornado. Esto es poco realista porque implicaría que la fuerza aumenta continuamente conforme te alejas del centro del tornado, pero podemos eufemísticamente decir que es \"un modelo simplificado\" y continuar en nuestro alegre camino.\n",
        "\n",
        "\n",
        "Supón que queremos calcular una integral de línea a través de este campo vectorial a lo largo de un círculo de radio 1 y centro en (2, 0)."
      ],
      "metadata": {
        "id": "SRqEWWGD3sOH"
      }
    },
    {
      "cell_type": "markdown",
      "source": [
        "En este caso, la orientación importa. El trabajo realizado por el campo de fuerzas del tornado, conforme caminamos en el sentido contrario a las manecillas del reloj, puede ser distinto del trabajo realizado conforme caminamos en el sentido de las manecillas del reloj (más adelante estudiaremos explícitamente esta cuestión).\n",
        "\n",
        "Si escogemos considerar una caminata sobre este círculo en el sentido contrario a las manecillas del reloj, podemos parametrizar la curva con la función\n",
        "\n",
        "\\begin{equation}\n",
        "\\vec{r}(t)=\\begin{bmatrix}\n",
        "cos(t)+2\\\\\n",
        "sen(t)\n",
        "\\end{bmatrix}\n",
        "\\end{equation}\n",
        "\n",
        "Donde t va de $0$ a $2\\pi$"
      ],
      "metadata": {
        "id": "fZnK6llw67I3"
      }
    },
    {
      "cell_type": "markdown",
      "source": [
        "De nuevo, para construir la integral de línea que representa el trabajo, debemos considerar el campo vectorial en cada punto, $\\vec{F}$(x,y) y calcular su producto punto con un pequeño paso a lo largo de la curva d$\\vec{r}$:\n",
        "\n",
        "$\\int_C \\vec{F(r})\\cdot d\\vec{r} $"
      ],
      "metadata": {
        "id": "PRSXkfLhio-g"
      }
    },
    {
      "cell_type": "markdown",
      "source": [
        "**¿cuál de las siguientes integrales representa lo mismo que $\\int_C \\vec{F}\\cdot \\vec{dr}$?**\n",
        "\n",
        "**a)** $\\int_0^{2\\pi}\\vec{F(r(t))}\\cdot \\vec{r'(t)}dt$\n",
        "\n",
        "**b)** $\\int_a^{b}\\vec{F(r(t))}\\cdot \\vec{r'(t)}dt$"
      ],
      "metadata": {
        "id": "wcgPG6eQyx2m"
      }
    },
    {
      "cell_type": "markdown",
      "source": [
        "**Con base en las definiciones anteriores, ¿qué es $\\vec{F(r(t))}$?**\n",
        "\n",
        "**a)** \\begin{equation}\n",
        "\\vec{r}(t)=\\begin{bmatrix}\n",
        "cos(t)+2\\\\\n",
        "sen(t)\n",
        "\\end{bmatrix}\n",
        "\\end{equation}\n",
        "\n",
        "**b)** \\begin{equation}\n",
        "\\vec{r}(t)=\\begin{bmatrix}\n",
        "-sen(t)\\\\\n",
        "cos(t)+2\n",
        "\\end{bmatrix}\n",
        "\\end{equation}\n",
        "\n",
        "**Explicación:** F(x,y) se define como \\begin{equation}\n",
        "\\vec{F(x,y)}=\\begin{bmatrix}\n",
        "-y\\\\\n",
        "x\n",
        "\\end{bmatrix}\n",
        "\\end{equation} y $\\vec{r(t)}$ se define como\n",
        " \\begin{equation}\n",
        "\\vec{F(x,y)}=\\begin{bmatrix}\n",
        "cos(t)+2\\\\\n",
        "sen(t)\n",
        "\\end{bmatrix}\n",
        "\\end{equation}\n",
        "Entonces como $\\vec{r(t)}$ es un vector de 2 dimensiones, sustituyendo en $\\vec{F(x,y)}$ como $\\vec{F(r((t))}$\n",
        "\n",
        "\n",
        "\\begin{equation}\n",
        "\\vec{F}(cos(t)+2, sen(t))=\\begin{bmatrix}\n",
        "-sen(t)\\\\\n",
        "cos(t)+2\n",
        "\\end{bmatrix}\n",
        "\\end{equation}"
      ],
      "metadata": {
        "id": "Yfm4NTHyz6va"
      }
    },
    {
      "cell_type": "markdown",
      "source": [
        "**¿Qué es $\\vec{r'(t)}$?**\n",
        "\n",
        "**a)** \\begin{equation}\n",
        "\\vec{r'(t)}=\\begin{bmatrix}\n",
        "-sen(t)\\\\\n",
        "cos(t)\n",
        "\\end{bmatrix}\n",
        "\\end{equation}\n",
        "\n",
        "**b)**\\begin{equation}\n",
        "\\vec{r'(t)}=\\begin{bmatrix}\n",
        "cos(t)\\\\\n",
        "-sen(t)\n",
        "\\end{bmatrix}\n",
        "\\end{equation}\n",
        "\n",
        "**Explicación:** se deriva componente por componente quedando así \n",
        "\n",
        "\\begin{equation}\n",
        "\\vec{r'(t)}=\\begin{bmatrix}\n",
        "\\frac{d[cos(t)+2]}{dt}\\\\\n",
        "\\frac{d[sen(t)]}{dt}\n",
        "\\end{bmatrix}=\\begin{bmatrix}\n",
        "-sen(t)\\\\\n",
        "cos(t)\n",
        "\\end{bmatrix}\n",
        "\\end{equation}"
      ],
      "metadata": {
        "id": "-zda1CWb3sju"
      }
    },
    {
      "cell_type": "markdown",
      "source": [
        "**Con las tres respuestas anteriores, resuelve la integral de línea**\n",
        "\n",
        "\n",
        "**Explicación:**$\\int_C\\vec{F}\\cdot d\\vec{r}=\\int_0^{2\\pi}\\vec{F(r(t))}\\cdot \\vec{r'(t)}dt$\n",
        "\\begin{equation}\n",
        "=\\int_0^{2\\pi}\\begin{bmatrix}\n",
        "-sen(t)\\\\\n",
        "cos(t)+2\n",
        "\\end{bmatrix}\\cdot\\begin{bmatrix}\n",
        "-sen(t)\\\\\n",
        "cos(t)\n",
        "\\end{bmatrix}\n",
        "\\end{equation}\n",
        "$=\\int_0^{2\\pi}(sen^2(t)+cos^2(t)+2cos(t))dt$ Usando que $cos^2(t)+sen^2(t)=1$ entonces\n",
        "$\\int_0^{2\\pi}(1+2cos(t))dt = [t+2sen(t)]_0^{2\\pi}=(2\\pi+2sen(2\\pi))-(0+2sen(0))=2\\pi$\n",
        "\n",
        "La respuesta final es la cantidad de trabajo que el campo de fuerzas del tornado realiza sobre una partícula que se mueve sobre el círculo descrito en sentido contrario a las manecillas del reloj."
      ],
      "metadata": {
        "id": "6hnUlHV26DX6"
      }
    },
    {
      "cell_type": "markdown",
      "source": [
        "###**¿Estás de acuerdo con la intuición que la respuesta sea positiva?**\n",
        "\n",
        "Ya que el círculo está orientado en dirección contraria a las manecillas del reloj, caminas hacia arriba en el primero y cuarto cuadrantes, y hacia abajo en el segundo y tercer cuadrantes.\n",
        "Los vectores que tocan la mitad derecha del círculo son relativamente largos, y apuntan más o menos en la misma dirección en la que caminas; por lo tanto, contribuyen con un montón de trabajo positivo.\n",
        "Los vectores que tocan la mitad izquierda del círculo todavía apuntan hacia arriba, que es ahora la dirección opuesta a la que caminas, y por lo tanto hacen trabajo negativo. Sin embargo, estos vectores son relativamente cortos, por lo que no cancelan el trabajo positivo realizado en la parte derecha."
      ],
      "metadata": {
        "id": "eexQfrVE81kQ"
      }
    },
    {
      "cell_type": "code",
      "source": [
        "#Se define la funcion de la curva\n",
        "def f(x): # sample function\n",
        " return 4+2*np.sin(2*x)\n",
        "\n",
        "\n",
        "\n",
        "\n",
        "# Se evalua la funcion en el rango de -2 a 4 con 150 intervalos\n",
        "x = np.linspace(-10,10,150)\n",
        "#Se le pasa a la funcion los valores definidos en x.\n",
        "y = f(x)\n",
        "\n",
        "#Se le pasa el punto a calcular la tangente de la curva.\n",
        "a = 1.6\n",
        "#Se le pasa el diferencial con un valor de 0.1\n",
        "h = 0.1\n",
        "#Se calcula la derivada.\n",
        "fprime = (f(a+h)-f(a))/h # derivative\n",
        "#Se calcula la tangente\n",
        "tan = f(a)+fprime*(x-a)  # tangent\n",
        "\n",
        "# Se grafica la funcion y la tangente.\n",
        "plt.plot(y,x,'b')\n",
        "plt.plot(a,f(a),'om',x,tan,'--r')\n",
        "#Se muestra la grafica.\n",
        "plt.show()"
      ],
      "metadata": {
        "colab": {
          "base_uri": "https://localhost:8080/",
          "height": 265
        },
        "id": "KpgbJw3TK9P1",
        "outputId": "40f628cc-60b8-439a-cd21-f497ba5d06a2"
      },
      "execution_count": 24,
      "outputs": [
        {
          "output_type": "display_data",
          "data": {
            "text/plain": [
              "<Figure size 432x288 with 1 Axes>"
            ],
            "image/png": "[encoded data removed]"
          },
          "metadata": {
            "needs_background": "light"
          }
        }
      ]
    },
    {
      "cell_type": "code",
      "source": [
        "import numpy as np\n",
        "import matplotlib.pyplot as plt\n",
        "import ipywidgets as widgets\n",
        "from IPython.display import display\n",
        "\n",
        "# Creamos una función que dibuja una curva y un vector en el punto especificado\n",
        "def plot_vector(x0, y0):\n",
        "    x = np.linspace(0, 2*np.pi, 100)\n",
        "    y = np.sin(x)\n",
        "    dx = np.cos(x0)\n",
        "    dy = np.sin(x0)\n",
        "    plt.plot(x, y)\n",
        "    plt.quiver(x0, y0, dx, dy, scale=5)\n",
        "    plt.show()\n",
        "\n",
        "# Creamos un widget deslizador para el ángulo del vector\n",
        "angle_slider = widgets.FloatSlider(value=0, min=0, max=2*np.pi, step=0.1, description='Angle')\n",
        "\n",
        "# Creamos una función de controlador de eventos que llama a la función de trazado de vectores con los valores del widget\n",
        "def on_value_change(change):\n",
        "    angle = change['new']\n",
        "    x0 = angle\n",
        "    y0 = np.sin(x0)\n",
        "    plot_vector(x0, y0)\n",
        "\n",
        "# Conectamos la función de controlador de eventos con el widget deslizador\n",
        "angle_slider.observe(on_value_change, names='value')\n",
        "\n",
        "# Mostramos el widget deslizador\n",
        "display(angle_slider)"
      ],
      "metadata": {
        "id": "m4ZUFDlWpFV1",
        "outputId": "e2413ced-a34e-4d23-ab9a-9b82eec8f1e3",
        "colab": {
          "base_uri": "https://localhost:8080/",
          "height": 49,
          "referenced_widgets": [
            "b0068a61a26b4bdbb54c61ad97b9c3f7",
            "967caab46ff64e25acbc38e614b1817c",
            "cc62d0ba1a804fe0835ff8e1b6effeb8"
          ]
        }
      },
      "execution_count": null,
      "outputs": [
        {
          "output_type": "display_data",
          "data": {
            "text/plain": [
              "FloatSlider(value=0.0, description='Angle', max=6.283185307179586)"
            ],
            "application/vnd.jupyter.widget-view+json": {
              "version_major": 2,
              "version_minor": 0,
              "model_id": "b0068a61a26b4bdbb54c61ad97b9c3f7"
            }
          },
          "metadata": {}
        }
      ]
    },
    {
      "cell_type": "code",
      "source": [
        "import numpy as np\n",
        "import matplotlib.pyplot as plt\n",
        "from ipywidgets import interact\n",
        "\n",
        "# Definir la curva\n",
        "t = np.linspace(0, 10, 100)\n",
        "y = np.cos(t)+2\n",
        "x = np.sin(t)\n",
        "#x= 4 + 2 * np.sin(2 * t)\n",
        "\n",
        "# Función para calcular los vectores tangentes\n",
        "def tangent_vectors(scale):\n",
        "    dxdt = -np.sin(scale * t)\n",
        "    dydt = np.cos(scale * t)\n",
        "    dxdt_norm = dxdt / np.sqrt(dxdt**2 + dydt**2)\n",
        "    dydt_norm = dydt / np.sqrt(dxdt**2 + dydt**2)\n",
        "    plt.quiver(x, y, dxdt_norm, dydt_norm, color='r')\n",
        "    plt.plot(x, y)\n",
        "\n",
        "# Widget para interactuar con la escala de los vectores tangentes\n",
        "interact(tangent_vectors, scale=(0, 10, 0.1))"
      ],
      "metadata": {
        "colab": {
          "base_uri": "https://localhost:8080/",
          "height": 315,
          "referenced_widgets": [
            "01e83879284340b0bedde5ff06388b81",
            "e3e5357f84394b108bb90465a1a32a44",
            "a20c2f9b577d44dda4715009974efec6",
            "35502e63676142bb8d911a651264133c",
            "5520edc7a0b448ceb642111ac1b134f9",
            "ab1325340e114e6bac052d66b6929b2b",
            "95d3b6e8367f427d857857c083d0e437"
          ]
        },
        "id": "xvaPjWtqgmlY",
        "outputId": "98afd49d-dd75-4e42-f173-74163000474a"
      },
      "execution_count": 3,
      "outputs": [
        {
          "output_type": "display_data",
          "data": {
            "text/plain": [
              "interactive(children=(FloatSlider(value=5.0, description='scale', max=10.0), Output()), _dom_classes=('widget-…"
            ],
            "application/vnd.jupyter.widget-view+json": {
              "version_major": 2,
              "version_minor": 0,
              "model_id": "01e83879284340b0bedde5ff06388b81"
            }
          },
          "metadata": {}
        },
        {
          "output_type": "execute_result",
          "data": {
            "text/plain": [
              "<function __main__.tangent_vectors(scale)>"
            ]
          },
          "metadata": {},
          "execution_count": 3
        }
      ]
    },
    {
      "cell_type": "code",
      "source": [],
      "metadata": {
        "id": "5Y7xHb_sgn6C"
      },
      "execution_count": null,
      "outputs": []
    }
  ]
}