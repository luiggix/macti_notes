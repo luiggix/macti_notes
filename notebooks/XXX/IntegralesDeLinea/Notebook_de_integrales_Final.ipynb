{
  "nbformat": 4,
  "nbformat_minor": 0,
  "metadata": {
    "colab": {
      "provenance": []
    },
    "kernelspec": {
      "name": "python3",
      "display_name": "Python 3"
    },
    "language_info": {
      "name": "python"
    },
    "widgets": {
      "application/vnd.jupyter.widget-state+json": {
        "65cd997170a742718025712db293e61c": {
          "model_module": "@jupyter-widgets/controls",
          "model_name": "VBoxModel",
          "model_module_version": "1.5.0",
          "state": {
            "_dom_classes": [
              "widget-interact"
            ],
            "_model_module": "@jupyter-widgets/controls",
            "_model_module_version": "1.5.0",
            "_model_name": "VBoxModel",
            "_view_count": null,
            "_view_module": "@jupyter-widgets/controls",
            "_view_module_version": "1.5.0",
            "_view_name": "VBoxView",
            "box_style": "",
            "children": [
              "IPY_MODEL_93e1089d3ceb4211ba8bc4934948146d",
              "IPY_MODEL_00e3f85ad0d04090aa513d06b5f3ba4a"
            ],
            "layout": "IPY_MODEL_2e8d49f117d040b5abb4919d6c7053e9"
          }
        },
        "93e1089d3ceb4211ba8bc4934948146d": {
          "model_module": "@jupyter-widgets/controls",
          "model_name": "IntSliderModel",
          "model_module_version": "1.5.0",
          "state": {
            "_dom_classes": [],
            "_model_module": "@jupyter-widgets/controls",
            "_model_module_version": "1.5.0",
            "_model_name": "IntSliderModel",
            "_view_count": null,
            "_view_module": "@jupyter-widgets/controls",
            "_view_module_version": "1.5.0",
            "_view_name": "IntSliderView",
            "continuous_update": true,
            "description": "num_vectores",
            "description_tooltip": null,
            "disabled": false,
            "layout": "IPY_MODEL_7a5af84c4ab64a3c8efeb7b821b31194",
            "max": 25,
            "min": 1,
            "orientation": "horizontal",
            "readout": true,
            "readout_format": "d",
            "step": 1,
            "style": "IPY_MODEL_f60d7b77f8fc4fa3a56833656424469b",
            "value": 25
          }
        },
        "00e3f85ad0d04090aa513d06b5f3ba4a": {
          "model_module": "@jupyter-widgets/output",
          "model_name": "OutputModel",
          "model_module_version": "1.0.0",
          "state": {
            "_dom_classes": [],
            "_model_module": "@jupyter-widgets/output",
            "_model_module_version": "1.0.0",
            "_model_name": "OutputModel",
            "_view_count": null,
            "_view_module": "@jupyter-widgets/output",
            "_view_module_version": "1.0.0",
            "_view_name": "OutputView",
            "layout": "IPY_MODEL_8de25b016c7145f6b55be5f7ff00be93",
            "msg_id": "",
            "outputs": [
              {
                "output_type": "display_data",
                "data": {
                  "text/plain": "<Figure size 600x600 with 1 Axes>",
                  "image/png": "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\n"
                },
                "metadata": {}
              }
            ]
          }
        },
        "2e8d49f117d040b5abb4919d6c7053e9": {
          "model_module": "@jupyter-widgets/base",
          "model_name": "LayoutModel",
          "model_module_version": "1.2.0",
          "state": {
            "_model_module": "@jupyter-widgets/base",
            "_model_module_version": "1.2.0",
            "_model_name": "LayoutModel",
            "_view_count": null,
            "_view_module": "@jupyter-widgets/base",
            "_view_module_version": "1.2.0",
            "_view_name": "LayoutView",
            "align_content": null,
            "align_items": null,
            "align_self": null,
            "border": null,
            "bottom": null,
            "display": null,
            "flex": null,
            "flex_flow": null,
            "grid_area": null,
            "grid_auto_columns": null,
            "grid_auto_flow": null,
            "grid_auto_rows": null,
            "grid_column": null,
            "grid_gap": null,
            "grid_row": null,
            "grid_template_areas": null,
            "grid_template_columns": null,
            "grid_template_rows": null,
            "height": null,
            "justify_content": null,
            "justify_items": null,
            "left": null,
            "margin": null,
            "max_height": null,
            "max_width": null,
            "min_height": null,
            "min_width": null,
            "object_fit": null,
            "object_position": null,
            "order": null,
            "overflow": null,
            "overflow_x": null,
            "overflow_y": null,
            "padding": null,
            "right": null,
            "top": null,
            "visibility": null,
            "width": null
          }
        },
        "7a5af84c4ab64a3c8efeb7b821b31194": {
          "model_module": "@jupyter-widgets/base",
          "model_name": "LayoutModel",
          "model_module_version": "1.2.0",
          "state": {
            "_model_module": "@jupyter-widgets/base",
            "_model_module_version": "1.2.0",
            "_model_name": "LayoutModel",
            "_view_count": null,
            "_view_module": "@jupyter-widgets/base",
            "_view_module_version": "1.2.0",
            "_view_name": "LayoutView",
            "align_content": null,
            "align_items": null,
            "align_self": null,
            "border": null,
            "bottom": null,
            "display": null,
            "flex": null,
            "flex_flow": null,
            "grid_area": null,
            "grid_auto_columns": null,
            "grid_auto_flow": null,
            "grid_auto_rows": null,
            "grid_column": null,
            "grid_gap": null,
            "grid_row": null,
            "grid_template_areas": null,
            "grid_template_columns": null,
            "grid_template_rows": null,
            "height": null,
            "justify_content": null,
            "justify_items": null,
            "left": null,
            "margin": null,
            "max_height": null,
            "max_width": null,
            "min_height": null,
            "min_width": null,
            "object_fit": null,
            "object_position": null,
            "order": null,
            "overflow": null,
            "overflow_x": null,
            "overflow_y": null,
            "padding": null,
            "right": null,
            "top": null,
            "visibility": null,
            "width": null
          }
        },
        "f60d7b77f8fc4fa3a56833656424469b": {
          "model_module": "@jupyter-widgets/controls",
          "model_name": "SliderStyleModel",
          "model_module_version": "1.5.0",
          "state": {
            "_model_module": "@jupyter-widgets/controls",
            "_model_module_version": "1.5.0",
            "_model_name": "SliderStyleModel",
            "_view_count": null,
            "_view_module": "@jupyter-widgets/base",
            "_view_module_version": "1.2.0",
            "_view_name": "StyleView",
            "description_width": "",
            "handle_color": null
          }
        },
        "8de25b016c7145f6b55be5f7ff00be93": {
          "model_module": "@jupyter-widgets/base",
          "model_name": "LayoutModel",
          "model_module_version": "1.2.0",
          "state": {
            "_model_module": "@jupyter-widgets/base",
            "_model_module_version": "1.2.0",
            "_model_name": "LayoutModel",
            "_view_count": null,
            "_view_module": "@jupyter-widgets/base",
            "_view_module_version": "1.2.0",
            "_view_name": "LayoutView",
            "align_content": null,
            "align_items": null,
            "align_self": null,
            "border": null,
            "bottom": null,
            "display": null,
            "flex": null,
            "flex_flow": null,
            "grid_area": null,
            "grid_auto_columns": null,
            "grid_auto_flow": null,
            "grid_auto_rows": null,
            "grid_column": null,
            "grid_gap": null,
            "grid_row": null,
            "grid_template_areas": null,
            "grid_template_columns": null,
            "grid_template_rows": null,
            "height": null,
            "justify_content": null,
            "justify_items": null,
            "left": null,
            "margin": null,
            "max_height": null,
            "max_width": null,
            "min_height": null,
            "min_width": null,
            "object_fit": null,
            "object_position": null,
            "order": null,
            "overflow": null,
            "overflow_x": null,
            "overflow_y": null,
            "padding": null,
            "right": null,
            "top": null,
            "visibility": null,
            "width": null
          }
        },
        "8cf61c5043f14e4e9f1e0961b9d0ec75": {
          "model_module": "@jupyter-widgets/controls",
          "model_name": "VBoxModel",
          "model_module_version": "1.5.0",
          "state": {
            "_dom_classes": [
              "widget-interact"
            ],
            "_model_module": "@jupyter-widgets/controls",
            "_model_module_version": "1.5.0",
            "_model_name": "VBoxModel",
            "_view_count": null,
            "_view_module": "@jupyter-widgets/controls",
            "_view_module_version": "1.5.0",
            "_view_name": "VBoxView",
            "box_style": "",
            "children": [
              "IPY_MODEL_fcca100ff04345deba189f0435d9651d",
              "IPY_MODEL_decddfcc2890473ebab1d13355139f2a"
            ],
            "layout": "IPY_MODEL_0af55c2519c54ba6a59500227d33b64c"
          }
        },
        "fcca100ff04345deba189f0435d9651d": {
          "model_module": "@jupyter-widgets/controls",
          "model_name": "IntTextModel",
          "model_module_version": "1.5.0",
          "state": {
            "_dom_classes": [],
            "_model_module": "@jupyter-widgets/controls",
            "_model_module_version": "1.5.0",
            "_model_name": "IntTextModel",
            "_view_count": null,
            "_view_module": "@jupyter-widgets/controls",
            "_view_module_version": "1.5.0",
            "_view_name": "IntTextView",
            "continuous_update": false,
            "description": "vectores",
            "description_tooltip": null,
            "disabled": false,
            "layout": "IPY_MODEL_65208524726c4ce3acdda57c1cdfa66f",
            "step": 1,
            "style": "IPY_MODEL_7eb4ddb06f664a0099356e656554394c",
            "value": 1
          }
        },
        "decddfcc2890473ebab1d13355139f2a": {
          "model_module": "@jupyter-widgets/output",
          "model_name": "OutputModel",
          "model_module_version": "1.0.0",
          "state": {
            "_dom_classes": [],
            "_model_module": "@jupyter-widgets/output",
            "_model_module_version": "1.0.0",
            "_model_name": "OutputModel",
            "_view_count": null,
            "_view_module": "@jupyter-widgets/output",
            "_view_module_version": "1.0.0",
            "_view_name": "OutputView",
            "layout": "IPY_MODEL_a1dce50361884922bad59563f8c346c2",
            "msg_id": "",
            "outputs": [
              {
                "output_type": "display_data",
                "data": {
                  "text/plain": "<Figure size 1000x1000 with 1 Axes>",
                  "image/png": "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\n"
                },
                "metadata": {}
              }
            ]
          }
        },
        "0af55c2519c54ba6a59500227d33b64c": {
          "model_module": "@jupyter-widgets/base",
          "model_name": "LayoutModel",
          "model_module_version": "1.2.0",
          "state": {
            "_model_module": "@jupyter-widgets/base",
            "_model_module_version": "1.2.0",
            "_model_name": "LayoutModel",
            "_view_count": null,
            "_view_module": "@jupyter-widgets/base",
            "_view_module_version": "1.2.0",
            "_view_name": "LayoutView",
            "align_content": null,
            "align_items": null,
            "align_self": null,
            "border": null,
            "bottom": null,
            "display": null,
            "flex": null,
            "flex_flow": null,
            "grid_area": null,
            "grid_auto_columns": null,
            "grid_auto_flow": null,
            "grid_auto_rows": null,
            "grid_column": null,
            "grid_gap": null,
            "grid_row": null,
            "grid_template_areas": null,
            "grid_template_columns": null,
            "grid_template_rows": null,
            "height": null,
            "justify_content": null,
            "justify_items": null,
            "left": null,
            "margin": null,
            "max_height": null,
            "max_width": null,
            "min_height": null,
            "min_width": null,
            "object_fit": null,
            "object_position": null,
            "order": null,
            "overflow": null,
            "overflow_x": null,
            "overflow_y": null,
            "padding": null,
            "right": null,
            "top": null,
            "visibility": null,
            "width": null
          }
        },
        "65208524726c4ce3acdda57c1cdfa66f": {
          "model_module": "@jupyter-widgets/base",
          "model_name": "LayoutModel",
          "model_module_version": "1.2.0",
          "state": {
            "_model_module": "@jupyter-widgets/base",
            "_model_module_version": "1.2.0",
            "_model_name": "LayoutModel",
            "_view_count": null,
            "_view_module": "@jupyter-widgets/base",
            "_view_module_version": "1.2.0",
            "_view_name": "LayoutView",
            "align_content": null,
            "align_items": null,
            "align_self": null,
            "border": null,
            "bottom": null,
            "display": null,
            "flex": null,
            "flex_flow": null,
            "grid_area": null,
            "grid_auto_columns": null,
            "grid_auto_flow": null,
            "grid_auto_rows": null,
            "grid_column": null,
            "grid_gap": null,
            "grid_row": null,
            "grid_template_areas": null,
            "grid_template_columns": null,
            "grid_template_rows": null,
            "height": null,
            "justify_content": null,
            "justify_items": null,
            "left": null,
            "margin": null,
            "max_height": null,
            "max_width": null,
            "min_height": null,
            "min_width": null,
            "object_fit": null,
            "object_position": null,
            "order": null,
            "overflow": null,
            "overflow_x": null,
            "overflow_y": null,
            "padding": null,
            "right": null,
            "top": null,
            "visibility": null,
            "width": null
          }
        },
        "7eb4ddb06f664a0099356e656554394c": {
          "model_module": "@jupyter-widgets/controls",
          "model_name": "DescriptionStyleModel",
          "model_module_version": "1.5.0",
          "state": {
            "_model_module": "@jupyter-widgets/controls",
            "_model_module_version": "1.5.0",
            "_model_name": "DescriptionStyleModel",
            "_view_count": null,
            "_view_module": "@jupyter-widgets/base",
            "_view_module_version": "1.2.0",
            "_view_name": "StyleView",
            "description_width": ""
          }
        },
        "a1dce50361884922bad59563f8c346c2": {
          "model_module": "@jupyter-widgets/base",
          "model_name": "LayoutModel",
          "model_module_version": "1.2.0",
          "state": {
            "_model_module": "@jupyter-widgets/base",
            "_model_module_version": "1.2.0",
            "_model_name": "LayoutModel",
            "_view_count": null,
            "_view_module": "@jupyter-widgets/base",
            "_view_module_version": "1.2.0",
            "_view_name": "LayoutView",
            "align_content": null,
            "align_items": null,
            "align_self": null,
            "border": null,
            "bottom": null,
            "display": null,
            "flex": null,
            "flex_flow": null,
            "grid_area": null,
            "grid_auto_columns": null,
            "grid_auto_flow": null,
            "grid_auto_rows": null,
            "grid_column": null,
            "grid_gap": null,
            "grid_row": null,
            "grid_template_areas": null,
            "grid_template_columns": null,
            "grid_template_rows": null,
            "height": null,
            "justify_content": null,
            "justify_items": null,
            "left": null,
            "margin": null,
            "max_height": null,
            "max_width": null,
            "min_height": null,
            "min_width": null,
            "object_fit": null,
            "object_position": null,
            "order": null,
            "overflow": null,
            "overflow_x": null,
            "overflow_y": null,
            "padding": null,
            "right": null,
            "top": null,
            "visibility": null,
            "width": null
          }
        },
        "a9ca7c35d90e4e46969d4270b457475e": {
          "model_module": "@jupyter-widgets/controls",
          "model_name": "VBoxModel",
          "model_module_version": "1.5.0",
          "state": {
            "_dom_classes": [
              "widget-interact"
            ],
            "_model_module": "@jupyter-widgets/controls",
            "_model_module_version": "1.5.0",
            "_model_name": "VBoxModel",
            "_view_count": null,
            "_view_module": "@jupyter-widgets/controls",
            "_view_module_version": "1.5.0",
            "_view_name": "VBoxView",
            "box_style": "",
            "children": [
              "IPY_MODEL_dc396ce2bb6b436880991cb7bbcabecb",
              "IPY_MODEL_0b85a287a0a4425da1a1634b54034ea4"
            ],
            "layout": "IPY_MODEL_88014c88f1a84853b05eb5a1a28c66a6"
          }
        },
        "dc396ce2bb6b436880991cb7bbcabecb": {
          "model_module": "@jupyter-widgets/controls",
          "model_name": "IntSliderModel",
          "model_module_version": "1.5.0",
          "state": {
            "_dom_classes": [],
            "_model_module": "@jupyter-widgets/controls",
            "_model_module_version": "1.5.0",
            "_model_name": "IntSliderModel",
            "_view_count": null,
            "_view_module": "@jupyter-widgets/controls",
            "_view_module_version": "1.5.0",
            "_view_name": "IntSliderView",
            "continuous_update": true,
            "description": "num_vectores",
            "description_tooltip": null,
            "disabled": false,
            "layout": "IPY_MODEL_6ba43ce614cf4d6899ab94091914a77a",
            "max": 100,
            "min": 1,
            "orientation": "horizontal",
            "readout": true,
            "readout_format": "d",
            "step": 1,
            "style": "IPY_MODEL_519b2193cd7c4842a63ec305b5c16b33",
            "value": 10
          }
        },
        "0b85a287a0a4425da1a1634b54034ea4": {
          "model_module": "@jupyter-widgets/output",
          "model_name": "OutputModel",
          "model_module_version": "1.0.0",
          "state": {
            "_dom_classes": [],
            "_model_module": "@jupyter-widgets/output",
            "_model_module_version": "1.0.0",
            "_model_name": "OutputModel",
            "_view_count": null,
            "_view_module": "@jupyter-widgets/output",
            "_view_module_version": "1.0.0",
            "_view_name": "OutputView",
            "layout": "IPY_MODEL_5c093849bc274cfe80ef4a0a92f04af6",
            "msg_id": "",
            "outputs": [
              {
                "output_type": "display_data",
                "data": {
                  "text/plain": "<Figure size 600x600 with 1 Axes>",
                  "image/png": "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\n"
                },
                "metadata": {}
              }
            ]
          }
        },
        "88014c88f1a84853b05eb5a1a28c66a6": {
          "model_module": "@jupyter-widgets/base",
          "model_name": "LayoutModel",
          "model_module_version": "1.2.0",
          "state": {
            "_model_module": "@jupyter-widgets/base",
            "_model_module_version": "1.2.0",
            "_model_name": "LayoutModel",
            "_view_count": null,
            "_view_module": "@jupyter-widgets/base",
            "_view_module_version": "1.2.0",
            "_view_name": "LayoutView",
            "align_content": null,
            "align_items": null,
            "align_self": null,
            "border": null,
            "bottom": null,
            "display": null,
            "flex": null,
            "flex_flow": null,
            "grid_area": null,
            "grid_auto_columns": null,
            "grid_auto_flow": null,
            "grid_auto_rows": null,
            "grid_column": null,
            "grid_gap": null,
            "grid_row": null,
            "grid_template_areas": null,
            "grid_template_columns": null,
            "grid_template_rows": null,
            "height": null,
            "justify_content": null,
            "justify_items": null,
            "left": null,
            "margin": null,
            "max_height": null,
            "max_width": null,
            "min_height": null,
            "min_width": null,
            "object_fit": null,
            "object_position": null,
            "order": null,
            "overflow": null,
            "overflow_x": null,
            "overflow_y": null,
            "padding": null,
            "right": null,
            "top": null,
            "visibility": null,
            "width": null
          }
        },
        "6ba43ce614cf4d6899ab94091914a77a": {
          "model_module": "@jupyter-widgets/base",
          "model_name": "LayoutModel",
          "model_module_version": "1.2.0",
          "state": {
            "_model_module": "@jupyter-widgets/base",
            "_model_module_version": "1.2.0",
            "_model_name": "LayoutModel",
            "_view_count": null,
            "_view_module": "@jupyter-widgets/base",
            "_view_module_version": "1.2.0",
            "_view_name": "LayoutView",
            "align_content": null,
            "align_items": null,
            "align_self": null,
            "border": null,
            "bottom": null,
            "display": null,
            "flex": null,
            "flex_flow": null,
            "grid_area": null,
            "grid_auto_columns": null,
            "grid_auto_flow": null,
            "grid_auto_rows": null,
            "grid_column": null,
            "grid_gap": null,
            "grid_row": null,
            "grid_template_areas": null,
            "grid_template_columns": null,
            "grid_template_rows": null,
            "height": null,
            "justify_content": null,
            "justify_items": null,
            "left": null,
            "margin": null,
            "max_height": null,
            "max_width": null,
            "min_height": null,
            "min_width": null,
            "object_fit": null,
            "object_position": null,
            "order": null,
            "overflow": null,
            "overflow_x": null,
            "overflow_y": null,
            "padding": null,
            "right": null,
            "top": null,
            "visibility": null,
            "width": null
          }
        },
        "519b2193cd7c4842a63ec305b5c16b33": {
          "model_module": "@jupyter-widgets/controls",
          "model_name": "SliderStyleModel",
          "model_module_version": "1.5.0",
          "state": {
            "_model_module": "@jupyter-widgets/controls",
            "_model_module_version": "1.5.0",
            "_model_name": "SliderStyleModel",
            "_view_count": null,
            "_view_module": "@jupyter-widgets/base",
            "_view_module_version": "1.2.0",
            "_view_name": "StyleView",
            "description_width": "",
            "handle_color": null
          }
        },
        "5c093849bc274cfe80ef4a0a92f04af6": {
          "model_module": "@jupyter-widgets/base",
          "model_name": "LayoutModel",
          "model_module_version": "1.2.0",
          "state": {
            "_model_module": "@jupyter-widgets/base",
            "_model_module_version": "1.2.0",
            "_model_name": "LayoutModel",
            "_view_count": null,
            "_view_module": "@jupyter-widgets/base",
            "_view_module_version": "1.2.0",
            "_view_name": "LayoutView",
            "align_content": null,
            "align_items": null,
            "align_self": null,
            "border": null,
            "bottom": null,
            "display": null,
            "flex": null,
            "flex_flow": null,
            "grid_area": null,
            "grid_auto_columns": null,
            "grid_auto_flow": null,
            "grid_auto_rows": null,
            "grid_column": null,
            "grid_gap": null,
            "grid_row": null,
            "grid_template_areas": null,
            "grid_template_columns": null,
            "grid_template_rows": null,
            "height": null,
            "justify_content": null,
            "justify_items": null,
            "left": null,
            "margin": null,
            "max_height": null,
            "max_width": null,
            "min_height": null,
            "min_width": null,
            "object_fit": null,
            "object_position": null,
            "order": null,
            "overflow": null,
            "overflow_x": null,
            "overflow_y": null,
            "padding": null,
            "right": null,
            "top": null,
            "visibility": null,
            "width": null
          }
        },
        "06969241232e4f1c8601981501c293c7": {
          "model_module": "@jupyter-widgets/controls",
          "model_name": "VBoxModel",
          "model_module_version": "1.5.0",
          "state": {
            "_dom_classes": [
              "widget-interact"
            ],
            "_model_module": "@jupyter-widgets/controls",
            "_model_module_version": "1.5.0",
            "_model_name": "VBoxModel",
            "_view_count": null,
            "_view_module": "@jupyter-widgets/controls",
            "_view_module_version": "1.5.0",
            "_view_name": "VBoxView",
            "box_style": "",
            "children": [
              "IPY_MODEL_12b9c5b31588442daee74aacafc3ccc9",
              "IPY_MODEL_4320e232e9ea4288a918dd271cad4119"
            ],
            "layout": "IPY_MODEL_c3324e1f28704a25b2e85d9ec824f2c8"
          }
        },
        "12b9c5b31588442daee74aacafc3ccc9": {
          "model_module": "@jupyter-widgets/controls",
          "model_name": "FloatSliderModel",
          "model_module_version": "1.5.0",
          "state": {
            "_dom_classes": [],
            "_model_module": "@jupyter-widgets/controls",
            "_model_module_version": "1.5.0",
            "_model_name": "FloatSliderModel",
            "_view_count": null,
            "_view_module": "@jupyter-widgets/controls",
            "_view_module_version": "1.5.0",
            "_view_name": "FloatSliderView",
            "continuous_update": true,
            "description": "t",
            "description_tooltip": null,
            "disabled": false,
            "layout": "IPY_MODEL_ca97e4e9be174224b7453c043ce57d97",
            "max": 6.283185307179586,
            "min": 0,
            "orientation": "horizontal",
            "readout": true,
            "readout_format": ".2f",
            "step": 0.1,
            "style": "IPY_MODEL_ca87eb7c16024aabac7c5f583fa7ce49",
            "value": 2.2
          }
        },
        "4320e232e9ea4288a918dd271cad4119": {
          "model_module": "@jupyter-widgets/output",
          "model_name": "OutputModel",
          "model_module_version": "1.0.0",
          "state": {
            "_dom_classes": [],
            "_model_module": "@jupyter-widgets/output",
            "_model_module_version": "1.0.0",
            "_model_name": "OutputModel",
            "_view_count": null,
            "_view_module": "@jupyter-widgets/output",
            "_view_module_version": "1.0.0",
            "_view_name": "OutputView",
            "layout": "IPY_MODEL_f19312731b50494382128c2730256edd",
            "msg_id": "",
            "outputs": [
              {
                "output_type": "display_data",
                "data": {
                  "text/plain": "<Figure size 640x480 with 1 Axes>",
                  "image/png": "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\n"
                },
                "metadata": {}
              }
            ]
          }
        },
        "c3324e1f28704a25b2e85d9ec824f2c8": {
          "model_module": "@jupyter-widgets/base",
          "model_name": "LayoutModel",
          "model_module_version": "1.2.0",
          "state": {
            "_model_module": "@jupyter-widgets/base",
            "_model_module_version": "1.2.0",
            "_model_name": "LayoutModel",
            "_view_count": null,
            "_view_module": "@jupyter-widgets/base",
            "_view_module_version": "1.2.0",
            "_view_name": "LayoutView",
            "align_content": null,
            "align_items": null,
            "align_self": null,
            "border": null,
            "bottom": null,
            "display": null,
            "flex": null,
            "flex_flow": null,
            "grid_area": null,
            "grid_auto_columns": null,
            "grid_auto_flow": null,
            "grid_auto_rows": null,
            "grid_column": null,
            "grid_gap": null,
            "grid_row": null,
            "grid_template_areas": null,
            "grid_template_columns": null,
            "grid_template_rows": null,
            "height": null,
            "justify_content": null,
            "justify_items": null,
            "left": null,
            "margin": null,
            "max_height": null,
            "max_width": null,
            "min_height": null,
            "min_width": null,
            "object_fit": null,
            "object_position": null,
            "order": null,
            "overflow": null,
            "overflow_x": null,
            "overflow_y": null,
            "padding": null,
            "right": null,
            "top": null,
            "visibility": null,
            "width": null
          }
        },
        "ca97e4e9be174224b7453c043ce57d97": {
          "model_module": "@jupyter-widgets/base",
          "model_name": "LayoutModel",
          "model_module_version": "1.2.0",
          "state": {
            "_model_module": "@jupyter-widgets/base",
            "_model_module_version": "1.2.0",
            "_model_name": "LayoutModel",
            "_view_count": null,
            "_view_module": "@jupyter-widgets/base",
            "_view_module_version": "1.2.0",
            "_view_name": "LayoutView",
            "align_content": null,
            "align_items": null,
            "align_self": null,
            "border": null,
            "bottom": null,
            "display": null,
            "flex": null,
            "flex_flow": null,
            "grid_area": null,
            "grid_auto_columns": null,
            "grid_auto_flow": null,
            "grid_auto_rows": null,
            "grid_column": null,
            "grid_gap": null,
            "grid_row": null,
            "grid_template_areas": null,
            "grid_template_columns": null,
            "grid_template_rows": null,
            "height": null,
            "justify_content": null,
            "justify_items": null,
            "left": null,
            "margin": null,
            "max_height": null,
            "max_width": null,
            "min_height": null,
            "min_width": null,
            "object_fit": null,
            "object_position": null,
            "order": null,
            "overflow": null,
            "overflow_x": null,
            "overflow_y": null,
            "padding": null,
            "right": null,
            "top": null,
            "visibility": null,
            "width": null
          }
        },
        "ca87eb7c16024aabac7c5f583fa7ce49": {
          "model_module": "@jupyter-widgets/controls",
          "model_name": "SliderStyleModel",
          "model_module_version": "1.5.0",
          "state": {
            "_model_module": "@jupyter-widgets/controls",
            "_model_module_version": "1.5.0",
            "_model_name": "SliderStyleModel",
            "_view_count": null,
            "_view_module": "@jupyter-widgets/base",
            "_view_module_version": "1.2.0",
            "_view_name": "StyleView",
            "description_width": "",
            "handle_color": null
          }
        },
        "f19312731b50494382128c2730256edd": {
          "model_module": "@jupyter-widgets/base",
          "model_name": "LayoutModel",
          "model_module_version": "1.2.0",
          "state": {
            "_model_module": "@jupyter-widgets/base",
            "_model_module_version": "1.2.0",
            "_model_name": "LayoutModel",
            "_view_count": null,
            "_view_module": "@jupyter-widgets/base",
            "_view_module_version": "1.2.0",
            "_view_name": "LayoutView",
            "align_content": null,
            "align_items": null,
            "align_self": null,
            "border": null,
            "bottom": null,
            "display": null,
            "flex": null,
            "flex_flow": null,
            "grid_area": null,
            "grid_auto_columns": null,
            "grid_auto_flow": null,
            "grid_auto_rows": null,
            "grid_column": null,
            "grid_gap": null,
            "grid_row": null,
            "grid_template_areas": null,
            "grid_template_columns": null,
            "grid_template_rows": null,
            "height": null,
            "justify_content": null,
            "justify_items": null,
            "left": null,
            "margin": null,
            "max_height": null,
            "max_width": null,
            "min_height": null,
            "min_width": null,
            "object_fit": null,
            "object_position": null,
            "order": null,
            "overflow": null,
            "overflow_x": null,
            "overflow_y": null,
            "padding": null,
            "right": null,
            "top": null,
            "visibility": null,
            "width": null
          }
        }
      }
    }
  },
  "cells": [
    {
      "cell_type": "markdown",
      "source": [
        "<font color=blue>\n",
        "<font size = 14>\n",
        "Integrales de línea en un campo vectorial\n",
        "\n",
        "---"
      ],
      "metadata": {
        "id": "SttnwwQ_a7u9"
      }
    },
    {
      "cell_type": "markdown",
      "source": [
        "\n",
        "\n",
        "**Objetivo general**\n",
        "- Comprender la idea de la integral de linea actuando sobre un campo vectorial asi como tener una idea intuitiva de la manera de utilizar esta heramienta para problemas aplicados en fenomenos rales, usando simulaciones computacionales para obtener la idea central del tema.\n",
        "**Objetivos particulares**\n",
        "- Comprender el concepto de producto interno en el espacio $R^n$.\n",
        "- Juntar las ideas de producto interno y de integral para comprender lo que hace una integral de linea.\n",
        "- Conocer la utilidad de la integral de línea y resolver algunas aplicaiones de ella.\n",
        "\n",
        "## Contenido\n",
        "- [1 - Producto interno en $R^n$.](#1)\n",
        "    - [1.1 - Definicion de producto interior y producto punto.](#1-1)\n",
        "        - [Ejercicio 1 - Ejemplo de un producto punto.](#Ej-1)\n",
        "    - [1.2 - La integral.](#1-2)\n",
        "        - [Ejercicio 2 - Una ballena que cae del cielo.](#Ball)\n",
        "        - [Trabajo en una trayectoria.](#Trayec)\n",
        "- [2 - Ejemplo 1: Ballena cae en curva parametrizada.](#Ejemplo1)\n",
        "-[Visualización de integrales de linea en campos vectoriales generales.](#Campvec)\n",
        "- [3 - Ejemplo 2](#Ejemplo2)\n",
        "-[Algunas preguntas](#Algunaspre)\n",
        "\n",
        "\n",
        "- [4 - Ejemplo 3. Campo magnetico creado por una espira](#Espira)\n"
      ],
      "metadata": {
        "id": "hYcPR8mkwLNS"
      }
    },
    {
      "cell_type": "markdown",
      "source": [
        "<a name='1'></a>\n",
        "# Producto interno en $R^n$\n",
        "\n"
      ],
      "metadata": {
        "id": "oVscIlEWwYJV"
      }
    },
    {
      "cell_type": "markdown",
      "source": [
        "<a name='1-1'></a>\n",
        "## Definición producto interior y producto punto\n",
        "\n",
        "Un producto interno o producto interior, sobre un espacio vectorial (para el caso de este notebook será $R^n$), es una operacion que asigna a cada par de vectores u y v un escalar tal que <u|v> y cumple con las siguinetes propiedades:\n",
        "\n",
        "* <v|v> $\\geq 0$\n",
        "* <v|v> = 0 si y solo si v =0\n",
        "* <u|v+w> = <u|v> + <u|w>\n",
        "* Sea $\\alpha \\in R$ entonces < $\\alpha$ v|w> = $\\alpha$<v|w>\n",
        "* <v|w>= $\\bar{<w|v>}$ (Esta última propiedad se usa con los números complejos, por lo que para fines de este notebook no se usará pero es importante saber de su existencia)\n",
        "\n",
        "En el caso de $ R^n$ el porducto interior es mejor conocido como producto punto y está definido como $\\vec{a} \\cdot \\vec{b} = ||\\vec{a}||||\\vec{b}||cosθ $ donde $||\\vec{a}||$ y $||\\vec{b}||$ son la magnitud del vector $\\vec{a}$ y $\\vec{b}$ respectivamente y $θ$ el ángulo entre ambos.\n",
        "\n",
        "\n",
        "\n",
        "Ten en cuenta que $\\textbf{el producto punto de dos vectores es un escalar, no un vector.}$ Eso significa, por ejemplo, que no tiene sentido preguntar a qué es igual $\\vec{a} \\cdot \\vec{b} \\cdot \\vec{c} $.\n",
        "\n",
        "Una vez que hayamos evaluado $\\vec{a} \\cdot \\vec{b}$\n",
        " y obtenido un número, terminaríamos por tratar de tomar el producto punto entre un número y un vector.\n",
        "\n",
        " Otra forma equivalente y más sencilla de calcular el producto punto es conociendo los coeficientes de sus componentes; de modo que el produto punto será la suma de las multiplicaciones de sus componentes.\n",
        "\n",
        "Supongamos que tenemos a los vectores\n",
        "\n",
        "$x = (x_1,x_2,...,x_n)$\n",
        "\n",
        "$y = (y_1,y_2,...,y_n) $\n",
        "\n",
        "\n",
        "Tenemos que el producto interior entonces será:\n",
        "\n",
        "$\\sum_{i=1}^n x_iy_i$\n",
        "\n",
        "Ahora para visualizar mejor el porducto punto veámos un ejemplo.\n",
        "\n",
        "<a name='Ej-1'></a>\n",
        "## Ejemplo de producto punto en $R^n$\n",
        "Si tenemos los vectores\n",
        "$x = (3,2)$\n",
        "$y = (5,6)$\n",
        " Entonces el producto punto será $\\alpha = (3)(5)+(2)(6)= 15 + 12 = 27$\n",
        "\n",
        "<a name='Ball'></a>\n",
        "## Una ballena que cae del cielo\n",
        "\n",
        "Supongamos que una ballena llamada Whilly, cae del cielo, y que cae a lo largo de una trayectoria curvada, porque las corrientes de aire la empujan de un lado para otro.\n",
        "\n"
      ],
      "metadata": {
        "id": "A9CdaKo_wemN"
      }
    },
    {
      "cell_type": "code",
      "source": [
        "import numpy as np\n",
        "import matplotlib.pyplot as plt\n",
        "from ipywidgets import interact, FloatSlider\n",
        "\n",
        "x = np.linspace(0, 2*np.pi, 100)\n",
        "y = np.sin(x)\n",
        "\n",
        "def update(t=0):\n",
        "    fig, ax = plt.subplots()\n",
        "    ax.plot(y,-x)\n",
        "    ax.scatter([np.sin(t)], [-t], color='red')\n",
        "    plt.show()\n",
        "\n",
        "interact(update, t=FloatSlider(min=0, max=2*np.pi, step=0.1))"
      ],
      "metadata": {
        "colab": {
          "base_uri": "https://localhost:8080/",
          "height": 480,
          "referenced_widgets": [
            "06969241232e4f1c8601981501c293c7",
            "12b9c5b31588442daee74aacafc3ccc9",
            "4320e232e9ea4288a918dd271cad4119",
            "c3324e1f28704a25b2e85d9ec824f2c8",
            "ca97e4e9be174224b7453c043ce57d97",
            "ca87eb7c16024aabac7c5f583fa7ce49",
            "f19312731b50494382128c2730256edd"
          ]
        },
        "id": "0FPxxEJvBXXK",
        "outputId": "cb26d9b3-b817-4cbf-eb62-48dd7ed3dc02"
      },
      "execution_count": null,
      "outputs": [
        {
          "output_type": "display_data",
          "data": {
            "text/plain": [
              "interactive(children=(FloatSlider(value=0.0, description='t', max=6.283185307179586), Output()), _dom_classes=…"
            ],
            "application/vnd.jupyter.widget-view+json": {
              "version_major": 2,
              "version_minor": 0,
              "model_id": "06969241232e4f1c8601981501c293c7"
            }
          },
          "metadata": {}
        },
        {
          "output_type": "execute_result",
          "data": {
            "text/plain": [
              "<function __main__.update(t=0)>"
            ]
          },
          "metadata": {},
          "execution_count": 1
        }
      ]
    },
    {
      "cell_type": "markdown",
      "source": [
        "En este ejemplo, se asume que el alumno está familiarizado con las ideas de la física que la fuerza hace trabajo sobre un objeto en movimiento, además la fuerza está definida como\n",
        "$$\n",
        "\\begin{align}\n",
        "{\\vec{W} = \\vec{F} \\cdot \\vec{s}}\n",
        "\\end{align}\n",
        "$$\n",
        "\n",
        "es decir que el trabajo está definido como el producto punto entre el vector de fuerza y el vector de desplazamiento."
      ],
      "metadata": {
        "id": "hrJqMISv1RSI"
      }
    },
    {
      "cell_type": "markdown",
      "source": [
        "<a name='Trayec'></a>\n",
        "# Trabajo en una trayectoria.\n",
        "\n",
        "$\\textbf{Pregunta clave:}$ ¿cuál es el trabajo que la fuerza de gravedad realiza sobre Whilly conforme cae a lo largo de la trayectoria curvada C?\n",
        "\n",
        "\n",
        "Usualmente, calculamos el trabajo con respecto a un vector constante de fuerza y un vector constante de desplazamiento. ¿Qué podemos hacer con una trayectoria curvada?\n",
        "\n",
        "Podemos comenzar imaginándonos que la curva está compuesta de muchos vectores de desplazamiento:\n",
        "\n",
        "$\\vec{\\Delta s_1}, \\vec{Δs_2}, ...$\n",
        "\n",
        "\n",
        "\n"
      ],
      "metadata": {
        "id": "BYZVj6A54nHv"
      }
    },
    {
      "cell_type": "code",
      "source": [
        "import matplotlib.pyplot as plt #Se importa la paquetería que genera gráficas\n",
        "import numpy as np #Se importa la paquetería que tiene acceso a la parte matemática\n",
        "import ipywidgets as widgets #Se importa la paquetería para la generación de la parte interactiva con el usuario\n",
        "\n",
        "\n",
        "\n",
        "# Se generan las refinaciones del eje y\n",
        "y = np.linspace(0, 10, 100)\n",
        "# Se grafica una función en el eje vertical para simular una trayectoria de caída\n",
        "x = 4 + 2 * np.sin(2 * y)\n",
        "\n",
        "\n",
        "y1 = np.linspace(0, 10,10)\n",
        "x1 = 4 + 2 * np.sin(2 * y1)\n",
        "\n",
        "\n",
        "\n",
        "# Graficación\n",
        "fig, ax = plt.subplots()\n",
        "\n",
        "\n",
        "ax.plot(x, y+x, linewidth=2.0)\n",
        "ax.plot(x1, y1+x1, linewidth=2.0)\n",
        "\n",
        "ax.set(xlim=(0, 7), xticks=np.arange(1, 11),\n",
        "       ylim=(0, 10), yticks=np.arange(1, 11))\n",
        "\n",
        "plt.show()"
      ],
      "metadata": {
        "id": "cObRIhplCBsW",
        "colab": {
          "base_uri": "https://localhost:8080/",
          "height": 435
        },
        "outputId": "ed62adbf-314e-4120-e762-d5503643b6f8"
      },
      "execution_count": null,
      "outputs": [
        {
          "output_type": "display_data",
          "data": {
            "text/plain": [
              "<Figure size 640x480 with 1 Axes>"
            ],
            "image/png": "[encoded data removed]"
          },
          "metadata": {}
        }
      ]
    },
    {
      "cell_type": "markdown",
      "source": [
        "\n",
        "El trabajo realizado por la gravedad a lo largo de cada uno de estos vectores de desplazamiento es el producto punto del vector de fuerza de gravedad, que denotaremos $\\vec{F_g} $, con el vector de desplazamiento mismo por lo que la contibción de los vectores se verá como:\n",
        "\n",
        "$∑_i^n\\vec{F_g} \\cdot \\vec{Δs_i}$"
      ],
      "metadata": {
        "id": "AbxVFL089tmg"
      }
    },
    {
      "cell_type": "code",
      "source": [
        "import numpy as np\n",
        "import matplotlib.pyplot as plt\n",
        "from ipywidgets import interact, IntSlider\n",
        "\n",
        "# Definimos la curva\n",
        "y = -np.linspace(0, 10, 100)\n",
        "x = 4 + 2 * np.sin(2 * y)\n",
        "\n",
        "# Calculamos los vectores tangentes\n",
        "dx = np.gradient(x)\n",
        "dy = np.gradient(y)\n",
        "tangentes = np.stack([dx, dy], axis=1)\n",
        "\n",
        "# Función para visualizar los vectores tangentes\n",
        "def plot_tangentes(num_vectores):\n",
        "    fig, ax = plt.subplots(figsize=(6, 6))\n",
        "    ax.plot(x, y, color='blue')\n",
        "    for i in range(0, len(t), len(t)//num_vectores):\n",
        "        ax.arrow(x[i], y[i], tangentes[i, 0], tangentes[i, 1], width=0.1, color='red')\n",
        "    ax.set_aspect('equal')\n",
        "    plt.show()\n",
        "\n",
        "# Widget para controlar la cantidad de vectores\n",
        "interact(plot_tangentes, num_vectores=IntSlider(min=1, max=25, step=1, value=1))"
      ],
      "metadata": {
        "colab": {
          "base_uri": "https://localhost:8080/",
          "height": 572,
          "referenced_widgets": [
            "65cd997170a742718025712db293e61c",
            "93e1089d3ceb4211ba8bc4934948146d",
            "00e3f85ad0d04090aa513d06b5f3ba4a",
            "2e8d49f117d040b5abb4919d6c7053e9",
            "7a5af84c4ab64a3c8efeb7b821b31194",
            "f60d7b77f8fc4fa3a56833656424469b",
            "8de25b016c7145f6b55be5f7ff00be93"
          ]
        },
        "id": "SM6kmfE-SKN5",
        "outputId": "90fc6a2c-4ee7-4b89-f4c3-c7b086163224"
      },
      "execution_count": null,
      "outputs": [
        {
          "output_type": "display_data",
          "data": {
            "text/plain": [
              "interactive(children=(IntSlider(value=1, description='num_vectores', max=25, min=1), Output()), _dom_classes=(…"
            ],
            "application/vnd.jupyter.widget-view+json": {
              "version_major": 2,
              "version_minor": 0,
              "model_id": "65cd997170a742718025712db293e61c"
            }
          },
          "metadata": {}
        },
        {
          "output_type": "execute_result",
          "data": {
            "text/plain": [
              "<function __main__.plot_tangentes(num_vectores)>"
            ]
          },
          "metadata": {},
          "execution_count": 22
        }
      ]
    },
    {
      "cell_type": "markdown",
      "source": [
        "Pero lo que realmente nos interesa es el valor límite de esta suma conforme el tamaño de esos pasos es más y más pequeño. Para ello haremos uso de la integral ya que toma en cuenta las contibuciones de las trayectorias infinitesimales y se verá de la forma:\n",
        "\n",
        "$∫_C \\vec{F}\\cdot \\vec{ds}$\n",
        "Similar a una integral de línea en un campo escalar pero ahora consideramos el pequeño paso $\\vec{ds} $ como un vector, no como una longitud.\n",
        "\n",
        "\n",
        "$\\textbf{Nota}$: la cantidad que sumamos conforme caminamos a lo largo de C no es todo el valor de $\\vec{F_g}$ en cada punto, sino la componente de $\\vec{F_g}$ que apunta en la misma dirección que el vector $\\vec{ds}$. Es decir, la componente de la fuerza en la dirección de la curva."
      ],
      "metadata": {
        "id": "fUWNDCcRCCE6"
      }
    },
    {
      "cell_type": "markdown",
      "source": [
        "<a name='Ejemplo1'></a>\n",
        "<font size = 14>\n",
        "Ejemplo 1\n",
        "\n",
        "Supón que la trayectoria de caída de Whilly está descrita por la curva parametrizada\n",
        "\\begin{equation}\n",
        "S=\\begin{bmatrix}\n",
        "100 (t-sin(t))\\\\\n",
        "100 (-t-sin(t))\n",
        "\\end{bmatrix}\n",
        "\\end{equation}\n",
        "\n",
        "Podemos expresar el vector d$\\vec{s}$que representa un pequeño paso en dirección de la curva, con la derivada de esta función multiplicada por dt:\n",
        "\n",
        "$d\\vec{s}= \\frac{d\\vec{s}}{dt} dt = \\vec{s}'dt$\n",
        "\n",
        "La forma de visualizar esto es pensar que un pequeño incremento de tamaño dt sobre el parámetro t resulta en un pequeño incremento $\\vec{s}'(t)$ a lo largo de la curva $\\vec{s}(t)$."
      ],
      "metadata": {
        "id": "8R5kYTt-yJPJ"
      }
    },
    {
      "cell_type": "markdown",
      "source": [
        "Calculamos la derivada\n",
        "\n",
        "\\begin{equation}\n",
        "\\frac{d\\vec{s}}{dt}=\\begin{bmatrix}\n",
        "100 (t-sin(t))\\\\\n",
        "100 (-t-sin(t))\n",
        "\\end{bmatrix}\n",
        "=\\begin{bmatrix}\n",
        "100 (1-cos(t))\\\\\n",
        "100 (-1-cos(t))\n",
        "\\end{bmatrix}\n",
        "\\end{equation}\n",
        "\n",
        "\n",
        "La fuerza de gravedad está dada por la aceleración, $9.81 \\dfrac{\\text{m}}{\\text{s}^2}$, multiplicada por la masa de Whilly. La masa típica de una ballena azul, resulta ser de alrededor de 170,000 kg, por lo que usaremos ese número.\n",
        "Ya que la fuerza se dirige solamente hacia abajo, la gravedad como vector de fuerza se ve así:\n",
        "\n",
        "\\begin{equation}\n",
        "\\vec{F}=\\begin{bmatrix}\n",
        "0\\\\\n",
        "-(170,000)(9.81)\n",
        "\\end{bmatrix}\n",
        "\\end{equation}\n",
        "\n",
        "\n",
        "\n",
        "Digamos que queremos encontrar el trabajo que realiza la gravedad entre los tiempos t = 0 y t = 10. ¿Qué obtienes cuando sustituyes esta información en la integral de línea $\\int_C \\vec{F}_g \\cdot d\\vec{s}$ y la evalúas?\n",
        "\n",
        "$W = \\int_C\\vec{F}_g \\cdot d\\vec{s}=\\int_{0}^{10} \\vec{F}_g \\cdot \\vec{s}'(t)dt\n",
        "\\\\\n",
        "= \\int_0^{10} \\begin{equation}\n",
        "\\begin{bmatrix}\n",
        "0\\\\\n",
        "-(170,000)(9.81)\n",
        "\\end{bmatrix}\n",
        " \\cdot \\begin{bmatrix}\n",
        "100 (1-cos(t))\\\\\n",
        "100 (-1-cos(t))\n",
        "\\end{bmatrix}\n",
        "\\end{equation} dt\n",
        "\\\\\\\\\n",
        "=\\int_0^{10} −(170,000)(9.81)100(−1−cos(t))dt\n",
        "\\\\\\\\\n",
        "=166,770,000\\int_0^{10}(1+cos(t))dt\n",
        "\\\\\\\\\n",
        "=166,770,000[t+sen(t)]_0^{10}\\\\\n",
        "=166,770,000[10+sen(10)]-[0+sen(0)] \\approx 1.69\\text{x}10^9$"
      ],
      "metadata": {
        "id": "XCctpvRl6ZGr"
      }
    },
    {
      "cell_type": "markdown",
      "source": [
        "<a name='Campvec'></a>\n",
        "# Visualizar integrales de línea en campos vectoriales más generales\n",
        "\n",
        "En el ejemplo anterior, el campo vectorial gravitacional es constante. En todos lados, la gravedad apunta directo hacia abajo con la misma magnitud. Para la mayoría de las integrales de línea en un campo vectorial, los vectores del campo varían en diferentes puntos del espacio, por lo que el valor de su producto punto con $d\\vec{s}$ cambia."
      ],
      "metadata": {
        "id": "FVatz92R5LWz"
      }
    },
    {
      "cell_type": "markdown",
      "source": [
        "Analicemos qué está sucediendo.La integral de línea en sí misma la escribimos como:\n",
        "\n",
        "$\\int_C \\vec{F(r})\\cdot d\\vec{r} = \\int_a^b \\vec{F(r}(t))⋅\\vec{r'}(t) dt$\n",
        "\n",
        "Donde:\n",
        "$\\vec{F}$ es uncampo vectorial, que asocia cada punto en el espacio con un vector. Lo puedes pensar como un campo de fuerzas.\n",
        "\n",
        "C es una curva a través del espacio.\n",
        "\n",
        "$\\vec{r}(t)$ es una función vectorial que parametriza la curva C, donde $a \\leq t \\leq b$.\n",
        "\n",
        "$\\vec{r'}(t)$ es la derivada de $\\vec{r}$ que representa el vector velocidad de una partícula cuya posición esta dada por $\\vec{r}(t)$ mientras t se incrementa a razón constante. Cuando multiplicas este vector por un pequeño paso en el tiempo, dt, obtienes el vector de desplazamiento, que se puede  pensar como un pequeño paso a lo largo de la curva. Técnicamente, es un pequeño paso en la dirección tangente a la curva."
      ],
      "metadata": {
        "id": "jQ-t-_2h6efe"
      }
    },
    {
      "cell_type": "markdown",
      "source": [
        "<a name='Preguntas'></a>\n",
        "$\\textbf{¿Qué representa el producto punto $\\vec{F(r(t))}\\cdot\\vec{r}'(t)dt$?}$\n",
        "\n",
        "$\\ \\ $a) La razón con la cual la fuerza cambia respecto a t .\n",
        "\n",
        "$\\ \\ $b) La componente de $\\vec{F(r)}$ que paunta en la misma dirección que el peuqueño paso a lo largo de la curva en el punto $\\vec{r}(t)$, nultiplicada por el tamaño de ese paso."
      ],
      "metadata": {
        "id": "OVTWbwUVoPTU"
      }
    },
    {
      "cell_type": "code",
      "source": [
        "'''\n",
        "x =input(\"Elige la respuesta\")\n",
        "print(x)\n",
        "\n",
        "while x != \"b\":\n",
        "  print(\"Intentalo de nuevo\")\n",
        "  del(x)\n",
        "  x =input(\"Elige la respuesta\")\n",
        "  print(x)\n",
        "else:\n",
        "  print(\"¡Correcto!\")\n",
        "  '''"
      ],
      "metadata": {
        "id": "FJI-RceVmbFP",
        "colab": {
          "base_uri": "https://localhost:8080/",
          "height": 36
        },
        "outputId": "052bb272-a51d-4f20-bf37-ad35bd32f744"
      },
      "execution_count": null,
      "outputs": [
        {
          "output_type": "execute_result",
          "data": {
            "text/plain": [
              "'\\nx =input(\"Elige la respuesta\")\\nprint(x)\\n\\nwhile x != \"b\":\\n  print(\"Intentalo de nuevo\")\\n  del(x)\\n  x =input(\"Elige la respuesta\")\\n  print(x)\\nelse:\\n  print(\"¡Correcto!\")\\n  '"
            ],
            "application/vnd.google.colaboratory.intrinsic+json": {
              "type": "string"
            }
          },
          "metadata": {},
          "execution_count": 9
        }
      ]
    },
    {
      "cell_type": "markdown",
      "source": [
        "En términos de física, puedes pensar este producto punto como un d$\\vec{W}$, es decir, la pequeña cantidad de trabajo hecho por el campo de fuerza $\\vec{F}$ sobre una partícula que se mueve a lo largo de $\\textit{C}$"
      ],
      "metadata": {
        "id": "7RbSymq7svBp"
      }
    },
    {
      "cell_type": "markdown",
      "source": [
        "<a name='Ejemplo2'></a>\n",
        "<font size = 14>\n",
        "Ejemplo 2\n",
        "\n",
        "Considera el campo vectorial descrito por la función\n",
        "\n",
        "\\begin{equation}\n",
        "\\vec{F}(x,y)=\\begin{bmatrix}\n",
        "-y\\\\\n",
        "x\n",
        "\\end{bmatrix}\n",
        "\\end{equation}"
      ],
      "metadata": {
        "id": "ex6IcmSgtWuJ"
      }
    },
    {
      "cell_type": "code",
      "source": [
        "def cvec(vectores):\n",
        "  x = np.linspace(-5,5,vectores)\n",
        "  y = np.linspace(-5,5,vectores)\n",
        "  z = np.linspace(0, 2*np.pi)\n",
        "  m = np.cos(z)\n",
        "  n = np.sin(z)\n",
        "\n",
        "  plt.figure(figsize=(10,10))\n",
        "\n",
        "  xmesh, ymesh = np.meshgrid(x,y)\n",
        "\n",
        "  umesh = -ymesh\n",
        "  vmesh = xmesh\n",
        "\n",
        "  plt.quiver(xmesh, ymesh, umesh, vmesh)\n",
        "  plt.plot(m+2,n)\n",
        "\n",
        "  plt.axis('equal')\n",
        "\n",
        "\n",
        "  plt.grid(True)\n",
        "  plt.show()\n",
        "\n",
        "\n",
        "widgets.interact(cvec, vectores=widgets.IntText(value=1))"
      ],
      "metadata": {
        "id": "-qOADidZ2Qqg",
        "colab": {
          "base_uri": "https://localhost:8080/",
          "height": 881,
          "referenced_widgets": [
            "8cf61c5043f14e4e9f1e0961b9d0ec75",
            "fcca100ff04345deba189f0435d9651d",
            "decddfcc2890473ebab1d13355139f2a",
            "0af55c2519c54ba6a59500227d33b64c",
            "65208524726c4ce3acdda57c1cdfa66f",
            "7eb4ddb06f664a0099356e656554394c",
            "a1dce50361884922bad59563f8c346c2"
          ]
        },
        "outputId": "c8652ded-224f-4b0a-c57e-55e0893f9348"
      },
      "execution_count": null,
      "outputs": [
        {
          "output_type": "display_data",
          "data": {
            "text/plain": [
              "interactive(children=(IntText(value=1, description='vectores'), Output()), _dom_classes=('widget-interact',))"
            ],
            "application/vnd.jupyter.widget-view+json": {
              "version_major": 2,
              "version_minor": 0,
              "model_id": "8cf61c5043f14e4e9f1e0961b9d0ec75"
            }
          },
          "metadata": {}
        },
        {
          "output_type": "execute_result",
          "data": {
            "text/plain": [
              "<function __main__.cvec(vectores)>"
            ]
          },
          "metadata": {},
          "execution_count": 10
        }
      ]
    },
    {
      "cell_type": "markdown",
      "source": [
        "Pensado como una fuerza, este campo vectorial empuja objetos alrededor del origen en sentido contraria a las manecillas del reloj. Por ejemplo, tal vez represente la fuerza debida al aire dentro de un tornado. Esto es poco realista porque implicaría que la fuerza aumenta continuamente conforme te alejas del centro del tornado, pero podemos eufemísticamente decir que es \"un modelo simplificado\" y continuar en nuestro alegre camino.\n",
        "\n",
        "\n",
        "Supón que queremos calcular una integral de línea a través de este campo vectorial a lo largo de un círculo de radio 1 y centro en (2, 0)."
      ],
      "metadata": {
        "id": "SRqEWWGD3sOH"
      }
    },
    {
      "cell_type": "markdown",
      "source": [
        "En este caso, la orientación importa. El trabajo realizado por el campo de fuerzas del tornado, conforme caminamos en el sentido contrario a las manecillas del reloj, puede ser distinto del trabajo realizado conforme caminamos en el sentido de las manecillas del reloj (más adelante estudiaremos explícitamente esta cuestión).\n",
        "\n",
        "Si escogemos considerar una caminata sobre este círculo en el sentido contrario a las manecillas del reloj, podemos parametrizar la curva con la función\n",
        "\n",
        "\\begin{equation}\n",
        "\\vec{r}(t)=\\begin{bmatrix}\n",
        "cos(t)+2\\\\\n",
        "sen(t)\n",
        "\\end{bmatrix}\n",
        "\\end{equation}\n",
        "\n",
        "Donde t va de $0$ a $2\\pi$"
      ],
      "metadata": {
        "id": "fZnK6llw67I3"
      }
    },
    {
      "cell_type": "markdown",
      "source": [
        "De nuevo, para construir la integral de línea que representa el trabajo, debemos considerar el campo vectorial en cada punto, $\\vec{F}$(x,y) y calcular su producto punto con un pequeño paso a lo largo de la curva d$\\vec{r}$:\n",
        "\n",
        "$\\int_C \\vec{F(r})\\cdot d\\vec{r} $"
      ],
      "metadata": {
        "id": "PRSXkfLhio-g"
      }
    },
    {
      "cell_type": "markdown",
      "source": [
        "<a name='Algunaspre'></a>\n",
        "**¿cuál de las siguientes integrales representa lo mismo que $\\int_C \\vec{F}\\cdot \\vec{dr}$?**\n",
        "\n",
        "**a)** $\\int_0^{2\\pi}\\vec{F(r(t))}\\cdot \\vec{r'(t)}dt$\n",
        "\n",
        "**b)** $\\int_a^{b}\\vec{F(r(t))}\\cdot \\vec{r'(t)}dt$"
      ],
      "metadata": {
        "id": "wcgPG6eQyx2m"
      }
    },
    {
      "cell_type": "markdown",
      "source": [
        "**Con base en las definiciones anteriores, ¿qué es $\\vec{F(r(t))}$?**\n",
        "\n",
        "**a)** \\begin{equation}\n",
        "\\vec{r}(t)=\\begin{bmatrix}\n",
        "cos(t)+2\\\\\n",
        "sen(t)\n",
        "\\end{bmatrix}\n",
        "\\end{equation}\n",
        "\n",
        "**b)** \\begin{equation}\n",
        "\\vec{r}(t)=\\begin{bmatrix}\n",
        "-sen(t)\\\\\n",
        "cos(t)+2\n",
        "\\end{bmatrix}\n",
        "\\end{equation}\n",
        "\n",
        "**Explicación:** F(x,y) se define como \\begin{equation}\n",
        "\\vec{F(x,y)}=\\begin{bmatrix}\n",
        "-y\\\\\n",
        "x\n",
        "\\end{bmatrix}\n",
        "\\end{equation} y $\\vec{r(t)}$ se define como\n",
        " \\begin{equation}\n",
        "\\vec{F(x,y)}=\\begin{bmatrix}\n",
        "cos(t)+2\\\\\n",
        "sen(t)\n",
        "\\end{bmatrix}\n",
        "\\end{equation}\n",
        "Entonces como $\\vec{r(t)}$ es un vector de 2 dimensiones, sustituyendo en $\\vec{F(x,y)}$ como $\\vec{F(r((t))}$\n",
        "\n",
        "\n",
        "\\begin{equation}\n",
        "\\vec{F}(cos(t)+2, sen(t))=\\begin{bmatrix}\n",
        "-sen(t)\\\\\n",
        "cos(t)+2\n",
        "\\end{bmatrix}\n",
        "\\end{equation}"
      ],
      "metadata": {
        "id": "Yfm4NTHyz6va"
      }
    },
    {
      "cell_type": "markdown",
      "source": [
        "**¿Qué es $\\vec{r'(t)}$?**\n",
        "\n",
        "**a)** \\begin{equation}\n",
        "\\vec{r'(t)}=\\begin{bmatrix}\n",
        "-sen(t)\\\\\n",
        "cos(t)\n",
        "\\end{bmatrix}\n",
        "\\end{equation}\n",
        "\n",
        "**b)**\\begin{equation}\n",
        "\\vec{r'(t)}=\\begin{bmatrix}\n",
        "cos(t)\\\\\n",
        "-sen(t)\n",
        "\\end{bmatrix}\n",
        "\\end{equation}\n",
        "\n",
        "**Explicación:** se deriva componente por componente quedando así\n",
        "\n",
        "\\begin{equation}\n",
        "\\vec{r'(t)}=\\begin{bmatrix}\n",
        "\\frac{d[cos(t)+2]}{dt}\\\\\n",
        "\\frac{d[sen(t)]}{dt}\n",
        "\\end{bmatrix}=\\begin{bmatrix}\n",
        "-sen(t)\\\\\n",
        "cos(t)\n",
        "\\end{bmatrix}\n",
        "\\end{equation}"
      ],
      "metadata": {
        "id": "-zda1CWb3sju"
      }
    },
    {
      "cell_type": "markdown",
      "source": [
        "**Con las tres respuestas anteriores, resuelve la integral de línea**\n",
        "\n",
        "\n",
        "**Explicación:**$\\int_C\\vec{F}\\cdot d\\vec{r}=\\int_0^{2\\pi}\\vec{F(r(t))}\\cdot \\vec{r'(t)}dt$\n",
        "\\begin{equation}\n",
        "=\\int_0^{2\\pi}\\begin{bmatrix}\n",
        "-sen(t)\\\\\n",
        "cos(t)+2\n",
        "\\end{bmatrix}\\cdot\\begin{bmatrix}\n",
        "-sen(t)\\\\\n",
        "cos(t)\n",
        "\\end{bmatrix}\n",
        "\\end{equation}\n",
        "$=\\int_0^{2\\pi}(sen^2(t)+cos^2(t)+2cos(t))dt$ Usando que $cos^2(t)+sen^2(t)=1$ entonces\n",
        "$\\int_0^{2\\pi}(1+2cos(t))dt = [t+2sen(t)]_0^{2\\pi}=(2\\pi+2sen(2\\pi))-(0+2sen(0))=2\\pi$\n",
        "\n",
        "La respuesta final es la cantidad de trabajo que el campo de fuerzas del tornado realiza sobre una partícula que se mueve sobre el círculo descrito en sentido contrario a las manecillas del reloj."
      ],
      "metadata": {
        "id": "6hnUlHV26DX6"
      }
    },
    {
      "cell_type": "markdown",
      "source": [
        "###**¿Estás de acuerdo con la intuición que la respuesta sea positiva?**\n",
        "\n",
        "Ya que el círculo está orientado en dirección contraria a las manecillas del reloj, caminas hacia arriba en el primero y cuarto cuadrantes, y hacia abajo en el segundo y tercer cuadrantes.\n",
        "Los vectores que tocan la mitad derecha del círculo son relativamente largos, y apuntan más o menos en la misma dirección en la que caminas; por lo tanto, contribuyen con un montón de trabajo positivo.\n",
        "Los vectores que tocan la mitad izquierda del círculo todavía apuntan hacia arriba, que es ahora la dirección opuesta a la que caminas, y por lo tanto hacen trabajo negativo. Sin embargo, estos vectores son relativamente cortos, por lo que no cancelan el trabajo positivo realizado en la parte derecha."
      ],
      "metadata": {
        "id": "eexQfrVE81kQ"
      }
    },
    {
      "cell_type": "code",
      "source": [
        "import numpy as np\n",
        "import matplotlib.pyplot as plt\n",
        "from ipywidgets import interact, IntSlider\n",
        "\n",
        "# Definimos la curva\n",
        "t = np.linspace(0, 2*np.pi, 100)\n",
        "x = np.cos(t)\n",
        "y = np.sin(t)\n",
        "\n",
        "# Calculamos los vectores tangentes\n",
        "dx = np.gradient(x)\n",
        "dy = np.gradient(y)\n",
        "tangentes = np.stack([dx, dy], axis=1)\n",
        "\n",
        "# Función para visualizar los vectores tangentes\n",
        "def plot_tangentes(num_vectores):\n",
        "    fig, ax = plt.subplots(figsize=(6, 6))\n",
        "    ax.plot(x, y, color='blue')\n",
        "    for i in range(0, len(t), len(t)//num_vectores):\n",
        "        ax.arrow(x[i], y[i], tangentes[i, 0], tangentes[i, 1], width=0.02, color='red')\n",
        "    ax.set_aspect('equal')\n",
        "    plt.show()\n",
        "\n",
        "# Widget para controlar la cantidad de vectores\n",
        "interact(plot_tangentes, num_vectores=IntSlider(min=1, max=100, step=1, value=10))"
      ],
      "metadata": {
        "colab": {
          "base_uri": "https://localhost:8080/",
          "height": 565,
          "referenced_widgets": [
            "a9ca7c35d90e4e46969d4270b457475e",
            "dc396ce2bb6b436880991cb7bbcabecb",
            "0b85a287a0a4425da1a1634b54034ea4",
            "88014c88f1a84853b05eb5a1a28c66a6",
            "6ba43ce614cf4d6899ab94091914a77a",
            "519b2193cd7c4842a63ec305b5c16b33",
            "5c093849bc274cfe80ef4a0a92f04af6"
          ]
        },
        "id": "kwAE8YlQaT4F",
        "outputId": "86843bcd-306e-4e34-ec74-f1c33003c352"
      },
      "execution_count": null,
      "outputs": [
        {
          "output_type": "display_data",
          "data": {
            "text/plain": [
              "interactive(children=(IntSlider(value=10, description='num_vectores', min=1), Output()), _dom_classes=('widget…"
            ],
            "application/vnd.jupyter.widget-view+json": {
              "version_major": 2,
              "version_minor": 0,
              "model_id": "a9ca7c35d90e4e46969d4270b457475e"
            }
          },
          "metadata": {}
        },
        {
          "output_type": "execute_result",
          "data": {
            "text/plain": [
              "<function __main__.plot_tangentes(num_vectores)>"
            ]
          },
          "metadata": {},
          "execution_count": 11
        }
      ]
    },
    {
      "cell_type": "markdown",
      "source": [
        "<a name='Espira'></a>\n",
        "#Un ejempo más real\n",
        "\n",
        "En muchos dispositivos que utilizan una corriente para crear un campo magnético, tales como un transformador, el hilo que transporta la corriente está arrollado en forma de una bobina formada por muchas espiras. Estudiaremos, en primer lugar, el campo creado por una espira."
      ],
      "metadata": {
        "id": "f8Mh1YvmyWrg"
      }
    },
    {
      "cell_type": "markdown",
      "source": [
        "<img src=data:image/png;base64,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 >"
      ],
      "metadata": {
        "id": "_5DEIwoRE53m"
      }
    },
    {
      "cell_type": "markdown",
      "source": [
        "En la figura, se muestra una espira circular de radio a, recorrida por una corriente de intensidad i. El punto P está sobre el eje de la espira a una distancia z de su centro.\n",
        "\n",
        "Sea r la distancia entre el elemento de corriente y el punto P. La ley de Biot nos permite calcular el campo magnético creado por dicho elemento de corriente.\n",
        "\n",
        "$dB = \\frac{\\mu_0 i}{4 \\pi}\\frac{u_t x u_r}{r^2}dl = \\frac{\\mu_0i dl}{4 \\pi r^2}$\n",
        "\n",
        "A tener en cuenta que los vectores $u_t$ y $u_r$ forman 90°\n",
        "\n",
        "El vector campo magnético dB tiene dos componentes, uno a lo largo del eje de la espira $dB·cos(90-θ )$ y el otro perpendicular al eje de la espira $dB·sin(90-θ )$\n",
        "Por razón de simetría, <font color='red'>las componentes perpendiculares al eje creadas por elementos diametralmente opuestos se anulan entre sí.\n",
        "</font>\n",
        "\n"
      ],
      "metadata": {
        "id": "Be1CfqyAHngr"
      }
    },
    {
      "cell_type": "code",
      "source": [
        "import matplotlib.pyplot as plt\n",
        "# Vector origin location\n",
        "X = [0]\n",
        "Y = [0]\n",
        "\n",
        "# Directional vectors\n",
        "U1 = [2]\n",
        "V1 = [1]\n",
        "\n",
        "U2 = [-2]\n",
        "V2 = [1]\n",
        "\n",
        "U3 = [2]\n",
        "V3 = [0]\n",
        "U4 = [-2]\n",
        "V4 = [0]\n",
        "\n",
        "U5 = [0]\n",
        "V5 = [1]\n",
        "# Creating plot\n",
        "plt.quiver(X, Y, U1, V1, color='b', units='xy', scale=1)\n",
        "plt.quiver(X, Y, U2, V2, color='b', units='xy', scale=1)\n",
        "plt.quiver(X, Y, U3, V3, color='r', units='xy', scale=1)\n",
        "plt.quiver(X, Y, U4, V4, color='r', units='xy', scale=1)\n",
        "plt.quiver(X, Y, U5, V5, color='g', units='xy', scale=1)\n",
        "plt.title('vectores')\n",
        "\n",
        "# x-lim and y-lim\n",
        "plt.xlim(-4, 4)\n",
        "plt.ylim(-2, 2)\n",
        "\n",
        "# Show plot with grid\n",
        "plt.grid()\n",
        "plt.show()"
      ],
      "metadata": {
        "colab": {
          "base_uri": "https://localhost:8080/",
          "height": 452
        },
        "id": "21cDTaezKFf-",
        "outputId": "2237193f-74bc-415d-f8d3-c189cf7cdb54"
      },
      "execution_count": null,
      "outputs": [
        {
          "output_type": "display_data",
          "data": {
            "text/plain": [
              "<Figure size 640x480 with 1 Axes>"
            ],
            "image/png": "[encoded data removed]"
          },
          "metadata": {}
        }
      ]
    },
    {
      "cell_type": "markdown",
      "source": [
        "Por tanto, el campo magnético resultante <font color='green'>está dirigido a lo largo del eje y\n",
        "</font> puede calcularse mediante una integración sencilla ya que r es constante y θ es constante\n",
        "\n",
        "  $B = \\int db \\cdot cos(90-\\theta) = \\frac{\\mu_0i}{4 \\pi r^2} sin\\theta \\oint dl = \\frac{\\mu_0i}{4 \\pi r^2} 2 \\pi a sin\\theta = \\frac{\\mu_0i a^2}{2(\\sqrt(z^2+a^2))^3}$\n",
        "  podemos notar que en el centro de la espira z = 0, tenemos $\\frac{\\mu_0i}{2 a}$\n"
      ],
      "metadata": {
        "id": "7hTApaiPNPEI"
      }
    },
    {
      "cell_type": "markdown",
      "source": [
        "![mano derecha.png](data:image/png;base64,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)"
      ],
      "metadata": {
        "id": "phlY8cxyh0PS"
      }
    },
    {
      "cell_type": "markdown",
      "source": [
        "El sentido del campo magnético viene determinado por la regla de la mano derecha.\n",
        "\n",
        "Para una espira no es aplicable la ley de Ampère. Sin embargo si se disponen varias espiras iguales, igualmente espaciadas, se va creando un campo cuya dirección es cada vez más paralela al eje común de las espiras, a medida que se incrementa su número\n",
        "\n",
        "En la situación ideal de un solenoide formado por un número grande de espiras apretadas, cuya longitud es grande comparada con su diámetro, el campo en el interior es casi uniforme y paralelo al eje y en el exterior es muy pequeño. En estas condiciones es aplicable la ley de Ampére, para determinar el campo magnético en el interior del solenoide."
      ],
      "metadata": {
        "id": "c5E2a31mhV1H"
      }
    },
    {
      "cell_type": "code",
      "source": [],
      "metadata": {
        "id": "zCLpqBR031Dm"
      },
      "execution_count": null,
      "outputs": []
    }
  ]
}