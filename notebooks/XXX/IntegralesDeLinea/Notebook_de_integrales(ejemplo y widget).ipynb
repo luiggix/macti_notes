{
  "nbformat": 4,
  "nbformat_minor": 0,
  "metadata": {
    "colab": {
      "provenance": []
    },
    "kernelspec": {
      "name": "python3",
      "display_name": "Python 3"
    },
    "language_info": {
      "name": "python"
    },
    "widgets": {
      "application/vnd.jupyter.widget-state+json": {
        "863d8a0def534e76a1253e05cee1b8a3": {
          "model_module": "@jupyter-widgets/controls",
          "model_name": "VBoxModel",
          "model_module_version": "1.5.0",
          "state": {
            "_dom_classes": [
              "widget-interact"
            ],
            "_model_module": "@jupyter-widgets/controls",
            "_model_module_version": "1.5.0",
            "_model_name": "VBoxModel",
            "_view_count": null,
            "_view_module": "@jupyter-widgets/controls",
            "_view_module_version": "1.5.0",
            "_view_name": "VBoxView",
            "box_style": "",
            "children": [
              "IPY_MODEL_cb950bd936f64c908995da1671f3cd82",
              "IPY_MODEL_e02a3eb2a293447b9450fbf4f73f2c63"
            ],
            "layout": "IPY_MODEL_19bc7a3078d647aabfc5b18361759f9f"
          }
        },
        "cb950bd936f64c908995da1671f3cd82": {
          "model_module": "@jupyter-widgets/controls",
          "model_name": "IntSliderModel",
          "model_module_version": "1.5.0",
          "state": {
            "_dom_classes": [],
            "_model_module": "@jupyter-widgets/controls",
            "_model_module_version": "1.5.0",
            "_model_name": "IntSliderModel",
            "_view_count": null,
            "_view_module": "@jupyter-widgets/controls",
            "_view_module_version": "1.5.0",
            "_view_name": "IntSliderView",
            "continuous_update": true,
            "description": "num_vectores",
            "description_tooltip": null,
            "disabled": false,
            "layout": "IPY_MODEL_2834174589434e9592954d932004b5ad",
            "max": 100,
            "min": 1,
            "orientation": "horizontal",
            "readout": true,
            "readout_format": "d",
            "step": 1,
            "style": "IPY_MODEL_d7a1170a19cf49d196508d7e83ba18a2",
            "value": 1
          }
        },
        "e02a3eb2a293447b9450fbf4f73f2c63": {
          "model_module": "@jupyter-widgets/output",
          "model_name": "OutputModel",
          "model_module_version": "1.0.0",
          "state": {
            "_dom_classes": [],
            "_model_module": "@jupyter-widgets/output",
            "_model_module_version": "1.0.0",
            "_model_name": "OutputModel",
            "_view_count": null,
            "_view_module": "@jupyter-widgets/output",
            "_view_module_version": "1.0.0",
            "_view_name": "OutputView",
            "layout": "IPY_MODEL_4752e324bbd04fbc94ccf27c8dba8818",
            "msg_id": "",
            "outputs": [
              {
                "output_type": "display_data",
                "data": {
                  "text/plain": "<Figure size 600x600 with 1 Axes>",
                  "image/png": "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\n"
                },
                "metadata": {}
              }
            ]
          }
        },
        "19bc7a3078d647aabfc5b18361759f9f": {
          "model_module": "@jupyter-widgets/base",
          "model_name": "LayoutModel",
          "model_module_version": "1.2.0",
          "state": {
            "_model_module": "@jupyter-widgets/base",
            "_model_module_version": "1.2.0",
            "_model_name": "LayoutModel",
            "_view_count": null,
            "_view_module": "@jupyter-widgets/base",
            "_view_module_version": "1.2.0",
            "_view_name": "LayoutView",
            "align_content": null,
            "align_items": null,
            "align_self": null,
            "border": null,
            "bottom": null,
            "display": null,
            "flex": null,
            "flex_flow": null,
            "grid_area": null,
            "grid_auto_columns": null,
            "grid_auto_flow": null,
            "grid_auto_rows": null,
            "grid_column": null,
            "grid_gap": null,
            "grid_row": null,
            "grid_template_areas": null,
            "grid_template_columns": null,
            "grid_template_rows": null,
            "height": null,
            "justify_content": null,
            "justify_items": null,
            "left": null,
            "margin": null,
            "max_height": null,
            "max_width": null,
            "min_height": null,
            "min_width": null,
            "object_fit": null,
            "object_position": null,
            "order": null,
            "overflow": null,
            "overflow_x": null,
            "overflow_y": null,
            "padding": null,
            "right": null,
            "top": null,
            "visibility": null,
            "width": null
          }
        },
        "2834174589434e9592954d932004b5ad": {
          "model_module": "@jupyter-widgets/base",
          "model_name": "LayoutModel",
          "model_module_version": "1.2.0",
          "state": {
            "_model_module": "@jupyter-widgets/base",
            "_model_module_version": "1.2.0",
            "_model_name": "LayoutModel",
            "_view_count": null,
            "_view_module": "@jupyter-widgets/base",
            "_view_module_version": "1.2.0",
            "_view_name": "LayoutView",
            "align_content": null,
            "align_items": null,
            "align_self": null,
            "border": null,
            "bottom": null,
            "display": null,
            "flex": null,
            "flex_flow": null,
            "grid_area": null,
            "grid_auto_columns": null,
            "grid_auto_flow": null,
            "grid_auto_rows": null,
            "grid_column": null,
            "grid_gap": null,
            "grid_row": null,
            "grid_template_areas": null,
            "grid_template_columns": null,
            "grid_template_rows": null,
            "height": null,
            "justify_content": null,
            "justify_items": null,
            "left": null,
            "margin": null,
            "max_height": null,
            "max_width": null,
            "min_height": null,
            "min_width": null,
            "object_fit": null,
            "object_position": null,
            "order": null,
            "overflow": null,
            "overflow_x": null,
            "overflow_y": null,
            "padding": null,
            "right": null,
            "top": null,
            "visibility": null,
            "width": null
          }
        },
        "d7a1170a19cf49d196508d7e83ba18a2": {
          "model_module": "@jupyter-widgets/controls",
          "model_name": "SliderStyleModel",
          "model_module_version": "1.5.0",
          "state": {
            "_model_module": "@jupyter-widgets/controls",
            "_model_module_version": "1.5.0",
            "_model_name": "SliderStyleModel",
            "_view_count": null,
            "_view_module": "@jupyter-widgets/base",
            "_view_module_version": "1.2.0",
            "_view_name": "StyleView",
            "description_width": "",
            "handle_color": null
          }
        },
        "4752e324bbd04fbc94ccf27c8dba8818": {
          "model_module": "@jupyter-widgets/base",
          "model_name": "LayoutModel",
          "model_module_version": "1.2.0",
          "state": {
            "_model_module": "@jupyter-widgets/base",
            "_model_module_version": "1.2.0",
            "_model_name": "LayoutModel",
            "_view_count": null,
            "_view_module": "@jupyter-widgets/base",
            "_view_module_version": "1.2.0",
            "_view_name": "LayoutView",
            "align_content": null,
            "align_items": null,
            "align_self": null,
            "border": null,
            "bottom": null,
            "display": null,
            "flex": null,
            "flex_flow": null,
            "grid_area": null,
            "grid_auto_columns": null,
            "grid_auto_flow": null,
            "grid_auto_rows": null,
            "grid_column": null,
            "grid_gap": null,
            "grid_row": null,
            "grid_template_areas": null,
            "grid_template_columns": null,
            "grid_template_rows": null,
            "height": null,
            "justify_content": null,
            "justify_items": null,
            "left": null,
            "margin": null,
            "max_height": null,
            "max_width": null,
            "min_height": null,
            "min_width": null,
            "object_fit": null,
            "object_position": null,
            "order": null,
            "overflow": null,
            "overflow_x": null,
            "overflow_y": null,
            "padding": null,
            "right": null,
            "top": null,
            "visibility": null,
            "width": null
          }
        },
        "63585a2ec71f4b64b37d5c5b9c09aa86": {
          "model_module": "@jupyter-widgets/controls",
          "model_name": "VBoxModel",
          "model_module_version": "1.5.0",
          "state": {
            "_dom_classes": [
              "widget-interact"
            ],
            "_model_module": "@jupyter-widgets/controls",
            "_model_module_version": "1.5.0",
            "_model_name": "VBoxModel",
            "_view_count": null,
            "_view_module": "@jupyter-widgets/controls",
            "_view_module_version": "1.5.0",
            "_view_name": "VBoxView",
            "box_style": "",
            "children": [
              "IPY_MODEL_1a25b2fd95344c3d904f8c1f8fa86784",
              "IPY_MODEL_ecacd3e2800d496e9d7e65ce9b1503a9"
            ],
            "layout": "IPY_MODEL_80421615622f4b2098b6686600fb05a0"
          }
        },
        "1a25b2fd95344c3d904f8c1f8fa86784": {
          "model_module": "@jupyter-widgets/controls",
          "model_name": "IntTextModel",
          "model_module_version": "1.5.0",
          "state": {
            "_dom_classes": [],
            "_model_module": "@jupyter-widgets/controls",
            "_model_module_version": "1.5.0",
            "_model_name": "IntTextModel",
            "_view_count": null,
            "_view_module": "@jupyter-widgets/controls",
            "_view_module_version": "1.5.0",
            "_view_name": "IntTextView",
            "continuous_update": false,
            "description": "vectores",
            "description_tooltip": null,
            "disabled": false,
            "layout": "IPY_MODEL_1ec81d00e4314e6990e4dc73fcab9879",
            "step": 1,
            "style": "IPY_MODEL_26a305f137544f01a51e64061f1ae2ec",
            "value": 1
          }
        },
        "ecacd3e2800d496e9d7e65ce9b1503a9": {
          "model_module": "@jupyter-widgets/output",
          "model_name": "OutputModel",
          "model_module_version": "1.0.0",
          "state": {
            "_dom_classes": [],
            "_model_module": "@jupyter-widgets/output",
            "_model_module_version": "1.0.0",
            "_model_name": "OutputModel",
            "_view_count": null,
            "_view_module": "@jupyter-widgets/output",
            "_view_module_version": "1.0.0",
            "_view_name": "OutputView",
            "layout": "IPY_MODEL_c7d6bb10595745bf936839c8173af339",
            "msg_id": "",
            "outputs": [
              {
                "output_type": "display_data",
                "data": {
                  "text/plain": "<Figure size 1000x1000 with 1 Axes>",
                  "image/png": "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\n"
                },
                "metadata": {}
              }
            ]
          }
        },
        "80421615622f4b2098b6686600fb05a0": {
          "model_module": "@jupyter-widgets/base",
          "model_name": "LayoutModel",
          "model_module_version": "1.2.0",
          "state": {
            "_model_module": "@jupyter-widgets/base",
            "_model_module_version": "1.2.0",
            "_model_name": "LayoutModel",
            "_view_count": null,
            "_view_module": "@jupyter-widgets/base",
            "_view_module_version": "1.2.0",
            "_view_name": "LayoutView",
            "align_content": null,
            "align_items": null,
            "align_self": null,
            "border": null,
            "bottom": null,
            "display": null,
            "flex": null,
            "flex_flow": null,
            "grid_area": null,
            "grid_auto_columns": null,
            "grid_auto_flow": null,
            "grid_auto_rows": null,
            "grid_column": null,
            "grid_gap": null,
            "grid_row": null,
            "grid_template_areas": null,
            "grid_template_columns": null,
            "grid_template_rows": null,
            "height": null,
            "justify_content": null,
            "justify_items": null,
            "left": null,
            "margin": null,
            "max_height": null,
            "max_width": null,
            "min_height": null,
            "min_width": null,
            "object_fit": null,
            "object_position": null,
            "order": null,
            "overflow": null,
            "overflow_x": null,
            "overflow_y": null,
            "padding": null,
            "right": null,
            "top": null,
            "visibility": null,
            "width": null
          }
        },
        "1ec81d00e4314e6990e4dc73fcab9879": {
          "model_module": "@jupyter-widgets/base",
          "model_name": "LayoutModel",
          "model_module_version": "1.2.0",
          "state": {
            "_model_module": "@jupyter-widgets/base",
            "_model_module_version": "1.2.0",
            "_model_name": "LayoutModel",
            "_view_count": null,
            "_view_module": "@jupyter-widgets/base",
            "_view_module_version": "1.2.0",
            "_view_name": "LayoutView",
            "align_content": null,
            "align_items": null,
            "align_self": null,
            "border": null,
            "bottom": null,
            "display": null,
            "flex": null,
            "flex_flow": null,
            "grid_area": null,
            "grid_auto_columns": null,
            "grid_auto_flow": null,
            "grid_auto_rows": null,
            "grid_column": null,
            "grid_gap": null,
            "grid_row": null,
            "grid_template_areas": null,
            "grid_template_columns": null,
            "grid_template_rows": null,
            "height": null,
            "justify_content": null,
            "justify_items": null,
            "left": null,
            "margin": null,
            "max_height": null,
            "max_width": null,
            "min_height": null,
            "min_width": null,
            "object_fit": null,
            "object_position": null,
            "order": null,
            "overflow": null,
            "overflow_x": null,
            "overflow_y": null,
            "padding": null,
            "right": null,
            "top": null,
            "visibility": null,
            "width": null
          }
        },
        "26a305f137544f01a51e64061f1ae2ec": {
          "model_module": "@jupyter-widgets/controls",
          "model_name": "DescriptionStyleModel",
          "model_module_version": "1.5.0",
          "state": {
            "_model_module": "@jupyter-widgets/controls",
            "_model_module_version": "1.5.0",
            "_model_name": "DescriptionStyleModel",
            "_view_count": null,
            "_view_module": "@jupyter-widgets/base",
            "_view_module_version": "1.2.0",
            "_view_name": "StyleView",
            "description_width": ""
          }
        },
        "c7d6bb10595745bf936839c8173af339": {
          "model_module": "@jupyter-widgets/base",
          "model_name": "LayoutModel",
          "model_module_version": "1.2.0",
          "state": {
            "_model_module": "@jupyter-widgets/base",
            "_model_module_version": "1.2.0",
            "_model_name": "LayoutModel",
            "_view_count": null,
            "_view_module": "@jupyter-widgets/base",
            "_view_module_version": "1.2.0",
            "_view_name": "LayoutView",
            "align_content": null,
            "align_items": null,
            "align_self": null,
            "border": null,
            "bottom": null,
            "display": null,
            "flex": null,
            "flex_flow": null,
            "grid_area": null,
            "grid_auto_columns": null,
            "grid_auto_flow": null,
            "grid_auto_rows": null,
            "grid_column": null,
            "grid_gap": null,
            "grid_row": null,
            "grid_template_areas": null,
            "grid_template_columns": null,
            "grid_template_rows": null,
            "height": null,
            "justify_content": null,
            "justify_items": null,
            "left": null,
            "margin": null,
            "max_height": null,
            "max_width": null,
            "min_height": null,
            "min_width": null,
            "object_fit": null,
            "object_position": null,
            "order": null,
            "overflow": null,
            "overflow_x": null,
            "overflow_y": null,
            "padding": null,
            "right": null,
            "top": null,
            "visibility": null,
            "width": null
          }
        },
        "afcdd0c726744ad08fb1ff424b15601d": {
          "model_module": "@jupyter-widgets/controls",
          "model_name": "VBoxModel",
          "model_module_version": "1.5.0",
          "state": {
            "_dom_classes": [
              "widget-interact"
            ],
            "_model_module": "@jupyter-widgets/controls",
            "_model_module_version": "1.5.0",
            "_model_name": "VBoxModel",
            "_view_count": null,
            "_view_module": "@jupyter-widgets/controls",
            "_view_module_version": "1.5.0",
            "_view_name": "VBoxView",
            "box_style": "",
            "children": [
              "IPY_MODEL_ace20feed4ac4eecbf37924a69754fcf",
              "IPY_MODEL_8f80365ba76c401fa19c1b15694f060d"
            ],
            "layout": "IPY_MODEL_13ce6c06ff0c4278ae154664bb2e51d3"
          }
        },
        "ace20feed4ac4eecbf37924a69754fcf": {
          "model_module": "@jupyter-widgets/controls",
          "model_name": "IntSliderModel",
          "model_module_version": "1.5.0",
          "state": {
            "_dom_classes": [],
            "_model_module": "@jupyter-widgets/controls",
            "_model_module_version": "1.5.0",
            "_model_name": "IntSliderModel",
            "_view_count": null,
            "_view_module": "@jupyter-widgets/controls",
            "_view_module_version": "1.5.0",
            "_view_name": "IntSliderView",
            "continuous_update": true,
            "description": "num_vectores",
            "description_tooltip": null,
            "disabled": false,
            "layout": "IPY_MODEL_52c2ea0c34ea48e5855a6e3cad22dfd8",
            "max": 100,
            "min": 1,
            "orientation": "horizontal",
            "readout": true,
            "readout_format": "d",
            "step": 1,
            "style": "IPY_MODEL_18109e8c081940b08f089cf5f4e9253c",
            "value": 10
          }
        },
        "8f80365ba76c401fa19c1b15694f060d": {
          "model_module": "@jupyter-widgets/output",
          "model_name": "OutputModel",
          "model_module_version": "1.0.0",
          "state": {
            "_dom_classes": [],
            "_model_module": "@jupyter-widgets/output",
            "_model_module_version": "1.0.0",
            "_model_name": "OutputModel",
            "_view_count": null,
            "_view_module": "@jupyter-widgets/output",
            "_view_module_version": "1.0.0",
            "_view_name": "OutputView",
            "layout": "IPY_MODEL_90b7861d4d34478b8018a389fa5e93bc",
            "msg_id": "",
            "outputs": [
              {
                "output_type": "display_data",
                "data": {
                  "text/plain": "<Figure size 600x600 with 1 Axes>",
                  "image/png": "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\n"
                },
                "metadata": {}
              }
            ]
          }
        },
        "13ce6c06ff0c4278ae154664bb2e51d3": {
          "model_module": "@jupyter-widgets/base",
          "model_name": "LayoutModel",
          "model_module_version": "1.2.0",
          "state": {
            "_model_module": "@jupyter-widgets/base",
            "_model_module_version": "1.2.0",
            "_model_name": "LayoutModel",
            "_view_count": null,
            "_view_module": "@jupyter-widgets/base",
            "_view_module_version": "1.2.0",
            "_view_name": "LayoutView",
            "align_content": null,
            "align_items": null,
            "align_self": null,
            "border": null,
            "bottom": null,
            "display": null,
            "flex": null,
            "flex_flow": null,
            "grid_area": null,
            "grid_auto_columns": null,
            "grid_auto_flow": null,
            "grid_auto_rows": null,
            "grid_column": null,
            "grid_gap": null,
            "grid_row": null,
            "grid_template_areas": null,
            "grid_template_columns": null,
            "grid_template_rows": null,
            "height": null,
            "justify_content": null,
            "justify_items": null,
            "left": null,
            "margin": null,
            "max_height": null,
            "max_width": null,
            "min_height": null,
            "min_width": null,
            "object_fit": null,
            "object_position": null,
            "order": null,
            "overflow": null,
            "overflow_x": null,
            "overflow_y": null,
            "padding": null,
            "right": null,
            "top": null,
            "visibility": null,
            "width": null
          }
        },
        "52c2ea0c34ea48e5855a6e3cad22dfd8": {
          "model_module": "@jupyter-widgets/base",
          "model_name": "LayoutModel",
          "model_module_version": "1.2.0",
          "state": {
            "_model_module": "@jupyter-widgets/base",
            "_model_module_version": "1.2.0",
            "_model_name": "LayoutModel",
            "_view_count": null,
            "_view_module": "@jupyter-widgets/base",
            "_view_module_version": "1.2.0",
            "_view_name": "LayoutView",
            "align_content": null,
            "align_items": null,
            "align_self": null,
            "border": null,
            "bottom": null,
            "display": null,
            "flex": null,
            "flex_flow": null,
            "grid_area": null,
            "grid_auto_columns": null,
            "grid_auto_flow": null,
            "grid_auto_rows": null,
            "grid_column": null,
            "grid_gap": null,
            "grid_row": null,
            "grid_template_areas": null,
            "grid_template_columns": null,
            "grid_template_rows": null,
            "height": null,
            "justify_content": null,
            "justify_items": null,
            "left": null,
            "margin": null,
            "max_height": null,
            "max_width": null,
            "min_height": null,
            "min_width": null,
            "object_fit": null,
            "object_position": null,
            "order": null,
            "overflow": null,
            "overflow_x": null,
            "overflow_y": null,
            "padding": null,
            "right": null,
            "top": null,
            "visibility": null,
            "width": null
          }
        },
        "18109e8c081940b08f089cf5f4e9253c": {
          "model_module": "@jupyter-widgets/controls",
          "model_name": "SliderStyleModel",
          "model_module_version": "1.5.0",
          "state": {
            "_model_module": "@jupyter-widgets/controls",
            "_model_module_version": "1.5.0",
            "_model_name": "SliderStyleModel",
            "_view_count": null,
            "_view_module": "@jupyter-widgets/base",
            "_view_module_version": "1.2.0",
            "_view_name": "StyleView",
            "description_width": "",
            "handle_color": null
          }
        },
        "90b7861d4d34478b8018a389fa5e93bc": {
          "model_module": "@jupyter-widgets/base",
          "model_name": "LayoutModel",
          "model_module_version": "1.2.0",
          "state": {
            "_model_module": "@jupyter-widgets/base",
            "_model_module_version": "1.2.0",
            "_model_name": "LayoutModel",
            "_view_count": null,
            "_view_module": "@jupyter-widgets/base",
            "_view_module_version": "1.2.0",
            "_view_name": "LayoutView",
            "align_content": null,
            "align_items": null,
            "align_self": null,
            "border": null,
            "bottom": null,
            "display": null,
            "flex": null,
            "flex_flow": null,
            "grid_area": null,
            "grid_auto_columns": null,
            "grid_auto_flow": null,
            "grid_auto_rows": null,
            "grid_column": null,
            "grid_gap": null,
            "grid_row": null,
            "grid_template_areas": null,
            "grid_template_columns": null,
            "grid_template_rows": null,
            "height": null,
            "justify_content": null,
            "justify_items": null,
            "left": null,
            "margin": null,
            "max_height": null,
            "max_width": null,
            "min_height": null,
            "min_width": null,
            "object_fit": null,
            "object_position": null,
            "order": null,
            "overflow": null,
            "overflow_x": null,
            "overflow_y": null,
            "padding": null,
            "right": null,
            "top": null,
            "visibility": null,
            "width": null
          }
        },
        "b6b1df79e5ea45bd9b79e9a1d04c0529": {
          "model_module": "@jupyter-widgets/controls",
          "model_name": "VBoxModel",
          "model_module_version": "1.5.0",
          "state": {
            "_dom_classes": [
              "widget-interact"
            ],
            "_model_module": "@jupyter-widgets/controls",
            "_model_module_version": "1.5.0",
            "_model_name": "VBoxModel",
            "_view_count": null,
            "_view_module": "@jupyter-widgets/controls",
            "_view_module_version": "1.5.0",
            "_view_name": "VBoxView",
            "box_style": "",
            "children": [
              "IPY_MODEL_99569ad09c264a4cb108b3e49be24052",
              "IPY_MODEL_2c9440c22f1b45848666e56432d733da"
            ],
            "layout": "IPY_MODEL_659e00c3e3a048c19fe2c59a6c748455"
          }
        },
        "99569ad09c264a4cb108b3e49be24052": {
          "model_module": "@jupyter-widgets/controls",
          "model_name": "FloatSliderModel",
          "model_module_version": "1.5.0",
          "state": {
            "_dom_classes": [],
            "_model_module": "@jupyter-widgets/controls",
            "_model_module_version": "1.5.0",
            "_model_name": "FloatSliderModel",
            "_view_count": null,
            "_view_module": "@jupyter-widgets/controls",
            "_view_module_version": "1.5.0",
            "_view_name": "FloatSliderView",
            "continuous_update": true,
            "description": "pos",
            "description_tooltip": null,
            "disabled": false,
            "layout": "IPY_MODEL_2038e9b050f24a45ba72fedd66f5d442",
            "max": 99,
            "min": 0,
            "orientation": "horizontal",
            "readout": true,
            "readout_format": ".2f",
            "step": 1,
            "style": "IPY_MODEL_41a972c0711a48c0a2daf509876407e6",
            "value": 0
          }
        },
        "2c9440c22f1b45848666e56432d733da": {
          "model_module": "@jupyter-widgets/output",
          "model_name": "OutputModel",
          "model_module_version": "1.0.0",
          "state": {
            "_dom_classes": [],
            "_model_module": "@jupyter-widgets/output",
            "_model_module_version": "1.0.0",
            "_model_name": "OutputModel",
            "_view_count": null,
            "_view_module": "@jupyter-widgets/output",
            "_view_module_version": "1.0.0",
            "_view_name": "OutputView",
            "layout": "IPY_MODEL_45b26ced7f9242c4b9076b660de118b6",
            "msg_id": "",
            "outputs": [
              {
                "output_type": "error",
                "ename": "IndexError",
                "evalue": "ignored",
                "traceback": [
                  "\u001b[0;31m---------------------------------------------------------------------------\u001b[0m",
                  "\u001b[0;31mIndexError\u001b[0m                                Traceback (most recent call last)",
                  "\u001b[0;32m/usr/local/lib/python3.9/dist-packages/ipywidgets/widgets/interaction.py\u001b[0m in \u001b[0;36mupdate\u001b[0;34m(self, *args)\u001b[0m\n\u001b[1;32m    255\u001b[0m                     \u001b[0mvalue\u001b[0m \u001b[0;34m=\u001b[0m \u001b[0mwidget\u001b[0m\u001b[0;34m.\u001b[0m\u001b[0mget_interact_value\u001b[0m\u001b[0;34m(\u001b[0m\u001b[0;34m)\u001b[0m\u001b[0;34m\u001b[0m\u001b[0;34m\u001b[0m\u001b[0m\n\u001b[1;32m    256\u001b[0m                     \u001b[0mself\u001b[0m\u001b[0;34m.\u001b[0m\u001b[0mkwargs\u001b[0m\u001b[0;34m[\u001b[0m\u001b[0mwidget\u001b[0m\u001b[0;34m.\u001b[0m\u001b[0m_kwarg\u001b[0m\u001b[0;34m]\u001b[0m \u001b[0;34m=\u001b[0m \u001b[0mvalue\u001b[0m\u001b[0;34m\u001b[0m\u001b[0;34m\u001b[0m\u001b[0m\n\u001b[0;32m--> 257\u001b[0;31m                 \u001b[0mself\u001b[0m\u001b[0;34m.\u001b[0m\u001b[0mresult\u001b[0m \u001b[0;34m=\u001b[0m \u001b[0mself\u001b[0m\u001b[0;34m.\u001b[0m\u001b[0mf\u001b[0m\u001b[0;34m(\u001b[0m\u001b[0;34m**\u001b[0m\u001b[0mself\u001b[0m\u001b[0;34m.\u001b[0m\u001b[0mkwargs\u001b[0m\u001b[0;34m)\u001b[0m\u001b[0;34m\u001b[0m\u001b[0;34m\u001b[0m\u001b[0m\n\u001b[0m\u001b[1;32m    258\u001b[0m                 \u001b[0mshow_inline_matplotlib_plots\u001b[0m\u001b[0;34m(\u001b[0m\u001b[0;34m)\u001b[0m\u001b[0;34m\u001b[0m\u001b[0;34m\u001b[0m\u001b[0m\n\u001b[1;32m    259\u001b[0m                 \u001b[0;32mif\u001b[0m \u001b[0mself\u001b[0m\u001b[0;34m.\u001b[0m\u001b[0mauto_display\u001b[0m \u001b[0;32mand\u001b[0m \u001b[0mself\u001b[0m\u001b[0;34m.\u001b[0m\u001b[0mresult\u001b[0m \u001b[0;32mis\u001b[0m \u001b[0;32mnot\u001b[0m \u001b[0;32mNone\u001b[0m\u001b[0;34m:\u001b[0m\u001b[0;34m\u001b[0m\u001b[0;34m\u001b[0m\u001b[0m\n",
                  "\u001b[0;32m<ipython-input-31-e22ab7f79408>\u001b[0m in \u001b[0;36mplot_objeto\u001b[0;34m(pos)\u001b[0m\n\u001b[1;32m     12\u001b[0m     \u001b[0mfig\u001b[0m\u001b[0;34m,\u001b[0m \u001b[0max\u001b[0m \u001b[0;34m=\u001b[0m \u001b[0mplt\u001b[0m\u001b[0;34m.\u001b[0m\u001b[0msubplots\u001b[0m\u001b[0;34m(\u001b[0m\u001b[0mfigsize\u001b[0m\u001b[0;34m=\u001b[0m\u001b[0;34m(\u001b[0m\u001b[0;36m6\u001b[0m\u001b[0;34m,\u001b[0m \u001b[0;36m6\u001b[0m\u001b[0;34m)\u001b[0m\u001b[0;34m)\u001b[0m\u001b[0;34m\u001b[0m\u001b[0;34m\u001b[0m\u001b[0m\n\u001b[1;32m     13\u001b[0m     \u001b[0max\u001b[0m\u001b[0;34m.\u001b[0m\u001b[0mplot\u001b[0m\u001b[0;34m(\u001b[0m\u001b[0mx\u001b[0m\u001b[0;34m,\u001b[0m \u001b[0my\u001b[0m\u001b[0;34m,\u001b[0m \u001b[0mcolor\u001b[0m\u001b[0;34m=\u001b[0m\u001b[0;34m'blue'\u001b[0m\u001b[0;34m)\u001b[0m\u001b[0;34m\u001b[0m\u001b[0;34m\u001b[0m\u001b[0m\n\u001b[0;32m---> 14\u001b[0;31m     \u001b[0max\u001b[0m\u001b[0;34m.\u001b[0m\u001b[0mplot\u001b[0m\u001b[0;34m(\u001b[0m\u001b[0mx\u001b[0m\u001b[0;34m[\u001b[0m\u001b[0mpos\u001b[0m\u001b[0;34m]\u001b[0m\u001b[0;34m,\u001b[0m \u001b[0my\u001b[0m\u001b[0;34m[\u001b[0m\u001b[0mpos\u001b[0m\u001b[0;34m]\u001b[0m\u001b[0;34m,\u001b[0m \u001b[0mmarker\u001b[0m\u001b[0;34m=\u001b[0m\u001b[0;34m'o'\u001b[0m\u001b[0;34m,\u001b[0m \u001b[0mmarkersize\u001b[0m\u001b[0;34m=\u001b[0m\u001b[0;36m10\u001b[0m\u001b[0;34m,\u001b[0m \u001b[0mcolor\u001b[0m\u001b[0;34m=\u001b[0m\u001b[0;34m'red'\u001b[0m\u001b[0;34m)\u001b[0m\u001b[0;34m\u001b[0m\u001b[0;34m\u001b[0m\u001b[0m\n\u001b[0m\u001b[1;32m     15\u001b[0m     \u001b[0max\u001b[0m\u001b[0;34m.\u001b[0m\u001b[0mset_aspect\u001b[0m\u001b[0;34m(\u001b[0m\u001b[0;34m'equal'\u001b[0m\u001b[0;34m)\u001b[0m\u001b[0;34m\u001b[0m\u001b[0;34m\u001b[0m\u001b[0m\n\u001b[1;32m     16\u001b[0m \u001b[0mplt\u001b[0m\u001b[0;34m.\u001b[0m\u001b[0mshow\u001b[0m\u001b[0;34m(\u001b[0m\u001b[0;34m)\u001b[0m\u001b[0;34m\u001b[0m\u001b[0;34m\u001b[0m\u001b[0m\n",
                  "\u001b[0;31mIndexError\u001b[0m: only integers, slices (`:`), ellipsis (`...`), numpy.newaxis (`None`) and integer or boolean arrays are valid indices"
                ]
              }
            ]
          }
        },
        "659e00c3e3a048c19fe2c59a6c748455": {
          "model_module": "@jupyter-widgets/base",
          "model_name": "LayoutModel",
          "model_module_version": "1.2.0",
          "state": {
            "_model_module": "@jupyter-widgets/base",
            "_model_module_version": "1.2.0",
            "_model_name": "LayoutModel",
            "_view_count": null,
            "_view_module": "@jupyter-widgets/base",
            "_view_module_version": "1.2.0",
            "_view_name": "LayoutView",
            "align_content": null,
            "align_items": null,
            "align_self": null,
            "border": null,
            "bottom": null,
            "display": null,
            "flex": null,
            "flex_flow": null,
            "grid_area": null,
            "grid_auto_columns": null,
            "grid_auto_flow": null,
            "grid_auto_rows": null,
            "grid_column": null,
            "grid_gap": null,
            "grid_row": null,
            "grid_template_areas": null,
            "grid_template_columns": null,
            "grid_template_rows": null,
            "height": null,
            "justify_content": null,
            "justify_items": null,
            "left": null,
            "margin": null,
            "max_height": null,
            "max_width": null,
            "min_height": null,
            "min_width": null,
            "object_fit": null,
            "object_position": null,
            "order": null,
            "overflow": null,
            "overflow_x": null,
            "overflow_y": null,
            "padding": null,
            "right": null,
            "top": null,
            "visibility": null,
            "width": null
          }
        },
        "2038e9b050f24a45ba72fedd66f5d442": {
          "model_module": "@jupyter-widgets/base",
          "model_name": "LayoutModel",
          "model_module_version": "1.2.0",
          "state": {
            "_model_module": "@jupyter-widgets/base",
            "_model_module_version": "1.2.0",
            "_model_name": "LayoutModel",
            "_view_count": null,
            "_view_module": "@jupyter-widgets/base",
            "_view_module_version": "1.2.0",
            "_view_name": "LayoutView",
            "align_content": null,
            "align_items": null,
            "align_self": null,
            "border": null,
            "bottom": null,
            "display": null,
            "flex": null,
            "flex_flow": null,
            "grid_area": null,
            "grid_auto_columns": null,
            "grid_auto_flow": null,
            "grid_auto_rows": null,
            "grid_column": null,
            "grid_gap": null,
            "grid_row": null,
            "grid_template_areas": null,
            "grid_template_columns": null,
            "grid_template_rows": null,
            "height": null,
            "justify_content": null,
            "justify_items": null,
            "left": null,
            "margin": null,
            "max_height": null,
            "max_width": null,
            "min_height": null,
            "min_width": null,
            "object_fit": null,
            "object_position": null,
            "order": null,
            "overflow": null,
            "overflow_x": null,
            "overflow_y": null,
            "padding": null,
            "right": null,
            "top": null,
            "visibility": null,
            "width": null
          }
        },
        "41a972c0711a48c0a2daf509876407e6": {
          "model_module": "@jupyter-widgets/controls",
          "model_name": "SliderStyleModel",
          "model_module_version": "1.5.0",
          "state": {
            "_model_module": "@jupyter-widgets/controls",
            "_model_module_version": "1.5.0",
            "_model_name": "SliderStyleModel",
            "_view_count": null,
            "_view_module": "@jupyter-widgets/base",
            "_view_module_version": "1.2.0",
            "_view_name": "StyleView",
            "description_width": "",
            "handle_color": null
          }
        },
        "45b26ced7f9242c4b9076b660de118b6": {
          "model_module": "@jupyter-widgets/base",
          "model_name": "LayoutModel",
          "model_module_version": "1.2.0",
          "state": {
            "_model_module": "@jupyter-widgets/base",
            "_model_module_version": "1.2.0",
            "_model_name": "LayoutModel",
            "_view_count": null,
            "_view_module": "@jupyter-widgets/base",
            "_view_module_version": "1.2.0",
            "_view_name": "LayoutView",
            "align_content": null,
            "align_items": null,
            "align_self": null,
            "border": null,
            "bottom": null,
            "display": null,
            "flex": null,
            "flex_flow": null,
            "grid_area": null,
            "grid_auto_columns": null,
            "grid_auto_flow": null,
            "grid_auto_rows": null,
            "grid_column": null,
            "grid_gap": null,
            "grid_row": null,
            "grid_template_areas": null,
            "grid_template_columns": null,
            "grid_template_rows": null,
            "height": null,
            "justify_content": null,
            "justify_items": null,
            "left": null,
            "margin": null,
            "max_height": null,
            "max_width": null,
            "min_height": null,
            "min_width": null,
            "object_fit": null,
            "object_position": null,
            "order": null,
            "overflow": null,
            "overflow_x": null,
            "overflow_y": null,
            "padding": null,
            "right": null,
            "top": null,
            "visibility": null,
            "width": null
          }
        },
        "eacd445e16d7414ca5e810cbc623f188": {
          "model_module": "@jupyter-widgets/controls",
          "model_name": "VBoxModel",
          "model_module_version": "1.5.0",
          "state": {
            "_dom_classes": [
              "widget-interact"
            ],
            "_model_module": "@jupyter-widgets/controls",
            "_model_module_version": "1.5.0",
            "_model_name": "VBoxModel",
            "_view_count": null,
            "_view_module": "@jupyter-widgets/controls",
            "_view_module_version": "1.5.0",
            "_view_name": "VBoxView",
            "box_style": "",
            "children": [
              "IPY_MODEL_04b8ff2cb9d74723a17f8abf7cbeb573",
              "IPY_MODEL_1466183d7b13450fa2054dfe642b49e0"
            ],
            "layout": "IPY_MODEL_f25ffd3bac6a450eb31a37e933912d75"
          }
        },
        "04b8ff2cb9d74723a17f8abf7cbeb573": {
          "model_module": "@jupyter-widgets/controls",
          "model_name": "FloatSliderModel",
          "model_module_version": "1.5.0",
          "state": {
            "_dom_classes": [],
            "_model_module": "@jupyter-widgets/controls",
            "_model_module_version": "1.5.0",
            "_model_name": "FloatSliderModel",
            "_view_count": null,
            "_view_module": "@jupyter-widgets/controls",
            "_view_module_version": "1.5.0",
            "_view_name": "FloatSliderView",
            "continuous_update": true,
            "description": "t",
            "description_tooltip": null,
            "disabled": false,
            "layout": "IPY_MODEL_06ae4196af324d2bb7c847024e51a954",
            "max": 6.283185307179586,
            "min": 0,
            "orientation": "horizontal",
            "readout": true,
            "readout_format": ".2f",
            "step": 0.1,
            "style": "IPY_MODEL_928de1c973e44056b588f3ebf0a5020a",
            "value": 6.2
          }
        },
        "1466183d7b13450fa2054dfe642b49e0": {
          "model_module": "@jupyter-widgets/output",
          "model_name": "OutputModel",
          "model_module_version": "1.0.0",
          "state": {
            "_dom_classes": [],
            "_model_module": "@jupyter-widgets/output",
            "_model_module_version": "1.0.0",
            "_model_name": "OutputModel",
            "_view_count": null,
            "_view_module": "@jupyter-widgets/output",
            "_view_module_version": "1.0.0",
            "_view_name": "OutputView",
            "layout": "IPY_MODEL_539f70e0596c4a5095e566f893d31b95",
            "msg_id": "",
            "outputs": [
              {
                "output_type": "display_data",
                "data": {
                  "text/plain": "<Figure size 640x480 with 1 Axes>",
                  "image/png": "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\n"
                },
                "metadata": {}
              }
            ]
          }
        },
        "f25ffd3bac6a450eb31a37e933912d75": {
          "model_module": "@jupyter-widgets/base",
          "model_name": "LayoutModel",
          "model_module_version": "1.2.0",
          "state": {
            "_model_module": "@jupyter-widgets/base",
            "_model_module_version": "1.2.0",
            "_model_name": "LayoutModel",
            "_view_count": null,
            "_view_module": "@jupyter-widgets/base",
            "_view_module_version": "1.2.0",
            "_view_name": "LayoutView",
            "align_content": null,
            "align_items": null,
            "align_self": null,
            "border": null,
            "bottom": null,
            "display": null,
            "flex": null,
            "flex_flow": null,
            "grid_area": null,
            "grid_auto_columns": null,
            "grid_auto_flow": null,
            "grid_auto_rows": null,
            "grid_column": null,
            "grid_gap": null,
            "grid_row": null,
            "grid_template_areas": null,
            "grid_template_columns": null,
            "grid_template_rows": null,
            "height": null,
            "justify_content": null,
            "justify_items": null,
            "left": null,
            "margin": null,
            "max_height": null,
            "max_width": null,
            "min_height": null,
            "min_width": null,
            "object_fit": null,
            "object_position": null,
            "order": null,
            "overflow": null,
            "overflow_x": null,
            "overflow_y": null,
            "padding": null,
            "right": null,
            "top": null,
            "visibility": null,
            "width": null
          }
        },
        "06ae4196af324d2bb7c847024e51a954": {
          "model_module": "@jupyter-widgets/base",
          "model_name": "LayoutModel",
          "model_module_version": "1.2.0",
          "state": {
            "_model_module": "@jupyter-widgets/base",
            "_model_module_version": "1.2.0",
            "_model_name": "LayoutModel",
            "_view_count": null,
            "_view_module": "@jupyter-widgets/base",
            "_view_module_version": "1.2.0",
            "_view_name": "LayoutView",
            "align_content": null,
            "align_items": null,
            "align_self": null,
            "border": null,
            "bottom": null,
            "display": null,
            "flex": null,
            "flex_flow": null,
            "grid_area": null,
            "grid_auto_columns": null,
            "grid_auto_flow": null,
            "grid_auto_rows": null,
            "grid_column": null,
            "grid_gap": null,
            "grid_row": null,
            "grid_template_areas": null,
            "grid_template_columns": null,
            "grid_template_rows": null,
            "height": null,
            "justify_content": null,
            "justify_items": null,
            "left": null,
            "margin": null,
            "max_height": null,
            "max_width": null,
            "min_height": null,
            "min_width": null,
            "object_fit": null,
            "object_position": null,
            "order": null,
            "overflow": null,
            "overflow_x": null,
            "overflow_y": null,
            "padding": null,
            "right": null,
            "top": null,
            "visibility": null,
            "width": null
          }
        },
        "928de1c973e44056b588f3ebf0a5020a": {
          "model_module": "@jupyter-widgets/controls",
          "model_name": "SliderStyleModel",
          "model_module_version": "1.5.0",
          "state": {
            "_model_module": "@jupyter-widgets/controls",
            "_model_module_version": "1.5.0",
            "_model_name": "SliderStyleModel",
            "_view_count": null,
            "_view_module": "@jupyter-widgets/base",
            "_view_module_version": "1.2.0",
            "_view_name": "StyleView",
            "description_width": "",
            "handle_color": null
          }
        },
        "539f70e0596c4a5095e566f893d31b95": {
          "model_module": "@jupyter-widgets/base",
          "model_name": "LayoutModel",
          "model_module_version": "1.2.0",
          "state": {
            "_model_module": "@jupyter-widgets/base",
            "_model_module_version": "1.2.0",
            "_model_name": "LayoutModel",
            "_view_count": null,
            "_view_module": "@jupyter-widgets/base",
            "_view_module_version": "1.2.0",
            "_view_name": "LayoutView",
            "align_content": null,
            "align_items": null,
            "align_self": null,
            "border": null,
            "bottom": null,
            "display": null,
            "flex": null,
            "flex_flow": null,
            "grid_area": null,
            "grid_auto_columns": null,
            "grid_auto_flow": null,
            "grid_auto_rows": null,
            "grid_column": null,
            "grid_gap": null,
            "grid_row": null,
            "grid_template_areas": null,
            "grid_template_columns": null,
            "grid_template_rows": null,
            "height": null,
            "justify_content": null,
            "justify_items": null,
            "left": null,
            "margin": null,
            "max_height": null,
            "max_width": null,
            "min_height": null,
            "min_width": null,
            "object_fit": null,
            "object_position": null,
            "order": null,
            "overflow": null,
            "overflow_x": null,
            "overflow_y": null,
            "padding": null,
            "right": null,
            "top": null,
            "visibility": null,
            "width": null
          }
        },
        "f869e79fc31345cba7f96550782f208d": {
          "model_module": "@jupyter-widgets/controls",
          "model_name": "VBoxModel",
          "model_module_version": "1.5.0",
          "state": {
            "_dom_classes": [
              "widget-interact"
            ],
            "_model_module": "@jupyter-widgets/controls",
            "_model_module_version": "1.5.0",
            "_model_name": "VBoxModel",
            "_view_count": null,
            "_view_module": "@jupyter-widgets/controls",
            "_view_module_version": "1.5.0",
            "_view_name": "VBoxView",
            "box_style": "",
            "children": [
              "IPY_MODEL_56f5f0863f5f43779f1521af6b3e8e49",
              "IPY_MODEL_d92dd6042b2942c4825cf7b409b1904c"
            ],
            "layout": "IPY_MODEL_dd2b6673bbe74543a6feaad4949bbd01"
          }
        },
        "56f5f0863f5f43779f1521af6b3e8e49": {
          "model_module": "@jupyter-widgets/controls",
          "model_name": "FloatSliderModel",
          "model_module_version": "1.5.0",
          "state": {
            "_dom_classes": [],
            "_model_module": "@jupyter-widgets/controls",
            "_model_module_version": "1.5.0",
            "_model_name": "FloatSliderModel",
            "_view_count": null,
            "_view_module": "@jupyter-widgets/controls",
            "_view_module_version": "1.5.0",
            "_view_name": "FloatSliderView",
            "continuous_update": true,
            "description": "t",
            "description_tooltip": null,
            "disabled": false,
            "layout": "IPY_MODEL_8660ee76b1af457a80fa8ce843e8aa7b",
            "max": 6.283185307179586,
            "min": 0,
            "orientation": "horizontal",
            "readout": true,
            "readout_format": ".2f",
            "step": 0.1,
            "style": "IPY_MODEL_089f838328a5461fbfb41188ed9da22b",
            "value": 4.9
          }
        },
        "d92dd6042b2942c4825cf7b409b1904c": {
          "model_module": "@jupyter-widgets/output",
          "model_name": "OutputModel",
          "model_module_version": "1.0.0",
          "state": {
            "_dom_classes": [],
            "_model_module": "@jupyter-widgets/output",
            "_model_module_version": "1.0.0",
            "_model_name": "OutputModel",
            "_view_count": null,
            "_view_module": "@jupyter-widgets/output",
            "_view_module_version": "1.0.0",
            "_view_name": "OutputView",
            "layout": "IPY_MODEL_b6bf04a2409645ce9c9b92e9901e63d5",
            "msg_id": "",
            "outputs": [
              {
                "output_type": "display_data",
                "data": {
                  "text/plain": "<Figure size 640x480 with 1 Axes>",
                  "image/png": "iVBORw0KGgoAAAANSUhEUgAAAhYAAAGdCAYAAABO2DpVAAAAOXRFWHRTb2Z0d2FyZQBNYXRwbG90bGliIHZlcnNpb24zLjcuMSwgaHR0cHM6Ly9tYXRwbG90bGliLm9yZy/bCgiHAAAACXBIWXMAAA9hAAAPYQGoP6dpAABIqklEQVR4nO3deVic1d0+8HtmYIZ1BoZhDfsSIGRPgJA9MZrEuHdRa2tsre3bWrVNbTVttca2b7T6Wvtrfa1ajfZtbVo1UVsTE7XZwxayb4RlIBDWmYEZ1gFmzu+PIZNMyAJkhlm4P9fFdcnzHJjv4QnM7XnOOY9ECCFARERE5ARSdxdAREREvoPBgoiIiJyGwYKIiIichsGCiIiInIbBgoiIiJyGwYKIiIichsGCiIiInIbBgoiIiJzGb6xf0Gq1oqGhAaGhoZBIJGP98kRERDQKQgh0dHQgLi4OUumVxyXGPFg0NDQgISFhrF+WiIiInKCurg7x8fFXPD/mwSI0NBSArTClUjnWL09ERESjYDKZkJCQYH8fv5IxDxbnb38olUoGCyIiIi9zrWkMnLxJRERETsNgQURERE7DYEFEREROw2BBRERETsNgQURERE7DYEFEREROw2BBRERETsNgQURERE7DYEFEREROw2BBRERETsNgQURERE7DYEFEREROM+YPISMi39Ns6kVpjQGlWgNmJoXj9ukT3F0SEbkJgwURjYgQAlpdF0prDCjRtqG0xoCzhm77+ZYOM4MF0TjGYEFEVzVgseJUYwdKBkckDtQaoOvsc2gjkQDZMUrkpaixcKLGTZUSkSdgsCAiB739Fhw62267tVFjwMHaNnT1WRzayP2kmB4fhtyUcOQmqzEzKRzKAH83VUxEnoTBgmicM3b340CtwT4iceycEf0W4dAmNMAPs5PCkZuiRm6yGlPjVVD4ydxUMRF5MgYLonGmydhrDxGlNQaUN3dAOOYIRIUqkDcYInKT1ciMCYVMKnFPwUTkVRgsiHyYEALVui6UagdHJGoMqDP0DGmXqgm2hYgUNfKS1UhQB0IiYZAgopFjsCDyIRarwKlGE0q0BpRcYaKlVAJMilMiN9kWImYnqxEZqnBTxUTkaxgsiLyYecCCo/VGe5A4WNuGDvOAQxu5nxTTE8KQNzgiMTMxDKGcaElELsJgQeRFOs0DOFhr2zuiWGvA4bp29A1YHdqEKvwwOzncfltjCidaEtEYYrAg8mBtXX2DG1HZ5kicaDDBYnWcaakJkdsnWualqJEVo+RESyJyGwYLIg/SYupF8eBtjRKtbcXGpeLDA5E3OBqRl6JGiiaYEy2JyGOMOFicO3cOTzzxBLZu3Yru7m6kp6djw4YNmD17tivqI/Jp9W3dKK6+MCKh1XUNaZMRFYLcFDXyB0cl4sIC3VApEdHwjChYtLW1Yd68eViyZAm2bt2KyMhIVFRUIDw83FX1EfmM88/YuHhE4ly749JPiQSYFGvbGvt8kIgI4YoNIvIeIwoWzz//PBISErBhwwb7sZSUFKcXReQLhBCobOlEkdaAomo9SrQGtHaYHdr4SSWYEq+yB4lZSWqoArlig4i814iCxccff4zly5fjK1/5Cnbt2oUJEybg+9//Ph566CFX1UfkNaxWgTMtHSiuvhAk9F2Oe0jI/aSYkRCG/BQ18lIiMCMxDMEKTnUiIt8xor9o1dXVePXVV7FmzRr87Gc/Q2lpKR599FHI5XKsXr36sl9jNpthNl/4vzSTyXR9FRN5CKtV4FSTCcXVBhRrbUGirbvfoU2AvxSzksKRnxKB/BQ1piWEIcCfSz+JyHdJhLj0KQFXJpfLMXv2bOzfv99+7NFHH0VpaSkKCwsv+zXPPPMM1q1bN+S40WiEUqkcRclE7mG1CpxsNKGoWo+iagNKtHqYeh03owr0l2F2cjjmpNqCxNT4MMj9pG6qmIjIeUwmE1Qq1TXfv0c0YhEbG4tJkyY5HMvOzsYHH3xwxa9Zu3Yt1qxZ41BYQkLCSF6WyC2sVoHy5g4UVulROHhrw9jjOCIRLJcNrtiIQH6qGlMmqOAvY5AgovFrRMFi3rx5KC8vdzh25swZJCUlXfFrFAoFFArOaifPJ4TAmeZOFFbpUDR4e+PSWxshCj/kDo5IzEmNQE6cEn4MEkREdiMKFj/60Y8wd+5c/Pd//ze++tWvoqSkBK+//jpef/11V9VH5DJCCFS1dtpHJIqrh062DJLLkJusxpzUCBSkRWAygwQR0VWNaI4FAPz73//G2rVrUVFRgZSUFKxZs2ZEq0KGe4+GyBXqDN3YX6XD/io99lfphyz/DPCX2oPEnNQITI3nrQ0iImD4798jDhbXi8GCxlJLRy8Kq/TYX6nH/mod6gyOG1Ip/GyrNgoGRyQ42ZKI6PJcMnmTyNMZu/tRpNVjf6VtVKKipdPhvJ9UgmkJYZiXFoGCNA1mJHL5JxGRMzFYkFfr7begrLYNeyp02Fepw/EGIy4egzu/Rfa8dA0K0iKQm6xGCDekIiJyGf6FJa9yfi+JvZU67K3QobTGAPOA1aFNWmQw5qVrMDctAvkpEQgPlrupWiKi8YfBgjxenaHbFiQqddhfqRuyBDRaqcD89EjMS4/AvHQNopUBbqqUiIgYLMjjGHv6sb9Shz2Vttsbtfpuh/MhCj/MSVVjfroG8zM0SIsMgUQicVO1RER0MQYLcjuLVeBIfTt2n2nF7jOtOFzXDutF8yT8pBLMSAzDvHQNFmRoMDU+jEtAiYg8FIMFuUVDe48tSFS0Ym+FbsgzN9KjQjB/MEjkp0ZwwiURkZfgX2saEz19FhRp9fZRiarWLofzygA/zM/QYGFGJBZMjMSEsEA3VUpERNeDwYJcRqvrwo7TLdhR3oJirQF9F63ekEqA6QlhWJARiYUTIzEtXsWtsomIfACDBTlNb78FRdV67Cxvxc7yFtRcMukyThWAhRNtQWJemgaqIH83VUpERK7CYEHXpc7QjR3lLdhZ3or9VTr09l8YlfCXSZCbrMaSzCgszoxEehRXbxAR+ToGCxqRAYsVpTVt+OJUM3aUtwyZKxGjDMCSrEgsmhiFeekRCA3gqAQR0XjCYEHXZOzpx64zrfj8ZDN2lrc4rOCQSSWYlRRuH5XIignlqAQR0TjGYEGXVavvwmcnm/HFqRaU1hgwcNHGEuFB/liSFYWlWVFYkBEJVSBHJYiIyIbBggDYNqk6dLYNn52yhYnKS54Kmh4VgmXZ0ViWHYUZieGQSTkqQUREQzFYjGN9A1bsr9Jh24lmfHayCbrOPvs5P6kEeSlq3DAYJpIigt1YKREReQsGi3Gmu28Au8pb8emJJvzndAs6LpovoQzww5KsKNyQHY1FE3mLg4iIRo7BYhxo7+7D56dasO1EE3afaXV4zHhkqAI3TYrGiskxmJMawWdwEBHRdWGw8FFtXX3YdqIJnxxrxP4qPSwXTb5MVAdhxeQYLM+JxoyEcEg5X4KIiJyEwcKHGLv7se1kEz452oh9lTqHlRxZMaFYnhOD5TkxyI7lklAiInINBgsv19Hbj89ONuPfRxuxp6IV/ZYLYWJSrBKrpsZi1ZRYJGs4+ZKIiFyPwcIL9fRZ8NmpZvzrSAN2nWl1eLhXZnQobpkai1VTY5EaGeLGKomIaDxisPASFqtAcbUemw6dw6fHm9BpvrCaIy0yGLdMjcMtU2ORER3qxiqJiGi8Y7DwcOVNHdh0qB4fHWpAk6nXfjw+PBC3T4/DrdPikBnNORNEROQZGCw8UIupFx8dbsDmQ+dwstFkP64M8MOqqXG4a+YEzE4KZ5ggIiKPw2DhIfotVuw43YJ/lNZhR3kLzi/o8JdJsCQzCnfNnIDFmVEI8Je5t1AiIqKrYLBwsxpdF/5xoA7vl9WjtcNsPz4zMQx3zozHLVNiER4sd2OFREREw8dg4Qa9/RZsO9GEjSV1KKzW249rQuT40qx4fHV2AtK4ooOIiLwQg8UYqm7txF8Ka7H50DkYe/oBABIJsGhiJO7JTcDSrGjI/bilNhEReS8GCxezWgV2VbTinf012Fneaj8+ISwQX5kdj6/MTsCEsEA3VkhEROQ8DBYu0tHbjw/K6vFOYS20ui4AttGJJZlR+EZBEhZmRELGZ3QQEZGPYbBwMq2uC+/sr8H7ZfX2TaxCFX74yuwE3F+QxK21iYjIpzFYOMnxc0a8urMKW443QgwuFU2LDMYDc5Nx18x4BCv4oyYiIt/Hd7vrVKI14JUdldh15sL8iaVZUfjmvGTMT9dwEysiIhpXGCxGQQiBHeUt+N8dVThQ2wYAkEqAW6fF4XuL05AVo3RzhURERO7BYDECQgjsLG/FC9vK7Vtty2VSfHl2PL67MBVJEZw/QURE4xuDxTCV1Rrw/NZylNQYAADBchm+PicJD85PQZQywM3VEREReQYGi2s409yB335ajs9PNQMAFH5SPDA3Gd9bnIawIG61TUREdDEGiytoMvbixe3l2HSwHlZhm0Px1dkJeGxZBmJV3NCKiIjochgsLjFgseIvhbX4n+3l6OqzAABW5MTg8eWZSI/i8zuIiIiuhsHiIofOtuHnm4/bJ2bOSAzD07dMwozEcDdXRkRE5B0YLAAYu/vx/LbT+HvJWQgBqAL98cSKLNyTmwApt90mIiIatnEfLHafacWafx6BrtMMAPjSzHisvTkLmhCFmysjIiLyPiN6RvczzzwDiUTi8JGVleWq2lyqb8CK9VtO4f63SqDrNCMtMhgbvzMH//PVaQwVREREozTiEYucnBx8/vnnF76Bn/cNemh1XXhs4yEcrTcCAL4xJwk/X5WNAH+ZmysjIiLybiNOBX5+foiJiXFFLWPiX0ca8MQHR9HdZ0FYkD+e/9JULM/x3v4QERF5khEHi4qKCsTFxSEgIAAFBQVYv349EhMTr9jebDbDbDbbPzeZTKOr9DoJIfD67mqs33oaAJCfosbL90znnhRERERONKI5Fvn5+Xj77bfx6aef4tVXX4VWq8WCBQvQ0dFxxa9Zv349VCqV/SMhIeG6i74miwXYuRP4+9+BnTth6R/Aun+dtIeKb81LwbsPzWGoICIicjKJEEKM9ovb29uRlJSEl156CQ8++OBl21xuxCIhIQFGoxFKpQueArppE/DYY0B9PQCgV+aPNV/5BbYkzQIA/GJVNr69INX5r0tEROTDTCYTVCrVNd+/r2vmZVhYGCZOnIjKysortlEoFFAoxmiVxaZNwJe/DAxmJYtEikdv+ym2J82Cv6Uf/zMRuI2hgoiIyGVGdCvkUp2dnaiqqkJsbKyz6hk9i8U2UnHRAMx/L/kWtk8sgHygDxveX4fbfvWorR0RERG5xIiCxeOPP45du3ahpqYG+/fvx5133gmZTIZ7773XVfUN35499tsfAPDOzFvwZu4dAID/+eR3mF9zGKirs7UjIiIilxjRrZD6+nrce++90Ov1iIyMxPz581FUVITIyEhX1Td8jY32/9ybNA3rbngIAPCTXe/g1tN7LtuOiIiInGtEwWLjxo2uquP6Dd6O6ZX542fLfwCrVIavHP0M3y9677LtiIiIyPm8b9vMK1mwAIiPx+uJ83E2PBbRHXr88ovXYX+EmEQCxMfb2hEREZFL+E6wkMlQ99vf45UDtk9/8Z8/I6Svx/aJZDBevPwyIOO23URERK5yXatCPM3rgRNh9legoOk0brl4XkV8PPD++8Bdd7mvOCIionHAZ0YsLFaBrcdtEzO/+8R9kDwwyzZRMzbWdvuDIxVEREQu5zPBolirh66zD6pAf8ybGAVk88FiREREY81nboVsO94EAFiREwN/mc90i4iIyKv4zDtwjb4bADArOdzNlRAREY1fPhMsjD39AICwQH83V0JERDR++VywUDFYEBERuY3PBAuL1fbwMeuoHwJPRERE18tngkVmTCgA4ESD0c2VEBERjV8+EyymTFABAI6fY7AgIiJyF98JFvG2YFFa02a/LUJERERjy2eCRX6KGuFB/jjX3mPfgZOIiIjGls8EiyC5H1bPTQYA/GlXFYTgqAUREdFY85lgAQCrC5IR6C/D8XMm7ChvcXc5RERE445PBYvwYDm+PicRAPDEB8eg6zS7uSIiIqLxxaeCBQCsuTETGVEhaO0w4/H3jsDKiZxERERjxueCRaBchj98bQYUflLsLG/Fn/dWu7skIiKiccPnggUAZMUo8dQtkwAA67eexgdl9W6uiIiIaHzwyWABAPflJ+LrcxIhBPD4+0ew+RDDBRERkav5bLCQSCR49rbJ+Fq+LVz8+J9H8OGhc+4ui4iIyKf5bLAAAKlUgl/fPhn35iXAKoA1/zyMN3ZXc48LIiIiF/HpYAHYwsVv7piC+/ITYRXAb7acwmMbD6Onz+Lu0oiIiHyOzwcLYHDk4o7JePb2HPhJJfj4SAPuenU/6gzd7i6NiIjIp4yLYAHY5lzcX5CMv307H5oQOU41mnDrH/fis5PN7i6NiIjIZ4ybYHFefmoE/vXIfEyLV6G9ux8P/eUAfvSPw2jv7nN3aURERF5v3AULAIhVBeIf3y3AdxelQioBNh86hxt/t5ujF0RERNdpXAYLAAjwl2Htymx88L25SIsMRmuHGQ/95QB+uPEQDF0cvSAiIhqNcRsszpuRGI5PHl2A/1qUBqkE+PBwAxa/sANv7tWib8Dq7vKIiIi8ikSM8aYOJpMJKpUKRqMRSqVyLF/6mg7XtWPtpmM41WgCAKRqgvHzVdlYmhUFiUTi5uqIiIjcZ7jv3wwWl7BYBd47UIcXt5dD12m7JbIgQ4NfrJqEzJhQN1dHRETkHgwW16mjtx9/3FGJDXtr0GexQioBvjQzHo8szUBiRJC7yyMiIhpTDBZOUqvvwvotp/HpiSYAgEwqwZdmTsAjSzOQoGbAICKi8YHBwsnKatvw+y8qsPtMKwDATyrBl2fF4+El6QwYRETk8xgsXKSs1oCXP6/AngodgAsB4zsLU5EaGeLm6oiIiFyDwcLFDtQY8PsvLgQMiQRYlh2NhxakIjc5nKtIiIjIpzBYjJEDNQa8urMKX5xusR+bFq/CtxekYuXkGPjJxv1WIURE5AMYLMZYZUsn3tyrxQcH6+0ba00IC8S35qfg7twEhCj83FwhERHR6DFYuImu04z/K6zF/xXV2rcGD5bLcMeMCfj6nCRkx/pen4mIyPcxWLhZb78Fmw6ew5t7q1HV2mU/PispHF+fk4iVk2MR4C9zY4VERETDx2DhIYQQKKzW429FZ7HtRBMGrLYfd3iQP74yOwFfy0tEsibYzVUSERFd3XDfv69rZuFzzz0HiUSCH/7wh9fzbXyaRCLB3DQNXrlvJvY/uRSP3zQRE8IC0dbdj9d3V2Pxizvx9T8X46PD59Dbb3F3uURERNdl1DMKS0tL8dprr2Hq1KnOrMenRSkD8IOlGfje4nTsON2CvxXXYueZVuyt1GFvpQ6hAX64dVocvjwrHjMSwrhklYiIvM6ogkVnZyfuu+8+vPHGG/j1r3/t7Jp8nkwqwbJJ0Vg2KRp1hm68V1aPD8rqca69B+8Wn8W7xWeRFhmML89KwJ0zJiBGFeDukomIiIZlVHMsVq9eDbVajd/97ndYvHgxpk+fjpdffnlYXzve5lgMl9UqUFStx/tl9dhyvBG9/bYlq1IJsCAjEl+aFY8bs6MRKOeETyIiGnvDff8e8YjFxo0bcfDgQZSWlg6rvdlshtlsdiiMhpJKJZibrsHcdA3W3Z6DLcca8X5ZPUpr2rDrTCt2nWlFsFyGm3JicNu0OMzP0MCfm28REZGHGVGwqKurw2OPPYbPPvsMAQHDG55fv3491q1bN6rixqvQAH/cnZuIu3MTodV14YOyenx4+Bzq23qw+dA5bD50DuFB/rh5SixumxaH3GQ1pFLOxyAiIvcb0a2QDz/8EHfeeSdksgvD8RaLBRKJBFKpFGaz2eEccPkRi4SEBN4KGSEhBA6ebce/jjTg30cboOvss5+LVQXg1mlxuG1aHHLilJz0SURETueSfSw6OjpQW1vrcOyb3/wmsrKy8MQTT2Dy5MlOK4yubMBiRWG1Hh8dbsC2403oMA/Yz6VqgrFySgxWTo5lyCAiIqcZsw2yOHnTvXr7LdhZ3oKPjzTgi1MtMA8+pwQAEtVB9pAxLV7FkEFERKPmssmb5FkC/GVYMTkWKybHotM8gP+cbsHWY43YUd6Cs4ZuvLarGq/tqsaEsECsmByDm6fEYEZCOOdkEBGRS3BLbx/V3TeAneWt2HKsEf853YLuvgu7ekYrFViRE4ObcmKQl6Lm6hIiIromPiuE7Hr7Ldh1phVbjzXi81Mt6LxoToYywA9Ls6Jw46QYLMqM5OPdiYjoshgs6LLMAxbsOaPD9pNN+PxUi/3R7gAgl0kxNz0CN06Kxo3Z0YhScsdPIiKyYbCga7JYBQ6ebcNnJ5ux/UQTavTdDuenJYThpknRuGlSNNKjQjj5k4hoHGOwoBERQqCypRPbTzZj+8lmHKlrdzifoA7E0swoLM2ORn6KGgH+3FqciGg8YbCg69Js6sXnp5qx/UQzCqv06LNcWMYa6C/DvHQNbsiOwpLMKD4kjYhoHGCwIKfpMg9gX6UOO8pb8J/TLWg2mR3O58QpsTQrCkuyojAtPgwyLmUlIvI5DBbkEkIInGgwYcfpFvynvAWH69px8b+giGA5Fk2MxKLMSCzIiIQ6WO6+YomIyGkYLGhM6DvN2Fneiv+Ut2B3eavD9uISCTB1ggqLMqOwaGIkpidwNIOIyFsxWNCY67dYceCix7yfajQ5nFcF+mN+hsY2ojExEtFczkpE5DUYLMjtmk299pCx50wrTL0DDuezY5VYNDESCydqMCspHAo/rjQhIvJUDBbkUQYsVhypN9qCRnkLjp4zOszNCPSXIT9VjfnpGiycGIkM7ptBRORRGCzIo+k7zdhbqcPO8lbsqdBB1+m40iRaqcC8dA0WZkRiXroGkaEKN1VKREQAgwV5ESEEyps7sOeMDrsrWlGiNTg8/h2w3TZZkKHBggwNcpO5QRcR0VhjsCCv1dtvwYGaNuypbMWeMzqcvGQSqNxPitzkcMxN02BeugZTJqi42oSIyMUYLMhn6DrN2Fepw54KHfZUtA7ZoEsZ4Ic5qRGYl67BvPQIpEVyfgYRkbMxWJBPEkKgqrUT+yr12FepQ2G1Hh2XrDaJViowL02DuYNBI1YV6KZqiYh8B4MFjQsDFiuON5iwr1KH/VU6lNa0oe+S+RmpkcGYl6ZBQVoE5qRGcDdQIqJRYLCgcam334Ky2jbsq9RhX5Uex+rbYb3kX3hWTCjmDgaNvBQ1VIH+7imWiMiLMFgQATD29KOoWo/CKttHeXOHw3mpBJg8QYWC1AjMSYtAXrIawQo/N1VLROS5GCyILkPXaUZRtR77q/QoqtKjWtflcN5PKsHUeJV9RGNmYjgC5VzaSkTEYEE0DE3GXhRW61BYZQsb9W09DuflMimmJ4RhTqoac1IjMINBg4jGKQYLolGoM3Sj8KJbJ02mXofz/jLJYNCwTQTliAYRjRcMFkTXSQiBs4ZuFFXrUVRtYNAgonGNwYLIyS4NGkXVejQahwaNafFhyE9VIz8lArOSwjkZlIh8AoMFkYsJIVBn6BkMGnoUXiZoyKQSTJ6gwpwUNfJT1ZiVxOWtROSdGCyIxtj5EY3iagOKtQYUa4dOBpVIgEmxSuSn2PbQyE9RI5wbdhGRF2CwIPIA59p7UKLV28OG9pLlrQCQGR1qCxmpauQlqxGlDHBDpUREV8dgQeSBmk29KBkczSiuNqCipXNImxRNMPKS1chLsX3EhwfyoWpE5HYMFkReQN9pRmmNAUXVBpRoDTjVZMKlv5GxqgB7yMhPUfPprUTkFgwWRF7I2NOPg7VtKNYaUKLV42i9EQOXPOxEHSxHXrIauYNBIztWCZmUQYOIXIvBgsgH9PRZcOisLWiU1hhw8Gwbevsdn94aqvDDzKRw5KWokZusxtR4FQL8uZcGETkXgwWRD+obsOLYOSNKBkc0DtS0ocM84NBG7ifF9Pgw5KaEIzdZjVlJ4QgN4BJXIro+DBZE44DFKnC6yYRSrQElNQaUaNug6zQ7tJFKgElxSuQmq+23UDQhCjdVTETeisGCaBwSQqBG341SrcF+++SsoXtIu9RI28qT3MGPBDVXnhDR1TFYEBEA2xNcS2tsq05Kawwob+4YsvIkWqmwjWgMztPIjA6FlBNCiegiDBZEdFnG7n4cqLXdOinVGnDsnBH9Fsc/A6EBfpidFI7cFNvtkynxKij8OCGUaDxjsCCiYenps+BwXTtKawZXntS2oavP4tCGE0KJiMGCiEZlwGLFqcYO+4hGaY0B+q4+hzZSCZAdq7TP0chNCUdUKLciJ/JlDBZE5BRCCFTrunBgcNXJlSaEJkUEOaw8SY4I4oRQIh/CYEFELtNssk0ItS1zbcPpy2xFrglRIDc53D4pNCsmFH4yqXsKJqLrxmBBRGPG2NOPg2fb7LdOjtQZ0Wdx3CE0ROGHGYlh9hGN6Qlh3CGUyIswWBCR2/T2W+w7hJbWGFB2mR1C/WUSTJmgsq88mZ2khiqIE0KJPBWDBRF5jPM7hB6oabNPCm3pcNwhVCIBMqNDByeDqpGbHI5YVaCbKiaiS7kkWLz66qt49dVXUVNTAwDIycnB008/jZUrVzq9MCLyXUIInDV020c0DtS0oVrXNaRdfHig/dZJbrIaaZHBnBBK5CYuCRb/+te/IJPJkJGRASEE3nnnHbzwwgs4dOgQcnJynFoYEY0vrR1m28qTwf00TjaYcMkT4xERLLePaOQlq5EdywmhRGNlzG6FqNVqvPDCC3jwwQedWhgRjW8dvf04dLbdvh35obp29A0MnRA6MykceYOrT6ZxQiiRywz3/dtvtC9gsVjw3nvvoaurCwUFBVdsZzabYTZfuJdqMplG+5JENI6EBvhj4cRILJwYCQAwD1hwrN5on6Nx/pHxu8+0YveZVgCAXCbF1HiV7ZknKbYdQpXcIZRoTI14xOLYsWMoKChAb28vQkJC8O677+Lmm2++YvtnnnkG69atG3KcIxZEdD0ufmR8aU0birWGyz4yPjtWibwUNfIH52lE8JHxRKPislshfX19OHv2LIxGI95//338+c9/xq5duzBp0qTLtr/ciEVCQgKDBRE51cWPjC8ZvH1yuR1C06NCkDc4RyMvRY24MK48IRqOMZtjsWzZMqSlpeG1115zamFERNerydhrv3VSorU9Mv5S8eGB9hGNvJQIbkVOdAUun2NxntVqdRiRICLyFDGqANw2LQ63TYsDALR19dkng5bWGHC8wYT6th7Ut53DpoPnANi2Is9PUSM/1TaiMTEqFFIpgwbRcI0oWKxduxYrV65EYmIiOjo68O6772Lnzp3Ytm2bq+ojInKa8GA5bsqJwU05MQCATvMADta2oWRwRONwfTt0nWZ8cqwRnxxrtH1NkD9yk9XIT41Afooa2bFKyBg0iK5oRMGipaUF999/PxobG6FSqTB16lRs27YNN954o6vqIyJymRCFn8PKk95+C47WG1FcrUfJ4MZdbd392H6yGdtPNgMAQgP8bEEjxTaiMXmCCv7cS4PIjlt6ExFdQb/FimPnjCiuNqBYq8eBmjZ0XvLMkyC5DLOSwpGfosac1AhMjQ+D3I9Bg3wPnxVCRORkAxYrTjV2oFirR1G1bZ6GsaffoU2AvxSzksIxJyUCc9IiMI1Bg3wEgwURkYtZrQLlzR0ortajWGtAsdYAQ1efQ5tLg8bUeBUUftwdlLwPgwUR0RgTQqCipRNF1frBDwYN8h0MFkREbjaSoFGQGoGCNA2mxnMyKHkmBgsiIg8jhEClPWgYUFSth/6SoBEslyE3RY2C1AjMTdNgUhyXt5JnYLAgIvJw50c0Cqv0KKzSo0irR3u342RQZYAf8lMjBkc0IpAZzQ27yD0YLIiIvIzVKnCqyWQPGiVaAzouWd6qDpZjTqoaBWkazE/XcAtyGjMMFkREXm7AYsWJBhP2V+lRWK1HqdaAnn6LQ5s4VQDmpmswLz0C89I0iFIGuKla8nUMFkREPqZvwIqj9e3YX6XH/iodDta2o89idWiTERWCeekazE2zrTpRBvi7qVryNQwWREQ+rqfPgtIaA/ZV6bC/Uo/jDUZc/BddKgGmxofZRzNmJoUjwJ9LW2l0GCyIiMaZ9u4+FFbp7UGjWtflcD7AX4q8lAgsSNdgwUQNMqNDOT+Dho3BgohonGto78H+Kj32Veqwr1KHlg6zw/nIUAUWpGswP8P2ERXK+Rl0ZQwWRERkd35p654KHfZUtKKoWo/efsf5GVkxoViQocH8jEjkJasRKOdtE7qAwYKIiK7IPGBBWW0b9lTosLdCN2R+htxPirxkNRZO1GDRxChMjA7hbZNxjsGCiIiGzdDVh32VttGMPRU6NBp7Hc7HqgKwaGIkFk2MxNx0DVSBXG0y3jBYEBHRqAghUNXahd1nWrHrjO22iXngwm0TmVSCmYlhg0EjCjlxSu4GOg4wWBARkVP09ltQrDVgV3krdp1pQVWr42qTiGA5Fg6OZiyaGInwYLmbKiVXYrAgIiKXqDN0Y9fgaMb+Sh26+i7sBiqVADMSw7E0KwpLs6KQFcMlrb6CwYKIiFyub8CKsto27DrTip3lLTjd1OFwPk4VgCVZUbghOwoFqRquNPFiDBZERDTmzrX3YMfpFvzndAv2Veoc5mYo/KSYl67BksHRjAlhgW6slEaKwYKIiNyqt9+Cwio9vjjdjB2nW3GuvcfhfFZMKG6aFI0bJ8Vg8gQlb5l4OAYLIiLyGEIIlDd34D+nW7DjdAvKattgvejdJ04VgGWTonHjpGjkp0RA7id1X7F0WQwWRETksdq6+rCjvAWfnWzGrjOt6L5oAmhogB+WZEbhxknRWJwZiVA+odUjMFgQEZFX6O23YH+VDp+dbMZnJ1ug67zwTBN/mQRzUiOwPCcGy3NiEBmqcGOl4xuDBREReR2rVeBQXTs+O9mM7SebUH3RnhkSCZCXrMbKyTFYMTkWMSo+NG0sMVgQEZHXq2rtxPYTzfj0RBOO1LU7nJuVFI6Vk2OwckosV5iMAQYLIiLyKfVt3fj0eBO2Hm9CWW2bw7lpCWFYOTkGN0+ORWJEkJsq9G0MFkRE5LOajL349HgjthxvQmmNweHJrNMSwnD7tDjcMjUWUUreLnEWBgsiIhoXWjp6se1EM7Yea0RRtd6+jFUqAQrSInDbtDisyImFKoirS64HgwUREY07LR292HK0ER8dacChs+3243KZFIsyI3H79DjckBXNrcVHgcGCiIjGtTpDNz4+0oCPDzegvPnCM0yC5TIsz4nBl2fFY05qBB/5PkwMFkRERINON5nw8eEGfHykAfVtF7YWnxAWiC/NiseXZ8Zz0uc1MFgQERFdQgiBg2fbselgPT4+0oCO3gH7ubwUNb4yKx43T4lFsMLPjVV6JgYLIiKiq+jtt2D7yWa8d6AOeyt19pUlQXIZVk6OxVdmxyM/Rc2How1isCAiIhqmRmMPNh08h/fL6qHVXdjtMz0qBPflJ+KumfFQBY7vVSUMFkRERCNku1XShvcO2G6VnH84WqC/DLdNi8N9cxIxNT7MvUW6CYMFERHRdTD19uPDQ+fw16JanGnutB+fGq/C1/OTcOu0uHG1bJXBgoiIyAmEEDhQ24a/FtVi67Em9FmsAABlgB/uzU/EA3OTEavy/WeVMFgQERE5mb7TjPfK6vG34lrUGWzLVv2kEtw6LQ7fXpCCnDiVmyt0HQYLIiIiF7FaBb443YI39lSjRGuwH5+bFoGHFqZi8cRIn1tNwmBBREQ0Bo7UteONPdXYerwJlsEHlWREheA7C1Nx54wJ8JNJ3VyhczBYEBERjaH6tm5s2FeDf5TWodNs23grKSIIjyzNwB3T47w+YAz3/XtEvVy/fj1yc3MRGhqKqKgo3HHHHSgvL7/uYomIiLxdfHgQnrplEvavXYonVmRBHSxHrb4bj793BMte2oUPyuoxMDjx05eNaMRixYoVuOeee5Cbm4uBgQH87Gc/w/Hjx3Hy5EkEBwcP63twxIKIiMaDLvMA/q+oFq/vroahqw8AkKIJxiNL03H79AmQednDz8bkVkhrayuioqKwa9cuLFy40KmFERER+YIu8wD+UliL13dXoa27HwCQFROKp26ZhHnpGjdXN3wuuRVyKaPRCABQq9XX822IiIh8VrDCD99bnIY9TyzFT1dkQhXoj9NNHbjvz8X49jsHHLYQ9wWjHrGwWq247bbb0N7ejr17916xndlshtlstn9uMpmQkJDAEQsiIhqX2rv78PLnFfi/olpYrAL+MgkemJuMHyzN8Ojnkbh8xOLhhx/G8ePHsXHjxqu2W79+PVQqlf0jISFhtC9JRETk9cKC5Hjmthxs++ECLM6MRL9F4I09Wix5cSfeL6vHGC/WdLpRjVj84Ac/wEcffYTdu3cjJSXlqm05YkFERHRlO8pb8Ot/n0RVq+2WyJLMSKy/aypiVAFursyRSyZvCiHwyCOPYPPmzdi5cycyMjJcVhgREdF40W+x4vXd1fj95xXos1gRGuCHp2+ZhC/PiveYHTxdcivk4Ycfxl//+le8++67CA0NRVNTE5qamtDT03PdBRMREY1X/jIpHl6Sjk8enY9p8Sp09A7gJ+8fxTffLkWTsdfd5Y3IiEYsrpSaNmzYgAceeGBY34MjFkRERFc2YLHiz3u1eOmzM+gbsEITIscrX5uJ/NQIt9bFLb2JiIi8WGVLBx75+2GcajTBTyrBU7dMwv0FSW67NTIm+1gQERGRa6RHhWLT9+bitmlxGLAK/PLjE3j8vaPo7be4u7SrYrAgIiLyUIFyGX5/z3T8/OZsSCXABwfrce8bRTD19ru7tCtisCAiIvJgEokEDy1MxV++lQ9VoD8OnW3H/W+WeGy4YLAgIiLyAvMzNPj7Q3MQFuSPw3XtWP1WCTo8MFwwWBAREXmJSXFK/O3b+QgLGhy5eKsEXeYBd5flgMGCiIjIi+TEqfDXBy/cFnnqo+PuLskBgwUREZGXmTxBhTfunw2pBNh08Bw2Hax3d0l2DBZEREReKC9FjcdumAgA+MWHxz3m8esMFkRERF7qB0vTkZ+iRnefBT99/4hHPBmVwYKIiMhLyaQS/O7u6ZD7SVFa04YSrcHdJTFYEBERebO4sEB8eVY8AODVXVVurobBgoiIyOt9Z0EqpBJgZ3krTjWa3FoLgwUREZGXS9YEY1l2NADg85PNbq2FwYKIiMgH5KWoAQDHzhndWgeDBRERkQ+YGh8GgMGCiIiInGBSnBIA0GjshbHHfc8QYbAgIiLyARfvYaHwc9/bO4MFERGRDzg/SiH3kyLAX+a2OhgsiIiIfEB7ty1YqAL93VoHgwUREZEPKB7cdTNFE+zWOhgsiIiIfMCWY40AgJWTY9xaB4MFERGRl2s09qCstg0SCbBycqxba2GwICIi8nJ/2ml7RkhukhoxqgC31sJgQURE5MVONBjxf0W1AIAfLstwczUMFkRERF7LahV4+qMTsArglqmxmJuucXdJDBZERETe6vU91SirbUOQXIZfrJrk7nIAMFgQERF5pS3HGvHc1tMAgLU3Z7t9bsV5DBZERERe5uDZNvzoH4cBAA/MTcY35iS5t6CLMFgQERF5kTPNHXjonQMwD1ixLDsKT93iGbdAzvNzdwFEREQ0PEXVenznLwdg6h3A5AlK/P6eGZBJJe4uywGDBRERkRf499EGrPnHEfRZrJidFI4/r56NYIXnvY17XkVERERkJ4TAm3u1+M2WUxACWJ4Tjd/fM8OtTzC9GgYLIiIiD2Xs7sfazUex5VgTAOAbc5LwzG05Hnf742IMFkRERB7oQI0Bj208jHPtPfCTSvDkyiw8OD8FEonnhgqAwYKIiMijWKwCf/xPJX7/xRlYBZAUEYT/d88MTEsIc3dpw8JgQURE5CFONBjx883HcbiuHQBw14wJePaOyQjxwEmaV+I9lRIREfmoTvMAXtp+Bm/v18IqgBCFH569PQd3zYx3d2kjxmBBRETkJkIIbD3ehHX/OoFmkxkAsGpKLJ66ZZLHbNE9UgwWREREbnCmuQO/+eQUdp1pBWCbS7Huthwszoxyc2XXh8GCiIhoDJ1r78HvPjuDTQfrYRWAXCbFfy1Ow/cXp3ns3hQjwWBBREQ0BgxdffjfHZX4S1Et+gasAIAVOTH46YpMpEaGuLk652GwICIicqEu8wDe2qvF67ur0WEeAAAUpEbgiZVZmO4lS0hHgsGCiIjIBdq7+/D2/hq8vb8G7d39AIBJsUo8sTILCzM0Hr/R1WiNOFjs3r0bL7zwAsrKytDY2IjNmzfjjjvucEFpRERE3qfZ1Is/76nG34rPorvPAgBI0QTjh8sycOvUOEg9eDtuZxhxsOjq6sK0adPwrW99C3fddZcraiIiIvI6tfou/GlXNT4oq0efxTaHYlKsEt9fkoaVk2M9+vkezjTiYLFy5UqsXLnSFbUQERF5FSEEDtS24e19Ndh6vBFWYTuel6zG95akYfHESJ+95XElLp9jYTabYTab7Z+bTCZXvyQREZFL9fZb8PGRBry9rwYnGy+8ry3JjMT3l6QjN1ntxurcy+XBYv369Vi3bp2rX4aIiMjlGtp78NeiWmwsrYOhqw8AoPCT4s4ZE7B6bjKyY5VurtD9XB4s1q5dizVr1tg/N5lMSEhIcPXLEhEROYUQAkXVBvy1qBafnmiCZfB+x4SwQHyjIAl3z05AeLDczVV6DpcHC4VCAYVC4eqXISIicqqWjl68X1aPf5bWoUbfbT9ekBqB1XOTsSw7Cn4yqRsr9Ezcx4KIiGjQgMWK3RWt2FhShy9Ot9hHJ0IUfrhtehzuL0hCVgxvd1zNiINFZ2cnKisr7Z9rtVocPnwYarUaiYmJTi2OiIhoLNQZuvHegTr880A9mky99uOzksJxd24CbpkaiyA5/198OEb8Uzpw4ACWLFli//z8/InVq1fj7bffdlphRERErmTq7cfWY43YdPAcirUG+/HwIH/cNTMe9+QmICM61I0VeqcRB4vFixdDCOGKWoiIiFyq32LFrvJWbD58Dp+fbIZ58GFgADA/XYN78hJw46RoKPy8/ymj7sJxHSIi8mlCCBypN2LzwXr862ijfZkoAGREheDOmRNw+/QJmBAW6MYqfQeDBRER+aTKlg78+2gjPj7cgGpdl/24JkSB26fH4c4ZE5ATpxx3O2O6GoMFERH5DK2uC/8+0oBPjjXidFOH/XiAvxTLc2Jw54wJmJ+u4TJRF2KwICIir3ZW341/H2vAJ0cbcaLhwvba/jIJFmREYtWUWCyfHIMQBd/yxgJ/ykRE5HXqDN3YerwR/z7aiKP1RvtxmVSCeeka3DI1FssnxUAV5O/GKscnBgsiIvJ4QghUtHTi0+NN2HaiyWFkQioBCtIicMvUOCzPiYGa22u7FYMFERF5JKtV4Eh9O7adaMa2E03QXjQBUyoB8lLUWDU1Disnx0ATwkdHeAoGCyIi8hj9FitKtAZsO9GE7SeaHXbBlMukmJ+hwYqcGNyQHYUIhgmPxGBBRERuZertx+4zrfjiVAt2lLegvbvffi5YLsOSrCgsz4nB4sxIhAZwzoSnY7AgIqIxV2foxuenmvHFqRYUa/Xot1zY0VkdLMey7CismByDuWkaBPhzF0xvwmBBREQuZ7EKHK5rxxeDYaK8ucPhfKomGDdkR+GG7GjMTgrnPhNejMGCiIhcoqO3H/sqdfZbHLrOC1tpy6QSzE4Kx7LsaNyQHYXUyBA3VkrOxGBBREROIYTAmeZO7Cy3BYkDNW0YsF64xRGq8MOizEgsy47G4sxIhAVxWagvYrAgIqJR6zIPYH+VHjvKW7DzdAsajL0O51M1wfYwkZushtyPtzh8HYMFERENmxACVa1d2Fnegp3lrSjRGtBnufDocYWfFAVpEViSGYXFmZFIigh2Y7XkDgwWRER0Vcaefuyv1GF3hQ67z7TiXHuPw/lEdRCWZEZicWYU5qRGIFDOVRzjGYMFERE5sAzueLnnjA67K1pxuK4dlovmSshlUuSnqrF4cFQiVRPMR4+THYMFERGhob0HeypasfuMDnsrdTD29DucT40MxsKMSCyaGIn8VDWC5Hz7oMvjvwwionGo0zyAEq0eeyp02FOhQ2VLp8P50AA/zE/XYOHESCzI0CA+PMhNlZK3YbAgIhoH+i1WHK1vx54KHfZV6nDobLvDUlCpBJiWEIaFGZFYODES0+JV3KSKRoXBgojIB9lWb3Tag0RRtQGd5gGHNonqIMxL12B+ugbz0iO4rwQ5BYMFEZGPaDb1Yn+Vzh4mmk1mh/NhQf6Yl6axh4nECN7eIOdjsCAi8lLt3X0orNJjf5Ue+6t0qGrtcjgv95MiL1ltDxI5cUpIpVy9Qa7FYEFE5CW6zAMoqTFgf6UO+6v0ONlogrgwTQISCTA5TmUPErOTw/lkUBpzDBZERB7KPGDBwdp2FFbpsK9KjyN1jhMuASAjKgRz0yIwN12DOSkRUAX5u6laIhsGCyIiD9E3YFu5UVilR5FWj7LaNvT2Wx3axIcHYl6aBnPTI1CQGoEoZYCbqiW6PAYLIiI3sS0BNaKoWo+iaj0O1LShp9/i0EYTosC89AjbqESaBglqTrgkz8ZgQUQ0RgYsVhw7Z0RRtQGF1XocqDGgu88xSKiD5ZiTqsacVNuIRHpUCLfLJq/CYEFE5CIDFiuON5hQPDgiUVrTNmQvibAgf+SnqFGQGoGCNA0yokK4coO8GoMFEZGT9NtHJPQorjbgQI0BXZeMSCgD/JA/OBoxJzUCWTGhDBLkUxgsiIhG6fxky6JqPYq1BpTVtg25taEM8ENeiu3WxpzUCGTHKiFjkCAfxmBBRDRM5gELDp9tR7HWgOIrrNoIC/JHXrItSOSnqpEVwyBB4wuDBRHRFXT3DeBgbTtKtHoUaQ04XNeOvgHHIKEOliM/5UKQmBjFWxs0vjFYEBENMvb0o6zWgGKtASVaA47VG4dsSKUJUSA/VY05g2GCqzaIHDFYENG4pe80o7TmQpC4dItsAIhTBSA/NQJ5KWrkp6iRoglmkCC6CgYLIho3Gtp7UFpjCxElWgMqWjqHtEnRBCMvWY38VDXyUtSID+eGVEQjwWBBRD5JCIFqXRdKB0NESY0B9W09Q9plRofaRiNS1chLVnOLbKLrxGBBRD7BYhU41WhCidaA0hrbh66zz6GNTCpBTpwSeclq5KbYgkR4sNxNFRP5JgYLIvJK5gELjtYb7UGirKYNHZfsain3k2J6QhjyU9TITVZjZlI4QhT8s0fkSvwNIyKv0NHbj7LaNttohLYNh+uHLv0MUfhhVlI48lJs8yOmxqug8JO5qWKi8YnBgog8UmuH2T7RsrTGgFONJlyy8hMRwXLkJqvtQYK7WhK5H4MFEbmdEAJnDd0XzY9og1bXNaRdgjrQFiQG50ikcuknkccZVbB45ZVX8MILL6CpqQnTpk3DH/7wB+Tl5Tm7NiLyURarQHlTh21Eosb2sK5mk9mhjURiW7GRe9FEyxgVV2wQeboRB4t//OMfWLNmDf70pz8hPz8fL7/8MpYvX47y8nJERUW5okYi8nK9/RYcO3fRRMvaNnT0Ok609JdJMGWCyh4iZiepoQryd1PFRDRaEiEu3Wfu6vLz85Gbm4s//vGPAACr1YqEhAQ88sgjePLJJ6/59SaTCSqVCkajEUqlcnRVE5FHM52faDkYJI7UG4dMtAyWyzAzKdwWIpLVmJ4QhkA5J1oSearhvn+PaMSir68PZWVlWLt2rf2YVCrFsmXLUFhYeNmvMZvNMJsvDHGaTKaRvCQReYkSrQGfHG1ASU0bTjcN3RpbE2KbaHn+Izs2FH4yqXuKJSKXGVGw0Ol0sFgsiI6OdjgeHR2N06dPX/Zr1q9fj3Xr1o2+QiLyCgdqDXinsNb+eVJEkMNEy+SIIE60JBoHXL4qZO3atVizZo39c5PJhISEBFe/LBGNsYUZkWgxmQdHJMK5NTbRODWiYKHRaCCTydDc3OxwvLm5GTExMZf9GoVCAYVCMfoKicgrTJ6gwuQJKneXQURuNqIbnHK5HLNmzcIXX3xhP2a1WvHFF1+goKDA6cURERGRdxnxrZA1a9Zg9erVmD17NvLy8vDyyy+jq6sL3/zmN11RHxEREXmREQeLu+++G62trXj66afR1NSE6dOn49NPPx0yoZOIiIjGnxHvY3G9uI8FERGR9xnu+zcXkRMREZHTMFgQERGR0zBYEBERkdMwWBAREZHTMFgQERGR0zBYEBERkdMwWBAREZHTMFgQERGR0zBYEBERkdO4/LHplzq/0afJZBrrlyYiIqJROv++fa0Nu8c8WHR0dAAAEhISxvqliYiI6Dp1dHRApVJd8fyYPyvEarWioaEBoaGhkEgkTvu+JpMJCQkJqKur88lnkPh6/wDf76Ov9w/w/T6yf97P1/voyv4JIdDR0YG4uDhIpVeeSTHmIxZSqRTx8fEu+/5KpdIn/7Gc5+v9A3y/j77eP8D3+8j+eT9f76Or+ne1kYrzOHmTiIiInIbBgoiIiJzGZ4KFQqHAL3/5SygUCneX4hK+3j/A9/vo6/0DfL+P7J/38/U+ekL/xnzyJhEREfkunxmxICIiIvdjsCAiIiKnYbAgIiIip2GwICIiIqfxmmDxm9/8BnPnzkVQUBDCwsKG9TVCCDz99NOIjY1FYGAgli1bhoqKCoc2BoMB9913H5RKJcLCwvDggw+is7PTBT24tpHWUlNTA4lEctmP9957z97ucuc3btw4Fl1yMJqf9eLFi4fU/l//9V8Obc6ePYtVq1YhKCgIUVFR+MlPfoKBgQFXduWKRtpHg8GARx55BJmZmQgMDERiYiIeffRRGI1Gh3buuoavvPIKkpOTERAQgPz8fJSUlFy1/XvvvYesrCwEBARgypQp2LJli8P54fxOjrWR9PGNN97AggULEB4ejvDwcCxbtmxI+wceeGDItVqxYoWru3FFI+nf22+/PaT2gIAAhzaedg1H0r/L/T2RSCRYtWqVvY0nXb/du3fj1ltvRVxcHCQSCT788MNrfs3OnTsxc+ZMKBQKpKen4+233x7SZqS/1yMmvMTTTz8tXnrpJbFmzRqhUqmG9TXPPfecUKlU4sMPPxRHjhwRt912m0hJSRE9PT32NitWrBDTpk0TRUVFYs+ePSI9PV3ce++9LurF1Y20loGBAdHY2OjwsW7dOhESEiI6Ojrs7QCIDRs2OLS7+GcwVkbzs160aJF46KGHHGo3Go328wMDA2Ly5Mli2bJl4tChQ2LLli1Co9GItWvXuro7lzXSPh47dkzcdddd4uOPPxaVlZXiiy++EBkZGeJLX/qSQzt3XMONGzcKuVwu3nrrLXHixAnx0EMPibCwMNHc3HzZ9vv27RMymUz89re/FSdPnhS/+MUvhL+/vzh27Ji9zXB+J8fSSPv4ta99Tbzyyivi0KFD4tSpU+KBBx4QKpVK1NfX29usXr1arFixwuFaGQyGseqSg5H2b8OGDUKpVDrU3tTU5NDGk67hSPun1+sd+nb8+HEhk8nEhg0b7G086fpt2bJF/PznPxebNm0SAMTmzZuv2r66uloEBQWJNWvWiJMnT4o//OEPQiaTiU8//dTeZqQ/s9HwmmBx3oYNG4YVLKxWq4iJiREvvPCC/Vh7e7tQKBTi73//uxBCiJMnTwoAorS01N5m69atQiKRiHPnzjm99qtxVi3Tp08X3/rWtxyODecfpKuNtn+LFi0Sjz322BXPb9myRUilUoc/fq+++qpQKpXCbDY7pfbhctY1/Oc//ynkcrno7++3H3PHNczLyxMPP/yw/XOLxSLi4uLE+vXrL9v+q1/9qli1apXDsfz8fPHd735XCDG838mxNtI+XmpgYECEhoaKd955x35s9erV4vbbb3d2qaMy0v5d6++rp13D671+v/vd70RoaKjo7Oy0H/Ok63ex4fwN+OlPfypycnIcjt19991i+fLl9s+v92c2HF5zK2SktFotmpqasGzZMvsxlUqF/Px8FBYWAgAKCwsRFhaG2bNn29ssW7YMUqkUxcXFY1qvM2opKyvD4cOH8eCDDw459/DDD0Oj0SAvLw9vvfXWNR9762zX07+//e1v0Gg0mDx5MtauXYvu7m6H7ztlyhRER0fbjy1fvhwmkwknTpxwfkeuwln/noxGI5RKJfz8HB/lM5bXsK+vD2VlZQ6/P1KpFMuWLbP//lyqsLDQoT1guxbn2w/nd3IsjaaPl+ru7kZ/fz/UarXD8Z07dyIqKgqZmZn43ve+B71e79Tah2O0/evs7ERSUhISEhJw++23O/weedI1dMb1e/PNN3HPPfcgODjY4bgnXL/RuNbvoDN+ZsMx5g8hGytNTU0A4PCGc/7z8+eampoQFRXlcN7Pzw9qtdreZqw4o5Y333wT2dnZmDt3rsPxZ599FkuXLkVQUBC2b9+O73//++js7MSjjz7qtPqvZbT9+9rXvoakpCTExcXh6NGjeOKJJ1BeXo5NmzbZv+/lrvH5c2PJGddQp9PhV7/6Fb7zne84HB/ra6jT6WCxWC77sz19+vRlv+ZK1+Li37fzx67UZiyNpo+XeuKJJxAXF+fwh3rFihW46667kJKSgqqqKvzsZz/DypUrUVhYCJlM5tQ+XM1o+peZmYm33noLU6dOhdFoxIsvvoi5c+fixIkTiI+P96hreL3Xr6SkBMePH8ebb77pcNxTrt9oXOl30GQyoaenB21tbdf9b3443BosnnzySTz//PNXbXPq1ClkZWWNUUXON9w+Xq+enh68++67eOqpp4acu/jYjBkz0NXVhRdeeMEpb0qu7t/Fb7BTpkxBbGwsbrjhBlRVVSEtLW3U33ckxuoamkwmrFq1CpMmTcIzzzzjcM6V15BG57nnnsPGjRuxc+dOhwmO99xzj/2/p0yZgqlTpyItLQ07d+7EDTfc4I5Sh62goAAFBQX2z+fOnYvs7Gy89tpr+NWvfuXGypzvzTffxJQpU5CXl+dw3Juvn6dwa7D48Y9/jAceeOCqbVJTU0f1vWNiYgAAzc3NiI2NtR9vbm7G9OnT7W1aWlocvm5gYAAGg8H+9ddruH283lref/99dHd34/77779m2/z8fPzqV7+C2Wy+7v3kx6p/5+Xn5wMAKisrkZaWhpiYmCEzmpubmwHAq65hR0cHVqxYgdDQUGzevBn+/v5Xbe/Ma3g5Go0GMpnM/rM8r7m5+Yp9iYmJuWr74fxOjqXR9PG8F198Ec899xw+//xzTJ069aptU1NTodFoUFlZOaZvTNfTv/P8/f0xY8YMVFZWAvCsa3g9/evq6sLGjRvx7LPPXvN13HX9RuNKv4NKpRKBgYGQyWTX/W9iWJw2W2OMjHTy5osvvmg/ZjQaLzt588CBA/Y227Ztc+vkzdHWsmjRoiErCa7k17/+tQgPDx91raPhrJ/13r17BQBx5MgRIcSFyZsXz2h+7bXXhFKpFL29vc7rwDCMto9Go1HMmTNHLFq0SHR1dQ3rtcbiGubl5Ykf/OAH9s8tFouYMGHCVSdv3nLLLQ7HCgoKhkzevNrv5FgbaR+FEOL5558XSqVSFBYWDus16urqhEQiER999NF11ztSo+nfxQYGBkRmZqb40Y9+JITwvGs42v5t2LBBKBQKodPprvka7rx+F8MwJ29OnjzZ4di99947ZPLm9fybGFatTvtOLlZbWysOHTpkX0556NAhcejQIYdllZmZmWLTpk32z5977jkRFhYmPvroI3H06FFx++23X3a56YwZM0RxcbHYu3evyMjIcOty06vVUl9fLzIzM0VxcbHD11VUVAiJRCK2bt065Ht+/PHH4o033hDHjh0TFRUV4n//939FUFCQePrpp13en0uNtH+VlZXi2WefFQcOHBBarVZ89NFHIjU1VSxcuND+NeeXm950003i8OHD4tNPPxWRkZFuXW46kj4ajUaRn58vpkyZIiorKx2WuA0MDAgh3HcNN27cKBQKhXj77bfFyZMnxXe+8x0RFhZmX4HzjW98Qzz55JP29vv27RN+fn7ixRdfFKdOnRK//OUvL7vc9Fq/k2NppH187rnnhFwuF++//77DtTr/d6ijo0M8/vjjorCwUGi1WvH555+LmTNnioyMjDEPuqPp37p168S2bdtEVVWVKCsrE/fcc48ICAgQJ06csLfxpGs40v6dN3/+fHH33XcPOe5p16+jo8P+XgdAvPTSS+LQoUOitrZWCCHEk08+Kb7xjW/Y259fbvqTn/xEnDp1SrzyyiuXXW56tZ+ZM3hNsFi9erUAMORjx44d9jYYXOt/ntVqFU899ZSIjo4WCoVC3HDDDaK8vNzh++r1enHvvfeKkJAQoVQqxTe/+U2HsDKWrlWLVqsd0mchhFi7dq1ISEgQFotlyPfcunWrmD59uggJCRHBwcFi2rRp4k9/+tNl27raSPt39uxZsXDhQqFWq4VCoRDp6eniJz/5icM+FkIIUVNTI1auXCkCAwOFRqMRP/7xjx2Wao6lkfZxx44dl/13DUBotVohhHuv4R/+8AeRmJgo5HK5yMvLE0VFRfZzixYtEqtXr3Zo/89//lNMnDhRyOVykZOTIz755BOH88P5nRxrI+ljUlLSZa/VL3/5SyGEEN3d3eKmm24SkZGRwt/fXyQlJYmHHnrIqX+0R2ok/fvhD39obxsdHS1uvvlmcfDgQYfv52nXcKT/Rk+fPi0AiO3btw/5Xp52/a709+F8n1avXi0WLVo05GumT58u5HK5SE1NdXhPPO9qPzNn4GPTiYiIyGl8dh8LIiIiGnsMFkREROQ0DBZERETkNAwWRERE5DQMFkREROQ0DBZERETkNAwWRERE5DQMFkREROQ0DBZERETkNAwWRERE5DQMFkREROQ0DBZERETkNP8fDpYa5LsMJH0AAAAASUVORK5CYII=\n"
                },
                "metadata": {}
              }
            ]
          }
        },
        "dd2b6673bbe74543a6feaad4949bbd01": {
          "model_module": "@jupyter-widgets/base",
          "model_name": "LayoutModel",
          "model_module_version": "1.2.0",
          "state": {
            "_model_module": "@jupyter-widgets/base",
            "_model_module_version": "1.2.0",
            "_model_name": "LayoutModel",
            "_view_count": null,
            "_view_module": "@jupyter-widgets/base",
            "_view_module_version": "1.2.0",
            "_view_name": "LayoutView",
            "align_content": null,
            "align_items": null,
            "align_self": null,
            "border": null,
            "bottom": null,
            "display": null,
            "flex": null,
            "flex_flow": null,
            "grid_area": null,
            "grid_auto_columns": null,
            "grid_auto_flow": null,
            "grid_auto_rows": null,
            "grid_column": null,
            "grid_gap": null,
            "grid_row": null,
            "grid_template_areas": null,
            "grid_template_columns": null,
            "grid_template_rows": null,
            "height": null,
            "justify_content": null,
            "justify_items": null,
            "left": null,
            "margin": null,
            "max_height": null,
            "max_width": null,
            "min_height": null,
            "min_width": null,
            "object_fit": null,
            "object_position": null,
            "order": null,
            "overflow": null,
            "overflow_x": null,
            "overflow_y": null,
            "padding": null,
            "right": null,
            "top": null,
            "visibility": null,
            "width": null
          }
        },
        "8660ee76b1af457a80fa8ce843e8aa7b": {
          "model_module": "@jupyter-widgets/base",
          "model_name": "LayoutModel",
          "model_module_version": "1.2.0",
          "state": {
            "_model_module": "@jupyter-widgets/base",
            "_model_module_version": "1.2.0",
            "_model_name": "LayoutModel",
            "_view_count": null,
            "_view_module": "@jupyter-widgets/base",
            "_view_module_version": "1.2.0",
            "_view_name": "LayoutView",
            "align_content": null,
            "align_items": null,
            "align_self": null,
            "border": null,
            "bottom": null,
            "display": null,
            "flex": null,
            "flex_flow": null,
            "grid_area": null,
            "grid_auto_columns": null,
            "grid_auto_flow": null,
            "grid_auto_rows": null,
            "grid_column": null,
            "grid_gap": null,
            "grid_row": null,
            "grid_template_areas": null,
            "grid_template_columns": null,
            "grid_template_rows": null,
            "height": null,
            "justify_content": null,
            "justify_items": null,
            "left": null,
            "margin": null,
            "max_height": null,
            "max_width": null,
            "min_height": null,
            "min_width": null,
            "object_fit": null,
            "object_position": null,
            "order": null,
            "overflow": null,
            "overflow_x": null,
            "overflow_y": null,
            "padding": null,
            "right": null,
            "top": null,
            "visibility": null,
            "width": null
          }
        },
        "089f838328a5461fbfb41188ed9da22b": {
          "model_module": "@jupyter-widgets/controls",
          "model_name": "SliderStyleModel",
          "model_module_version": "1.5.0",
          "state": {
            "_model_module": "@jupyter-widgets/controls",
            "_model_module_version": "1.5.0",
            "_model_name": "SliderStyleModel",
            "_view_count": null,
            "_view_module": "@jupyter-widgets/base",
            "_view_module_version": "1.2.0",
            "_view_name": "StyleView",
            "description_width": "",
            "handle_color": null
          }
        },
        "b6bf04a2409645ce9c9b92e9901e63d5": {
          "model_module": "@jupyter-widgets/base",
          "model_name": "LayoutModel",
          "model_module_version": "1.2.0",
          "state": {
            "_model_module": "@jupyter-widgets/base",
            "_model_module_version": "1.2.0",
            "_model_name": "LayoutModel",
            "_view_count": null,
            "_view_module": "@jupyter-widgets/base",
            "_view_module_version": "1.2.0",
            "_view_name": "LayoutView",
            "align_content": null,
            "align_items": null,
            "align_self": null,
            "border": null,
            "bottom": null,
            "display": null,
            "flex": null,
            "flex_flow": null,
            "grid_area": null,
            "grid_auto_columns": null,
            "grid_auto_flow": null,
            "grid_auto_rows": null,
            "grid_column": null,
            "grid_gap": null,
            "grid_row": null,
            "grid_template_areas": null,
            "grid_template_columns": null,
            "grid_template_rows": null,
            "height": null,
            "justify_content": null,
            "justify_items": null,
            "left": null,
            "margin": null,
            "max_height": null,
            "max_width": null,
            "min_height": null,
            "min_width": null,
            "object_fit": null,
            "object_position": null,
            "order": null,
            "overflow": null,
            "overflow_x": null,
            "overflow_y": null,
            "padding": null,
            "right": null,
            "top": null,
            "visibility": null,
            "width": null
          }
        }
      }
    }
  },
  "cells": [
    {
      "cell_type": "markdown",
      "source": [
        "<font color=blue>\n",
        "<font size = 14>\n",
        "Integrales de línea en un campo vectorial\n",
        "\n",
        "---"
      ],
      "metadata": {
        "id": "SttnwwQ_a7u9"
      }
    },
    {
      "cell_type": "markdown",
      "source": [
        "\n",
        "\n",
        "**Objetivo general**\n",
        "- Comprender la idea de la integral de linea actuando sobre un campo vectorial asi como tener una idea intuitiva de la manera de utilizar esta heramienta para problemas aplicados en fenomenos rales, usando simulaciones computacionales para obtener la idea central del tema.\n",
        "**Objetivos particulares**\n",
        "- Comprender el concepto de producto interno en el espacio $R^n$.\n",
        "- Juntar las ideas de producto interno y de integral para comprender lo que hace una integral de linea.\n",
        "- Conocer la utilidad de la integral de línea y resolver algunas aplicaiones de ella.\n",
        "\n",
        "## Contenido\n",
        "- [1 - Producto interno en $R^n$.](#1)\n",
        "    - [1.1 - Definicion de producto punto.](#1-1)\n",
        "        - [Ejercicio 1 - Cálculo de un producto punto.](#ej-1)\n",
        "    - [1.2 - La integral.](#1-2)\n",
        "        - [Ejercicio 2 - Una ballena que cae del cielo.](#ej-2)\n",
        "- [2 - Tema 2.](#2)\n",
        "    - [2.1 - Subtema C.](#2-1)\n",
        "    - [2-2 - Subtema D.](#2-2)\n",
        "        - [Ejercicio 3 - Título dell ejercicio.](#ej-3)"
      ],
      "metadata": {
        "id": "hYcPR8mkwLNS"
      }
    },
    {
      "cell_type": "markdown",
      "source": [
        "<a name='1'></a>\n",
        "## Producto interno en $R^n$\n",
        "\n"
      ],
      "metadata": {
        "id": "oVscIlEWwYJV"
      }
    },
    {
      "cell_type": "markdown",
      "source": [
        "<a name='1-1'></a>\n",
        "### Definición y producto punto\n",
        "\n",
        "Un producto interno o producto interior, sobre un espacio vectorial (para el caso de este notebook será $R^n$), es una operacion que asigna a cada par de vectores u y v un escalar tal que <u|v> y cumple con las siguinetes propiedades:\n",
        "\n",
        "* <v|v> $\\geq 0$\n",
        "* <v|v> = 0 si y solo si v =0\n",
        "* <u|v+w> = <u|v> + <u|w>\n",
        "* Sea $\\alpha \\in R$ entonces < $\\alpha$ v|w> = $\\alpha$<v|w>\n",
        "* <v|w>= $\\bar{<w|v>}$ (Esta última propiedad se usa con los números complejos, por lo que para fines de este notebook no se usará pero es importante saber de su existencia)\n",
        "\n",
        "En el caso de $ R^n$ el porducto interior es mejor conocido como producto punto y está definido como $\\vec{a} \\cdot \\vec{b} = ||\\vec{a}||||\\vec{b}||cosθ $ donde $||\\vec{a}||$ y $||\\vec{b}||$ son la magnitud del vector $\\vec{a}$ y $\\vec{b}$ respectivamente y $θ$ el ángulo entre ambos.\n",
        "\n",
        "\n",
        "\n",
        "Ten en cuenta que $\\textbf{el producto punto de dos vectores es un escalar, no un vector.}$ Eso significa, por ejemplo, que no tiene sentido preguntar a qué es igual $\\vec{a} \\cdot \\vec{b} \\cdot \\vec{c} $.\n",
        "\n",
        "Una vez que hayamos evaluado $\\vec{a} \\cdot \\vec{b}$\n",
        " y obtenido un número, terminaríamos por tratar de tomar el producto punto entre un número y un vector.\n",
        "\n",
        " Otra forma equivalente y más sencilla de calcular el producto punto es conociendo los coeficientes de sus componentes; de modo que el produto punto será la suma de las multiplicaciones de sus componentes.\n",
        "\n",
        "Supongamos que tenemos a los vectores \n",
        "\n",
        "$x = (x_1,x_2,...,x_n)$\n",
        "\n",
        "$y = (y_1,y_2,...,y_n) $\n",
        "\n",
        "\n",
        "Tenemos que el producto interior entonces será:\n",
        "\n",
        "$\\sum_{i=1}^n x_iy_i$\n",
        "\n",
        "Ahora para visualizar mejor el porducto punto veámos un ejemplo.\n",
        "\n",
        "## Ejemplo de producto punto en $R^n$\n",
        "Si tenemos los vectores \n",
        "$x = (3,2)$\n",
        "$y = (5,6)$\n",
        " Entonces el producto punto será $\\alpha = (3)(5)+(2)(6)= 15 + 12 = 27$\n",
        "\n",
        "## Una ballena que cae del cielo\n",
        "\n",
        "Supongamos que una ballena llamada Whilly, cae del cielo, y que cae a lo largo de una trayectoria curvada, porque las corrientes de aire la empujan de un lado para otro.\n",
        "\n"
      ],
      "metadata": {
        "id": "A9CdaKo_wemN"
      }
    },
    {
      "cell_type": "code",
      "source": [
        "import numpy as np\n",
        "import matplotlib.pyplot as plt\n",
        "from ipywidgets import interact, FloatSlider\n",
        "\n",
        "x = np.linspace(0, 2*np.pi, 100)\n",
        "y = np.sin(x)\n",
        "\n",
        "def update(t=0):\n",
        "    fig, ax = plt.subplots()\n",
        "    ax.plot(y,-x)\n",
        "    ax.scatter([np.sin(t)], [-t], color='red')\n",
        "    plt.show()\n",
        "\n",
        "interact(update, t=FloatSlider(min=0, max=2*np.pi, step=0.1))"
      ],
      "metadata": {
        "colab": {
          "base_uri": "https://localhost:8080/",
          "height": 480,
          "referenced_widgets": [
            "eacd445e16d7414ca5e810cbc623f188",
            "04b8ff2cb9d74723a17f8abf7cbeb573",
            "1466183d7b13450fa2054dfe642b49e0",
            "f25ffd3bac6a450eb31a37e933912d75",
            "06ae4196af324d2bb7c847024e51a954",
            "928de1c973e44056b588f3ebf0a5020a",
            "539f70e0596c4a5095e566f893d31b95"
          ]
        },
        "id": "0FPxxEJvBXXK",
        "outputId": "20731da6-b652-4fef-929f-e250f9ee4b5b"
      },
      "execution_count": 16,
      "outputs": [
        {
          "output_type": "display_data",
          "data": {
            "text/plain": [
              "interactive(children=(FloatSlider(value=0.0, description='t', max=6.283185307179586), Output()), _dom_classes=…"
            ],
            "application/vnd.jupyter.widget-view+json": {
              "version_major": 2,
              "version_minor": 0,
              "model_id": "eacd445e16d7414ca5e810cbc623f188"
            }
          },
          "metadata": {}
        },
        {
          "output_type": "execute_result",
          "data": {
            "text/plain": [
              "<function __main__.update(t=0)>"
            ]
          },
          "metadata": {},
          "execution_count": 16
        }
      ]
    },
    {
      "cell_type": "markdown",
      "source": [
        "En este ejemplo, se asume que el alumno está familiarizado con las ideas de la física que la fuerza hace trabajo sobre un objeto en movimiento, además la fuerza está definida como \n",
        "$$\n",
        "\\begin{align}\n",
        "{\\vec{W} = \\vec{F} \\cdot \\vec{s}}\n",
        "\\end{align}\n",
        "$$\n",
        "\n",
        "es decir que el trabajo está definido como el producto punto entre el vector de fuerza y el vector de desplazamiento."
      ],
      "metadata": {
        "id": "hrJqMISv1RSI"
      }
    },
    {
      "cell_type": "markdown",
      "source": [
        "$\\textbf{Pregunta clave:}$ ¿cuál es el trabajo que la fuerza de gravedad realiza sobre Whilly conforme cae a lo largo de la trayectoria curvada C?\n",
        "\n",
        "\n",
        "Usualmente, calculamos el trabajo con respecto a un vector constante de fuerza y un vector constante de desplazamiento. ¿Qué podemos hacer con una trayectoria curvada? \n",
        "\n",
        "Podemos comenzar imaginándonos que la curva está compuesta de muchos vectores pequeños de desplazamiento:\n",
        "\n",
        "$\\vec{\\Delta s_1}, \\vec{Δs_2}, ...$\n",
        "\n",
        "El trabajo realizado por la gravedad a lo largo de cada uno de estos vectores de desplazamiento es el producto punto del vector de fuerza de gravedad, que denotaremos $\\vec{F_g} $, con el vector de desplazamiento mismo por lo que la contibción de los vectores se verá como:\n",
        "\n",
        "$∑_i^n\\vec{F_g} \\cdot \\vec{Δs_i}$\n",
        "\n",
        "\n"
      ],
      "metadata": {
        "id": "BYZVj6A54nHv"
      }
    },
    {
      "cell_type": "code",
      "source": [
        "import matplotlib.pyplot as plt #Se importa la paquetería que genera gráficas\n",
        "import numpy as np #Se importa la paquetería que tiene acceso a la parte matemática\n",
        "import ipywidgets as widgets #Se importa la paquetería para la generación de la parte interactiva con el usuario\n",
        "\n",
        "\n",
        "\n",
        "# Se generan las refinaciones del eje y\n",
        "y = np.linspace(0, 10, 100)\n",
        "# Se grafica una función en el eje vertical para simular una trayectoria de caída\n",
        "x = 4 + 2 * np.sin(2 * y)\n",
        "\n",
        "\n",
        "y1 = np.linspace(0, 10,10)\n",
        "x1 = 4 + 2 * np.sin(2 * y1)\n",
        "\n",
        "\n",
        "\n",
        "# Graficación\n",
        "fig, ax = plt.subplots()\n",
        "\n",
        "\n",
        "ax.plot(x, y+x, linewidth=2.0)\n",
        "ax.plot(x1, y1+x1, linewidth=2.0)\n",
        "\n",
        "ax.set(xlim=(0, 7), xticks=np.arange(1, 11),\n",
        "       ylim=(0, 10), yticks=np.arange(1, 11))\n",
        "\n",
        "plt.show()"
      ],
      "metadata": {
        "id": "cObRIhplCBsW",
        "colab": {
          "base_uri": "https://localhost:8080/",
          "height": 435
        },
        "outputId": "6440e88b-a77d-4962-ef7c-183a97f0c175"
      },
      "execution_count": null,
      "outputs": [
        {
          "output_type": "display_data",
          "data": {
            "text/plain": [
              "<Figure size 640x480 with 1 Axes>"
            ],
            "image/png": "[encoded data removed]"
          },
          "metadata": {}
        }
      ]
    },
    {
      "cell_type": "code",
      "source": [
        "import numpy as np\n",
        "import matplotlib.pyplot as plt\n",
        "from ipywidgets import interact, IntSlider\n",
        "\n",
        "# Definimos la curva\n",
        "y = -np.linspace(0, 10, 100)\n",
        "x = 4 + 2 * np.sin(2 * y)\n",
        "\n",
        "# Calculamos los vectores tangentes\n",
        "dx = np.gradient(x)\n",
        "dy = np.gradient(y)\n",
        "tangentes = np.stack([dx, dy], axis=1)\n",
        "\n",
        "# Función para visualizar los vectores tangentes\n",
        "def plot_tangentes(num_vectores):\n",
        "    fig, ax = plt.subplots(figsize=(6, 6))\n",
        "    ax.plot(x, y, color='blue')\n",
        "    for i in range(0, len(t), len(t)//num_vectores):\n",
        "        ax.arrow(x[i], y[i], tangentes[i, 0], tangentes[i, 1], width=0.1, color='red')\n",
        "    ax.set_aspect('equal')\n",
        "    plt.show()\n",
        "\n",
        "# Widget para controlar la cantidad de vectores\n",
        "interact(plot_tangentes, num_vectores=IntSlider(min=1, max=100, step=1, value=1))"
      ],
      "metadata": {
        "colab": {
          "base_uri": "https://localhost:8080/",
          "height": 572,
          "referenced_widgets": [
            "863d8a0def534e76a1253e05cee1b8a3",
            "cb950bd936f64c908995da1671f3cd82",
            "e02a3eb2a293447b9450fbf4f73f2c63",
            "19bc7a3078d647aabfc5b18361759f9f",
            "2834174589434e9592954d932004b5ad",
            "d7a1170a19cf49d196508d7e83ba18a2",
            "4752e324bbd04fbc94ccf27c8dba8818"
          ]
        },
        "id": "SM6kmfE-SKN5",
        "outputId": "0294b4b7-d3c5-416d-85fd-365fe4638695"
      },
      "execution_count": null,
      "outputs": [
        {
          "output_type": "display_data",
          "data": {
            "text/plain": [
              "interactive(children=(IntSlider(value=1, description='num_vectores', min=1), Output()), _dom_classes=('widget-…"
            ],
            "application/vnd.jupyter.widget-view+json": {
              "version_major": 2,
              "version_minor": 0,
              "model_id": "863d8a0def534e76a1253e05cee1b8a3"
            }
          },
          "metadata": {}
        },
        {
          "output_type": "execute_result",
          "data": {
            "text/plain": [
              "<function __main__.plot_tangentes(num_vectores)>"
            ]
          },
          "metadata": {},
          "execution_count": 24
        }
      ]
    },
    {
      "cell_type": "code",
      "source": [
        "y = np.linspace(0, 10, 100)\n",
        "x = 4 + 2 * np.sin(2 * y)\n",
        "\n",
        "\n",
        "y1 = np.linspace(0, 10, 10)\n",
        "x1 = 4 + 2 * np.sin(2 * y1)\n",
        "\n",
        "plt.plot(x, x+y, color = 'red')\n",
        "plt.plot(x1, x1+y1, color = 'blue')\n",
        "\n",
        "\n",
        "plt.show()\n",
        "print(type(y))\n",
        "#widgets.interact(plt, y1=widgets.FloatSlider(value=2, min=0.1, max=5, step=0.1, description='Vector:'))\n",
        "\n",
        "\n",
        "# Vector origin location\n",
        "X = [0]\n",
        "Y = [0]\n",
        "  \n",
        "# Directional vectors\n",
        "U = [2]  \n",
        "V = [1]  \n",
        "  \n",
        "# Creating plot\n",
        "plt.quiver(X, Y, U, V, color='b', units='xy', scale=1)\n",
        "plt.title('Single Vector')\n",
        "  \n",
        "# x-lim and y-lim\n",
        "plt.xlim(-2, 5)\n",
        "plt.ylim(-2, 2.5)\n",
        "  \n",
        "# Show plot with grid\n",
        "plt.grid()\n",
        "plt.show()"
      ],
      "metadata": {
        "id": "0NNWRcCOL8uC",
        "colab": {
          "base_uri": "https://localhost:8080/",
          "height": 883
        },
        "outputId": "fe13690f-fc6f-4e0c-a0f4-18f7fbd512cd"
      },
      "execution_count": null,
      "outputs": [
        {
          "output_type": "display_data",
          "data": {
            "text/plain": [
              "<Figure size 640x480 with 1 Axes>"
            ],
            "image/png": "[encoded data removed]"
          },
          "metadata": {}
        },
        {
          "output_type": "stream",
          "name": "stdout",
          "text": [
            "<class 'numpy.ndarray'>\n"
          ]
        },
        {
          "output_type": "display_data",
          "data": {
            "text/plain": [
              "<Figure size 640x480 with 1 Axes>"
            ],
            "image/png": "[encoded data removed]"
          },
          "metadata": {}
        }
      ]
    },
    {
      "cell_type": "code",
      "source": [
        "#Se define la funcion de la curva\n",
        "def f(y): # sample function\n",
        " return 4+2*np.sin(2*y)\n",
        "\n",
        "\n",
        "\n",
        "\n",
        "# Se evalua la funcion en el rango de -2 a 4 con 150 intervalos\n",
        "x = np.linspace(0,10,150)\n",
        "#Se le pasa a la funcion los valores definidos en x.\n",
        "y = f(x)\n",
        "\n",
        "\n",
        "for i in range(0, 10):\n",
        "  a = i\n",
        "  h = 0.1\n",
        "  fprime = (f(a+h)-f(a))/h # derivative\n",
        "  #Se calcula la tangente\n",
        "  tan = f(a)+fprime*(x-a)  # tangent\n",
        "\n",
        "  # Se grafica la funcion y la tangente.\n",
        "  plt.plot(x,y,'b')\n",
        "  #revisar limites\n",
        "  #for j in range(0,5):\n",
        "  plt.plot(a,f(a),'om')#,x+a,tan)#,'--r')\n",
        "  plt.plot(x+a, tan)\n",
        "    #Se muestra la grafica.\n",
        "plt.show()"
      ],
      "metadata": {
        "id": "SmaYLQ0Mswnv",
        "colab": {
          "base_uri": "https://localhost:8080/",
          "height": 430
        },
        "outputId": "e661b56c-af0b-4fe7-a5c3-69a0d037f797"
      },
      "execution_count": null,
      "outputs": [
        {
          "output_type": "display_data",
          "data": {
            "text/plain": [
              "<Figure size 640x480 with 1 Axes>"
            ],
            "image/png": "[encoded data removed]"
          },
          "metadata": {}
        }
      ]
    },
    {
      "cell_type": "code",
      "source": [],
      "metadata": {
        "id": "8YilbTknHJLd"
      },
      "execution_count": null,
      "outputs": []
    },
    {
      "cell_type": "markdown",
      "source": [
        "Pero lo que realmente nos interesa es el valor límite de esta suma conforme el tamaño de esos pasos es más y más pequeño. Para ello haremos uso de la integral ya que toma en cuenta las contibuciones de las trayectorias infinitesimales y se verá de la forma:\n",
        "\n",
        "$∫_C \\vec{F}\\cdot \\vec{ds}$\n",
        "Similar a una integral de línea en un campo escalar pero ahora consideramos el pequeño paso $\\vec{ds} $ como un vector, no como una longitud.\n",
        "\n",
        "\n",
        "$\\textbf{Nota}$: la cantidad que sumamos conforme caminamos a lo largo de C no es todo el valor de $\\vec{F_g}$ en cada punto, sino la componente de $\\vec{F_g}$ que apunta en la misma dirección que el vector $\\vec{ds}$. Es decir, la componente de la fuerza en la dirección de la curva."
      ],
      "metadata": {
        "id": "fUWNDCcRCCE6"
      }
    },
    {
      "cell_type": "markdown",
      "source": [
        "<font size = 14>\n",
        "Ejemplo 1\n",
        "\n",
        "Supón que la trayectoria de caída de Whilly está descrita por la curva parametrizada\n",
        "\\begin{equation}\n",
        "S=\\begin{bmatrix}\n",
        "100 (t-sin(t))\\\\\n",
        "100 (-t-sin(t))\n",
        "\\end{bmatrix}\n",
        "\\end{equation}\n",
        "\n",
        "Podemos expresar el vector d$\\vec{s}$que representa un pequeño paso en dirección de la curva, con la derivada de esta función multiplicada por dt:\n",
        "\n",
        "$d\\vec{s}= \\frac{d\\vec{s}}{dt} dt = \\vec{s}'dt$\n",
        "\n",
        "La forma de visualizar esto es pensar que un pequeño incremento de tamaño dt sobre el parámetro t resulta en un pequeño incremento $\\vec{s}'(t)$ a lo largo de la curva $\\vec{s}(t)$."
      ],
      "metadata": {
        "id": "8R5kYTt-yJPJ"
      }
    },
    {
      "cell_type": "markdown",
      "source": [
        "Calculamos la derivada \n",
        "\n",
        "\\begin{equation}\n",
        "\\frac{d\\vec{s}}{dt}=\\begin{bmatrix}\n",
        "100 (t-sin(t))\\\\\n",
        "100 (-t-sin(t))\n",
        "\\end{bmatrix}\n",
        "=\\begin{bmatrix}\n",
        "100 (1-cos(t))\\\\\n",
        "100 (-1-cos(t))\n",
        "\\end{bmatrix}\n",
        "\\end{equation}\n",
        "\n",
        "\n",
        "La fuerza de gravedad está dada por la aceleración, $9.81 \\dfrac{\\text{m}}{\\text{s}^2}$, multiplicada por la masa de Whilly. La masa típica de una ballena azul, resulta ser de alrededor de 170,000 kg, por lo que usaremos ese número.\n",
        "Ya que la fuerza se dirige solamente hacia abajo, la gravedad como vector de fuerza se ve así:\n",
        "\n",
        "\\begin{equation}\n",
        "\\vec{F}=\\begin{bmatrix}\n",
        "0\\\\\n",
        "-(170,000)(9.81)\n",
        "\\end{bmatrix}\n",
        "\\end{equation}\n",
        "\n",
        "\n",
        "\n",
        "Digamos que queremos encontrar el trabajo que realiza la gravedad entre los tiempos t = 0 y t = 10. ¿Qué obtienes cuando sustituyes esta información en la integral de línea $\\int_C \\vec{F}_g \\cdot d\\vec{s}$ y la evalúas? \n",
        "\n",
        "$W = \\int_C\\vec{F}_g \\cdot d\\vec{s}=\\int_{0}^{10} \\vec{F}_g \\cdot \\vec{s}'(t)dt \n",
        "\\\\\n",
        "= \\int_0^{10} \\begin{equation}\n",
        "\\begin{bmatrix}\n",
        "0\\\\\n",
        "-(170,000)(9.81)\n",
        "\\end{bmatrix}\n",
        " \\cdot \\begin{bmatrix}\n",
        "100 (1-cos(t))\\\\\n",
        "100 (-1-cos(t))\n",
        "\\end{bmatrix}\n",
        "\\end{equation} dt\n",
        "\\\\\\\\\n",
        "=\\int_0^{10} −(170,000)(9.81)100(−1−cos(t))dt\n",
        "\\\\\\\\\n",
        "=166,770,000\\int_0^{10}(1+cos(t))dt\n",
        "\\\\\\\\\n",
        "=166,770,000[t+sen(t)]_0^{10}\\\\\n",
        "=166,770,000[10+sen(10)]-[0+sen(0)] \\approx 1.69\\text{x}10^9$"
      ],
      "metadata": {
        "id": "XCctpvRl6ZGr"
      }
    },
    {
      "cell_type": "markdown",
      "source": [
        "# Visualizar integrales de línea en campos vectoriales más generales\n",
        "\n",
        "En el ejemplo anterior, el campo vectorial gravitacional es constante. En todos lados, la gravedad apunta directo hacia abajo con la misma magnitud. Para la mayoría de las integrales de línea en un campo vectorial, los vectores del campo varían en diferentes puntos del espacio, por lo que el valor de su producto punto con $d\\vec{s}$ cambia."
      ],
      "metadata": {
        "id": "FVatz92R5LWz"
      }
    },
    {
      "cell_type": "code",
      "source": [
        "print(\"AQUI VA UN WIDGET\")"
      ],
      "metadata": {
        "id": "9FJSfG-06X0R",
        "colab": {
          "base_uri": "https://localhost:8080/"
        },
        "outputId": "5c536452-58da-4cf2-8c72-f2441f6dc796"
      },
      "execution_count": null,
      "outputs": [
        {
          "output_type": "stream",
          "name": "stdout",
          "text": [
            "AQUI VA UN WIDGET\n"
          ]
        }
      ]
    },
    {
      "cell_type": "markdown",
      "source": [
        "Analicemos qué está sucediendo.La integral de línea en sí misma la escribimos como:\n",
        "\n",
        "$\\int_C \\vec{F(r})\\cdot d\\vec{r} = \\int_a^b \\vec{F(r}(t))⋅\\vec{r'}(t) dt$\n",
        "\n",
        "Donde:\n",
        "$\\vec{F}$ es uncampo vectorial, que asocia cada punto en el espacio con un vector. Lo puedes pensar como un campo de fuerzas.\n",
        "\n",
        "C es una curva a través del espacio.\n",
        "\n",
        "$\\vec{r}(t)$ es una función vectorial que parametriza la curva C, donde $a \\leq t \\leq b$.\n",
        "\n",
        "$\\vec{r'}(t)$ es la derivada de $\\vec{r}$ que representa el vector velocidad de una partícula cuya posición esta dada por $\\vec{r}(t)$ mientras t se incrementa a razón constante. Cuando multiplicas este vector por un pequeño paso en el tiempo, dt, obtienes el vector de desplazamiento, que se puede  pensar como un pequeño paso a lo largo de la curva. Técnicamente, es un pequeño paso en la dirección tangente a la curva."
      ],
      "metadata": {
        "id": "jQ-t-_2h6efe"
      }
    },
    {
      "cell_type": "markdown",
      "source": [
        "$\\textbf{¿Qué representa el producto punto $\\vec{F(r(t))}\\cdot\\vec{r}'(t)dt$?}$\n",
        " \n",
        "$\\ \\ $a) La razón con la cual la fuerza cambia respecto a t .\n",
        " \n",
        "$\\ \\ $b) La componente de $\\vec{F(r)}$ que paunta en la misma dirección que el peuqueño paso a lo largo de la curva en el punto $\\vec{r}(t)$, nultiplicada por el tamaño de ese paso."
      ],
      "metadata": {
        "id": "OVTWbwUVoPTU"
      }
    },
    {
      "cell_type": "code",
      "source": [
        "'''\n",
        "x =input(\"Elige la respuesta\")\n",
        "print(x)\n",
        "\n",
        "while x != \"b\":\n",
        "  print(\"Intentalo de nuevo\")\n",
        "  del(x)\n",
        "  x =input(\"Elige la respuesta\")\n",
        "  print(x)\n",
        "else:\n",
        "  print(\"¡Correcto!\")\n",
        "  '''"
      ],
      "metadata": {
        "id": "FJI-RceVmbFP",
        "colab": {
          "base_uri": "https://localhost:8080/",
          "height": 54
        },
        "outputId": "33f9cdbc-b1c7-4316-bbfb-f87b88eae544"
      },
      "execution_count": null,
      "outputs": [
        {
          "output_type": "execute_result",
          "data": {
            "text/plain": [
              "'\\nx =input(\"Elige la respuesta\")\\nprint(x)\\n\\nwhile x != \"b\":\\n  print(\"Intentalo de nuevo\")\\n  del(x)\\n  x =input(\"Elige la respuesta\")\\n  print(x)\\nelse:\\n  print(\"¡Correcto!\")\\n  '"
            ],
            "application/vnd.google.colaboratory.intrinsic+json": {
              "type": "string"
            }
          },
          "metadata": {},
          "execution_count": 28
        }
      ]
    },
    {
      "cell_type": "markdown",
      "source": [
        "En términos de física, puedes pensar este producto punto como un d$\\vec{W}$, es decir, la pequeña cantidad de trabajo hecho por el campo de fuerza $\\vec{F}$ sobre una partícula que se mueve a lo largo de $\\textit{C}$"
      ],
      "metadata": {
        "id": "7RbSymq7svBp"
      }
    },
    {
      "cell_type": "markdown",
      "source": [
        "\n",
        "<font size = 14>\n",
        "Ejemplo 2\n",
        "\n",
        "Considera el campo vectorial descrito por la función\n",
        "\n",
        "\\begin{equation}\n",
        "\\vec{F}(x,y)=\\begin{bmatrix}\n",
        "-y\\\\\n",
        "x\n",
        "\\end{bmatrix}\n",
        "\\end{equation}"
      ],
      "metadata": {
        "id": "ex6IcmSgtWuJ"
      }
    },
    {
      "cell_type": "code",
      "source": [
        "def cvec(vectores):\n",
        "  x = np.linspace(-5,5,vectores)\n",
        "  y = np.linspace(-5,5,vectores)\n",
        "  z = np.linspace(0, 2*np.pi)\n",
        "  m = np.cos(z)\n",
        "  n = np.sin(z)\n",
        "\n",
        "  plt.figure(figsize=(10,10))\n",
        "\n",
        "  xmesh, ymesh = np.meshgrid(x,y)\n",
        "\n",
        "  umesh = -ymesh\n",
        "  vmesh = xmesh\n",
        "\n",
        "  plt.quiver(xmesh, ymesh, umesh, vmesh)\n",
        "  plt.plot(m+2,n)\n",
        "\n",
        "  plt.axis('equal')\n",
        "\n",
        "\n",
        "  plt.grid(True)\n",
        "  plt.show()\n",
        "\n",
        "\n",
        "widgets.interact(cvec, vectores=widgets.IntText(value=1))"
      ],
      "metadata": {
        "id": "-qOADidZ2Qqg",
        "colab": {
          "base_uri": "https://localhost:8080/",
          "height": 880,
          "referenced_widgets": [
            "63585a2ec71f4b64b37d5c5b9c09aa86",
            "1a25b2fd95344c3d904f8c1f8fa86784",
            "ecacd3e2800d496e9d7e65ce9b1503a9",
            "80421615622f4b2098b6686600fb05a0",
            "1ec81d00e4314e6990e4dc73fcab9879",
            "26a305f137544f01a51e64061f1ae2ec",
            "c7d6bb10595745bf936839c8173af339"
          ]
        },
        "outputId": "a8456a32-8bcd-4dd3-c3e8-814b1422a74b"
      },
      "execution_count": null,
      "outputs": [
        {
          "output_type": "display_data",
          "data": {
            "text/plain": [
              "interactive(children=(IntText(value=1, description='vectores'), Output()), _dom_classes=('widget-interact',))"
            ],
            "application/vnd.jupyter.widget-view+json": {
              "version_major": 2,
              "version_minor": 0,
              "model_id": "63585a2ec71f4b64b37d5c5b9c09aa86"
            }
          },
          "metadata": {}
        },
        {
          "output_type": "execute_result",
          "data": {
            "text/plain": [
              "<function __main__.cvec(vectores)>"
            ]
          },
          "metadata": {},
          "execution_count": 29
        }
      ]
    },
    {
      "cell_type": "markdown",
      "source": [
        "Pensado como una fuerza, este campo vectorial empuja objetos alrededor del origen en sentido contraria a las manecillas del reloj. Por ejemplo, tal vez represente la fuerza debida al aire dentro de un tornado. Esto es poco realista porque implicaría que la fuerza aumenta continuamente conforme te alejas del centro del tornado, pero podemos eufemísticamente decir que es \"un modelo simplificado\" y continuar en nuestro alegre camino.\n",
        "\n",
        "\n",
        "Supón que queremos calcular una integral de línea a través de este campo vectorial a lo largo de un círculo de radio 1 y centro en (2, 0)."
      ],
      "metadata": {
        "id": "SRqEWWGD3sOH"
      }
    },
    {
      "cell_type": "markdown",
      "source": [
        "En este caso, la orientación importa. El trabajo realizado por el campo de fuerzas del tornado, conforme caminamos en el sentido contrario a las manecillas del reloj, puede ser distinto del trabajo realizado conforme caminamos en el sentido de las manecillas del reloj (más adelante estudiaremos explícitamente esta cuestión).\n",
        "\n",
        "Si escogemos considerar una caminata sobre este círculo en el sentido contrario a las manecillas del reloj, podemos parametrizar la curva con la función\n",
        "\n",
        "\\begin{equation}\n",
        "\\vec{r}(t)=\\begin{bmatrix}\n",
        "cos(t)+2\\\\\n",
        "sen(t)\n",
        "\\end{bmatrix}\n",
        "\\end{equation}\n",
        "\n",
        "Donde t va de $0$ a $2\\pi$"
      ],
      "metadata": {
        "id": "fZnK6llw67I3"
      }
    },
    {
      "cell_type": "markdown",
      "source": [
        "De nuevo, para construir la integral de línea que representa el trabajo, debemos considerar el campo vectorial en cada punto, $\\vec{F}$(x,y) y calcular su producto punto con un pequeño paso a lo largo de la curva d$\\vec{r}$:\n",
        "\n",
        "$\\int_C \\vec{F(r})\\cdot d\\vec{r} $"
      ],
      "metadata": {
        "id": "PRSXkfLhio-g"
      }
    },
    {
      "cell_type": "markdown",
      "source": [
        "**¿cuál de las siguientes integrales representa lo mismo que $\\int_C \\vec{F}\\cdot \\vec{dr}$?**\n",
        "\n",
        "**a)** $\\int_0^{2\\pi}\\vec{F(r(t))}\\cdot \\vec{r'(t)}dt$\n",
        "\n",
        "**b)** $\\int_a^{b}\\vec{F(r(t))}\\cdot \\vec{r'(t)}dt$"
      ],
      "metadata": {
        "id": "wcgPG6eQyx2m"
      }
    },
    {
      "cell_type": "markdown",
      "source": [
        "**Con base en las definiciones anteriores, ¿qué es $\\vec{F(r(t))}$?**\n",
        "\n",
        "**a)** \\begin{equation}\n",
        "\\vec{r}(t)=\\begin{bmatrix}\n",
        "cos(t)+2\\\\\n",
        "sen(t)\n",
        "\\end{bmatrix}\n",
        "\\end{equation}\n",
        "\n",
        "**b)** \\begin{equation}\n",
        "\\vec{r}(t)=\\begin{bmatrix}\n",
        "-sen(t)\\\\\n",
        "cos(t)+2\n",
        "\\end{bmatrix}\n",
        "\\end{equation}\n",
        "\n",
        "**Explicación:** F(x,y) se define como \\begin{equation}\n",
        "\\vec{F(x,y)}=\\begin{bmatrix}\n",
        "-y\\\\\n",
        "x\n",
        "\\end{bmatrix}\n",
        "\\end{equation} y $\\vec{r(t)}$ se define como\n",
        " \\begin{equation}\n",
        "\\vec{F(x,y)}=\\begin{bmatrix}\n",
        "cos(t)+2\\\\\n",
        "sen(t)\n",
        "\\end{bmatrix}\n",
        "\\end{equation}\n",
        "Entonces como $\\vec{r(t)}$ es un vector de 2 dimensiones, sustituyendo en $\\vec{F(x,y)}$ como $\\vec{F(r((t))}$\n",
        "\n",
        "\n",
        "\\begin{equation}\n",
        "\\vec{F}(cos(t)+2, sen(t))=\\begin{bmatrix}\n",
        "-sen(t)\\\\\n",
        "cos(t)+2\n",
        "\\end{bmatrix}\n",
        "\\end{equation}"
      ],
      "metadata": {
        "id": "Yfm4NTHyz6va"
      }
    },
    {
      "cell_type": "markdown",
      "source": [
        "**¿Qué es $\\vec{r'(t)}$?**\n",
        "\n",
        "**a)** \\begin{equation}\n",
        "\\vec{r'(t)}=\\begin{bmatrix}\n",
        "-sen(t)\\\\\n",
        "cos(t)\n",
        "\\end{bmatrix}\n",
        "\\end{equation}\n",
        "\n",
        "**b)**\\begin{equation}\n",
        "\\vec{r'(t)}=\\begin{bmatrix}\n",
        "cos(t)\\\\\n",
        "-sen(t)\n",
        "\\end{bmatrix}\n",
        "\\end{equation}\n",
        "\n",
        "**Explicación:** se deriva componente por componente quedando así \n",
        "\n",
        "\\begin{equation}\n",
        "\\vec{r'(t)}=\\begin{bmatrix}\n",
        "\\frac{d[cos(t)+2]}{dt}\\\\\n",
        "\\frac{d[sen(t)]}{dt}\n",
        "\\end{bmatrix}=\\begin{bmatrix}\n",
        "-sen(t)\\\\\n",
        "cos(t)\n",
        "\\end{bmatrix}\n",
        "\\end{equation}"
      ],
      "metadata": {
        "id": "-zda1CWb3sju"
      }
    },
    {
      "cell_type": "markdown",
      "source": [
        "**Con las tres respuestas anteriores, resuelve la integral de línea**\n",
        "\n",
        "\n",
        "**Explicación:**$\\int_C\\vec{F}\\cdot d\\vec{r}=\\int_0^{2\\pi}\\vec{F(r(t))}\\cdot \\vec{r'(t)}dt$\n",
        "\\begin{equation}\n",
        "=\\int_0^{2\\pi}\\begin{bmatrix}\n",
        "-sen(t)\\\\\n",
        "cos(t)+2\n",
        "\\end{bmatrix}\\cdot\\begin{bmatrix}\n",
        "-sen(t)\\\\\n",
        "cos(t)\n",
        "\\end{bmatrix}\n",
        "\\end{equation}\n",
        "$=\\int_0^{2\\pi}(sen^2(t)+cos^2(t)+2cos(t))dt$ Usando que $cos^2(t)+sen^2(t)=1$ entonces\n",
        "$\\int_0^{2\\pi}(1+2cos(t))dt = [t+2sen(t)]_0^{2\\pi}=(2\\pi+2sen(2\\pi))-(0+2sen(0))=2\\pi$\n",
        "\n",
        "La respuesta final es la cantidad de trabajo que el campo de fuerzas del tornado realiza sobre una partícula que se mueve sobre el círculo descrito en sentido contrario a las manecillas del reloj."
      ],
      "metadata": {
        "id": "6hnUlHV26DX6"
      }
    },
    {
      "cell_type": "markdown",
      "source": [
        "###**¿Estás de acuerdo con la intuición que la respuesta sea positiva?**\n",
        "\n",
        "Ya que el círculo está orientado en dirección contraria a las manecillas del reloj, caminas hacia arriba en el primero y cuarto cuadrantes, y hacia abajo en el segundo y tercer cuadrantes.\n",
        "Los vectores que tocan la mitad derecha del círculo son relativamente largos, y apuntan más o menos en la misma dirección en la que caminas; por lo tanto, contribuyen con un montón de trabajo positivo.\n",
        "Los vectores que tocan la mitad izquierda del círculo todavía apuntan hacia arriba, que es ahora la dirección opuesta a la que caminas, y por lo tanto hacen trabajo negativo. Sin embargo, estos vectores son relativamente cortos, por lo que no cancelan el trabajo positivo realizado en la parte derecha."
      ],
      "metadata": {
        "id": "eexQfrVE81kQ"
      }
    },
    {
      "cell_type": "code",
      "source": [
        "import numpy as np\n",
        "import matplotlib.pyplot as plt\n",
        "from ipywidgets import interact, IntSlider\n",
        "\n",
        "# Definimos la curva\n",
        "t = np.linspace(0, 2*np.pi, 100)\n",
        "x = np.cos(t)\n",
        "y = np.sin(t)\n",
        "\n",
        "# Calculamos los vectores tangentes\n",
        "dx = np.gradient(x)\n",
        "dy = np.gradient(y)\n",
        "tangentes = np.stack([dx, dy], axis=1)\n",
        "\n",
        "# Función para visualizar los vectores tangentes\n",
        "def plot_tangentes(num_vectores):\n",
        "    fig, ax = plt.subplots(figsize=(6, 6))\n",
        "    ax.plot(x, y, color='blue')\n",
        "    for i in range(0, len(t), len(t)//num_vectores):\n",
        "        ax.arrow(x[i], y[i], tangentes[i, 0], tangentes[i, 1], width=0.02, color='red')\n",
        "    ax.set_aspect('equal')\n",
        "    plt.show()\n",
        "\n",
        "# Widget para controlar la cantidad de vectores\n",
        "interact(plot_tangentes, num_vectores=IntSlider(min=1, max=100, step=1, value=10))"
      ],
      "metadata": {
        "colab": {
          "base_uri": "https://localhost:8080/",
          "height": 565,
          "referenced_widgets": [
            "afcdd0c726744ad08fb1ff424b15601d",
            "ace20feed4ac4eecbf37924a69754fcf",
            "8f80365ba76c401fa19c1b15694f060d",
            "13ce6c06ff0c4278ae154664bb2e51d3",
            "52c2ea0c34ea48e5855a6e3cad22dfd8",
            "18109e8c081940b08f089cf5f4e9253c",
            "90b7861d4d34478b8018a389fa5e93bc"
          ]
        },
        "id": "kwAE8YlQaT4F",
        "outputId": "32fa8716-cd92-420f-a7f8-c2a6885be7d9"
      },
      "execution_count": null,
      "outputs": [
        {
          "output_type": "display_data",
          "data": {
            "text/plain": [
              "interactive(children=(IntSlider(value=10, description='num_vectores', min=1), Output()), _dom_classes=('widget…"
            ],
            "application/vnd.jupyter.widget-view+json": {
              "version_major": 2,
              "version_minor": 0,
              "model_id": "afcdd0c726744ad08fb1ff424b15601d"
            }
          },
          "metadata": {}
        },
        {
          "output_type": "execute_result",
          "data": {
            "text/plain": [
              "<function __main__.plot_tangentes(num_vectores)>"
            ]
          },
          "metadata": {},
          "execution_count": 30
        }
      ]
    },
    {
      "cell_type": "markdown",
      "source": [
        "#Un ejempo más real\n",
        "\n",
        "En muchos dispositivos que utilizan una corriente para crear un campo magnético, tales como un transformador, el hilo que transporta la corriente está arrollado en forma de una bobina formada por muchas espiras. Estudiaremos, en primer lugar, el campo creado por una espira."
      ],
      "metadata": {
        "id": "f8Mh1YvmyWrg"
      }
    },
    {
      "cell_type": "markdown",
      "source": [
        "<img src=data:image/png;base64,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 >"
      ],
      "metadata": {
        "id": "_5DEIwoRE53m"
      }
    },
    {
      "cell_type": "markdown",
      "source": [
        "En la figura, se muestra una espira circular de radio a, recorrida por una corriente de intensidad i. El punto P está sobre el eje de la espira a una distancia z de su centro.\n",
        "\n",
        "Sea r la distancia entre el elemento de corriente y el punto P. La ley de Biot nos permite calcular el campo magnético creado por dicho elemento de corriente.\n",
        "\n",
        "$dB = \\frac{\\mu_0 i}{4 \\pi}\\frac{u_t x u_r}{r^2}dl = \\frac{\\mu_0i dl}{4 \\pi r^2}$\n",
        "\n",
        "A tener en cuenta que los vectores $u_t$ y $u_r$ forman 90°\n",
        "\n",
        "El vector campo magnético dB tiene dos componentes, uno a lo largo del eje de la espira $dB·cos(90-θ )$ y el otro perpendicular al eje de la espira $dB·sin(90-θ )$\n",
        "Por razón de simetría, <font color='red'>las componentes perpendiculares al eje creadas por elementos diametralmente opuestos se anulan entre sí. \n",
        "</font>\n",
        "\n"
      ],
      "metadata": {
        "id": "Be1CfqyAHngr"
      }
    },
    {
      "cell_type": "code",
      "source": [
        "import matplotlib.pyplot as plt\n",
        "# Vector origin location\n",
        "X = [0]\n",
        "Y = [0]\n",
        "  \n",
        "# Directional vectors\n",
        "U1 = [2]  \n",
        "V1 = [1]  \n",
        "\n",
        "U2 = [-2]\n",
        "V2 = [1]\n",
        "\n",
        "U3 = [2]\n",
        "V3 = [0]\n",
        "U4 = [-2]\n",
        "V4 = [0]\n",
        "  \n",
        "U5 = [0]\n",
        "V5 = [1] \n",
        "# Creating plot\n",
        "plt.quiver(X, Y, U1, V1, color='b', units='xy', scale=1)\n",
        "plt.quiver(X, Y, U2, V2, color='b', units='xy', scale=1)\n",
        "plt.quiver(X, Y, U3, V3, color='r', units='xy', scale=1)\n",
        "plt.quiver(X, Y, U4, V4, color='r', units='xy', scale=1)\n",
        "plt.quiver(X, Y, U5, V5, color='g', units='xy', scale=1)\n",
        "plt.title('vectores')\n",
        "  \n",
        "# x-lim and y-lim\n",
        "plt.xlim(-4, 4)\n",
        "plt.ylim(-2, 2)\n",
        "  \n",
        "# Show plot with grid\n",
        "plt.grid()\n",
        "plt.show()"
      ],
      "metadata": {
        "colab": {
          "base_uri": "https://localhost:8080/",
          "height": 452
        },
        "id": "21cDTaezKFf-",
        "outputId": "6a7ad62d-924a-4b4c-f666-a35c40287e55"
      },
      "execution_count": 17,
      "outputs": [
        {
          "output_type": "display_data",
          "data": {
            "text/plain": [
              "<Figure size 640x480 with 1 Axes>"
            ],
            "image/png": "[encoded data removed]"
          },
          "metadata": {}
        }
      ]
    },
    {
      "cell_type": "markdown",
      "source": [
        "Por tanto, el campo magnético resultante <font color='green'>está dirigido a lo largo del eje y\n",
        "</font> puede calcularse mediante una integración sencilla ya que r es constante y θ es constante\n",
        "\n",
        "  $B = \\int db \\cdot cos(90-\\theta) = \\frac{\\mu_0i}{4 \\pi r^2} sin\\theta \\oint dl = \\frac{\\mu_0i}{4 \\pi r^2} 2 \\pi a sin\\theta = \\frac{\\mu_0i a^2}{2(\\sqrt(z^2+a^2))^3}$ \n",
        "  podemos notar que en el centro de la espira z = 0, tenemos $\\frac{\\mu_0i}{2 a}$\n"
      ],
      "metadata": {
        "id": "7hTApaiPNPEI"
      }
    },
    {
      "cell_type": "markdown",
      "source": [
        "<img src=https://lh3.googleusercontent.com/mkhyDBzzBZd7oJvar0CTCR_szLwbfmCeX_ADQ2T5KXRDBfpDNNwY17xTs7Wnx5TzNId5MMXvV44YsDzbSqfJGK06yp8cc9L1HUao7aUVtw>"
      ],
      "metadata": {
        "id": "phlY8cxyh0PS"
      }
    },
    {
      "cell_type": "markdown",
      "source": [
        "El sentido del campo magnético viene determinado por la regla de la mano derecha.\n",
        "\n",
        "Para una espira no es aplicable la ley de Ampère. Sin embargo si se disponen varias espiras iguales, igualmente espaciadas, se va creando un campo cuya dirección es cada vez más paralela al eje común de las espiras, a medida que se incrementa su número\n",
        "\n",
        "En la situación ideal de un solenoide formado por un número grande de espiras apretadas, cuya longitud es grande comparada con su diámetro, el campo en el interior es casi uniforme y paralelo al eje y en el exterior es muy pequeño. En estas condiciones es aplicable la ley de Ampére, para determinar el campo magnético en el interior del solenoide."
      ],
      "metadata": {
        "id": "c5E2a31mhV1H"
      }
    },
    {
      "cell_type": "code",
      "source": [
        "import numpy as np\n",
        "import matplotlib.pyplot as plt\n",
        "from ipywidgets import interact, FloatSlider\n",
        "\n",
        "# Definimos la trayectoria\n",
        "t = np.linspace(0, 2*np.pi, 100)\n",
        "x = np.cos(t)\n",
        "y = np.sin(t)\n",
        "\n",
        "# Función para visualizar la trayectoria y el objeto en su posición actual\n",
        "def plot_objeto(pos):\n",
        "    fig, ax = plt.subplots(figsize=(6, 6))\n",
        "    ax.plot(x, y, color='blue')\n",
        "    ax.plot(x[pos], y[pos], marker='o', markersize=10, color='red')\n",
        "    ax.set_aspect('equal')\n",
        "plt.show()\n",
        "\n",
        "# Widget para controlar la posición del objeto en la trayectoria\n",
        "interact(plot_objeto, pos=FloatSlider(min=0, max=len(t)-1, step=1, value=0))\n"
      ],
      "metadata": {
        "colab": {
          "base_uri": "https://localhost:8080/",
          "height": 930,
          "referenced_widgets": [
            "b6b1df79e5ea45bd9b79e9a1d04c0529",
            "99569ad09c264a4cb108b3e49be24052",
            "2c9440c22f1b45848666e56432d733da",
            "659e00c3e3a048c19fe2c59a6c748455",
            "2038e9b050f24a45ba72fedd66f5d442",
            "41a972c0711a48c0a2daf509876407e6",
            "45b26ced7f9242c4b9076b660de118b6"
          ]
        },
        "id": "A-L9x3m3ayIL",
        "outputId": "e41c90d8-d413-4683-d0bd-6da80c24580a"
      },
      "execution_count": null,
      "outputs": [
        {
          "output_type": "display_data",
          "data": {
            "text/plain": [
              "interactive(children=(FloatSlider(value=0.0, description='pos', max=99.0, step=1.0), Output()), _dom_classes=(…"
            ],
            "application/vnd.jupyter.widget-view+json": {
              "version_major": 2,
              "version_minor": 0,
              "model_id": "b6b1df79e5ea45bd9b79e9a1d04c0529"
            }
          },
          "metadata": {}
        },
        {
          "output_type": "execute_result",
          "data": {
            "text/plain": [
              "<function __main__.plot_objeto(pos)>"
            ]
          },
          "metadata": {},
          "execution_count": 31
        },
        {
          "output_type": "display_data",
          "data": {
            "text/plain": [
              "<Figure size 600x600 with 1 Axes>"
            ],
            "image/png": "[encoded data removed]"
          },
          "metadata": {}
        }
      ]
    },
    {
      "cell_type": "code",
      "source": [
        "import numpy as np \n",
        "import matplotlib.pyplot as plt\n",
        "\n",
        "y = np.linspace(0, 10, 100)\n",
        "x = 4 + 2 * np.sin(2 * y)\n",
        "\n",
        "\n",
        "plt.plot(x, x+y, color = 'red')\n",
        "\n",
        "plt.show()\n",
        "#print(type(y))"
      ],
      "metadata": {
        "id": "wdsim8QWdGDF",
        "colab": {
          "base_uri": "https://localhost:8080/",
          "height": 430
        },
        "outputId": "cdff4f6d-f1e4-4a81-e062-79e5e12f0072"
      },
      "execution_count": null,
      "outputs": [
        {
          "output_type": "display_data",
          "data": {
            "text/plain": [
              "<Figure size 640x480 with 1 Axes>"
            ],
            "image/png": "[encoded data removed]"
          },
          "metadata": {}
        }
      ]
    },
    {
      "cell_type": "code",
      "source": [
        "import numpy as np\n",
        "import matplotlib.pyplot as plt\n",
        "from ipywidgets import interact, FloatSlider\n",
        "\n",
        "x = np.linspace(0, 2*np.pi, 100)\n",
        "y = np.sin(x)\n",
        "\n",
        "def update(t=0):\n",
        "    fig, ax = plt.subplots()\n",
        "    ax.plot(y,x)\n",
        "    ax.scatter([np.sin(t)], [t], color='red')\n",
        "    plt.show()\n",
        "\n",
        "interact(update, t=FloatSlider(min=0, max=2*np.pi, step=0.1))"
      ],
      "metadata": {
        "colab": {
          "base_uri": "https://localhost:8080/",
          "height": 480,
          "referenced_widgets": [
            "f869e79fc31345cba7f96550782f208d",
            "56f5f0863f5f43779f1521af6b3e8e49",
            "d92dd6042b2942c4825cf7b409b1904c",
            "dd2b6673bbe74543a6feaad4949bbd01",
            "8660ee76b1af457a80fa8ce843e8aa7b",
            "089f838328a5461fbfb41188ed9da22b",
            "b6bf04a2409645ce9c9b92e9901e63d5"
          ]
        },
        "id": "Bw36Uaa6AgFY",
        "outputId": "187a8e3d-a7aa-4186-8150-29c472ed3435"
      },
      "execution_count": 9,
      "outputs": [
        {
          "output_type": "display_data",
          "data": {
            "text/plain": [
              "interactive(children=(FloatSlider(value=0.0, description='t', max=6.283185307179586), Output()), _dom_classes=…"
            ],
            "application/vnd.jupyter.widget-view+json": {
              "version_major": 2,
              "version_minor": 0,
              "model_id": "f869e79fc31345cba7f96550782f208d"
            }
          },
          "metadata": {}
        },
        {
          "output_type": "execute_result",
          "data": {
            "text/plain": [
              "<function __main__.update(t=0)>"
            ]
          },
          "metadata": {},
          "execution_count": 9
        }
      ]
    },
    {
      "cell_type": "code",
      "source": [],
      "metadata": {
        "id": "L2olkbbCBJXb"
      },
      "execution_count": null,
      "outputs": []
    }
  ]
}