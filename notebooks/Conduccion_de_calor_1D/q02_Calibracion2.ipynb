{
 "cells": [
  {
   "cell_type": "markdown",
   "metadata": {
    "nbgrader": {
     "grade": false,
     "grade_id": "cell-8c70e9cd3f153e02",
     "locked": true,
     "schema_version": 3,
     "solution": false,
     "task": false
    }
   },
   "source": [
    "# Conducción de calor 1D: condiciones de tipo Neumann\n",
    "\n",
    "- Autor: Luis M. de la Cruz Salas\n",
    "- Rev: mié 24 feb 2021 14:41:27 CST"
   ]
  },
  {
   "cell_type": "code",
   "execution_count": null,
   "metadata": {
    "nbgrader": {
     "grade": false,
     "grade_id": "cell-f9258237bc7edd13",
     "locked": true,
     "schema_version": 3,
     "solution": false,
     "task": false
    },
    "tags": []
   },
   "outputs": [],
   "source": [
    "import numpy as np\n",
    "import matplotlib.pyplot as plt\n",
    "import macti.visual as mvis\n",
    "from macti.evaluation import Quizz, FileAnswer\n",
    "quizz = Quizz('2', 'notebooks', 'Conduccion_de_calor_1D', 'local')\n",
    "file_answer = FileAnswer('notebooks', 'Conduccion_de_calor_1D', 'local')"
   ]
  },
  {
   "cell_type": "markdown",
   "metadata": {
    "nbgrader": {
     "grade": false,
     "grade_id": "cell-48ef87c3cbc6e9e2",
     "locked": true,
     "schema_version": 3,
     "solution": false,
     "task": false
    }
   },
   "source": [
    "Considere el siguiente problema:\n",
    "\n",
    "$$\n",
    "\\begin{eqnarray}\n",
    " -\\frac{d^2 u(x)}{d x^2} & = & -e^x \\,\\,\\,\\,\\, x \\in [0,1] \\\\ \n",
    " \\frac{du}{d n}(0) & = & 0 \\\\\n",
    " u(1) & = & 3 \n",
    "\\end{eqnarray}\n",
    "$$\n",
    "\n",
    "cuya solución analítica es:\n",
    "$\\displaystyle u(x) = e^x - x - e + 4 $\n",
    "\n",
    "Observa que en este caso se proporciona una condición de tipo **Neumann** en la frontera izquierda del dominio ($x=0$)."
   ]
  },
  {
   "cell_type": "markdown",
   "metadata": {
    "nbgrader": {
     "grade": false,
     "grade_id": "cell-59da61b66bb12103",
     "locked": true,
     "schema_version": 3,
     "solution": false,
     "task": false
    }
   },
   "source": [
    "## Funciones."
   ]
  },
  {
   "cell_type": "code",
   "execution_count": null,
   "metadata": {
    "nbgrader": {
     "grade": false,
     "grade_id": "cell-6bcab5d93cd14616",
     "locked": true,
     "schema_version": 3,
     "solution": false,
     "task": false
    },
    "tags": []
   },
   "outputs": [],
   "source": [
    "def buildMatrix(N, d):\n",
    "    # Matriz de ceros\n",
    "    A = np.zeros((N,N))\n",
    "    \n",
    "    # Primer renglón\n",
    "    A[0,0] = d\n",
    "    A[0,1] = -1\n",
    "    \n",
    "    # Renglones interiores\n",
    "    for i in range(1,N-1):\n",
    "        A[i,i] = d\n",
    "        A[i,i+1] = -1\n",
    "        A[i,i-1] = -1\n",
    "    \n",
    "    # Último renglón\n",
    "    A[N-1,N-2] = -1\n",
    "    A[N-1,N-1] = d\n",
    "    \n",
    "    return A\n",
    "    \n",
    "def solExact(x):\n",
    "    return np.exp(x) - x - np.e + 4"
   ]
  },
  {
   "cell_type": "code",
   "execution_count": null,
   "metadata": {
    "nbgrader": {
     "grade": false,
     "grade_id": "cell-599b3d12b30f1f3b",
     "locked": true,
     "schema_version": 3,
     "solution": false,
     "task": false
    },
    "tags": []
   },
   "outputs": [],
   "source": [
    "# Parámetros físicos\n",
    "L = 1.0\n",
    "f_A = 0.0  # Flujo en A (Neumman)\n",
    "b_B = 3.0  # Valor de u en B (Dirichlet)\n",
    "k = 1.0\n",
    "\n",
    "# Parámetros numéricos\n",
    "N = 4 # Número de incógnitas\n",
    "h = L / (N+1)\n",
    "\n",
    "# Coordenadas de los nodos\n",
    "x = np.linspace(0, L, N+2)\n",
    "\n",
    "# Solución exacta en los nodos\n",
    "sol_e = solExact(x) \n",
    "\n",
    "# Construcción de la matriz\n",
    "A = buildMatrix(N+1, 2)    \n",
    "\n",
    "# Lado derecho del sistema\n",
    "b = np.zeros(N+1)\n",
    "\n",
    "# Fuente o sumidero\n",
    "b[1:] = -np.exp(x[1:-1])*h**2 \n",
    "\n",
    "# Condición de frontera en B\n",
    "b[-1] += b_B"
   ]
  },
  {
   "cell_type": "code",
   "execution_count": null,
   "metadata": {},
   "outputs": [],
   "source": [
    "print(A)\n",
    "print(b)"
   ]
  },
  {
   "cell_type": "markdown",
   "metadata": {
    "nbgrader": {
     "grade": false,
     "grade_id": "cell-9b96acad2079c832",
     "locked": true,
     "schema_version": 3,
     "solution": false,
     "task": false
    }
   },
   "source": [
    "## <font color=\"DodgerBlue\">Ejercicio 1.</font>\n",
    "\n",
    "---\n",
    "\n",
    "Definir lo siguiente:\n",
    "\n",
    "* La función `Neumann_I(A, b, bcond)` que implemente la aproximación I de la presentación \"Problemas de Calibración\" (página 12).\n",
    "* Llamada a la función `Neumann_I(A, b, bcond)` con los parámetros adecuados.\n",
    "  \n",
    "---"
   ]
  },
  {
   "cell_type": "code",
   "execution_count": null,
   "metadata": {
    "nbgrader": {
     "grade": false,
     "grade_id": "cell-1093cf9b4333ea7a",
     "locked": false,
     "schema_version": 3,
     "solution": true,
     "task": false
    }
   },
   "outputs": [],
   "source": [
    "### BEGIN SOLUTION\n",
    "def Neumann_I(A, b, bcond):\n",
    "    A[0][0] = 1\n",
    "    A[0][1] = -1\n",
    "    A[0][2] = 0\n",
    "    b[0] = bcond\n",
    "\n",
    "# Corrección de la matriz y el RHS, orden lineal\n",
    "Neumann_I(A, b, h * f_A)\n",
    "### END SOLUTION\n",
    "\n",
    "# Arreglo para almacenar la solución\n",
    "u1 = np.zeros(N+2)\n",
    "\n",
    "# Condición de frontera del lado derecho: Dirichlet\n",
    "u1[-1] = b_B\n",
    "\n",
    "# Solución del sistema lineal\n",
    "u1[:N+1] = np.linalg.solve(A,b)\n",
    "\n",
    "print('Solución numérica: {}'.format(u1))"
   ]
  },
  {
   "cell_type": "code",
   "execution_count": null,
   "metadata": {
    "nbgrader": {
     "grade": true,
     "grade_id": "cell-cf317e1207bb5a66",
     "locked": true,
     "points": 1,
     "schema_version": 3,
     "solution": false,
     "task": false
    }
   },
   "outputs": [],
   "source": [
    "quizz.eval_numeric('1', u1)"
   ]
  },
  {
   "cell_type": "markdown",
   "metadata": {
    "nbgrader": {
     "grade": false,
     "grade_id": "cell-e6f9a19fc2a940fb",
     "locked": true,
     "schema_version": 3,
     "solution": false,
     "task": false
    }
   },
   "source": [
    "## <font color=\"DodgerBlue\">Ejercicio 2.</font>\n",
    "\n",
    "---\n",
    "\n",
    "* Calcular el error de la solución numérica `u1` con respecto a la solución exacta `sol_e` usando la definición **Grid norm 2** descrita en la \"Problemas de Calibración\" (página 20).\n",
    "  \n",
    "---\n"
   ]
  },
  {
   "cell_type": "code",
   "execution_count": null,
   "metadata": {
    "nbgrader": {
     "grade": false,
     "grade_id": "cell-5816c79800922512",
     "locked": false,
     "schema_version": 3,
     "solution": true,
     "task": false
    }
   },
   "outputs": [],
   "source": [
    "### BEGIN SOLUTION\n",
    "# Cálculo del error\n",
    "e1 = np.sqrt(h) * np.linalg.norm(sol_e - u1, 2) \n",
    "\n",
    "file_answer.write('2', e1, 'La implementación del error Grid norm 2 parece no ser correcta.')\n",
    "### END SOLUTION\n",
    "\n",
    "print('Error: {}'.format(e1))"
   ]
  },
  {
   "cell_type": "code",
   "execution_count": null,
   "metadata": {
    "nbgrader": {
     "grade": true,
     "grade_id": "cell-82b579f944aa3f09",
     "locked": true,
     "points": 1,
     "schema_version": 3,
     "solution": false,
     "task": false
    }
   },
   "outputs": [],
   "source": [
    "quizz.eval_numeric('2', e1)"
   ]
  },
  {
   "cell_type": "code",
   "execution_count": null,
   "metadata": {
    "nbgrader": {
     "grade": false,
     "grade_id": "cell-66b30800ca54b0cb",
     "locked": true,
     "schema_version": 3,
     "solution": false,
     "task": false
    }
   },
   "outputs": [],
   "source": [
    "# Graficación de la solución y el error\n",
    "error_label_1 = 'Error (grid norm {}) = {:0.4f}'.format(2, e1)\n",
    "\n",
    "plt.figure(figsize=(10,7))\n",
    "\n",
    "# Graficación de la solución exacta\n",
    "xsol = np.linspace(0,1,100)\n",
    "plt.plot(xsol, solExact(xsol),'r-', label='Sol. exacta', zorder=0)\n",
    "\n",
    "# Graficación de la solución numérica\n",
    "plt.scatter(x, u1, marker='o', edgecolor='k', zorder=5,\n",
    "            label='Aprox. I: $\\mathcal{O}(h)$, ' + error_label_1)\n",
    "plt.plot(x, u1, '--', lw=1.5, alpha=0.75)\n",
    "\n",
    "# Decoración de la gráfica\n",
    "plt.xlabel('$x$')\n",
    "plt.ylabel('$u$')\n",
    "plt.legend(loc='upper left', fontsize=14)\n",
    "plt.grid()\n",
    "plt.show()"
   ]
  },
  {
   "cell_type": "markdown",
   "metadata": {
    "nbgrader": {
     "grade": false,
     "grade_id": "cell-067f69015518e01f",
     "locked": true,
     "schema_version": 3,
     "solution": false,
     "task": false
    }
   },
   "source": [
    "## <font color=\"DodgerBlue\">Ejercicio 3.</font>\n",
    "\n",
    "---\n",
    "\n",
    "Definir lo siguiente:\n",
    "\n",
    "* La función `Neumann_II(A, b, bcond)` que implemente la aproximación II de la presentación \"Problemas de Calibración\" (página 15).\n",
    "* Llamada a la función `Neumann_II(A, b, bcond)` con los parámetros adecuados.\n",
    "  \n",
    "---"
   ]
  },
  {
   "cell_type": "code",
   "execution_count": null,
   "metadata": {
    "nbgrader": {
     "grade": false,
     "grade_id": "cell-32c703436f276510",
     "locked": false,
     "schema_version": 3,
     "solution": true,
     "task": false
    }
   },
   "outputs": [],
   "source": [
    "### BEGIN SOLUTION\n",
    "def Neumann_II(A, b, bcond):\n",
    "    A[0][0] = 3\n",
    "    A[0][1] = -4\n",
    "    A[0][2] = 1\n",
    "    b[0] = bcond\n",
    "\n",
    "# Corrección de la matriz y el RHS, orden lineal\n",
    "Neumann_II(A, b, 2 * h * f_A) \n",
    "### END SOLUTION\n",
    "\n",
    "# Arreglo para almacenar la solución\n",
    "u2 = np.zeros(N+2)\n",
    "\n",
    "# Condición de frontera del lado derecho: Dirichlet\n",
    "u2[-1] = b_B\n",
    "\n",
    "# Solución del sistema lineal\n",
    "u2[:N+1] = np.linalg.solve(A,b)\n",
    "\n",
    "print('Solución numérica: {}'.format(u2))"
   ]
  },
  {
   "cell_type": "code",
   "execution_count": null,
   "metadata": {
    "nbgrader": {
     "grade": true,
     "grade_id": "cell-834a9196e91ee17b",
     "locked": true,
     "points": 1,
     "schema_version": 3,
     "solution": false,
     "task": false
    }
   },
   "outputs": [],
   "source": [
    "quizz.eval_numeric('3', u2)"
   ]
  },
  {
   "cell_type": "markdown",
   "metadata": {
    "nbgrader": {
     "grade": false,
     "grade_id": "cell-05f7654ff99b93fe",
     "locked": true,
     "schema_version": 3,
     "solution": false,
     "task": false
    }
   },
   "source": [
    "## <font color=\"DodgerBlue\">Ejercicio 4.</font>\n",
    "\n",
    "---\n",
    "\n",
    "* Calcular el error de la solución numérica `u2` con respecto a la solución exacta `sol_e` usando la definición **Grid norm 2** descrita en la \"Problemas de Calibración\" (página 20).\n",
    "  \n",
    "---"
   ]
  },
  {
   "cell_type": "code",
   "execution_count": null,
   "metadata": {
    "nbgrader": {
     "grade": false,
     "grade_id": "cell-1b73d0408f7fc0fa",
     "locked": false,
     "schema_version": 3,
     "solution": true,
     "task": false
    }
   },
   "outputs": [],
   "source": [
    "### BEGIN SOLUTION\n",
    "# Cálculo del error\n",
    "e2 = np.sqrt(h) * np.linalg.norm(sol_e - u2, 2) \n",
    "\n",
    "file_answer.write('4', e2, 'La implementación del error Grid norm 2 parece no ser correcta.')\n",
    "### END SOLUTION\n",
    "\n",
    "print('Error: {}'.format(e2))"
   ]
  },
  {
   "cell_type": "code",
   "execution_count": null,
   "metadata": {
    "nbgrader": {
     "grade": true,
     "grade_id": "cell-a19526bee575343c",
     "locked": true,
     "points": 1,
     "schema_version": 3,
     "solution": false,
     "task": false
    }
   },
   "outputs": [],
   "source": [
    "quizz.eval_numeric('4', e2)"
   ]
  },
  {
   "cell_type": "code",
   "execution_count": null,
   "metadata": {
    "nbgrader": {
     "grade": false,
     "grade_id": "cell-5b9baca83900517f",
     "locked": true,
     "schema_version": 3,
     "solution": false,
     "task": false
    }
   },
   "outputs": [],
   "source": [
    "# Graficación de la solución y el error\n",
    "error_label_2 = 'Error (grid norm {}) = {:0.4f}'.format(2, e2)\n",
    "\n",
    "plt.figure(figsize=(10,7))\n",
    "\n",
    "# Graficación de la solución exacta\n",
    "plt.plot(xsol, solExact(xsol),'r-', label='Sol. exacta', zorder=0)\n",
    "\n",
    "# Graficación de la solución numérica\n",
    "plt.scatter(x, u2, marker='o', edgecolor='k', zorder=5,\n",
    "            label='Aprox. II: $\\mathcal{O}(h)$, ' + error_label_2)\n",
    "plt.plot(x, u2, '--', lw=1.5, alpha=0.75)\n",
    "\n",
    "# Decoración de la gráfica\n",
    "plt.xlabel('$x$')\n",
    "plt.ylabel('$u$')\n",
    "plt.legend(loc='upper left', fontsize=14)\n",
    "plt.grid()\n",
    "plt.show()"
   ]
  },
  {
   "cell_type": "markdown",
   "metadata": {
    "nbgrader": {
     "grade": false,
     "grade_id": "cell-74afefc38a40a8c1",
     "locked": true,
     "schema_version": 3,
     "solution": false,
     "task": false
    }
   },
   "source": [
    "## <font color=\"DodgerBlue\">Ejercicio 5.</font>\n",
    "\n",
    "---\n",
    "\n",
    "Definir lo siguiente:\n",
    "\n",
    "* La función `Neumann_III(A, b, bcond)` que implemente la aproximación II de la presentación \"Problemas de Calibración\" (página 18).\n",
    "* Llamada a la función `Neumann_III(A, b, bcond)` con los parámetros adecuados.\n",
    "  \n",
    "---"
   ]
  },
  {
   "cell_type": "code",
   "execution_count": null,
   "metadata": {
    "nbgrader": {
     "grade": false,
     "grade_id": "cell-3988a51da6c9f305",
     "locked": false,
     "schema_version": 3,
     "solution": true,
     "task": false
    }
   },
   "outputs": [],
   "source": [
    "### BEGIN SOLUTION\n",
    "def Neumann_III(A, b, bcond):\n",
    "    A[0][0] = 2\n",
    "    A[0][1] = -2\n",
    "    A[0][2] = 0\n",
    "    b[0] = bcond\n",
    "\n",
    "# Corrección de la matriz y el RHS, orden lineal\n",
    "Neumann_III(A, b, -np.exp(x[0]) * h**2 + 2 * h * f_A)\n",
    "### END SOLUTION\n",
    "\n",
    "# Arreglo para almacenar la solución\n",
    "u3 = np.zeros(N+2)\n",
    "\n",
    "# Condición de frontera del lado derecho: Dirichlet\n",
    "u3[-1] = b_B\n",
    "\n",
    "# Solución del sistema lineal\n",
    "u3[:N+1] = np.linalg.solve(A,b)\n",
    "\n",
    "print('Solución numérica: {}'.format(u3))"
   ]
  },
  {
   "cell_type": "code",
   "execution_count": null,
   "metadata": {
    "nbgrader": {
     "grade": true,
     "grade_id": "cell-e202813ab266799d",
     "locked": true,
     "points": 1,
     "schema_version": 3,
     "solution": false,
     "task": false
    }
   },
   "outputs": [],
   "source": [
    "quizz.eval_numeric('5', u3)"
   ]
  },
  {
   "cell_type": "markdown",
   "metadata": {
    "nbgrader": {
     "grade": false,
     "grade_id": "cell-91a06b5e5521948c",
     "locked": true,
     "schema_version": 3,
     "solution": false,
     "task": false
    }
   },
   "source": [
    "## <font color=\"DodgerBlue\">Ejercicio 6.</font>\n",
    "\n",
    "---\n",
    "\n",
    "* Calcular el error de la solución numérica `u3` con respecto a la solución exacta `sol_e` usando la definición **Grid norm 2** descrita en la \"Problemas de Calibración\" (página 20).\n",
    "  \n",
    "---"
   ]
  },
  {
   "cell_type": "code",
   "execution_count": null,
   "metadata": {
    "nbgrader": {
     "grade": false,
     "grade_id": "cell-03aa1eb40666cc9b",
     "locked": false,
     "schema_version": 3,
     "solution": true,
     "task": false
    }
   },
   "outputs": [],
   "source": [
    "### BEGIN SOLUTION\n",
    "# Cálculo del error\n",
    "e3 = np.sqrt(h) * np.linalg.norm(sol_e - u3, 2) \n",
    "\n",
    "file_answer.write('6', e3, 'La implementación del error Grid norm 2 parece no ser correcta.')\n",
    "### END SOLUTION\n",
    "\n",
    "print('Error: {}'.format(e3))"
   ]
  },
  {
   "cell_type": "code",
   "execution_count": null,
   "metadata": {
    "nbgrader": {
     "grade": true,
     "grade_id": "cell-663124896a148ffc",
     "locked": true,
     "points": 1,
     "schema_version": 3,
     "solution": false,
     "task": false
    }
   },
   "outputs": [],
   "source": [
    "quizz.eval_numeric('6', e3)"
   ]
  },
  {
   "cell_type": "code",
   "execution_count": null,
   "metadata": {
    "nbgrader": {
     "grade": false,
     "grade_id": "cell-50d6cc2310edec4e",
     "locked": true,
     "schema_version": 3,
     "solution": false,
     "task": false
    }
   },
   "outputs": [],
   "source": [
    "# Graficación de la solución y el error\n",
    "error_label_3 = 'Error (grid norm {}) = {:0.4f}'.format(2, e3)\n",
    "\n",
    "plt.figure(figsize=(10,7))\n",
    "\n",
    "# Graficación de la solución exacta\n",
    "plt.plot(xsol, solExact(xsol),'r-', label='Sol. exacta', zorder=0)\n",
    "\n",
    "# Graficación de la solución numérica\n",
    "plt.scatter(x, u3, marker='o', edgecolor='k', zorder=5,\n",
    "            label='Aprox. III: $\\mathcal{O}(h)$, ' + error_label_3)\n",
    "plt.plot(x, u3, '--', lw=1.5, alpha=0.75)\n",
    "\n",
    "# Decoración de la gráfica\n",
    "plt.xlabel('$x$')\n",
    "plt.ylabel('$u$')\n",
    "plt.legend(loc='upper left', fontsize=14)\n",
    "plt.grid()\n",
    "plt.show()"
   ]
  },
  {
   "cell_type": "markdown",
   "metadata": {
    "nbgrader": {
     "grade": false,
     "grade_id": "cell-c03323bdcca8c6b3",
     "locked": true,
     "schema_version": 3,
     "solution": false,
     "task": false
    }
   },
   "source": [
    "## Graficación de las tres aproximaciones."
   ]
  },
  {
   "cell_type": "code",
   "execution_count": null,
   "metadata": {
    "nbgrader": {
     "grade": false,
     "grade_id": "cell-a092eb23a387c034",
     "locked": true,
     "schema_version": 3,
     "solution": false,
     "task": false
    },
    "tags": []
   },
   "outputs": [],
   "source": [
    "plt.figure(figsize=(10,7))\n",
    "xsol = np.linspace(0,1,100)\n",
    "plt.plot(xsol, solExact(xsol),'r-', label='Sol. exacta', zorder=0)\n",
    "plt.scatter(x, u1, marker='o', edgecolor='k', zorder=5,\n",
    "            label='Aprox. I: $\\mathcal{O}(h)$, ' + error_label_1)\n",
    "plt.plot(x, u1, '--', lw=1.5, alpha=0.75)\n",
    "plt.scatter(x, u2, marker='s', edgecolor='k', zorder=5,\n",
    "            label='Aprox. II: $\\mathcal{O}(h^2)$, ' + error_label_2)\n",
    "plt.plot(x, u2, '--', lw=1.5, alpha=0.75)\n",
    "plt.scatter(x, u3, marker='^', edgecolor='k', zorder=5,\n",
    "            label='Aprox. III: $\\mathcal{O}(h^2)$, ' + error_label_3)\n",
    "plt.plot(x, u3, '--', lw=1.5, alpha=0.75)\n",
    "plt.xlabel('$x$')\n",
    "plt.ylabel('$u$')\n",
    "plt.legend(loc='upper left', fontsize=14)\n",
    "plt.grid()\n",
    "plt.show()"
   ]
  },
  {
   "cell_type": "markdown",
   "metadata": {
    "nbgrader": {
     "grade": false,
     "grade_id": "cell-48b651f6f8279562",
     "locked": true,
     "schema_version": 3,
     "solution": false,
     "task": false
    }
   },
   "source": [
    "## Estudio de refinamiento de malla.\n",
    "\n",
    "La función `meshRefining(...)` realiza un estudio de refinamiento de malla para determinar la mejor aproximación de las condiciones de frontera de tipo Neumann. \n"
   ]
  },
  {
   "cell_type": "code",
   "execution_count": null,
   "metadata": {
    "nbgrader": {
     "grade": false,
     "grade_id": "cell-07b07fab1a6eccbf",
     "locked": true,
     "schema_version": 3,
     "solution": false,
     "task": false
    },
    "tags": []
   },
   "outputs": [],
   "source": [
    "def meshRefining(fcond, nodos, norma):\n",
    "    \"\"\"\n",
    "    Función que permite realizar un estudio de\n",
    "    refinamiento de malla.\n",
    "    \n",
    "    Parameters:\n",
    "    -----------\n",
    "    fcondNeumman: function\n",
    "    función que establece la aproximación para la condición \n",
    "    de frontera de tipo Neumman.\n",
    "    \n",
    "    nodes: list\n",
    "    Lista de número de nodos que se usarán para el estudio\n",
    "    de refinamiento de malla.\n",
    "    \n",
    "    norma: \n",
    "    Define el tipo de grid norm que se usará para calcular el \n",
    "    error con respecto a la solución exacta.\n",
    "    \n",
    "    Returns:\n",
    "    --------\n",
    "    e_lista: list\n",
    "    Lista con los errores calculados para los diferentes números\n",
    "    de nodos.\n",
    "    \"\"\"\n",
    "    e_lista = []\n",
    "    for N in nodos:\n",
    "        h = L / (N+1)        \n",
    "        r = k / h**2\n",
    "\n",
    "        # Coordenadas de los nodos\n",
    "        x = np.linspace(0, L, N+2)\n",
    "\n",
    "        sole = solExact(x)\n",
    "\n",
    "        A = buildMatrix(N+1, 2)      # Construcción de la matriz\n",
    "        b = np.zeros(N+1)            # Lado derecho del sistema\n",
    "        b[1:] = -np.exp(x[1:-1]) / r # Fuente o sumidero\n",
    "        b[-1] += b_B                 # Condición de frontera en B\n",
    "\n",
    "        if fcond.__name__ == 'Neumann_I':\n",
    "            bcond = h * f_A\n",
    "        elif fcond.__name__ == 'Neumann_II':\n",
    "            bcond = 2 * h * f_A\n",
    "        elif fcond.__name__ == 'Neumann_III':\n",
    "            bcond = -1/r +  2 * h * f_A\n",
    "\n",
    "        fcond(A, b, bcond) # Corrección de la matriz y el RHS\n",
    "\n",
    "        u = np.zeros(N+2) # Arreglo para almacenar la solución\n",
    "        u[-1] = b_B       # Frontera derecha Dirichlet\n",
    "        u[:N+1] = np.linalg.solve(A,b)       # Sol. del sist. lineal\n",
    "        e_lista.append(np.linalg.norm(sole - u, norma)) # Cálculo del error\n",
    "\n",
    "    return e_lista"
   ]
  },
  {
   "cell_type": "markdown",
   "metadata": {
    "nbgrader": {
     "grade": false,
     "grade_id": "cell-014e3b407288406b",
     "locked": true,
     "schema_version": 3,
     "solution": false,
     "task": false
    }
   },
   "source": [
    "## <font color=\"DodgerBlue\">Ejercicio 7.</font>\n",
    "\n",
    "---\n",
    "\n",
    "Usando la función `meshRefining(...)` realiza un estudio de refinamiento de malla para determinar la mejor aproximación de las condiciones de frontera de tipo Neumann para el problema planteado en esta notebook.\n",
    "\n",
    "* Definir un arreglo con el número de nodos como sigue: $nodos = \\{2^i | \\forall i \\in  [2,3,\\dots8] \\}$\n",
    "* Calcular las $h$´s correspondientes a estos nodos y almacenarlas en el arreglo: `h_lista`.\n",
    "---\n"
   ]
  },
  {
   "cell_type": "code",
   "execution_count": null,
   "metadata": {
    "nbgrader": {
     "grade": false,
     "grade_id": "cell-ac1e4c818f83d2ab",
     "locked": false,
     "schema_version": 3,
     "solution": true,
     "task": false
    }
   },
   "outputs": [],
   "source": [
    "### BEGIN SOLUTION\n",
    "nodos = [2**i for i in range(2,8)]\n",
    "h_lista = [L/(n+1) for n in nodos]\n",
    "\n",
    "file_answer.write('7', h_lista, 'Checa la lista de nodos y el cálculo de las h´s.')\n",
    "### END SOLUTION\n",
    "\n",
    "print('Nodos: {}'.format(nodos))\n",
    "print('h: {}'.format(h_lista))"
   ]
  },
  {
   "cell_type": "code",
   "execution_count": null,
   "metadata": {
    "nbgrader": {
     "grade": true,
     "grade_id": "cell-178bc48a6b52c353",
     "locked": true,
     "points": 1,
     "schema_version": 3,
     "solution": false,
     "task": false
    }
   },
   "outputs": [],
   "source": [
    "quizz.eval_numeric('7', h_lista)"
   ]
  },
  {
   "cell_type": "markdown",
   "metadata": {
    "nbgrader": {
     "grade": false,
     "grade_id": "cell-24c12e6f1bd343bd",
     "locked": true,
     "schema_version": 3,
     "solution": false,
     "task": false
    }
   },
   "source": [
    "## <font color=\"DodgerBlue\">Ejercicio 8.</font>\n",
    "\n",
    "---\n",
    "\n",
    "Usando los arreglos `nodos`, `h_lista`, las funciones `Neumann_I()`, `Neumann_II()`, `Neumann_III()` y `meshRefining()` realiza un estudio de refinamiento de malla para determinar la mejor aproximación de las condiciones de frontera de tipo Neumann para el problema planteado en esta notebook.\n",
    "\n",
    "---"
   ]
  },
  {
   "cell_type": "code",
   "execution_count": null,
   "metadata": {
    "nbgrader": {
     "grade": false,
     "grade_id": "cell-46b45c7ce3e6dda1",
     "locked": false,
     "schema_version": 3,
     "solution": true,
     "task": false
    },
    "tags": []
   },
   "outputs": [],
   "source": [
    "### BEGIN SOLUTION\n",
    "norma = np.inf\n",
    "e1m = meshRefining(Neumann_I, nodos, norma)\n",
    "e2m = meshRefining(Neumann_II, nodos, norma)\n",
    "e3m = meshRefining(Neumann_III, nodos, norma)\n",
    "\n",
    "file_answer.write('8', e1m, 'La implementación de la llamada a meshRefining() para Neumann_I no es correcta.')\n",
    "file_answer.write('9', e2m, 'La implementación de la llamada a meshRefining() para Neumann_II no es correcta.')\n",
    "file_answer.write('10', e3m, 'La implementación de la llamada a meshRefining() para Neumann_III no es correcta.')\n",
    "### END SOLUTION\n",
    "\n",
    "print('Errores para Neumann_I: {}'.format(e1m))\n",
    "print('Errores para Neumann_II: {}'.format(e2m))\n",
    "print('Errores para Neumann_III: {}'.format(e3m))"
   ]
  },
  {
   "cell_type": "code",
   "execution_count": null,
   "metadata": {
    "nbgrader": {
     "grade": true,
     "grade_id": "cell-f92bd5d9e6d02fb6",
     "locked": true,
     "points": 1,
     "schema_version": 3,
     "solution": false,
     "task": false
    }
   },
   "outputs": [],
   "source": [
    "quizz.eval_numeric('8', e1m)"
   ]
  },
  {
   "cell_type": "code",
   "execution_count": null,
   "metadata": {
    "nbgrader": {
     "grade": true,
     "grade_id": "cell-62a14efbf93267c3",
     "locked": true,
     "points": 1,
     "schema_version": 3,
     "solution": false,
     "task": false
    }
   },
   "outputs": [],
   "source": [
    "quizz.eval_numeric('9', e2m)"
   ]
  },
  {
   "cell_type": "code",
   "execution_count": null,
   "metadata": {
    "nbgrader": {
     "grade": true,
     "grade_id": "cell-fcdbc932e2258798",
     "locked": true,
     "points": 1,
     "schema_version": 3,
     "solution": false,
     "task": false
    }
   },
   "outputs": [],
   "source": [
    "quizz.eval_numeric('10', e3m)"
   ]
  },
  {
   "cell_type": "code",
   "execution_count": null,
   "metadata": {
    "nbgrader": {
     "grade": false,
     "grade_id": "cell-989f5ecd034bb390",
     "locked": true,
     "schema_version": 3,
     "solution": false,
     "task": false
    },
    "tags": []
   },
   "outputs": [],
   "source": [
    "#\n",
    "# El siguiente código genera las gráficas usando los resultados anteriores:\n",
    "#\n",
    "plt.figure(figsize=(10,7))\n",
    "plt.plot(h_lista, e1m, 'o-', label='Aprox. I: $\\mathcal{O}(h)$')\n",
    "plt.plot(h_lista, e2m, 'o-', label='Aprox. II: $\\mathcal{O}(h^2)$ (Tres puntos)')\n",
    "plt.plot(h_lista, e3m, 'o-', label='Aprox. III: $\\mathcal{O}(h^2)$ (DF centradas)')\n",
    "plt.yscale('log')\n",
    "plt.xscale('log')\n",
    "plt.legend(fontsize=12)\n",
    "plt.ylim(1e-5,1)\n",
    "plt.ylabel('$Error$')\n",
    "plt.xlabel('$h$')\n",
    "plt.title('Usando: grid norm ${}$'.format(norma))\n",
    "plt.grid()\n",
    "plt.show()"
   ]
  },
  {
   "cell_type": "code",
   "execution_count": null,
   "metadata": {
    "nbgrader": {
     "grade": false,
     "grade_id": "cell-086dff209208615a",
     "locked": true,
     "schema_version": 3,
     "solution": false,
     "task": false
    }
   },
   "outputs": [],
   "source": [
    "file_answer.to_file('2')"
   ]
  },
  {
   "cell_type": "code",
   "execution_count": null,
   "metadata": {
    "nbgrader": {
     "grade": false,
     "grade_id": "cell-afed136681fca4d3",
     "locked": true,
     "schema_version": 3,
     "solution": false,
     "task": false
    }
   },
   "outputs": [],
   "source": [
    "file_answer.write('1', u1, 'Es probable que la implementación y/o la llamada de la función Neumann_I() no sea correcta.')\n",
    "file_answer.write('3', u2, 'Es probable que la implementación y/o la llamada de la función Neumann_II() no sea correcta.')\n",
    "file_answer.write('5', u3, 'Es probable que la implementación y/o la llamada de la función Neumann_III() no sea correcta.')"
   ]
  },
  {
   "cell_type": "code",
   "execution_count": null,
   "metadata": {},
   "outputs": [],
   "source": []
  }
 ],
 "metadata": {
  "celltoolbar": "Create Assignment",
  "kernelspec": {
   "display_name": "Python 3 (ipykernel)",
   "language": "python",
   "name": "python3"
  },
  "language_info": {
   "codemirror_mode": {
    "name": "ipython",
    "version": 3
   },
   "file_extension": ".py",
   "mimetype": "text/x-python",
   "name": "python",
   "nbconvert_exporter": "python",
   "pygments_lexer": "ipython3",
   "version": "3.11.5"
  }
 },
 "nbformat": 4,
 "nbformat_minor": 4
}
