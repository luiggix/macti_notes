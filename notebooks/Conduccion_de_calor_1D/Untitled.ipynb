{
 "cells": [
  {
   "cell_type": "code",
   "execution_count": 1,
   "id": "d94e9090-4023-439b-87c6-08d34df01715",
   "metadata": {},
   "outputs": [],
   "source": [
    "import numpy as np\n",
    "import matplotlib.pyplot as plt\n",
    "import macti.visual as mvis"
   ]
  },
  {
   "cell_type": "code",
   "execution_count": 49,
   "id": "5f3ce809-4b1d-4417-a942-c9bbc10ca297",
   "metadata": {},
   "outputs": [],
   "source": [
    "def buildMatrix(N, k, f, bA, bB):\n",
    "    '''\n",
    "    Parameters:\n",
    "    N: int Tamaño de la matriz.\n",
    "    d: float Contenido de la diagonal.\n",
    "    '''\n",
    "    # Matriz de ceros\n",
    "    A = np.zeros((N,N))\n",
    "    \n",
    "    # Primer renglón\n",
    "    A[0,0] = f(k[2], k[1]) + f(k[0], k[1])\n",
    "    A[0,1] = -f(k[2], k[1]) \n",
    "    \n",
    "    # Renglones interiores\n",
    "    for i in range(1,N-1):\n",
    "        A[i,i] = f(k[i+1], k[i]) + f(k[i], k[i-1])\n",
    "        A[i,i+1] = -f(k[i+1], k[i])\n",
    "        A[i,i-1] = -f(k[i], k[i-1])\n",
    "    \n",
    "    # Último renglón\n",
    "    A[N-1,N-2] = -f(k[N-1], k[N])\n",
    "    A[N-1,N-1] = f(k[N-1], k[N]) + f(k[N+1], k[N])\n",
    "\n",
    "    # Se calcula el RHS\n",
    "    b = np.zeros(N)\n",
    "    b[0] = f(k[1], k[0]) * bA\n",
    "    b[-1] = f(k[N+1], k[N]) * bB\n",
    "\n",
    "    return A, b"
   ]
  },
  {
   "cell_type": "code",
   "execution_count": 42,
   "id": "8c4723d1-2fc3-4cd6-8db7-a8a3dc10f4d6",
   "metadata": {},
   "outputs": [],
   "source": [
    "def pAritmetico(a, b):\n",
    "    return 0.5 * (a + b)\n",
    "    \n",
    "def mArmonica(a, b):\n",
    "    return 2 * a * b /(a + b)"
   ]
  },
  {
   "cell_type": "code",
   "execution_count": 56,
   "id": "9dfbc580-a198-4b37-a4f7-0796dd9ee016",
   "metadata": {},
   "outputs": [
    {
     "data": {
      "text/plain": [
       "[<matplotlib.lines.Line2D at 0x7f0775d92090>]"
      ]
     },
     "execution_count": 56,
     "metadata": {},
     "output_type": "execute_result"
    },
    {
     "data": {
      "image/png": "[encoded data removed]",
      "text/plain": [
       "<Figure size 512x384 with 1 Axes>"
      ]
     },
     "metadata": {},
     "output_type": "display_data"
    }
   ],
   "source": [
    "L = 1.0\n",
    "bA = 2.0\n",
    "bB = 1.0\n",
    "\n",
    "N = 50\n",
    "h = L / (N+1)\n",
    "\n",
    "x = np.linspace(0, L, N+2)\n",
    "#k = np.abs(np.sin(4 * np.pi * x)) + 0.1\n",
    "k = np.random.rand(N+2) + 0.1\n",
    "\n",
    "A, b = buildMatrix(N, k, pAritmetico, bA, bB)\n",
    "u1 = np.zeros(N+2)\n",
    "u1[0] = bA\n",
    "u1[-1] = bB\n",
    "u1[1:N+1] = np.linalg.solve(A,b)\n",
    "\n",
    "A, b = buildMatrix(N, k, mArmonica, bA, bB)\n",
    "u2 = np.zeros(N+2)\n",
    "u2[0] = bA\n",
    "u2[-1] = bB\n",
    "u2[1:N+1] = np.linalg.solve(A,b)\n",
    "\n",
    "plt.plot(x,u1)\n",
    "plt.plot(x,u2)"
   ]
  }
 ],
 "metadata": {
  "kernelspec": {
   "display_name": "Python 3 (ipykernel)",
   "language": "python",
   "name": "python3"
  },
  "language_info": {
   "codemirror_mode": {
    "name": "ipython",
    "version": 3
   },
   "file_extension": ".py",
   "mimetype": "text/x-python",
   "name": "python",
   "nbconvert_exporter": "python",
   "pygments_lexer": "ipython3",
   "version": "3.11.6"
  }
 },
 "nbformat": 4,
 "nbformat_minor": 5
}
