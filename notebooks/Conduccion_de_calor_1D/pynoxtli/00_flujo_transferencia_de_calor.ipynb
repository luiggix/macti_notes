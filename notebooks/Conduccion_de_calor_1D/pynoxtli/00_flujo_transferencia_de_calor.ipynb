{
 "cells": [
  {
   "cell_type": "markdown",
   "id": "0f2deedc-7202-4ec6-b29f-56f5667da147",
   "metadata": {},
   "source": [
    "<img src=\"./EjemploConduccion1D.png\" width=600px/>"
   ]
  },
  {
   "cell_type": "code",
   "execution_count": 4,
   "id": "70328f94-095e-41f8-836a-1fc208496b23",
   "metadata": {},
   "outputs": [],
   "source": [
    "T1 = 1400 # K\n",
    "T2 = 1150 # K\n",
    "k  = 1.7  # W/m K\n",
    "L  = 0.15 # m\n",
    "W = 1.2 # m\n",
    "H = 0.5 # m"
   ]
  },
  {
   "cell_type": "markdown",
   "id": "36b23411-80ba-4239-83ad-333df06a6d49",
   "metadata": {},
   "source": [
    "$$\n",
    "\\text{Flujo de calor: } \\;\\;\\; q_x^{\\prime\\prime} = \\kappa \\frac{T_1 - T_2}{L}\n",
    "$$"
   ]
  },
  {
   "cell_type": "code",
   "execution_count": 6,
   "id": "5d37a005-133b-4365-a31d-c111fb972007",
   "metadata": {},
   "outputs": [
    {
     "name": "stdout",
     "output_type": "stream",
     "text": [
      "Flujo de calor: 2833.3333333333335 [W/m^2]\n"
     ]
    }
   ],
   "source": [
    "qx_pp = k * (T1 - T2) / L\n",
    "print('Flujo de calor: {} [W/m^2]'.format(qx_pp))"
   ]
  },
  {
   "cell_type": "markdown",
   "id": "7d3954ba-31b4-4643-97b9-d1a10d2990a6",
   "metadata": {},
   "source": [
    "$$\n",
    "\\text{Transferencia de calor por conducción: } \\;\\;\\; q_x = q_x^{\\prime\\prime} \\cdot A\n",
    "$$"
   ]
  },
  {
   "cell_type": "code",
   "execution_count": 7,
   "id": "b3b9ef11-24fb-42b3-96fa-404e1af69d56",
   "metadata": {},
   "outputs": [
    {
     "name": "stdout",
     "output_type": "stream",
     "text": [
      "Transferencia de calor por conducción: 1700.0 [W]\n"
     ]
    }
   ],
   "source": [
    "qx = qx_pp * W * H\n",
    "print('Transferencia de calor por conducción: {} [W]'.format(qx))"
   ]
  },
  {
   "cell_type": "code",
   "execution_count": null,
   "id": "7f0bdcc2-b4db-4d29-8cc3-e5ab2cae9f74",
   "metadata": {},
   "outputs": [],
   "source": []
  }
 ],
 "metadata": {
  "kernelspec": {
   "display_name": "Python 3 (ipykernel)",
   "language": "python",
   "name": "python3"
  },
  "language_info": {
   "codemirror_mode": {
    "name": "ipython",
    "version": 3
   },
   "file_extension": ".py",
   "mimetype": "text/x-python",
   "name": "python",
   "nbconvert_exporter": "python",
   "pygments_lexer": "ipython3",
   "version": "3.11.6"
  }
 },
 "nbformat": 4,
 "nbformat_minor": 5
}
