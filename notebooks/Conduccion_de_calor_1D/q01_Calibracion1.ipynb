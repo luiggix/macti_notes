{
 "cells": [
  {
   "cell_type": "markdown",
   "metadata": {
    "nbgrader": {
     "grade": false,
     "grade_id": "cell-08d7fcbd7491f91d",
     "locked": true,
     "schema_version": 3,
     "solution": false,
     "task": false
    }
   },
   "source": [
    "# Conducción de calor 1D.\n",
    "\n",
    "- Autor: Luis M. de la Cruz Salas\n",
    "- Rev: mié 24 feb 2021 14:41:27 CST"
   ]
  },
  {
   "cell_type": "code",
   "execution_count": 1,
   "metadata": {
    "nbgrader": {
     "grade": false,
     "grade_id": "cell-804cf03d7554f495",
     "locked": true,
     "schema_version": 3,
     "solution": false,
     "task": false
    },
    "tags": []
   },
   "outputs": [],
   "source": [
    "import numpy as np\n",
    "import matplotlib.pyplot as plt\n",
    "import macti.visual as mvis\n",
    "from macti.evaluation import Quizz, FileAnswer\n",
    "quizz = Quizz('1', 'GeoMaC', 'Conduccion_de_calor_1D', 'local')\n",
    "#file_answer = FileAnswer('GeoMaC', 'Conduccion_de_calor_1D', 'local')"
   ]
  },
  {
   "cell_type": "markdown",
   "metadata": {
    "nbgrader": {
     "grade": false,
     "grade_id": "cell-5d6f46f68232915b",
     "locked": true,
     "schema_version": 3,
     "solution": false,
     "task": false
    }
   },
   "source": [
    "Considere el siguiente problema:\n",
    "$$\n",
    "\\begin{eqnarray}\n",
    "-\\left(k \\frac{d^2 T(x)}{d x^2} + \\omega ^2 T(x)\\right) & = & 0 \\,\\,\\,\\,\\, x \\in [0,1] \\tag{1}\\\\\n",
    "T(0) & = & T_A \\\\\n",
    "T(1) & = & T_B \n",
    "\\end{eqnarray}\n",
    "$$\n",
    "\n",
    "donde $T_A = T_B = k = 1$ y cuya solución analítica es:\n",
    "\n",
    "$$T(x) = \\frac{1-\\cos(\\omega)}{\\sin(\\omega)} \\sin(\\omega x) + \\cos(\\omega x)$$\n",
    "\t\n",
    "donde $\\omega$ = constante."
   ]
  },
  {
   "cell_type": "markdown",
   "metadata": {
    "nbgrader": {
     "grade": false,
     "grade_id": "cell-f5969f8047dae08c",
     "locked": true,
     "schema_version": 3,
     "solution": false,
     "task": false
    }
   },
   "source": [
    "## <font color=\"DodgerBlue\">Ejercicio 1.</font>\n",
    "\n",
    "---\n",
    "\n",
    "Definir los parámetros del problema:\n",
    "\n",
    "* Parámetros físicos: $L, T_A, T_B, k, S, \\omega = 2.5 * pi $\n",
    "* Parámetros numéricos: $N = 39, h$\n",
    "* Coordenadas de la malla: $x$\n",
    "\n",
    "\n",
    "```python\n",
    "# Parámetros físicos: L, TA, TB, k, S, w = 2.5 * pi\n",
    "L = ...\n",
    "...\n",
    "\n",
    "# Parámetros numéricos: N, h\n",
    "N = ...\n",
    "...\n",
    "\n",
    "# Coordenadas de la malla\n",
    "x = ...\n",
    "```\n",
    "\n",
    "---\n"
   ]
  },
  {
   "cell_type": "code",
   "execution_count": 2,
   "metadata": {
    "nbgrader": {
     "grade": false,
     "grade_id": "cell-0c6d90d777ebbbf9",
     "locked": false,
     "schema_version": 3,
     "solution": true,
     "task": false
    },
    "tags": []
   },
   "outputs": [],
   "source": [
    "### BEGIN SOLUTION\n",
    "# Parámetros físicos: L, TA, TB, k, S, w = 2.5 * pi\n",
    "L = 1.0\n",
    "TA = 1.0\n",
    "TB = 1.0\n",
    "k = 1.0\n",
    "S = 0.0\n",
    "w = 2.5 * np.pi\n",
    "\n",
    "# Parámetros numéricos: N, h\n",
    "N = 39\n",
    "h = L / (N+1)\n",
    "\n",
    "# Coordenadas de la malla\n",
    "x = np.linspace(0, L, N+2)\n",
    "\n",
    "#file_answer.write('1', h, 'Checa el cómo debe calcularse h.')\n",
    "#file_answer.write('2', x, 'Debes usar x = np.linspace(...) y poner los argumentos correspondientes.')\n",
    "### END SOLUTION\n",
    "# Parámetros físicos: L, TA, TB, k, S, w = 2.5 * pi\n",
    "\n",
    "# Parámetros numéricos: N, h\n",
    "\n",
    "# Coordenadas de la malla\n"
   ]
  },
  {
   "cell_type": "code",
   "execution_count": 3,
   "metadata": {
    "nbgrader": {
     "grade": true,
     "grade_id": "cell-c3a2c2a3e53bd160",
     "locked": true,
     "points": 1,
     "schema_version": 3,
     "solution": false,
     "task": false
    },
    "tags": []
   },
   "outputs": [
    {
     "name": "stdout",
     "output_type": "stream",
     "text": [
      "\u001b[39m----------------------------------------\n",
      "\u001b[32mTu resultado es correcto.\n",
      "\u001b[39m----------------------------------------\n"
     ]
    }
   ],
   "source": [
    "quizz.eval_numeric('1', h)"
   ]
  },
  {
   "cell_type": "code",
   "execution_count": 4,
   "metadata": {
    "nbgrader": {
     "grade": true,
     "grade_id": "cell-92ed0623cc22d809",
     "locked": true,
     "points": 1,
     "schema_version": 3,
     "solution": false,
     "task": false
    }
   },
   "outputs": [
    {
     "name": "stdout",
     "output_type": "stream",
     "text": [
      "\u001b[39m----------------------------------------\n",
      "\u001b[32mTu resultado es correcto.\n",
      "\u001b[39m----------------------------------------\n"
     ]
    }
   ],
   "source": [
    "quizz.eval_numeric('2', x)"
   ]
  },
  {
   "cell_type": "markdown",
   "metadata": {
    "nbgrader": {
     "grade": false,
     "grade_id": "cell-a5ba5a9f37521ddb",
     "locked": true,
     "schema_version": 3,
     "solution": false,
     "task": false
    }
   },
   "source": [
    "## <font color=\"DodgerBlue\">Ejercicio 2.</font>\n",
    "\n",
    "---\n",
    "Definir lo siguiente:\n",
    "\n",
    "* Arreglo para almacenar la solución: `T`\n",
    "* Valores de la temperatura conocidos en las fronteras: `T[0]` y `T[-1]`\n",
    "* Lado derecho del sistema: `b`\n",
    "* Aplicacion de las condiciones de frontera tipo Dirichlet: `b[0]` y `b[-1]`\n",
    "* Matriz del sistema lineal. Para ello usa la función `buildMatrix(...)` con los parámetros correctos.\n",
    "* Solución del sistema lineal usando la función `np.linalg.solve(...)`.\n",
    "\n",
    "\n",
    "```python\n",
    "# Arreglo para almacenar la solución\n",
    "T = ...\n",
    "\n",
    "# Valores de la temperatura conocidos en las fronteras:\n",
    "T[0] = ...\n",
    "T[-1] = ...\n",
    "\n",
    "# Lado derecho del sistema\n",
    "b = ...\n",
    "\n",
    "# Aplicacion de las condiciones de frontera tipo Dirichlet\n",
    "b[0] = ...\n",
    "b[-1] = ...\n",
    "\n",
    "# Matriz del sistema lineal\n",
    "w = ...\n",
    "A = ...\n",
    "\n",
    "# Solución del sistema lineal\n",
    "T[1:-1] = ...\n",
    "```\n",
    "\n",
    "---"
   ]
  },
  {
   "cell_type": "code",
   "execution_count": 5,
   "metadata": {
    "nbgrader": {
     "grade": false,
     "grade_id": "cell-b0938796286051b3",
     "locked": true,
     "schema_version": 3,
     "solution": false,
     "task": false
    },
    "tags": []
   },
   "outputs": [],
   "source": [
    "def buildMatrix(N, d):\n",
    "    '''\n",
    "    Parameters:\n",
    "    N: int Tamaño de la matriz.\n",
    "    d: float Contenido de la diagonal.\n",
    "    '''\n",
    "    # Matriz de ceros\n",
    "    A = np.zeros((N,N))\n",
    "    \n",
    "    # Primer renglón\n",
    "    A[0,0] = d\n",
    "    A[0,1] = -1\n",
    "    \n",
    "    # Renglones interiores\n",
    "    for i in range(1,N-1):\n",
    "        A[i,i] = d\n",
    "        A[i,i+1] = -1\n",
    "        A[i,i-1] = -1\n",
    "    \n",
    "    # Último renglón\n",
    "    A[N-1,N-2] = -1\n",
    "    A[N-1,N-1] = d\n",
    "    \n",
    "    return A"
   ]
  },
  {
   "cell_type": "code",
   "execution_count": 6,
   "metadata": {
    "nbgrader": {
     "grade": false,
     "grade_id": "cell-5680bd8b8a20d73c",
     "locked": false,
     "schema_version": 3,
     "solution": true,
     "task": false
    },
    "tags": []
   },
   "outputs": [],
   "source": [
    "### BEGIN SOLUTION\n",
    "# Arreglo para almacenar la solución\n",
    "T = np.zeros(N+2)\n",
    "\n",
    "# Los valores en los extremos son conocidos debido a las cond. Dirichlet\n",
    "T[ 0] = TA\n",
    "T[-1] = TB\n",
    "\n",
    "# Lado derecho del sistema\n",
    "b = np.zeros(N) \n",
    "\n",
    "# Aplicacion de las condiciones de frontera Dirichlet\n",
    "b[ 0] += TA   \n",
    "b[-1] += TB \n",
    "\n",
    "#file_answer.write('3', b, 'Checa el tamaño correcto de b y los valores en los extremos.')\n",
    "\n",
    "# Construcción de la matriz\n",
    "w = 2.5 * np.pi\n",
    "A = buildMatrix(N, 2-(w * h)**2) # Matriz del sistema\n",
    "\n",
    "#file_answer.write('4', A.diagonal(), 'Debes usar A = buildMatrix(...) y poner los argumentos correspondientes.')\n",
    "\n",
    "# Solución del sistema lineal\n",
    "T[1:-1] = np.linalg.solve(A,b)\n",
    "\n",
    "#file_answer.write('5', T, 'Checa el tamaño correcto de T y los valores en los extremos. Debes usar T[1:-1] = np.linalg.solve(...) y poner los argumentos correspondientes. ')\n",
    "\n",
    "### END SOLUTION\n",
    "# Arreglo para almacenar la solución\n",
    "\n",
    "# Los valores en los extremos son conocidos debido a las cond. Dirichlet\n",
    "\n",
    "# Lado derecho del sistema\n",
    "\n",
    "# Aplicacion de las condiciones de frontera Dirichlet\n",
    "\n",
    "# Construcción de la matriz\n"
   ]
  },
  {
   "cell_type": "code",
   "execution_count": 7,
   "metadata": {
    "nbgrader": {
     "grade": true,
     "grade_id": "cell-3250527e886bca26",
     "locked": true,
     "points": 2,
     "schema_version": 3,
     "solution": false,
     "task": false
    }
   },
   "outputs": [
    {
     "name": "stdout",
     "output_type": "stream",
     "text": [
      "\u001b[39m----------------------------------------\n",
      "\u001b[32mTu resultado es correcto.\n",
      "\u001b[39m----------------------------------------\n"
     ]
    }
   ],
   "source": [
    "quizz.eval_numeric('3', b)"
   ]
  },
  {
   "cell_type": "code",
   "execution_count": 8,
   "metadata": {
    "nbgrader": {
     "grade": true,
     "grade_id": "cell-648bb55e7fa5d3f8",
     "locked": true,
     "points": 2,
     "schema_version": 3,
     "solution": false,
     "task": false
    },
    "tags": []
   },
   "outputs": [
    {
     "name": "stdout",
     "output_type": "stream",
     "text": [
      "\u001b[39m----------------------------------------\n",
      "\u001b[32mTu resultado es correcto.\n",
      "\u001b[39m----------------------------------------\n"
     ]
    }
   ],
   "source": [
    "quizz.eval_numeric('4',A.diagonal())"
   ]
  },
  {
   "cell_type": "code",
   "execution_count": 9,
   "metadata": {
    "nbgrader": {
     "grade": true,
     "grade_id": "cell-54bea5b9a1b8ae15",
     "locked": true,
     "points": 2,
     "schema_version": 3,
     "solution": false,
     "task": false
    },
    "tags": []
   },
   "outputs": [
    {
     "name": "stdout",
     "output_type": "stream",
     "text": [
      "\u001b[39m----------------------------------------\n",
      "\u001b[32mTu resultado es correcto.\n",
      "\u001b[39m----------------------------------------\n"
     ]
    }
   ],
   "source": [
    "quizz.eval_numeric('5', T,)"
   ]
  },
  {
   "cell_type": "markdown",
   "metadata": {
    "nbgrader": {
     "grade": false,
     "grade_id": "cell-90f156ec46d7c15f",
     "locked": true,
     "schema_version": 3,
     "solution": false,
     "task": false
    }
   },
   "source": [
    "## <font color=\"DodgerBlue\">Ejercicio 3.</font>\n",
    "\n",
    "---\n",
    "* Agregar una función para calcular la solución exacta.\n",
    "\n",
    "```python\n",
    "def solExact(x, w):\n",
    "    ...\n",
    "\n",
    "```\n",
    "\n",
    "* Calcular el error entre solución exacta y numérica.\n",
    "\n",
    "---"
   ]
  },
  {
   "cell_type": "code",
   "execution_count": 10,
   "metadata": {
    "nbgrader": {
     "grade": false,
     "grade_id": "cell-a70ac798e37952ac",
     "locked": false,
     "schema_version": 3,
     "solution": true,
     "task": false
    },
    "tags": []
   },
   "outputs": [
    {
     "name": "stdout",
     "output_type": "stream",
     "text": [
      "0.04614723768420724\n"
     ]
    }
   ],
   "source": [
    "### BEGIN SOLUTION\n",
    "# Agrega la función: def solExact(x, w):\n",
    "def solExact(x,w):\n",
    "    return ((1.0 - 1.0 * np.cos(w))/np.sin(w)) * np.sin(w * x) + np.cos(w * x)\n",
    "\n",
    "# Cálculo del error:\n",
    "Error = np.linalg.norm(solExact(x,w) - T, 2)\n",
    "\n",
    "#file_answer.write('6', Error, 'Checa la implementación de la solución exacta y el cálculo del error.')\n",
    "### END SOLUTION\n",
    "# Agrega la función: def solExact(x, w):\n",
    "\n",
    "# Cálculo del error:\n",
    "\n",
    "print(Error)"
   ]
  },
  {
   "cell_type": "code",
   "execution_count": 11,
   "metadata": {
    "nbgrader": {
     "grade": true,
     "grade_id": "cell-a36c4aa4881f4d8d",
     "locked": true,
     "points": 2,
     "schema_version": 3,
     "solution": false,
     "task": false
    },
    "tags": []
   },
   "outputs": [
    {
     "name": "stdout",
     "output_type": "stream",
     "text": [
      "\u001b[39m----------------------------------------\n",
      "\u001b[32mTu resultado es correcto.\n",
      "\u001b[39m----------------------------------------\n"
     ]
    }
   ],
   "source": [
    "quizz.eval_numeric('6', Error)"
   ]
  },
  {
   "cell_type": "code",
   "execution_count": 12,
   "metadata": {
    "nbgrader": {
     "grade": false,
     "grade_id": "cell-4e8d75a7133778d4",
     "locked": true,
     "schema_version": 3,
     "solution": false,
     "task": false
    },
    "tags": []
   },
   "outputs": [
    {
     "data": {
      "image/png": "[encoded data removed]",
      "text/plain": [
       "<Figure size 800x560 with 1 Axes>"
      ]
     },
     "metadata": {},
     "output_type": "display_data"
    }
   ],
   "source": [
    "#\n",
    "# El código siguiente realiza las gráficas usando lo calculado en las celdas anteriores\n",
    "#\n",
    "titulo = 'Ecuación : $\\partial^2 u(x)/\\partial x^2 = \\omega^2 u(x); \\,\\,\\, u(a) = u(b) = 1$'\n",
    "numerica = 'Sol. Numérica : $E(h = %g) = %g$' % (h, Error)\n",
    "exacta = 'Sol. Analítica : $u(x) = \\\\frac{1 - \\cos(\\omega)}{\\sin(\\omega)} \\sin(\\omega x) + \\cos(\\omega x)$'\n",
    "\n",
    "plt.figure(figsize=(10,7))\n",
    "xsol = np.linspace(0,1,100)\n",
    "plt.plot(xsol, solExact(xsol,w),'-', label=exacta)\n",
    "plt.scatter(x, T, fc = 'C1', ec='dimgray', s=75, alpha=0.85, zorder= 10, label=numerica)\n",
    "plt.title(titulo)\n",
    "plt.xlabel('$x$')\n",
    "plt.ylabel('$T$')\n",
    "plt.ylim(-2.0,3.0)\n",
    "plt.legend(loc='upper center', fontsize=18)\n",
    "plt.grid()\n",
    "plt.show()"
   ]
  },
  {
   "cell_type": "code",
   "execution_count": null,
   "metadata": {
    "nbgrader": {
     "grade": false,
     "grade_id": "cell-378b53ebbfd830c8",
     "locked": true,
     "schema_version": 3,
     "solution": false,
     "task": false
    }
   },
   "outputs": [],
   "source": [
    "#file_answer.to_file('1')"
   ]
  },
  {
   "cell_type": "code",
   "execution_count": null,
   "metadata": {},
   "outputs": [],
   "source": []
  }
 ],
 "metadata": {
  "celltoolbar": "Create Assignment",
  "kernelspec": {
   "display_name": "Python 3 (ipykernel)",
   "language": "python",
   "name": "python3"
  },
  "language_info": {
   "codemirror_mode": {
    "name": "ipython",
    "version": 3
   },
   "file_extension": ".py",
   "mimetype": "text/x-python",
   "name": "python",
   "nbconvert_exporter": "python",
   "pygments_lexer": "ipython3",
   "version": "3.11.5"
  }
 },
 "nbformat": 4,
 "nbformat_minor": 4
}
