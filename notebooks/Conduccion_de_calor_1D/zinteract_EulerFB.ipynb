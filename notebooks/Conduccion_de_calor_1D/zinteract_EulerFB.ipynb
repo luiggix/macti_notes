{
 "cells": [
  {
   "cell_type": "code",
   "execution_count": 1,
   "id": "379446a2-6558-4258-a661-a2ae83145bb9",
   "metadata": {
    "tags": []
   },
   "outputs": [],
   "source": [
    "import ipywidgets as widgets\n",
    "import macti.visual as mvis\n",
    "from Euler_FB import FEuler, BEuler, FE_vs_BE"
   ]
  },
  {
   "cell_type": "markdown",
   "id": "325557d8-7b46-4824-92aa-a7a1497b7162",
   "metadata": {},
   "source": [
    "# Definimos los datos físicos y numéricos"
   ]
  },
  {
   "cell_type": "code",
   "execution_count": 2,
   "id": "8ab58d94-6a4c-490e-b445-a32283311634",
   "metadata": {
    "tags": []
   },
   "outputs": [
    {
     "name": "stdout",
     "output_type": "stream",
     "text": [
      " h =  0.02 , ht =  0.0001 , Tmax =  1.0 , Nt =  10000\n"
     ]
    }
   ],
   "source": [
    "# Parámetros físicos\n",
    "L = 1.0   # Longitud del dominio\n",
    "bA = -1   # Dirichlet en A\n",
    "bB = 1    # Dirichlet en B\n",
    "alpha = 1 # Parámetro físico\n",
    "\n",
    "# Parámetros numéricos\n",
    "N = 49        # Número de incógnitas\n",
    "h = L / (N+1) # Tamaño de la malla\n",
    "ht = 0.0001   # Paso del tiempo\n",
    "Tmax = 1.0    # Tiempo total de simulación\n",
    "Nt = int(Tmax / ht) # Número total de pasos\n",
    "\n",
    "tolerancia = 1e-6 # Criterio de término anticipado\n",
    "\n",
    "print(\" h = \", h, \", ht = \", ht, \", Tmax = \", Tmax, \", Nt = \", Nt)"
   ]
  },
  {
   "cell_type": "markdown",
   "id": "f6077d09-257d-48d5-95a6-1457791f4067",
   "metadata": {},
   "source": [
    "# Método de Euler hacia adelante (Forward)"
   ]
  },
  {
   "cell_type": "code",
   "execution_count": 3,
   "id": "318bbfe5-8efb-4db4-85b7-680ff9af4cd0",
   "metadata": {
    "tags": []
   },
   "outputs": [
    {
     "data": {
      "application/vnd.jupyter.widget-view+json": {
       "model_id": "1b33f1f8609c447da8367497dc91184e",
       "version_major": 2,
       "version_minor": 0
      },
      "text/plain": [
       "interactive(children=(IntSlider(value=49, description='N', max=49, min=10), IntSlider(value=10, description='N…"
      ]
     },
     "metadata": {},
     "output_type": "display_data"
    },
    {
     "data": {
      "text/plain": [
       "<function Euler_FB.FEuler(L, N, alpha, bA, bB, Nt, ht, tol, compara=False, ax=None)>"
      ]
     },
     "execution_count": 3,
     "metadata": {},
     "output_type": "execute_result"
    }
   ],
   "source": [
    "widgets.interact_manual(FEuler,\n",
    "                    L = widgets.fixed(L),\n",
    "                    N = widgets.IntSlider(min=10, max = 49, value=49, step=1),\n",
    "                    alpha = widgets.fixed(alpha),\n",
    "                    bA = widgets.fixed(bA),\n",
    "                    bB = widgets.fixed(bB),\n",
    "                    Nt = widgets.IntSlider(min=10, max=10000, value=10, step=10),\n",
    "                    ht = widgets.FloatSlider(min=1e-4, max=1e-3, value=1e-4, step=1e-4),\n",
    "                    tol = widgets.fixed(tolerancia),\n",
    "                    compara=widgets.fixed(False),\n",
    "                    ax=widgets.fixed(None))"
   ]
  },
  {
   "cell_type": "markdown",
   "id": "8337c50c-9948-4de9-9a7a-6f589e815722",
   "metadata": {},
   "source": [
    "# Método de Euler hacia atrás (Backward)"
   ]
  },
  {
   "cell_type": "code",
   "execution_count": 4,
   "id": "34484114-75f9-4613-bafc-feb56d551236",
   "metadata": {
    "tags": []
   },
   "outputs": [
    {
     "data": {
      "application/vnd.jupyter.widget-view+json": {
       "model_id": "3e31d1d6718b4cf4a4f4e7ef4b67baa6",
       "version_major": 2,
       "version_minor": 0
      },
      "text/plain": [
       "interactive(children=(IntSlider(value=49, description='N', max=49, min=10), IntSlider(value=10, description='N…"
      ]
     },
     "metadata": {},
     "output_type": "display_data"
    },
    {
     "data": {
      "text/plain": [
       "<function Euler_FB.BEuler(L, N, alpha, bA, bB, Nt, ht, tol, compara=False, ax=None)>"
      ]
     },
     "execution_count": 4,
     "metadata": {},
     "output_type": "execute_result"
    }
   ],
   "source": [
    "widgets.interact_manual(BEuler,\n",
    "                    L = widgets.fixed(L),\n",
    "                    N = widgets.IntSlider(min=10, max = 49, value=49, step=1),\n",
    "                    alpha = widgets.fixed(alpha),\n",
    "                    bA = widgets.fixed(bA),\n",
    "                    bB = widgets.fixed(bB),\n",
    "                    Nt = widgets.IntSlider(min=10, max=10000, value=10, step=10),\n",
    "                    ht = widgets.FloatSlider(min=1e-4, max=1e-3, value=1e-4, step=1e-4),\n",
    "                    tol = widgets.fixed(tolerancia),\n",
    "                    compara=widgets.fixed(False),\n",
    "                    ax=widgets.fixed(None))"
   ]
  },
  {
   "cell_type": "markdown",
   "id": "442f5501-bf33-4f24-9da3-7eb189d0fee8",
   "metadata": {},
   "source": [
    "# Comparación de los métodos de Euler"
   ]
  },
  {
   "cell_type": "code",
   "execution_count": 5,
   "id": "b156558b-c4ae-49a6-b3ab-0259a423b920",
   "metadata": {
    "tags": []
   },
   "outputs": [
    {
     "data": {
      "application/vnd.jupyter.widget-view+json": {
       "model_id": "10b4155882774d65abb6c32329744c00",
       "version_major": 2,
       "version_minor": 0
      },
      "text/plain": [
       "interactive(children=(IntSlider(value=49, description='N', max=49, min=10), IntSlider(value=10, description='N…"
      ]
     },
     "metadata": {},
     "output_type": "display_data"
    },
    {
     "data": {
      "text/plain": [
       "<function Euler_FB.FE_vs_BE(L, N, alpha, bA, bB, Nt, ht, tol)>"
      ]
     },
     "execution_count": 5,
     "metadata": {},
     "output_type": "execute_result"
    }
   ],
   "source": [
    "widgets.interact_manual(FE_vs_BE,\n",
    "                    L = widgets.fixed(L),\n",
    "                    N = widgets.IntSlider(min=10, max = 49, value=49, step=1),\n",
    "                    alpha = widgets.fixed(alpha),\n",
    "                    bA = widgets.fixed(bA),\n",
    "                    bB = widgets.fixed(bB),\n",
    "                    Nt = widgets.IntSlider(min=10, max=10000, value=10, step=10),\n",
    "                    ht = widgets.FloatSlider(min=1e-4, max=1e-3, value=1e-4, step=1e-4),\n",
    "                    tol = widgets.fixed(tolerancia))"
   ]
  },
  {
   "cell_type": "code",
   "execution_count": null,
   "id": "a9002c45-a385-4a02-84c4-54555216603d",
   "metadata": {},
   "outputs": [],
   "source": []
  }
 ],
 "metadata": {
  "kernelspec": {
   "display_name": "Python 3 (ipykernel)",
   "language": "python",
   "name": "python3"
  },
  "language_info": {
   "codemirror_mode": {
    "name": "ipython",
    "version": 3
   },
   "file_extension": ".py",
   "mimetype": "text/x-python",
   "name": "python",
   "nbconvert_exporter": "python",
   "pygments_lexer": "ipython3",
   "version": "3.11.5"
  }
 },
 "nbformat": 4,
 "nbformat_minor": 5
}
