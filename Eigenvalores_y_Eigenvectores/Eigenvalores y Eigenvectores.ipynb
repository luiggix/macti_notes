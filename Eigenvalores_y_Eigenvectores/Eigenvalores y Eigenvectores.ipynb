{
 "cells": [
  {
   "cell_type": "markdown",
   "id": "8d95e2a0",
   "metadata": {},
   "source": [
    "# Eigenvalores y Eigenvectores\n",
    "\n",
    "**Objetivo general**\n",
    "- Dar una definición clara de los conceptos de Eigenvalores y Eigenvectores.\n",
    "\n",
    "**Objetivos particulares**\n",
    "- Presentar una definición robusta pero clara del concepto de Eigenvalor y Eigenvector.\n",
    "- Mostrar como se obtienen dichos elementos. \n",
    "- Mostrar la importancia de estos conceptos.\n",
    "\n",
    "## Contenido\n",
    "- [1 - Introducción.](#1)\n",
    "- [2 - Definición.](#2)\n",
    "    - [Ejemplo 1.](#ej-1)\n",
    "    - [Ejemplo 2.](#ej-2)\n",
    "        \n",
    "- [3 - Eigenvalores y Eigenvectores para matrices.](#3)\n",
    "    - [Ejemplo 3.](#ej-3)\n",
    "   \n",
    "- [4 - Ejercicio.](#4)\n",
    "- [5 - Referencias.](#5)"
   ]
  },
  {
   "cell_type": "markdown",
   "id": "b14061aa",
   "metadata": {},
   "source": [
    "<a name='1'></a>\n",
    "## Introducción.\n",
    "\n",
    "Los Eigenvalores y Eigenvectores son conceptos sumamente empleados en diferentes áreas de las matemáticas aplicadas e ingenierías. La raíz $\\textbf{eigen}$ proviene del alemán y significa $\\textbf{propio}$, por lo cual podemos definir como valores propios o valores característicos de una transformación lineal o de una matriz, mientras los eigenvectores pueden ser definidos como vectores propios o vectores característicos de una transformación lineal o de una matriz."
   ]
  },
  {
   "cell_type": "markdown",
   "id": "6da04b83",
   "metadata": {},
   "source": [
    "<a name='2'></a>\n",
    "## Definición.\n",
    "\n",
    "Sea $\\textbf{V}$ un espacio vectorial sobre un campo $\\textbf{K}$ y sea $\\textbf{T}$ una transformación lineal\n",
    "\n",
    "$$\\textbf{T} : \\textbf{V} \\rightarrow \\textbf{V}$$\n",
    "\n",
    "un vector $\\vec{v_{0}} \\neq \\vec{0}$ del espacio vectorial $\\textbf{V}$ se denomina un eigenvector de $\\textbf{T}$ si existe un escalar $\\lambda \\in \\textbf{K}$ tal que\n",
    "\n",
    "$$\\textbf{T}(\\vec{v_{0}}) = \\lambda\\vec{v_{0}}$$\n",
    "\n",
    "en este caso $\\lambda \\in \\textbf{K}$ se denomina el eigenvalor de la transformación $\\textbf{T}$ asociado al eigenvector $\\vec{v_{0}}$\n"
   ]
  },
  {
   "cell_type": "markdown",
   "id": "89ee6e4c",
   "metadata": {},
   "source": [
    "---\n",
    "<a name='ej-1'></a>\n",
    "#### **<font color=\"DodgerBlue\">Ejemplo 1.</font>**\n",
    "\n",
    "<font color=\"DarkBlue\">Consideremos la transformación lineal $\\textbf{T}: \\Re^{3} \\rightarrow \\Re^{3}$ dada por\n",
    "    \n",
    "<font color=\"DarkBlue\">$$\\textbf{T}(x,y,z) = (-2x+15y+18z,3y+10z,z).$$\n",
    "    \n",
    "<font color=\"DarkBlue\">Observa que \n",
    "\n",
    "<font color=\"DarkBlue\">$$\\textbf{T}(1,0,0) = (-2,0,0) = -2(1,0,0);$$\n",
    "    \n",
    "<font color=\"DarkBlue\">que \n",
    "\n",
    "<font color=\"DarkBlue\">$$\\textbf{T}(-19,-5,1) = ((-2)(-19)+15(-5)+18,3(-5)+10,1) = (28+75-18,-15+10,1) = (-19,-5,1);$$\n",
    "    \n",
    "<font color=\"DarkBlue\">y también que \n",
    "\n",
    "<font color=\"DarkBlue\">$$\\textbf{T}(3,1,0) = (-6+15,3,0) = (9,3,0) = 3(3,1,0)$$\n",
    "    \n",
    "<font color=\"DarkBlue\">Estas igualdades muestran que $\\textbf{(1,0,0)}$ es un eigenvector de $\\textbf{T}$ con eigenvalor $-2$, que $\\textbf{(-19,-5,1)}$ es un eigenvector de $\\textbf{T}$ con eigenvalor $1$ y que $\\textbf{(3,1,0)}$ es un eigenvector de $\\textbf{T}$ con eigenvalor $3$. \n",
    "\n",
    "\n",
    "\n",
    "---"
   ]
  },
  {
   "cell_type": "markdown",
   "id": "80c2a7ee",
   "metadata": {},
   "source": [
    "---\n",
    "<a name='ej-2'></a>\n",
    "#### **<font color=\"DodgerBlue\">Ejemplo 2.</font>**\n",
    "\n",
    "<font color=\"DarkBlue\">Consideremos al espacio vectorial $\\Re[x]$ de polinomios con coeficientes reales. Tomemos la transformación lineal $\\textbf{T}$ que manda a un polinomi a su segunda derivada. ¿Quiénes son los eigenvalores y eigenvectores de $\\textbf{T}$? \n",
    "    \n",
    "<font color=\"DarkBlue\">Para que $\\textbf{p}$ sea un eigenvector con eigenvalor $\\lambda$, tiene que suceder que \n",
    "\n",
    "<font color=\"DarkBlue\">$$\\textbf{p´´} = \\textbf{T(p)} = \\lambda \\textbf{p}.$$\n",
    "\n",
    "<font color=\"DarkBlue\">Como $\\textbf{p}$ no es el vector cero, tiene un cierto grado. Si $\\lambda \\neq 0$, entonces la igualdad no ocurre, pues si $\\textbf{p}$ es de grado mayor o igual a 2, entonces el grado de $\\textbf{p´´}$ es menor al de $\\lambda \\textbf{p}$, y si el grado de $\\textbf{p}$ es 0 ó 1, su segunda derivada es 0, y no puede pasar $\\lambda \\textbf{p} = 0.$ Así, el único eigenvalor que puede tener $\\textbf{T}$ es $\\lambda = 0.$ Nótese que es válido que los eigevalores sean cero; mientras que los eigenvectores no pueden ser iguales a $\\vec{0}.$\n",
    "\n",
    "---"
   ]
  },
  {
   "cell_type": "markdown",
   "id": "9d3a4c9c",
   "metadata": {},
   "source": [
    "<a name='3'></a>\n",
    "## Eigenvalores y Eigenvectores para matrices.\n",
    "\n",
    "También podemos definir los eigenvectores y eigenvalores de una matriz M.\n",
    "\n",
    "Sea $\\textbf{M} \\in \\textbf{K}_{nxn}$ para algún número natural n, un elemento $\\vec{x} \\in \\textbf{K}_{n}$ se denomina un eigenvector de $\\textbf{M}$ si existe un escalar $\\lambda \\in \\textbf{K}$ tal que \n",
    "\n",
    "$$\\textbf{M}\\vec{x} = \\lambda\\vec{x}$$\n",
    "\n",
    "en este caso $\\lambda \\in \\textbf{K}$ se denomina eigenvalor de la matriz $\\textbf{M}$ asociado al eigenvector $\\vec{x}.$"
   ]
  },
  {
   "cell_type": "markdown",
   "id": "da04bba7",
   "metadata": {},
   "source": [
    "---\n",
    "<a name='ej-3'></a>\n",
    "#### **<font color=\"DodgerBlue\">Ejemplo 3.</font>**\n",
    "\n",
    "<font color=\"DarkBlue\">Dada la matriz\n",
    "\n",
    "<font color=\"DarkBlue\">$$\\begin{equation} A=\n",
    "\\begin{bmatrix}\n",
    "-1 & 3\\\\\n",
    "2 & 4 \n",
    "\\end{bmatrix}\n",
    "\\end{equation}$$\n",
    "    \n",
    "<font color=\"DarkBlue\">obtener sus Eigenvalores.\n",
    "    \n",
    "<font color=\"DarkBlue\">Para hallar los eigenvalores debemos obtener el determinante de la matriz restandole a la diagonal el factor $\\lambda$, es decir:\n",
    "\n",
    "<font color=\"DarkBlue\">$$ det\\textbf{A} = \n",
    "\\begin{equation}\n",
    "\\begin{bmatrix}\n",
    "-1-\\lambda & 3\\\\\n",
    "2 & 4-\\lambda\n",
    "\\end{bmatrix}\n",
    "\\end{equation}\n",
    "= (-1-\\lambda)(4-\\lambda)-6=0\n",
    "$$\n",
    "\n",
    "<font color=\"DarkBlue\">Desarrollando el producto de binomios obtenemos\n",
    "    \n",
    "<font color=\"DarkBlue\">$$4+\\lambda -4\\lambda + \\lambda^{2} -6$$\n",
    "    \n",
    "<font color=\"DarkBlue\">De donde resulta la siguiente factorización\n",
    "    \n",
    "<font color=\"DarkBlue\">$$=(\\lambda+2)(\\lambda-5)$$\n",
    "    \n",
    "<font color=\"DarkBlue\">Por lo tanto, los eigenvalores buscados son: $$\\lambda_{1} = -2$$ \n",
    "    \n",
    "<font color=\"DarkBlue\">$$\\lambda_{2} = 5$$\n",
    "    \n",
    "---"
   ]
  },
  {
   "cell_type": "markdown",
   "id": "b1e097e4",
   "metadata": {},
   "source": [
    "<a name='4'></a>\n",
    "## Ejercicio.\n",
    "\n",
    "Encuentra los eigenvlaores de la matriz\n",
    "\n",
    "$$\\begin{equation} A=\n",
    "\\begin{bmatrix}\n",
    "-1 & 3\\\\\n",
    "2 & 4 \n",
    "\\end{bmatrix}\n",
    "\\end{equation}$$\n",
    "    \n",
    "considerándola como:\n",
    " * Una matriz en $\\textbf{M}_{3}(\\mathbb R)$\n",
    " * Una matriz en $\\textbf{M}_{3}(\\mathbb C)$\n"
   ]
  },
  {
   "cell_type": "markdown",
   "id": "3c81b6fd",
   "metadata": {},
   "source": [
    "<a name='5'></a>\n",
    "## Referencias.\n",
    "Para mayor aprendizaje se recomienda al lector visitar las diversas fuentes de donde se obtuvo la información anterior:\n",
    "\n",
    "* https://www.cimat.mx/~joaquin/mn11/clase11.pdf\n",
    "* https://sites.google.com/site/metalmetnumericos/home/unidad-3/3-7-obtencion-de-eigenvalores-y-eigenvectores\n",
    "* https://numpy.org/doc/stable/reference/generated/numpy.linalg.eig.html\n",
    "* https://blog.nekomath.com/algebra-lineal-i-eigenvalores-y-eigenvectores-de-transformaciones-y-matrices/#:~:text=la%20siguiente%20definici%C3%B3n.-,Definici%C3%B3n.,conoce%20como%20un%20eigenvector%20de%20."
   ]
  }
 ],
 "metadata": {
  "kernelspec": {
   "display_name": "Python 3 (ipykernel)",
   "language": "python",
   "name": "python3"
  },
  "language_info": {
   "codemirror_mode": {
    "name": "ipython",
    "version": 3
   },
   "file_extension": ".py",
   "mimetype": "text/x-python",
   "name": "python",
   "nbconvert_exporter": "python",
   "pygments_lexer": "ipython3",
   "version": "3.9.7"
  }
 },
 "nbformat": 4,
 "nbformat_minor": 5
}
