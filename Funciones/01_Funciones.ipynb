{
 "cells": [
  {
   "cell_type": "markdown",
   "id": "cc5efd1f",
   "metadata": {},
   "source": [
    "# Funciones\n",
    "\n",
    "**Objetivo general**\n",
    "- Familiarizar al alumno con la definición de función, así como presentar definiciones elementales referentes a las funciones.\n",
    "\n",
    "**Objetivos particulares**\n",
    "- Presentar de manera sencilla el concepto de función.\n",
    "- Comprender el concepto de dominio y codominio. \n",
    "- Mostrar ejemplos de algunas funciones. \n",
    "- Familiarizar al alumno con las herramientas de visualización computacional mediante graficas de funciones.\n",
    "\n",
    "## Contenido\n",
    "- [1 - Introducción.](#1)\n",
    "    - [1.1 - Emprendiendo con chilaquiles.](#1-1)\n",
    "    - [1.2 - Definición de función.](#1-2)\n",
    "        - [Ejemplo 1.](#ej-1)\n",
    "        - [Ejemplo 2.](#ej-2)\n",
    "        - [Ejemplo 3.](#ej-3)\n",
    "        - [Ejemplo 4. - Función logística.](#ej-4)\n",
    "- [2 - Evalua tus conocimientos.](#2)\n",
    "    - [2.1 - Ejercicios.](#2-1)\n",
    "    - [2.2 - Referencias.](#2-2)"
   ]
  },
  {
   "cell_type": "markdown",
   "id": "1ae0f600",
   "metadata": {},
   "source": [
    "<a name='1'></a>\n",
    "# Introducción"
   ]
  },
  {
   "cell_type": "markdown",
   "id": "93f4fcd7",
   "metadata": {},
   "source": [
    "<a name='1-1'></a>\n",
    "# Emprendiendo con Chilaquiles\n",
    "\n",
    "Son las 7:30 am. La clase de Cálculo comienza a las 8:00 am. Tres estudiantes deciden aprovechar el tiempo e ir a desayunar chilaquiles. Pero luego de una búsqueda infructuosa, deciden regresar a la Facultad a las 7:55 am. Antes de entrar a la clase uno de ellos le dice a los otros dos:-¿No creen que sería un buen negocio poner un puesto de chilaquiles?-. Al salir de la clase, los tres estudiantes piensan que efectivamente es un buen negocio lo de los chilaquiles, así que deciden emprender. Venden los chilaquiles un día a la semana en su Facultad. La tabla que sigue muestra cómo les ha ido con las ventas:\n",
    "\n",
    "| Semana | 1 | 2 | 3 | 4 | 5 | 6 | 7 | 8 | 9 | 10 |\n",
    "|---|---|---|---|---|---|---|---|---|---|---|\n",
    "| Porciones vendidas | 4 | 9 | 18 | 30 | 43 | 52 | 57 | 59 | 60 | 60 |\n",
    "\n",
    "Como se puede observar, las ventas se han ido incrementado desde la semana 1 en la que vendieron solo 4 porciones, hasta la semana 10 en la que lograron vender 60. Parece que les está yendo muy bien y se preguntan: ¿sería buena idea dejar la Universidad y dedicarse a este negocio? \n",
    "\n",
    "Para responder a esta pregunta se puede hacer uso de los conocimientos de Cálculo para, de alguna manera, predecir el comportamiento de sus ventas con la información de lo que han vendido hasta ahora. Si realizamos un gráfico con los datos de la tabla anterior tenemos lo siguiente:"
   ]
  },
  {
   "cell_type": "code",
   "execution_count": null,
   "id": "f9c0f613",
   "metadata": {},
   "outputs": [],
   "source": [
    "import numpy as np\n",
    "import matplotlib.pyplot as plt"
   ]
  },
  {
   "cell_type": "code",
   "execution_count": null,
   "id": "d1413079",
   "metadata": {},
   "outputs": [],
   "source": [
    "# lista que contiene el número de la semana en orden ascendente\n",
    "semanas   = [ 1, 2, 3, 4, 5, 6, 7, 8, 9,10] \n",
    "# lista que contiene el número de porciones conforme al número correspondiente de la semana\n",
    "porciones = [ 4, 9,18,30,43,52,57,59,60,60]\n",
    "\n",
    "#Realizamos la gráfica correspondiente.\n",
    "plt.plot(semanas,porciones,\"o\")\n",
    "#Activamos el mallado en la gráfica.\n",
    "plt.grid()\n",
    "#Asignamos un nombre al eje X; además asignamos una escala apropiada para el eje X.\n",
    "plt.xlabel(\"Semanas\")\n",
    "plt.xticks(semanas)\n",
    "#Asignamos un nombre para el eje Y.\n",
    "plt.ylabel(\"Porciones vendidas\")\n",
    "#Asignamos un titulo a la gráfica.\n",
    "plt.title(\"Negocio de chilaquiles\")"
   ]
  },
  {
   "cell_type": "markdown",
   "id": "a3e86794",
   "metadata": {},
   "source": [
    "En esta gráfica se observa que para cada valor de las semanas, se tiene uno y solo un valor de porciones vendidas. \n",
    "\n",
    "Si definimos lo siguiente: \n",
    "\n",
    "- $A = \\{ 1, 2, 3, 4, 5, 6, 7, 8, 9, 10 \\}$ como el conjunto que contiene el número de cada semana (**dominio**, se explica más adelante), y \n",
    "- $B = \\{ 4,  9, 18, 30, 43, 52, 57, 59, 60, 60\\}$ como el conjunto que contiene las porciones vendidas en cada semana (**contradominio**, se explica más adelante),\n",
    "\n",
    "se puede decir que existe una relación $f$ que relaciona cada elemento de $A$ con uno y solo un elemento de $B$. De manera esquemática:  \n",
    "\n",
    "$\n",
    "\\begin{array}{ccccccccccc}\n",
    "A : & 1 & 2 & 3 & 4 & 5 & 6 & 7 & 8 & 9 & 10 \\\\\n",
    "f :& \\downarrow & \\downarrow & \\downarrow & \\downarrow \n",
    "& \\downarrow & \\downarrow & \\downarrow & \\downarrow \n",
    "& \\downarrow & \\downarrow \n",
    "\\\\\n",
    "B : & 4 &  9 & 18 & 30 & 43 & 52 & 57 & 59 & 60 & 60\n",
    "\\end{array}\n",
    "$\n",
    "\n",
    "Entonces $f$ es una función. Pero, ¿qué es una función?, veamos algunas definiciones y posteriormente intentemos explicar las ventas de chilaquiles usando un función adecuada."
   ]
  },
  {
   "cell_type": "markdown",
   "id": "74c5b69b",
   "metadata": {},
   "source": [
    "# Funciones\n",
    "\n",
    "En la clase de Cálculo se definen las funciones como sigue:\n",
    "\n",
    "***\n",
    "<a name='1-2'></a>\n",
    "## Definición\n",
    "\n",
    "Sean $A$ y $B$ dos conjuntos. Una relación $f$ se llama una función de $A$ en $B$ si y sólo si *a cada elemento de $A$ le corresponde uno y sólo un elemento de $B$*. \n",
    "***\n",
    "\n",
    "El hecho de que $f$ sea una función de $A$ en $B$  se denota como $f:A\\rightarrow B$. \n",
    "\n",
    "Al conjunto $A$ se le conoce como **dominio** de $f$ y al conjunto $B$ se le conoce como **contradominio** o **codominio** de $f$. \n",
    "\n",
    "Es común denotar $f(x) = y$, lo que nos dice es que la función $f$ transforma a $x$ en $y$. Se debe cumplir además que $x \\in A$ y $y \\in B$.\n",
    "\n",
    "La notación $f(x) = y$ es conveniente cuando se hacen gráficos de la función, pues el eje horizontal $x$ representará al dominio, mientras que el eje vertical $y$ representará al contradominio, lo anterior en el plano Cartesiano.\n",
    " \n",
    "En otras palabras, podemos decir que una función es una regla de correspondencia que asigna a cada elemento del dominio, un único elemento del contradominio.\n",
    "\n",
    "Una definición más formal de función se puede consultar\n",
    "<a href=\"./02_Funciones_formalismos_y_ejemplos.ipynb\">aquí. </a>"
   ]
  },
  {
   "cell_type": "markdown",
   "id": "39947d18",
   "metadata": {},
   "source": [
    "---\n",
    "<a name='ej-1'></a>\n",
    "#### **<font color=\"DodgerBlue\">Ejemplo 1</font>**\n",
    "\n",
    "<font color=\"DarkBlue\">Definimos una función $f$ cuyo dominio lo conforman los números reales $x$ que son más grandes o iguales que $-2\\pi$ y menores o iguales que $2\\pi$, o sea $-2\\pi \\leq x \\leq 2 \\pi$.</font>\n",
    "\n",
    "<font color=\"DarkBlue\">La función es: $f(x) = \\sin(x)$.</font>\n",
    "\n",
    "<font color=\"DarkBlue\">Sabemos, de nuestras clases de trigonometría, que $-1 \\leq \\sin(x) \\leq 1$, entonces el codominio lo conforman los números reales que cumplen $-1 \\leq y \\leq 1$.</font>\n",
    "\n",
    "<font color=\"DarkBlue\">De manera más formal, definimos a la función de este ejemplo como sigue:</font>\n",
    "\n",
    "<font color=\"DarkBlue\">$f:[-2\\pi,2\\pi] \\rightarrow [-1,1]$, donde $f(x) = \\sin(x)$.</font>\n",
    "\n",
    "---"
   ]
  },
  {
   "cell_type": "code",
   "execution_count": null,
   "id": "919e9fc4",
   "metadata": {},
   "outputs": [],
   "source": [
    "# Dominio: creamos un rango de valores dentro del intervalo semiabierto [-2pi, 2pi), \n",
    "# que va del -2pi al 2pi con pasos de 0.1\n",
    "x = np.arange(-2*(np.pi), 2*(np.pi), 0.1) \n",
    "# Codominio: a los valores generados en el intervalo anterior, les aplicamos la función seno\n",
    "y = np.sin(x)\n",
    "\n",
    "#Realizamos la gráfica correspondiente.\n",
    "plt.plot(x,y)\n",
    "plt.xlabel(\"X\")\n",
    "plt.ylabel(\"Sin(X)\")\n",
    "plt.title(\"Ejemplo 1\")\n",
    "\n",
    "#Generamos los puntos de interés para el eje X.\n",
    "x_label=np.arange(-2*(np.pi), 2*(np.pi), np.pi/2)\n",
    "#El comando xticks nos permite definir el rango del eje X, además de asignarle etiquetas personalizadas a cada punto.\n",
    "plt.xticks(x_label,[r'$-2\\pi$',r'$-3\\pi/2$', r'$-\\pi$',r'$-\\pi/2$', r'$0$', r'$+\\pi/2$', r'$+\\pi$', r'$+3\\pi/2$'])\n",
    "\n",
    "###############################\n",
    "N=0.0\n",
    "###############################\n",
    "\n",
    "#Agregamos una linea vetical y resaltamos un punto en el (0,0)\n",
    "plt.axvline(x=N,color='g',linestyle='--')\n",
    "plt.scatter(x=[N],y=[np.sin(N)], color='r', zorder=5)\n",
    "#Activamos el mallado en la grafica.\n",
    "plt.grid()"
   ]
  },
  {
   "cell_type": "markdown",
   "id": "18aec2f6",
   "metadata": {},
   "source": [
    "Observe que si trazamos líneas rectas verticales (línea verde punteada), éstas cortarán a la gráfica de la función (línea azul) en solo un punto (círculo rojo). A eso se refiere el enunciado: *''a cada elemento de $A$ le corresponde uno y sólo un elemento de $B$''* de la definición de función.\n",
    "\n",
    "Intente cambiar el valor de `N` en el código anterior entre $-2\\pi$ y $2\\pi$ y observe que la curva y la recta solo se intersectan en un punto."
   ]
  },
  {
   "cell_type": "markdown",
   "id": "6ee9bdd3",
   "metadata": {},
   "source": [
    "---\n",
    "<a name='ej-2'></a>\n",
    "#### **<font color=\"DodgerBlue\">Ejemplo 2</font>**\n",
    "\n",
    "<font color=\"DarkBlue\">Sea $f:A\\rightarrow B$ definida como:\n",
    "\n",
    "<font color=\"DarkBlue\">$   f(x) = \\left\\{\n",
    "\\begin{array}{l}\n",
    "      0 & x = 2 \\\\\n",
    "      \\\n",
    "      \\\\\n",
    "      1 & x \\neq 2 \\\\\n",
    "\\end{array} \n",
    "\\right.$\n",
    "\n",
    "<font color=\"DarkBlue\">Donde $A = \\{0.0, 0.2, 0.4, 0.6, 0.8, 1.0, 1.2, 1.4, 1.6, 1.8, 2.0, 2.2, 2.4, 2.6, 2.8, 3.0, 3.2, 3.4,3.6, 3.8, 4.0, 4.2, 4.4, 4.6, 4.8\\}$ \n",
    "\n",
    "<font color=\"DarkBlue\">$B=\\{0,1\\}$\n",
    "    \n",
    "---"
   ]
  },
  {
   "cell_type": "code",
   "execution_count": null,
   "id": "cd8d6379",
   "metadata": {},
   "outputs": [],
   "source": [
    "# Dominio: creamos un rango de valores dentro del intervalo semiabierto [0, 5), \n",
    "# que va del 0.0 al 5.0 con pasos de 0.2\n",
    "x = np.arange(0., 5., 0.2)          \n",
    "# Codominio: a los valores generados en el intervalo anterior, les aplicamos la \n",
    "# función a trozos del ejemplo 2: iteramos sobre el intervalo anterior y vamos \n",
    "# creando una lista que contiene un 0; si la entrada i del intervalo anterior \n",
    "# es un 2.0, colocamos un 0 en dicha lista, pero si la entrada i del intervalo\n",
    "# anterior no es un 2.0, colocamos un 0. Iteramos sobre dicho intervalo tal cual\n",
    "# lo creamos, es decir, en forma ascendente\n",
    "y = [ 0 if i == 2 else 1 for i in x] # Codominio\n",
    "\n",
    "plt.plot(x,y,'o')\n",
    "plt.title('Ejemplo 2')\n",
    "plt.xlabel('x')\n",
    "plt.ylabel('f(x)')\n",
    "plt.grid()\n",
    "\n"
   ]
  },
  {
   "cell_type": "markdown",
   "id": "1ad79276",
   "metadata": {},
   "source": [
    "---\n",
    "<a name='ej-3'></a>\n",
    "#### **<font color=\"DodgerBlue\">Ejemplo 3</font>**\n",
    "\n",
    "<font color=\"DarkBlue\">Sea $f(x) = x^2$ para $x \\in \\mathbb{R}$. En este caso el dominio son todos los números reales, ¿cuál será el codominio?\n",
    "    \n",
    "---"
   ]
  },
  {
   "cell_type": "code",
   "execution_count": null,
   "id": "9d77676e",
   "metadata": {},
   "outputs": [],
   "source": [
    "# Dominio: creamos un rango de valores dentro del intervalo cerrado [-10, 10], \n",
    "# que va del -10 al 10 con 100 muestras\n",
    "x = np.linspace(-10,10,100) \n",
    "# Codominio: del rango de valores que acabamos de crear, evaluamos cada uno en \n",
    "# la función f(x)=x^2, es decir, cada entrada la elevamos al cuadrado\n",
    "y = x**2                    \n",
    "\n",
    "###############################\n",
    "N= -3.0\n",
    "###############################\n",
    "\n",
    "\n",
    "plt.plot(x, y)\n",
    "plt.grid()\n",
    "\n",
    "plt.scatter(x=[N],y=[N**2], color='r', zorder=5)\n",
    "plt.axvline(x=N,color='g',linestyle='--')\n",
    "\n",
    "plt.title('Ejemplo 3')\n",
    "plt.xlabel('$x$')\n",
    "plt.ylabel('$f(x) = x^2$')"
   ]
  },
  {
   "cell_type": "markdown",
   "id": "439f6ccc",
   "metadata": {},
   "source": [
    "En la gráfica anterior se observa que el codominio son solo los números reales positivos, incluyendo el cero. Esto lo podemos escribir matemáticamente como $B = \\mathbb{R}^+ \\cup \\{0\\}$, donde $\\mathbb{R}^+$ es el subconjunto de los números reales tales que si $y \\in \\mathbb{R}^+$ entonces $y > 0$.\n",
    "\n",
    "Observe que cualquier línea vertical solo intersecta a la función en un solo punto. Intente cambiar el valor de `N` entre -10 y 10, vea el resultado. \n",
    "\n",
    "Por lo tanto $f(x) = x^2$ es una función. ¿La inversa de $f$ será una función también?\n",
    "\n",
    "De manera simplista podemos decir que si tenemos una función $f: A \\rightarrow B$, entonces su inversa debería ser: $g: B \\rightarrow A$. Por lo tanto, si $x \\in A$, entonces $f(x) = y$ con $y \\in B$; y dado que $g$ es la inversa de $f$ entonces $g(y) = \\pm \\sqrt x$.\n",
    "\n",
    "Básicamente lo que se está haciendo con la inversa es \"intercambiar\" el dominio con el contradominio. Esto lo podemos hacer y graficar fácilmente en Python como sigue:"
   ]
  },
  {
   "cell_type": "code",
   "execution_count": null,
   "id": "f97ddc2b",
   "metadata": {},
   "outputs": [],
   "source": [
    "xi = y   # Tomamos el codominio y lo ponemos en el dominio xi\n",
    "yi = x   # Tomamos el dominio de f y lo ponemos en el codominio yi\n",
    "\n",
    "###############################\n",
    "N= 40.0\n",
    "###############################\n",
    "\n",
    "\n",
    "plt.plot(xi, yi)\n",
    "plt.grid()\n",
    "\n",
    "plt.scatter(x=[N,N],y=[np.sqrt(N), -np.sqrt(N)], color='r', zorder=5)\n",
    "plt.axvline(x=N,color='g',linestyle='--')\n",
    "\n",
    "plt.title('Ejemplo 3')\n",
    "plt.xlabel('$x$')\n",
    "plt.ylabel('$g(x)$')"
   ]
  },
  {
   "cell_type": "markdown",
   "id": "a4e28e7f",
   "metadata": {},
   "source": [
    "Observe que esta definición de $g$ genera una curva que no cumple con la definición de función, pues cualquier recta vertical (para x > 0) interseca a la curva de $g$ en dos puntos.\n",
    "\n",
    "Una definición más formal de función inversa la puedes consultar\n",
    "<a href=\"http://localhost:8888/notebooks/OneDrive/Escritorio/SS/02_Funciones_formalismos_y_ejemplos.ipynb\">aquí. </a>\n"
   ]
  },
  {
   "cell_type": "markdown",
   "id": "bc9cfabf",
   "metadata": {},
   "source": [
    "---\n",
    "<a name='ej-4'></a>\n",
    "#### **<font color=\"DodgerBlue\">Ejemplo 4: función logística</font>**\n",
    "<font color=\"DarkBlue\">La función logística genera una curva en forma de S y es una función que suele usarse para modelar diversos comportamientos como la difusión de información en redes sociales, crecimiento de poblaciones, propagación de enfermedades, entre otras. Su definición es la siguiente:\n",
    "\n",
    "<font color=\"DarkBlue\">$\\displaystyle\n",
    "f(x) = \\frac{1}{1+e^{-x}}\n",
    "$\n",
    "\n",
    "<font color=\"DarkBlue\">Su gráfica en el intervalo $x \\in [-10,10]$ es la siguiente:\n",
    "\n",
    "---"
   ]
  },
  {
   "cell_type": "code",
   "execution_count": null,
   "id": "99f8d803",
   "metadata": {},
   "outputs": [],
   "source": [
    "# Dominio: creamos un rango de valores dentro del intervalo cerrado [-10, 10], \n",
    "# que va del -10 al 10 con 100 muestras\n",
    "x = np.linspace(-10,10,100) \n",
    "# Codominio: del rango de valores que acabamos de crear, evaluamos cada uno en \n",
    "# la función logística\n",
    "y = 1 / (1 + np.exp(-x))\n",
    "\n",
    "\n",
    "###############################\n",
    "N= 0.0\n",
    "###############################\n",
    "\n",
    "\n",
    "plt.plot(x, y)\n",
    "plt.grid()\n",
    "\n",
    "plt.scatter(x=[N],y=[1/(1+np.exp(-N))], color='r', zorder=5)\n",
    "plt.axvline(x=N,color='g',linestyle='--')\n",
    "\n",
    "plt.title('Función logística')\n",
    "plt.xlabel('$x$')\n",
    "plt.ylabel('$f(x) = 1 /(1+e^{-x})$')"
   ]
  },
  {
   "cell_type": "markdown",
   "id": "7ece9735",
   "metadata": {},
   "source": [
    "Cuando esta función se usa para describir un modelo de crecimiento de poblaciones, se observa que al principio se tiene un crecimiento exponencial (véase la función exponencial); posteriomente aparece la competencia entre individuos de la población por algún recurso crítico, de tal manera que el crecimiento disminuye; finalmente se llega a la madurez de la población y el crecimiento se detiene. Todos estos comportamientos se pueden ver la gráfica anterior.\n",
    "\n",
    "¿Se podrá modelar el negocio de los chilaquiles con esta función? Veamos:\n",
    "\n",
    "Escribimos la función logística de la siguiente manera: $\\displaystyle\n",
    "f(x) = \\frac{a}{b+e^{-(x-c)}}\n",
    "$\n",
    "donde los parámetros $a, b$ y $c$ se deben ajustar para modelar la venta de chilaquiles.\n",
    "Fijemos $a = 30$ y $b=0.5$ y variamos $c$ en $[1,2,3,4,5]$. Grafiquemos estas curvas y los datos de las ventas de chilaquiles:\n"
   ]
  },
  {
   "cell_type": "code",
   "execution_count": null,
   "id": "cf829ed3",
   "metadata": {},
   "outputs": [],
   "source": [
    "# creamos la función chilogisticos que recibe los argumentos a, b, c, x  y retornamos un número, \n",
    "# que es la valuación de la función logística de la forma en la que la acabamos de escribir \n",
    "def chilogisticos(a,b,c,x):\n",
    "    return a / (b + np.exp(-1*(x-c)))\n",
    "\n",
    "# Dominio: creamos un rango de valores dentro del intervalo cerrado [-20, 20], \n",
    "# que va del -20 al 20 con 100 muestras\n",
    "x = np.linspace(-20,20,100) \n",
    "# indicamos un valor particular de a\n",
    "a = 30\n",
    "# indicamos un valor particular de b\n",
    "b = 0.5 \n",
    "\n",
    "\n",
    "plt.figure(figsize=[20,10])\n",
    "\n",
    "# en el ciclo for colocamos distintos valores de c, que van desde c = 1 hasta c = 5 con pasos de 1\n",
    "for c in range(1,6):\n",
    "    # Codominio: valuamos todos los valores de x en la función chilogisticos, donde a y b\n",
    "    # los acabamos de establecer y la c va cambiando von base en la iteración del ciclo for\n",
    "    y = chilogisticos(a,b,c,x)     \n",
    "    # graficamos cada función con cada valor de c, con base en la iteración del ciclo for, indicando\n",
    "    # la etiqueta (label de cada gráfica)\n",
    "    plt.plot(x,y, label='f(x) con c = ' + str(c))\n",
    "\n",
    "\n",
    "# graficamos en la figura un diagrama de dispersión para mostrar las \n",
    "# porciones vendidas de los chilaquiles de la semana correspondiente,\n",
    "# es decir, de la gráfica de la función que creamos al principio\n",
    "plt.scatter(x=semanas, y=porciones, color='purple',s=100)\n",
    "\n",
    "# creamos un rango de valores dentro del intervalo semiabierto [11, 20), \n",
    "# que va del 11 al 20 con pasos de 1\n",
    "xpred = np.arange(11,20,1)\n",
    "\n",
    "# graficamos un diagrama de dispersión que corresponde a la función chilogisticos valuada\n",
    "# en xpred con c = 5 (el último valor de c que generó el ciclo for). Los puntos del\n",
    "# diagrama son negros y tienen un tamaño más chico al diagrama de las porciones vendidas\n",
    "plt.scatter(xpred, y=chilogisticos(a,b,c,xpred), color='black',s=50)\n",
    "\n",
    "# las etiquetas del eje x van a ser los números de cada semana, que van de la 0 \n",
    "# a la semana 19\n",
    "plt.xticks([i for i in range(20)],fontsize=13)\n",
    "plt.yticks(fontsize=13)\n",
    "\n",
    "plt.title('Chilaquiles logísticos', fontsize=30)\n",
    "plt.xlabel('Semanas',fontsize=20)\n",
    "plt.ylabel('Porciones vendidas',fontsize=20)\n",
    "plt.grid()\n",
    "plt.legend(fontsize=15)"
   ]
  },
  {
   "cell_type": "markdown",
   "id": "8024df69",
   "metadata": {},
   "source": [
    "Como se puede observar, es posible modelar la venta de chilaquiles usando una función de tipo logístico. Solo se deben encontrar los valores adecuados de $a$, $b$ y $c$. En las graficas anteriores, la curva que más se acerca es aquella con $c=3$ (pruebe con 3.5). \n",
    "\n",
    "Lo que se puede ver es que después de que las ventas alcanzan 60 porciones por semana, ya no hay un incremento y se estabilizan en ese valor (ver los puntos negros). Es probable que ya se hayan alcanzado a todos los clientes posibles que gustan de chilaquiles, por lo que el negocio no se ve que crezca mucho en el futuro. Por lo tanto, la respuesta a la pregunta de si es mejor dejar la Universidad y dedicarse al negocio de chilaquiles es negativa (al menos con este modelo).  "
   ]
  },
  {
   "cell_type": "markdown",
   "id": "d9f619fd",
   "metadata": {},
   "source": [
    "<a name='2'></a>\n",
    "# Evalúa tus conocimientos\n",
    "\n",
    "Si deseas contestar un breve cuestionario en el que podrás evaluar un poco del conocimiento aquirido en este notebook da clic [aquí.](https://forms.gle/hfvtjr6Qx8xhhP449)"
   ]
  },
  {
   "cell_type": "markdown",
   "id": "7de1c4c9",
   "metadata": {},
   "source": [
    "<a name='2-1'></a>\n",
    "## Ejercicios\n",
    "Para la siguiente colección de valores de $x$, encuentra el conjunto $F(x)$. Finalmente, realiza la gráfica de la función.\n",
    "\n",
    "$x = [2,3,5,6,8,9,11,12,14,15,17,18,20]$"
   ]
  },
  {
   "cell_type": "markdown",
   "id": "8b260263",
   "metadata": {},
   "source": [
    "a) $F(x) = \\frac{x}{2}+7$"
   ]
  },
  {
   "cell_type": "code",
   "execution_count": null,
   "id": "8f43c558",
   "metadata": {},
   "outputs": [],
   "source": [
    "x = [2,3,5,6,8,9,11,12,14,15,17,18,20] #Definimos nuestros puntos x.\n",
    "def func(x): #Generamos la función para evaluar. Nótese que recibe una lista como argumento.\n",
    "    y = []\n",
    "    for i in x:\n",
    "        a = i/2 + 7\n",
    "        y.append(a)\n",
    "    return y #La función nos regresa una lista con los valores f(x).\n",
    "\n",
    "y = func(x) #Guardamos los valores en una variable para realizar la gráfica.\n",
    "\n",
    "#Generamos la gráfica de la función.\n",
    "plt.plot(x,y)\n",
    "plt.title(r\"Ejercicio a). $F(x)= \\frac{x}{2}+7$\", size=14)\n",
    "plt.xlabel(\"x\", size=16)\n",
    "plt.ylabel(\"F(x)\", size=16)\n",
    "plt.grid()"
   ]
  },
  {
   "cell_type": "markdown",
   "id": "563d4473",
   "metadata": {},
   "source": [
    "b) $F(x) = 2x^{2} - 15$"
   ]
  },
  {
   "cell_type": "code",
   "execution_count": null,
   "id": "0dfdf4bc",
   "metadata": {},
   "outputs": [],
   "source": [
    "x = [2,3,5,6,8,9,11,12,14,15,17,18,20] #Definimos nuestros puntos x.\n",
    "def func(x): #Generamos la función para evaluar. Nótese que recibe una lista como argumento.\n",
    "    y = []\n",
    "    for i in x:\n",
    "        a = 2*i**2 - 15\n",
    "        y.append(a)\n",
    "    return y #La función nos regresa una lista con los valores f(x).\n",
    "\n",
    "y = func(x) #Guardamos los valores en una variable para realizar la gráfica.\n",
    "\n",
    "#Generamos la gráfica de la función.\n",
    "plt.plot(x,y)\n",
    "plt.title(r\"Ejercicio b). $F(x)= 2x^{2}-15$\", size=14)\n",
    "plt.xlabel(\"x\", size=16)\n",
    "plt.ylabel(\"F(x)\", size=16)\n",
    "plt.grid()\n",
    "\n",
    "print(y)"
   ]
  },
  {
   "cell_type": "markdown",
   "id": "4518aca5",
   "metadata": {},
   "source": [
    "<a name='2-2'></a>\n",
    "## Referencias\n",
    "\n",
    "* Spivak, M., & Marqués, B. F. (1988). Cálculo Infinitesimal. Reverté. \n",
    "* Stewart, J., Redlin, L., & Watson, Saleem. (2012). Precalculo: Matemáticas para el cálculo. Cengage Learning.\n",
    "* Avella, D., & Campero, G. (2017). Curso introductorio de Álgebra I. Papirhos, IM-UNAM."
   ]
  }
 ],
 "metadata": {
  "kernelspec": {
   "display_name": "Python 3 (ipykernel)",
   "language": "python",
   "name": "python3"
  },
  "language_info": {
   "codemirror_mode": {
    "name": "ipython",
    "version": 3
   },
   "file_extension": ".py",
   "mimetype": "text/x-python",
   "name": "python",
   "nbconvert_exporter": "python",
   "pygments_lexer": "ipython3",
   "version": "3.9.7"
  }
 },
 "nbformat": 4,
 "nbformat_minor": 5
}
