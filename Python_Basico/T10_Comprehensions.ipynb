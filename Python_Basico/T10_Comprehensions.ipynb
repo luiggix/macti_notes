{
 "cells": [
  {
   "cell_type": "markdown",
   "metadata": {},
   "source": [
    "# Python de cero a experto\n",
    "**Autor:** Luis Miguel de la Cruz Salas\n",
    "\n",
    "<a href=\"https://github.com/luiggix/Python_cero_a_experto\">Python de cero a experto</a> by Luis M. de la Cruz Salas is licensed under <a href=\"https://creativecommons.org/licenses/by-nc-nd/4.0?ref=chooser-v1\">Attribution-NonCommercial-NoDerivatives 4.0 International</a>"
   ]
  },
  {
   "cell_type": "markdown",
   "metadata": {},
   "source": [
    "## Pythonico es más bonito: Pensando como pythonista (intermedio)"
   ]
  },
  {
   "cell_type": "markdown",
   "metadata": {},
   "source": [
    "### List comprehensions </font>\n",
    "\n",
    "- La herramienta de *list comprehensions* (generación corta de listas) puede ser usada para construir listas de una manera muy concisa, natural y fácil, como lo hace un matemático. <br>\n",
    "\n",
    "- En matemáticas podemos definir un conjunto como sigue: <br>\n",
    "\n",
    "$$S = \\{x^2 : x \\in (0, 1, 2, \\dots, 9)\\} = \\{0, 1, 4, \\dots, 81\\}$$\n",
    "\n",
    "¿Cómo hacemos lo mismo en Python?"
   ]
  },
  {
   "cell_type": "code",
   "execution_count": 1,
   "metadata": {},
   "outputs": [
    {
     "data": {
      "text/plain": [
       "[0, 1, 4, 9, 16, 25, 36, 49, 64, 81]"
      ]
     },
     "execution_count": 1,
     "metadata": {},
     "output_type": "execute_result"
    }
   ],
   "source": [
    "S = [x**2 for x in range(10)]\n",
    "S"
   ]
  },
  {
   "cell_type": "code",
   "execution_count": 2,
   "metadata": {},
   "outputs": [
    {
     "data": {
      "text/plain": [
       "list"
      ]
     },
     "execution_count": 2,
     "metadata": {},
     "output_type": "execute_result"
    }
   ],
   "source": [
    "type(S)"
   ]
  },
  {
   "cell_type": "markdown",
   "metadata": {},
   "source": [
    "**Definición**.\n",
    "\n",
    "```python\n",
    "[ out_expression for name in secuence if predicate ]\n",
    "```\n",
    "\n",
    "1. Una secuencia de entrada (<font color=blue>S</font>) : <br><br>\n",
    "    - `M = [math.sqrt(x) for x in ` <font color=blue>**S**</font> ` if x%2 == 0]` <br> <br>\n",
    "\n",
    "2. Un nombre (<font color=blue>x</font>) que representa los miembros de la secuencia de entrada: <br><br>\n",
    "    - `M = [math.sqrt(x) for` <font color=blue>**x**</font> `in S if x%2 == 0]` <br> <br>\n",
    "\n",
    "3. Una expresión de predicado (<font color=blue>if x % 2 == 0</font>) opcional: <br><br>\n",
    "    - `M = [math.sqrt(x) for x in S` <font color=blue>**if x % 2 == 0**</font> `]` <br> <br>\n",
    "    \n",
    "4. Una expresión de salida (<font color=blue>math.sqrt(x)</font>) que produce los elementos de la lista resultado, los cuales provienen de los miembros de la secuencia de entrada que satisfacen el predicado: <br><br>\n",
    "    - `M = [`<font color=blue>**math.sqrt(x)**</font> ` for x in S if x % 2 == 0]`\n",
    "\n"
   ]
  },
  {
   "cell_type": "code",
   "execution_count": 3,
   "metadata": {},
   "outputs": [
    {
     "name": "stdout",
     "output_type": "stream",
     "text": [
      "[0.0, 1.4142135623730951, 2.0, 2.449489742783178, 2.8284271247461903]\n"
     ]
    }
   ],
   "source": [
    "import math\n",
    "M = [math.sqrt(x) for x in range(0,10) if x%2 == 0]\n",
    "print(M)"
   ]
  },
  {
   "cell_type": "markdown",
   "metadata": {},
   "source": [
    "#### Ejercicio 1. \n",
    "Obtener todos los enteros de la siguiente lista, elevarlos al cuadrado y poner el resultado en una lista:<br>\n",
    "\n",
    "```python\n",
    "    lista = [1,'4',9,'luiggi',0,4,('mike','dela+')]\n",
    "```"
   ]
  },
  {
   "cell_type": "code",
   "execution_count": 4,
   "metadata": {},
   "outputs": [],
   "source": [
    "lista = [1,'4',9,'luiggi',0,4,('mike','dela+')]"
   ]
  },
  {
   "cell_type": "code",
   "execution_count": 8,
   "metadata": {},
   "outputs": [],
   "source": [
    "lista2 = [x**2 for x in lista if type(x) == int]"
   ]
  },
  {
   "cell_type": "code",
   "execution_count": 7,
   "metadata": {},
   "outputs": [
    {
     "name": "stdout",
     "output_type": "stream",
     "text": [
      "[1, 81, 0, 16]\n"
     ]
    }
   ],
   "source": [
    "print(lista2)"
   ]
  },
  {
   "cell_type": "markdown",
   "metadata": {},
   "source": [
    "#### Ejercicio 2.\n",
    "Crear la siguiente lista:\n",
    "$$V = (2^0,2^1,2^2, \\dots, 2^{12}) = (1, 2, 4, 8, \\dots, 4096) $$"
   ]
  },
  {
   "cell_type": "code",
   "execution_count": 9,
   "metadata": {},
   "outputs": [
    {
     "data": {
      "text/plain": [
       "[1, 2, 4, 8, 16, 32, 64, 128, 256, 512, 1024, 2048, 4096]"
      ]
     },
     "execution_count": 9,
     "metadata": {},
     "output_type": "execute_result"
    }
   ],
   "source": [
    "[2**x for x in range(13)]"
   ]
  },
  {
   "cell_type": "markdown",
   "metadata": {},
   "source": [
    "#### Ejercicio 3.\n",
    "\n",
    "Crear la siguiente lista:\n",
    "\n",
    "$$M = \\{\\sqrt{x} \\, |\\, x \\in S \\text{ y } x \\text{ par }\\} = [0, 4, 16, 36, 64]$$\n",
    "\n",
    "con \n",
    "\n",
    "$$S = \\{x^2 : x \\in (0 \\dots 9)\\} = \\{0, 1, 4, \\dots, 81\\}$$\n"
   ]
  },
  {
   "cell_type": "code",
   "execution_count": 11,
   "metadata": {},
   "outputs": [
    {
     "data": {
      "text/plain": [
       "[0.0, 2.0, 4.0, 6.0, 8.0]"
      ]
     },
     "execution_count": 11,
     "metadata": {},
     "output_type": "execute_result"
    }
   ],
   "source": [
    "[math.sqrt(x) for x in S if x%2 == 0]"
   ]
  },
  {
   "cell_type": "markdown",
   "metadata": {},
   "source": [
    "### Anidado de *list comprehensions*\n",
    "\n",
    "#### Ejemplo 1.\n",
    "\n",
    "Una matriz identidad de tamaño $n \\times n$ :<br>\n",
    "\n",
    "$$\n",
    "\\left[\n",
    "\\begin{matrix}\n",
    "1 & 0 & 0 & \\dots & 0 \\\\\n",
    "0 & 1 & 0 & \\dots & 0 \\\\\n",
    "0 & 0 & 1 & \\dots & 0 \\\\\n",
    "\\vdots&\\vdots&\\vdots&\\ddots&\\vdots \\\\\n",
    "0 & 0 & 0 & \\dots & 1 \\\\\n",
    "\\end{matrix}\n",
    "\\right]\n",
    "$$\n",
    "\n",
    "En Python esta matriz se puede representar por la siguiente lista: <br>\n",
    "\n",
    "```python\n",
    "[[1,0,0, ... , 0],\n",
    " [0,1,0, ... , 0],\n",
    " [0,0,1, ... , 0],\n",
    " ................,     \n",
    " [0,0,0, ... , 1]]\n",
    "```\n",
    "\n",
    "- Usando *list comprehensions* anidados se puede obtener dicha lista: <br>"
   ]
  },
  {
   "cell_type": "code",
   "execution_count": 16,
   "metadata": {},
   "outputs": [
    {
     "data": {
      "text/plain": [
       "[[1, 0, 0, 0, 0, 0, 0, 0],\n",
       " [0, 1, 0, 0, 0, 0, 0, 0],\n",
       " [0, 0, 1, 0, 0, 0, 0, 0],\n",
       " [0, 0, 0, 1, 0, 0, 0, 0],\n",
       " [0, 0, 0, 0, 1, 0, 0, 0],\n",
       " [0, 0, 0, 0, 0, 1, 0, 0],\n",
       " [0, 0, 0, 0, 0, 0, 1, 0],\n",
       " [0, 0, 0, 0, 0, 0, 0, 1]]"
      ]
     },
     "execution_count": 16,
     "metadata": {},
     "output_type": "execute_result"
    }
   ],
   "source": [
    "n = 8\n",
    "[[1 if col == row else 0 for col in range(0,n)] for row in range(0,n)]"
   ]
  },
  {
   "cell_type": "code",
   "execution_count": 17,
   "metadata": {},
   "outputs": [
    {
     "data": {
      "text/plain": [
       "[[1, 0, 0, 0, 0],\n",
       " [0, 1, 0, 0, 0],\n",
       " [0, 0, 1, 0, 0],\n",
       " [0, 0, 0, 1, 0],\n",
       " [0, 0, 0, 0, 1]]"
      ]
     },
     "execution_count": 17,
     "metadata": {},
     "output_type": "execute_result"
    }
   ],
   "source": [
    "n = 5\n",
    "imat = [[1 if col == row else 0 for col in range(0,n)] for row in range(0,n)]\n",
    "imat"
   ]
  },
  {
   "cell_type": "markdown",
   "metadata": {},
   "source": [
    "#### Ejemplo 2.\n",
    "\n",
    "Calcular números primos en el rango [2,50]."
   ]
  },
  {
   "cell_type": "code",
   "execution_count": 83,
   "metadata": {},
   "outputs": [
    {
     "data": {
      "text/plain": [
       "[2, 3, 4, 5, 6, 7]"
      ]
     },
     "execution_count": 83,
     "metadata": {},
     "output_type": "execute_result"
    }
   ],
   "source": [
    "[i for i in range(2,8)]"
   ]
  },
  {
   "cell_type": "code",
   "execution_count": 91,
   "metadata": {},
   "outputs": [
    {
     "name": "stdout",
     "output_type": "stream",
     "text": [
      "[4, 6, 8, 10, 12, 14, 16, 18, 20, 22, 24, 26, 28, 30, 32, 34, 36, 38, 40, 42, 44, 46, 48, 6, 9, 12, 15, 18, 21, 24, 27, 30, 33, 36, 39, 42, 45, 48, 8, 12, 16, 20, 24, 28, 32, 36, 40, 44, 48, 10, 15, 20, 25, 30, 35, 40, 45, 12, 18, 24, 30, 36, 42, 48, 14, 21, 28, 35, 42, 49]\n"
     ]
    }
   ],
   "source": [
    "noprimos = [j for i in range(2,8) for j in range(i*2, 50, i)]\n",
    "print(noprimos)"
   ]
  },
  {
   "cell_type": "code",
   "execution_count": 19,
   "metadata": {},
   "outputs": [
    {
     "name": "stdout",
     "output_type": "stream",
     "text": [
      "[2, 3, 5, 7, 11, 13, 17, 19, 23, 29, 31, 37, 41, 43, 47]\n"
     ]
    }
   ],
   "source": [
    "primos = [x for x in range(2,50) if x not in noprimos]\n",
    "print(primos)"
   ]
  },
  {
   "cell_type": "code",
   "execution_count": 20,
   "metadata": {},
   "outputs": [
    {
     "data": {
      "text/plain": [
       "[2, 3, 5, 7, 11, 13, 17, 19, 23, 29, 31, 37, 41, 43, 47]"
      ]
     },
     "execution_count": 20,
     "metadata": {},
     "output_type": "execute_result"
    }
   ],
   "source": [
    "[x for x in range(2,50) if x not in [j for i in range(2,8) for j in range(i*2, 50, i)]]"
   ]
  },
  {
   "cell_type": "markdown",
   "metadata": {},
   "source": [
    "#### *list comprehension* con elementos diferentes de números\n",
    "Las listas también pueden contener otro tipo de elementos, no solo números:"
   ]
  },
  {
   "cell_type": "code",
   "execution_count": 22,
   "metadata": {},
   "outputs": [],
   "source": [
    "mensaje = 'La vida no es la que uno vivió, sino la que uno recuerda'"
   ]
  },
  {
   "cell_type": "code",
   "execution_count": 23,
   "metadata": {},
   "outputs": [
    {
     "name": "stdout",
     "output_type": "stream",
     "text": [
      "La vida no es la que uno vivió, sino la que uno recuerda\n"
     ]
    }
   ],
   "source": [
    "print(mensaje)"
   ]
  },
  {
   "cell_type": "code",
   "execution_count": 24,
   "metadata": {},
   "outputs": [
    {
     "name": "stdout",
     "output_type": "stream",
     "text": [
      "['La', 'vida', 'no', 'es', 'la', 'que', 'uno', 'vivió,', 'sino', 'la', 'que', 'uno', 'recuerda']"
     ]
    }
   ],
   "source": [
    "palabras = mensaje.split()\n",
    "print(palabras,end='')"
   ]
  },
  {
   "cell_type": "code",
   "execution_count": 25,
   "metadata": {},
   "outputs": [
    {
     "data": {
      "text/plain": [
       "[('LA', 'La', 2),\n",
       " ('VIDA', 'Vida', 4),\n",
       " ('NO', 'No', 2),\n",
       " ('ES', 'Es', 2),\n",
       " ('LA', 'La', 2),\n",
       " ('QUE', 'Que', 3),\n",
       " ('UNO', 'Uno', 3),\n",
       " ('VIVIÓ,', 'Vivió,', 6),\n",
       " ('SINO', 'Sino', 4),\n",
       " ('LA', 'La', 2),\n",
       " ('QUE', 'Que', 3),\n",
       " ('UNO', 'Uno', 3),\n",
       " ('RECUERDA', 'Recuerda', 8)]"
      ]
     },
     "execution_count": 25,
     "metadata": {},
     "output_type": "execute_result"
    }
   ],
   "source": [
    "tabla = [(w.upper(), w.title(), len(w)) for w in palabras]\n",
    "tabla"
   ]
  },
  {
   "cell_type": "code",
   "execution_count": 26,
   "metadata": {},
   "outputs": [
    {
     "data": {
      "text/plain": [
       "tuple"
      ]
     },
     "execution_count": 26,
     "metadata": {},
     "output_type": "execute_result"
    }
   ],
   "source": [
    "type(tabla[0])"
   ]
  },
  {
   "cell_type": "markdown",
   "metadata": {},
   "source": [
    "#### Ejemplo 3.\n",
    "\n",
    "Transformar grados Celsius en Fahrenheit y vieceversa."
   ]
  },
  {
   "cell_type": "code",
   "execution_count": 27,
   "metadata": {},
   "outputs": [
    {
     "data": {
      "text/plain": [
       "[32.0, 72.5, 104.0, 212.0]"
      ]
     },
     "execution_count": 27,
     "metadata": {},
     "output_type": "execute_result"
    }
   ],
   "source": [
    "c = [0, 22.5, 40,100]\n",
    "f = [(9/5)*t + 32 for t in c]\n",
    "f"
   ]
  },
  {
   "cell_type": "code",
   "execution_count": 28,
   "metadata": {},
   "outputs": [
    {
     "data": {
      "text/plain": [
       "[0.0, 22.5, 40.0, 100.0]"
      ]
     },
     "execution_count": 28,
     "metadata": {},
     "output_type": "execute_result"
    }
   ],
   "source": [
    "cn = [(5/9)*(t - 32) for t in f]\n",
    "cn"
   ]
  },
  {
   "cell_type": "markdown",
   "metadata": {},
   "source": [
    "### Set comprehensions\n",
    "\n",
    "Permite crear conjuntos usando los mismos principios que las *list comprehensions*, la única diferencia es que la secuencia que resulta es un <font color=#009900>**set**</font>. <br>\n",
    "\n",
    "**Definición**.\n",
    "\n",
    "```python\n",
    "{expression(variable) for variable in input_set [predicate][, …]}\n",
    "```\n",
    "\n",
    "1. `expression` : Es una expresión **opcional**) de salida que produce los miembros del nuevo conjunto a partir de los miembros del conjunto de entrada que satisfacen el `predicate`. <br>\n",
    "\n",
    "2. `variable` : Es una variable **requerida** que representa los miembros del conjunto de entrada. <br>\n",
    "\n",
    "3. `input_set`: Representa el conjunto de entrada. (**requerido**). <br>\n",
    "\n",
    "4. `predicate` : Expresión **opcional** que actúa como un filtro sobre los miembros del conjunto de entrada. <br>\n",
    "\n",
    "5. `[, …]]` : Otra *comprehension* anidada **opcional**.\n",
    "  \n",
    "#### Ejemplo 4.\n",
    "Supongamos que deseamos organizar una lista de nombres de tal manera que no haya repeticiones, que los nombres tengan más de un caracter y que su representación sea con la primera letra mayúscula y las demás minúsculas. Por ejemplo, una lista aceptable sería:\n",
    "\n",
    "```python\n",
    "nombres = ['Luis', 'Juan', 'Angie', 'Pedro', 'María', 'Diana']\n",
    "```"
   ]
  },
  {
   "cell_type": "code",
   "execution_count": 29,
   "metadata": {},
   "outputs": [
    {
     "name": "stdout",
     "output_type": "stream",
     "text": [
      "['A', 'LuCas', 'Sidronio', 'Michelle', 'a', 'ANGIE', 'Luis', 'lucas', 'MICHelle', 'PedrO', 'PEPE', 'Manu', 'luis', 'diana', 'sidronio', 'pepe', 'a', 'a', 'b']\n"
     ]
    }
   ],
   "source": [
    "archivo = open('nombres','r')\n",
    "lista_nombres = archivo.read().split()\n",
    "print(lista_nombres)"
   ]
  },
  {
   "cell_type": "code",
   "execution_count": 30,
   "metadata": {},
   "outputs": [
    {
     "name": "stdout",
     "output_type": "stream",
     "text": [
      "{'Diana', 'Angie', 'Michelle', 'Pepe', 'Manu', 'Lucas', 'Sidronio', 'Luis', 'Pedro'}\n"
     ]
    }
   ],
   "source": [
    "nombres_ordenados = {nombre[0].upper() + nombre[1:].lower() \n",
    "                     for nombre in lista_nombres if len(nombre) > 1 }\n",
    "print(nombres_ordenados)"
   ]
  },
  {
   "cell_type": "markdown",
   "metadata": {},
   "source": [
    "#### Ejercicio 4:\n",
    "\n",
    "Explicar los siguientes ejemplos."
   ]
  },
  {
   "cell_type": "code",
   "execution_count": 31,
   "metadata": {},
   "outputs": [
    {
     "data": {
      "text/plain": [
       "{0, 1, 2}"
      ]
     },
     "execution_count": 31,
     "metadata": {},
     "output_type": "execute_result"
    }
   ],
   "source": [
    "{s for s in [1, 2, 1, 0]}"
   ]
  },
  {
   "cell_type": "code",
   "execution_count": 32,
   "metadata": {},
   "outputs": [
    {
     "data": {
      "text/plain": [
       "{0, 1, 4}"
      ]
     },
     "execution_count": 32,
     "metadata": {},
     "output_type": "execute_result"
    }
   ],
   "source": [
    "{s**2 for s in [1, 2, 1, 0]}"
   ]
  },
  {
   "cell_type": "code",
   "execution_count": 33,
   "metadata": {},
   "outputs": [
    {
     "data": {
      "text/plain": [
       "{0, 1, 4, 9, 16, 25, 36, 49, 64, 81}"
      ]
     },
     "execution_count": 33,
     "metadata": {},
     "output_type": "execute_result"
    }
   ],
   "source": [
    "{s**2 for s in range(10)}"
   ]
  },
  {
   "cell_type": "code",
   "execution_count": 34,
   "metadata": {},
   "outputs": [
    {
     "data": {
      "text/plain": [
       "{1, 3, 5, 7, 9}"
      ]
     },
     "execution_count": 34,
     "metadata": {},
     "output_type": "execute_result"
    }
   ],
   "source": [
    "{s for s in range(10) if s % 2}"
   ]
  },
  {
   "cell_type": "code",
   "execution_count": 35,
   "metadata": {},
   "outputs": [
    {
     "data": {
      "text/plain": [
       "{(3, 0), (3, 1), (4, 0), (4, 1)}"
      ]
     },
     "execution_count": 35,
     "metadata": {},
     "output_type": "execute_result"
    }
   ],
   "source": [
    "{(m, n) for n in range(2) for m in range(3, 5)}"
   ]
  },
  {
   "cell_type": "markdown",
   "metadata": {},
   "source": [
    "#### Dictionary Comprehensions\n",
    "\n",
    "- Es un método para transformar un diccionario en otro diccionario. <br>\n",
    "\n",
    "- Durante esta transformación, los objetos dentro del diccionario original pueden ser incluidos o no en el nuevo diccionario dependiendo de una condición. <br>\n",
    "\n",
    "- Cada objeto en el nuevo diccionario puede ser transformado como sea requerido. <br>\n",
    "\n",
    "### Repaso de diccionarios:"
   ]
  },
  {
   "cell_type": "code",
   "execution_count": 36,
   "metadata": {},
   "outputs": [
    {
     "data": {
      "text/plain": [
       "dict_keys(['a', 'b', 'c', 'd'])"
      ]
     },
     "execution_count": 36,
     "metadata": {},
     "output_type": "execute_result"
    }
   ],
   "source": [
    "# Los diccionarios tienes claves (key).\n",
    "dict1 = {'a': 1, 'b': 2, 'c': 3, 'd': 4}\n",
    "dict1.keys() # Función para obtener las claves"
   ]
  },
  {
   "cell_type": "code",
   "execution_count": 37,
   "metadata": {},
   "outputs": [
    {
     "data": {
      "text/plain": [
       "dict_values([1, 2, 3, 4])"
      ]
     },
     "execution_count": 37,
     "metadata": {},
     "output_type": "execute_result"
    }
   ],
   "source": [
    "# Los diccionarios tienen un valor por cada clave.\n",
    "dict1.values() # Función para obtener los valores"
   ]
  },
  {
   "cell_type": "code",
   "execution_count": 64,
   "metadata": {},
   "outputs": [
    {
     "data": {
      "text/plain": [
       "dict_values"
      ]
     },
     "execution_count": 64,
     "metadata": {},
     "output_type": "execute_result"
    }
   ],
   "source": [
    "l = dict1.values()\n",
    "type(l)"
   ]
  },
  {
   "cell_type": "code",
   "execution_count": 38,
   "metadata": {},
   "outputs": [
    {
     "data": {
      "text/plain": [
       "dict_items([('a', 1), ('b', 2), ('c', 3), ('d', 4)])"
      ]
     },
     "execution_count": 38,
     "metadata": {},
     "output_type": "execute_result"
    }
   ],
   "source": [
    "# Los diccionarios tienen entradas (items) que consisten\n",
    "# de una key y un valor.\n",
    "dict1.items() # Función para obtener los items"
   ]
  },
  {
   "cell_type": "markdown",
   "metadata": {},
   "source": [
    "**Definición**.\n",
    "\n",
    "```python\n",
    "{key:value for (key,value) in dictonary.items()}\n",
    "```\n",
    "\n",
    "#### Ejemplo 5:\n",
    "Duplicar el valor (*value*) de cada entrada (*item*) de un diccionario:"
   ]
  },
  {
   "cell_type": "code",
   "execution_count": 39,
   "metadata": {},
   "outputs": [
    {
     "name": "stdout",
     "output_type": "stream",
     "text": [
      "{'a': 2, 'b': 4, 'c': 6, 'd': 8, 'e': 10}\n"
     ]
    }
   ],
   "source": [
    "dict1 = {'a': 1, 'b': 2, 'c': 3, 'd': 4, 'e': 5}\n",
    "dict1_values = {k:v*2 for (k,v) in dict1.items()}\n",
    "print(dict1_values)"
   ]
  },
  {
   "cell_type": "markdown",
   "metadata": {},
   "source": [
    "#### Ejemplo 6.\n",
    "Duplicar la clave (*key*) de cada entrada (*item*) del diccionario:"
   ]
  },
  {
   "cell_type": "code",
   "execution_count": 40,
   "metadata": {},
   "outputs": [
    {
     "name": "stdout",
     "output_type": "stream",
     "text": [
      "{'aa': 1, 'bb': 2, 'cc': 3, 'dd': 4, 'ee': 5}\n"
     ]
    }
   ],
   "source": [
    "dict1_keys = {k*2:v for (k,v) in dict1.items()}\n",
    "print(dict1_keys)"
   ]
  },
  {
   "cell_type": "markdown",
   "metadata": {},
   "source": [
    "#### Ejemplo 7.\n",
    "\n",
    "Crear un diccionario donde la clave sea un número divisible por 2 en un rango de 0 a 10 y sus valores sean el cuadrado de la clave."
   ]
  },
  {
   "cell_type": "code",
   "execution_count": 41,
   "metadata": {},
   "outputs": [
    {
     "name": "stdout",
     "output_type": "stream",
     "text": [
      "{0: 0, 2: 4, 4: 16, 6: 36, 8: 64, 10: 100}\n"
     ]
    }
   ],
   "source": [
    "# La forma tradicional\n",
    "numeros = range(11)\n",
    "dicc = {}\n",
    "\n",
    "for n in numeros:\n",
    "    if n%2==0:\n",
    "        dicc[n] = n**2\n",
    "\n",
    "print(dicc)"
   ]
  },
  {
   "cell_type": "code",
   "execution_count": 42,
   "metadata": {},
   "outputs": [
    {
     "name": "stdout",
     "output_type": "stream",
     "text": [
      "{0: 0, 2: 4, 4: 16, 6: 36, 8: 64, 10: 100}\n"
     ]
    }
   ],
   "source": [
    "# Usando dict comprehensions\n",
    "dicc_smart = {n:n**2 for n in numeros if n%2 == 0}\n",
    "\n",
    "print(dicc_smart)"
   ]
  },
  {
   "cell_type": "markdown",
   "metadata": {},
   "source": [
    "#### Ejemplo 8.\n",
    "\n",
    "Intercambiar las claves y los valores en un diccionario."
   ]
  },
  {
   "cell_type": "code",
   "execution_count": 43,
   "metadata": {},
   "outputs": [
    {
     "data": {
      "text/plain": [
       "{1: 'a', 2: 'b', 3: 'c'}"
      ]
     },
     "execution_count": 43,
     "metadata": {},
     "output_type": "execute_result"
    }
   ],
   "source": [
    "a_dict = {'a': 1, 'b': 2, 'c': 3}\n",
    "{value:key for key, value in a_dict.items()}"
   ]
  },
  {
   "cell_type": "code",
   "execution_count": 44,
   "metadata": {},
   "outputs": [
    {
     "ename": "TypeError",
     "evalue": "unhashable type: 'list'",
     "output_type": "error",
     "traceback": [
      "\u001b[0;31m---------------------------------------------------------------------------\u001b[0m",
      "\u001b[0;31mTypeError\u001b[0m                                 Traceback (most recent call last)",
      "\u001b[0;32m<ipython-input-44-7a0ef59d6f0f>\u001b[0m in \u001b[0;36m<module>\u001b[0;34m\u001b[0m\n\u001b[1;32m      1\u001b[0m \u001b[0;31m# OJO: No siempre es posible hacer lo anterior.\u001b[0m\u001b[0;34m\u001b[0m\u001b[0;34m\u001b[0m\u001b[0;34m\u001b[0m\u001b[0m\n\u001b[1;32m      2\u001b[0m \u001b[0ma_dict\u001b[0m \u001b[0;34m=\u001b[0m \u001b[0;34m{\u001b[0m\u001b[0;34m'a'\u001b[0m\u001b[0;34m:\u001b[0m \u001b[0;34m[\u001b[0m\u001b[0;36m1\u001b[0m\u001b[0;34m,\u001b[0m \u001b[0;36m2\u001b[0m\u001b[0;34m,\u001b[0m \u001b[0;36m3\u001b[0m\u001b[0;34m]\u001b[0m\u001b[0;34m,\u001b[0m \u001b[0;34m'b'\u001b[0m\u001b[0;34m:\u001b[0m \u001b[0;36m4\u001b[0m\u001b[0;34m,\u001b[0m \u001b[0;34m'c'\u001b[0m\u001b[0;34m:\u001b[0m \u001b[0;36m5\u001b[0m\u001b[0;34m}\u001b[0m\u001b[0;34m\u001b[0m\u001b[0;34m\u001b[0m\u001b[0m\n\u001b[0;32m----> 3\u001b[0;31m \u001b[0;34m{\u001b[0m\u001b[0mvalue\u001b[0m\u001b[0;34m:\u001b[0m\u001b[0mkey\u001b[0m \u001b[0;32mfor\u001b[0m \u001b[0mkey\u001b[0m\u001b[0;34m,\u001b[0m \u001b[0mvalue\u001b[0m \u001b[0;32min\u001b[0m \u001b[0ma_dict\u001b[0m\u001b[0;34m.\u001b[0m\u001b[0mitems\u001b[0m\u001b[0;34m(\u001b[0m\u001b[0;34m)\u001b[0m\u001b[0;34m}\u001b[0m\u001b[0;34m\u001b[0m\u001b[0;34m\u001b[0m\u001b[0m\n\u001b[0m",
      "\u001b[0;32m<ipython-input-44-7a0ef59d6f0f>\u001b[0m in \u001b[0;36m<dictcomp>\u001b[0;34m(.0)\u001b[0m\n\u001b[1;32m      1\u001b[0m \u001b[0;31m# OJO: No siempre es posible hacer lo anterior.\u001b[0m\u001b[0;34m\u001b[0m\u001b[0;34m\u001b[0m\u001b[0;34m\u001b[0m\u001b[0m\n\u001b[1;32m      2\u001b[0m \u001b[0ma_dict\u001b[0m \u001b[0;34m=\u001b[0m \u001b[0;34m{\u001b[0m\u001b[0;34m'a'\u001b[0m\u001b[0;34m:\u001b[0m \u001b[0;34m[\u001b[0m\u001b[0;36m1\u001b[0m\u001b[0;34m,\u001b[0m \u001b[0;36m2\u001b[0m\u001b[0;34m,\u001b[0m \u001b[0;36m3\u001b[0m\u001b[0;34m]\u001b[0m\u001b[0;34m,\u001b[0m \u001b[0;34m'b'\u001b[0m\u001b[0;34m:\u001b[0m \u001b[0;36m4\u001b[0m\u001b[0;34m,\u001b[0m \u001b[0;34m'c'\u001b[0m\u001b[0;34m:\u001b[0m \u001b[0;36m5\u001b[0m\u001b[0;34m}\u001b[0m\u001b[0;34m\u001b[0m\u001b[0;34m\u001b[0m\u001b[0m\n\u001b[0;32m----> 3\u001b[0;31m \u001b[0;34m{\u001b[0m\u001b[0mvalue\u001b[0m\u001b[0;34m:\u001b[0m\u001b[0mkey\u001b[0m \u001b[0;32mfor\u001b[0m \u001b[0mkey\u001b[0m\u001b[0;34m,\u001b[0m \u001b[0mvalue\u001b[0m \u001b[0;32min\u001b[0m \u001b[0ma_dict\u001b[0m\u001b[0;34m.\u001b[0m\u001b[0mitems\u001b[0m\u001b[0;34m(\u001b[0m\u001b[0;34m)\u001b[0m\u001b[0;34m}\u001b[0m\u001b[0;34m\u001b[0m\u001b[0;34m\u001b[0m\u001b[0m\n\u001b[0m",
      "\u001b[0;31mTypeError\u001b[0m: unhashable type: 'list'"
     ]
    }
   ],
   "source": [
    "# OJO: No siempre es posible hacer lo anterior.\n",
    "a_dict = {'a': [1, 2, 3], 'b': 4, 'c': 5}\n",
    "{value:key for key, value in a_dict.items()}"
   ]
  },
  {
   "cell_type": "markdown",
   "metadata": {},
   "source": [
    "#### Ejemplo 9.\n",
    "\n",
    "Convertir Fahrenheit a Celsius y viceversa (again!!!)"
   ]
  },
  {
   "cell_type": "code",
   "execution_count": 45,
   "metadata": {},
   "outputs": [
    {
     "name": "stdout",
     "output_type": "stream",
     "text": [
      "{'t1': 0.0, 't2': 22.5, 't3': 40.0, 't4': 100.0}\n"
     ]
    }
   ],
   "source": [
    "# Usando map, lambda y diccionarios\n",
    "[32.0, 72.5, 104.0, 212.0]\n",
    "fahrenheit_dict = {'t1':32.0, 't2':72.5, 't3':104.0, 't4':212.0}\n",
    "\n",
    "celsius = list(map(lambda f: (5/9)*(f-32), fahrenheit_dict.values()))\n",
    "\n",
    "celsius_dict = dict(zip(fahrenheit_dict.keys(), celsius))\n",
    "\n",
    "print(celsius_dict)"
   ]
  },
  {
   "cell_type": "code",
   "execution_count": 46,
   "metadata": {},
   "outputs": [
    {
     "name": "stdout",
     "output_type": "stream",
     "text": [
      "{'t1': 0.0, 't2': 22.5, 't3': 40.0, 't4': 100.0}\n"
     ]
    }
   ],
   "source": [
    "# Usando dict comprehensions !\n",
    "celsius_smart = {k:(5/9)*(v-32) for (k,v) in fahrenheit_dict.items()}\n",
    "print(celsius_smart)"
   ]
  },
  {
   "cell_type": "markdown",
   "metadata": {},
   "source": [
    "#### Ejemplo 10.\n",
    "\n",
    "Dado un diccionario, cuyos valores son enteros, crear un nuevo diccionario cuyos valores sean mayores que 2."
   ]
  },
  {
   "cell_type": "code",
   "execution_count": 47,
   "metadata": {},
   "outputs": [
    {
     "name": "stdout",
     "output_type": "stream",
     "text": [
      "{'a': 1, 'b': 2, 'c': 3, 'd': 4, 'e': 5, 'f': 6, 'g': 7, 'h': 8}\n",
      "{'c': 3, 'd': 4, 'e': 5, 'f': 6, 'g': 7, 'h': 8}\n"
     ]
    }
   ],
   "source": [
    "a_dict = {'a':1, 'b':2, 'c':3, 'd':4, 'e':5, 'f':6, 'g':7, 'h':8}\n",
    "print(a_dict)\n",
    "a_dict_cond = { k:v for (k,v) in a_dict.items() if v > 2 }\n",
    "print(a_dict_cond)"
   ]
  },
  {
   "cell_type": "markdown",
   "metadata": {},
   "source": [
    "#### Ejemplo 11.\n",
    "\n",
    "Dado un diccionario, cuyos valores son enteros, crear un nuevo diccionario cuyos valores sean mayores que 2 y que además sean pares."
   ]
  },
  {
   "cell_type": "code",
   "execution_count": 92,
   "metadata": {},
   "outputs": [
    {
     "name": "stdout",
     "output_type": "stream",
     "text": [
      "{'d': 4, 'f': 6, 'h': 8}\n"
     ]
    }
   ],
   "source": [
    "a_dict_cond2 = { k:v for (k,v) in a_dict.items() if (v > 2) and (v % 2) == 0}\n",
    "print(a_dict_cond2)"
   ]
  },
  {
   "cell_type": "markdown",
   "metadata": {},
   "source": [
    "#### Ejemplo 12.\n",
    "Dado un diccionario, cuyos valores son enteros, crear un nuevo diccionario cuyos valores sean mayores que 2 y que además sean pares y divisibles por 3."
   ]
  },
  {
   "cell_type": "code",
   "execution_count": 53,
   "metadata": {},
   "outputs": [
    {
     "name": "stdout",
     "output_type": "stream",
     "text": [
      "{'f': 6}\n"
     ]
    }
   ],
   "source": [
    "# La forma tradicional\n",
    "a_dict_cond3_loop = {}\n",
    "\n",
    "for (k,v) in a_dict.items():\n",
    "    if (v>=2 and v%2 == 0 and v%3 == 0):\n",
    "        a_dict_cond3_loop[k] = v\n",
    "\n",
    "print(a_dict_cond3_loop)"
   ]
  },
  {
   "cell_type": "code",
   "execution_count": 54,
   "metadata": {},
   "outputs": [
    {
     "name": "stdout",
     "output_type": "stream",
     "text": [
      "{'f': 6}\n"
     ]
    }
   ],
   "source": [
    "# Usando dict comprehensions\n",
    "a_dict_cond3 = {k:v for (k,v) in a_dict.items() if v>2 if v%2 == 0 if v%3 == 0}\n",
    "\n",
    "print(a_dict_cond3)"
   ]
  },
  {
   "cell_type": "markdown",
   "metadata": {},
   "source": [
    "#### Ejemplo 13.\n",
    "\n",
    "Apartir de un diccionario con valores enteros, identificar los valores pares y los impares, y sustituir los valores por etiquetas 'par' e 'impar' segun corresponda."
   ]
  },
  {
   "cell_type": "code",
   "execution_count": 55,
   "metadata": {},
   "outputs": [
    {
     "name": "stdout",
     "output_type": "stream",
     "text": [
      "{'a': 1, 'b': 2, 'c': 3, 'd': 4, 'e': 5, 'f': 6, 'g': 7, 'h': 8}\n",
      "{'a': 'impar', 'b': 'par', 'c': 'impar', 'd': 'par', 'e': 'impar', 'f': 'par', 'g': 'impar', 'h': 'par'}\n"
     ]
    }
   ],
   "source": [
    "print(a_dict)\n",
    "a_dict_else = { k:('par' if v%2==0 else 'impar') for (k,v) in a_dict.items()}\n",
    "print(a_dict_else)"
   ]
  },
  {
   "cell_type": "markdown",
   "metadata": {},
   "source": [
    "#### Ejemplo 14.\n",
    "Dict comprehensions anidados"
   ]
  },
  {
   "cell_type": "code",
   "execution_count": 56,
   "metadata": {},
   "outputs": [
    {
     "name": "stdout",
     "output_type": "stream",
     "text": [
      "{'primero': {'a': 3.1415}, 'segundo': {'b': 6.283}, 'tercero': {'c': 9.4245}}\n"
     ]
    }
   ],
   "source": [
    "# con dict comprehensions\n",
    "anidado = {'primero':{'a':1}, 'segundo':{'b':2}, 'tercero':{'c':3}}\n",
    "pi = 3.1415\n",
    "float_dict = {e_k:{i_k:i_v*pi for (i_k, i_v) in e_v.items()} for (e_k, e_v) in anidado.items()}\n",
    "\n",
    "print(float_dict)"
   ]
  },
  {
   "cell_type": "code",
   "execution_count": 57,
   "metadata": {},
   "outputs": [
    {
     "name": "stdout",
     "output_type": "stream",
     "text": [
      "{'primero': {'a': 3.1415}, 'segundo': {'b': 6.283}, 'tercero': {'c': 9.4245}}\n"
     ]
    }
   ],
   "source": [
    "# La forma tradicional sería:\n",
    "anidado = {'primero':{'a':1}, 'segundo':{'b':2}, 'tercero':{'c':3}}\n",
    "pi = 3.1415\n",
    "for (e_k, e_v) in anidado.items():\n",
    "    for (i_k, i_v) in e_v.items():\n",
    "        e_v.update({i_k: i_v * pi})\n",
    "        \n",
    "anidado.update({e_k:e_v})\n",
    "\n",
    "print(anidado)"
   ]
  },
  {
   "cell_type": "markdown",
   "metadata": {},
   "source": [
    "#### Ejemplo 15.\n",
    "\n",
    "Eliminar números duplicados de una lista."
   ]
  },
  {
   "cell_type": "code",
   "execution_count": 58,
   "metadata": {},
   "outputs": [
    {
     "data": {
      "text/plain": [
       "[1, 2, 3, 4, 5, 6, 7, 8, 9, 10, 1, 2, 3, 4, 5]"
      ]
     },
     "execution_count": 58,
     "metadata": {},
     "output_type": "execute_result"
    }
   ],
   "source": [
    "numeros = [i for i in range(1,11)] + [i for i in range(1,6)]\n",
    "numeros"
   ]
  },
  {
   "cell_type": "code",
   "execution_count": 59,
   "metadata": {},
   "outputs": [
    {
     "data": {
      "text/plain": [
       "[1, 2, 3, 4, 5, 6, 7, 8, 9, 10]"
      ]
     },
     "execution_count": 59,
     "metadata": {},
     "output_type": "execute_result"
    }
   ],
   "source": [
    "# Una manera es:\n",
    "numeros_unicos = []\n",
    "for n in numeros:\n",
    "    if n not in numeros_unicos:\n",
    "        numeros_unicos.append(n)\n",
    "numeros_unicos"
   ]
  },
  {
   "cell_type": "code",
   "execution_count": 60,
   "metadata": {},
   "outputs": [
    {
     "data": {
      "text/plain": [
       "[1, 2, 3, 4, 5, 6, 7, 8, 9, 10]"
      ]
     },
     "execution_count": 60,
     "metadata": {},
     "output_type": "execute_result"
    }
   ],
   "source": [
    "# Otra forma mas pythonica!\n",
    "numeros_unicos_easy = list(set(numeros))\n",
    "numeros_unicos_easy"
   ]
  },
  {
   "cell_type": "markdown",
   "metadata": {},
   "source": [
    "#### Ejemplo 16.\n",
    "\n",
    "Eliminar objetos duplicados de una lista de diccionarios."
   ]
  },
  {
   "cell_type": "code",
   "execution_count": 61,
   "metadata": {},
   "outputs": [
    {
     "data": {
      "text/plain": [
       "[{'id': 10, 'dato': '...'},\n",
       " {'id': 11, 'dato': '...'},\n",
       " {'id': 12, 'dato': '...'},\n",
       " {'id': 10, 'dato': '...'},\n",
       " {'id': 11, 'dato': '...'}]"
      ]
     },
     "execution_count": 61,
     "metadata": {},
     "output_type": "execute_result"
    }
   ],
   "source": [
    "datos = [\n",
    "  {'id': 10, 'dato': '...'},\n",
    "  {'id': 11, 'dato': '...'},\n",
    "  {'id': 12, 'dato': '...'},\n",
    "  {'id': 10, 'dato': '...'},\n",
    "  {'id': 11, 'dato': '...'},\n",
    "]\n",
    "\n",
    "datos"
   ]
  },
  {
   "cell_type": "code",
   "execution_count": 62,
   "metadata": {},
   "outputs": [
    {
     "data": {
      "text/plain": [
       "[{'id': 10, 'dato': '...'},\n",
       " {'id': 11, 'dato': '...'},\n",
       " {'id': 12, 'dato': '...'}]"
      ]
     },
     "execution_count": 62,
     "metadata": {},
     "output_type": "execute_result"
    }
   ],
   "source": [
    "# La forma tradicional\n",
    "objetos_unicos = []\n",
    "for d in datos:\n",
    "    dato_existe = False\n",
    "    for ou in objetos_unicos:\n",
    "        if ou['id'] == d['id']:\n",
    "          dato_existe = True\n",
    "          break\n",
    "    if not dato_existe:\n",
    "        objetos_unicos.append(d)\n",
    "        \n",
    "objetos_unicos"
   ]
  },
  {
   "cell_type": "code",
   "execution_count": 69,
   "metadata": {},
   "outputs": [
    {
     "name": "stdout",
     "output_type": "stream",
     "text": [
      "[{'id': 10, 'dato': '...'}, {'id': 11, 'dato': '...'}, {'id': 12, 'dato': '...'}]\n"
     ]
    }
   ],
   "source": [
    "# The very best!!\n",
    "objetos_unicos_easy = { d['id']:d for d in datos }.values()\n",
    "\n",
    "print(list(objetos_unicos_easy))"
   ]
  },
  {
   "cell_type": "markdown",
   "metadata": {},
   "source": [
    "#### Ejemplo 17.\n",
    "\n",
    "Un diccionario que tiene como claves letras minúsculas y mayúsculas, y como valores números enteros:\n",
    "\n",
    "```python\n",
    "mcase = {'z':23, 'a':30, 'b':21, 'A':78, 'Z':4, 'C':43, 'B':89}\n",
    "```\n",
    "\n",
    "- Sumar los valores que corresponden a la misma letra, mayúscula y minúscula.\n",
    "\n",
    "- Construir un diccionario cuyas claves sean solo letras minúsculas y sus valores sean la suma antes calculada. "
   ]
  },
  {
   "cell_type": "code",
   "execution_count": 76,
   "metadata": {},
   "outputs": [
    {
     "name": "stdout",
     "output_type": "stream",
     "text": [
      "{'z': 27, 'a': 108, 'b': 110, 'c': 43}\n"
     ]
    }
   ],
   "source": [
    "mcase = {'z':23, 'a':30, 'b':21, 'A':78, 'Z':4, 'C':43, 'B':89}\n",
    "mcase_freq = {k.lower() : \n",
    "              mcase.get(k.lower(), 0) + mcase.get(k.upper(), 0)\n",
    "              for k in mcase.keys()}\n",
    "print(mcase_freq)"
   ]
  },
  {
   "cell_type": "markdown",
   "metadata": {},
   "source": [
    "#### Ejemplo 18."
   ]
  },
  {
   "cell_type": "code",
   "execution_count": 77,
   "metadata": {},
   "outputs": [
    {
     "data": {
      "text/plain": [
       "[('03_Febrero_2021.ipynb',\n",
       "  os.stat_result(st_mode=33204, st_ino=4719561, st_dev=2057, st_nlink=1, st_uid=1000, st_gid=1000, st_size=2260, st_atime=1612380604, st_mtime=1612380304, st_ctime=1612380304)),\n",
       " ('T09_LambdaExpressions_Reduce.ipynb',\n",
       "  os.stat_result(st_mode=33204, st_ino=4719517, st_dev=2057, st_nlink=1, st_uid=1000, st_gid=1000, st_size=21177, st_atime=1612380604, st_mtime=1612380354, st_ctime=1612380354)),\n",
       " ('T13_BibliotecaEstandar.ipynb',\n",
       "  os.stat_result(st_mode=33204, st_ino=4719521, st_dev=2057, st_nlink=1, st_uid=1000, st_gid=1000, st_size=15701, st_atime=1612380599, st_mtime=1612380187, st_ctime=1612380187)),\n",
       " ('T15_Numpy_LinAlg.ipynb',\n",
       "  os.stat_result(st_mode=33204, st_ino=4719523, st_dev=2057, st_nlink=1, st_uid=1000, st_gid=1000, st_size=21545, st_atime=1612380599, st_mtime=1612380187, st_ctime=1612380187)),\n",
       " ('T08_IterablesMapFilter.ipynb',\n",
       "  os.stat_result(st_mode=33204, st_ino=4719516, st_dev=2057, st_nlink=1, st_uid=1000, st_gid=1000, st_size=12259, st_atime=1612380604, st_mtime=1612380396, st_ctime=1612380396)),\n",
       " ('T07_Excepciones.ipynb',\n",
       "  os.stat_result(st_mode=33204, st_ino=4719515, st_dev=2057, st_nlink=1, st_uid=1000, st_gid=1000, st_size=18730, st_atime=1612380604, st_mtime=1612380342, st_ctime=1612380342)),\n",
       " ('T10_Comprehensions.ipynb',\n",
       "  os.stat_result(st_mode=33204, st_ino=4719518, st_dev=2057, st_nlink=1, st_uid=1000, st_gid=1000, st_size=37005, st_atime=1612458795, st_mtime=1612458795, st_ctime=1612458795)),\n",
       " ('Untitled1.ipynb',\n",
       "  os.stat_result(st_mode=33204, st_ino=4719527, st_dev=2057, st_nlink=1, st_uid=1000, st_gid=1000, st_size=2560, st_atime=1612380599, st_mtime=1612380187, st_ctime=1612380187)),\n",
       " ('T01_Etiquetas_y_Palabras_Reservadas.ipynb',\n",
       "  os.stat_result(st_mode=33204, st_ino=4719509, st_dev=2057, st_nlink=1, st_uid=1000, st_gid=1000, st_size=12486, st_atime=1612380599, st_mtime=1612380187, st_ctime=1612380187)),\n",
       " ('T16_Sympy.ipynb',\n",
       "  os.stat_result(st_mode=33204, st_ino=4719524, st_dev=2057, st_nlink=1, st_uid=1000, st_gid=1000, st_size=23924, st_atime=1612380599, st_mtime=1612380187, st_ctime=1612380187)),\n",
       " ('AtractorDeLorenz.ipynb',\n",
       "  os.stat_result(st_mode=33204, st_ino=4719478, st_dev=2057, st_nlink=1, st_uid=1000, st_gid=1000, st_size=84714, st_atime=1612380599, st_mtime=1612380187, st_ctime=1612380187)),\n",
       " ('T17_Matplotlib.ipynb',\n",
       "  os.stat_result(st_mode=33204, st_ino=4719525, st_dev=2057, st_nlink=1, st_uid=1000, st_gid=1000, st_size=2254858, st_atime=1612402276, st_mtime=1612401667, st_ctime=1612401667)),\n",
       " ('Untitled.ipynb',\n",
       "  os.stat_result(st_mode=33204, st_ino=4719526, st_dev=2057, st_nlink=1, st_uid=1000, st_gid=1000, st_size=1494, st_atime=1612402276, st_mtime=1612391995, st_ctime=1612391995)),\n",
       " ('T02_Expr_Decla_Tipos_Oper.ipynb',\n",
       "  os.stat_result(st_mode=33204, st_ino=4719510, st_dev=2057, st_nlink=1, st_uid=1000, st_gid=1000, st_size=47516, st_atime=1612380599, st_mtime=1612380187, st_ctime=1612380187)),\n",
       " ('T14_Numpy.ipynb',\n",
       "  os.stat_result(st_mode=33204, st_ino=4719522, st_dev=2057, st_nlink=1, st_uid=1000, st_gid=1000, st_size=29534, st_atime=1612380599, st_mtime=1612380187, st_ctime=1612380187)),\n",
       " ('T12_Decoradores.ipynb',\n",
       "  os.stat_result(st_mode=33204, st_ino=4719520, st_dev=2057, st_nlink=1, st_uid=1000, st_gid=1000, st_size=10722, st_atime=1612380599, st_mtime=1612380187, st_ctime=1612380187)),\n",
       " ('01_Pensando_como_pythonista_1.ipynb',\n",
       "  os.stat_result(st_mode=33204, st_ino=4719474, st_dev=2057, st_nlink=1, st_uid=1000, st_gid=1000, st_size=26960, st_atime=1612380599, st_mtime=1612380187, st_ctime=1612380187)),\n",
       " ('04_ComputoCientifico.ipynb',\n",
       "  os.stat_result(st_mode=33204, st_ino=4719477, st_dev=2057, st_nlink=1, st_uid=1000, st_gid=1000, st_size=83028, st_atime=1612380599, st_mtime=1612380187, st_ctime=1612380187)),\n",
       " ('T03_Estructura_de_Datos.ipynb',\n",
       "  os.stat_result(st_mode=33204, st_ino=4719511, st_dev=2057, st_nlink=1, st_uid=1000, st_gid=1000, st_size=34602, st_atime=1612380599, st_mtime=1612380187, st_ctime=1612380187)),\n",
       " ('02_Pythonico_es_mas_bonito_1.ipynb',\n",
       "  os.stat_result(st_mode=33204, st_ino=4719475, st_dev=2057, st_nlink=1, st_uid=1000, st_gid=1000, st_size=36554, st_atime=1612380599, st_mtime=1612380409, st_ctime=1612380409)),\n",
       " ('T11_IteradoresGeneradores.ipynb',\n",
       "  os.stat_result(st_mode=33204, st_ino=4719519, st_dev=2057, st_nlink=1, st_uid=1000, st_gid=1000, st_size=11550, st_atime=1612380599, st_mtime=1612380187, st_ctime=1612380187)),\n",
       " ('T06_Funciones_y_Documentacion.ipynb',\n",
       "  os.stat_result(st_mode=33204, st_ino=4719514, st_dev=2057, st_nlink=1, st_uid=1000, st_gid=1000, st_size=21759, st_atime=1612380604, st_mtime=1612380330, st_ctime=1612380330)),\n",
       " ('T04_Control_de_flujo.ipynb',\n",
       "  os.stat_result(st_mode=33204, st_ino=4719512, st_dev=2057, st_nlink=1, st_uid=1000, st_gid=1000, st_size=15447, st_atime=1612380599, st_mtime=1612380187, st_ctime=1612380187)),\n",
       " ('T05_Entrada_Salida_Archivos.ipynb',\n",
       "  os.stat_result(st_mode=33204, st_ino=4719513, st_dev=2057, st_nlink=1, st_uid=1000, st_gid=1000, st_size=12988, st_atime=1612380599, st_mtime=1612380187, st_ctime=1612380187)),\n",
       " ('03_Pythonico_es_mas_bonito_2.ipynb',\n",
       "  os.stat_result(st_mode=33204, st_ino=4719476, st_dev=2057, st_nlink=1, st_uid=1000, st_gid=1000, st_size=12994, st_atime=1612380604, st_mtime=1612453399, st_ctime=1612453399))]"
      ]
     },
     "execution_count": 77,
     "metadata": {},
     "output_type": "execute_result"
    }
   ],
   "source": [
    "import os, glob\n",
    "metadata = [(f, os.stat(f)) for f in glob.glob('*.ipynb')]\n",
    "metadata"
   ]
  },
  {
   "cell_type": "code",
   "execution_count": 78,
   "metadata": {},
   "outputs": [],
   "source": [
    "metadata_dict = {f:os.stat(f) for f in glob.glob('*.ipynb')}"
   ]
  },
  {
   "cell_type": "code",
   "execution_count": 79,
   "metadata": {},
   "outputs": [
    {
     "data": {
      "text/plain": [
       "dict_keys(['03_Febrero_2021.ipynb', 'T09_LambdaExpressions_Reduce.ipynb', 'T13_BibliotecaEstandar.ipynb', 'T15_Numpy_LinAlg.ipynb', 'T08_IterablesMapFilter.ipynb', 'T07_Excepciones.ipynb', 'T10_Comprehensions.ipynb', 'Untitled1.ipynb', 'T01_Etiquetas_y_Palabras_Reservadas.ipynb', 'T16_Sympy.ipynb', 'AtractorDeLorenz.ipynb', 'T17_Matplotlib.ipynb', 'Untitled.ipynb', 'T02_Expr_Decla_Tipos_Oper.ipynb', 'T14_Numpy.ipynb', 'T12_Decoradores.ipynb', '01_Pensando_como_pythonista_1.ipynb', '04_ComputoCientifico.ipynb', 'T03_Estructura_de_Datos.ipynb', '02_Pythonico_es_mas_bonito_1.ipynb', 'T11_IteradoresGeneradores.ipynb', 'T06_Funciones_y_Documentacion.ipynb', 'T04_Control_de_flujo.ipynb', 'T05_Entrada_Salida_Archivos.ipynb', '03_Pythonico_es_mas_bonito_2.ipynb'])"
      ]
     },
     "execution_count": 79,
     "metadata": {},
     "output_type": "execute_result"
    }
   ],
   "source": [
    "metadata_dict.keys()"
   ]
  },
  {
   "cell_type": "code",
   "execution_count": 80,
   "metadata": {},
   "outputs": [
    {
     "data": {
      "text/plain": [
       "26960"
      ]
     },
     "execution_count": 80,
     "metadata": {},
     "output_type": "execute_result"
    }
   ],
   "source": [
    "metadata_dict['01_Pensando_como_pythonista_1.ipynb'].st_size"
   ]
  }
 ],
 "metadata": {
  "kernelspec": {
   "display_name": "Python 3 (ipykernel)",
   "language": "python",
   "name": "python3"
  },
  "language_info": {
   "codemirror_mode": {
    "name": "ipython",
    "version": 3
   },
   "file_extension": ".py",
   "mimetype": "text/x-python",
   "name": "python",
   "nbconvert_exporter": "python",
   "pygments_lexer": "ipython3",
   "version": "3.8.10"
  }
 },
 "nbformat": 4,
 "nbformat_minor": 4
}
