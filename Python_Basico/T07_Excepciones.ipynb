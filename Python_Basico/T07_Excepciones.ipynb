{
 "cells": [
  {
   "cell_type": "markdown",
   "metadata": {},
   "source": [
    "# Python de cero a experto\n",
    "**Autor:** Luis Miguel de la Cruz Salas\n",
    "\n",
    "<a href=\"https://github.com/luiggix/Python_cero_a_experto\">Python de cero a experto</a> by Luis M. de la Cruz Salas is licensed under <a href=\"https://creativecommons.org/licenses/by-nc-nd/4.0?ref=chooser-v1\">Attribution-NonCommercial-NoDerivatives 4.0 International</a>"
   ]
  },
  {
   "cell_type": "markdown",
   "metadata": {},
   "source": [
    "## Pythonico es más bonito"
   ]
  },
  {
   "cell_type": "markdown",
   "metadata": {},
   "source": [
    "### Excepciones: *try, except, finally*\n",
    "\n",
    "Tenemos dos tipos principales de errores:\n",
    "- De sintaxis: ocurren cuando no se escriben correctamente las expresiones y declaraciones, siguiendo la especificación de la interfaz de Python:"
   ]
  },
  {
   "cell_type": "code",
   "execution_count": 2,
   "metadata": {},
   "outputs": [
    {
     "name": "stdout",
     "output_type": "stream",
     "text": [
      "Hola mundo!\n"
     ]
    }
   ],
   "source": [
    "print('Hola mundo!')"
   ]
  },
  {
   "cell_type": "markdown",
   "metadata": {},
   "source": [
    "Observe que el tipo de error se imprime cuando éste ocurre. En el caso anterior el error fue de tipo `NameError`, por lo que hay que revisar que todo esté correctamente escrito."
   ]
  },
  {
   "cell_type": "markdown",
   "metadata": {},
   "source": [
    "- Excepciones: Son errores lógicos, que detienen la ejecución de un programa aún cuando la sintaxis sea la correcta: "
   ]
  },
  {
   "cell_type": "code",
   "execution_count": 3,
   "metadata": {},
   "outputs": [],
   "source": [
    "def raizCuadrada(numero):\n",
    "    numero = float(numero)\n",
    "    print(\"La raíz cuadrada del número {} es {}\".format(numero, numero ** 0.5))"
   ]
  },
  {
   "cell_type": "code",
   "execution_count": 4,
   "metadata": {},
   "outputs": [
    {
     "name": "stdout",
     "output_type": "stream",
     "text": [
      "La raíz cuadrada del número 1.0 es 1.0\n"
     ]
    }
   ],
   "source": [
    "raizCuadrada(1)"
   ]
  },
  {
   "cell_type": "code",
   "execution_count": 5,
   "metadata": {},
   "outputs": [
    {
     "name": "stdout",
     "output_type": "stream",
     "text": [
      "La raíz cuadrada del número -1.0 es (6.123233995736766e-17+1j)\n"
     ]
    }
   ],
   "source": [
    "raizCuadrada(-1)"
   ]
  },
  {
   "cell_type": "code",
   "execution_count": 6,
   "metadata": {},
   "outputs": [
    {
     "ename": "TypeError",
     "evalue": "can't convert complex to float",
     "output_type": "error",
     "traceback": [
      "\u001b[0;31m---------------------------------------------------------------------------\u001b[0m",
      "\u001b[0;31mTypeError\u001b[0m                                 Traceback (most recent call last)",
      "\u001b[0;32m<ipython-input-6-d8114a290366>\u001b[0m in \u001b[0;36m<module>\u001b[0;34m\u001b[0m\n\u001b[0;32m----> 1\u001b[0;31m \u001b[0mraizCuadrada\u001b[0m\u001b[0;34m(\u001b[0m\u001b[0;36m1\u001b[0m\u001b[0;34m+\u001b[0m\u001b[0;36m1j\u001b[0m\u001b[0;34m)\u001b[0m\u001b[0;34m\u001b[0m\u001b[0;34m\u001b[0m\u001b[0m\n\u001b[0m",
      "\u001b[0;32m<ipython-input-3-30f351a91575>\u001b[0m in \u001b[0;36mraizCuadrada\u001b[0;34m(numero)\u001b[0m\n\u001b[1;32m      1\u001b[0m \u001b[0;32mdef\u001b[0m \u001b[0mraizCuadrada\u001b[0m\u001b[0;34m(\u001b[0m\u001b[0mnumero\u001b[0m\u001b[0;34m)\u001b[0m\u001b[0;34m:\u001b[0m\u001b[0;34m\u001b[0m\u001b[0;34m\u001b[0m\u001b[0m\n\u001b[0;32m----> 2\u001b[0;31m     \u001b[0mnumero\u001b[0m \u001b[0;34m=\u001b[0m \u001b[0mfloat\u001b[0m\u001b[0;34m(\u001b[0m\u001b[0mnumero\u001b[0m\u001b[0;34m)\u001b[0m\u001b[0;34m\u001b[0m\u001b[0;34m\u001b[0m\u001b[0m\n\u001b[0m\u001b[1;32m      3\u001b[0m     \u001b[0mprint\u001b[0m\u001b[0;34m(\u001b[0m\u001b[0;34m\"La raíz cuadrada del número {} es {}\"\u001b[0m\u001b[0;34m.\u001b[0m\u001b[0mformat\u001b[0m\u001b[0;34m(\u001b[0m\u001b[0mnumero\u001b[0m\u001b[0;34m,\u001b[0m \u001b[0mnumero\u001b[0m \u001b[0;34m**\u001b[0m \u001b[0;36m0.5\u001b[0m\u001b[0;34m)\u001b[0m\u001b[0;34m)\u001b[0m\u001b[0;34m\u001b[0m\u001b[0;34m\u001b[0m\u001b[0m\n",
      "\u001b[0;31mTypeError\u001b[0m: can't convert complex to float"
     ]
    }
   ],
   "source": [
    "raizCuadrada(1+1j)"
   ]
  },
  {
   "cell_type": "code",
   "execution_count": 7,
   "metadata": {},
   "outputs": [
    {
     "ename": "ValueError",
     "evalue": "could not convert string to float: 'hola'",
     "output_type": "error",
     "traceback": [
      "\u001b[0;31m---------------------------------------------------------------------------\u001b[0m",
      "\u001b[0;31mValueError\u001b[0m                                Traceback (most recent call last)",
      "\u001b[0;32m<ipython-input-7-30a738df0326>\u001b[0m in \u001b[0;36m<module>\u001b[0;34m\u001b[0m\n\u001b[0;32m----> 1\u001b[0;31m \u001b[0mraizCuadrada\u001b[0m\u001b[0;34m(\u001b[0m\u001b[0;34m\"hola\"\u001b[0m\u001b[0;34m)\u001b[0m\u001b[0;34m\u001b[0m\u001b[0;34m\u001b[0m\u001b[0m\n\u001b[0m",
      "\u001b[0;32m<ipython-input-3-30f351a91575>\u001b[0m in \u001b[0;36mraizCuadrada\u001b[0;34m(numero)\u001b[0m\n\u001b[1;32m      1\u001b[0m \u001b[0;32mdef\u001b[0m \u001b[0mraizCuadrada\u001b[0m\u001b[0;34m(\u001b[0m\u001b[0mnumero\u001b[0m\u001b[0;34m)\u001b[0m\u001b[0;34m:\u001b[0m\u001b[0;34m\u001b[0m\u001b[0;34m\u001b[0m\u001b[0m\n\u001b[0;32m----> 2\u001b[0;31m     \u001b[0mnumero\u001b[0m \u001b[0;34m=\u001b[0m \u001b[0mfloat\u001b[0m\u001b[0;34m(\u001b[0m\u001b[0mnumero\u001b[0m\u001b[0;34m)\u001b[0m\u001b[0;34m\u001b[0m\u001b[0;34m\u001b[0m\u001b[0m\n\u001b[0m\u001b[1;32m      3\u001b[0m     \u001b[0mprint\u001b[0m\u001b[0;34m(\u001b[0m\u001b[0;34m\"La raíz cuadrada del número {} es {}\"\u001b[0m\u001b[0;34m.\u001b[0m\u001b[0mformat\u001b[0m\u001b[0;34m(\u001b[0m\u001b[0mnumero\u001b[0m\u001b[0;34m,\u001b[0m \u001b[0mnumero\u001b[0m \u001b[0;34m**\u001b[0m \u001b[0;36m0.5\u001b[0m\u001b[0;34m)\u001b[0m\u001b[0;34m)\u001b[0m\u001b[0;34m\u001b[0m\u001b[0;34m\u001b[0m\u001b[0m\n",
      "\u001b[0;31mValueError\u001b[0m: could not convert string to float: 'hola'"
     ]
    }
   ],
   "source": [
    "raizCuadrada(\"hola\")"
   ]
  },
  {
   "cell_type": "markdown",
   "metadata": {},
   "source": [
    "En los ejemplos anteriores hay errores es de tipo `TypeError`, es decir ocurrió un error con los tipos de datos que se están manipulando; y errores de tipo `ValueError`, es decir hay un problema con el contenido del objeto.\n",
    "\n",
    "### Tipos de excepciones. \n",
    "\n",
    "Todas las excepciones en Python son ejemplos concretos (objetos) de una clase (*instance*) que se derivan de la clase principal <a href=\"https://docs.python.org/3/library/exceptions.html#BaseException\">BaseExcepcion</a>. Más detalles se pueden consultar <a href=\"http://docs.python.org/3/library/exceptions.html\">aquí</a>.\n",
    "\n",
    "Las excepciones se pueden capturar y manejar adecuadamente. Para ello se tienen las siguientes herramientas:\n",
    "\n",
    "* `try`\n",
    "* `except`\n",
    "* `else`\n",
    "* `finally`\n",
    "\n",
    "Cuando se identifica una sección de código susceptible de errores, ésta puede ser delimitada con la expresión `try`. Cualquier excepción que ocurra dentro de esta sección de código podrá ser capturada y gestionada.\n",
    "\n",
    "La expresión `except` es la encargada de gestionar las excepciones que se capturan. Si se utiliza sin mayor información, ésta ejecutará el código que contiene para todas las excepciones que ocurran."
   ]
  },
  {
   "cell_type": "code",
   "execution_count": 14,
   "metadata": {},
   "outputs": [],
   "source": [
    "def raizCuadrada(numero):\n",
    "    try:\n",
    "        numero = float(numero)\n",
    "        print(f\"La raíz cuadrada del número {numero} es {numero**0.5}\")\n",
    "    except:\n",
    "        pass\n",
    "    \n",
    "    print('Gracias por usar Python!.')"
   ]
  },
  {
   "cell_type": "code",
   "execution_count": 15,
   "metadata": {},
   "outputs": [
    {
     "name": "stdout",
     "output_type": "stream",
     "text": [
      "La raíz cuadrada del número 1.0 es 1.0\n",
      "Gracias por usar Python!.\n"
     ]
    }
   ],
   "source": [
    "raizCuadrada(1)"
   ]
  },
  {
   "cell_type": "code",
   "execution_count": 16,
   "metadata": {},
   "outputs": [
    {
     "name": "stdout",
     "output_type": "stream",
     "text": [
      "La raíz cuadrada del número -1.0 es (6.123233995736766e-17+1j)\n",
      "Gracias por usar Python!.\n"
     ]
    }
   ],
   "source": [
    "raizCuadrada(-1)"
   ]
  },
  {
   "cell_type": "code",
   "execution_count": 17,
   "metadata": {},
   "outputs": [
    {
     "name": "stdout",
     "output_type": "stream",
     "text": [
      "Gracias por usar Python!.\n"
     ]
    }
   ],
   "source": [
    "raizCuadrada(\"hola\")"
   ]
  },
  {
   "cell_type": "markdown",
   "metadata": {},
   "source": [
    "### Tratamiento de las excepciones"
   ]
  },
  {
   "cell_type": "code",
   "execution_count": 21,
   "metadata": {},
   "outputs": [],
   "source": [
    "def raizCuadrada(numero):\n",
    "    ocurre_error = False\n",
    "    try:\n",
    "        numero = float(numero)\n",
    "        print(\"La raíz cuadrada del número {} es {}\".format(numero, numero ** 0.5))\n",
    "    except:\n",
    "        ocurre_error = True\n",
    "        \n",
    "    if ocurre_error:\n",
    "        print(\"Hubo una falla en el programa, no se pudo realizar el cálculo\")\n",
    "    else:\n",
    "        print('Gracias por usar Python!.')"
   ]
  },
  {
   "cell_type": "code",
   "execution_count": 22,
   "metadata": {},
   "outputs": [
    {
     "name": "stdout",
     "output_type": "stream",
     "text": [
      "La raíz cuadrada del número 1.0 es 1.0\n",
      "Gracias por usar Python!.\n"
     ]
    }
   ],
   "source": [
    "raizCuadrada(1)"
   ]
  },
  {
   "cell_type": "code",
   "execution_count": 23,
   "metadata": {},
   "outputs": [
    {
     "name": "stdout",
     "output_type": "stream",
     "text": [
      "La raíz cuadrada del número -1.0 es (6.123233995736766e-17+1j)\n",
      "Gracias por usar Python!.\n"
     ]
    }
   ],
   "source": [
    "raizCuadrada(-1)"
   ]
  },
  {
   "cell_type": "code",
   "execution_count": 24,
   "metadata": {},
   "outputs": [
    {
     "name": "stdout",
     "output_type": "stream",
     "text": [
      "Hubo una falla en el programa, no se pudo realizar el cálculo\n"
     ]
    }
   ],
   "source": [
    "raizCuadrada(\"hola\")"
   ]
  },
  {
   "cell_type": "markdown",
   "metadata": {},
   "source": [
    "#### Gestión de excepciones por su tipo.\n",
    "\n",
    "La expresión `except` puede ser utilizada de forma tal que ejecute código dependiendo del tipo de error que ocurra. Para más información de los tipos de error que existen en Python, consulte <a href=\"https://docs.python.org/3/library/exceptions.html#concrete-exceptions\"> Concrete exceptions </a>."
   ]
  },
  {
   "cell_type": "code",
   "execution_count": 25,
   "metadata": {},
   "outputs": [],
   "source": [
    "def raizCuadrada(numero):\n",
    "    ocurre_error = False\n",
    "    try:\n",
    "        numero = float(numero)\n",
    "        print(\"La raíz cuadrada del número {} es {}\".format(numero, numero ** 0.5))\n",
    "    except TypeError:\n",
    "        ocurre_error = True\n",
    "        print(\"Ocurrió un error de tipo: TypeError, verifique que los tipos sean compatibles.\")\n",
    "    except:\n",
    "        ocurre_error = True\n",
    "        print(\"Ocurrió algo misterioso\")\n",
    "        \n",
    "    if ocurre_error:\n",
    "        print(\"Hubo una falla en el programa, no se pudo realizar el cálculo\")\n",
    "    else:\n",
    "        print('Gracias por usar Python!.')"
   ]
  },
  {
   "cell_type": "code",
   "execution_count": 26,
   "metadata": {},
   "outputs": [
    {
     "name": "stdout",
     "output_type": "stream",
     "text": [
      "La raíz cuadrada del número 1.0 es 1.0\n",
      "Gracias por usar Python!.\n"
     ]
    }
   ],
   "source": [
    "raizCuadrada(1)"
   ]
  },
  {
   "cell_type": "code",
   "execution_count": 27,
   "metadata": {},
   "outputs": [
    {
     "name": "stdout",
     "output_type": "stream",
     "text": [
      "La raíz cuadrada del número -1.0 es (6.123233995736766e-17+1j)\n",
      "Gracias por usar Python!.\n"
     ]
    }
   ],
   "source": [
    "raizCuadrada(-1)"
   ]
  },
  {
   "cell_type": "code",
   "execution_count": 28,
   "metadata": {},
   "outputs": [
    {
     "name": "stdout",
     "output_type": "stream",
     "text": [
      "Ocurrió algo misterioso\n",
      "Hubo una falla en el programa, no se pudo realizar el cálculo\n"
     ]
    }
   ],
   "source": [
    "raizCuadrada(\"hola\")"
   ]
  },
  {
   "cell_type": "code",
   "execution_count": 30,
   "metadata": {},
   "outputs": [
    {
     "name": "stdout",
     "output_type": "stream",
     "text": [
      "Ocurrió un error de tipo: TypeError, verifique que los tipos sean compatibles.\n",
      "Hubo una falla en el programa, no se pudo realizar el cálculo\n"
     ]
    }
   ],
   "source": [
    "raizCuadrada(1+4j)"
   ]
  },
  {
   "cell_type": "markdown",
   "metadata": {},
   "source": [
    "#### Información del error"
   ]
  },
  {
   "cell_type": "code",
   "execution_count": 31,
   "metadata": {},
   "outputs": [],
   "source": [
    "def raizCuadrada(numero): \n",
    "    ocurre_error = False\n",
    "    try:\n",
    "        numero = float(numero)\n",
    "        print(\"La raíz cuadrada del número {} es {}\".format(numero, numero ** 0.5))\n",
    "    except TypeError as detalles:\n",
    "        ocurre_error = True\n",
    "        print(\"Ocurrió un error (TypeError):\", detalles)\n",
    "    except ValueError as detalles:\n",
    "        ocurre_error = True\n",
    "        print(\"Ocurrió un error (ValueError):\", detalles)\n",
    "    except:\n",
    "        ocurre_error = True\n",
    "        print(\"Ocurrió algo misterioso\")\n",
    "        \n",
    "    if ocurre_error:\n",
    "        print(\"Hubo una falla en el programa, no se pudo realizar el cálculo\")\n",
    "    else:\n",
    "        print('Gracias por usar Python!.')"
   ]
  },
  {
   "cell_type": "code",
   "execution_count": 32,
   "metadata": {},
   "outputs": [
    {
     "name": "stdout",
     "output_type": "stream",
     "text": [
      "La raíz cuadrada del número 1.0 es 1.0\n",
      "Gracias por usar Python!.\n"
     ]
    }
   ],
   "source": [
    "raizCuadrada(1)"
   ]
  },
  {
   "cell_type": "code",
   "execution_count": 33,
   "metadata": {},
   "outputs": [
    {
     "name": "stdout",
     "output_type": "stream",
     "text": [
      "La raíz cuadrada del número -1.0 es (6.123233995736766e-17+1j)\n",
      "Gracias por usar Python!.\n"
     ]
    }
   ],
   "source": [
    "raizCuadrada(-1)"
   ]
  },
  {
   "cell_type": "code",
   "execution_count": 34,
   "metadata": {},
   "outputs": [
    {
     "name": "stdout",
     "output_type": "stream",
     "text": [
      "Ocurrió un error (ValueError): could not convert string to float: 'dd'\n",
      "Hubo una falla en el programa, no se pudo realizar el cálculo\n"
     ]
    }
   ],
   "source": [
    "raizCuadrada('dd')"
   ]
  },
  {
   "cell_type": "markdown",
   "metadata": {},
   "source": [
    "#### Sección `finally`\n",
    "Esta sección se ejecuta siempre, sin importar si hubo una excepción o no."
   ]
  },
  {
   "cell_type": "code",
   "execution_count": 35,
   "metadata": {},
   "outputs": [],
   "source": [
    "def raizCuadrada(numero):\n",
    "    ocurre_error = False\n",
    "    try:\n",
    "        numero = float(numero)\n",
    "        print(\"La raíz cuadrada del número %f es %f\" % (numero, numero ** 0.5))\n",
    "    except TypeError as detalles:\n",
    "        ocurre_error = True\n",
    "        print(\"Ocurrió un error (TypeError):\", detalles)\n",
    "    except ValueError as detalles:\n",
    "        ocurre_error = True\n",
    "        print(\"Ocurrió un error (ValueError):\", detalles)\n",
    "    except:\n",
    "        ocurre_error = True\n",
    "        print(\"Ocurrió algo misterioso\")\n",
    "    finally:\n",
    "        if ocurre_error:\n",
    "            print(\"Hubo una falla en el programa, no se pudo realizar el cálculo\")\n",
    "        else:\n",
    "            print('Gracias por usar Python!.')"
   ]
  },
  {
   "cell_type": "code",
   "execution_count": 36,
   "metadata": {},
   "outputs": [
    {
     "name": "stdout",
     "output_type": "stream",
     "text": [
      "La raíz cuadrada del número 1.000000 es 1.000000\n",
      "Gracias por usar Python!.\n"
     ]
    }
   ],
   "source": [
    "raizCuadrada(1)"
   ]
  },
  {
   "cell_type": "code",
   "execution_count": 37,
   "metadata": {},
   "outputs": [
    {
     "name": "stdout",
     "output_type": "stream",
     "text": [
      "Ocurrió un error (TypeError): can't convert complex to float\n",
      "Hubo una falla en el programa, no se pudo realizar el cálculo\n"
     ]
    }
   ],
   "source": [
    "raizCuadrada(-1)"
   ]
  },
  {
   "cell_type": "code",
   "execution_count": 38,
   "metadata": {},
   "outputs": [
    {
     "name": "stdout",
     "output_type": "stream",
     "text": [
      "Ocurrió un error (TypeError): can't convert complex to float\n",
      "Hubo una falla en el programa, no se pudo realizar el cálculo\n"
     ]
    }
   ],
   "source": [
    "raizCuadrada(1j)"
   ]
  },
  {
   "cell_type": "code",
   "execution_count": 39,
   "metadata": {},
   "outputs": [
    {
     "name": "stdout",
     "output_type": "stream",
     "text": [
      "Ocurrió un error (ValueError): could not convert string to float: 'hola'\n",
      "Hubo una falla en el programa, no se pudo realizar el cálculo\n"
     ]
    }
   ],
   "source": [
    "raizCuadrada(\"hola\")"
   ]
  }
 ],
 "metadata": {
  "anaconda-cloud": {},
  "kernelspec": {
   "display_name": "Python 3 (ipykernel)",
   "language": "python",
   "name": "python3"
  },
  "language_info": {
   "codemirror_mode": {
    "name": "ipython",
    "version": 3
   },
   "file_extension": ".py",
   "mimetype": "text/x-python",
   "name": "python",
   "nbconvert_exporter": "python",
   "pygments_lexer": "ipython3",
   "version": "3.8.10"
  }
 },
 "nbformat": 4,
 "nbformat_minor": 4
}
