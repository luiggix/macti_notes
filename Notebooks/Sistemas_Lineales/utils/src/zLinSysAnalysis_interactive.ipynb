{
 "cells": [
  {
   "cell_type": "code",
   "execution_count": null,
   "id": "de6d3396-6020-4753-b60c-c7d3284c0c91",
   "metadata": {},
   "outputs": [],
   "source": [
    "from macti.SistemasLineales.eigen_fc import plotLinsys\n",
    "from ipywidgets import interact, interactive, fixed, interact_manual\n",
    "import ipywidgets as widgets\n",
    "import numpy as np"
   ]
  },
  {
   "cell_type": "code",
   "execution_count": null,
   "id": "6946a099-41e4-48c9-8309-93a8dd50392b",
   "metadata": {},
   "outputs": [],
   "source": [
    "tipos_sistemas = ['Positivo Definido', 'Positivo Indefinido', 'Indefinido']\n",
    "w = interactive(plotLinsys, \n",
    "                sistema = widgets.Dropdown(options= tipos_sistemas,\n",
    "                                           description='Sistema'))\n",
    "display(w)"
   ]
  }
 ],
 "metadata": {
  "kernelspec": {
   "display_name": "Python 3 (ipykernel)",
   "language": "python",
   "name": "python3"
  },
  "language_info": {
   "codemirror_mode": {
    "name": "ipython",
    "version": 3
   },
   "file_extension": ".py",
   "mimetype": "text/x-python",
   "name": "python",
   "nbconvert_exporter": "python",
   "pygments_lexer": "ipython3",
   "version": "3.9.7"
  }
 },
 "nbformat": 4,
 "nbformat_minor": 5
}
