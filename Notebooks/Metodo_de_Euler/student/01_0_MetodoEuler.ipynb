{
 "cells": [
  {
   "cell_type": "markdown",
   "id": "3dd89cca-dec4-4477-8b82-41d5d9ae5930",
   "metadata": {
    "deletable": false,
    "editable": false,
    "nbgrader": {
     "cell_type": "markdown",
     "checksum": "638a5cb44323469a7230eaadb65eb7f0",
     "grade": false,
     "grade_id": "cell-7d57b3fdfcf6a583",
     "locked": true,
     "schema_version": 3,
     "solution": false,
     "task": false
    },
    "tags": []
   },
   "source": [
    "# Método de Euler\n",
    "\n",
    "**Objetivo general**\n",
    "- Realizar el seguimiento de un conjunto de partículas dentro de un flujo usando el Método de Euler hacia adelante.\n",
    "\n",
    "**Objetivos particulares**\n",
    "- Entender en qué consiste el flujo de Poiseuille.\n",
    "- Calcular la trayectoria de una partícula.\n",
    "- Calcular la trayectoria de varias partículas.\n",
    "- Expresar el problema en términos de un Problema de Valor Inicial.\n",
    "\n",
    "## Contenido\n",
    "- [1. Flujo en una tubería.](#1)\n",
    "- [2. Cálculo de una sola trayectoria.](#2)\n",
    "    - [2.1 Definición y graficación del flujo. ](#2-1)\n",
    "    - [2.2 Definición de la posición inicial de la partícula y graficación. ](#2-2)\n",
    "    - [2.3 Seguimiento de la partícula y graficación de la trayectoria. ](#2-3)\n",
    "        - [Ejercicio 1. Implementación del Método de Euler en 2D.](#ej-1)\n",
    "        - [Ejercicio 2. Implementación del Método de Euler para varios pasos de tiempo.](#ej-2)\n",
    "- [3. Cálculo de varias trayectorias.](#3)\n",
    "    - [3.1 Definición las posiciones iniciales. ](#3-1)\n",
    "    - [3.2 Seguimiento de todas las partículas. ](#3-2)\n",
    "        - [Ejercicio 3. Implementación del Método de Euler para varias partículas.](#ej-3)\n",
    "        - [Ejercicio 4. Interactivo.](#ej-4)\n",
    "- [4. Problemas de valor inicial.](#4)\n",
    "- [5. Deducción de Método de Euler (OPCIONAL).](#5)"
   ]
  },
  {
   "cell_type": "markdown",
   "id": "ae83a62d-cd53-4eae-b782-4cbe21121247",
   "metadata": {
    "deletable": false,
    "editable": false,
    "nbgrader": {
     "cell_type": "markdown",
     "checksum": "d2ab482a664ec27923e9d8087782d88b",
     "grade": false,
     "grade_id": "cell-878c36b49816af83",
     "locked": true,
     "schema_version": 3,
     "solution": false,
     "task": false
    }
   },
   "source": [
    "<a name='1'></a>\n",
    "## Flujo en una tubería.\n",
    "De acuerdo con la <a href=\"https://es.wikipedia.org/wiki/Ley_de_Poiseuille#C%C3%A1lculo_de_la_f%C3%B3rmula\">Ley de Poiseuille</a> la velocidad de un líquido incompresible y uniformemente viscoso (<a href=\"https://es.wikipedia.org/wiki/Fluido_newtoniano\">fluido newtoniano</a>) a través de un tubo cilíndrico de sección circular constante se puede calcular mediante la siguiente fórmula\n",
    "\n",
    "$$\n",
    "u(r) =\\left( \\dfrac{\\Delta p}{4 L \\mu} \\right)(R^2 - r^2) \\tag{1}\n",
    "$$\n",
    "\n",
    "donde $\\Delta p$ representa la diferencia de presión entre dos puntos a lo largo del eje del cilíndro, $L$ es la longitud, $\\mu$ es la viscosidad dinámica, $R$ es el radio del cilíndro y $r$ es el radio medido desde el eje del cilíndro, véase la siguiente figura:\n",
    "\n",
    "<a title=\"Af3 at the Spanish language Wikipedia, CC BY-SA 3.0 &lt;http://creativecommons.org/licenses/by-sa/3.0/&gt;, via Wikimedia Commons\" href=\"https://commons.wikimedia.org/wiki/File:Poiseuille.png\"><img width=\"300\" alt=\"Poiseuille\" src=\"https://upload.wikimedia.org/wikipedia/commons/4/46/Poiseuille.png\"></a>     \n",
    "\n",
    "Observamos que la fórmula $(1)$ representa una parábola. Veamos como se ve esta velocidad en una gráfica:"
   ]
  },
  {
   "cell_type": "code",
   "execution_count": null,
   "id": "8d14eae4-7ae4-4d16-92f0-1477f1b8fb30",
   "metadata": {
    "deletable": false,
    "editable": false,
    "nbgrader": {
     "cell_type": "code",
     "checksum": "087b6775fe75c18372fc0d3a02892679",
     "grade": false,
     "grade_id": "cell-05d750bbd7eb3bb5",
     "locked": true,
     "schema_version": 3,
     "solution": false,
     "task": false
    }
   },
   "outputs": [],
   "source": [
    "# Importamos las bibliotecas necesarias\n",
    "import matplotlib.pyplot as plt\n",
    "import numpy as np\n",
    "from macti.visual import plotFlujo\n",
    "from macti.evaluacion import Evalua\n",
    "ȩ = Evalua('MetodoEuler')"
   ]
  },
  {
   "cell_type": "markdown",
   "id": "85760622-20c0-404b-9ae5-9b6f8666f3ac",
   "metadata": {
    "deletable": false,
    "editable": false,
    "nbgrader": {
     "cell_type": "markdown",
     "checksum": "71b8f5a5b4a18169b496370d708e724b",
     "grade": false,
     "grade_id": "cell-359841adf6042afd",
     "locked": true,
     "schema_version": 3,
     "solution": false,
     "task": false
    }
   },
   "source": [
    "Definimos algunos datos para la fórmula"
   ]
  },
  {
   "cell_type": "code",
   "execution_count": null,
   "id": "40f90d82-9d54-4040-a48c-6f0665e0df22",
   "metadata": {
    "deletable": false,
    "editable": false,
    "nbgrader": {
     "cell_type": "code",
     "checksum": "9a4e2a823b1eb238184a3b8e9143e3a3",
     "grade": false,
     "grade_id": "cell-a9aa496cb2537ca0",
     "locked": true,
     "schema_version": 3,
     "solution": false,
     "task": false
    }
   },
   "outputs": [],
   "source": [
    "ΔP = 0.298  # Diferencia de presiones\n",
    "μ = 1.05e-3 # Viscosidad del flujo\n",
    "L = 3.0     # Longitud del tubo\n",
    "R = 0.5     # Radio del tubo\n",
    "print('Diferencia de presiones: {} \\nViscosidad: {} \\nLongitud: {} \\nRadio: {}'.format(ΔP,μ,L,R))"
   ]
  },
  {
   "cell_type": "markdown",
   "id": "4f06a695-fe5a-47dc-932f-9f181dd3dc3b",
   "metadata": {
    "deletable": false,
    "editable": false,
    "nbgrader": {
     "cell_type": "markdown",
     "checksum": "0dbf04f1932c8cae517c5716791fe7ef",
     "grade": false,
     "grade_id": "cell-124a86b57058ea9d",
     "locked": true,
     "schema_version": 3,
     "solution": false,
     "task": false
    }
   },
   "source": [
    "En la fórmula $u(r) =\\left( \\frac{\\Delta p}{4 L \\mu} \\right)(R^2 - r^2)$ observamos que la $r$ varía en la dirección $y$ de los ejes Cartesianos, véase la figura de arriba. Entonces, para dibujar la velocidad en todo el tubo definimos el siguiente conjunto de coordenadas:"
   ]
  },
  {
   "cell_type": "code",
   "execution_count": null,
   "id": "9b3cdd2e-bd0d-4253-9f3d-42c1973d9b4f",
   "metadata": {
    "deletable": false,
    "editable": false,
    "nbgrader": {
     "cell_type": "code",
     "checksum": "161cad7e0f3272bb146fde563c5f8e39",
     "grade": false,
     "grade_id": "cell-4b3a947c791768a9",
     "locked": true,
     "schema_version": 3,
     "solution": false,
     "task": false
    }
   },
   "outputs": [],
   "source": [
    "x = np.linspace(0,L,20)\n",
    "r = np.linspace(-R,R,20)\n",
    "xg, yg = np.meshgrid(x, r, indexing='ij', sparse=False)"
   ]
  },
  {
   "cell_type": "markdown",
   "id": "0d41b301-9ee4-4091-b1ee-41bfb7a9d610",
   "metadata": {
    "deletable": false,
    "editable": false,
    "nbgrader": {
     "cell_type": "markdown",
     "checksum": "b2ae8375baf49b2a1c0d89c71e724d66",
     "grade": false,
     "grade_id": "cell-8fbabb48fafcdb99",
     "locked": true,
     "schema_version": 3,
     "solution": false,
     "task": false
    }
   },
   "source": [
    "La implementación de la fórmula $(1)$ es como sigue:"
   ]
  },
  {
   "cell_type": "code",
   "execution_count": null,
   "id": "e37ce3d7-be53-4d17-935b-f3c3d1c71122",
   "metadata": {
    "deletable": false,
    "editable": false,
    "nbgrader": {
     "cell_type": "code",
     "checksum": "abdeabdf06bbbb3c4ede4c8fec3e34f4",
     "grade": false,
     "grade_id": "cell-a405410f3cc3165a",
     "locked": true,
     "schema_version": 3,
     "solution": false,
     "task": false
    }
   },
   "outputs": [],
   "source": [
    "u = lambda x,r: ΔP*(R**2 - r**2)/(4*L*μ)  # Flujo de Poiseuille\n",
    "v = lambda x,r: r*0                       # La velocidad en dirección vertical es cero."
   ]
  },
  {
   "cell_type": "markdown",
   "id": "0e143d5a-d529-4907-a31e-4cc10985305c",
   "metadata": {
    "deletable": false,
    "editable": false,
    "nbgrader": {
     "cell_type": "markdown",
     "checksum": "2bc9d9edcfbbea2b65207b43ccb3038f",
     "grade": false,
     "grade_id": "cell-a2cc86acf2009b65",
     "locked": true,
     "schema_version": 3,
     "solution": false,
     "task": false
    }
   },
   "source": [
    "En el código anterior hemos usado funciones `lambda` de Python, una introducción se puede ver aquí."
   ]
  },
  {
   "cell_type": "code",
   "execution_count": null,
   "id": "bc545a1c-1d11-4ad3-a30c-f5b19691d741",
   "metadata": {
    "deletable": false,
    "editable": false,
    "nbgrader": {
     "cell_type": "code",
     "checksum": "357f91e64375ccc36aee69230b69ab81",
     "grade": false,
     "grade_id": "cell-58b2cccf191e2258",
     "locked": true,
     "schema_version": 3,
     "solution": false,
     "task": false
    }
   },
   "outputs": [],
   "source": [
    "# Graficación del campo de velocidades (u,v)\n",
    "plotFlujo(xg, yg, u, v, 'quiver', 'Flujo de Poiseuille')"
   ]
  },
  {
   "cell_type": "markdown",
   "id": "af5cf43f-b28c-4371-a715-b477078781cb",
   "metadata": {
    "deletable": false,
    "editable": false,
    "nbgrader": {
     "cell_type": "markdown",
     "checksum": "81e11b15e9e71f90d3903fed0bd85258",
     "grade": false,
     "grade_id": "cell-08bdea173cb82ff9",
     "locked": true,
     "schema_version": 3,
     "solution": false,
     "task": false
    }
   },
   "source": [
    "<a name='2'></a>\n",
    "## Cálculo de una sola trayectoria.\n",
    "\n",
    "Supongamos que soltamos una partícula en el punto $(x_i, y_i)$ dentro del cilíndro del flujo de Poiseuille descrito arriba. **¿Hacía donde se moverá esa partícula?**\n",
    "\n",
    "Hagamos el siguiente análisis:\n",
    "\n",
    "1. Sabemos que la velocidad se puede calcular con la fórmula simple $v = \\dfrac{d}{t}$, donde $d$ es la distancia y $t$ es el tiempo.\n",
    "\n",
    "2. De aquí sabemos que la distancia es $d = t * v $.\n",
    "\n",
    "3. Si mi punto inicial es $x_i$ y el final es $x_f$ entonces la distancia recorrida será $d = x_f - x_i$. \n",
    "\n",
    "4. Por lo tanto, combinando las fórmulas de 2. y 3., es fácil ver que el punto $x_f$ se obtiene con la siguiente fórmula:\n",
    "\n",
    "$$\n",
    "x_f = x_i +  t * v \\tag{2}\n",
    "$$\n",
    "\n",
    "La ecuación $(2)$ representa el **Método de Euler** (hacia adelante) para aproximar la solución de una Ecuación Diferencial Ordinaria de primer orden.\n",
    "\n",
    "Antes de revisar los detalles de este método veamos como podemos calcular las trayectorias de algunas partículas y dibujarlas dentro del flujo."
   ]
  },
  {
   "cell_type": "markdown",
   "id": "ff419424-f9e7-48c5-801c-660e776103ac",
   "metadata": {
    "deletable": false,
    "editable": false,
    "nbgrader": {
     "cell_type": "markdown",
     "checksum": "32f73054d35336b050dfaa3c03567ce1",
     "grade": false,
     "grade_id": "cell-f257f75aa995e5fb",
     "locked": true,
     "schema_version": 3,
     "solution": false,
     "task": false
    },
    "tags": []
   },
   "source": [
    "Resolveremos el problema paso a paso. Primero para una partícula haremos lo siguiente:\n",
    "\n",
    "1. Definición del flujo y graficación del flujo.\n",
    "2. Definición de la posición inicial de la partícula y graficación.\n",
    "3. Seguimiento de la partícula y graficación de la trayectoria."
   ]
  },
  {
   "cell_type": "markdown",
   "id": "db05c662-800b-4bea-8b16-7f4685135eed",
   "metadata": {
    "deletable": false,
    "editable": false,
    "nbgrader": {
     "cell_type": "markdown",
     "checksum": "f0910e429fc4ff5d096ac6bc0dfea2e8",
     "grade": false,
     "grade_id": "cell-e7fd111d0d11614a",
     "locked": true,
     "schema_version": 3,
     "solution": false,
     "task": false
    }
   },
   "source": [
    "<a name='2-1'></a>\n",
    "### Definición y graficación del flujo.\n",
    "\n",
    "Este punto lo hicimos antes, aquí solo repetimos los pasos realizados"
   ]
  },
  {
   "cell_type": "code",
   "execution_count": null,
   "id": "07107d41-3b0f-481d-baa6-2ed5c1ae6242",
   "metadata": {
    "deletable": false,
    "editable": false,
    "nbgrader": {
     "cell_type": "code",
     "checksum": "241502b6150b1b2c996a2aad268d1fdb",
     "grade": false,
     "grade_id": "cell-c0a6483b6d0dc974",
     "locked": true,
     "schema_version": 3,
     "solution": false,
     "task": false
    }
   },
   "outputs": [],
   "source": [
    "# Coordenadas Cartesianas\n",
    "x = np.linspace(0,L,20)\n",
    "r = np.linspace(-R,R,20)\n",
    "xg, yg = np.meshgrid(x, r, indexing='ij', sparse=False)\n",
    "\n",
    "# Campo de velocidad\n",
    "u = lambda x,r: ΔP*(R**2 - r**2)/(4*L*μ)  # Flujo de Poiseuille\n",
    "v = lambda x,r: r*0                       # La velocidad en dirección y es cero.\n",
    "\n",
    "# Graficación del campo de velocidades (u,v)\n",
    "plotFlujo(xg, yg, u, v, 'quiver', 'Flujo de Poiseuille')"
   ]
  },
  {
   "cell_type": "markdown",
   "id": "75b72eed-74f3-4491-ad72-02a67fbc2e65",
   "metadata": {
    "deletable": false,
    "editable": false,
    "nbgrader": {
     "cell_type": "markdown",
     "checksum": "f19c459b40bcb73a9cd4fb1b36e8b092",
     "grade": false,
     "grade_id": "cell-4f20b59784014109",
     "locked": true,
     "schema_version": 3,
     "solution": false,
     "task": false
    }
   },
   "source": [
    "<a name='2-2'></a>\n",
    "### Definición de la posición inicial de la partícula y graficación.\n",
    "\n",
    "La posición inicial de la partícula debe estar dentro del dominio de estudio, es decir dentro de $[0,L] \\times [-R, R]$."
   ]
  },
  {
   "cell_type": "code",
   "execution_count": null,
   "id": "d1555b45-9c78-4d32-a1b5-59d691d46b93",
   "metadata": {
    "deletable": false,
    "editable": false,
    "nbgrader": {
     "cell_type": "code",
     "checksum": "b5b4e16e60c4b041e11a3d7971963991",
     "grade": false,
     "grade_id": "cell-3a541d254c42d106",
     "locked": true,
     "schema_version": 3,
     "solution": false,
     "task": false
    }
   },
   "outputs": [],
   "source": [
    "# Posición inicial de la partícula\n",
    "xi = 0.1 \n",
    "yi = 0.0"
   ]
  },
  {
   "cell_type": "code",
   "execution_count": null,
   "id": "dbafb0ae-1840-4cf2-bba5-ffcdcfdaa7ad",
   "metadata": {
    "deletable": false,
    "editable": false,
    "nbgrader": {
     "cell_type": "code",
     "checksum": "5c214dc01ab76b12ca9c55ae82f22c85",
     "grade": false,
     "grade_id": "cell-0af6a3985f848814",
     "locked": true,
     "schema_version": 3,
     "solution": false,
     "task": false
    }
   },
   "outputs": [],
   "source": [
    "# Graficación de la posición inicial y el flujo\n",
    "plt.scatter(xi, yi, fc='C3', ec='k', alpha=0.75, s=60, zorder=5)\n",
    "plotFlujo(xg, yg, u, v, 'quiver', 'Posición inicial')"
   ]
  },
  {
   "cell_type": "markdown",
   "id": "5dc6c9fe-b23c-4223-8061-09689fc06d9e",
   "metadata": {
    "deletable": false,
    "editable": false,
    "nbgrader": {
     "cell_type": "markdown",
     "checksum": "a5f8b1c2e2bad787085ead42cbc31215",
     "grade": false,
     "grade_id": "cell-957eec403f0e0f15",
     "locked": true,
     "schema_version": 3,
     "solution": false,
     "task": false
    }
   },
   "source": [
    "<a name='2-3'></a>\n",
    "### Seguimiento de la partícula y graficación de la trayectoria.\n",
    "\n",
    "A partir de la fórmula $(2)$, que es el método de Euler, podemos calcular la siguiente posición de la partícula aplicando dicha fórmula a cada coordenada:\n",
    "\n",
    "$$\n",
    "\\begin{eqnarray}\n",
    "x_f & = & x_i +  t * u  \\tag{3}\\\\\n",
    "y_f & = & y_i +  t * v \\\\\n",
    "\\end{eqnarray}\n",
    "$$"
   ]
  },
  {
   "cell_type": "markdown",
   "id": "f5c1b8bf-d4e5-42c9-a2a5-b45926c89d3b",
   "metadata": {
    "deletable": false,
    "editable": false,
    "nbgrader": {
     "cell_type": "markdown",
     "checksum": "5ef8d9a7cdad0fee9f1be32267935651",
     "grade": false,
     "grade_id": "cell-1e62b900fb4a1d6b",
     "locked": true,
     "schema_version": 3,
     "solution": false,
     "task": false
    }
   },
   "source": [
    "<a name='ej-1'></a>\n",
    "#### **<font color=\"DodgerBlue\">Ejercicio 1. Implementación del Método de Euler en 2D.</font>**\n",
    "\n",
    "<font color=\"DarkBlue\">Para la posición inicial $(x_i, y_i) = (0.1,0.0)$ y $t = 0.05$ calcule la posición final $(x_f, y_f)$ mediante las fórmulas dadas en $(3)$.</font>"
   ]
  },
  {
   "cell_type": "code",
   "execution_count": null,
   "id": "94e628f9-e2fe-4ef1-8d02-ca2a60c12014",
   "metadata": {
    "deletable": false,
    "nbgrader": {
     "cell_type": "code",
     "checksum": "7ac4d2b5529825e8e538e71eabd3c195",
     "grade": false,
     "grade_id": "cell-bfd2ce27f348d2eb",
     "locked": false,
     "schema_version": 3,
     "solution": true,
     "task": false
    }
   },
   "outputs": [],
   "source": [
    "# Paso de tiempo\n",
    "t = 0.05\n",
    "\n",
    "# Cálculo de la nueva posición usando el método de Euler\n",
    "# YOUR CODE HERE\n",
    "raise NotImplementedError()"
   ]
  },
  {
   "cell_type": "code",
   "execution_count": null,
   "id": "416a1857-bc2b-4ea0-8c90-1d8dbbb118aa",
   "metadata": {
    "deletable": false,
    "editable": false,
    "nbgrader": {
     "cell_type": "code",
     "checksum": "d5202a77f6f995fdbb15590d17b3630e",
     "grade": false,
     "grade_id": "cell-75c1bb9917812ccb",
     "locked": true,
     "schema_version": 3,
     "solution": false,
     "task": false
    }
   },
   "outputs": [],
   "source": [
    "ȩ.verifica(np.array([xf, yf]), 1)"
   ]
  },
  {
   "cell_type": "code",
   "execution_count": null,
   "id": "ad4f87d0-e251-4cbf-bf8c-028e3c8b9f95",
   "metadata": {
    "deletable": false,
    "editable": false,
    "nbgrader": {
     "cell_type": "code",
     "checksum": "2fe207f70179a181e58d445bf4a08b44",
     "grade": false,
     "grade_id": "cell-319b6bb41c6636ab",
     "locked": true,
     "schema_version": 3,
     "solution": false,
     "task": false
    }
   },
   "outputs": [],
   "source": [
    "# Graficación del punto inicial, la trayectoria y el campo de velocidades\n",
    "plt.scatter([xi,xf], [yi, yf], fc='C3', ec='k', alpha=0.75, s=60, zorder=5)\n",
    "plt.plot([xi,xf], [yi, yf],'-k')\n",
    "plotFlujo(xg, yg, u, v, 'quiver', 'Seguimiento durante un paso de tiempo')"
   ]
  },
  {
   "cell_type": "markdown",
   "id": "1626a8cb-6bb8-4ea4-9156-5baaddabf1dd",
   "metadata": {
    "deletable": false,
    "editable": false,
    "nbgrader": {
     "cell_type": "markdown",
     "checksum": "4f69daddfcd23c30307cb9a8275cb6a1",
     "grade": false,
     "grade_id": "cell-8cffb2df4c35d4ee",
     "locked": true,
     "schema_version": 3,
     "solution": false,
     "task": false
    }
   },
   "source": [
    "En el cálculo anterior, se realizó el seguimiento durante **un solo paso de tiempo** y definimos el paso de tiempo igual a $0.05$. \n",
    "\n",
    "Para calcular varios pasos de tiempo debemos definir lo siguiente:\n",
    "\n",
    "1. El número de pasos que deseamos calcular $N_t$.\n",
    "2. Definir un arreglo para almacenar las coordenadas de la trayectoria en cada paso.\n",
    "3. Realizar un ciclo de cálculo que permita ir calculando la trayectoria con el método de Euler.\n",
    "\n",
    "El siguiente algoritmo describe los pasos a realizar:\n",
    "<center>\n",
    "<img src=\"../utils/figs/algTrayectoria01.png\"  width='400px'/>\n",
    "</center>\n",
    "\n",
    "En el algoritmo anterior estamos usando $h_t$ como paso de tiempo en vez de $t$."
   ]
  },
  {
   "cell_type": "markdown",
   "id": "8968a560-0df2-4950-be87-42768b55b759",
   "metadata": {
    "deletable": false,
    "editable": false,
    "nbgrader": {
     "cell_type": "markdown",
     "checksum": "ed4f1f472072ee8c257fedfe17d5790f",
     "grade": false,
     "grade_id": "cell-33b4a343f6a1c20b",
     "locked": true,
     "schema_version": 3,
     "solution": false,
     "task": false
    }
   },
   "source": [
    "<a name='ej-2'></a>\n",
    "#### **<font color=\"DodgerBlue\">Ejercicio 2. Implementación del Método de Euler para varios pasos de tiempo.</font>**\n",
    "\n",
    "<font color=\"DarkBlue\">Tomando en cuenta el algoritmo 1, complete el código que sigue agregando las fórmulas correspondientes al Método de Euler para cada coordenada.</font>"
   ]
  },
  {
   "cell_type": "code",
   "execution_count": null,
   "id": "c5af303d-7067-4eaa-ac58-81edd27cec68",
   "metadata": {
    "deletable": false,
    "nbgrader": {
     "cell_type": "code",
     "checksum": "07656c6d41ca1b975c45a28e5907e7bd",
     "grade": false,
     "grade_id": "cell-6ed6f707c15ffc7a",
     "locked": false,
     "schema_version": 3,
     "solution": true,
     "task": false
    }
   },
   "outputs": [],
   "source": [
    "# Número de pasos de tiempo.\n",
    "Nt = 5  \n",
    "ht = 0.05\n",
    "\n",
    "# Posición inicial de la partícula\n",
    "xi = 0.1  \n",
    "yi = 0.0\n",
    "\n",
    "# Definimos el arreglo para almacenar las posiciones\n",
    "c = np.zeros((Nt, 2))\n",
    "c[0] = (xi, yi)\n",
    "\n",
    "for n in range(1, Nt): # Ciclo para calcular las posiciones\n",
    "    # YOUR CODE HERE\n",
    "    raise NotImplementedError()\n",
    "    c[n] = (xf, yf)         # Agregamos (xf, yf) a la lista de posiciones\n",
    "    (xi, yi) = (xf, yf)     # Actualizamos (xi, yi)\n",
    "    \n",
    "print('Posiciones de la trayectoria\\n {}'.format(c))"
   ]
  },
  {
   "cell_type": "code",
   "execution_count": null,
   "id": "c6ab861b-f2fa-4fc5-b3d1-7d7ce00214b2",
   "metadata": {
    "deletable": false,
    "editable": false,
    "nbgrader": {
     "cell_type": "code",
     "checksum": "53a0695e843f2faa2368144b6a59fd67",
     "grade": false,
     "grade_id": "cell-96ea85a20f84dd21",
     "locked": true,
     "schema_version": 3,
     "solution": false,
     "task": false
    }
   },
   "outputs": [],
   "source": [
    "ȩ.verifica(c, 2)"
   ]
  },
  {
   "cell_type": "code",
   "execution_count": null,
   "id": "9ce6012f-c94f-4132-867c-efddd894fab4",
   "metadata": {
    "deletable": false,
    "editable": false,
    "nbgrader": {
     "cell_type": "code",
     "checksum": "cdb003f597793fb600c054eba38ccfd6",
     "grade": false,
     "grade_id": "cell-20617dd64cdd749c",
     "locked": true,
     "schema_version": 3,
     "solution": false,
     "task": false
    }
   },
   "outputs": [],
   "source": [
    "# Graficación del punto inicial, la trayectoria y el campo de velocidades\n",
    "plt.scatter(c[:,0], c[:,1], fc='C3', ec='k', alpha=0.75, s=60, zorder=5)\n",
    "plt.plot(c[:,0], c[:,1],'-k')\n",
    "plotFlujo(xg, yg, u, v, 'quiver', 'Varios pasos de tiempo')"
   ]
  },
  {
   "cell_type": "markdown",
   "id": "bd7a2e02-da77-4d2d-a858-258151a1c904",
   "metadata": {
    "deletable": false,
    "editable": false,
    "nbgrader": {
     "cell_type": "markdown",
     "checksum": "0106af2dc320a222c1518c65ed8e66a0",
     "grade": false,
     "grade_id": "cell-36d4c09b2e0f4b62",
     "locked": true,
     "schema_version": 3,
     "solution": false,
     "task": false
    }
   },
   "source": [
    "<a name='3'></a>\n",
    "## Cálculo de varias trayectorias.\n",
    "\n",
    "Para calcular varias trayectorias haremos lo siguiente.\n",
    "\n",
    "<a name='3-1'></a>\n",
    "### Definición de las posiciones iniciales.\n",
    "\n",
    "Primero se deben definir las posiciones iniciales de $N_p$ partículas y graficarlas:"
   ]
  },
  {
   "cell_type": "code",
   "execution_count": null,
   "id": "e0022c3e-45ac-40e3-baa2-584ee6dea2bb",
   "metadata": {
    "deletable": false,
    "editable": false,
    "nbgrader": {
     "cell_type": "code",
     "checksum": "936970cc87f8c2eed104534524ce281e",
     "grade": false,
     "grade_id": "cell-45fc1c5aee2e3ce0",
     "locked": true,
     "schema_version": 3,
     "solution": false,
     "task": false
    }
   },
   "outputs": [],
   "source": [
    "# Número de partículas\n",
    "Np = 7\n",
    "\n",
    "# Coordenadas iniciales de las partículas\n",
    "px = np.zeros(Np)\n",
    "py = np.linspace(-0.4, 0.4, Np) # Equiespaciadas en dirección y\n",
    "\n",
    "print('Posiciones iniciales \\n px = {} \\n py = {}'.format(px, py))\n",
    "# Graficación de las posiciones iniciales\n",
    "for i in range(Np):\n",
    "    plt.scatter(px[i], py[i], ec='k', alpha=0.75, s=50, zorder=5)\n",
    "plotFlujo(xg, yg, u, v, 'quiver', 'Varias partículas')"
   ]
  },
  {
   "cell_type": "markdown",
   "id": "52b7fe6f-a48d-4b51-83a3-b350936d2f73",
   "metadata": {
    "deletable": false,
    "editable": false,
    "nbgrader": {
     "cell_type": "markdown",
     "checksum": "3ff66b2a8a18cae623290384bc43558f",
     "grade": false,
     "grade_id": "cell-1d482f6776af5a70",
     "locked": true,
     "schema_version": 3,
     "solution": false,
     "task": false
    }
   },
   "source": [
    "<a name='3-2'></a>\n",
    "### Seguimiento de todas las partículas.\n",
    "\n",
    "Ahora realizamos el seguimiento de cada partícula y dibujamos su trayectoria usando el siguiente algoritmo:\n",
    "<center>\n",
    "<img src=\"../utils/figs/algTrayectoria02.png\"  width='400px'/>\n",
    "</center>"
   ]
  },
  {
   "cell_type": "markdown",
   "id": "4c841d43-a74e-4c22-9d2a-9e759ddd7daf",
   "metadata": {
    "deletable": false,
    "editable": false,
    "nbgrader": {
     "cell_type": "markdown",
     "checksum": "a87c867707d1049f7f0dcb32bba4e973",
     "grade": false,
     "grade_id": "cell-76d9821a745b6f16",
     "locked": true,
     "schema_version": 3,
     "solution": false,
     "task": false
    }
   },
   "source": [
    "<a name='ej-3'></a>\n",
    "#### **<font color=\"DodgerBlue\">Ejercicio 3. Implementación del Método de Euler para varias partículas.</font>**\n",
    "\n",
    "<font color=\"DarkBlue\">Tomando en cuenta el algoritmo 2, complete el código siguiente para calcular las trayectorias de $7$ partículas usando como posiciones iniciales los arreglos `px = [0. 0. 0. 0. 0. 0. 0.]` y `py = [-0.4 -0.26666667 -0.13333333 0. 0.13333333 0.26666667 0.4]` calculados anteriormente. Use también los valores `Nt = 10` y `ht = 0.05`.</font>"
   ]
  },
  {
   "cell_type": "code",
   "execution_count": null,
   "id": "79d48379-8170-4bc0-97d2-d9fbf4363f0c",
   "metadata": {
    "deletable": false,
    "nbgrader": {
     "cell_type": "code",
     "checksum": "f8735b59beb60a4d6f28cd92961686fb",
     "grade": false,
     "grade_id": "cell-a61d1936fdb65594",
     "locked": false,
     "schema_version": 3,
     "solution": true,
     "task": false
    }
   },
   "outputs": [],
   "source": [
    "Nt = 10\n",
    "ht = 0.05\n",
    "t = np.zeros((Np, Nt,2))\n",
    "\n",
    "for j in range(0, Np):\n",
    "    t[j, 0, :] = (px[j], py[j]) \n",
    "\n",
    "for j in range(0,Np):\n",
    "    (xi, yi) = t[j, 0, :] # Posición inicial de la trayectoria j\n",
    "    for n in range(1, Nt): # Ciclo para calcular las posiciones\n",
    "        # YOUR CODE HERE\n",
    "        raise NotImplementedError()\n",
    "print(' Número de pasos: {} \\n Paso de tiempo: {} \\n Número de partículas: {}'.format(Nt, ht, Np))"
   ]
  },
  {
   "cell_type": "code",
   "execution_count": null,
   "id": "49e18e97-7589-4c87-9332-63342f2ae78d",
   "metadata": {
    "deletable": false,
    "editable": false,
    "nbgrader": {
     "cell_type": "code",
     "checksum": "690fa40260469de862701baa33cd8d68",
     "grade": false,
     "grade_id": "cell-39df530d0fb71975",
     "locked": true,
     "schema_version": 3,
     "solution": false,
     "task": false
    }
   },
   "outputs": [],
   "source": [
    "ȩ.verifica(t, 3)"
   ]
  },
  {
   "cell_type": "code",
   "execution_count": null,
   "id": "2f3ac784-a896-47ac-9b66-cca8ebdb2f56",
   "metadata": {
    "deletable": false,
    "editable": false,
    "nbgrader": {
     "cell_type": "code",
     "checksum": "7c7d0eaeb1177f2f3d4525087de281ed",
     "grade": false,
     "grade_id": "cell-d40352c028261041",
     "locked": true,
     "schema_version": 3,
     "solution": false,
     "task": false
    }
   },
   "outputs": [],
   "source": [
    "# Graficación de todas las trayectorias y del flujo\n",
    "for j in range(Np):\n",
    "    plt.scatter(t[j,:,0], t[j,:,1],  ec='k', s=50, alpha=0.75, zorder=5)\n",
    "    plt.plot(t[j,:,0], t[j,:,1],'-', lw=1.0)\n",
    "plt.plot(t[:,:,0], t[:,:,1], '-k', lw=0.75)\n",
    "plotFlujo(xg, yg, u, v, 'quiver', 'Flujo de Poiseuille')"
   ]
  },
  {
   "cell_type": "markdown",
   "id": "70194c4d-9aef-4308-afe0-df2db4733358",
   "metadata": {
    "deletable": false,
    "editable": false,
    "nbgrader": {
     "cell_type": "markdown",
     "checksum": "892886b3c19f6486375c24b2cbcf5c19",
     "grade": false,
     "grade_id": "cell-89a118d62170c4f9",
     "locked": true,
     "schema_version": 3,
     "solution": false,
     "task": false
    }
   },
   "source": [
    "<a name='ej-4'></a>\n",
    "#### **<font color=\"DodgerBlue\">Ejercicio 4. Interactivo.</font>**\n",
    "\n",
    "- <font color=\"DarkBlue\">Ejecute la siguiente celda para obtener un simulador en donde puede variar algunos parámetros para graficar un flujo y las trayectorias de varias partículas.</font>\n",
    "- <font color=\"DarkBlue\">Revise la sección [Problemas de valor inicial.](#4) y posteriormente realice abra el cuaderno <a href=\"DecaimientoRadioactivo.ipynb\">DecaimientoRadioactivo.ipynb</a> y realice los ejercicios que ahí se piden.</font> \n",
    "- <font color=\"DarkBlue\">Posteriormente responda las preguntas en el *quiz* **Método de Euler para la solución de un PVI** en Moodle.</font> \n"
   ]
  },
  {
   "cell_type": "code",
   "execution_count": null,
   "id": "30a5d6cf-6276-436c-ad76-8ee8fe708b99",
   "metadata": {
    "deletable": false,
    "editable": false,
    "nbgrader": {
     "cell_type": "code",
     "checksum": "33f7ec00c31dd5bda78c41b395245fe4",
     "grade": false,
     "grade_id": "cell-4c31970573003e09",
     "locked": true,
     "schema_version": 3,
     "solution": false,
     "task": false
    }
   },
   "outputs": [],
   "source": [
    "%run \"../utils/src/zFlujo_interactive.ipynb\""
   ]
  },
  {
   "cell_type": "markdown",
   "id": "fedd64a6-4a0f-4ee1-bfba-72361d46f9f0",
   "metadata": {
    "deletable": false,
    "editable": false,
    "nbgrader": {
     "cell_type": "markdown",
     "checksum": "da3f746a4603e171d6fb420a1b6f8d26",
     "grade": false,
     "grade_id": "cell-484c8ecd84e4323f",
     "locked": true,
     "schema_version": 3,
     "solution": false,
     "task": false
    }
   },
   "source": [
    "<a name='4'></a>\n",
    "## Problema de Valor Inicial (PVI)\n",
    "El problema de calcular la posición $x_f$ a partir de una posición inicial $x_i$, una velocidad $v$ y un paso de tiempo $t$, se puede escribir en términos de un problema de valor inicial bien planteado (PVI). \n",
    "\n",
    "Sabemos que la velocidad es el cambio de la posición con respecto al tiempo, es decir: \n",
    "\n",
    "$$v(x,t) = \\dfrac{d x}{d t}$$\n",
    "\n",
    "Entonces, en términos de un PVI, el cálculo de la posición $x$ se puede escribir como sigue:\n",
    "\n",
    "Aproximar $x(t)$ al problema:\n",
    "$$\n",
    "\\begin{eqnarray}\n",
    "\\dfrac{d x}{d t} & = & v(t, x) \\qquad \\text{ para }  t \\in [0,T_{max}] \\\\\n",
    "x(t=0) & = & x_i \\qquad \\text{(posición inicial)}\n",
    "\\end{eqnarray}\n",
    "$$"
   ]
  },
  {
   "cell_type": "markdown",
   "id": "cc47b0f6-73ff-4aac-a718-3021b79bb782",
   "metadata": {
    "deletable": false,
    "editable": false,
    "nbgrader": {
     "cell_type": "markdown",
     "checksum": "d4a4d84dd1c1658bcb079ffd99a37403",
     "grade": false,
     "grade_id": "cell-1faaa02c46723368",
     "locked": true,
     "schema_version": 3,
     "solution": false,
     "task": false
    }
   },
   "source": [
    "En general, en un PVI se busca la solución de una ecuación diferencial ordinaria, en donde se debe satisfacer una condición inicial y se expresa como sigue:\n",
    "\n",
    "---\n",
    "Aproximar $y(t)$ al problema:\n",
    "$$\n",
    "\\begin{eqnarray}\n",
    "\\dfrac{d y}{d t} & = & f(t, y) \\qquad \\text{ para } a < t < b \\\\\n",
    "y(t=a) & = & \\alpha \\qquad \\text{(condición inicial)}\n",
    "\\end{eqnarray}\n",
    "$$\n",
    "\n",
    "donde la función $f(t,y)$ debe satisfacer ciertas condiciones de continuidad para que exista una solución $y(t)$ única.\n",
    "\n",
    "---"
   ]
  },
  {
   "cell_type": "markdown",
   "id": "4320cc9a-dbd8-430d-98ae-632f34498026",
   "metadata": {
    "deletable": false,
    "editable": false,
    "nbgrader": {
     "cell_type": "markdown",
     "checksum": "169c9a07faeea6993d2309173dc02915",
     "grade": false,
     "grade_id": "cell-f0162515b3cd0503",
     "locked": true,
     "schema_version": 3,
     "solution": false,
     "task": false
    }
   },
   "source": [
    "<a name='5'></a>\n",
    "## Deducción del método de Euler (hacia adelante)\n",
    "\n",
    "El método de Euler (hacia adelante) permite obtener soluciones aproximadas a un PVI, es decir una aproximación a la función $y(t)$. Para obtener este método definimos lo siguiente:\n",
    "* $N_t$: número de pasos de tiempo igualmente espaciados en $[a,b]$.\n",
    "* Tamaño de paso: $h_t = \\dfrac{(b−a)}{N_t}$.\n",
    "* Pasos de tiempo: $t_n = a + n ∗h_t$ para $n = 0,1,...,N_t$.\n",
    "\n",
    "Supongamos que el PVI tiene una solución única $y(t)$ y que además tiene al menos dos derivadas continuas en $[a,b],$ de tal manera que para cada $n = 0,1,2, \\dots , N_t-1$ tenemos la siguiente expansión en series de Taylor:\n",
    "\n",
    "$$\n",
    "y(t_{n+1}) = y(t_n) + (t_{n+1} - t_n)  \\dfrac{d y}{d t} (t_n) + \\dfrac{(t_{n+1} - t_n)^2}{2} \\dfrac{d^2 y}{d t^2} (\\xi_n)\n",
    "$$\n",
    "\n",
    "para algún número $\\xi_n \\in (t_n - t_{n+1})$.\n",
    "\n",
    "Dado que $y(t)$ satisface la ecuación diferencial del PVI y como $h_t = (t_{n+1} - t_n) $ entonces podemos escribir:\n",
    "\n",
    "$$\n",
    "\\begin{equation}\n",
    "y(t_{n+1}) = y(t_n) + h_t  \\, f(t_n, y(t_n)) + \\dfrac{h_t^2}{2} y^{\\prime \\prime} (\\xi_n)\n",
    "\\end{equation}\n",
    "$$\n",
    "\n",
    "El método de Euler hacia adelante (*forward*) consiste en eliminar el último término de la ecuación anterior de tal manera que, definiendo $y_n \\equiv y(t_n)$ tenemos lo siguiente\n",
    "\n",
    "$$\n",
    "\\begin{eqnarray}\n",
    "y_0 & = & y(a) = \\alpha \\qquad \\text{(condición inicial)}\\nonumber \\\\\n",
    "y_{n+1} & = & y_n + h_t \\, f(t_n, y_n), \\text{ para } n = 0,1,2, \\dots, N_t - 1 \\tag{2}\n",
    "\\end{eqnarray}\n",
    "$$\n",
    "\n",
    "La ecuación ($2$) proporciona una aproximación a la solución del PVI en el paso $t_{n+1}$ y se conoce como la ecuación en diferencias.\n",
    "\n",
    "Este método:\n",
    "\n",
    "* Calcula una aproximación a la solución de primer orden: $\\mathcal{O}(h_t)$\n",
    "* Es explícito.\n",
    "* Es barato.\n",
    "* Es fácil de implementar.\n",
    "* Es condicionalmente estable."
   ]
  },
  {
   "cell_type": "code",
   "execution_count": null,
   "id": "9d434bef-67ae-4f16-b510-f4c8d327a947",
   "metadata": {},
   "outputs": [],
   "source": []
  }
 ],
 "metadata": {
  "kernelspec": {
   "display_name": "Python 3 (ipykernel)",
   "language": "python",
   "name": "python3"
  },
  "language_info": {
   "codemirror_mode": {
    "name": "ipython",
    "version": 3
   },
   "file_extension": ".py",
   "mimetype": "text/x-python",
   "name": "python",
   "nbconvert_exporter": "python",
   "pygments_lexer": "ipython3",
   "version": "3.9.7"
  }
 },
 "nbformat": 4,
 "nbformat_minor": 5
}
