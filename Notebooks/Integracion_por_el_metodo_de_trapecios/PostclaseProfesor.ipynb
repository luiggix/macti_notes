{
 "cells": [
  {
   "cell_type": "markdown",
   "metadata": {
    "id": "7RsGpE5Yqgsz",
    "nbgrader": {
     "grade": false,
     "grade_id": "cell-9d55628bae4aef9a",
     "locked": true,
     "schema_version": 3,
     "solution": false,
     "task": false
    }
   },
   "source": [
    "<font color=\"Teal\" face=\"Comic Sans MS,arial\">\n",
    "  <h1 align=\"center\"><i>Proyecto final (métodos de integración)</i></h1>\n",
    "</font>"
   ]
  },
  {
   "cell_type": "markdown",
   "metadata": {
    "nbgrader": {
     "grade": false,
     "grade_id": "cell-ebf53b2873c7e622",
     "locked": true,
     "schema_version": 3,
     "solution": false,
     "task": false
    }
   },
   "source": [
    "# Cuadratura del trapecio\n",
    "\n",
    "**Objetivos generales**\n",
    "- Usar el pensamiento computacional para calcular los beneficios y supervivencia de una población \n",
    "aplicando el método del trapecio y trapecio compuesto para resolver las integrales.\n",
    "\n",
    "**Objetivos particulares**\n",
    "- Se plantearan dos problemas, el estudiante debe realizar ambos problemas cada uno con sus respectivas partes.\n",
    "\n",
    "## Contenido\n",
    "- [1 - Beneficios (ingresos contra costos).](#1)\n",
    "    - [1.1 - Parte A)](#1-A)\n",
    "    - [1.2 - Parte B)](#1-B)\n",
    "    - [1.2 - Parte C)](#1-C)\n",
    "- [2 - Función de supervivencia.](#2)\n",
    "    - [2.1 - Parte A)](#2-A)\n",
    "    - [2.2 - Parte B)](#2-B)"
   ]
  },
  {
   "cell_type": "markdown",
   "metadata": {
    "id": "ItctgPYHasHv",
    "nbgrader": {
     "grade": false,
     "grade_id": "cell-942a54ac4ba9d147",
     "locked": true,
     "schema_version": 3,
     "solution": false,
     "task": false
    }
   },
   "source": [
    "<a name='1'></a>\n",
    "# Beneficios (ingresos contra costos)\n",
    "\n",
    "La integración se utiliza en administración y economía para determinar el beneficio total o las ganancias netas totales. En general, se maximiza el beneficio (suponiendo libre competencia) cuando el ingreso marginal es igual al costo marginal. El beneficio total se determina integrando la diferencia entre el ingreso marginal y el costo marginal, desde cero hasta la cantidad\n",
    "$x_{T}$ para la cual el beneficio es máximo, es decir:\n",
    "\n",
    "$$ G(x)=∫_{0}^{x_{T}} (R(x)-Q(x))dx,$$\n",
    "\n",
    "donde $G(x)$ es el beneficio maximo, $R(x)$ es el ingreso marginal y $Q(x)$ el costo marginal.\n",
    "\n",
    "\n",
    "\n",
    "\n"
   ]
  },
  {
   "cell_type": "markdown",
   "metadata": {
    "id": "aRKeHHlA5tHY",
    "nbgrader": {
     "grade": false,
     "grade_id": "cell-2794adfbf23eabf6",
     "locked": true,
     "schema_version": 3,
     "solution": false,
     "task": false
    }
   },
   "source": [
    "<a name='1-A'></a>\n",
    "## Parte A)\n",
    "\n",
    "Una pequeña nueva empresa a creado un producto el cual su ingreso marginal es constante ($R(x)=650$) y el costo marginal esta ligado de manera lineal creciente al numero de productos elaborados ($Q(x)=32x+92$).\n",
    "\n",
    "1.   Generar un código en *python* para resolverlo por el método de trapecio y trapecios compuestos cuando se produce de 0 a 18 productos, utilizando $N=10$ como el numero de trapecios.. \n",
    "\n",
    "2.   Argumenta los resultados obtenidos, ¿Que se puede concluir? ¿Es necesario el método computacional? ¿Cambia el resultado si aumentamos el numero de trapecios?\n"
   ]
  },
  {
   "cell_type": "code",
   "execution_count": null,
   "metadata": {
    "id": "7BTmqLdRruUO",
    "nbgrader": {
     "grade": false,
     "grade_id": "cell-cfe70cfcc8d64b1c",
     "locked": false,
     "schema_version": 3,
     "solution": true,
     "task": false
    }
   },
   "outputs": [],
   "source": [
    "import numpy as np\n",
    "import evaluacion\n",
    "## Para resolver el problema es necesario proceder de la siguiente manera, respondiendo a la estructura generada.\n",
    "## El primer paso es definir las variables a utilizar.\n",
    "# N los puntos que se usaran para integrar\n",
    "n = 10\n",
    "# a punto inicial del intervalo\n",
    "a = 0\n",
    "# b punto final del intervalo, intenta definir la variable\n",
    "### BEGIN SOLUTION\n",
    "b = 18\n",
    "### END SOLUTION\n",
    "# f funcion a integrar\n",
    "def fun(x):\n",
    "    return 650-32*x-92\n",
    "# x[i] sera nuestro vector con las respectivas entradas para cada aumento en el recorrido de la integral\n",
    "x=np.linspace(a,b,n+1)\n",
    "#Nota np.linspace es una funcion que nos regresa un arreglo [a,b] dividido en (n+1) partes iguales."
   ]
  },
  {
   "cell_type": "markdown",
   "metadata": {
    "id": "7RTCjsoiEvrD",
    "nbgrader": {
     "grade": false,
     "grade_id": "cell-b5aa91eda08eb5f9",
     "locked": true,
     "schema_version": 3,
     "solution": false,
     "task": false
    }
   },
   "source": [
    "Con todas las variables ya definidas, pasaremos a hacer los cálculos y operaciones correspondientes, comenzaremos con el método del trapecio simple y después el compuesto."
   ]
  },
  {
   "cell_type": "code",
   "execution_count": null,
   "metadata": {
    "colab": {
     "base_uri": "https://localhost:8080/"
    },
    "id": "AubCURMDE_Tt",
    "nbgrader": {
     "grade": false,
     "grade_id": "cell-3f17cd579cbf794a",
     "locked": false,
     "schema_version": 3,
     "solution": true,
     "task": false
    },
    "outputId": "e8557872-bf52-4a7b-c3d9-27b6ff7c8425"
   },
   "outputs": [],
   "source": [
    "## Pare el metodo del trapecio tenemos que la integral tendra el valor del area del trapecio, para ello definimos una función.\n",
    "\n",
    "def Trapecio(a, b, f):\n",
    "    ## define el valor de la integral para el trapecio, la respuesta debe estar en forma \"integral = (b-a)...\"\n",
    "    ### BEGIN SOLUTION\n",
    "    integral = ((b - a) / 2) * (f(a) + f(b)) # Trapecio\n",
    "    ### END SOLUTION\n",
    "    print(\"El valor de la integral mediante el metodo de cuadratura del trapecio es: {}\".format(integral))\n",
    "    return integral"
   ]
  },
  {
   "cell_type": "code",
   "execution_count": null,
   "metadata": {},
   "outputs": [],
   "source": [
    "evaluacion.verifica(Trapecio(a, b, fun), np.trapz([fun(a), fun(b)], x = [a, b]))"
   ]
  },
  {
   "cell_type": "markdown",
   "metadata": {
    "id": "Z3578Q55HEV_",
    "nbgrader": {
     "grade": false,
     "grade_id": "cell-c8384190328f9ea9",
     "locked": true,
     "schema_version": 3,
     "solution": false,
     "task": false
    }
   },
   "source": [
    "Para el caso del trapecio compuesto tenemos que:"
   ]
  },
  {
   "cell_type": "code",
   "execution_count": null,
   "metadata": {
    "colab": {
     "base_uri": "https://localhost:8080/"
    },
    "id": "xSYS7rXJHIrD",
    "nbgrader": {
     "grade": false,
     "grade_id": "cell-237f9ca6101dcabc",
     "locked": false,
     "schema_version": 3,
     "solution": true,
     "task": false
    },
    "outputId": "396d403b-76c3-49d2-e7e0-57ce0b8af57b"
   },
   "outputs": [],
   "source": [
    "## Para el trapecio compuesto generamos la siguiente función\n",
    "\n",
    "def TrapecioCompuesto(a, b, x, f):\n",
    "    cuadratura = 0.0\n",
    "    #Recordemos que la longitud de arreglo x, marca el en cuantos trapecios compuestos utilizamos\n",
    "    for i in range (1,len(x)-1):\n",
    "        ### Define que debemos sumar en la cuadratura, formato cuadratura+=...\n",
    "        ### BEGIN SOLUTION\n",
    "        cuadratura+=f( x[i])\n",
    "        ### END SOLUTION\n",
    "\n",
    "    integralCompuesta=((b-a)/(2*n))*(2*cuadratura+f(a)+f(b))\n",
    "    print(\"el valor de la integral mediante el metodo del Trapecio es: {}\".format(integralCompuesta))\n",
    "\n",
    "##Lamamos a la función\n",
    "TrapecioCompuesto(a, b, x, fun)"
   ]
  },
  {
   "cell_type": "markdown",
   "metadata": {
    "id": "SqElNDkfjUl0",
    "nbgrader": {
     "grade": false,
     "grade_id": "cell-a199686ba10637a6",
     "locked": true,
     "schema_version": 3,
     "solution": false,
     "task": false
    }
   },
   "source": [
    "<a name='1-B'></a>\n",
    "## Parte B)\n",
    "\n",
    "Si ahora el ingreso marginal se comporta de manera logarítmica ($R(x)=600$ $ln(x)$).\n",
    "\n",
    "1.   Resuelve para el caso de $1$ a $18$ utilizando el código generado anteriormente con $N=10$.\n",
    "2.   Ahora utilizando $N=1000$ para el caso de $1$ a $90$ y $1$ a $80$ productos.\n",
    "3.   Analice el código y responda a las siguientes preguntas, ¿la función logaritmo genera algún problema? ¿Los resultados obtenidos para los diferentes intervalos, que se puede concluir al respecto?\n"
   ]
  },
  {
   "cell_type": "code",
   "execution_count": null,
   "metadata": {
    "colab": {
     "base_uri": "https://localhost:8080/"
    },
    "id": "OIPJqrZCViyJ",
    "nbgrader": {
     "grade": false,
     "grade_id": "cell-7ebc25e4fe7dc7a4",
     "locked": false,
     "schema_version": 3,
     "solution": true,
     "task": false
    },
    "outputId": "b2b77a56-1f5c-4384-b190-e51782e01842"
   },
   "outputs": [],
   "source": [
    "## Solo es necesario redefinir la funcion f como:\n",
    "import math\n",
    "#Utilizando \"fB\" como la nueva funcion, define una nueva para el problema\n",
    "### BEGIN SOLUTION\n",
    "def fB(x):\n",
    "    return 600*math.log(x)-32*x-92\n",
    "### END SOLUTION\n",
    "## Llamar de nuevo a la funcion creada:\n",
    "TrapecioCompuesto(1, 18, x, fB)\n",
    "## Redefiniendo el tamaño de x, para las variaciones mas pequeñas para el caso 1 a 80\n",
    "x=np.linspace(1,80,1000+1)\n",
    "TrapecioCompuesto(1, 80, x, fB)\n",
    "## Redefiniendo el tamaño de x, para las variaciones mas pequeñas para el caso 1 a 90\n",
    "x=np.linspace(1,90,1000+1)\n",
    "TrapecioCompuesto(1, 90, x, fB)"
   ]
  },
  {
   "cell_type": "markdown",
   "metadata": {
    "id": "_GIP_mhe5jOf",
    "nbgrader": {
     "grade": false,
     "grade_id": "cell-f60f4a71832eace9",
     "locked": true,
     "schema_version": 3,
     "solution": false,
     "task": false
    }
   },
   "source": [
    "<a name='1-C'></a>\n",
    "## Parte C)\n",
    "\n",
    "Para analizar un ingreso marginal se ha realizado un ajuste de polinomios, obteniendo que $R(x)=35.67+15.58x-7.25x^2+2.32x^3$, el cambio en el costo marginal pasa a ser $Q(x)=3200x+92$.\n",
    "\n",
    "1. Calcula el beneficio para el intervalo de $1$ a $40$ y $1$ a $1000$\n",
    "2. Si ahora se agrega un termino un termino cuadrático al costo marginal del orden $100x^2$"
   ]
  },
  {
   "cell_type": "code",
   "execution_count": null,
   "metadata": {
    "colab": {
     "base_uri": "https://localhost:8080/"
    },
    "id": "k6L24vZZcYSE",
    "nbgrader": {
     "grade": false,
     "grade_id": "cell-a70b71e9856f24f0",
     "locked": false,
     "schema_version": 3,
     "solution": true,
     "task": false
    },
    "outputId": "a99f3055-4e6b-4b6d-c949-7b616ca05859"
   },
   "outputs": [],
   "source": [
    "## Definimos una nueva función\n",
    "def fC(x):\n",
    "    return 35.67+15.58*x-7.25*x*x+2.32*x*x*x-3200*x-92\n",
    "x=np.linspace(1,40,100+1)\n",
    "TrapecioCompuesto(1, 40, x, fC)\n",
    "\n",
    "## Caso de 1000\n",
    "# Redefine el vector x, para un intervalo de 1 a 1000, dividido en 1001 partes\n",
    "### BEGIN SOLUTION\n",
    "x=np.linspace(1,1000,1000+1)\n",
    "### END SOLUTION\n",
    "TrapecioCompuesto(1, 1000, x, fC)\n"
   ]
  },
  {
   "cell_type": "markdown",
   "metadata": {
    "id": "NdDfY7e0hFd3",
    "nbgrader": {
     "grade": false,
     "grade_id": "cell-2552f05d06bde7ba",
     "locked": true,
     "schema_version": 3,
     "solution": false,
     "task": false
    }
   },
   "source": [
    "<a name='2'></a>\n",
    "# Función de supervivencia\n",
    "\n",
    "Sea $x$ la edad, en años enteros, de un ente (individuo, empresa, máquina, etc.), es decir, $x = 0, 1, 2, . . .$ y consideremos un ente recién nacido (recién creada, recién comprada, etc.) al cual le asociamos la variable aleatoria $ϵ$ que representa la edad de fallecimiento (quiebra, daño, etc.) del ente considerado. Si $F(x)$ es la distribución de probabilidad acumulada (i.e. $F (x) = P(ϵ ≤ x, x ≥ 0))$, definimos la función de supervivencia de $x$ por\n",
    "\n",
    "$$ S(x) = 1 − F (x),$$\n",
    "\n",
    "es decir $S(x) = P (ϵ > x)$ es la probabilidad de que el ente llegue con vida a la edad $x$.\n",
    "\n",
    "la cual cumple con las siguientes propiedades\n",
    "\n",
    "*   La distribución de $ϵ$ queda completamente determinada por $F (x)$\n",
    "o $S(x)$.\n",
    "*   $S(x)$ es una función monótona decreciente.\n",
    "*   $S(0) = 1$.\n",
    "*   $lim_{x→∞} S(x) = 0.$ \n",
    "\n",
    "Ademas se deben cumplir que exista una función $f(x)$ que satisfaga que\n",
    "\n",
    "$$S(x)=∫_t^{∞}f(x)dx$$\n",
    "\n",
    "la función de riesgo esta definida como:\n",
    "\n",
    "$$h(x)=\\frac{f(x)}{S(x)}$$\n",
    "\n",
    " y el rieso acumulado esta dado por:\n",
    "\n",
    " $$H(x)=∫_t^{∞}f(x)dx$$"
   ]
  },
  {
   "cell_type": "markdown",
   "metadata": {
    "id": "zFtfdxh5xELo",
    "nbgrader": {
     "grade": false,
     "grade_id": "cell-68605bdbd1ad6c20",
     "locked": true,
     "schema_version": 3,
     "solution": false,
     "task": false
    }
   },
   "source": [
    "<a name='2-A'></a>\n",
    "## Parte A)\n",
    "\n",
    "Utilizando de función de supervivencia de la distribución Weibull $S(x)=e^{-𝜆t^{γ}}$\n",
    "\n",
    "1. Demuestra las cuatro propiedades.\n",
    "2. Calcula el riesgo acumulado para un intervalo de $[0, 50]$, utilizando $𝛌=2$ y $γ=3$\n",
    "3. Analiza los resultados obtenidos, ¿Si se deseara generar un seguro de vida, valdría la pena?"
   ]
  },
  {
   "cell_type": "code",
   "execution_count": null,
   "metadata": {
    "colab": {
     "base_uri": "https://localhost:8080/"
    },
    "id": "kk8rcyrU5vtZ",
    "outputId": "63c94189-3f98-48fd-e3ca-80d744176ffd"
   },
   "outputs": [],
   "source": [
    "## Definimos una nueva función\n",
    "def fsa(x):\n",
    "    return 6*x*x\n",
    "x=np.linspace(1,50,100+1)\n",
    "TrapecioCompuesto(1, 50, x, fsa)"
   ]
  },
  {
   "cell_type": "markdown",
   "metadata": {
    "id": "RD5C_68AxFnw",
    "nbgrader": {
     "grade": false,
     "grade_id": "cell-c113d4ad4baa0c15",
     "locked": true,
     "schema_version": 3,
     "solution": false,
     "task": false
    }
   },
   "source": [
    "<a name='2-B'></a>\n",
    "## Parte B)\n",
    "\n",
    "Una distribución diferente es la $log$ normal, para la cual tenemos que $f(x)$ es:\n",
    "\n",
    "$$ f(x) = \\frac{1}{\\sqrt{2\\pi \\sigma^2 }x}exp\\bigg({-\\frac{(log(x) − μ)^2}{2\\sigma^2}}\\bigg)$$\n",
    "\n",
    "1. Obtener $S(x)$\n",
    "2. Calcular $h(x)$\n",
    "3. Calcular el riesgo acumulado $H(x)$, en el rango de $[0, 60]$ utilizando $μ=21.3$ y $σ=2.2$"
   ]
  }
 ],
 "metadata": {
  "celltoolbar": "Create Assignment",
  "colab": {
   "collapsed_sections": [],
   "name": "ProyectoFinalProfesor.ipynb",
   "provenance": [],
   "toc_visible": true
  },
  "kernelspec": {
   "display_name": "Python 3 (ipykernel)",
   "language": "python",
   "name": "python3"
  },
  "language_info": {
   "codemirror_mode": {
    "name": "ipython",
    "version": 3
   },
   "file_extension": ".py",
   "mimetype": "text/x-python",
   "name": "python",
   "nbconvert_exporter": "python",
   "pygments_lexer": "ipython3",
   "version": "3.9.7"
  },
  "widgets": {
   "application/vnd.jupyter.widget-state+json": {
    "0bae7992c6f24c38a5d4a8975a663e63": {
     "model_module": "@jupyter-widgets/controls",
     "model_module_version": "1.5.0",
     "model_name": "IntSliderModel",
     "state": {
      "_dom_classes": [],
      "_model_module": "@jupyter-widgets/controls",
      "_model_module_version": "1.5.0",
      "_model_name": "IntSliderModel",
      "_view_count": null,
      "_view_module": "@jupyter-widgets/controls",
      "_view_module_version": "1.5.0",
      "_view_name": "IntSliderView",
      "continuous_update": true,
      "description": "n",
      "description_tooltip": null,
      "disabled": false,
      "layout": "IPY_MODEL_c62dfae6f9fc4c7faeb95174f5a4d6cb",
      "max": 30,
      "min": 1,
      "orientation": "horizontal",
      "readout": true,
      "readout_format": "d",
      "step": 1,
      "style": "IPY_MODEL_2c64a5ed689e484a86cd7af8f7b9e310",
      "value": 1
     }
    },
    "2c64a5ed689e484a86cd7af8f7b9e310": {
     "model_module": "@jupyter-widgets/controls",
     "model_module_version": "1.5.0",
     "model_name": "SliderStyleModel",
     "state": {
      "_model_module": "@jupyter-widgets/controls",
      "_model_module_version": "1.5.0",
      "_model_name": "SliderStyleModel",
      "_view_count": null,
      "_view_module": "@jupyter-widgets/base",
      "_view_module_version": "1.2.0",
      "_view_name": "StyleView",
      "description_width": "",
      "handle_color": null
     }
    },
    "3db7b205b2824c5cab5a2c83c0844a68": {
     "model_module": "@jupyter-widgets/base",
     "model_module_version": "1.2.0",
     "model_name": "LayoutModel",
     "state": {
      "_model_module": "@jupyter-widgets/base",
      "_model_module_version": "1.2.0",
      "_model_name": "LayoutModel",
      "_view_count": null,
      "_view_module": "@jupyter-widgets/base",
      "_view_module_version": "1.2.0",
      "_view_name": "LayoutView",
      "align_content": null,
      "align_items": null,
      "align_self": null,
      "border": null,
      "bottom": null,
      "display": null,
      "flex": null,
      "flex_flow": null,
      "grid_area": null,
      "grid_auto_columns": null,
      "grid_auto_flow": null,
      "grid_auto_rows": null,
      "grid_column": null,
      "grid_gap": null,
      "grid_row": null,
      "grid_template_areas": null,
      "grid_template_columns": null,
      "grid_template_rows": null,
      "height": null,
      "justify_content": null,
      "justify_items": null,
      "left": null,
      "margin": null,
      "max_height": null,
      "max_width": null,
      "min_height": null,
      "min_width": null,
      "object_fit": null,
      "object_position": null,
      "order": null,
      "overflow": null,
      "overflow_x": null,
      "overflow_y": null,
      "padding": null,
      "right": null,
      "top": null,
      "visibility": null,
      "width": null
     }
    },
    "7e550c7f14e2438dab3ff148c97b01a7": {
     "model_module": "@jupyter-widgets/controls",
     "model_module_version": "1.5.0",
     "model_name": "VBoxModel",
     "state": {
      "_dom_classes": [
       "widget-interact"
      ],
      "_model_module": "@jupyter-widgets/controls",
      "_model_module_version": "1.5.0",
      "_model_name": "VBoxModel",
      "_view_count": null,
      "_view_module": "@jupyter-widgets/controls",
      "_view_module_version": "1.5.0",
      "_view_name": "VBoxView",
      "box_style": "",
      "children": [
       "IPY_MODEL_0bae7992c6f24c38a5d4a8975a663e63",
       "IPY_MODEL_bcd965c50aa54be08049be823740c0d9"
      ],
      "layout": "IPY_MODEL_bc80da0e6ce747288e6e5d0c9aca3e0e"
     }
    },
    "bc80da0e6ce747288e6e5d0c9aca3e0e": {
     "model_module": "@jupyter-widgets/base",
     "model_module_version": "1.2.0",
     "model_name": "LayoutModel",
     "state": {
      "_model_module": "@jupyter-widgets/base",
      "_model_module_version": "1.2.0",
      "_model_name": "LayoutModel",
      "_view_count": null,
      "_view_module": "@jupyter-widgets/base",
      "_view_module_version": "1.2.0",
      "_view_name": "LayoutView",
      "align_content": null,
      "align_items": null,
      "align_self": null,
      "border": null,
      "bottom": null,
      "display": null,
      "flex": null,
      "flex_flow": null,
      "grid_area": null,
      "grid_auto_columns": null,
      "grid_auto_flow": null,
      "grid_auto_rows": null,
      "grid_column": null,
      "grid_gap": null,
      "grid_row": null,
      "grid_template_areas": null,
      "grid_template_columns": null,
      "grid_template_rows": null,
      "height": null,
      "justify_content": null,
      "justify_items": null,
      "left": null,
      "margin": null,
      "max_height": null,
      "max_width": null,
      "min_height": null,
      "min_width": null,
      "object_fit": null,
      "object_position": null,
      "order": null,
      "overflow": null,
      "overflow_x": null,
      "overflow_y": null,
      "padding": null,
      "right": null,
      "top": null,
      "visibility": null,
      "width": null
     }
    },
    "bcd965c50aa54be08049be823740c0d9": {
     "model_module": "@jupyter-widgets/output",
     "model_module_version": "1.0.0",
     "model_name": "OutputModel",
     "state": {
      "_dom_classes": [],
      "_model_module": "@jupyter-widgets/output",
      "_model_module_version": "1.0.0",
      "_model_name": "OutputModel",
      "_view_count": null,
      "_view_module": "@jupyter-widgets/output",
      "_view_module_version": "1.0.0",
      "_view_name": "OutputView",
      "layout": "IPY_MODEL_3db7b205b2824c5cab5a2c83c0844a68",
      "msg_id": "",
      "outputs": [
       {
        "name": "stdout",
        "output_type": "stream",
        "text": [
         "el valor de la integral mediante el metodo del Trapecio es: 0.5\n"
        ]
       },
       {
        "data": {
         "image/png": "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\n",
         "text/plain": "<Figure size 432x288 with 1 Axes>"
        },
        "metadata": {
         "needs_background": "light"
        },
        "output_type": "display_data"
       }
      ]
     }
    },
    "c62dfae6f9fc4c7faeb95174f5a4d6cb": {
     "model_module": "@jupyter-widgets/base",
     "model_module_version": "1.2.0",
     "model_name": "LayoutModel",
     "state": {
      "_model_module": "@jupyter-widgets/base",
      "_model_module_version": "1.2.0",
      "_model_name": "LayoutModel",
      "_view_count": null,
      "_view_module": "@jupyter-widgets/base",
      "_view_module_version": "1.2.0",
      "_view_name": "LayoutView",
      "align_content": null,
      "align_items": null,
      "align_self": null,
      "border": null,
      "bottom": null,
      "display": null,
      "flex": null,
      "flex_flow": null,
      "grid_area": null,
      "grid_auto_columns": null,
      "grid_auto_flow": null,
      "grid_auto_rows": null,
      "grid_column": null,
      "grid_gap": null,
      "grid_row": null,
      "grid_template_areas": null,
      "grid_template_columns": null,
      "grid_template_rows": null,
      "height": null,
      "justify_content": null,
      "justify_items": null,
      "left": null,
      "margin": null,
      "max_height": null,
      "max_width": null,
      "min_height": null,
      "min_width": null,
      "object_fit": null,
      "object_position": null,
      "order": null,
      "overflow": null,
      "overflow_x": null,
      "overflow_y": null,
      "padding": null,
      "right": null,
      "top": null,
      "visibility": null,
      "width": null
     }
    }
   }
  }
 },
 "nbformat": 4,
 "nbformat_minor": 1
}
