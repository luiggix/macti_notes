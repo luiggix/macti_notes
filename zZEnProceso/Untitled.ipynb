{
 "cells": [
  {
   "cell_type": "code",
   "execution_count": 2,
   "id": "32268157-128d-4a91-bd47-29a74929764c",
   "metadata": {},
   "outputs": [],
   "source": [
    "import numpy as np\n",
    "import matplotlib.pyplot as plt\n",
    "import macti.visual as mvis"
   ]
  },
  {
   "cell_type": "markdown",
   "id": "83fdef2a-8d5f-477b-843b-d4b583d42206",
   "metadata": {},
   "source": [
    "# Aproximación\n",
    "\n",
    "Aproximar $e$ hasta 6 dígitos decimales.\n",
    "\n",
    "Para hacer esta aproximación, recordemos los siguientes tres resultados teóricos, véase [1] :\n",
    "\n",
    "---\n",
    "Si $p$ es una cantidad que deseamos aproximar mediante un número $q$, decimos que $q$ aproxima a $p$ hasta $k$ lugares decimales si la magnitud de la diferencia no es más grande que $5 \\times 10^{-(k+1)}$, es decir: $\\displaystyle |p - q| \\leq 5 \\times 10^{-(k+1)}$.\n",
    "\n",
    "---\n",
    "Si $|f^{(n+1)}(x)| \\leq M$ en el intervalo $(a-x, a+x)$ entonces el residuo es\n",
    "\n",
    "$\\displaystyle\n",
    "\\boxed{R_n(x) \\leq \\frac{M(x-a)^{n+1}}{(n+1)!}}\n",
    "$\n",
    "\n",
    "---\n",
    "Forma del Residuo de Lagrange:\n",
    "\n",
    "$$\n",
    "R_n(x) = \\frac{f^{(n+1)}(\\xi)}{(n+1)!}(x-a)^{n+1}\n",
    "$$\n",
    "\n",
    "---\n",
    "\n",
    "Con lo anterior en mente, procedamos a realizar la aproximación.\n",
    "\n",
    "Primero escribimos la serie de Taylor de la función $f(x)=e^x$ alrededor de $x=0$:\n",
    "\n",
    "$\\displaystyle\n",
    "T_n(x) = 1 + x + \\frac{x^2}{2!} + \\frac{x^3}{3!} + \\dots + \\frac{x^n}{n!}\n",
    "$\n",
    "\n",
    "Usaremos el intervalo $(0,1)$ para acotar el residuo.\n",
    "\n",
    "Sabemos que:\n",
    "1. $e^0 = 1 = T_n(0)$\n",
    "2. $e^1 = e \\approx T_n(1)$\n",
    "3. $e^\\xi < e^x$ para $0 < \\xi < x$\n",
    "\n",
    "Usando la fórmula del residuo de Lagrange, primero debemos estimar $f^{(n+1)}(\\xi) = e^\\xi$. Hagamos la expansión de Taylor de primer orden alrededor de 0 junto con su residuo:\n",
    "\n",
    "$\\displaystyle\n",
    "e^x  = T_1(x) + R_1(x) = 1 + x + \\frac{e^\\xi}{2!}x^2 \n",
    "$\n",
    "\n",
    "Dado que $e^\\xi < e^x$ para $0 < \\xi < x \\leq 1$ entonces:\n",
    "\n",
    "$\\displaystyle\n",
    "e^x  = 1 + x + \\frac{e^\\xi}{2!}x^2 < 1 + x + \\frac{e^x}{2!}x^2 \n",
    "\\quad \\Longrightarrow \\quad \n",
    "e^x \\leq 1 + x + \\frac{e^x}{2!}x^2 \\quad \\text{para} \\quad 0 \\leq x \\leq 1\n",
    "$\n",
    "\n",
    "de donde obtenemos:\n",
    "\n",
    "$\\displaystyle\n",
    "\\boxed{e^x \\leq \\frac{2 + 2x}{2 - x^2} \\quad \\text{para} \\quad 0 \\leq x \\leq 1 }\n",
    "$\n",
    "\n",
    "Una gráfica de la función $\\displaystyle \\frac{2 + 2x}{2 - x^2}$ se puede ver en la siguiente figura:"
   ]
  },
  {
   "cell_type": "code",
   "execution_count": 3,
   "id": "9d088433-46bc-46f2-a988-53f9aa8cec19",
   "metadata": {},
   "outputs": [
    {
     "data": {
      "image/png": "[encoded data removed]",
      "text/plain": [
       "<Figure size 512x384 with 1 Axes>"
      ]
     },
     "metadata": {},
     "output_type": "display_data"
    }
   ],
   "source": [
    "xe = np.linspace(0,1,20) # Codominio de la función\n",
    "\n",
    "# Graficamos la función\n",
    "plt.plot(xe, (2 + 2*xe) / (2 - xe**2), label='$\\dfrac{2 + 2*x}{2 - x^2}$')\n",
    "plt.plot(xe, np.exp(xe), label='$e^x$')\n",
    "\n",
    "# Configuración de la gráfica\n",
    "plt.xlabel(\"$x$\")\n",
    "plt.ylabel(\"$f(x)$\")\n",
    "plt.legend()\n",
    "plt.show()"
   ]
  },
  {
   "cell_type": "markdown",
   "id": "1a03340a-854f-46ec-bd59-65d0a7d6fb9f",
   "metadata": {},
   "source": [
    "Observamos que $M = 4$ es una cota superior para $f^{(n+1)}(\\xi) = e^\\xi$ con $0 < \\xi < 1$, por lo tanto el residuo es:\n",
    "\n",
    "$\\displaystyle\n",
    "|R_n(x)| \\leq \\frac{M x^{n+1}}{(n+1)!} \\leq \\frac{4}{(n+1)!} \\quad \\text{para} \\quad 0 \\leq x \\leq 1\n",
    "$\n",
    "\n",
    "Como se quiere aproximar con 6 dígitos decimales, entonces debemos encontrar una $n$ que satisfaga la siguiente condición: \n",
    "\n",
    "$\\displaystyle\n",
    "\\frac{4}{(n+1)!} \\leq 5 \\times 10^{-7} \n",
    "$\n",
    "\n",
    "Esto lo hacemos con el siguiente código:"
   ]
  },
  {
   "cell_type": "code",
   "execution_count": 4,
   "id": "30629ccb-4309-4db8-8f5f-673d5a3bb828",
   "metadata": {},
   "outputs": [],
   "source": [
    "import math\n",
    "def calc_n(M, k=1):\n",
    "    \"\"\"\n",
    "    Calcula el grado n de la serie de Taylor necesaria para aproximar la\n",
    "    función e^x hasta k digitos decimales.\n",
    "    \"\"\"\n",
    "    n = 0\n",
    "    v = 1.0\n",
    "    while v > 5.0 * 10**(-(k+1)):\n",
    "        v = M / math.factorial(n+1)\n",
    "        n += 1\n",
    "    return n\n",
    "\n",
    "def Taylor_e(n):\n",
    "    \"\"\"\n",
    "    Calcula el valor de e con un polinomio de Taylor de grado n\n",
    "    \"\"\"\n",
    "    e = 0\n",
    "    for i in range(0,n+1):\n",
    "        e += 1 / math.factorial(i)\n",
    "        print('Polinomio de grado {:3d}. Aproximación : {:2.10f}'.format(i,e))\n",
    "    return e"
   ]
  },
  {
   "cell_type": "code",
   "execution_count": 5,
   "id": "4f150206-8043-4460-8267-961369fe31c3",
   "metadata": {},
   "outputs": [
    {
     "name": "stdout",
     "output_type": "stream",
     "text": [
      "Polinomio de grado   0. Aproximación : 1.0000000000\n",
      "Polinomio de grado   1. Aproximación : 2.0000000000\n",
      "Polinomio de grado   2. Aproximación : 2.5000000000\n",
      "Polinomio de grado   3. Aproximación : 2.6666666667\n",
      "Polinomio de grado   4. Aproximación : 2.7083333333\n",
      "Polinomio de grado   5. Aproximación : 2.7166666667\n",
      "Polinomio de grado   6. Aproximación : 2.7180555556\n",
      "Polinomio de grado   7. Aproximación : 2.7182539683\n",
      "Polinomio de grado   8. Aproximación : 2.7182787698\n",
      "Polinomio de grado   9. Aproximación : 2.7182815256\n",
      "Polinomio de grado  10. Aproximación : 2.7182818011\n",
      "Polinomio de grado  11. Aproximación : 2.7182818262\n"
     ]
    }
   ],
   "source": [
    "e_aprox = Taylor_e(calc_n(4,6))"
   ]
  },
  {
   "cell_type": "code",
   "execution_count": 6,
   "id": "0c518bab-d1c5-4769-a366-34e5fe2a6c85",
   "metadata": {},
   "outputs": [
    {
     "name": "stdout",
     "output_type": "stream",
     "text": [
      "Aproximación final: 2.7182818262\n",
      "Valor de numpy    : 2.7182818285\n",
      "Error de la aprox : 0.0000000023\n"
     ]
    }
   ],
   "source": [
    "print('Aproximación final: {:2.10f}'.format(e_aprox))\n",
    "print('Valor de numpy    : {:2.10f}'.format(np.exp(1)))\n",
    "print('Error de la aprox : {:2.10f}'.format(np.fabs(e_aprox - np.exp(1))))"
   ]
  },
  {
   "cell_type": "code",
   "execution_count": null,
   "id": "64f2df08-ee17-4a8c-9ea2-0018f85de3b1",
   "metadata": {},
   "outputs": [],
   "source": []
  }
 ],
 "metadata": {
  "kernelspec": {
   "display_name": "Python 3 (ipykernel)",
   "language": "python",
   "name": "python3"
  },
  "language_info": {
   "codemirror_mode": {
    "name": "ipython",
    "version": 3
   },
   "file_extension": ".py",
   "mimetype": "text/x-python",
   "name": "python",
   "nbconvert_exporter": "python",
   "pygments_lexer": "ipython3",
   "version": "3.9.7"
  }
 },
 "nbformat": 4,
 "nbformat_minor": 5
}
