{
 "cells": [
  {
   "cell_type": "markdown",
   "id": "1e235bce",
   "metadata": {},
   "source": [
    "# Conduccion de calor \n",
    "\n",
    "##### Claudio Santiago Perez Ruiz"
   ]
  },
  {
   "cell_type": "code",
   "execution_count": 5,
   "id": "f66031e2",
   "metadata": {},
   "outputs": [],
   "source": [
    "import numpy as np\n",
    "import matplotlib.pyplot as plt"
   ]
  },
  {
   "cell_type": "code",
   "execution_count": 8,
   "id": "2159803c",
   "metadata": {},
   "outputs": [],
   "source": [
    "def conduccion(k, S, L, Ta, Tb, N):\n",
    "    \n",
    "    \n",
    "    \n",
    "    \"\"\"\n",
    "    Parametros\n",
    "    \n",
    "    \n",
    "    L: float\n",
    "    L es la longitud del dominio\n",
    "    \n",
    "    S: float\n",
    "    Es la fuente.\n",
    "    \n",
    "    k: float\n",
    "    Es la conductividad del material.\n",
    "    \n",
    "    Ta: float\n",
    "    Es la condición de frontera izquierda.\n",
    "    \n",
    "    Tb: float\n",
    "    Es la condición de frontera derecha.\n",
    "\n",
    "    N: int\n",
    "    Es el número de nodos internos (grados de libertad).\n",
    "    \n",
    "    Return\n",
    "    \n",
    "    \"\"\"\n",
    "    h = L / (N + 1)\n",
    "\n",
    "    #almacén de datos:\n",
    "    T = np.zeros(N + 2)\n",
    "    b = np.zeros(N)\n",
    "    A = np.zeros((N,N))\n",
    "\n",
    "    r = k / h**2\n",
    "    b[:] = S / r #Posición específica\n",
    "\n",
    "    T[0] = Ta\n",
    "    T[-1] = Tb\n",
    "\n",
    "    b[0] += Ta\n",
    "    b[-1] += Tb\n",
    "\n",
    "    #matriz:\n",
    "    A[0,0] = 2\n",
    "    A[0,1] = -1\n",
    "    for i in range(1,N-1):\n",
    "        A[i,i] = 2 #Diagonal\n",
    "        A[i,i+1]= -1 #Diagonal superior\n",
    "        A[i,i-1]= -1 #Diagonal inferior\n",
    "    A[-1,-2] = -1\n",
    "    A[-1,-1] = 2\n",
    "\n",
    "    \n",
    "    T[1:N+1] = np.linalg.solve(A,b) #Sistema de ecuaciones\n",
    "\n",
    "    plt.plot(T, 'o-', color = 'cornflowerblue') #Gráfica de nodos\n",
    "    plt.show()"
   ]
  },
  {
   "cell_type": "code",
   "execution_count": 10,
   "id": "1297f525",
   "metadata": {},
   "outputs": [
    {
     "data": {
      "image/png": "[encoded data removed]",
      "text/plain": [
       "<Figure size 432x288 with 1 Axes>"
      ]
     },
     "metadata": {
      "needs_background": "light"
     },
     "output_type": "display_data"
    }
   ],
   "source": [
    "conduccion(0.02,10.0,5.0,250,1000,8) #Implementación de documentación\n"
   ]
  },
  {
   "cell_type": "code",
   "execution_count": 15,
   "id": "fa06f64f",
   "metadata": {},
   "outputs": [],
   "source": [
    "import ipywidgets as widgets"
   ]
  },
  {
   "cell_type": "code",
   "execution_count": 19,
   "id": "aae397a2",
   "metadata": {},
   "outputs": [],
   "source": [
    "#Ejercicio interactivo\n",
    "\n",
    "w = widgets.interactive(conduccion,\n",
    "                       k = widgets.fixed(0.02),\n",
    "                       S = widgets.FloatSlider(max=1., min=0.0, value=0, step=0.2),\n",
    "                       L = widgets.fixed(5.0),\n",
    "                       Ta = widgets.fixed(200),\n",
    "                       Tb = widgets.fixed(1000),\n",
    "                       N = widgets.IntSlider(max = 20, min=3, value=4))"
   ]
  },
  {
   "cell_type": "code",
   "execution_count": 20,
   "id": "c64147de",
   "metadata": {},
   "outputs": [
    {
     "data": {
      "application/vnd.jupyter.widget-view+json": {
       "model_id": "528d9d9b4e714732be0f52b49b24108f",
       "version_major": 2,
       "version_minor": 0
      },
      "text/plain": [
       "interactive(children=(FloatSlider(value=0.0, description='S', max=1.0, step=0.2), IntSlider(value=4, descripti…"
      ]
     },
     "metadata": {},
     "output_type": "display_data"
    }
   ],
   "source": [
    "display(w)"
   ]
  },
  {
   "cell_type": "code",
   "execution_count": null,
   "id": "107d1791",
   "metadata": {},
   "outputs": [],
   "source": []
  },
  {
   "cell_type": "code",
   "execution_count": 17,
   "id": "f6b197bd",
   "metadata": {},
   "outputs": [],
   "source": []
  },
  {
   "cell_type": "code",
   "execution_count": null,
   "id": "155d36aa",
   "metadata": {},
   "outputs": [],
   "source": []
  },
  {
   "cell_type": "code",
   "execution_count": null,
   "id": "55d0fe43",
   "metadata": {},
   "outputs": [],
   "source": []
  },
  {
   "cell_type": "code",
   "execution_count": null,
   "id": "48a15647",
   "metadata": {},
   "outputs": [],
   "source": []
  },
  {
   "cell_type": "code",
   "execution_count": null,
   "id": "2d0acaae",
   "metadata": {},
   "outputs": [],
   "source": []
  },
  {
   "cell_type": "code",
   "execution_count": null,
   "id": "dfe79d11",
   "metadata": {},
   "outputs": [],
   "source": []
  },
  {
   "cell_type": "code",
   "execution_count": null,
   "id": "a64b1dc8",
   "metadata": {},
   "outputs": [],
   "source": []
  },
  {
   "cell_type": "code",
   "execution_count": null,
   "id": "96745d22",
   "metadata": {},
   "outputs": [],
   "source": []
  }
 ],
 "metadata": {
  "kernelspec": {
   "display_name": "Python 3 (ipykernel)",
   "language": "python",
   "name": "python3"
  },
  "language_info": {
   "codemirror_mode": {
    "name": "ipython",
    "version": 3
   },
   "file_extension": ".py",
   "mimetype": "text/x-python",
   "name": "python",
   "nbconvert_exporter": "python",
   "pygments_lexer": "ipython3",
   "version": "3.9.7"
  }
 },
 "nbformat": 4,
 "nbformat_minor": 5
}
