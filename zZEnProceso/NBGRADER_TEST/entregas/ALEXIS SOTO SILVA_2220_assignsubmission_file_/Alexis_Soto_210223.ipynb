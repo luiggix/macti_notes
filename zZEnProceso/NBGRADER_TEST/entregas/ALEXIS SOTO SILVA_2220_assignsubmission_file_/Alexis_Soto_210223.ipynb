{
 "cells": [
  {
   "cell_type": "code",
   "execution_count": 1,
   "id": "e92e5aa9",
   "metadata": {},
   "outputs": [],
   "source": [
    "import numpy as np\n",
    "import matplotlib.pyplot as plt\n",
    "import ipywidgets as widgets"
   ]
  },
  {
   "cell_type": "code",
   "execution_count": 2,
   "id": "9982b0aa",
   "metadata": {},
   "outputs": [],
   "source": [
    "def conduccion_1d(k,S,L,TA,TB,N):\n",
    "    \"\"\"\n",
    "    Parameters\n",
    "    ----------\n",
    "    L: float\n",
    "    L es la longitud del dominio.\n",
    "    \n",
    "    k: float\n",
    "    k es la conductividad del material.\n",
    "    \n",
    "    S: float\n",
    "    S es la fuente.\n",
    "    \n",
    "    TA: float\n",
    "    TA es la condición de frontera a la izaquierda.\n",
    "    \n",
    "    TB: float\n",
    "    TB es la condición de frontera a la derecha.\n",
    "    \n",
    "    N: int\n",
    "    N es el número de nodos internos (grados de libertad).\n",
    "    Return\n",
    "    ------\n",
    "    Al final esta función dibuja la solución\n",
    "    \"\"\"\n",
    "\n",
    "    h = L / (N+1)\n",
    "    T = np.zeros(N+2)\n",
    "    b = np.zeros(N)\n",
    "    A = np.zeros((N,N))\n",
    "\n",
    "    T[0] = TA\n",
    "    T[-1] = TB\n",
    "    r = k / h**2\n",
    "    b[:] = S / r\n",
    "    b[0] += TA\n",
    "    b[-1] += TB\n",
    "\n",
    "    A[0,0] = 2\n",
    "    A[0,1] = -1\n",
    "    for i in range(1,N-1):\n",
    "        A[i,i] = 2\n",
    "        A[i,i+1] = -1\n",
    "        A[i,i-1] = -1\n",
    "    A[-1,-2] = -1\n",
    "    A[-1,-1] = 2\n",
    "    print(\"A=\",A)\n",
    "\n",
    "    T[1:N+1] = np.linalg.solve(A,b)\n",
    "    print(\"T=\",T)\n",
    "    plt.plot(T, 'o-') \n",
    "    plt.show()"
   ]
  },
  {
   "cell_type": "code",
   "execution_count": 3,
   "id": "01541c06",
   "metadata": {},
   "outputs": [
    {
     "name": "stdout",
     "output_type": "stream",
     "text": [
      "A= [[ 2. -1.  0.  0.]\n",
      " [-1.  2. -1.  0.]\n",
      " [ 0. -1.  2. -1.]\n",
      " [ 0.  0. -1.  2.]]\n",
      "T= [ 200.  360.  520.  680.  840. 1000.]\n"
     ]
    },
    {
     "data": {
      "image/png": "[encoded data removed]",
      "text/plain": [
       "<Figure size 432x288 with 1 Axes>"
      ]
     },
     "metadata": {
      "needs_background": "light"
     },
     "output_type": "display_data"
    }
   ],
   "source": [
    "conduccion_1d(0.02, 0.0, 5.0, 200, 1000, 4)"
   ]
  },
  {
   "cell_type": "code",
   "execution_count": 4,
   "id": "943cb9d1",
   "metadata": {},
   "outputs": [
    {
     "data": {
      "application/vnd.jupyter.widget-view+json": {
       "model_id": "e76e12dae27a4220a5621b3bc1cc01f8",
       "version_major": 2,
       "version_minor": 0
      },
      "text/plain": [
       "interactive(children=(FloatSlider(value=0.0, description='S', max=1.0, step=0.2), IntSlider(value=4, descripti…"
      ]
     },
     "metadata": {},
     "output_type": "display_data"
    }
   ],
   "source": [
    "w = widgets.interactive(conduccion_1d,\n",
    "                       k = widgets.fixed(0.02),\n",
    "                       S = widgets.FloatSlider(max=1.0, min=0.0, value=0, step=0.2),\n",
    "                       L = widgets.fixed(5.0),\n",
    "                       TA = widgets.fixed(200),\n",
    "                       TB = widgets.fixed(1000),\n",
    "                       N = widgets.IntSlider(max=10, min=4, value=4))\n",
    "display(w)"
   ]
  },
  {
   "cell_type": "code",
   "execution_count": null,
   "id": "43550117",
   "metadata": {},
   "outputs": [],
   "source": []
  }
 ],
 "metadata": {
  "kernelspec": {
   "display_name": "Python 3 (ipykernel)",
   "language": "python",
   "name": "python3"
  },
  "language_info": {
   "codemirror_mode": {
    "name": "ipython",
    "version": 3
   },
   "file_extension": ".py",
   "mimetype": "text/x-python",
   "name": "python",
   "nbconvert_exporter": "python",
   "pygments_lexer": "ipython3",
   "version": "3.9.7"
  }
 },
 "nbformat": 4,
 "nbformat_minor": 5
}
