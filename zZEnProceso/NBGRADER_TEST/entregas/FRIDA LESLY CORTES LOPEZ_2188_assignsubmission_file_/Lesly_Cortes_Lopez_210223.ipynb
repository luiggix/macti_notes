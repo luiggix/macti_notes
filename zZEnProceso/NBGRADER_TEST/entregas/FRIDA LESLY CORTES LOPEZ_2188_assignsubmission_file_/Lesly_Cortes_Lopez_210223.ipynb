{
 "cells": [
  {
   "cell_type": "code",
   "execution_count": 6,
   "id": "510df6d3",
   "metadata": {},
   "outputs": [],
   "source": [
    "import numpy as np\n",
    "import matplotlib.pyplot as plt\n",
    "import ipywidgets as widgets"
   ]
  },
  {
   "cell_type": "code",
   "execution_count": 7,
   "id": "02d8bfda",
   "metadata": {},
   "outputs": [],
   "source": [
    "def conduccion_1d(K, S, L, TA, TB, N):\n",
    "    \"\"\"\n",
    "    PARAMETERS \n",
    "    ----------\n",
    "    L : float\n",
    "    L es la longitud del dominio \n",
    "    \n",
    "    k: float\n",
    "    es la conductividad del material \n",
    "    \n",
    "    S: float\n",
    "    es la fuente \n",
    "    \n",
    "    TA: float\n",
    "    Es la condición de frontera a la izquierda \n",
    "    \n",
    "    TB : float \n",
    "    Es la condición de flontera a la derecha \n",
    "    \n",
    "    N : int \n",
    "    Es la número de nodos internos (grados de libertad)\n",
    "    \n",
    "    return \n",
    "    --------\n",
    "    al final esta función dibuja la solución \n",
    "    \n",
    "    \"\"\"\n",
    "#    L = 5.0 \n",
    "#    K = 0.02\n",
    "#    S = 1.0\n",
    "#    TA = 200\n",
    "#    TB = 1000\n",
    "\n",
    " #   N = 4\n",
    "    h = L / (N+1)\n",
    "\n",
    "\n",
    "\n",
    "    T = np.zeros (N+2)\n",
    "    b = np.zeros (N)\n",
    "    A = np.zeros ((N,N))\n",
    "\n",
    "    r = K / h**2\n",
    "    b[:] = S / r\n",
    "    T[0] = TA\n",
    "    T[-1] = TB\n",
    "    b[0] += TA \n",
    "    b[-1] += TB\n",
    "\n",
    "    for i in range (1,N-1):\n",
    "        A[i,i]= 2\n",
    "        A[i,i+1]= -1\n",
    "        A[i,i-1]= -1\n",
    "    A[0,0] = 2\n",
    "    A[0,1] = -1\n",
    "    A[-1,-2] = -1\n",
    "    A[-1,-1] = 2\n",
    "\n",
    "    T[1:N+1] = np.linalg.solve (A,b) \n",
    "\n",
    "    plt.plot(T, 'o-') \n",
    "    plt.ylabel('y')\n",
    "    plt.xlabel('x')\n",
    "    plt.show()\n",
    "    "
   ]
  },
  {
   "cell_type": "code",
   "execution_count": 8,
   "id": "b25da1e7",
   "metadata": {},
   "outputs": [
    {
     "data": {
      "image/png": "[encoded data removed]",
      "text/plain": [
       "<Figure size 432x288 with 1 Axes>"
      ]
     },
     "metadata": {
      "needs_background": "light"
     },
     "output_type": "display_data"
    }
   ],
   "source": [
    "conduccion_1d(0.01, 1.0, 5.0, 200, 1000, 4)"
   ]
  },
  {
   "cell_type": "code",
   "execution_count": 9,
   "id": "7e960805",
   "metadata": {},
   "outputs": [],
   "source": [
    "w = widgets.interactive (conduccion_1d,\n",
    "                        K = widgets.fixed(0.02), \n",
    "                        S = widgets.FloatSlider (max=1.0, min=0.0 , value=0, step=0.2),\n",
    "                        L = widgets.fixed(5.0), \n",
    "                        TA = widgets.fixed(200), \n",
    "                        TB = widgets.fixed(1000), \n",
    "                        N = widgets.IntSlider(max=10, min=4, value=4) )"
   ]
  },
  {
   "cell_type": "code",
   "execution_count": 10,
   "id": "55e38a20",
   "metadata": {},
   "outputs": [
    {
     "data": {
      "application/vnd.jupyter.widget-view+json": {
       "model_id": "32030623626f4e4ca795dd1613bcbf4c",
       "version_major": 2,
       "version_minor": 0
      },
      "text/plain": [
       "interactive(children=(FloatSlider(value=0.0, description='S', max=1.0, step=0.2), IntSlider(value=4, descripti…"
      ]
     },
     "metadata": {},
     "output_type": "display_data"
    }
   ],
   "source": [
    "display(w)"
   ]
  },
  {
   "cell_type": "code",
   "execution_count": null,
   "id": "c1e26c6c",
   "metadata": {},
   "outputs": [],
   "source": []
  },
  {
   "cell_type": "code",
   "execution_count": null,
   "id": "919b5611",
   "metadata": {},
   "outputs": [],
   "source": []
  },
  {
   "cell_type": "code",
   "execution_count": null,
   "id": "76c4e903",
   "metadata": {},
   "outputs": [],
   "source": []
  }
 ],
 "metadata": {
  "kernelspec": {
   "display_name": "Python 3 (ipykernel)",
   "language": "python",
   "name": "python3"
  },
  "language_info": {
   "codemirror_mode": {
    "name": "ipython",
    "version": 3
   },
   "file_extension": ".py",
   "mimetype": "text/x-python",
   "name": "python",
   "nbconvert_exporter": "python",
   "pygments_lexer": "ipython3",
   "version": "3.9.7"
  }
 },
 "nbformat": 4,
 "nbformat_minor": 5
}
