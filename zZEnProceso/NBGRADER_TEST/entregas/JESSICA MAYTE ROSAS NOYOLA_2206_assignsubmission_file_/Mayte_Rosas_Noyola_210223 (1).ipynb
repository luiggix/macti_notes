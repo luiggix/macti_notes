{
 "cells": [
  {
   "cell_type": "code",
   "execution_count": 1,
   "id": "9673ffe2",
   "metadata": {},
   "outputs": [],
   "source": [
    "import numpy as np\n",
    "import matplotlib.pyplot as plt "
   ]
  },
  {
   "cell_type": "code",
   "execution_count": 2,
   "id": "af3396aa",
   "metadata": {},
   "outputs": [],
   "source": [
    "L = 5.0\n",
    "k = 0.02\n",
    "S = 0.0\n",
    "TA = 200\n",
    "TB = 1000"
   ]
  },
  {
   "cell_type": "code",
   "execution_count": 3,
   "id": "4f5b621e",
   "metadata": {},
   "outputs": [],
   "source": [
    "N = 4\n",
    "h = L / (N+1)"
   ]
  },
  {
   "cell_type": "code",
   "execution_count": 4,
   "id": "877b7e08",
   "metadata": {},
   "outputs": [],
   "source": [
    "T = np.zeros (N+2)\n",
    "b = np.zeros (N)\n",
    "A = np.zeros ((N,N))"
   ]
  },
  {
   "cell_type": "code",
   "execution_count": 5,
   "id": "b350591e",
   "metadata": {},
   "outputs": [],
   "source": [
    "r = k / h**2\n",
    "b[:] = S / r\n",
    "T[0] = TA\n",
    "T[-1] = TB\n",
    "b[0] += TA\n",
    "b[-1] += TB"
   ]
  },
  {
   "cell_type": "code",
   "execution_count": 6,
   "id": "1fd5bfe9",
   "metadata": {},
   "outputs": [
    {
     "data": {
      "text/plain": [
       "array([ 200.,    0.,    0., 1000.])"
      ]
     },
     "execution_count": 6,
     "metadata": {},
     "output_type": "execute_result"
    }
   ],
   "source": [
    "b"
   ]
  },
  {
   "cell_type": "code",
   "execution_count": 7,
   "id": "fb07c6a1",
   "metadata": {},
   "outputs": [],
   "source": [
    "A[0,0] = 2\n",
    "A[0,1] = -1\n",
    "for i in range(1,N-1):\n",
    "    A[i,i] = 2\n",
    "    A[i,i+1] = -1\n",
    "    A[i,i-1] = -1\n",
    "A[-1,-2] = -1\n",
    "A[-1,-1] = 2"
   ]
  },
  {
   "cell_type": "code",
   "execution_count": 8,
   "id": "45d743cc",
   "metadata": {},
   "outputs": [
    {
     "data": {
      "text/plain": [
       "array([[ 2., -1.,  0.,  0.],\n",
       "       [-1.,  2., -1.,  0.],\n",
       "       [ 0., -1.,  2., -1.],\n",
       "       [ 0.,  0., -1.,  2.]])"
      ]
     },
     "execution_count": 8,
     "metadata": {},
     "output_type": "execute_result"
    }
   ],
   "source": [
    "A"
   ]
  },
  {
   "cell_type": "code",
   "execution_count": 9,
   "id": "72a4c227",
   "metadata": {},
   "outputs": [],
   "source": [
    "T[1:N+1] = np.linalg.solve(A,b)"
   ]
  },
  {
   "cell_type": "code",
   "execution_count": 10,
   "id": "84479afd",
   "metadata": {},
   "outputs": [
    {
     "data": {
      "text/plain": [
       "array([ 200.,  360.,  520.,  680.,  840., 1000.])"
      ]
     },
     "execution_count": 10,
     "metadata": {},
     "output_type": "execute_result"
    }
   ],
   "source": [
    "T"
   ]
  },
  {
   "cell_type": "code",
   "execution_count": 11,
   "id": "bf6bb270",
   "metadata": {},
   "outputs": [
    {
     "data": {
      "text/plain": [
       "[<matplotlib.lines.Line2D at 0x7fc810492250>]"
      ]
     },
     "execution_count": 11,
     "metadata": {},
     "output_type": "execute_result"
    },
    {
     "data": {
      "image/png": "[encoded data removed]",
      "text/plain": [
       "<Figure size 432x288 with 1 Axes>"
      ]
     },
     "metadata": {
      "needs_background": "light"
     },
     "output_type": "display_data"
    }
   ],
   "source": [
    "plt.plot(T, 'o-') "
   ]
  },
  {
   "cell_type": "code",
   "execution_count": 17,
   "id": "8885bdb8",
   "metadata": {},
   "outputs": [],
   "source": [
    "def conduccion_1d(k, S, L, TA, TB, N):\n",
    "    \"\"\"\n",
    "    Parameters\n",
    "    ----------\n",
    "    L: float\n",
    "    Es la longitud\n",
    "    \n",
    "    S: float\n",
    "    Es la fuente\n",
    "   \n",
    "    TA: float\n",
    "    Es la condicón de frontera a la izquierda\n",
    "    \n",
    "    TB: float \n",
    "    Es la condición de frontera a la derecha\n",
    "    \n",
    "    N: int\n",
    "    Es el número de nodos internos (grados de libertad).\n",
    "    \n",
    "    Return\n",
    "    ------\n",
    "    al final esta función dibuja la solución.\n",
    "    \"\"\"\n",
    "#   L = 5.0\n",
    "#   k = 0.02\n",
    "#    S = 4\n",
    "#    TA = 200\n",
    "#   TB = 1000\n",
    "\n",
    "#    N = 4\n",
    "    h = L / (N+1)\n",
    "\n",
    "    T = np.zeros (N+2)\n",
    "    b = np.zeros (N)\n",
    "    A = np.zeros ((N,N))\n",
    "\n",
    "    r = k / h**2\n",
    "    b[:] = S / r\n",
    "    T[0] = TA\n",
    "    T[-1] = TB\n",
    "    b[0] += TA\n",
    "    b[-1] += TB\n",
    "\n",
    "    A[0,0] = 2\n",
    "    A[0,1] = -1\n",
    "    for i in range(1,N-1):\n",
    "        A[i,i] = 2\n",
    "        A[i,i+1] = -1\n",
    "        A[i,i-1] = -1\n",
    "    A[-1,-2] = -1\n",
    "    A[-1,-1] = 2\n",
    "\n",
    "    T[1:N+1] = np.linalg.solve(A,b)\n",
    "\n",
    "    plt.plot(T)\n",
    "    plt.show()"
   ]
  },
  {
   "cell_type": "code",
   "execution_count": 19,
   "id": "84af4ca5",
   "metadata": {},
   "outputs": [
    {
     "data": {
      "image/png": "[encoded data removed]",
      "text/plain": [
       "<Figure size 432x288 with 1 Axes>"
      ]
     },
     "metadata": {
      "needs_background": "light"
     },
     "output_type": "display_data"
    }
   ],
   "source": [
    "plt.plot(T, 'o-')\n",
    "conduccion_1d(0.02, 1.0, 8.0, 200, 1000, 4)"
   ]
  },
  {
   "cell_type": "code",
   "execution_count": 14,
   "id": "baf3a30e",
   "metadata": {},
   "outputs": [],
   "source": [
    "import ipywidgets as widgets"
   ]
  },
  {
   "cell_type": "code",
   "execution_count": 15,
   "id": "630a1e2a",
   "metadata": {},
   "outputs": [],
   "source": [
    "w = widgets.interactive(conduccion_1d,\n",
    "                       k = widgets.fixed(0.02),\n",
    "                       S = widgets.FloatSlider(max=1.0, min=0.0, value=0, step=0.2),\n",
    "                       L = widgets.fixed(5.0), \n",
    "                       TA = widgets.fixed(200),\n",
    "                       TB = widgets.fixed(1000),\n",
    "                       N = widgets.IntSlider(max=10, min=4, value=4))"
   ]
  },
  {
   "cell_type": "code",
   "execution_count": 20,
   "id": "5a2f42f4",
   "metadata": {},
   "outputs": [
    {
     "data": {
      "application/vnd.jupyter.widget-view+json": {
       "model_id": "68122d27e4c7422a819dcbd7a006fccb",
       "version_major": 2,
       "version_minor": 0
      },
      "text/plain": [
       "interactive(children=(FloatSlider(value=0.0, description='S', max=1.0, step=0.2), IntSlider(value=4, descripti…"
      ]
     },
     "metadata": {},
     "output_type": "display_data"
    },
    {
     "data": {
      "image/png": "[encoded data removed]",
      "text/plain": [
       "<Figure size 432x288 with 1 Axes>"
      ]
     },
     "metadata": {
      "needs_background": "light"
     },
     "output_type": "display_data"
    }
   ],
   "source": [
    "plt.plot(T, 'o-')\n",
    "display(w)"
   ]
  },
  {
   "cell_type": "code",
   "execution_count": null,
   "id": "a025bbbb",
   "metadata": {},
   "outputs": [],
   "source": []
  }
 ],
 "metadata": {
  "kernelspec": {
   "display_name": "Python 3 (ipykernel)",
   "language": "python",
   "name": "python3"
  },
  "language_info": {
   "codemirror_mode": {
    "name": "ipython",
    "version": 3
   },
   "file_extension": ".py",
   "mimetype": "text/x-python",
   "name": "python",
   "nbconvert_exporter": "python",
   "pygments_lexer": "ipython3",
   "version": "3.9.7"
  }
 },
 "nbformat": 4,
 "nbformat_minor": 5
}
