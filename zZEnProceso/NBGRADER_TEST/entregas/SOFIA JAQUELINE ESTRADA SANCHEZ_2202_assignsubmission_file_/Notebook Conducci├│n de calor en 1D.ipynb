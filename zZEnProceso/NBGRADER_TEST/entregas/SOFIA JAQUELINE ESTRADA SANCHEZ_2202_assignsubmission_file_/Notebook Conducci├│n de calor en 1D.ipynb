{
 "cells": [
  {
   "cell_type": "code",
   "execution_count": 1,
   "id": "175092e8",
   "metadata": {},
   "outputs": [],
   "source": [
    "import numpy as np\n",
    "import matplotlib.pyplot as plt "
   ]
  },
  {
   "cell_type": "code",
   "execution_count": 2,
   "id": "aa69f1a8",
   "metadata": {},
   "outputs": [],
   "source": [
    "L = 5.0\n",
    "k = 0.02\n",
    "S = 0.0\n",
    "TA = 200\n",
    "TB = 1000"
   ]
  },
  {
   "cell_type": "code",
   "execution_count": 3,
   "id": "08ed8bff",
   "metadata": {},
   "outputs": [],
   "source": [
    "N = 4\n",
    "h = L / (N+1)"
   ]
  },
  {
   "cell_type": "code",
   "execution_count": 4,
   "id": "e0722bdc",
   "metadata": {},
   "outputs": [],
   "source": [
    "T = np.zeros(N+2)\n",
    "b = np.zeros(N)\n",
    "A = np.zeros((N,N)) \n",
    "#Tamaño del vector--num de elementos que tiene (N)\n",
    "#Matriz A"
   ]
  },
  {
   "cell_type": "code",
   "execution_count": 5,
   "id": "65f118b9",
   "metadata": {},
   "outputs": [],
   "source": [
    "#imprementar r, b y las temperaturas\n",
    "r = k / h**2\n",
    "b[:] = S / r\n",
    "T[0] = TA\n",
    "T[-1] = TB\n",
    "b[0] += TA\n",
    "b[-1] += TB"
   ]
  },
  {
   "cell_type": "code",
   "execution_count": 6,
   "id": "a125d400",
   "metadata": {},
   "outputs": [
    {
     "data": {
      "text/plain": [
       "array([ 200.,    0.,    0.,    0.,    0., 1000.])"
      ]
     },
     "execution_count": 6,
     "metadata": {},
     "output_type": "execute_result"
    }
   ],
   "source": [
    "T"
   ]
  },
  {
   "cell_type": "code",
   "execution_count": 7,
   "id": "a7f9e87c",
   "metadata": {},
   "outputs": [],
   "source": [
    "#matriz"
   ]
  },
  {
   "cell_type": "code",
   "execution_count": 8,
   "id": "0d95212a",
   "metadata": {},
   "outputs": [],
   "source": [
    "A[0,0] = 2\n",
    "A[0,1] = -1\n",
    "for i in range(1,N-1):\n",
    "    A[i,i] = 2 \n",
    "    A[i,i+1] = -1\n",
    "    A[i,i-1] = -1\n",
    "A[-1,-2] = -1    #posicion - numero de color rojo en la foto\n",
    "A[-1,-1] = 2"
   ]
  },
  {
   "cell_type": "code",
   "execution_count": 9,
   "id": "2455b6fc",
   "metadata": {},
   "outputs": [
    {
     "data": {
      "text/plain": [
       "array([[ 2., -1.,  0.,  0.],\n",
       "       [-1.,  2., -1.,  0.],\n",
       "       [ 0., -1.,  2., -1.],\n",
       "       [ 0.,  0., -1.,  2.]])"
      ]
     },
     "execution_count": 9,
     "metadata": {},
     "output_type": "execute_result"
    }
   ],
   "source": [
    "A"
   ]
  },
  {
   "cell_type": "code",
   "execution_count": 10,
   "id": "75213606",
   "metadata": {},
   "outputs": [],
   "source": [
    "T[1:N+1] = np.linalg.solve(A,b)    #resulve el sistema lineal y genera un vector 4"
   ]
  },
  {
   "cell_type": "code",
   "execution_count": 11,
   "id": "6e2ec0b8",
   "metadata": {},
   "outputs": [
    {
     "data": {
      "text/plain": [
       "array([ 200.,  360.,  520.,  680.,  840., 1000.])"
      ]
     },
     "execution_count": 11,
     "metadata": {},
     "output_type": "execute_result"
    }
   ],
   "source": [
    "T"
   ]
  },
  {
   "cell_type": "code",
   "execution_count": 12,
   "id": "cf6b4987",
   "metadata": {},
   "outputs": [
    {
     "data": {
      "text/plain": [
       "[<matplotlib.lines.Line2D at 0x7f40b408d430>]"
      ]
     },
     "execution_count": 12,
     "metadata": {},
     "output_type": "execute_result"
    },
    {
     "data": {
      "image/png": "[encoded data removed]",
      "text/plain": [
       "<Figure size 432x288 with 1 Axes>"
      ]
     },
     "metadata": {
      "needs_background": "light"
     },
     "output_type": "display_data"
    }
   ],
   "source": [
    "plt.plot(T)"
   ]
  },
  {
   "cell_type": "markdown",
   "id": "7ec95758",
   "metadata": {},
   "source": [
    "Colocar el código en una sola celda para poder cambiar las variables de una manera más práctica"
   ]
  },
  {
   "cell_type": "code",
   "execution_count": 13,
   "id": "572e0a6e",
   "metadata": {},
   "outputs": [],
   "source": [
    "def conduccion_1d(k, S, L, TA, TB, N):   #para documentar nuestros codigos\n",
    "    \"\"\"\n",
    "    Parameters        \n",
    "    ----------  \n",
    "    L: float\n",
    "    L es la longitud \n",
    "    \n",
    "    S: float\n",
    "    es la fuente.\n",
    "    \n",
    "    TA: float\n",
    "    es la condición de frontera a la izquierda. \n",
    "    \n",
    "    TB: float \n",
    "    es la condición de frontera a la derecha.\n",
    "    \n",
    "    N: int\n",
    "    es el numero de nodos internos (grados de libertad).\n",
    "    \n",
    "    Return\n",
    "    -----\n",
    "    al final esta función dibuja la solución.\n",
    "    \n",
    "#    L = 5.0\n",
    "#    k = 0.02\n",
    "#    S = 1.0\n",
    "#    TA = 200      ##condiciones iniciales dadas por nosotros, pero estos valores se van cambiando en la siguiente celda\n",
    "#    TB = 1000\n",
    "\n",
    "#    N = 4\n",
    "    \"\"\" \n",
    "    h = L / (N+1)\n",
    "    T = np.zeros(N+2)\n",
    "    b = np.zeros(N)\n",
    "    A = np.zeros((N,N))\n",
    "\n",
    "    r = k / h**2\n",
    "    b[:] = S / r\n",
    "    T[0] = TA\n",
    "    T[-1] = TB\n",
    "    b[0] += TA\n",
    "    b[-1] += TB\n",
    "\n",
    "    A[0,0] = 2\n",
    "    A[0,1] = -1\n",
    "    for i in range(1,N-1):\n",
    "        A[i,i] = 2 \n",
    "        A[i,i+1] = -1\n",
    "        A[i,i-1] = -1\n",
    "    A[-1,-2] = -1    #posicion\n",
    "    A[-1,-1] = 2\n",
    "\n",
    "    T[1:N+1] = np.linalg.solve(A,b)\n",
    "\n",
    "    plt.plot(T, 'o-')\n",
    "    plt.show()"
   ]
  },
  {
   "cell_type": "code",
   "execution_count": 14,
   "id": "fb3cc148",
   "metadata": {},
   "outputs": [
    {
     "data": {
      "image/png": "[encoded data removed]",
      "text/plain": [
       "<Figure size 432x288 with 1 Axes>"
      ]
     },
     "metadata": {
      "needs_background": "light"
     },
     "output_type": "display_data"
    }
   ],
   "source": [
    "conduccion_1d(0.02, 1.0, 5.0, 200, 1000, 4)     ##al cambiar un valor del parentesis lo resuelve con los valores que le demos \n",
    "                                                # a las variables "
   ]
  },
  {
   "cell_type": "code",
   "execution_count": 15,
   "id": "8fcaa56b",
   "metadata": {},
   "outputs": [],
   "source": [
    "import ipywidgets as widgets"
   ]
  },
  {
   "cell_type": "code",
   "execution_count": 16,
   "id": "a3b2136d",
   "metadata": {},
   "outputs": [],
   "source": [
    "w = widgets. interactive(conduccion_1d,\n",
    "                        k = widgets.fixed(0.02),\n",
    "                        S = widgets.FloatSlider(max=1.0, min=0.0, value=0, step=0.2),\n",
    "                        L = widgets.fixed(5.0), \n",
    "                        TA = widgets.fixed(200),\n",
    "                        TB = widgets.fixed(1000),\n",
    "                        N = widgets.IntSlider(max=10, min=4, value=4))"
   ]
  },
  {
   "cell_type": "code",
   "execution_count": 17,
   "id": "fd7a3040",
   "metadata": {},
   "outputs": [
    {
     "data": {
      "application/vnd.jupyter.widget-view+json": {
       "model_id": "a5ee3823ec314fb4b50ad918101678f2",
       "version_major": 2,
       "version_minor": 0
      },
      "text/plain": [
       "interactive(children=(FloatSlider(value=0.0, description='S', max=1.0, step=0.2), IntSlider(value=4, descripti…"
      ]
     },
     "metadata": {},
     "output_type": "display_data"
    }
   ],
   "source": [
    "display(w)"
   ]
  }
 ],
 "metadata": {
  "kernelspec": {
   "display_name": "Python 3 (ipykernel)",
   "language": "python",
   "name": "python3"
  },
  "language_info": {
   "codemirror_mode": {
    "name": "ipython",
    "version": 3
   },
   "file_extension": ".py",
   "mimetype": "text/x-python",
   "name": "python",
   "nbconvert_exporter": "python",
   "pygments_lexer": "ipython3",
   "version": "3.9.7"
  }
 },
 "nbformat": 4,
 "nbformat_minor": 5
}
