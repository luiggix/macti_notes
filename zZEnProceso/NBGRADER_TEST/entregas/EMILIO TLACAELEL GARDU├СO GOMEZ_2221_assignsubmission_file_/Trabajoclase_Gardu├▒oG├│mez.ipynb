{
 "cells": [
  {
   "cell_type": "code",
   "execution_count": 12,
   "id": "55e4d706",
   "metadata": {},
   "outputs": [],
   "source": [
    "import numpy as np\n",
    "import matplotlib.pyplot as plt"
   ]
  },
  {
   "cell_type": "code",
   "execution_count": 13,
   "id": "3c4c62a2",
   "metadata": {},
   "outputs": [],
   "source": [
    "def conduccion_1d(k, S, L, TA, TB, N):\n",
    "    \"\"\"\n",
    "    PARAMETERS \n",
    "    ----------\n",
    "     L = float\n",
    "     L es la longitud del dominio\n",
    "     \n",
    "    k = float\n",
    "    es la conductividad del material\n",
    "    \n",
    "    S: float\n",
    "    es la fuente.\n",
    "    \n",
    "    TA: float\n",
    "    Es la condición de la frontera izquierda\n",
    "    \n",
    "    TB: float\n",
    "    Es la condición de frontera a la derecha \n",
    "\n",
    "    N: int\n",
    "    es el número de nodos internos (grados de libertad).\n",
    "    \n",
    "    Return\n",
    "    ------\n",
    "    al final esta función dibuja la solución.\n",
    "    \"\"\"\n",
    "    \n",
    "    H = L / (N+1)\n",
    "\n",
    "    T = np.zeros(N+2)\n",
    "    b = np.zeros(N)\n",
    "    A = np.zeros((N,N))\n",
    "\n",
    "    r = k / H**2\n",
    "    b[:] = S / r\n",
    "    T[0] = TA\n",
    "    T[-1] = TB\n",
    "    b[0] += TA\n",
    "    b[-1] += TB\n",
    "\n",
    "    A[0,0]=2\n",
    "    A[0,1]=-1\n",
    "\n",
    "    for i in range(1,N-1):\n",
    "        A[i,i] = 2\n",
    "        A[i,i+1] = -1\n",
    "        A[i,i-1] = -1\n",
    "    A[-1,-2] = -1\n",
    "    A[-1,-1] = 2\n",
    "    \n",
    "    T[1:N+1] = np.linalg.solve(A,b)\n",
    "    plt.plot(T, 'o-') \n",
    "    plt.show()"
   ]
  },
  {
   "cell_type": "code",
   "execution_count": 14,
   "id": "d54bdaa2",
   "metadata": {},
   "outputs": [
    {
     "data": {
      "image/png": "[encoded data removed]",
      "text/plain": [
       "<Figure size 432x288 with 1 Axes>"
      ]
     },
     "metadata": {
      "needs_background": "light"
     },
     "output_type": "display_data"
    }
   ],
   "source": [
    "conduccion_1d(0.02, 10.0, 5.0, 200, 1000, 4)"
   ]
  },
  {
   "cell_type": "code",
   "execution_count": 15,
   "id": "5ba475fd",
   "metadata": {},
   "outputs": [],
   "source": [
    "import ipywidgets as widgets "
   ]
  },
  {
   "cell_type": "code",
   "execution_count": 16,
   "id": "012b6032",
   "metadata": {},
   "outputs": [],
   "source": [
    "w = widgets.interactive(conduccion_1d,\n",
    "                k = widgets.fixed(0.02),\n",
    "                S = widgets.fixed(0.0), \n",
    "                L = widgets.fixed(5.0), \n",
    "                TA = widgets.fixed(200), \n",
    "                TB = widgets.fixed(1000), \n",
    "                N = widgets.IntSlider(max=10, min=4, value=4))"
   ]
  },
  {
   "cell_type": "code",
   "execution_count": 17,
   "id": "f5e9f05e",
   "metadata": {},
   "outputs": [
    {
     "data": {
      "application/vnd.jupyter.widget-view+json": {
       "model_id": "258e8a839309418caab0ae7da3f34248",
       "version_major": 2,
       "version_minor": 0
      },
      "text/plain": [
       "interactive(children=(IntSlider(value=4, description='N', max=10, min=4), Output()), _dom_classes=('widget-int…"
      ]
     },
     "metadata": {},
     "output_type": "display_data"
    }
   ],
   "source": [
    "display(w)"
   ]
  },
  {
   "cell_type": "code",
   "execution_count": 18,
   "id": "b6fcdea1",
   "metadata": {},
   "outputs": [],
   "source": [
    "w = widgets.interactive(conduccion_1d,\n",
    "                k = widgets.fixed(0.02),\n",
    "                S = widgets.FloatSlider(max=1.0, min=0.0, value=0.2),\n",
    "                L = widgets.fixed(5.0), \n",
    "                TA = widgets.fixed(200), \n",
    "                TB = widgets.fixed(1000), \n",
    "                N = widgets.IntSlider(max=10, min=4, value=4))"
   ]
  },
  {
   "cell_type": "code",
   "execution_count": 19,
   "id": "6e8a205b",
   "metadata": {},
   "outputs": [
    {
     "data": {
      "application/vnd.jupyter.widget-view+json": {
       "model_id": "9305bc5986054280a695af7e3e5c6386",
       "version_major": 2,
       "version_minor": 0
      },
      "text/plain": [
       "interactive(children=(FloatSlider(value=0.2, description='S', max=1.0), IntSlider(value=4, description='N', ma…"
      ]
     },
     "metadata": {},
     "output_type": "display_data"
    }
   ],
   "source": [
    "display(w)"
   ]
  },
  {
   "cell_type": "code",
   "execution_count": null,
   "id": "f62562ca",
   "metadata": {},
   "outputs": [],
   "source": [
    "####### Fin #######"
   ]
  }
 ],
 "metadata": {
  "kernelspec": {
   "display_name": "Python 3 (ipykernel)",
   "language": "python",
   "name": "python3"
  },
  "language_info": {
   "codemirror_mode": {
    "name": "ipython",
    "version": 3
   },
   "file_extension": ".py",
   "mimetype": "text/x-python",
   "name": "python",
   "nbconvert_exporter": "python",
   "pygments_lexer": "ipython3",
   "version": "3.9.7"
  }
 },
 "nbformat": 4,
 "nbformat_minor": 5
}
