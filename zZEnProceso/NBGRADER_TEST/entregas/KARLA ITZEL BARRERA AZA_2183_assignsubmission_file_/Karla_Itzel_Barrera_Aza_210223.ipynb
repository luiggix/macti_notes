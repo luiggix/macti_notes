{
 "cells": [
  {
   "cell_type": "code",
   "execution_count": 1,
   "id": "57ef5d6f",
   "metadata": {},
   "outputs": [],
   "source": [
    "import numpy as np \n",
    "import matplotlib.pyplot as plt "
   ]
  },
  {
   "cell_type": "code",
   "execution_count": 28,
   "id": "c57d7967",
   "metadata": {
    "scrolled": true
   },
   "outputs": [],
   "source": [
    "def conduccion_1d(k, s, l, TA, TB, N):\n",
    "\n",
    "    \"\"\"\"\n",
    "    Parameters\n",
    "    ---------\n",
    "    l: float \n",
    "    l es la longitud del dominio. \n",
    "    \n",
    "    k: float \n",
    "    k es la conductividad del material \n",
    "    \n",
    "    s: float \n",
    "    s es la fuente \n",
    "    \n",
    "    TA: float \n",
    "    TA es la condición de la frontera a la izquierda \n",
    "    \n",
    "    TB: float \n",
    "    TB es la condición de la frontera a la derecha \n",
    "    \n",
    "    N: int \n",
    "    N es el número de nodos internos (grados de libertad).\n",
    "    \n",
    "    Return \n",
    "    -------\n",
    "    al final dibujan la solución.\n",
    "    \"\"\"\n",
    "    \n",
    "#    l = 5.0 \n",
    "#    k= 0.02\n",
    "#    s = 1\n",
    "#    TA = 200\n",
    "#    TB = 1000\n",
    "\n",
    "#    N = 4 \n",
    "    h = l / (N+1)\n",
    "\n",
    "    T = np.zeros (N+2)\n",
    "    b = np.zeros (N)\n",
    "    A = np.zeros ((N,N))\n",
    "\n",
    "    r = k/ h **2 \n",
    "    b [:] = s / r\n",
    "    T [0] = TA\n",
    "    T [-1] = TB \n",
    "    b [0] += TA \n",
    "    b [-1] += TB \n",
    "\n",
    "    A[0,0] = 2 \n",
    "    A[0,1] = -1 \n",
    "    for i in range(1,N-1):\n",
    "        A[i,i] = 2 \n",
    "        A[i,i+1] = -1\n",
    "        A[i,i-1] = -1\n",
    "    A[-1,-2] = -1 \n",
    "    A[-1,-1] = 2\n",
    "\n",
    "    T[1:N+1] = np.linalg.solve (A,b)\n",
    "\n",
    "    plt.plot(T)\n",
    "    plt.show()"
   ]
  },
  {
   "cell_type": "code",
   "execution_count": 30,
   "id": "1a027df5",
   "metadata": {},
   "outputs": [
    {
     "data": {
      "image/png": "[encoded data removed]",
      "text/plain": [
       "<Figure size 432x288 with 1 Axes>"
      ]
     },
     "metadata": {
      "needs_background": "light"
     },
     "output_type": "display_data"
    }
   ],
   "source": [
    "conduccion_1d(0.02, 10.0, 5.0, 200, 1000, 10)"
   ]
  },
  {
   "cell_type": "code",
   "execution_count": 39,
   "id": "34f9c63d",
   "metadata": {},
   "outputs": [],
   "source": [
    "import ipywidgets as widgets "
   ]
  },
  {
   "cell_type": "code",
   "execution_count": 46,
   "id": "a6bcd424",
   "metadata": {},
   "outputs": [],
   "source": [
    "w = widgets.interactive(conduccion_1d,\n",
    "                        k = widgets.fixed(0.02),\n",
    "                        l = widgets.fixed(5.0),\n",
    "                        s = widgets.FloatSlider(max=10.0, min=0.0, value=0, step=0.2),\n",
    "                        TA = widgets.fixed(200),\n",
    "                        TB = widgets.fixed(1000),\n",
    "                        N = widgets.IntSlider(max=10, min=4, value=4))"
   ]
  },
  {
   "cell_type": "code",
   "execution_count": 47,
   "id": "380cf1ed",
   "metadata": {},
   "outputs": [
    {
     "data": {
      "application/vnd.jupyter.widget-view+json": {
       "model_id": "ff6cfdea414f480481a2b82e352697f6",
       "version_major": 2,
       "version_minor": 0
      },
      "text/plain": [
       "interactive(children=(FloatSlider(value=0.0, description='s', max=10.0, step=0.2), IntSlider(value=4, descript…"
      ]
     },
     "metadata": {},
     "output_type": "display_data"
    }
   ],
   "source": [
    "display(w)"
   ]
  },
  {
   "cell_type": "code",
   "execution_count": null,
   "id": "49333026",
   "metadata": {},
   "outputs": [],
   "source": []
  }
 ],
 "metadata": {
  "kernelspec": {
   "display_name": "Python 3 (ipykernel)",
   "language": "python",
   "name": "python3"
  },
  "language_info": {
   "codemirror_mode": {
    "name": "ipython",
    "version": 3
   },
   "file_extension": ".py",
   "mimetype": "text/x-python",
   "name": "python",
   "nbconvert_exporter": "python",
   "pygments_lexer": "ipython3",
   "version": "3.9.7"
  }
 },
 "nbformat": 4,
 "nbformat_minor": 5
}
