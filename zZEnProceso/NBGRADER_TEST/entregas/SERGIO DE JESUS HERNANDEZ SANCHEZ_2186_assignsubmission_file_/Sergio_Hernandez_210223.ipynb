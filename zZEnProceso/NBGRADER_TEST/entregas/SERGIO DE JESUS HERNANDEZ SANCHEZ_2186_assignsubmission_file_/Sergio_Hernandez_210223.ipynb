{
 "cells": [
  {
   "cell_type": "code",
   "execution_count": 1,
   "id": "61cc7ea0",
   "metadata": {},
   "outputs": [],
   "source": [
    "import numpy as np\n",
    "import matplotlib.pyplot as plt\n",
    "import ipywidgets as widgets"
   ]
  },
  {
   "cell_type": "code",
   "execution_count": 2,
   "id": "6e907bae",
   "metadata": {},
   "outputs": [],
   "source": [
    "#PARÁMETROS FÍSICOS\n",
    "L = 5.0\n",
    "K = 0.02\n",
    "S = 0\n",
    "TA = 200\n",
    "TB = 1000\n",
    "#PARÁMETROS NUMÉRICOS\n",
    "n = 4\n",
    "h = L/(n+1)\n",
    "#ctes\n",
    "r = K/h**2"
   ]
  },
  {
   "cell_type": "code",
   "execution_count": 3,
   "id": "3de29563",
   "metadata": {},
   "outputs": [],
   "source": [
    "T = np.zeros(n+2) #vector de n+2 ceros\n",
    "b = np.zeros(n) \n",
    "A = np.zeros((n,n))"
   ]
  },
  {
   "cell_type": "code",
   "execution_count": 4,
   "id": "4130c200",
   "metadata": {},
   "outputs": [],
   "source": [
    "#Colocando la temperatura en las fronteras\n",
    "b[:] = S/r\n",
    "T[0] = TA \n",
    "T[-1] = TB\n",
    "b[0] += TA\n",
    "b[-1] += TB"
   ]
  },
  {
   "cell_type": "code",
   "execution_count": 5,
   "id": "29618766",
   "metadata": {},
   "outputs": [
    {
     "data": {
      "text/plain": [
       "(array([ 200.,    0.,    0.,    0.,    0., 1000.]),\n",
       " array([ 200.,    0.,    0., 1000.]),\n",
       " array([[0., 0., 0., 0.],\n",
       "        [0., 0., 0., 0.],\n",
       "        [0., 0., 0., 0.],\n",
       "        [0., 0., 0., 0.]]))"
      ]
     },
     "execution_count": 5,
     "metadata": {},
     "output_type": "execute_result"
    }
   ],
   "source": [
    "T, b, A"
   ]
  },
  {
   "cell_type": "code",
   "execution_count": 6,
   "id": "ff297a35",
   "metadata": {},
   "outputs": [
    {
     "name": "stdout",
     "output_type": "stream",
     "text": [
      "[[ 2. -1.  0.  0.]\n",
      " [-1.  2. -1.  0.]\n",
      " [ 0. -1.  2. -1.]\n",
      " [ 0.  0. -1.  2.]]\n"
     ]
    }
   ],
   "source": [
    "for i in range (0,n):\n",
    "    A[i,i]=2\n",
    "    for j in range(0,n-1):\n",
    "        A[j,j+1]=-1\n",
    "        A[j+1,j]=-1\n",
    "\n",
    "print (A)"
   ]
  },
  {
   "cell_type": "code",
   "execution_count": 7,
   "id": "6c931d44",
   "metadata": {},
   "outputs": [
    {
     "name": "stdout",
     "output_type": "stream",
     "text": [
      "[ 200.  360.  520.  680.  840. 1000.]\n"
     ]
    },
    {
     "data": {
      "text/plain": [
       "[<matplotlib.lines.Line2D at 0x7fcbecfb5880>]"
      ]
     },
     "execution_count": 7,
     "metadata": {},
     "output_type": "execute_result"
    },
    {
     "data": {
      "image/png": "[encoded data removed]",
      "text/plain": [
       "<Figure size 432x288 with 1 Axes>"
      ]
     },
     "metadata": {
      "needs_background": "light"
     },
     "output_type": "display_data"
    }
   ],
   "source": [
    "T[1:n+1] = np.linalg.solve(A,b)\n",
    "print (T)\n",
    "plt.plot(T)"
   ]
  },
  {
   "cell_type": "code",
   "execution_count": 12,
   "id": "0ce5569a",
   "metadata": {},
   "outputs": [],
   "source": [
    "#Todo en una celda\n",
    "def conduc1d(K,S,L,TA,TB,n):\n",
    "    \n",
    "    \"\"\"\n",
    "    K: float\n",
    "    Es la conductividad del material\n",
    "    \n",
    "    S: float\n",
    "    Es la fuente\n",
    "    \n",
    "    L: float\n",
    "    Es la longitud del dominio\n",
    "    \n",
    "    TA: float\n",
    "    Es la condición de frontera izquiera.\n",
    "    \n",
    "    TB: float\n",
    "    Es la condición de frontera derecha.\n",
    "    \n",
    "    n: int\n",
    "    Es el número de nodos internos (grados de libertad).\n",
    "    \n",
    "    Return\n",
    "    \"\"\"\n",
    "    \n",
    "    h = L/(n+1)\n",
    "    r = K/h**2\n",
    "    \n",
    "    T = np.zeros(n+2)\n",
    "    b = np.zeros(n) \n",
    "    A = np.zeros((n,n))\n",
    "    \n",
    "    b[:] = S/r\n",
    "    T[0] = TA \n",
    "    T[-1] = TB\n",
    "    b[0] += TA\n",
    "    b[-1] += TB\n",
    "    for i in range (0,n):\n",
    "        A[i,i]=2\n",
    "        for j in range(0,n-1):\n",
    "            A[j,j+1]=-1\n",
    "            A[j+1,j]=-1\n",
    "\n",
    "    T[1:n+1] = np.linalg.solve(A,b)\n",
    "    plt.plot(T, 'o-') "
   ]
  },
  {
   "cell_type": "code",
   "execution_count": 14,
   "id": "311fcbf4",
   "metadata": {},
   "outputs": [
    {
     "data": {
      "image/png": "[encoded data removed]",
      "text/plain": [
       "<Figure size 432x288 with 1 Axes>"
      ]
     },
     "metadata": {
      "needs_background": "light"
     },
     "output_type": "display_data"
    }
   ],
   "source": [
    "conduc1d(0.02,6,5.0,100,1000,10)"
   ]
  },
  {
   "cell_type": "code",
   "execution_count": 10,
   "id": "89563acc",
   "metadata": {},
   "outputs": [],
   "source": [
    "w = widgets.interactive(conduc1d,\n",
    "                        K = widgets.fixed(0.02),\n",
    "                        S = widgets.FloatSlider(max=10, min=0, value=5, step=0.2),\n",
    "                        L = widgets.fixed(5.0),\n",
    "                        TA = widgets.fixed(200),\n",
    "                        TB = widgets.fixed(1000),\n",
    "                        n = widgets.IntSlider(max=100, min=1, value=50))"
   ]
  },
  {
   "cell_type": "code",
   "execution_count": 11,
   "id": "6e6d34b4",
   "metadata": {},
   "outputs": [
    {
     "data": {
      "application/vnd.jupyter.widget-view+json": {
       "model_id": "bd87d52e049a441db857f64a4d91be08",
       "version_major": 2,
       "version_minor": 0
      },
      "text/plain": [
       "interactive(children=(FloatSlider(value=5.0, description='S', max=10.0, step=0.2), IntSlider(value=50, descrip…"
      ]
     },
     "metadata": {},
     "output_type": "display_data"
    }
   ],
   "source": [
    "w"
   ]
  },
  {
   "cell_type": "code",
   "execution_count": null,
   "id": "15c08287",
   "metadata": {},
   "outputs": [],
   "source": []
  }
 ],
 "metadata": {
  "kernelspec": {
   "display_name": "Python 3 (ipykernel)",
   "language": "python",
   "name": "python3"
  },
  "language_info": {
   "codemirror_mode": {
    "name": "ipython",
    "version": 3
   },
   "file_extension": ".py",
   "mimetype": "text/x-python",
   "name": "python",
   "nbconvert_exporter": "python",
   "pygments_lexer": "ipython3",
   "version": "3.9.7"
  }
 },
 "nbformat": 4,
 "nbformat_minor": 5
}
