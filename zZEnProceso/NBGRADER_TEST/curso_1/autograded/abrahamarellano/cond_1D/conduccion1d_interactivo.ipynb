{
 "cells": [
  {
   "cell_type": "code",
   "execution_count": 1,
   "id": "0ab98286",
   "metadata": {
    "execution": {
     "iopub.execute_input": "2023-04-06T20:44:51.210604Z",
     "iopub.status.busy": "2023-04-06T20:44:51.209929Z",
     "iopub.status.idle": "2023-04-06T20:44:51.586686Z",
     "shell.execute_reply": "2023-04-06T20:44:51.586079Z"
    }
   },
   "outputs": [],
   "source": [
    "import numpy as np\n",
    "import matplotlib.pyplot as plt"
   ]
  },
  {
   "cell_type": "code",
   "execution_count": 2,
   "id": "8666fe22",
   "metadata": {
    "execution": {
     "iopub.execute_input": "2023-04-06T20:44:51.589529Z",
     "iopub.status.busy": "2023-04-06T20:44:51.589261Z",
     "iopub.status.idle": "2023-04-06T20:44:51.594795Z",
     "shell.execute_reply": "2023-04-06T20:44:51.594330Z"
    }
   },
   "outputs": [],
   "source": [
    "def conduccion_1d(k, S, L, TA, TB, N):\n",
    "    \"\"\"\n",
    "    Parameters\n",
    "    ---------\n",
    "    L: Float\n",
    "    es la longitud del dominio\n",
    "    \n",
    "    k: float\n",
    "    es la conductividad del material\n",
    "    \n",
    "    S: float \n",
    "    es la fuente \n",
    "     \n",
    "    TA: float\n",
    "    Es la condición de frontera a la izquierda.\n",
    "\n",
    "    TB:\n",
    "    Es la condición de frontera a la dereccha.\n",
    "\n",
    "    N = int\n",
    "    Es el número de nodos internos (grados de libertad).\n",
    "    \n",
    "    Return\n",
    "    ------\n",
    "    Al final esta función dibuja la solución.\n",
    "\n",
    "    \"\"\"\n",
    "    h = L/(N+1)\n",
    "\n",
    "    T = np.zeros(N+2)\n",
    "    b = np.zeros(N)\n",
    "    A = np.zeros((N,N))\n",
    "\n",
    "    r = k/h**2\n",
    "    b[:] = S/r\n",
    "    T[0] = TA\n",
    "    T[-1] = TB\n",
    "    b[0] += TA\n",
    "    b[-1] += TB\n",
    "\n",
    "    A[0,0] = 2\n",
    "    A[0,1] = -1\n",
    "    A[-1,-2] = -1\n",
    "    A[-1,-1] = 2\n",
    "\n",
    "    for i in range(1,N-1):\n",
    "        A[i,i] = 2\n",
    "        A[i,i+1] = -1\n",
    "        A[i,i-1] = -1\n",
    "    \n",
    "    T[1:N+1] = np.linalg.solve(A,b)\n",
    "    plt.plot(T)"
   ]
  },
  {
   "cell_type": "code",
   "execution_count": 3,
   "id": "7fa9e546",
   "metadata": {
    "execution": {
     "iopub.execute_input": "2023-04-06T20:44:51.597147Z",
     "iopub.status.busy": "2023-04-06T20:44:51.596923Z",
     "iopub.status.idle": "2023-04-06T20:44:52.351505Z",
     "shell.execute_reply": "2023-04-06T20:44:52.350936Z"
    }
   },
   "outputs": [
    {
     "data": {
      "image/png": "[encoded data removed]",
      "text/plain": [
       "<Figure size 640x480 with 1 Axes>"
      ]
     },
     "metadata": {},
     "output_type": "display_data"
    }
   ],
   "source": [
    "conduccion_1d(0.02, 100000, 5.0, 200, 1000, 4000)"
   ]
  },
  {
   "cell_type": "code",
   "execution_count": 4,
   "id": "774f2ca7",
   "metadata": {
    "execution": {
     "iopub.execute_input": "2023-04-06T20:44:52.353946Z",
     "iopub.status.busy": "2023-04-06T20:44:52.353752Z",
     "iopub.status.idle": "2023-04-06T20:44:52.399477Z",
     "shell.execute_reply": "2023-04-06T20:44:52.398929Z"
    }
   },
   "outputs": [],
   "source": [
    "import ipywidgets as widgets"
   ]
  },
  {
   "cell_type": "code",
   "execution_count": 5,
   "id": "aecd72b2",
   "metadata": {
    "execution": {
     "iopub.execute_input": "2023-04-06T20:44:52.402058Z",
     "iopub.status.busy": "2023-04-06T20:44:52.401842Z",
     "iopub.status.idle": "2023-04-06T20:44:52.527684Z",
     "shell.execute_reply": "2023-04-06T20:44:52.527141Z"
    }
   },
   "outputs": [],
   "source": [
    "w = widgets.interactive(conduccion_1d,\n",
    "                       k = widgets.fixed(0.02),\n",
    "                       S = widgets.FloatSlider(max = 1.0, min = 0.0, value = 0, step = 0.2),\n",
    "                       L = widgets.fixed(5.0),\n",
    "                       TA = widgets.fixed(200),\n",
    "                       TB = widgets.fixed(1000),\n",
    "                       N = widgets.IntSlider(max = 10, min = 4, value = 4))"
   ]
  },
  {
   "cell_type": "code",
   "execution_count": 6,
   "id": "c5b3081a",
   "metadata": {
    "execution": {
     "iopub.execute_input": "2023-04-06T20:44:52.531251Z",
     "iopub.status.busy": "2023-04-06T20:44:52.531087Z",
     "iopub.status.idle": "2023-04-06T20:44:52.535989Z",
     "shell.execute_reply": "2023-04-06T20:44:52.535495Z"
    }
   },
   "outputs": [
    {
     "data": {
      "application/vnd.jupyter.widget-view+json": {
       "model_id": "e377bd57c55e4579924c55494779722b",
       "version_major": 2,
       "version_minor": 0
      },
      "text/plain": [
       "interactive(children=(FloatSlider(value=0.0, description='S', max=1.0, step=0.2), IntSlider(value=4, descripti…"
      ]
     },
     "metadata": {},
     "output_type": "display_data"
    }
   ],
   "source": [
    "display(w)"
   ]
  },
  {
   "cell_type": "code",
   "execution_count": null,
   "id": "4aa9826a",
   "metadata": {},
   "outputs": [],
   "source": []
  }
 ],
 "metadata": {
  "kernelspec": {
   "display_name": "Python 3 (ipykernel)",
   "language": "python",
   "name": "python3"
  },
  "language_info": {
   "codemirror_mode": {
    "name": "ipython",
    "version": 3
   },
   "file_extension": ".py",
   "mimetype": "text/x-python",
   "name": "python",
   "nbconvert_exporter": "python",
   "pygments_lexer": "ipython3",
   "version": "3.11.3"
  },
  "widgets": {
   "application/vnd.jupyter.widget-state+json": {
    "state": {
     "319cfeb926d44c0398b3779d70288995": {
      "model_module": "@jupyter-widgets/base",
      "model_module_version": "2.0.0",
      "model_name": "LayoutModel",
      "state": {
       "_model_module": "@jupyter-widgets/base",
       "_model_module_version": "2.0.0",
       "_model_name": "LayoutModel",
       "_view_count": null,
       "_view_module": "@jupyter-widgets/base",
       "_view_module_version": "2.0.0",
       "_view_name": "LayoutView",
       "align_content": null,
       "align_items": null,
       "align_self": null,
       "border_bottom": null,
       "border_left": null,
       "border_right": null,
       "border_top": null,
       "bottom": null,
       "display": null,
       "flex": null,
       "flex_flow": null,
       "grid_area": null,
       "grid_auto_columns": null,
       "grid_auto_flow": null,
       "grid_auto_rows": null,
       "grid_column": null,
       "grid_gap": null,
       "grid_row": null,
       "grid_template_areas": null,
       "grid_template_columns": null,
       "grid_template_rows": null,
       "height": null,
       "justify_content": null,
       "justify_items": null,
       "left": null,
       "margin": null,
       "max_height": null,
       "max_width": null,
       "min_height": null,
       "min_width": null,
       "object_fit": null,
       "object_position": null,
       "order": null,
       "overflow": null,
       "padding": null,
       "right": null,
       "top": null,
       "visibility": null,
       "width": null
      }
     },
     "800a3c6e0f2f44668893f8704b3c6cb8": {
      "model_module": "@jupyter-widgets/base",
      "model_module_version": "2.0.0",
      "model_name": "LayoutModel",
      "state": {
       "_model_module": "@jupyter-widgets/base",
       "_model_module_version": "2.0.0",
       "_model_name": "LayoutModel",
       "_view_count": null,
       "_view_module": "@jupyter-widgets/base",
       "_view_module_version": "2.0.0",
       "_view_name": "LayoutView",
       "align_content": null,
       "align_items": null,
       "align_self": null,
       "border_bottom": null,
       "border_left": null,
       "border_right": null,
       "border_top": null,
       "bottom": null,
       "display": null,
       "flex": null,
       "flex_flow": null,
       "grid_area": null,
       "grid_auto_columns": null,
       "grid_auto_flow": null,
       "grid_auto_rows": null,
       "grid_column": null,
       "grid_gap": null,
       "grid_row": null,
       "grid_template_areas": null,
       "grid_template_columns": null,
       "grid_template_rows": null,
       "height": null,
       "justify_content": null,
       "justify_items": null,
       "left": null,
       "margin": null,
       "max_height": null,
       "max_width": null,
       "min_height": null,
       "min_width": null,
       "object_fit": null,
       "object_position": null,
       "order": null,
       "overflow": null,
       "padding": null,
       "right": null,
       "top": null,
       "visibility": null,
       "width": null
      }
     },
     "8da1939fa28146d8a8fb1573d119dca6": {
      "model_module": "@jupyter-widgets/controls",
      "model_module_version": "2.0.0",
      "model_name": "SliderStyleModel",
      "state": {
       "_model_module": "@jupyter-widgets/controls",
       "_model_module_version": "2.0.0",
       "_model_name": "SliderStyleModel",
       "_view_count": null,
       "_view_module": "@jupyter-widgets/base",
       "_view_module_version": "2.0.0",
       "_view_name": "StyleView",
       "description_width": "",
       "handle_color": null
      }
     },
     "967e9ddebe13452781ce83f04781e318": {
      "model_module": "@jupyter-widgets/base",
      "model_module_version": "2.0.0",
      "model_name": "LayoutModel",
      "state": {
       "_model_module": "@jupyter-widgets/base",
       "_model_module_version": "2.0.0",
       "_model_name": "LayoutModel",
       "_view_count": null,
       "_view_module": "@jupyter-widgets/base",
       "_view_module_version": "2.0.0",
       "_view_name": "LayoutView",
       "align_content": null,
       "align_items": null,
       "align_self": null,
       "border_bottom": null,
       "border_left": null,
       "border_right": null,
       "border_top": null,
       "bottom": null,
       "display": null,
       "flex": null,
       "flex_flow": null,
       "grid_area": null,
       "grid_auto_columns": null,
       "grid_auto_flow": null,
       "grid_auto_rows": null,
       "grid_column": null,
       "grid_gap": null,
       "grid_row": null,
       "grid_template_areas": null,
       "grid_template_columns": null,
       "grid_template_rows": null,
       "height": null,
       "justify_content": null,
       "justify_items": null,
       "left": null,
       "margin": null,
       "max_height": null,
       "max_width": null,
       "min_height": null,
       "min_width": null,
       "object_fit": null,
       "object_position": null,
       "order": null,
       "overflow": null,
       "padding": null,
       "right": null,
       "top": null,
       "visibility": null,
       "width": null
      }
     },
     "e1cf598f19584431bd2a952ec55a9fdc": {
      "model_module": "@jupyter-widgets/controls",
      "model_module_version": "2.0.0",
      "model_name": "SliderStyleModel",
      "state": {
       "_model_module": "@jupyter-widgets/controls",
       "_model_module_version": "2.0.0",
       "_model_name": "SliderStyleModel",
       "_view_count": null,
       "_view_module": "@jupyter-widgets/base",
       "_view_module_version": "2.0.0",
       "_view_name": "StyleView",
       "description_width": "",
       "handle_color": null
      }
     },
     "e377bd57c55e4579924c55494779722b": {
      "model_module": "@jupyter-widgets/controls",
      "model_module_version": "2.0.0",
      "model_name": "VBoxModel",
      "state": {
       "_dom_classes": [
        "widget-interact"
       ],
       "_model_module": "@jupyter-widgets/controls",
       "_model_module_version": "2.0.0",
       "_model_name": "VBoxModel",
       "_view_count": null,
       "_view_module": "@jupyter-widgets/controls",
       "_view_module_version": "2.0.0",
       "_view_name": "VBoxView",
       "box_style": "",
       "children": [
        "IPY_MODEL_f113186bbcdc40ebbd0225292102848d",
        "IPY_MODEL_f0c20d17236d4930bbd6ef6b56b3f3be",
        "IPY_MODEL_eccaee6a2b964cd59ec7b9f2ae648cd7"
       ],
       "layout": "IPY_MODEL_e4111f77d90448fe9c65adafb3571dbd",
       "tabbable": null,
       "tooltip": null
      }
     },
     "e4111f77d90448fe9c65adafb3571dbd": {
      "model_module": "@jupyter-widgets/base",
      "model_module_version": "2.0.0",
      "model_name": "LayoutModel",
      "state": {
       "_model_module": "@jupyter-widgets/base",
       "_model_module_version": "2.0.0",
       "_model_name": "LayoutModel",
       "_view_count": null,
       "_view_module": "@jupyter-widgets/base",
       "_view_module_version": "2.0.0",
       "_view_name": "LayoutView",
       "align_content": null,
       "align_items": null,
       "align_self": null,
       "border_bottom": null,
       "border_left": null,
       "border_right": null,
       "border_top": null,
       "bottom": null,
       "display": null,
       "flex": null,
       "flex_flow": null,
       "grid_area": null,
       "grid_auto_columns": null,
       "grid_auto_flow": null,
       "grid_auto_rows": null,
       "grid_column": null,
       "grid_gap": null,
       "grid_row": null,
       "grid_template_areas": null,
       "grid_template_columns": null,
       "grid_template_rows": null,
       "height": null,
       "justify_content": null,
       "justify_items": null,
       "left": null,
       "margin": null,
       "max_height": null,
       "max_width": null,
       "min_height": null,
       "min_width": null,
       "object_fit": null,
       "object_position": null,
       "order": null,
       "overflow": null,
       "padding": null,
       "right": null,
       "top": null,
       "visibility": null,
       "width": null
      }
     },
     "eccaee6a2b964cd59ec7b9f2ae648cd7": {
      "model_module": "@jupyter-widgets/output",
      "model_module_version": "1.0.0",
      "model_name": "OutputModel",
      "state": {
       "_dom_classes": [],
       "_model_module": "@jupyter-widgets/output",
       "_model_module_version": "1.0.0",
       "_model_name": "OutputModel",
       "_view_count": null,
       "_view_module": "@jupyter-widgets/output",
       "_view_module_version": "1.0.0",
       "_view_name": "OutputView",
       "layout": "IPY_MODEL_967e9ddebe13452781ce83f04781e318",
       "msg_id": "",
       "outputs": [
        {
         "data": {
          "image/png": "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",
          "text/plain": "<Figure size 640x480 with 1 Axes>"
         },
         "metadata": {},
         "output_type": "display_data"
        }
       ],
       "tabbable": null,
       "tooltip": null
      }
     },
     "f0c20d17236d4930bbd6ef6b56b3f3be": {
      "model_module": "@jupyter-widgets/controls",
      "model_module_version": "2.0.0",
      "model_name": "IntSliderModel",
      "state": {
       "_dom_classes": [],
       "_model_module": "@jupyter-widgets/controls",
       "_model_module_version": "2.0.0",
       "_model_name": "IntSliderModel",
       "_view_count": null,
       "_view_module": "@jupyter-widgets/controls",
       "_view_module_version": "2.0.0",
       "_view_name": "IntSliderView",
       "behavior": "drag-tap",
       "continuous_update": true,
       "description": "N",
       "description_allow_html": false,
       "disabled": false,
       "layout": "IPY_MODEL_800a3c6e0f2f44668893f8704b3c6cb8",
       "max": 10,
       "min": 4,
       "orientation": "horizontal",
       "readout": true,
       "readout_format": "d",
       "step": 1,
       "style": "IPY_MODEL_e1cf598f19584431bd2a952ec55a9fdc",
       "tabbable": null,
       "tooltip": null,
       "value": 4
      }
     },
     "f113186bbcdc40ebbd0225292102848d": {
      "model_module": "@jupyter-widgets/controls",
      "model_module_version": "2.0.0",
      "model_name": "FloatSliderModel",
      "state": {
       "_dom_classes": [],
       "_model_module": "@jupyter-widgets/controls",
       "_model_module_version": "2.0.0",
       "_model_name": "FloatSliderModel",
       "_view_count": null,
       "_view_module": "@jupyter-widgets/controls",
       "_view_module_version": "2.0.0",
       "_view_name": "FloatSliderView",
       "behavior": "drag-tap",
       "continuous_update": true,
       "description": "S",
       "description_allow_html": false,
       "disabled": false,
       "layout": "IPY_MODEL_319cfeb926d44c0398b3779d70288995",
       "max": 1.0,
       "min": 0.0,
       "orientation": "horizontal",
       "readout": true,
       "readout_format": ".2f",
       "step": 0.2,
       "style": "IPY_MODEL_8da1939fa28146d8a8fb1573d119dca6",
       "tabbable": null,
       "tooltip": null,
       "value": 0.0
      }
     }
    },
    "version_major": 2,
    "version_minor": 0
   }
  }
 },
 "nbformat": 4,
 "nbformat_minor": 5
}
