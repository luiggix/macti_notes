{
 "cells": [
  {
   "cell_type": "code",
   "execution_count": 14,
   "id": "73aeaeb4",
   "metadata": {},
   "outputs": [],
   "source": [
    "import numpy as np\n",
    "import matplotlib.pyplot as plt"
   ]
  },
  {
   "cell_type": "code",
   "execution_count": 15,
   "id": "fe986ccb",
   "metadata": {},
   "outputs": [],
   "source": [
    "def conduccion_1d(K, S, L, Ta, Tb, N):\n",
    "\n",
    "    \"\"\"\n",
    "    Parámetros físicos del problema\n",
    "    L: float\n",
    "    L es la longitud del dominio\n",
    "\n",
    "    K = float\n",
    "    K es la conductividad\n",
    "    \n",
    "    S = float\n",
    "    S es la fuente\n",
    "\n",
    "    Ta = FLOAT\n",
    "    Es la condición de frontera a la izquierda\n",
    "    \n",
    "    Tb =  float\n",
    "    Es la condición de frontera \n",
    "\n",
    " Parámetros numéricos del problema\n",
    "   N: int\n",
    "   Es el número de nodos internos (grados de libertad)\"\"\"\n",
    "\n",
    "    h = L/(N+1)\n",
    "\n",
    "    T = np.zeros(N+2)\n",
    "    b = np.zeros(N)\n",
    "    A = np.zeros((N,N))\n",
    "\n",
    "    r = K/h**2\n",
    "    b[3] = S/r\n",
    "    T[0] = Ta\n",
    "    T[-1] = Tb\n",
    "\n",
    "    b[0] += Ta\n",
    "    b[-1] += Tb\n",
    "\n",
    "#b\n",
    "\n",
    "    A[0,0] = 2\n",
    "    A[0,1] = -1\n",
    "\n",
    "    for i in range(1, N-1):\n",
    "        A[i,i] = 2\n",
    "        A[i, i+1] = -1\n",
    "        A[i, i-1] = -1\n",
    "\n",
    "    A[-1,-2] = -1\n",
    "    A[-1,-1] = 2\n",
    "\n",
    "#A\n",
    "\n",
    "    T[1:N+1] = np.linalg.solve(A,b)  #regresa un vector de tamaño 4\n",
    "\n",
    "#T En una diemsión\n",
    "\n",
    "    plt.plot(T, 'o-')  #Es lineal si no hay fuente\n",
    "    plt.show"
   ]
  },
  {
   "cell_type": "code",
   "execution_count": 16,
   "id": "9bdcf729",
   "metadata": {},
   "outputs": [
    {
     "data": {
      "image/png": "[encoded data removed]",
      "text/plain": [
       "<Figure size 432x288 with 1 Axes>"
      ]
     },
     "metadata": {
      "needs_background": "light"
     },
     "output_type": "display_data"
    }
   ],
   "source": [
    "conduccion_1d(0.02, 10.0, 5.0, 200, 1000, 10)"
   ]
  },
  {
   "cell_type": "code",
   "execution_count": 17,
   "id": "765fce8b",
   "metadata": {},
   "outputs": [],
   "source": [
    "import ipywidgets as widgets"
   ]
  },
  {
   "cell_type": "code",
   "execution_count": 18,
   "id": "04db3fa6",
   "metadata": {},
   "outputs": [],
   "source": [
    "w = widgets.interactive(conduccion_1d,\n",
    "                       K = widgets.fixed(0.02),\n",
    "                       S = widgets.FloatSlider(max=200.0, min=-15.0, value=0, step=0.2),\n",
    "                       L = widgets.fixed(5.0),\n",
    "                       Ta = widgets.fixed(200),\n",
    "                       Tb = widgets.fixed(1000),\n",
    "                       N = widgets.IntSlider(max=100, min=4, value=4))"
   ]
  },
  {
   "cell_type": "code",
   "execution_count": 19,
   "id": "b5eb3ee7",
   "metadata": {},
   "outputs": [
    {
     "data": {
      "application/vnd.jupyter.widget-view+json": {
       "model_id": "539261d8a8a54440a84b8b2859abca7d",
       "version_major": 2,
       "version_minor": 0
      },
      "text/plain": [
       "interactive(children=(FloatSlider(value=0.0, description='S', max=200.0, min=-15.0, step=0.2), IntSlider(value…"
      ]
     },
     "metadata": {},
     "output_type": "display_data"
    }
   ],
   "source": [
    "display(w)"
   ]
  },
  {
   "cell_type": "code",
   "execution_count": null,
   "id": "8f61021b",
   "metadata": {},
   "outputs": [],
   "source": []
  }
 ],
 "metadata": {
  "kernelspec": {
   "display_name": "Python 3 (ipykernel)",
   "language": "python",
   "name": "python3"
  },
  "language_info": {
   "codemirror_mode": {
    "name": "ipython",
    "version": 3
   },
   "file_extension": ".py",
   "mimetype": "text/x-python",
   "name": "python",
   "nbconvert_exporter": "python",
   "pygments_lexer": "ipython3",
   "version": "3.9.7"
  }
 },
 "nbformat": 4,
 "nbformat_minor": 5
}
