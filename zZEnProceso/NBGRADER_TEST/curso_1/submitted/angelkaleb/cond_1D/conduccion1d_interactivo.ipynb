{
 "cells": [
  {
   "cell_type": "code",
   "execution_count": 1,
   "id": "b969f9e2",
   "metadata": {},
   "outputs": [],
   "source": [
    "import numpy as np\n",
    "import matplotlib.pyplot as plt"
   ]
  },
  {
   "cell_type": "code",
   "execution_count": 2,
   "id": "94b319be",
   "metadata": {},
   "outputs": [],
   "source": [
    "def conduccion_1d(k,S,L,TA,TB,N):\n",
    "    \"\"\"\n",
    "    Parameters\n",
    "    ----------\n",
    "    L: float\n",
    "    Es la longitud del dominio.\n",
    "   \n",
    "    k: float\n",
    "    Es la conductividad del materia.\n",
    "   \n",
    "    S: float\n",
    "    Es la fuente.\n",
    "   \n",
    "    TA: float\n",
    "    Es la condición de frontera a la izquierda.\n",
    "   \n",
    "    TB: float\n",
    "    Es la condición de frontera a la derecha.\n",
    "   \n",
    "    N: int\n",
    "    Es el número de nodos internos(grados de libertad).\n",
    "   \n",
    "    Return\n",
    "    ----------\n",
    "    Al final esta función dibuja la solución.\n",
    "    \"\"\"\n",
    "#    L=5.0\n",
    "#    k=0.02\n",
    "#    S=2.0\n",
    "#    TA=200\n",
    "#    TB=1000\n",
    "\n",
    "#    N=4\n",
    "    h=L/(N+1)\n",
    "\n",
    "    T=np.zeros(N+2)\n",
    "    b=np.zeros(N)\n",
    "    A=np.zeros((N,N))\n",
    "\n",
    "    r=k/h**2\n",
    "    b[:]=S/r\n",
    "    T[0]=TA\n",
    "    T[-1]=TB\n",
    "    b[0]+=TA\n",
    "    b[-1]+=TB\n",
    "\n",
    "\n",
    "    A[0,0]=2\n",
    "    A[0,1]=-1\n",
    "    for i in range(1,N-1):\n",
    "        A[i,i]=2\n",
    "        A[i,i+1]=-1\n",
    "        A[i,i-1]=-1\n",
    "    A[-1,-2]=-1\n",
    "    A[-1,-1]=2\n",
    "\n",
    "\n",
    "    T[1:N+1]=np.linalg.solve(A,b)\n",
    "    \n",
    "    \n",
    "    plt.plot(T, 'o-')\n",
    "    plt.show()"
   ]
  },
  {
   "cell_type": "code",
   "execution_count": 3,
   "id": "e6b78f54",
   "metadata": {},
   "outputs": [
    {
     "data": {
      "image/png": "[encoded data removed]",
      "text/plain": [
       "<Figure size 432x288 with 1 Axes>"
      ]
     },
     "metadata": {
      "needs_background": "light"
     },
     "output_type": "display_data"
    }
   ],
   "source": [
    "conduccion_1d(.02,1,5,200,1000,15)"
   ]
  },
  {
   "cell_type": "code",
   "execution_count": 4,
   "id": "554f0173",
   "metadata": {},
   "outputs": [],
   "source": [
    "import ipywidgets as widgets"
   ]
  },
  {
   "cell_type": "code",
   "execution_count": 5,
   "id": "b5430cb0",
   "metadata": {},
   "outputs": [],
   "source": [
    "w= widgets.interactive(conduccion_1d,\n",
    "               k= widgets.fixed(.02),\n",
    "               S= widgets.FloatSlider(max=1.0, min=0, value=0, step=0.2),\n",
    "               L= widgets.fixed(5),\n",
    "               TA= widgets.fixed(200),\n",
    "               TB= widgets.fixed(1000),\n",
    "               N= widgets.IntSlider(max=10, min=4, value=4))"
   ]
  },
  {
   "cell_type": "code",
   "execution_count": 6,
   "id": "0a3a6e9b",
   "metadata": {},
   "outputs": [
    {
     "data": {
      "application/vnd.jupyter.widget-view+json": {
       "model_id": "b678b7bb6cdd49109b1de7a07382e250",
       "version_major": 2,
       "version_minor": 0
      },
      "text/plain": [
       "interactive(children=(FloatSlider(value=0.0, description='S', max=1.0, step=0.2), IntSlider(value=4, descripti…"
      ]
     },
     "metadata": {},
     "output_type": "display_data"
    }
   ],
   "source": [
    "display(w)"
   ]
  },
  {
   "cell_type": "code",
   "execution_count": null,
   "id": "1a65f680",
   "metadata": {},
   "outputs": [],
   "source": []
  }
 ],
 "metadata": {
  "kernelspec": {
   "display_name": "Python 3 (ipykernel)",
   "language": "python",
   "name": "python3"
  },
  "language_info": {
   "codemirror_mode": {
    "name": "ipython",
    "version": 3
   },
   "file_extension": ".py",
   "mimetype": "text/x-python",
   "name": "python",
   "nbconvert_exporter": "python",
   "pygments_lexer": "ipython3",
   "version": "3.9.7"
  }
 },
 "nbformat": 4,
 "nbformat_minor": 5
}
