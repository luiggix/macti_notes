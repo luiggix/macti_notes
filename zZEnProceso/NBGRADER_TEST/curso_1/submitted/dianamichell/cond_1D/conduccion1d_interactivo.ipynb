{
 "cells": [
  {
   "cell_type": "code",
   "execution_count": 1,
   "id": "14f49aa1",
   "metadata": {},
   "outputs": [],
   "source": [
    "import numpy as np\n",
    "import matplotlib.pyplot as plt"
   ]
  },
  {
   "cell_type": "code",
   "execution_count": 2,
   "id": "bd93a43c",
   "metadata": {},
   "outputs": [
    {
     "data": {
      "text/plain": [
       "[<matplotlib.lines.Line2D at 0x7fadb27a81c0>]"
      ]
     },
     "execution_count": 2,
     "metadata": {},
     "output_type": "execute_result"
    },
    {
     "data": {
      "image/png": "[encoded data removed]",
      "text/plain": [
       "<Figure size 432x288 with 1 Axes>"
      ]
     },
     "metadata": {
      "needs_background": "light"
     },
     "output_type": "display_data"
    }
   ],
   "source": [
    "#PARAMETROS FISICOS\n",
    "L = 5.0\n",
    "K = 0.02\n",
    "S = 18\n",
    "Ta = 200\n",
    "Tb = 1000\n",
    "\n",
    "#PARAMETROS NUMERICOS\n",
    "N=4\n",
    "h= L/(N+1)\n",
    "\n",
    "T = np.zeros(N+2)\n",
    "b = np.zeros(N)\n",
    "A = np.zeros((N,N))\n",
    "\n",
    "r = K/h**2\n",
    "b[:] = S/r\n",
    "T[0] = Ta\n",
    "T[-1] = Tb\n",
    "b[0] += Ta\n",
    "b[-1] += Tb\n",
    "\n",
    "\n",
    "\n",
    "A[0,0] = 2\n",
    "A[0,1] = -1\n",
    "for i in range(1, N-1):\n",
    "    A[i,i] = 2\n",
    "    A[i,i+1] = -1\n",
    "    A[i,i-1] = -1\n",
    "A[-1,-2] = -1\n",
    "A[-1,-1] = 2\n",
    "\n",
    "\n",
    "T[1:N+1] = np.linalg.solve(A,b)\n",
    "\n",
    "\n",
    "plt.plot(T)"
   ]
  },
  {
   "cell_type": "code",
   "execution_count": 3,
   "id": "c99d2de7",
   "metadata": {},
   "outputs": [],
   "source": [
    "def conduccion_1d(K ,S ,L ,Ta, Tb, N):\n",
    "    \"\"\" \n",
    "  Parameters\n",
    "  ----------\n",
    "  L: float\n",
    "  L es la longitud del dominio.\n",
    "  \n",
    "  K: float\n",
    "  Es la conductividad del material.\n",
    "  \n",
    "  S: float\n",
    "  Es la fuente.\n",
    "  \n",
    "  Ta: float\n",
    "  Es la condición frontera a la izquierda.\n",
    "  \n",
    "  Tb: float\n",
    "  Es la condición frontera de la derecha.\n",
    "  \n",
    "  N: int\n",
    "  Es el número de nodos internos (grados de libertad).\n",
    "  \n",
    "  Return\n",
    "  ------\n",
    "  Al final esta función dibuja la solución.\n",
    "    \"\"\" \n",
    "    h= L/(N+1)\n",
    "\n",
    "    T = np.zeros(N+2)\n",
    "    b = np.zeros(N)\n",
    "    A = np.zeros((N,N))\n",
    "\n",
    "    r = K/h**2\n",
    "    b[:] = S/r\n",
    "    T[0] = Ta\n",
    "    T[-1] = Tb\n",
    "    b[0] += Ta\n",
    "    b[-1] += Tb\n",
    "\n",
    "\n",
    "\n",
    "    A[0,0] = 2\n",
    "    A[0,1] = -1\n",
    "    for i in range(1, N-1):\n",
    "        A[i,i] = 2\n",
    "        A[i,i+1] = -1\n",
    "        A[i,i-1] = -1\n",
    "    A[-1,-2] = -1\n",
    "    A[-1,-1] = 2\n",
    "\n",
    "\n",
    "    T[1:N+1] = np.linalg.solve(A,b)\n",
    "\n",
    "\n",
    "    plt.plot(T, '-o')\n",
    "    plt.show"
   ]
  },
  {
   "cell_type": "code",
   "execution_count": 4,
   "id": "29f587e7",
   "metadata": {
    "scrolled": true
   },
   "outputs": [
    {
     "data": {
      "image/png": "[encoded data removed]",
      "text/plain": [
       "<Figure size 432x288 with 1 Axes>"
      ]
     },
     "metadata": {
      "needs_background": "light"
     },
     "output_type": "display_data"
    }
   ],
   "source": [
    "conduccion_1d(0.02, 100, 5.0, 200, 1000, 4)"
   ]
  },
  {
   "cell_type": "code",
   "execution_count": 5,
   "id": "05283a58",
   "metadata": {},
   "outputs": [],
   "source": [
    "import ipywidgets as widgets"
   ]
  },
  {
   "cell_type": "code",
   "execution_count": 10,
   "id": "15ba1b23",
   "metadata": {},
   "outputs": [],
   "source": [
    "w = widgets.interactive(conduccion_1d,\n",
    "                       K = widgets.fixed(0.02),\n",
    "                       S = widgets.FloatSlider(max=1.6, min=0.0, value=0, step=0.2),\n",
    "                       L = widgets.fixed(5.0),\n",
    "                       Ta = widgets.fixed(200),\n",
    "                       Tb = widgets.fixed(1000),\n",
    "                       N = widgets.IntSlider(max=25,  min=4, value=10))\n",
    "\n",
    "#fixed= valor fijo"
   ]
  },
  {
   "cell_type": "code",
   "execution_count": 11,
   "id": "00491968",
   "metadata": {},
   "outputs": [
    {
     "data": {
      "application/vnd.jupyter.widget-view+json": {
       "model_id": "1a4acaec8ebf470d9e1fb80ca8f5ba39",
       "version_major": 2,
       "version_minor": 0
      },
      "text/plain": [
       "interactive(children=(FloatSlider(value=0.0, description='S', max=1.6, step=0.2), IntSlider(value=10, descript…"
      ]
     },
     "metadata": {},
     "output_type": "display_data"
    }
   ],
   "source": [
    "display(w)"
   ]
  }
 ],
 "metadata": {
  "kernelspec": {
   "display_name": "Python 3 (ipykernel)",
   "language": "python",
   "name": "python3"
  },
  "language_info": {
   "codemirror_mode": {
    "name": "ipython",
    "version": 3
   },
   "file_extension": ".py",
   "mimetype": "text/x-python",
   "name": "python",
   "nbconvert_exporter": "python",
   "pygments_lexer": "ipython3",
   "version": "3.9.7"
  }
 },
 "nbformat": 4,
 "nbformat_minor": 5
}
