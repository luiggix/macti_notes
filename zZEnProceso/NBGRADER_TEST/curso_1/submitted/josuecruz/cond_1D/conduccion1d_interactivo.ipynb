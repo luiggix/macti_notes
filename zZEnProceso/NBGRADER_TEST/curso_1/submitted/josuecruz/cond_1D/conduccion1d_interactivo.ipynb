{
 "cells": [
  {
   "cell_type": "code",
   "execution_count": 9,
   "id": "e8224104",
   "metadata": {
    "tags": []
   },
   "outputs": [],
   "source": [
    "import numpy as np\n",
    "import matplotlib.pyplot as plt "
   ]
  },
  {
   "cell_type": "code",
   "execution_count": 18,
   "id": "f04dbdf0",
   "metadata": {
    "tags": []
   },
   "outputs": [],
   "source": [
    "def conduccion_1d(K, S, L, TA, TB, N):\n",
    "    \"\"\"\n",
    "    Parameters\n",
    "    \n",
    "    ----------\n",
    "    L: float\n",
    "    L es la longitud del dominio.\n",
    "    \n",
    "    K: float\n",
    "    es la conducividad del material.\n",
    "    \n",
    "    S: float\n",
    "    Es la fuente.\n",
    "    \n",
    "    TA: float\n",
    "    Es la condición de frontera a la izquierda.\n",
    "    \n",
    "    TB: float\n",
    "    Es la condición de frontera a la derecha.\n",
    "    \n",
    "    N: int\n",
    "    Es el numero de nodos internos (grados de libertad).\n",
    "    \n",
    "    Return\n",
    "    ------\n",
    "    al final esta función dibuja la solución\n",
    "    \"\"\"\n",
    "    \n",
    "#    L = 5.0\n",
    "#    K = 0.02\n",
    "#    S = 1\n",
    "#    TA = 200\n",
    "#    TB = 1000\n",
    "\n",
    "#    N = 4 \n",
    "    h = L/ (N+1)\n",
    "\n",
    "    T = np.zeros(N+2)\n",
    "    b = np.zeros(N)\n",
    "    A = np.zeros ((N,N))\n",
    "\n",
    "    r = K / h**2 \n",
    "    b[:] = S / r\n",
    "    T[0] = TA\n",
    "    T[-1] = TB\n",
    "    b[0] += TA\n",
    "    b[-1] += TB\n",
    "\n",
    "    A[0,0] = 2\n",
    "    A[0,1] = -1\n",
    "    for i in range(1,N-1):\n",
    "        A[i,i] = 2\n",
    "        A[i,i+1] = -1\n",
    "        A[i,i-1] = -1\n",
    "    A[-1,-2] = -1\n",
    "    A[-1,-1] = 2\n",
    "\n",
    "    T[1:N+1] = np.linalg.solve(A,b)\n",
    "\n",
    "    plt.plot(T, 'o-') \n",
    "    plt.show()"
   ]
  },
  {
   "cell_type": "code",
   "execution_count": 19,
   "id": "3c128119",
   "metadata": {
    "tags": []
   },
   "outputs": [
    {
     "data": {
      "image/png": "[encoded data removed]",
      "text/plain": [
       "<Figure size 640x480 with 1 Axes>"
      ]
     },
     "metadata": {},
     "output_type": "display_data"
    }
   ],
   "source": [
    "conduccion_1d(0.02, 1.0, 5.0, 200, 1000, 4)"
   ]
  },
  {
   "cell_type": "code",
   "execution_count": 20,
   "id": "45c4dc16",
   "metadata": {
    "tags": []
   },
   "outputs": [],
   "source": [
    "import ipywidgets as widgets"
   ]
  },
  {
   "cell_type": "code",
   "execution_count": 21,
   "id": "4650d832",
   "metadata": {
    "tags": []
   },
   "outputs": [],
   "source": [
    "w = widgets.interactive(conduccion_1d,\n",
    "                       K = widgets.fixed(0.02),\n",
    "                       S = widgets.FloatSlider(max=1.0, min=0.0, value=0, step=0.2),\n",
    "                       L = widgets.fixed (5.0),\n",
    "                       TA = widgets.fixed(200),\n",
    "                       TB = widgets.fixed(1000),\n",
    "                        N= widgets.IntSlider(max=10, min=4, value=4))"
   ]
  },
  {
   "cell_type": "code",
   "execution_count": 22,
   "id": "b0ded95a",
   "metadata": {
    "tags": []
   },
   "outputs": [
    {
     "data": {
      "application/vnd.jupyter.widget-view+json": {
       "model_id": "8cbee49309564b55b7752218db1fe3d0",
       "version_major": 2,
       "version_minor": 0
      },
      "text/plain": [
       "interactive(children=(FloatSlider(value=0.0, description='S', max=1.0, step=0.2), IntSlider(value=4, descripti…"
      ]
     },
     "metadata": {},
     "output_type": "display_data"
    }
   ],
   "source": [
    "display(w)"
   ]
  },
  {
   "cell_type": "code",
   "execution_count": 17,
   "id": "c20e8d7b",
   "metadata": {
    "tags": []
   },
   "outputs": [
    {
     "data": {
      "application/vnd.jupyter.widget-view+json": {
       "model_id": "09e500d20cc34f66b80d43310e5c1d42",
       "version_major": 2,
       "version_minor": 0
      },
      "text/plain": [
       "interactive(children=(FloatSlider(value=0.0, description='S', max=1.0, step=0.2), IntSlider(value=4, descripti…"
      ]
     },
     "metadata": {},
     "output_type": "display_data"
    }
   ],
   "source": [
    "w = widgets.interactive(conduccion_1d,\n",
    "                       K = widgets.fixed(0.02),\n",
    "                       S = widgets.FloatSlider(max = 1.0, min = 0.0, value = 0, step = 0.2),\n",
    "                       L = widgets.fixed(5.0),\n",
    "                       TA = widgets.fixed(200),\n",
    "                       TB = widgets.fixed(1000),\n",
    "                       N = widgets.IntSlider(max = 10, min = 4, value = 4))\n",
    "display(w)"
   ]
  },
  {
   "cell_type": "code",
   "execution_count": null,
   "id": "59bce6a9-6c3e-4595-8ee4-5b5035e18fbd",
   "metadata": {},
   "outputs": [],
   "source": []
  }
 ],
 "metadata": {
  "kernelspec": {
   "display_name": "Python 3 (ipykernel)",
   "language": "python",
   "name": "python3"
  },
  "language_info": {
   "codemirror_mode": {
    "name": "ipython",
    "version": 3
   },
   "file_extension": ".py",
   "mimetype": "text/x-python",
   "name": "python",
   "nbconvert_exporter": "python",
   "pygments_lexer": "ipython3",
   "version": "3.11.3"
  }
 },
 "nbformat": 4,
 "nbformat_minor": 5
}
