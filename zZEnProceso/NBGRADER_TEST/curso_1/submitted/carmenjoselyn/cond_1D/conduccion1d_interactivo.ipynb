{
 "cells": [
  {
   "cell_type": "markdown",
   "id": "43bdfe0f",
   "metadata": {},
   "source": [
    "## C.Joselyn Pérez Pérez 21/02/23"
   ]
  },
  {
   "cell_type": "code",
   "execution_count": 1,
   "id": "15b10f8d",
   "metadata": {},
   "outputs": [],
   "source": []
  },
  {
   "cell_type": "code",
   "execution_count": 1,
   "id": "4c369871",
   "metadata": {
    "tags": []
   },
   "outputs": [],
   "source": [
    "#Parametros físicos\n",
    "def conduccion_1d(k, S, L, TA, TB, N):\n",
    "    \"\"\"\"\n",
    "    Parameters\n",
    "    ----------\n",
    "    L:float\n",
    "    L es la longitud del dominio\n",
    "    \n",
    "    k:float\n",
    "    k es la conductividad del material\n",
    "    \n",
    "    S:float\n",
    "    S es la fuente\n",
    "    \n",
    "    TA:float\n",
    "    TA es la ocndición de frontera del lado izquierdo\n",
    "    \n",
    "    TB: float\n",
    "    TB es la condición de frontera de la derecha\n",
    "    \n",
    "    N:int\n",
    "    N es el número de nodos internos (grados de libertad)\n",
    "    \n",
    "    Return\n",
    "    ------\n",
    "    Esta función hace lagráfica de la solución\n",
    "    \"\"\"\n",
    "    \n",
    "    \n",
    "    import numpy as np\n",
    "    import matplotlib.pyplot as plt\n",
    "#    L=5.0\n",
    "#    k=0.02\n",
    "#    S=200.0\n",
    "#    TA=200.0\n",
    "#    TB=1000.0\n",
    "\n",
    "    #Parametros numéricos\n",
    "    N=10\n",
    "    h=L/(N+1)\n",
    "\n",
    "    T=np.zeros(N+2)\n",
    "    b=np.zeros(N)\n",
    "    A=np.zeros((N,N))\n",
    "\n",
    "    r=k/h**2\n",
    "    b[:]=S/r\n",
    "    T[0]=TA\n",
    "    T[-1]=TB\n",
    "    b[0]+= TA\n",
    "    b[-1]+= TB\n",
    "\n",
    "    for i in range(1,N-1):\n",
    "        A[i,i]=2\n",
    "        A[i,i+1]=-1\n",
    "        A[i,i-1]=-1\n",
    "\n",
    "    A[0,0]=2\n",
    "    A[0,1]=-1\n",
    "    A[-1,-2]=-1\n",
    "    A[-1,-1]=2\n",
    "\n",
    "    T[1:N+1]=np.linalg.solve(A,b)\n",
    "\n",
    "    plt.plot(T, 'o-') \n"
   ]
  },
  {
   "cell_type": "code",
   "execution_count": 2,
   "id": "dee7ffc2",
   "metadata": {
    "tags": []
   },
   "outputs": [
    {
     "data": {
      "image/png": "[encoded data removed]",
      "text/plain": [
       "<Figure size 640x480 with 1 Axes>"
      ]
     },
     "metadata": {},
     "output_type": "display_data"
    }
   ],
   "source": [
    "conduccion_1d(0.02, 0, 5, 200, 1000, 5) #Con shift y tabulador sale la descripción"
   ]
  },
  {
   "cell_type": "code",
   "execution_count": 3,
   "id": "ce82ea49",
   "metadata": {
    "tags": []
   },
   "outputs": [],
   "source": [
    "import ipywidgets as widgets"
   ]
  },
  {
   "cell_type": "code",
   "execution_count": 4,
   "id": "15fb6e36",
   "metadata": {
    "tags": []
   },
   "outputs": [],
   "source": [
    "w= widgets.interactive(conduccion_1d,\n",
    "                       k=widgets.fixed(0.02), \n",
    "                       S=widgets.FloatSlider(max=1.0, min=0.0, value=0, step=0.2), \n",
    "                       L=widgets.fixed(5.0), \n",
    "                       TA=widgets.fixed(200), \n",
    "                       TB=widgets.fixed(1000), \n",
    "                       N=widgets.IntSlider(max=10, min=4, value=4))"
   ]
  },
  {
   "cell_type": "code",
   "execution_count": 5,
   "id": "bcd13814",
   "metadata": {
    "tags": []
   },
   "outputs": [
    {
     "data": {
      "application/vnd.jupyter.widget-view+json": {
       "model_id": "62cf016c321e49018d8d7301587292c4",
       "version_major": 2,
       "version_minor": 0
      },
      "text/plain": [
       "interactive(children=(FloatSlider(value=0.0, description='S', max=1.0, step=0.2), IntSlider(value=4, descripti…"
      ]
     },
     "metadata": {},
     "output_type": "display_data"
    }
   ],
   "source": [
    "display(w)"
   ]
  },
  {
   "cell_type": "code",
   "execution_count": null,
   "id": "69974336",
   "metadata": {},
   "outputs": [],
   "source": [
    "\n"
   ]
  },
  {
   "cell_type": "code",
   "execution_count": null,
   "id": "b9506fed",
   "metadata": {},
   "outputs": [],
   "source": [
    "\n",
    "\n"
   ]
  },
  {
   "cell_type": "code",
   "execution_count": null,
   "id": "e1ad846a",
   "metadata": {},
   "outputs": [],
   "source": []
  },
  {
   "cell_type": "code",
   "execution_count": null,
   "id": "ab8303fb",
   "metadata": {},
   "outputs": [],
   "source": []
  }
 ],
 "metadata": {
  "kernelspec": {
   "display_name": "Python 3 (ipykernel)",
   "language": "python",
   "name": "python3"
  },
  "language_info": {
   "codemirror_mode": {
    "name": "ipython",
    "version": 3
   },
   "file_extension": ".py",
   "mimetype": "text/x-python",
   "name": "python",
   "nbconvert_exporter": "python",
   "pygments_lexer": "ipython3",
   "version": "3.11.3"
  }
 },
 "nbformat": 4,
 "nbformat_minor": 5
}
