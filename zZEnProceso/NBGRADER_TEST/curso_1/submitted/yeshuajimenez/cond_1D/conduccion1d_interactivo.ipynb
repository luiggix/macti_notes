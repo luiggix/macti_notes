{
 "cells": [
  {
   "cell_type": "code",
   "execution_count": 1,
   "id": "f1c2e3a4",
   "metadata": {},
   "outputs": [],
   "source": [
    "import numpy as np\n",
    "import matplotlib.pyplot as plt"
   ]
  },
  {
   "cell_type": "code",
   "execution_count": 2,
   "id": "2c4f9b5b",
   "metadata": {},
   "outputs": [],
   "source": [
    "def conduccion_1d(k,S,L,TA,TB,N):\n",
    "    \"\"\"\n",
    "    Parameters\n",
    "    L:float\n",
    "    L es la longitud del dominio\n",
    "    k:float\n",
    "    k es la conductividad termica del material\n",
    "    S:float\n",
    "    S es la fuente de calor\n",
    "    TA:float\n",
    "    TA es la conducción de frontera a la izquierda\n",
    "    TB: float\n",
    "    TB es la conducción de frontera a la derecha\n",
    "    Return\n",
    "    Al final esta función dibuja la solución\n",
    "    Aqui un ejemplo de los datos que puedes usar:\n",
    "    #L=5.0\n",
    "    #k=0.02\n",
    "    #S=1.0\n",
    "    #TA=200\n",
    "    #TB=1000\n",
    "    #N=30\n",
    "    \"\"\"\n",
    "    T=np.zeros(N+2)\n",
    "    b=np.zeros(N)\n",
    "    A=np.zeros((N,N))\n",
    "    h=L/(N+1)\n",
    "    r=k/h**2\n",
    "    b[:]=S/r\n",
    "    T[0]=TA\n",
    "    T[-1]=TB\n",
    "    b[0]+=TA\n",
    "    b[-1]+=TB\n",
    "    for i in range (1,N-1):\n",
    "        A[i,i]=2\n",
    "        A[i,i+1]=-1\n",
    "        A[i,i-1]=-1\n",
    "    A[0,0]=2\n",
    "    A[0,1]=-1\n",
    "    A[-1,-2]=-1\n",
    "    A[-1,-1]=2    \n",
    "    T[1:N+1]=np.linalg.solve(A,b)\n",
    "    plt.plot(T, 'o-') \n",
    "    plt.ylabel(\"Temp\")\n",
    "    plt.xlabel(\"N\")"
   ]
  },
  {
   "cell_type": "code",
   "execution_count": 3,
   "id": "3855b1b8",
   "metadata": {},
   "outputs": [
    {
     "data": {
      "image/png": "[encoded data removed]",
      "text/plain": [
       "<Figure size 432x288 with 1 Axes>"
      ]
     },
     "metadata": {
      "needs_background": "light"
     },
     "output_type": "display_data"
    }
   ],
   "source": [
    "conduccion_1d(0.02,1.35,5.0,200,1000,30)"
   ]
  },
  {
   "cell_type": "code",
   "execution_count": 4,
   "id": "610d78d1",
   "metadata": {},
   "outputs": [],
   "source": [
    "import ipywidgets as widgets"
   ]
  },
  {
   "cell_type": "code",
   "execution_count": 5,
   "id": "f7fa30bd",
   "metadata": {},
   "outputs": [
    {
     "data": {
      "application/vnd.jupyter.widget-view+json": {
       "model_id": "3ef692c5debe48d692559365cdbf0fe0",
       "version_major": 2,
       "version_minor": 0
      },
      "text/plain": [
       "interactive(children=(FloatSlider(value=0.0, description='S', max=1.35, min=-1.35, step=0.05), IntSlider(value…"
      ]
     },
     "metadata": {},
     "output_type": "display_data"
    }
   ],
   "source": [
    "w=widgets.interactive(conduccion_1d,\n",
    "                      k=widgets.fixed(0.02), \n",
    "                      S=widgets.FloatSlider(max=1.35,min=-1.35,value=0,step=0.05), \n",
    "                      L=widgets.fixed(5.0), \n",
    "                      TA=widgets.fixed(0), \n",
    "                      TB=widgets.fixed(1000),\n",
    "                      N=widgets.IntSlider(max=40,min=2,value=10))\n",
    "display(w)"
   ]
  }
 ],
 "metadata": {
  "kernelspec": {
   "display_name": "Python 3 (ipykernel)",
   "language": "python",
   "name": "python3"
  },
  "language_info": {
   "codemirror_mode": {
    "name": "ipython",
    "version": 3
   },
   "file_extension": ".py",
   "mimetype": "text/x-python",
   "name": "python",
   "nbconvert_exporter": "python",
   "pygments_lexer": "ipython3",
   "version": "3.9.7"
  }
 },
 "nbformat": 4,
 "nbformat_minor": 5
}
