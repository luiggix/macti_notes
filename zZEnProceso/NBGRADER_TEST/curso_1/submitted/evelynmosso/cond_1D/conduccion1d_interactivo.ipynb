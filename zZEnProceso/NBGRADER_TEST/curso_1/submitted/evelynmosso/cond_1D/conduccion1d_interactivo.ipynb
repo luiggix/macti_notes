{
 "cells": [
  {
   "cell_type": "code",
   "execution_count": 1,
   "id": "65004213",
   "metadata": {},
   "outputs": [],
   "source": [
    "import numpy as np \n",
    "import matplotlib.pyplot as plt "
   ]
  },
  {
   "cell_type": "code",
   "execution_count": 17,
   "id": "2767ea51",
   "metadata": {},
   "outputs": [],
   "source": [
    "def conduccion_1d(k, s, L, TA, TB, N):\n",
    "    \"\"\"\n",
    "    Parameters\n",
    "    ----------\n",
    "    L: float \n",
    "    L es la longitud del dominio \n",
    "    \n",
    "    k: float \n",
    "    es la conductividad del material \n",
    "    \n",
    "    s: float \n",
    "    es la fuente \n",
    "    \n",
    "    TA: float \n",
    "    es la condición de la frontera a la izquierda \n",
    "    \n",
    "    TB: float \n",
    "    es la condición de la fronters a la derecha \n",
    "    \n",
    "    N: int \n",
    "    Es el número de nodos internos \n",
    "    \n",
    "    \"\"\" \n",
    "    \n",
    "#    L= 5.0\n",
    "#    k= 0.02\n",
    "#    s= 1 \n",
    "#    TA= 200\n",
    "#    TB= 1000\n",
    "\n",
    "#    N=4\n",
    "    H= L/(N+1)\n",
    "\n",
    "    T = np.zeros(N+2)\n",
    "    b = np.zeros(N)\n",
    "    A = np.zeros((N,N))\n",
    "\n",
    "    r = k / H**2\n",
    "    b[:] = s/r\n",
    "    T[0] = TA\n",
    "    T[-1] = TB \n",
    "    b[0] += TA\n",
    "    b[-1] += TB \n",
    "\n",
    "    A[0,0]=2\n",
    "    A[0,1]=-1\n",
    "\n",
    "    for i in range(1,N-1):\n",
    "        A[i,i]=2 \n",
    "        A[i,i+1] = -1\n",
    "        A[i,i-1] = -1 \n",
    "    \n",
    "    A[-1,-2]= -1\n",
    "    A[-1,-1]= 2\n",
    "    T[1:N+1] = np.linalg.solve(A,b)\n",
    "\n",
    "    plt.plot(T, 'o-')"
   ]
  },
  {
   "cell_type": "code",
   "execution_count": 18,
   "id": "7e398c1e",
   "metadata": {},
   "outputs": [
    {
     "data": {
      "image/png": "[encoded data removed]",
      "text/plain": [
       "<Figure size 432x288 with 1 Axes>"
      ]
     },
     "metadata": {
      "needs_background": "light"
     },
     "output_type": "display_data"
    }
   ],
   "source": [
    "conduccion_1d(0.02, 100, 5.0, 200, 1000, 10)"
   ]
  },
  {
   "cell_type": "code",
   "execution_count": 6,
   "id": "af2508e9",
   "metadata": {},
   "outputs": [],
   "source": [
    "import ipywidgets as widgets"
   ]
  },
  {
   "cell_type": "code",
   "execution_count": 11,
   "id": "603a7d4d",
   "metadata": {},
   "outputs": [],
   "source": [
    "w = widgets.interactive(conduccion_1d, \n",
    "                k = widgets.fixed(0.02),\n",
    "                s = widgets.FloatSlider(max=100, min=0.0, value=0, step=0.2),\n",
    "                L = widgets.fixed(5.0),\n",
    "                TA = widgets.fixed(200),\n",
    "                TB = widgets.fixed(1000),\n",
    "                N = widgets.IntSlider(max=80, min=4, value=4))\n",
    "                \n",
    "                "
   ]
  },
  {
   "cell_type": "code",
   "execution_count": 12,
   "id": "0bd625b3",
   "metadata": {},
   "outputs": [
    {
     "data": {
      "application/vnd.jupyter.widget-view+json": {
       "model_id": "a203154141ce46fb942f90ee653190cf",
       "version_major": 2,
       "version_minor": 0
      },
      "text/plain": [
       "interactive(children=(FloatSlider(value=0.0, description='s', step=0.2), IntSlider(value=4, description='N', m…"
      ]
     },
     "metadata": {},
     "output_type": "display_data"
    }
   ],
   "source": [
    "display(w)"
   ]
  },
  {
   "cell_type": "code",
   "execution_count": null,
   "id": "836d3505",
   "metadata": {},
   "outputs": [],
   "source": []
  }
 ],
 "metadata": {
  "kernelspec": {
   "display_name": "Python 3 (ipykernel)",
   "language": "python",
   "name": "python3"
  },
  "language_info": {
   "codemirror_mode": {
    "name": "ipython",
    "version": 3
   },
   "file_extension": ".py",
   "mimetype": "text/x-python",
   "name": "python",
   "nbconvert_exporter": "python",
   "pygments_lexer": "ipython3",
   "version": "3.9.7"
  }
 },
 "nbformat": 4,
 "nbformat_minor": 5
}
