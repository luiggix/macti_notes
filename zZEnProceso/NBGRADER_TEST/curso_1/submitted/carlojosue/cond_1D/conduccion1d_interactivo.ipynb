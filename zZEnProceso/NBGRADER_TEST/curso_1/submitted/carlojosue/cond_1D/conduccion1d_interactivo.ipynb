{
 "cells": [
  {
   "cell_type": "code",
   "execution_count": 1,
   "id": "4e3df8b8",
   "metadata": {},
   "outputs": [],
   "source": [
    "import numpy as np\n",
    "import matplotlib.pyplot as plt"
   ]
  },
  {
   "cell_type": "code",
   "execution_count": 2,
   "id": "6fdd0ab6",
   "metadata": {},
   "outputs": [],
   "source": [
    "def conduccion_1d(L, K, S, Ta, Tb, N):\n",
    "    \"\"\"\n",
    "    Parameters\n",
    "    -----\n",
    "    \n",
    "    L: float\n",
    "    L es la longitud del dominio.\n",
    "    \n",
    "    K: float\n",
    "    K es la conductividad.\n",
    "    \n",
    "    S: float\n",
    "    S es la fuente.\n",
    "    \n",
    "    Ta: float\n",
    "    Ta es la condición de frontera a la izquierda.\n",
    "    \n",
    "    Tb: float\n",
    "    Tb es la condición de frontera a la derecha.\n",
    "    \n",
    "    N: int\n",
    "    N es el número de nodos internos (grados de libertad).\n",
    "    \n",
    "    Return\n",
    "    ------\n",
    "    Al final esta función dibuja la solución.\n",
    "    \"\"\"\n",
    "\n",
    "    h = L/(N+1)\n",
    "    r = K/h**2\n",
    "\n",
    "    T = np.zeros(N+2)\n",
    "    b = np.zeros(N)\n",
    "    A = np.zeros ((N,N))\n",
    "\n",
    "    b[:] = S/r\n",
    "    T[0] = Ta\n",
    "    T[-1] = Tb\n",
    "    b[0] += Ta\n",
    "    b[-1] += Tb\n",
    "\n",
    "    for i in range (0,N):\n",
    "        A[i,i] = 2\n",
    "        for j in range (0, N-1):\n",
    "            A[j,j+1] = -1\n",
    "            A[j+1,j] = -1\n",
    "\n",
    "    T[1:N+1] = np.linalg.solve(A,b)\n",
    "    plt.plot(T, 'o-')"
   ]
  },
  {
   "cell_type": "code",
   "execution_count": 3,
   "id": "fb434419",
   "metadata": {},
   "outputs": [
    {
     "data": {
      "image/png": "[encoded data removed]",
      "text/plain": [
       "<Figure size 432x288 with 1 Axes>"
      ]
     },
     "metadata": {
      "needs_background": "light"
     },
     "output_type": "display_data"
    }
   ],
   "source": [
    "conduccion_1d(5.0, 0.02, -6, 200, 1000, 10)"
   ]
  },
  {
   "cell_type": "code",
   "execution_count": 4,
   "id": "7e5468c7",
   "metadata": {},
   "outputs": [],
   "source": [
    "import ipywidgets as widgets"
   ]
  },
  {
   "cell_type": "code",
   "execution_count": 9,
   "id": "01db9731",
   "metadata": {},
   "outputs": [],
   "source": [
    "w = widgets.interactive(conduccion_1d,\n",
    "                       L = widgets.fixed(5.0),\n",
    "                        K = widgets.fixed(0.02),\n",
    "                        S = widgets.FloatSlider(max = 10.0, min = -10.0, value = 0, step=0.2),\n",
    "                        Ta = widgets.fixed(200),\n",
    "                        Tb = widgets.fixed(1000),\n",
    "                        N = widgets.IntSlider(max = 100, min = 1, value = 5))"
   ]
  },
  {
   "cell_type": "code",
   "execution_count": 10,
   "id": "2a90daff",
   "metadata": {},
   "outputs": [
    {
     "data": {
      "application/vnd.jupyter.widget-view+json": {
       "model_id": "b70b142abc30438d959818ed448c5f67",
       "version_major": 2,
       "version_minor": 0
      },
      "text/plain": [
       "interactive(children=(FloatSlider(value=0.0, description='S', max=10.0, min=-10.0, step=0.2), IntSlider(value=…"
      ]
     },
     "metadata": {},
     "output_type": "display_data"
    }
   ],
   "source": [
    "display(w)"
   ]
  }
 ],
 "metadata": {
  "kernelspec": {
   "display_name": "Python 3 (ipykernel)",
   "language": "python",
   "name": "python3"
  },
  "language_info": {
   "codemirror_mode": {
    "name": "ipython",
    "version": 3
   },
   "file_extension": ".py",
   "mimetype": "text/x-python",
   "name": "python",
   "nbconvert_exporter": "python",
   "pygments_lexer": "ipython3",
   "version": "3.9.7"
  }
 },
 "nbformat": 4,
 "nbformat_minor": 5
}
