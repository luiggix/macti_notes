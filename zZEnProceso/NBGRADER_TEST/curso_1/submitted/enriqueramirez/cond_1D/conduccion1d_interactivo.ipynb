{
 "cells": [
  {
   "cell_type": "markdown",
   "id": "3501c5cd",
   "metadata": {},
   "source": [
    "## Código para la transferencia de calor en una dimensión\n",
    "Enrique Ramírez Hernández - Ciencias Atmosféricas"
   ]
  },
  {
   "cell_type": "code",
   "execution_count": 1,
   "id": "b88f3fb7",
   "metadata": {},
   "outputs": [],
   "source": [
    "import numpy as np\n",
    "import matplotlib.pyplot as plt"
   ]
  },
  {
   "cell_type": "code",
   "execution_count": 22,
   "id": "6ae7f8b6",
   "metadata": {},
   "outputs": [],
   "source": [
    "def conduccion_1d(k, S, L, TA, TB, N):\n",
    "    \n",
    "    \"\"\"\n",
    "    Parameters\n",
    "    ----------\n",
    "    L: float\n",
    "    L es la longitud del dominio.\n",
    "    \n",
    "    k: float\n",
    "    es la conductividad del material.\n",
    "    \n",
    "    S: float\n",
    "    es la fuente.\n",
    "    \n",
    "    TA: float\n",
    "    Es la condición de frontera a la izquierda.\n",
    "    \n",
    "    TB: float\n",
    "    Es la condición de frontera a la derecha.\n",
    "    \n",
    "    N: int\n",
    "    Es el número de nodos internos (grados de libertad). \n",
    "    \n",
    "    Return\n",
    "    ------\n",
    "    al final esta función dibuja la solución.\n",
    "    \"\"\"\n",
    "    \n",
    "\n",
    "#    L = 5.0        Longitud del dominio\n",
    "#    k = 0.02       Conductividad eleéctrica \n",
    "#    S = 1.0        Fuente\n",
    "#    TA = 200       Temperatura lado izquierdo\n",
    "#    TB = 1000      Temperatura derecho\n",
    "\n",
    "#    N = 4\n",
    "    h = L / (N+1)\n",
    "\n",
    "    T = np.zeros(N+2)\n",
    "    b = np.zeros(N)\n",
    "    A = np.zeros((N,N))\n",
    "\n",
    "    r = k / h**2\n",
    "    b[:] = S / r\n",
    "    T[0] = TA\n",
    "    T[-1] = TB\n",
    "    b[0] += TA\n",
    "    b[-1] += TB\n",
    "\n",
    "    b\n",
    "\n",
    "    A[0,0] = 2\n",
    "    A[0,1] = -1\n",
    "    for i in range(1,N-1):\n",
    "        A[i,i] = 2\n",
    "        A[i,i+1] =-1\n",
    "        A[i,i-1] =-1\n",
    "    A[-1,-2] = -1\n",
    "    A[-1,-1] = 2\n",
    "\n",
    "    A\n",
    "\n",
    "    T[1:N+1] = np.linalg.solve(A,b)\n",
    "\n",
    "    plt.plot(T,'o-')\n",
    "    plt.show()\n",
    "\n",
    "#PROGRAMACIÓN SPAGUETTI\n"
   ]
  },
  {
   "cell_type": "code",
   "execution_count": 24,
   "id": "e2feb7df",
   "metadata": {},
   "outputs": [
    {
     "data": {
      "image/png": "[encoded data removed]",
      "text/plain": [
       "<Figure size 432x288 with 1 Axes>"
      ]
     },
     "metadata": {
      "needs_background": "light"
     },
     "output_type": "display_data"
    }
   ],
   "source": [
    "conduccion_1d(0.02, 10.0, 5.0, 200, 1000, 10)"
   ]
  },
  {
   "cell_type": "code",
   "execution_count": 5,
   "id": "b3dd9370",
   "metadata": {},
   "outputs": [],
   "source": [
    "import ipywidgets as widgets"
   ]
  },
  {
   "cell_type": "code",
   "execution_count": 6,
   "id": "f9c1ad26",
   "metadata": {},
   "outputs": [],
   "source": [
    "w = widgets.interactive(conduccion_1d,\n",
    "                        k = widgets.fixed(0.02),\n",
    "                        S = widgets.FloatSlider(max=100.0, min=0.0, value=0, step=0.2),\n",
    "                        L = widgets.fixed(5.0),\n",
    "                        TA = widgets.fixed(200),\n",
    "                        TB = widgets.fixed(1000),\n",
    "                        N = widgets.IntSlider(max=30, min=4, value=4))     "
   ]
  },
  {
   "cell_type": "code",
   "execution_count": 7,
   "id": "586888ab",
   "metadata": {},
   "outputs": [
    {
     "data": {
      "application/vnd.jupyter.widget-view+json": {
       "model_id": "3c4c46da8e23408f902760068dc0722d",
       "version_major": 2,
       "version_minor": 0
      },
      "text/plain": [
       "interactive(children=(FloatSlider(value=0.0, description='S', step=0.2), IntSlider(value=4, description='N', m…"
      ]
     },
     "metadata": {},
     "output_type": "display_data"
    }
   ],
   "source": [
    "display(w)"
   ]
  }
 ],
 "metadata": {
  "kernelspec": {
   "display_name": "Python 3 (ipykernel)",
   "language": "python",
   "name": "python3"
  },
  "language_info": {
   "codemirror_mode": {
    "name": "ipython",
    "version": 3
   },
   "file_extension": ".py",
   "mimetype": "text/x-python",
   "name": "python",
   "nbconvert_exporter": "python",
   "pygments_lexer": "ipython3",
   "version": "3.9.7"
  }
 },
 "nbformat": 4,
 "nbformat_minor": 5
}
