{
 "cells": [
  {
   "cell_type": "code",
   "execution_count": 1,
   "id": "95aaaeae",
   "metadata": {
    "tags": []
   },
   "outputs": [],
   "source": [
    "import numpy as np\n",
    "import matplotlib.pyplot as plt \n",
    "def conduccion_Id(K, S, L, TA, TB, N):\n",
    "    \"\"\"https://citli.nucleares.unam.mx/user/fernandomota@encit.unam.mx/notebooks/Fernando_Mota_210223.ipynb#\n",
    "    Parameters\n",
    "    ------------\n",
    "    L: float\n",
    "    es la longitud del dominio. \n",
    "    \n",
    "    K: float\n",
    "    es la conductividad del material.\n",
    "    \n",
    "    S: float \n",
    "    es la fuente.\n",
    "    \n",
    "    TA: float\n",
    "    Es la condidioón de frontera a la izquierda.\n",
    "    \n",
    "    TB: float\n",
    "    Es la condición de frontera a la derecha.\n",
    "    \n",
    "    N: int\n",
    "    Es el número de nodos internos (grados de libertad).\n",
    "    \n",
    "    Return\n",
    "    ------------\n",
    "    Al final esta función dibujó la solución \n",
    "    \"\"\"\n",
    "    \n",
    "def conduccion_Id(K, S, L, TA, TB, N):\n",
    "#    L = 5.0\n",
    "#    K = 0.02\n",
    "#    S = 1.0\n",
    "#    TA = 200\n",
    "#    TB = 100\n",
    "\n",
    "#    N = 4\n",
    "    h = L/(N+1)\n",
    "\n",
    "    T = np.zeros(N+2)\n",
    "    b = np.zeros (N)\n",
    "    A = np.zeros ((N,N))\n",
    "\n",
    "    r = K / h**2\n",
    "    b[:] = S / r\n",
    "    T[0] = TA\n",
    "    T[-1] = TB\n",
    "    b[0]+= TA\n",
    "    b[-1]+=TB\n",
    "\n",
    "    A[0,0] = 2\n",
    "    A[0,1] = -1\n",
    "    for i in range (1, N-1) :\n",
    "        A [i,i] = 2\n",
    "        A [i,i+1] = -1\n",
    "        A [i,i-1] = -1\n",
    "    A[-1,-2] = -1\n",
    "    A[-1,-1] = 2\n",
    "\n",
    "    T[1:N+1] = np.linalg.solve(A,b)\n",
    "    plt.plot(T)"
   ]
  },
  {
   "cell_type": "code",
   "execution_count": 2,
   "id": "27095eb1",
   "metadata": {
    "tags": []
   },
   "outputs": [
    {
     "data": {
      "image/png": "[encoded data removed]",
      "text/plain": [
       "<Figure size 640x480 with 1 Axes>"
      ]
     },
     "metadata": {},
     "output_type": "display_data"
    }
   ],
   "source": [
    "conduccion_Id(0.02, 1.0, 5.0, 200, 1000, 4)"
   ]
  },
  {
   "cell_type": "code",
   "execution_count": 3,
   "id": "8d57ad9d",
   "metadata": {
    "tags": []
   },
   "outputs": [],
   "source": [
    "import ipywidgets as widgets"
   ]
  },
  {
   "cell_type": "code",
   "execution_count": 4,
   "id": "ca6c982f",
   "metadata": {
    "tags": []
   },
   "outputs": [],
   "source": [
    "w = widgets.interactive(conduccion_Id,\n",
    "                       K = widgets.fixed(0.02),\n",
    "                       S = widgets.FloatSlider(max=1.0, min=0.0, value=0, step=0.2),\n",
    "                       L = widgets.fixed(5.0),\n",
    "                       TA = widgets.fixed(200),\n",
    "                       TB = widgets.fixed(1000),\n",
    "                        N = widgets.IntSlider(max=10, min=4, value=4))"
   ]
  },
  {
   "cell_type": "code",
   "execution_count": 5,
   "id": "db8a84b9",
   "metadata": {
    "tags": []
   },
   "outputs": [
    {
     "data": {
      "application/vnd.jupyter.widget-view+json": {
       "model_id": "c885427ca3b84b85b9dfe0c5fa1b3a63",
       "version_major": 2,
       "version_minor": 0
      },
      "text/plain": [
       "interactive(children=(FloatSlider(value=0.0, description='S', max=1.0, step=0.2), IntSlider(value=4, descripti…"
      ]
     },
     "metadata": {},
     "output_type": "display_data"
    }
   ],
   "source": [
    "display(w)"
   ]
  },
  {
   "cell_type": "code",
   "execution_count": null,
   "id": "39245be2-1bba-4075-a060-28e9d6c84e9d",
   "metadata": {},
   "outputs": [],
   "source": []
  }
 ],
 "metadata": {
  "kernelspec": {
   "display_name": "Python 3 (ipykernel)",
   "language": "python",
   "name": "python3"
  },
  "language_info": {
   "codemirror_mode": {
    "name": "ipython",
    "version": 3
   },
   "file_extension": ".py",
   "mimetype": "text/x-python",
   "name": "python",
   "nbconvert_exporter": "python",
   "pygments_lexer": "ipython3",
   "version": "3.11.3"
  }
 },
 "nbformat": 4,
 "nbformat_minor": 5
}
