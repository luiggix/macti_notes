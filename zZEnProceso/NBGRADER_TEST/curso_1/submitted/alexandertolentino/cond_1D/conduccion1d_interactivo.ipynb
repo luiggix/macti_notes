{
 "cells": [
  {
   "cell_type": "code",
   "execution_count": 1,
   "id": "d5d377c7",
   "metadata": {
    "tags": []
   },
   "outputs": [],
   "source": [
    "import numpy as np\n",
    "import matplotlib.pyplot as plt"
   ]
  },
  {
   "cell_type": "code",
   "execution_count": 7,
   "id": "d7498e89",
   "metadata": {
    "tags": []
   },
   "outputs": [],
   "source": [
    "def conduccion_1d(K,S,L,TA,TB,N):\n",
    "    \"\"\"\"\n",
    "    Parameters\n",
    "    ----------\n",
    "    L: Float\n",
    "    L es la longitud del dominio\n",
    "    \n",
    "    k: float\n",
    "    es la conductividad del material\n",
    "    \n",
    "    S: float\n",
    "    Es la fuente\n",
    "    \n",
    "    TA: float\n",
    "    Es la condición de frontera  ala izquierda\n",
    "    \n",
    "    TB: float\n",
    "    Es la condición de frontera a la derecha\n",
    "    \n",
    "    N: int\n",
    "    Es el número de nodos internos (grados de libertad)\n",
    "    \n",
    "    Return\n",
    "    ------\n",
    "    Al final esta función dibuja la solución\n",
    "    \n",
    "    \"\"\"\n",
    "    #L=5.0\n",
    "    #K=0.02\n",
    "    #S=5.2\n",
    "    #TA=200\n",
    "    #TB=1000\n",
    "    #N = 4\n",
    "    h = L / (N+1)\n",
    "    \n",
    "    T = np.zeros(N+2)\n",
    "    b = np.zeros(N)\n",
    "    A = np.zeros((N,N))\n",
    "\n",
    "    r = K / h**2\n",
    "    b[:] = S / r\n",
    "    T[0] = TA\n",
    "    T[-1] = TB\n",
    "    b[0] += TA\n",
    "    b[-1] += TB\n",
    "\n",
    "    A[0,0]=2\n",
    "    A[0,1]=-1\n",
    "    for i in range (1,N-1):\n",
    "        A[i,i]=2\n",
    "        A[i,i+1]=-1\n",
    "        A[i,i-1]=-1\n",
    "    \n",
    "    A[-1,-2]=-1\n",
    "    A[-1,-1]=2\n",
    "\n",
    "    T[1:N+1] = np.linalg.solve(A,b)\n",
    "\n",
    "    plt.plot(T,'o-')\n",
    "    plt.xlabel('x')\n",
    "    plt.ylabel('y')\n",
    "    plt.show()"
   ]
  },
  {
   "cell_type": "code",
   "execution_count": 8,
   "id": "6050b80c",
   "metadata": {
    "tags": []
   },
   "outputs": [
    {
     "data": {
      "image/png": "[encoded data removed]",
      "text/plain": [
       "<Figure size 640x480 with 1 Axes>"
      ]
     },
     "metadata": {},
     "output_type": "display_data"
    }
   ],
   "source": [
    "conduccion_1d(0.02, 5.2, 5.0, 200, 1000, 4)"
   ]
  },
  {
   "cell_type": "code",
   "execution_count": 9,
   "id": "4b92c6bd",
   "metadata": {
    "tags": []
   },
   "outputs": [],
   "source": [
    "import ipywidgets as widgets"
   ]
  },
  {
   "cell_type": "code",
   "execution_count": 10,
   "id": "1b041725",
   "metadata": {
    "tags": []
   },
   "outputs": [],
   "source": [
    "w = widgets.interactive(conduccion_1d, \n",
    "                        K=widgets.fixed(0.02), \n",
    "                        S=widgets.FloatSlider(max=1.0, min=0, value=0, step=0.02), \n",
    "                        L=widgets.fixed(5.0), \n",
    "                        TA=widgets.fixed(200), \n",
    "                        TB=widgets.fixed(1000), \n",
    "                        N=widgets.IntSlider(max=10, min=4, value=4))"
   ]
  },
  {
   "cell_type": "code",
   "execution_count": 11,
   "id": "9d2129e4",
   "metadata": {
    "scrolled": true,
    "tags": []
   },
   "outputs": [
    {
     "data": {
      "application/vnd.jupyter.widget-view+json": {
       "model_id": "470ea8f8fb3041d2b47755e3481c23e2",
       "version_major": 2,
       "version_minor": 0
      },
      "text/plain": [
       "interactive(children=(FloatSlider(value=0.0, description='S', max=1.0, step=0.02), IntSlider(value=4, descript…"
      ]
     },
     "metadata": {},
     "output_type": "display_data"
    }
   ],
   "source": [
    "display(w)"
   ]
  },
  {
   "cell_type": "code",
   "execution_count": null,
   "id": "19e7f7f6",
   "metadata": {},
   "outputs": [],
   "source": []
  }
 ],
 "metadata": {
  "kernelspec": {
   "display_name": "Python 3 (ipykernel)",
   "language": "python",
   "name": "python3"
  },
  "language_info": {
   "codemirror_mode": {
    "name": "ipython",
    "version": 3
   },
   "file_extension": ".py",
   "mimetype": "text/x-python",
   "name": "python",
   "nbconvert_exporter": "python",
   "pygments_lexer": "ipython3",
   "version": "3.11.3"
  }
 },
 "nbformat": 4,
 "nbformat_minor": 5
}
