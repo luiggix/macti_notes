{
 "cells": [
  {
   "cell_type": "code",
   "execution_count": 1,
   "id": "d1eaa133",
   "metadata": {},
   "outputs": [],
   "source": [
    "import numpy as np\n",
    "import matplotlib.pyplot as plt"
   ]
  },
  {
   "cell_type": "code",
   "execution_count": 2,
   "id": "301498f3",
   "metadata": {},
   "outputs": [],
   "source": [
    "def conduccion_1d(k, S, L, TA, TB, N):\n",
    "    \"\"\"\n",
    "    Parameters\n",
    "    ----------\n",
    "    L: float\n",
    "    L es la longitud del dominio\n",
    "     \n",
    "    k: float\n",
    "    k es la conductividad del material\n",
    "     \n",
    "    S: float\n",
    "    S es la fuente\n",
    "     \n",
    "    TA: float\n",
    "    TA es la condición de frontera a la izquierda\n",
    "   \n",
    "    TB: float\n",
    "    TB es la condición de fronter a la derecha\n",
    "\n",
    "    N: int\n",
    "    N es el número de nodos internos (grados de libertad)\n",
    "\n",
    "    Return\n",
    "    ------\n",
    "    Al final esta función dibuja la solución.\n",
    "    \"\"\"\n",
    "    h = L / (N+1)\n",
    "\n",
    "    T = np.zeros(N+2)\n",
    "    b = np.zeros(N)\n",
    "    A = np.zeros((N,N))\n",
    "\n",
    "    r = k / h**2\n",
    "    b[:] = S / r\n",
    "    T[0] = TA\n",
    "    T[-1] = TB\n",
    "    b[0] += TA\n",
    "    b[-1] += TB\n",
    "\n",
    "    A[0,0] = 2\n",
    "    A[0,1] = -1\n",
    "    for i in range(1,N-1):\n",
    "        A[i,i] = 2\n",
    "        A[i,i+1] = -1\n",
    "        A[i,i-1] = -1\n",
    "    A[-1,-2] = -1\n",
    "    A[-1,-1] = 2\n",
    "\n",
    "    T[1:N+1] = np.linalg.solve(A,b)\n",
    "\n",
    "    plt.plot(T, 'o-')\n",
    "    plt.show()"
   ]
  },
  {
   "cell_type": "code",
   "execution_count": 3,
   "id": "f12b292b",
   "metadata": {},
   "outputs": [
    {
     "data": {
      "image/png": "[encoded data removed]",
      "text/plain": [
       "<Figure size 432x288 with 1 Axes>"
      ]
     },
     "metadata": {
      "needs_background": "light"
     },
     "output_type": "display_data"
    }
   ],
   "source": [
    "conduccion_1d(0.02, 1000.0, 5.0, 200, 1000, 1000)"
   ]
  },
  {
   "cell_type": "code",
   "execution_count": 4,
   "id": "40e9838f",
   "metadata": {},
   "outputs": [],
   "source": [
    "import ipywidgets as widgets"
   ]
  },
  {
   "cell_type": "code",
   "execution_count": 5,
   "id": "7069eb98",
   "metadata": {},
   "outputs": [],
   "source": [
    "w = widgets.interactive(conduccion_1d,\n",
    "                       k = widgets.fixed(0.02),\n",
    "                       S = widgets.FloatSlider(max=1000, min=0.0, value=0, step=0.2),\n",
    "                       L = widgets.fixed(5.0),\n",
    "                       TA = widgets.fixed(200),\n",
    "                       TB = widgets.fixed(1000),\n",
    "                       N = widgets.IntSlider(max=100, min=4, value=4))"
   ]
  },
  {
   "cell_type": "code",
   "execution_count": 6,
   "id": "4953bd90",
   "metadata": {},
   "outputs": [
    {
     "data": {
      "application/vnd.jupyter.widget-view+json": {
       "model_id": "2a5de7bb621d47608e7a867d02c67ca8",
       "version_major": 2,
       "version_minor": 0
      },
      "text/plain": [
       "interactive(children=(FloatSlider(value=0.0, description='S', max=1000.0, step=0.2), IntSlider(value=4, descri…"
      ]
     },
     "metadata": {},
     "output_type": "display_data"
    }
   ],
   "source": [
    "display(w)"
   ]
  }
 ],
 "metadata": {
  "kernelspec": {
   "display_name": "Python 3 (ipykernel)",
   "language": "python",
   "name": "python3"
  },
  "language_info": {
   "codemirror_mode": {
    "name": "ipython",
    "version": 3
   },
   "file_extension": ".py",
   "mimetype": "text/x-python",
   "name": "python",
   "nbconvert_exporter": "python",
   "pygments_lexer": "ipython3",
   "version": "3.9.7"
  }
 },
 "nbformat": 4,
 "nbformat_minor": 5
}
