{
 "cells": [
  {
   "cell_type": "markdown",
   "id": "08fdbfa8",
   "metadata": {},
   "source": [
    "# CONDUCCIÓN DE CALOR EN 1D (INTERACTIVO)\n",
    "*Virgil Ortiz Lascurain*\n",
    "\n",
    "**Fecha de finalización:** 21 de febrero de 2023"
   ]
  },
  {
   "cell_type": "code",
   "execution_count": 12,
   "id": "da56bda6",
   "metadata": {},
   "outputs": [],
   "source": [
    "import numpy as np\n",
    "import matplotlib.pyplot as plt"
   ]
  },
  {
   "cell_type": "code",
   "execution_count": 13,
   "id": "5375c813",
   "metadata": {},
   "outputs": [],
   "source": [
    "# Definimos la función para simiular la conducción tomando en cuenta parámetros físicos e independientes:\n",
    "\n",
    "def conduccion_1d(k, S, L, TA, TB, N):\n",
    "    \n",
    "    #Docstring:\n",
    "    \n",
    "    \"\"\"\n",
    "    Parameters\n",
    "    ----------\n",
    "    \n",
    "    L: float\n",
    "    L es la longitud del dominio\n",
    "    \n",
    "    S: float\n",
    "    Es la fuente.\n",
    "    \n",
    "    k: float\n",
    "    Es la conductividad del material.\n",
    "    \n",
    "    TA: float\n",
    "    Es la condición de la frontera izquierda.\n",
    "    \n",
    "    TB: float\n",
    "    Es la condición de la forntera derecha.\n",
    "\n",
    "    N: int\n",
    "    Es el número de nodos internos (grados de libertad).\n",
    "    \n",
    "    Return\n",
    "    ------\n",
    "    Perfil de temperatura del dominio.\n",
    "    \n",
    "    \"\"\"\n",
    "    h = L / (N + 1)\n",
    "\n",
    "    # arrays para almacenar datos:\n",
    "    T = np.zeros(N + 2)\n",
    "    b = np.zeros(N)\n",
    "    A = np.zeros((N,N))\n",
    "\n",
    "    r = k / h**2\n",
    "    b[:] = S / r #Al poner una posición específica dentro de los conchetes arroja un pico en la gráfica\n",
    "\n",
    "    T[0] = TA\n",
    "    T[-1] = TB\n",
    "\n",
    "    b[0] += TA\n",
    "    b[-1] += TB\n",
    "\n",
    "    #Definición de la matriz:\n",
    "    A[0,0] = 2\n",
    "    A[0,1] = -1\n",
    "    for i in range(1,N-1):\n",
    "        A[i,i] = 2 #Diagonal\n",
    "        A[i,i+1]= -1 #Diagonal superior\n",
    "        A[i,i-1]= -1 #Diagonal inferior\n",
    "    A[-1,-2] = -1\n",
    "    A[-1,-1] = 2\n",
    "\n",
    "    #Solución del sistema de ecuaciones:\n",
    "    T[1:N+1] = np.linalg.solve(A,b)\n",
    "\n",
    "    plt.plot(T, 'o-', color = 'cornflowerblue') #Graficación con nodos\n",
    "    plt.show()"
   ]
  },
  {
   "cell_type": "code",
   "execution_count": 15,
   "id": "5acb89c8",
   "metadata": {
    "scrolled": true
   },
   "outputs": [
    {
     "data": {
      "image/png": "[encoded data removed]",
      "text/plain": [
       "<Figure size 432x288 with 1 Axes>"
      ]
     },
     "metadata": {
      "needs_background": "light"
     },
     "output_type": "display_data"
    }
   ],
   "source": [
    "conduccion_1d(0.02,10.0,5.0,200,1000,10) #Implementación en un caso de estudio particular"
   ]
  },
  {
   "cell_type": "code",
   "execution_count": 16,
   "id": "cfc00c0f",
   "metadata": {},
   "outputs": [],
   "source": [
    "import ipywidgets as widgets"
   ]
  },
  {
   "cell_type": "code",
   "execution_count": 17,
   "id": "b0e89466",
   "metadata": {},
   "outputs": [],
   "source": [
    "# Con la función establecida creamos una versión interactiva de un determinado caso de estudio:\n",
    "w = widgets.interactive(conduccion_1d,\n",
    "                       k = widgets.fixed(0.02),\n",
    "                       S = widgets.FloatSlider(max=1., min=0.0, value=0, step=0.2),\n",
    "                       L = widgets.fixed(5.0),\n",
    "                       TA = widgets.fixed(200),\n",
    "                       TB = widgets.fixed(1000),\n",
    "                       N = widgets.IntSlider(max = 10, min=4, value=4))"
   ]
  },
  {
   "cell_type": "code",
   "execution_count": 18,
   "id": "57ea5a4a",
   "metadata": {
    "scrolled": false
   },
   "outputs": [
    {
     "data": {
      "application/vnd.jupyter.widget-view+json": {
       "model_id": "87338968669a47d086a49efb17142b60",
       "version_major": 2,
       "version_minor": 0
      },
      "text/plain": [
       "interactive(children=(FloatSlider(value=0.0, description='S', max=1.0, step=0.2), IntSlider(value=4, descripti…"
      ]
     },
     "metadata": {},
     "output_type": "display_data"
    }
   ],
   "source": [
    "display(w)"
   ]
  }
 ],
 "metadata": {
  "kernelspec": {
   "display_name": "Python 3 (ipykernel)",
   "language": "python",
   "name": "python3"
  },
  "language_info": {
   "codemirror_mode": {
    "name": "ipython",
    "version": 3
   },
   "file_extension": ".py",
   "mimetype": "text/x-python",
   "name": "python",
   "nbconvert_exporter": "python",
   "pygments_lexer": "ipython3",
   "version": "3.9.7"
  }
 },
 "nbformat": 4,
 "nbformat_minor": 5
}
