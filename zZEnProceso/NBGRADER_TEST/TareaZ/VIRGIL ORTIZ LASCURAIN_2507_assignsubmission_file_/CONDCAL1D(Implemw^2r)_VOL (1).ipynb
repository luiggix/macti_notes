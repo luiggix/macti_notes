{
 "cells": [
  {
   "cell_type": "markdown",
   "id": "6654dc3e",
   "metadata": {},
   "source": [
    "# CONDUCCIÓN DE CALOR EN 1D (Implementación de $w^2 / r$)\n",
    "*Virgil Ortiz Lascurain*\n",
    "\n",
    "**Fecha de finalización:** 4 de marzo de 2023\n",
    "\n",
    "Tiempo: 4 hrs"
   ]
  },
  {
   "cell_type": "code",
   "execution_count": 2,
   "id": "c39da090",
   "metadata": {},
   "outputs": [],
   "source": [
    "import numpy as np\n",
    "import matplotlib.pyplot as plt"
   ]
  },
  {
   "cell_type": "code",
   "execution_count": 3,
   "id": "ce4efa3f",
   "metadata": {},
   "outputs": [],
   "source": [
    "# Parámetros físicos\n",
    "L = 1.0\n",
    "TA = 1\n",
    "TB = 1\n",
    "k = 1.0\n",
    "S = 0.0\n",
    "\n",
    "# Parámetros numéricos\n",
    "N = 21"
   ]
  },
  {
   "cell_type": "code",
   "execution_count": 4,
   "id": "103bf5bc",
   "metadata": {},
   "outputs": [],
   "source": [
    "#Definición de la matriz modificada\n",
    "def buildMatrix(N , d):\n",
    "    A = np.zeros((N,N))\n",
    "    \n",
    "    for i in range(0,N-1):\n",
    "        A[i,i+1]= -1 #Diagonal superior\n",
    "        A[i+1,i]= -1 #Diagonal inferior\n",
    "    \n",
    "    for i in range(0,N):\n",
    "        A[i,i]= 2 - d\n",
    "    \n",
    "    return A"
   ]
  },
  {
   "cell_type": "code",
   "execution_count": 5,
   "id": "dec67bf3",
   "metadata": {
    "scrolled": true
   },
   "outputs": [],
   "source": [
    "#Modificación de la función empleada.\n",
    "def conduccion_1d(k, S, L, TA, TB, N, w):\n",
    "    \n",
    "    #Docstring:\n",
    "    \n",
    "    \"\"\"\n",
    "    Parameters\n",
    "    ----------\n",
    "    \n",
    "    L: float\n",
    "    L es la longitud del dominio\n",
    "    \n",
    "    S: float\n",
    "    Es la fuente.\n",
    "    \n",
    "    k: float\n",
    "    Es la conductividad del material.\n",
    "    \n",
    "    TA: float\n",
    "    Es la condición de la frontera izquierda.\n",
    "    \n",
    "    TB: float\n",
    "    Es la condición de la forntera derecha.\n",
    "\n",
    "    N: int\n",
    "    Es el número de nodos internos (grados de libertad).\n",
    "    \n",
    "    w: float\n",
    "    Constante.\n",
    "    \n",
    "    Return\n",
    "    ------\n",
    "    Perfil de temperatura del dominio.\n",
    "    \n",
    "    \"\"\"\n",
    "    h = L / (N + 1)\n",
    "    r = k / h**2\n",
    "    d = (w**2)/r #Término que se le restará al valor original (2) de la diagonal de la matriz.\n",
    "\n",
    "    # arrays para almacenar datos:\n",
    "    T = np.zeros(N + 2) \n",
    "    b = np.zeros(N)\n",
    "    A = buildMatrix(N , d) #Implemetación de la función definida.\n",
    "\n",
    "    b[:] = S / r\n",
    "    b[0] += TA\n",
    "    b[-1] += TB\n",
    "\n",
    "    T[0] = TA\n",
    "    T[-1] = TB\n",
    "\n",
    "    #Solución del sistema de ecuaciones:\n",
    "    T[1:N+1] = np.linalg.solve(A,b)\n",
    "    \n",
    "    print(\"T=\", T)\n",
    "    \n",
    "    #Obtención de los valores de los puntos donde se calcula la temperatura.\n",
    "    x = [h * i for i in range(1, N + 1)]\n",
    "    x.insert(0, 0)\n",
    "    x.append(L)\n",
    "\n",
    "    plt.plot(x, T, color='gray')\n",
    "    plt.plot(x, T, marker='o', color='cornflowerblue', linestyle='None', markerfacecolor='cornflowerblue', markeredgewidth=1, markeredgecolor='black')\n",
    "    plt.xlabel(\"$x$\")\n",
    "    plt.ylabel(\"$T$\")\n",
    "    plt.show()"
   ]
  },
  {
   "cell_type": "code",
   "execution_count": 6,
   "id": "86a592f4",
   "metadata": {
    "scrolled": true
   },
   "outputs": [
    {
     "name": "stdout",
     "output_type": "stream",
     "text": [
      "T= [ 1.          1.30272968  1.43942855  1.39267454  1.16842639  0.79526416\n",
      "  0.32074678 -0.19464927 -0.68523757 -1.08849344 -1.35302256 -1.44511112\n",
      " -1.35302256 -1.08849344 -0.68523757 -0.19464927  0.32074678  0.79526416\n",
      "  1.16842639  1.39267454  1.43942855  1.30272968  1.        ]\n"
     ]
    },
    {
     "data": {
      "image/png": "[encoded data removed]",
      "text/plain": [
       "<Figure size 432x288 with 1 Axes>"
      ]
     },
     "metadata": {
      "needs_background": "light"
     },
     "output_type": "display_data"
    }
   ],
   "source": [
    "w = 2.5 * np . pi\n",
    "conduccion_1d(k, S, L, TA, TB, N, w)"
   ]
  },
  {
   "cell_type": "code",
   "execution_count": 7,
   "id": "ff5778af",
   "metadata": {},
   "outputs": [],
   "source": [
    "def solExact(x , w):\n",
    "    x = np.array(x)\n",
    "    return ((1.0 - np.cos(w))/np.sin(w)) * np.sin(w * x) + np.cos(w * x)"
   ]
  },
  {
   "cell_type": "code",
   "execution_count": 8,
   "id": "7b0197ad",
   "metadata": {},
   "outputs": [],
   "source": [
    "def conduccion_1d_comparation(k, S, L, TA, TB, N, w):\n",
    "    \n",
    "    #Docstring:\n",
    "    \n",
    "    \"\"\"\n",
    "    Parameters\n",
    "    ----------\n",
    "    \n",
    "    L: float\n",
    "    L es la longitud del dominio\n",
    "    \n",
    "    S: float\n",
    "    Es la fuente.\n",
    "    \n",
    "    k: float\n",
    "    Es la conductividad del material.\n",
    "    \n",
    "    TA: float\n",
    "    Es la condición de la frontera izquierda.\n",
    "    \n",
    "    TB: float\n",
    "    Es la condición de la forntera derecha.\n",
    "\n",
    "    N: int\n",
    "    Es el número de nodos internos (grados de libertad).\n",
    "    \n",
    "    w: float\n",
    "    Constante.\n",
    "    \n",
    "    Return\n",
    "    ------\n",
    "    Perfiles de temperatura del dominio usando el método numérico y el método analítico.\n",
    "    \n",
    "    \"\"\"\n",
    "    h = L / (N + 1)\n",
    "    r = k / h**2\n",
    "    d = (w**2)/r \n",
    "\n",
    "    # arrays para almacenar datos:\n",
    "    T = np.zeros(N + 2) \n",
    "    b = np.zeros(N)\n",
    "    A = buildMatrix(N , d)\n",
    "\n",
    "    b[:] = S / r\n",
    "    b[0] += TA\n",
    "    b[-1] += TB\n",
    "\n",
    "    T[0] = TA\n",
    "    T[-1] = TB\n",
    "\n",
    "    #Solución del sistema de ecuaciones:\n",
    "    T[1:N+1] = np.linalg.solve(A,b)\n",
    "    \n",
    "    x = [h * i for i in range(1, N + 1)]\n",
    "    x.insert(0, 0)\n",
    "    x.append(L)\n",
    "    \n",
    "    Error = np.linalg.norm (solExact(x,w) - T, 2)\n",
    "    \n",
    "    plt.plot(x, solExact(x , w), color='red', label = r'Sol. Analítica: $u(x) = \\frac{1 - cos(\\omega)}{sin(\\omega)}$sin($\\omega$x) + cos($\\omega$x)')\n",
    "    plt.plot(x, T, marker='o', color='cornflowerblue', linestyle='None', markerfacecolor='cornflowerblue', markeredgewidth=1, markeredgecolor='black', label = f\"Sol. Numérica: E(h = {round(h, 7)}) = {round(Error, 4)}\")\n",
    "    plt.xlabel(\"$x$\")\n",
    "    plt.ylabel(\"$T$\")\n",
    "    plt.title(r'Ecuación: $\\frac{\\partial^2u(x)}{\\partial x^2}$ = $\\omega^2$u(x); u(a)=u(b)=1')\n",
    "    plt.legend(loc='best', bbox_to_anchor=(1.1, 0.9))\n",
    "    plt.show()"
   ]
  },
  {
   "cell_type": "code",
   "execution_count": 9,
   "id": "f2168d92",
   "metadata": {
    "scrolled": false
   },
   "outputs": [
    {
     "data": {
      "image/png": "[encoded data removed]",
      "text/plain": [
       "<Figure size 432x288 with 1 Axes>"
      ]
     },
     "metadata": {
      "needs_background": "light"
     },
     "output_type": "display_data"
    }
   ],
   "source": [
    "conduccion_1d_comparation(k, S, L, TA, TB, N, w)"
   ]
  }
 ],
 "metadata": {
  "kernelspec": {
   "display_name": "Python 3 (ipykernel)",
   "language": "python",
   "name": "python3"
  },
  "language_info": {
   "codemirror_mode": {
    "name": "ipython",
    "version": 3
   },
   "file_extension": ".py",
   "mimetype": "text/x-python",
   "name": "python",
   "nbconvert_exporter": "python",
   "pygments_lexer": "ipython3",
   "version": "3.9.7"
  }
 },
 "nbformat": 4,
 "nbformat_minor": 5
}
