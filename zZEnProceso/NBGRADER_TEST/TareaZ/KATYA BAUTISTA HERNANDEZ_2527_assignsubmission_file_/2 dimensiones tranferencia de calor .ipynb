{
 "cells": [
  {
   "cell_type": "code",
   "execution_count": 74,
   "id": "c4fcea6e",
   "metadata": {},
   "outputs": [],
   "source": [
    "#definir parametros físicos \n",
    "L= 1000.0\n",
    "K=1.7*10**8\n",
    "S = 0.0 "
   ]
  },
  {
   "cell_type": "code",
   "execution_count": 75,
   "id": "cdb85e10",
   "metadata": {},
   "outputs": [
    {
     "name": "stdout",
     "output_type": "stream",
     "text": [
      "1000.0 170000000.0 0.0\n"
     ]
    }
   ],
   "source": [
    "print (L,K,S)"
   ]
  },
  {
   "cell_type": "code",
   "execution_count": 76,
   "id": "47de64e6",
   "metadata": {},
   "outputs": [],
   "source": [
    "#definimos parámetros númericos N=número de grados de libertad y h = tamaño de la malla \n",
    "N = 4\n",
    "h = L/(N+1)"
   ]
  },
  {
   "cell_type": "code",
   "execution_count": 77,
   "id": "1a6aaa25",
   "metadata": {},
   "outputs": [
    {
     "name": "stdout",
     "output_type": "stream",
     "text": [
      "4 200.0\n"
     ]
    }
   ],
   "source": [
    "print (N,h)"
   ]
  },
  {
   "cell_type": "code",
   "execution_count": 78,
   "id": "eb474cc5",
   "metadata": {},
   "outputs": [],
   "source": [
    "import numpy as np "
   ]
  },
  {
   "cell_type": "code",
   "execution_count": 79,
   "id": "b6e1f39f",
   "metadata": {},
   "outputs": [],
   "source": [
    "T = np.zeros(N+2) "
   ]
  },
  {
   "cell_type": "code",
   "execution_count": 80,
   "id": "3c332c36",
   "metadata": {},
   "outputs": [
    {
     "name": "stdout",
     "output_type": "stream",
     "text": [
      "[0. 0. 0. 0. 0. 0.]\n"
     ]
    }
   ],
   "source": [
    "print (T)"
   ]
  },
  {
   "cell_type": "code",
   "execution_count": 81,
   "id": "4424dbce",
   "metadata": {},
   "outputs": [],
   "source": [
    "TA= 1\n",
    "TB= 1\n",
    "T[0]=TA\n",
    "T[-1]=TB"
   ]
  },
  {
   "cell_type": "code",
   "execution_count": 82,
   "id": "063722af",
   "metadata": {},
   "outputs": [
    {
     "name": "stdout",
     "output_type": "stream",
     "text": [
      "[1. 0. 0. 0. 0. 1.]\n"
     ]
    }
   ],
   "source": [
    "print (T)"
   ]
  },
  {
   "cell_type": "code",
   "execution_count": 59,
   "id": "09fa05d9",
   "metadata": {},
   "outputs": [],
   "source": [
    "b = np.zeros(N)"
   ]
  },
  {
   "cell_type": "code",
   "execution_count": 60,
   "id": "05dfa515",
   "metadata": {},
   "outputs": [
    {
     "name": "stdout",
     "output_type": "stream",
     "text": [
      "[0. 0. 0. 0.]\n"
     ]
    }
   ],
   "source": [
    "print (b)"
   ]
  },
  {
   "cell_type": "code",
   "execution_count": 61,
   "id": "40a5a89f",
   "metadata": {},
   "outputs": [
    {
     "name": "stdout",
     "output_type": "stream",
     "text": [
      "4250.0\n"
     ]
    }
   ],
   "source": [
    "r = K/(h**2)\n",
    "print (r)"
   ]
  },
  {
   "cell_type": "code",
   "execution_count": 62,
   "id": "a0943eb2",
   "metadata": {},
   "outputs": [
    {
     "name": "stdout",
     "output_type": "stream",
     "text": [
      "[1. 0. 0. 1.]\n"
     ]
    }
   ],
   "source": [
    "b[0]=TA\n",
    "b[-1]=TB\n",
    "print (b)"
   ]
  },
  {
   "cell_type": "code",
   "execution_count": 63,
   "id": "8ed19f50",
   "metadata": {},
   "outputs": [],
   "source": [
    "w = 2.5 * np.pi"
   ]
  },
  {
   "cell_type": "code",
   "execution_count": 64,
   "id": "776e009c",
   "metadata": {},
   "outputs": [
    {
     "data": {
      "text/plain": [
       "array([[0., 0., 0., 0.],\n",
       "       [0., 0., 0., 0.],\n",
       "       [0., 0., 0., 0.],\n",
       "       [0., 0., 0., 0.]])"
      ]
     },
     "execution_count": 64,
     "metadata": {},
     "output_type": "execute_result"
    }
   ],
   "source": [
    "A = np.zeros((N,N))\n",
    "A"
   ]
  },
  {
   "cell_type": "code",
   "execution_count": 65,
   "id": "0f711c22",
   "metadata": {},
   "outputs": [
    {
     "data": {
      "text/plain": [
       "array([[1.98548588, 0.        , 0.        , 0.        ],\n",
       "       [0.        , 1.98548588, 0.        , 0.        ],\n",
       "       [0.        , 0.        , 1.98548588, 0.        ],\n",
       "       [0.        , 0.        , 0.        , 1.98548588]])"
      ]
     },
     "execution_count": 65,
     "metadata": {},
     "output_type": "execute_result"
    }
   ],
   "source": [
    "for i in range(0,N):\n",
    "    A[i,i] = (2-w**2/r)\n",
    "A   "
   ]
  },
  {
   "cell_type": "code",
   "execution_count": 66,
   "id": "feb298b7",
   "metadata": {},
   "outputs": [
    {
     "data": {
      "text/plain": [
       "array([[ 1.98548588, -1.        ,  0.        ,  0.        ],\n",
       "       [ 0.        ,  1.98548588, -1.        ,  0.        ],\n",
       "       [ 0.        ,  0.        ,  1.98548588, -1.        ],\n",
       "       [ 0.        ,  0.        ,  0.        ,  1.98548588]])"
      ]
     },
     "execution_count": 66,
     "metadata": {},
     "output_type": "execute_result"
    }
   ],
   "source": [
    "for i in range(0,N-1):\n",
    "    A[i,i+1]=-1\n",
    "\n",
    "A"
   ]
  },
  {
   "cell_type": "code",
   "execution_count": 67,
   "id": "44310f93",
   "metadata": {},
   "outputs": [
    {
     "data": {
      "text/plain": [
       "array([[ 1.98548588, -1.        ,  0.        ,  0.        ],\n",
       "       [-1.        ,  1.98548588, -1.        ,  0.        ],\n",
       "       [ 0.        , -1.        ,  1.98548588, -1.        ],\n",
       "       [ 0.        ,  0.        , -1.        ,  1.98548588]])"
      ]
     },
     "execution_count": 67,
     "metadata": {},
     "output_type": "execute_result"
    }
   ],
   "source": [
    "for i in range(1,N):\n",
    "    A[i,i-1]=-1\n",
    "\n",
    "A"
   ]
  },
  {
   "cell_type": "code",
   "execution_count": 72,
   "id": "6938cf6a",
   "metadata": {},
   "outputs": [],
   "source": [
    "T[1:N+1]= np.linalg.solve(A, b)"
   ]
  },
  {
   "cell_type": "code",
   "execution_count": 73,
   "id": "28dc3c0e",
   "metadata": {},
   "outputs": [
    {
     "data": {
      "text/plain": [
       "array([1.        , 1.03012286, 1.0452944 , 1.0452944 , 1.03012286,\n",
       "       1.        ])"
      ]
     },
     "execution_count": 73,
     "metadata": {},
     "output_type": "execute_result"
    }
   ],
   "source": [
    "T"
   ]
  },
  {
   "cell_type": "code",
   "execution_count": 83,
   "id": "77778021",
   "metadata": {},
   "outputs": [],
   "source": [
    "import matplotlib.pyplot as plt"
   ]
  },
  {
   "cell_type": "code",
   "execution_count": 84,
   "id": "383db7f3",
   "metadata": {},
   "outputs": [
    {
     "data": {
      "text/plain": [
       "[<matplotlib.lines.Line2D at 0x7fec63a906a0>]"
      ]
     },
     "execution_count": 84,
     "metadata": {},
     "output_type": "execute_result"
    },
    {
     "data": {
      "image/png": "[encoded data removed]",
      "text/plain": [
       "<Figure size 432x288 with 1 Axes>"
      ]
     },
     "metadata": {
      "needs_background": "light"
     },
     "output_type": "display_data"
    }
   ],
   "source": [
    "plt.plot(T, 'o-')"
   ]
  },
  {
   "cell_type": "code",
   "execution_count": 85,
   "id": "c683bfb3",
   "metadata": {},
   "outputs": [],
   "source": [
    "def solExact(x,w):\n",
    "    return ((1.0 - np.cos(w))/np.sin(w)) * np.sin(w*x)+np.cos(w*x)\n"
   ]
  },
  {
   "cell_type": "code",
   "execution_count": 86,
   "id": "59a104cf",
   "metadata": {},
   "outputs": [
    {
     "ename": "NameError",
     "evalue": "name 'x' is not defined",
     "output_type": "error",
     "traceback": [
      "\u001b[0;31m---------------------------------------------------------------------------\u001b[0m",
      "\u001b[0;31mNameError\u001b[0m                                 Traceback (most recent call last)",
      "\u001b[0;32m/tmp/ipykernel_3560644/1695379013.py\u001b[0m in \u001b[0;36m<module>\u001b[0;34m\u001b[0m\n\u001b[0;32m----> 1\u001b[0;31m \u001b[0mError\u001b[0m\u001b[0;34m=\u001b[0m \u001b[0mnp\u001b[0m\u001b[0;34m.\u001b[0m\u001b[0mlinalg\u001b[0m\u001b[0;34m.\u001b[0m\u001b[0mnorm\u001b[0m\u001b[0;34m(\u001b[0m\u001b[0msolExact\u001b[0m\u001b[0;34m(\u001b[0m\u001b[0mx\u001b[0m\u001b[0;34m,\u001b[0m\u001b[0mw\u001b[0m\u001b[0;34m)\u001b[0m \u001b[0;34m-\u001b[0m \u001b[0mT\u001b[0m\u001b[0;34m,\u001b[0m\u001b[0;36m2\u001b[0m\u001b[0;34m)\u001b[0m\u001b[0;34m\u001b[0m\u001b[0;34m\u001b[0m\u001b[0m\n\u001b[0m",
      "\u001b[0;31mNameError\u001b[0m: name 'x' is not defined"
     ]
    }
   ],
   "source": [
    "Error= np.linalg.norm(solExact(x,w) - T,2)"
   ]
  },
  {
   "cell_type": "code",
   "execution_count": null,
   "id": "211dd594",
   "metadata": {},
   "outputs": [],
   "source": [
    "import matplotlib.pyplot as plt"
   ]
  }
 ],
 "metadata": {
  "kernelspec": {
   "display_name": "Python 3 (ipykernel)",
   "language": "python",
   "name": "python3"
  },
  "language_info": {
   "codemirror_mode": {
    "name": "ipython",
    "version": 3
   },
   "file_extension": ".py",
   "mimetype": "text/x-python",
   "name": "python",
   "nbconvert_exporter": "python",
   "pygments_lexer": "ipython3",
   "version": "3.9.7"
  }
 },
 "nbformat": 4,
 "nbformat_minor": 5
}
