{
 "cells": [
  {
   "cell_type": "markdown",
   "id": "9a31398f",
   "metadata": {},
   "source": [
    "## Ruiz González Melissa Saraí\n",
    "###### 12 de marzo de 2023"
   ]
  },
  {
   "cell_type": "code",
   "execution_count": 48,
   "id": "b93f52be",
   "metadata": {},
   "outputs": [],
   "source": [
    "import numpy as np\n",
    "import matplotlib.pyplot as plt\n",
    "import pandas as pd"
   ]
  },
  {
   "cell_type": "markdown",
   "id": "6a328549",
   "metadata": {},
   "source": [
    "### Ejercicio de página 6"
   ]
  },
  {
   "cell_type": "code",
   "execution_count": 87,
   "id": "dd08f838",
   "metadata": {},
   "outputs": [],
   "source": [
    "def buildMatrix(N,d):\n",
    "    \n",
    "    A = np.zeros((N,N))\n",
    "    A[0,0] = d\n",
    "    A[0,1] = -1\n",
    "    A[-1,-2] = -1\n",
    "    A[-1,-1] = d\n",
    "    \n",
    "    for i in range (1, N-1):\n",
    "        A[i,i] = d\n",
    "        A[i,i+1] = -1\n",
    "        A[i,i-1] = -1\n",
    "     \n",
    "    return A"
   ]
  },
  {
   "cell_type": "code",
   "execution_count": 88,
   "id": "6e449200",
   "metadata": {},
   "outputs": [],
   "source": [
    "#parámetros físicos\n",
    "L = 1.0 \n",
    "K = 1\n",
    "S = 0 \n",
    "TA = 1\n",
    "TB = 1"
   ]
  },
  {
   "cell_type": "code",
   "execution_count": 89,
   "id": "55b5f903",
   "metadata": {},
   "outputs": [],
   "source": [
    "#parámetros numéricos\n",
    "N = 23\n",
    "x = np.linspace (0,L,N +2)\n",
    "h = L/(N+1)\n",
    "r = K / h **2\n",
    "w = 2.5*np.pi\n",
    "d = 2-w**2/r"
   ]
  },
  {
   "cell_type": "code",
   "execution_count": 90,
   "id": "2b565dbd",
   "metadata": {},
   "outputs": [],
   "source": [
    "T = np.zeros(N+2)\n",
    "b = np.zeros(N)"
   ]
  },
  {
   "cell_type": "code",
   "execution_count": 91,
   "id": "ff123529",
   "metadata": {},
   "outputs": [],
   "source": [
    "b[:] = S / r \n",
    "T[0] = TA\n",
    "T[-1] = TB\n",
    "b[0] += TA\n",
    "b[-1] += TB"
   ]
  },
  {
   "cell_type": "code",
   "execution_count": 92,
   "id": "cb5a3deb",
   "metadata": {
    "scrolled": true
   },
   "outputs": [],
   "source": [
    "A = buildMatrix (N, d)"
   ]
  },
  {
   "cell_type": "code",
   "execution_count": 93,
   "id": "1978d91b",
   "metadata": {},
   "outputs": [],
   "source": [
    "T[1:N +1] = np.linalg.solve(A ,b)"
   ]
  },
  {
   "cell_type": "markdown",
   "id": "35ff063a",
   "metadata": {},
   "source": [
    "### Ejercicio de página 9"
   ]
  },
  {
   "cell_type": "code",
   "execution_count": 85,
   "id": "0dde5523",
   "metadata": {},
   "outputs": [],
   "source": [
    "def solExact(x, w):\n",
    "    h = L/(N+1) \n",
    "    \n",
    "    T = np.zeros(N+2)\n",
    "    b = np.zeros(N)\n",
    "    A = np.zeros((N,N)) \n",
    "\n",
    "    r = K / h**2\n",
    "    b[:] = S / r \n",
    "    T[0] = TA\n",
    "    T[-1] = TB\n",
    "    b[0] += TA\n",
    "    b[-1] += TB\n",
    "\n",
    "    A = np.zeros((N,N))\n",
    "    A[0,0] = d\n",
    "    A[0,1] = -1\n",
    "    A[-1,-2] = -1\n",
    "    A[-1,-1] = d\n",
    "    \n",
    "    for i in range (1, N-1):\n",
    "        A[i,i] = d\n",
    "        A[i,i+1] = -1\n",
    "        A[i,i-1] = -1\n",
    "\n",
    "    T[1:N+1] =np.linalg.solve(A,b)\n",
    "    \n",
    "    return ((1.0-np.cos(w))/np.sin(w))*np.sin(w*x)+np.cos(w*x)"
   ]
  },
  {
   "cell_type": "code",
   "execution_count": 86,
   "id": "75c9167f",
   "metadata": {},
   "outputs": [
    {
     "data": {
      "text/plain": [
       "0.1015529608288365"
      ]
     },
     "execution_count": 86,
     "metadata": {},
     "output_type": "execute_result"
    }
   ],
   "source": [
    "Error = np.linalg.norm(solExact(x,w)-T)\n",
    "Error"
   ]
  },
  {
   "cell_type": "code",
   "execution_count": 96,
   "id": "a0b7aac5",
   "metadata": {},
   "outputs": [
    {
     "data": {
      "image/png": "[encoded data removed]",
      "text/plain": [
       "<Figure size 432x288 with 1 Axes>"
      ]
     },
     "metadata": {
      "needs_background": "light"
     },
     "output_type": "display_data"
    }
   ],
   "source": [
    "plt.plot(x,solExact(x,w), '-', color = 'pink', label='$Sol. Analítica$')\n",
    "plt.plot(x,T, 'o', color = 'm', label='$Sol. Numérica$')\n",
    "plt.xlabel('$x$')\n",
    "plt.ylabel('T')\n",
    "plt.title('Solución analítica vs solución numérica')\n",
    "plt.legend()\n",
    "plt.show()"
   ]
  },
  {
   "cell_type": "markdown",
   "id": "7afca7b5",
   "metadata": {},
   "source": [
    "### Ejercicio 1.3"
   ]
  },
  {
   "cell_type": "markdown",
   "id": "c2f4e3e2",
   "metadata": {},
   "source": [
    "Los coeficientes de la fórmula son: $A = 1 / 3h$, $B = 1/2h$ , $C = -1/h$ y $D = 1/6h$ de tal manera que la fórmula de diferencias queda como sigue:\n",
    "\n",
    "$$\n",
    "f^\\prime = \\frac{2 f_{i+1}+ 3 f_{i} - 6 f_{i-1} + f_{i-2}}{6h}\n",
    "$$"
   ]
  },
  {
   "cell_type": "code",
   "execution_count": 97,
   "id": "fa99620f",
   "metadata": {},
   "outputs": [],
   "source": [
    "# Definimos un arreglo con diferentes tamaños de h:\n",
    "N = 6\n",
    "h = np.array([1 / 2**i for i in range(0,N)])\n",
    "\n",
    "# Definimos un arreglo con valores de 1.0 (donde evaluaremos el cos(x)):\n",
    "x = np.ones(N)"
   ]
  },
  {
   "cell_type": "code",
   "execution_count": 98,
   "id": "f09fb947",
   "metadata": {},
   "outputs": [],
   "source": [
    "#Cálculo de la derivada numérica hacia adelante\n",
    "def forwardFD(u,x,h):\n",
    "    return (u(x+h)-u(x))/h"
   ]
  },
  {
   "cell_type": "code",
   "execution_count": 99,
   "id": "b2a169be",
   "metadata": {},
   "outputs": [],
   "source": [
    "#Cálculo de la derivada numérica hacia atrás\n",
    "def backwardFD(u,x,h):\n",
    "    return (u(x)-u(x-h))/h"
   ]
  },
  {
   "cell_type": "code",
   "execution_count": 100,
   "id": "1938885b",
   "metadata": {},
   "outputs": [],
   "source": [
    "#Cálculo de la derivada numérica centrada.\n",
    "def centeredFD(u,x,h):\n",
    "    return (u(x+h)-u(x-h))/(2*h)"
   ]
  },
  {
   "cell_type": "code",
   "execution_count": 101,
   "id": "129f02ef",
   "metadata": {},
   "outputs": [],
   "source": [
    "#Aproximación con cuatro puntos.\n",
    "def D3(u,x,h):\n",
    "    \"\"\"Parameters\n",
    "    ----------\n",
    "    u : función. \n",
    "    Función a evaluar.\n",
    "    \n",
    "    x : array\n",
    "    Lugar(es) donde se evalúa la función\n",
    "    \n",
    "    h : array\n",
    "    Tamaño(s) de la diferencia entre u(x+h) y u(x).\"\"\"\n",
    "    \n",
    "    return (2*u(x+h)+3*u(x)-6*u(x-h)+u(x-2*h))/(6*h) "
   ]
  },
  {
   "cell_type": "code",
   "execution_count": 102,
   "id": "358be7ae",
   "metadata": {},
   "outputs": [],
   "source": [
    "#Aproximación con tres puntos (izquierda)\n",
    "def D2izq(u,x,h):\n",
    "    return (3*u(x)-4*u(x-h)+u(x-2*h))/(2*h)"
   ]
  },
  {
   "cell_type": "code",
   "execution_count": 103,
   "id": "f3672e7d",
   "metadata": {},
   "outputs": [],
   "source": [
    "#Aproximación con tres puntos (derecha)\n",
    "def D2der(u,x,h):\n",
    "    return (-3*u(x)+4*u(x+h)-u(x+(2*h)))/(2*h)"
   ]
  },
  {
   "cell_type": "code",
   "execution_count": 104,
   "id": "81c9344a",
   "metadata": {},
   "outputs": [],
   "source": [
    "# Calculamos el error entre la derivada exacta y la derivada numérica:\n",
    "ef = np.fabs(np.cos(x) - forwardFD(np.sin, x, h) )\n",
    "eb = np.fabs(np.cos(x) - backwardFD(np.sin, x, h) )\n",
    "ec = np.fabs( np.cos(x) - centeredFD(np.sin,x,h) )\n",
    "e3 = np.fabs( np.cos(y) - D3(np.sin,y,h) )\n",
    "e2l = np.fabs( np.cos(x) - D2l(np.sin,x,h) )\n",
    "e2r = np.fabs( np.cos(x) - D2r(np.sin,x,h) )"
   ]
  },
  {
   "cell_type": "code",
   "execution_count": 105,
   "id": "3b2c2918",
   "metadata": {},
   "outputs": [
    {
     "data": {
      "text/html": [
       "<div>\n",
       "<style scoped>\n",
       "    .dataframe tbody tr th:only-of-type {\n",
       "        vertical-align: middle;\n",
       "    }\n",
       "\n",
       "    .dataframe tbody tr th {\n",
       "        vertical-align: top;\n",
       "    }\n",
       "\n",
       "    .dataframe thead th {\n",
       "        text-align: right;\n",
       "    }\n",
       "</style>\n",
       "<table border=\"1\" class=\"dataframe\">\n",
       "  <thead>\n",
       "    <tr style=\"text-align: right;\">\n",
       "      <th></th>\n",
       "      <th>$h$</th>\n",
       "      <th>$D_+$</th>\n",
       "      <th>$D_-$</th>\n",
       "      <th>$D_0$</th>\n",
       "      <th>$D_3$</th>\n",
       "      <th>$D_{2i}$</th>\n",
       "      <th>$D_{2r}$</th>\n",
       "    </tr>\n",
       "  </thead>\n",
       "  <tbody>\n",
       "    <tr>\n",
       "      <th>0</th>\n",
       "      <td>1.00000</td>\n",
       "      <td>0.472476</td>\n",
       "      <td>0.301169</td>\n",
       "      <td>0.085654</td>\n",
       "      <td>0.043287</td>\n",
       "      <td>0.301169</td>\n",
       "      <td>0.054474</td>\n",
       "    </tr>\n",
       "    <tr>\n",
       "      <th>1</th>\n",
       "      <td>0.50000</td>\n",
       "      <td>0.228254</td>\n",
       "      <td>0.183789</td>\n",
       "      <td>0.022233</td>\n",
       "      <td>0.007314</td>\n",
       "      <td>0.066408</td>\n",
       "      <td>0.015967</td>\n",
       "    </tr>\n",
       "    <tr>\n",
       "      <th>2</th>\n",
       "      <td>0.25000</td>\n",
       "      <td>0.110248</td>\n",
       "      <td>0.099027</td>\n",
       "      <td>0.005611</td>\n",
       "      <td>0.001014</td>\n",
       "      <td>0.014265</td>\n",
       "      <td>0.007759</td>\n",
       "    </tr>\n",
       "    <tr>\n",
       "      <th>3</th>\n",
       "      <td>0.12500</td>\n",
       "      <td>0.053929</td>\n",
       "      <td>0.051118</td>\n",
       "      <td>0.001406</td>\n",
       "      <td>0.000132</td>\n",
       "      <td>0.003209</td>\n",
       "      <td>0.002389</td>\n",
       "    </tr>\n",
       "    <tr>\n",
       "      <th>4</th>\n",
       "      <td>0.06250</td>\n",
       "      <td>0.026639</td>\n",
       "      <td>0.025936</td>\n",
       "      <td>0.000352</td>\n",
       "      <td>0.000017</td>\n",
       "      <td>0.000754</td>\n",
       "      <td>0.000651</td>\n",
       "    </tr>\n",
       "    <tr>\n",
       "      <th>5</th>\n",
       "      <td>0.03125</td>\n",
       "      <td>0.013235</td>\n",
       "      <td>0.013059</td>\n",
       "      <td>0.000088</td>\n",
       "      <td>0.000002</td>\n",
       "      <td>0.000182</td>\n",
       "      <td>0.000169</td>\n",
       "    </tr>\n",
       "  </tbody>\n",
       "</table>\n",
       "</div>"
      ],
      "text/plain": [
       "       $h$     $D_+$     $D_-$     $D_0$     $D_3$  $D_{2i}$  $D_{2r}$\n",
       "0  1.00000  0.472476  0.301169  0.085654  0.043287  0.301169  0.054474\n",
       "1  0.50000  0.228254  0.183789  0.022233  0.007314  0.066408  0.015967\n",
       "2  0.25000  0.110248  0.099027  0.005611  0.001014  0.014265  0.007759\n",
       "3  0.12500  0.053929  0.051118  0.001406  0.000132  0.003209  0.002389\n",
       "4  0.06250  0.026639  0.025936  0.000352  0.000017  0.000754  0.000651\n",
       "5  0.03125  0.013235  0.013059  0.000088  0.000002  0.000182  0.000169"
      ]
     },
     "execution_count": 105,
     "metadata": {},
     "output_type": "execute_result"
    }
   ],
   "source": [
    "# Metemos la información de h y del error en un Dataframe y mostramos el resultado\n",
    "Error = pd.DataFrame(np.array([h,ef,eb,ec,e3,e2l,e2r]).transpose(), \n",
    "                     columns=['$h$','$D_+$', '$D_-$','$D_0$','$D_3$', '$D_{2i}$', '$D_{2r}$'])\n",
    "Error"
   ]
  },
  {
   "cell_type": "code",
   "execution_count": 106,
   "id": "20bc9b46",
   "metadata": {},
   "outputs": [
    {
     "data": {
      "image/png": "[encoded data removed]",
      "text/plain": [
       "<Figure size 432x288 with 1 Axes>"
      ]
     },
     "metadata": {
      "needs_background": "light"
     },
     "output_type": "display_data"
    }
   ],
   "source": [
    "plt.plot(h, ef, '^-', label='$D_+$')\n",
    "plt.plot(h, eb, 'v-', label='$D_-$')\n",
    "plt.plot(h, ec, 's-', label='$D_0$')\n",
    "plt.plot(h, e3, 'o-', label='$D_3$')\n",
    "plt.plot(h, e2l, 'P--', label='$D_{2l}$')\n",
    "plt.plot(h, e2r, 'p-.', label='$D_{2r}$')\n",
    "\n",
    "plt.xlabel('$h$')\n",
    "plt.ylabel('Error')\n",
    "plt.title('Aproximación de la derivada')\n",
    "plt.legend()\n",
    "plt.loglog() \n",
    "plt.show()"
   ]
  }
 ],
 "metadata": {
  "kernelspec": {
   "display_name": "Python 3 (ipykernel)",
   "language": "python",
   "name": "python3"
  },
  "language_info": {
   "codemirror_mode": {
    "name": "ipython",
    "version": 3
   },
   "file_extension": ".py",
   "mimetype": "text/x-python",
   "name": "python",
   "nbconvert_exporter": "python",
   "pygments_lexer": "ipython3",
   "version": "3.9.7"
  }
 },
 "nbformat": 4,
 "nbformat_minor": 5
}
