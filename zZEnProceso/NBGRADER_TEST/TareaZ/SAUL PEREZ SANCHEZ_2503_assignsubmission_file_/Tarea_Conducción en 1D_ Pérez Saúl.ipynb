{
 "cells": [
  {
   "cell_type": "markdown",
   "id": "c4cb37a4",
   "metadata": {},
   "source": [
    "# Pérez Sánchez Saúl\n",
    "\n",
    "# Ciencias Espaciales, ENCiT"
   ]
  },
  {
   "cell_type": "markdown",
   "id": "4dec43cc",
   "metadata": {},
   "source": [
    "### Ejercicio 1\n",
    "\n",
    "#### Con base en la presentación $Problemas$ $de$ $Calibración:$\n",
    "\n",
    "#### Escriba una función que cree la matriz del sistema presentado en la página 6.\n",
    "#### Realice el ejercicio que se describe en la página 9."
   ]
  },
  {
   "cell_type": "code",
   "execution_count": null,
   "id": "ff747486",
   "metadata": {},
   "outputs": [],
   "source": []
  },
  {
   "cell_type": "code",
   "execution_count": 1,
   "id": "108188a5",
   "metadata": {},
   "outputs": [],
   "source": [
    "#Importaciones de bibliotecas\n",
    "import numpy as np\n",
    "import pandas as pd\n",
    "import matplotlib.pyplot as plt"
   ]
  },
  {
   "cell_type": "code",
   "execution_count": 2,
   "id": "75dbca39",
   "metadata": {},
   "outputs": [],
   "source": [
    "# Consideraciones del modelo.\n",
    "TA = 1.0\n",
    "TB = 1.0\n",
    "L = 1.0\n",
    "S = 0.0\n",
    "k = 1.0\n",
    "N = 21"
   ]
  },
  {
   "cell_type": "code",
   "execution_count": 3,
   "id": "c0e27c5d",
   "metadata": {},
   "outputs": [],
   "source": [
    "#Función para construir la matriz\n",
    "\n",
    "def buildMatrix(N , d):\n",
    "    M = np.zeros((N,N))\n",
    "    \n",
    "    for i in range(0,N-1):\n",
    "        \n",
    "        M[i+1,i]= -1\n",
    "        M[i,i+1]= -1 \n",
    "    \n",
    "    for i in range(0,N):\n",
    "        M[i,i]= 2 - d \n",
    "    \n",
    "    return M"
   ]
  },
  {
   "cell_type": "code",
   "execution_count": 4,
   "id": "d8a2e29c",
   "metadata": {},
   "outputs": [],
   "source": [
    "# Retomando la función definida en clase\n",
    "def conduccion_1d(k, S, L, TA, TB, N, w):\n",
    "    \n",
    "    \"\"\"\n",
    "    Parameters\n",
    "    ----------\n",
    "    \n",
    "    L: Float\n",
    "    L es la longitud del dominio.\n",
    "    \n",
    "    k: Float\n",
    "    k es la conductividad del material.\n",
    "    \n",
    "    S: Float\n",
    "    S es la fuente.\n",
    "    \n",
    "    TA: Float\n",
    "    TA es la condición de frontera a la izquierda.\n",
    "    \n",
    "    TB: Float\n",
    "    TB es la condición de frontera a la derecha.\n",
    "    \n",
    "    N: Int\n",
    "    N es el número de nodos internos (grados de libertad).\n",
    "    \n",
    "    w: float\n",
    "    w es una constante.\n",
    "    \n",
    "    Return\n",
    "    ------\n",
    "    Perfil térmico.\n",
    "    \n",
    "    \"\"\"\n",
    "    \n",
    "    h = L / (N + 1)\n",
    "    r = k / h**2\n",
    "    d = (w**2)/r #Término que se va a restar.\n",
    "\n",
    "    T = np.zeros(N + 2) \n",
    "    b = np.zeros(N)\n",
    "    A = buildMatrix(N , d) #Reconstrucción de la matriz.\n",
    "\n",
    "    b[:] = S / r\n",
    "    b[0] += TA\n",
    "    b[-1] += TB\n",
    "\n",
    "    T[0] = TA\n",
    "    T[-1] = TB\n",
    "\n",
    "    T[1:N+1] = np.linalg.solve(A,b) #Solución sistema\n",
    "    \n",
    "    x = [h * i for i in range(1, N + 1)]\n",
    "    x.insert(0, 0)\n",
    "    x.append(L)\n",
    "    \n",
    "    print('Los valores obtenidos de la temperatura fueron:')\n",
    "    print('')\n",
    "    print(T)\n",
    "    plt.plot(x, T,'o-', color='black')\n",
    "    plt.plot(x, T)\n",
    "    plt.xlabel(\"$x$\")\n",
    "    plt.ylabel(\"$T$\")\n",
    "    plt.show()"
   ]
  },
  {
   "cell_type": "code",
   "execution_count": 5,
   "id": "12d86df1",
   "metadata": {},
   "outputs": [
    {
     "name": "stdout",
     "output_type": "stream",
     "text": [
      "Los valores obtenidos de la temperatura fueron:\n",
      "\n",
      "[ 1.          1.30272968  1.43942855  1.39267454  1.16842639  0.79526416\n",
      "  0.32074678 -0.19464927 -0.68523757 -1.08849344 -1.35302256 -1.44511112\n",
      " -1.35302256 -1.08849344 -0.68523757 -0.19464927  0.32074678  0.79526416\n",
      "  1.16842639  1.39267454  1.43942855  1.30272968  1.        ]\n"
     ]
    },
    {
     "data": {
      "image/png": "[encoded data removed]",
      "text/plain": [
       "<Figure size 432x288 with 1 Axes>"
      ]
     },
     "metadata": {
      "needs_background": "light"
     },
     "output_type": "display_data"
    }
   ],
   "source": [
    "#Definiendo un valor para el parámetro w:\n",
    "w = 2.5*np.pi\n",
    "\n",
    "#Incovamos la función.\n",
    "\n",
    "conduccion_1d(k, S, L, TA, TB, N, w)"
   ]
  },
  {
   "cell_type": "code",
   "execution_count": 6,
   "id": "7fe83013",
   "metadata": {},
   "outputs": [],
   "source": [
    "#Implementación para la solución exacta\n",
    "def solExact(x , w):\n",
    "    x = np.array(x)\n",
    "    return ((1.0 - np.cos(w))/np.sin(w)) * np.sin(w * x) + np.cos(w * x)"
   ]
  },
  {
   "cell_type": "code",
   "execution_count": 7,
   "id": "0c0a144c",
   "metadata": {},
   "outputs": [],
   "source": [
    "#Redefinimos la función anterior\n",
    "def conduccion_1d_solExact(k, S, L, TA, TB, N, w):\n",
    "    \n",
    "    \"\"\"\n",
    "    Parameters\n",
    "    ----------\n",
    "    \n",
    "    L: Float\n",
    "    L es la longitud del dominio.\n",
    "    \n",
    "    k: Float\n",
    "    k es la conductividad del material.\n",
    "    \n",
    "    S: Float\n",
    "    S es la fuente.\n",
    "    \n",
    "    TA: Float\n",
    "    TA es la condición de frontera a la izquierda.\n",
    "    \n",
    "    TB: Float\n",
    "    TB es la condición de frontera a la derecha.\n",
    "    \n",
    "    N: Int\n",
    "    N es el número de nodos internos (grados de libertad).\n",
    "    \n",
    "    w: float\n",
    "    w es una constante.\n",
    "    \n",
    "    Return\n",
    "    ------\n",
    "    Perfil térmico redefinido.\n",
    "    \n",
    "    \"\"\"\n",
    "    \n",
    "    h = L / (N + 1)\n",
    "    r = k / h**2\n",
    "    d = (w**2)/r #Término que se va a restar.\n",
    "\n",
    "    T = np.zeros(N + 2) \n",
    "    b = np.zeros(N)\n",
    "    A = buildMatrix(N , d) #Reconstrucción de la matriz.\n",
    "\n",
    "    b[:] = S / r\n",
    "    b[0] += TA\n",
    "    b[-1] += TB\n",
    "\n",
    "    T[0] = TA\n",
    "    T[-1] = TB\n",
    "\n",
    "    T[1:N+1] = np.linalg.solve(A,b) #Solución sistema\n",
    "    \n",
    "    x = [h * i for i in range(1, N + 1)]\n",
    "    x.insert(0, 0)\n",
    "    x.append(L)\n",
    "    \n",
    "    Error = np.linalg.norm(solExact(x,w)-T,2) #Norma L -2 del error absoluto\n",
    "    \n",
    "    plt.title(r'Ecuación: $\\frac{\\partial^2u(x)}{\\partial x^2}$ = $\\omega^2$u(x); u(a)=u(b)=1')\n",
    "    plt.plot(x, solExact(x , w), \n",
    "             color='red', \n",
    "             label = r'Sol. Analítica: $u(x) = \\frac{1 - cos(\\omega)}{sin(\\omega)}$sin($\\omega$x) + cos($\\omega$x)')\n",
    "    plt.plot(x, T, marker='o', \n",
    "             color='blue', \n",
    "             linestyle='None',\n",
    "             label = f'Sol. Numérica: E(h = {round(h, 7)}) = {round(Error, 4)}')\n",
    "    plt.xlabel(\"$x$\")\n",
    "    plt.ylabel(\"$T$\")\n",
    "    plt.legend(loc='best', bbox_to_anchor=(1.1, 0.9))\n",
    "    plt.show()"
   ]
  },
  {
   "cell_type": "code",
   "execution_count": 8,
   "id": "1e9290f9",
   "metadata": {},
   "outputs": [
    {
     "data": {
      "image/png": "[encoded data removed]",
      "text/plain": [
       "<Figure size 432x288 with 1 Axes>"
      ]
     },
     "metadata": {
      "needs_background": "light"
     },
     "output_type": "display_data"
    }
   ],
   "source": [
    "conduccion_1d_solExact(k, S, L, TA, TB, N, w)"
   ]
  },
  {
   "cell_type": "code",
   "execution_count": null,
   "id": "be8df8ea",
   "metadata": {},
   "outputs": [],
   "source": []
  },
  {
   "cell_type": "markdown",
   "id": "bfb4be1b",
   "metadata": {},
   "source": [
    "### Ejercicio 2.\n",
    "\n",
    "#### Con base en la presentación $Introducción$ $al$ $Método$ $de$ $Diferencias$ $Finitas:$\n",
    "\n",
    "#### Realice el ejercicio 1.3\n",
    "#### Realice el ejercicio 1.4"
   ]
  },
  {
   "cell_type": "code",
   "execution_count": null,
   "id": "76c02d95",
   "metadata": {},
   "outputs": [],
   "source": []
  },
  {
   "cell_type": "markdown",
   "id": "fe1e5e90",
   "metadata": {},
   "source": [
    "### Ejercicio 1.3\n",
    "#### Calcular los coeficiente de la aproximación $D_{3}f(x) = Af_{i+1} + B_{fi} + C_{fi−1} + D_{fi−2}$ y demostrar que el orden de esta aproximación es $O(h^3)$"
   ]
  },
  {
   "cell_type": "code",
   "execution_count": null,
   "id": "c40f41f1",
   "metadata": {},
   "outputs": [],
   "source": []
  },
  {
   "cell_type": "markdown",
   "id": "9cad37f0",
   "metadata": {},
   "source": [
    "Expandemos la función en series de Taylor, respecto al punto $x_i$:\n",
    "\n",
    "$f_{i+1} = f_i + hf'_i + \\frac{h^2}{2!}f''_i + \\frac{h^3}{3!}f'''_i + O(h^4)$\n",
    "\n",
    "$f_{i-1} = f_i + (-h)f'_i + \\frac{(-h)^2}{2!}f''_i + \\frac{(-h)^3}{3!}f'''_i + O(h^4)$\n",
    "\n",
    "$f_{i-2} = f_i + (-2h)f'_i + \\frac{(-2h)^2}{2!}f''_i + \\frac{(-2h)^3}{3!}f'''_i + O(h^4)$\n"
   ]
  },
  {
   "cell_type": "markdown",
   "id": "3e0c93b5",
   "metadata": {},
   "source": [
    "Simplificando:\n",
    "\n",
    "$f_{i+1} = f_i + hf'_i + \\frac{h^2}{2}f''_i + \\frac{h^3}{6}f'''_i + O(h^4)$\n",
    "\n",
    "$f_{i-1} = f_i - hf'_i + \\frac{h^2}{2}f''_i - \\frac{h^3}{6}f'''_i + O(h^4)$\n",
    "\n",
    "$f_{i-2} = f_i - 2hf'_i + 2h^2f''_i - \\frac{4}{3}h^3f'''_i + O(h^4)$"
   ]
  },
  {
   "cell_type": "markdown",
   "id": "e0a77ff4",
   "metadata": {},
   "source": [
    "Sustituyendo en $D_3f(x)$:\n",
    "\n",
    "\n",
    "$D_3f(x) = A ( f_i + hf'_i + \\frac{h^2}{2}f''_i + \\frac{h^3}{6}f'''_i + O(h^4))$\n",
    "\n",
    "$+ B f_i$ \n",
    "\n",
    "$+ C ( f_i - hf'_i + \\frac{h^2}{2}f''_i - \\frac{h^3}{6}f'''_i + O(h^4))$\n",
    "\n",
    "$+ D ( f_i - 2hf'_i + 2h^2f''_i - \\frac{4}{3}h^3f'''_i + O(h^4))$\n",
    "\n"
   ]
  },
  {
   "cell_type": "markdown",
   "id": "1a08ef9a",
   "metadata": {},
   "source": [
    "Agrupando:\n",
    "\n",
    "$D_3f(x) = ( A + B + C + D) f_i$\n",
    "\n",
    "$+ ( A - C - 2D)f'_ih$\n",
    "\n",
    "$+ ( \\frac{A}{2} + \\frac{C}{2} + 2D)f''_ih^2$\n",
    "\n",
    "$+ ( \\frac{A}{6} - \\frac{C}{6} - \\frac{4D}{3})f'''_ih^3$\n",
    "\n",
    "$+ O(h^4) $\n",
    "\n"
   ]
  },
  {
   "cell_type": "markdown",
   "id": "54e7981a",
   "metadata": {},
   "source": [
    "Para resolver el sistema de ecuaciones, planteamos la siguiente matriz:\n",
    "\n",
    "$\n",
    "\\left(\n",
    "\\begin{matrix}\n",
    "1 & 1 & 1 & 1 \\\\\n",
    "1 & 0 & -1 & -2 \\\\\n",
    "\\frac{1}{2} & 0 & \\frac{1}{2} & 2 \\\\\n",
    "\\frac{1}{6} & 0 & -\\frac{1}{6} & -\\frac{4}{3} \\\\\n",
    "\\end{matrix}\n",
    "\\right)\n",
    "\\left(\n",
    "\\begin{matrix}\n",
    "A \\\\\n",
    "B \\\\\n",
    "C \\\\\n",
    "D \\\\\n",
    "\\end{matrix}\n",
    "\\right)\n",
    "=\n",
    "\\left(\n",
    "\\begin{matrix}\n",
    "0 \\\\\n",
    "\\frac{1}{h} \\\\\n",
    "0 \\\\\n",
    "0 \\\\\n",
    "\\end{matrix}\n",
    "\\right)\n",
    "$\n",
    "\n"
   ]
  },
  {
   "cell_type": "markdown",
   "id": "aecb2224",
   "metadata": {},
   "source": [
    "Resolviendo el sistema de ecuaciones:\n",
    "$A = \\frac{1}{3h}$\n",
    "$B = \\frac{1}{2h}$\n",
    "$C = -\\frac{1}{h}$ \n",
    "$D = \\frac{1}{6h}$"
   ]
  },
  {
   "cell_type": "markdown",
   "id": "95c1a279",
   "metadata": {},
   "source": [
    "Sustituyendo en $D_3f(x) = Af_{i+1}+ Bf_i + Cf_{i-1} + Df_{i-2}$:\n",
    "\n",
    "$D_3f(x) = \\frac{1}{3h}f_{i+1}+ \\frac{1}{2h}f_i + -\\frac{1}{h}f_{i-1} + \\frac{1}{6h}f_{i-2}$\n",
    "\n",
    "$ = \\frac{2f_{i+1} + 3f_i - 6f_{i-1} + f_{i-2}}{6h}$\n",
    "\n",
    "$ = \\dfrac{1}{6 h} \\left( 2f_{i+1} + 3f_{i} - 6f_{i-1} + f_{i-2} \\right)$"
   ]
  },
  {
   "cell_type": "markdown",
   "id": "14dcd505",
   "metadata": {},
   "source": [
    "Observe que hemos llamado al resultado $D_3f(x_i)$ que indica que se usan dos puntos a la izquierda de $x_i$ y uno a la derecha de $x_i$. Por lo tanto, el orden de esta aproximación es $O(h^3)$."
   ]
  },
  {
   "cell_type": "code",
   "execution_count": null,
   "id": "5a201045",
   "metadata": {},
   "outputs": [],
   "source": []
  },
  {
   "cell_type": "markdown",
   "id": "ae5359f0",
   "metadata": {},
   "source": [
    "### Ejercicio 1.4\n",
    "#### Reproducir la tabla y la gráfica del ejemplo 3"
   ]
  },
  {
   "cell_type": "code",
   "execution_count": null,
   "id": "78da8fcc",
   "metadata": {},
   "outputs": [],
   "source": []
  },
  {
   "cell_type": "markdown",
   "id": "578a99ac",
   "metadata": {},
   "source": [
    "Sea $u(x) = sin(x)$, (1) Aproximar $u'(x) = cos(x)$ en $x_o = 1$, es decir $cos(1) ≈ 0.5403$, usando $D_−$, $D_+$, $D_0$, $D_{−2}$, $D_{+2}$ y $D_3 = \\frac{1}{6h}[2u_{i+1} + 3u_i − 6u_{i−1} + u_{i−2}]$ y calcular el error absoluto: $|cos(1) − D_i|$ para $i = −, +, 0, −2, +2, 3.$"
   ]
  },
  {
   "cell_type": "code",
   "execution_count": 9,
   "id": "2e508b20",
   "metadata": {},
   "outputs": [],
   "source": [
    "# Basado en el notebook visto en clase \"02_cla_derivadas_numericas\",\n",
    "\n",
    "\n",
    "# Definimos diferencias finitas hacia atras, D_:\n",
    "\n",
    "def backwardFD(u,x,h):\n",
    "    return (u(x)-u(x-h))/h\n",
    "\n",
    "# Definimos diferencias finitas hacia adelante, D+:\n",
    "def forwardFD(u,x,h):\n",
    "    return (u(x+h)-u(x))/h\n",
    "\n",
    "# Definimos diferencias finitas centradas:\n",
    "def centeredFD(u,x,h):\n",
    "    return (u(x+h)-u(x-h))/(2*h)\n",
    "\n",
    "# Definimos diferencias finitas con tres puntos hacia la izquierda:\n",
    "def D2l(u,x,h):\n",
    "    return (3*u(x)-4*u(x-h)+u(x-2*h))/(2*h)\n",
    "\n",
    "# Definimos diferencias finitas con tres puntos hacia la derecha:\n",
    "def D2r(u,x,h):\n",
    "    return (-3*u(x) +4*u(x+h) - u(x+2*h)) / (2*h)\n",
    "\n",
    "# Definimos diferencias finitas con dos pasos a la izquierda y uno a la derecha:\n",
    "def D3(u,x,h):\n",
    "    return (2*u(x+h) + 3*u(x)- 6*u(x-h) + u(x-2*h)) / (6*h)"
   ]
  },
  {
   "cell_type": "code",
   "execution_count": 10,
   "id": "9e954e71",
   "metadata": {},
   "outputs": [],
   "source": [
    "# Definimos los parámetros\n",
    "u = np.sin\n",
    "h = np.array([0.100, 0.050, 0.010, 0.005, 0.001])\n",
    "x = np.ones(5)"
   ]
  },
  {
   "cell_type": "code",
   "execution_count": 11,
   "id": "f88b1812",
   "metadata": {},
   "outputs": [],
   "source": [
    "# Calculamos el error entre la derivada exacta y la derivada numérica, de cada aproximación\n",
    "\n",
    "#Diferencias finitas hacia atrás:\n",
    "eb = np.fabs(np.cos(x) - backwardFD(u,x,h))\n",
    "\n",
    "#Diferencias finitas hacia adelante:\n",
    "ef = np.fabs(np.cos(x) - forwardFD(u,x,h))\n",
    "\n",
    "#Diferencias finitas centradas:\n",
    "ec = np.fabs(np.cos(x) - centeredFD(u,x,h))\n",
    "\n",
    "#Diferencias finitas con tres puntos hacia la izquierda:\n",
    "e2l = np.fabs(np.cos(x) - D2l(u,x,h))\n",
    "\n",
    "#Diferencias finitas con tres puntos hacia la derecha:\n",
    "e2r = np.fabs(np.cos(x) - D2r(u,x,h))\n",
    "\n",
    "#Diferencias finitas un punto hacia adelante y dos puntos hacia atrás:\n",
    "e3 = np.fabs( np.cos(x) - D3(u,x,h))"
   ]
  },
  {
   "cell_type": "code",
   "execution_count": 12,
   "id": "1d9e34f8",
   "metadata": {},
   "outputs": [
    {
     "data": {
      "text/html": [
       "<div>\n",
       "<style scoped>\n",
       "    .dataframe tbody tr th:only-of-type {\n",
       "        vertical-align: middle;\n",
       "    }\n",
       "\n",
       "    .dataframe tbody tr th {\n",
       "        vertical-align: top;\n",
       "    }\n",
       "\n",
       "    .dataframe thead th {\n",
       "        text-align: right;\n",
       "    }\n",
       "</style>\n",
       "<table border=\"1\" class=\"dataframe\">\n",
       "  <thead>\n",
       "    <tr style=\"text-align: right;\">\n",
       "      <th></th>\n",
       "      <th>$h$</th>\n",
       "      <th>$D_-$</th>\n",
       "      <th>$D_+$</th>\n",
       "      <th>$D_0$</th>\n",
       "      <th>$D_{-2}$</th>\n",
       "      <th>$D_{+2}$</th>\n",
       "      <th>$D_3$</th>\n",
       "    </tr>\n",
       "  </thead>\n",
       "  <tbody>\n",
       "    <tr>\n",
       "      <th>0</th>\n",
       "      <td>0.100</td>\n",
       "      <td>0.042939</td>\n",
       "      <td>0.041138</td>\n",
       "      <td>9.000537e-04</td>\n",
       "      <td>2.004728e-03</td>\n",
       "      <td>1.584693e-03</td>\n",
       "      <td>6.820693e-05</td>\n",
       "    </tr>\n",
       "    <tr>\n",
       "      <th>1</th>\n",
       "      <td>0.050</td>\n",
       "      <td>0.021257</td>\n",
       "      <td>0.020807</td>\n",
       "      <td>2.250978e-04</td>\n",
       "      <td>4.761431e-04</td>\n",
       "      <td>4.235730e-04</td>\n",
       "      <td>8.649142e-06</td>\n",
       "    </tr>\n",
       "    <tr>\n",
       "      <th>2</th>\n",
       "      <td>0.010</td>\n",
       "      <td>0.004216</td>\n",
       "      <td>0.004198</td>\n",
       "      <td>9.004993e-06</td>\n",
       "      <td>1.821981e-05</td>\n",
       "      <td>1.779908e-05</td>\n",
       "      <td>6.994130e-08</td>\n",
       "    </tr>\n",
       "    <tr>\n",
       "      <th>3</th>\n",
       "      <td>0.005</td>\n",
       "      <td>0.002106</td>\n",
       "      <td>0.002101</td>\n",
       "      <td>2.251257e-06</td>\n",
       "      <td>4.528776e-06</td>\n",
       "      <td>4.476184e-06</td>\n",
       "      <td>8.754000e-09</td>\n",
       "    </tr>\n",
       "    <tr>\n",
       "      <th>4</th>\n",
       "      <td>0.001</td>\n",
       "      <td>0.000421</td>\n",
       "      <td>0.000421</td>\n",
       "      <td>9.005045e-08</td>\n",
       "      <td>1.803108e-07</td>\n",
       "      <td>1.798903e-07</td>\n",
       "      <td>6.997947e-11</td>\n",
       "    </tr>\n",
       "  </tbody>\n",
       "</table>\n",
       "</div>"
      ],
      "text/plain": [
       "     $h$     $D_-$     $D_+$         $D_0$      $D_{-2}$      $D_{+2}$  \\\n",
       "0  0.100  0.042939  0.041138  9.000537e-04  2.004728e-03  1.584693e-03   \n",
       "1  0.050  0.021257  0.020807  2.250978e-04  4.761431e-04  4.235730e-04   \n",
       "2  0.010  0.004216  0.004198  9.004993e-06  1.821981e-05  1.779908e-05   \n",
       "3  0.005  0.002106  0.002101  2.251257e-06  4.528776e-06  4.476184e-06   \n",
       "4  0.001  0.000421  0.000421  9.005045e-08  1.803108e-07  1.798903e-07   \n",
       "\n",
       "          $D_3$  \n",
       "0  6.820693e-05  \n",
       "1  8.649142e-06  \n",
       "2  6.994130e-08  \n",
       "3  8.754000e-09  \n",
       "4  6.997947e-11  "
      ]
     },
     "execution_count": 12,
     "metadata": {},
     "output_type": "execute_result"
    }
   ],
   "source": [
    "# Metemos la información en un Dataframe y mostramos el resultado:\n",
    "\n",
    "Error = pd.DataFrame(np.array([h,ef,eb,ec,e2l,e2r,e3]).transpose(), \n",
    "                     columns=['$h$','$D_-$','$D_+$','$D_0$','$D_{-2}$','$D_{+2}$', '$D_3$'])\n",
    "Error"
   ]
  },
  {
   "cell_type": "code",
   "execution_count": 13,
   "id": "0975636c",
   "metadata": {},
   "outputs": [
    {
     "data": {
      "image/png": "[encoded data removed]",
      "text/plain": [
       "<Figure size 432x288 with 1 Axes>"
      ]
     },
     "metadata": {
      "needs_background": "light"
     },
     "output_type": "display_data"
    }
   ],
   "source": [
    "#Gráfica\n",
    "plt.plot(h, ef, 'o-', label='$D_+$')\n",
    "plt.plot(h, eb, '^-', label='$D_-$')\n",
    "plt.plot(h, ec, 'v-.', label='$D_0$')\n",
    "plt.plot(h, e2r, 's-', label='$D_{+2}$')\n",
    "plt.plot(h, e2l, 'p-', label='$D_{-2}$')\n",
    "plt.plot(h, e3, 'v--', label='$D_3$')\n",
    "\n",
    "plt.xlabel('$h$')\n",
    "plt.ylabel('Error')\n",
    "plt.title('Aproximación de la derivada')\n",
    "plt.legend()\n",
    "plt.loglog()  # Definimos la escala log-log\n",
    "plt.show()"
   ]
  },
  {
   "cell_type": "code",
   "execution_count": null,
   "id": "fe2b5e8e",
   "metadata": {},
   "outputs": [],
   "source": []
  }
 ],
 "metadata": {
  "kernelspec": {
   "display_name": "Python 3 (ipykernel)",
   "language": "python",
   "name": "python3"
  },
  "language_info": {
   "codemirror_mode": {
    "name": "ipython",
    "version": 3
   },
   "file_extension": ".py",
   "mimetype": "text/x-python",
   "name": "python",
   "nbconvert_exporter": "python",
   "pygments_lexer": "ipython3",
   "version": "3.9.7"
  }
 },
 "nbformat": 4,
 "nbformat_minor": 5
}
