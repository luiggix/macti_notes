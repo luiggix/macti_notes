{
 "cells": [
  {
   "cell_type": "markdown",
   "id": "6c6f19f0",
   "metadata": {},
   "source": [
    "# Criollo Luna Frida "
   ]
  },
  {
   "cell_type": "markdown",
   "id": "448b1cf1",
   "metadata": {},
   "source": [
    "Problemas de calibracion"
   ]
  },
  {
   "cell_type": "markdown",
   "id": "3a2ed427",
   "metadata": {},
   "source": [
    "Ejercicio pagina 9 \n",
    "\n",
    "\n",
    "\n"
   ]
  },
  {
   "cell_type": "code",
   "execution_count": null,
   "id": "4044251f",
   "metadata": {},
   "outputs": [],
   "source": [
    "import matplotlib.pyplot as plt\n",
    "import numpy as np\n",
    "import pandas as pd"
   ]
  },
  {
   "cell_type": "code",
   "execution_count": null,
   "id": "39554294",
   "metadata": {},
   "outputs": [],
   "source": [
    "#condiciones fisicas \n",
    "TA = 1.0\n",
    "TB = 1.0\n",
    "L = 1.0\n",
    "S = 0.0\n",
    "k = 1.0 \n",
    "N = 21\n"
   ]
  },
  {
   "cell_type": "code",
   "execution_count": null,
   "id": "756507d8",
   "metadata": {},
   "outputs": [],
   "source": [
    "def buildMatrix ( N, d):\n",
    "    M = np.zeros((N,N))\n",
    "    for i in range (0, N-1):\n",
    "        M [ i+1, i]= - 1\n",
    "        M  [i, i+1]= -1\n",
    "        \n",
    "    for i in range(0,N):\n",
    "        M  [i,i]= 2 - d\n",
    "    return M\n"
   ]
  },
  {
   "cell_type": "code",
   "execution_count": null,
   "id": "5c933eb0",
   "metadata": {},
   "outputs": [],
   "source": [
    "def conduc_1D ( k, S, L, TA,TB, N, W):\n",
    "    h =  L / (N + 1)\n",
    "    r = k / h**2\n",
    "    d = (W**2)/r \n",
    "    \n",
    "    T = np.zeros(N+2)\n",
    "    b = np.zeros(N)\n",
    "    A = buildMatrix(N, d)\n",
    "    \n",
    "    b [:]\n",
    "    b [ 0] += TA\n",
    "    b [ -1]+= TB\n",
    "    \n",
    "    T [ 0] =  TA\n",
    "    T [-1 ] = TB\n",
    "    \n",
    "    T [ 1:N+1]= np.linalg.solve(A,b) \n",
    "    \n",
    "    x=  [h * i for i in range (1, N +1) ]\n",
    "    x.insert(0,0)\n",
    "    x.append(L)\n",
    "    print (\"La T° es\")\n",
    "print (\"\")\n",
    "print (T)\n",
    "plt.plot(x, T, 'o-', color=\"yellow\")\n",
    "plt.plot(x,T)\n",
    "plt.xlabel(\"$x$\")\n",
    "plt.ylabel(\"$y$\")\n",
    "plt.show()\n",
    "    \n",
    "    "
   ]
  },
  {
   "cell_type": "code",
   "execution_count": null,
   "id": "7ecf1d48",
   "metadata": {},
   "outputs": [],
   "source": [
    "w = 2.5*np.pi\n",
    "conduc_1D(k,S,L,TA,TB,N,W)"
   ]
  },
  {
   "cell_type": "code",
   "execution_count": null,
   "id": "b9588158",
   "metadata": {},
   "outputs": [],
   "source": [
    "#solucion exacta \n",
    "def solExact(x,W):\n",
    "    x=np.array(x)\n",
    "    return ((1.0 - np.cos(W))/np.sin(W))* np.sin(W*x) + np.cos(W*x)"
   ]
  },
  {
   "cell_type": "code",
   "execution_count": null,
   "id": "c0ef4595",
   "metadata": {},
   "outputs": [],
   "source": [
    "#redefiniendo\n",
    "def conduc_1D_solExact(k,S,L,TA,TB,N,W):\n",
    "    h = L/(N+1)\n",
    "    r= k/ h**2\n",
    "    d= (W**2)/r \n",
    "    \n",
    "    T=np.zeros(N+2)\n",
    "    b= np.zeros(N)\n",
    "    A = buildMatrix(N,d)\n",
    "    \n",
    "    b[: ]\n",
    "    b [0 ] += TA\n",
    "    b [ -1] += TB\n",
    "    \n",
    "    T[0] = TA\n",
    "    T[ -1]=TB\n",
    "    \n",
    "    T[1:N+1 ]= np.linalg.solve(A,b)\n",
    "    \n",
    "    x= [ h * i for i in range (1, N+1)]\n",
    "    x.insert(0,0)\n",
    "    x.append(L)\n",
    "    \n",
    "    Error= np.linalg.norm(solExact(x,W)-T,2)\n",
    "    plt.plot(x, solExact(x,W),\n",
    "            color=\"blue\",\n",
    "            label= r'Sol.Analitica: $u(x)= /frac{1-cos(/omega) }{sin(/omega)} $sin($/omega$x) + cos($/omega$x)\n",
    "    plt.plot(x,T,marker ='o',\n",
    "            color=\"gray\"\n",
    "            label= f'Sol.Numerica: E(h  { round (h,7)}=  {round(Error,4) }')\n",
    "    plt.xlabel(\"$x$\")\n",
    "    plt.ylabel(\"$T$\")\n",
    "    plt.legend(loc='best', bbox_to_anchor(1.0, 0.9))\n",
    "    plt.show()"
   ]
  },
  {
   "cell_type": "code",
   "execution_count": null,
   "id": "6faecdea",
   "metadata": {},
   "outputs": [],
   "source": [
    "conduc_1D_solExact(k,S,L,TA,TB,N,W)"
   ]
  },
  {
   "cell_type": "code",
   "execution_count": null,
   "id": "6841fdaf",
   "metadata": {},
   "outputs": [],
   "source": []
  }
 ],
 "metadata": {
  "kernelspec": {
   "display_name": "Python 3 (ipykernel)",
   "language": "python",
   "name": "python3"
  },
  "language_info": {
   "codemirror_mode": {
    "name": "ipython",
    "version": 3
   },
   "file_extension": ".py",
   "mimetype": "text/x-python",
   "name": "python",
   "nbconvert_exporter": "python",
   "pygments_lexer": "ipython3",
   "version": "3.9.7"
  }
 },
 "nbformat": 4,
 "nbformat_minor": 5
}
