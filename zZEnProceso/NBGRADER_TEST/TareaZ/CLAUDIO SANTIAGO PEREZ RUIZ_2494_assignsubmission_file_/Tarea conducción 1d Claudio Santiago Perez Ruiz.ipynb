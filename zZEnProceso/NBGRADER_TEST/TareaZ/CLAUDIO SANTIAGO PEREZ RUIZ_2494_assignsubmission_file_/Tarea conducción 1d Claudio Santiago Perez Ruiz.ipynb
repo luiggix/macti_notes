{
 "cells": [
  {
   "cell_type": "markdown",
   "id": "47c8ac3e",
   "metadata": {},
   "source": [
    "# Conducción en 1D\n",
    "\n",
    "#### Claudio Santiago Perez Ruiz "
   ]
  },
  {
   "cell_type": "markdown",
   "id": "f5223c84",
   "metadata": {},
   "source": [
    "##### Ejercicio 1"
   ]
  },
  {
   "cell_type": "code",
   "execution_count": 13,
   "id": "5c9dafb1",
   "metadata": {},
   "outputs": [],
   "source": [
    "import numpy as np\n",
    "import matplotlib.pyplot as plt\n",
    "import pandas as pd"
   ]
  },
  {
   "cell_type": "code",
   "execution_count": 14,
   "id": "8821ea21",
   "metadata": {},
   "outputs": [],
   "source": [
    "TA = 1.0\n",
    "TB = 1.0\n",
    "L = 1.0\n",
    "S = 0\n",
    "K = 1.0\n",
    "N = 21"
   ]
  },
  {
   "cell_type": "code",
   "execution_count": 15,
   "id": "e0b6ac2d",
   "metadata": {},
   "outputs": [],
   "source": [
    "def buildmatrix(N, d):\n",
    "    M = np.zeros((N,N))\n",
    "    \n",
    "    for i in range(0, N-1):\n",
    "        \n",
    "        M[i+1,i]= -1\n",
    "        M[i,i+1]= -1\n",
    "        \n",
    "    for i in range(0,N):\n",
    "        \n",
    "        M[i,i]= 2-d\n",
    "        \n",
    "    return M    \n",
    "    "
   ]
  },
  {
   "cell_type": "code",
   "execution_count": 16,
   "id": "dfa4d0f3",
   "metadata": {},
   "outputs": [],
   "source": [
    "def conduccion_1d(K, S, L, TA, TB, N, W):\n",
    "    \n",
    "    \n",
    "    h = L/(N+1)\n",
    "    r = K/h**2\n",
    "    d = (W**2)/r\n",
    "    \n",
    "    T = np.zeros(N+2)\n",
    "    b = np.zeros(N)\n",
    "    A = buildmatrix(N,d)\n",
    "    \n",
    "    \n",
    "    b[:] = S/r\n",
    "    b[0] += TA\n",
    "    b[-1] += TB\n",
    "    \n",
    "    T[0] = TA\n",
    "    T[-1] = TB\n",
    "    \n",
    "    T[1:N+1] = np.linalg.solve(A,b)\n",
    "    \n",
    "    x = [h * i for i in range(1, N +1)]\n",
    "    x.insert(0, 0)\n",
    "    x.append(L)\n",
    "    \n",
    "    print('Los valores obtenidos de la temp fueron: ')\n",
    "    print(\"\")\n",
    "    print(T)\n",
    "    plt.plot(x, T, 'o-', color=\"black\")\n",
    "    plt.plot(x,T)\n",
    "    plt.xlabel('$x$')\n",
    "    plt.ylabel('$T$')\n",
    "    plt.show()\n",
    "    \n",
    "    "
   ]
  },
  {
   "cell_type": "code",
   "execution_count": 17,
   "id": "7a3bf604",
   "metadata": {},
   "outputs": [
    {
     "name": "stdout",
     "output_type": "stream",
     "text": [
      "Los valores obtenidos de la temp fueron: \n",
      "\n",
      "[ 1.          1.30272968  1.43942855  1.39267454  1.16842639  0.79526416\n",
      "  0.32074678 -0.19464927 -0.68523757 -1.08849344 -1.35302256 -1.44511112\n",
      " -1.35302256 -1.08849344 -0.68523757 -0.19464927  0.32074678  0.79526416\n",
      "  1.16842639  1.39267454  1.43942855  1.30272968  1.        ]\n"
     ]
    },
    {
     "data": {
      "image/png": "[encoded data removed]",
      "text/plain": [
       "<Figure size 432x288 with 1 Axes>"
      ]
     },
     "metadata": {
      "needs_background": "light"
     },
     "output_type": "display_data"
    }
   ],
   "source": [
    "W = 2.5*np.pi\n",
    "\n",
    "conduccion_1d(K, S, L, TA, TB, N, W)\n"
   ]
  },
  {
   "cell_type": "code",
   "execution_count": 18,
   "id": "7f60e3c7",
   "metadata": {},
   "outputs": [],
   "source": [
    "def solExact(x, W):\n",
    "    x = np.array(x)\n",
    "    return ((1.0 - np.cos(W))/np.sin(W))* np.sin(W*x) + np.cos(W*x)"
   ]
  },
  {
   "cell_type": "code",
   "execution_count": 19,
   "id": "9e81ef57",
   "metadata": {},
   "outputs": [],
   "source": [
    "def conducc_1d_2(K, S, L, TA, TB, N, W):\n",
    "    \n",
    "    \n",
    "    h = L/(N+1)\n",
    "    r = K/h**2\n",
    "    d = (W**2)/r\n",
    "    \n",
    "    T = np.zeros(N+2)\n",
    "    b = np.zeros(N)\n",
    "    A = buildmatrix(N,d)\n",
    "    \n",
    "    \n",
    "    b[:] = S/r\n",
    "    b[0] += TA\n",
    "    b[-1] += TB\n",
    "    \n",
    "    T[0] = TA\n",
    "    T[-1] = TB\n",
    "    \n",
    "    T[1:N+1] = np.linalg.solve(A,b)\n",
    "    x = [h * i for i in range(1, N +1)]\n",
    "    x.insert(0, 0)\n",
    "    x.append(L)\n",
    "    \n",
    "    Error = np.linalg.norm(solExact(x,W)-T,2)\n",
    "    \n",
    "    plt.title(r\"Ecuación: $\\frac{\\partial^2u(x)}{\\partial x^2}$ = $\\omega^2$u(x); u(a)=u(b)=1\")\n",
    "    plt.plot(x, solExact(x,W),\n",
    "            color=\"red\",\n",
    "            label= r'Solución. Analítica')\n",
    "    \n",
    "    plt.plot(x, T, marker= \"o\", color= \"blue\", linestyle= \"None\",\n",
    "            label= f\"Solución. Numérica: (h= {round(h, 7)})= {round(Error, 4)}\")\n",
    "    \n",
    "    plt.xlabel(\"$x$\")\n",
    "    plt.ylabel(\"$T$\")\n",
    "    plt.legend(loc=\"best\", bbox_to_anchor=(1.1, 0.9))\n",
    "    plt.show()\n",
    "    \n",
    "    \n",
    "    "
   ]
  },
  {
   "cell_type": "code",
   "execution_count": 20,
   "id": "c0445048",
   "metadata": {},
   "outputs": [
    {
     "data": {
      "image/png": "[encoded data removed]",
      "text/plain": [
       "<Figure size 432x288 with 1 Axes>"
      ]
     },
     "metadata": {
      "needs_background": "light"
     },
     "output_type": "display_data"
    }
   ],
   "source": [
    "conducc_1d_2(K, S, L, TA, TB, N, W)"
   ]
  },
  {
   "cell_type": "markdown",
   "id": "178ca7d0",
   "metadata": {},
   "source": [
    "#### Ejercicio 2"
   ]
  },
  {
   "cell_type": "markdown",
   "id": "ac1fd22f",
   "metadata": {},
   "source": [
    "#### Ejercicio 1.4"
   ]
  },
  {
   "cell_type": "code",
   "execution_count": 26,
   "id": "701ac352",
   "metadata": {},
   "outputs": [],
   "source": [
    "def backwardFD(u,x,h):\n",
    "    return (u(x)-u(x-h))/h\n",
    "\n",
    "def forwardFD(u,x,h):\n",
    "    return(u(x+h)-u(x))/h\n",
    "\n",
    "def centeredFD(u,x,h):\n",
    "    return (u(x+h)-u(x-h))/(2*h)\n",
    "\n",
    "def D2l(u,x,h):\n",
    "    return(3*u(x)-4*u(x-h)+u(x-2*h))/(2*h)\n",
    "\n",
    "def D2r(u,x,h):\n",
    "    return(-3*u(x)+4*u(x-h)-u(x+2*h))/(2*h)\n",
    "\n",
    "def D3(u,x,h):\n",
    "    return (2*u(x+h)+3*u(x)-6*u(x-h)+u(x-2*h))/(6*h)\n",
    "\n",
    "\n",
    "    \n",
    "    "
   ]
  },
  {
   "cell_type": "code",
   "execution_count": 27,
   "id": "d0442dc3",
   "metadata": {},
   "outputs": [],
   "source": [
    "x = np.ones(5)\n",
    "u = np.sin\n",
    "h = np.array([0.100, 0.050, 0.010, 0.005, 0.001])"
   ]
  },
  {
   "cell_type": "code",
   "execution_count": 28,
   "id": "7ea990d5",
   "metadata": {},
   "outputs": [],
   "source": [
    "eb = np.fabs(np.cos(x)- backwardFD(u,x,h))\n",
    "\n",
    "ef = np.fabs(np.cos(x) - forwardFD(u,x,h))\n",
    "\n",
    "ec = np.fabs(np.cos(x) - centeredFD(u,x,h))\n",
    "\n",
    "e2l = np.fabs(np.cos(x) - D2l(u,x,h))\n",
    "\n",
    "e2r = np.fabs(np.cos(x) - D2r(u,x,h))\n",
    "\n",
    "e3 = np.fabs(np.cos(x) - D3(u,x,h))"
   ]
  },
  {
   "cell_type": "code",
   "execution_count": 29,
   "id": "c6ab5e04",
   "metadata": {},
   "outputs": [
    {
     "name": "stdout",
     "output_type": "stream",
     "text": [
      "     $h$     $D_-$     $D_+$         $$D_0      $D_{-2}$  $D_{+2}$  \\\n",
      "0  0.100  0.042939  0.041138  9.000537e-04  2.004728e-03  2.156024   \n",
      "1  0.050  0.021257  0.020807  2.250978e-04  4.761431e-04  2.159885   \n",
      "2  0.010  0.004216  0.004198  9.004993e-06  1.821981e-05  2.161155   \n",
      "3  0.005  0.002106  0.002101  2.251257e-06  4.528776e-06  2.161196   \n",
      "4  0.001  0.000421  0.000421  9.005045e-08  1.803108e-07  2.161209   \n",
      "\n",
      "          $D_3$  \n",
      "0  6.820693e-05  \n",
      "1  8.649142e-06  \n",
      "2  6.994130e-08  \n",
      "3  8.754000e-09  \n",
      "4  6.997947e-11  \n"
     ]
    }
   ],
   "source": [
    "Error = pd.DataFrame(np.array([h, ef, eb, ec, e2l, e2r, e3]).transpose(),\n",
    "                    columns=[\"$h$\", \"$D_-$\", \"$D_+$\", \"$$D_0\", \"$D_{-2}$\", \"$D_{+2}$\", \"$D_3$\"])\n",
    "print(Error)"
   ]
  },
  {
   "cell_type": "code",
   "execution_count": 30,
   "id": "394f4ae4",
   "metadata": {},
   "outputs": [
    {
     "data": {
      "image/png": "[encoded data removed]",
      "text/plain": [
       "<Figure size 432x288 with 1 Axes>"
      ]
     },
     "metadata": {
      "needs_background": "light"
     },
     "output_type": "display_data"
    }
   ],
   "source": [
    "plt.plot(h, ef, \"o-\", label=\"$D_+$\")\n",
    "plt.plot(h, eb, \"^-\", label=\"$D_-$\")\n",
    "plt.plot(h, ec, \"v-\", label=\"$D_0$\")\n",
    "plt.plot(h, e2r, \"s-\", label=\"$D_{+2}$\")\n",
    "plt.plot(h, e2l, \"p-\", label=\"$D_{-2}$\")\n",
    "plt.plot(h, e3, \"v--\", label =\"$D_3$\")\n",
    "\n",
    "\n",
    "\n",
    "\n",
    "plt.xlabel(\"$h$\")\n",
    "plt.ylabel(\"Error\")\n",
    "plt.title(\"Aproximación\")\n",
    "plt.legend()\n",
    "plt.loglog()\n",
    "plt.show()\n"
   ]
  },
  {
   "cell_type": "code",
   "execution_count": null,
   "id": "de9778c3",
   "metadata": {},
   "outputs": [],
   "source": []
  }
 ],
 "metadata": {
  "kernelspec": {
   "display_name": "Python 3 (ipykernel)",
   "language": "python",
   "name": "python3"
  },
  "language_info": {
   "codemirror_mode": {
    "name": "ipython",
    "version": 3
   },
   "file_extension": ".py",
   "mimetype": "text/x-python",
   "name": "python",
   "nbconvert_exporter": "python",
   "pygments_lexer": "ipython3",
   "version": "3.9.7"
  }
 },
 "nbformat": 4,
 "nbformat_minor": 5
}
