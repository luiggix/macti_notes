{
 "cells": [
  {
   "cell_type": "markdown",
   "id": "6f55918d",
   "metadata": {},
   "source": [
    "##  Problemas de Calibración:\n",
    "\n",
    "### Pérez Pérez C. Joselyn \n",
    "\n",
    "#### 1. Escriba una función que cree la matriz del sistema presentado en la página 6.\n",
    "#### 2. Realice el ejercicio que se describe en la página 9."
   ]
  },
  {
   "cell_type": "code",
   "execution_count": 2,
   "id": "625a2836",
   "metadata": {},
   "outputs": [],
   "source": [
    "import numpy as np\n",
    "import pandas as pd\n",
    "import matplotlib.pyplot as plt"
   ]
  },
  {
   "cell_type": "code",
   "execution_count": 3,
   "id": "2fbf7390",
   "metadata": {},
   "outputs": [],
   "source": [
    "#Datos\n",
    "TA= 1.0\n",
    "TB= 1.0\n",
    "L= 1.0\n",
    "S= 0.0\n",
    "k=1.0\n",
    "N=21\n",
    "\n",
    "#Definimos la función para la matriz\n",
    "\n",
    "def buildMatrix(N,d):\n",
    "    Mat=np.zeros((N,N))\n",
    "    for i in range (0, N-1):\n",
    "        Mat[i+1,i]=-1\n",
    "        Mat[i,i+1]=-1\n",
    "    for i in range(0,N):\n",
    "        Mat[i,i]=2-d\n",
    "    return Mat"
   ]
  },
  {
   "cell_type": "code",
   "execution_count": 4,
   "id": "6382209d",
   "metadata": {},
   "outputs": [],
   "source": [
    "#Utilizamos como base el ejercicio visto en clase\n",
    "\n",
    "#Parametros físicos\n",
    "def funcion(k, S, L, TA, TB, N, w):\n",
    "    \"\"\"\"\n",
    "    Parameters\n",
    "    ----------\n",
    "    L:float\n",
    "    L es la longitud del dominio\n",
    "    \n",
    "    k:float\n",
    "    k es la conductividad del material\n",
    "    \n",
    "    S:float\n",
    "    S es la fuente\n",
    "    \n",
    "    TA:float\n",
    "    TA es la ocndición de frontera del lado izquierdo\n",
    "    \n",
    "    TB: float\n",
    "    TB es la condición de frontera de la derecha\n",
    "    \n",
    "    N:int\n",
    "    N es el número de nodos internos (grados de libertad)\n",
    "    \n",
    "    Return\n",
    "    ------\n",
    "    Esta función hace lagráfica de la solución\n",
    "    \"\"\"\n",
    "    \n",
    "    \n",
    "    import numpy as np\n",
    "    import matplotlib.pyplot as plt\n",
    "\n",
    "\n",
    "    #Parametros numéricos\n",
    "    h=L/(N+1)\n",
    "    r=k/h**2\n",
    "    d=(w**2)/r\n",
    "\n",
    "    T=np.zeros(N+2)\n",
    "    b=np.zeros(N)\n",
    "    A=buildMatrix(N,d)\n",
    "\n",
    "    b[:]=S/r\n",
    "    T[0]=TA\n",
    "    T[-1]=TB\n",
    "    b[0]+= TA\n",
    "    b[-1]+= TB\n",
    "\n",
    "#Implementamos\n",
    "    T[1:N+1] = np.linalg.solve(A,b)\n",
    "    x=[h*i for i in range (1, N+1)]\n",
    "    x.insert(0,0)\n",
    "    x.append(L)\n",
    "    \n",
    "    print(\"Valores obtenidos\")\n",
    "    print(\"\")\n",
    "    print(T)\n",
    "    plt.plot(x, T, 'o-', color=\"k\")\n",
    "    plt.plot(x,T)\n",
    "    plt.xlabel(\"$x$\")\n",
    "    plt.ylabel(\"$T$\")\n",
    "    plt.show()\n"
   ]
  },
  {
   "cell_type": "code",
   "execution_count": 5,
   "id": "d18d4025",
   "metadata": {},
   "outputs": [
    {
     "name": "stdout",
     "output_type": "stream",
     "text": [
      "Valores obtenidos\n",
      "\n",
      "[ 1.          1.30272968  1.43942855  1.39267454  1.16842639  0.79526416\n",
      "  0.32074678 -0.19464927 -0.68523757 -1.08849344 -1.35302256 -1.44511112\n",
      " -1.35302256 -1.08849344 -0.68523757 -0.19464927  0.32074678  0.79526416\n",
      "  1.16842639  1.39267454  1.43942855  1.30272968  1.        ]\n"
     ]
    },
    {
     "data": {
      "image/png": "[encoded data removed]",
      "text/plain": [
       "<Figure size 432x288 with 1 Axes>"
      ]
     },
     "metadata": {
      "needs_background": "light"
     },
     "output_type": "display_data"
    }
   ],
   "source": [
    "#Ahora si \n",
    "w=2.5*np.pi \n",
    "\n",
    "funcion(k, S, L, TA, TB, N, w)"
   ]
  },
  {
   "cell_type": "code",
   "execution_count": null,
   "id": "c7006910",
   "metadata": {},
   "outputs": [],
   "source": []
  }
 ],
 "metadata": {
  "kernelspec": {
   "display_name": "Python 3 (ipykernel)",
   "language": "python",
   "name": "python3"
  },
  "language_info": {
   "codemirror_mode": {
    "name": "ipython",
    "version": 3
   },
   "file_extension": ".py",
   "mimetype": "text/x-python",
   "name": "python",
   "nbconvert_exporter": "python",
   "pygments_lexer": "ipython3",
   "version": "3.9.7"
  }
 },
 "nbformat": 4,
 "nbformat_minor": 5
}
