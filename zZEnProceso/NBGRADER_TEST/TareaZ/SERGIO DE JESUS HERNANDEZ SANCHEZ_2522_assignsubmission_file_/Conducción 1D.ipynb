{
 "cells": [
  {
   "cell_type": "code",
   "execution_count": 1,
   "id": "e84ca343",
   "metadata": {},
   "outputs": [],
   "source": [
    "import numpy as np\n",
    "import matplotlib.pyplot as plt"
   ]
  },
  {
   "cell_type": "markdown",
   "id": "b24d6e0f",
   "metadata": {},
   "source": [
    "## Matriz página 6"
   ]
  },
  {
   "cell_type": "code",
   "execution_count": 2,
   "id": "66ceccf8",
   "metadata": {},
   "outputs": [],
   "source": [
    "def conduc1d(k,L,TA,TB): #S se considera 0 al menos que sea dicho lo contrario\n",
    "    n=21\n",
    "    w=int(2.5*np.pi)\n",
    "    S=0\n",
    "    #Las variables físicas se piden, por lo que únicamente se calculan las matemáticas\n",
    "    h = L/(n+1)\n",
    "    r = k/h**2\n",
    "    \n",
    "    #Se crea la matriz T (que contendrá el resultado), b y A (que son el sistema a resolver)\n",
    "    T = np.zeros(n+2)\n",
    "    b = np.zeros(n) \n",
    "    A = np.zeros((n,n))\n",
    "    \n",
    "    b[:] = S/r #La totalidad de la matriz toma el valor S/r\n",
    "    T[0] = TA #La primer celda de T toma uno de los valores de frontera\n",
    "    T[-1] = TB #Toma el segundo valor de frontera\n",
    "    b[0] += TA #Se suma el primer valor de frontera en el primer espacio\n",
    "    b[-1] += TB #Se suma el segundo valor de frontera en el último espacio\n",
    "    for i in range (0,n): #Pone el valor 2-w^2/r en la diagonal principal\n",
    "        A[i,i]= 2-w**2/r \n",
    "        for j in range(0,n-1): #Pone el valor -1 a las diagonales aledañas a la principal\n",
    "            A[j,j+1]=-1\n",
    "            A[j+1,j]=-1\n",
    "\n",
    "    T[1:n+1] = np.linalg.solve(A,b) #Resuelve el sistema de ecuaciones\n",
    "    return T\n"
   ]
  },
  {
   "cell_type": "code",
   "execution_count": 3,
   "id": "c9dbb172",
   "metadata": {},
   "outputs": [
    {
     "data": {
      "text/plain": [
       "array([ 1.        ,  1.0724288 ,  1.03628526,  0.89522854,  0.66353919,\n",
       "        0.36467334,  0.02888809, -0.30982179, -0.61716541, -0.8620274 ,\n",
       "       -1.01961803, -1.07398287, -1.01961803, -0.8620274 , -0.61716541,\n",
       "       -0.30982179,  0.02888809,  0.36467334,  0.66353919,  0.89522854,\n",
       "        1.03628526,  1.0724288 ,  1.        ])"
      ]
     },
     "execution_count": 3,
     "metadata": {},
     "output_type": "execute_result"
    }
   ],
   "source": [
    "conduc1d(1,1,1,1)"
   ]
  },
  {
   "cell_type": "markdown",
   "id": "bd37e8ca",
   "metadata": {},
   "source": [
    "## Ejercicio página 9"
   ]
  },
  {
   "cell_type": "code",
   "execution_count": 4,
   "id": "523ec920",
   "metadata": {},
   "outputs": [],
   "source": [
    "def solExact (x, w):\n",
    "    return ((1.0-np.cos(w))/np.sin(w))*np.sin(w*x)+np.cos(w*x)"
   ]
  },
  {
   "cell_type": "code",
   "execution_count": 5,
   "id": "f3d64fab",
   "metadata": {},
   "outputs": [],
   "source": [
    "#Error = np.linalg.norm(solExact(x, w)-T,2) "
   ]
  },
  {
   "cell_type": "code",
   "execution_count": 6,
   "id": "cacf7adb",
   "metadata": {},
   "outputs": [],
   "source": [
    "#Usando el código anterior\n",
    "def conduc1de(k,L,TA,TB):\n",
    "    n=21\n",
    "    w=int(2.5*np.pi)\n",
    "    S=0\n",
    "\n",
    "    h = L/(n+1)\n",
    "    r = k/h**2\n",
    "    \n",
    "    T = np.zeros(n+2)\n",
    "    b = np.zeros(n) \n",
    "    A = np.zeros((n,n))\n",
    "    \n",
    "    b[:] = S/r\n",
    "    T[0] = TA\n",
    "    T[-1] = TB\n",
    "    b[0] += TA \n",
    "    b[-1] += TB \n",
    "    for i in range (0,n):\n",
    "        A[i,i]= 2-w**2/r \n",
    "        for j in range(0,n-1):\n",
    "            A[j,j+1]=-1\n",
    "            A[j+1,j]=-1\n",
    "\n",
    "    T[1:n+1] = np.linalg.solve(A,b)\n",
    "    \n",
    "    #x = [h * i for i in range(1, n+1)] #Calculando el valor de X\n",
    "    #x.insert(0,0)\n",
    "    #x.append(L)\n",
    "    x=np.linspace(0,L,n+2)\n",
    "    \n",
    "    Error = np.linalg.norm(solExact(x, w)-T, 2) #Añadiendo el error\n",
    "\n",
    "    #Características estéticas de la gráfica\n",
    "    titulo = 'Ecuación : $\\partial^2 u(x)/\\partial x^2 = \\omega^2 u(x); \\,\\,\\, u(a) = u(b) = 1$'\n",
    "    numerica = 'Sol. Numérica : $E(h = %g) = %g$' % (h, Error)\n",
    "    exacta = 'Sol. Analítica : $u(x) = \\\\frac{1 - \\cos(\\omega)}{\\sin(\\omega)} \\sin(\\omega x) + \\cos(\\omega x)$'\n",
    "    \n",
    "    sol = np.linspace(0,1,100)\n",
    "    plt.plot(sol, solExact(sol,w),'r-', label=exacta)\n",
    "    plt.scatter(x, T, edgecolor='k', zorder= 10, label=numerica)\n",
    "    plt.title(titulo)\n",
    "    plt.xlabel('$x$')\n",
    "    plt.ylabel('$T$')\n",
    "    plt.ylim(-1.5,1.5)\n",
    "    plt.legend(loc='upper center')\n",
    "    plt.grid()\n",
    "    plt.show()"
   ]
  },
  {
   "cell_type": "code",
   "execution_count": 7,
   "id": "a70c9881",
   "metadata": {},
   "outputs": [
    {
     "data": {
      "image/png": "[encoded data removed]",
      "text/plain": [
       "<Figure size 432x288 with 1 Axes>"
      ]
     },
     "metadata": {
      "needs_background": "light"
     },
     "output_type": "display_data"
    }
   ],
   "source": [
    "conduc1de(1,1,1,1)"
   ]
  },
  {
   "cell_type": "markdown",
   "id": "da2748c0",
   "metadata": {},
   "source": [
    "## Ejercicio 1.3\n",
    "#### Calcular el coeficiente de aproximación de $D_{3}f(x)=Af_{i+1}+Bf_{i}+Cf_{i-1}+Df_{i-2}$"
   ]
  },
  {
   "cell_type": "markdown",
   "id": "78df876f",
   "metadata": {},
   "source": [
    "##### Usando series de Taylor\n",
    "$f_{i+1}=f_{i}+h^{'}_{i}+\\frac{h^{2}}{2!}f^{''}_{i}+\\frac{h^{3}}{3!}f^{'''}_{i}+O(h^{4})$\n",
    "\n",
    "$f_{i-1}=f_{i}-h^{'}_{i}+\\frac{h^{2}}{2!}f^{''}_{i}-\\frac{h^{3}}{3!}f^{'''}_{i}+O(h^{4})$\n",
    "\n",
    "$f_{i-2}=f_{i}-2h^{'}_{i}+\\frac{2h^{2}}{2!}f^{''}_{i}-\\frac{2h^{3}}{3!}f^{'''}_{i}+O(h^{4})$\n",
    "\n",
    "##### Sustituyendo en $D_{3}f(x)$\n",
    "\n",
    "$D_{3}f(x)=A(f_{i}+h^{'}_{i}+\\frac{h^{2}}{2!}f^{''}_{i}+\\frac{h^{3}}{3!}f^{'''}_{i}+O(h^{4}))+Bf_{i}+C(f_{i}-h^{'}_{i}+\\frac{h^{2}}{2!}f^{''}_{i}-\\frac{h^{3}}{3!}f^{'''}_{i}+O(h^{4}))+D(f_{i}-2h^{'}_{i}+\\frac{2h^{2}}{2!}f^{''}_{i}-\\frac{2h^{3}}{3!}f^{'''}_{i}+O(h^{4}))$\n",
    "\n",
    "##### Resolviendo el sistema de ecuaciones como una matriz\n",
    "\n",
    "$\\begin{bmatrix}\n",
    "1 & 1 & 1 & 1 \\\\\n",
    "1 & 0 & -1 & -2  \\\\\n",
    "\\frac{1}{2} & 0 & \\frac{1}{2} & 2 \\\\\n",
    "\\frac{1}{6} & 0 & \\frac{-1}{6} & \\frac{-4}{3} \n",
    "\\end{bmatrix}$\n",
    "$\\begin{bmatrix}\n",
    "A\\\\\n",
    "B\\\\\n",
    "C\\\\\n",
    "D\n",
    "\\end{bmatrix}$\n",
    "$=$\n",
    "$\\begin{bmatrix}\n",
    "0\\\\\n",
    "\\frac{1}{h}\\\\\n",
    "0\\\\\n",
    "0\n",
    "\\end{bmatrix}$\n",
    "\n",
    "##### Resolviendo y sustituyendo tenemos:\n",
    "\n",
    "$\\frac{1}{6}(2f_{i+1}+3f_{i}-6f_{i-1}+f_{1-2})$"
   ]
  },
  {
   "cell_type": "markdown",
   "id": "8dcda2d6",
   "metadata": {},
   "source": [
    "## Ejercicio 1.4"
   ]
  },
  {
   "cell_type": "markdown",
   "id": "8f080005",
   "metadata": {},
   "source": [
    "### El repositorio de referencia no se encontró :(("
   ]
  }
 ],
 "metadata": {
  "kernelspec": {
   "display_name": "Python 3 (ipykernel)",
   "language": "python",
   "name": "python3"
  },
  "language_info": {
   "codemirror_mode": {
    "name": "ipython",
    "version": 3
   },
   "file_extension": ".py",
   "mimetype": "text/x-python",
   "name": "python",
   "nbconvert_exporter": "python",
   "pygments_lexer": "ipython3",
   "version": "3.9.7"
  }
 },
 "nbformat": 4,
 "nbformat_minor": 5
}
