{
 "cells": [
  {
   "cell_type": "markdown",
   "id": "9a0f5b05",
   "metadata": {},
   "source": [
    "### Diana Michell Hernández Trejo\n",
    "\n",
    "#### Con base en la presentación Problemas de Calibración:\n",
    "\n",
    "1. Escriba una función que cree la matriz del sistema presentado en la página 6.\n",
    "2. Realice el ejercicio que se describe en la página 9."
   ]
  },
  {
   "cell_type": "markdown",
   "id": "9b2a5164",
   "metadata": {},
   "source": [
    "## Problemas de Calibración"
   ]
  },
  {
   "cell_type": "markdown",
   "id": "263c6467",
   "metadata": {},
   "source": [
    "Ejercicio página 6"
   ]
  },
  {
   "cell_type": "code",
   "execution_count": 1,
   "id": "930457db",
   "metadata": {},
   "outputs": [],
   "source": [
    "import numpy as np\n",
    "import pandas as pd\n",
    "import matplotlib.pyplot as plt"
   ]
  },
  {
   "cell_type": "code",
   "execution_count": 2,
   "id": "3902c056",
   "metadata": {},
   "outputs": [],
   "source": [
    "Ta= 1.0\n",
    "Tb= 1.0\n",
    "L= 1.0\n",
    "k= 1.0\n",
    "S= 0.0\n",
    "N= 21"
   ]
  },
  {
   "cell_type": "code",
   "execution_count": 3,
   "id": "b0912f25",
   "metadata": {},
   "outputs": [],
   "source": [
    "#CONSTRUYENDO LA MATRIZ\n",
    "\n",
    "def buildMatrix(N, d):\n",
    "    M= np.zeros((N, N))\n",
    "    \n",
    "    for i in range (0, N-1):\n",
    "        M[i+1, i]= -1\n",
    "        M[i, i+1]= -1\n",
    "        \n",
    "    for i in range(0, N):\n",
    "        M[i, i]= 2-d\n",
    "        \n",
    "    return M"
   ]
  },
  {
   "cell_type": "code",
   "execution_count": 4,
   "id": "79debeb4",
   "metadata": {},
   "outputs": [],
   "source": [
    "def conduccion_1d(k ,S ,L ,Ta, Tb, N, w):\n",
    "    \"\"\" \n",
    "  Parameters\n",
    "  ----------\n",
    "  L: float\n",
    "  L es la longitud del dominio.\n",
    "  \n",
    "  K: float\n",
    "  Es la conductividad del material.\n",
    "  \n",
    "  S: float\n",
    "  Es la fuente.\n",
    "  \n",
    "  Ta: float\n",
    "  Es la condición frontera a la izquierda.\n",
    "  \n",
    "  Tb: float\n",
    "  Es la condición frontera de la derecha.\n",
    "  \n",
    "  N: int\n",
    "  Es el número de nodos internos (grados de libertad).\n",
    "  \n",
    "  w: float\n",
    "  Es una constante.\n",
    "  \n",
    "  Return\n",
    "  ------\n",
    "  Al final esta función dibuja la solución.\n",
    "    \"\"\" \n",
    "    h= L/(N+1)\n",
    "    r = k/h**2\n",
    "    \n",
    "    d= (w**2)/r\n",
    "\n",
    "    T = np.zeros(N+2)\n",
    "    b = np.zeros(N)\n",
    "    A = buildMatrix(N,d)\n",
    "\n",
    "    \n",
    "    b[:] = S/r\n",
    "    b[0] += Ta\n",
    "    b[-1] += Tb\n",
    "    \n",
    "    T[0] = Ta\n",
    "    T[-1] = Tb\n",
    "\n",
    "    T[1:N+1] = np.linalg.solve(A,b)\n",
    "\n",
    "    x= [h * i for i in range(1, N+1)]\n",
    "    x.insert(0,0)\n",
    "    x.append(L)\n",
    "\n",
    "\n",
    "    \n",
    "\n",
    "    print(T)\n",
    "    plt.plot(x, T, '-o', color='purple')\n",
    "    plt.xlabel(\"$x$\")\n",
    "    plt.ylabel(\"$T$\")\n",
    "    plt.show"
   ]
  },
  {
   "cell_type": "code",
   "execution_count": 5,
   "id": "991f3ee1",
   "metadata": {
    "scrolled": true
   },
   "outputs": [
    {
     "name": "stdout",
     "output_type": "stream",
     "text": [
      "[ 1.          1.30272968  1.43942855  1.39267454  1.16842639  0.79526416\n",
      "  0.32074678 -0.19464927 -0.68523757 -1.08849344 -1.35302256 -1.44511112\n",
      " -1.35302256 -1.08849344 -0.68523757 -0.19464927  0.32074678  0.79526416\n",
      "  1.16842639  1.39267454  1.43942855  1.30272968  1.        ]\n"
     ]
    },
    {
     "data": {
      "image/png": "[encoded data removed]",
      "text/plain": [
       "<Figure size 432x288 with 1 Axes>"
      ]
     },
     "metadata": {
      "needs_background": "light"
     },
     "output_type": "display_data"
    }
   ],
   "source": [
    "w= 2.5*np.pi\n",
    "\n",
    "conduccion_1d(k, S, L, Ta, Tb, N, w)"
   ]
  },
  {
   "cell_type": "markdown",
   "id": "2be02452",
   "metadata": {},
   "source": [
    "Ejercicio página 9"
   ]
  },
  {
   "cell_type": "code",
   "execution_count": 6,
   "id": "af8d11e1",
   "metadata": {},
   "outputs": [],
   "source": [
    "def solExact (x , w ):\n",
    "    x= np.array(x)\n",
    "    return ((1.0 - np . cos ( w ))/ np . sin (w )) * np . sin (w * x) + np . cos (w * x )"
   ]
  },
  {
   "cell_type": "code",
   "execution_count": 7,
   "id": "7dc28f53",
   "metadata": {},
   "outputs": [],
   "source": [
    "def conduccion_1d_solExact(k ,S ,L ,Ta, Tb, N, w):\n",
    "    \"\"\" \n",
    "  Parameters\n",
    "  ----------\n",
    "  L: float\n",
    "  L es la longitud del dominio.\n",
    "  \n",
    "  K: float\n",
    "  Es la conductividad del material.\n",
    "  \n",
    "  S: float\n",
    "  Es la fuente.\n",
    "  \n",
    "  Ta: float\n",
    "  Es la condición frontera a la izquierda.\n",
    "  \n",
    "  Tb: float\n",
    "  Es la condición frontera de la derecha.\n",
    "  \n",
    "  N: int\n",
    "  Es el número de nodos internos (grados de libertad).\n",
    "  \n",
    "  w: float\n",
    "  Es una constante.\n",
    "  \n",
    "  Return\n",
    "  ------\n",
    "  Al final esta función dibuja la solución.\n",
    "    \"\"\" \n",
    "    h= L/(N+1)\n",
    "    r = k/h**2\n",
    "    \n",
    "    d= (w**2)/r\n",
    "\n",
    "    T = np.zeros(N+2)\n",
    "    b = np.zeros(N)\n",
    "    A = buildMatrix(N,d)\n",
    "\n",
    "    \n",
    "    b[:] = S/r\n",
    "    b[0] += Ta\n",
    "    b[-1] += Tb\n",
    "    \n",
    "    T[0] = Ta\n",
    "    T[-1] = Tb\n",
    "\n",
    "    T[1:N+1] = np.linalg.solve(A,b)\n",
    "\n",
    "    x= [h * i for i in range(1, N+1)]\n",
    "    x.insert(0,0)\n",
    "    x.append(L)\n",
    "    \n",
    "    Error= np.linalg.norm(solExact(x, w)-T, 2) # Norma L -2 del error absoluto\n",
    "\n",
    "\n",
    "    #plt.title('Ecuación: $\\frac{\\partial^2u(x)}{\\partial x^2}$ = $\\omega^2$u(x); u(a)=u(b)=1')\n",
    "    plt.plot(x, solExact(x,w), color=\"red\", label= 'Sol.Analítica' )\n",
    "    plt.plot(x, T, '-o', color=\"green\", linestyle= 'None', label= 'Sol.Numerica')\n",
    "    plt.legend(loc= 'best', bbox_to_anchor=(1.1, 0.9))\n",
    "   \n",
    "    plt.xlabel(\"$x$\")\n",
    "    plt.ylabel(\"$T$\")\n",
    "    plt.show"
   ]
  },
  {
   "cell_type": "code",
   "execution_count": 8,
   "id": "8fc82eec",
   "metadata": {},
   "outputs": [
    {
     "name": "stderr",
     "output_type": "stream",
     "text": [
      "/tmp/ipykernel_3687495/1254007353.py:58: UserWarning: linestyle is redundantly defined by the 'linestyle' keyword argument and the fmt string \"-o\" (-> linestyle='-'). The keyword argument will take precedence.\n",
      "  plt.plot(x, T, '-o', color=\"green\", linestyle= 'None', label= 'Sol.Numerica')\n"
     ]
    },
    {
     "data": {
      "image/png": "[encoded data removed]",
      "text/plain": [
       "<Figure size 432x288 with 1 Axes>"
      ]
     },
     "metadata": {
      "needs_background": "light"
     },
     "output_type": "display_data"
    }
   ],
   "source": [
    "conduccion_1d_solExact(k ,S ,L ,Ta, Tb, N, w)"
   ]
  }
 ],
 "metadata": {
  "kernelspec": {
   "display_name": "Python 3 (ipykernel)",
   "language": "python",
   "name": "python3"
  },
  "language_info": {
   "codemirror_mode": {
    "name": "ipython",
    "version": 3
   },
   "file_extension": ".py",
   "mimetype": "text/x-python",
   "name": "python",
   "nbconvert_exporter": "python",
   "pygments_lexer": "ipython3",
   "version": "3.9.7"
  }
 },
 "nbformat": 4,
 "nbformat_minor": 5
}
