{
 "cells": [
  {
   "cell_type": "code",
   "execution_count": 1,
   "id": "c4b36555",
   "metadata": {},
   "outputs": [],
   "source": [
    "import numpy as np\n",
    "import pandas as pd\n",
    "import matplotlib.pyplot as plt\n",
    "import macti.visual as mvis\n",
    "import ipywidgets as widgets"
   ]
  },
  {
   "cell_type": "markdown",
   "id": "38424b06",
   "metadata": {},
   "source": [
    "Tolentino Juarez Alexander"
   ]
  },
  {
   "cell_type": "code",
   "execution_count": 2,
   "id": "73cde0ab",
   "metadata": {},
   "outputs": [],
   "source": [
    "\n",
    "def conduccion_1ds(K,S,L,TA,TB,N,W):\n",
    "    \"\"\"\"\n",
    "    Parameters\n",
    "    ----------\n",
    "    L: Float\n",
    "    L es la longitud del dominio\n",
    "    \n",
    "    k: float\n",
    "    es la conductividad del material\n",
    "    \n",
    "    S: float\n",
    "    Es la fuente\n",
    "    \n",
    "    TA: float\n",
    "    Es la condición de frontera  ala izquierda\n",
    "    \n",
    "    TB: float\n",
    "    Es la condición de frontera a la derecha\n",
    "    \n",
    "    N: int\n",
    "    Es el número de nodos internos (grados de libertad)\n",
    "    \n",
    "    Return\n",
    "    ------\n",
    "    Al final esta función dibuja la solución\n",
    "    \n",
    "    \"\"\"\n",
    "    #L=.6\n",
    "    #K=0.3\n",
    "    #S=5\n",
    "    #TA=50\n",
    "    #TB=65\n",
    "    #N = 13\n",
    "    h = L / (N+1)\n",
    "    #W = 2.5 * np.pi\n",
    "    \n",
    "    T = np.zeros(N+2)\n",
    "    b = np.zeros(N)\n",
    "    A = np.zeros((N,N))\n",
    "\n",
    "    r = K / h**2\n",
    "    b[:] = S / r\n",
    "    T[0] = TA\n",
    "    T[-1] = TB\n",
    "    b[0] += TA\n",
    "    b[-1] += TB\n",
    "\n",
    "    A[0,0]=2 - (W**2/r)\n",
    "    A[0,1]=-1\n",
    "    for i in range (1,N-1):\n",
    "        A[i,i]=2 -  (W**2/r)\n",
    "        A[i,i+1]=-1\n",
    "        A[i,i-1]=-1\n",
    "    \n",
    "    A[-1,-2]=-1\n",
    "    A[-1,-1]=2 - (W**2/r)\n",
    "\n",
    "    T[1:N+1] = np.linalg.solve(A,b)\n",
    "\n",
    "    plt.plot(T,'o-')\n",
    "    plt.xlabel('x')\n",
    "    plt.ylabel('y')\n",
    "    plt.show()\n",
    "    "
   ]
  },
  {
   "cell_type": "code",
   "execution_count": 3,
   "id": "6ac49c32",
   "metadata": {},
   "outputs": [
    {
     "data": {
      "image/png": "[encoded data removed]",
      "text/plain": [
       "<Figure size 512x384 with 1 Axes>"
      ]
     },
     "metadata": {},
     "output_type": "display_data"
    }
   ],
   "source": [
    "conduccion_1ds(0.3,5,.6,50,65,13,2.5 * np.pi)"
   ]
  },
  {
   "cell_type": "code",
   "execution_count": 4,
   "id": "2ac69b98",
   "metadata": {},
   "outputs": [],
   "source": [
    "w = widgets.interactive(conduccion_1ds, \n",
    "                        K=widgets.fixed(0.3), \n",
    "                        S=widgets.fixed(0), \n",
    "                        L=widgets.fixed(.6), \n",
    "                        TA=widgets.fixed(50), \n",
    "                        TB=widgets.fixed(65), \n",
    "                        N=widgets.IntSlider(max=20, min=8, value=4),\n",
    "                        W= widgets.fixed(2.5 * np.pi))"
   ]
  },
  {
   "cell_type": "code",
   "execution_count": 5,
   "id": "cf3956ca",
   "metadata": {},
   "outputs": [
    {
     "data": {
      "application/vnd.jupyter.widget-view+json": {
       "model_id": "f690a1e22cd7435bb57f224060ea93f4",
       "version_major": 2,
       "version_minor": 0
      },
      "text/plain": [
       "interactive(children=(IntSlider(value=8, description='N', max=20, min=8), Output()), _dom_classes=('widget-int…"
      ]
     },
     "metadata": {},
     "output_type": "display_data"
    }
   ],
   "source": [
    "display(w)"
   ]
  },
  {
   "cell_type": "markdown",
   "id": "777012f1",
   "metadata": {},
   "source": [
    "## Calcular los coeficiente de la aproximacion\n",
    "### Ejercicio 1.3\n",
    "\n",
    "$$\n",
    "D_{3l}f^\\prime = {A f_{i+1} + B f_i + C f_{i-1} + D f_{i-2}}\n",
    "$$\n",
    "\n",
    "Realizando los càlculos llegamos: \n",
    "$$ A+B+C+D=0 $$\n",
    "$$ -A + 2D+C = 1/h $$\n",
    "$$ A + 4D + C = 0 $$\n",
    "$$ -A + 8D + C = 1/h $$"
   ]
  },
  {
   "cell_type": "code",
   "execution_count": 6,
   "id": "32496413",
   "metadata": {},
   "outputs": [],
   "source": [
    "N=4\n",
    "B= np.zeros(N)\n",
    "V= np.zeros((N,N))\n",
    "R= np.zeros(N)\n",
    "V[:1]=1\n",
    "V[0,1]=1\n",
    "V[-1,-1]=8\n",
    "V[1,0]=-1\n",
    "V[2,0]=1\n",
    "V[3,0]=-1\n",
    "V[1,2]=1\n",
    "V[2,2]=1\n",
    "V[3,2]=1\n",
    "V[1,3]=2\n",
    "V[2,3]=4\n",
    "R[1]=-1\n",
    "R[3]=1\n",
    "\n",
    "B[0:N] = np.linalg.solve(V,R)"
   ]
  },
  {
   "cell_type": "code",
   "execution_count": 7,
   "id": "c1bedd73",
   "metadata": {},
   "outputs": [
    {
     "data": {
      "text/plain": [
       "array([ 0.16666667,  1.        , -1.5       ,  0.33333333])"
      ]
     },
     "execution_count": 7,
     "metadata": {},
     "output_type": "execute_result"
    }
   ],
   "source": [
    "B"
   ]
  },
  {
   "cell_type": "markdown",
   "id": "6ea15cb5",
   "metadata": {},
   "source": [
    "\n",
    "Los valores de los coeficientes serian:\n",
    "$A = 1/6 h$, $B = 1$, $C = -1/2h  - 1 $, $D = 2/6h$, quedaria respectivamente como:\n",
    "\n",
    "\n",
    "$$\n",
    "f^\\prime = \\frac{f_{i+1} + 6 f_{i+1} + (3-6h) f_{i-1}+ 2f_{i-2}}{6h}\n",
    "$$"
   ]
  },
  {
   "cell_type": "code",
   "execution_count": null,
   "id": "92c3a6a4",
   "metadata": {},
   "outputs": [],
   "source": []
  }
 ],
 "metadata": {
  "kernelspec": {
   "display_name": "Python 3 (ipykernel)",
   "language": "python",
   "name": "python3"
  },
  "language_info": {
   "codemirror_mode": {
    "name": "ipython",
    "version": 3
   },
   "file_extension": ".py",
   "mimetype": "text/x-python",
   "name": "python",
   "nbconvert_exporter": "python",
   "pygments_lexer": "ipython3",
   "version": "3.11.3"
  }
 },
 "nbformat": 4,
 "nbformat_minor": 5
}
