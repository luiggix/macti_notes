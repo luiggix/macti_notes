{
 "cells": [
  {
   "cell_type": "markdown",
   "metadata": {
    "nbgrader": {
     "grade": false,
     "grade_id": "cell-310d77b0e8e2eda3",
     "locked": true,
     "schema_version": 3,
     "solution": false,
     "task": false
    }
   },
   "source": [
    "<img src=\"./raugm23.jpg\" width=\"300px\" align=\"right\">\n",
    "\n",
    "# MODELACIÓN DE SISTEMAS TERRESTRES USANDO LA PLATAFORMA MACTI PARA APOYAR LA ENSEÑANZA DE MATEMÁTICAS.\n",
    "**Dr. Luis Miguel de la Cruz Salas**<br>\n",
    "Instituto de Geofísica, UNAM\n",
    "\n",
    " <p xmlns:cc=\"http://creativecommons.org/ns#\" xmlns:dct=\"http://purl.org/dc/terms/\"><a property=\"dct:title\" rel=\"cc:attributionURL\" href=\"https://github.com/luiggix/intro_MeIA_2023\">MACTI NOTES</a> by <span property=\"cc:attributionName\">Luis Miguel de la Cruz Salas</span> is licensed under <a href=\"http://creativecommons.org/licenses/by-nc-sa/4.0/?ref=chooser-v1\" target=\"_blank\" rel=\"license noopener noreferrer\" style=\"display:inline-block;\">CC BY-NC-SA 4.0<img style=\"height:22px!important;margin-left:3px;vertical-align:text-bottom;\" src=\"https://mirrors.creativecommons.org/presskit/icons/cc.svg?ref=chooser-v1\"><img style=\"height:22px!important;margin-left:3px;vertical-align:text-bottom;\" src=\"https://mirrors.creativecommons.org/presskit/icons/by.svg?ref=chooser-v1\"><img style=\"height:22px!important;margin-left:3px;vertical-align:text-bottom;\" src=\"https://mirrors.creativecommons.org/presskit/icons/nc.svg?ref=chooser-v1\"><img style=\"height:22px!important;margin-left:3px;vertical-align:text-bottom;\" src=\"https://mirrors.creativecommons.org/presskit/icons/sa.svg?ref=chooser-v1\"></a></p> \n"
   ]
  },
  {
   "cell_type": "markdown",
   "metadata": {
    "nbgrader": {
     "grade": false,
     "grade_id": "cell-56d91d7868ea1d16",
     "locked": true,
     "schema_version": 3,
     "solution": false,
     "task": false
    }
   },
   "source": [
    "## Contaminante en un flujo de agua subterráneas.\n",
    "\n",
    "**Objetivo.**\n",
    "Resolver numéricamente el transporte de un contaminante en un acuífero."
   ]
  },
  {
   "cell_type": "code",
   "execution_count": 1,
   "metadata": {
    "nbgrader": {
     "grade": false,
     "grade_id": "cell-556b836e25df7f58",
     "locked": true,
     "schema_version": 3,
     "solution": false,
     "task": false
    }
   },
   "outputs": [
    {
     "name": "stdout",
     "output_type": "stream",
     "text": [
      "Python 3.11.5 | packaged by conda-forge | (main, Aug 27 2023, 03:34:09) [GCC 12.3.0]\n",
      "numpy 1.25.2\n",
      "matplotlib 3.7.2\n"
     ]
    }
   ],
   "source": [
    "import sys\n",
    "import numpy as np\n",
    "import matplotlib.pyplot as plt\n",
    "import macti.visual as mvis\n",
    "\n",
    "from macti.evaluation import FileAnswer\n",
    "file_answer = FileAnswer('RAUGM2023', 'sistemas_terrestres', 'local')\n",
    "\n",
    "from macti.evaluation import Quizz\n",
    "quizz = Quizz('1', 'RAUGM2023', 'sistemas_terrestres', 'local')\n",
    "\n",
    "print('Python', sys.version)\n",
    "print(np.__name__, np.__version__)\n",
    "print(plt.matplotlib.__name__, plt.matplotlib.__version__)"
   ]
  },
  {
   "cell_type": "markdown",
   "metadata": {
    "nbgrader": {
     "grade": false,
     "grade_id": "cell-da8a4064d4b4d281",
     "locked": true,
     "schema_version": 3,
     "solution": false,
     "task": false
    }
   },
   "source": [
    "<a name='1'></a>\n",
    "## Modelo conceptual.\n",
    "\n",
    "Consideremos un acuífero de $Lx = 804.7$ [m] y $Ly = 804.7$ [m] y una fuenta de contaminante localizada en la pared izquierda y acotado por un río en la pared derecha, véase figura. Se considera que el contaminante que se modela es conservativo, es decir, que su concentración no varía al interactuar con el medio y que, por tanto, al atravesar el acuífero mantiene sus propiedades durante todo su recorrido. Se cuenta con un modelo de flujo y transporte de una sola capa, en dos dimensiones. El flujo del\n",
    "agua en el acuífero está en estado de equilibrio. Las condiciones de frontera son las que se muestran en la figura, para la carga hidraúlica $h$ y para la concentración $c$.\n",
    "\n",
    "<img src=\"./gr2.jpg\" width=\"500px\" align=\"center\">\n",
    "\n",
    "El valor de la carga hidráulica en la pared izquierda es de $h = 50$ [m] y en la pared derecha es de $h=0$ [m], en las otras paredes se considera no flujo.\n",
    "La fuente de contaminante que está activa durante el periodo de simulación tiene un valor constante de $c = 50$ ppm. En los otros lugares de la frontera se considera no flujo del contaminante.\n",
    "Inicialmente $h = 25$ [m] y $c = 0$ ppm en el interior del dominio.\n",
    "\n",
    "La porosidad tiene un valor de $\\phi = 0.25$, la dispersividad en dirección $x$ tiene un valor de $Dx = 33$ [m] y en dirección $y$ tiene el valor de $Dy = 3.3$ [m]. $K = 21.22$ [m/s] y $S_s = 1.0$\n",
    "\n",
    "\n",
    "**Fuente**:\n",
    "Leyva-Suárez, Esther, Herrera, Graciela S., & de la Cruz, Luis M.. (2015). A parallel computing strategy for Monte Carlo simulation using groundwater models. Geofísica internacional, 54(3), 245-254. https://doi.org/10.1016/j.gi.2015.04.020"
   ]
  },
  {
   "cell_type": "code",
   "execution_count": 2,
   "metadata": {
    "tags": []
   },
   "outputs": [
    {
     "name": "stdout",
     "output_type": "stream",
     "text": [
      "Parámetros físicos\n",
      "----------------------------------------\n",
      "Conductividad K = 1.0\n",
      "Conductividad (Dx, Dy) = (1.0, 1.0)\n",
      "Porosidad 𝜙 = 1.0\n",
      "Longitud en x = 1.0 | Longitud en y = 1.0\n"
     ]
    }
   ],
   "source": [
    "# Parámetros físicos\n",
    "K = 1.0 # 21.22  # Conductividad\n",
    "Dx = 1.0 # 33.0\n",
    "Dy = 1.0 # 3.3\n",
    "𝜙 = 1.0 # 0.25\n",
    "Lx = 1.0 # 804.7  # Longitud del dominio en dirección x\n",
    "Ly = 1.0 # 804.7  # Longitud del dominio en dirección y\n",
    "\n",
    "print('Parámetros físicos' + '\\n' + 40*'-')\n",
    "print('Conductividad K = {}'.format(K))\n",
    "print('Conductividad (Dx, Dy) = ({}, {})'.format(Dx, Dy))\n",
    "print('Porosidad 𝜙 = {}'.format(𝜙))\n",
    "print('Longitud en x = {} | Longitud en y = {}'.format(Lx,Ly))"
   ]
  },
  {
   "cell_type": "markdown",
   "metadata": {
    "nbgrader": {
     "grade": false,
     "grade_id": "cell-2f2abedf9e7b10dd",
     "locked": true,
     "schema_version": 3,
     "solution": false,
     "task": false
    }
   },
   "source": [
    "<a name='2'></a>\n",
    "## Modelo matemático.\n",
    "Para este modelo usaremos las ecuaciones de flujo y transporte acopladas por la ley de Darcy para describir la evolución de la pluma del contaminante. Estas ecuaciones se van a resolver para las cargas hidráulicas y las concentraciones del contaminante y se escriben como sigue:\n",
    "\n",
    "$$\n",
    "\\begin{eqnarray}\n",
    "S_s\\dfrac{\\partial h}{ \\partial t} & = & K \\left(\\dfrac{\\partial^2 h}{ \\partial x^2} + \\dfrac{\\partial^2 h}{ \\partial y^2}\\right) \\tag{1} \\\\\n",
    "V & = & -K \\nabla h \\tag{2} \\\\\n",
    "\\phi \\dfrac{\\partial c}{ \\partial t} + V \\cdot \\nabla c& = & Dx \\dfrac{\\partial^2 c}{ \\partial x^2} + Dy \\dfrac{\\partial^2 c}{ \\partial y^2} \\tag{3} \\\\\n",
    "\\end{eqnarray}\n",
    "$$\n",
    "\n",
    "donde $S_s$ es el almacenamiento específico, $K$ es la conductividad hidráulica, $h$ la carga hidráulica, $c$ la concentración del soluto, $D = (Dx, Dy)$ es la dispersión hidrodinámica, $V = (Vx, Vy)$ la velocidad de poro y la $\\phi$ porosidad efectiva. \n",
    "\n",
    "La ecuación de flujo $(1)$ describe el flujo del agua a través del acuífero, la ecuación de transporte $(3)$ describe los cambios en la concentración del contaminante a través del tiempo para un soluto conservativo. La ley de Darcy $(2)$ acopla las ecuaciones $(1)$ y $(3)$ y con ella se calcula la velocidad de poro del agua subterránea utilizando las cargas y la conductividad hidráulica.\n",
    "\n",
    "Las condiciones de frontera, de acuerdo con la figura de la sección anterior, son las siguientes:"
   ]
  },
  {
   "cell_type": "markdown",
   "metadata": {
    "nbgrader": {
     "grade": false,
     "grade_id": "cell-0ed398ae0a9a4cfe",
     "locked": true,
     "schema_version": 3,
     "solution": false,
     "task": false
    }
   },
   "source": [
    "---\n",
    "$$\n",
    "\\begin{array}{ccccccc}\n",
    "h(t,x,y) & = & 50 \\, [m] & \\quad & \\text{para} \\quad x = 0, \\quad \\forall t\\\\\n",
    "h(t,x,y) & = & 0 \\, [m] & \\quad & \\text{para} \\quad x = Lx, \\quad \\forall t \\\\\n",
    "\\dfrac{\\partial h(t,x,y)}{\\partial y} & = & 0 & \\quad & \\text{para} \\quad y = 0, Ly, \\quad \\forall t \n",
    "\\end{array}\n",
    "$$\n",
    "\n",
    "---\n",
    "$$\n",
    "\\begin{array}{ccccccc}\n",
    "c(t,x,y) & = & 50 \\, [ppm] & \\quad & \\text{para} \\quad x = 0, \\quad y \\in [\\frac{3}{8} Ly, \\frac{5}{8}Ly], \\quad \\forall t\\\\\n",
    "\\dfrac{\\partial c(t,x,y)}{\\partial y} & = & 0 & \\quad & \\text{para la frontera restante}, \\quad \\forall t \n",
    "\\end{array}\n",
    "$$\n",
    "\n",
    "---"
   ]
  },
  {
   "cell_type": "markdown",
   "metadata": {
    "nbgrader": {
     "grade": false,
     "grade_id": "cell-f8ea1c426a9adf2d",
     "locked": true,
     "schema_version": 3,
     "solution": false,
     "task": false
    },
    "tags": []
   },
   "source": [
    "<a name='3'></a>\n",
    "## Modelo numérico.\n",
    "\n",
    "El dominio se discretiza en una malla de $40 \\times 40$. Se va a simular durante 48 pasos de tiempo, con un paso de 15.2083 días.\n",
    "\n",
    "La forma discreta del modelo matemático, ecuaciones $(1), (2)$ y $(3)$, usando diferencias finitas de segundo orden es la siguiente:\n",
    "\n",
    "$$\n",
    "\\begin{eqnarray}\n",
    "h_{i,j}^{n+1} & = & h_{i,j}^n + \\dfrac{\\delta_t K_{i,j}}{\\delta^2} \n",
    "\\left(h_{i+1,j}^n + h_{i-1,j}^n + h_{i,j+1}^n + h_{i,j-1}^n - 4h_{i,j}^n\\right) \\\\\n",
    "(Vx_{i,j}, Vy_{i,j}) & = & -\\dfrac{K_{i,j}}{2 \\delta} (h_{i+1,j} - h_{i-1,j}, h_{i,j+1} - h_{i,j-1}) \\\\\n",
    "c_{i,j}^{n+1} & = & c_{i,j}^n + \n",
    "\\dfrac{\\delta_t Dx_{i,j}}{\\delta^2  \\phi} \\left(c_{i+1,j}^n - 2c_{i,j}^n + c_{i-1,j}^n\\right) + \\dfrac{\\delta_t Dx_{i,j}}{\\delta^2  \\phi} \\left(c_{i,j+1}^n - 2c_{i,j}^n + c_{i,j-1}^n  \\right) - \\\\\n",
    "& & \\dfrac{\\delta_t Vx_{i,j}}{2\\delta  \\phi} (c_{i+1,j} - c_{i-1,j}) \n",
    "  - \\dfrac{\\delta_t Vy_{i,j}}{2\\delta  \\phi} (c_{i,j+1} - c_{i,j-1})\n",
    "\\end{eqnarray} \n",
    "$$\n",
    "\n",
    "donde $\\delta$ representa el tamaño de las celdas en ambas direcciones y $\\delta_t$ el paso de tiempo."
   ]
  },
  {
   "cell_type": "code",
   "execution_count": 3,
   "metadata": {
    "nbgrader": {
     "grade": false,
     "grade_id": "cell-14510c72de94fb69",
     "locked": true,
     "schema_version": 3,
     "solution": false,
     "task": false
    }
   },
   "outputs": [
    {
     "name": "stdout",
     "output_type": "stream",
     "text": [
      "\n",
      "Parámetros numéricos\n",
      "----------------------------------------\n",
      "Nodos en x = 30 | Nodos en y = 30\n",
      "𝛿 = 0.034482758620689655 | 𝛿t = 0.001\n"
     ]
    }
   ],
   "source": [
    "# Parámetros numéricos\n",
    "Nx = 28 # Número de incógnitas en dirección x\n",
    "Ny = 28 # Número de incógnitas en dirección y\n",
    "𝛿 = Lx / (Nx+1) # Espaciamiento entre los puntos de la rejilla\n",
    "𝛿t = 0.001     # Paso de tiempo\n",
    "N = (Nx + 2)* (Ny + 2) # Número total de puntos en la rejilla\n",
    "\n",
    "print('\\nParámetros numéricos' + '\\n' + 40*'-')\n",
    "print('Nodos en x = {} | Nodos en y = {}'.format(Nx+2,Ny+2))\n",
    "print('𝛿 = {} | 𝛿t = {}'.format(𝛿, 𝛿t))"
   ]
  },
  {
   "cell_type": "markdown",
   "metadata": {
    "nbgrader": {
     "grade": false,
     "grade_id": "cell-1557fed00af4ae15",
     "locked": true,
     "schema_version": 3,
     "solution": false,
     "task": false
    }
   },
   "source": [
    "<a name='4'></a>\n",
    "## Modelo computacional."
   ]
  },
  {
   "cell_type": "markdown",
   "metadata": {
    "nbgrader": {
     "grade": false,
     "grade_id": "cell-cd6be1ed4bf54902",
     "locked": true,
     "schema_version": 3,
     "solution": false,
     "task": false
    }
   },
   "source": [
    "<a name='4-1'></a>\n",
    "### Algoritmo.\n",
    "Los pasos a seguir son los siguientes.\n",
    "\n",
    "**1. Definir los parámetros físicos y numéricos del problema:** (ya se definiron antes)"
   ]
  },
  {
   "cell_type": "code",
   "execution_count": 4,
   "metadata": {
    "tags": []
   },
   "outputs": [
    {
     "name": "stdout",
     "output_type": "stream",
     "text": [
      "Parámetros físicos\n",
      "----------------------------------------\n",
      "Conductividad K = 1.0\n",
      "Conductividad (Dx, Dy) = (1.0, 1.0)\n",
      "Porosidad 𝜙 = 1.0\n",
      "Longitud en x = 1.0 | Longitud en y = 1.0\n",
      "\n",
      "Parámetros numéricos\n",
      "----------------------------------------\n",
      "Nodos en x = 30 | Nodos en y = 30\n",
      "𝛿 = 0.034482758620689655 | 𝛿t = 0.001\n"
     ]
    }
   ],
   "source": [
    "print('Parámetros físicos' + '\\n' + 40*'-')\n",
    "print('Conductividad K = {}'.format(K))\n",
    "print('Conductividad (Dx, Dy) = ({}, {})'.format(Dx, Dy))\n",
    "print('Porosidad 𝜙 = {}'.format(𝜙))\n",
    "print('Longitud en x = {} | Longitud en y = {}'.format(Lx,Ly))\n",
    "print('\\nParámetros numéricos' + '\\n' + 40*'-')\n",
    "print('Nodos en x = {} | Nodos en y = {}'.format(Nx+2,Ny+2))\n",
    "print('𝛿 = {} | 𝛿t = {}'.format(𝛿, 𝛿t))"
   ]
  },
  {
   "cell_type": "markdown",
   "metadata": {
    "nbgrader": {
     "grade": false,
     "grade_id": "cell-943270b6c081a6c4",
     "locked": true,
     "schema_version": 3,
     "solution": false,
     "task": false
    }
   },
   "source": [
    "**2. Definir la rejilla donde se hará el cálculo (malla):**\n",
    "\n",
    "---\n",
    "<a name='E-1'></a>\n",
    "### <font color=\"DodgerBlue\">Ejercicio 1.</font>\n",
    "Calcule los arreglos `x` y `y` correctos para generar la malla.\n",
    "\n",
    "---"
   ]
  },
  {
   "cell_type": "code",
   "execution_count": 7,
   "metadata": {
    "nbgrader": {
     "grade": false,
     "grade_id": "cell-300abc1e41abdfb3",
     "locked": false,
     "schema_version": 3,
     "solution": true,
     "task": false
    }
   },
   "outputs": [],
   "source": [
    "### BEGIN SOLUTION\n",
    "x = np.linspace(0,Lx,Nx+1) # Arreglo con las coordenadas en x\n",
    "y = np.linspace(0,Ly,Ny+2) # Arreglo con las coordenadas en y\n",
    "\n",
    "file_answer.write('1', x, 'Revisa la definición de las coordenadas en dirección x')\n",
    "file_answer.write('2', y, 'Revisa la definición de las coordenadas en dirección y')\n",
    "### END SOLUTION\n",
    "\n",
    "xg, yg = np.meshgrid(x,y,indexing='ij', sparse=False) # Creamos la rejilla para usarla en Matplotlib"
   ]
  },
  {
   "cell_type": "code",
   "execution_count": 8,
   "metadata": {
    "nbgrader": {
     "grade": false,
     "grade_id": "cell-ae1d52cb8c5a772e",
     "locked": true,
     "schema_version": 3,
     "solution": false,
     "task": false
    }
   },
   "outputs": [
    {
     "ename": "ValueError",
     "evalue": "operands could not be broadcast together with shapes (29,) (30,) ",
     "output_type": "error",
     "traceback": [
      "\u001b[0;31m---------------------------------------------------------------------------\u001b[0m",
      "\u001b[0;31mValueError\u001b[0m                                Traceback (most recent call last)",
      "Cell \u001b[0;32mIn[8], line 1\u001b[0m\n\u001b[0;32m----> 1\u001b[0m \u001b[43mquizz\u001b[49m\u001b[38;5;241;43m.\u001b[39;49m\u001b[43meval_numeric\u001b[49m\u001b[43m(\u001b[49m\u001b[38;5;124;43m'\u001b[39;49m\u001b[38;5;124;43m1\u001b[39;49m\u001b[38;5;124;43m'\u001b[39;49m\u001b[43m,\u001b[49m\u001b[43m \u001b[49m\u001b[43mx\u001b[49m\u001b[43m)\u001b[49m\n\u001b[1;32m      2\u001b[0m quizz\u001b[38;5;241m.\u001b[39meval_numeric(\u001b[38;5;124m'\u001b[39m\u001b[38;5;124m2\u001b[39m\u001b[38;5;124m'\u001b[39m, y)\n",
      "File \u001b[0;32m/opt/conda/lib/python3.11/site-packages/macti/evaluation.py:189\u001b[0m, in \u001b[0;36mQuizz.eval_numeric\u001b[0;34m(self, enum, ans)\u001b[0m\n\u001b[1;32m    184\u001b[0m \u001b[38;5;28;01mtry\u001b[39;00m:\n\u001b[1;32m    185\u001b[0m     \u001b[38;5;28;01mif\u001b[39;00m \u001b[38;5;28misinstance\u001b[39m(ans, np\u001b[38;5;241m.\u001b[39mndarray):\n\u001b[1;32m    186\u001b[0m         \u001b[38;5;66;03m# Para comparar dos arreglos, debo hacerlo como si fueran listas\u001b[39;00m\n\u001b[1;32m    187\u001b[0m         \u001b[38;5;66;03m# para que la comparación sea elemento por elemento. Recordemos que \u001b[39;00m\n\u001b[1;32m    188\u001b[0m         \u001b[38;5;66;03m# Parquet escribe listas y tuplas en forma de np.ndarray.\u001b[39;00m\n\u001b[0;32m--> 189\u001b[0m         \u001b[38;5;28;01mif\u001b[39;00m \u001b[38;5;129;01mnot\u001b[39;00m \u001b[43mnp\u001b[49m\u001b[38;5;241;43m.\u001b[39;49m\u001b[43mallclose\u001b[49m\u001b[43m(\u001b[49m\u001b[43mans\u001b[49m\u001b[38;5;241;43m.\u001b[39;49m\u001b[43mflatten\u001b[49m\u001b[43m(\u001b[49m\u001b[43m)\u001b[49m\u001b[43m,\u001b[49m\u001b[43m \u001b[49m\u001b[43mcorrect\u001b[49m\u001b[43m)\u001b[49m:\n\u001b[1;32m    190\u001b[0m             assert_equal(\u001b[38;5;28mlist\u001b[39m(ans\u001b[38;5;241m.\u001b[39mflatten()), \u001b[38;5;28mlist\u001b[39m(correct))\n\u001b[1;32m    191\u001b[0m     \u001b[38;5;28;01melif\u001b[39;00m \u001b[38;5;28misinstance\u001b[39m(ans, \u001b[38;5;28mlist\u001b[39m):\n",
      "File \u001b[0;32m/opt/conda/lib/python3.11/site-packages/numpy/core/numeric.py:2241\u001b[0m, in \u001b[0;36mallclose\u001b[0;34m(a, b, rtol, atol, equal_nan)\u001b[0m\n\u001b[1;32m   2170\u001b[0m \u001b[38;5;129m@array_function_dispatch\u001b[39m(_allclose_dispatcher)\n\u001b[1;32m   2171\u001b[0m \u001b[38;5;28;01mdef\u001b[39;00m \u001b[38;5;21mallclose\u001b[39m(a, b, rtol\u001b[38;5;241m=\u001b[39m\u001b[38;5;241m1.e-5\u001b[39m, atol\u001b[38;5;241m=\u001b[39m\u001b[38;5;241m1.e-8\u001b[39m, equal_nan\u001b[38;5;241m=\u001b[39m\u001b[38;5;28;01mFalse\u001b[39;00m):\n\u001b[1;32m   2172\u001b[0m \u001b[38;5;250m    \u001b[39m\u001b[38;5;124;03m\"\"\"\u001b[39;00m\n\u001b[1;32m   2173\u001b[0m \u001b[38;5;124;03m    Returns True if two arrays are element-wise equal within a tolerance.\u001b[39;00m\n\u001b[1;32m   2174\u001b[0m \n\u001b[0;32m   (...)\u001b[0m\n\u001b[1;32m   2239\u001b[0m \n\u001b[1;32m   2240\u001b[0m \u001b[38;5;124;03m    \"\"\"\u001b[39;00m\n\u001b[0;32m-> 2241\u001b[0m     res \u001b[38;5;241m=\u001b[39m \u001b[38;5;28mall\u001b[39m(\u001b[43misclose\u001b[49m\u001b[43m(\u001b[49m\u001b[43ma\u001b[49m\u001b[43m,\u001b[49m\u001b[43m \u001b[49m\u001b[43mb\u001b[49m\u001b[43m,\u001b[49m\u001b[43m \u001b[49m\u001b[43mrtol\u001b[49m\u001b[38;5;241;43m=\u001b[39;49m\u001b[43mrtol\u001b[49m\u001b[43m,\u001b[49m\u001b[43m \u001b[49m\u001b[43matol\u001b[49m\u001b[38;5;241;43m=\u001b[39;49m\u001b[43matol\u001b[49m\u001b[43m,\u001b[49m\u001b[43m \u001b[49m\u001b[43mequal_nan\u001b[49m\u001b[38;5;241;43m=\u001b[39;49m\u001b[43mequal_nan\u001b[49m\u001b[43m)\u001b[49m)\n\u001b[1;32m   2242\u001b[0m     \u001b[38;5;28;01mreturn\u001b[39;00m \u001b[38;5;28mbool\u001b[39m(res)\n",
      "File \u001b[0;32m/opt/conda/lib/python3.11/site-packages/numpy/core/numeric.py:2351\u001b[0m, in \u001b[0;36misclose\u001b[0;34m(a, b, rtol, atol, equal_nan)\u001b[0m\n\u001b[1;32m   2349\u001b[0m yfin \u001b[38;5;241m=\u001b[39m isfinite(y)\n\u001b[1;32m   2350\u001b[0m \u001b[38;5;28;01mif\u001b[39;00m \u001b[38;5;28mall\u001b[39m(xfin) \u001b[38;5;129;01mand\u001b[39;00m \u001b[38;5;28mall\u001b[39m(yfin):\n\u001b[0;32m-> 2351\u001b[0m     \u001b[38;5;28;01mreturn\u001b[39;00m \u001b[43mwithin_tol\u001b[49m\u001b[43m(\u001b[49m\u001b[43mx\u001b[49m\u001b[43m,\u001b[49m\u001b[43m \u001b[49m\u001b[43my\u001b[49m\u001b[43m,\u001b[49m\u001b[43m \u001b[49m\u001b[43matol\u001b[49m\u001b[43m,\u001b[49m\u001b[43m \u001b[49m\u001b[43mrtol\u001b[49m\u001b[43m)\u001b[49m\n\u001b[1;32m   2352\u001b[0m \u001b[38;5;28;01melse\u001b[39;00m:\n\u001b[1;32m   2353\u001b[0m     finite \u001b[38;5;241m=\u001b[39m xfin \u001b[38;5;241m&\u001b[39m yfin\n",
      "File \u001b[0;32m/opt/conda/lib/python3.11/site-packages/numpy/core/numeric.py:2332\u001b[0m, in \u001b[0;36misclose.<locals>.within_tol\u001b[0;34m(x, y, atol, rtol)\u001b[0m\n\u001b[1;32m   2330\u001b[0m \u001b[38;5;28;01mdef\u001b[39;00m \u001b[38;5;21mwithin_tol\u001b[39m(x, y, atol, rtol):\n\u001b[1;32m   2331\u001b[0m     \u001b[38;5;28;01mwith\u001b[39;00m errstate(invalid\u001b[38;5;241m=\u001b[39m\u001b[38;5;124m'\u001b[39m\u001b[38;5;124mignore\u001b[39m\u001b[38;5;124m'\u001b[39m), _no_nep50_warning():\n\u001b[0;32m-> 2332\u001b[0m         \u001b[38;5;28;01mreturn\u001b[39;00m less_equal(\u001b[38;5;28mabs\u001b[39m(\u001b[43mx\u001b[49m\u001b[38;5;241;43m-\u001b[39;49m\u001b[43my\u001b[49m), atol \u001b[38;5;241m+\u001b[39m rtol \u001b[38;5;241m*\u001b[39m \u001b[38;5;28mabs\u001b[39m(y))\n",
      "\u001b[0;31mValueError\u001b[0m: operands could not be broadcast together with shapes (29,) (30,) "
     ]
    }
   ],
   "source": [
    "quizz.eval_numeric('1', x)\n",
    "quizz.eval_numeric('2', y)"
   ]
  },
  {
   "cell_type": "code",
   "execution_count": null,
   "metadata": {
    "tags": []
   },
   "outputs": [],
   "source": [
    "vis = mvis.Plotter(1,2,[dict(aspect='equal'), dict(aspect='equal')], dict(figsize=(8,16)))\n",
    "\n",
    "vis.draw_domain(1, xg, yg)\n",
    "vis.plot_mesh2D(2, xg, yg)\n",
    "vis.plot_frame(2, xg, yg)"
   ]
  },
  {
   "cell_type": "markdown",
   "metadata": {
    "nbgrader": {
     "grade": false,
     "grade_id": "cell-2c4f75f6fd366507",
     "locked": true,
     "schema_version": 3,
     "solution": false,
     "task": false
    }
   },
   "source": [
    "**3. Definir las condiciones iniciales y de frontera:**\n",
    "\n",
    "Para el caso de la concentración, necesitamos definir la fuente de contaminante en la pared izquierda:"
   ]
  },
  {
   "cell_type": "markdown",
   "metadata": {
    "nbgrader": {
     "grade": false,
     "grade_id": "cell-d1254965c91e487c",
     "locked": true,
     "schema_version": 3,
     "solution": false,
     "task": false
    }
   },
   "source": [
    "---\n",
    "<a name='E-2'></a>\n",
    "### <font color=\"DodgerBlue\">Ejercicio 2.</font>\n",
    "Calcule el lugar donde se debe aplicar la condición de frontera distinta de cero para la concentración $c$. Recuerde que el intervalo es $y \\in [\\frac{3}{8} Ly, \\frac{5}{8}Ly]$.\n",
    "\n",
    "---"
   ]
  },
  {
   "cell_type": "code",
   "execution_count": null,
   "metadata": {
    "nbgrader": {
     "grade": false,
     "grade_id": "cell-c90f6453acb79498",
     "locked": false,
     "schema_version": 3,
     "solution": true,
     "task": false
    }
   },
   "outputs": [],
   "source": [
    "h = np.zeros((Nx+2, Ny+2))\n",
    "h[0,:]    = 50  # Pared izquierda    \n",
    "h[Nx+1,:] = 0   # Pared derecha\n",
    "\n",
    "c = np.zeros((Nx+2, Ny+2))\n",
    "c[0,:]    = 0  # Pared izquierda    \n",
    "c[Nx+1,:] = 0   # Pared derecha\n",
    "c[:,0]    = 0  # Pared inferior\n",
    "c[:,Ny+1] = 0   # Pared superior\n",
    "\n",
    "### BEGIN SOLUTION\n",
    "N1 = int((Ly * 3.0 / 8.0) / 𝛿)\n",
    "N2 = int((Ly * 5.0 / 8.0) / 𝛿)\n",
    "\n",
    "file_answer.write('3', N1, 'Revisa el cálculo de límite inferior del intervalo')\n",
    "file_answer.write('4', N2, 'Revisa el cálculo de límite superior del intervalo')\n",
    "### END SOLUTION\n",
    "c[0, N1:N2]    = 50  # Pared izquierda\n"
   ]
  },
  {
   "cell_type": "code",
   "execution_count": null,
   "metadata": {
    "nbgrader": {
     "grade": false,
     "grade_id": "cell-73f1ace24bfba2c7",
     "locked": true,
     "schema_version": 3,
     "solution": false,
     "task": false
    }
   },
   "outputs": [],
   "source": [
    "quizz.eval_numeric('3', N1)\n",
    "quizz.eval_numeric('4', N2)"
   ]
  },
  {
   "cell_type": "code",
   "execution_count": null,
   "metadata": {
    "tags": []
   },
   "outputs": [],
   "source": [
    "vis = mvis.Plotter(1,2,[dict(aspect='equal'), dict(aspect='equal')], dict(figsize=(8,16)))\n",
    "\n",
    "cax1 = vis.set_canvas(1,Lx,Ly)\n",
    "c_h = vis.contourf(1, xg, yg, h, levels=50, cmap='cool')\n",
    "vis.fig.colorbar(c_h, cax=cax1, ticks = [h.min(), h.max()], shrink=0.5, orientation='vertical')\n",
    "vis.plot_mesh2D(1, xg, yg)\n",
    "\n",
    "cax2 = vis.set_canvas(2,Lx,Ly)\n",
    "c_c = vis.contourf(2, xg, yg, c, levels=50, cmap='viridis')\n",
    "vis.fig.colorbar(c_c, cax=cax2, ticks = [c.min(), c.max()], shrink=0.5, orientation='vertical')\n",
    "vis.plot_mesh2D(2, xg, yg)"
   ]
  },
  {
   "cell_type": "markdown",
   "metadata": {
    "nbgrader": {
     "grade": false,
     "grade_id": "cell-26fbc00c51cac79d",
     "locked": true,
     "schema_version": 3,
     "solution": false,
     "task": false
    }
   },
   "source": [
    "**4. Implementar el algoritmo de solución:**\n",
    "$$\n",
    "\\begin{eqnarray}\n",
    "h_{i,j}^{n+1} & = & h_{i,j}^n + \\dfrac{\\delta_t K_{i,j}}{\\delta^2} \n",
    "\\left(h_{i+1,j}^n + h_{i-1,j}^n + h_{i,j+1}^n + h_{i,j-1}^n - 4h_{i,j}^n\\right) \\\\\n",
    "(Vx_{i,j}, Vy_{i,j}) & = & -\\dfrac{K_{i,j}}{2 \\delta} (h_{i+1,j} - h_{i-1,j}, h_{i,j+1} - h_{i,j-1}) \\\\\n",
    "c_{i,j}^{n+1} & = & c_{i,j}^n + \\dfrac{\\delta_t Dx_{i,j}}{\\delta^2} \n",
    "\\left(c_{i+1,j}^n - 2c_{i,j}^n + c_{i-1,j}^n\\right) + \\dfrac{\\delta_t Dx_{i,j}}{\\delta^2}\\left(c_{i,j+1}^n - 2c_{i,j}^n + c_{i,j-1}^n  \\right) - \\\\\n",
    "& & \\dfrac{\\delta_t Vx_{i,j}}{2\\delta} (c_{i+1,j} - c_{i-1,j}) \n",
    "  - \\dfrac{\\delta_t Vy_{i,j}}{2\\delta} (c_{i,j+1} - c_{i,j-1})\n",
    "\\end{eqnarray} \n",
    "$$\n"
   ]
  },
  {
   "cell_type": "code",
   "execution_count": null,
   "metadata": {
    "nbgrader": {
     "grade": false,
     "grade_id": "cell-581d7254d8b948f7",
     "locked": true,
     "schema_version": 3,
     "solution": false,
     "task": false
    }
   },
   "outputs": [],
   "source": [
    "𝛿t = 0.0001\n",
    "r = 𝛿t / 𝛿**2\n",
    "s = 1.0 / 2*𝛿\n",
    "t = 𝛿t / 2*𝛿\n",
    "\n",
    "h_new = h.copy()\n",
    "c_new = c.copy()\n",
    "\n",
    "tolerancia = 1.0e-3 \n",
    "error = 1.0\n",
    "error_lista = []\n",
    "\n",
    "Vx = np.zeros((Nx+2, Ny+2))\n",
    "Vy = Vx.copy()"
   ]
  },
  {
   "cell_type": "markdown",
   "metadata": {
    "nbgrader": {
     "grade": false,
     "grade_id": "cell-f5da659e2d4a4e39",
     "locked": true,
     "schema_version": 3,
     "solution": false,
     "task": false
    }
   },
   "source": [
    "**4.1 Hacemos una prueba resolviendo primero la ecuación de flujo**\n",
    "\n",
    "---\n",
    "<a name='E-3'></a>\n",
    "### <font color=\"DodgerBlue\">Ejercicio 3.</font>\n",
    "Implemente la fórmula en diferencias para la carga hidráulica $h$.\n",
    "\n",
    "---"
   ]
  },
  {
   "cell_type": "code",
   "execution_count": null,
   "metadata": {
    "nbgrader": {
     "grade": false,
     "grade_id": "cell-28eba73e058c2c3c",
     "locked": false,
     "schema_version": 3,
     "solution": true,
     "task": false
    }
   },
   "outputs": [],
   "source": [
    "iteraciones_max = 1000\n",
    "iteraciones = 0\n",
    "while(error > tolerancia and iteraciones < iteraciones_max):\n",
    "    iteraciones += 1\n",
    "    for i in range(1,Nx+1):\n",
    "        for j in range(1,Ny+1):\n",
    "            if j == 1:  # No flujo en la pared inferior\n",
    "                h_new[i,j] = h[i,j] + K * r * (h[i+1,j] + h[i-1,j] + h[i,j+1] - 3*h[i,j])\n",
    "            if j == Ny: # No flujo en la pared superior\n",
    "                h_new[i,j] = h[i,j] + K * r * (h[i+1,j] + h[i-1,j] + h[i,j-1] - 3*h[i,j])\n",
    "            else:\n",
    "                h_new[i,j] = h[i,j] + K * r * (h[i+1,j] + h[i-1,j] + h[i,j+1] + h[i,j-1] - 4*h[i,j])\n",
    "                \n",
    "    # Condición de frontera de no flujo\n",
    "    h_new[:,0] = h_new[:,1]\n",
    "    h_new[:,Ny+1] = h_new[:,Ny]\n",
    "    \n",
    "    # Actualización de la carga hidráulica\n",
    "    h[:] = h_new[:]\n",
    "    \n",
    "    print(iteraciones, sep=' ', end= ' ')\n"
   ]
  },
  {
   "cell_type": "code",
   "execution_count": null,
   "metadata": {
    "tags": []
   },
   "outputs": [],
   "source": [
    "vis = mvis.Plotter(1,1,[dict(aspect='equal')])\n",
    "\n",
    "cax1 = vis.set_canvas(1,Lx,Ly)\n",
    "c_h = vis.contourf(1, xg, yg, h, levels=50, cmap='cool')\n",
    "cl_h = vis.contour(1, xg, yg, h, levels=10, colors='k', linewidths=0.5)\n",
    "plt.clabel(cl_h, inline=True, fontsize=12.0)\n",
    "vis.fig.colorbar(c_h, cax=cax1, ticks = [h.min(), h.max()], shrink=0.5, orientation='vertical')\n",
    "vis.plot_frame(1, xg, yg)"
   ]
  },
  {
   "cell_type": "markdown",
   "metadata": {
    "nbgrader": {
     "grade": false,
     "grade_id": "cell-295805c950401db2",
     "locked": true,
     "schema_version": 3,
     "solution": false,
     "task": false
    }
   },
   "source": [
    "**4.2 Calculamos ahora la velocidad con la $h$ antes calculada**\n",
    "\n",
    "---\n",
    "<a name='E-4'></a>\n",
    "### <font color=\"DodgerBlue\">Ejercicio 4.</font>\n",
    "Calcule la velocidad con la fórmula correspondiente.\n",
    "\n",
    "---"
   ]
  },
  {
   "cell_type": "code",
   "execution_count": null,
   "metadata": {
    "nbgrader": {
     "grade": false,
     "grade_id": "cell-dfef863e7bfe16ce",
     "locked": false,
     "schema_version": 3,
     "solution": true,
     "task": false
    }
   },
   "outputs": [],
   "source": [
    "### BEGIN SOLUTION\n",
    "for i in range(1,Nx+1):\n",
    "    for j in range(1,Ny+1):\n",
    "        Vx[i,j] = -K * s * (h[i+1,j] - h[i-1,j])\n",
    "        Vy[i,j] = -K * s * (h[i,j+1] - h[i,j-1])\n",
    "        \n",
    "file_answer.write('5', Vx,'')\n",
    "file_answer.write('6', Vy,'')\n",
    "### END SOLUTION"
   ]
  },
  {
   "cell_type": "code",
   "execution_count": null,
   "metadata": {
    "nbgrader": {
     "grade": false,
     "grade_id": "cell-8c532d73b4afe58f",
     "locked": true,
     "schema_version": 3,
     "solution": false,
     "task": false
    }
   },
   "outputs": [],
   "source": [
    "quizz.eval_numeric('5', Vx)\n",
    "quizz.eval_numeric('6', Vy)"
   ]
  },
  {
   "cell_type": "code",
   "execution_count": null,
   "metadata": {
    "tags": []
   },
   "outputs": [],
   "source": [
    "vis = mvis.Plotter(1,1,[dict(aspect='equal')])\n",
    "\n",
    "cax1 = vis.set_canvas(1,Lx,Ly)\n",
    "c_h = vis.contourf(1, xg, yg, h, levels=50, cmap='cool')\n",
    "vis.fig.colorbar(c_h, cax=cax1, ticks = [h.min(), h.max()], shrink=0.5, orientation='vertical')\n",
    "vis.plot_frame(1, xg, yg)\n",
    "vis.quiver(1, xg, yg, Vx, Vy, scale=2.5)\n",
    "vis.show()"
   ]
  },
  {
   "cell_type": "markdown",
   "metadata": {
    "nbgrader": {
     "grade": false,
     "grade_id": "cell-61bebd99cec45c2f",
     "locked": true,
     "schema_version": 3,
     "solution": false,
     "task": false
    }
   },
   "source": [
    "**4.3 Implementamos el algoritmo completo**\n",
    "$$\n",
    "\\begin{eqnarray}\n",
    "h_{i,j}^{n+1} & = & h_{i,j}^n + \\dfrac{\\delta_t K_{i,j}}{\\delta^2} \n",
    "\\left(h_{i+1,j}^n + h_{i-1,j}^n + h_{i,j+1}^n + h_{i,j-1}^n - 4h_{i,j}^n\\right) \\\\\n",
    "(Vx_{i,j}, Vy_{i,j}) & = & -\\dfrac{K_{i,j}}{2 \\delta} (h_{i+1,j} - h_{i-1,j}, h_{i,j+1} - h_{i,j-1}) \\\\\n",
    "c_{i,j}^{n+1} & = & c_{i,j}^n + \n",
    "\\dfrac{\\delta_t Dx_{i,j}}{\\delta^2  \\phi} \\left(c_{i+1,j}^n - 2c_{i,j}^n + c_{i-1,j}^n\\right) + \\dfrac{\\delta_t Dx_{i,j}}{\\delta^2  \\phi} \\left(c_{i,j+1}^n - 2c_{i,j}^n + c_{i,j-1}^n  \\right) - \\\\\n",
    "& & \\dfrac{\\delta_t Vx_{i,j}}{2\\delta  \\phi} (c_{i+1,j} - c_{i-1,j}) \n",
    "  - \\dfrac{\\delta_t Vy_{i,j}}{2\\delta  \\phi} (c_{i,j+1} - c_{i,j-1})\n",
    "\\end{eqnarray} \n",
    "$$\n",
    "\n",
    "---\n",
    "<a name='E-5'></a>\n",
    "### <font color=\"DodgerBlue\">Ejercicio 5.</font>\n",
    "Complete el cálculo de la concentración $c$ en el código que sigue.\n",
    "\n",
    "---"
   ]
  },
  {
   "cell_type": "code",
   "execution_count": null,
   "metadata": {
    "nbgrader": {
     "grade": false,
     "grade_id": "cell-584775eb32239e79",
     "locked": false,
     "schema_version": 3,
     "solution": true,
     "task": false
    }
   },
   "outputs": [],
   "source": [
    "h = np.ones((Nx+2, Ny+2)) * 25\n",
    "h[0,:]    = 50  # Pared izquierda    \n",
    "h[Nx+1,:] = 0   # Pared derecha\n",
    "\n",
    "c = np.zeros((Nx+2, Ny+2))\n",
    "c[0,:]    = 0  # Pared izquierda    \n",
    "c[Nx+1,:] = 0   # Pared derecha\n",
    "c[:,0]    = 0  # Pared inferior\n",
    "c[:,Ny+1] = 0   # Pared superior\n",
    "\n",
    "c[0, N1:N2]    = 50  # Pared izquierda\n",
    "\n",
    "iteraciones_max = 1000\n",
    "iteraciones = 0\n",
    "while(error > tolerancia and iteraciones < iteraciones_max):\n",
    "    iteraciones += 1\n",
    "    for i in range(1,Nx+1):\n",
    "        for j in range(1,Ny+1):\n",
    "            if j == 1:  # No flujo \n",
    "                h_new[i,j] = h[i,j] + K * r * (h[i+1,j] + h[i-1,j] + h[i,j+1] - 3*h[i,j])\n",
    "            if j == Ny: # No flujo\n",
    "                h_new[i,j] = h[i,j] + K * r * (h[i+1,j] + h[i-1,j] + h[i,j-1] - 3*h[i,j])\n",
    "            else:\n",
    "                h_new[i,j] = h[i,j] + K * r * (h[i+1,j] + h[i-1,j] + h[i,j+1] + h[i,j-1] - 4*h[i,j])\n",
    "\n",
    "    h_new[:,0] = h_new[:,1]\n",
    "    h_new[:,Ny+1] = h_new[:,Ny]\n",
    "    \n",
    "    for i in range(1,Nx+1):\n",
    "        for j in range(1,Ny+1):\n",
    "            Vx[i,j] = -K * s * (h[i+1,j] - h[i-1,j])\n",
    "            Vy[i,j] = -K * s * (h[i,j+1] - h[i,j-1])\n",
    "\n",
    "    for i in range(1,Nx+1):\n",
    "        for j in range(1,Ny+1):\n",
    "            if j == 1:  # No flujo \n",
    "                c_new[i,j] = c[i,j] + Dx * r * (c[i+1,j] - 2*c[i,j]+ c[i-1,j]) / 𝜙 \\\n",
    "                                    + Dy * r * (c[i,j+1] - c[i,j]) / 𝜙 \\\n",
    "                                    - t * Vx[i,j] * (c[i+1,j] - c[i-1,j]) / 𝜙 \\\n",
    "                                    - t * Vy[i,j] * (c[i,j+1] - c[i,j-1]) / 𝜙\n",
    "            if j == Ny: # No flujo\n",
    "                c_new[i,j] = c[i,j] + Dx * r * (c[i+1,j] - 2*c[i,j]+ c[i-1,j]) / 𝜙\\\n",
    "                                    + Dy * r * (c[i,j-1] - c[i,j]) / 𝜙 \\\n",
    "                                    - t * Vx[i,j] * (c[i+1,j] - c[i-1,j]) / 𝜙 \\\n",
    "                                    - t * Vy[i,j] * (c[i,j+1] - c[i,j-1]) / 𝜙\n",
    "            if i == Nx: # No flujo\n",
    "                c_new[i,j] = c[i,j] + Dx * r * (c[i-1,j] - c[i,j]) / 𝜙 \\\n",
    "                                    + Dy * r * (c[i,j+1] - 2*c[i,j]+ c[i,j-1]) / 𝜙 \\\n",
    "                                    - t * Vx[i,j] * (c[i+1,j] - c[i-1,j]) / 𝜙 \\\n",
    "                                    + t * Vy[i,j] * (c[i,j+1] - c[i,j-1]) / 𝜙              \n",
    "            else:\n",
    "                c_new[i,j] = c[i,j] + Dx * r * (c[i+1,j] - 2*c[i,j]+ c[i-1,j]) / 𝜙\\\n",
    "                                + Dy * r * (c[i,j+1] - 2*c[i,j]+ c[i,j-1]) / 𝜙\\\n",
    "                                - t * Vx[i,j] * (c[i+1,j] - c[i-1,j]) / 𝜙\\\n",
    "                                - t * Vy[i,j] * (c[i,j+1] - c[i,j-1])/ 𝜙\n",
    "                \n",
    "    c_new[:,0] = c_new[:,1]\n",
    "    c_new[:,Ny+1] = c_new[:,Ny]\n",
    "    c_new[Nx+1:] = c_new[Nx,:]\n",
    "    \n",
    "    error = np.linalg.norm(h_new - h)\n",
    "    error_lista.append(error)\n",
    "    h[:] = h_new[:]\n",
    "    c[:] = c_new[:]\n",
    "    \n",
    "    print(iteraciones, sep=' ', end= ' ')"
   ]
  },
  {
   "cell_type": "code",
   "execution_count": null,
   "metadata": {
    "tags": []
   },
   "outputs": [],
   "source": [
    "ax1 = dict(aspect='equal', title='Malla')\n",
    "ax2 = dict(aspect='equal', title='Carga hidráulica')\n",
    "ax3 = dict(aspect='equal', title='Velocidad')\n",
    "ax4 = dict(aspect='equal', title='Concentración')\n",
    "\n",
    "vis = mvis.Plotter(2,2,[ax1, ax2, ax3, ax4],\n",
    "                  dict(figsize=(8,8)))\n",
    "\n",
    "vis.plot_mesh2D(1, xg, yg)\n",
    "vis.plot_frame(1, xg, yg)\n",
    "\n",
    "cax3 = vis.set_canvas(2,Lx,Ly)\n",
    "c_h = vis.contourf(2, xg, yg, h, levels=50, cmap='cool')\n",
    "vis.fig.colorbar(c_h, cax=cax3, ticks = [h.min(), h.max()], shrink=0.5, orientation='vertical')\n",
    "vis.contour(2, xg, yg, h, levels=10, linewidths=0.5)\n",
    "vis.plot_frame(2, xg, yg)\n",
    "\n",
    "vis.plot_frame(3, xg, yg)\n",
    "vis.quiver(3, xg, yg, Vx, Vy, scale=1)\n",
    "\n",
    "cax4 = vis.set_canvas(4,Lx,Ly)\n",
    "c_c = vis.contourf(4, xg, yg, c, levels=50, cmap='GnBu')\n",
    "vis.fig.colorbar(c_c, cax=cax4, ticks = [c.min(), c.max()], shrink=0.5, orientation='vertical')\n",
    "vis.contour(4, xg, yg, c, levels=10, linewidths=0.5)\n",
    "vis.plot_frame(4, xg, yg)\n",
    "\n",
    "vis.show()"
   ]
  },
  {
   "cell_type": "markdown",
   "metadata": {
    "nbgrader": {
     "grade": false,
     "grade_id": "cell-1a45260d6153060b",
     "locked": true,
     "schema_version": 3,
     "solution": false,
     "task": false
    }
   },
   "source": [
    "**¿Podría hacer el mismo cálculo con una permeabilidad hidráulica y dipersividad variable en el dominio de estudio?**"
   ]
  },
  {
   "cell_type": "code",
   "execution_count": null,
   "metadata": {
    "nbgrader": {
     "grade": false,
     "grade_id": "cell-c9e6c26d91446144",
     "locked": true,
     "schema_version": 3,
     "solution": false,
     "task": false
    }
   },
   "outputs": [],
   "source": [
    "K = np.ones((Nx+2, Ny+2))\n",
    "\n",
    "nn1 = int(Ny*0.25)\n",
    "nn2 = int(Ny*.75)\n",
    "print(nn1, nn2, nn2-nn1)\n",
    "K[:, nn1:nn2] = np.random.rand(Nx+2, nn2-nn1) * 0.5\n",
    "\n",
    "Dx = np.random.rand(Nx+2, Ny+2) * 0.5\n",
    "Dy = np.random.rand(Nx+2, Ny+2) * 2.5"
   ]
  },
  {
   "cell_type": "code",
   "execution_count": null,
   "metadata": {
    "tags": []
   },
   "outputs": [],
   "source": [
    "ax1 = dict(aspect='equal', title='Permeabilidad')\n",
    "ax2 = dict(aspect='equal', title='Dispersividad x')\n",
    "ax3 = dict(aspect='equal', title='Dispersividad y')\n",
    "\n",
    "vis = mvis.Plotter(1,3,[ax1, ax2, ax3],\n",
    "                  dict(figsize=(10,8)))\n",
    "\n",
    "cax1 = vis.set_canvas(1,Lx,Ly)\n",
    "p_v = vis.contourf(1, xg, yg, K, levels=50, cmap='Greens')\n",
    "vis.fig.colorbar(p_v, cax=cax1, ticks = [K.min(), K.max()], shrink=0.5, orientation='vertical')\n",
    "\n",
    "cax2 = vis.set_canvas(2,Lx,Ly)\n",
    "d_x = vis.contourf(2, xg, yg, Dx, levels=50, cmap='viridis')\n",
    "vis.fig.colorbar(d_x, cax=cax2, ticks = [Dx.min(), Dx.max()], shrink=0.5, orientation='vertical')\n",
    "\n",
    "cax3 = vis.set_canvas(3,Lx,Ly)\n",
    "d_y = vis.contourf(3, xg, yg, Dy, levels=50, cmap='cividis')\n",
    "vis.fig.colorbar(d_y, cax=cax3, ticks = [Dy.min(), Dy.max()], shrink=0.5, orientation='vertical')\n",
    "\n",
    "vis.show()"
   ]
  },
  {
   "cell_type": "markdown",
   "metadata": {
    "nbgrader": {
     "grade": false,
     "grade_id": "cell-030460adb7d718f4",
     "locked": true,
     "schema_version": 3,
     "solution": false,
     "task": false
    }
   },
   "source": [
    "---\n",
    "<a name='E-6'></a>\n",
    "\n",
    "### <font color=\"DodgerBlue\">Ejercicio 6.</font>\n",
    "Copie y modifique el código que calcula toda la solución, de tal manera que tome en cuenta la permeabilidad hidráulica y la dispersividad variables.\n",
    "\n",
    "---"
   ]
  },
  {
   "cell_type": "code",
   "execution_count": null,
   "metadata": {
    "nbgrader": {
     "grade": false,
     "grade_id": "cell-54d853f692b643c8",
     "locked": false,
     "schema_version": 3,
     "solution": true,
     "task": false
    }
   },
   "outputs": [],
   "source": [
    "### BEGIN SOLUTION\n",
    "h = np.ones((Nx+2, Ny+2)) * 25\n",
    "h[0,:]    = 50  # Pared izquierda    \n",
    "h[Nx+1,:] = 0   # Pared derecha\n",
    "\n",
    "c = np.zeros((Nx+2, Ny+2))\n",
    "c[0,:]    = 0  # Pared izquierda    \n",
    "c[Nx+1,:] = 0   # Pared derecha\n",
    "c[:,0]    = 0  # Pared inferior\n",
    "c[:,Ny+1] = 0   # Pared superior\n",
    "\n",
    "c[0, N1:N2]    = 50  # Pared izquierda\n",
    "\n",
    "iteraciones_max = 1000\n",
    "iteraciones = 0\n",
    "while(error > tolerancia and iteraciones < iteraciones_max):\n",
    "    iteraciones += 1\n",
    "    for i in range(1,Nx+1):\n",
    "        for j in range(1,Ny+1):\n",
    "            if j == 1:  # No flujo \n",
    "                h_new[i,j] = h[i,j] + K[i,j] * r * (h[i+1,j] + h[i-1,j] + h[i,j+1] - 3*h[i,j])\n",
    "            if j == Ny: # No flujo\n",
    "                h_new[i,j] = h[i,j] + K[i,j] * r * (h[i+1,j] + h[i-1,j] + h[i,j-1] - 3*h[i,j])\n",
    "            else:\n",
    "                h_new[i,j] = h[i,j] + K[i,j] * r * (h[i+1,j] + h[i-1,j] + h[i,j+1] + h[i,j-1] - 4*h[i,j])\n",
    "\n",
    "    h_new[:,0] = h_new[:,1]\n",
    "    h_new[:,Ny+1] = h_new[:,Ny]\n",
    "    \n",
    "    for i in range(1,Nx+1):\n",
    "        for j in range(1,Ny+1):\n",
    "            Vx[i,j] = -K[i,j] * s * (h[i+1,j] - h[i-1,j])\n",
    "            Vy[i,j] = -K[i,j] * s * (h[i,j+1] - h[i,j-1])\n",
    "\n",
    "    for i in range(1,Nx+1):\n",
    "        for j in range(1,Ny+1):\n",
    "            if j == 1:  # No flujo \n",
    "                c_new[i,j] = c[i,j] + Dx[i,j] * r * (c[i+1,j] - 2*c[i,j]+ c[i-1,j]) / 𝜙 \\\n",
    "                                    + Dy[i,j] * r * (c[i,j+1] - c[i,j]) / 𝜙 \\\n",
    "                                    - t * Vx[i,j] * (c[i+1,j] - c[i-1,j]) / 𝜙 \\\n",
    "                                    - t * Vy[i,j] * (c[i,j+1] - c[i,j-1]) / 𝜙\n",
    "            if j == Ny: # No flujo\n",
    "                c_new[i,j] = c[i,j] + Dx[i,j] * r * (c[i+1,j] - 2*c[i,j]+ c[i-1,j]) / 𝜙\\\n",
    "                                    + Dy[i,j] * r * (c[i,j-1] - c[i,j]) / 𝜙 \\\n",
    "                                    - t * Vx[i,j] * (c[i+1,j] - c[i-1,j]) / 𝜙 \\\n",
    "                                    - t * Vy[i,j] * (c[i,j+1] - c[i,j-1]) / 𝜙\n",
    "            if i == Nx: # No flujo\n",
    "                c_new[i,j] = c[i,j] + Dx[i,j] * r * (c[i-1,j] - c[i,j]) / 𝜙 \\\n",
    "                                    + Dy[i,j] * r * (c[i,j+1] - 2*c[i,j]+ c[i,j-1]) / 𝜙 \\\n",
    "                                    - t * Vx[i,j] * (c[i+1,j] - c[i-1,j]) / 𝜙 \\\n",
    "                                    + t * Vy[i,j] * (c[i,j+1] - c[i,j-1]) / 𝜙              \n",
    "            else:\n",
    "                c_new[i,j] = c[i,j] + Dx[i,j] * r * (c[i+1,j] - 2*c[i,j]+ c[i-1,j]) / 𝜙\\\n",
    "                                + Dy[i,j] * r * (c[i,j+1] - 2*c[i,j]+ c[i,j-1]) / 𝜙\\\n",
    "                                - t * Vx[i,j] * (c[i+1,j] - c[i-1,j]) / 𝜙\\\n",
    "                                - t * Vy[i,j] * (c[i,j+1] - c[i,j-1])/ 𝜙\n",
    "    \n",
    "    c_new[:,0] = c_new[:,1]\n",
    "    c_new[:,Ny+1] = c_new[:,Ny]\n",
    "    c_new[Nx+1:] = c_new[Nx,:]\n",
    "    \n",
    "    error = np.linalg.norm(h_new - h)\n",
    "    error_lista.append(error)\n",
    "    h[:] = h_new[:]\n",
    "    c[:] = c_new[:]\n",
    "    \n",
    "    print(iteraciones, sep=' ', end= ' ')\n",
    "### END SOLUTION"
   ]
  },
  {
   "cell_type": "code",
   "execution_count": null,
   "metadata": {
    "tags": []
   },
   "outputs": [],
   "source": [
    "ax1 = dict(aspect='equal', title='Malla')\n",
    "ax2 = dict(aspect='equal', title='Carga hidráulica')\n",
    "ax3 = dict(aspect='equal', title='Velocidad')\n",
    "ax4 = dict(aspect='equal', title='Concentración')\n",
    "\n",
    "vis = mvis.Plotter(2,2,[ax1, ax2, ax3, ax4],\n",
    "                  dict(figsize=(8,8)))\n",
    "\n",
    "vis.plot_mesh2D(1, xg, yg)\n",
    "vis.plot_frame(1, xg, yg)\n",
    "\n",
    "cax3 = vis.set_canvas(2,Lx,Ly)\n",
    "c_h = vis.contourf(2, xg, yg, h, levels=50, cmap='cool')\n",
    "vis.fig.colorbar(c_h, cax=cax3, ticks = [h.min(), h.max()], shrink=0.5, orientation='vertical')\n",
    "vis.contour(2, xg, yg, h, levels=10, linewidths=0.5)\n",
    "vis.plot_frame(2, xg, yg)\n",
    "\n",
    "vis.set_canvas(3,Lx,Ly)\n",
    "vis.plot_frame(3, xg, yg)\n",
    "vis.streamplot(3, xg, yg, Vx, Vy)\n",
    "vis.quiver(3, xg, yg, Vx, Vy, scale=0.5)\n",
    "\n",
    "cax4 = vis.set_canvas(4,Lx,Ly)\n",
    "c_c = vis.contourf(4, xg, yg, c, levels=50, cmap='GnBu')\n",
    "vis.fig.colorbar(c_c, cax=cax4, ticks = [c.min(), c.max()], shrink=0.5, orientation='vertical')\n",
    "vis.contour(4, xg, yg, c, levels=10, linewidths=0.5)\n",
    "vis.plot_frame(4, xg, yg)\n",
    "\n",
    "plt.savefig('contaminante.pdf')\n",
    "vis.show()\n"
   ]
  },
  {
   "cell_type": "code",
   "execution_count": null,
   "metadata": {},
   "outputs": [],
   "source": []
  }
 ],
 "metadata": {
  "celltoolbar": "Create Assignment",
  "kernelspec": {
   "display_name": "Python 3 (ipykernel)",
   "language": "python",
   "name": "python3"
  },
  "language_info": {
   "codemirror_mode": {
    "name": "ipython",
    "version": 3
   },
   "file_extension": ".py",
   "mimetype": "text/x-python",
   "name": "python",
   "nbconvert_exporter": "python",
   "pygments_lexer": "ipython3",
   "version": "3.11.5"
  }
 },
 "nbformat": 4,
 "nbformat_minor": 4
}
