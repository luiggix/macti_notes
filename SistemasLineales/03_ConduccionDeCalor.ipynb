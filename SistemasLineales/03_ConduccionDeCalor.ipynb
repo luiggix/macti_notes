{
 "cells": [
  {
   "cell_type": "markdown",
   "id": "bdc1e5f2",
   "metadata": {},
   "source": [
    "# Sistemas lineales: proyecto\n",
    "\n",
    "## Contenido\n",
    "- [1 - Transferencia de calor.](#1)\n",
    "- [2 - Un ejemplo práctico.](#2)\n",
    "    - [2.1 - Modelo Conceptual.](#2-1)\n",
    "    - [2.2 - Modelo Matemático.](#2-2)\n",
    "    - [2.3 - Modelo Numérico.](#2-3)\n",
    "    - [2.4 - Modelo Computacional.](#2-4)\n",
    "        - [2.4.1 - Escribir una función en Python que genere la matriz del sistema lineal.](#2-4-1)\n",
    "        - [2.4.2 - Definir los parámetros físicos del problema.](#2-4-2)\n",
    "        - [2.4.3 - Definir los parámetros numéricos.](#2-4-3)\n",
    "        - [2.4.4 - Definir los arreglos para almacenar la solución y para el lado derecho del sistema (RHS).](#2-4-4)\n",
    "        - [2.4.5 - Construir la matriz y resolver el sistema lineal.](#2-4-5)\n",
    "        - [2.4.6 - Imprimir y graficar la solución.](#2-4-6)\n",
    "    - [Ejercicio 1.](#ej-1)\n",
    "    - [Ejercicio 2.](#ej-2)\n",
    "    - [Ejercicio 3.](#ej-3)"
   ]
  },
  {
   "cell_type": "markdown",
   "id": "2399d70a",
   "metadata": {
    "nbgrader": {
     "grade": false,
     "grade_id": "cell-fc1ed33987c3b892",
     "locked": true,
     "schema_version": 3,
     "solution": false,
     "task": false
    }
   },
   "source": [
    "<a name='1'></a>\n",
    "## Transferencia de calor\n",
    "\n",
    "Cuando estamos cocinando y por accidente tocamos una sartén caliente con la mano, el calor se transferirá a nuestra piel por contacto y puede causarnos una quemadura. Lo sabemos por experiencia, el calor en exceso puede dañarnos. \n",
    "\n",
    "Pero ¿qué es eso que llamamos calor?\n",
    "\n",
    "El **calor** es una forma de energía que se puede transferir de un sistema a otro como resultado de la diferencia en la temperatura. \n",
    "\n",
    "Es posible determinar las razones por las cuales esa forma de energía se transfiere en diferentes medios; a estas razones o procesos se les denomina **transferencia de calor** y se pueden diferenciar tres tipos:\n",
    "\n",
    "1. **Conducción**: transferencia de calor basada en el contacto directo entre los cuerpos, sin intercambio de materia; el calor fluye desde un cuerpo de mayor temperatura a otro de menor temperatura que está en contacto con el primero, se dice que hay un *gradiente de temperaturas*.\n",
    "2. **Convección**: transferencia de calor de un lugar a otro debida al movimiento de fluidos. Este tipo de transferencia es común en líquidos y gases, por ejemplo cuando se pone a hervir agua. \n",
    "3. **Radiación**: calor emitido en forma de ondas electromagnéticas, por ejemplo cuando se calienta un metal hasta llegar al rojo vivo.\n",
    "\n",
    "<center>\n",
    "<a title=\"Kmecfiunit, cmglee, CC BY-SA 4.0 &lt;https://creativecommons.org/licenses/by-sa/4.0&gt;, via Wikimedia Commons\" href=\"https://commons.wikimedia.org/wiki/File:Heat-transmittance-means2.jpg\"><img width=\"400\" alt=\"Heat-transmittance-means2\" src=\"https://upload.wikimedia.org/wikipedia/commons/f/f4/Heat-transmittance-means2.jpg\"></a>\n",
    "</center>"
   ]
  },
  {
   "cell_type": "markdown",
   "id": "34fc2cd9",
   "metadata": {
    "nbgrader": {
     "grade": false,
     "grade_id": "cell-1699b1a6a9efa1b8",
     "locked": true,
     "schema_version": 3,
     "solution": false,
     "task": false
    }
   },
   "source": [
    "<a name='2'></a>\n",
    "## Un ejemplo práctico.\n",
    "\n",
    "En la figura se observa el calentamiento de una sartén. \n",
    "\n",
    "<center>\n",
    "<a title=\"Kritzolina, CC BY-SA 4.0 &lt;https://creativecommons.org/licenses/by-sa/4.0&gt;, via Wikimedia Commons\" href=\"https://commons.wikimedia.org/wiki/File:Making_a_pan_04.jpg\"><img width=\"400\" alt=\"Making a pan 04\" src=\"https://upload.wikimedia.org/wikipedia/commons/thumb/f/f6/Making_a_pan_04.jpg/512px-Making_a_pan_04.jpg\"></a>\n",
    "</center>\n",
    "\n",
    "El mango de esta sartén es de un material metálico cuya conductividad térmica $\\kappa$ hace que el calor se transfiera rápidamente desde la parte caliente hasta el extremo opuesto.\n",
    "\n",
    "¿Será posible determinar cómo es el cambio de temperaturas a lo largo del mango?"
   ]
  },
  {
   "cell_type": "markdown",
   "id": "46e00e44",
   "metadata": {
    "nbgrader": {
     "grade": false,
     "grade_id": "cell-648cbf0230578471",
     "locked": true,
     "schema_version": 3,
     "solution": false,
     "task": false
    }
   },
   "source": [
    "<a name='2-1'></a>\n",
    "### Modelo Conceptual.\n",
    "\n",
    "Considere el siguiente diagrama:\n",
    "\n",
    "<center>\n",
    "<img src=\"./Figuras/Sarten.png\"  width='400px'/>\n",
    "</center>\n",
    "\n",
    "**Hipótesis**:\n",
    "- El material del mango está hecho de **titanio**.\n",
    "- La transferencia de calor es solo por conducción.\n",
    "- Consideramos que tenemos temperaturas fijas en los extremos:\n",
    "    - $T_A = 100 [^oC]$ y $T_B = 20 [^oC]$).\n",
    "- No se consideran fuentes ni sumideros, es decir que no hay calentamiento ni enfriamiento en puntos intermedios del mango ($S=0$).\n",
    "- $\\kappa$ representa la conductividad térmica del titanio y está dada en unidades de $[W/K\\cdot m]$.\n",
    "- La longitud del mango es $L = 0.30 [m]$ y se puede representar como se muestra en la siguiente figura:\n",
    "\n",
    "<center>\n",
    "<img src=\"./Figuras/ModCon01.png\"  width='500px'/>\n",
    "</center>"
   ]
  },
  {
   "cell_type": "markdown",
   "id": "4ae00290",
   "metadata": {
    "nbgrader": {
     "grade": false,
     "grade_id": "cell-843848e2899973b2",
     "locked": true,
     "schema_version": 3,
     "solution": false,
     "task": false
    }
   },
   "source": [
    "<a name='2-2'></a>\n",
    "### Modelo Matemático.\n",
    "\n",
    "Ecuación de transferencia de calor:\n",
    "$$\n",
    "c_p \\rho \\frac{\\partial T}{\\partial t} +\n",
    "c_p \\rho \\frac{\\partial}{\\partial x_j} \\left( u_j T \\right) -\n",
    "\\frac{\\partial }{\\partial x_j} \\left( \\kappa \\frac{\\partial T}{\\partial x_j}\\right) = \n",
    "S\n",
    "$$\n",
    "\n",
    "donde se define lo siguiente: $c_p$ es la capacidad calorífica específica, \n",
    "$\\rho$ es la densidad, $\\kappa$ es la conductividad térmica, $S$ es la ganancia (fuente) o pérdida (sumidero) de calor y $\\displaystyle \\alpha = \\frac{\\kappa}{c_p \\rho}$ es la difusividad térmica.\n",
    "Además, $x_j$ y $t$ representan las coordenadas cartesianas: $(x_1, x_2, x_3) \\equiv (x, y, z)$ y el  tiempo, respectivamente; mientras que $u_j$ es la velocidad del medio y $T$ la temperatura. Más detalles de este modelo puede consultarlos en (Herrera, 2012).\n",
    "\n",
    "Tomando en cuenta todas las hipótesis del modelo conceptual, el modelo matemático a resolver es el siguiente:\n",
    "\n",
    "$$\n",
    "\\begin{eqnarray}\n",
    "-\\kappa \\frac{d^2 T}{d x^2} & = & S \\qquad \\text{Ecuación de conducción de calor en 1D.}\\\\ \\\\\n",
    "T(x = 0) & = & T_A  \\qquad \\text{Condiciones de}\\\\\n",
    "T(x = L) & = & T_B \\qquad \\text{ de frontera}\n",
    "\\end{eqnarray}\n",
    "$$\n",
    "\n",
    "Obsérvese que se tienen condiciones de tipo *Dirichlet*: la variable dependiente, $T$, está dada en las fronteras. Estas condiciones también se conocen como de *primer tipo*."
   ]
  },
  {
   "cell_type": "markdown",
   "id": "612e0742",
   "metadata": {
    "nbgrader": {
     "grade": false,
     "grade_id": "cell-0bc55e9e15f6552b",
     "locked": true,
     "schema_version": 3,
     "solution": false,
     "task": false
    }
   },
   "source": [
    "<a name='2-3'></a>\n",
    "### Modelo numérico.\n",
    "\n",
    "Aunque en este caso es posible obtener una solución analítica, vamos a usar el método de diferencias finitas para aproximar una solución al modelo matemático anterior."
   ]
  },
  {
   "cell_type": "markdown",
   "id": "b77fe245",
   "metadata": {
    "nbgrader": {
     "grade": false,
     "grade_id": "cell-999ba5ce7bfcfc38",
     "locked": true,
     "schema_version": 3,
     "solution": false,
     "task": false
    }
   },
   "source": [
    "**Discretización del modelo matemático.**\n",
    "\n",
    "Recordemos que el modelo matemático consta de la siguiente ecuación:\n",
    "$$\n",
    "-\\kappa \\frac{d^2 T}{d x^2} = S \\tag{1}\n",
    "$$\n",
    "\n",
    "Discretizamos la ecuación usando diferencias finitas de segundo orden:\n",
    "\n",
    "- Consideramos un nodo $i$ de la malla, junto con sus vecinos $i+1$ e $i-1$, véase la siguiente figura: \n",
    "\n",
    "<center>\n",
    "<img src=\"./Figuras/ModCon05.png\"  width='500px'/>\n",
    "</center>\n",
    "\n",
    "- Observe que todas las celdas son de la misma longitud $h$: la malla es *estructurada* y *uniforme*. \n",
    "\n",
    "La aproximación de la derivada en el nodo $i$ se escribe como sigue (Leveque, 2007):\n",
    "$$\n",
    "\\left.\\frac{d^2 T}{d x^2}\\right|_i = \\frac{T_{i+1} - 2 T_{i} + T_{i-1}}{h^2} + \\mathcal{O}(h^2)\n",
    "$$\n",
    "\n",
    "Ahora sustituimos esta última aproximación en la ecuación $(1)$ y rearreglamos términos para obtener:\n",
    "\n",
    "$$\n",
    "-r_i T_{i-1} + 2r_i T_{i} - r_i T_{i+1} = S_i \\tag{2}\n",
    "$$\n",
    "\n",
    "donde $\\displaystyle r_i = \\frac{\\kappa_i}{h^2}$ .\n",
    "\n",
    "La ecuación (2) representa la conducción de calor en el nodo $i$, y hace uso de sus vecinos $i+1$ e $i-1$. En esta ecuación, tanto $\\kappa_i$ como $S_i$ representan la conductividad térmica y la fuente en el nodo $i$."
   ]
  },
  {
   "cell_type": "markdown",
   "id": "0c640fa4",
   "metadata": {
    "nbgrader": {
     "grade": false,
     "grade_id": "cell-9da4cdfeaeb6b4e6",
     "locked": true,
     "schema_version": 3,
     "solution": false,
     "task": false
    }
   },
   "source": [
    "En el caso que estamos estudiando, necesitamos calcular la temperatura en los nodos $i = 1, 2, 3, 4$, que son los nodos internos:\n",
    "\n",
    "<center>\n",
    "<img src=\"./Figuras/ModCon04.png\"  width='500px'/>\n",
    "</center>\n",
    "\n",
    "Con base en la ecuación (2), debemos escribir una ecuación para cada uno de esos nodos:\n",
    "$$\n",
    "\\begin{eqnarray*}\n",
    "i = 1 \\qquad \\rightarrow \\qquad -r_1 T_{0} + 2r_1 T_{1} - r_1 T_{2} & = & S_1 \\\\\n",
    "i = 2 \\qquad \\rightarrow \\qquad -r_2 T_{1} + 2r_2 T_{2} - r_2 T_{3} & = & S_2 \\\\\n",
    "i = 3 \\qquad \\rightarrow \\qquad -r_3 T_{2} + 2r_3 T_{3} - r_3 T_{4} & = & S_3 \\\\\n",
    "i = 4 \\qquad \\rightarrow \\qquad -r_4 T_{3} + 2r_4 T_{4} - r_4 T_{5} & = & S_4 \n",
    "\\end{eqnarray*}\n",
    "$$\n",
    "\n",
    "Este es un **sistema lineal** que se tiene que resolver para obtener la temperatura en cada uno de los nodos internos. Pero antes de hacerlo, debemos incluir las condiciones de frontera descritas en los modelos conceptual y matemático.\n",
    "\n",
    "Para $i=1$ tenemos la condición $T_0  = T_A$:\n",
    "- La ecuación para $i=1$ es: $-r_1 T_{0} + 2 r_1 T_{1} - r_1 T_{2} = S_1$\n",
    "- Sustituyendo $T_0  = T_A$ obtenemos: $-r_1 \\boxed{T_{A}} + 2 r_1 T_{1} - r_1 T_{2} = S_1$\n",
    "- Pasando del lado derecho todo lo que es conocido obtenemos la ecuación para el nodo $i=1$ que incluye la condición de frontera:\n",
    "\n",
    "$$\n",
    "2 r_1 T_{1} - r_{1} T_{2} = S_1 + r_{1} T_A \\tag{3}\n",
    "$$\n",
    "\n",
    "Para $i=4$, donde tenemos la condición $T_5 = T_B$,  seguimos el mismo procedimiento, de tal manera que la ecuación para este nodo, que incluye la condición de frontera, es (verificarlo):\n",
    "\n",
    "$$\n",
    "-r_{4} T_{3} + 2 r_{4} T_{4} = S_4 + r_{4} T_B \\tag{4}\n",
    "$$\n",
    "\n",
    "Usando las ecuaciones $(3)$ y $(4)$ obtenemos el sistema lineal final:\n",
    "\n",
    "$$\n",
    "\\begin{eqnarray*}\n",
    "2 r_1 T_{1} - r_{1} T_{2} & = & S_1 + r_{1} T_A \\\\\n",
    "-r_2 T_{1} + 2r_2 T_{2} - r_2 T_{3} & = & S_2 \\\\\n",
    "-r_3 T_{2} + 2r_3 T_{3} - r_3 T_{4} & = & S_3 \\\\\n",
    "-r_{4} T_{3} + 2 r_{4} T_{4} & = & S_4 + r_{4} T_B \n",
    "\\end{eqnarray*}\n",
    "$$\n",
    "\n",
    "En forma matricial se puede escribir el sistema lineal anterior como sigue:\n",
    "\n",
    "$$\n",
    "\\underbrace{\n",
    "\t\\left[\n",
    "\t\\begin{matrix}\n",
    "\t2 & -1 & 0 & 0   \\\\\n",
    "\t-1 & 2 & -1 & 0  \\\\\n",
    "\t0 & -1 & 2 & -1  \\\\\n",
    "\t0 & 0 & -1 & 2    \n",
    "\t\\end{matrix}\n",
    "\t\\right]}_{{A}_{N \\times N}}\n",
    "\\underbrace{\n",
    "\\left[\n",
    "\\begin{matrix}\n",
    "T_1 \\\\ T_2 \\\\ T_3 \\\\ T_{4}\n",
    "\\end{matrix}\n",
    "\\right]}_{{T}_N} =\n",
    "\\underbrace{\n",
    "\\frac{1}{r}\n",
    "\\left[\n",
    "\\begin{matrix}\n",
    "S_1 \\\\ S_2 \\\\ S_3 \\\\ S_{4}\n",
    "\\end{matrix}\n",
    "\\right] +\n",
    "\\left[\n",
    "\\begin{matrix}\n",
    "T_A \\\\ 0 \\\\ 0 \\\\ T_B\n",
    "\\end{matrix}\n",
    "\\right]}_{{b}_N}\n",
    "$$\n",
    "\n",
    "Este sistema lineal es el que se tiene que resolver para obtener las temperaturas en los nodos $1,2,3$ y $4$."
   ]
  },
  {
   "cell_type": "markdown",
   "id": "0740f198",
   "metadata": {
    "nbgrader": {
     "grade": false,
     "grade_id": "cell-ae7e349e7bbf55cb",
     "locked": true,
     "schema_version": 3,
     "solution": false,
     "task": false
    }
   },
   "source": [
    "<a name='2-4'></a>\n",
    "### Modelo Computacional\n",
    "\n",
    "Para construir un algoritmo que permita resolver el sistema lineal anterior, debemos ir paso a paso.\n",
    "\n"
   ]
  },
  {
   "cell_type": "markdown",
   "id": "1baf22a0",
   "metadata": {},
   "source": [
    "<a name='2-4-1'></a>\n",
    "<p style=\"color:Navy\">1. <strong>Escribir una función en Python que genere la matriz del sistema lineal.</strong> </p>"
   ]
  },
  {
   "cell_type": "code",
   "execution_count": null,
   "id": "3559a4b1",
   "metadata": {},
   "outputs": [],
   "source": [
    "%run \"init.ipynb\""
   ]
  },
  {
   "cell_type": "code",
   "execution_count": null,
   "id": "81d454ed",
   "metadata": {},
   "outputs": [],
   "source": [
    "# Importación de las bibliotecas numpy y matplotlib\n",
    "import numpy as np\n",
    "import matplotlib.pyplot as plt\n",
    "import macti_lib.visual"
   ]
  },
  {
   "cell_type": "code",
   "execution_count": null,
   "id": "2c89dfe7",
   "metadata": {
    "nbgrader": {
     "grade": false,
     "grade_id": "cell-e31ae51a3fa234ed",
     "locked": true,
     "schema_version": 3,
     "solution": false,
     "task": false
    }
   },
   "outputs": [],
   "source": [
    "#\n",
    "#La siguiente función construye la matriz del sistema lineal\n",
    "#\n",
    "def buildMatrix(N):\n",
    "    # Matriz de ceros\n",
    "    A = np.zeros((N,N))\n",
    "\n",
    "    # Primer renglón\n",
    "    A[0,0] = 2\n",
    "    A[0,1] = -1\n",
    "    # Renglones interiores\n",
    "    for i in range(1,N-1):\n",
    "        A[i,i] = 2\n",
    "        A[i,i+1] = -1\n",
    "        A[i,i-1] = -1\n",
    "    # Último renglón\n",
    "    A[N-1,N-2] = -1\n",
    "    A[N-1,N-1] = 2\n",
    "\n",
    "    return A"
   ]
  },
  {
   "cell_type": "code",
   "execution_count": null,
   "id": "cc91e524",
   "metadata": {
    "nbgrader": {
     "grade": false,
     "grade_id": "cell-21e16513cd0709d4",
     "locked": true,
     "schema_version": 3,
     "solution": false,
     "task": false
    }
   },
   "outputs": [],
   "source": [
    "# Probamos que la matriz se construye correctamente\n",
    "A = buildMatrix(4)\n",
    "A"
   ]
  },
  {
   "cell_type": "markdown",
   "id": "1ecf5f28",
   "metadata": {
    "nbgrader": {
     "grade": false,
     "grade_id": "cell-565c3a44ff6e133a",
     "locked": true,
     "schema_version": 3,
     "solution": false,
     "task": false
    }
   },
   "source": [
    "<a name='2-4-2'></a>\n",
    "<p style=\"color:Navy\">2. <strong>Definir los parámetros físicos del problema.</strong></p>"
   ]
  },
  {
   "cell_type": "code",
   "execution_count": null,
   "id": "f688a391",
   "metadata": {
    "nbgrader": {
     "grade": false,
     "grade_id": "cell-347ce69604fecda9",
     "locked": true,
     "schema_version": 3,
     "solution": false,
     "task": false
    }
   },
   "outputs": [],
   "source": [
    "L  = 0.3   # Longitud del mango de la sartén\n",
    "TA = 100.0 # Temperatura en el lado caliente\n",
    "TB = 20.0  # Temperatura en el extremo del mango\n",
    "𝜅  = 21.9  # Conductividad térmica del titanio\n",
    "S  = 0.0   # Fuente o sumidero\n",
    "\n",
    "print(\"L = {}, TA = {}, TB = {}, 𝜅 = {}, S = {}\".format(L, TA, TB, 𝜅, S))"
   ]
  },
  {
   "cell_type": "markdown",
   "id": "d0f86602",
   "metadata": {
    "nbgrader": {
     "grade": false,
     "grade_id": "cell-d27e1f2a0dadf407",
     "locked": true,
     "schema_version": 3,
     "solution": false,
     "task": false
    }
   },
   "source": [
    "<a name='2-4-3'></a>\n",
    "<p style=\"color:Navy\">3. <strong>Definir los parámetros numéricos.</strong> </p>"
   ]
  },
  {
   "cell_type": "code",
   "execution_count": null,
   "id": "707913e2",
   "metadata": {
    "nbgrader": {
     "grade": false,
     "grade_id": "cell-e52f1b95394f9960",
     "locked": true,
     "schema_version": 3,
     "solution": false,
     "task": false
    }
   },
   "outputs": [],
   "source": [
    "N = 4          # Número de nodos\n",
    "h = L / (N+1)  # Espaciamiento entre los nodos\n",
    "r = 𝜅 / h**2   # Factor r\n",
    "\n",
    "print(\"N = {}, h = {}, r = {}\".format(N, h, r))"
   ]
  },
  {
   "cell_type": "markdown",
   "id": "39be4a44",
   "metadata": {
    "nbgrader": {
     "grade": false,
     "grade_id": "cell-8bf56422c143937f",
     "locked": true,
     "schema_version": 3,
     "solution": false,
     "task": false
    }
   },
   "source": [
    "<a name='2-4-4'></a>\n",
    "<p style=\"color:Navy\">4. <strong>Definir los arreglos para almacenar la solución y para el lado derecho del sistema (RHS).</strong> </p>"
   ]
  },
  {
   "cell_type": "code",
   "execution_count": null,
   "id": "a928a92e",
   "metadata": {
    "nbgrader": {
     "grade": false,
     "grade_id": "cell-524904fea8270600",
     "locked": true,
     "schema_version": 3,
     "solution": false,
     "task": false
    }
   },
   "outputs": [],
   "source": [
    "# Arreglo para almacenar la solución\n",
    "T = np.zeros(N+2)\n",
    "T[0]  = TA  # Frontera izquierda\n",
    "T[-1] = TB  # Frontera derecha\n",
    "\n",
    "# Lado derecho del sistema (RHS)\n",
    "b = np.zeros(N)\n",
    "b[:] = S / r    # Fuente o sumidero\n",
    "b[0]  += T[0]   # Condición de frontera izquierda\n",
    "b[-1] += T[-1]  # Condición de frontera derecha\n",
    "\n",
    "print(\"T = {}\".format(T))\n",
    "print(\"b = {}\".format(b))"
   ]
  },
  {
   "cell_type": "markdown",
   "id": "046a85a3",
   "metadata": {
    "nbgrader": {
     "grade": false,
     "grade_id": "cell-d17e00e810b2209a",
     "locked": true,
     "schema_version": 3,
     "solution": false,
     "task": false
    }
   },
   "source": [
    "<a name='2-4-5'></a>\n",
    "<p style=\"color:Navy\">5. <strong>Construir la matriz y resolver el sistema lineal.</strong> </p>"
   ]
  },
  {
   "cell_type": "code",
   "execution_count": null,
   "id": "d637e011",
   "metadata": {
    "nbgrader": {
     "grade": false,
     "grade_id": "cell-999087252a3145d0",
     "locked": true,
     "schema_version": 3,
     "solution": false,
     "task": false
    }
   },
   "outputs": [],
   "source": [
    "# Construcción de la matriz\n",
    "A = buildMatrix(N)\n",
    "\n",
    "# Solución del sistema lineal usando un método de Numpy.\n",
    "T[1:N+1] = np.linalg.solve(A,b)"
   ]
  },
  {
   "cell_type": "markdown",
   "id": "a666ad0a",
   "metadata": {
    "nbgrader": {
     "grade": false,
     "grade_id": "cell-cda3e0491033e64d",
     "locked": true,
     "schema_version": 3,
     "solution": false,
     "task": false
    }
   },
   "source": [
    "<a name='2-4-6'></a>\n",
    "<p style=\"color:Navy\">6. <strong>Imprimir y graficar la solución.</strong> </p>"
   ]
  },
  {
   "cell_type": "code",
   "execution_count": null,
   "id": "8dd84ef3",
   "metadata": {
    "nbgrader": {
     "grade": false,
     "grade_id": "cell-ceef8e632abd400b",
     "locked": true,
     "schema_version": 3,
     "solution": false,
     "task": false
    }
   },
   "outputs": [],
   "source": [
    "# Impresión de la solución \n",
    "print(T)\n",
    "\n",
    "# Graficación de la solución\n",
    "x = np.linspace(0, L, N+2)\n",
    "plt.figure(figsize=(8,4))\n",
    "plt.plot(x, T, lw=2.0)\n",
    "plt.scatter(x, T, zorder= 10)\n",
    "plt.xlabel('$x [m]$')\n",
    "plt.ylabel('$T [^oC]$')\n",
    "plt.grid(True)\n",
    "plt.show()"
   ]
  },
  {
   "cell_type": "markdown",
   "id": "a476eb25",
   "metadata": {
    "nbgrader": {
     "grade": false,
     "grade_id": "cell-6aef93816409bedb",
     "locked": true,
     "schema_version": 3,
     "solution": false,
     "task": false
    }
   },
   "source": [
    "<a name='ej-1'></a>\n",
    "### **<font color=\"SlateBlue\">Ejercicio 1.</font>**\n",
    "---\n",
    "1. <font color=\"Navy\">En la siguiente celda complete el método de **Jacobi** y ejecute la celda. Revise el código usado en clase.</font>\n",
    "---"
   ]
  },
  {
   "cell_type": "code",
   "execution_count": null,
   "id": "2cc9216b",
   "metadata": {
    "nbgrader": {
     "grade": false,
     "grade_id": "cell-6dc6a081f823331c",
     "locked": false,
     "schema_version": 3,
     "solution": true,
     "task": false
    }
   },
   "outputs": [],
   "source": [
    "# Función que implementa el método de Jacobi\n",
    "\n",
    "def jacobi(A,b,tol,kmax):\n",
    "    N = len(b)         # Tamaño del sistema\n",
    "    xnew = np.zeros(N) \n",
    "    xold = np.zeros(N) \n",
    "    error = 10\n",
    "    error_array = np.zeros(kmax)\n",
    "    k = 0\n",
    "    while(error > tol and k < kmax):\n",
    "        \n",
    "        ### BEGIN SOLUTION\n",
    "        for i in range(0,N):\n",
    "            xnew[i] = 0\n",
    "            for j in range(0,i):\n",
    "                xnew[i] += A[i,j] * xold[j]\n",
    "            for j in range(i+1,N):\n",
    "                xnew[i] += A[i,j] * xold[j]                \n",
    "            xnew[i] = (b[i] - xnew[i]) / A[i,i]\n",
    "        ### END SOLUTION\n",
    "        # Hint: Debes eliminar la línea: raise NotImplementedError()\n",
    "        # y agregar el código faltante.\n",
    "\n",
    "        error = np.linalg.norm(xnew-xold)\n",
    "        error_array[k] = error\n",
    "        k += 1\n",
    "        xold[:] = xnew[:]\n",
    "    return xnew, error, k, error_array"
   ]
  },
  {
   "cell_type": "markdown",
   "id": "b29d69e3",
   "metadata": {
    "nbgrader": {
     "grade": false,
     "grade_id": "cell-4e5a6977bab009fb",
     "locked": true,
     "schema_version": 3,
     "solution": false,
     "task": false
    }
   },
   "source": [
    "---\n",
    "2. <font color=\"Navy\">Pruebe la función `jacobi` en el siguiente código. Encuentre el número de iteraciones mínimo para que el error sea de menor o igual a 1e-03, para $N=10$.</font>\n",
    "---\n"
   ]
  },
  {
   "cell_type": "code",
   "execution_count": null,
   "id": "bfeca286",
   "metadata": {},
   "outputs": [],
   "source": [
    "N = 10          # Número de nodos\n",
    "h = L / (N+1)  # Espaciamiento entre los nodos\n",
    "r = 𝜅 / h**2   # Factor r\n",
    "\n",
    "# Arreglo para almacenar la solución\n",
    "TJ = np.zeros(N+2)\n",
    "TJ[0]  = TA  # Frontera izquierda\n",
    "TJ[-1] = TB  # Frontera derecha\n",
    "\n",
    "# Lado derecho del sistema (RHS)\n",
    "b = np.zeros(N)\n",
    "b[:] = S / r    # Fuente o sumidero\n",
    "b[0]  += TJ[0]   # Condición de frontera izquierda\n",
    "b[-1] += TJ[-1]  # Condición de frontera derecha\n",
    "\n",
    "# Construcción de la matriz\n",
    "A = buildMatrix(N)\n",
    "\n",
    "# Parámetros para el algoritmo de Jacobi\n",
    "tol = 1e-3  # Tolerancia\n",
    "\n",
    "# niter = 10 (encuentre el valor adecuado)\n",
    "### BEGIN SOLUTION\n",
    "niter = 221 # Número de iteraciones\n",
    "### END SOLUTION\n",
    "\n",
    "# Solución del sistema lineal usando el método de Jacobi.    \n",
    "TJ[1:N+1], error, k, error_array = jacobi(A, b, tol, niter)\n",
    "\n",
    "# Graficación de la solución\n",
    "x = np.linspace(0, L, N+2)\n",
    "plt.figure(figsize=(8,4))\n",
    "plt.plot(x, TJ, c='grey', lw=2.0)\n",
    "plt.scatter(x, TJ, edgecolor='k', zorder= 10)\n",
    "plt.xlabel('$x [m]$')\n",
    "plt.ylabel('$T [^oC]$')\n",
    "plt.title('Error = {:6.5f}, Iteraciones = {}'.format(error, k))\n",
    "plt.grid(True)\n",
    "plt.show()"
   ]
  },
  {
   "cell_type": "code",
   "execution_count": null,
   "id": "c7b5308f",
   "metadata": {},
   "outputs": [],
   "source": [
    "e.verifica(TJ,8)"
   ]
  },
  {
   "cell_type": "markdown",
   "id": "d7245ae7",
   "metadata": {
    "nbgrader": {
     "grade": false,
     "grade_id": "cell-c8c11683af00aa03",
     "locked": true,
     "schema_version": 3,
     "solution": false,
     "task": false
    }
   },
   "source": [
    "<a name='ej-2'></a>\n",
    "### **<font color=\"SlateBlue\">Ejercicio 2.</font>**\n",
    "---\n",
    "1. <font color=\"Navy\">En la siguiente celda complete el método de **Gauss-Seidel** y ejecute la celda. Revise el código usado en clase.</font>\n",
    "---"
   ]
  },
  {
   "cell_type": "code",
   "execution_count": null,
   "id": "6b1e4ed6",
   "metadata": {
    "nbgrader": {
     "grade": false,
     "grade_id": "cell-639622a084446f6a",
     "locked": false,
     "schema_version": 3,
     "solution": true,
     "task": false
    }
   },
   "outputs": [],
   "source": [
    "# Función que implementa el método de Gauss-Seidel\n",
    "\n",
    "def gauss_seidel(A,b,tol,kmax):\n",
    "    N = len(b)         # Tamaño del sistema\n",
    "    xnew = np.zeros(N)\n",
    "    xold = np.zeros(N)\n",
    "    error = 10\n",
    "    error_array = np.zeros(kmax)\n",
    "    k = 0\n",
    "    while(error > tol and k < kmax):\n",
    "        \n",
    "        ### BEGIN SOLUTION\n",
    "        for i in range(0,N):\n",
    "            xnew[i] = 0\n",
    "            for j in range(0,i):\n",
    "                xnew[i] += A[i,j] * xnew[j]\n",
    "            for j in range(i+1,N):\n",
    "                xnew[i] += A[i,j] * xold[j]                \n",
    "            xnew[i] = (b[i] - xnew[i]) / A[i,i]\n",
    "        ### END SOLUTION\n",
    "        # Hint: Debes eliminar la línea: raise NotImplementedError()\n",
    "        # y agregar el código faltante.\n",
    "        \n",
    "        error = np.linalg.norm(xnew-xold)\n",
    "        error_array[k] = error\n",
    "        k += 1\n",
    "        xold[:] = xnew[:]\n",
    "    return xnew, error, k, error_array"
   ]
  },
  {
   "cell_type": "markdown",
   "id": "4e6f8150",
   "metadata": {
    "nbgrader": {
     "grade": false,
     "grade_id": "cell-d1202eab2b7a15fb",
     "locked": true,
     "schema_version": 3,
     "solution": false,
     "task": false
    }
   },
   "source": [
    "---\n",
    "2. <font color=\"Navy\">Pruebe la función `gauss_seidel` en el siguiente código. Encuentre el número de iteraciones mínimo para que el error sea de menor o igual a 1e-03, para $N=10$.</font>\n",
    "---"
   ]
  },
  {
   "cell_type": "code",
   "execution_count": null,
   "id": "83447dfc",
   "metadata": {},
   "outputs": [],
   "source": [
    "N = 10          # Número de nodos\n",
    "h = L / (N+1)  # Espaciamiento entre los nodos\n",
    "r = 𝜅 / h**2   # Factor r\n",
    "\n",
    "# Arreglo para almacenar la solución\n",
    "TG = np.zeros(N+2)\n",
    "TG[0]  = TA  # Frontera izquierda\n",
    "TG[-1] = TB  # Frontera derecha\n",
    "\n",
    "# Lado derecho del sistema (RHS)\n",
    "b = np.zeros(N)\n",
    "b[:] = S / r    # Fuente o sumidero\n",
    "b[0]  += TG[0]   # Condición de frontera izquierda\n",
    "b[-1] += TG[-1]  # Condición de frontera derecha\n",
    "\n",
    "# Construcción de la matriz\n",
    "A = buildMatrix(N)\n",
    "\n",
    "# Parámetros para el algoritmo de Gauss-Seidel\n",
    "tol = 1e-3  # Tolerancia\n",
    "\n",
    "# niter = 10 (encuentre el valor adecuado)\n",
    "### BEGIN SOLUTION\n",
    "niter = 116 # Número de iteraciones\n",
    "### END SOLUTION\n",
    "\n",
    "# Solución del sistema lineal usando el método de Gauss-Seidel.    \n",
    "TG[1:N+1], error, k, error_array = gauss_seidel(A, b, tol, niter)\n",
    "\n",
    "# Graficación de la solución\n",
    "x = np.linspace(0, L, N+2)\n",
    "plt.figure(figsize=(8,4))\n",
    "plt.plot(x, TG, c='grey', lw=2.0)\n",
    "plt.scatter(x, TG, edgecolor='k', zorder= 10)\n",
    "plt.xlabel('$x [m]$')\n",
    "plt.ylabel('$T [^oC]$')\n",
    "plt.title('Error = {:6.5f}, Iteraciones = {}'.format(error, k))\n",
    "plt.grid(True)\n",
    "plt.show()"
   ]
  },
  {
   "cell_type": "code",
   "execution_count": null,
   "id": "80856fb2",
   "metadata": {},
   "outputs": [],
   "source": [
    "e.verifica(TG,9)"
   ]
  },
  {
   "cell_type": "markdown",
   "id": "32c70749",
   "metadata": {
    "nbgrader": {
     "grade": false,
     "grade_id": "cell-09f1d8dd7bf683f8",
     "locked": true,
     "schema_version": 3,
     "solution": false,
     "task": false
    }
   },
   "source": [
    "<a name='ej-3'></a>\n",
    "### **<font color=\"SlateBlue\">Ejercicio 3.</font>**\n",
    "---\n",
    "La solución analítica del problema que se ha descrito en el Modelo Matemático es la siguiente:\n",
    "\n",
    "$$\n",
    "T(x) =\\left(\\frac{T_B - T_A}{L} + \\frac{S}{2\\kappa} \\left(L - x\\right) \\right)x + T_A\n",
    "$$\n",
    "\n",
    "El código que sigue implementa la solución numérica del problema usando los métodos de Jacobi y Gauss-Seidel; también implementa la solución exacta antes descrita y compara esta solución con los resultados numéricos. \n",
    "Realice lo siguiente:\n",
    "1. Ejecute el código y observe el resultado.\n",
    "2. Cambie el número de puntos a $N = 15$ observe el resultado. Haga lo mismo pero ahora con $N = 25$.\n",
    "3. Trate de mejorar el resultado para $N = 25$ modificando la tolerancia `tol` y el número de iteraciones `niter`.\n",
    "4. Agregue una fuente poniendo $S = 100000.0$ y observe cual de los dos métodos es mejor con, $N = 25$, `tol = 1e-4` y `niter=200`.\n",
    "\n",
    "---"
   ]
  },
  {
   "cell_type": "code",
   "execution_count": null,
   "id": "f7751aeb",
   "metadata": {},
   "outputs": [],
   "source": [
    "# Función que implementa la solución analítica del problema\n",
    "def solucion(x, TA, TB, L, S, 𝜅):\n",
    "    return (( TB - TA )/ L + ( S /(2*𝜅))*( L - x ))* x + TA\n",
    "\n",
    "# Parámetros físicos\n",
    "L  = 0.3  \n",
    "TA = 100.0  \n",
    "TB = 20.0   \n",
    "𝜅  = 21.9 \n",
    "S  = 0.0  \n",
    "\n",
    "# Parámetros numéricos\n",
    "N = 4\n",
    "h = L / (N+1)\n",
    "r = 𝜅 / h**2\n",
    "\n",
    "# Arreglo para almacenar la solución\n",
    "T = np.zeros(N+2)\n",
    "T[0]  = TA  # Frontera izquierda\n",
    "T[-1] = TB  # Frontera derecha\n",
    "\n",
    "# Lado derecho del sistema\n",
    "b = np.zeros(N)\n",
    "b[:] = S / r # Fuente o sumidero\n",
    "b[0]  += T[0]   # Condición de frontera\n",
    "b[-1] += T[-1]  # Condición de frontera\n",
    "\n",
    "# Construcción de la matriz\n",
    "A = buildMatrix(N)\n",
    "\n",
    "# Parámetros para los algoritmos de solución\n",
    "tol = 1e-3\n",
    "niter = 50\n",
    "\n",
    "# Solución del sistema lineal con Jacobi\n",
    "T[1:N+1], Jerror, Jk, error_array = jacobi(A, b, tol, niter)\n",
    "TJ = T.copy()\n",
    "\n",
    "# Solución del sistema lineal con Gauss-Seidel\n",
    "T[1:N+1], GSerror, GSk, error_array = gauss_seidel(A, b, tol, niter)\n",
    "TG = T.copy()\n",
    "\n",
    "# Solución analítica\n",
    "x = np.linspace(0, L, N+2)\n",
    "Tsol = solucion(x, TA, TB, L, S, 𝜅)\n",
    "#print(Tsol)\n",
    "# Graficación de la solución\n",
    "plt.figure(figsize=(8,4))\n",
    "\n",
    "plt.plot(x, Tsol, lw=2.0, label='Solución analítica')\n",
    "plt.plot(x, TJ, c='grey', lw=2.0, zorder=1)\n",
    "plt.scatter(x, TJ, edgecolor='k', color='C1', zorder= 10, alpha=1.0,label='Jacobi')\n",
    "plt.plot(x, TG, c='grey', lw=2.0, zorder=1)\n",
    "plt.scatter(x, TG, edgecolor='k', color='C2', marker='s', zorder=2, s=100, alpha=1.0, label='Gauss-Seidel')\n",
    "\n",
    "plt.title('Jacobi: Error = {:6.5f}, Iter = {} | Gauss-Seidel: Error = {:6.5f}, Iter = {}'.format(Jerror, Jk, GSerror, GSk))\n",
    "plt.xlabel('$x [m]$')\n",
    "plt.ylabel('$T [^oC]$')\n",
    "plt.grid(True)\n",
    "plt.legend()\n",
    "plt.show()"
   ]
  },
  {
   "cell_type": "markdown",
   "id": "35943d60",
   "metadata": {
    "nbgrader": {
     "grade": false,
     "grade_id": "cell-c9a0fed5ce15e1f2",
     "locked": true,
     "schema_version": 3,
     "solution": false,
     "task": false
    }
   },
   "source": [
    "**Responda las siguientes preguntas**\n",
    "\n",
    "1. ¿Qué sucede cuando se incrementa el número de incógnitas $N$?\n",
    "2. ¿Para $N = 25$ y una tolerancia `tol`=$1e-4$, cuántas iteraciones necesita para que el Error sea menor que $0.01$? \n",
    "3. ¿Puede explicar por qué la solución es una parábola cuando $S \\neq 0$?\n",
    "4. ¿Qué método eligiría para resolver el problema de conducción de calor y por qué?"
   ]
  },
  {
   "cell_type": "markdown",
   "id": "f88b82bc",
   "metadata": {
    "nbgrader": {
     "grade": true,
     "grade_id": "cell-21119976d3b47343",
     "locked": false,
     "points": 2,
     "schema_version": 3,
     "solution": true,
     "task": false
    }
   },
   "source": [
    "Respuestas esperadas:\n",
    "\n",
    "1. La solución no converge al resultado correcto.\n",
    "\n",
    "2. Para Jacobi = $773$, para Gauss-Seidel $407$.\n",
    "\n",
    "3. De la fórmula de la solución, se ve que el término que contiene a $S$ no se hace cero y entonces se genera un término con $x^2$.\n",
    "\n",
    "4. Gauss-Seidel por que requiere menos iteraciones para llegar a una buena aproximación."
   ]
  },
  {
   "cell_type": "markdown",
   "id": "c4f85e92",
   "metadata": {
    "nbgrader": {
     "grade": false,
     "grade_id": "cell-970f6e660450f55f",
     "locked": true,
     "schema_version": 3,
     "solution": false,
     "task": false
    }
   },
   "source": [
    "# Referencias\n",
    "\n",
    "1. Herrera, I., & Pinder, G. (2012). Mathematical modeling in science and engineering. Hoboken, N.J.: Wiley.\n",
    "\n",
    "2. LeVeque, R. (2007). Finite difference methods for ordinary and partial differential equations. Philadelphia, Pa.: Society for Industrial and Applied Mathematics (SIAM, 3600 Market Street, Floor 6, Philadelphia, PA 19104)."
   ]
  },
  {
   "cell_type": "code",
   "execution_count": null,
   "id": "e86accde",
   "metadata": {},
   "outputs": [],
   "source": []
  }
 ],
 "metadata": {
  "kernelspec": {
   "display_name": "Python 3 (ipykernel)",
   "language": "python",
   "name": "python3"
  },
  "language_info": {
   "codemirror_mode": {
    "name": "ipython",
    "version": 3
   },
   "file_extension": ".py",
   "mimetype": "text/x-python",
   "name": "python",
   "nbconvert_exporter": "python",
   "pygments_lexer": "ipython3",
   "version": "3.9.7"
  }
 },
 "nbformat": 4,
 "nbformat_minor": 5
}
