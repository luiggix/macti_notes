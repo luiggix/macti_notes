{
 "cells": [
  {
   "cell_type": "code",
   "execution_count": null,
   "id": "cf1ecbcd-b5f9-4f0b-a950-94b44c1db7cf",
   "metadata": {},
   "outputs": [],
   "source": [
    "%run \"./init.ipynb\""
   ]
  },
  {
   "cell_type": "code",
   "execution_count": null,
   "id": "de6d3396-6020-4753-b60c-c7d3284c0c91",
   "metadata": {},
   "outputs": [],
   "source": [
    "from macti_lib.SistemasLineales.eigen_fc import plotLinsys\n",
    "from ipywidgets import interact, interactive, fixed, interact_manual\n",
    "import ipywidgets as widgets\n",
    "import numpy as np"
   ]
  },
  {
   "cell_type": "code",
   "execution_count": null,
   "id": "6946a099-41e4-48c9-8309-93a8dd50392b",
   "metadata": {},
   "outputs": [],
   "source": [
    "tipos_sistemas = ['Positivo Definido', 'Positivo Indefinido', 'Indefinido']\n",
    "w = interactive(plotLinsys, \n",
    "                sistema = widgets.Dropdown(options= tipos_sistemas,\n",
    "                                           description='Sistema'),\n",
    "                zoom = widgets.Checkbox(value=False, description='Zoom out', \n",
    "                                        disabled=False, indent=True))\n",
    "display(w)"
   ]
  },
  {
   "cell_type": "code",
   "execution_count": null,
   "id": "9343562f-13a7-4720-b882-443f06da32e5",
   "metadata": {},
   "outputs": [],
   "source": []
  },
  {
   "cell_type": "code",
   "execution_count": null,
   "id": "7ce634a2-d510-40e4-8ad0-46686209aa11",
   "metadata": {},
   "outputs": [],
   "source": []
  }
 ],
 "metadata": {
  "kernelspec": {
   "display_name": "Python 3 (ipykernel)",
   "language": "python",
   "name": "python3"
  },
  "language_info": {
   "codemirror_mode": {
    "name": "ipython",
    "version": 3
   },
   "file_extension": ".py",
   "mimetype": "text/x-python",
   "name": "python",
   "nbconvert_exporter": "python",
   "pygments_lexer": "ipython3",
   "version": "3.9.7"
  }
 },
 "nbformat": 4,
 "nbformat_minor": 5
}
