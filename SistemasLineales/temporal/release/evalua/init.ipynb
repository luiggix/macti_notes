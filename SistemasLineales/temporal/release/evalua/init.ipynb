{
 "cells": [
  {
   "cell_type": "code",
   "execution_count": null,
   "id": "c1da6aaf-fd2d-407a-92e9-e8a0eca923d1",
   "metadata": {},
   "outputs": [],
   "source": [
    "#-----------------------------------------------------------\n",
    "# Ruta biblioteca macti\n",
    "#\n",
    "import os, sys\n",
    "sys.path.insert(0, os.path.abspath('../../../../recursos'))\n",
    "from macti_lib.evaluacion import Evalua\n",
    "e = Evalua(sys.path[0] + '/datos/SistemasLineales/')\n",
    "#-----------------------------------------------------------"
   ]
  },
  {
   "cell_type": "code",
   "execution_count": null,
   "id": "cbe8ae6f-ec2f-480b-b27b-f9b8e983745b",
   "metadata": {},
   "outputs": [],
   "source": []
  }
 ],
 "metadata": {
  "kernelspec": {
   "display_name": "Python 3 (ipykernel)",
   "language": "python",
   "name": "python3"
  },
  "language_info": {
   "codemirror_mode": {
    "name": "ipython",
    "version": 3
   },
   "file_extension": ".py",
   "mimetype": "text/x-python",
   "name": "python",
   "nbconvert_exporter": "python",
   "pygments_lexer": "ipython3",
   "version": "3.9.7"
  }
 },
 "nbformat": 4,
 "nbformat_minor": 5
}
