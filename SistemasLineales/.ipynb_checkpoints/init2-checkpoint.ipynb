{
 "cells": [
  {
   "cell_type": "code",
   "execution_count": null,
   "id": "12244858",
   "metadata": {},
   "outputs": [],
   "source": [
    "import numpy as np\n",
    "import matplotlib.pyplot as plt\n",
    "import matplotlib as mpl\n",
    "from colorama import Fore\n",
    "\n",
    "%matplotlib inline\n",
    "plt.style.use(['seaborn'])\n",
    "mpl.rcParams['figure.titlesize'] = 24\n",
    "mpl.rcParams['axes.titlesize'] = 20\n",
    "mpl.rcParams['axes.titlecolor'] = 'blue'\n",
    "mpl.rcParams['axes.labelsize'] = 20\n",
    "mpl.rcParams['legend.fontsize'] = 15\n",
    "mpl.rcParams['lines.linewidth'] = 3.0\n",
    "mpl.rcParams['scatter.edgecolors'] = 'black'\n",
    "mpl.rcParams['legend.fancybox'] = True\n",
    "mpl.rcParams['legend.frameon'] = True\n",
    "mpl.rcParams['legend.edgecolor'] = 'black'\n",
    "\n",
    "# Herramientas para la comparación de los resultados\n",
    "from nose.tools import assert_equal\n",
    "trunca = lambda a: [round(i, 8) for i in a]\n",
    "TJacobi = [100., 83.99883835, 67.99836759, 51.99812041, 35.99899112, 20.]\n",
    "TGaussSeidel = [100.0, 83.9990984, 67.99881979, 51.99904519, 35.99952259, 20.0]\n",
    "\n",
    "def verifica(x, y):\n",
    "    \"\"\"\n",
    "    Permite comparar el contenido de x con el de y. Si se encuentra una diferencia entonces emite una alerta.\n",
    "    \"\"\"\n",
    "    try:\n",
    "        assert_equal(x, y)\n",
    "    except AssertionError as info:\n",
    "        print(Fore.RESET + 80*'-')\n",
    "        print(Fore.RED + \"Cuidado: Ocurrió un error en tus cálculos: \\n\", info)\n",
    "        print(Fore.RESET + 80*'-')\n",
    "    else:\n",
    "        print(Fore.GREEN + '¡Tu resultado es correcto!') "
   ]
  }
 ],
 "metadata": {
  "kernelspec": {
   "display_name": "Python 3 (ipykernel)",
   "language": "python",
   "name": "python3"
  },
  "language_info": {
   "codemirror_mode": {
    "name": "ipython",
    "version": 3
   },
   "file_extension": ".py",
   "mimetype": "text/x-python",
   "name": "python",
   "nbconvert_exporter": "python",
   "pygments_lexer": "ipython3",
   "version": "3.9.7"
  }
 },
 "nbformat": 4,
 "nbformat_minor": 5
}
