{
 "cells": [
  {
   "cell_type": "markdown",
   "id": "bcbedecb",
   "metadata": {},
   "source": [
    "# Título\n",
    "\n",
    "**Objetivo general**\n",
    "- Una descripción general de lo que se busca aprender en esta práctica. Usar verbos en infinitivo: Revisar, aplicar, solucionar, comprender, etc.\n",
    "\n",
    "**Objetivos particulares**\n",
    "- Describir una lista de objetivos/actividades que se realizarán en esta práctica.\n",
    "- Hacer énfasis en los métodos y conceptos que se aprenderán y en algunas cuestiones computacionales. \n",
    "- No vaya más allá de tres objetivos particulares y sea muy concreto.\n",
    "\n",
    "## Contenido\n",
    "- [1 - Tema 1.](#1)\n",
    "    - [1.1 - Subtema A.](#1-1)\n",
    "        - [Ejercicio 1 - Título del ejercicio.](#ej-1)\n",
    "    - [1.2 - Subtema B.](#1-2)\n",
    "        - [Ejercicio 2 - Título del ejercicio.](#ej-2)\n",
    "- [2 - Tema 2.](#2)\n",
    "    - [2.1 - Subtema C.](#2-1)\n",
    "    - [2-2 - Subtema D.](#2-2)\n",
    "        - [Ejercicio 3 - Título dell ejercicio.](#ej-3)"
   ]
  },
  {
   "cell_type": "markdown",
   "id": "c39aaac4",
   "metadata": {},
   "source": [
    "<a name='1'></a>\n",
    "## Tema 1\n",
    "\n",
    "Describa el tema 1 de una forma simple, sin entrar en detalles y promoviendo las aplicaciones de los conceptos. Busque que sus ejemplos tengan una componente de la vida cotidiana o de aplicaciones reales. "
   ]
  },
  {
   "cell_type": "markdown",
   "id": "e1723dd7",
   "metadata": {},
   "source": [
    "<a name='1-1'></a>\n",
    "### Subtema A\n",
    "Describa el Subtema A para complementar el Tema 1 y describir conceptos importantes, así como dar con un poco más de detalle de la aplicación."
   ]
  },
  {
   "cell_type": "markdown",
   "id": "412b58ac",
   "metadata": {},
   "source": [
    "---\n",
    "<a name='ej-1'></a>\n",
    "#### **<font color=\"DodgerBlue\">Ejercicio 1. Título del ejercicio.</font>**\n",
    "\n",
    "<font color=\"DarkBlue\">Describa con detalle el ejercicio. Si es posible agregue algunas pistas. Es conveniente que los ejercicios consistan en completar códigos a partir de fórmulas o métodos explicados en los temas previos. Es importante que agregue una celda de código para verificar la respuesta del estudiante.</font>\n",
    "\n",
    "---"
   ]
  },
  {
   "cell_type": "code",
   "execution_count": null,
   "id": "57423ceb",
   "metadata": {},
   "outputs": [],
   "source": [
    "# Celda de verificación:  A es la respuesta calculada por el estudiante, \n",
    "#                         1 es el número de verificación realizada en esta práctica\n",
    "ȩ.verifica(A, 1)"
   ]
  },
  {
   "cell_type": "markdown",
   "id": "d6746f64",
   "metadata": {},
   "source": [
    "<a name='1-2'></a>\n",
    "### Subtema B\n",
    "\n",
    "Describa el Subtema B para complementar el Tema 1 y describir conceptos importantes, así como dar con un poco más de detalle de la aplicación."
   ]
  },
  {
   "cell_type": "markdown",
   "id": "704e902a",
   "metadata": {},
   "source": [
    "---\n",
    "<a name='ej-2'></a>\n",
    "#### **<font color=\"DodgerBlue\">Ejercicio 2. Título del ejercicio.</font>**\n",
    "\n",
    "<font color=\"DarkBlue\">En el código siguiente complete la fórmula ...</font>\n",
    "\n",
    "---"
   ]
  },
  {
   "cell_type": "code",
   "execution_count": null,
   "id": "0663f471",
   "metadata": {},
   "outputs": [],
   "source": [
    "# Celda de verificación:  B es la respuesta calculada por el estudiante, \n",
    "#                         2 es el número de verificación realizada en esta práctica\n",
    "ȩ.verifica(B, 2)"
   ]
  },
  {
   "cell_type": "markdown",
   "id": "8b058025",
   "metadata": {},
   "source": [
    "<a name='2'></a>\n",
    "## Tema 2\n",
    "\n",
    "Describa el tema 2 de una forma simple, sin entrar en detalles y promoviendo las aplicaciones de los conceptos. Busque que sus ejemplos tengan una componente de la vida cotidiana o de aplicaciones reales. Trate de ser consistente con el tema 1 y si agrega una aplicación diferente, explique la forma en como se relaciona con las aplicaciones tratadas en temas anteriores (y posteriores)."
   ]
  },
  {
   "cell_type": "markdown",
   "id": "86a47d6f",
   "metadata": {},
   "source": [
    "<a name='2-1'></a>\n",
    "### Subtema C\n",
    "\n",
    "Describa el Subtema C para complementar el Tema 2 y describir conceptos importantes, así como dar con un poco más de detalle de la aplicación."
   ]
  },
  {
   "cell_type": "markdown",
   "id": "a70f77bd",
   "metadata": {},
   "source": [
    "<a name='2-2'></a>\n",
    "### Subtema D\n",
    "\n",
    "Describa el Subtema D para complementar el Tema 2 y describir conceptos importantes, así como dar con un poco más de detalle de la aplicación."
   ]
  },
  {
   "cell_type": "markdown",
   "id": "38359e78",
   "metadata": {},
   "source": [
    "---\n",
    "<a name='ej-3'></a>\n",
    "#### **<font color=\"DodgerBlue\">Ejercicio 3. Título del ejercicio.</font>**\n",
    "\n",
    "<font color=\"DarkBlue\">En el código siguiente complete el método ... </font>\n",
    "\n",
    "---"
   ]
  },
  {
   "cell_type": "code",
   "execution_count": null,
   "id": "f124c09b",
   "metadata": {},
   "outputs": [],
   "source": [
    "# Celda de verificación:  C es la respuesta calculada por el estudiante, \n",
    "#                         1 es el número de verificación realizada en esta práctica\n",
    "ȩ.verifica(C, 1)"
   ]
  },
  {
   "cell_type": "code",
   "execution_count": null,
   "id": "7c57366d",
   "metadata": {},
   "outputs": [],
   "source": []
  }
 ],
 "metadata": {
  "kernelspec": {
   "display_name": "Python 3 (ipykernel)",
   "language": "python",
   "name": "python3"
  },
  "language_info": {
   "codemirror_mode": {
    "name": "ipython",
    "version": 3
   },
   "file_extension": ".py",
   "mimetype": "text/x-python",
   "name": "python",
   "nbconvert_exporter": "python",
   "pygments_lexer": "ipython3",
   "version": "3.9.7"
  }
 },
 "nbformat": 4,
 "nbformat_minor": 5
}
