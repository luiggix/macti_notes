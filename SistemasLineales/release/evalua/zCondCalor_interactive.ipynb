{
 "cells": [
  {
   "cell_type": "code",
   "execution_count": null,
   "id": "d02c7d41-da9a-4972-8a81-c2c0eb35fbe4",
   "metadata": {},
   "outputs": [],
   "source": [
    "%run \"init.ipynb\""
   ]
  },
  {
   "cell_type": "code",
   "execution_count": null,
   "id": "d5b6a890-ca10-44b8-9aa8-a1fceafd090d",
   "metadata": {},
   "outputs": [],
   "source": [
    "from macti_lib.SistemasLineales.testSolvers import solucion\n",
    "from ipywidgets import interact, interactive, fixed, interact_manual\n",
    "import ipywidgets as widgets"
   ]
  },
  {
   "cell_type": "code",
   "execution_count": null,
   "id": "a4edc458-1ac6-4b18-ab6e-0f8502f41416",
   "metadata": {},
   "outputs": [],
   "source": [
    "metodos = ['Jacobi', 'Gauss-Seidel', 'SOR']\n",
    "\n",
    "w = interactive(solucion, {\"manual\":True}, \n",
    "                B = fixed(100), T = fixed(0), L = fixed(34), R = fixed(7),\n",
    "                metodo = widgets.Dropdown(options=metodos, description=\"Método\"),\n",
    "                N = widgets.IntSlider(min=5, max=18, step=1, value=3))\n",
    "display(w)"
   ]
  },
  {
   "cell_type": "code",
   "execution_count": null,
   "id": "326be6d6-dc95-416e-b83b-a3d44398cbca",
   "metadata": {},
   "outputs": [],
   "source": []
  }
 ],
 "metadata": {
  "kernelspec": {
   "display_name": "Python 3 (ipykernel)",
   "language": "python",
   "name": "python3"
  },
  "language_info": {
   "codemirror_mode": {
    "name": "ipython",
    "version": 3
   },
   "file_extension": ".py",
   "mimetype": "text/x-python",
   "name": "python",
   "nbconvert_exporter": "python",
   "pygments_lexer": "ipython3",
   "version": "3.9.7"
  }
 },
 "nbformat": 4,
 "nbformat_minor": 5
}
