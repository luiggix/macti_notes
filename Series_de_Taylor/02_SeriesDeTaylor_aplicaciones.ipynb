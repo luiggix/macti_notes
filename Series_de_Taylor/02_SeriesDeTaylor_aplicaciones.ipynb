{
 "cells": [
  {
   "cell_type": "code",
   "execution_count": 1,
   "metadata": {},
   "outputs": [],
   "source": [
    "import numpy as np\n",
    "import matplotlib.pyplot as plt\n",
    "import visual"
   ]
  },
  {
   "cell_type": "markdown",
   "metadata": {},
   "source": [
    "# Aproximación\n",
    "\n",
    "Aproximar $e$ hasta 6 dígitos decimales.\n",
    "\n",
    "Para hacer esta aproximación, recordemos los siguientes tres resultados teóricos, véase [1] :\n",
    "\n",
    "---\n",
    "Si $p$ es una cantidad que deseamos aproximar mediante un número $q$, decimos que $q$ aproxima a $p$ hasta $k$ lugares decimales si la magnitud de la diferencia no es más grande que $5 \\times 10^{-(k+1)}$, es decir: $\\displaystyle |p - q| \\leq 5 \\times 10^{-(k+1)}$.\n",
    "\n",
    "---\n",
    "Si $|f^{(n+1)}(x)| \\leq M$ en el intervalo $(a-x, a+x)$ entonces el residuo es\n",
    "\n",
    "$\\displaystyle\n",
    "\\boxed{R_n(x) \\leq \\frac{M(x-a)^{n+1}}{(n+1)!}}\n",
    "$\n",
    "\n",
    "---\n",
    "Forma del Residuo de Lagrange:\n",
    "\n",
    "$$\n",
    "R_n(x) = \\frac{f^{(n+1)}(\\xi)}{(n+1)!}(x-a)^{n+1}\n",
    "$$\n",
    "\n",
    "---\n",
    "\n",
    "Con lo anterior en mente, procedamos a realizar la aproximación.\n",
    "\n",
    "Primero escribimos la serie de Taylor de la función $f(x)=e^x$ alrededor de $x=0$:\n",
    "\n",
    "$\\displaystyle\n",
    "T_n(x) = 1 + x + \\frac{x^2}{2!} + \\frac{x^3}{3!} + \\dots + \\frac{x^n}{n!}\n",
    "$\n",
    "\n",
    "Usaremos el intervalo $(0,1)$ para acotar el residuo.\n",
    "\n",
    "Sabemos que:\n",
    "1. $e^0 = 1 = T_n(0)$\n",
    "2. $e^1 = e \\approx T_n(1)$\n",
    "3. $e^\\xi < e^x$ para $0 < \\xi < x$\n",
    "\n",
    "Usando la fórmula del residuo de Lagrange, primero debemos estimar $f^{(n+1)}(\\xi) = e^\\xi$. Hagamos la expansión de Taylor de primer orden alrededor de 0 junto con su residuo:\n",
    "\n",
    "$\\displaystyle\n",
    "e^x  = T_1(x) + R_1(x) = 1 + x + \\frac{e^\\xi}{2!}x^2 \n",
    "$\n",
    "\n",
    "Dado que $e^\\xi < e^x$ para $0 < \\xi < x \\leq 1$ entonces:\n",
    "\n",
    "$\\displaystyle\n",
    "e^x  = 1 + x + \\frac{e^\\xi}{2!}x^2 < 1 + x + \\frac{e^x}{2!}x^2 \n",
    "\\quad \\Longrightarrow \\quad \n",
    "e^x \\leq 1 + x + \\frac{e^x}{2!}x^2 \\quad \\text{para} \\quad 0 \\leq x \\leq 1\n",
    "$\n",
    "\n",
    "de donde obtenemos:\n",
    "\n",
    "$\\displaystyle\n",
    "\\boxed{e^x \\leq \\frac{2 + 2x}{2 - x^2} \\quad \\text{para} \\quad 0 \\leq x \\leq 1 }\n",
    "$\n",
    "\n",
    "Una gráfica de la función $\\displaystyle \\frac{2 + 2x}{2 - x^2}$ se puede ver en la siguiente figura:"
   ]
  },
  {
   "cell_type": "code",
   "execution_count": null,
   "metadata": {},
   "outputs": [],
   "source": [
    "import matplotlib.pyplot as plt\n",
    "\n",
    "xe = np.linspace(0,1,20) # Codominio de la función\n",
    "\n",
    "# Graficamos la función\n",
    "plt.plot(xe, (2 + 2*xe) / (2 - xe**2), label='$\\dfrac{2 + 2*x}{2 - x^2}$')\n",
    "plt.plot(xe, np.exp(xe), label='$e^x$')\n",
    "\n",
    "# Configuración de la gráfica\n",
    "plt.xlabel(\"$x$\")\n",
    "plt.ylabel(\"$f(x)$\")\n",
    "plt.legend()\n",
    "plt.show()"
   ]
  },
  {
   "cell_type": "markdown",
   "metadata": {},
   "source": [
    "Observamos que $M = 4$ es una cota superior para $f^{(n+1)}(\\xi) = e^\\xi$ con $0 < \\xi < 1$, por lo tanto el residuo es:\n",
    "\n",
    "$\\displaystyle\n",
    "|R_n(x)| \\leq \\frac{M x^{n+1}}{(n+1)!} \\leq \\frac{4}{(n+1)!} \\quad \\text{para} \\quad 0 \\leq x \\leq 1\n",
    "$\n",
    "\n",
    "Como se quiere aproximar con 6 dígitos decimales, entonces debemos encontrar una $n$ que satisfaga la siguiente condición: \n",
    "\n",
    "$\\displaystyle\n",
    "\\frac{4}{(n+1)!} \\leq 5 \\times 10^{-7} \n",
    "$\n",
    "\n",
    "Esto lo hacemos con el siguiente código:"
   ]
  },
  {
   "cell_type": "code",
   "execution_count": null,
   "metadata": {},
   "outputs": [],
   "source": [
    "import math\n",
    "def calc_n(M, k=1):\n",
    "    \"\"\"\n",
    "    Calcula el grado n de la serie de Taylor necesaria para aproximar la\n",
    "    función e^x hasta k digitos decimales.\n",
    "    \"\"\"\n",
    "    n = 0\n",
    "    v = 1.0\n",
    "    while v > 5.0 * 10**(-(k+1)):\n",
    "        v = M / math.factorial(n+1)\n",
    "        n += 1\n",
    "    return n\n",
    "\n",
    "def Taylor_e(n):\n",
    "    \"\"\"\n",
    "    Calcula el valor de e con un polinomio de Taylor de grado n\n",
    "    \"\"\"\n",
    "    e = 0\n",
    "    for i in range(0,n+1):\n",
    "        e += 1 / math.factorial(i)\n",
    "        print('Polinomio de grado {:3d}. Aproximación : {:2.10f}'.format(i,e))\n",
    "    return e"
   ]
  },
  {
   "cell_type": "code",
   "execution_count": null,
   "metadata": {},
   "outputs": [],
   "source": [
    "e_aprox = Taylor_e(calc_n(4,6))"
   ]
  },
  {
   "cell_type": "code",
   "execution_count": null,
   "metadata": {},
   "outputs": [],
   "source": [
    "print('Aproximación final: {:2.10f}'.format(e_aprox))\n",
    "print('Valor de numpy    : {:2.10f}'.format(np.exp(1)))\n",
    "print('Error de la aprox : {:2.10f}'.format(np.fabs(e_aprox - np.exp(1))))"
   ]
  },
  {
   "cell_type": "markdown",
   "metadata": {},
   "source": [
    "## Ejercicio 1\n",
    "\n",
    "Aproximar $\\pi$ hasta 10 dígitos decimales."
   ]
  },
  {
   "cell_type": "markdown",
   "metadata": {},
   "source": [
    "# Transferencia de calor\n",
    "\n",
    "En invierno buscamos nuestra comodidad térmica aislando nuestros cuerpos al cubrirlos con gruesos abrigos, de este modo minimizamos el área superficial expuesta a temperaturas bajas. Pero en verano, intentamos minimizar la ganancia de calor por radiación al permanecer en lugares sombreados. De igual manera, si usamos una cuchara de metal para mover nuestros alimentos mientras los calentamos en la estufa, sentiremos la cuchara caliente después de unos minutos, y si no tenemos cuidado podemos quemarnos la mano debido a que los metales son buenos transmisores del calor. Lo que estamos describiendo con estos ejemplos son casos cotidianos de la **transferencia de calor**. \n",
    "\n",
    "En el siguiente video, observamos como una barra de metal es expuesta a una fuente de calor en su extremo izquierdo y se representa con colores el aumento de la temperatura en toda la barra:\n",
    "\n",
    "<video src=\"../../Videos/02_Conduccion1D.mp4\" width=\"320\" controls></video>\n",
    "\n",
    "¿Será posible usar las matemáticas, específicamente las Series de Taylor, para estudiar como se transfiere el calor en diferentes circunstancias?\n",
    "\n",
    "Para responder esta pregunta veamos que son las Series de Taylor y posteriormente intentemos resolver un problema de transferencia de calor con esta herramienta matemática."
   ]
  },
  {
   "cell_type": "markdown",
   "metadata": {
    "id": "ggZ0k4gqG4Jn"
   },
   "source": [
    "## Modelo matemático\n",
    "Un modelo matemático que describe la conducción de calor es el siguiente:\n",
    "\n",
    "$\\displaystyle\n",
    "\\nabla \\cdot \\left( \\kappa \\nabla T \\right) = -q\n",
    "$\n",
    "\n",
    "donde $\\kappa$ representa la conductividad térmica y $q$ una fuente de energía calorífica.\n",
    "\n",
    "Si quisieramos determinar la distribución de temperaturas en una barra de metal, con $\\kappa$ = cte., usaríamos un modelo en una dimensión que se puede escribir como sigue:\n",
    "\n",
    "$\n",
    "\\displaystyle\n",
    "\\kappa \\frac{d^2 T}{d x^2} = -q\n",
    "$\n",
    "\n",
    "La barra tiene una temperatura $T_A$ en su extremo izquierdo y otra temperatura $T_B$ en su extremo derecho y además consideramos que $q$ = cte.\n",
    "\n",
    "A continuación veremos como encontrar una solución, es decir una función $T(x)$, que me de la temperatura en cada posición $x$, usando dos estrategias basadas en Series de Taylor."
   ]
  },
  {
   "cell_type": "markdown",
   "metadata": {
    "id": "BMVAQypGG4Jo"
   },
   "source": [
    "### Solución analítica\n",
    "Es posible obtener una función $T(x)$ que describa la distribución de temperaturas a lo largo de dicha barra. Para ello vamos a escribir $T(x)$ en forma de una serie Taylor\n",
    "\n",
    "$\n",
    "\\displaystyle\n",
    "T_n(x) = \\sum_{i=0}^n T^{(i)}(a)\\frac{(x-a)^i}{i!} = \\sum_{i=0}^n c_i (x-a)^i\n",
    "$\n",
    "\n",
    "donde $\\displaystyle c_i = \\frac{T^{(i)}(a)}{i!}$.\n",
    "\n",
    "Definimos ahora una aproximación alrededor de $a = 0$ para $n = 2$ con lo que obtenemos:\n",
    "\n",
    "\n",
    "$\\displaystyle\n",
    "T(x) = c_0 + c_1 *x + c_2 * x^2\n",
    "$\n",
    "\n",
    "Calculamos la primera y segunda derivadas de $T(x)$:\n",
    "\n",
    "$\n",
    "\\begin{eqnarray}\n",
    "\\frac{d T(x)}{d x} & = & c_1 + 2 * c_2 * x \\\\\n",
    "\\frac{d^2 T(x)}{d x^2} & = & 2 * c_2 \\\\\n",
    "\\end{eqnarray}\n",
    "$\n",
    "\n",
    "Sustituyendo esta segunda derivada en la ecuación de conducción de calor obtenemos:\n",
    "\n",
    "$\n",
    "\\displaystyle\n",
    "\\kappa (2 * c_2 ) = -q \\Longrightarrow \\boxed{c_2 = -\\frac{q}{2 \\kappa}}\n",
    "$\n",
    "\n",
    "Para obtener $c_0$ y $c_1$ hacemos uso de las condiciones de frontera en $T(x)$:\n",
    "\n",
    "$\\displaystyle\n",
    "\\begin{eqnarray}\n",
    "\\text{Extremo izquierdo: } T(x=0) & = & c_0 + c_1 * 0 + c_2 * 0^2 = T_A  \\\\\n",
    "&\\Longrightarrow& \\boxed{c_0 = T_A} \\\\\n",
    "\\text{Extremo derecho: } T(x=L) & = & c_0 + c_1 * L + c_2 * L^2 = T_A + c_1 * L - \\frac{q}{2 \\kappa} * L^2 =\n",
    "T_B \\\\\n",
    "&\\Longrightarrow& \\boxed{c_1 = \\left(T_B - T_A + \\frac{q L^2}{2 \\kappa}\\right)\\frac{1}{L}}\n",
    "\\end{eqnarray}\n",
    "$\n",
    "\n",
    "De esta manera tenemos que la solución final es:\n",
    "\n",
    "$\\displaystyle\n",
    "T(x) = T_A + \\left(T_B - T_A + \\frac{q L^2}{2 \\kappa}\\right)\\frac{1}{L} x - \\frac{q}{2 \\kappa} x^2 =\n",
    "\\boxed{\\left(\\frac{T_B - T_A}{L} + \\frac{q}{2\\kappa} \\left(L - x\\right) \\right)x + T_A}\n",
    "$\n",
    "\n",
    "Implementamos esta solución en una función de Python:"
   ]
  },
  {
   "cell_type": "code",
   "execution_count": null,
   "metadata": {
    "id": "wF7hM0nuG4Jp"
   },
   "outputs": [],
   "source": [
    "def temperatura(x, TA, TB, q, L, k):\n",
    "    \"\"\"\n",
    "    Calcula la temperatura usando la fórmula obtenida con Series de Taylor.\n",
    "    \"\"\"\n",
    "    return ((TB - TA)/L + q /(2*k) * (L - x) ) * x + TA"
   ]
  },
  {
   "cell_type": "markdown",
   "metadata": {
    "id": "-u_GDzyDG4Ju"
   },
   "source": [
    "#### Ejemplo 1\n",
    "\n",
    "Este ejemplo representa una barra aislada con temperaturas $T_A$ y $T_B$ en sus extremos. \n",
    "\n",
    "Datos del problema:\n",
    "- $\\kappa = 1000$ [W /m $^o$C]\n",
    "- $L = 0.5$ [m]\n",
    "- $T_A = 100$ [$^o$C]\n",
    "- $T_B = 500$ [$^o$C]\n",
    "- $q = 0$"
   ]
  },
  {
   "cell_type": "code",
   "execution_count": null,
   "metadata": {
    "id": "Y-M2C5W2G4Jv"
   },
   "outputs": [],
   "source": [
    "k = 1000\n",
    "L = 0.5\n",
    "TA = 100\n",
    "TB = 500\n",
    "q = 0\n",
    "\n",
    "# Calculamos la temperatura con la solución analítica\n",
    "x = np.linspace(0, L, 100)\n",
    "T = temperatura(x, TA, TB, q, L, k)\n",
    "\n",
    "# Definimos algunos parámetros para la gráfica\n",
    "plt.title('Transferencia de calor')\n",
    "plt.xlabel('$x$ [m]')\n",
    "plt.ylabel('$T$ [$^oC$]')\n",
    "\n",
    "# Realizamos la gráfica con una línea y puntos que tienen un color \n",
    "# dependiendo de su temperatura\n",
    "plt.plot(x, T, color='k', lw =1.0)\n",
    "s = plt.scatter(x, T, c=T, cmap='jet', alpha=0.5)\n",
    "plt.colorbar(s) # Se muestra una barra de color \n",
    "plt.show()"
   ]
  },
  {
   "cell_type": "markdown",
   "metadata": {
    "id": "KI590ExEG4J1"
   },
   "source": [
    "#### Ejemplo 2\n",
    "\n",
    "Este ejemplo representa una barra que en cada uno de sus puntos recibe un flujo de calor $q$ y con temperaturas $T_A$ y $T_B$ en sus extremos. Véase [2].\n",
    "\n",
    "Datos:\n",
    "- $\\kappa = 0.5$ [W /m $^o$C]\n",
    "- $L = 0.02$ [m]\n",
    "- $T_A = 100$ [$^o$C]\n",
    "- $T_B = 200$ [$^o$C]\n",
    "- $q = 10^6$ [W/m$^3$]"
   ]
  },
  {
   "cell_type": "code",
   "execution_count": null,
   "metadata": {
    "id": "MZU5ij7oG4J2"
   },
   "outputs": [],
   "source": [
    "# Datos del problema\n",
    "k = 0.5\n",
    "L = 0.02\n",
    "TA = 100\n",
    "TB = 200\n",
    "q = 1e+6\n",
    "\n",
    "# Calculamos la temperatura con la solución analítica\n",
    "x = np.linspace(0,L,100)\n",
    "T = temperatura(x, TA, TB, q, L, k)\n",
    "\n",
    "# Definimos algunos parámetros para la gráfica\n",
    "plt.title('Transferencia de calor')\n",
    "plt.xlabel('$x$ [m]')\n",
    "plt.ylabel('$T$ [$^oC$]')\n",
    "\n",
    "# Realizamos la gráfica con una línea y puntos que tienen un color \n",
    "# dependiendo de su temperatura\n",
    "plt.plot(x, T, color='k', lw=1.0)\n",
    "s = plt.scatter(x, T, c=T, cmap='jet', alpha=0.5)\n",
    "plt.colorbar() # Se muestra una barra de color \n",
    "plt.show()"
   ]
  },
  {
   "cell_type": "markdown",
   "metadata": {
    "id": "ZwlkKlm7G4J8"
   },
   "source": [
    "### Solución numérica\n",
    "Los ejemplos anteriores también se pueden resolver usando el método numérico conocido como diferencias finitas, el cual se obtiene también usando Series de Taylor. Veamos como:"
   ]
  },
  {
   "cell_type": "markdown",
   "metadata": {
    "id": "KBOVXfhVG4J9"
   },
   "source": [
    "#### Derivadas de primer orden\n",
    "Supongamos que $u(x)$ es una función bien comportada con $n$ derivadas continuas.\n",
    "Entonces podemos escribir la siguiente serie de Taylor alrededor de $x_0$:\n",
    "\n",
    "$\\displaystyle\n",
    "u(x_0+h) = u(x_0) + u^\\prime(x_0)h + \\frac{u^{\\prime\\prime}(x_0)}{2!}h^2 + \\dots + \\frac{u^{(n)}(x_0)}{n!}h^n + R_n(x)$ \n",
    "\n",
    "donde $h = x-x_0$ y de aquí se tiene que $x = x_0 + h$. Si truncamos el polinomio de Taylor a primer orden tenemos:\n",
    "\n",
    "$\\displaystyle\n",
    "u(x_0+h) = u(x_0) + u^\\prime(x_0)h + R_1(x)$ \n",
    "\n",
    "Luego despejamos $u^\\prime(x_0)$:\n",
    "\n",
    "$\\displaystyle\n",
    "\\begin{eqnarray}\n",
    "\\Longrightarrow u^\\prime(x_0) & = & \\frac{u(x_0+h) - u(x_0)}{h} - \\frac{R_1(x)}{h} \\\\\n",
    "\\Longrightarrow u^\\prime(x_0) & = & \\frac{u(x_0+h) - u(x_0)}{h} - \\frac{u^{(2)}(\\xi) h^2 / 2!}{h} \\\\ \n",
    "\\Longrightarrow u^\\prime(x_0) & = & \\frac{u(x_0+h) - u(x_0)}{h} - \\frac{u^{(2)}(\\xi)}{2} h\\\\\n",
    "\\Longrightarrow u^\\prime(x_0) & = & \\frac{u(x_0+h) - u(x_0)}{h} - \\mathcal{O}(h)\\\\\n",
    "\\end{eqnarray}\n",
    "$\n",
    "\n",
    "Observaciones:\n",
    "1. La última ecuación no es más que la definición de la derivada, hacia adelante:\n",
    "\n",
    "$\\displaystyle\n",
    "u^\\prime(x_0) = \\lim_{h \\rightarrow 0 } \\frac{u(x_0+h) - u(x_0)}{h}\n",
    "$\n",
    "\n",
    "2. La expresión $\\mathcal{O}(h)$ significa que el último término es de orden $h$.\n",
    "\n",
    "3. Si eliminamos ese último término tendremos una aproximación de la derivada hacia adelante de orden $h$:\n",
    "\n",
    "$\\displaystyle\n",
    "u^\\prime(x_0) \\approx \\frac{u(x_0+h) - u(x_0)}{h}\n",
    "$"
   ]
  },
  {
   "cell_type": "markdown",
   "metadata": {
    "id": "jRufg1IPUzmZ"
   },
   "source": [
    "#### Ejercicio\n",
    "Mostrar que la aproximación de la derivada hacia atrás de orden $h$ se escribe como:\n",
    "\n",
    "$\\displaystyle\n",
    "u^\\prime(x_0) \\approx \\frac{u(x_0) - u(x_0-h)}{h}\n",
    "$\n",
    "\n",
    "**Hint**: Escriba la expansión en series de Taylor de $u(x_0-h)$ y despeje $u^\\prime(x_0)$"
   ]
  },
  {
   "cell_type": "markdown",
   "metadata": {
    "id": "lZlRZLbwG4J-"
   },
   "source": [
    "#### Derivadas de segundo orden\n",
    "\n",
    "Las expansiones en series de Taylor de $u(x_0 + h)$ y de $u(x_0 - h)$ son: \n",
    "\n",
    "$\\displaystyle\n",
    "u(x_0+h) = u(x_0) + u^\\prime(x_0)h + \\frac{u^{\\prime\\prime}(x_0)}{2!}h^2 + \\frac{u^{\\prime\\prime\\prime}(x_0)}{3!}h^3 + \\dots + \\frac{u^{(n)}(x_0)}{n!}h^n + R_n(x)\n",
    "$ \n",
    "\n",
    "$\\displaystyle\n",
    "u(x_0-h) = u(x_0) - u^\\prime(x_0)h + \\frac{u^{\\prime\\prime}(x_0)}{2!}h^2 - \\frac{u^{\\prime\\prime\\prime}(x_0)}{3!}h^3 + \\dots + \\frac{u^{(n)}(x_0)}{n!}h^n + R_n(x)\n",
    "$ \n",
    "\n",
    "Ahora sumamos a las dos ecuaciones para obtener:\n",
    "\n",
    "$\\displaystyle\n",
    "u(x_0+h) + u(x_0-h) = 2u(x_0) + u^{\\prime\\prime}(x_0) h^2 + \\frac{2 u^{(4)}(x_0)}{4!}h^4 + \n",
    "\\frac{2 u^{(6)}(x_0)}{6!}h^6 + \\dots + \\mathcal{O}(h^{(n+1)})$ \n",
    "\n",
    "Observamos que todos los términos de orden impar se han eliminado, esto debido a que esta aproximación es simétrica y está centrada en $x_0$. Truncamos la serie hasta orden 4 y despejamos $u^{\\prime\\prime}(x_0)$ :\n",
    "\n",
    "$\\displaystyle\n",
    "u^{\\prime\\prime}(x_0) = \\frac{u(x_0-h) - 2u(x_0) +  u(x_0+h)}{h^2} + \\mathcal{O}(h^2)$ \n",
    "\n",
    "Tenemos entonces una aproximación a la segunda derivada de orden $h^2$."
   ]
  },
  {
   "cell_type": "markdown",
   "metadata": {
    "id": "pynYSs4_UzmZ"
   },
   "source": [
    "### Aproximación de la ecuación de calor\n",
    "Usando la aproximación de la segunda derivada obtenida anteriormente, se puede escribir la  ecuación de calor\n",
    "$\n",
    "\\displaystyle\n",
    "\\kappa \\frac{d^2 T}{d x^2} = q\n",
    "$\n",
    "como sigue:\n",
    "\n",
    "$$\n",
    "\\displaystyle\n",
    "\\begin{eqnarray}\n",
    "\\kappa \\left( \\frac{T(x_0-h) - 2T(x_0) +  T(x_0+h)}{h^2} \\right) & = & q \\\\\n",
    "\\Longrightarrow T(x_0-h) - 2T(x_0) +  T(x_0+h) & = & \\frac{q h^2}{\\kappa}\n",
    "\\end{eqnarray}\n",
    "$$\n",
    "\n",
    "Lo que nos dice esta última ecuación es que se puede aproximar la temperatura en $x_0$ con un error de orden $\\mathcal{O}(h^2)$. Entonces entre más pequeño sea el $h$ mejor es la aproximación. Para obtener una solución en toda la barra, se construye una ecuación como la anterior para cada punto de la barra donde se desea conocer la temperatura, véase el siguiente video:"
   ]
  },
  {
   "cell_type": "markdown",
   "metadata": {
    "id": "4jocIuCjUzma"
   },
   "source": [
    "<video src=\"../../Videos/03_Conduccion1D.mp4\" width=\"320\" controls></video>"
   ]
  },
  {
   "cell_type": "markdown",
   "metadata": {
    "id": "U2eKbEGiG4J_"
   },
   "source": [
    "Los puntos estarán equidistantes de tal manera que la distancia entre ellos, $h$, se puede disminuir agregando cada vez más puntos. Obsérvese también que hay dos puntos especiales en  los extremos de la barra, donde la temperatura es conocida (condiciones de frontera).\n",
    "Si escribimos las ecuaciones para todos los puntos, digamos que tenemos $N$ puntos, entonces obtendremos un sistema lineal de ecuaciones como el siguiente:\n",
    "\n",
    "$\n",
    "\\begin{eqnarray}\n",
    "T_0 - 2T_1 + T_2  & = & -Q \\\\\n",
    "T_1 - 2T_2 + T_3 & = & -Q \\\\\n",
    "& \\vdots & \\\\\n",
    "T_{N-2} - 2T_{N-1} + T_N & = & -Q \n",
    "\\end{eqnarray}\n",
    "$\n",
    "\n",
    "donde $\\displaystyle Q = \\frac{q h^2}{\\kappa}$, $T_0 = T_A$ (temperatura en el extremo izquierdo) y $T_N = T_B$ (temperatura en el extremo derecho). \n",
    "\n",
    "Se puede escribir este sistemal en forma matricial :\n",
    "\n",
    "$\n",
    "\\left(\n",
    "\\begin{array}{ccccccccc}\n",
    "-2 & 1 & 0 & \\dots & & & 0\\\\ \n",
    " 1 &-2 & 1 & 0 & \\dots & &0\\\\ \n",
    " 0 & 1 &-2 & 1 & 0 &  & 0\\\\ \n",
    " \\vdots &\\ddots&\\ddots&\\ddots&\\ddots&\\ddots&\\vdots\\\\\n",
    "0 & \\dots & 0 & 1 &-2 & 1 & 0 \\\\\n",
    "0 &  \\dots && 0 & 1 &-2 & 1 \\\\\n",
    "0 &  \\dots &&& 0 & 1 &-2  \\\\\n",
    "\\end{array}\\right)\n",
    "\\left(\n",
    "\\begin{array}{c}\n",
    "T_1 \\\\ T_2 \\\\ T_3 \\\\ \\vdots \\\\ T_{N-3} \\\\ T_{N-2} \\\\ T_{N-1}\n",
    "\\end{array}\\right) = \n",
    "-\\left(\n",
    "\\begin{array}{c}\n",
    "Q + T_A \\\\ Q \\\\ Q \\\\ \\vdots \\\\ Q \\\\ Q \\\\ Q + T_{B}\n",
    "\\end{array}\\right)\n",
    "$\n",
    "\n",
    "Resolviendo el sistema obtendremos las temperaturas en todos los puntos y por lo tanto una aproximación a la solución. La siguiente función de Python genera el sistema lineal, lo resuelve y regresa la temperatura en los diferentes puntos de la barra:"
   ]
  },
  {
   "cell_type": "code",
   "execution_count": 2,
   "metadata": {
    "id": "hXaNAAKQG4KA"
   },
   "outputs": [],
   "source": [
    "def resuelveDF(TA, TB, q, L, k, N):\n",
    "    h = L / (N-1)\n",
    "\n",
    "    # Construcción del vector del lado derecho (RHS)\n",
    "    Q = np.zeros(N)\n",
    "    \n",
    "    # Construcción de la matriz\n",
    "    A = np.identity(N)\n",
    "    for i in range(1,N-1):\n",
    "        A[i,i-1] = 1\n",
    "        A[i,i]   = -2\n",
    "        A[i,i+1] = 1\n",
    "        Q[i] = -q * h**2 / k\n",
    "    \n",
    "    # Aplicación de las condiciones de frontera\n",
    "    Q[1]  -= TA\n",
    "    Q[-2] -= TB\n",
    "    \n",
    "    # Solución del sistema y regreso de la solución\n",
    "    return np.linalg.solve(A[1:-1,1:-1], Q[1:-1])"
   ]
  },
  {
   "cell_type": "markdown",
   "metadata": {
    "id": "3-qSyQKyG4KE"
   },
   "source": [
    "#### Aplicación al Ejemplo 1"
   ]
  },
  {
   "cell_type": "code",
   "execution_count": 6,
   "metadata": {
    "id": "W1IwIQI4G4KF"
   },
   "outputs": [
    {
     "data": {
      "image/png": "[encoded data removed]",
      "text/plain": [
       "<Figure size 512x384 with 2 Axes>"
      ]
     },
     "metadata": {},
     "output_type": "display_data"
    }
   ],
   "source": [
    "# Datos del problema\n",
    "k = 1000\n",
    "L = 0.5\n",
    "TA = 100\n",
    "TB = 500\n",
    "q = 0\n",
    "N = 21 # Número de puntos de la aproximación\n",
    "\n",
    "# Arreglo para almacenar la solución numérica\n",
    "T = np.zeros(N)\n",
    "\n",
    "# Condiciones de frontera\n",
    "T[0] = TA\n",
    "T[-1] = TB\n",
    "\n",
    "# Calculamos la temperatura con el método numérico\n",
    "x = np.linspace(0, L, N)\n",
    "T[1:-1] = resuelveDF(TA, TB, q, L, k, N)\n",
    "\n",
    "# Definimos algunos parámetros para la gráfica\n",
    "plt.title('Transferencia de calor')\n",
    "plt.xlabel('$x$ [m]')\n",
    "plt.ylabel('$T$ [$^oC$]')\n",
    "\n",
    "# Realizamos la gráfica con una línea y puntos que tienen un color \n",
    "# dependiendo de su temperatura\n",
    "plt.plot(x, T, color='k', lw=1.0)\n",
    "s = plt.scatter(x, T, c=T, ec='black', s=50, vmin=100, vmax=500, cmap='jet', alpha=0.5)\n",
    "plt.colorbar(s) # Se muestra una barra de color \n",
    "plt.show()\n",
    "\n"
   ]
  },
  {
   "cell_type": "markdown",
   "metadata": {
    "id": "DmjcJ4rEG4KL"
   },
   "source": [
    "#### Aplicación al Ejemplo 2"
   ]
  },
  {
   "cell_type": "code",
   "execution_count": null,
   "metadata": {
    "id": "6EAcrRKIG4KM"
   },
   "outputs": [],
   "source": [
    "# Datos del problema\n",
    "k = 0.5\n",
    "L = 0.02\n",
    "TA = 100\n",
    "TB = 200\n",
    "q = 1e+6\n",
    "N = 21 # Número de puntos de la aproximación\n",
    "\n",
    "# Arreglo para almacenar la solución numérica\n",
    "T = np.zeros(N)\n",
    "\n",
    "# Condiciones de frontera\n",
    "T[0] = TA\n",
    "T[-1] = TB\n",
    "\n",
    "# Calculamos la temperatura con el método numérico\n",
    "x = np.linspace(0, L, N)\n",
    "T[1:-1] = resuelveDF(TA, TB, q, L, k, N)\n",
    "\n",
    "# Definimos algunos parámetros para la gráfica\n",
    "plt.title('Transferencia de calor')\n",
    "plt.xlabel('$x$ [m]')\n",
    "plt.ylabel('$T$ [$^oC$]')\n",
    "\n",
    "# Realizamos la gráfica con una línea y puntos que tienen un color \n",
    "# dependiendo de su temperatura\n",
    "plt.plot(x, T, color='k', lw=1.0)\n",
    "s = plt.scatter(x, T, c=T, ec='black', s=50, cmap='jet', alpha=0.5)\n",
    "plt.colorbar() # Se muestra una barra de color \n",
    "plt.show()"
   ]
  },
  {
   "cell_type": "markdown",
   "metadata": {
    "id": "gAHH6z_UG4KP"
   },
   "source": [
    "Observamos que en los dos ejemplos, las soluciones son similares a las obtenidas usando la solución analítica. Intente aumentar el número de puntos ($N$) de la aproximación y vea lo que sucede. Para evaluar la precisión del método, se propone al estudiante que calcule la norma del error entre solución analítica y la solución numérica."
   ]
  }
 ],
 "metadata": {
  "colab": {
   "collapsed_sections": [],
   "include_colab_link": true,
   "name": "02_SeriesDeTaylor_aplicaciones.ipynb",
   "provenance": []
  },
  "kernelspec": {
   "display_name": "Python 3 (ipykernel)",
   "language": "python",
   "name": "python3"
  },
  "language_info": {
   "codemirror_mode": {
    "name": "ipython",
    "version": 3
   },
   "file_extension": ".py",
   "mimetype": "text/x-python",
   "name": "python",
   "nbconvert_exporter": "python",
   "pygments_lexer": "ipython3",
   "version": "3.10.6"
  }
 },
 "nbformat": 4,
 "nbformat_minor": 4
}
