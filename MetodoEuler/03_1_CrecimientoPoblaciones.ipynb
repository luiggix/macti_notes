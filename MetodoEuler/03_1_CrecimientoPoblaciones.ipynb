{
 "cells": [
  {
   "cell_type": "markdown",
   "id": "d4f013ff-bb3d-440d-a18c-7ac4a5109009",
   "metadata": {},
   "source": [
    "# Crecimiento de poblaciones.\n",
    "\n",
    "---\n",
    "En el estudio de crecimiento de poblaciones, limitadas por competencia por alimentos, se tiene un modelo matemático conocido como la ecuación logística:\n",
    "\n",
    "$$\n",
    "\\begin{eqnarray*}\n",
    "\t\\frac{d y(t)}{d t} & = & \\lambda y ( 1 -y), \\qquad \\text{ para }  0 < t  < T_{max} \\\\\n",
    "\ty(0) & = & y_0 \\qquad \\text{(condición inicial)}\n",
    "\\end{eqnarray*}\n",
    "$$\n",
    "\n",
    "donde $y_0$ es la población inicial, $\\lambda > 0$ y $T_{max} = h_t * N_t$. \n",
    "\n",
    "Obsérvese que en este caso la ecuación es no lineal pues del lado derecho aparece un término cuadrático de $y$.\n",
    "\n",
    "Este problema tiene la siguiente solución analítica: $y(t) = \\dfrac{y_0}{y_0 + (1-y_0)e^{-\\lambda t}}$.\n",
    "\n",
    "---"
   ]
  },
  {
   "cell_type": "markdown",
   "id": "68c03375-afd1-4b9f-b5c0-8445d244156c",
   "metadata": {},
   "source": [
    "**Objetivo.**\n",
    "\n",
    "Usar el pensamiento computacional para simular el crecimiento de una población aplicando el Método de Euler hacia adelante.\n",
    "\n",
    "**Realizar lo siguiente:**\n",
    "\n",
    "- Escribir la fórmula del método de Euler hacia adelante para este caso.\n",
    "- Diseñar e implementar un algoritmo para calcular la solución.\n",
    "- Reproducir la gráfica que se muestra en la siguiente figura para:\n",
    "    - $\\lambda = 10$, \n",
    "    - $T_{max} = 1.0$,\n",
    "    - $y_0 = 0.01$ y \n",
    "    - $N_t = 4$, $16$ y $64$.\n",
    "\n",
    "<center>\n",
    "<img src=\"./Figuras/logistica.png\"  width='500px'/>\n",
    "</center>"
   ]
  },
  {
   "cell_type": "markdown",
   "id": "5696ebf8-165d-4ba6-b7be-302d17749580",
   "metadata": {},
   "source": [
    "# Puntos a evaluar.\n",
    "\n",
    "1. Definición de los parámetros del problema.\n",
    "2. Descripción del algoritmo de solución para una $N_t$ fija.\n",
    "3. Implementación del algoritmo de solución para una $N_t$ fija.\n",
    "4. Descripción e implementación del algoritmo de solución para $N_t$ variable y que reproduzca la gráfica anterior.\n",
    "5. Comparación con la solución analítica, de manera numérica y gráfica, en los puntos 3 y 4."
   ]
  },
  {
   "cell_type": "code",
   "execution_count": null,
   "id": "8d14eae4-7ae4-4d16-92f0-1477f1b8fb30",
   "metadata": {},
   "outputs": [],
   "source": [
    "import matplotlib.pyplot as plt\n",
    "import numpy as np"
   ]
  },
  {
   "cell_type": "markdown",
   "id": "4f08087a",
   "metadata": {},
   "source": [
    "## 1. Definición de los parámetros del problema."
   ]
  },
  {
   "cell_type": "code",
   "execution_count": null,
   "id": "4ca9f25d",
   "metadata": {},
   "outputs": [],
   "source": [
    "λ    = 10.0 # \n",
    "Tmax = 1.0  # Tiempo máximo de simulación.\n",
    "y0   = 0.01 # Condición inicial. \n",
    "Nt   = [4, 16, 64] # Pasos de tiempo para los tres casos."
   ]
  },
  {
   "cell_type": "markdown",
   "id": "f317d22d",
   "metadata": {},
   "source": [
    "## 2. Descripción del algoritmo de solución para una $N_t$ fija.\n",
    "\n",
    "Agregue una imagen del algoritmo."
   ]
  },
  {
   "cell_type": "markdown",
   "id": "b0e74098",
   "metadata": {},
   "source": []
  },
  {
   "cell_type": "markdown",
   "id": "a4d47ea1",
   "metadata": {},
   "source": [
    "## 3. Implementación del algoritmo de solución para una $N_t$ fija."
   ]
  },
  {
   "cell_type": "code",
   "execution_count": null,
   "id": "e80053fe",
   "metadata": {},
   "outputs": [],
   "source": [
    "# Código para el cálculo de la solución analítica\n",
    "\n",
    "### BEGIN SOLUTION\n",
    "ht = Tmax / Nt[0]\n",
    "t  = np.linspace(0, Tmax, Nt[0]+1)\n",
    "y  = [y0]\n",
    "\n",
    "# Cálculo de la solución exacta\n",
    "ye = y0 /(y0 + (1-y0) * np.exp(-λ * t) )\n",
    "\n",
    "# Función f(t,y)\n",
    "f = lambda y : λ * y * (1 - y)\n",
    "\n",
    "for n in range(0, Nt[0]):\n",
    "    ynew = y[n] + ht * f(y[n]) # Método de Euler hacia adelante\n",
    "    y.append(ynew)             # Agregamos el valor calculado al arreglo\n",
    "\n",
    "error = np.linalg.norm(y - ye, 2)\n",
    "### END SOLUTION\n",
    "\n",
    "print('Error numérico : {:0.5f}'.format(error))\n",
    "\n",
    "# Imprimimos y graficamos la solución\n",
    "plt.plot(t, y, 'o-')\n",
    "\n",
    "# Cálculo de la solución exacta para graficarla\n",
    "te = np.linspace(0, Tmax, 100)\n",
    "ye = y0 /(y0 + (1-y0) * np.exp(-λ * te) )\n",
    "plt.plot(te, ye, 'k-', lw=4, alpha=0.5)"
   ]
  },
  {
   "cell_type": "markdown",
   "id": "66fb6090",
   "metadata": {},
   "source": [
    "## 4. Descripción e implementación del algoritmo de solución para $N_t$ variable y que reproduzca la gráfica anterior.\n",
    "\n",
    "Agregue una imagen del algoritmo.\n",
    "\n",
    "**Hint**: Defina una función como la que sigue para realizar los cálculos para una $N_t$ dada:\n",
    "\n",
    "```python\n",
    "def solLogistica(λ, y0, Tmax, i):\n",
    "    ...\n",
    "    return t, y, error\n",
    "```\n",
    "En esta función debe determinar que variable(s) dependen del índice `i`."
   ]
  },
  {
   "cell_type": "code",
   "execution_count": null,
   "id": "dced2fce",
   "metadata": {},
   "outputs": [],
   "source": [
    "### BEGIN SOLUTION\n",
    "def solLogistica(λ, y0, Tmax, i):\n",
    "    ht = Tmax / Nt[i]\n",
    "    t  = np.linspace(0, Tmax, Nt[i]+1)\n",
    "    y  = [y0]\n",
    "\n",
    "    # Cálculo de la solución exacta    \n",
    "    ye = y0 /(y0 + (1-y0) * np.exp(-λ * t) )\n",
    "\n",
    "    # Función f(t,y)\n",
    "    f = lambda y : λ * y * (1 - y)\n",
    "\n",
    "    for n in range(0, Nt[i]):\n",
    "        ynew = y[n] + ht * f(y[n]) # Método de Euler hacia adelante\n",
    "        y.append(ynew)             # Agregamos el valor calculado al arreglo\n",
    "\n",
    "    error = np.linalg.norm(y - ye, 2)\n",
    "    \n",
    "    return t, y, error\n",
    "### END SOLUTION"
   ]
  },
  {
   "cell_type": "markdown",
   "id": "e9b34dea",
   "metadata": {},
   "source": [
    "### Reproducción de la gráfica:\n",
    "\n",
    "**Hint**: En la siguiente celda debe agregar un ciclo similar al siguiente:\n",
    "\n",
    "```python\n",
    "for i in range(0,3):\n",
    "    t, y, e = solLogistica(...)\n",
    "    ...\n",
    "    plt.plot(...)\n",
    "```"
   ]
  },
  {
   "cell_type": "code",
   "execution_count": null,
   "id": "1149ac59",
   "metadata": {},
   "outputs": [],
   "source": [
    "fig = plt.figure(figsize=(10,5))\n",
    "fig.suptitle('Función logística', ha = 'right', va='top', x = 0.30, fontsize=16)\n",
    "\n",
    "color =['C0', 'g', 'C4']\n",
    "marca = ['o', 'v', 'P']\n",
    "\n",
    "### BEGIN SOLUTION\n",
    "for i in range(0,3):\n",
    "    t, y, e = solLogistica(λ, y0, Tmax, i)\n",
    "    Parametros = ' $N_t$' + '= {}'.format(Nt[i])\n",
    "    Error = ', Error: {:6.5f}'.format(e)\n",
    "    plt.plot(t, y, '--', c=color[i], marker=marca[i], lw = 1.0, label=Parametros + Error)\n",
    "### END SOLUTION\n",
    "\n",
    "plt.title('$y(t) = \\dfrac{y0}{y0 + (1 -y0)e^{-\\lambda t}}$', fontsize=12, color='blue')\n",
    "plt.xlabel('$t$')\n",
    "plt.ylabel('$y(t)$')\n",
    "\n",
    "# Cálculo de la solución exacta para graficar\n",
    "te = np.linspace(0, Tmax, 100)\n",
    "ye = y0 /(y0 + (1-y0) * np.exp(-λ * te) )\n",
    "plt.plot(te, ye, 'k-', lw=4, alpha=0.5)\n",
    "\n",
    "plt.legend(loc='upper left', ncol=1, framealpha=0.75, fancybox=True, fontsize=14)\n",
    "plt.grid()"
   ]
  },
  {
   "cell_type": "code",
   "execution_count": null,
   "id": "da8d2b1a",
   "metadata": {},
   "outputs": [],
   "source": []
  }
 ],
 "metadata": {
  "kernelspec": {
   "display_name": "Python 3 (ipykernel)",
   "language": "python",
   "name": "python3"
  },
  "language_info": {
   "codemirror_mode": {
    "name": "ipython",
    "version": 3
   },
   "file_extension": ".py",
   "mimetype": "text/x-python",
   "name": "python",
   "nbconvert_exporter": "python",
   "pygments_lexer": "ipython3",
   "version": "3.9.7"
  }
 },
 "nbformat": 4,
 "nbformat_minor": 5
}
