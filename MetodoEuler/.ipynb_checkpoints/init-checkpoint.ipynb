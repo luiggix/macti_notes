{
 "cells": [
  {
   "cell_type": "code",
   "execution_count": 2,
   "id": "c443a7e1-2ddd-416e-ac09-c25d0fe74531",
   "metadata": {},
   "outputs": [
    {
     "name": "stdout",
     "output_type": "stream",
     "text": [
      "['/home/luiggi/GitSites/PruebasMacti/recursos', '/home/luiggi/GitSites/PruebasMacti/recursos', '/home/luiggi/GitSites/PruebasMacti/PresentacionFinal/MetodoEuler', '/home/luiggi/anaconda3/lib/python39.zip', '/home/luiggi/anaconda3/lib/python3.9', '/home/luiggi/anaconda3/lib/python3.9/lib-dynload', '', '/home/luiggi/anaconda3/lib/python3.9/site-packages', '/home/luiggi/anaconda3/lib/python3.9/site-packages/locket-0.2.1-py3.9.egg', '/home/luiggi/anaconda3/lib/python3.9/site-packages/IPython/extensions', '/home/luiggi/.ipython']\n"
     ]
    }
   ],
   "source": [
    "#-----------------------------------------------------------\n",
    "# Ruta biblioteca macti\n",
    "#\n",
    "import os, sys\n",
    "sys.path.insert(0, os.path.abspath('../../recursos'))\n",
    "from macti_lib.evaluacion import Evalua\n",
    "e = Evalua(sys.path[0] + '/datos/MetodoEuler/')\n",
    "#-----------------------------------------------------------"
   ]
  },
  {
   "cell_type": "code",
   "execution_count": null,
   "id": "41ad7284-8c43-4d6d-b63d-21eade3f9a3a",
   "metadata": {},
   "outputs": [],
   "source": []
  }
 ],
 "metadata": {
  "kernelspec": {
   "display_name": "Python 3 (ipykernel)",
   "language": "python",
   "name": "python3"
  },
  "language_info": {
   "codemirror_mode": {
    "name": "ipython",
    "version": 3
   },
   "file_extension": ".py",
   "mimetype": "text/x-python",
   "name": "python",
   "nbconvert_exporter": "python",
   "pygments_lexer": "ipython3",
   "version": "3.9.7"
  }
 },
 "nbformat": 4,
 "nbformat_minor": 5
}
