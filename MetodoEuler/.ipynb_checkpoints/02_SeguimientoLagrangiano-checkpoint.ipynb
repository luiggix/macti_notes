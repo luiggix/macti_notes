{
 "cells": [
  {
   "cell_type": "markdown",
   "id": "fd06721f-3b60-43f9-9339-d7fbcc838a58",
   "metadata": {
    "tags": []
   },
   "source": [
    "# Seguimiento de partículas en un fluido\n",
    "\n",
    "**Objetivo**.\n",
    "\n",
    "Mediante la aplicación del método de Euler, genere una visualización como la que se muestra en el video y responda las preguntas del quiz \"Seguimiento Lagranfiano de partículas\"."
   ]
  },
  {
   "cell_type": "markdown",
   "id": "87cd22c3",
   "metadata": {},
   "source": [
    "**Descripción**.\n",
    "\n",
    "Si soltamos varias partículas en un flujo, dichas partículas seguirán la dirección del movimiento y delinearán varias trayectorias como se oberva en el siguiente video:\n",
    "<video src=\"./Figuras/part_track.mp4\" width=\"500\" controls></video>\n",
    "Si pudieramos definir la velocidad de un fluido y un conjunto inicial de partículas **¿cómo podríamos calcular las trayectorias de las partículas dentro del flujo?**"
   ]
  },
  {
   "cell_type": "markdown",
   "id": "66de1272",
   "metadata": {},
   "source": [
    "**<font color=\"crimson\">Siempre es importante inicializar el ambiente</font>** (ejecute la siguiente celda)"
   ]
  },
  {
   "cell_type": "code",
   "execution_count": null,
   "id": "430a45af",
   "metadata": {},
   "outputs": [],
   "source": [
    "# Inicialización del ambiente\n",
    "%run \"init.ipynb\"\n",
    "\n",
    "# Importamos las bibliotecas\n",
    "import matplotlib.pyplot as plt\n",
    "import numpy as np\n",
    "from time import time\n",
    "from macti_lib.visual import plotFlujo, plotMalla"
   ]
  },
  {
   "cell_type": "markdown",
   "id": "9fa37157-3b66-4215-a990-32e7f0a798df",
   "metadata": {},
   "source": [
    "### Paso 1. Modelo matemático\n",
    "\n",
    "Si definimos $\\vec{X} \\equiv (x, y)$ como la posición de una partícula y $\\vec{V} \\equiv (u, v)$ como su velocidad, podemos escribir un PVI *vectorial en 2D* como sigue:\n",
    "\n",
    "$$\n",
    "\\begin{eqnarray}\n",
    "\\dfrac{d \\vec{X}}{dt} & = & \\vec{V}(t, \\vec{X}) \\qquad \\text{para} \\quad 0 < t < N_t \\\\\n",
    "\\vec{X}(t=0) & = & (x^0, y^0) \\qquad \\text{(condición inicial)}\n",
    "\\end{eqnarray}\n",
    "$$\n",
    "\n",
    "donde $(x, y) \\in [0, Lx] \\times [0, Ly]$ y $\\vec{X}(t=0)$ representa la posición inicial de una partícula."
   ]
  },
  {
   "cell_type": "markdown",
   "id": "d7ff36be-aaab-48c0-bd35-bd535738cab4",
   "metadata": {},
   "source": [
    "El PVI anterior se puede separar por componentes:\n",
    "\n",
    "$$\n",
    "\\begin{array}{ccc|cccc}\n",
    "\\dfrac{d x}{dt} & = & u(t, \\vec{X}) \\qquad & \\qquad \n",
    "\\dfrac{d y}{dt} & = & v(t, \\vec{X}) \\qquad & \\text{para} \\quad 0 < t < N_t \\\\\n",
    "x(t=0) & = & x^0 \\qquad & \\qquad \n",
    "y(t=0) & = & y^0 \\qquad & \\text{(condición inicial)}\n",
    "\\end{array}\n",
    "$$\n",
    "\n",
    "Entonces, para calcular la posición de un partícula, debemos resolver los dos PVI descritos antes. Para ello usaremos el **Metodo de Euler** (hacia adelante)."
   ]
  },
  {
   "cell_type": "markdown",
   "id": "ccb3dd0c-f66a-4455-a2b9-773782309cfc",
   "metadata": {},
   "source": [
    "### Paso 2. Definición del dominio de estudio.\n",
    "\n",
    "Definimos un dominio de tamaño $L_x = 3.0$ y $L_y=1.0$ y una malla de tamaño $N_x=30$ y $N_y=15$."
   ]
  },
  {
   "cell_type": "code",
   "execution_count": null,
   "id": "d531df66-e914-4321-844c-26c228ba1d28",
   "metadata": {},
   "outputs": [],
   "source": [
    "#Tamaño del domuinio\n",
    "ax, bx = (0, 3.0) # Lx\n",
    "ay, by = (0, 1.0) # Ly\n",
    "\n",
    "# Definición de la malla\n",
    "Nx = 30\n",
    "Ny = 15\n",
    "x = np.linspace(ax,bx,Nx+2)\n",
    "y = np.linspace(ay,by,Ny+2)\n",
    "xg, yg = np.meshgrid(x, y, indexing='ij', sparse=False)\n",
    "\n",
    "# Graficación de la malla\n",
    "fig = plt.figure(figsize=(8,4))\n",
    "plotMalla(xg, yg, marker='')"
   ]
  },
  {
   "cell_type": "markdown",
   "id": "f6dca9e5-1d1d-4155-9ec0-a2201864259d",
   "metadata": {},
   "source": [
    "### Paso 3. Definición del flujo.\n",
    "\n",
    "Vamos a usar el siguiente campo de velocidad $\\vec{V}(t, \\vec{X}) = (u, v)$:\n",
    "\n",
    "$$\n",
    "\\begin{eqnarray}\n",
    "u & = & -\\cos(\\alpha \\pi y) \\sin(\\alpha \\pi x) +  \\cos(\\alpha \\pi x)\\\\\n",
    "v & = & \\sin(\\alpha \\pi y) \\cos(\\alpha \\pi x)\n",
    "\\end{eqnarray}\n",
    "$$"
   ]
  },
  {
   "cell_type": "code",
   "execution_count": null,
   "id": "58a1e908-e89f-4fc3-9eeb-8be2c2a3d31b",
   "metadata": {},
   "outputs": [],
   "source": [
    "# Parámetros para el campo de velocidad.\n",
    "α = 1.0\n",
    "u = lambda x, y: -np.cos(α * np.pi * y) * np.sin(α * np.pi * x) + np.cos(α * np.pi * x)\n",
    "v = lambda x, y:  np.sin(α * np.pi * y) * np.cos(α * np.pi * x) \n",
    "\n",
    "# Graficación del flujo\n",
    "fig = plt.figure(figsize=(8,4))\n",
    "plotFlujo(xg, yg, u, v, 'stream', 'Flujo')"
   ]
  },
  {
   "cell_type": "markdown",
   "id": "28c5556a-4643-46a4-adac-79600776cb5c",
   "metadata": {},
   "source": [
    "### Paso 4. Posición inicial de las partículas.\n",
    "\n",
    "Definimos una serie de partículas dentro del flujo."
   ]
  },
  {
   "cell_type": "code",
   "execution_count": null,
   "id": "a5872014-83bc-42da-be90-8b0d842daf4f",
   "metadata": {},
   "outputs": [],
   "source": [
    "# Transformación lineal\n",
    "f = lambda x, a, b: (b-a)*x + a \n",
    "\n",
    "# Número de partículas\n",
    "N = 20\n",
    "\n",
    "# Generación de partículas de manera aleatoria\n",
    "### BEGIN SOLUTION\n",
    "np.random.seed(int(time()))\n",
    "coord = np.random.rand(N,2)\n",
    "coord[:,0] = f(coord[:,0], ax, bx) # Transformación hacia el dominio de estudio\n",
    "coord[:,1] = f(coord[:,1], ay, by) # Transformación hacia el dominio de estudio\n",
    "### END SOLUTION\n",
    "\n",
    "# Graficación de  las partículas y del flujo\n",
    "fig = plt.figure(figsize=(8,4))\n",
    "plt.scatter(coord[:,0],coord[:,1],marker='.',color='navy',s=50, alpha=1.00, zorder=20)\n",
    "\n",
    "plotFlujo(xg, yg, u, v, 'stream', 'Flujo y partículas')"
   ]
  },
  {
   "cell_type": "markdown",
   "id": "da2bda16-9bd2-49e8-a37e-fd47afc16030",
   "metadata": {},
   "source": [
    "### Paso 5. Modelo numérico.\n",
    "\n",
    "Los PVI definidos para calcular las coordenadas de las partículas, se pueden resolver numéricamente usando la **fórmula de Euler hacia adelante** como sigue:\n",
    "\n",
    "$$\n",
    "\\begin{array}{ccl|ccl}\n",
    "x(t=0)  & = & x^0 \\qquad & \\qquad\n",
    "y(t=0)  & = & y^0 \\qquad \\\\\n",
    "x^{n+1} & = & x^{n} + h_t * u (x^{n}, y^{n}) \\qquad & \\qquad \n",
    "y^{n+1} & = & y^{n} + h_t * v (x^{n}, y^{n}) \\\\\n",
    "\\end{array}\n",
    "$$\n",
    "\n",
    "para $n = 1, \\dots, N_t$ y donde $(x^{n+1}, y^{n+1})$ representa la posición de la partícula en el instante $n+1$.\n",
    "\n",
    "En ambos casos se requiere del Método de Euler por lo tanto implementamos una función general para hacer este cálculo como sigue:"
   ]
  },
  {
   "cell_type": "code",
   "execution_count": null,
   "id": "90c1b4c5-6e86-494e-88b5-9215ca526b6b",
   "metadata": {},
   "outputs": [],
   "source": [
    "# Implemente el método de Euler en una función:\n",
    "# def euler(x, v, h)\n",
    "#    ...\n",
    "### BEGIN SOLUTION\n",
    "def euler(x, v, h):\n",
    "    return x + h * v\n",
    "### END SOLUTION"
   ]
  },
  {
   "cell_type": "markdown",
   "id": "8fb53e7d-d03a-437a-9514-3cd1939143cb",
   "metadata": {},
   "source": [
    "### Paso 6. Integración de todo el código.\n",
    "\n",
    "Ahora podemos integrar todo el código realizado hasta ahora para calcular la trayectoria de las partículas.\n",
    "\n",
    "**Hint**: Debe realizar un doble ciclo similar al siguiente:\n",
    "```python\n",
    "# Ciclo temporal para calcular cada posición.\n",
    "for n in range(1,Nt+1):\n",
    "    for i in range(0,N):\n",
    "    ...\n",
    "```"
   ]
  },
  {
   "cell_type": "code",
   "execution_count": null,
   "id": "b9bfbbf9-66da-4bb1-9efc-2d3a7ac9ecba",
   "metadata": {},
   "outputs": [],
   "source": [
    "# Parámetros para el modelo numérico\n",
    "Nt = 50  # Número de pasos en el tiempo\n",
    "ht = 0.1 # Tamaño del paso de tiempo\n",
    "\n",
    "# Arreglos para almacenar las N partículas en Nt pasos de tiempo\n",
    "xn = np.zeros((N,Nt+1))\n",
    "yn = np.zeros((N,Nt+1))\n",
    "\n",
    "# Inicialización\n",
    "for i in range(0,N):\n",
    "    xn[i, 0] = coord[i,0]\n",
    "    yn[i, 0] = coord[i,1]\n",
    "\n",
    "# Implementación del método de euler para ambas coordenadas\n",
    "### BEGIN SOLUTION\n",
    "for n in range(1,Nt+1):\n",
    "    for i in range(0,N):\n",
    "        xi = xn[i,n-1]\n",
    "        yi = yn[i,n-1]\n",
    "        xn[i,n] = euler(xi, u(xi,yi), ht)\n",
    "        yn[i,n] = euler(yi, v(xi,yi), ht)\n",
    "### END SOLUTION\n",
    "\n",
    "fig = plt.figure(figsize=(8,4))\n",
    "\n",
    "for i in range(0,N):\n",
    "    plt.scatter(xn[i,0], yn[i,0], marker = '.', color='navy', s = 50, alpha=0.95, zorder=0)\n",
    "    plt.plot(xn[i,:], yn[i,:], lw=2.0)\n",
    "\n",
    "plotFlujo(xg, yg, u, v, 'stream', '')"
   ]
  },
  {
   "cell_type": "markdown",
   "id": "7519cdf8",
   "metadata": {},
   "source": [
    "### Paso 6. Creación de una animación."
   ]
  },
  {
   "cell_type": "code",
   "execution_count": null,
   "id": "232a94ec-608d-4809-899b-b832f69cc436",
   "metadata": {},
   "outputs": [],
   "source": [
    "# Importamos la biblioteca para realizar la animación\n",
    "from matplotlib.animation import FuncAnimation\n",
    "\n",
    "# Función para actualizar los gráficos.\n",
    "def update_lines(t, lines, x, y):\n",
    "    for i,line in enumerate(lines):\n",
    "        line[0].set_data(x[i,0:t], y[i,0:t])\n",
    "\n",
    "# Inicialización del primer cuadro de la animación\n",
    "fig = plt.figure(figsize=(8,4))\n",
    "#plt.plot(xn[:,0], yn[:,0], '.', lw = 2.0, zorder=20)\n",
    "plt.scatter(xn[:,0], yn[:,0], marker = '.', color='navy', s = 50, alpha=0.95, zorder=0)\n",
    "lines = [plt.plot(xn[i,0], yn[i,0], lw=2.0) for i in range(N)]\n",
    "\n",
    "# Creación del objeto de animación\n",
    "line_ani = FuncAnimation(plt.gcf(),     # Obtiene la figura actual\n",
    "                         update_lines,  # Función que actualiza la figura.\n",
    "                         Nt,            # Número de pasos en el tiempo.\n",
    "                         fargs=(lines, xn, yn), # Argumentos para update_lines().\n",
    "                         interval=2000,  # Tiempo en milisegundos.\n",
    "                         repeat=False)  # Repetición de la animación en ciclo.\n",
    "plotFlujo(xg, yg, u, v, 'stream')"
   ]
  },
  {
   "cell_type": "markdown",
   "id": "61149212",
   "metadata": {},
   "source": [
    "Para crear un video en formato MP4, implemente el siguiente código:\n",
    "\n",
    "```python\n",
    "# Guardamos la animación en un video en formato MP4\n",
    "# ESTO PUEDE TARDAR UN POCO\n",
    "from matplotlib.animation import writers\n",
    "Writer = writers['ffmpeg']\n",
    "writer = Writer(fps=30, metadata=dict(artist='Me'), bitrate=1800)\n",
    "line_ani.save('part_track.mp4', writer=writer)\n",
    "```"
   ]
  },
  {
   "cell_type": "code",
   "execution_count": null,
   "id": "37aa6236-cb08-4249-a06f-da5a2f7c5538",
   "metadata": {},
   "outputs": [],
   "source": [
    "# Guardamos la animación en un video en formato MP4\n",
    "# ESTO PUEDE TARDAR UN POCO\n",
    "### BEGIN SOLUTION\n",
    "from matplotlib.animation import writers\n",
    "Writer = writers['ffmpeg']\n",
    "writer = Writer(fps=30, metadata=dict(artist='Me'), bitrate=-1)\n",
    "line_ani.save('part_track.mp4', writer=writer)\n",
    "### END SOLUTION"
   ]
  },
  {
   "cell_type": "code",
   "execution_count": null,
   "id": "bdc9797d-50ca-452b-a6ec-5763d1b6d3d1",
   "metadata": {},
   "outputs": [],
   "source": [
    "# Mostramos el video de la animación final:\n",
    "from IPython.display import Video\n",
    "Video('part_track.mp4', height=300)#, width=500)"
   ]
  },
  {
   "cell_type": "markdown",
   "id": "e333d2e3",
   "metadata": {},
   "source": [
    "<a name='ej-1'></a>\n",
    "#### **<font color=\"SlateBlue\">Ejercicio 1.</font>**\n",
    "\n",
    "- <font color=\"Navy\">Modifique el número de partículas hasta obtener un resultado similar al del video inicial.</font>\n",
    "- <font color=\"Navy\">Modifique el paso de tiempo $h_t$ hasta que las trayectorias se vean suaves y ya no cambien mucho con una disminución posterior de este parámetro.</font>\n",
    "- <font color=\"Navy\">Sustituya el campo de flujo por el siguiente y realice todo el proceso:</font>\n",
    "```python\n",
    "u = lambda x,y : 1*((-1/2 + 5*x**4) - 2*x*(1-x/2+x**5+y**3)) * np.exp(-x**2-y**2)\n",
    "v = lambda x,y : (3*y**2 - 2*x*(1-x/2+x**5+y**3)) * np.exp(-x**2-y**2)\n",
    "```\n",
    "\n",
    "Para este caso el dominio será $(ax, bx) = (-3.0, 3.0)$ y $(ay, by) = (-3.0, 3.0)$. La malla tendrá un tamaño de $Nx, Ny = 30, 30$. Ud. deberá obtener algo similar a lo que se muestra en la siguiente figura:\n",
    "\n",
    " <table>\n",
    "  <tr>\n",
    "    <td><img src=\"./Figuras/flujo_y_part.png\"  width='400px'/></td>\n",
    "    <td><img src=\"./Figuras/flujo_y_tray.png\"  width='400px'/></td>\n",
    "  </tr>\n",
    "</table> "
   ]
  }
 ],
 "metadata": {
  "kernelspec": {
   "display_name": "Python 3 (ipykernel)",
   "language": "python",
   "name": "python3"
  },
  "language_info": {
   "codemirror_mode": {
    "name": "ipython",
    "version": 3
   },
   "file_extension": ".py",
   "mimetype": "text/x-python",
   "name": "python",
   "nbconvert_exporter": "python",
   "pygments_lexer": "ipython3",
   "version": "3.9.7"
  }
 },
 "nbformat": 4,
 "nbformat_minor": 5
}
