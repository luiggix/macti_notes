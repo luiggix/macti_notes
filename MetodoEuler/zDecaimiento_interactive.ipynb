{
 "cells": [
  {
   "cell_type": "code",
   "execution_count": null,
   "id": "bc75128a-8e51-4662-8d6a-fb716347c594",
   "metadata": {},
   "outputs": [],
   "source": [
    "%run \"./init.ipynb\""
   ]
  },
  {
   "cell_type": "code",
   "execution_count": null,
   "id": "16d43e26-8d76-4c30-989e-55151a639a1b",
   "metadata": {},
   "outputs": [],
   "source": [
    "from ipywidgets import widgets\n",
    "from macti_lib.MetodoEuler.euler import decaimiento"
   ]
  },
  {
   "cell_type": "code",
   "execution_count": null,
   "id": "3acc7595-5b04-4b0a-9e42-c5a747643b86",
   "metadata": {},
   "outputs": [],
   "source": [
    "w = widgets.interact(decaimiento, \n",
    "                     l = widgets.FloatSlider(min = 1.0, max = 3.0, value=1.5, description=chr(955)), \n",
    "                     a = widgets.fixed(0.0), b = widgets.fixed(10.0), \n",
    "                     y0 = widgets.fixed(20.0),\n",
    "                     Nt = widgets.IntSlider(min = 5, max = 50, value=10))\n",
    "display(w)"
   ]
  },
  {
   "cell_type": "code",
   "execution_count": null,
   "id": "7888b07b-d176-4a7d-802c-9db5cf1c3e9b",
   "metadata": {},
   "outputs": [],
   "source": []
  }
 ],
 "metadata": {
  "kernelspec": {
   "display_name": "Python 3 (ipykernel)",
   "language": "python",
   "name": "python3"
  },
  "language_info": {
   "codemirror_mode": {
    "name": "ipython",
    "version": 3
   },
   "file_extension": ".py",
   "mimetype": "text/x-python",
   "name": "python",
   "nbconvert_exporter": "python",
   "pygments_lexer": "ipython3",
   "version": "3.9.7"
  }
 },
 "nbformat": 4,
 "nbformat_minor": 5
}
