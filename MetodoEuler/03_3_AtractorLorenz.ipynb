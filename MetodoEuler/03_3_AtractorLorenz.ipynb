{
 "cells": [
  {
   "cell_type": "markdown",
   "id": "b6747f2b-8289-45a0-84c5-757ff6a0be2f",
   "metadata": {},
   "source": [
    "# Atractor de Lorenz\n",
    "\n",
    "Resolver numéricamente las ecuaciones de Lorenz y dibujar las trayectorias en el espacio fase $x − y − z$ para $N$ posiciones iniciales elegidas aletoriamente como se muestra en la siguiente figura y video: \n",
    "\n",
    "<table style=\"width:100%\">\n",
    "  <tr>\n",
    "     <td style=\"text-align:center\"><img src=\"./Figuras/lorenz.png\"  width='300px' style=\"float: left\"/></td>\n",
    "    <td style=\"text-align:center\"><video src=\"./Figuras/lorenz.mp4\" width=\"320\" controls></video></td>\n",
    "  </tr>\n",
    "</table>\n",
    "\n",
    "\n",
    "El atractor de Lorenz está definido por las siguientes ecuaciones:\n",
    "\n",
    "$$\n",
    "\\dfrac{dx}{dt} = \\sigma(y − x),\\qquad\n",
    "$$\n",
    "$$\n",
    "\\dfrac{dy}{dt} = x(\\rho − z) − y,\\qquad\n",
    "$$\n",
    "$$\n",
    "\\dfrac{dz}{dt} = xy − \\beta z\n",
    "$$\n",
    "para $\\sigma = 10$, $\\beta = 8/3$, $\\rho = 28$."
   ]
  },
  {
   "cell_type": "code",
   "execution_count": null,
   "id": "c23dd23a-4f0d-48ad-90d8-20fde9f07fc5",
   "metadata": {},
   "outputs": [],
   "source": []
  }
 ],
 "metadata": {
  "kernelspec": {
   "display_name": "Python 3 (ipykernel)",
   "language": "python",
   "name": "python3"
  },
  "language_info": {
   "codemirror_mode": {
    "name": "ipython",
    "version": 3
   },
   "file_extension": ".py",
   "mimetype": "text/x-python",
   "name": "python",
   "nbconvert_exporter": "python",
   "pygments_lexer": "ipython3",
   "version": "3.9.7"
  }
 },
 "nbformat": 4,
 "nbformat_minor": 5
}
