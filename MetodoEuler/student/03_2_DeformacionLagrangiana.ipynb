{
 "cells": [
  {
   "cell_type": "markdown",
   "id": "1aa55924",
   "metadata": {
    "deletable": false,
    "editable": false,
    "nbgrader": {
     "cell_type": "markdown",
     "checksum": "c1a7d9072dce4f8e61b5e01a9cd3b676",
     "grade": false,
     "grade_id": "cell-8e9b50c676853dd8",
     "locked": true,
     "schema_version": 3,
     "solution": false,
     "task": false
    }
   },
   "source": [
    "# Deformación Lagrangiana\n",
    "\n",
    "**Objetivo general.**\n",
    "\n",
    "Implementar un algoritmo que realice el seguimiento de formas geométricas dentro de un flujo.\n",
    "\n",
    "**Objetivos particulares**\n",
    "- Definir un fujo dentro de un cuadrado unitario.\n",
    "- Dibujar un conjunto de círculos iniciales.\n",
    "- Darles seguimientos a los círculos usando el método de Euler.\n",
    "\n",
    "## Contenido\n",
    "- [1. Descripción.](#1)\n",
    "- [Ejercicio 1.](#ej-1)\n",
    "    - [Lista de cotejo](#ej-1-lista)\n",
    "- [Solución](#2)\n",
    "    - [Definición de los parámetros del problema.](#2-1)\n",
    "    - [Definición del campo vectorial.](#2-2)\n",
    "    - [Definición de los círculos iniciales.](#2-3)\n",
    "    - [Diseño de un algoritmo para el seguimiento de los círculos.](#2-4)\n",
    "    - [Implementación del algoritmo de solución.](#2-5)\n",
    "    - [Generar un video en formato MP4 del movimiento generado.](#2-6)\n"
   ]
  },
  {
   "cell_type": "markdown",
   "id": "5a528191",
   "metadata": {
    "deletable": false,
    "editable": false,
    "nbgrader": {
     "cell_type": "markdown",
     "checksum": "edd75a10dfb39373d7c3121667a7f24d",
     "grade": false,
     "grade_id": "cell-7e8b2d789c0ccfdb",
     "locked": true,
     "schema_version": 3,
     "solution": false,
     "task": false
    }
   },
   "source": [
    "<a name=\"1\"></a>\n",
    "## Descripción.\n",
    "Observe el siguiente video.\n",
    "\n",
    "<table style=\"width:100%\">\n",
    "  <tr>\n",
    "    <td style=\"text-align:center\"><video src=\"../utils/figs/circle_track.mp4\" width=\"320\" controls></video></td>\n",
    "    <td>Cada círculo está conformado por puntos. Estos puntos se mueven siguiendo el movimiento del campo vectorial mostrado con las flechas grises (el flujo). En cada paso de tiempo, los puntos que inicialmente formaban un círculo,  delinean figuras caprichosas. </td>\n",
    "  </tr>\n",
    "</table> \n",
    "\n",
    "Usando los mismos conceptos descritos en el cuaderno <a href=\"01_0_MetodoEuler.ipynb\">01_0_MetodoEuler.ipynb</a>, es posible definir secciones del fluido y observar como estas secciones se deforman mientras fluyen, simulando por ejemplo, gotas de tinta. "
   ]
  },
  {
   "cell_type": "markdown",
   "id": "db47a832-7b53-4193-90ec-57e5541d9185",
   "metadata": {
    "deletable": false,
    "editable": false,
    "nbgrader": {
     "cell_type": "markdown",
     "checksum": "8728ee8ed31ab2e80d09ef5399ef69b7",
     "grade": false,
     "grade_id": "cell-332d5c4a7e8290fb",
     "locked": true,
     "schema_version": 3,
     "solution": false,
     "task": false
    }
   },
   "source": [
    "<a name='ej-1'></a>\n",
    "## **<font color=\"DodgerBlue\">Ejercicio 1. Deformación de círculos.</font>**\n",
    "\n",
    "En este ejercicio se simulará la deformación de varios círculos inmersos en un fluido. Usaremos el campo de velocidad definido por las siguientes ecuaciones:\n",
    "\n",
    "$$\n",
    "\\begin{eqnarray}\n",
    "u & = & -A \\cos(\\alpha \\pi y) \\sin(\\alpha \\pi x) \\\\\n",
    "v & = & A \\sin(\\alpha \\pi y) \\cos(\\alpha \\pi x)\n",
    "\\end{eqnarray}\n",
    "$$\n",
    "\n",
    " para $(x, y) \\in [0, 1] \\times [0, 1]$.\n",
    " \n",
    "Utilice el pensamiento computacional para diseñar un algoritmo que permita realizar el seguimiento de los $9$ círculos iniciales, los cuales se encuentran dentro de un cuadrado unitario distribuidos como muestra en la siguiente figura y replique el movimiento presentado en el video anterior.\n",
    "\n",
    "<center>\n",
    "<img src=\"../utils/figs/circles_init.png\"  width='300px'/>\n",
    "</center>\n",
    "\n",
    "---"
   ]
  },
  {
   "cell_type": "markdown",
   "id": "478152aa-144c-4f16-abc6-4c6ceebc06ba",
   "metadata": {
    "deletable": false,
    "editable": false,
    "nbgrader": {
     "cell_type": "markdown",
     "checksum": "60019e8bfebf40b661fa643b3d03a4a1",
     "grade": false,
     "grade_id": "cell-2d76f53fa62fa578",
     "locked": true,
     "schema_version": 3,
     "solution": false,
     "task": false
    }
   },
   "source": [
    "<a name=\"ej-1-lista\"></a>\n",
    "### Lista de cotejo.\n",
    "\n",
    "1. Definición de los parámetros del problema.\n",
    "2. Definición del campo vectorial.\n",
    "3. Definición de los círculos iniciales.\n",
    "4. Diseño de un algoritmo para el seguimiento de los círculos.\n",
    "5. Implementación del algoritmo de solución.\n",
    "6. Generar un video en formato MP4 del movimiento generado."
   ]
  },
  {
   "cell_type": "code",
   "execution_count": null,
   "id": "2fe73807-5884-4ea9-bedc-5897c0c6fb8d",
   "metadata": {
    "deletable": false,
    "editable": false,
    "nbgrader": {
     "cell_type": "code",
     "checksum": "4df08e5ad385501b4d081cb4588b1273",
     "grade": false,
     "grade_id": "cell-a46c3318d268cc84",
     "locked": true,
     "schema_version": 3,
     "solution": false,
     "task": false
    }
   },
   "outputs": [],
   "source": [
    "# Importamos las bibliotecas necesarias\n",
    "import matplotlib.pyplot as plt\n",
    "import numpy as np\n",
    "from macti.visual import plotFlujo, plotMalla"
   ]
  },
  {
   "cell_type": "markdown",
   "id": "3b79ba2c",
   "metadata": {
    "deletable": false,
    "editable": false,
    "nbgrader": {
     "cell_type": "markdown",
     "checksum": "9a1fdd49c111e9d813aa8fa2f2cd6083",
     "grade": false,
     "grade_id": "cell-3f392a685e858888",
     "locked": true,
     "schema_version": 3,
     "solution": false,
     "task": false
    }
   },
   "source": [
    "<a name=\"2-1\"></a>\n",
    "### Definición de parámetros \n",
    "\n",
    "Defina $N_C=9$ número de círculos, $N$ Número de partículas en cada círculo, $N_t$ número de pasos en el tiempo, $h_t = 0.1$. "
   ]
  },
  {
   "cell_type": "code",
   "execution_count": null,
   "id": "45910753",
   "metadata": {
    "deletable": false,
    "nbgrader": {
     "cell_type": "code",
     "checksum": "3f218643bdcf7866d01aeefced3ccb1d",
     "grade": false,
     "grade_id": "cell-e2b9b357487b9a8e",
     "locked": false,
     "schema_version": 3,
     "solution": true,
     "task": false
    }
   },
   "outputs": [],
   "source": [
    "# Datos del problema\n",
    "#NC = ...\n",
    "#N = ...\n",
    "#Nt = ...\n",
    "#ht = ...\n",
    "\n",
    "# YOUR CODE HERE\n",
    "raise NotImplementedError()"
   ]
  },
  {
   "cell_type": "code",
   "execution_count": null,
   "id": "8d1e6d6d",
   "metadata": {
    "deletable": false,
    "editable": false,
    "nbgrader": {
     "cell_type": "code",
     "checksum": "8cd32be1837131cab44c94c9175993bb",
     "grade": false,
     "grade_id": "cell-0df11db5947612ac",
     "locked": true,
     "schema_version": 3,
     "solution": false,
     "task": false
    }
   },
   "outputs": [],
   "source": [
    "#Tamaño del dominio\n",
    "ax, bx = (0, 1.0) # Lx\n",
    "ay, by = (0, 1.0) # Ly\n",
    "\n",
    "# Definición de la malla\n",
    "Nx = 15\n",
    "Ny = 15\n",
    "x = np.linspace(ax,bx,Nx+2)\n",
    "y = np.linspace(ay,by,Ny+2)\n",
    "xg, yg = np.meshgrid(x, y, indexing='ij', sparse=False)\n",
    "\n",
    "# Graficación de la malla\n",
    "fig = plt.figure(figsize=(8,4))\n",
    "plotMalla(xg, yg, marker='')"
   ]
  },
  {
   "cell_type": "markdown",
   "id": "3fcbd8f2-fbc1-4de0-8f46-62f13e2c0d24",
   "metadata": {
    "deletable": false,
    "editable": false,
    "nbgrader": {
     "cell_type": "markdown",
     "checksum": "44d489bfbf5ff0aecd106b272700c641",
     "grade": false,
     "grade_id": "cell-031670a2635026d1",
     "locked": true,
     "schema_version": 3,
     "solution": false,
     "task": false
    }
   },
   "source": [
    "<a name=\"2-2\"></a>\n",
    "### Definición  del campo vectorial.\n",
    "\n",
    "$$\n",
    "\\begin{eqnarray}\n",
    "u & = & -A \\cos(\\alpha \\pi y) \\sin(\\alpha \\pi x) \\\\\n",
    "v & = & A \\sin(\\alpha \\pi y) \\cos(\\alpha \\pi x)\n",
    "\\end{eqnarray}\n",
    "$$"
   ]
  },
  {
   "cell_type": "code",
   "execution_count": null,
   "id": "ee357502-5a37-490b-b3b3-7da6e5f12785",
   "metadata": {
    "deletable": false,
    "nbgrader": {
     "cell_type": "code",
     "checksum": "eaf2bd3c106e5e4e781d069f7b1f70bc",
     "grade": false,
     "grade_id": "cell-ed537484c9e22413",
     "locked": false,
     "schema_version": 3,
     "solution": true,
     "task": false
    }
   },
   "outputs": [],
   "source": [
    "# Cálculo del campo vectorial.\n",
    "#A = ...\n",
    "#α = ...\n",
    "#u = lambda x, y: ...\n",
    "#v = lambda x, y:  ...\n",
    "\n",
    "# YOUR CODE HERE\n",
    "raise NotImplementedError()"
   ]
  },
  {
   "cell_type": "code",
   "execution_count": null,
   "id": "aa04f96d-b1d1-4ccf-b16d-de354c1eb849",
   "metadata": {
    "deletable": false,
    "editable": false,
    "nbgrader": {
     "cell_type": "code",
     "checksum": "c6f339ca4df8121437b533fb7c420d85",
     "grade": false,
     "grade_id": "cell-4be4fb6a64c75451",
     "locked": true,
     "schema_version": 3,
     "solution": false,
     "task": false
    }
   },
   "outputs": [],
   "source": [
    "# Verifique que funciona\n",
    "plotFlujo(xg, yg, u, v, 'quiver', 'Vórtice')"
   ]
  },
  {
   "cell_type": "markdown",
   "id": "5cc8849b-6906-4a6a-be19-644fc9fa06e6",
   "metadata": {
    "deletable": false,
    "editable": false,
    "nbgrader": {
     "cell_type": "markdown",
     "checksum": "b65bd41cbd7fb8cf62f1dddcfee3eaa9",
     "grade": false,
     "grade_id": "cell-ca1caafd4974e18b",
     "locked": true,
     "schema_version": 3,
     "solution": false,
     "task": false
    }
   },
   "source": [
    "<a name=\"2-3\"></a>\n",
    "### Definición de los círculos iniciales.\n",
    "\n",
    "Se necesitan arreglos de tres índice, el primero para el número de puntos ($N$), el segundo para el número de círculos ($N_C$) y el tercero para los pasos de tiempo ($N_t$).\n",
    "\n",
    "Para cada círculo necesita definir su centro y su radio.\n",
    "\n",
    "Debe guardar todas las coordenadas en los arreglos `xn[i,c,0]` y `yn[i,c,0]` que serán las condicioens iniciales.\n",
    "\n",
    "Haga una gráfica para ver que todo salió correctamente"
   ]
  },
  {
   "cell_type": "code",
   "execution_count": null,
   "id": "69d92471-7970-4f92-9fe3-abcffe0d5038",
   "metadata": {
    "deletable": false,
    "nbgrader": {
     "cell_type": "code",
     "checksum": "943024b5d43e3d483381d77b739af4ea",
     "grade": false,
     "grade_id": "cell-b1b56546ba542b86",
     "locked": false,
     "schema_version": 3,
     "solution": true,
     "task": false
    }
   },
   "outputs": [],
   "source": [
    "# Definición de los arreglos que contienen las coordenadas de los círculos\n",
    "#xn = np.zeros(...)\n",
    "#yn = np.zeros(...)\n",
    "\n",
    "#Definición de los radios y los centros de los círculos.\n",
    "#r = ... \n",
    "#center = ...\n",
    "\n",
    "# Cálculo de las coordenadas de cada círculo.\n",
    "        \n",
    "# YOUR CODE HERE\n",
    "raise NotImplementedError()"
   ]
  },
  {
   "cell_type": "markdown",
   "id": "98957071",
   "metadata": {
    "deletable": false,
    "editable": false,
    "nbgrader": {
     "cell_type": "markdown",
     "checksum": "b0f6fd8c033ebd394eeefe17476b4012",
     "grade": false,
     "grade_id": "cell-2f1caf53ffe7e184",
     "locked": true,
     "schema_version": 3,
     "solution": false,
     "task": false
    }
   },
   "source": [
    "Si todo funciona correctamente, al ejecutar la siguiente celda debera obtener la gráfica del campo vectorial y de los círculos."
   ]
  },
  {
   "cell_type": "code",
   "execution_count": null,
   "id": "954db1c7",
   "metadata": {
    "deletable": false,
    "editable": false,
    "nbgrader": {
     "cell_type": "code",
     "checksum": "01e64e1f1093d0bc8ceb22fe1e87c236",
     "grade": false,
     "grade_id": "cell-9b4124d383699401",
     "locked": true,
     "schema_version": 3,
     "solution": false,
     "task": false
    }
   },
   "outputs": [],
   "source": [
    "# Si todo salió bien, el siguiente \n",
    "plotFlujo(xg, yg, u, v, 'quiver', 'Vórtice')\n",
    "[plt.plot(xn[:, c, 0], yn[:, c, 0]) for c in range(0,NC)]\n",
    "plt.savefig('circles_init.png')\n",
    "plt.show()"
   ]
  },
  {
   "cell_type": "markdown",
   "id": "88c2e75c-39d7-49df-9c87-9edd32506ff2",
   "metadata": {
    "deletable": false,
    "editable": false,
    "nbgrader": {
     "cell_type": "markdown",
     "checksum": "a589b7cd19ff4b1c8b57ee1c666a73f0",
     "grade": false,
     "grade_id": "cell-be7ac4cad64b1e3e",
     "locked": true,
     "schema_version": 3,
     "solution": false,
     "task": false
    }
   },
   "source": [
    "<a name=\"2-4\"></a>\n",
    "### Diseño de un algoritmo para el seguimiento de los círculos.\n",
    "\n",
    "Diseñe un algoritmo, tómele una foto o screenshot, use el nombre `algoritmo.png` y ponga esa imagen en el directorio `utils/figs`."
   ]
  },
  {
   "cell_type": "markdown",
   "id": "0d9c0d85",
   "metadata": {
    "deletable": false,
    "nbgrader": {
     "cell_type": "markdown",
     "checksum": "db951f9c4db35c46860eef454d94ccd6",
     "grade": true,
     "grade_id": "cell-cedb845e516aebcd",
     "locked": false,
     "points": 0,
     "schema_version": 3,
     "solution": true,
     "task": false
    }
   },
   "source": [
    "YOUR ANSWER HERE"
   ]
  },
  {
   "cell_type": "markdown",
   "id": "0b88b7d4",
   "metadata": {
    "deletable": false,
    "editable": false,
    "nbgrader": {
     "cell_type": "markdown",
     "checksum": "7daf14318ce6b8f0489664948e4f1111",
     "grade": false,
     "grade_id": "cell-3107024dd351a7f7",
     "locked": true,
     "schema_version": 3,
     "solution": false,
     "task": false
    }
   },
   "source": [
    "<a name=\"2-5\"></a>\n",
    "### Implementación del algoritmo de solución.\n",
    "\n",
    "Primero defina la función que implementa el método de Euler hacia adelante."
   ]
  },
  {
   "cell_type": "code",
   "execution_count": null,
   "id": "bfa1e20f-4278-4dd1-8ca9-0435704a9189",
   "metadata": {
    "deletable": false,
    "nbgrader": {
     "cell_type": "code",
     "checksum": "d5e706873dceeb9810ca5baf9fb2e683",
     "grade": false,
     "grade_id": "cell-a1e4b2e69b3ec287",
     "locked": false,
     "schema_version": 3,
     "solution": true,
     "task": false
    }
   },
   "outputs": [],
   "source": [
    "def euler(x, v, h):\n",
    "    # YOUR CODE HERE\n",
    "    raise NotImplementedError()"
   ]
  },
  {
   "cell_type": "markdown",
   "id": "26626cdc",
   "metadata": {
    "deletable": false,
    "editable": false,
    "nbgrader": {
     "cell_type": "markdown",
     "checksum": "79d14b34826af70a0445c66e0659b618",
     "grade": false,
     "grade_id": "cell-0b09fb6134544f78",
     "locked": true,
     "schema_version": 3,
     "solution": false,
     "task": false
    }
   },
   "source": [
    "Implemente el código para el cálculo del seguimiento de los círculos."
   ]
  },
  {
   "cell_type": "code",
   "execution_count": null,
   "id": "d02e4655-c2c7-497a-b9d8-929b2820ac2b",
   "metadata": {
    "deletable": false,
    "nbgrader": {
     "cell_type": "code",
     "checksum": "f99c6f1b7fd4ba62d47b320063b13dd5",
     "grade": false,
     "grade_id": "cell-805a255b1fdf3755",
     "locked": false,
     "schema_version": 3,
     "solution": true,
     "task": false
    }
   },
   "outputs": [],
   "source": [
    "# El algoritmo debería contener tres ciclos:\n",
    "## 1 para el tiempo\n",
    "## 2 para el círculo a seguir\n",
    "## 3 para aplicar Euler a las coordenadas de cada círculo\n",
    "\n",
    "# YOUR CODE HERE\n",
    "raise NotImplementedError()"
   ]
  },
  {
   "cell_type": "markdown",
   "id": "22c3c8fc",
   "metadata": {
    "deletable": false,
    "editable": false,
    "nbgrader": {
     "cell_type": "markdown",
     "checksum": "f790469676d11cae90f3120b367806bf",
     "grade": false,
     "grade_id": "cell-abe2a62cc9e21224",
     "locked": true,
     "schema_version": 3,
     "solution": false,
     "task": false
    }
   },
   "source": [
    "Si todo funciona correctamente, al ejecutar la siguiente celda debera obtener la gráfica del campo vectorial y de los círculos deformados."
   ]
  },
  {
   "cell_type": "code",
   "execution_count": null,
   "id": "a1f43c68",
   "metadata": {
    "deletable": false,
    "editable": false,
    "nbgrader": {
     "cell_type": "code",
     "checksum": "a057e55c0d4e501afd323f830bd19afb",
     "grade": false,
     "grade_id": "cell-de92e4f479b7428f",
     "locked": true,
     "schema_version": 3,
     "solution": false,
     "task": false
    }
   },
   "outputs": [],
   "source": [
    "plotFlujo(xg, yg, u, v, 'quiver', 'Vórtice')\n",
    "for t in range(Nt-1,Nt):\n",
    "    [plt.plot(xn[:, c, t], yn[:, c, t]) for c in range(0,NC)]"
   ]
  },
  {
   "cell_type": "markdown",
   "id": "a16efcc1-8f2c-4464-af87-30697f9f67d5",
   "metadata": {
    "deletable": false,
    "editable": false,
    "nbgrader": {
     "cell_type": "markdown",
     "checksum": "825adbc1834801744659b973d9717b09",
     "grade": false,
     "grade_id": "cell-a273d7f8f53bf0cd",
     "locked": true,
     "schema_version": 3,
     "solution": false,
     "task": false
    }
   },
   "source": [
    "<a name=\"2-6\"></a>\n",
    "### Generar un video en formato MP4 del movimiento generado.\n",
    "\n",
    "La siguiente función crea el objeto de la animación `circle_ani`"
   ]
  },
  {
   "cell_type": "code",
   "execution_count": null,
   "id": "08b1e48a-9121-43d0-8682-b59203d49ac3",
   "metadata": {
    "deletable": false,
    "editable": false,
    "nbgrader": {
     "cell_type": "code",
     "checksum": "eed850733b4138c3090a58bc3c2c3f1e",
     "grade": false,
     "grade_id": "cell-ab9859529cc56eac",
     "locked": true,
     "schema_version": 3,
     "solution": false,
     "task": false
    }
   },
   "outputs": [],
   "source": [
    "#\n",
    "# Función para la actualización de los círculos\n",
    "#\n",
    "def update_circles(t, circles, x, y):\n",
    "    for c, circle in enumerate(circles):\n",
    "        circle[0].set_data(x[:,c,t], y[:,c,t])\n",
    "\n",
    "plotFlujo(xg, yg, u, v, 'quiver', 'Vórtice')\n",
    "\n",
    "circles = [plt.plot(xn[:, c, 0], yn[:, c, 0], '-') for c in range(0,NC)]\n",
    "\n",
    "from matplotlib.animation import FuncAnimation\n",
    "# Creación del objeto de animación\n",
    "circle_ani = FuncAnimation(plt.gcf(),\n",
    "                         update_circles,\n",
    "                         Nt,\n",
    "                         fargs=(circles, xn, yn),\n",
    "                         interval=100,\n",
    "                         repeat=False)"
   ]
  },
  {
   "cell_type": "markdown",
   "id": "242f1ec5",
   "metadata": {
    "deletable": false,
    "editable": false,
    "nbgrader": {
     "cell_type": "markdown",
     "checksum": "0105b0c545126f2dd623255b7e9f777e",
     "grade": false,
     "grade_id": "cell-4a5c8deb6cc4b3b6",
     "locked": true,
     "schema_version": 3,
     "solution": false,
     "task": false
    }
   },
   "source": [
    "Guarde la animación en formato MP4. como se explicó en la notebook de la clase <a href=\"02_SeguimientoLagrangiano.ipynb\">02_SeguimientoLagrangiano.ipynb</a>"
   ]
  },
  {
   "cell_type": "code",
   "execution_count": null,
   "id": "c192a24c-5c9e-488d-ad8d-517a33a43ea3",
   "metadata": {
    "deletable": false,
    "nbgrader": {
     "cell_type": "code",
     "checksum": "2064d17403ef54f89fb7976f268aa7a2",
     "grade": false,
     "grade_id": "cell-7340e85114ff2d91",
     "locked": false,
     "schema_version": 3,
     "solution": true,
     "task": false
    }
   },
   "outputs": [],
   "source": [
    "# Agregue el código para guardar la animación en formato MP4\n",
    "# YOUR CODE HERE\n",
    "raise NotImplementedError()"
   ]
  },
  {
   "cell_type": "code",
   "execution_count": null,
   "id": "57cfb196-f0c6-43a7-9929-7511bc42eebd",
   "metadata": {
    "deletable": false,
    "nbgrader": {
     "cell_type": "code",
     "checksum": "756c90f93b12adcb15e0335fabce38e1",
     "grade": false,
     "grade_id": "cell-78a451f92bd4dd02",
     "locked": false,
     "schema_version": 3,
     "solution": true,
     "task": false
    }
   },
   "outputs": [],
   "source": [
    "# Agregue el código para visualizar la animación\n",
    "\n",
    "# YOUR CODE HERE\n",
    "raise NotImplementedError()"
   ]
  }
 ],
 "metadata": {
  "kernelspec": {
   "display_name": "Python 3 (ipykernel)",
   "language": "python",
   "name": "python3"
  },
  "language_info": {
   "codemirror_mode": {
    "name": "ipython",
    "version": 3
   },
   "file_extension": ".py",
   "mimetype": "text/x-python",
   "name": "python",
   "nbconvert_exporter": "python",
   "pygments_lexer": "ipython3",
   "version": "3.9.7"
  }
 },
 "nbformat": 4,
 "nbformat_minor": 5
}
