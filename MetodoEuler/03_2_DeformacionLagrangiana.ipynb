{
 "cells": [
  {
   "cell_type": "markdown",
   "id": "1aa55924",
   "metadata": {},
   "source": [
    "# Deformación Lagrangiana\n",
    "\n",
    "Observe el siguiente video.\n",
    "\n",
    "<table style=\"width:100%\">\n",
    "  <tr>\n",
    "    <td style=\"text-align:center\"><video src=\"./Figuras/circle_track.mp4\" width=\"320\" controls></video></td>\n",
    "    <td>Cada círculo está conformado por puntos. Estos puntos se mueven siguiendo el movimiento del campo vectorial mostrado con las flechas grises (el flujo). En cada paso de tiempo los puntos, que inicialmente formaban un círculo, ahora delinean figuras caprichosas. </td>\n",
    "  </tr>\n",
    "</table> "
   ]
  },
  {
   "cell_type": "markdown",
   "id": "db47a832-7b53-4193-90ec-57e5541d9185",
   "metadata": {},
   "source": [
    "**Objetivo.**\n",
    "\n",
    "Usando los mismos conceptos descritos en el cuaderno <a href=\"01_0_MetodoEuler.ipynb\">01_0_MetodoEuler.ipynb</a>, es posible definir secciones del fluido y observar como se deforman mientras fluyen, simulando por ejemplo, gotas de tinta. En este ejercicio se simulará la deformación de varios círculos inmersos en un fluido. Usaremos el campo de velocidad definido por las siguientes ecuaciones:\n",
    "\n",
    "$$\n",
    "\\begin{eqnarray}\n",
    "u & = & -A \\cos(\\alpha \\pi y) \\sin(\\alpha \\pi x) \\\\\n",
    "v & = & A \\sin(\\alpha \\pi y) \\cos(\\alpha \\pi x)\n",
    "\\end{eqnarray}\n",
    "$$\n",
    "\n",
    " para $(x, y) \\in [0, 1] \\times [0, 1]$.\n",
    " \n",
    "Utilice el pensamiento computacional para realizar el seguimiento de los $9$ círculos que se muestran en la siguiente figura y replique el movimiento presentado en el video anterior.\n",
    "\n",
    "<center>\n",
    "<img src=\"./Figuras/circles_init.png\"  width='300px'/>\n",
    "</center>\n",
    "\n",
    "---"
   ]
  },
  {
   "cell_type": "markdown",
   "id": "478152aa-144c-4f16-abc6-4c6ceebc06ba",
   "metadata": {},
   "source": [
    "# Puntos a evaluar.\n",
    "\n",
    "1. Definición de los parámetros del problema.\n",
    "2. Definición del campo vectorial.\n",
    "3. Definición de los círculos iniciales.\n",
    "4. Diseño de un algoritmo para el seguimiento de los círculos.\n",
    "5. Implementación del algoritmo de solución.\n",
    "6. Generar un video en formato MP4 del movimiento generado."
   ]
  },
  {
   "cell_type": "code",
   "execution_count": null,
   "id": "2fe73807-5884-4ea9-bedc-5897c0c6fb8d",
   "metadata": {},
   "outputs": [],
   "source": [
    "%run \"init.ipynb\"\n",
    "\n",
    "# Importamos las bibliotecas necesarias\n",
    "import matplotlib.pyplot as plt\n",
    "import numpy as np\n",
    "from macti_lib.visual import plotFlujo, plotMalla"
   ]
  },
  {
   "cell_type": "markdown",
   "id": "3b79ba2c",
   "metadata": {},
   "source": [
    "## 1. Definición de parámetros \n",
    "\n",
    "Defina $N_C=9$ número de círculos, $N$ Número de partículas en cada círculo, $N_t$ número de pasos en el tiempo, $h_t = 0.1$. "
   ]
  },
  {
   "cell_type": "code",
   "execution_count": null,
   "id": "45910753",
   "metadata": {},
   "outputs": [],
   "source": [
    "### BEGIN SOLUTION\n",
    "NC = 9    # Número de círculos\n",
    "N = 500   # Número de partículas en cada círculo\n",
    "Nt = 80   # Número de pasos temporales\n",
    "ht = 0.01 # Tamaño del paso de tiempo\n",
    "### END SOLUTION"
   ]
  },
  {
   "cell_type": "code",
   "execution_count": null,
   "id": "8d1e6d6d",
   "metadata": {},
   "outputs": [],
   "source": [
    "#Tamaño del domuinio\n",
    "ax, bx = (0, 1.0) # Lx\n",
    "ay, by = (0, 1.0) # Ly\n",
    "\n",
    "# Definición de la malla\n",
    "Nx = 15\n",
    "Ny = 15\n",
    "x = np.linspace(ax,bx,Nx+2)\n",
    "y = np.linspace(ay,by,Ny+2)\n",
    "xg, yg = np.meshgrid(x, y, indexing='ij', sparse=False)\n",
    "\n",
    "# Graficación de la malla\n",
    "fig = plt.figure(figsize=(8,4))\n",
    "plotMalla(xg, yg, marker='')"
   ]
  },
  {
   "cell_type": "markdown",
   "id": "3fcbd8f2-fbc1-4de0-8f46-62f13e2c0d24",
   "metadata": {},
   "source": [
    "## 2 . Cálculo del campo vectorial.\n",
    "\n",
    "$$\n",
    "\\begin{eqnarray}\n",
    "u & = & -A \\cos(\\alpha \\pi y) \\sin(\\alpha \\pi x) \\\\\n",
    "v & = & A \\sin(\\alpha \\pi y) \\cos(\\alpha \\pi x)\n",
    "\\end{eqnarray}\n",
    "$$"
   ]
  },
  {
   "cell_type": "code",
   "execution_count": null,
   "id": "ee357502-5a37-490b-b3b3-7da6e5f12785",
   "metadata": {},
   "outputs": [],
   "source": [
    "# Cálculo del campo vectorial.\n",
    "\n",
    "### BEGIN SOLUTION\n",
    "A = 1.0\n",
    "α = 1.0\n",
    "\n",
    "u = lambda x, y: -A * np.cos(α * np.pi * y) * np.sin(α * np.pi * x)\n",
    "v = lambda x, y:  A * np.sin(α * np.pi * y) * np.cos(α * np.pi * x)\n",
    "### END SOLUTION"
   ]
  },
  {
   "cell_type": "code",
   "execution_count": null,
   "id": "aa04f96d-b1d1-4ccf-b16d-de354c1eb849",
   "metadata": {},
   "outputs": [],
   "source": [
    "# Verifique que funciona\n",
    "plotFlujo(xg, yg, u, v, 'quiver', 'Vórtice')"
   ]
  },
  {
   "cell_type": "markdown",
   "id": "5cc8849b-6906-4a6a-be19-644fc9fa06e6",
   "metadata": {},
   "source": [
    "## 3. Definición de los círculos iniciales.\n",
    "\n",
    "Se necesitan arreglos de tres índice, el primero para el número de puntos ($N$), el segundo para el número de círculos ($N_C$) y el tercero para los pasos de tiempo ($N_t$).\n",
    "\n",
    "Para cada círculo necesita definir su centro y su radio.\n",
    "\n",
    "Debe guardar todas las coordenadas en los arreglos `xn[i,c,0]` y `yn[i,c,0]` que serán las condicioens iniciales.\n",
    "\n",
    "Haga una gráfica para ver que todo salió correctamente"
   ]
  },
  {
   "cell_type": "code",
   "execution_count": null,
   "id": "69d92471-7970-4f92-9fe3-abcffe0d5038",
   "metadata": {},
   "outputs": [],
   "source": [
    "# Definición de los arreglos.\n",
    "### BEGIN SOLUTION\n",
    "xn = np.zeros((N, NC, Nt+1))\n",
    "yn = np.zeros((N, NC, Nt+1))\n",
    "### END SOLUTION\n",
    "\n",
    "#Definición de los radios y los centros de los círculos.\n",
    "### BEGIN SOLUTION\n",
    "r = [0.20, 0.13, 0.13, 0.13, 0.13, 0.13, 0.13, 0.13, 0.13]\n",
    "center = [(0.5, 0.5), \n",
    "          (0.75, 0.75), (0.25, 0.75), (0.75, 0.25), (0.25, 0.25),\n",
    "          (0.50, 0.85), (0.50, 0.15), (0.15, 0.50), (0.85, 0.50)]\n",
    "### END SOLUTION\n",
    "\n",
    "# Cálculo de las coordenadas de cada círculo.\n",
    "### BEGIN SOLUTION\n",
    "for c in range(0,NC):\n",
    "    for i, theta in enumerate(np.linspace(0, 2 * np.pi, N)):\n",
    "        xn[i, c, 0] = center[c][0] + r[c] * np.cos(theta)\n",
    "        yn[i, c, 0] = center[c][1] + r[c] * np.sin(theta)\n",
    "### END SOLUTION"
   ]
  },
  {
   "cell_type": "markdown",
   "id": "98957071",
   "metadata": {},
   "source": [
    "Si todo funciona correctamente, al ejecutar la siguiente celda debera obtener la gráfica del campo vectorial y de los círculos."
   ]
  },
  {
   "cell_type": "code",
   "execution_count": null,
   "id": "954db1c7",
   "metadata": {},
   "outputs": [],
   "source": [
    "# Si todo salió bien, el siguiente \n",
    "plotFlujo(xg, yg, u, v, 'quiver', 'Vórtice')\n",
    "[plt.plot(xn[:, c, 0], yn[:, c, 0]) for c in range(0,NC)]\n",
    "plt.savefig('circles_init.png')\n",
    "plt.show()"
   ]
  },
  {
   "cell_type": "markdown",
   "id": "88c2e75c-39d7-49df-9c87-9edd32506ff2",
   "metadata": {},
   "source": [
    "## 4. Diseño de un algoritmo para el seguimiento de los círculos.\n",
    "\n"
   ]
  },
  {
   "cell_type": "markdown",
   "id": "0d9c0d85",
   "metadata": {},
   "source": [
    "Agregar una figura con el algoritmo diseñado."
   ]
  },
  {
   "cell_type": "markdown",
   "id": "0b88b7d4",
   "metadata": {},
   "source": [
    "## 5. Implementación del algoritmo de solución.\n",
    "\n",
    "Primero defina la función que implementa el método de Euler hacia adelante."
   ]
  },
  {
   "cell_type": "code",
   "execution_count": null,
   "id": "bfa1e20f-4278-4dd1-8ca9-0435704a9189",
   "metadata": {},
   "outputs": [],
   "source": [
    "def euler(x, v, h):\n",
    "    ### BEGIN SOLUTION\n",
    "    return x + h * v\n",
    "    ### END SOLUTION"
   ]
  },
  {
   "cell_type": "markdown",
   "id": "26626cdc",
   "metadata": {},
   "source": [
    "Implemente el código para el cálculo del seguimiento de los círculos."
   ]
  },
  {
   "cell_type": "code",
   "execution_count": null,
   "id": "d02e4655-c2c7-497a-b9d8-929b2820ac2b",
   "metadata": {},
   "outputs": [],
   "source": [
    "### BEGIN SOLUTION\n",
    "for n in range(1,Nt+1):\n",
    "    for c in range(0, NC):\n",
    "        for i in range(0,N):\n",
    "            xi = xn[i,c,n-1]\n",
    "            yi = yn[i,c,n-1]\n",
    "            xn[i,c,n] = euler(xi, u(xi,yi), ht)\n",
    "            yn[i,c,n] = euler(yi, v(xi,yi), ht)\n",
    "### END SOLUTION        "
   ]
  },
  {
   "cell_type": "markdown",
   "id": "22c3c8fc",
   "metadata": {},
   "source": [
    "Si todo funciona correctamente, al ejecutar la siguiente celda debera obtener la gráfica del campo vectorial y de los círculos deformados."
   ]
  },
  {
   "cell_type": "code",
   "execution_count": null,
   "id": "a1f43c68",
   "metadata": {},
   "outputs": [],
   "source": [
    "plotFlujo(xg, yg, u, v, 'quiver', 'Vórtice')\n",
    "for t in range(Nt-1,Nt):\n",
    "    [plt.plot(xn[:, c, t], yn[:, c, t]) for c in range(0,NC)]"
   ]
  },
  {
   "cell_type": "markdown",
   "id": "a16efcc1-8f2c-4464-af87-30697f9f67d5",
   "metadata": {},
   "source": [
    "## 6. Generar un video en formato MP4 del movimiento generado.\n",
    "\n",
    "La siguiente función crea el objeto de la animación `circle_ani`"
   ]
  },
  {
   "cell_type": "code",
   "execution_count": null,
   "id": "08b1e48a-9121-43d0-8682-b59203d49ac3",
   "metadata": {},
   "outputs": [],
   "source": [
    "#\n",
    "# Función para la actualización de los círculos\n",
    "#\n",
    "def update_circles(t, circles, x, y):\n",
    "    for c, circle in enumerate(circles):\n",
    "        circle[0].set_data(x[:,c,t], y[:,c,t])\n",
    "\n",
    "plotFlujo(xg, yg, u, v, 'quiver', 'Vórtice')\n",
    "\n",
    "circles = [plt.plot(xn[:, c, 0], yn[:, c, 0], '-') for c in range(0,NC)]\n",
    "\n",
    "from matplotlib.animation import FuncAnimation\n",
    "# Creación del objeto de animación\n",
    "circle_ani = FuncAnimation(plt.gcf(),\n",
    "                         update_circles,\n",
    "                         Nt,\n",
    "                         fargs=(circles, xn, yn),\n",
    "                         interval=100,\n",
    "                         repeat=False)"
   ]
  },
  {
   "cell_type": "markdown",
   "id": "242f1ec5",
   "metadata": {},
   "source": [
    "Guarde la animación en formato MP4."
   ]
  },
  {
   "cell_type": "code",
   "execution_count": null,
   "id": "c192a24c-5c9e-488d-ad8d-517a33a43ea3",
   "metadata": {},
   "outputs": [],
   "source": [
    "### BEGIN SOLUTION\n",
    "from matplotlib.animation import writers\n",
    "Writer = writers['ffmpeg']\n",
    "writer = Writer(fps=30, metadata=dict(artist='Me'), bitrate=1800)\n",
    "circle_ani.save('circle_track.mp4', writer=writer)\n",
    "### END SOLUTION"
   ]
  },
  {
   "cell_type": "code",
   "execution_count": null,
   "id": "57cfb196-f0c6-43a7-9929-7511bc42eebd",
   "metadata": {},
   "outputs": [],
   "source": [
    "### BEGIN SOLUTION\n",
    "from IPython.display import Video\n",
    "Video('circle_track.mp4', width=500)\n",
    "### END SOLUTION"
   ]
  },
  {
   "cell_type": "code",
   "execution_count": null,
   "id": "d08c8ffd",
   "metadata": {},
   "outputs": [],
   "source": []
  }
 ],
 "metadata": {
  "kernelspec": {
   "display_name": "Python 3 (ipykernel)",
   "language": "python",
   "name": "python3"
  },
  "language_info": {
   "codemirror_mode": {
    "name": "ipython",
    "version": 3
   },
   "file_extension": ".py",
   "mimetype": "text/x-python",
   "name": "python",
   "nbconvert_exporter": "python",
   "pygments_lexer": "ipython3",
   "version": "3.9.7"
  }
 },
 "nbformat": 4,
 "nbformat_minor": 5
}
