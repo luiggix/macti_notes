{
 "cells": [
  {
   "cell_type": "code",
   "execution_count": 115,
   "id": "6afcb7c1-50d5-4bbb-b52b-2b2a17b8115b",
   "metadata": {},
   "outputs": [
    {
     "data": {
      "application/vnd.jupyter.widget-view+json": {
       "model_id": "d075474f564d498fb3b53273bd4af28c",
       "version_major": 2,
       "version_minor": 0
      },
      "text/plain": [
       "interactive(children=(FloatSlider(value=0.9, description='S', max=0.9, min=0.1, step=0.2), FloatSlider(value=1…"
      ]
     },
     "metadata": {},
     "output_type": "display_data"
    },
    {
     "data": {
      "text/plain": [
       "<function __main__.razonDeCambio(S, h, i0)>"
      ]
     },
     "metadata": {},
     "output_type": "display_data"
    }
   ],
   "source": [
    "import numpy as np\n",
    "import matplotlib.pyplot as plt\n",
    "import visual\n",
    "\n",
    "import ipywidgets as widgets\n",
    "\n",
    "R = lambda t, S: np.exp(-t/S)\n",
    "derivada = lambda t, S: -np.exp(-t/S) / S\n",
    "mf = lambda x, h, S: (R(x + h, S) - R(x, S)) / h \n",
    "def razonDeCambio(S, h, i0):\n",
    "    td = np.arange(0,8,1) \n",
    "    m = np.zeros(len(td))\n",
    "    \n",
    "    for i,x in enumerate(td):\n",
    "        m[i] = mf(x, h, S)\n",
    "\n",
    "    t = np.linspace(0, 7, 100)\n",
    "\n",
    "    plt.figure(figsize=(14,5))\n",
    "    ax1 = plt.subplot(1,2,1)\n",
    "    ax2 = plt.subplot(1,2,2)\n",
    "    \n",
    "    ax1.set_title('Función del olvido: $R(t) = e^{-t/S}$')\n",
    "    ax1.set_xlabel('$t$ [días]')\n",
    "    ax1.set_ylabel('$R(t)$')\n",
    "    ax1.set_xlim(-0.5,8.5)\n",
    "    ax1.set_ylim(-0.2, 1.1)\n",
    "    \n",
    "    ax2.set_title('Pendiente $m(t)$')\n",
    "    ax2.set_xlabel('$t$ [días]')\n",
    "    ax2.set_ylabel('$m(t)$')\n",
    "    ax2.set_xlim(-0.5,8.5)\n",
    "    ax2.set_ylim(derivada(0.025, S), 0.5)\n",
    "    \n",
    "    ax1.plot(t, R(t, S), '-', c='C1', lw=3)\n",
    "    \n",
    "    recta = m[i0]*(td-td[i0]) + R(td[i0], S)\n",
    "    recta_m = derivada(td[i0],S)*(td-td[i0]) + R(td[i0], S) \n",
    "\n",
    "    ax1.plot(td, recta, c = 'red', lw = 2, zorder=2, label='Aproximación')\n",
    "    ax1.plot(td, recta_m, c = 'C2', lw = 3, label='Exacta', zorder=1)\n",
    "    ax1.scatter(td[i0], R(td[i0], S), fc='red', ec = 'black', alpha = 0.95, s = 50, zorder = 5)    \n",
    "    ax1.scatter(td[i0]+h, R(td[i0]+h, S), c = 'black', s = 50, zorder = 5)    \n",
    "\n",
    "    ax2.plot(t, derivada(t, S), lw = 3, c = 'C2', label='Exacta', zorder = 3, )\n",
    "    ax2.scatter(td[i0], m[i0], fc = 'C3', ec = 'black', alpha = 0.95, s = 50, label='Aproximación', zorder = 5)\n",
    "    ax2.scatter(td[i0], derivada(td[i0], S), c = 'black', s = 50, zorder = 5)\n",
    "\n",
    "    texto1 = ' = {:10.8f}'.format(R(td[i0], S))\n",
    "    texto2 = ' = {:10.8f}'.format(R(td[i0]+h, S))\n",
    "    texto3 = ' = {:10.8f}'.format(m[i0])\n",
    "    texto4 = ' = {:10.8f}'.format(derivada(td[i0], S))\n",
    "\n",
    "    ax1.annotate(text = '$R(t)$' + texto1, xy = (td[i0], R(td[i0], S)), xycoords='data',\n",
    "                 xytext = (0.5, 0.5), textcoords='axes fraction', color ='red', fontsize=16, \n",
    "                 arrowprops=dict(arrowstyle='->', color='red', shrinkA = 5, shrinkB = 5, \n",
    "                                 connectionstyle=\"angle3,angleA=0,angleB=90\"))\n",
    "    ax1.annotate(text = '$R(t+h)$' + texto2, xy = (td[i0]+h, R(td[i0]+h, S)), xycoords='data',\n",
    "                 xytext = (0.5, 0.3), textcoords='axes fraction', color ='black', fontsize=16,\n",
    "                 arrowprops=dict(arrowstyle='->', color='black', shrinkA = 5, shrinkB = 5, \n",
    "                                 connectionstyle=\"angle3,angleA=90,angleB=0\"))         \n",
    "    ax2.annotate(text = '$m($' + str(i0) + '$)$' + texto3, xy = (0.5, 0.5), xytext = (0.5, 0.5), \n",
    "                 textcoords='axes fraction', xycoords='axes fraction',\n",
    "                 color='red', fontsize=16)    \n",
    "    ax2.annotate(text = '$R^\\prime($' + str(i0) + '$)$' + texto4, xy = (0.5, 0.4), xytext = (0.5, 0.4), \n",
    "                 textcoords='axes fraction', xycoords='axes fraction',\n",
    "                 color='red', fontsize=16)  \n",
    "    \n",
    "    ax2.legend()\n",
    "    ax1.legend()\n",
    "    plt.tight_layout()\n",
    "    plt.show()\n",
    "\n",
    "w = widgets.interact(razonDeCambio,\n",
    "                     S = widgets.FloatSlider(min=0.1, max=0.9, step=0.2, value=0.9),\n",
    "                     h = widgets.FloatSlider(min=0.1, max=1.0, step=0.1, value=1.0),\n",
    "                     i0 = widgets.IntSlider(min=0, max=6, step=1, value=1, description='t'))\n",
    "display(w)"
   ]
  },
  {
   "cell_type": "code",
   "execution_count": null,
   "id": "802069c7-e871-4d65-a70f-aba5200db6e1",
   "metadata": {},
   "outputs": [],
   "source": []
  }
 ],
 "metadata": {
  "kernelspec": {
   "display_name": "Python 3 (ipykernel)",
   "language": "python",
   "name": "python3"
  },
  "language_info": {
   "codemirror_mode": {
    "name": "ipython",
    "version": 3
   },
   "file_extension": ".py",
   "mimetype": "text/x-python",
   "name": "python",
   "nbconvert_exporter": "python",
   "pygments_lexer": "ipython3",
   "version": "3.9.12"
  }
 },
 "nbformat": 4,
 "nbformat_minor": 5
}
