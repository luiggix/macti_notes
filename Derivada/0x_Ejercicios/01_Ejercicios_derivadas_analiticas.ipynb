{
 "cells": [
  {
   "cell_type": "markdown",
   "id": "7a1f6f90",
   "metadata": {},
   "source": [
    "# Ejercicios de cálculo de derivadas\n",
    "\n",
    "**Objetivo general**\n",
    "- Estudiar las reglas de derivación.\n",
    "\n",
    "**Objetivos particulares**\n",
    "- Realizar ejercicios de derivadas para algunas funciones.\n",
    "\n",
    "## Contenido\n",
    "- [1 - Reglas de Derivación.](#1)    \n",
    "    - [1.1 - Regla de potencias](#1-1)\n",
    "    - [1.2 - Regla de la función constante](#1-2)\n",
    "    - [1.3 - Regla de la multiplicación por constante](#1-3)\n",
    "    - [1.4 - Regla de suma y diferencia](#1-4)\n",
    "    - [1.5 - Regla del producto](#1-5)\n",
    "    - [1.6 - Regla del cociente](#1-6)\n",
    "    - [1.7 - Regla de la cadena](#1-7)\n",
    "    - [1.8 - Regla de L’Hôpital](#1-8)\n",
    "    - [1.9 - Derivadas de funciones trigonométricas](#1-9)\n",
    "    - [1.10 - Derivada de la función exponencial](#1-10)\n",
    "- [2 - Teorema de Rolle.](#2)\n",
    "- [3 - Derivadas de orden superior.](#3)\n",
    "- [4 - Ejercicios.](#4)\n",
    "    - [4.1 - Potencias.](#4-1)\n",
    "    - [4.2 - Constantes.](#4-2)\n",
    "    - [4.3 - Multiplicación por una constante.](#4-3)\n",
    "    - [4.4 - Suma y diferencia de funciones.](#4-4)    \n",
    "    - [4.5 - Producto de funciones.](#4-5)\n",
    "    - [4.6 - Cociente de funciones.](#4-6)\n",
    "    - [4.7 - Regla de la cadena.](#4-7)\n",
    "    - [4.8 - Derivadas de alto orden.](#4-8)\n",
    "    - [4.9 - Aplicación de la regla de L'Hopital.](#4-9)\n",
    "    - [4.10 - Aplicación del Teorema de Rolle.](#4-10)\n"
   ]
  },
  {
   "cell_type": "code",
   "execution_count": 1,
   "id": "a845ea45-d17a-4b48-a6ee-d50c688cce08",
   "metadata": {},
   "outputs": [],
   "source": [
    "# Importamos todas las bibliotecas a usar\n",
    "import matplotlib.pyplot as plt\n",
    "import numpy as np\n",
    "import pandas as pd\n",
    "import macti.visual \n",
    "from macti.evaluacion import Ejercicio\n",
    "ȩ = Ejercicio('TEST', local=True)"
   ]
  },
  {
   "cell_type": "markdown",
   "id": "e6a76525",
   "metadata": {},
   "source": [
    "<a name='1'></a>\n",
    "## Reglas de derivación\n",
    "\n",
    "En general es fácil calcular la derivada de cualquier función y existen reglas para hacerlo más fácil.\n",
    " \n",
    "<a name='1-1'></a>\n",
    "**Regla de potencias**\n",
    "\n",
    "Para cualquier número real $n$ si $f(x)= x^n$, entonces\n",
    "$$\n",
    "f^\\prime(x) = n * x^{n-1}\n",
    "$$\n",
    "\n",
    "<a name='1-2'></a>\n",
    "**Regla de la función constante**\n",
    "\n",
    "Si $f(x)=c$ es una función constante, entonces\n",
    "$$ \n",
    "f^\\prime(x)=0 \n",
    "$$\n",
    "\n",
    "<a name='1-3'></a>\n",
    "**Regla de la multiplicación por constante**\n",
    "\n",
    "Si $c$ es cualquier constante y $f(x)$ es diferenciable, entonces $g(x)= c f(x)$ también es diferenciable y su derivada es:\n",
    "$$ \n",
    "g^\\prime(x) = c f^\\prime(x) \n",
    "$$\n",
    "\n",
    "<a name='1-4'></a>\n",
    "**Regla de suma y diferencia**\n",
    "\n",
    "Si $f(x)$ y $g(x)$ son diferenciables, entonces $f(x) + g(x)$ y $f(x) - g(x)$ también son diferenciables y sus derivadas son:\n",
    "$$ \n",
    "[f(x)+ g(x)]^\\prime = f^\\prime(x) + g^\\prime(x) \n",
    "$$\n",
    "\n",
    "$$ \n",
    "[f(x)- g(x)]^\\prime=f^\\prime(x) - g^\\prime(x) \n",
    "$$\n",
    "\n",
    "<a name='1-5'></a>\n",
    "**Regla del producto**\n",
    "\n",
    "Si $f(x)$ y $g(x)$ son funciones diferenciables, entonces $f(x)g(x)$ es diferenciable y su derivada es:\n",
    "$$ \n",
    "[f(x) g(x)]^\\prime= f(x)g^\\prime(x) + g(x)f^\\prime(x) \n",
    "$$\n",
    "\n",
    "<a name='1-6'></a>\n",
    "**Regla del cociente**\n",
    "\n",
    "Si $f$ y $g$ son funciones diferenciables y $g(x) \\neq 0$, entonces $f(x)/g(x)$ es diferenciable y su derivada es: \n",
    "$$  \n",
    "\\left[\\frac{f(x)}{g(x)} \\right]^\\prime = \\frac{f(x)g^\\prime(x)- f^\\prime(x)g(x) }{g(x)^2}\n",
    "$$\n",
    "\n",
    "<a name='1-7'></a>\n",
    "**Regla  de la cadena**\n",
    "\n",
    "Si la función $f(u)$ es diferenciable, donde $u = g(x)$, y la función $g(x)$ es diferenciable, entonces la composición $y=(f \\circ g)(x)= f(g(x))$ es diferenciable:\n",
    "$$ \n",
    "f(g(x))^\\prime = f^\\prime(g(x)) \\cdot g^\\prime(x)  \n",
    "$$\n",
    "\n",
    "<a name='1-8'></a>\n",
    "**Regla de L’Hôpital**\n",
    "\n",
    "Esta regla es utilizada en caso de indeterminaciones donde $f(x)$ y $g(x)$ son dos funciones continuas definidas en el intervalo $[a,b]$, derivables en $(a,b)$ y sea $c$ perteneciente a $(a,b)$ tal que $f(c)=g(c)=0$ y $g^\\prime(x) \\neq 0$ si $x \\neq c$. Si existe el límite $L$ de $f^\\prime/g^\\prime$ en $c$, entonces existe el límite de $f(x)/g(x)$ (en $c$) y es igual a $L$. Por lo tanto:\n",
    "$$ \n",
    "\\lim_{x \\to c} \\frac{f(x)}{g(x)} = \\lim_{x \\to c} \\frac{f^\\prime(x)}{g^\\prime(x)} = L \n",
    "$$\n",
    "\n",
    "<a name='1-9'></a>\n",
    "**Derivadas de funciones trigonométricas**\n",
    "\n",
    "$$\n",
    "\\begin{eqnarray}\n",
    "\\sin^\\prime(x) & = & \\cos(x) \\\\ \n",
    "\\tan^\\prime(x) & = & \\sec^2(x) \\\\\n",
    "\\sec^\\prime(x) & = & \\sec(x)tan(x) \\\\\n",
    "\\cos^\\prime(x) & = & -\\sin(x) \\\\\n",
    "\\cot^\\prime(x) & = & -\\csc^2(x) \\\\\n",
    "\\csc^\\prime(x) & = & -\\csc(x)cot(x)\n",
    "\\end{eqnarray}\n",
    "$$\n",
    "\n",
    "<a name='1-10'></a>\n",
    "**Derivada la función exponencial**\n",
    "\n",
    "$$\n",
    "\\left[ e^{x} \\right]^\\prime = e^{x}\n",
    "$$\n"
   ]
  },
  {
   "cell_type": "markdown",
   "id": "89ae28ee",
   "metadata": {},
   "source": [
    "<a name='2'></a>\n",
    "## Teorema de Rolle :\n",
    "Sea $a < b$ y suponga que $f : [a, b] → {\\mathbb{R}}$ es derivable en $(a, b)$ y continua\n",
    "en $[a, b]$ y $f(a) = f(b)$. Entonces $∃ x_0 ∈ (a, b)$ tal que $f^\\prime(x_0) = 0$\n",
    "\n",
    "Lo anterior quiere decir que, dadas las condiciones del teorema, es posible encontrar un punto de la función $f(x)$ dentro del intervalo $(a,b)$ donde la derivada, esto es la línea tangente, es cero, en otras palabras, en ese punto la línea tangente es horizontal\n",
    "\n",
    "<a name='3'></a>\n",
    "## Derivadas de orden superior\n",
    "\n",
    "Es posible obtener la derivada de la derivada, es decir, si tenemos una función $f(x)$ cuya derivada es $f^\\prime(x)$, entonces podemos calcular la derivada a esta última función, para obtener $f^{\\prime\\prime}(x)$, a esta última función, si es que existe, se le conoce como la segunda derivada de $f(x)$. También se puede denotar a la segunda derivada com $f^{(2)}(x)$.\n",
    "\n",
    "En general, si $f(x)$ es derivable $k$ veces, entonces es posible obtener la $k$-ésima derivada de dicha función, que se escribe como:\n",
    "$$ \n",
    "\\frac{d^kf(x)}{dx^k} = f^{(k)}(x)\n",
    "$$"
   ]
  },
  {
   "cell_type": "markdown",
   "id": "3c8d05f6",
   "metadata": {},
   "source": [
    "<a name='4'></a>\n",
    "## **<font color=\"DodgerBlue\">Ejercicios.</font>**"
   ]
  },
  {
   "cell_type": "markdown",
   "id": "35dfd843",
   "metadata": {},
   "source": [
    "Derive las siguientes funciones siguiendo las reglas del apartado [Reglas de derivación](#3):\n",
    "\n",
    "__Notas__: \n",
    " - Para responder ejecuta la celda correspondiente y escribe tu respuesta.\n",
    " - Para representar potencias utiliza el acento circunflejo (^), por ejemplo, para representar x al cuadrado escribimos x^2\n",
    " - En el caso de que las potencias tengan más de un elemento utiliza paréntesis, por ejemplo, x elevado a n+1 queda como x^(n+1)\n",
    "\n",
    "<a name='4-1'></a>\n",
    "### 1. Potencias:"
   ]
  },
  {
   "cell_type": "code",
   "execution_count": 7,
   "id": "7cfe1e60",
   "metadata": {
    "scrolled": true
   },
   "outputs": [
    {
     "data": {
      "text/latex": [
       "$f(x) = x^5, f'(x)$ = "
      ],
      "text/plain": [
       "<IPython.core.display.Latex object>"
      ]
     },
     "metadata": {},
     "output_type": "display_data"
    },
    {
     "name": "stdin",
     "output_type": "stream",
     "text": [
      "None 5x^4\n"
     ]
    },
    {
     "name": "stdout",
     "output_type": "stream",
     "text": [
      "\u001b[32m¡Tu respuesta es correcta!\n"
     ]
    }
   ],
   "source": [
    "# 1a. \n",
    "ȩ.responde('1a', \"f(x) = x^{5}, f'(x)\")"
   ]
  },
  {
   "cell_type": "code",
   "execution_count": 8,
   "id": "96428ad4",
   "metadata": {},
   "outputs": [
    {
     "data": {
      "text/latex": [
       "$f(x) = x^m, f'(x)$ = "
      ],
      "text/plain": [
       "<IPython.core.display.Latex object>"
      ]
     },
     "metadata": {},
     "output_type": "display_data"
    },
    {
     "name": "stdin",
     "output_type": "stream",
     "text": [
      "None m x^(m-1)\n"
     ]
    },
    {
     "name": "stdout",
     "output_type": "stream",
     "text": [
      "\u001b[32m¡Tu respuesta es correcta!\n"
     ]
    }
   ],
   "source": [
    "# 1b\n",
    "ȩ.responde('1b', \"f(x) = x^m, f'(x)\")"
   ]
  },
  {
   "cell_type": "markdown",
   "id": "bd4fbd23",
   "metadata": {},
   "source": [
    "<a name='4-2'></a>\n",
    "### 2. Constantes"
   ]
  },
  {
   "cell_type": "code",
   "execution_count": 11,
   "id": "29b4f1f0",
   "metadata": {
    "scrolled": true
   },
   "outputs": [
    {
     "data": {
      "text/latex": [
       "$f(x) = \\pi^{435}, f'(x)$ = "
      ],
      "text/plain": [
       "<IPython.core.display.Latex object>"
      ]
     },
     "metadata": {},
     "output_type": "display_data"
    },
    {
     "name": "stdin",
     "output_type": "stream",
     "text": [
      "None 1\n"
     ]
    },
    {
     "name": "stdout",
     "output_type": "stream",
     "text": [
      "\u001b[39m--------------------------------------------------------------------------------\n",
      "\u001b[31mCuidado: ocurrió un error en tus cálculos y/o en tu respuesta.\n",
      "\u001b[39m--------------------------------------------------------------------------------\n"
     ]
    }
   ],
   "source": [
    "ȩ.responde('2a', \"f(x) = \\pi^{435}, f'(x)\")"
   ]
  },
  {
   "cell_type": "code",
   "execution_count": 10,
   "id": "2163c399",
   "metadata": {
    "scrolled": true
   },
   "outputs": [
    {
     "data": {
      "text/latex": [
       "$f(x) = e^{\\pi}, f'(x)$ = "
      ],
      "text/plain": [
       "<IPython.core.display.Latex object>"
      ]
     },
     "metadata": {},
     "output_type": "display_data"
    },
    {
     "name": "stdin",
     "output_type": "stream",
     "text": [
      "None 0\n"
     ]
    },
    {
     "name": "stdout",
     "output_type": "stream",
     "text": [
      "\u001b[32m¡Tu respuesta es correcta!\n"
     ]
    }
   ],
   "source": [
    "ȩ.responde('2b', \"f(x) = e^{\\pi}, f'(x)\")"
   ]
  },
  {
   "cell_type": "markdown",
   "id": "a2949437",
   "metadata": {},
   "source": [
    "<a name='4-3'></a>\n",
    "### 3. Multiplicación por una constante"
   ]
  },
  {
   "cell_type": "code",
   "execution_count": 12,
   "id": "3a1be145",
   "metadata": {
    "scrolled": true
   },
   "outputs": [
    {
     "data": {
      "text/latex": [
       "$f(x) = 10x^{4}, f'(x)$ = "
      ],
      "text/plain": [
       "<IPython.core.display.Latex object>"
      ]
     },
     "metadata": {},
     "output_type": "display_data"
    },
    {
     "name": "stdin",
     "output_type": "stream",
     "text": [
      "None 40 x ^ 3\n"
     ]
    },
    {
     "name": "stdout",
     "output_type": "stream",
     "text": [
      "\u001b[32m¡Tu respuesta es correcta!\n"
     ]
    }
   ],
   "source": [
    "ȩ.responde('3a', \"f(x) = 10x^{4}, f'(x)\")"
   ]
  },
  {
   "cell_type": "code",
   "execution_count": 19,
   "id": "c79974d8",
   "metadata": {},
   "outputs": [
    {
     "data": {
      "text/latex": [
       "$f(x) = Ax^{n}, f'(x)$ = "
      ],
      "text/plain": [
       "<IPython.core.display.Latex object>"
      ]
     },
     "metadata": {},
     "output_type": "display_data"
    },
    {
     "name": "stdin",
     "output_type": "stream",
     "text": [
      "None A n x^(n-1)\n"
     ]
    },
    {
     "name": "stdout",
     "output_type": "stream",
     "text": [
      "\u001b[32m¡Tu respuesta es correcta!\n"
     ]
    }
   ],
   "source": [
    "ȩ.responde('3b', \"f(x) = Ax^{n}, f'(x)\")"
   ]
  },
  {
   "cell_type": "markdown",
   "id": "cb439318",
   "metadata": {},
   "source": [
    "<a name='4-4'></a>\n",
    "### 4. Suma y Diferencia"
   ]
  },
  {
   "cell_type": "code",
   "execution_count": 23,
   "id": "8839ca77",
   "metadata": {},
   "outputs": [
    {
     "data": {
      "text/latex": [
       "$f(x) = x^{2}+x+1, f'(x)$ = "
      ],
      "text/plain": [
       "<IPython.core.display.Latex object>"
      ]
     },
     "metadata": {},
     "output_type": "display_data"
    },
    {
     "name": "stdin",
     "output_type": "stream",
     "text": [
      "None 2x+1\n"
     ]
    },
    {
     "name": "stdout",
     "output_type": "stream",
     "text": [
      "\u001b[32m¡Tu respuesta es correcta!\n"
     ]
    }
   ],
   "source": [
    "ȩ.responde('4a', \"f(x) = x^{2}+x+1, f'(x)\")"
   ]
  },
  {
   "cell_type": "code",
   "execution_count": 24,
   "id": "46f4fb50",
   "metadata": {},
   "outputs": [
    {
     "data": {
      "text/latex": [
       "$f(x) = \\sin(x)-\\cos(x), f'(x)$ = "
      ],
      "text/plain": [
       "<IPython.core.display.Latex object>"
      ]
     },
     "metadata": {},
     "output_type": "display_data"
    },
    {
     "name": "stdin",
     "output_type": "stream",
     "text": [
      "None cos(x)+sin(x)\n"
     ]
    },
    {
     "name": "stdout",
     "output_type": "stream",
     "text": [
      "\u001b[32m¡Tu respuesta es correcta!\n"
     ]
    }
   ],
   "source": [
    "ȩ.responde('4b', \"f(x) = \\sin(x)-\\cos(x), f'(x)\")"
   ]
  },
  {
   "cell_type": "code",
   "execution_count": 27,
   "id": "582d1599",
   "metadata": {
    "scrolled": true
   },
   "outputs": [
    {
     "data": {
      "text/latex": [
       "$f(x) = Ax^{m}-Bx^{n}+C, f'(x)$ = "
      ],
      "text/plain": [
       "<IPython.core.display.Latex object>"
      ]
     },
     "metadata": {},
     "output_type": "display_data"
    },
    {
     "name": "stdin",
     "output_type": "stream",
     "text": [
      "None A m x^(m-1) - B n x^(n-1)\n"
     ]
    },
    {
     "name": "stdout",
     "output_type": "stream",
     "text": [
      "\u001b[32m¡Tu respuesta es correcta!\n"
     ]
    }
   ],
   "source": [
    "ȩ.responde('4c', \"f(x) = Ax^{m}-Bx^{n}+C, f'(x)\")"
   ]
  },
  {
   "cell_type": "markdown",
   "id": "0b5b04c6",
   "metadata": {},
   "source": [
    "<a name='4-5'></a>\n",
    "### 5. Producto de funciones"
   ]
  },
  {
   "cell_type": "markdown",
   "id": "65b8d1bc",
   "metadata": {},
   "source": [
    "__NOTA__:Reduce la solucion a su mínima expresion"
   ]
  },
  {
   "cell_type": "code",
   "execution_count": 29,
   "id": "03700dfc-0723-4c28-a755-b29ad542a8e7",
   "metadata": {},
   "outputs": [
    {
     "data": {
      "text/latex": [
       "$f(x) = (x^4)( x^{-2}), f'(x)$ = "
      ],
      "text/plain": [
       "<IPython.core.display.Latex object>"
      ]
     },
     "metadata": {},
     "output_type": "display_data"
    },
    {
     "name": "stdin",
     "output_type": "stream",
     "text": [
      "None c\n"
     ]
    },
    {
     "name": "stdout",
     "output_type": "stream",
     "text": [
      "\u001b[39m--------------------------------------------------------------------------------\n",
      "\u001b[31mCuidado: ocurrió un error en tus cálculos y/o en tu respuesta.\n",
      "\u001b[39m--------------------------------------------------------------------------------\n"
     ]
    }
   ],
   "source": [
    "ȩ.responde('5a', \"f(x) = (x^4)( x^{-2}), f'(x)\")"
   ]
  },
  {
   "cell_type": "code",
   "execution_count": 30,
   "id": "f868fb63",
   "metadata": {
    "scrolled": true
   },
   "outputs": [
    {
     "data": {
      "text/latex": [
       "$f(x) = \\sin(x)\\cos(x), f'(x)$ = "
      ],
      "text/plain": [
       "<IPython.core.display.Latex object>"
      ]
     },
     "metadata": {},
     "output_type": "display_data"
    },
    {
     "name": "stdin",
     "output_type": "stream",
     "text": [
      "None x\n"
     ]
    },
    {
     "name": "stdout",
     "output_type": "stream",
     "text": [
      "\u001b[39m--------------------------------------------------------------------------------\n",
      "\u001b[31mCuidado: ocurrió un error en tus cálculos y/o en tu respuesta.\n",
      "\u001b[39m--------------------------------------------------------------------------------\n"
     ]
    }
   ],
   "source": [
    "ȩ.responde('5a', \"f(x) = \\sin(x)\\cos(x), f'(x)\")"
   ]
  },
  {
   "cell_type": "markdown",
   "id": "5b9016cb",
   "metadata": {},
   "source": [
    "<a name='4-6'></a>\n",
    "### 6. Cociente de funciones"
   ]
  },
  {
   "cell_type": "markdown",
   "id": "c9ff59d1",
   "metadata": {},
   "source": [
    "__Nota:__ Reduce la expresión del numerador\n",
    "\n",
    "__Formato__: ( f(x) )/( g(x) )"
   ]
  },
  {
   "cell_type": "code",
   "execution_count": 32,
   "id": "8406ca12",
   "metadata": {},
   "outputs": [
    {
     "data": {
      "text/latex": [
       "$f(x) = \\dfrac{sin(x)}{x}, f'(x)$ = "
      ],
      "text/plain": [
       "<IPython.core.display.Latex object>"
      ]
     },
     "metadata": {},
     "output_type": "display_data"
    },
    {
     "name": "stdin",
     "output_type": "stream",
     "text": [
      "None x\n"
     ]
    },
    {
     "name": "stdout",
     "output_type": "stream",
     "text": [
      "\u001b[39m--------------------------------------------------------------------------------\n",
      "\u001b[31mCuidado: ocurrió un error en tus cálculos y/o en tu respuesta.\n",
      "\u001b[39m--------------------------------------------------------------------------------\n"
     ]
    }
   ],
   "source": [
    "ȩ.responde('6a', \"f(x) = \\dfrac{sin(x)}{x}, f'(x)\")"
   ]
  },
  {
   "cell_type": "code",
   "execution_count": 34,
   "id": "889de543",
   "metadata": {},
   "outputs": [
    {
     "data": {
      "text/latex": [
       "$f(x) = \\dfrac{1}{x^2+x+1}, f'(x)$ = "
      ],
      "text/plain": [
       "<IPython.core.display.Latex object>"
      ]
     },
     "metadata": {},
     "output_type": "display_data"
    },
    {
     "name": "stdin",
     "output_type": "stream",
     "text": [
      "None x\n"
     ]
    },
    {
     "name": "stdout",
     "output_type": "stream",
     "text": [
      "\u001b[39m--------------------------------------------------------------------------------\n",
      "\u001b[31mCuidado: ocurrió un error en tus cálculos y/o en tu respuesta.\n",
      "\u001b[39m--------------------------------------------------------------------------------\n"
     ]
    }
   ],
   "source": [
    "ȩ.responde('6b', \"f(x) = \\dfrac{1}{x^2+x+1}, f'(x)\")"
   ]
  },
  {
   "cell_type": "markdown",
   "id": "3773969f",
   "metadata": {},
   "source": [
    "<a name='4-7'></a>\n",
    "### 7. Regla de la Cadena"
   ]
  },
  {
   "cell_type": "code",
   "execution_count": 35,
   "id": "ae9fd7cb",
   "metadata": {},
   "outputs": [
    {
     "data": {
      "text/latex": [
       "$f(x) = (5x^2 + 2x)^{2}, f'(x)$ = "
      ],
      "text/plain": [
       "<IPython.core.display.Latex object>"
      ]
     },
     "metadata": {},
     "output_type": "display_data"
    },
    {
     "name": "stdin",
     "output_type": "stream",
     "text": [
      "None c\n"
     ]
    },
    {
     "name": "stdout",
     "output_type": "stream",
     "text": [
      "\u001b[39m--------------------------------------------------------------------------------\n",
      "\u001b[31mCuidado: ocurrió un error en tus cálculos y/o en tu respuesta.\n",
      "\u001b[39m--------------------------------------------------------------------------------\n"
     ]
    }
   ],
   "source": [
    "ȩ.responde('7a', \"f(x) = (5x^2 + 2x)^{2}, f'(x)\")"
   ]
  },
  {
   "cell_type": "code",
   "execution_count": 36,
   "id": "6f7bdff6",
   "metadata": {},
   "outputs": [
    {
     "data": {
      "text/latex": [
       "$f(x) = \\cos(x^2 +3), f'(x)$ = "
      ],
      "text/plain": [
       "<IPython.core.display.Latex object>"
      ]
     },
     "metadata": {},
     "output_type": "display_data"
    },
    {
     "name": "stdin",
     "output_type": "stream",
     "text": [
      "None x\n"
     ]
    },
    {
     "name": "stdout",
     "output_type": "stream",
     "text": [
      "\u001b[39m--------------------------------------------------------------------------------\n",
      "\u001b[31mCuidado: ocurrió un error en tus cálculos y/o en tu respuesta.\n",
      "\u001b[39m--------------------------------------------------------------------------------\n"
     ]
    }
   ],
   "source": [
    "ȩ.responde('7b', \"f(x) = \\cos(x^2 +3), f'(x)\")"
   ]
  },
  {
   "cell_type": "markdown",
   "id": "57a2b1ca",
   "metadata": {},
   "source": [
    "<a name='4-8'></a>\n",
    "### 8. Derivadas de alto orden\n",
    "\n",
    "Calcular la cuarta derivada de $f(x)= 3x^4 + 2x^2 - 20$.\n",
    "  \n",
    "Para calcular la derivada solicitada de $f(x)$ se deben realizar los cálculos recursivos desde la primera derivada de la función:\n",
    "\n",
    "$$\n",
    "\\begin{eqnarray}\n",
    "f^\\prime(x) & = & 12x^3 + 4x \\\\\n",
    "f^{(2)}(x) & = & 36x^2 + 4 \\\\\n",
    "f^{(3)}(x) & = & 72x  \\\\\n",
    "f^{(4)}(x) & = & 72 \\\\\n",
    "\\end{eqnarray}  \n",
    "$$ "
   ]
  },
  {
   "cell_type": "code",
   "execution_count": 65,
   "id": "9fdc21bc-d67d-4547-8806-fc225e0477f0",
   "metadata": {},
   "outputs": [
    {
     "data": {
      "text/latex": [
       "$f(x) = 3x^4 + 2x^2 - 20, f'(x)$ = "
      ],
      "text/plain": [
       "<IPython.core.display.Latex object>"
      ]
     },
     "metadata": {},
     "output_type": "display_data"
    },
    {
     "name": "stdin",
     "output_type": "stream",
     "text": [
      "None c\n"
     ]
    },
    {
     "name": "stdout",
     "output_type": "stream",
     "text": [
      "\u001b[39m--------------------------------------------------------------------------------\n",
      "\u001b[31mCuidado: ocurrió un error en tus cálculos y/o en tu respuesta.\n",
      "\u001b[39m--------------------------------------------------------------------------------\n"
     ]
    }
   ],
   "source": [
    "ȩ.responde('8a', \"f(x) = 3x^4 + 2x^2 - 20, f'(x)\")"
   ]
  },
  {
   "cell_type": "code",
   "execution_count": 66,
   "id": "8fa934cf-2e54-4bb5-84e9-bc64651e260f",
   "metadata": {},
   "outputs": [
    {
     "data": {
      "text/latex": [
       "$f(x) = 3x^4 + 2x^2 - 20, f''(x)$ = "
      ],
      "text/plain": [
       "<IPython.core.display.Latex object>"
      ]
     },
     "metadata": {},
     "output_type": "display_data"
    },
    {
     "name": "stdin",
     "output_type": "stream",
     "text": [
      "None c\n"
     ]
    },
    {
     "name": "stdout",
     "output_type": "stream",
     "text": [
      "\u001b[39m--------------------------------------------------------------------------------\n",
      "\u001b[31mCuidado: ocurrió un error en tus cálculos y/o en tu respuesta.\n",
      "\u001b[39m--------------------------------------------------------------------------------\n"
     ]
    }
   ],
   "source": [
    "ȩ.responde('8b', \"f(x) = 3x^4 + 2x^2 - 20, f''(x)\")"
   ]
  },
  {
   "cell_type": "code",
   "execution_count": 67,
   "id": "1a5406e0-3e8f-4f39-a94c-87d34717366a",
   "metadata": {},
   "outputs": [
    {
     "data": {
      "text/latex": [
       "$f(x) = 3x^4 + 2x^2 - 20, f'''(x)$ = "
      ],
      "text/plain": [
       "<IPython.core.display.Latex object>"
      ]
     },
     "metadata": {},
     "output_type": "display_data"
    },
    {
     "name": "stdin",
     "output_type": "stream",
     "text": [
      "None c\n"
     ]
    },
    {
     "name": "stdout",
     "output_type": "stream",
     "text": [
      "\u001b[39m--------------------------------------------------------------------------------\n",
      "\u001b[31mCuidado: ocurrió un error en tus cálculos y/o en tu respuesta.\n",
      "\u001b[39m--------------------------------------------------------------------------------\n"
     ]
    }
   ],
   "source": [
    "ȩ.responde('8c', \"f(x) = 3x^4 + 2x^2 - 20, f'''(x)\")"
   ]
  },
  {
   "cell_type": "code",
   "execution_count": 71,
   "id": "2c038600-74fd-424c-9a9c-5b6dd285c051",
   "metadata": {},
   "outputs": [
    {
     "data": {
      "text/latex": [
       "$f(x) = 3x^4 + 2x^2 - 20, f''''(x)$ = "
      ],
      "text/plain": [
       "<IPython.core.display.Latex object>"
      ]
     },
     "metadata": {},
     "output_type": "display_data"
    },
    {
     "name": "stdin",
     "output_type": "stream",
     "text": [
      "None 72\n"
     ]
    },
    {
     "name": "stdout",
     "output_type": "stream",
     "text": [
      "\u001b[32m¡Tu respuesta es correcta!\n"
     ]
    }
   ],
   "source": [
    "ȩ.responde('8d', \"f(x) = 3x^4 + 2x^2 - 20, f''''(x)\")"
   ]
  },
  {
   "cell_type": "markdown",
   "id": "e616d4aa-4435-4c3e-a357-6418149f2cf6",
   "metadata": {},
   "source": [
    "Realiza las gráficas de las cuatro derivadas y observa su comportamiento."
   ]
  },
  {
   "cell_type": "code",
   "execution_count": 70,
   "id": "11f2037e",
   "metadata": {},
   "outputs": [
    {
     "data": {
      "image/png": "[encoded data removed]",
      "text/plain": [
       "<Figure size 512x384 with 1 Axes>"
      ]
     },
     "metadata": {},
     "output_type": "display_data"
    }
   ],
   "source": [
    "# Definimos la función y sus cuatro derivadas\n",
    "f = lambda x: 3*x**4 + 2*x**3 -20\n",
    "\n",
    "### BEGIN SOLUTION\n",
    "f1 = lambda x: 12*x**3 + 4*x\n",
    "f2 = lambda x: 36*x**2 + 4\n",
    "f3 = lambda x: 72*x\n",
    "f4 = lambda x: 72*np.ones(len(x))\n",
    "### END SOLUTION\n",
    "# f1 = lambda x: ...\n",
    "# f2 = lambda x: ...\n",
    "# f3 = lambda x: ...\n",
    "# f4 = lambda x: ...\n",
    "\n",
    "x = np.linspace(-3, 3, 50) # Codominio de la función\n",
    "\n",
    "# Graficamos la función y sus derivadas\n",
    "plt.title('$f(x)=3x^4 + 2x^3 -20$ y sus derivadas')\n",
    "plt.plot(x, f(x), label='$f(x)$')\n",
    "plt.plot(x, f1(x), label='$f^{(1)}(x)$')\n",
    "plt.plot(x, f2(x), label='$f^{(2)}(x)$')\n",
    "plt.plot(x, f3(x), label='$f^{(3)}(x)$')\n",
    "plt.plot(x, f4(x), label='$f^{(4)}(x)$')\n",
    "plt.legend()\n",
    "plt.show()"
   ]
  },
  {
   "cell_type": "markdown",
   "id": "a923cacd",
   "metadata": {},
   "source": [
    "Encuentra la primera y segunda derivada de la siguientes funciones:\n",
    "- a) $f(x)= x^5 - 2x^3 + x$ \n",
    "- b) $f(x)= 4 \\cos x^2$"
   ]
  },
  {
   "cell_type": "code",
   "execution_count": 73,
   "id": "f8b23a0c-8822-4153-8a62-ac53e7ab212c",
   "metadata": {},
   "outputs": [
    {
     "data": {
      "text/latex": [
       "$f(x) = x^5 - 2x^3 + x, f'(x)$ = "
      ],
      "text/plain": [
       "<IPython.core.display.Latex object>"
      ]
     },
     "metadata": {},
     "output_type": "display_data"
    },
    {
     "name": "stdin",
     "output_type": "stream",
     "text": [
      "None s\n"
     ]
    },
    {
     "name": "stdout",
     "output_type": "stream",
     "text": [
      "\u001b[39m--------------------------------------------------------------------------------\n",
      "\u001b[31mCuidado: ocurrió un error en tus cálculos y/o en tu respuesta.\n",
      "\u001b[39m--------------------------------------------------------------------------------\n"
     ]
    }
   ],
   "source": [
    "ȩ.responde('8e', \"f(x) = x^5 - 2x^3 + x, f'(x)\")"
   ]
  },
  {
   "cell_type": "code",
   "execution_count": 74,
   "id": "4f66bc54-5c4c-4328-8e05-16a77e4cad12",
   "metadata": {},
   "outputs": [
    {
     "data": {
      "text/latex": [
       "$f(x) = x^5 - 2x^3 + x, f''(x)$ = "
      ],
      "text/plain": [
       "<IPython.core.display.Latex object>"
      ]
     },
     "metadata": {},
     "output_type": "display_data"
    },
    {
     "name": "stdin",
     "output_type": "stream",
     "text": [
      "None s\n"
     ]
    },
    {
     "name": "stdout",
     "output_type": "stream",
     "text": [
      "\u001b[39m--------------------------------------------------------------------------------\n",
      "\u001b[31mCuidado: ocurrió un error en tus cálculos y/o en tu respuesta.\n",
      "\u001b[39m--------------------------------------------------------------------------------\n"
     ]
    }
   ],
   "source": [
    "ȩ.responde('8f', \"f(x) = x^5 - 2x^3 + x, f''(x)\")"
   ]
  },
  {
   "cell_type": "code",
   "execution_count": 75,
   "id": "2d5df84e-be08-4028-a1f1-5fba46cdf394",
   "metadata": {},
   "outputs": [
    {
     "data": {
      "text/latex": [
       "$f(x) = 4 \\cos x^2, f'(x)$ = "
      ],
      "text/plain": [
       "<IPython.core.display.Latex object>"
      ]
     },
     "metadata": {},
     "output_type": "display_data"
    },
    {
     "name": "stdin",
     "output_type": "stream",
     "text": [
      "None s\n"
     ]
    },
    {
     "name": "stdout",
     "output_type": "stream",
     "text": [
      "\u001b[39m--------------------------------------------------------------------------------\n",
      "\u001b[31mCuidado: ocurrió un error en tus cálculos y/o en tu respuesta.\n",
      "\u001b[39m--------------------------------------------------------------------------------\n"
     ]
    }
   ],
   "source": [
    "ȩ.responde('8g', \"f(x) = 4 \\cos x^2, f'(x)\")"
   ]
  },
  {
   "cell_type": "code",
   "execution_count": 76,
   "id": "71eab698-e8f3-4ba0-94e6-36043e9a10cc",
   "metadata": {},
   "outputs": [
    {
     "data": {
      "text/latex": [
       "$f(x) = 4 \\cos x^2, f'(x)$ = "
      ],
      "text/plain": [
       "<IPython.core.display.Latex object>"
      ]
     },
     "metadata": {},
     "output_type": "display_data"
    },
    {
     "name": "stdin",
     "output_type": "stream",
     "text": [
      "None s\n"
     ]
    },
    {
     "name": "stdout",
     "output_type": "stream",
     "text": [
      "\u001b[39m--------------------------------------------------------------------------------\n",
      "\u001b[31mCuidado: ocurrió un error en tus cálculos y/o en tu respuesta.\n",
      "\u001b[39m--------------------------------------------------------------------------------\n"
     ]
    }
   ],
   "source": [
    "ȩ.responde('8h', \"f(x) = 4 \\cos x^2, f'(x)\")"
   ]
  },
  {
   "cell_type": "markdown",
   "id": "42992142-c53c-4692-8b87-31b3a862c68c",
   "metadata": {},
   "source": [
    "Realiza las gráficas de las dos funciones y de su primera y segunda derivadas."
   ]
  },
  {
   "cell_type": "code",
   "execution_count": 81,
   "id": "c26a7f6c",
   "metadata": {},
   "outputs": [
    {
     "data": {
      "image/png": "[encoded data removed]",
      "text/plain": [
       "<Figure size 1280x480 with 2 Axes>"
      ]
     },
     "metadata": {},
     "output_type": "display_data"
    }
   ],
   "source": [
    "f = lambda x: x**5 - 2*x**3 + x\n",
    "\n",
    "### BEGIN SOLUTION\n",
    "f1 = lambda x: 5*x**4 -6*x**2 + 1\n",
    "f2 = lambda x: 20*x**3 - 12*x\n",
    "### END SOLUTION\n",
    "# f1 = lambda x: ...\n",
    "# f2 = lambda x: ...\n",
    "\n",
    "# Definimos la segunda función y sus derivadas\n",
    "g = lambda x: 4*np.cos(x**2)\n",
    "\n",
    "### BEGIN SOLUTION\n",
    "g1 = lambda x: -8*x*np.sin(x**2)\n",
    "g2 = lambda x: -8*np.sin(x**2) - 16*x**2*np.cos(x**2)\n",
    "### END SOLUTION\n",
    "# g1 = lambda x: ...\n",
    "# g2 = lambda x: ...\n",
    "\n",
    "x = np.linspace(-3, 3, 50) # Codominio de las funciones\n",
    "\n",
    "# Graficamos las funciones y sus derivadas\n",
    "plt.figure(figsize=(16,6))\n",
    "ax1 = plt.subplot(1,2,1)\n",
    "ax2 = plt.subplot(1,2,2)\n",
    "\n",
    "ax1.plot(x, f(x), label='$f(x)$',lw=3)\n",
    "ax1.plot(x, f1(x), label='$f^{(1)}(x)$',lw=3)\n",
    "ax1.plot(x, f2(x), label='$f^{(2)}(x)$',lw=3)\n",
    "ax1.legend(loc='upper center')\n",
    "ax1.set_title('$f(x)=x^5 - 2x^3 + x$ y sus derivadas')\n",
    "ax1.set_xlabel\n",
    "\n",
    "ax2.plot(x, g(x), label='$g(x)$',lw=3)\n",
    "ax2.plot(x, g1(x), label='$g^{(1)}(x)$',lw=3)\n",
    "ax2.plot(x, g2(x), label='$g^{(2)}(x)$',lw=3)\n",
    "ax2.legend(loc='upper center')\n",
    "ax2.set_title('$g(x)=4\\cos(x^2)$ y sus derivadas')\n",
    "\n",
    "ax1.set_xlabel(\"$x$\")\n",
    "ax1.set_ylabel(\"$f(x)$\")\n",
    "ax2.set_xlabel(\"$x$\")\n",
    "ax2.set_ylabel(\"$g(x)$\")\n",
    "\n",
    "plt.show()"
   ]
  },
  {
   "cell_type": "markdown",
   "id": "65d1e5ec",
   "metadata": {},
   "source": [
    "<a name='4-9'></a>\n",
    "### 9. Aplicación de la regla de L'Hopital\n",
    "\n",
    "Utilizando la regla de L'Hopital encuentra el límite de $\\displaystyle f(x)=\\frac{\\sin(x)}{x}$ cuando $x$ tiende a cero.\n",
    "\n",
    "**Solución.**\n",
    "\n",
    "Al cumplirse las condiciones de la regla podemos asegurar que:\n",
    " $$ \\lim_{x \\to 0} \\frac{\\sin (x)}{x} = \\lim_{x \\to 0} \\frac{\\sin^\\prime(x)}{x^\\prime} = \\lim_{x \\to 0} \\frac{\\cos(x)}{1}=1$$\n"
   ]
  },
  {
   "cell_type": "code",
   "execution_count": 79,
   "id": "0fd0cb0f",
   "metadata": {},
   "outputs": [
    {
     "data": {
      "image/png": "[encoded data removed]",
      "text/plain": [
       "<Figure size 512x384 with 1 Axes>"
      ]
     },
     "metadata": {},
     "output_type": "display_data"
    }
   ],
   "source": [
    "f = lambda x: np.sin(x) / x\n",
    "\n",
    "x = np.linspace(-4*np.pi, 4*np.pi, num=100) # Codominio de la función\n",
    "\n",
    "# Graficamos la función y el punto (0, f(0))\n",
    "plt.title('$f(x)=\\sin(x) / x$')\n",
    "plt.ylabel(\"$f(x)$\")\n",
    "plt.xlabel(\"$x$\")\n",
    "plt.plot(x, f(x),lw=3)\n",
    "plt.scatter(0, 1, label='Límite cuando $x \\Rightarrow 0$', fc='red', ec='black', alpha=0.75, s=75, zorder=10)\n",
    "plt.legend()\n",
    "plt.show()"
   ]
  },
  {
   "cell_type": "markdown",
   "id": "f8e79ed9",
   "metadata": {
    "tags": []
   },
   "source": [
    "<a name='4-10'></a>\n",
    "### 10. Ejemplo del teorema de Rolle.\n",
    "Considere la función $f(x)= x^2 + 5$, la cual es continúa en todo $\\mathbb{R}$. Tomemos el intervalo $[-5,5]$ y hagamos la gráfica de esta función. Observe en la gráfica que sigue, que se cumplen las condiciones del Teorema de Rolle y por lo tanto es posible encontrar un punto $c$, punto rojo, donde la derivada es cero (línea roja)."
   ]
  },
  {
   "cell_type": "code",
   "execution_count": 58,
   "id": "27a99613",
   "metadata": {},
   "outputs": [
    {
     "data": {
      "image/png": "[encoded data removed]",
      "text/plain": [
       "<Figure size 512x384 with 1 Axes>"
      ]
     },
     "metadata": {},
     "output_type": "display_data"
    }
   ],
   "source": [
    "# Dominio e imagen de la gráfica\n",
    "x = np.linspace(-10,10,200)\n",
    "f = lambda i: i**2 + 5 \n",
    "\n",
    "# Configuración de la grafica\n",
    "plt.xticks(range(-10,11,5))\n",
    "plt.yticks(range(-10,110,10))\n",
    "plt.xlabel(\"X\",)\n",
    "plt.ylabel(\"$f(x)$\")\n",
    "plt.title(\"$f(x)=x^{2}+5$\")\n",
    "\n",
    "# Función\n",
    "plt.plot(x,f(x))\n",
    "\n",
    "# Dibujamos algunas líneas en la gráfica\n",
    "plt.plot(np.linspace(-10,10,2),[f(5)]*2,ls=\"dashed\",color=\"green\")\n",
    "plt.plot((5,5),(0,f(5)),ls=\"dashed\",color=\"green\")\n",
    "plt.plot((-5,-5),(0,f(5)),ls=\"dashed\",color=\"green\")\n",
    "plt.plot((-3,3),(5,5),color=\"red\",label=\"Línea Tangente\")\n",
    "\n",
    "# Dibujamos algunos puntos en la gráfica\n",
    "plt.scatter((-5,5),(0,0),color=\"black\",label=\"Puntos a y b\",zorder=5)\n",
    "plt.scatter((-5,5),(f(-5),f(5)),color=\"blue\",label=\"Puntos $f(a)$ y $f(b)$\",zorder=5)\n",
    "plt.scatter(0,f(0),color=\"red\",label=\"Punto en el que $f'(x)=0$\",zorder=5)\n",
    "\n",
    "plt.legend(loc=\"upper center\")\n",
    "plt.show()"
   ]
  }
 ],
 "metadata": {
  "kernelspec": {
   "display_name": "Python 3 (ipykernel)",
   "language": "python",
   "name": "python3"
  },
  "language_info": {
   "codemirror_mode": {
    "name": "ipython",
    "version": 3
   },
   "file_extension": ".py",
   "mimetype": "text/x-python",
   "name": "python",
   "nbconvert_exporter": "python",
   "pygments_lexer": "ipython3",
   "version": "3.9.7"
  }
 },
 "nbformat": 4,
 "nbformat_minor": 5
}
