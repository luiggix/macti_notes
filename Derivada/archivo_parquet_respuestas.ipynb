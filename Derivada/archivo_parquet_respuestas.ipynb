{
 "cells": [
  {
   "cell_type": "code",
   "execution_count": 1,
   "id": "4f67517d-a9e3-4647-b489-2112beedb6e4",
   "metadata": {},
   "outputs": [],
   "source": [
    "import numpy as np\n",
    "import pandas as pd"
   ]
  },
  {
   "cell_type": "code",
   "execution_count": 7,
   "id": "0e83b995-51a3-4290-90e2-f93bcb276e0a",
   "metadata": {},
   "outputs": [
    {
     "data": {
      "text/html": [
       "<div>\n",
       "<style scoped>\n",
       "    .dataframe tbody tr th:only-of-type {\n",
       "        vertical-align: middle;\n",
       "    }\n",
       "\n",
       "    .dataframe tbody tr th {\n",
       "        vertical-align: top;\n",
       "    }\n",
       "\n",
       "    .dataframe thead th {\n",
       "        text-align: right;\n",
       "    }\n",
       "</style>\n",
       "<table border=\"1\" class=\"dataframe\">\n",
       "  <thead>\n",
       "    <tr style=\"text-align: right;\">\n",
       "      <th></th>\n",
       "      <th>1</th>\n",
       "      <th>2</th>\n",
       "      <th>3</th>\n",
       "      <th>4A</th>\n",
       "      <th>4B</th>\n",
       "      <th>4C</th>\n",
       "      <th>4D</th>\n",
       "    </tr>\n",
       "  </thead>\n",
       "  <tbody>\n",
       "    <tr>\n",
       "      <th>0</th>\n",
       "      <td>[0.145]</td>\n",
       "      <td>[0.0196]</td>\n",
       "      <td>[C, c]</td>\n",
       "      <td>[2.369007]</td>\n",
       "      <td>[0.498646]</td>\n",
       "      <td>[4.9e-09]</td>\n",
       "      <td>[1.1e-09]</td>\n",
       "    </tr>\n",
       "  </tbody>\n",
       "</table>\n",
       "</div>"
      ],
      "text/plain": [
       "         1         2       3          4A          4B         4C         4D\n",
       "0  [0.145]  [0.0196]  [C, c]  [2.369007]  [0.498646]  [4.9e-09]  [1.1e-09]"
      ]
     },
     "execution_count": 7,
     "metadata": {},
     "output_type": "execute_result"
    }
   ],
   "source": [
    "# Numeración de los ejercicios\n",
    "ejercicios = ['1', '2', '3', '4A', '4B', '4C', '4D']\n",
    "\n",
    "# Lista vacía para las respuestas\n",
    "respuestas = []\n",
    "\n",
    "# Agregar las respuestas a cada ejercicio\n",
    "respuestas.append(np.array([0.1450]))   # 1\n",
    "respuestas.append(np.array([0.0196]))   # 2\n",
    "respuestas.append(['C', 'c'])           # 3\n",
    "respuestas.append(np.array([2.369007])) # 4A\n",
    "respuestas.append(np.array([0.498646])) # 4a\n",
    "respuestas.append(np.array([4.9e-09]))  # 4b\n",
    "respuestas.append(np.array([1.1e-09]))  # 4c\n",
    "\n",
    "# Convertimos a un DataFrame\n",
    "ans_df = pd.DataFrame([respuestas], columns=ejercicios)\n",
    "\n",
    "# Escribimos las respuestas en un archivo tipo parquet, binario y comprimido\n",
    "ans_df.to_parquet('__ans1.parquet.gz', compression='gzip')\n",
    "\n",
    "# Mostramos el contenido del DataFrame\n",
    "ans_df"
   ]
  },
  {
   "cell_type": "code",
   "execution_count": 8,
   "id": "f9cc6ce8-e5cd-43ae-abde-1ef16a0f676d",
   "metadata": {},
   "outputs": [
    {
     "data": {
      "text/html": [
       "<div>\n",
       "<style scoped>\n",
       "    .dataframe tbody tr th:only-of-type {\n",
       "        vertical-align: middle;\n",
       "    }\n",
       "\n",
       "    .dataframe tbody tr th {\n",
       "        vertical-align: top;\n",
       "    }\n",
       "\n",
       "    .dataframe thead th {\n",
       "        text-align: right;\n",
       "    }\n",
       "</style>\n",
       "<table border=\"1\" class=\"dataframe\">\n",
       "  <thead>\n",
       "    <tr style=\"text-align: right;\">\n",
       "      <th></th>\n",
       "      <th>1</th>\n",
       "      <th>2</th>\n",
       "      <th>3</th>\n",
       "      <th>4A</th>\n",
       "      <th>4B</th>\n",
       "      <th>4C</th>\n",
       "      <th>4D</th>\n",
       "    </tr>\n",
       "  </thead>\n",
       "  <tbody>\n",
       "    <tr>\n",
       "      <th>0</th>\n",
       "      <td>[0.145]</td>\n",
       "      <td>[0.0196]</td>\n",
       "      <td>[C, c]</td>\n",
       "      <td>[2.369007]</td>\n",
       "      <td>[0.498646]</td>\n",
       "      <td>[4.9e-09]</td>\n",
       "      <td>[1.1e-09]</td>\n",
       "    </tr>\n",
       "  </tbody>\n",
       "</table>\n",
       "</div>"
      ],
      "text/plain": [
       "         1         2       3          4A          4B         4C         4D\n",
       "0  [0.145]  [0.0196]  [C, c]  [2.369007]  [0.498646]  [4.9e-09]  [1.1e-09]"
      ]
     },
     "execution_count": 8,
     "metadata": {},
     "output_type": "execute_result"
    }
   ],
   "source": [
    "# Se puede leer el contenido del archivo tipo parquet, binario y comprimido como sigue\n",
    "ans_df2 = pd.read_parquet('__ans1.parquet.gz') # Se lee en un DataFrame\n",
    "ans_df2"
   ]
  },
  {
   "cell_type": "code",
   "execution_count": null,
   "id": "9cafcc00-5233-443e-b695-db4b963bb453",
   "metadata": {},
   "outputs": [],
   "source": []
  }
 ],
 "metadata": {
  "kernelspec": {
   "display_name": "Python 3 (ipykernel)",
   "language": "python",
   "name": "python3"
  },
  "language_info": {
   "codemirror_mode": {
    "name": "ipython",
    "version": 3
   },
   "file_extension": ".py",
   "mimetype": "text/x-python",
   "name": "python",
   "nbconvert_exporter": "python",
   "pygments_lexer": "ipython3",
   "version": "3.10.7"
  }
 },
 "nbformat": 4,
 "nbformat_minor": 5
}
