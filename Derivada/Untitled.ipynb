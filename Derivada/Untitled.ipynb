{
 "cells": [
  {
   "cell_type": "code",
   "execution_count": 8,
   "id": "4f67517d-a9e3-4647-b489-2112beedb6e4",
   "metadata": {},
   "outputs": [],
   "source": [
    "import numpy as np\n",
    "import pandas as pd"
   ]
  },
  {
   "cell_type": "code",
   "execution_count": 27,
   "id": "338036a5-1ae1-4720-8791-6337dc75681b",
   "metadata": {},
   "outputs": [],
   "source": [
    "ejercicios = ['1a', '1b', '2', '3', '4a', '4b', '4c']"
   ]
  },
  {
   "cell_type": "code",
   "execution_count": 28,
   "id": "b2a65e9f-97a9-4a4a-84e7-43ff0760130d",
   "metadata": {},
   "outputs": [],
   "source": [
    "respuestas = []\n",
    "respuestas.append(['A', 'a'])                   # 1a\n",
    "respuestas.append(np.array([3.141592])) # 1b\n",
    "respuestas.append(np.array([1.,2.,4.]))         # 2\n",
    "respuestas.append(np.ones((3,3)).flatten())     # 3\n",
    "respuestas.append(['C', 'c'])                          # 4a\n",
    "respuestas.append(np.array([0.023, .23]))       # 4b\n",
    "respuestas.append('x^4')                        # 4c"
   ]
  },
  {
   "cell_type": "code",
   "execution_count": 29,
   "id": "87d3f6b9-941e-4564-858f-0cadc9b8d1f0",
   "metadata": {},
   "outputs": [
    {
     "data": {
      "text/plain": [
       "[['A', 'a'],\n",
       " array([3.141592]),\n",
       " array([1., 2., 4.]),\n",
       " array([1., 1., 1., 1., 1., 1., 1., 1., 1.]),\n",
       " ['C', 'c'],\n",
       " array([0.023, 0.23 ]),\n",
       " 'x^4']"
      ]
     },
     "execution_count": 29,
     "metadata": {},
     "output_type": "execute_result"
    }
   ],
   "source": [
    "respuestas"
   ]
  },
  {
   "cell_type": "code",
   "execution_count": 30,
   "id": "6f997fa6-1527-4bd9-aa51-be1c62b5615e",
   "metadata": {},
   "outputs": [
    {
     "data": {
      "text/html": [
       "<div>\n",
       "<style scoped>\n",
       "    .dataframe tbody tr th:only-of-type {\n",
       "        vertical-align: middle;\n",
       "    }\n",
       "\n",
       "    .dataframe tbody tr th {\n",
       "        vertical-align: top;\n",
       "    }\n",
       "\n",
       "    .dataframe thead th {\n",
       "        text-align: right;\n",
       "    }\n",
       "</style>\n",
       "<table border=\"1\" class=\"dataframe\">\n",
       "  <thead>\n",
       "    <tr style=\"text-align: right;\">\n",
       "      <th></th>\n",
       "      <th>1a</th>\n",
       "      <th>1b</th>\n",
       "      <th>2</th>\n",
       "      <th>3</th>\n",
       "      <th>4a</th>\n",
       "      <th>4b</th>\n",
       "      <th>4c</th>\n",
       "    </tr>\n",
       "  </thead>\n",
       "  <tbody>\n",
       "    <tr>\n",
       "      <th>0</th>\n",
       "      <td>[A, a]</td>\n",
       "      <td>[3.141592]</td>\n",
       "      <td>[1.0, 2.0, 4.0]</td>\n",
       "      <td>[1.0, 1.0, 1.0, 1.0, 1.0, 1.0, 1.0, 1.0, 1.0]</td>\n",
       "      <td>[C, c]</td>\n",
       "      <td>[0.023, 0.23]</td>\n",
       "      <td>x^4</td>\n",
       "    </tr>\n",
       "  </tbody>\n",
       "</table>\n",
       "</div>"
      ],
      "text/plain": [
       "       1a          1b                2  \\\n",
       "0  [A, a]  [3.141592]  [1.0, 2.0, 4.0]   \n",
       "\n",
       "                                               3      4a             4b   4c  \n",
       "0  [1.0, 1.0, 1.0, 1.0, 1.0, 1.0, 1.0, 1.0, 1.0]  [C, c]  [0.023, 0.23]  x^4  "
      ]
     },
     "execution_count": 30,
     "metadata": {},
     "output_type": "execute_result"
    }
   ],
   "source": [
    "df = pd.DataFrame([respuestas], columns=ejercicios)\n",
    "df"
   ]
  },
  {
   "cell_type": "code",
   "execution_count": 35,
   "id": "9074e2e8-be26-4cc4-b95b-17358ea3b40e",
   "metadata": {},
   "outputs": [],
   "source": [
    "df.to_parquet('__ans', compression='gzip')"
   ]
  },
  {
   "cell_type": "code",
   "execution_count": 36,
   "id": "5474bf05-5fe4-48fe-a1db-56a9af296582",
   "metadata": {},
   "outputs": [
    {
     "data": {
      "text/html": [
       "<div>\n",
       "<style scoped>\n",
       "    .dataframe tbody tr th:only-of-type {\n",
       "        vertical-align: middle;\n",
       "    }\n",
       "\n",
       "    .dataframe tbody tr th {\n",
       "        vertical-align: top;\n",
       "    }\n",
       "\n",
       "    .dataframe thead th {\n",
       "        text-align: right;\n",
       "    }\n",
       "</style>\n",
       "<table border=\"1\" class=\"dataframe\">\n",
       "  <thead>\n",
       "    <tr style=\"text-align: right;\">\n",
       "      <th></th>\n",
       "      <th>1a</th>\n",
       "      <th>1b</th>\n",
       "      <th>2</th>\n",
       "      <th>3</th>\n",
       "      <th>4a</th>\n",
       "      <th>4b</th>\n",
       "      <th>4c</th>\n",
       "    </tr>\n",
       "  </thead>\n",
       "  <tbody>\n",
       "    <tr>\n",
       "      <th>0</th>\n",
       "      <td>[A, a]</td>\n",
       "      <td>[3.141592]</td>\n",
       "      <td>[1.0, 2.0, 4.0]</td>\n",
       "      <td>[1.0, 1.0, 1.0, 1.0, 1.0, 1.0, 1.0, 1.0, 1.0]</td>\n",
       "      <td>[C, c]</td>\n",
       "      <td>[0.023, 0.23]</td>\n",
       "      <td>x^4</td>\n",
       "    </tr>\n",
       "  </tbody>\n",
       "</table>\n",
       "</div>"
      ],
      "text/plain": [
       "       1a          1b                2  \\\n",
       "0  [A, a]  [3.141592]  [1.0, 2.0, 4.0]   \n",
       "\n",
       "                                               3      4a             4b   4c  \n",
       "0  [1.0, 1.0, 1.0, 1.0, 1.0, 1.0, 1.0, 1.0, 1.0]  [C, c]  [0.023, 0.23]  x^4  "
      ]
     },
     "execution_count": 36,
     "metadata": {},
     "output_type": "execute_result"
    }
   ],
   "source": [
    "df2 = pd.read_parquet('__ans')\n",
    "df2"
   ]
  },
  {
   "cell_type": "code",
   "execution_count": 15,
   "id": "b4187efd-7bfe-44bf-a14e-f7be8d3f9989",
   "metadata": {},
   "outputs": [],
   "source": [
    "from evaluacion import Ejercicio\n",
    "ȩ = Ejercicio('', local=True)"
   ]
  },
  {
   "cell_type": "code",
   "execution_count": 16,
   "id": "449de09b-df1d-4e6f-b16d-55c9cfa72333",
   "metadata": {},
   "outputs": [
    {
     "name": "stdin",
     "output_type": "stream",
     "text": [
      "= a\n"
     ]
    },
    {
     "name": "stdout",
     "output_type": "stream",
     "text": [
      "\u001b[32m¡Tu respuesta es correcta!\n"
     ]
    }
   ],
   "source": [
    "ȩ.responde('1a')"
   ]
  },
  {
   "cell_type": "code",
   "execution_count": 17,
   "id": "f0d8487e-c816-446f-a5c4-82dcedbc1f3e",
   "metadata": {},
   "outputs": [
    {
     "name": "stdin",
     "output_type": "stream",
     "text": [
      "= c\n"
     ]
    },
    {
     "name": "stdout",
     "output_type": "stream",
     "text": [
      "\u001b[32m¡Tu respuesta es correcta!\n"
     ]
    }
   ],
   "source": [
    "ȩ.responde('4a')"
   ]
  },
  {
   "cell_type": "code",
   "execution_count": 18,
   "id": "9b6e1f5f-5f80-419f-a190-921bd9ebc5af",
   "metadata": {},
   "outputs": [
    {
     "data": {
      "text/latex": [
       "$x^4 \\sin(x)$ = "
      ],
      "text/plain": [
       "<IPython.core.display.Latex object>"
      ]
     },
     "metadata": {},
     "output_type": "display_data"
    },
    {
     "name": "stdin",
     "output_type": "stream",
     "text": [
      "None x^4\n"
     ]
    },
    {
     "name": "stdout",
     "output_type": "stream",
     "text": [
      "\u001b[32m¡Tu respuesta es correcta!\n"
     ]
    }
   ],
   "source": [
    "ȩ.responde('4c', 'x^4 \\sin(x)')"
   ]
  },
  {
   "cell_type": "code",
   "execution_count": 19,
   "id": "a17595fe-ad56-41c6-abb9-dacf16957b47",
   "metadata": {},
   "outputs": [],
   "source": [
    "x = np.array([1., 2., 4.0000])"
   ]
  },
  {
   "cell_type": "code",
   "execution_count": 20,
   "id": "614e5e93-e0f2-450b-966d-e3b1b339e4ec",
   "metadata": {},
   "outputs": [
    {
     "name": "stdout",
     "output_type": "stream",
     "text": [
      "\u001b[32m¡Tu resultado es correcto!\n"
     ]
    }
   ],
   "source": [
    "ȩ.verifica('2', x)"
   ]
  },
  {
   "cell_type": "code",
   "execution_count": 21,
   "id": "e20959ce-6a89-4dac-95c8-6ff48e756057",
   "metadata": {},
   "outputs": [
    {
     "data": {
      "text/plain": [
       "array(3.141592)"
      ]
     },
     "execution_count": 21,
     "metadata": {},
     "output_type": "execute_result"
    }
   ],
   "source": [
    "z = np.array(3.141592)\n",
    "z"
   ]
  },
  {
   "cell_type": "code",
   "execution_count": 22,
   "id": "f8faa17a-05b4-4596-ba84-a14d9d30bb82",
   "metadata": {},
   "outputs": [
    {
     "name": "stdout",
     "output_type": "stream",
     "text": [
      "\u001b[32m¡Tu resultado es correcto!\n"
     ]
    }
   ],
   "source": [
    "ȩ.verifica('1b', z)"
   ]
  },
  {
   "cell_type": "code",
   "execution_count": 23,
   "id": "ee24a162-be21-4032-8701-caba30b66a91",
   "metadata": {},
   "outputs": [
    {
     "data": {
      "text/plain": [
       "['_Ejercicio__topic',\n",
       " '__class__',\n",
       " '__delattr__',\n",
       " '__dict__',\n",
       " '__dir__',\n",
       " '__doc__',\n",
       " '__eq__',\n",
       " '__format__',\n",
       " '__ge__',\n",
       " '__getattribute__',\n",
       " '__gt__',\n",
       " '__hash__',\n",
       " '__init__',\n",
       " '__init_subclass__',\n",
       " '__le__',\n",
       " '__lt__',\n",
       " '__module__',\n",
       " '__ne__',\n",
       " '__new__',\n",
       " '__reduce__',\n",
       " '__reduce_ex__',\n",
       " '__repr__',\n",
       " '__setattr__',\n",
       " '__sizeof__',\n",
       " '__str__',\n",
       " '__subclasshook__',\n",
       " '__weakref__',\n",
       " 'local',\n",
       " 'read',\n",
       " 'responde',\n",
       " 'verifica']"
      ]
     },
     "execution_count": 23,
     "metadata": {},
     "output_type": "execute_result"
    }
   ],
   "source": [
    "dir(ȩ)"
   ]
  },
  {
   "cell_type": "code",
   "execution_count": 24,
   "id": "03aa6c54-4674-4f80-9f99-c4e23389ed55",
   "metadata": {},
   "outputs": [
    {
     "data": {
      "text/plain": [
       "{'_Ejercicio__topic': '', 'local': True}"
      ]
     },
     "execution_count": 24,
     "metadata": {},
     "output_type": "execute_result"
    }
   ],
   "source": [
    "vars(ȩ)"
   ]
  },
  {
   "cell_type": "code",
   "execution_count": 38,
   "id": "0e83b995-51a3-4290-90e2-f93bcb276e0a",
   "metadata": {},
   "outputs": [
    {
     "data": {
      "text/html": [
       "<div>\n",
       "<style scoped>\n",
       "    .dataframe tbody tr th:only-of-type {\n",
       "        vertical-align: middle;\n",
       "    }\n",
       "\n",
       "    .dataframe tbody tr th {\n",
       "        vertical-align: top;\n",
       "    }\n",
       "\n",
       "    .dataframe thead th {\n",
       "        text-align: right;\n",
       "    }\n",
       "</style>\n",
       "<table border=\"1\" class=\"dataframe\">\n",
       "  <thead>\n",
       "    <tr style=\"text-align: right;\">\n",
       "      <th></th>\n",
       "      <th>1</th>\n",
       "      <th>2</th>\n",
       "      <th>3</th>\n",
       "      <th>4A</th>\n",
       "      <th>4B</th>\n",
       "      <th>4C</th>\n",
       "      <th>4D</th>\n",
       "    </tr>\n",
       "  </thead>\n",
       "  <tbody>\n",
       "    <tr>\n",
       "      <th>0</th>\n",
       "      <td>[0.145]</td>\n",
       "      <td>[0.0196]</td>\n",
       "      <td>[C, c]</td>\n",
       "      <td>[2.369007]</td>\n",
       "      <td>[0.498646]</td>\n",
       "      <td>[4.9e-09]</td>\n",
       "      <td>[1.1e-09]</td>\n",
       "    </tr>\n",
       "  </tbody>\n",
       "</table>\n",
       "</div>"
      ],
      "text/plain": [
       "         1         2       3          4A          4B         4C         4D\n",
       "0  [0.145]  [0.0196]  [C, c]  [2.369007]  [0.498646]  [4.9e-09]  [1.1e-09]"
      ]
     },
     "execution_count": 38,
     "metadata": {},
     "output_type": "execute_result"
    }
   ],
   "source": [
    "ejercicios = ['1', '2', '3', '4A', '4B', '4C', '4D']\n",
    "respuestas = []\n",
    "respuestas.append(np.array([0.1450]))   # 1\n",
    "respuestas.append(np.array([0.0196]))   # 2\n",
    "respuestas.append(['C', 'c'])           # 3\n",
    "respuestas.append(np.array([2.369007])) # 4A\n",
    "respuestas.append(np.array([0.498646])) # 4a\n",
    "respuestas.append(np.array([4.9e-09]))  # 4b\n",
    "respuestas.append(np.array([1.1e-09]))  # 4c\n",
    "ans_df = pd.DataFrame([respuestas], columns=ejercicios)\n",
    "ans_df.to_parquet('__ans', compression='gzip')\n",
    "ans_df"
   ]
  },
  {
   "cell_type": "code",
   "execution_count": 39,
   "id": "f9cc6ce8-e5cd-43ae-abde-1ef16a0f676d",
   "metadata": {},
   "outputs": [
    {
     "data": {
      "text/html": [
       "<div>\n",
       "<style scoped>\n",
       "    .dataframe tbody tr th:only-of-type {\n",
       "        vertical-align: middle;\n",
       "    }\n",
       "\n",
       "    .dataframe tbody tr th {\n",
       "        vertical-align: top;\n",
       "    }\n",
       "\n",
       "    .dataframe thead th {\n",
       "        text-align: right;\n",
       "    }\n",
       "</style>\n",
       "<table border=\"1\" class=\"dataframe\">\n",
       "  <thead>\n",
       "    <tr style=\"text-align: right;\">\n",
       "      <th></th>\n",
       "      <th>1</th>\n",
       "      <th>2</th>\n",
       "      <th>3</th>\n",
       "      <th>4A</th>\n",
       "      <th>4B</th>\n",
       "      <th>4C</th>\n",
       "      <th>4D</th>\n",
       "    </tr>\n",
       "  </thead>\n",
       "  <tbody>\n",
       "    <tr>\n",
       "      <th>0</th>\n",
       "      <td>[0.145]</td>\n",
       "      <td>[0.0196]</td>\n",
       "      <td>[C, c]</td>\n",
       "      <td>[2.369007]</td>\n",
       "      <td>[0.498646]</td>\n",
       "      <td>[4.9e-09]</td>\n",
       "      <td>[1.1e-09]</td>\n",
       "    </tr>\n",
       "  </tbody>\n",
       "</table>\n",
       "</div>"
      ],
      "text/plain": [
       "         1         2       3          4A          4B         4C         4D\n",
       "0  [0.145]  [0.0196]  [C, c]  [2.369007]  [0.498646]  [4.9e-09]  [1.1e-09]"
      ]
     },
     "execution_count": 39,
     "metadata": {},
     "output_type": "execute_result"
    }
   ],
   "source": [
    "ans_df2 = pd.read_parquet('__ans')\n",
    "ans_df2"
   ]
  },
  {
   "cell_type": "code",
   "execution_count": null,
   "id": "9cafcc00-5233-443e-b695-db4b963bb453",
   "metadata": {},
   "outputs": [],
   "source": []
  }
 ],
 "metadata": {
  "kernelspec": {
   "display_name": "Python 3 (ipykernel)",
   "language": "python",
   "name": "python3"
  },
  "language_info": {
   "codemirror_mode": {
    "name": "ipython",
    "version": 3
   },
   "file_extension": ".py",
   "mimetype": "text/x-python",
   "name": "python",
   "nbconvert_exporter": "python",
   "pygments_lexer": "ipython3",
   "version": "3.9.7"
  }
 },
 "nbformat": 4,
 "nbformat_minor": 5
}
