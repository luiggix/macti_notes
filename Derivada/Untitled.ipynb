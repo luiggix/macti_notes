{
 "cells": [
  {
   "cell_type": "code",
   "execution_count": 5,
   "id": "4f67517d-a9e3-4647-b489-2112beedb6e4",
   "metadata": {},
   "outputs": [],
   "source": [
    "import numpy as np\n",
    "import pandas as pd\n",
    "import pyarrow as pa"
   ]
  },
  {
   "cell_type": "code",
   "execution_count": null,
   "id": "338036a5-1ae1-4720-8791-6337dc75681b",
   "metadata": {},
   "outputs": [],
   "source": [
    "ejercicios = ['1a', '1b', '2', '3', '4a', '4b', '4c']"
   ]
  },
  {
   "cell_type": "code",
   "execution_count": null,
   "id": "b2a65e9f-97a9-4a4a-84e7-43ff0760130d",
   "metadata": {},
   "outputs": [],
   "source": [
    "respuestas = []\n",
    "respuestas.append(['A', 'a'])                   # 1a\n",
    "respuestas.append(np.array([3.141592])) # 1b\n",
    "respuestas.append(np.array([1.,2.,4.]))         # 2\n",
    "respuestas.append(np.ones((3,3)).flatten())     # 3\n",
    "respuestas.append('C')                          # 4a\n",
    "respuestas.append(np.array([0.023, .23]))       # 4b\n",
    "respuestas.append('x^4')                        # 4c"
   ]
  },
  {
   "cell_type": "code",
   "execution_count": null,
   "id": "87d3f6b9-941e-4564-858f-0cadc9b8d1f0",
   "metadata": {},
   "outputs": [],
   "source": [
    "respuestas"
   ]
  },
  {
   "cell_type": "code",
   "execution_count": null,
   "id": "6f997fa6-1527-4bd9-aa51-be1c62b5615e",
   "metadata": {},
   "outputs": [],
   "source": [
    "df = pd.DataFrame([respuestas], columns=ejercicios)\n",
    "df"
   ]
  },
  {
   "cell_type": "code",
   "execution_count": null,
   "id": "324f3a31-1f2a-4c9a-be26-9f9f9d0e22d3",
   "metadata": {},
   "outputs": [],
   "source": [
    "'a' in df['1a'][0]"
   ]
  },
  {
   "cell_type": "code",
   "execution_count": null,
   "id": "a20b0bdc-aa61-4032-934f-282cdf8ca2b7",
   "metadata": {},
   "outputs": [],
   "source": [
    "[1., 2., 4.] in df['2'][0]"
   ]
  },
  {
   "cell_type": "code",
   "execution_count": null,
   "id": "ea64a15e-7544-44af-bc21-c5090dc3ecd0",
   "metadata": {},
   "outputs": [],
   "source": [
    "table = pa.Table.from_pandas(df)"
   ]
  },
  {
   "cell_type": "code",
   "execution_count": null,
   "id": "ea1e1464-be6a-4233-bb71-cfd079594339",
   "metadata": {},
   "outputs": [],
   "source": [
    "table"
   ]
  },
  {
   "cell_type": "code",
   "execution_count": null,
   "id": "727def85-b130-460d-b08e-3253ad6c978d",
   "metadata": {},
   "outputs": [],
   "source": [
    "import pyarrow.parquet as pq"
   ]
  },
  {
   "cell_type": "code",
   "execution_count": null,
   "id": "9074e2e8-be26-4cc4-b95b-17358ea3b40e",
   "metadata": {},
   "outputs": [],
   "source": [
    "pq.write_table(table, 'example_ans.parquet')"
   ]
  },
  {
   "cell_type": "code",
   "execution_count": null,
   "id": "5474bf05-5fe4-48fe-a1db-56a9af296582",
   "metadata": {},
   "outputs": [],
   "source": [
    "table2 = pq.read_table('example_ans.parquet')"
   ]
  },
  {
   "cell_type": "code",
   "execution_count": null,
   "id": "64a09320-e0aa-43e7-9ba8-3a49a16dbc81",
   "metadata": {},
   "outputs": [],
   "source": [
    "table2"
   ]
  },
  {
   "cell_type": "code",
   "execution_count": null,
   "id": "a6bf3163-945f-4b65-90d9-062cbe2bfdd1",
   "metadata": {},
   "outputs": [],
   "source": [
    "df2 = table2.to_pandas()"
   ]
  },
  {
   "cell_type": "code",
   "execution_count": null,
   "id": "f015aec9-8710-46b2-8940-cc24355b15cd",
   "metadata": {},
   "outputs": [],
   "source": [
    "df2"
   ]
  },
  {
   "cell_type": "code",
   "execution_count": null,
   "id": "65f93921-1146-4229-bf87-6eabf0ef59ab",
   "metadata": {},
   "outputs": [],
   "source": [
    "'a' in df2['1a'][0]"
   ]
  },
  {
   "cell_type": "code",
   "execution_count": 1,
   "id": "b4187efd-7bfe-44bf-a14e-f7be8d3f9989",
   "metadata": {},
   "outputs": [],
   "source": [
    "from evaluacion import Ejercicio\n",
    "ȩ = Ejercicio('', local=True)"
   ]
  },
  {
   "cell_type": "code",
   "execution_count": 2,
   "id": "449de09b-df1d-4e6f-b16d-55c9cfa72333",
   "metadata": {},
   "outputs": [
    {
     "name": "stdin",
     "output_type": "stream",
     "text": [
      "= a\n"
     ]
    },
    {
     "name": "stdout",
     "output_type": "stream",
     "text": [
      "\u001b[32m¡Tu respuesta es correcta!\n"
     ]
    }
   ],
   "source": [
    "ȩ.responde('1a')"
   ]
  },
  {
   "cell_type": "code",
   "execution_count": 3,
   "id": "9b6e1f5f-5f80-419f-a190-921bd9ebc5af",
   "metadata": {},
   "outputs": [
    {
     "data": {
      "text/latex": [
       "$x^4 \\sin(x)$ = "
      ],
      "text/plain": [
       "<IPython.core.display.Latex object>"
      ]
     },
     "metadata": {},
     "output_type": "display_data"
    },
    {
     "name": "stdin",
     "output_type": "stream",
     "text": [
      "None x^4\n"
     ]
    },
    {
     "name": "stdout",
     "output_type": "stream",
     "text": [
      "\u001b[32m¡Tu respuesta es correcta!\n"
     ]
    }
   ],
   "source": [
    "ȩ.responde('4c', 'x^4 \\sin(x)')"
   ]
  },
  {
   "cell_type": "code",
   "execution_count": 6,
   "id": "a17595fe-ad56-41c6-abb9-dacf16957b47",
   "metadata": {},
   "outputs": [],
   "source": [
    "x = np.array([1., 2., 4.0000])"
   ]
  },
  {
   "cell_type": "code",
   "execution_count": 7,
   "id": "614e5e93-e0f2-450b-966d-e3b1b339e4ec",
   "metadata": {},
   "outputs": [
    {
     "name": "stdout",
     "output_type": "stream",
     "text": [
      "\u001b[32m¡Tu resultado es correcto!\n"
     ]
    }
   ],
   "source": [
    "ȩ.verifica('2', x)"
   ]
  },
  {
   "cell_type": "code",
   "execution_count": 8,
   "id": "e20959ce-6a89-4dac-95c8-6ff48e756057",
   "metadata": {},
   "outputs": [
    {
     "data": {
      "text/plain": [
       "array(3.141592)"
      ]
     },
     "execution_count": 8,
     "metadata": {},
     "output_type": "execute_result"
    }
   ],
   "source": [
    "z = np.array(3.141592)\n",
    "z"
   ]
  },
  {
   "cell_type": "code",
   "execution_count": 9,
   "id": "f8faa17a-05b4-4596-ba84-a14d9d30bb82",
   "metadata": {},
   "outputs": [
    {
     "name": "stdout",
     "output_type": "stream",
     "text": [
      "\u001b[32m¡Tu resultado es correcto!\n"
     ]
    }
   ],
   "source": [
    "ȩ.verifica('1b', z)"
   ]
  },
  {
   "cell_type": "code",
   "execution_count": 10,
   "id": "ee24a162-be21-4032-8701-caba30b66a91",
   "metadata": {},
   "outputs": [
    {
     "data": {
      "text/plain": [
       "['_Ejercicio__topic',\n",
       " '__class__',\n",
       " '__delattr__',\n",
       " '__dict__',\n",
       " '__dir__',\n",
       " '__doc__',\n",
       " '__eq__',\n",
       " '__format__',\n",
       " '__ge__',\n",
       " '__getattribute__',\n",
       " '__gt__',\n",
       " '__hash__',\n",
       " '__init__',\n",
       " '__init_subclass__',\n",
       " '__le__',\n",
       " '__lt__',\n",
       " '__module__',\n",
       " '__ne__',\n",
       " '__new__',\n",
       " '__reduce__',\n",
       " '__reduce_ex__',\n",
       " '__repr__',\n",
       " '__setattr__',\n",
       " '__sizeof__',\n",
       " '__str__',\n",
       " '__subclasshook__',\n",
       " '__weakref__',\n",
       " 'local',\n",
       " 'read',\n",
       " 'responde',\n",
       " 'verifica']"
      ]
     },
     "execution_count": 10,
     "metadata": {},
     "output_type": "execute_result"
    }
   ],
   "source": [
    "dir(ȩ)"
   ]
  },
  {
   "cell_type": "code",
   "execution_count": 11,
   "id": "03aa6c54-4674-4f80-9f99-c4e23389ed55",
   "metadata": {},
   "outputs": [
    {
     "data": {
      "text/plain": [
       "{'_Ejercicio__topic': '', 'local': True}"
      ]
     },
     "execution_count": 11,
     "metadata": {},
     "output_type": "execute_result"
    }
   ],
   "source": [
    "vars(ȩ)"
   ]
  },
  {
   "cell_type": "code",
   "execution_count": null,
   "id": "0e83b995-51a3-4290-90e2-f93bcb276e0a",
   "metadata": {},
   "outputs": [],
   "source": []
  }
 ],
 "metadata": {
  "kernelspec": {
   "display_name": "Python 3 (ipykernel)",
   "language": "python",
   "name": "python3"
  },
  "language_info": {
   "codemirror_mode": {
    "name": "ipython",
    "version": 3
   },
   "file_extension": ".py",
   "mimetype": "text/x-python",
   "name": "python",
   "nbconvert_exporter": "python",
   "pygments_lexer": "ipython3",
   "version": "3.9.7"
  }
 },
 "nbformat": 4,
 "nbformat_minor": 5
}
