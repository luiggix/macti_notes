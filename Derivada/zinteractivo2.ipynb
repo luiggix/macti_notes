{
 "cells": [
  {
   "cell_type": "code",
   "execution_count": 133,
   "id": "ab13a81a-2321-4786-9106-afc4ecc67f8a",
   "metadata": {},
   "outputs": [
    {
     "data": {
      "application/vnd.jupyter.widget-view+json": {
       "model_id": "f5ff4fcd960641f3878d51dcc0a8909b",
       "version_major": 2,
       "version_minor": 0
      },
      "text/plain": [
       "interactive(children=(FloatSlider(value=1.0, description='h', max=2.0, min=0.1), FloatSlider(value=6.0, descri…"
      ]
     },
     "metadata": {},
     "output_type": "display_data"
    },
    {
     "data": {
      "text/plain": [
       "<function __main__.derivada(h, x0, back)>"
      ]
     },
     "metadata": {},
     "output_type": "display_data"
    }
   ],
   "source": [
    "\"\"\"\n",
    "@author: Luis M. de la Cruz [Updated on mié 18 ene 2023 14:07:31 CST].\n",
    "\"\"\"\n",
    "\n",
    "import numpy as np\n",
    "import matplotlib.pyplot as plt\n",
    "import ipywidgets as widgets\n",
    "import visual\n",
    "\n",
    "# Definición de la función, su derivada y la aproximación de la derivada.\n",
    "f = lambda x: x**2 + 20 * np.sin(0.5*x)**2\n",
    "g = lambda x: 2 * x + 20 * np.sin(0.5*x) * np.cos(0.5*x)\n",
    "m = lambda x, h: (f(x+h)-f(x))/h\n",
    "\n",
    "def derivada(h, x0, back):\n",
    "    \"\"\"\n",
    "    Calcula y grafica una función, su derivada y la aproximación a la\n",
    "    derivada. Además realiza la gráfica de estas funciones y sus aproximaciones\n",
    "    en el punto x0, usando el valor de los parámetros h y back. Cuando back=True\n",
    "    la aproximación de la derivada es hacia atrás (con -h).\n",
    "    \n",
    "    Parameters\n",
    "    ----------\n",
    "    h: float\n",
    "    Distancia entre x0 (punto donde se evalúa la derivada) y x1.\n",
    "    \n",
    "    x0: float\n",
    "    Punto donde se evaluará la derivada.\n",
    "    \n",
    "    back: float\n",
    "    Define si el cálculo es hacia adelante (h>0) o hacia atrás (h<0).\n",
    "    \"\"\"\n",
    "    \n",
    "    # Determinación de h para Forward o Backward\n",
    "    h = -h if back else h\n",
    "        \n",
    "    # Dominio de la función\n",
    "    x = np.linspace(-3, 12, 100)\n",
    "\n",
    "    # Cálculo de la recta tangente.\n",
    "    recta = g(x0)*(x-x0) + f(x0)\n",
    "    \n",
    "    # Cálculo de la recta aproximada\n",
    "    recta_m = m(x0,h)*(x-x0)+f(x0)\n",
    "    \n",
    "    # Configuración de la figura\n",
    "    plt.figure(figsize=(8,5))\n",
    "    plt.title('$f(x) = x^2 + 20 \\sin^2(\\dfrac{x}{2})$')\n",
    "    plt.xlabel('$x$')\n",
    "    plt.ylabel('$f(x)$')\n",
    "    plt.xticks([x0, x0 + h])\n",
    "    plt.yticks([f(x0), f(x0 + h)])\n",
    "    plt.xlim(-4,12)\n",
    "    plt.ylim(-20,150)    \n",
    "    \n",
    "    # Gráfica de la función, la tangente y la aproximación\n",
    "    plt.plot(x, f(x), c = 'C1', label='$f(x)$', zorder=5)\n",
    "    plt.plot(x, recta, c = 'C2', lw = 3, label='Recta tangente')\n",
    "    plt.plot(x, recta_m, c = 'black', lw=1, ls='-', label='Aproximación')\n",
    "\n",
    "    # Puntos para aproximar la derivada.\n",
    "    x1 = x0 + h\n",
    "    plt.scatter(x0, f(x0), s=25, c = 'red', zorder = 10)\n",
    "    plt.scatter(x1, f(x1), s=25, c = 'black', zorder = 10)\n",
    "    \n",
    "    # Triángulo\n",
    "    plt.plot([x0,x1], [f(x0),f(x0)], lw=2, c='black', zorder=6)\n",
    "    plt.plot([x1,x1], [f(x0),f(x1)], lw=2, c='black', zorder=6)\n",
    "    plt.plot([x0,x1], [f(x0),f(x1)], lw=2, c='black', zorder=6)\n",
    "\n",
    "    # Anotaciones sobre el gráfico.\n",
    "    plt.annotate('', xy=(x0,-20), xytext=(x1,-20), arrowprops=dict(arrowstyle='<->'))\n",
    "    plt.text(x = x0 + 0.40*h, y = -18, s='$h$')\n",
    "    texto0 = '{:2.1f}'.format(x0)\n",
    "    texto1 = '$f^\\prime($' + texto0 + '$)$ = {:10.8f}'.format(g(x0))\n",
    "    texto2 = '$m($' + texto0 + '$)$ = {:10.8f}'.format(m(x0, h))\n",
    "    plt.text(x = -2.5, y = 100, s=texto1)\n",
    "    plt.text(x = -2.5, y = 110, s=texto2)\n",
    "\n",
    "    plt.legend(ncol=3, frameon=True)\n",
    "    plt.show()\n",
    "\n",
    "\n",
    "w = widgets.interact(derivada,\n",
    "             f = widgets.fixed(f),\n",
    "             g = widgets.fixed(g),\n",
    "             h = widgets.FloatSlider(min=0.1, max=2.0, step=0.1, value=1.0),\n",
    "             x0 = widgets.FloatSlider(min=-1, max=9, step=1, value=6, description='x'),\n",
    "             back=widgets.Checkbox(value=False, description='Hacia atrás', disabled=False,indent=False)\n",
    "                    )\n",
    "display(w)"
   ]
  },
  {
   "cell_type": "code",
   "execution_count": null,
   "id": "a7081164-db1e-4d2f-a5e9-b89df542371b",
   "metadata": {},
   "outputs": [],
   "source": []
  }
 ],
 "metadata": {
  "kernelspec": {
   "display_name": "Python 3 (ipykernel)",
   "language": "python",
   "name": "python3"
  },
  "language_info": {
   "codemirror_mode": {
    "name": "ipython",
    "version": 3
   },
   "file_extension": ".py",
   "mimetype": "text/x-python",
   "name": "python",
   "nbconvert_exporter": "python",
   "pygments_lexer": "ipython3",
   "version": "3.9.12"
  }
 },
 "nbformat": 4,
 "nbformat_minor": 5
}
