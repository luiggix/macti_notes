{
 "cells": [
  {
   "cell_type": "code",
   "execution_count": 1,
   "id": "4f67517d-a9e3-4647-b489-2112beedb6e4",
   "metadata": {},
   "outputs": [],
   "source": [
    "import numpy as np\n",
    "import pandas as pd"
   ]
  },
  {
   "cell_type": "code",
   "execution_count": 36,
   "id": "0e83b995-51a3-4290-90e2-f93bcb276e0a",
   "metadata": {},
   "outputs": [
    {
     "data": {
      "text/html": [
       "<div>\n",
       "<style scoped>\n",
       "    .dataframe tbody tr th:only-of-type {\n",
       "        vertical-align: middle;\n",
       "    }\n",
       "\n",
       "    .dataframe tbody tr th {\n",
       "        vertical-align: top;\n",
       "    }\n",
       "\n",
       "    .dataframe thead th {\n",
       "        text-align: right;\n",
       "    }\n",
       "</style>\n",
       "<table border=\"1\" class=\"dataframe\">\n",
       "  <thead>\n",
       "    <tr style=\"text-align: right;\">\n",
       "      <th></th>\n",
       "      <th>1a</th>\n",
       "      <th>1b</th>\n",
       "      <th>2a</th>\n",
       "      <th>2b</th>\n",
       "      <th>3a</th>\n",
       "      <th>3b</th>\n",
       "      <th>4a</th>\n",
       "      <th>4b</th>\n",
       "      <th>4c</th>\n",
       "      <th>5a</th>\n",
       "      <th>...</th>\n",
       "      <th>7a</th>\n",
       "      <th>7b</th>\n",
       "      <th>8a</th>\n",
       "      <th>8b</th>\n",
       "      <th>8c</th>\n",
       "      <th>8d</th>\n",
       "      <th>8e</th>\n",
       "      <th>8f</th>\n",
       "      <th>8g</th>\n",
       "      <th>8h</th>\n",
       "    </tr>\n",
       "  </thead>\n",
       "  <tbody>\n",
       "    <tr>\n",
       "      <th>0</th>\n",
       "      <td>[5x^4]</td>\n",
       "      <td>[mx^(m-1)]</td>\n",
       "      <td>[0]</td>\n",
       "      <td>[0]</td>\n",
       "      <td>[40x^3]</td>\n",
       "      <td>[Anx^(n-1)]</td>\n",
       "      <td>[2x+1]</td>\n",
       "      <td>[cos(x)+sin(x)]</td>\n",
       "      <td>[Amx^(m-1)-Bnx^(n-1)]</td>\n",
       "      <td>[2x]</td>\n",
       "      <td>...</td>\n",
       "      <td>[100x^3+60x^2+8x]</td>\n",
       "      <td>[-2xsin(x^2+3)]</td>\n",
       "      <td>[12x^3+4x]</td>\n",
       "      <td>[36x^2+4]</td>\n",
       "      <td>[72x]</td>\n",
       "      <td>[72]</td>\n",
       "      <td>[5x^4-6x^2+1]</td>\n",
       "      <td>[20x^3-12x]</td>\n",
       "      <td>[-8xsin(x^2)]</td>\n",
       "      <td>[-8sin(x^2)-16x^2cos(x^2)]</td>\n",
       "    </tr>\n",
       "  </tbody>\n",
       "</table>\n",
       "<p>1 rows × 23 columns</p>\n",
       "</div>"
      ],
      "text/plain": [
       "       1a          1b   2a   2b       3a           3b      4a  \\\n",
       "0  [5x^4]  [mx^(m-1)]  [0]  [0]  [40x^3]  [Anx^(n-1)]  [2x+1]   \n",
       "\n",
       "                4b                     4c    5a  ...                 7a  \\\n",
       "0  [cos(x)+sin(x)]  [Amx^(m-1)-Bnx^(n-1)]  [2x]  ...  [100x^3+60x^2+8x]   \n",
       "\n",
       "                7b          8a         8b     8c    8d             8e  \\\n",
       "0  [-2xsin(x^2+3)]  [12x^3+4x]  [36x^2+4]  [72x]  [72]  [5x^4-6x^2+1]   \n",
       "\n",
       "            8f             8g                          8h  \n",
       "0  [20x^3-12x]  [-8xsin(x^2)]  [-8sin(x^2)-16x^2cos(x^2)]  \n",
       "\n",
       "[1 rows x 23 columns]"
      ]
     },
     "execution_count": 36,
     "metadata": {},
     "output_type": "execute_result"
    }
   ],
   "source": [
    "# Numeración de los ejercicios\n",
    "ejercicios = ['1a', '1b', '2a', '2b', '3a', '3b',\n",
    "              '4a', '4b', '4c', '5a', '5b', '6a', \n",
    "              '6b', '7a', '7b', '8a', '8b', '8c', \n",
    "              '8d', '8e', '8f', '8g', '8h']\n",
    "\n",
    "# Lista vacía para las respuestas\n",
    "respuestas = []\n",
    "\n",
    "# Agregar las respuestas a cada ejercicio\n",
    "respuestas.append(['5x^4'])                 # 1a\n",
    "respuestas.append(['mx^(m-1)'])             # 1b\n",
    "respuestas.append(['0'])                    # 2a\n",
    "respuestas.append(['0'])                    # 2b\n",
    "respuestas.append(['40x^3'])                # 3a\n",
    "respuestas.append(['Anx^(n-1)'])            # 3b\n",
    "respuestas.append(['2x+1'])                 # 4a\n",
    "respuestas.append(['cos(x)+sin(x)'])        # 4b\n",
    "respuestas.append(['Amx^(m-1)-Bnx^(n-1)'])  # 4c\n",
    "respuestas.append(['2x'])                   # 5a\n",
    "respuestas.append(['cos^2(x)-sin^2(x)', \n",
    "                   '-sin^2(x)+cos^2(x)'])   # 5b\n",
    "respuestas.append(['(xcos(x)-sin(x))/x^2']) # 6a\n",
    "respuestas.append(['(-2x+1)/(x^2+x+1)^2'])  # 6b \n",
    "respuestas.append(['100x^3+60x^2+8x'])      # 7a \n",
    "respuestas.append(['-2xsin(x^2+3)'])        # 7b \n",
    "respuestas.append(['12x^3+4x'])             # 8a\n",
    "respuestas.append(['36x^2+4'])              # 8b\n",
    "respuestas.append(['72x'])                  # 8c\n",
    "respuestas.append(['72'])                   # 8d\n",
    "respuestas.append(['5x^4-6x^2+1'])          # 8e\n",
    "respuestas.append(['20x^3-12x'])            # 8f\n",
    "respuestas.append(['-8xsin(x^2)'])         # 8g\n",
    "respuestas.append(['-8sin(x^2)-16x^2cos(x^2)']) # 8h\n",
    "\n",
    "\n",
    "\n",
    "# Convertimos a un DataFrame\n",
    "ans_df = pd.DataFrame([respuestas], columns=ejercicios)\n",
    "\n",
    "# Escribimos las respuestas en un archivo tipo parquet, binario y comprimido\n",
    "ans_df.to_parquet('__ans.parquet.gz', compression='gzip')\n",
    "\n",
    "# Mostramos el contenido del DataFrame\n",
    "ans_df"
   ]
  },
  {
   "cell_type": "code",
   "execution_count": 16,
   "id": "f9cc6ce8-e5cd-43ae-abde-1ef16a0f676d",
   "metadata": {},
   "outputs": [
    {
     "data": {
      "text/html": [
       "<div>\n",
       "<style scoped>\n",
       "    .dataframe tbody tr th:only-of-type {\n",
       "        vertical-align: middle;\n",
       "    }\n",
       "\n",
       "    .dataframe tbody tr th {\n",
       "        vertical-align: top;\n",
       "    }\n",
       "\n",
       "    .dataframe thead th {\n",
       "        text-align: right;\n",
       "    }\n",
       "</style>\n",
       "<table border=\"1\" class=\"dataframe\">\n",
       "  <thead>\n",
       "    <tr style=\"text-align: right;\">\n",
       "      <th></th>\n",
       "      <th>1a</th>\n",
       "      <th>1b</th>\n",
       "      <th>2a</th>\n",
       "      <th>2b</th>\n",
       "      <th>3a</th>\n",
       "      <th>3b</th>\n",
       "      <th>4a</th>\n",
       "      <th>4b</th>\n",
       "      <th>4c</th>\n",
       "      <th>5a</th>\n",
       "      <th>...</th>\n",
       "      <th>7a</th>\n",
       "      <th>7b</th>\n",
       "      <th>8a</th>\n",
       "      <th>8b</th>\n",
       "      <th>8c</th>\n",
       "      <th>8d</th>\n",
       "      <th>8e</th>\n",
       "      <th>8f</th>\n",
       "      <th>8g</th>\n",
       "      <th>8h</th>\n",
       "    </tr>\n",
       "  </thead>\n",
       "  <tbody>\n",
       "    <tr>\n",
       "      <th>0</th>\n",
       "      <td>[5x^4]</td>\n",
       "      <td>[mx^(m-1)]</td>\n",
       "      <td>[0]</td>\n",
       "      <td>[0]</td>\n",
       "      <td>[40x^3]</td>\n",
       "      <td>[Anx^(n-1)]</td>\n",
       "      <td>[2x+1]</td>\n",
       "      <td>[cos(x)+sin(x)]</td>\n",
       "      <td>[Amx^(m-1)-Bnx^(n-1)]</td>\n",
       "      <td>[2x]</td>\n",
       "      <td>...</td>\n",
       "      <td>[2(5x^2+2x)(10x+2)]</td>\n",
       "      <td>[(-sin(x^2+3))(2x), -sin(x^2+3)(2x), -2xsin(x^...</td>\n",
       "      <td>[12x^3+4x]</td>\n",
       "      <td>[36x^2+4]</td>\n",
       "      <td>[72x]</td>\n",
       "      <td>[72]</td>\n",
       "      <td>[5x^4-6x^2+1]</td>\n",
       "      <td>[20x^3-12x]</td>\n",
       "      <td>[-8x sin(x^2)]</td>\n",
       "      <td>[-8 sin(x^2) -16x^2 cos(x^2)]</td>\n",
       "    </tr>\n",
       "  </tbody>\n",
       "</table>\n",
       "<p>1 rows × 23 columns</p>\n",
       "</div>"
      ],
      "text/plain": [
       "       1a          1b   2a   2b       3a           3b      4a  \\\n",
       "0  [5x^4]  [mx^(m-1)]  [0]  [0]  [40x^3]  [Anx^(n-1)]  [2x+1]   \n",
       "\n",
       "                4b                     4c    5a  ...                   7a  \\\n",
       "0  [cos(x)+sin(x)]  [Amx^(m-1)-Bnx^(n-1)]  [2x]  ...  [2(5x^2+2x)(10x+2)]   \n",
       "\n",
       "                                                  7b          8a         8b  \\\n",
       "0  [(-sin(x^2+3))(2x), -sin(x^2+3)(2x), -2xsin(x^...  [12x^3+4x]  [36x^2+4]   \n",
       "\n",
       "      8c    8d             8e           8f              8g  \\\n",
       "0  [72x]  [72]  [5x^4-6x^2+1]  [20x^3-12x]  [-8x sin(x^2)]   \n",
       "\n",
       "                              8h  \n",
       "0  [-8 sin(x^2) -16x^2 cos(x^2)]  \n",
       "\n",
       "[1 rows x 23 columns]"
      ]
     },
     "execution_count": 16,
     "metadata": {},
     "output_type": "execute_result"
    }
   ],
   "source": [
    "# Se puede leer el contenido del archivo tipo parquet, binario y comprimido como sigue\n",
    "ans_df2 = pd.read_parquet('__ans.parquet.gz') # Se lee en un DataFrame\n",
    "ans_df2"
   ]
  },
  {
   "cell_type": "code",
   "execution_count": 24,
   "id": "9cafcc00-5233-443e-b695-db4b963bb453",
   "metadata": {},
   "outputs": [
    {
     "data": {
      "text/plain": [
       "array(['(-2x+1)/((x^2+x+1)^2)'], dtype=object)"
      ]
     },
     "execution_count": 24,
     "metadata": {},
     "output_type": "execute_result"
    }
   ],
   "source": [
    "ans_df2['6b'][0]"
   ]
  },
  {
   "cell_type": "code",
   "execution_count": 11,
   "id": "7265edd5-f628-455d-9399-c45eebc6c9e6",
   "metadata": {},
   "outputs": [],
   "source": [
    "import sympy as sp"
   ]
  },
  {
   "cell_type": "code",
   "execution_count": 30,
   "id": "70e760ca-937f-4a2c-81da-c7b08da33613",
   "metadata": {},
   "outputs": [
    {
     "data": {
      "text/latex": [
       "$\\displaystyle - 2 x \\sin{\\left(x^{2} + 3 \\right)}$"
      ],
      "text/plain": [
       "-2*x*sin(x**2 + 3)"
      ]
     },
     "execution_count": 32,
     "metadata": {},
     "output_type": "execute_result"
    }
   ],
   "source": [
    "x = sp.Symbol('x')\n",
    "sp.diff(sp.cos(x**2+3)"
   ]
  },
  {
   "cell_type": "code",
   "execution_count": 13,
   "id": "a93208f8-9ff8-4a65-972d-072867ed3340",
   "metadata": {},
   "outputs": [
    {
     "data": {
      "text/latex": [
       "$\\displaystyle \\cos{\\left(x \\right)}$"
      ],
      "text/plain": [
       "cos(x)"
      ]
     },
     "execution_count": 13,
     "metadata": {},
     "output_type": "execute_result"
    }
   ],
   "source": [
    "sp.diff(sp.sin(x),x)"
   ]
  },
  {
   "cell_type": "code",
   "execution_count": 14,
   "id": "096d4c39-1637-4404-b548-b6b4e7afa05c",
   "metadata": {},
   "outputs": [
    {
     "data": {
      "text/latex": [
       "$\\displaystyle - \\sin^{2}{\\left(x \\right)} + \\cos^{2}{\\left(x \\right)}$"
      ],
      "text/plain": [
       "-sin(x)**2 + cos(x)**2"
      ]
     },
     "execution_count": 14,
     "metadata": {},
     "output_type": "execute_result"
    }
   ],
   "source": [
    "sp.diff(sp.sin(x)*sp.cos(x),x)"
   ]
  },
  {
   "cell_type": "code",
   "execution_count": null,
   "id": "520cdb56-c4eb-410e-a6d8-cba256cb0da7",
   "metadata": {},
   "outputs": [],
   "source": []
  }
 ],
 "metadata": {
  "kernelspec": {
   "display_name": "Python 3 (ipykernel)",
   "language": "python",
   "name": "python3"
  },
  "language_info": {
   "codemirror_mode": {
    "name": "ipython",
    "version": 3
   },
   "file_extension": ".py",
   "mimetype": "text/x-python",
   "name": "python",
   "nbconvert_exporter": "python",
   "pygments_lexer": "ipython3",
   "version": "3.10.7"
  }
 },
 "nbformat": 4,
 "nbformat_minor": 5
}
