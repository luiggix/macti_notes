{
 "cells": [
  {
   "cell_type": "markdown",
   "metadata": {},
   "source": [
    "# Ejercicios: Derivadas Numéricas\n",
    "\n",
    "## Geofísica Matemática y Computacional\n",
    "- Prof. Luis Miguel de la Cruz Salas\n",
    "- Rev: mié oct 14 19:08:02 CDT 2020"
   ]
  },
  {
   "cell_type": "markdown",
   "metadata": {},
   "source": [
    "- Nombre del alumno: "
   ]
  },
  {
   "cell_type": "code",
   "execution_count": 1,
   "metadata": {},
   "outputs": [],
   "source": [
    "import numpy as np\n",
    "import pandas as pd\n",
    "import matplotlib.pyplot as plt\n",
    "%matplotlib inline"
   ]
  },
  {
   "cell_type": "markdown",
   "metadata": {},
   "source": [
    "# Masa y densidad\n",
    "\n",
    "Don Nacho, un experimentado maestro albañil, necesita cortar una varilla de metal en varias secciones para construir una escalera. Realiza las marcas de la varilla y se ven como en la siguiente figura:\n",
    "\n",
    "<img src=\"../Figuras/secciones.png\">\n"
   ]
  },
  {
   "cell_type": "markdown",
   "metadata": {},
   "source": [
    "Como se observa, el tamaño de cada sección de la varilla es de 0.5 m. Por razones de la estructura, se necesita conocer el peso de cada sección de la varilla para evitar que la escalera se derrumbe. Don Nacho hizo los cortes y pesó cada sección, obteniendo los siguientes resultados:\n",
    "\n",
    "| Sección | 1 | 2 | 3 | 4 | 5 | 6 | 7 | 8 |\n",
    "|---|---|---|---|---|---|---|---|---|\n",
    "| Masa [Kg] | 0.595 | 0.806 | 0.369 | 1.078 | 1.704 | 1.475 | 2.263 |  3.282 |\n",
    "\n",
    "## Ejercicio 1.\n",
    "Construya dos arreglos de numpy: uno para almacenar las marcas de las secciones de nombre `secciones` y otro que se llame `masas_sec` para almacenar las masas de cada sección. Haga una gráfica de barras de las masas de cada sección.\n",
    "\n",
    "**Hint**:\n",
    "\n",
    "```python\n",
    "# Marcas sobre la varilla de cada sección\n",
    "secciones = np.array([0.0, 0.5, 1.0, 1.5, 2.0, 2.5, 3.0, 3.5,  4.0]) \n",
    "\n",
    "# Peso de cada sección [kg]\n",
    "masas_sec = np.array([0.595, 0.806, 0.369, 1.078, 1.704, \n",
    "                      1.475, 2.263,  3.282])\n",
    "\n",
    "plt.bar( ... )\n",
    "```"
   ]
  },
  {
   "cell_type": "code",
   "execution_count": null,
   "metadata": {},
   "outputs": [],
   "source": [
    "plt.bar"
   ]
  },
  {
   "cell_type": "code",
   "execution_count": 2,
   "metadata": {},
   "outputs": [
    {
     "data": {
      "image/png": "[encoded data removed]",
      "text/plain": [
       "<Figure size 432x288 with 1 Axes>"
      ]
     },
     "metadata": {
      "needs_background": "light"
     },
     "output_type": "display_data"
    }
   ],
   "source": [
    "# Escriba su código\n",
    "\n",
    "# Marcas sobre la varilla de cada sección\n",
    "secciones = np.array([0.0, 0.5, 1.0, 1.5, 2.0, 2.5, 3.0, 3.5,  4.0]) \n",
    "\n",
    "# Peso de cada sección [kg]\n",
    "masas_sec = np.array([0.595, 0.806, 0.369, 1.078, 1.704, \n",
    "                      1.475, 2.263,  3.282])\n",
    "\n",
    "plt.bar(secciones[1:], masas_sec, \n",
    "        width=0.1, color='r', \n",
    "        label='Peso de cada sección de varilla')\n",
    "plt.xlabel('Longitud')\n",
    "plt.ylabel('Peso')\n",
    "plt.legend()\n",
    "plt.show()"
   ]
  },
  {
   "cell_type": "markdown",
   "metadata": {},
   "source": [
    "## Ejercicio 2.\n",
    "El peso se puede ir acumulando para obtener el peso original de la varilla. El código siguiente hace esa acumulación y guarda la información en el arreglo `masa` de numpy:\n",
    "\n",
    "```python\n",
    "masa = np.zeros(len(secciones))\n",
    "for i, ms in enumerate(masas_sec):\n",
    "    masa[i+1] = masa[i] + ms\n",
    "```\n",
    "\n",
    "Escriba el código anterior y después grafique el contenido del arreglo `masa` sobre la gráfica de barras anterior."
   ]
  },
  {
   "cell_type": "code",
   "execution_count": null,
   "metadata": {},
   "outputs": [],
   "source": [
    "# Escriba su código\n",
    "masa = np.zeros(len(secciones))\n",
    "for i, ms in enumerate(masas_sec):\n",
    "    masa[i+1] = masa[i] + ms\n",
    "masa\n",
    "\n",
    "plt.plot(secciones, masa)\n",
    "plt.bar(secciones[1:], masas_sec, \n",
    "        width=0.1, color='r', \n",
    "        label='Peso de cada sección de varilla')\n",
    "plt.xlabel('Longitud')\n",
    "plt.ylabel('Peso')\n",
    "plt.legend()\n",
    "plt.show()"
   ]
  },
  {
   "cell_type": "markdown",
   "metadata": {},
   "source": [
    "## Ejercicio 3.\n",
    "Si todo se hizo correctamente, se verá que el peso no crece linealmente. Se sospecha que la densidad de la varilla no cambia homogéneamente en toda su longitud. Suponemos que todo está en una dimensión, de tal manera que podemos definir una densidad *lineal* de la siguiente manera:\n",
    "\n",
    "$$\n",
    "\\rho(x) = \\frac{\\text{Masa}}{Longitud} = \\frac{m}{l}\n",
    "$$\n",
    "\n",
    "Recordemos que la masa es una **propiedad extensiva**: es directamente proporcional al tamaño del sistema o a la cantidad de material, mientras que la densidad es una **propiedad intensiva**: no depende del tamaño del sistema, es invariante a la escala.\n",
    "\n",
    "Si observamos con atención, esta densidad se puede calcular por cada sección, vea la figura:\n",
    "\n",
    "<img src=\"../Figuras/secciones_mi.png\">\n",
    "\n",
    "\n",
    "$\\rho_i = \\dfrac{m_i}{l_i}$ para $i = 0,1,2, \\dots$ donde $m_i$ es la masa de la sección y $l_i$ su longitud.\n",
    "\n",
    "Si observamos con más atención, la densidad de la sección $i$ se puede obtener mediante la siguiente aproximación:\n",
    "\n",
    "$\\rho_i \\approx \\dfrac{m_{i} - m_{i-1}}{l_{i} - l_{i-1}} = \\dfrac{m_{i} - m_{i-1}}{\\delta l_{i}} $\n",
    "\n",
    "La fórmula anterior, cuando $\\delta l_{i} \\to 0$, representa una derivada:\n",
    "\n",
    "$\\displaystyle\n",
    "\\rho_i = \\lim_{\\delta l_{i} \\to 0} \\dfrac{m_{i} - m_{i-1}}{\\delta l_{i}} = \\dfrac{d}{d x}\\Big(m (x)\\Big)\n",
    "$\n",
    "\n",
    "Escriba una función para calcular la densidad de la barra para cada sección usando la aproximación anterior. Grafique la masa y la densidad en una sola figura."
   ]
  },
  {
   "cell_type": "code",
   "execution_count": null,
   "metadata": {},
   "outputs": [],
   "source": [
    "# Escriba su código\n"
   ]
  },
  {
   "cell_type": "markdown",
   "metadata": {},
   "source": [
    "## Ejercicio 3.\n",
    "Después de una búsqueda sobre las especificaciones de la varilla, se encuentra que la densidad está dada por siguiente fórmula:\n",
    "\n",
    "$\\rho = (1000 x^2 + 5000 \\sin(2x)^2 ) \\times A$\n",
    "\n",
    "donde $x$ es la posición en la varilla y $A$ es el área transversal. Al medir el diámetro de la varilla se encuentra el valor de $d = 0.02$ m , por lo tanto el radio es $r = 0.01$ m.\n",
    "\n",
    "Grafique está fórmula y cómparela con los cálculos aproximados que hicimos antes:"
   ]
  },
  {
   "cell_type": "code",
   "execution_count": null,
   "metadata": {},
   "outputs": [],
   "source": [
    "# Escriba su código\n"
   ]
  },
  {
   "cell_type": "markdown",
   "metadata": {},
   "source": [
    "## Ejercicio 4.\n",
    "Para evaluar la aproximación, cálcule el error absoluto y el error relativo para cada punto.\n"
   ]
  },
  {
   "cell_type": "code",
   "execution_count": null,
   "metadata": {},
   "outputs": [],
   "source": [
    "Ea = lambda e, a: np.fabs(e - a)\n",
    "Er = lambda e, a: np.fabs(e - a) / np.fabs(e)\n",
    "\n",
    "# Escriba su código\n"
   ]
  },
  {
   "cell_type": "markdown",
   "metadata": {},
   "source": [
    "## Ejercicio 5.\n",
    "Calcule la integral de la densidad\n",
    "\n",
    "$\\rho = (1000 x^2 + 5000 \\sin(2x)^2 ) \\times A$\n",
    "\n",
    "para encontrar la fórmula de la masa $m(x)$.\n",
    "\n",
    "Después realice todas las graficas de tal manera que obtenga una figura como la siguiente:\n",
    "\n",
    "<img src=\"../Figuras/tresgraficas.png\">\n",
    "\n",
    "**Hint**: Para calcular la integral puede usar sympy, por ejemplo:\n",
    "```python\n",
    "from sympy import Symbol, integrate, sin\n",
    "x = Symbol('x')\n",
    "integrate(sin(2x)**2, x)\n",
    "```\n",
    "Utilice la función `subplots()` de matplotlib para crear varias gráficas en una sola figura, por ejemplo:\n",
    "\n",
    "```python\n",
    "fig, axs = plt.subplots(1,2,figsize=(15,5))\n",
    "axs[0].plot(x, m, 'C0--', label = 'Gráfica 1')\n",
    "axs[1].plot(x, d, 'C1-', label= 'Gráfica 2')\n",
    "plt.show()\n",
    "```"
   ]
  },
  {
   "cell_type": "code",
   "execution_count": null,
   "metadata": {},
   "outputs": [],
   "source": [
    "# Escriba su código\n"
   ]
  },
  {
   "cell_type": "code",
   "execution_count": null,
   "metadata": {},
   "outputs": [],
   "source": []
  }
 ],
 "metadata": {
  "kernelspec": {
   "display_name": "Python 3",
   "language": "python",
   "name": "python3"
  },
  "language_info": {
   "codemirror_mode": {
    "name": "ipython",
    "version": 3
   },
   "file_extension": ".py",
   "mimetype": "text/x-python",
   "name": "python",
   "nbconvert_exporter": "python",
   "pygments_lexer": "ipython3",
   "version": "3.8.8"
  }
 },
 "nbformat": 4,
 "nbformat_minor": 4
}
