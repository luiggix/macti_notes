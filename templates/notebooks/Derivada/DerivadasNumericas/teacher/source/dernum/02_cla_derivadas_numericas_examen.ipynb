{
 "cells": [
  {
   "cell_type": "markdown",
   "id": "cad65582-645e-4e6e-ab57-9dfa33fbae88",
   "metadata": {
    "nbgrader": {
     "grade": false,
     "grade_id": "cell-b47c0fc4fd9f7afa",
     "locked": true,
     "schema_version": 3,
     "solution": false,
     "task": false
    }
   },
   "source": [
    "# Primer examen parcial: parte práctica.\n",
    "**Fecha**: 28 de Febrero de 2023.<br>\n",
    "**Materia**: Herramientas Computacionales Avanzadas. <br>\n",
    "**Profesor**: Luis Miguel de la Cruz Salas. <br>\n",
    "**Escuela Nacional de Ciencias de la Tierra, UNAM**"
   ]
  },
  {
   "cell_type": "code",
   "execution_count": 1,
   "id": "6ae315a9",
   "metadata": {
    "nbgrader": {
     "grade": false,
     "grade_id": "cell-c8f913658f3a16d8",
     "locked": true,
     "schema_version": 3,
     "solution": false,
     "task": false
    }
   },
   "outputs": [],
   "source": [
    "import numpy as np\n",
    "import matplotlib.pyplot as plt\n",
    "import pandas as pd\n",
    "import ipywidgets as widgets\n",
    "import macti.visual as mvis\n",
    "from macti.evaluacion import Quizz\n",
    "quizz = Quizz('Derivada', 'DerivadasNumericas')"
   ]
  },
  {
   "cell_type": "markdown",
   "id": "6d73133e-4a13-42aa-927e-63c65fc2d77c",
   "metadata": {
    "nbgrader": {
     "grade": false,
     "grade_id": "cell-590d6293fd4a1ecc",
     "locked": true,
     "schema_version": 3,
     "solution": false,
     "task": false
    }
   },
   "source": [
    "El modelo matemático para la conducción de calor en 1D con condiciones de frontera de tipo Dirichlet, con $\\kappa$ = constante se escribe como sigue:\n",
    "\n",
    "$$\n",
    "\\begin{eqnarray}\n",
    "-\\kappa \\frac{d^2T}{dx^2} & = & S \\; \\text{ para } x \\in [0,L] \\\\\n",
    "T(x=0) & = & T_A \\\\\n",
    "T(x=L) & = & T_B\n",
    "\\end{eqnarray}\n",
    "$$\n",
    "\n",
    "La solución analítica de este modelo matemático se escribe como sigue:\n",
    "\n",
    "$$\n",
    "T(x) =\n",
    "\\left(\\frac{T_B - T_A}{L} + \\frac{S}{2\\kappa} \\left(L - x\\right) \\right)x + T_A \\tag{1}\n",
    "$$"
   ]
  },
  {
   "cell_type": "markdown",
   "id": "d05942d7-b352-418a-a585-67ace2ff76f8",
   "metadata": {
    "nbgrader": {
     "grade": false,
     "grade_id": "cell-d16f75e65073e35b",
     "locked": true,
     "schema_version": 3,
     "solution": false,
     "task": false
    }
   },
   "source": [
    "---\n",
    "<a name='ej-1'></a>\n",
    "### **<font color=\"DodgerBlue\">Ejercicio 1.</font>**\n",
    "\n",
    "<font color=\"DarkBlue\">En la siguiente celda complete el código para implementar la fórmula $(1)$. </font>\n",
    "\n",
    "---"
   ]
  },
  {
   "cell_type": "code",
   "execution_count": 2,
   "id": "a17b8c67-fa5e-4e1a-8dcd-4a5ec8659f9c",
   "metadata": {
    "nbgrader": {
     "grade": false,
     "grade_id": "cell-8be64abf68ca9557",
     "locked": false,
     "schema_version": 3,
     "solution": true,
     "task": false
    }
   },
   "outputs": [],
   "source": [
    "# Solucion exacta\n",
    "def sol_exacta(x, TA, TB, S, L, k):\n",
    "    \"\"\"\n",
    "    Calcula la temperatura usando la fórmula obtenida con Series de Taylor.\n",
    "\n",
    "    Parameters\n",
    "    ----------\n",
    "    x: np.array\n",
    "    Coordenadas donde se calcula la temperatura.\n",
    "\n",
    "    TA: float\n",
    "    Es la condición de frontera a la izquierda.\n",
    "    \n",
    "    TB: float\n",
    "    Es la condición de frontera a la derecha.\n",
    "\n",
    "    S: float\n",
    "    es la fuente.\n",
    "    \n",
    "    L: float\n",
    "    L es la longitud del dominio.\n",
    "    \n",
    "    k: float\n",
    "    es la conductividad del material.\n",
    "    \n",
    "    Return\n",
    "    ------\n",
    "    al final esta función dibuja la solución.\n",
    "    \"\"\"\n",
    "    # BEGIN SOLUTION\n",
    "    return ((TB - TA)/L + S /(2*k) * (L - x) ) * x + TA\n",
    "    # END SOLUTION"
   ]
  },
  {
   "cell_type": "code",
   "execution_count": 3,
   "id": "f7014ed7-9ed6-410c-8ffd-6bda481f4608",
   "metadata": {
    "nbgrader": {
     "grade": false,
     "grade_id": "cell-9f9f91aa9828bc32",
     "locked": true,
     "schema_version": 3,
     "solution": false,
     "task": false
    }
   },
   "outputs": [
    {
     "name": "stdout",
     "output_type": "stream",
     "text": [
      "[1.         0.9382716  0.86419753 0.77777778 0.67901235 0.56790123\n",
      " 0.44444444 0.30864198 0.16049383 0.        ]\n"
     ]
    }
   ],
   "source": [
    "x=np.linspace(0,1,10)\n",
    "TA = 1.0\n",
    "TB = 0.0\n",
    "S = 1.0\n",
    "L = 1.0\n",
    "k = 1.0\n",
    "\n",
    "# Cálculo de la solución exacta.\n",
    "T1 = sol_exacta(x, TA, TB, S, L, k)\n",
    "print(T1)"
   ]
  },
  {
   "cell_type": "code",
   "execution_count": 4,
   "id": "1b842f16-50a6-4997-9d10-9d9c7e88c4f0",
   "metadata": {
    "nbgrader": {
     "grade": true,
     "grade_id": "cell-9dad5a5092d07722",
     "locked": true,
     "points": 1,
     "schema_version": 3,
     "solution": false,
     "task": false
    }
   },
   "outputs": [
    {
     "name": "stdout",
     "output_type": "stream",
     "text": [
      "\u001b[32m¡Tu resultado es correcto!\n"
     ]
    }
   ],
   "source": [
    "quizz.verifica('3', '1', T1)"
   ]
  },
  {
   "cell_type": "markdown",
   "id": "be014949-38ae-4d8b-9504-f7d3ef9d574b",
   "metadata": {
    "nbgrader": {
     "grade": false,
     "grade_id": "cell-7a028c7147a8b46e",
     "locked": true,
     "schema_version": 3,
     "solution": false,
     "task": false
    }
   },
   "source": [
    "El error absoluto y el error relativo se definen como sigue.</font>\n",
    "\n",
    "$$\n",
    "\\begin{eqnarray*}\n",
    "Error_{absoluto} & = & ||v_e - v_a|| \\\\ \\\\\n",
    "Error_{relativo} & = & \\dfrac{||v_e - v_a||}{||v_e||}\n",
    "\\end{eqnarray*}\n",
    "$$\n",
    "\n",
    "donde $v_e$ es el valor exacto y $v_a$ es el valor aproximado.\n",
    "\n",
    "La siguiente función implementa la fórmula del $Error_{absoluto}$."
   ]
  },
  {
   "cell_type": "code",
   "execution_count": 5,
   "id": "c21e21f7-be0d-42ee-8a36-7f8f28bf6ad1",
   "metadata": {
    "nbgrader": {
     "grade": false,
     "grade_id": "cell-fb918a108add1d26",
     "locked": true,
     "schema_version": 3,
     "solution": false,
     "task": false
    }
   },
   "outputs": [],
   "source": [
    "def error_absoluto(ve, va):\n",
    "    \"\"\"\n",
    "    Calcula el error absoluto entre el valor exacto (ve) y el valor aproximado (va).\n",
    "    \"\"\"\n",
    "    return np.linalg.norm(ve - va)"
   ]
  },
  {
   "cell_type": "markdown",
   "id": "380b2f57-b0c8-45d6-9edc-a90480eba3d5",
   "metadata": {
    "nbgrader": {
     "grade": false,
     "grade_id": "cell-15ab374f3d34dadb",
     "locked": true,
     "schema_version": 3,
     "solution": false,
     "task": false
    }
   },
   "source": [
    "---\n",
    "<a name='ej-2'></a>\n",
    "### **<font color=\"DodgerBlue\">Ejercicio 2.</font>**\n",
    "\n",
    "<font color=\"DarkBlue\">En la siguiente celda complete el código para implementar la fórmula del $Error_{relativo}$. </font>\n",
    "\n",
    "---"
   ]
  },
  {
   "cell_type": "code",
   "execution_count": 6,
   "id": "593ba476-d37f-407f-a22c-1bbf14ca689a",
   "metadata": {
    "nbgrader": {
     "grade": false,
     "grade_id": "cell-2f084afe94172dbe",
     "locked": false,
     "schema_version": 3,
     "solution": true,
     "task": false
    }
   },
   "outputs": [],
   "source": [
    "def error_relativo(ve, va):\n",
    "    \"\"\"\n",
    "    Calcula el error absoluto entre el valor exacto (ve) y el valor aproximado (va).\n",
    "    \"\"\"\n",
    "    # BEGIN SOLUTION\n",
    "    return np.linalg.norm(ve - va) / np.linalg.norm(ve)\n",
    "    # END SOLUTION"
   ]
  },
  {
   "cell_type": "code",
   "execution_count": 7,
   "id": "4d43c735-9dc7-44dc-a128-a635dee19aed",
   "metadata": {
    "nbgrader": {
     "grade": false,
     "grade_id": "cell-90e7d5816acee796",
     "locked": true,
     "schema_version": 3,
     "solution": false,
     "task": false
    }
   },
   "outputs": [
    {
     "data": {
      "text/html": [
       "<div>\n",
       "<style scoped>\n",
       "    .dataframe tbody tr th:only-of-type {\n",
       "        vertical-align: middle;\n",
       "    }\n",
       "\n",
       "    .dataframe tbody tr th {\n",
       "        vertical-align: top;\n",
       "    }\n",
       "\n",
       "    .dataframe thead th {\n",
       "        text-align: right;\n",
       "    }\n",
       "</style>\n",
       "<table border=\"1\" class=\"dataframe\">\n",
       "  <thead>\n",
       "    <tr style=\"text-align: right;\">\n",
       "      <th></th>\n",
       "      <th>pe</th>\n",
       "      <th>pa</th>\n",
       "      <th>Error absoluto</th>\n",
       "      <th>Error relativo</th>\n",
       "    </tr>\n",
       "  </thead>\n",
       "  <tbody>\n",
       "    <tr>\n",
       "      <th>0</th>\n",
       "      <td>3.0000</td>\n",
       "      <td>3.10000</td>\n",
       "      <td>0.10000</td>\n",
       "      <td>0.033333</td>\n",
       "    </tr>\n",
       "    <tr>\n",
       "      <th>1</th>\n",
       "      <td>0.0003</td>\n",
       "      <td>0.00031</td>\n",
       "      <td>0.00001</td>\n",
       "      <td>0.033333</td>\n",
       "    </tr>\n",
       "    <tr>\n",
       "      <th>2</th>\n",
       "      <td>3000.0000</td>\n",
       "      <td>3100.00000</td>\n",
       "      <td>100.00000</td>\n",
       "      <td>0.033333</td>\n",
       "    </tr>\n",
       "  </tbody>\n",
       "</table>\n",
       "</div>"
      ],
      "text/plain": [
       "          pe          pa  Error absoluto  Error relativo\n",
       "0     3.0000     3.10000         0.10000        0.033333\n",
       "1     0.0003     0.00031         0.00001        0.033333\n",
       "2  3000.0000  3100.00000       100.00000        0.033333"
      ]
     },
     "execution_count": 7,
     "metadata": {},
     "output_type": "execute_result"
    }
   ],
   "source": [
    "datos=pd.DataFrame(np.array([[0.3000e+1,0.3100e+1],\n",
    "                             [0.3000e-3,0.3100e-3],\n",
    "                             [0.3000e+4,0.3100e+4]]),\n",
    "                   columns=['pe','pa'])\n",
    "datos['Error absoluto'] = np.array([error_absoluto(datos.pe[0], datos.pa[0]),\n",
    "                error_absoluto(datos.pe[1], datos.pa[1]),\n",
    "                error_absoluto(datos.pe[2], datos.pa[2])])\n",
    "datos['Error relativo'] = np.array([error_relativo(datos.pe[0], datos.pa[0]),\n",
    "                error_relativo(datos.pe[1], datos.pa[1]),\n",
    "                error_relativo(datos.pe[2], datos.pa[2])])\n",
    "datos"
   ]
  },
  {
   "cell_type": "code",
   "execution_count": 8,
   "id": "18e5d6de-d33c-4ac5-9a4a-a69128777c54",
   "metadata": {
    "nbgrader": {
     "grade": true,
     "grade_id": "cell-83fa2ef5a8cb86f4",
     "locked": true,
     "points": 1,
     "schema_version": 3,
     "solution": false,
     "task": false
    }
   },
   "outputs": [
    {
     "name": "stdout",
     "output_type": "stream",
     "text": [
      "\u001b[32m¡Tu resultado es correcto!\n"
     ]
    }
   ],
   "source": [
    "quizz.verifica('3','2',np.array(datos['Error absoluto']))"
   ]
  },
  {
   "cell_type": "code",
   "execution_count": 9,
   "id": "59452f62-c730-4352-8904-b88bfeff7446",
   "metadata": {
    "nbgrader": {
     "grade": true,
     "grade_id": "cell-aabfd8847d4237e6",
     "locked": true,
     "points": 1,
     "schema_version": 3,
     "solution": false,
     "task": false
    }
   },
   "outputs": [
    {
     "name": "stdout",
     "output_type": "stream",
     "text": [
      "\u001b[32m¡Tu resultado es correcto!\n"
     ]
    }
   ],
   "source": [
    "quizz.verifica('3','3',np.array(datos['Error relativo']))"
   ]
  },
  {
   "cell_type": "markdown",
   "id": "e57f3744-6bfb-49d3-aab5-b43d884cc83a",
   "metadata": {
    "nbgrader": {
     "grade": false,
     "grade_id": "cell-7a608cf5593e7814",
     "locked": true,
     "schema_version": 3,
     "solution": false,
     "task": false
    }
   },
   "source": [
    "---\n",
    "<a name='ej-3'></a>\n",
    "### **<font color=\"DodgerBlue\">Ejercicio 3.</font>**\n",
    "\n",
    "<font color=\"DarkBlue\">El código de la siguiente celda, resuelve el problema de conducción de calor en 1D, como se revisó en clase. Para que esta celda de código funcione correctamente, deberá haber realizado los ejercicios 1 y 2. Además, en el código siguiente, deberá agregar dos líneas</font>\n",
    "\n",
    "1. Para calcular la solución exacta y almacenarla en un arreglo de nombre `Te`. **Hint**. Revise en el ejercicio 1, cómo se calcula la solución exacta.\n",
    "2. Para calcular el error absoluto y almacenarlo con el nombre `ea`. **Hint**. Revise en el código de abajo, cómo se calcula el error relativo.\n",
    "\n",
    "---"
   ]
  },
  {
   "cell_type": "code",
   "execution_count": 10,
   "id": "fb9f3d0b",
   "metadata": {
    "nbgrader": {
     "grade": false,
     "grade_id": "cell-9b0ab1995777093a",
     "locked": false,
     "schema_version": 3,
     "solution": true,
     "task": false
    }
   },
   "outputs": [
    {
     "data": {
      "application/vnd.jupyter.widget-view+json": {
       "model_id": "093ea631846d4effa83f7949c135de8a",
       "version_major": 2,
       "version_minor": 0
      },
      "text/plain": [
       "interactive(children=(FloatSlider(value=0.02, description='k', max=1.0, min=0.02), FloatSlider(value=0.0, desc…"
      ]
     },
     "metadata": {},
     "output_type": "display_data"
    }
   ],
   "source": [
    "def conduccion_1d(k, S, L, TA, TB, N):\n",
    "    \"\"\"\n",
    "    Calcula la temperatura en 1D mediante diferencias finitas.\n",
    "    \n",
    "    Parameters\n",
    "    ----------    \n",
    "    L: float\n",
    "    L es la longitud del dominio.\n",
    "    \n",
    "    k: float\n",
    "    es la conductividad del material.\n",
    "    \n",
    "    S: float\n",
    "    es la fuente.\n",
    "    \n",
    "    TA: float\n",
    "    Es la condición de frontera a la izquierda.\n",
    "    \n",
    "    TB: float\n",
    "    Es la condición de frontera a la derecha.\n",
    "\n",
    "    N: int\n",
    "    Es el número de nodos internos (grados de libertad).\n",
    "    \n",
    "    Return\n",
    "    ------\n",
    "    al final esta función dibuja la solución.\n",
    "    \"\"\"\n",
    "\n",
    "    # Cálculo de algunos parámetros numéricos\n",
    "    h = L / (N+1)\n",
    "    r = k / h**2\n",
    "    \n",
    "    # Definición de arreglos \n",
    "    T = np.zeros(N+2)\n",
    "    b = np.zeros(N)\n",
    "    A = np.zeros((N,N))\n",
    "\n",
    "    # Se inicializa todo el arreglo b con S/r\n",
    "    b[:] = S / r\n",
    "\n",
    "    # Condiciones de frontera en el arreglo de la Temperatura.\n",
    "    T[0] = TA\n",
    "    T[-1] = TB\n",
    "    \n",
    "    # Se ajusta el vector del lado derecho (RHS) con las condiciones de frontera.\n",
    "    b[0] += TA\n",
    "    b[-1] += TB\n",
    "\n",
    "    # Se calculan las entradas de la matriz del sistema de ecuaciones lineales.\n",
    "    A[0,0] = 2\n",
    "    A[0,1] = -1\n",
    "    for i in range(1,N-1):\n",
    "        A[i,i] = 2\n",
    "        A[i,i+1] = -1\n",
    "        A[i,i-1] = -1\n",
    "    A[-1,-2] = -1\n",
    "    A[-1,-1] = 2\n",
    "\n",
    "    # Se resuelve el sistema lineal.\n",
    "    T[1:N+1] = np.linalg.solve(A,b)\n",
    "\n",
    "    # Coordenadas para la solución exacta.\n",
    "    xe = np.linspace(0,L,100)\n",
    "    \n",
    "    # Coordenadas para la solución numérica.\n",
    "    xa = np.linspace(0,L,N+2)\n",
    "    \n",
    "    # Se calcula la solución exacta en las coordenadas xe.\n",
    "    # Te = ...\n",
    "    \n",
    "    # Se calcula el error absoluto.\n",
    "    # ea = ...\n",
    "    \n",
    "    # BEGIN SOLUTION\n",
    "    Te = sol_exacta(xe, TA, TB, S, L, k)\n",
    "    ea = error_absoluto(T, sol_exacta(xa,TA,TB,S,L,k))\n",
    "    # END SOLUTION\n",
    "    \n",
    "    # Se calcula el error relativo\n",
    "    er = error_relativo(T, sol_exacta(xa,TA,TB,S,L,k))\n",
    "\n",
    "    # Se imprime el error absoluto y el relativo.\n",
    "    print('Error absoluto = {:6.5e}, Error relativo = {:6.5e}'.format(ea, er))\n",
    "\n",
    "    # Se realiza la gráfica de la solución.\n",
    "    plt.plot(xa, T, 'o-', lw = 1, label = 'Numérica', zorder=5)\n",
    "    plt.plot(xe, Te, lw=5, label = 'Exacta')\n",
    "    plt.xlabel('$x$')\n",
    "    plt.ylabel('$T$')\n",
    "    plt.legend()\n",
    "    plt.show()\n",
    "    \n",
    "# Construcción del interactivo.\n",
    "widgets.interactive(conduccion_1d,\n",
    "                    k = widgets.FloatSlider(max=1.0, min=0.02, value=0.02, step=0.1), \n",
    "                    S = widgets.FloatSlider(max=10.0, min=0.0, value=0, step=1.0), \n",
    "                    L = widgets.fixed(5.0), \n",
    "                    TA = widgets.fixed(200), \n",
    "                    TB = widgets.fixed(1000), \n",
    "                    N = widgets.IntSlider(max=10, min=4, value=4))"
   ]
  },
  {
   "cell_type": "code",
   "execution_count": null,
   "id": "d7e9f749",
   "metadata": {},
   "outputs": [],
   "source": []
  }
 ],
 "metadata": {
  "celltoolbar": "Create Assignment",
  "kernelspec": {
   "display_name": "Python 3 (ipykernel)",
   "language": "python",
   "name": "python3"
  },
  "language_info": {
   "codemirror_mode": {
    "name": "ipython",
    "version": 3
   },
   "file_extension": ".py",
   "mimetype": "text/x-python",
   "name": "python",
   "nbconvert_exporter": "python",
   "pygments_lexer": "ipython3",
   "version": "3.9.7"
  }
 },
 "nbformat": 4,
 "nbformat_minor": 5
}
