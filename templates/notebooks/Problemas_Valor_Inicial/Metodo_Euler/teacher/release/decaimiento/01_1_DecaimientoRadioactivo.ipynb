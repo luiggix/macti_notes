{
 "cells": [
  {
   "cell_type": "markdown",
   "id": "bed3817f-8fb0-40e6-9d51-f240bfc024fd",
   "metadata": {
    "deletable": false,
    "editable": false,
    "nbgrader": {
     "cell_type": "markdown",
     "checksum": "9e40038417182fcb9f2dd882221dc0c2",
     "grade": false,
     "grade_id": "cell-df23f4867f834923",
     "locked": true,
     "schema_version": 3,
     "solution": false,
     "task": false
    }
   },
   "source": [
    "# Ley de decaimiento radioactivo.\n",
    "\n",
    "**Objetivo general**\n",
    "- Aproximar una solución numérica al proceso de decaimiento radioactivo usando el método de Euler.\n",
    "\n",
    "**Objetivos particulares**\n",
    "- Hacer el planteamiento en términos de un PVI.\n",
    "- Comprender que el Método de Euler es condicionalmente estable.\n",
    "- Implementar la solución usando el Método de Euler y controlar la estabilidad del método.\n",
    "\n",
    "## Contenido\n",
    "- [1. Decaimiento radioactivo en términos de un PVI.](#1)\n",
    "- [2. Método de Euler para el decaimiento radioactivo.](#2)\n",
    "    - [1.1 Definir los datos iniciales del problema.](#2-1)\n",
    "    - [1.2 Definir los parámetros de para la aproximación. ](#2-2)\n",
    "    - [1.3 Implementación del método de Euler. ](#2-3)\n",
    "        - [Ejercicio 1. Comparación con la solución analítica.](#ej-1)\n",
    "        - [Ejercicio 2. Estabilidad del método de Euler hacia adelante.](#ej-2)"
   ]
  },
  {
   "cell_type": "markdown",
   "id": "33ec5102-89df-42ac-8bbf-5fdb99235b96",
   "metadata": {
    "deletable": false,
    "editable": false,
    "nbgrader": {
     "cell_type": "markdown",
     "checksum": "213da7a5654494f81e031496e9deb124",
     "grade": false,
     "grade_id": "cell-58bf03b9c6900f22",
     "locked": true,
     "schema_version": 3,
     "solution": false,
     "task": false
    }
   },
   "source": [
    "<a name='1'></a>\n",
    "## Decaimiento radioactivo en términos de un PVI.\n",
    "\n",
    "La masa de una substancia radioactiva decae a una razón que es proporcional a la cantidad de masa que está presente ([Decaimiento radioactivo](https://es.wikipedia.org/wiki/Radiactividad#Per%C3%ADodo_de_semidesintegraci%C3%B3n_radiactiva)). \n",
    "\n",
    "---\n",
    "Si $y(t)$ representa a la cantidad de substancia  en el tiempo $t$, entonces la ley de decaimiento se expresa como:\n",
    "$$\n",
    "\\begin{eqnarray*}\n",
    "\\frac{d y(t)}{d t} & = & - \\lambda y(t),  \\qquad \\text{para} \\quad a < t  < b \\tag{1}\\\\\n",
    "y(t = a) & = & y_a, \\qquad \\text{(condición inicial)} \\tag{2}\n",
    "\\end{eqnarray*}\n",
    "$$\n",
    "\n",
    "donde $y_a$ representa la cantidad  de susbtancia inicial, $\\lambda$ es la constante de decaimiento y $(a,b)$ es el intervalo de tiempo donde se estudia el decaimiento.\n",
    "\n",
    "---\n",
    "\n",
    "La descripción anterior es el plateamiento del decaimiento radiactivo en términos de un **Problema de Valor Inicial** (PVI).\n",
    "\n",
    "Para que un PVI esté bien definido, se requiere de:\n",
    "* la descripción de la ecuación diferencial ordinaria $(1)$ en un dominio bien definido, en este caso $a < t  < b$,  \n",
    "* la condición inicial, ecuación $(2)$.\n",
    "\n",
    "Este problema particular tiene la siguiente solución analítica: $y(t) = y_a e^{-\\lambda t}$."
   ]
  },
  {
   "cell_type": "markdown",
   "id": "d40e89b2-4aff-4e97-9f90-f79ebdb4678b",
   "metadata": {
    "deletable": false,
    "editable": false,
    "nbgrader": {
     "cell_type": "markdown",
     "checksum": "b5b520eef932dcf671bfc345585c90fe",
     "grade": false,
     "grade_id": "cell-c33f13931122f7a4",
     "locked": true,
     "schema_version": 3,
     "solution": false,
     "task": false
    },
    "tags": []
   },
   "source": [
    "<a name='2'></a>\n",
    "## Método de Euler para el decaimiento radioactivo.\n",
    "\n",
    "En este ejercicio, vamos a aproximar una solución a $y(t)$ mediante la aplicación del método de Euler. Para ello, la derivada del lado izquierdo de la ecuación $(1)$ se aproxima usando diferencias finitas hacia adelante:\n",
    "\n",
    "$$\n",
    "\\frac{d y(t)}{d t} \\approx \\frac{y(t + \\delta t) - y(t)}{\\delta t}\n",
    "$$\n",
    "\n",
    "Si esta ecuación se sustituye en $(1)$ y despejamos $y(t + \\delta t)$ obtenemos:\n",
    "\n",
    "$$\n",
    "y(t + \\delta t) = y(t) - \\delta t \\lambda y(t) \\tag{3}\n",
    "$$\n",
    "\n",
    "Entonces, usando la fórmula $(3)$ y la condición inicial $y(t=a) = y_a$ tenemos:\n",
    "\n",
    "$$\n",
    "\\begin{eqnarray}\n",
    "t = a & \\longrightarrow & y(a+\\delta t) = y_a - \\delta t \\lambda y_a \\\\\n",
    "t = a+\\delta t & \\longrightarrow & y(a+2\\delta t) = y(a+\\delta t) - \\delta t \\lambda y(a+\\delta t) \\\\\n",
    "t = a+2 \\delta t & \\longrightarrow & y(a+3 \\delta t) = y(a+2 \\delta t) - \\delta t \\lambda y(a+2 \\delta t) \\tag{4}\\\\\n",
    " &  & \\vdots \\\\\n",
    "t = a+(N_t-1) \\delta t & \\longrightarrow & y(a+N_t \\delta t) = y(a+(N_t-1) \\delta t) - \\delta t \\lambda y(a+(N_t-1) \\delta t) \\\\\n",
    "\\end{eqnarray}\n",
    "$$\n",
    "\n",
    "donde $\\delta t$ y $N_t$ están relacionados por la siguiente fórmula\n",
    "\n",
    "$$\n",
    "\\delta t = \\frac{(b-a)}{N_t}\n",
    "$$\n",
    "\n",
    "Observamos que la serie de ecuaciones $(4)$ va calculando del valor de $y(t)$ para varios pasos de tiempo hasta $t = b = (a + N_t \\delta t)$.\n",
    "\n",
    "La ecuación $(3)$ es la aplicación del método de Euler a la ley de decaimiento radiactivo."
   ]
  },
  {
   "cell_type": "markdown",
   "id": "7c409310-ac89-4406-b757-eb9fae38604a",
   "metadata": {
    "deletable": false,
    "editable": false,
    "nbgrader": {
     "cell_type": "markdown",
     "checksum": "4e4aa6ccaaca74f48649b85d25bf21a9",
     "grade": false,
     "grade_id": "cell-2712fb7e80c0d8a4",
     "locked": true,
     "schema_version": 3,
     "solution": false,
     "task": false
    }
   },
   "source": [
    "<a name='2-1'></a>\n",
    "### Definir los datos iniciales del problema.\n",
    "\n",
    "Para este ejercicio usaremos los siguientes datos:\n",
    "\n",
    "* Constante de decaimiento $\\lambda = 1.5$.\n",
    "* Intervalo de solución $t \\in [a,b] = [0, 10]$.\n",
    "* Condición inicial $y_0 = 20$"
   ]
  },
  {
   "cell_type": "code",
   "execution_count": null,
   "id": "8d14eae4-7ae4-4d16-92f0-1477f1b8fb30",
   "metadata": {
    "deletable": false,
    "editable": false,
    "nbgrader": {
     "cell_type": "code",
     "checksum": "b44354d4def42a73884d977e7f90ace7",
     "grade": false,
     "grade_id": "cell-b528a16cb2d8f144",
     "locked": true,
     "schema_version": 3,
     "solution": false,
     "task": false
    },
    "tags": []
   },
   "outputs": [],
   "source": [
    "import numpy as np\n",
    "import pandas as pd\n",
    "import matplotlib.pyplot as plt\n",
    "import macti.visual as mvis\n",
    "\n",
    "from macti.evaluacion import Quizz\n",
    "quizz = Quizz('Problemas_Valor_Inicial', 'Método_euler')"
   ]
  },
  {
   "cell_type": "code",
   "execution_count": null,
   "id": "9934da50-3579-48d1-a54f-8c8f94e5a8da",
   "metadata": {
    "deletable": false,
    "editable": false,
    "nbgrader": {
     "cell_type": "code",
     "checksum": "0a4c00339719ae2b38a53f647fe79a6f",
     "grade": false,
     "grade_id": "cell-5909f422764ad581",
     "locked": true,
     "schema_version": 3,
     "solution": false,
     "task": false
    },
    "tags": []
   },
   "outputs": [],
   "source": [
    "# Constante de decaimiento\n",
    "λ = 1.5\n",
    "\n",
    "# Intervalo de solución\n",
    "a = 0.0\n",
    "b = 10\n",
    "\n",
    "# Condición inicial:\n",
    "ya = 20.0\n",
    "\n",
    "print('Datos iniciales del problema:\\n' + '-'*24)\n",
    "print('λ = {} \\n[a, b] = [{},{}] \\nya = {}'.format(λ,a,b,ya))"
   ]
  },
  {
   "cell_type": "markdown",
   "id": "248d0485-5699-4d2e-a969-ca38f9f7ef8e",
   "metadata": {
    "deletable": false,
    "editable": false,
    "nbgrader": {
     "cell_type": "markdown",
     "checksum": "c32ea75948aa8977b088301e4414d7cf",
     "grade": false,
     "grade_id": "cell-1c943c328e8ec40a",
     "locked": true,
     "schema_version": 3,
     "solution": false,
     "task": false
    }
   },
   "source": [
    "<a name='2-2'></a>\n",
    "### Definir de los parámetros para la aproximación:\n",
    "\n",
    "* Número de pasos de tiempo $N_t = 5$.\n",
    "* Tamaño de paso: $h_t = (b−a) / N_t$."
   ]
  },
  {
   "cell_type": "code",
   "execution_count": null,
   "id": "fd429a0c-a99d-4a8a-b203-47bed37a2fac",
   "metadata": {
    "deletable": false,
    "editable": false,
    "nbgrader": {
     "cell_type": "code",
     "checksum": "63835955cb0254d62d83af5dccc588d4",
     "grade": false,
     "grade_id": "cell-53f3d6c4068c7aea",
     "locked": true,
     "schema_version": 3,
     "solution": false,
     "task": false
    },
    "tags": []
   },
   "outputs": [],
   "source": [
    "# Número de pasos de tiempo\n",
    "Nt = 5\n",
    "\n",
    "# Paso de tiempo\n",
    "𝛿𝑡 = (b-a) / Nt\n",
    "\n",
    "# Imprimimos los parámetros del problema\n",
    "print('Parámetros del problema:\\n' + '-'*24)\n",
    "print('Nt = {} \\n𝛿𝑡 = {}'.format(Nt,𝛿𝑡))"
   ]
  },
  {
   "cell_type": "markdown",
   "id": "8f23b249-5fe4-4c94-a0e4-404cc4b28938",
   "metadata": {
    "deletable": false,
    "editable": false,
    "nbgrader": {
     "cell_type": "markdown",
     "checksum": "c637549e9026653153539291fbf7e23d",
     "grade": false,
     "grade_id": "cell-82246cfb97338fd7",
     "locked": true,
     "schema_version": 3,
     "solution": false,
     "task": false
    },
    "tags": []
   },
   "source": [
    "<a name='2-3'></a>\n",
    "### Implementación del método de Euler.\n",
    "\n",
    "**1.** Primero definimos un arreglo para almacenar los pasos de tiempo: \n",
    "\n",
    "$$\n",
    "t_n = a + n ∗ \\delta_t \\quad \\text{para} \\quad n = 0,1,...,N_t\n",
    "$$"
   ]
  },
  {
   "cell_type": "code",
   "execution_count": null,
   "id": "6a208bd7-e284-4609-a90d-0cac71645868",
   "metadata": {
    "deletable": false,
    "editable": false,
    "nbgrader": {
     "cell_type": "code",
     "checksum": "47bfccfe55d6d41c1ec67acceabe0043",
     "grade": false,
     "grade_id": "cell-28b3bce9daf0a6f4",
     "locked": true,
     "schema_version": 3,
     "solution": false,
     "task": false
    },
    "tags": []
   },
   "outputs": [],
   "source": [
    "t = np.array([a + n * 𝛿𝑡 for n in range(0, Nt+1)])\n",
    "\n",
    "print(' Número de pasos de tiempo: {} \\n Tiempos para el cálculo: {}'.format(Nt, t))"
   ]
  },
  {
   "cell_type": "markdown",
   "id": "4c8ce4fe-6f6e-4d4e-a0d3-e542b229e902",
   "metadata": {
    "deletable": false,
    "editable": false,
    "nbgrader": {
     "cell_type": "markdown",
     "checksum": "24c4722b8493a1faa1f51b0427a7d9ad",
     "grade": false,
     "grade_id": "cell-6a9368edb044ed7a",
     "locked": true,
     "schema_version": 3,
     "solution": false,
     "task": false
    }
   },
   "source": [
    "**2.** Ahora definimos un arreglo para almacenar la solución: \n",
    "\n",
    "$$\n",
    "y = [y_a, y_1, \\dots , y_b]\n",
    "$$ \n",
    "\n",
    "donde $y(t=b) = y_b$.\n",
    "\n",
    "Nótese que el primer valor de este arreglo debe ser la condición inicial: $y(a) = y_a$. "
   ]
  },
  {
   "cell_type": "code",
   "execution_count": null,
   "id": "f44833b6-d496-4d45-9e61-f1c8a64a3383",
   "metadata": {
    "deletable": false,
    "editable": false,
    "nbgrader": {
     "cell_type": "code",
     "checksum": "9969566c2366caec75fd328277042839",
     "grade": false,
     "grade_id": "cell-6d831009f27d8cd9",
     "locked": true,
     "schema_version": 3,
     "solution": false,
     "task": false
    },
    "tags": []
   },
   "outputs": [],
   "source": [
    "# Arreglo para almacenar la solución\n",
    "y = np.zeros(Nt+1)\n",
    "\n",
    "# Condición inicial\n",
    "y[0] = ya\n",
    "\n",
    "print('Arreglo para la solución: {}'.format(y)) "
   ]
  },
  {
   "cell_type": "markdown",
   "id": "340e690b-ad6b-404c-8144-5393bc90233b",
   "metadata": {
    "deletable": false,
    "editable": false,
    "nbgrader": {
     "cell_type": "markdown",
     "checksum": "fba5a9ade8758428bba129d0dad3001c",
     "grade": false,
     "grade_id": "cell-7925c39d1fe32c71",
     "locked": true,
     "schema_version": 3,
     "solution": false,
     "task": false
    }
   },
   "source": [
    "**3.** Calculamos la solución con el método de Euler hacia adelante.\n",
    "\n",
    "De manera formal, este método se escribe como sigue:\n",
    "\n",
    "$$\n",
    "\\begin{eqnarray}\n",
    "y(a) & = y_a & \\qquad \\qquad\\text{(condición inicial)}\\nonumber \\\\\n",
    "y_{n+1} & = & y_n + \\delta_t \\, f(t_n, y_n), \\text{ para } n = 0,1,2, \\dots, N_t - 1 \\tag{5}\n",
    "\\end{eqnarray}\n",
    "$$\n",
    "\n",
    "Observe que en la fórmula (1) se requiere de la definición de la función $f(t, y)$, que para el caso del decaimiento radiactivo es\n",
    "\n",
    "$$f(t,y) = -\\lambda y(t)$$\n",
    "\n",
    "Cuando sustituimos esta forma de la función $f(t,y)$ en $(5)$ obtenemos la aproximación mostrada en las ecuaciones $(4)$."
   ]
  },
  {
   "cell_type": "code",
   "execution_count": null,
   "id": "b34b8eb7-34f6-4987-967f-7e18c46e0473",
   "metadata": {
    "deletable": false,
    "editable": false,
    "nbgrader": {
     "cell_type": "code",
     "checksum": "98e64ab69cb16c39f8f9ffd461fa7fd0",
     "grade": false,
     "grade_id": "cell-183ac0afe7967f2d",
     "locked": true,
     "schema_version": 3,
     "solution": false,
     "task": false
    },
    "tags": []
   },
   "outputs": [],
   "source": [
    "# Función f(t,y) = -λ y(t)\n",
    "f = lambda t, y : -λ * y \n",
    "\n",
    "# Método de Euler hacia adelante\n",
    "for n in range(0, Nt):\n",
    "    y[n+1] = y[n] + 𝛿𝑡 * f(n * 𝛿𝑡, y[n]) \n",
    "\n",
    "# Imprimimos y graficamos la solución\n",
    "print('\\nSolución :', y)\n",
    "plt.plot(t, y, 'o-')\n",
    "plt.xlabel('t')\n",
    "plt.ylabel('Masa')\n",
    "plt.show()"
   ]
  },
  {
   "cell_type": "markdown",
   "id": "c53f3f61-4ada-4b5b-b0dc-d81f0604d65e",
   "metadata": {
    "deletable": false,
    "editable": false,
    "nbgrader": {
     "cell_type": "markdown",
     "checksum": "9f1205b91a10f1eb6fa49c06fa79ef3b",
     "grade": false,
     "grade_id": "cell-e4c7ca1d96213e9b",
     "locked": true,
     "schema_version": 3,
     "solution": false,
     "task": false
    }
   },
   "source": [
    "**¿Qué opina de la solución obtenida? ¿Cómo podría mejorar la solución calculada?**"
   ]
  },
  {
   "cell_type": "markdown",
   "id": "80164dae-747d-4b35-a8f9-984dbe26ae2e",
   "metadata": {
    "deletable": false,
    "editable": false,
    "nbgrader": {
     "cell_type": "markdown",
     "checksum": "53675e5c210a9adee3bd3e6fc265c2fb",
     "grade": false,
     "grade_id": "cell-90b64dfafc1d06ca",
     "locked": true,
     "schema_version": 3,
     "solution": false,
     "task": false
    }
   },
   "source": [
    "<a name='ej-1'></a>\n",
    "#### **<font color=\"DodgerBlue\">Ejercicio 1. Comparación con la solución analítica.</font>**\n",
    "\n",
    "<font color=\"DarkBlue\">\n",
    "Implementar la solución analítica $y(t) = y_a e^{-\\lambda t}$ y compararla con la solución analítica antes obtenida.\n",
    "\n",
    "Para comprobar que tan buenos son los resultados numéricos se puede comparar la solución exacta $ye$ con la numérica $y$ y calcular el error numérico usando la norma-2 como sigue:\n",
    "\n",
    "$$\n",
    "||E||_2 = \\frac{1}{N_t}\\left( \\sum_{i=0}^{N_t} (y_i - ye_i)^2 \\right)^{1/2} \n",
    "$$\n",
    "\n",
    "donde $y_i$ es la solución numérica y $ye_i$ la solución exacta en el paso $i$-ésimo.\n",
    "\n",
    "1. **En el siguiente código complete el cálculo de la solución analítica.**\n",
    "    \n",
    "- Hint. Escriba la solución analítica usando una función `lambda`:\n",
    "    \n",
    "```python\n",
    "ye = lambda t: ...\n",
    "``` \n",
    "\n",
    "2. **Complete también el cálculo del error.**\n",
    "\n",
    "- Hint. Escriba el cálculo del error usando la función `np.linalg.norm()`:\n",
    "    \n",
    "```python\n",
    "error = np.linalg.norm( ... ) / Nt\n",
    "``` \n",
    "\n",
    "3. **Cambie el número de pasos de tiempo, $N_t$, hasta que el error sea menor a $0.01$.**\n",
    "</font>\n",
    "\n"
   ]
  },
  {
   "cell_type": "code",
   "execution_count": null,
   "id": "47f49e39-8b68-4750-9990-87adf0d7b277",
   "metadata": {
    "deletable": false,
    "nbgrader": {
     "cell_type": "code",
     "checksum": "cb991c2c8e41694fd7def5bb01290b2f",
     "grade": false,
     "grade_id": "cell-4e9a9c318615265c",
     "locked": false,
     "schema_version": 3,
     "solution": true,
     "task": false
    },
    "tags": []
   },
   "outputs": [],
   "source": [
    "#\n",
    "# Por claridad, repetimos todo el código para el cálculo de la solución.\n",
    "#\n",
    "\n",
    "# Constante de decaimiento\n",
    "λ = 1.5\n",
    "\n",
    "# Intervalo de solución\n",
    "a = 0.0\n",
    "b = 10\n",
    "\n",
    "# Condición inicial:\n",
    "ya = 20.0\n",
    "\n",
    "# Número de pasos de tiempo\n",
    "Nt = 5\n",
    "\n",
    "# Paso de tiempo\n",
    "𝛿𝑡 = (b-a) / Nt\n",
    "\n",
    "# Pasos de tiempo para el cálculo numérico\n",
    "t = np.array([a + 𝛿𝑡 * n for n in range(0, Nt+1)])\n",
    "\n",
    "# Pasos de tiempo para calcular la solución exacta.\n",
    "te = np.linspace(a,b,100)\n",
    "\n",
    "# Arreglo para almacenar la solución\n",
    "y = np.zeros(Nt+1)\n",
    "\n",
    "# Condición inicial\n",
    "y[0] = ya\n",
    "\n",
    "# Función f(t,y) \n",
    "f = lambda t, y : -λ * y \n",
    "\n",
    "for n in range(0, Nt):\n",
    "    y[n+1] = y[n] + 𝛿𝑡 * f(n * 𝛿𝑡, y[n]) # Método de Euler hacia adelante\n",
    "\n",
    "# Calculo de la solución analítica\n",
    "# ye = ...\n",
    "# Cálculo del error numérico\n",
    "# error = ...\n",
    "\n",
    "# YOUR CODE HERE\n",
    "raise NotImplementedError()\n",
    "\n",
    "# Graficación de la aproximación y de la solución analítica.\n",
    "plt.plot(t, y, 'o-', label='Aproximación')\n",
    "plt.plot(te, ye(te), label='Sol. analítica')\n",
    "plt.legend()\n",
    "\n",
    "# Decoración del gráfico\n",
    "plt.title('DECAIMIENTO \\n RADIACTIVO', loc='left', color='blue', fontsize=12)\n",
    "plt.title('Nt = {}, ht = {:3.2}, \\n ERROR = {:5.4}'.format(Nt, 𝛿𝑡, error), loc='right', color='red', fontsize=12)\n",
    "plt.xlabel('Tiempo')\n",
    "plt.ylabel('Masa')\n",
    "plt.grid('--', lw=0.5)\n",
    "ejes = plt.gca()\n",
    "ejes.spines['top'].set_visible(False)\n",
    "ejes.spines['right'].set_visible(False)\n",
    "plt.show()"
   ]
  },
  {
   "cell_type": "code",
   "execution_count": null,
   "id": "80ebcfe9-17f4-4659-afd9-4c2e3cdef177",
   "metadata": {
    "deletable": false,
    "nbgrader": {
     "cell_type": "code",
     "checksum": "d02a181d29d59918a7a3014818a7a68b",
     "grade": false,
     "grade_id": "cell-aa4bdf715e33edfd",
     "locked": false,
     "schema_version": 3,
     "solution": true,
     "task": false
    },
    "tags": []
   },
   "outputs": [],
   "source": [
    "# Coloque el primer valor de Nt con el que \n",
    "# se obtiene un error menor a 0.01\n",
    "# Nt_correcto = ...\n",
    "# YOUR CODE HERE\n",
    "raise NotImplementedError()"
   ]
  },
  {
   "cell_type": "code",
   "execution_count": null,
   "id": "c5d7cfc1-81d7-4685-a79e-be4e6501d0e8",
   "metadata": {
    "deletable": false,
    "editable": false,
    "nbgrader": {
     "cell_type": "code",
     "checksum": "baec71deaa71d83887d4cd069525d945",
     "grade": true,
     "grade_id": "cell-031ebc400d01ae65",
     "locked": true,
     "points": 5,
     "schema_version": 3,
     "solution": false,
     "task": false
    },
    "tags": []
   },
   "outputs": [],
   "source": [
    "quizz.verifica('1', '1', Nt_correcto)"
   ]
  },
  {
   "cell_type": "markdown",
   "id": "b45d3359-110c-41a1-8724-0065c1a673b3",
   "metadata": {
    "deletable": false,
    "editable": false,
    "nbgrader": {
     "cell_type": "markdown",
     "checksum": "6bcb6b14b19b76c1cdb10527bea5f73e",
     "grade": false,
     "grade_id": "cell-ae6c15cba3d72f51",
     "locked": true,
     "schema_version": 3,
     "solution": false,
     "task": false
    }
   },
   "source": [
    "<a name='ej-2'></a>\n",
    "#### **<font color=\"DodgerBlue\">Ejercicio 2. Estabilidad del Método de Euler hacia adelante.</font>**\n",
    "\n",
    "<font color=\"DarkBlue\">\n",
    "Ejecute la siguiente celda para obtener un interactivo que le permitirá cambiar de manera interactiva los parámetros $\\lambda$ y $N_t$. Observe los cambios que se obtienen con cada valor de los parámetros.\n",
    "    \n",
    "1. **Para los siguiente valores de $\\lambda$ encuentre el correspondiente valor de $N_t$ para generar el valor del ERROR que se indica.**\n",
    "</font> \n",
    "\n",
    "|  |  |  |  |  |  |\n",
    "|--|--|--|--|--|--|\n",
    "|$\\lambda$ | 1.00 | 1.50 | 2.00 | 2.50 | 3.00 |\n",
    "| $N_t$ | ¿? | ¿? | ¿? | ¿? | ¿? |\n",
    "| ERROR |0.2259|0.2259|0.2049|0.2564|0.2699|"
   ]
  },
  {
   "cell_type": "code",
   "execution_count": null,
   "id": "d346d2d3-d649-445a-a5cd-c06048ff33c2",
   "metadata": {
    "deletable": false,
    "editable": false,
    "nbgrader": {
     "cell_type": "code",
     "checksum": "8e5c895afda768d77449fbf014b48a35",
     "grade": false,
     "grade_id": "cell-442750c6f9e56c12",
     "locked": true,
     "schema_version": 3,
     "solution": false,
     "task": false
    },
    "tags": []
   },
   "outputs": [],
   "source": [
    "%run \"../utils/src/zDecaimiento_interactive.ipynb\""
   ]
  },
  {
   "cell_type": "code",
   "execution_count": null,
   "id": "cacf61f7-9983-40c1-9439-21a6114069cd",
   "metadata": {
    "deletable": false,
    "nbgrader": {
     "cell_type": "code",
     "checksum": "a39f08229212b8e4a20648539b155719",
     "grade": false,
     "grade_id": "cell-00eac9d306b4844a",
     "locked": false,
     "schema_version": 3,
     "solution": true,
     "task": false
    },
    "tags": []
   },
   "outputs": [],
   "source": [
    "# Escriba la lista de valores de Nt para  \n",
    "# obtener el error que se pide en cada caso\n",
    "# Nt_s = [..., ... ]\n",
    "# YOUR CODE HERE\n",
    "raise NotImplementedError()"
   ]
  },
  {
   "cell_type": "code",
   "execution_count": null,
   "id": "b36e6fd3-44e9-47fd-99df-13cbb1322f47",
   "metadata": {
    "deletable": false,
    "editable": false,
    "nbgrader": {
     "cell_type": "code",
     "checksum": "6cd60bcc66244b8b19ba2be63bb7acb5",
     "grade": true,
     "grade_id": "cell-80e5bbb4376df20a",
     "locked": true,
     "points": 5,
     "schema_version": 3,
     "solution": false,
     "task": false
    },
    "tags": []
   },
   "outputs": [],
   "source": [
    "quizz.verifica('1', '2', Nt_s)"
   ]
  },
  {
   "cell_type": "code",
   "execution_count": null,
   "id": "6b42e50c-4050-456c-b9c3-3431bce50887",
   "metadata": {},
   "outputs": [],
   "source": []
  }
 ],
 "metadata": {
  "kernelspec": {
   "display_name": "Python 3 (ipykernel)",
   "language": "python",
   "name": "python3"
  },
  "language_info": {
   "codemirror_mode": {
    "name": "ipython",
    "version": 3
   },
   "file_extension": ".py",
   "mimetype": "text/x-python",
   "name": "python",
   "nbconvert_exporter": "python",
   "pygments_lexer": "ipython3",
   "version": "3.11.2"
  }
 },
 "nbformat": 4,
 "nbformat_minor": 5
}
