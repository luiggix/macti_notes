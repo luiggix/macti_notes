{
 "cells": [
  {
   "cell_type": "code",
   "execution_count": 1,
   "id": "0b835589-ed66-4eb2-92ec-6ef84b5475c9",
   "metadata": {
    "tags": []
   },
   "outputs": [
    {
     "name": "stdout",
     "output_type": "stream",
     "text": [
      "Creando el directorio :./Tema1/\n",
      "Creando el directorio :./utils/data/\n",
      "Creando el directorio :./utils/src/\n",
      "Creando el directorio :./utils/fig/\n",
      "Copiando plantilla01.ipynb al directorio ./Tema1/\n",
      "Copiando plantilla02.ipynb al directorio ./Tema1/\n",
      "Copiando plantilla03.ipynb al directorio ./Tema1/\n"
     ]
    }
   ],
   "source": [
    "%run \"macti_notes/templates/setup_curso.py\""
   ]
  },
  {
   "cell_type": "code",
   "execution_count": null,
   "id": "71695541-5149-48fe-ba5d-d36127a869bb",
   "metadata": {},
   "outputs": [],
   "source": []
  }
 ],
 "metadata": {
  "kernelspec": {
   "display_name": "Python 3 (ipykernel)",
   "language": "python",
   "name": "python3"
  },
  "language_info": {
   "codemirror_mode": {
    "name": "ipython",
    "version": 3
   },
   "file_extension": ".py",
   "mimetype": "text/x-python",
   "name": "python",
   "nbconvert_exporter": "python",
   "pygments_lexer": "ipython3",
   "version": "3.10.10"
  }
 },
 "nbformat": 4,
 "nbformat_minor": 5
}
