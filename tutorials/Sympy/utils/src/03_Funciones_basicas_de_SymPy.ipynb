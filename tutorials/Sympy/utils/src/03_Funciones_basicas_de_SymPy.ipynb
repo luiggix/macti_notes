{
 "cells": [
  {
   "cell_type": "markdown",
   "id": "75f13a12-73ff-4858-b0d2-9e482875f48c",
   "metadata": {},
   "source": [
    "# Funciones básicas de SymPy\n",
    "\n",
    "**Autor**: Carlos Japhet Arellanos Balcázar"
   ]
  },
  {
   "cell_type": "code",
   "execution_count": 1,
   "id": "14736e3c-d4be-4a6d-a20d-1ed1984ce716",
   "metadata": {},
   "outputs": [],
   "source": [
    "# Importación de la librería\n",
    "import sympy\n",
    "# Impresión con Latex\n",
    "sympy.init_printing()"
   ]
  },
  {
   "cell_type": "markdown",
   "id": "53ef8cb3-7123-44e2-b612-2c515789a952",
   "metadata": {},
   "source": [
    "## Sustitución\n",
    "\n",
    "De manera frecuente, cuando manipulamos expresiones buscamos sustituir valores dentro de ellas para poder obtener resultados. Esto se puede hacer con facilidad en SymPy, haciendo uso del método ```subs``` sobre una expresión."
   ]
  },
  {
   "cell_type": "code",
   "execution_count": 2,
   "id": "639d9c90-a331-4801-9400-13a9540d4b03",
   "metadata": {},
   "outputs": [
    {
     "data": {
      "image/png": "[encoded data removed]",
      "text/latex": [
       "$\\displaystyle y^{2} + 3$"
      ],
      "text/plain": [
       " 2    \n",
       "y  + 3"
      ]
     },
     "execution_count": 2,
     "metadata": {},
     "output_type": "execute_result"
    }
   ],
   "source": [
    "x, y = sympy.symbols('x, y')\n",
    "expresion = x**2 + 3\n",
    "expresion.subs(x, y)"
   ]
  },
  {
   "cell_type": "markdown",
   "id": "66eb05ba-64af-4002-b545-43372cb4b63a",
   "metadata": {},
   "source": [
    "En este caso, sustituimos una variable por otra, pero también podemos sustituir una variable por un valor numérico y automáticamente SymPy evaluará esta expresión"
   ]
  },
  {
   "cell_type": "code",
   "execution_count": 3,
   "id": "299b5062-805a-4ddf-8f30-a91d0ee65e3d",
   "metadata": {},
   "outputs": [
    {
     "data": {
      "image/png": "[encoded data removed]",
      "text/latex": [
       "$\\displaystyle 7$"
      ],
      "text/plain": [
       "7"
      ]
     },
     "execution_count": 3,
     "metadata": {},
     "output_type": "execute_result"
    }
   ],
   "source": [
    "expresion.subs(x, 2)"
   ]
  },
  {
   "cell_type": "markdown",
   "id": "dd5bbdfa-d55f-44a6-aa90-decb9e203519",
   "metadata": {},
   "source": [
    "Si quisiésemos sustituir más de una variable en la expresión, esto puede hacerse pasando una lista de tuplas como argumento al método ```subs```."
   ]
  },
  {
   "cell_type": "code",
   "execution_count": 4,
   "id": "36634e30-1b2d-417d-bfdc-c158ec4f0efc",
   "metadata": {},
   "outputs": [
    {
     "data": {
      "image/png": "[encoded data removed]",
      "text/latex": [
       "$\\displaystyle 10$"
      ],
      "text/plain": [
       "10"
      ]
     },
     "execution_count": 4,
     "metadata": {},
     "output_type": "execute_result"
    }
   ],
   "source": [
    "expresion = 2 * x + y**2\n",
    "expresion.subs([(x, 3), (y, 2)])"
   ]
  },
  {
   "cell_type": "markdown",
   "id": "e3e121aa-a2b7-4c54-96d2-01c8d3010cf4",
   "metadata": {},
   "source": [
    "## Convertir cadenas a expresiones\n",
    "\n",
    "SymPy también tiene la habilidad de recibir una cadena de caracteres y convertirla a una expresión simbólica. Sólo se debe cuidar de que la expresión escrita en la cadena, sea una expresión válida y previamente revisada, dado que de no ser así podría generar un error o una expresión errónea. Para esto se usa la función ```sympify``` (no confundirse con ```simplify```)."
   ]
  },
  {
   "cell_type": "code",
   "execution_count": 5,
   "id": "39144a43-eb31-4615-8976-8d6b96da8bed",
   "metadata": {},
   "outputs": [
    {
     "data": {
      "image/png": "[encoded data removed]",
      "text/latex": [
       "$\\displaystyle x^{2} - \\frac{x}{4} + \\frac{1}{2}$"
      ],
      "text/plain": [
       " 2   x   1\n",
       "x  - ─ + ─\n",
       "     4   2"
      ]
     },
     "execution_count": 5,
     "metadata": {},
     "output_type": "execute_result"
    }
   ],
   "source": [
    "cadena = 'x**2 - 1/4 * x + 1/2'\n",
    "expresion = sympy.sympify(cadena)\n",
    "expresion"
   ]
  },
  {
   "cell_type": "markdown",
   "id": "0e20e1bf-c66e-4e32-ac0a-70afcff5ceb5",
   "metadata": {},
   "source": [
    "## Evaluación numérica\n",
    "\n",
    "Muchas ocasiones, al resolver expresiones, obtenemos resultados simbólicos y nos interesa conocer el resultado de manera numérica. Para esto, podemos usar el método ```evalf``` la cual convierte de manera automática nuestra expresión simbólica en una numérica."
   ]
  },
  {
   "cell_type": "code",
   "execution_count": 6,
   "id": "1bbd4086-ba5f-476f-99f8-8f8d6afeeeab",
   "metadata": {},
   "outputs": [
    {
     "data": {
      "image/png": "[encoded data removed]",
      "text/latex": [
       "$\\displaystyle 1.4142135623731$"
      ],
      "text/plain": [
       "1.41421356237310"
      ]
     },
     "execution_count": 6,
     "metadata": {},
     "output_type": "execute_result"
    }
   ],
   "source": [
    "expresion = sympy.sqrt(2)\n",
    "expresion.evalf()"
   ]
  },
  {
   "cell_type": "markdown",
   "id": "38cc4ee0-c63c-4f8b-add2-5597878f5e09",
   "metadata": {},
   "source": [
    "Por defecto SymPy nos muestra los primeros 15 dígitos, pero podemos cambiar esto pasando el número de dígitos como argumento al método ```evalf```."
   ]
  },
  {
   "cell_type": "code",
   "execution_count": 7,
   "id": "032a6718-8551-466e-b384-e1941cdadc94",
   "metadata": {},
   "outputs": [
    {
     "data": {
      "image/png": "[encoded data removed]",
      "text/latex": [
       "$\\displaystyle 1.414213562$"
      ],
      "text/plain": [
       "1.414213562"
      ]
     },
     "execution_count": 7,
     "metadata": {},
     "output_type": "execute_result"
    }
   ],
   "source": [
    "expresion.evalf(10)"
   ]
  },
  {
   "cell_type": "markdown",
   "id": "d92ff0b5-4504-40b1-b11c-d3d35d819aed",
   "metadata": {},
   "source": [
    "También tenemos la opción de evaluar numéricamente expresiones sustituyendo el valor dentro del mismo método ```evalf```. Para esto, basta con pasar al método el argumento ```subs``` con un diccionario que contenga las variables con valores a sustituir."
   ]
  },
  {
   "cell_type": "code",
   "execution_count": 8,
   "id": "59b234f0-48f9-45d1-bafd-84c11d9f38aa",
   "metadata": {},
   "outputs": [
    {
     "data": {
      "image/png": "[encoded data removed]",
      "text/latex": [
       "$\\displaystyle 0.914742357804532$"
      ],
      "text/plain": [
       "0.914742357804532"
      ]
     },
     "execution_count": 8,
     "metadata": {},
     "output_type": "execute_result"
    }
   ],
   "source": [
    "x = sympy.symbols('x')\n",
    "expresion = sympy.cos(10 * x)\n",
    "expresion.evalf(subs = {x: 3.1})"
   ]
  },
  {
   "cell_type": "markdown",
   "id": "e7d7a3f6-9b0c-4548-8649-cea6a3686c4a",
   "metadata": {},
   "source": [
    "---\n",
    "\n",
    "Para más información de estas funciones, haga click [aquí](https://docs.sympy.org/latest/tutorial/basic_operations.html)"
   ]
  }
 ],
 "metadata": {
  "kernelspec": {
   "display_name": "Python 3 (ipykernel)",
   "language": "python",
   "name": "python3"
  },
  "language_info": {
   "codemirror_mode": {
    "name": "ipython",
    "version": 3
   },
   "file_extension": ".py",
   "mimetype": "text/x-python",
   "name": "python",
   "nbconvert_exporter": "python",
   "pygments_lexer": "ipython3",
   "version": "3.8.13"
  }
 },
 "nbformat": 4,
 "nbformat_minor": 5
}
