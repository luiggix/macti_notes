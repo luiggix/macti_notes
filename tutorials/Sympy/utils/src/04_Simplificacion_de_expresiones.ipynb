{
 "cells": [
  {
   "cell_type": "markdown",
   "id": "c9143f7b-a15a-436c-a7f4-9d53a80fc1df",
   "metadata": {},
   "source": [
    "# Simplificación de expresiones\n",
    "\n",
    "**Autor**: Carlos Japhet Arellanos Balcázar"
   ]
  },
  {
   "cell_type": "code",
   "execution_count": 1,
   "id": "2e9e433e-dadb-4772-9fe7-042ee9f32ef4",
   "metadata": {},
   "outputs": [],
   "source": [
    "# Importación de la librería\n",
    "import sympy\n",
    "# Impresión con Latex\n",
    "sympy.init_printing()"
   ]
  },
  {
   "cell_type": "markdown",
   "id": "aa4ce7d6-c224-46eb-876c-840b840b4b45",
   "metadata": {},
   "source": [
    "## Simplificación\n",
    "\n",
    "Al estar trabajando con expresiones, llegamos a encontrar expresiones complejas. Con SymPy podemos simplificar estas expresiones de manera sencilla con la función ```simplify```."
   ]
  },
  {
   "cell_type": "code",
   "execution_count": 2,
   "id": "45cb5e9d-d296-4a60-9bd0-83bc968fb4d3",
   "metadata": {},
   "outputs": [
    {
     "data": {
      "image/png": "[encoded data removed]",
      "text/latex": [
       "$\\displaystyle \\frac{x^{3} + x^{2} - x - 1}{x^{2} + 2 x + 1}$"
      ],
      "text/plain": [
       " 3    2        \n",
       "x  + x  - x - 1\n",
       "───────────────\n",
       "   2           \n",
       "  x  + 2⋅x + 1 "
      ]
     },
     "metadata": {},
     "output_type": "display_data"
    },
    {
     "data": {
      "image/png": "[encoded data removed]",
      "text/latex": [
       "$\\displaystyle x - 1$"
      ],
      "text/plain": [
       "x - 1"
      ]
     },
     "execution_count": 2,
     "metadata": {},
     "output_type": "execute_result"
    }
   ],
   "source": [
    "x = sympy.symbols('x')\n",
    "expresion = (x**3 + x**2 - x - 1) / (x**2 + 2 * x + 1)\n",
    "display(expresion)\n",
    "\n",
    "# Simplificación\n",
    "sympy.simplify(expresion)"
   ]
  },
  {
   "cell_type": "markdown",
   "id": "21667b79-45a2-4cd6-808c-5e83dbc526bf",
   "metadata": {},
   "source": [
    "SymPy no está limitado a simples expresiones algebraicas. Tiene la capacidad de simplificar expresiones de diversos tipos"
   ]
  },
  {
   "cell_type": "code",
   "execution_count": 3,
   "id": "825770d3-a4b0-4eb1-9f1d-5490bbaa9223",
   "metadata": {},
   "outputs": [
    {
     "data": {
      "image/png": "[encoded data removed]",
      "text/latex": [
       "$\\displaystyle \\sin^{2}{\\left(x \\right)} + \\cos^{2}{\\left(x \\right)}$"
      ],
      "text/plain": [
       "   2         2   \n",
       "sin (x) + cos (x)"
      ]
     },
     "metadata": {},
     "output_type": "display_data"
    },
    {
     "data": {
      "image/png": "[encoded data removed]",
      "text/latex": [
       "$\\displaystyle 1$"
      ],
      "text/plain": [
       "1"
      ]
     },
     "execution_count": 3,
     "metadata": {},
     "output_type": "execute_result"
    }
   ],
   "source": [
    "expresion_trig = sympy.cos(x)**2 + sympy.sin(x)**2\n",
    "display(expresion_trig)\n",
    "\n",
    "# Simplificación\n",
    "sympy.simplify(expresion_trig)"
   ]
  },
  {
   "cell_type": "code",
   "execution_count": 4,
   "id": "36e24171-66d4-45ce-92e2-0729fee58908",
   "metadata": {},
   "outputs": [
    {
     "data": {
      "image/png": "[encoded data removed]",
      "text/latex": [
       "$\\displaystyle \\frac{\\Gamma\\left(x\\right)}{\\Gamma\\left(x - 2\\right)}$"
      ],
      "text/plain": [
       "  Γ(x)  \n",
       "────────\n",
       "Γ(x - 2)"
      ]
     },
     "metadata": {},
     "output_type": "display_data"
    },
    {
     "data": {
      "image/png": "[encoded data removed]",
      "text/latex": [
       "$\\displaystyle \\left(x - 2\\right) \\left(x - 1\\right)$"
      ],
      "text/plain": [
       "(x - 2)⋅(x - 1)"
      ]
     },
     "execution_count": 4,
     "metadata": {},
     "output_type": "execute_result"
    }
   ],
   "source": [
    "expresion_gamma = sympy.gamma(x) / sympy.gamma(x - 2)\n",
    "display(expresion_gamma)\n",
    "\n",
    "# Simplificación\n",
    "sympy.simplify(expresion_gamma)"
   ]
  },
  {
   "cell_type": "markdown",
   "id": "8a71ea4a-5cc3-4967-8c7f-17fa67067c7b",
   "metadata": {},
   "source": [
    "Sin embargo, existen ocasiones en las que ```simplify``` se vea limitado por el algoritmo bajo el que trabaja y no logre simplificar"
   ]
  },
  {
   "cell_type": "code",
   "execution_count": 5,
   "id": "693360fe-465c-40b2-a62b-ef560b8be5c6",
   "metadata": {},
   "outputs": [
    {
     "data": {
      "image/png": "[encoded data removed]",
      "text/latex": [
       "$\\displaystyle x^{2} + 2 x + 1$"
      ],
      "text/plain": [
       " 2          \n",
       "x  + 2⋅x + 1"
      ]
     },
     "execution_count": 5,
     "metadata": {},
     "output_type": "execute_result"
    }
   ],
   "source": [
    "expresion = x**2 + 2 * x + 1\n",
    "sympy.simplify(expresion)"
   ]
  },
  {
   "cell_type": "markdown",
   "id": "4f764251-85c0-4859-932e-2d4769a610e5",
   "metadata": {},
   "source": [
    "Lo que esperaríamos es que SymPy nos devolviera la expresión $(x + 1)^2$; pero esto ya no entra en el rubro de la función ```simplify```."
   ]
  },
  {
   "cell_type": "markdown",
   "id": "3af7d85b-e6c2-4976-9e1d-f25dcab327e7",
   "metadata": {},
   "source": [
    "## Simplificación de polinomios y racionales\n",
    "\n",
    "Como vimos, ```simplify``` a veces tiene sus limitaciones, que son cubiertas por otras funciones que ayudan a mejorar la visualización de una expresión. Para polinomios y radicales, tenemos las funciones: ```expand```, ```factor```, ```collect```, ```cancel``` y ```apart```."
   ]
  },
  {
   "cell_type": "markdown",
   "id": "84cfe9fe-c28f-4708-b66f-3c2e181194c4",
   "metadata": {},
   "source": [
    "### expand"
   ]
  },
  {
   "cell_type": "code",
   "execution_count": 6,
   "id": "64481294-facf-443d-8d2d-005d94a42305",
   "metadata": {},
   "outputs": [
    {
     "data": {
      "image/png": "[encoded data removed]",
      "text/latex": [
       "$\\displaystyle \\left(x + 1\\right)^{2}$"
      ],
      "text/plain": [
       "       2\n",
       "(x + 1) "
      ]
     },
     "metadata": {},
     "output_type": "display_data"
    },
    {
     "data": {
      "image/png": "[encoded data removed]",
      "text/latex": [
       "$\\displaystyle x^{2} + 2 x + 1$"
      ],
      "text/plain": [
       " 2          \n",
       "x  + 2⋅x + 1"
      ]
     },
     "execution_count": 6,
     "metadata": {},
     "output_type": "execute_result"
    }
   ],
   "source": [
    "expresion_1 = (x + 1)**2\n",
    "display(expresion_1)\n",
    "\n",
    "# Expansión\n",
    "sympy.expand(expresion_1)"
   ]
  },
  {
   "cell_type": "code",
   "execution_count": 7,
   "id": "646751a0-dd89-44c0-8d50-c5fdde71e30f",
   "metadata": {},
   "outputs": [
    {
     "data": {
      "image/png": "[encoded data removed]",
      "text/latex": [
       "$\\displaystyle - x \\left(x - 1\\right) + \\left(x - 2\\right) \\left(x + 1\\right)$"
      ],
      "text/plain": [
       "-x⋅(x - 1) + (x - 2)⋅(x + 1)"
      ]
     },
     "metadata": {},
     "output_type": "display_data"
    },
    {
     "data": {
      "image/png": "[encoded data removed]",
      "text/latex": [
       "$\\displaystyle -2$"
      ],
      "text/plain": [
       "-2"
      ]
     },
     "execution_count": 7,
     "metadata": {},
     "output_type": "execute_result"
    }
   ],
   "source": [
    "expresion_2 = (x + 1) * (x - 2) - (x - 1) * x\n",
    "display(expresion_2)\n",
    "\n",
    "# Expansión\n",
    "sympy.expand(expresion_2)"
   ]
  },
  {
   "cell_type": "code",
   "execution_count": 8,
   "id": "974a092e-601f-4c14-8e15-e0329ce0f649",
   "metadata": {},
   "outputs": [
    {
     "data": {
      "image/png": "[encoded data removed]",
      "text/latex": [
       "$\\displaystyle \\left(\\sin{\\left(x \\right)} + \\cos{\\left(x \\right)}\\right)^{2}$"
      ],
      "text/plain": [
       "                 2\n",
       "(sin(x) + cos(x)) "
      ]
     },
     "metadata": {},
     "output_type": "display_data"
    },
    {
     "data": {
      "image/png": "[encoded data removed]",
      "text/latex": [
       "$\\displaystyle \\sin^{2}{\\left(x \\right)} + 2 \\sin{\\left(x \\right)} \\cos{\\left(x \\right)} + \\cos^{2}{\\left(x \\right)}$"
      ],
      "text/plain": [
       "   2                           2   \n",
       "sin (x) + 2⋅sin(x)⋅cos(x) + cos (x)"
      ]
     },
     "execution_count": 8,
     "metadata": {},
     "output_type": "execute_result"
    }
   ],
   "source": [
    "expresion_3 = (sympy.cos(x) + sympy.sin(x))**2\n",
    "display(expresion_3)\n",
    "\n",
    "# Expansión\n",
    "sympy.expand(expresion_3)"
   ]
  },
  {
   "cell_type": "markdown",
   "id": "add6c1f0-8768-496d-b8b1-9401bab9c368",
   "metadata": {},
   "source": [
    "### factor"
   ]
  },
  {
   "cell_type": "code",
   "execution_count": 9,
   "id": "fcc94e0f-d988-4e76-ab12-7a00a2c310d4",
   "metadata": {},
   "outputs": [
    {
     "data": {
      "image/png": "[encoded data removed]",
      "text/latex": [
       "$\\displaystyle x^{3} - x^{2} + x - 1$"
      ],
      "text/plain": [
       " 3    2        \n",
       "x  - x  + x - 1"
      ]
     },
     "metadata": {},
     "output_type": "display_data"
    },
    {
     "data": {
      "image/png": "[encoded data removed]",
      "text/latex": [
       "$\\displaystyle \\left(x - 1\\right) \\left(x^{2} + 1\\right)$"
      ],
      "text/plain": [
       "        ⎛ 2    ⎞\n",
       "(x - 1)⋅⎝x  + 1⎠"
      ]
     },
     "execution_count": 9,
     "metadata": {},
     "output_type": "execute_result"
    }
   ],
   "source": [
    "expresion_4 = x**3 - x**2 + x - 1\n",
    "display(expresion_4)\n",
    "\n",
    "# Factorización\n",
    "sympy.factor(expresion_4)"
   ]
  },
  {
   "cell_type": "code",
   "execution_count": 10,
   "id": "d8d0a5b5-e286-434d-8bfc-b337bf4a9af7",
   "metadata": {},
   "outputs": [
    {
     "data": {
      "image/png": "[encoded data removed]",
      "text/latex": [
       "$\\displaystyle \\sin^{2}{\\left(x \\right)} + 2 \\sin{\\left(x \\right)} \\cos{\\left(x \\right)} + \\cos^{2}{\\left(x \\right)}$"
      ],
      "text/plain": [
       "   2                           2   \n",
       "sin (x) + 2⋅sin(x)⋅cos(x) + cos (x)"
      ]
     },
     "metadata": {},
     "output_type": "display_data"
    },
    {
     "data": {
      "image/png": "[encoded data removed]",
      "text/latex": [
       "$\\displaystyle \\left(\\sin{\\left(x \\right)} + \\cos{\\left(x \\right)}\\right)^{2}$"
      ],
      "text/plain": [
       "                 2\n",
       "(sin(x) + cos(x)) "
      ]
     },
     "execution_count": 10,
     "metadata": {},
     "output_type": "execute_result"
    }
   ],
   "source": [
    "expresion_5 = sympy.sin(x)**2 + 2 * sympy.sin(x) * sympy.cos(x) + sympy.cos(x)**2\n",
    "display(expresion_5)\n",
    "\n",
    "# Factorización\n",
    "sympy.factor(expresion_5)"
   ]
  },
  {
   "cell_type": "markdown",
   "id": "07be04ef-91fa-4b4b-8dfd-3a8facaa18b2",
   "metadata": {},
   "source": [
    "### collect"
   ]
  },
  {
   "cell_type": "code",
   "execution_count": 11,
   "id": "eab508f7-52e3-4893-96a5-2e80329acce0",
   "metadata": {},
   "outputs": [
    {
     "data": {
      "image/png": "[encoded data removed]",
      "text/latex": [
       "$\\displaystyle x^{3} - x^{2} z + 2 x^{2} + x y + x - 3$"
      ],
      "text/plain": [
       " 3    2        2              \n",
       "x  - x ⋅z + 2⋅x  + x⋅y + x - 3"
      ]
     },
     "metadata": {},
     "output_type": "display_data"
    },
    {
     "data": {
      "image/png": "[encoded data removed]",
      "text/latex": [
       "$\\displaystyle x^{3} + x^{2} \\cdot \\left(2 - z\\right) + x \\left(y + 1\\right) - 3$"
      ],
      "text/plain": [
       " 3    2                        \n",
       "x  + x ⋅(2 - z) + x⋅(y + 1) - 3"
      ]
     },
     "execution_count": 11,
     "metadata": {},
     "output_type": "execute_result"
    }
   ],
   "source": [
    "y, z = sympy.symbols('y, z')\n",
    "expresion_6 = x * y + x - 3 + 2 * x**2 - z * x**2 + x**3\n",
    "display(expresion_6)\n",
    "\n",
    "# Recolección\n",
    "sympy.collect(expresion_6, x)"
   ]
  },
  {
   "cell_type": "markdown",
   "id": "0f2723c7-e7f5-42ca-a18f-c81bdb2d9279",
   "metadata": {},
   "source": [
    "Esta función es particularmente útil cuando se hace en conjunto con el método ```coeff```"
   ]
  },
  {
   "cell_type": "code",
   "execution_count": 12,
   "id": "243fb095-479e-43dc-908f-569834fbd35f",
   "metadata": {},
   "outputs": [
    {
     "data": {
      "image/png": "[encoded data removed]",
      "text/latex": [
       "$\\displaystyle 2 - z$"
      ],
      "text/plain": [
       "2 - z"
      ]
     },
     "execution_count": 12,
     "metadata": {},
     "output_type": "execute_result"
    }
   ],
   "source": [
    "expresion_col = sympy.collect(expresion_6, x)\n",
    "expresion_col.coeff(x, 2)"
   ]
  },
  {
   "cell_type": "markdown",
   "id": "bf94f111-fc3e-443b-8c9f-f162d5a1fba2",
   "metadata": {},
   "source": [
    "### cancel"
   ]
  },
  {
   "cell_type": "code",
   "execution_count": 13,
   "id": "2cb86a24-dd3d-44be-a818-e4c8037cfb9d",
   "metadata": {},
   "outputs": [
    {
     "data": {
      "image/png": "[encoded data removed]",
      "text/latex": [
       "$\\displaystyle \\frac{x^{2} + 2 x + 1}{x^{2} + x}$"
      ],
      "text/plain": [
       " 2          \n",
       "x  + 2⋅x + 1\n",
       "────────────\n",
       "    2       \n",
       "   x  + x   "
      ]
     },
     "metadata": {},
     "output_type": "display_data"
    },
    {
     "data": {
      "image/png": "[encoded data removed]",
      "text/latex": [
       "$\\displaystyle \\frac{x + 1}{x}$"
      ],
      "text/plain": [
       "x + 1\n",
       "─────\n",
       "  x  "
      ]
     },
     "execution_count": 13,
     "metadata": {},
     "output_type": "execute_result"
    }
   ],
   "source": [
    "expresion_7 = (x**2 + 2 * x + 1) / (x**2 + x)\n",
    "display(expresion_7)\n",
    "\n",
    "# Cancelación\n",
    "sympy.cancel(expresion_7)"
   ]
  },
  {
   "cell_type": "code",
   "execution_count": 14,
   "id": "0b57b18b-346b-444e-bb9f-4e4eaede8013",
   "metadata": {},
   "outputs": [
    {
     "data": {
      "image/png": "[encoded data removed]",
      "text/latex": [
       "$\\displaystyle \\frac{x y^{2} - 2 x y z + x z^{2} + y^{2} - 2 y z + z^{2}}{x^{2} - 1}$"
      ],
      "text/plain": [
       "   2                2    2            2\n",
       "x⋅y  - 2⋅x⋅y⋅z + x⋅z  + y  - 2⋅y⋅z + z \n",
       "───────────────────────────────────────\n",
       "                  2                    \n",
       "                 x  - 1                "
      ]
     },
     "metadata": {},
     "output_type": "display_data"
    },
    {
     "data": {
      "image/png": "[encoded data removed]",
      "text/latex": [
       "$\\displaystyle \\frac{y^{2} - 2 y z + z^{2}}{x - 1}$"
      ],
      "text/plain": [
       " 2            2\n",
       "y  - 2⋅y⋅z + z \n",
       "───────────────\n",
       "     x - 1     "
      ]
     },
     "execution_count": 14,
     "metadata": {},
     "output_type": "execute_result"
    }
   ],
   "source": [
    "expresion_8 = (x * y**2 - 2 * x * y * z + x * z**2 + y**2 - 2 * y * z + z**2) / (x**2 - 1)\n",
    "display(expresion_8)\n",
    "\n",
    "sympy.cancel(expresion_8)"
   ]
  },
  {
   "cell_type": "markdown",
   "id": "ef62ac75-1df6-4af6-bebe-23ce7b345347",
   "metadata": {},
   "source": [
    "Con este último ejemplo, podemos ver que es posible también obtener un resultado más simple con la función ```factor```"
   ]
  },
  {
   "cell_type": "code",
   "execution_count": 15,
   "id": "61127ed3-ada7-4910-b11b-71022ff8b2ce",
   "metadata": {},
   "outputs": [
    {
     "data": {
      "image/png": "[encoded data removed]",
      "text/latex": [
       "$\\displaystyle \\frac{\\left(y - z\\right)^{2}}{x - 1}$"
      ],
      "text/plain": [
       "       2\n",
       "(y - z) \n",
       "────────\n",
       " x - 1  "
      ]
     },
     "execution_count": 15,
     "metadata": {},
     "output_type": "execute_result"
    }
   ],
   "source": [
    "sympy.factor(expresion_8)"
   ]
  },
  {
   "cell_type": "markdown",
   "id": "7d4d1d06-28e0-43b0-a390-913852772571",
   "metadata": {},
   "source": [
    "Todo depende del resultado que se busque presentar, pero en caso de requerir una representación extendida sin tener que realizar más manipulaciones, se puede usar la función ```cancel```."
   ]
  },
  {
   "cell_type": "markdown",
   "id": "9f8071c3-0fb9-4fbf-a4f6-0b728759d525",
   "metadata": {},
   "source": [
    "### apart"
   ]
  },
  {
   "cell_type": "code",
   "execution_count": 16,
   "id": "9c5bdf32-5a45-4471-80f3-12d82bcf7ed9",
   "metadata": {},
   "outputs": [
    {
     "data": {
      "image/png": "[encoded data removed]",
      "text/latex": [
       "$\\displaystyle \\frac{4 x^{3} + 21 x^{2} + 10 x + 12}{x^{4} + 5 x^{3} + 5 x^{2} + 4 x}$"
      ],
      "text/plain": [
       "   3       2            \n",
       "4⋅x  + 21⋅x  + 10⋅x + 12\n",
       "────────────────────────\n",
       "  4      3      2       \n",
       " x  + 5⋅x  + 5⋅x  + 4⋅x "
      ]
     },
     "metadata": {},
     "output_type": "display_data"
    },
    {
     "data": {
      "image/png": "[encoded data removed]",
      "text/latex": [
       "$\\displaystyle \\frac{2 x - 1}{x^{2} + x + 1} - \\frac{1}{x + 4} + \\frac{3}{x}$"
      ],
      "text/plain": [
       " 2⋅x - 1       1     3\n",
       "────────── - ───── + ─\n",
       " 2           x + 4   x\n",
       "x  + x + 1            "
      ]
     },
     "execution_count": 16,
     "metadata": {},
     "output_type": "execute_result"
    }
   ],
   "source": [
    "expresion_9 = (4 * x**3 + 21 * x**2 + 10 * x + 12) / (x**4 + 5 * x**3 + 5 * x**2 + 4 * x)\n",
    "display(expresion_9)\n",
    "\n",
    "sympy.apart(expresion_9)"
   ]
  },
  {
   "cell_type": "markdown",
   "id": "f313271e-e83f-4675-af13-c63d30fbdaba",
   "metadata": {},
   "source": [
    "## Simplificación trigonométrica\n",
    "\n",
    "Para la simplificación trigonométrica se tienen dos funciones sencillas: ```trigsimp``` y ```expand_trig```"
   ]
  },
  {
   "cell_type": "markdown",
   "id": "fb977396-da1e-4f1d-b53e-fda220228c32",
   "metadata": {},
   "source": [
    "### trigsimp"
   ]
  },
  {
   "cell_type": "code",
   "execution_count": 17,
   "id": "2e0d19a0-aa59-4caa-a8bb-07ba0e14a820",
   "metadata": {},
   "outputs": [
    {
     "data": {
      "image/png": "[encoded data removed]",
      "text/latex": [
       "$\\displaystyle \\sin^{2}{\\left(x \\right)} + \\cos^{2}{\\left(x \\right)}$"
      ],
      "text/plain": [
       "   2         2   \n",
       "sin (x) + cos (x)"
      ]
     },
     "metadata": {},
     "output_type": "display_data"
    },
    {
     "data": {
      "image/png": "[encoded data removed]",
      "text/latex": [
       "$\\displaystyle 1$"
      ],
      "text/plain": [
       "1"
      ]
     },
     "execution_count": 17,
     "metadata": {},
     "output_type": "execute_result"
    }
   ],
   "source": [
    "trig_expr_1 = sympy.cos(x)**2 + sympy.sin(x)**2\n",
    "display(trig_expr_1)\n",
    "\n",
    "# Simplificación\n",
    "sympy.trigsimp(trig_expr_1)"
   ]
  },
  {
   "cell_type": "markdown",
   "id": "abc78c1e-9f2d-4f72-9f09-4b9cdb92b82b",
   "metadata": {},
   "source": [
    "### expand_trig"
   ]
  },
  {
   "cell_type": "code",
   "execution_count": 18,
   "id": "6dc5c230-46af-4bc9-9dfd-0f949c0e573a",
   "metadata": {},
   "outputs": [
    {
     "data": {
      "image/png": "[encoded data removed]",
      "text/latex": [
       "$\\displaystyle \\sin{\\left(x + y \\right)}$"
      ],
      "text/plain": [
       "sin(x + y)"
      ]
     },
     "metadata": {},
     "output_type": "display_data"
    },
    {
     "data": {
      "image/png": "[encoded data removed]",
      "text/latex": [
       "$\\displaystyle \\sin{\\left(x \\right)} \\cos{\\left(y \\right)} + \\sin{\\left(y \\right)} \\cos{\\left(x \\right)}$"
      ],
      "text/plain": [
       "sin(x)⋅cos(y) + sin(y)⋅cos(x)"
      ]
     },
     "execution_count": 18,
     "metadata": {},
     "output_type": "execute_result"
    }
   ],
   "source": [
    "trig_expr_2 = sympy.sin(x + y)\n",
    "display(trig_expr_2)\n",
    "\n",
    "sympy.expand_trig(trig_expr_2)"
   ]
  },
  {
   "cell_type": "markdown",
   "id": "0096ba00-e00a-455b-961b-9f566a15157f",
   "metadata": {},
   "source": [
    "## Simplifiación de potencias\n",
    "\n",
    "Para simplificar potencias, se tienen 4 funciones simples: ```powsimp```, ```expand_power_base```, ```expand_power_exp``` y ```powdenest```."
   ]
  },
  {
   "cell_type": "markdown",
   "id": "efe2cf32-0baa-46e2-96ca-14960dde45d2",
   "metadata": {},
   "source": [
    "### powsimp\n",
    "\n",
    "```powsimp``` hará la simplificación si condicionamos a las variables a ciertas suposiciones"
   ]
  },
  {
   "cell_type": "code",
   "execution_count": 19,
   "id": "9d753d8d-184e-4d06-83a5-ad4c99d40f40",
   "metadata": {},
   "outputs": [
    {
     "data": {
      "image/png": "[encoded data removed]",
      "text/latex": [
       "$\\displaystyle x^{a} y^{a}$"
      ],
      "text/plain": [
       " a  a\n",
       "x ⋅y "
      ]
     },
     "metadata": {},
     "output_type": "display_data"
    },
    {
     "data": {
      "image/png": "[encoded data removed]",
      "text/latex": [
       "$\\displaystyle \\left(x y\\right)^{a}$"
      ],
      "text/plain": [
       "     a\n",
       "(x⋅y) "
      ]
     },
     "execution_count": 19,
     "metadata": {},
     "output_type": "execute_result"
    }
   ],
   "source": [
    "x, y = sympy.symbols('x, y', positive = True)\n",
    "a, b = sympy.symbols('a, b', real = True)\n",
    "\n",
    "exp_expr_1 = x**a * y**a\n",
    "display(exp_expr_1)\n",
    "\n",
    "# Simplificación\n",
    "sympy.powsimp(exp_expr_1)"
   ]
  },
  {
   "cell_type": "code",
   "execution_count": 20,
   "id": "a5210830-7984-477d-9400-8d46a346b777",
   "metadata": {},
   "outputs": [
    {
     "data": {
      "image/png": "[encoded data removed]",
      "text/latex": [
       "$\\displaystyle x^{a} x^{b}$"
      ],
      "text/plain": [
       " a  b\n",
       "x ⋅x "
      ]
     },
     "metadata": {},
     "output_type": "display_data"
    },
    {
     "data": {
      "image/png": "[encoded data removed]",
      "text/latex": [
       "$\\displaystyle x^{a + b}$"
      ],
      "text/plain": [
       " a + b\n",
       "x     "
      ]
     },
     "execution_count": 20,
     "metadata": {},
     "output_type": "execute_result"
    }
   ],
   "source": [
    "exp_expr_2 = x**a * x**b\n",
    "display(exp_expr_2)\n",
    "\n",
    "# Simplificación\n",
    "sympy.powsimp(exp_expr_2)"
   ]
  },
  {
   "cell_type": "markdown",
   "id": "8ddf76de-0a56-4818-b37f-ec1c2b436193",
   "metadata": {},
   "source": [
    "Si ahora, tuviésemos variables sin las suposiciones que hicimos al inicio, ```powsimp``` nos arrojaría lo siguiente"
   ]
  },
  {
   "cell_type": "code",
   "execution_count": 21,
   "id": "88835758-1314-402b-921f-b2b12f09a2d4",
   "metadata": {},
   "outputs": [
    {
     "data": {
      "image/png": "[encoded data removed]",
      "text/latex": [
       "$\\displaystyle s^{k} t^{k}$"
      ],
      "text/plain": [
       " k  k\n",
       "s ⋅t "
      ]
     },
     "metadata": {},
     "output_type": "display_data"
    },
    {
     "data": {
      "image/png": "[encoded data removed]",
      "text/latex": [
       "$\\displaystyle s^{k} t^{k}$"
      ],
      "text/plain": [
       " k  k\n",
       "s ⋅t "
      ]
     },
     "execution_count": 21,
     "metadata": {},
     "output_type": "execute_result"
    }
   ],
   "source": [
    "t, s, k = sympy.symbols('t, s, k')\n",
    "\n",
    "exp_expr_3 = t**k * s**k\n",
    "display(exp_expr_3)\n",
    "\n",
    "# Simplificación\n",
    "sympy.powsimp(exp_expr_3)"
   ]
  },
  {
   "cell_type": "markdown",
   "id": "abe4bca5-2071-48ee-b00b-995d10905667",
   "metadata": {},
   "source": [
    "SymPy no realiza la simplificación sin dichas suposiciones a las variables, pero podemos forzar a que las haga pasando el argumento ```force``` a la función ```powsimp```"
   ]
  },
  {
   "cell_type": "code",
   "execution_count": 22,
   "id": "6db39df1-569c-4ab9-8edb-8499af8a722c",
   "metadata": {},
   "outputs": [
    {
     "data": {
      "image/png": "[encoded data removed]",
      "text/latex": [
       "$\\displaystyle \\left(s t\\right)^{k}$"
      ],
      "text/plain": [
       "     k\n",
       "(s⋅t) "
      ]
     },
     "execution_count": 22,
     "metadata": {},
     "output_type": "execute_result"
    }
   ],
   "source": [
    "sympy.powsimp(exp_expr_3, force = True)"
   ]
  },
  {
   "cell_type": "markdown",
   "id": "c5eaeb62-5fd7-43a9-8e37-74ac57f2df68",
   "metadata": {},
   "source": [
    "### expand_power_exp / expand_power_base"
   ]
  },
  {
   "cell_type": "code",
   "execution_count": 23,
   "id": "f0e3d984-824e-40c7-8d8f-e7b3ecd7297f",
   "metadata": {},
   "outputs": [
    {
     "data": {
      "image/png": "[encoded data removed]",
      "text/latex": [
       "$\\displaystyle x^{a + b}$"
      ],
      "text/plain": [
       " a + b\n",
       "x     "
      ]
     },
     "metadata": {},
     "output_type": "display_data"
    },
    {
     "data": {
      "image/png": "[encoded data removed]",
      "text/latex": [
       "$\\displaystyle x^{a} x^{b}$"
      ],
      "text/plain": [
       " a  b\n",
       "x ⋅x "
      ]
     },
     "execution_count": 23,
     "metadata": {},
     "output_type": "execute_result"
    }
   ],
   "source": [
    "exp_expr_4 = x**(a + b)\n",
    "display(exp_expr_4)\n",
    "\n",
    "sympy.expand_power_exp(exp_expr_4)"
   ]
  },
  {
   "cell_type": "code",
   "execution_count": 24,
   "id": "dbb2395d-0913-4a12-986a-0e5542cf335e",
   "metadata": {},
   "outputs": [
    {
     "data": {
      "image/png": "[encoded data removed]",
      "text/latex": [
       "$\\displaystyle \\left(x y\\right)^{a}$"
      ],
      "text/plain": [
       "     a\n",
       "(x⋅y) "
      ]
     },
     "metadata": {},
     "output_type": "display_data"
    },
    {
     "data": {
      "image/png": "[encoded data removed]",
      "text/latex": [
       "$\\displaystyle x^{a} y^{a}$"
      ],
      "text/plain": [
       " a  a\n",
       "x ⋅y "
      ]
     },
     "execution_count": 24,
     "metadata": {},
     "output_type": "execute_result"
    }
   ],
   "source": [
    "exp_expr_5 = (x * y)**a\n",
    "display(exp_expr_5)\n",
    "\n",
    "sympy.expand_power_base(exp_expr_5)"
   ]
  },
  {
   "cell_type": "markdown",
   "id": "e7021b04-2f73-4bbe-be22-ef59918b10a3",
   "metadata": {},
   "source": [
    "Parecido a la función ```powsimp```, en caso de no haber hecho las suposiciones con anterioridad, estas funciones no realizarán la simplificación a menos que se le haga pasar el argumento ```force```"
   ]
  },
  {
   "cell_type": "code",
   "execution_count": 25,
   "id": "15ca516b-1894-44b8-b4b5-50196e6e11f0",
   "metadata": {},
   "outputs": [
    {
     "data": {
      "image/png": "[encoded data removed]",
      "text/latex": [
       "$\\displaystyle \\left(s t\\right)^{k}$"
      ],
      "text/plain": [
       "     k\n",
       "(s⋅t) "
      ]
     },
     "metadata": {},
     "output_type": "display_data"
    },
    {
     "data": {
      "image/png": "[encoded data removed]",
      "text/latex": [
       "$\\displaystyle \\left(s t\\right)^{k}$"
      ],
      "text/plain": [
       "     k\n",
       "(s⋅t) "
      ]
     },
     "execution_count": 25,
     "metadata": {},
     "output_type": "execute_result"
    }
   ],
   "source": [
    "exp_expr_6 = (t * s)**k\n",
    "display(exp_expr_6)\n",
    "\n",
    "sympy.expand_power_base(exp_expr_6)"
   ]
  },
  {
   "cell_type": "code",
   "execution_count": 26,
   "id": "85698fee-7cbc-4121-85d7-73596b80ffe0",
   "metadata": {},
   "outputs": [
    {
     "data": {
      "image/png": "[encoded data removed]",
      "text/latex": [
       "$\\displaystyle s^{k} t^{k}$"
      ],
      "text/plain": [
       " k  k\n",
       "s ⋅t "
      ]
     },
     "execution_count": 26,
     "metadata": {},
     "output_type": "execute_result"
    }
   ],
   "source": [
    "sympy.expand_power_base(exp_expr_6, force = True)"
   ]
  },
  {
   "cell_type": "markdown",
   "id": "9c0d4780-1eeb-4de5-a735-95173896423a",
   "metadata": {},
   "source": [
    "### powdenest"
   ]
  },
  {
   "cell_type": "code",
   "execution_count": 27,
   "id": "afc979dd-1116-49ad-991c-d70d1a07ac34",
   "metadata": {},
   "outputs": [
    {
     "data": {
      "image/png": "[encoded data removed]",
      "text/latex": [
       "$\\displaystyle x^{a b}$"
      ],
      "text/plain": [
       " a⋅b\n",
       "x   "
      ]
     },
     "execution_count": 27,
     "metadata": {},
     "output_type": "execute_result"
    }
   ],
   "source": [
    "exp_expr_7 = (x**a)**b\n",
    "\n",
    "sympy.powdenest(exp_expr_7)"
   ]
  },
  {
   "cell_type": "markdown",
   "id": "1de58634-d016-4b50-8616-dfae4ab7371a",
   "metadata": {},
   "source": [
    "Parecido a los ejemplos anteriores, si no tenemos las suposiciones podemos pasar el argumento ```force``` a la función"
   ]
  },
  {
   "cell_type": "code",
   "execution_count": 28,
   "id": "a6ae9e8a-6f93-468a-8b98-d8637ea2042b",
   "metadata": {},
   "outputs": [
    {
     "data": {
      "image/png": "[encoded data removed]",
      "text/latex": [
       "$\\displaystyle \\left(t^{a}\\right)^{b}$"
      ],
      "text/plain": [
       "    b\n",
       "⎛ a⎞ \n",
       "⎝t ⎠ "
      ]
     },
     "execution_count": 28,
     "metadata": {},
     "output_type": "execute_result"
    }
   ],
   "source": [
    "exp_expr_8 = (t**a)**b\n",
    "\n",
    "sympy.powdenest(exp_expr_8)"
   ]
  },
  {
   "cell_type": "code",
   "execution_count": 29,
   "id": "d2d51416-807a-46b3-959f-6f4820a9c79e",
   "metadata": {},
   "outputs": [
    {
     "data": {
      "image/png": "[encoded data removed]",
      "text/latex": [
       "$\\displaystyle t^{a b}$"
      ],
      "text/plain": [
       " a⋅b\n",
       "t   "
      ]
     },
     "execution_count": 29,
     "metadata": {},
     "output_type": "execute_result"
    }
   ],
   "source": [
    "sympy.powdenest(exp_expr_8, force = True)"
   ]
  },
  {
   "cell_type": "markdown",
   "id": "d3bc7b10-2076-4d92-92c1-e114b77fd406",
   "metadata": {},
   "source": [
    "---\n",
    "\n",
    "Para ver más ejemplos y otras funciones de simplificación, haga click [aquí](https://docs.sympy.org/latest/tutorial/simplification.html)"
   ]
  }
 ],
 "metadata": {
  "kernelspec": {
   "display_name": "Python 3 (ipykernel)",
   "language": "python",
   "name": "python3"
  },
  "language_info": {
   "codemirror_mode": {
    "name": "ipython",
    "version": 3
   },
   "file_extension": ".py",
   "mimetype": "text/x-python",
   "name": "python",
   "nbconvert_exporter": "python",
   "pygments_lexer": "ipython3",
   "version": "3.8.13"
  }
 },
 "nbformat": 4,
 "nbformat_minor": 5
}
