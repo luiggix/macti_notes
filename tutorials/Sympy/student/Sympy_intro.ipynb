{
 "cells": [
  {
   "cell_type": "markdown",
   "id": "39b007c6-7b69-409f-94db-7d6158aa3eb2",
   "metadata": {},
   "source": [
    "# SymPy\n",
    "\n",
    "**Autor**: Carlos Japhet Arellanos Balcázar\n",
    "\n",
    "**Objetivo general**\n",
    "- Conocer la librería SymPy y sus principales funciones para su manejo dentro de los notebooks de clase\n",
    "\n",
    "**Objetivos particulares**\n",
    "- Manipular expresiones simbólicas en Python\n",
    "- Resolver simbólicamente ecuaciones algebraicas y diferenciales, así como derivadas e integrales\n",
    "- Conocer el manejo de matrices simbólicamente\n",
    "\n",
    "## Contenido\n",
    "1. [Introducción a SymPy](#1)\n",
    "    1. [¿Qué puede hacer SymPy?](#1-1)\n",
    "    2. [Instalando SymPy](#1-2)\n",
    "    3. [Importación de la librería](#1-3)\n",
    "    4. [Formato de impresión](#1-4)\n",
    "2. [Ejercicio 1. Resolución de ecuaciones](#2)\n",
    "3. [Ejercicio 2. Límite, derivadas e integrales](#3)\n",
    "4. [Ejercicio 3. Matrices](#4)"
   ]
  },
  {
   "cell_type": "markdown",
   "id": "3339040d-5e55-4671-8202-e6034ea8f48e",
   "metadata": {},
   "source": [
    "<a name='1'></a>\n",
    "## Introducción a SymPy"
   ]
  },
  {
   "cell_type": "markdown",
   "id": "ffb0a954-8031-4dbf-a9d3-e3a7cde50814",
   "metadata": {},
   "source": [
    "De la página oficial de [SymPy](https://www.sympy.org/en/index.html):\n",
    "\n",
    "> SymPy es una librería de Python para matemáticas simbólicas. Su objetivo es convertirse en un sistema de álgebra por computadora (CAS) completo manteniendo el código lo más simple posible a modo de que este sea comprensible y fácilmente extendible. SymPy está escrito completamente en Python.\n",
    "\n",
    "SymPy tiene la capacidad de resolver expresiones matemáticas de manera simbólica igual que si se resolvieran a mano o haciendo uso de cualquier otro CAS conocido (_MATLAB_, _Mathematica_, _Maple_, _Wolfram Alpha_) con la ventaja de ser un recurso libre y basado en Python, lo cual lo hace mucho más accesible a estudiantes y profesores."
   ]
  },
  {
   "cell_type": "markdown",
   "id": "aa53a25b-724b-48bb-9755-1a653a1ad0a0",
   "metadata": {},
   "source": [
    "<a name='1-1'></a>\n",
    "### ¿Qué puede hacer SymPy?\n",
    "\n",
    "SymPy tiene diversas funciones entre las cuales destacan: la simplificación de expresiones, cálculo de derivadas e integrales, solución de ecuaciones algebraicas y diferenciales, manejo de matrices, álgebra lineal, vectores y campos vectoriales.\n",
    "\n",
    "Todas estas funciones se pueden probar sin necesidad de instalar SymPy, a través de su sistema [Gamma](https://www.sympygamma.com/)."
   ]
  },
  {
   "cell_type": "markdown",
   "id": "bcce22ff-f87f-414d-aa9d-02badf2b358e",
   "metadata": {},
   "source": [
    "<a name='1-2'></a>\n",
    "### Instalando SymPy\n",
    "\n",
    "Para instalar SymPy, debe hacerse por medio de **conda** o de **pip**, dependiendo del tipo de instalación de Jupyter Notebook con la que cuente el usuario.\n",
    "\n",
    "Sin importar el medio, la instalación debe realizarse desde una consola de comando y se debe ejecutar una de las siguientes líneas\n",
    "\n",
    "**Instalación conda**\n",
    "\n",
    "```conda install sympy```\n",
    "\n",
    "**Instalación pip**\n",
    "\n",
    "```pip install sympy```"
   ]
  },
  {
   "cell_type": "markdown",
   "id": "b05e64e2-e06f-4800-be41-2d7feb05c95a",
   "metadata": {},
   "source": [
    "**(No recomendado)** Si se desea instalar SymPy directamente desde Jupyter Notebook, basta con usar cualquiera de las líneas anteriores pero con el prefijo *!* en una celda de código y ejecutarla\n",
    "\n",
    "```!conda install sympy```"
   ]
  },
  {
   "cell_type": "markdown",
   "id": "73987345-5480-43a7-b21c-2c4b2feed385",
   "metadata": {},
   "source": [
    "Antes de entrar por completo a las funciones de SymPy, primero debemos abordar temas preliminares de esta librería como son: la importación al notebook, impresión en notebook y generación de expresiones y ecuaciones."
   ]
  },
  {
   "cell_type": "markdown",
   "id": "a2a7e635-c056-4fda-af1a-698a18782ccd",
   "metadata": {},
   "source": [
    "<a name='1-3'></a>\n",
    "### Importación de la librería"
   ]
  },
  {
   "cell_type": "markdown",
   "id": "1f8368fd-3222-4f4c-8cc1-bc6ea71fee8a",
   "metadata": {},
   "source": [
    "Para hacer uso de la librería dentro del notebook, se debe llamar a esta por medio del comando ```import```"
   ]
  },
  {
   "cell_type": "code",
   "execution_count": null,
   "id": "9edbcc5e-92af-4c24-b577-c519d28ed0aa",
   "metadata": {},
   "outputs": [],
   "source": [
    "import sympy"
   ]
  },
  {
   "cell_type": "markdown",
   "id": "7c153139-45cb-486f-b780-501118aa2a86",
   "metadata": {},
   "source": [
    "Una vez hecho esto, para llamar a cualquier función o método de la librería debemos incluir el prefijo ```sympy.```. Por ejemplo, si se quisiera ocupar el método de simplificación, deberá hacerse el llamado de la siguiente forma:\n",
    "\n",
    "```sympy.simplify()```"
   ]
  },
  {
   "cell_type": "markdown",
   "id": "164c7462-8272-4481-907b-12b64eff4b5a",
   "metadata": {},
   "source": [
    "<a name='1-4'></a>\n",
    "\n",
    "### Formato de impresión"
   ]
  },
  {
   "cell_type": "markdown",
   "id": "ccf3a93e-9027-4f49-9f0b-4a77b1814687",
   "metadata": {},
   "source": [
    "Al momento de trabajar con expresiones simbólicas, lo que buscamos es obtener una visualización adecuada de estas que nos permita observar el resultado. Para esto, SymPy cuenta con una función que busca el mejor estilo de impresión con el que cuenta la interfaz donde se está trabajando y es el que asigna a todo el notebook para hacer la impresión de expresiones. Para un Jupyter Noteboook, SymPy hará uso de **MathJax** o $\\LaTeX$.\n",
    "\n",
    "Para habilitar esta función, se debe ejecutar la siguiente línea:"
   ]
  },
  {
   "cell_type": "code",
   "execution_count": null,
   "id": "7547aa71-1de8-4b1e-9369-0df0cfb53b0d",
   "metadata": {},
   "outputs": [],
   "source": [
    "sympy.init_printing()"
   ]
  },
  {
   "cell_type": "markdown",
   "id": "0a0952c7-ca27-493f-a1d4-add0979786b6",
   "metadata": {},
   "source": [
    "<a name='2'></a>\n",
    "## Ejercicio 1. Resolución de ecuaciones"
   ]
  },
  {
   "cell_type": "markdown",
   "id": "3ec87e09-1650-4e84-9797-ffddffe1a864",
   "metadata": {},
   "source": [
    "### Símbolos"
   ]
  },
  {
   "cell_type": "code",
   "execution_count": null,
   "id": "637ea754-2476-4986-85fe-e279464f17e3",
   "metadata": {},
   "outputs": [],
   "source": [
    "# Creación de símbolos por medio de la función symbols\n",
    "x = \n",
    "display(x)"
   ]
  },
  {
   "cell_type": "code",
   "execution_count": null,
   "id": "2bb6bc57-a85c-4a5a-bd5e-18e60b965783",
   "metadata": {},
   "outputs": [],
   "source": [
    "# Se pueden generar símbolos con subíndices y letras griegas\n",
    "alpha_1, beta_1 = \n",
    "display(alpha_1, beta_1)"
   ]
  },
  {
   "cell_type": "markdown",
   "id": "eac7ea3c-befb-4e02-a684-da9b1a816944",
   "metadata": {},
   "source": [
    "### Expresiones"
   ]
  },
  {
   "cell_type": "code",
   "execution_count": null,
   "id": "4d025c20-bf8b-41d3-9b23-9608ae5c3120",
   "metadata": {},
   "outputs": [],
   "source": [
    "# Las expresiones en SymPy se generan igual como si nosotros\n",
    "# escribiésemos en papel una expresión (siguiendo la sintaxis\n",
    "# de Python, cabe aclarar)\n",
    "expresion1 = \n",
    "expresion2 = \n",
    "\n",
    "display(expresion1, expresion2)"
   ]
  },
  {
   "cell_type": "markdown",
   "id": "76e56259-58f5-4e3e-9575-66d19c266b71",
   "metadata": {},
   "source": [
    "### Ecuaciones"
   ]
  },
  {
   "cell_type": "code",
   "execution_count": null,
   "id": "f371d77c-10b1-4ae4-b8fa-cd02402a6c27",
   "metadata": {},
   "outputs": [],
   "source": [
    "# Debido a las limitantes de Python, las ecuaciones deben\n",
    "# generarse haciendo uso de la función Eq\n",
    "ecuacion = \n",
    "display(ecuacion)"
   ]
  },
  {
   "cell_type": "markdown",
   "id": "5bd4502a-05d1-4e85-b712-b5b05a6e16de",
   "metadata": {},
   "source": [
    "#### Manejo de ecuaciones"
   ]
  },
  {
   "cell_type": "code",
   "execution_count": null,
   "id": "14d349a0-ff53-4347-9cba-b30e2d087b0f",
   "metadata": {},
   "outputs": [],
   "source": [
    "# Para manipular los lados de las ecuaciones, se hace uso de\n",
    "# los métodos rhs y lhs\n",
    "ecuacion_lhs = \n",
    "ecuacion_rhs = \n",
    "\n",
    "display(ecuacion_lhs, ecuacion_rhs)"
   ]
  },
  {
   "cell_type": "code",
   "execution_count": null,
   "id": "9497e881-41a9-4d6b-ac99-257703a7cdc5",
   "metadata": {},
   "outputs": [],
   "source": [
    "# Para expandir una expresión, hacemos uso de la función expand\n",
    "ecuacion_lhs = \n",
    "\n",
    "display(ecuacion_lhs)"
   ]
  },
  {
   "cell_type": "code",
   "execution_count": null,
   "id": "10859db0-0a13-45f9-af49-6ca244b839ec",
   "metadata": {},
   "outputs": [],
   "source": [
    "# Para sustituir valores en una expresión, se hace uso del método subs\n",
    "ecuacion_lhs = \n",
    "ecuacion_rhs = \n",
    "\n",
    "display(ecuacion_lhs, ecuacion_rhs)"
   ]
  },
  {
   "cell_type": "code",
   "execution_count": null,
   "id": "a8a273ad-03da-4d30-ac95-a3b1ce56bde9",
   "metadata": {},
   "outputs": [],
   "source": [
    "# Notemos que haber manipulado ambos lados de la ecuación por separado\n",
    "# no modifica la ecuación original que generamos\n",
    "display(ecuacion)"
   ]
  },
  {
   "cell_type": "code",
   "execution_count": null,
   "id": "00437189-e35f-47b8-8523-633908a34554",
   "metadata": {},
   "outputs": [],
   "source": [
    "# Por lo tanto, debemos volver a generar la ecuacion\n",
    "ecuacion = \n",
    "\n",
    "display(ecuacion)"
   ]
  },
  {
   "cell_type": "markdown",
   "id": "dc3118c8-e425-4e9e-8ebb-8dc74b786fe1",
   "metadata": {},
   "source": [
    "### Resolución de ecuaciones algebraicas"
   ]
  },
  {
   "cell_type": "code",
   "execution_count": null,
   "id": "475c5d52-c86b-4d4b-bcd5-7a5f661e232f",
   "metadata": {},
   "outputs": [],
   "source": [
    "# Para resolver la ecuación que hemos generado, hacemos uso de\n",
    "# la función solve\n",
    "soluciones = \n",
    "\n",
    "display(soluciones)"
   ]
  },
  {
   "cell_type": "markdown",
   "id": "c38c23d1-a9bd-4a4a-8136-c8fc8edf7977",
   "metadata": {},
   "source": [
    "#### Resolución de sistemas de ecuaciones"
   ]
  },
  {
   "cell_type": "code",
   "execution_count": null,
   "id": "ecd83f8b-f426-419a-ad3e-2c87870346b0",
   "metadata": {},
   "outputs": [],
   "source": [
    "# Para resolver sistemas de ecuaciones, simplemente debemos\n",
    "# pasarle a la función solve una lista con las ecuaciones\n",
    "# (o expresiones) que queremos resolver\n",
    "y = \n",
    "\n",
    "expresion1 = \n",
    "expresion2 = \n",
    "\n",
    "display(expresion1, expresion2)"
   ]
  },
  {
   "cell_type": "code",
   "execution_count": null,
   "id": "b2bdb397-89b2-48b7-b42a-407807b50580",
   "metadata": {},
   "outputs": [],
   "source": [
    "# Como podemos observar, la expresión 1 está representada por\n",
    "# una fracción. Podemos simplificar esta expresión a manera\n",
    "# de obtener una más sencilla con la función simplify\n",
    "expresion1 = \n",
    "\n",
    "display(expresion1)"
   ]
  },
  {
   "cell_type": "code",
   "execution_count": null,
   "id": "9b34b594-3b11-465f-93b1-27ca0a05b091",
   "metadata": {},
   "outputs": [],
   "source": [
    "# Una vez simplificada nuestra expresión, ahora sí procedemos\n",
    "# a ingresarlas en la función solve\n"
   ]
  },
  {
   "cell_type": "code",
   "execution_count": null,
   "id": "e292cc13-0df1-4f0b-8181-8c36d46cbe73",
   "metadata": {},
   "outputs": [],
   "source": [
    "# Podemos ver que las expresiones anteriores que ingresamos a\n",
    "# la función solve no fueron instancias de la función Eq.\n",
    "# Cuando pasamos expresiones directamente a la función solve,\n",
    "# esta automáticamente asume que estas se encuentran igualadas\n",
    "# a cero. Sin embargo, igual podemos pasarle instancias de Eq\n",
    "# y buscar las soluciones\n",
    "ecuacion1 = \n",
    "ecuacion2 = \n",
    "\n"
   ]
  },
  {
   "cell_type": "markdown",
   "id": "2af9d3d1-5b74-465f-aecf-84d0f65144fd",
   "metadata": {},
   "source": [
    "<a name='3'></a>\n",
    "## Ejercicio 2. Límites, derivadas e integrales"
   ]
  },
  {
   "cell_type": "markdown",
   "id": "58ad1fa6-e1fb-4afa-91ae-d77d5d2d0d4e",
   "metadata": {},
   "source": [
    "### Límites"
   ]
  },
  {
   "cell_type": "code",
   "execution_count": null,
   "id": "6f42ba55-551d-4666-bbb6-06f6a64698f7",
   "metadata": {},
   "outputs": [],
   "source": [
    "# Para evaluar límites en SymPy, basta con hacer uso de la \n",
    "# función limit\n"
   ]
  },
  {
   "cell_type": "code",
   "execution_count": null,
   "id": "f90af0ca-a19c-43be-8c01-d8da1821bd03",
   "metadata": {},
   "outputs": [],
   "source": [
    "# También se pueden evaluar límites al infinito\n"
   ]
  },
  {
   "cell_type": "code",
   "execution_count": null,
   "id": "ef55eec7-cc9c-4cae-ba59-28bb3117e0eb",
   "metadata": {},
   "outputs": [],
   "source": [
    "# Y si queremos evaluar límites por izquierda o por derecha,\n",
    "# se debe agregar el caracter '-' o '+' a la función limit,\n",
    "# respectvamente\n"
   ]
  },
  {
   "cell_type": "code",
   "execution_count": null,
   "id": "c76b2345-a422-408d-a4ba-ba6c0e3760f3",
   "metadata": {},
   "outputs": [],
   "source": []
  },
  {
   "cell_type": "markdown",
   "id": "5256e0cf-76df-4d61-b3ab-b0764e5e1554",
   "metadata": {},
   "source": [
    "### Derivadas"
   ]
  },
  {
   "cell_type": "code",
   "execution_count": null,
   "id": "d70ccfb1-6629-4231-80e9-323ba8998db0",
   "metadata": {},
   "outputs": [],
   "source": [
    "# SymPy cuenta con la función diff, la cual tiene la capacidad\n",
    "# de realizar derivadas de manera simbólica\n"
   ]
  },
  {
   "cell_type": "code",
   "execution_count": null,
   "id": "c21d8ad4-57e9-45e4-830b-44cad50f902e",
   "metadata": {},
   "outputs": [],
   "source": [
    "# De igual manera, si tenemos una expresión ya escrita, podemos\n",
    "# aplicar diff como un método de dicha expresión\n",
    "expresion = \n",
    "\n"
   ]
  },
  {
   "cell_type": "code",
   "execution_count": null,
   "id": "49bd5a97-a19e-4460-8f8a-e9b52ee37987",
   "metadata": {},
   "outputs": [],
   "source": [
    "# También podemos escribir derivadas de ordenes superiores\n",
    "# indicándolo como argumento de diff\n"
   ]
  },
  {
   "cell_type": "code",
   "execution_count": null,
   "id": "a6f0ea16-199e-48e8-949a-71f120b2be9e",
   "metadata": {},
   "outputs": [],
   "source": [
    "# Tambien podemos derivar respecto a más de una variable dentro\n",
    "# de la misma función\n",
    "expresion = \n",
    "\n"
   ]
  },
  {
   "cell_type": "markdown",
   "id": "748ea3eb-51c4-4a9b-b86c-1c78ae2623a4",
   "metadata": {},
   "source": [
    "#### Resolucion de ecuaciones diferenciales"
   ]
  },
  {
   "cell_type": "code",
   "execution_count": null,
   "id": "277b9c52-4aa7-4ac4-82c6-23178fa08160",
   "metadata": {},
   "outputs": [],
   "source": [
    "# Para resolver ecuaciones diferenciales, existe la función dsolve\n",
    "f = \n",
    "\n",
    "edo = \n",
    "edo"
   ]
  },
  {
   "cell_type": "code",
   "execution_count": null,
   "id": "e76629ba-1577-4820-a70f-000d6826c2e4",
   "metadata": {},
   "outputs": [],
   "source": [
    "# Teniendo una ecuación diferencial, lo ingresamos a la función\n",
    "# y obtenemos el resultado\n"
   ]
  },
  {
   "cell_type": "code",
   "execution_count": null,
   "id": "7d1ceba1-c99d-4c2c-b157-c6c962dc81e1",
   "metadata": {},
   "outputs": [],
   "source": [
    "# Si conocemos las condiciones iniciales de la ecuación diferencial\n",
    "# podemos pasarlas como argumento a la función dsolve\n",
    "ics = \n",
    "\n"
   ]
  },
  {
   "cell_type": "markdown",
   "id": "cada2c55-8c6b-4169-b037-469463e4e7e5",
   "metadata": {},
   "source": [
    "### Integrales"
   ]
  },
  {
   "cell_type": "code",
   "execution_count": null,
   "id": "ed239af2-3c61-44ca-8dcd-ccf884a8119b",
   "metadata": {},
   "outputs": [],
   "source": [
    "# Para realizar una integral indefinida, se hace uso de la \n",
    "# función integrate\n"
   ]
  },
  {
   "cell_type": "code",
   "execution_count": null,
   "id": "27bf4f74-e7f4-437b-ba64-fda235282e1d",
   "metadata": {},
   "outputs": [],
   "source": [
    "# Cabe notar que la función integrate no añade la constante de\n",
    "# integración, lo cual debe agregarse de manera manual\n",
    "c = sympy.symbols('c')\n",
    "\n"
   ]
  },
  {
   "cell_type": "code",
   "execution_count": null,
   "id": "6ddff715-455c-418e-b6cf-a112964d6608",
   "metadata": {},
   "outputs": [],
   "source": [
    "# Para una integral definida, se agregan los límites de\n",
    "# integración a la función integrate\n",
    "resultado = \n",
    "resultado"
   ]
  },
  {
   "cell_type": "code",
   "execution_count": null,
   "id": "41bf65bd-e50d-4e23-92d0-5dbe998db86b",
   "metadata": {},
   "outputs": [],
   "source": [
    "# Si quisiéramos conocer el valor de esta integral, sólo basta\n",
    "# con usar el método evalf\n"
   ]
  },
  {
   "cell_type": "markdown",
   "id": "ea00c72d-8ee3-4ca1-bc19-1eda24bd7b04",
   "metadata": {},
   "source": [
    "<a name='4'></a>\n",
    "## Ejercicio 3. Matrices"
   ]
  },
  {
   "cell_type": "markdown",
   "id": "2d675238-76ab-4dd9-b95d-f7e11d795b6c",
   "metadata": {},
   "source": [
    "Para esta sección, demostraremos el manejo de matrices por medio de un ejercicio práctico. Encontraremos los eigenvalores de la siguiente matriz:\n",
    "\n",
    "$$\n",
    "\\begin{bmatrix}\n",
    "3 & 0 & -5 \\\\\n",
    "\\frac{1}{5} & -1 & 0 \\\\\n",
    "1 & 1 & -2\n",
    "\\end{bmatrix}\n",
    "$$"
   ]
  },
  {
   "cell_type": "code",
   "execution_count": null,
   "id": "589e5fd1-db87-4d36-9026-448c394275e0",
   "metadata": {},
   "outputs": [],
   "source": [
    "# Primero, vamos a generar la matriz en SymPy por medio del\n",
    "# objeto Matrix\n",
    "A = \n",
    "A"
   ]
  },
  {
   "cell_type": "code",
   "execution_count": null,
   "id": "74f9a187-a747-4a32-ae76-2e8b03a30401",
   "metadata": {},
   "outputs": [],
   "source": [
    "# Ahora, vamos a aplicar la ecuación matricial:\n",
    "# A - λI\n",
    "# Para esto, primero asignamos una variable para el símbolo lambda\n",
    "lam = \n",
    "# Se debe tener cuidado en este caso, dado que la palabra\n",
    "# lambda se encuentra reservada en Python."
   ]
  },
  {
   "cell_type": "code",
   "execution_count": null,
   "id": "4015d1c2-910c-4b61-b5da-2a53a600cfcc",
   "metadata": {},
   "outputs": [],
   "source": [
    "# Ahora, para generar nuestra matriz identidad, podemos hacerlo\n",
    "# con la función eye. Y para obtener sus dimensiones, podemos\n",
    "# hacer uso de la instancia shape\n",
    "I = \n",
    "I"
   ]
  },
  {
   "cell_type": "code",
   "execution_count": null,
   "id": "29942a8b-0a47-4bde-8b18-06d49e50fa28",
   "metadata": {},
   "outputs": [],
   "source": [
    "# Ahora ya podemos efectuar la ecuación matricial para poder evaluar\n",
    "ecuacion = \n",
    "ecuacion"
   ]
  },
  {
   "cell_type": "code",
   "execution_count": null,
   "id": "39da7d0a-c785-4705-bc3d-bbc344e2fc2c",
   "metadata": {},
   "outputs": [],
   "source": [
    "# Y para obtener el polinomio característico, hacemos uso\n",
    "# del método det\n",
    "poli_car = \n",
    "poli_car"
   ]
  },
  {
   "cell_type": "code",
   "execution_count": null,
   "id": "dc991ec4-e2eb-4a97-ba77-26994f0b8a52",
   "metadata": {},
   "outputs": [],
   "source": [
    "# Finalmente, hacemos uso de la función solve para encontrar\n",
    "# las raíces del polinomio característico.\n"
   ]
  },
  {
   "cell_type": "markdown",
   "id": "e7dcb71c-e380-4dc1-97e1-9e3f47610cdb",
   "metadata": {},
   "source": [
    "---"
   ]
  }
 ],
 "metadata": {
  "kernelspec": {
   "display_name": "Python 3 (ipykernel)",
   "language": "python",
   "name": "python3"
  },
  "language_info": {
   "codemirror_mode": {
    "name": "ipython",
    "version": 3
   },
   "file_extension": ".py",
   "mimetype": "text/x-python",
   "name": "python",
   "nbconvert_exporter": "python",
   "pygments_lexer": "ipython3",
   "version": "3.9.7"
  }
 },
 "nbformat": 4,
 "nbformat_minor": 5
}
