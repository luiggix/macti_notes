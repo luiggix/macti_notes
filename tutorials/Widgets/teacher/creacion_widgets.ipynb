{
 "cells": [
  {
   "cell_type": "markdown",
   "id": "c643071d-bd1e-4e85-bd90-a1349ec38c34",
   "metadata": {},
   "source": [
    "# Creación de Widgets\n",
    "\n",
    "**Autor**: Carlos Japhet Arellanos Balcázar\n",
    "\n",
    "**Objetivo general**\n",
    "- Conocer y manejar widgets dentro del ambiente de Jupyter Notebook para crear notebooks interactivos\n",
    "\n",
    "**Objetivos particulares**\n",
    "- Manejar la biblioteca ipywidgets y crear widgets acorde a las necesidades\n",
    "- Vincular widgets con funciones generadas por medio de ```interact```\n",
    "- Generar gráficas interactivas haciendo uso de widgets\n",
    "\n",
    "## Contenido\n",
    "1. [¿Qué son los widgets?](#1)\n",
    "2. [Tipos de widgets](#2)\n",
    "4. [Uso de widgets](#3)\n",
    "    1. [Creación de un widget](#3-1)\n",
    "5. [Función ```interact```](#4)\n",
    "6. [Uso con gráficas de matplotlib](#5)"
   ]
  },
  {
   "cell_type": "markdown",
   "id": "74c326a3-844e-4cda-a6b4-5ede70572853",
   "metadata": {
    "tags": []
   },
   "source": [
    "## ¿Qué son los widgets?\n",
    "<a name='1'></a>\n",
    "\n",
    "En el ambiente de Jupyter Notebook, los widgets son elementos de la interfaz gráfica del usuario que permiten controlar el código y la información dentro del notebook y pueden generar ciertos cambios en la visualización o en los resultados. Existen diversos números de widgets útiles dentro de este ambiente, los cuales pueden combinarse de manera efectiva para generar tableros que pueden mostrar resultados diferentes."
   ]
  },
  {
   "cell_type": "markdown",
   "id": "524dba0f-bcbb-49ad-acc3-20fbf0ea5d8b",
   "metadata": {
    "tags": []
   },
   "source": [
    "## Tipos de widgets\n",
    "<a name='2'></a>\n",
    "\n",
    "Existe una amplia variedad de widgets, dentro de los que destacan principalmente: **IntSlider, BoundedIntText, Text, Button**.\n",
    "\n",
    "Para efectos de este curso, sólo abarcaremos de manera básica algunos de los widgets. Para un mejor manejo de los widgets, puede consultarse la documentación de ipywidgets [aquí](https://ipywidgets.readthedocs.io/en/stable/examples/Widget%20List.html)."
   ]
  },
  {
   "cell_type": "markdown",
   "id": "42a95cfd-d490-4efc-bcaa-785c2b3a8390",
   "metadata": {},
   "source": [
    "<img src = \"../utils/figs/widgets_jupyter.gif\" align = \"center\">"
   ]
  },
  {
   "cell_type": "markdown",
   "id": "95e0b1c7-af17-430f-8cfc-6fe949336112",
   "metadata": {
    "tags": []
   },
   "source": [
    "## Uso de widgets\n",
    "<a name='3'></a>"
   ]
  },
  {
   "cell_type": "code",
   "execution_count": 1,
   "id": "28850caf-fc00-4ffc-bb30-e7ff96011bee",
   "metadata": {},
   "outputs": [],
   "source": [
    "import ipywidgets as widgets"
   ]
  },
  {
   "cell_type": "markdown",
   "id": "31622ecd-c5b2-4aad-8e3d-c1c999485bb4",
   "metadata": {},
   "source": [
    "Con esto, ya tenemos acceso a todos lo widgets de los que dispone la biblioteca. Para ver más información se puede ejecutar la siguiente línea, o bien hacer click [aquí](https://ipywidgets.readthedocs.io/en/stable/) para ver la documentación.\n",
    "\n",
    "```help(widgets)```"
   ]
  },
  {
   "cell_type": "markdown",
   "id": "d855d10e-c264-423e-ac5b-b0f363c6be5d",
   "metadata": {},
   "source": [
    "### Creación de un widget\n",
    "<a name='3-1'></a>\n",
    "\n",
    "Ahora, para crear el widget IntSlider ejecutamos la siguiente línea:"
   ]
  },
  {
   "cell_type": "code",
   "execution_count": 2,
   "id": "72b40db1-ab50-4bd2-afa4-58d09e4d7115",
   "metadata": {},
   "outputs": [
    {
     "data": {
      "application/vnd.jupyter.widget-view+json": {
       "model_id": "731d28acaf454427bee67b2623a4e254",
       "version_major": 2,
       "version_minor": 0
      },
      "text/plain": [
       "IntSlider(value=0)"
      ]
     },
     "metadata": {},
     "output_type": "display_data"
    }
   ],
   "source": [
    "widgets.IntSlider()"
   ]
  },
  {
   "cell_type": "markdown",
   "id": "bfbcc7e1-4008-4ba1-b432-21feb8763371",
   "metadata": {},
   "source": [
    "Si queremos mostrar el widget en cualquier otra celda, sin importar dónde tengamos definido nuestro widget, empleamos la función ```display```"
   ]
  },
  {
   "cell_type": "code",
   "execution_count": 3,
   "id": "425114a1-d134-4d03-9feb-0882d22ffdb4",
   "metadata": {},
   "outputs": [
    {
     "data": {
      "application/vnd.jupyter.widget-view+json": {
       "model_id": "7c3fc559e1804c3e97afad8c22dc9b0b",
       "version_major": 2,
       "version_minor": 0
      },
      "text/plain": [
       "IntSlider(value=0)"
      ]
     },
     "metadata": {},
     "output_type": "display_data"
    }
   ],
   "source": [
    "w = widgets.IntSlider()\n",
    "display(w)"
   ]
  },
  {
   "cell_type": "markdown",
   "id": "9249cbe7-a079-4f97-a00e-50510dbc5395",
   "metadata": {},
   "source": [
    "Y si queremos mostrarlo en la siguiente celda, sólo basta con llamar a la función ```display``` nuevamente y pasarle el nombre que le hemos asignado a nuestro widget"
   ]
  },
  {
   "cell_type": "code",
   "execution_count": 4,
   "id": "eadc3f04-5695-4c40-a3ed-d7e3d37999b0",
   "metadata": {},
   "outputs": [
    {
     "data": {
      "application/vnd.jupyter.widget-view+json": {
       "model_id": "7c3fc559e1804c3e97afad8c22dc9b0b",
       "version_major": 2,
       "version_minor": 0
      },
      "text/plain": [
       "IntSlider(value=0)"
      ]
     },
     "metadata": {},
     "output_type": "display_data"
    }
   ],
   "source": [
    "display(w)"
   ]
  },
  {
   "cell_type": "markdown",
   "id": "2f3eddb4-3b1f-4643-9126-6d5e2c2feacc",
   "metadata": {},
   "source": [
    "Nótese que al ser el mismo widget, ambos sliders estarán sincronizados y al cambiar el valor de uno cambiará el de todos los widgets con ese nombre que estén siendo mostrados. Intente arrastrar el widget anterior y observe el cambio.\n",
    "\n",
    "A nuestro widget, igual podemos asignarle límites en sus valores, un valor inicial, el paso con el que avanza e incluso un nombre que aparecerá cuando mostremos el slider."
   ]
  },
  {
   "cell_type": "code",
   "execution_count": 5,
   "id": "ed536b38-4f0d-4070-9053-62b9359e8e7b",
   "metadata": {},
   "outputs": [
    {
     "data": {
      "application/vnd.jupyter.widget-view+json": {
       "model_id": "c4400a45ea734cd585104bb3cc117ef6",
       "version_major": 2,
       "version_minor": 0
      },
      "text/plain": [
       "IntSlider(value=2, description='Slider:', max=50)"
      ]
     },
     "metadata": {},
     "output_type": "display_data"
    }
   ],
   "source": [
    "ws = widgets.IntSlider(\n",
    "    min=0, # valor mínimo\n",
    "    max=50, # valor máximo\n",
    "    step=1, # paso del slider\n",
    "    description=\"Slider:\", # nombre\n",
    "    value=2) # valor inicial\n",
    "display(ws)"
   ]
  },
  {
   "cell_type": "markdown",
   "id": "fd2efe5b-930c-41a2-ad36-b505864ff853",
   "metadata": {},
   "source": [
    "Ahora, ¿cómo podemos hacer uso de este widget?\n",
    "\n",
    "Un ejemplo inicial es combinarlo con otro widget cuyo valor esté asociado a lo que muestre el slider, un caso sería otro widget llamado ```IntText```. En este ejemplo, vamos a ligar los dos widgets de manera que al arrastrar el slider, el texto presentado se actualice al mismo tiempo."
   ]
  },
  {
   "cell_type": "code",
   "execution_count": 6,
   "id": "fbe8661c-4bbb-41cc-b303-b4453cf3050e",
   "metadata": {},
   "outputs": [
    {
     "data": {
      "application/vnd.jupyter.widget-view+json": {
       "model_id": "792b62b1bbfb4be98684d8e9764a0dbe",
       "version_major": 2,
       "version_minor": 0
      },
      "text/plain": [
       "IntSlider(value=0, description='Slider', max=50)"
      ]
     },
     "metadata": {},
     "output_type": "display_data"
    },
    {
     "data": {
      "application/vnd.jupyter.widget-view+json": {
       "model_id": "690413fd85b34d5da84a3dc4d2df1846",
       "version_major": 2,
       "version_minor": 0
      },
      "text/plain": [
       "IntText(value=0, description='Texto')"
      ]
     },
     "metadata": {},
     "output_type": "display_data"
    }
   ],
   "source": [
    "# Vamos a generar primero nuestro widget Slider y asigenemos valores \n",
    "# iniciales a este\n",
    "slider = widgets.IntSlider(\n",
    "    min=0,\n",
    "    max=50,\n",
    "    step=1,\n",
    "    description='Slider')\n",
    "\n",
    "# Ahora generemos el widget IntText que se actualizará con el slider\n",
    "text = widgets.IntText(\n",
    "    description='Texto')\n",
    "\n",
    "# Y los enlazamos con la función jslink. A esta función, le indicamos\n",
    "# que la propiedad de ambos widgets que queremos ligar es su valor,\n",
    "# y lo indicamos con el texto 'value'\n",
    "enlace = widgets.jslink((slider, 'value'), (text, 'value'))\n",
    "\n",
    "# Finalmente, mostramos ambos widgets\n",
    "display(slider, text)"
   ]
  },
  {
   "cell_type": "markdown",
   "id": "2c041523-d00d-4e83-a3ea-aca44b64c03f",
   "metadata": {},
   "source": [
    "Se puede ver que ambos widgets están ligados uno al otro, de manera que modificar uno inmediatamente actualiza al otro."
   ]
  },
  {
   "cell_type": "markdown",
   "id": "8a1aa7c5-8bf4-4c89-845c-5f1e6fce9f57",
   "metadata": {
    "tags": []
   },
   "source": [
    "## Función ```interact```\n",
    "<a name='4'></a>"
   ]
  },
  {
   "cell_type": "markdown",
   "id": "15f4f026-2121-449e-a206-858834e5f085",
   "metadata": {},
   "source": [
    "Antes de pasar a la creación de figuras con widgets primero debemos conocer una función importante de la biblioteca ipywidgets: ```interact```\n",
    "\n",
    "Esta función genera widgets de manera automática acorde al tipo de información o datos que se le pasen a dicha función. Por ejemplo, si le pasamos una lista de nombres a ```interact``` esta nos arrojará lo siguiente:"
   ]
  },
  {
   "cell_type": "code",
   "execution_count": 7,
   "id": "53a59fe9-b595-4641-94b5-c3a793109ea6",
   "metadata": {},
   "outputs": [
    {
     "data": {
      "application/vnd.jupyter.widget-view+json": {
       "model_id": "366408aabdc74e75bb9355945412f32d",
       "version_major": 2,
       "version_minor": 0
      },
      "text/plain": [
       "interactive(children=(Dropdown(description='nombre', options=('Carlos', 'Marina', 'Javier', 'Alex'), value='Ca…"
      ]
     },
     "metadata": {},
     "output_type": "display_data"
    },
    {
     "data": {
      "text/plain": [
       "<function __main__.imprimir_nombres(nombre)>"
      ]
     },
     "execution_count": 7,
     "metadata": {},
     "output_type": "execute_result"
    }
   ],
   "source": [
    "def imprimir_nombres(nombre):\n",
    "    print(\"Nombre: {}\".format(nombre))\n",
    "\n",
    "widgets.interact(imprimir_nombres, nombre=[\"Carlos\", \"Marina\", \"Javier\", \"Alex\"])"
   ]
  },
  {
   "cell_type": "markdown",
   "id": "fb46d1a7-9e16-4766-a87d-ddf3061df89a",
   "metadata": {},
   "source": [
    "En este caso, se generó un menú desplegable dado que le pasamos una lista a la función. Ahora, si le pasáramos una tupla tendríamos lo siguiente:"
   ]
  },
  {
   "cell_type": "code",
   "execution_count": 8,
   "id": "58f67021-2052-4dc6-842f-c92f30059052",
   "metadata": {},
   "outputs": [
    {
     "data": {
      "application/vnd.jupyter.widget-view+json": {
       "model_id": "580e4ee791f1478ebb281f7fa8eef420",
       "version_major": 2,
       "version_minor": 0
      },
      "text/plain": [
       "interactive(children=(IntSlider(value=5, description='num', max=10), Output()), _dom_classes=('widget-interact…"
      ]
     },
     "metadata": {},
     "output_type": "display_data"
    },
    {
     "data": {
      "text/plain": [
       "<function __main__.numeros(num)>"
      ]
     },
     "execution_count": 8,
     "metadata": {},
     "output_type": "execute_result"
    }
   ],
   "source": [
    "def numeros(num):\n",
    "    return num\n",
    "\n",
    "widgets.interact(numeros, num=(0, 10, 1))"
   ]
  },
  {
   "cell_type": "markdown",
   "id": "8dff42ed-5774-4a09-b934-8372aea899cd",
   "metadata": {},
   "source": [
    "El widget anterior lo generamos con la tupla de valores; pero esto es equivalente a haber escrito lo siguiente:"
   ]
  },
  {
   "cell_type": "code",
   "execution_count": 9,
   "id": "b1c5ae34-2825-4446-9d1f-a03b161bc784",
   "metadata": {},
   "outputs": [
    {
     "data": {
      "application/vnd.jupyter.widget-view+json": {
       "model_id": "e03167ffab794afbb4660fbd1051087f",
       "version_major": 2,
       "version_minor": 0
      },
      "text/plain": [
       "interactive(children=(IntSlider(value=5, description='num', max=10), Output()), _dom_classes=('widget-interact…"
      ]
     },
     "metadata": {},
     "output_type": "display_data"
    },
    {
     "data": {
      "text/plain": [
       "<function __main__.numeros(num)>"
      ]
     },
     "execution_count": 9,
     "metadata": {},
     "output_type": "execute_result"
    }
   ],
   "source": [
    "widgets.interact(numeros, num=widgets.IntSlider(value=5, min=0, max=10, step=1))"
   ]
  },
  {
   "cell_type": "markdown",
   "id": "0211322a-b9d7-4e8e-9d30-65698f1cb45e",
   "metadata": {},
   "source": [
    "Esto se le conoce como abreviaciones y es una funcionalidad que ayuda a simplificar líneas de código cuando se realiza algún ejemplo sencillo. Pero para evitar confusiones al momento de generar el widget, es preferible escribir el widget que se desea generar."
   ]
  },
  {
   "cell_type": "markdown",
   "id": "51b74720-e1b5-483d-bdf9-c856e2ac60a2",
   "metadata": {
    "tags": []
   },
   "source": [
    "## Uso con gráficas de matplotlib\n",
    "<a name='5'></a>"
   ]
  },
  {
   "cell_type": "markdown",
   "id": "d995b574-5da2-4fd5-8d22-fdb9c2527707",
   "metadata": {},
   "source": [
    "Ahora que ya conocemos el uso de la función interact, podemos generar una gráfica con matplotlib que emplee un widget de tipo ```FloatSlider```.\n",
    "\n",
    "Para esto, vamos a definir una función que genere esta gráfica y la actualice con el slider, por medio de ```interact```"
   ]
  },
  {
   "cell_type": "code",
   "execution_count": 10,
   "id": "12026da7-3f97-49fe-81e4-cde4611991b8",
   "metadata": {},
   "outputs": [],
   "source": [
    "import numpy as np\n",
    "import matplotlib.pyplot as plt"
   ]
  },
  {
   "cell_type": "code",
   "execution_count": 11,
   "id": "e8e2d062-6193-466d-aca1-29ba61fa96d5",
   "metadata": {},
   "outputs": [],
   "source": [
    "def plot(freq):\n",
    "    x = np.linspace(0, 2 * np.pi, 100)\n",
    "    y = np.sin(x * freq) + np.cos(2 * x * freq)\n",
    "    plt.plot(x, y)"
   ]
  },
  {
   "cell_type": "code",
   "execution_count": 12,
   "id": "48698ddf-9761-4871-ad37-35b1f24c7c6d",
   "metadata": {},
   "outputs": [
    {
     "data": {
      "application/vnd.jupyter.widget-view+json": {
       "model_id": "7e3e77a912ce455b920d9d1d51df5ef7",
       "version_major": 2,
       "version_minor": 0
      },
      "text/plain": [
       "interactive(children=(FloatSlider(value=2.0, description='Frecuencia:', max=5.0, min=0.1), Output()), _dom_cla…"
      ]
     },
     "metadata": {},
     "output_type": "display_data"
    },
    {
     "data": {
      "text/plain": [
       "<function __main__.plot(freq)>"
      ]
     },
     "execution_count": 12,
     "metadata": {},
     "output_type": "execute_result"
    }
   ],
   "source": [
    "widgets.interact(plot, freq=widgets.FloatSlider(value=2, min=0.1, max=5, step=0.1, description='Frecuencia:'))"
   ]
  },
  {
   "cell_type": "markdown",
   "id": "2758154b-a550-4a38-a3d2-a7069df89d97",
   "metadata": {},
   "source": [
    "Es importante mencionar que cuando hagamos uso de ```interact```, debemos cerciorarnos que el segundo argumento que pasamos a la función coincida con el argumento que queremos modificar en la función que nosotros hemos definido para que ipywidgets interactúe."
   ]
  },
  {
   "cell_type": "markdown",
   "id": "e236ae07-3584-4b7f-a0a1-b1821ea2ce35",
   "metadata": {},
   "source": [
    "**¿Se puede ocupar un widget diferente y obtener el mismo resultado?**\n",
    "\n",
    "En efecto se puede. En este caso, cambiemos el widget por un ```FloatText```"
   ]
  },
  {
   "cell_type": "code",
   "execution_count": 13,
   "id": "b6ab09dc-f7ee-4130-8a2f-e17ec22c11c6",
   "metadata": {},
   "outputs": [
    {
     "data": {
      "application/vnd.jupyter.widget-view+json": {
       "model_id": "1c7f50c6103f420f9a09d8dc40822ea2",
       "version_major": 2,
       "version_minor": 0
      },
      "text/plain": [
       "interactive(children=(FloatText(value=2.0, description='Frecuencia:'), Output()), _dom_classes=('widget-intera…"
      ]
     },
     "metadata": {},
     "output_type": "display_data"
    },
    {
     "data": {
      "text/plain": [
       "<function __main__.plot(freq)>"
      ]
     },
     "execution_count": 13,
     "metadata": {},
     "output_type": "execute_result"
    }
   ],
   "source": [
    "widgets.interact(plot, freq=widgets.FloatText(value=2, description='Frecuencia:'))"
   ]
  },
  {
   "cell_type": "markdown",
   "id": "53a06c5d-9084-48c7-a091-6aff40c4bfc5",
   "metadata": {},
   "source": [
    "---\n",
    "\n",
    "Para conocer más y observar diversos ejemplos de cómo se pueden utilizar los widgets en Jupyter Notebooks, puede consultar los siguientes artículos:\n",
    "\n",
    "- [Bring your Jupyter Notebook to life with interactive widgets](https://towardsdatascience.com/bring-your-jupyter-notebook-to-life-with-interactive-widgets-bc12e03f0916)\n",
    "- [Ipywidgets with matplotlib](https://kapernikov.com/ipywidgets-with-matplotlib/)"
   ]
  }
 ],
 "metadata": {
  "kernelspec": {
   "display_name": "Python 3 (ipykernel)",
   "language": "python",
   "name": "python3"
  },
  "language_info": {
   "codemirror_mode": {
    "name": "ipython",
    "version": 3
   },
   "file_extension": ".py",
   "mimetype": "text/x-python",
   "name": "python",
   "nbconvert_exporter": "python",
   "pygments_lexer": "ipython3",
   "version": "3.11.6"
  }
 },
 "nbformat": 4,
 "nbformat_minor": 5
}
