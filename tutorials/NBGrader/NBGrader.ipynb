{
 "cells": [
  {
   "cell_type": "markdown",
   "id": "9f65dd8c",
   "metadata": {},
   "source": [
    "# *NBGrader*\n",
    "\n",
    "**Objetivo general**\n",
    "- Conocer las ventajas de la biblioteca de evaluación *NBGrader* y cómo usarla para evaluar de manera automatizada los conocimientos.\n",
    "\n",
    "**Objetivos particulares**\n",
    "- Familiarizarse con la estructura y herramientas de *NBGrader*.\n",
    "- Generar notebooks que puedan ser evaluados de manera automatizada. \n",
    "- Integrar la evaluación automatizada a los materiales generados de manera propia.\n",
    "\n",
    "## Contenido\n",
    "- [1 - ¿Qué es *NBGrader* 1.](#1)\n",
    "    - [1.1 - Estructura de *NBGrader*.](#1-1)\n",
    "    - [1.2 - Tipo de celdas *NBGrader*.](#1-2)\n",
    "    - [1.2 - Evaluación automatizada de celdas.](#1-3)\n",
    "        - [Ejemplo 1 - Evaluación automatizada.](#eje-1)\n",
    "        - [Ejercicio 1 - Evaluación automatizada *NBGrader*.](#ej-1)\n",
    "- [2 - Evaluación MACTI.](#2)\n",
    "    - [2.1 - Estructura evaluación MACTI.](#2-1)\n",
    "    - [2-2 - Biblioteca *macti_lib*.](#2-2)\n",
    "    - [2-3 - Método `verifica()`.](#2-3)\n",
    "        - [Ejercicio 2 - Evaluación automatizada MACTI.](#ej-2)"
   ]
  },
  {
   "cell_type": "markdown",
   "id": "fa1e306c",
   "metadata": {},
   "source": [
    "<a name='1'></a>\n",
    "## *NBGrader*\n",
    "\n",
    "*NBGrader* es una biblioteca que nos permite automatizar y organizar de mejor manera la evaluación de los conocimientos generados mediante notebooks.\n",
    "\n",
    "En general podemos decir que *NBGrader* es un conjunto de herramientas escritas para el lenguaje *Python* que nos permiten automatizar la evaluación de los contenidos. De manera práctica *NBGrader* agrega elementos al proyecto *Jupyter Notebook* para aligerar la tarea de evaluar a los alumnos.\n",
    "\n",
    "En este <a href=\"https://youtu.be/5WUm0QuJdFw\">link</a> puedes ver un video muy completo sobre el proyecto *NBGrader* y como se usa."
   ]
  },
  {
   "cell_type": "markdown",
   "id": "51e17c1e",
   "metadata": {},
   "source": [
    "<a name='1-1'></a>\n",
    "### Estructura *NBGrader*\n",
    "\n",
    "Una de las primeras cosas de que tenemos que aprender de *NBGrader* es que para evaluar los *notebooks*, vamos a tener 2 versiones del mismo, una de ellas es la versión del profesor (está contiene las preguntas y respuestas) y la versión del estudiante (esta contiene las preguntas sin las respuestas).\n",
    "\n",
    "Para comenzar con el desarrollo de materiales haciendo uso de *NBGrader* es necesario facilitarse con 3 elementos básicos de la herramienta:\n",
    "\n",
    "- 1 - *Formgrader*: es un nuevo elemento en la *GUI* de *Jupyter Notebook* que nos permite generar notebooks que serán evaluados de manera automatizada.\n",
    "- 2 - *source*: es el folder donde se almacena la versión del profesor.\n",
    "- 3 - *release*: es el folder donde se almacena la versión del estudiante.\n",
    "\n",
    "<img src=\"./utils/figs/estructura.png\"  hspace=\"5\" vspace=\"5\"/>\n",
    "\n",
    "Para que se genere el folder *source* (y posteriormente release) es necesario crear un *assignment*, un *assignment* es un *notebook* que queremos que sea evaluado y para crearlo es necesario seleccionar *Formgrader*.\n",
    "\n",
    "<img src=\"./utils/figs/formgrader.png\"  hspace=\"5\" vspace=\"5\"/>\n",
    "\n",
    "Posteriormente es necesario seleccionar *Add new asignment*\n",
    "\n",
    "<img src=\"./utils/figs/newasignment.png\"  hspace=\"5\" vspace=\"5\"/>\n",
    "\n",
    "Le podemos dar cualquier nombre al *asignment* aunque se recomienda un nombre que facilite identificar de qué se trata el material dentro del *asignment*. En este caso le vamos a dar el nombre *Prueba* y una vez creado el *asignment* el resto es tan sencillo como crear un *notebook* tradicional.\n",
    "\n",
    "<img src=\"./utils/figs/nuevonotebook.png\"  hspace=\"5\" vspace=\"5\"/>"
   ]
  },
  {
   "cell_type": "markdown",
   "id": "94140790",
   "metadata": {},
   "source": [
    "<a name='1-2'></a>\n",
    "### Tipo de celdas *NBGrader*\n",
    "\n",
    "*NBGrader* agrega nuevos tipos de celdas (además de las ya conocidas), mediante las cuales podemos tener más control y sobretodo estas nuevas celdas son las que nos permiten automatizar la evaluación, estas son:\n",
    "\n",
    "- *readonly*: permite deshabilitar la edición de las celdas, se usa principalmente para celdas de texto.\n",
    "- *manually graded answer*: son celdas que serán evaluadas de manera manual.\n",
    "- *manually graded task*: son celdas que serán evaluadas de manera manual y que formarán parte de la evaluación total del curso.\n",
    "- *auto graded answer*: son celdas que contienen los elementos a evaluar y qué *NBGrader* identifica para eliminar el código necesario.\n",
    "- *auto graded test*: son celdas que serán evaluadas de manera AUTOMATICA y que le permiten a alumno saber si acerto o tuvo errores y que no pueden ser modificadas por el alumno.\n",
    "\n",
    "Para tener acceso a estos nuevos tipos de celda, es necesario tener abierto el *notebook* sobre el cual vamos a usar *NBGrader*, seleccionar el menú *View*, después *Cell Toolbar*.\n",
    "\n",
    "<img src=\"./utils/figs/evaluacion.gif\"  hspace=\"5\" vspace=\"5\"/>\n",
    "\n",
    "Una vez hecho esto, ya tenemos acceso a los nuevos tipos de celdas previamente descritos."
   ]
  },
  {
   "cell_type": "markdown",
   "id": "30038881",
   "metadata": {},
   "source": [
    "<a name='1-3'></a>\n",
    "### Evaluación automatizada de celdas\n",
    "\n",
    "Ya que tenemos la estructura necesaria y acceso a todas las herramientas de evaluación lo siguiente que necesitamos es identificar el conocimiento que deseamos evaluar y cómo lo vamos a hacer.\n",
    "\n",
    "Para este ejemplo sencillo vamos a generar una celda de evaluación automatizada (*auto graded answer*) y dejaremos que *NBGrader* se encargue de la evaluación.\n",
    "\n",
    "**Importante:** *NBGrader* permite automatizar y organizar de manera más completa el proceso de evaluación del conocimiento, pero por motivos de alcance del taller no las veremos. Se recomienda revisar el video mencionado en la parte inicial para más detalle.\n",
    "\n",
    "Los siguientes pasos para la evaluación los podemos definir de la siguiente manera:\n",
    "\n",
    "- Identificar el conocimiento a evaluar: puede ser desde un simple cálculo numérico (cálculo de un área, operación aritmética, etc.) hasta un procedimiento más complejo como puede ser un método numérico o un algoritmo más sofisticado.\n",
    "- Escribir el código asociado a la evaluación: para poder evaluar el conocimiento, es necesario tener la respuesta, por lo que es necesario escribir el código completo (versión del profesor) dentro de una o más celdas a evaluar.\n",
    "- Seleccionar la sección que debe responder el alumno: partiendo del código escrito en el paso previo, ahora es necesario seleccionar la parte del mismo que va a ser eliminada por *NBGrader* y que debe completar el alumno.\n",
    "- Contrastar la respuesta correcta contra la del alumno: existen varias formas de llevar a cabo este paso, pero uno de los más sencillos es usar alguna herramienta (por ejemplo `assert`).\n",
    "- Dejar que *NBGrader* elimine las secciones: ya que sabemos cuales son las secciones a evaluar, *NBGRader* las sustituye por un mensaje de error para que el alumno lo complete."
   ]
  },
  {
   "cell_type": "markdown",
   "id": "90cea3d8",
   "metadata": {},
   "source": [
    "<a name='eje-1'></a>\n",
    "#### **Ejemplo 1 - Evaluación automatizada**\n",
    "\n",
    "Para este ejemplo sencillo, vamos a pedirle al alumno que complete la función `area_cuadrado(lado)`, misma que va a recibir la longitud del lado como parámetro y debe devolver el área del cuadrado.\n",
    "\n",
    "Una vez que generamos un *notebook* llamado \"Evaluacion\", dentro del *assignment* \"Prueba\" dentro del mismo vamos a agregar la (o las) celda a evaluar como se puede ver en la siguiente imagen.\n",
    "\n",
    "<img src=\"./utils/figs/correcto.png\"  hspace=\"5\" vspace=\"5\"/>\n",
    "\n",
    "Lo primero que debemos notar en esta imagen (*notebook*) es que la plantilla (estructura de la prueba) ya fue definida por el profesor, es decir que la definición de la función y algunos elementos del código ya fueron definidos y eso permite restringir los posibles errores o confusiones de parte del alumno.\n",
    "\n",
    "Por otro lado, la sección que debe definir el alumno se encuentra en una celda de tipo *autograded answer* y la celda que se encarga de la evaluación se encuentra en una celda de tipo *autograded test*.\n",
    "\n",
    "Además es importante notar que la sección que debe completar (y que posteriormente será eliminada por *NBGrader*) debe estar acotada por los comentarios `#BEGIN SOLUTION` y `#END SOLUTION`.\n",
    "\n",
    "Y lo último que hay que notar es que, en este caso, la implementación (respuesta) es correcta y se muestra un mensaje que le indica al alumno que pasó la prueba.\n",
    "\n",
    "Sin embargo en la siguiente imágen podemos notar que la respuesta fue incorrecta y se le indica alumno que revise su función.\n",
    "\n",
    "<img src=\"./utils/figs/incorrecto.png\"  hspace=\"5\" vspace=\"5\"/>\n",
    "\n",
    "Ya que tenemos la versión del profesor de este *notebook* (\"Evaluacion\") la cual contiene todos los elementos necesarios y validamos que la prueba funciona de manera correcta, lo siguiente es que *NBGrader* se encargue de generar la versión del estudiante que no contiene las respuestas.\n",
    "\n",
    "Para hacer esto es necesario volver a la sección *Formgrader* y ubicar el *assignment* en cuestión (que en este caso es \"Prueba\"), en esta parte vamos a ver un par de íconos relevantes, pero el que nos interesa en este momento es el ícono del birrete que se encuentra sobre la columna *Generate*.\n",
    "\n",
    "Al presionar este ícono *NBGrader* lleva a cabo ciertas validaciones y en caso de pasarlas se muestra un mensaje indicando que la versión del estudiante se generó de manera correcta, la cual podemos visualizar con el ícono *preview*, como se muestra a continuación.\n",
    "\n",
    "<img src=\"./utils/figs/generar.gif\"  hspace=\"5\" vspace=\"5\"/>\n",
    "\n",
    "En caso de tener que modificar la versión del profesor podemos dar click en el ícono *Edit* y eso nos permite realizar las modificaciones necesarias.\n",
    "\n",
    "Por último es importante notar que la versión del profesor (versión completa) de este *notebook* se encuentra en la ruta *source/Prueba/Evaluacion* y la versión del estudiante se encuentra en la ruta *release/Prueba/Evaluacion*, es importante notar que ambas versiones (profesor y estudiante) de este *notebook* tienen el mismo nombre pero son versiones distintas, por lo que una vez que vayan a ser distribuidos es buena idea renombrarlos para poder identificarlos de manera más sencilla.\n",
    "\n",
    "<img src=\"./utils/figs/rutas.gif\"  hspace=\"5\" vspace=\"5\"/>\n",
    "\n",
    "En la siguiente celda puedes ver la evaluación usando assert."
   ]
  },
  {
   "cell_type": "code",
   "execution_count": 3,
   "id": "e45fa4b8",
   "metadata": {
    "nbgrader": {
     "grade": false,
     "grade_id": "cell-2060978a6c5e20aa",
     "locked": false,
     "schema_version": 3,
     "solution": true,
     "task": false
    }
   },
   "outputs": [],
   "source": [
    "def area_cuadrado(lado):\n",
    "    #BEGIN SOLUTION\n",
    "    area = lado**2\n",
    "    #END SOLUTION\n",
    "    return area"
   ]
  },
  {
   "cell_type": "code",
   "execution_count": 4,
   "id": "0362c93c",
   "metadata": {
    "nbgrader": {
     "grade": true,
     "grade_id": "cell-251f4b5f896ca1ea",
     "locked": true,
     "points": 0,
     "schema_version": 3,
     "solution": false,
     "task": false
    }
   },
   "outputs": [
    {
     "name": "stdout",
     "output_type": "stream",
     "text": [
      "¡Correcto, el area del cuadrado es: 4!\n"
     ]
    }
   ],
   "source": [
    "\"\"\"Verificando el resultado obtenido con la función Trapecio\"\"\"\n",
    "assert area_cuadrado(2) == 4, \"Error en el resultado, revisa tu función\"\n",
    "\n",
    "print(\"¡Correcto, el area del cuadrado es: {}!\".format(area_cuadrado(2)))"
   ]
  },
  {
   "cell_type": "markdown",
   "id": "809b9d1f",
   "metadata": {},
   "source": [
    "---\n",
    "<a name='ej-1'></a>\n",
    "#### **<font color=\"DodgerBlue\">Ejercicio 1. Evaluación automatizada *NBGrader*.</font>**\n",
    "\n",
    "<font color=\"DarkBlue\">Siguiendo los paso descritos previamente, genera un *notebook* que contenga al menos una celda que sea evaluada de manera automatica haciendo uso de *NBGrader*.</font>\n",
    "\n",
    "---"
   ]
  },
  {
   "cell_type": "markdown",
   "id": "a08d189b",
   "metadata": {},
   "source": [
    "<a name='2'></a>\n",
    "## Evaluación MACTI\n",
    "\n",
    "Para un mejor control de la evaluación, en el proyecto MACTI se han agregado algunos elementos que facilitan aún más la tarea de evaluación del conocimiento, a continuación se describen."
   ]
  },
  {
   "cell_type": "markdown",
   "id": "53f7baa9",
   "metadata": {},
   "source": [
    "<a name='2-1'></a>\n",
    "### Estructura evaluación MACTI\n",
    "\n",
    "Lo primero que debemos tener en cuenta para un mejor control en la evaluación de los conocimientos, es una mejor organización y para eso se sugiere que las soluciones a los ejercicios que se tengan dentro de un *notebook* se almacenen en la ruta *utils/data/NombreNotebook* con el nombre *solmn.npy*, donde:\n",
    "\n",
    "- *NombreNotebook*: corresponde al *notebook* que se este desarrollando.\n",
    "- *solmn.npy*: corresponde a la solución del ejerciciomn.\n",
    "\n",
    "Supongamos que tenemos el tema de \"Geometria\" (sin acento ya que el nombre de un folder) y dentro de ese tema un *notebook* llamado \"FigurasGeometricas\" mismo que tiene 2 ejercicios, por lo que cada uno de estos ejercicios debe tener su respectiva solución, de tal forma que el contenido del folder */utils/data/FigurasGeometricas* serían los siguientes elementos.\n",
    "\n",
    "<img src=\"./utils/figs/figuras.png\"  hspace=\"5\" vspace=\"5\"/>\n"
   ]
  },
  {
   "cell_type": "markdown",
   "id": "e962b7ab",
   "metadata": {},
   "source": [
    "<a name='2-2'></a>\n",
    "### Biblioteca *macti_lib*\n",
    "\n",
    "El siguiente elemento es una biblioteca llamada *macti_lib* desarrollada dentro del marco del proyecto MACTI la cual ya se encuentra instalada en el servidor de MACTI y unicamente tenemos que importarla y hacer uso de ella, sin embargo vale la pena mencionar los siguientes detalles.\n",
    "\n",
    "**IMPORTANTE:** las soluciones de nuestros ejercicios (*sol01.npy*) son archivos con formato *numpy* que contienen la solución de algún ejercicio en forma de array.\n",
    "\n",
    "Imaginemos que el ejercicio 1 de nuestro *notebook* \"FigurasGeometricas\" tiene como solución el número 4, entonces la solución debe ser generada con el método `np.save()` de la biblioteca *numpy* con el nombre *sol01.npy* y almacenado en su respectiva ruta de la siguiente manera."
   ]
  },
  {
   "cell_type": "code",
   "execution_count": 7,
   "id": "939722f4",
   "metadata": {},
   "outputs": [],
   "source": [
    "import numpy as np\n",
    "# el metodo save cuenta con muchas opciones\n",
    "np.save(\"sol01\", np.array([4]))"
   ]
  },
  {
   "cell_type": "markdown",
   "id": "84fad256",
   "metadata": {},
   "source": [
    "Una vez que se generó el archivo *sol01.npy* en el folder donde se está ejecutando el *notebook* en cuestión, solo resta moverlo a la ruta adecuada, como se puede ver a continuación.\n",
    "\n",
    "<img src=\"./utils/figs/figurasgeo.gif\"  hspace=\"5\" vspace=\"5\"/>"
   ]
  },
  {
   "cell_type": "markdown",
   "id": "8b770bab",
   "metadata": {},
   "source": [
    "<a name='2-3'></a>\n",
    "### Método `verifica()`\n",
    "\n",
    "Ya con la solución en la ruta correcta, solo resta generar un objeto de la clase `Evalua` y utilizar el método `verifica()` de la siguiente forma."
   ]
  },
  {
   "cell_type": "markdown",
   "id": "b30a3dd4",
   "metadata": {
    "nbgrader": {
     "grade": false,
     "grade_id": "cell-768d1894b0bc9242",
     "locked": true,
     "schema_version": 3,
     "solution": false,
     "task": false
    }
   },
   "source": [
    "Esta es una prueba para evaluación con **nbgrader**.\n",
    "\n",
    "Completa la función `area_cuadrado(lado)`, misma que va a recibir la longitu del lado como parámetro y debe devolver el área del cuadrado."
   ]
  },
  {
   "cell_type": "code",
   "execution_count": 15,
   "id": "94ddc16f",
   "metadata": {
    "nbgrader": {
     "grade": true,
     "grade_id": "cell-c3762c8877ba0750",
     "locked": true,
     "points": 0,
     "schema_version": 3,
     "solution": false,
     "task": false
    }
   },
   "outputs": [],
   "source": [
    "# importamos la biblioteca\n",
    "from macti.evaluacion import Evalua\n",
    "# pasamos la ruta donde se encuentran las soluciones del tema\n",
    "evaluacion = Evalua('./utils/data/FigurasGeometricas', local=True)"
   ]
  },
  {
   "cell_type": "markdown",
   "id": "dd3b8186",
   "metadata": {},
   "source": [
    "Ahora supongamos que en el ejercicio 1 se le pide al alumno definir la función para calcular el área del cuadrado (como vimos previamente)."
   ]
  },
  {
   "cell_type": "code",
   "execution_count": 18,
   "id": "e76624e3",
   "metadata": {
    "nbgrader": {
     "grade": false,
     "grade_id": "cell-2060978a6c5e20aa",
     "locked": false,
     "schema_version": 3,
     "solution": true,
     "task": false
    }
   },
   "outputs": [],
   "source": [
    "def area_cuadrado(lado):\n",
    "    #BEGIN SOLUTION\n",
    "    area = lado**2\n",
    "    #END SOLUTION\n",
    "    return area"
   ]
  },
  {
   "cell_type": "code",
   "execution_count": 19,
   "id": "7fb5d9d3",
   "metadata": {
    "nbgrader": {
     "grade": true,
     "grade_id": "cell-251f4b5f896ca1ea",
     "locked": true,
     "points": 0,
     "schema_version": 3,
     "solution": false,
     "task": false
    }
   },
   "outputs": [
    {
     "name": "stdout",
     "output_type": "stream",
     "text": [
      "\u001b[32m¡Tu resultado es correcto!\n"
     ]
    }
   ],
   "source": [
    "\"\"\"\n",
    "verifica recibe el resultado a verificar (area_cuadrado(2))\n",
    "y el numero de la solucion, en este caso 1 que corresponde\n",
    "a la solucion sol01.pny\n",
    "\"\"\"\n",
    "evaluacion.verifica(np.array([area_cuadrado(2)]), 1)"
   ]
  },
  {
   "cell_type": "markdown",
   "id": "a0864d0e",
   "metadata": {},
   "source": [
    "En caso de que la respuesta (solución del alumno) sea incorrecta, la función `verifica()` muestra una sugerencia de donde se encuentra el error."
   ]
  },
  {
   "cell_type": "code",
   "execution_count": 20,
   "id": "54c1e172",
   "metadata": {
    "nbgrader": {
     "grade": false,
     "grade_id": "cell-2060978a6c5e20aa",
     "locked": false,
     "schema_version": 3,
     "solution": true,
     "task": false
    }
   },
   "outputs": [],
   "source": [
    "def area_cuadrado(lado):\n",
    "    #BEGIN SOLUTION\n",
    "    area = lado**3\n",
    "    #END SOLUTION\n",
    "    return area"
   ]
  },
  {
   "cell_type": "code",
   "execution_count": 21,
   "id": "75d46c6e",
   "metadata": {
    "nbgrader": {
     "grade": true,
     "grade_id": "cell-251f4b5f896ca1ea",
     "locked": true,
     "points": 0,
     "schema_version": 3,
     "solution": false,
     "task": false
    }
   },
   "outputs": [
    {
     "name": "stdout",
     "output_type": "stream",
     "text": [
      "\u001b[39m--------------------------------------------------------------------------------\n",
      "\u001b[31mCuidado: Ocurrió un error en tus cálculos: \n",
      " Lists differ: [8] != [4]\n",
      "\n",
      "First differing element 0:\n",
      "8\n",
      "4\n",
      "\n",
      "- [8]\n",
      "+ [4]\n",
      "\u001b[39m--------------------------------------------------------------------------------\n"
     ]
    }
   ],
   "source": [
    "\"\"\"\n",
    "verifica recibe el resultado a verificar (area_cuadrado(2))\n",
    "y el numero de la solucion, en este caso 1 que corresponde\n",
    "a la solucion sol01.pny\n",
    "\"\"\"\n",
    "evaluacion.verifica(np.array([area_cuadrado(2)]), 1)"
   ]
  },
  {
   "cell_type": "markdown",
   "id": "55fd4e28",
   "metadata": {},
   "source": [
    "**IMPORTANTE:** además de escalares (como en el ejemplo anterior) la función verifica puede manejar listas (vectores) o arreglos bidimensionales (matrices)."
   ]
  },
  {
   "cell_type": "markdown",
   "id": "8d883448",
   "metadata": {},
   "source": [
    "---\n",
    "<a name='ej-2'></a>\n",
    "#### **<font color=\"DodgerBlue\">Ejercicio 2. Evaluación automatizada *MACTI*.</font>**\n",
    "\n",
    "<font color=\"DarkBlue\">Siguiendo los paso descritos previamente, genera un *notebook* que contenga al menos una celda que sea evaluada de manera automatica haciendo uso de *MACTI*.</font>\n",
    "\n",
    "---"
   ]
  }
 ],
 "metadata": {
  "kernelspec": {
   "display_name": "Python 3 (ipykernel)",
   "language": "python",
   "name": "python3"
  },
  "language_info": {
   "codemirror_mode": {
    "name": "ipython",
    "version": 3
   },
   "file_extension": ".py",
   "mimetype": "text/x-python",
   "name": "python",
   "nbconvert_exporter": "python",
   "pygments_lexer": "ipython3",
   "version": "3.8.10"
  }
 },
 "nbformat": 4,
 "nbformat_minor": 5
}
