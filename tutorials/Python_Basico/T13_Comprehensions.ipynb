{
 "cells": [
  {
   "cell_type": "markdown",
   "metadata": {},
   "source": [
    "# Estructuras de datos concisas.\n",
    "\n",
    "**Objetivo.**\n",
    "...\n",
    "\n",
    "**Funciones de Python**:\n",
    "...\n",
    "\n",
    " <p xmlns:cc=\"http://creativecommons.org/ns#\" xmlns:dct=\"http://purl.org/dc/terms/\"><a property=\"dct:title\" rel=\"cc:attributionURL\" href=\"https://github.com/repomacti/macti/tree/main/notebooks/Algebra_Lineal_01\">MACTI-Algebra_Lineal_01</a> by <a rel=\"cc:attributionURL dct:creator\" property=\"cc:attributionName\" href=\"https://www.macti.unam.mx\">Luis M. de la Cruz</a> is licensed under <a href=\"http://creativecommons.org/licenses/by-sa/4.0/?ref=chooser-v1\" target=\"_blank\" rel=\"license noopener noreferrer\" style=\"display:inline-block;\">Attribution-ShareAlike 4.0 International<img style=\"height:22px!important;margin-left:3px;vertical-align:text-bottom;\" src=\"https://mirrors.creativecommons.org/presskit/icons/cc.svg?ref=chooser-v1\"><img style=\"height:22px!important;margin-left:3px;vertical-align:text-bottom;\" src=\"https://mirrors.creativecommons.org/presskit/icons/by.svg?ref=chooser-v1\"><img style=\"height:22px!important;margin-left:3px;vertical-align:text-bottom;\" src=\"https://mirrors.creativecommons.org/presskit/icons/sa.svg?ref=chooser-v1\"></a></p> "
   ]
  },
  {
   "cell_type": "markdown",
   "metadata": {},
   "source": [
    "# Listas concisas\n",
    "\n",
    "En matemáticas podemos definir un conjunto como sigue: <br>\n",
    "\n",
    "$$S = \\{x^2 : x \\in (0, 1, 2, \\dots, 9)\\} = \\{0, 1, 4, \\dots, 81\\}$$\n",
    "\n",
    "En Python es posible crear este conjunto usando lo que conoce como  *list comprehensions* (generación corta de listas) como sigue: "
   ]
  },
  {
   "cell_type": "code",
   "execution_count": 2,
   "metadata": {},
   "outputs": [
    {
     "name": "stdout",
     "output_type": "stream",
     "text": [
      "[0, 1, 4, 9, 16, 25, 36, 49, 64, 81]\n"
     ]
    }
   ],
   "source": [
    "S = [x**2 for x in range(10)]\n",
    "print(S)"
   ]
  },
  {
   "cell_type": "markdown",
   "metadata": {},
   "source": [
    "Las listas concisas son usadas para construir listas de una manera muy concisa, natural y fácil, como lo hace un matemático. La forma precisa de construir listas concisas es como sigue:\n",
    "\n",
    "```python\n",
    "[ expresion for i in S if predicado ]\n",
    "```\n",
    "\n",
    "Donde `expresion` es una expresión que se va a aplicar a cada elemento `i` de la secuencia `S`; opcionalmente, es posible aplicar el `predicado` antes de aplicar la `expresion` a cada elemento `i`.\n",
    "\n",
    "\n"
   ]
  },
  {
   "cell_type": "markdown",
   "metadata": {},
   "source": [
    "<div class=\"alert alert-info\">\n",
    "\n",
    "## **Ejemplo 1.**\n",
    "\n",
    "<font color=\"Black\">\n",
    "    \n",
    "Usando listas concisas, crear el siguiente conjunto:\n",
    "\n",
    "$$\n",
    "M = \\{\\sqrt{x} : x \\in (1,2,3,4,5,6,7,8,9,10) \\;\\; \\text{y} \\;\\; x \\;\\; \\text{es par}\\} = \\{ \\sqrt{2}, \\sqrt{4}, \\sqrt{6}, \\sqrt{8}, \\sqrt{10}) \\}\n",
    "$$\n",
    "\n",
    "</font>\n",
    "\n",
    "</div>"
   ]
  },
  {
   "cell_type": "code",
   "execution_count": 8,
   "metadata": {},
   "outputs": [
    {
     "name": "stdout",
     "output_type": "stream",
     "text": [
      "[1.4142135623730951, 2.0, 2.449489742783178, 2.8284271247461903, 3.1622776601683795]\n"
     ]
    }
   ],
   "source": [
    "from math import sqrt\n",
    "\n",
    "M = [sqrt(x) for x in range(2,11) if x%2 == 0]\n",
    "print(M)"
   ]
  },
  {
   "cell_type": "markdown",
   "metadata": {},
   "source": [
    "En el ejemplo anterior se distingue lo siguiente:\n",
    "\n",
    "1. La secuencia de entrada: `range(2,11)` (`[2, 3, 4, 5, 6, 7, 8, 9, 10]`).\n",
    "\n",
    "2. La etiqueta `i` que representa los miembros de la secuencia de entrada.\n",
    "\n",
    "3. La expresión de predicado: `if x % 2 == 0`.\n",
    "    \n",
    "4. La expresión de salida `sqrt(x)` que produce los elementos de la lista resultado, los cuales provienen de los miembros de la secuencia de entrada que satisfacen el predicado."
   ]
  },
  {
   "cell_type": "markdown",
   "metadata": {},
   "source": [
    "<div class=\"alert alert-info\">\n",
    "\n",
    "## **Ejemplo 2.**\n",
    "\n",
    "<font color=\"Black\">\n",
    "    \n",
    "Obtener todos los enteros de la siguiente lista, elevarlos al cuadrado y poner el resultado en una lista:<br>\n",
    "\n",
    "```python\n",
    "    lista = [1,'4',9,'luiggi',0,4,('mike','dela+')]\n",
    "```\n",
    "</font>\n",
    "\n",
    "</div>"
   ]
  },
  {
   "cell_type": "code",
   "execution_count": 14,
   "metadata": {},
   "outputs": [],
   "source": [
    "lista = [1,'4',9,'luiggi',0,4,('mike','dela+')]"
   ]
  },
  {
   "cell_type": "code",
   "execution_count": 16,
   "metadata": {},
   "outputs": [
    {
     "name": "stdout",
     "output_type": "stream",
     "text": [
      "[1, 81, 0, 16]\n"
     ]
    }
   ],
   "source": [
    "resultado = [x**2 for x in lista if isinstance(x, int)]\n",
    "print( resultado )"
   ]
  },
  {
   "cell_type": "markdown",
   "metadata": {},
   "source": [
    "<div class=\"alert alert-info\">\n",
    "\n",
    "## **Ejemplo 3.**\n",
    "\n",
    "<font color=\"Black\">\n",
    "    \n",
    "Crear la siguiente lista:\n",
    "$$V = (2^0,2^1,2^2, \\dots, 2^{12}) = (1, 2, 4, 8, \\dots, 4096) $$\n",
    "\n",
    "</font>\n",
    "\n",
    "</div>\n"
   ]
  },
  {
   "cell_type": "code",
   "execution_count": 62,
   "metadata": {},
   "outputs": [
    {
     "data": {
      "text/plain": [
       "[1, 2, 4, 8, 16, 32, 64, 128, 256, 512, 1024, 2048, 4096]"
      ]
     },
     "execution_count": 62,
     "metadata": {},
     "output_type": "execute_result"
    }
   ],
   "source": [
    "[2**x for x in range(13)]"
   ]
  },
  {
   "cell_type": "markdown",
   "metadata": {},
   "source": [
    "<div class=\"alert alert-info\">\n",
    "\n",
    "## **Ejemplo 4.**\n",
    "\n",
    "<font color=\"Black\">\n",
    "    \n",
    "Transformar grados Celsius en Fahrenheit y vieceversa.\n",
    "</font>\n",
    "\n",
    "</div>"
   ]
  },
  {
   "cell_type": "markdown",
   "metadata": {},
   "source": [
    "**Celsius $\\to$ Fahrenheit**"
   ]
  },
  {
   "cell_type": "code",
   "execution_count": 66,
   "metadata": {},
   "outputs": [
    {
     "name": "stdout",
     "output_type": "stream",
     "text": [
      "[32.0, 72.5, 104.0, 212.0]\n"
     ]
    }
   ],
   "source": [
    "c = [0, 22.5, 40,100]\n",
    "f = [(9/5)*t + 32 for t in c]\n",
    "print(f)"
   ]
  },
  {
   "cell_type": "markdown",
   "metadata": {},
   "source": [
    "**Fahrenheit $\\to$ Celsius**"
   ]
  },
  {
   "cell_type": "code",
   "execution_count": 68,
   "metadata": {},
   "outputs": [
    {
     "name": "stdout",
     "output_type": "stream",
     "text": [
      "[0.0, 22.5, 40.0, 100.0]\n"
     ]
    }
   ],
   "source": [
    "cn = [(5/9)*(t - 32) for t in f]\n",
    "print(cn)"
   ]
  },
  {
   "cell_type": "markdown",
   "metadata": {},
   "source": [
    "Observa que en ambos ejemplos la expresión es la fórmula de conversión entre grados."
   ]
  },
  {
   "cell_type": "markdown",
   "metadata": {},
   "source": [
    "# Anidado de listas concisas."
   ]
  },
  {
   "cell_type": "markdown",
   "metadata": {},
   "source": [
    "<div class=\"alert alert-info\">\n",
    "\n",
    "## **Ejemplo 5.**\n",
    "\n",
    "<font color=\"Black\">\n",
    "    \n",
    "Crear la siguiente lista:\n",
    "\n",
    "$$M = \\{\\sqrt{x} \\, |\\, x \\in S \\text{ y } x \\text{ impar }\\}$$\n",
    "\n",
    "con \n",
    "\n",
    "$$S = \\{x^2 : x \\in (0 \\dots 9)\\} = \\{0, 1, 4, \\dots, 81\\}$$\n",
    "\n",
    "</font>\n",
    "\n",
    "</div>"
   ]
  },
  {
   "cell_type": "markdown",
   "metadata": {},
   "source": [
    "Este ejemplo se puede realizar como sigue:"
   ]
  },
  {
   "cell_type": "code",
   "execution_count": 33,
   "metadata": {},
   "outputs": [
    {
     "name": "stdout",
     "output_type": "stream",
     "text": [
      "S = [0, 1, 4, 9, 16, 25, 36, 49, 64, 81]\n",
      "M = [1.0, 3.0, 5.0, 7.0, 9.0]\n"
     ]
    }
   ],
   "source": [
    "S = [x**2 for x in range(0,10)]\n",
    "M = [sqrt(x) for x in S if x%2]\n",
    "print('S = {}'.format(S))\n",
    "print('M = {}'.format(M))"
   ]
  },
  {
   "cell_type": "markdown",
   "metadata": {},
   "source": [
    "Sin embargo, es posible anidar las listas concisas como sigue:"
   ]
  },
  {
   "cell_type": "code",
   "execution_count": 34,
   "metadata": {},
   "outputs": [
    {
     "name": "stdout",
     "output_type": "stream",
     "text": [
      "M = [1.0, 3.0, 5.0, 7.0, 9.0]\n"
     ]
    }
   ],
   "source": [
    "M = [sqrt(x) for x in [x**2 for x in range(0,10)] if x%2]\n",
    "print('M = {}'.format(M))"
   ]
  },
  {
   "cell_type": "markdown",
   "metadata": {},
   "source": [
    "\n",
    "<div class=\"alert alert-info\">\n",
    "\n",
    "## **Ejemplo 6.**\n",
    "\n",
    "<font color=\"Black\">\n",
    "\n",
    "Sea una matriz identidad de tamaño $n \\times n$ :<br>\n",
    "\n",
    "$$\n",
    "\\left[\n",
    "\\begin{matrix}\n",
    "1 & 0 & 0 & \\dots & 0 \\\\\n",
    "0 & 1 & 0 & \\dots & 0 \\\\\n",
    "0 & 0 & 1 & \\dots & 0 \\\\\n",
    "\\vdots&\\vdots&\\vdots&\\ddots&\\vdots \\\\\n",
    "0 & 0 & 0 & \\dots & 1 \\\\\n",
    "\\end{matrix}\n",
    "\\right]\n",
    "$$\n",
    "\n",
    "En Python esta matriz se puede representar por la siguiente lista: <br>\n",
    "\n",
    "```python\n",
    "[[1,0,0, ... , 0],\n",
    " [0,1,0, ... , 0],\n",
    " [0,0,1, ... , 0],\n",
    " ................,     \n",
    " [0,0,0, ... , 1]]\n",
    "```\n",
    "\n",
    "- Usando *list comprehensions* anidados se puede obtener dicha lista: <br>\n",
    "\n",
    "</font>\n",
    "\n",
    "</div>"
   ]
  },
  {
   "cell_type": "code",
   "execution_count": 37,
   "metadata": {},
   "outputs": [
    {
     "data": {
      "text/plain": [
       "[[1, 0, 0, 0, 0, 0, 0, 0],\n",
       " [0, 1, 0, 0, 0, 0, 0, 0],\n",
       " [0, 0, 1, 0, 0, 0, 0, 0],\n",
       " [0, 0, 0, 1, 0, 0, 0, 0],\n",
       " [0, 0, 0, 0, 1, 0, 0, 0],\n",
       " [0, 0, 0, 0, 0, 1, 0, 0],\n",
       " [0, 0, 0, 0, 0, 0, 1, 0],\n",
       " [0, 0, 0, 0, 0, 0, 0, 1]]"
      ]
     },
     "execution_count": 37,
     "metadata": {},
     "output_type": "execute_result"
    }
   ],
   "source": [
    "n = 8\n",
    "[[1 if col == row else 0 for col in range(0,n)] for row in range(0,n)]"
   ]
  },
  {
   "cell_type": "markdown",
   "metadata": {},
   "source": [
    "Observa que en este caso la expresión de salida es una lista concisa: <br> \n",
    "`[1 if col == row else 0 for col in range(0,n)]` .\n",
    "\n",
    "Además, la expresión de salida de esta última lista concisa es el operador ternario:\n",
    "`1 if col == row else 0`"
   ]
  },
  {
   "cell_type": "markdown",
   "metadata": {},
   "source": [
    "<div class=\"alert alert-info\">\n",
    "\n",
    "## **Ejemplo 7.**\n",
    "\n",
    "<font color=\"Black\">\n",
    "    \n",
    "Calcular números primos en el rango `[2,50]`.\n",
    "</font>\n",
    "\n",
    "</div>\n"
   ]
  },
  {
   "cell_type": "markdown",
   "metadata": {},
   "source": [
    "En este ejercicio se usa el algoritmo conocido como criba de Eratóstenes. Primero se encuentran todos aquellos números que tengan algún múltiplo. En este caso solo vamos a buscar en el intervalo $[2,50]$. \n",
    "\n",
    "La siguiente lista concisa calcula los múltiplos de `i` (prueba cambiando el valor de `i` a $2,3,4,5,6,7$) y observa el resultado."
   ]
  },
  {
   "cell_type": "code",
   "execution_count": 51,
   "metadata": {},
   "outputs": [
    {
     "data": {
      "text/plain": [
       "[8, 12, 16, 20, 24, 28, 32, 36, 40, 44, 48]"
      ]
     },
     "execution_count": 51,
     "metadata": {},
     "output_type": "execute_result"
    }
   ],
   "source": [
    "i = 4\n",
    "[j for j in range(i*2, 50, i)]"
   ]
  },
  {
   "cell_type": "markdown",
   "metadata": {},
   "source": [
    "Ahora, para cambiar el valor de `i` a $2,3,4,5,6,7$ con una lista concisa se puede hacer lo siguiente:"
   ]
  },
  {
   "cell_type": "code",
   "execution_count": 52,
   "metadata": {},
   "outputs": [
    {
     "data": {
      "text/plain": [
       "[2, 3, 4, 5, 6, 7]"
      ]
     },
     "execution_count": 52,
     "metadata": {},
     "output_type": "execute_result"
    }
   ],
   "source": [
    "[i for i in range(2,8)]"
   ]
  },
  {
   "cell_type": "markdown",
   "metadata": {},
   "source": [
    "Usando las dos listas concisas creadas antes, generamos todos aquellos números en el intervalo $[2,50]$ que tienen al menos un múltiplo (y que por lo tanto no son primos)"
   ]
  },
  {
   "cell_type": "code",
   "execution_count": 54,
   "metadata": {},
   "outputs": [
    {
     "name": "stdout",
     "output_type": "stream",
     "text": [
      "NO primos: \n",
      "[4, 6, 8, 10, 12, 14, 16, 18, 20, 22, 24, 26, 28, 30, 32, 34, 36, 38, 40, 42, 44, 46, 48, 6, 9, 12, 15, 18, 21, 24, 27, 30, 33, 36, 39, 42, 45, 48, 8, 12, 16, 20, 24, 28, 32, 36, 40, 44, 48, 10, 15, 20, 25, 30, 35, 40, 45, 12, 18, 24, 30, 36, 42, 48, 14, 21, 28, 35, 42, 49]\n"
     ]
    }
   ],
   "source": [
    "noprimos = [j for i in range(2,8) for j in range(i*2, 50, i)]\n",
    "print('NO primos: \\n{}'.format(noprimos))"
   ]
  },
  {
   "cell_type": "markdown",
   "metadata": {},
   "source": [
    "Para encontrar los primos usamos una lista concisa verificando los números que faltan en la lista de `noprimos`, esos serán los números primos que estamos buscando:"
   ]
  },
  {
   "cell_type": "code",
   "execution_count": 56,
   "metadata": {},
   "outputs": [
    {
     "name": "stdout",
     "output_type": "stream",
     "text": [
      "Primos: \n",
      "[2, 3, 5, 7, 11, 13, 17, 19, 23, 29, 31, 37, 41, 43, 47]\n"
     ]
    }
   ],
   "source": [
    "primos = [x for x in range(2,50) if x not in noprimos]\n",
    "print('Primos: \\n{}'.format(primos))"
   ]
  },
  {
   "cell_type": "markdown",
   "metadata": {},
   "source": [
    "**Juntando todo**:"
   ]
  },
  {
   "cell_type": "code",
   "execution_count": 57,
   "metadata": {},
   "outputs": [
    {
     "data": {
      "text/plain": [
       "[2, 3, 5, 7, 11, 13, 17, 19, 23, 29, 31, 37, 41, 43, 47]"
      ]
     },
     "execution_count": 57,
     "metadata": {},
     "output_type": "execute_result"
    }
   ],
   "source": [
    "[x for x in range(2,50) if x not in [j for i in range(2,8) for j in range(i*2, 50, i)]]"
   ]
  },
  {
   "cell_type": "markdown",
   "metadata": {},
   "source": [
    "## Listas concisas con elementos no numéricos.\n",
    "Las listas también pueden contener otro tipo de elementos, no solo números. Por ejemplo:"
   ]
  },
  {
   "cell_type": "code",
   "execution_count": 58,
   "metadata": {},
   "outputs": [],
   "source": [
    "mensaje = 'La vida no es la que uno vivió, sino la que uno recuerda'"
   ]
  },
  {
   "cell_type": "code",
   "execution_count": 59,
   "metadata": {},
   "outputs": [
    {
     "name": "stdout",
     "output_type": "stream",
     "text": [
      "La vida no es la que uno vivió, sino la que uno recuerda\n"
     ]
    }
   ],
   "source": [
    "print(mensaje)"
   ]
  },
  {
   "cell_type": "code",
   "execution_count": 60,
   "metadata": {},
   "outputs": [
    {
     "name": "stdout",
     "output_type": "stream",
     "text": [
      "['La', 'vida', 'no', 'es', 'la', 'que', 'uno', 'vivió,', 'sino', 'la', 'que', 'uno', 'recuerda']"
     ]
    }
   ],
   "source": [
    "palabras = mensaje.split()\n",
    "print(palabras,end='')"
   ]
  },
  {
   "cell_type": "markdown",
   "metadata": {},
   "source": [
    "Vamos a crear una lista cuyos elementos contienen cada palabra de la lista anterior en mayúsculas, en forma de título y su longitud, estos tres elementos agregados en una tupla:"
   ]
  },
  {
   "cell_type": "code",
   "execution_count": 61,
   "metadata": {},
   "outputs": [
    {
     "name": "stdout",
     "output_type": "stream",
     "text": [
      "[('LA', 'La', 2), ('VIDA', 'Vida', 4), ('NO', 'No', 2), ('ES', 'Es', 2), ('LA', 'La', 2), ('QUE', 'Que', 3), ('UNO', 'Uno', 3), ('VIVIÓ,', 'Vivió,', 6), ('SINO', 'Sino', 4), ('LA', 'La', 2), ('QUE', 'Que', 3), ('UNO', 'Uno', 3), ('RECUERDA', 'Recuerda', 8)]\n"
     ]
    }
   ],
   "source": [
    "tabla = [(w.upper(), w.title(), len(w)) for w in palabras]\n",
    "print(tabla)"
   ]
  },
  {
   "cell_type": "markdown",
   "metadata": {},
   "source": [
    "# Conjuntos concisos\n",
    "\n",
    "Al igual que las listas concisas, también es posible crear conjuntos usando los mismos principios , la única diferencia es que la secuencia que resulta es un objeto de tipo`set`. <br>\n",
    "\n",
    "**Definición**.\n",
    "\n",
    "```python\n",
    "{expression(variable) for variable in input_set [predicate][, …]}\n",
    "```\n",
    "\n",
    "1. `expression` : Es una expresión **opcional** de salida que produce los miembros del nuevo conjunto a partir de los miembros del conjunto de entrada que satisfacen el `predicate`. <br>\n",
    "\n",
    "2. `variable` : Es una variable **requerida** que representa los miembros del conjunto de entrada. <br>\n",
    "\n",
    "3. `input_set`: Representa la secuencia de entrada. (**requerido**). <br>\n",
    "\n",
    "4. `predicate` : Expresión **opcional** que actúa como un filtro sobre los miembros del conjunto de entrada. <br>\n",
    "\n",
    "5. `[, …]]` : Otra *comprehension* anidada **opcional**.\n"
   ]
  },
  {
   "cell_type": "markdown",
   "metadata": {},
   "source": [
    "<div class=\"alert alert-info\">\n",
    "\n",
    "## **Ejemplo 8.**\n",
    "\n",
    "<font color=\"Black\">\n",
    "    \n",
    "Supongamos que deseamos organizar una lista de nombres de tal manera que no haya repeticiones, que los nombres tengan más de un caracter y que su representación sea con la primera letra mayúscula y las demás minúsculas. Por ejemplo, una lista aceptable sería:\n",
    "\n",
    "```python\n",
    "nombres = ['Luis', 'Juan', 'Angie', 'Pedro', 'María', 'Diana']\n",
    "```\n",
    "\n",
    "Leer una lista de nombres del archivo `nombres` y procesarlos para obtener una lista similar a la descrita. \n",
    "</font>\n",
    "\n",
    "</div>"
   ]
  },
  {
   "cell_type": "code",
   "execution_count": 76,
   "metadata": {},
   "outputs": [
    {
     "name": "stdout",
     "output_type": "stream",
     "text": [
      "['A', 'LuCas', 'Sidronio', 'Michelle', 'a', 'ANGIE', 'Luis', 'lucas', 'MICHelle', 'PedrO', 'PEPE', 'Manu', 'luis', 'diana', 'sidronio', 'pepe', 'a', 'a', 'b']\n"
     ]
    }
   ],
   "source": [
    "# Abrimos el archivo en modo lectura\n",
    "archivo = open('nombres','r')\n",
    "\n",
    "# Leemos la lista de nombres y los ponemos en una lista\n",
    "lista_nombres = archivo.read().split()\n",
    "\n",
    "# Vemos la lista de nombres\n",
    "print(lista_nombres)"
   ]
  },
  {
   "cell_type": "code",
   "execution_count": 80,
   "metadata": {},
   "outputs": [
    {
     "name": "stdout",
     "output_type": "stream",
     "text": [
      "{'Pepe', 'Lucas', 'Angie', 'Sidronio', 'Pedro', 'Manu', 'Luis', 'Diana', 'Michelle'}\n"
     ]
    }
   ],
   "source": [
    "# Procesamos las palabras como se requiere\n",
    "nombres_set = {nombre[0].upper() + nombre[1:].lower() \n",
    "                     for nombre in lista_nombres \n",
    "                     if len(nombre) > 1 }\n",
    "print(nombres_set)"
   ]
  },
  {
   "cell_type": "code",
   "execution_count": 81,
   "metadata": {},
   "outputs": [
    {
     "name": "stdout",
     "output_type": "stream",
     "text": [
      "['Pepe', 'Lucas', 'Angie', 'Sidronio', 'Pedro', 'Manu', 'Luis', 'Diana', 'Michelle']\n"
     ]
    }
   ],
   "source": [
    "# Transformamos el conjunto a una lista\n",
    "nombres = list(nombres_set)\n",
    "print(nombres)"
   ]
  },
  {
   "cell_type": "markdown",
   "metadata": {},
   "source": [
    "<div class=\"alert alert-info\">\n",
    "\n",
    "## **Ejemplo 9.**\n",
    "\n",
    "<font color=\"Black\">\n",
    "    \n",
    "Observa los siguientes ejemplos de conjuntos concisos y explica su funcionamiento.\n",
    "</font>\n",
    "\n",
    "</div>\n"
   ]
  },
  {
   "cell_type": "code",
   "execution_count": 82,
   "metadata": {},
   "outputs": [
    {
     "data": {
      "text/plain": [
       "{0, 1, 2}"
      ]
     },
     "execution_count": 82,
     "metadata": {},
     "output_type": "execute_result"
    }
   ],
   "source": [
    "{s for s in [1, 2, 1, 0]}"
   ]
  },
  {
   "cell_type": "code",
   "execution_count": 83,
   "metadata": {},
   "outputs": [
    {
     "data": {
      "text/plain": [
       "{0, 1, 4}"
      ]
     },
     "execution_count": 83,
     "metadata": {},
     "output_type": "execute_result"
    }
   ],
   "source": [
    "{s**2 for s in [1, 2, 1, 0]}"
   ]
  },
  {
   "cell_type": "code",
   "execution_count": 84,
   "metadata": {},
   "outputs": [
    {
     "data": {
      "text/plain": [
       "{0, 1, 4, 9, 16, 25, 36, 49, 64, 81}"
      ]
     },
     "execution_count": 84,
     "metadata": {},
     "output_type": "execute_result"
    }
   ],
   "source": [
    "{s**2 for s in range(10)}"
   ]
  },
  {
   "cell_type": "code",
   "execution_count": 85,
   "metadata": {},
   "outputs": [
    {
     "data": {
      "text/plain": [
       "{1, 3, 5, 7, 9}"
      ]
     },
     "execution_count": 85,
     "metadata": {},
     "output_type": "execute_result"
    }
   ],
   "source": [
    "{s for s in range(10) if s % 2}"
   ]
  },
  {
   "cell_type": "code",
   "execution_count": 86,
   "metadata": {},
   "outputs": [
    {
     "data": {
      "text/plain": [
       "{(3, 0), (3, 1), (4, 0), (4, 1)}"
      ]
     },
     "execution_count": 86,
     "metadata": {},
     "output_type": "execute_result"
    }
   ],
   "source": [
    "{(m, n) for n in range(2) for m in range(3, 5)}"
   ]
  },
  {
   "cell_type": "markdown",
   "metadata": {},
   "source": [
    "# Diccionarios concisos\n",
    "\n",
    "- Es un método para transformar un diccionario en otro diccionario. <br>\n",
    "\n",
    "- Durante esta transformación, los objetos dentro del diccionario original pueden ser incluidos o no en el nuevo diccionario dependiendo de una condición. <br>\n",
    "\n",
    "- Cada objeto en el nuevo diccionario puede ser transformado como sea requerido. <br>\n",
    "\n",
    "**Definición**.\n",
    "\n",
    "```python\n",
    "{key:value for (key,value) in dictonary.items()}\n",
    "```"
   ]
  },
  {
   "cell_type": "markdown",
   "metadata": {},
   "source": [
    "<div class=\"alert alert-info\">\n",
    "\n",
    "## **Ejemplo 9.**\n",
    "\n",
    "<font color=\"Black\">\n",
    "    \n",
    "Duplicar el valor (*value*) de cada entrada (*item*) de un diccionario:</font>\n",
    "</font>\n",
    "</div>\n"
   ]
  },
  {
   "cell_type": "markdown",
   "metadata": {},
   "source": [
    "Recuerda como funcionan los diccionarios:"
   ]
  },
  {
   "cell_type": "code",
   "execution_count": 93,
   "metadata": {},
   "outputs": [
    {
     "name": "stdout",
     "output_type": "stream",
     "text": [
      "dict_keys(['a', 'b', 'c', 'd'])\n",
      "dict_values([1, 2, 3, 4])\n",
      "dict_items([('a', 1), ('b', 2), ('c', 3), ('d', 4)])\n"
     ]
    }
   ],
   "source": [
    "dicc = {'a': 1, 'b': 2, 'c': 3, 'd': 4}\n",
    "print(dicc.keys())   # Función para obtener las claves\n",
    "print(dicc.values()) # Función para obtener los valores\n",
    "print(dicc.items())  # Función para obtener los items"
   ]
  },
  {
   "cell_type": "markdown",
   "metadata": {},
   "source": [
    "Para crear el diccionario del ejemplo hacemos lo siguiente:"
   ]
  },
  {
   "cell_type": "code",
   "execution_count": 94,
   "metadata": {},
   "outputs": [
    {
     "name": "stdout",
     "output_type": "stream",
     "text": [
      "{'a': 1, 'b': 2, 'c': 3, 'd': 4, 'e': 5}\n",
      "{'a': 2, 'b': 4, 'c': 6, 'd': 8, 'e': 10}\n"
     ]
    }
   ],
   "source": [
    "# Definición del diccionario\n",
    "dicc = {'a': 1, 'b': 2, 'c': 3, 'd': 4, 'e': 5}\n",
    "\n",
    "# Duplicación de los valores del diccionario\n",
    "dicc_doble = {k:v*2 for (k,v) in dicc.items()}\n",
    "\n",
    "# Mostramos el resultado\n",
    "print(dicc)\n",
    "print(dicc_doble)"
   ]
  },
  {
   "cell_type": "markdown",
   "metadata": {},
   "source": [
    "<div class=\"alert alert-info\">\n",
    "\n",
    "## **Ejemplo 10.**\n",
    "\n",
    "<font color=\"Black\">\n",
    "    \n",
    "Duplicar la clave (*key*) de cada entrada (*item*) del diccionario:\n",
    "</font>\n",
    "</div>\n"
   ]
  },
  {
   "cell_type": "code",
   "execution_count": 95,
   "metadata": {},
   "outputs": [
    {
     "name": "stdout",
     "output_type": "stream",
     "text": [
      "{'aa': 1, 'bb': 2, 'cc': 3, 'dd': 4}\n"
     ]
    }
   ],
   "source": [
    "dict1_keys = {k*2:v for (k,v) in dict1.items()}\n",
    "print(dict1_keys)"
   ]
  },
  {
   "cell_type": "markdown",
   "metadata": {},
   "source": [
    "<div class=\"alert alert-info\">\n",
    "\n",
    "## **Ejemplo 11.**\n",
    "\n",
    "<font color=\"Black\">\n",
    "    \n",
    "Crear un diccionario donde la clave sea un número divisible por 2 en un rango de 0 a 10 y sus valores sean el cuadrado de la clave.\n",
    "</font>\n",
    "</div>\n"
   ]
  },
  {
   "cell_type": "code",
   "execution_count": 96,
   "metadata": {},
   "outputs": [
    {
     "name": "stdout",
     "output_type": "stream",
     "text": [
      "{0: 0, 2: 4, 4: 16, 6: 36, 8: 64, 10: 100}\n"
     ]
    }
   ],
   "source": [
    "# La forma tradicional\n",
    "numeros = range(11)\n",
    "dicc = {}\n",
    "\n",
    "for n in numeros:\n",
    "    if n%2==0:\n",
    "        dicc[n] = n**2\n",
    "\n",
    "print(dicc)"
   ]
  },
  {
   "cell_type": "code",
   "execution_count": 97,
   "metadata": {},
   "outputs": [
    {
     "name": "stdout",
     "output_type": "stream",
     "text": [
      "{0: 0, 2: 4, 4: 16, 6: 36, 8: 64, 10: 100}\n"
     ]
    }
   ],
   "source": [
    "# Usando dict comprehensions\n",
    "dicc_smart = {n:n**2 for n in numeros if n%2 == 0}\n",
    "\n",
    "print(dicc_smart)"
   ]
  },
  {
   "cell_type": "markdown",
   "metadata": {},
   "source": [
    "<div class=\"alert alert-info\">\n",
    "\n",
    "## **Ejemplo 12.**\n",
    "\n",
    "<font color=\"Black\">\n",
    "    \n",
    "Intercambiar las claves y los valores en un diccionario.\n",
    "</font>\n",
    "</div>\n"
   ]
  },
  {
   "cell_type": "code",
   "execution_count": 98,
   "metadata": {},
   "outputs": [
    {
     "data": {
      "text/plain": [
       "{1: 'a', 2: 'b', 3: 'c'}"
      ]
     },
     "execution_count": 98,
     "metadata": {},
     "output_type": "execute_result"
    }
   ],
   "source": [
    "a_dict = {'a': 1, 'b': 2, 'c': 3}\n",
    "{value:key for key, value in a_dict.items()}"
   ]
  },
  {
   "cell_type": "code",
   "execution_count": 99,
   "metadata": {},
   "outputs": [
    {
     "ename": "TypeError",
     "evalue": "unhashable type: 'list'",
     "output_type": "error",
     "traceback": [
      "\u001b[0;31m---------------------------------------------------------------------------\u001b[0m",
      "\u001b[0;31mTypeError\u001b[0m                                 Traceback (most recent call last)",
      "Cell \u001b[0;32mIn[99], line 3\u001b[0m\n\u001b[1;32m      1\u001b[0m \u001b[38;5;66;03m# OJO: No siempre es posible hacer lo anterior.\u001b[39;00m\n\u001b[1;32m      2\u001b[0m a_dict \u001b[38;5;241m=\u001b[39m {\u001b[38;5;124m'\u001b[39m\u001b[38;5;124ma\u001b[39m\u001b[38;5;124m'\u001b[39m: [\u001b[38;5;241m1\u001b[39m, \u001b[38;5;241m2\u001b[39m, \u001b[38;5;241m3\u001b[39m], \u001b[38;5;124m'\u001b[39m\u001b[38;5;124mb\u001b[39m\u001b[38;5;124m'\u001b[39m: \u001b[38;5;241m4\u001b[39m, \u001b[38;5;124m'\u001b[39m\u001b[38;5;124mc\u001b[39m\u001b[38;5;124m'\u001b[39m: \u001b[38;5;241m5\u001b[39m}\n\u001b[0;32m----> 3\u001b[0m \u001b[43m{\u001b[49m\u001b[43mvalue\u001b[49m\u001b[43m:\u001b[49m\u001b[43mkey\u001b[49m\u001b[43m \u001b[49m\u001b[38;5;28;43;01mfor\u001b[39;49;00m\u001b[43m \u001b[49m\u001b[43mkey\u001b[49m\u001b[43m,\u001b[49m\u001b[43m \u001b[49m\u001b[43mvalue\u001b[49m\u001b[43m \u001b[49m\u001b[38;5;129;43;01min\u001b[39;49;00m\u001b[43m \u001b[49m\u001b[43ma_dict\u001b[49m\u001b[38;5;241;43m.\u001b[39;49m\u001b[43mitems\u001b[49m\u001b[43m(\u001b[49m\u001b[43m)\u001b[49m\u001b[43m}\u001b[49m\n",
      "Cell \u001b[0;32mIn[99], line 3\u001b[0m, in \u001b[0;36m<dictcomp>\u001b[0;34m(.0)\u001b[0m\n\u001b[1;32m      1\u001b[0m \u001b[38;5;66;03m# OJO: No siempre es posible hacer lo anterior.\u001b[39;00m\n\u001b[1;32m      2\u001b[0m a_dict \u001b[38;5;241m=\u001b[39m {\u001b[38;5;124m'\u001b[39m\u001b[38;5;124ma\u001b[39m\u001b[38;5;124m'\u001b[39m: [\u001b[38;5;241m1\u001b[39m, \u001b[38;5;241m2\u001b[39m, \u001b[38;5;241m3\u001b[39m], \u001b[38;5;124m'\u001b[39m\u001b[38;5;124mb\u001b[39m\u001b[38;5;124m'\u001b[39m: \u001b[38;5;241m4\u001b[39m, \u001b[38;5;124m'\u001b[39m\u001b[38;5;124mc\u001b[39m\u001b[38;5;124m'\u001b[39m: \u001b[38;5;241m5\u001b[39m}\n\u001b[0;32m----> 3\u001b[0m {value:key \u001b[38;5;28;01mfor\u001b[39;00m key, value \u001b[38;5;129;01min\u001b[39;00m a_dict\u001b[38;5;241m.\u001b[39mitems()}\n",
      "\u001b[0;31mTypeError\u001b[0m: unhashable type: 'list'"
     ]
    }
   ],
   "source": [
    "# OJO: No siempre es posible hacer lo anterior.\n",
    "a_dict = {'a': [1, 2, 3], 'b': 4, 'c': 5}\n",
    "{value:key for key, value in a_dict.items()}"
   ]
  },
  {
   "cell_type": "markdown",
   "metadata": {},
   "source": [
    "<div class=\"alert alert-info\">\n",
    "\n",
    "## **Ejemplo 14.**\n",
    "\n",
    "<font color=\"Black\">\n",
    "    \n",
    "Convertir Fahrenheit a Celsius y viceversa.\n",
    "</font>\n",
    "</div>"
   ]
  },
  {
   "cell_type": "code",
   "execution_count": 100,
   "metadata": {},
   "outputs": [
    {
     "name": "stdout",
     "output_type": "stream",
     "text": [
      "{'t1': 0.0, 't2': 22.5, 't3': 40.0, 't4': 100.0}\n"
     ]
    }
   ],
   "source": [
    "# Usando map, lambda y diccionarios\n",
    "[32.0, 72.5, 104.0, 212.0]\n",
    "fahrenheit_dict = {'t1':32.0, 't2':72.5, 't3':104.0, 't4':212.0}\n",
    "\n",
    "celsius = list(map(lambda f: (5/9)*(f-32), fahrenheit_dict.values()))\n",
    "\n",
    "celsius_dict = dict(zip(fahrenheit_dict.keys(), celsius))\n",
    "\n",
    "print(celsius_dict)"
   ]
  },
  {
   "cell_type": "code",
   "execution_count": 101,
   "metadata": {},
   "outputs": [
    {
     "name": "stdout",
     "output_type": "stream",
     "text": [
      "{'t1': 0.0, 't2': 22.5, 't3': 40.0, 't4': 100.0}\n"
     ]
    }
   ],
   "source": [
    "# Usando dict comprehensions !\n",
    "celsius_smart = {k:(5/9)*(v-32) for (k,v) in fahrenheit_dict.items()}\n",
    "print(celsius_smart)"
   ]
  },
  {
   "cell_type": "markdown",
   "metadata": {},
   "source": [
    "<div class=\"alert alert-info\">\n",
    "\n",
    "## **Ejemplo 15.**\n",
    "\n",
    "<font color=\"Black\">\n",
    "    \n",
    "Dado un diccionario, cuyos valores son enteros, crear un nuevo diccionario cuyos valores sean mayores que 2.\n",
    "</font>\n",
    "</div>"
   ]
  },
  {
   "cell_type": "code",
   "execution_count": 102,
   "metadata": {},
   "outputs": [
    {
     "name": "stdout",
     "output_type": "stream",
     "text": [
      "{'a': 1, 'b': 2, 'c': 3, 'd': 4, 'e': 5, 'f': 6, 'g': 7, 'h': 8}\n",
      "{'c': 3, 'd': 4, 'e': 5, 'f': 6, 'g': 7, 'h': 8}\n"
     ]
    }
   ],
   "source": [
    "a_dict = {'a':1, 'b':2, 'c':3, 'd':4, 'e':5, 'f':6, 'g':7, 'h':8}\n",
    "print(a_dict)\n",
    "\n",
    "a_dict_cond = { k:v for (k,v) in a_dict.items() if v > 2 }\n",
    "print(a_dict_cond)"
   ]
  },
  {
   "cell_type": "markdown",
   "metadata": {},
   "source": [
    "<div class=\"alert alert-info\">\n",
    "\n",
    "## **Ejemplo 16.**\n",
    "\n",
    "<font color=\"Black\">\n",
    "    \n",
    "Dado un diccionario, cuyos valores son enteros, crear un nuevo diccionario cuyos valores sean mayores que 2 y que además sean pares.\n",
    "</font>\n",
    "</div>"
   ]
  },
  {
   "cell_type": "code",
   "execution_count": 103,
   "metadata": {},
   "outputs": [
    {
     "name": "stdout",
     "output_type": "stream",
     "text": [
      "{'d': 4, 'f': 6, 'h': 8}\n"
     ]
    }
   ],
   "source": [
    "a_dict_cond2 = { k:v for (k,v) in a_dict.items() if (v > 2) and (v % 2) == 0}\n",
    "print(a_dict_cond2)"
   ]
  },
  {
   "cell_type": "markdown",
   "metadata": {},
   "source": [
    "<div class=\"alert alert-info\">\n",
    "\n",
    "## **Ejemplo 17.**\n",
    "\n",
    "<font color=\"Black\">\n",
    "    \n",
    "Dado un diccionario, cuyos valores son enteros, crear un nuevo diccionario cuyos valores sean mayores que 2 y que además sean pares y divisibles por 3.\n",
    "\n",
    "</font>\n",
    "</div>"
   ]
  },
  {
   "cell_type": "code",
   "execution_count": 104,
   "metadata": {},
   "outputs": [
    {
     "name": "stdout",
     "output_type": "stream",
     "text": [
      "{'f': 6}\n"
     ]
    }
   ],
   "source": [
    "# La forma tradicional\n",
    "a_dict_cond3_loop = {}\n",
    "\n",
    "for (k,v) in a_dict.items():\n",
    "    if (v>=2 and v%2 == 0 and v%3 == 0):\n",
    "        a_dict_cond3_loop[k] = v\n",
    "\n",
    "print(a_dict_cond3_loop)"
   ]
  },
  {
   "cell_type": "code",
   "execution_count": 105,
   "metadata": {},
   "outputs": [
    {
     "name": "stdout",
     "output_type": "stream",
     "text": [
      "{'f': 6}\n"
     ]
    }
   ],
   "source": [
    "# Usando dict comprehensions\n",
    "a_dict_cond3 = {k:v for (k,v) in a_dict.items() if v>2 if v%2 == 0 if v%3 == 0}\n",
    "\n",
    "print(a_dict_cond3)"
   ]
  },
  {
   "cell_type": "markdown",
   "metadata": {},
   "source": [
    "<div class=\"alert alert-info\">\n",
    "\n",
    "## **Ejemplo 18.**\n",
    "\n",
    "<font color=\"Black\">\n",
    "    \n",
    "Apartir de un diccionario con valores enteros, identificar los valores pares y los impares, y sustituir los valores por etiquetas 'par' e 'impar' segun corresponda.\n",
    "</font>\n",
    "</div>"
   ]
  },
  {
   "cell_type": "code",
   "execution_count": 106,
   "metadata": {},
   "outputs": [
    {
     "name": "stdout",
     "output_type": "stream",
     "text": [
      "{'a': 1, 'b': 2, 'c': 3, 'd': 4, 'e': 5, 'f': 6, 'g': 7, 'h': 8}\n",
      "{'a': 'impar', 'b': 'par', 'c': 'impar', 'd': 'par', 'e': 'impar', 'f': 'par', 'g': 'impar', 'h': 'par'}\n"
     ]
    }
   ],
   "source": [
    "print(a_dict)\n",
    "a_dict_else = { k:('par' if v%2==0 else 'impar') for (k,v) in a_dict.items()}\n",
    "print(a_dict_else)"
   ]
  },
  {
   "cell_type": "markdown",
   "metadata": {},
   "source": [
    "<div class=\"alert alert-info\">\n",
    "\n",
    "## **Ejemplo 19.**\n",
    "\n",
    "<font color=\"Black\">\n",
    "    \n",
    "Crear un diccionaro cuyos valores sean diccionarios.\n",
    "</font>\n",
    "</div>\n"
   ]
  },
  {
   "cell_type": "code",
   "execution_count": 109,
   "metadata": {},
   "outputs": [
    {
     "name": "stdout",
     "output_type": "stream",
     "text": [
      "{'primero': {'a': 3.1415}, 'segundo': {'b': 6.283}, 'tercero': {'c': 9.4245}}\n"
     ]
    }
   ],
   "source": [
    "# con dict comprehensions\n",
    "anidado = {'primero':{'a':1}, 'segundo':{'b':2}, 'tercero':{'c':3}}\n",
    "pi = 3.1415\n",
    "float_dict = {e_k:{i_k:i_v*pi for (i_k, i_v) in e_v.items()} for (e_k, e_v) in anidado.items()}\n",
    "\n",
    "print(float_dict)"
   ]
  },
  {
   "cell_type": "code",
   "execution_count": 110,
   "metadata": {},
   "outputs": [
    {
     "name": "stdout",
     "output_type": "stream",
     "text": [
      "{'primero': {'a': 3.1415}, 'segundo': {'b': 6.283}, 'tercero': {'c': 9.4245}}\n"
     ]
    }
   ],
   "source": [
    "# La forma tradicional sería:\n",
    "anidado = {'primero':{'a':1}, 'segundo':{'b':2}, 'tercero':{'c':3}}\n",
    "pi = 3.1415\n",
    "for (e_k, e_v) in anidado.items():\n",
    "    for (i_k, i_v) in e_v.items():\n",
    "        e_v.update({i_k: i_v * pi})\n",
    "        \n",
    "anidado.update({e_k:e_v})\n",
    "\n",
    "print(anidado)"
   ]
  },
  {
   "cell_type": "markdown",
   "metadata": {},
   "source": [
    "<div class=\"alert alert-info\">\n",
    "\n",
    "## **Ejemplo 20.**\n",
    "\n",
    "<font color=\"Black\">\n",
    "    \n",
    "Eliminar números duplicados de una lista.\n",
    "</font>\n",
    "</div>\n",
    "\n"
   ]
  },
  {
   "cell_type": "code",
   "execution_count": 111,
   "metadata": {},
   "outputs": [
    {
     "data": {
      "text/plain": [
       "[1, 2, 3, 4, 5, 6, 7, 8, 9, 10, 1, 2, 3, 4, 5]"
      ]
     },
     "execution_count": 111,
     "metadata": {},
     "output_type": "execute_result"
    }
   ],
   "source": [
    "numeros = [i for i in range(1,11)] + [i for i in range(1,6)]\n",
    "numeros"
   ]
  },
  {
   "cell_type": "code",
   "execution_count": 112,
   "metadata": {},
   "outputs": [
    {
     "data": {
      "text/plain": [
       "[1, 2, 3, 4, 5, 6, 7, 8, 9, 10]"
      ]
     },
     "execution_count": 112,
     "metadata": {},
     "output_type": "execute_result"
    }
   ],
   "source": [
    "# Una manera es:\n",
    "numeros_unicos = []\n",
    "for n in numeros:\n",
    "    if n not in numeros_unicos:\n",
    "        numeros_unicos.append(n)\n",
    "numeros_unicos"
   ]
  },
  {
   "cell_type": "code",
   "execution_count": 113,
   "metadata": {},
   "outputs": [
    {
     "data": {
      "text/plain": [
       "[1, 2, 3, 4, 5, 6, 7, 8, 9, 10]"
      ]
     },
     "execution_count": 113,
     "metadata": {},
     "output_type": "execute_result"
    }
   ],
   "source": [
    "# Otra forma mas pythonica!\n",
    "numeros_unicos_easy = list(set(numeros))\n",
    "numeros_unicos_easy"
   ]
  },
  {
   "cell_type": "markdown",
   "metadata": {},
   "source": [
    "<div class=\"alert alert-info\">\n",
    "\n",
    "## **Ejemplo 21.**\n",
    "\n",
    "<font color=\"Black\">\n",
    "    \n",
    "Eliminar objetos duplicados de una lista de diccionarios.\n",
    "</font>\n",
    "</div>"
   ]
  },
  {
   "cell_type": "code",
   "execution_count": 114,
   "metadata": {},
   "outputs": [
    {
     "name": "stdout",
     "output_type": "stream",
     "text": [
      "[{'id': 10, 'dato': '...'}, {'id': 11, 'dato': '...'}, {'id': 12, 'dato': '...'}, {'id': 10, 'dato': '...'}, {'id': 11, 'dato': '...'}]\n"
     ]
    }
   ],
   "source": [
    "datos = [\n",
    "  {'id': 10, 'dato': '...'},\n",
    "  {'id': 11, 'dato': '...'},\n",
    "  {'id': 12, 'dato': '...'},\n",
    "  {'id': 10, 'dato': '...'},\n",
    "  {'id': 11, 'dato': '...'},\n",
    "]\n",
    "\n",
    "print(datos)"
   ]
  },
  {
   "cell_type": "code",
   "execution_count": 116,
   "metadata": {},
   "outputs": [
    {
     "name": "stdout",
     "output_type": "stream",
     "text": [
      "[{'id': 10, 'dato': '...'}, {'id': 11, 'dato': '...'}, {'id': 12, 'dato': '...'}]\n"
     ]
    }
   ],
   "source": [
    "# La forma tradicional\n",
    "objetos_unicos = []\n",
    "for d in datos:\n",
    "    dato_existe = False\n",
    "    for ou in objetos_unicos:\n",
    "        if ou['id'] == d['id']:\n",
    "          dato_existe = True\n",
    "          break\n",
    "    if not dato_existe:\n",
    "        objetos_unicos.append(d)\n",
    "        \n",
    "print(objetos_unicos)"
   ]
  },
  {
   "cell_type": "code",
   "execution_count": 117,
   "metadata": {},
   "outputs": [
    {
     "name": "stdout",
     "output_type": "stream",
     "text": [
      "[{'id': 10, 'dato': '...'}, {'id': 11, 'dato': '...'}, {'id': 12, 'dato': '...'}]\n"
     ]
    }
   ],
   "source": [
    "# Una mejor manera.\n",
    "objetos_unicos_easy = { d['id']:d for d in datos }.values()\n",
    "\n",
    "print(list(objetos_unicos_easy))"
   ]
  },
  {
   "cell_type": "markdown",
   "metadata": {},
   "source": [
    "<div class=\"alert alert-info\">\n",
    "\n",
    "## **Ejemplo 22.**\n",
    "\n",
    "<font color=\"Black\">\n",
    "    \n",
    "Sea un diccionario que tiene como claves letras minúsculas y mayúsculas, y como valores números enteros:\n",
    "\n",
    "```python\n",
    "mcase = {'z':23, 'a':30, 'b':21, 'A':78, 'Z':4, 'C':43, 'B':89}\n",
    "```\n",
    "\n",
    "- Sumar los valores que corresponden a la misma letra, mayúscula y minúscula.\n",
    "\n",
    "- Construir un diccionario cuyas claves sean solo letras minúsculas y sus valores sean la suma antes calculada.\n",
    "\n",
    "</font>\n",
    "</div>\n",
    "\n"
   ]
  },
  {
   "cell_type": "code",
   "execution_count": 118,
   "metadata": {},
   "outputs": [
    {
     "name": "stdout",
     "output_type": "stream",
     "text": [
      "{'z': 27, 'a': 108, 'b': 110, 'c': 43}\n"
     ]
    }
   ],
   "source": [
    "mcase = {'z':23, 'a':30, 'b':21, 'A':78, 'Z':4, 'C':43, 'B':89}\n",
    "mcase_freq = {k.lower() : \n",
    "              mcase.get(k.lower(), 0) + mcase.get(k.upper(), 0)\n",
    "              for k in mcase.keys()}\n",
    "print(mcase_freq)"
   ]
  },
  {
   "cell_type": "markdown",
   "metadata": {},
   "source": [
    "<div class=\"alert alert-info\">\n",
    "\n",
    "## **Ejemplo 23.**\n",
    "\n",
    "<font color=\"Black\">\n",
    "    \n",
    "Es posible usar las listas y diccionarios concisos para revisar la lista de archivos de un directorio y sus características.\n",
    "</font>\n",
    "</div>\n"
   ]
  },
  {
   "cell_type": "code",
   "execution_count": 127,
   "metadata": {},
   "outputs": [
    {
     "data": {
      "text/plain": [
       "[('Pensando_como_pythonista_1.ipynb',\n",
       "  os.stat_result(st_mode=33188, st_ino=2172678637, st_dev=2097240, st_nlink=1, st_uid=1000, st_gid=100, st_size=29456, st_atime=1705689214, st_mtime=1705689214, st_ctime=1705689214)),\n",
       " ('Pythonico_es_mas_bonito_1.ipynb',\n",
       "  os.stat_result(st_mode=33188, st_ino=2172678648, st_dev=2097240, st_nlink=1, st_uid=1000, st_gid=100, st_size=39608, st_atime=1705689214, st_mtime=1705689214, st_ctime=1705689214)),\n",
       " ('Pythonico_es_mas_bonito_2.ipynb',\n",
       "  os.stat_result(st_mode=33188, st_ino=2172678651, st_dev=2097240, st_nlink=1, st_uid=1000, st_gid=100, st_size=29765, st_atime=1705689214, st_mtime=1705689214, st_ctime=1705689214)),\n",
       " ('T02_Expr_Decla.ipynb',\n",
       "  os.stat_result(st_mode=33188, st_ino=2172811400, st_dev=2097240, st_nlink=1, st_uid=1000, st_gid=100, st_size=8386, st_atime=1709740171, st_mtime=1709683460, st_ctime=1709683460)),\n",
       " ('T03_TiposBasico_Operadores.ipynb',\n",
       "  os.stat_result(st_mode=33188, st_ino=2173059438, st_dev=2097240, st_nlink=1, st_uid=1000, st_gid=100, st_size=35254, st_atime=1710044492, st_mtime=1709321664, st_ctime=1709321664)),\n",
       " ('T04_Cadenas.ipynb',\n",
       "  os.stat_result(st_mode=33188, st_ino=2174792627, st_dev=2097240, st_nlink=1, st_uid=1000, st_gid=100, st_size=18314, st_atime=1709510973, st_mtime=1709323123, st_ctime=1709323123)),\n",
       " ('T00_Otros.ipynb',\n",
       "  os.stat_result(st_mode=33188, st_ino=2173586078, st_dev=2097240, st_nlink=1, st_uid=1000, st_gid=100, st_size=6513, st_atime=1710044528, st_mtime=1710044528, st_ctime=1710044528)),\n",
       " ('T01_Etiquetas_y_Palabras_Reservadas.ipynb',\n",
       "  os.stat_result(st_mode=33188, st_ino=2175783890, st_dev=2097240, st_nlink=1, st_uid=1000, st_gid=100, st_size=20284, st_atime=1709740171, st_mtime=1709666919, st_ctime=1709666919)),\n",
       " ('T05_Estructura_de_Datos.ipynb',\n",
       "  os.stat_result(st_mode=33188, st_ino=2172811396, st_dev=2097240, st_nlink=1, st_uid=1000, st_gid=100, st_size=44066, st_atime=1709567068, st_mtime=1709566559, st_ctime=1709566559)),\n",
       " ('T06_Control_de_flujo.ipynb',\n",
       "  os.stat_result(st_mode=33188, st_ino=2172811404, st_dev=2097240, st_nlink=1, st_uid=1000, st_gid=100, st_size=27294, st_atime=1709598006, st_mtime=1709598006, st_ctime=1709598006)),\n",
       " ('zT10_Comprehensions.ipynb',\n",
       "  os.stat_result(st_mode=33188, st_ino=2172811425, st_dev=2097240, st_nlink=1, st_uid=1000, st_gid=100, st_size=49575, st_atime=1710099347, st_mtime=1710099347, st_ctime=1710099347)),\n",
       " ('zT11_IteradoresGeneradores.ipynb',\n",
       "  os.stat_result(st_mode=33188, st_ino=2172811428, st_dev=2097240, st_nlink=1, st_uid=1000, st_gid=100, st_size=11449, st_atime=1710044551, st_mtime=1710024222, st_ctime=1710024222)),\n",
       " ('zT12_Decoradores.ipynb',\n",
       "  os.stat_result(st_mode=33188, st_ino=2172812549, st_dev=2097240, st_nlink=1, st_uid=1000, st_gid=100, st_size=13349, st_atime=1709600117, st_mtime=1705689214, st_ctime=1709596220)),\n",
       " ('zT13_BibliotecaEstandar.ipynb',\n",
       "  os.stat_result(st_mode=33188, st_ino=2172812551, st_dev=2097240, st_nlink=1, st_uid=1000, st_gid=100, st_size=15600, st_atime=1709679822, st_mtime=1709679822, st_ctime=1709679822)),\n",
       " ('T08_Archivos_Gestores_de_contexto.ipynb',\n",
       "  os.stat_result(st_mode=33188, st_ino=2172811408, st_dev=2097240, st_nlink=1, st_uid=1000, st_gid=100, st_size=5865, st_atime=1709600072, st_mtime=1709600072, st_ctime=1709600072)),\n",
       " ('T07_Entrada_salida_estandar.ipynb',\n",
       "  os.stat_result(st_mode=33188, st_ino=2173013626, st_dev=2097240, st_nlink=1, st_uid=1000, st_gid=100, st_size=12347, st_atime=1709599786, st_mtime=1709599786, st_ctime=1709599786)),\n",
       " ('T09_Funciones_y_docstring.ipynb',\n",
       "  os.stat_result(st_mode=33188, st_ino=2172811410, st_dev=2097240, st_nlink=1, st_uid=1000, st_gid=100, st_size=33782, st_atime=1709774198, st_mtime=1709668427, st_ctime=1709668427)),\n",
       " ('T11_Excepciones.ipynb',\n",
       "  os.stat_result(st_mode=33188, st_ino=2172811414, st_dev=2097240, st_nlink=1, st_uid=1000, st_gid=100, st_size=34820, st_atime=1709740171, st_mtime=1709680686, st_ctime=1710038069)),\n",
       " ('T10_LambdaExpressions.ipynb',\n",
       "  os.stat_result(st_mode=33188, st_ino=2172811418, st_dev=2097240, st_nlink=1, st_uid=1000, st_gid=100, st_size=15325, st_atime=1710043865, st_mtime=1710043865, st_ctime=1710043865)),\n",
       " ('T12_IterablesMapFilter.ipynb',\n",
       "  os.stat_result(st_mode=33188, st_ino=2172811416, st_dev=2097240, st_nlink=1, st_uid=1000, st_gid=100, st_size=32836, st_atime=1710090534, st_mtime=1710090534, st_ctime=1710090534))]"
      ]
     },
     "execution_count": 127,
     "metadata": {},
     "output_type": "execute_result"
    }
   ],
   "source": [
    "import os, glob\n",
    "metadata = [(f, os.stat(f)) for f in glob.glob('*.ipynb')]\n",
    "metadata"
   ]
  },
  {
   "cell_type": "code",
   "execution_count": 128,
   "metadata": {},
   "outputs": [],
   "source": [
    "metadata_dict = {f:os.stat(f) for f in glob.glob('*.ipynb')}"
   ]
  },
  {
   "cell_type": "code",
   "execution_count": 129,
   "metadata": {},
   "outputs": [
    {
     "data": {
      "text/plain": [
       "dict_keys(['Pensando_como_pythonista_1.ipynb', 'Pythonico_es_mas_bonito_1.ipynb', 'Pythonico_es_mas_bonito_2.ipynb', 'T02_Expr_Decla.ipynb', 'T03_TiposBasico_Operadores.ipynb', 'T04_Cadenas.ipynb', 'T00_Otros.ipynb', 'T01_Etiquetas_y_Palabras_Reservadas.ipynb', 'T05_Estructura_de_Datos.ipynb', 'T06_Control_de_flujo.ipynb', 'zT10_Comprehensions.ipynb', 'zT11_IteradoresGeneradores.ipynb', 'zT12_Decoradores.ipynb', 'zT13_BibliotecaEstandar.ipynb', 'T08_Archivos_Gestores_de_contexto.ipynb', 'T07_Entrada_salida_estandar.ipynb', 'T09_Funciones_y_docstring.ipynb', 'T11_Excepciones.ipynb', 'T10_LambdaExpressions.ipynb', 'T12_IterablesMapFilter.ipynb'])"
      ]
     },
     "execution_count": 129,
     "metadata": {},
     "output_type": "execute_result"
    }
   ],
   "source": [
    "metadata_dict.keys()"
   ]
  },
  {
   "cell_type": "code",
   "execution_count": 130,
   "metadata": {},
   "outputs": [
    {
     "data": {
      "text/plain": [
       "8386"
      ]
     },
     "execution_count": 130,
     "metadata": {},
     "output_type": "execute_result"
    }
   ],
   "source": [
    "metadata_dict['T02_Expr_Decla.ipynb'].st_size"
   ]
  },
  {
   "cell_type": "code",
   "execution_count": null,
   "metadata": {},
   "outputs": [],
   "source": []
  }
 ],
 "metadata": {
  "kernelspec": {
   "display_name": "Python 3 (ipykernel)",
   "language": "python",
   "name": "python3"
  },
  "language_info": {
   "codemirror_mode": {
    "name": "ipython",
    "version": 3
   },
   "file_extension": ".py",
   "mimetype": "text/x-python",
   "name": "python",
   "nbconvert_exporter": "python",
   "pygments_lexer": "ipython3",
   "version": "3.11.6"
  }
 },
 "nbformat": 4,
 "nbformat_minor": 4
}
