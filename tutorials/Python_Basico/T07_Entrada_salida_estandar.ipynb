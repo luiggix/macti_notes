{
 "cells": [
  {
   "cell_type": "markdown",
   "metadata": {},
   "source": [
    "# Entrada y salida estándar.\n",
    "\n",
    "**Objetivo.**\n",
    "...\n",
    "\n",
    "**Funciones de Python**:\n",
    "...\n",
    "\n",
    " <p xmlns:cc=\"http://creativecommons.org/ns#\" xmlns:dct=\"http://purl.org/dc/terms/\"><a property=\"dct:title\" rel=\"cc:attributionURL\" href=\"https://github.com/repomacti/macti/tree/main/notebooks/Algebra_Lineal_01\">MACTI-Algebra_Lineal_01</a> by <a rel=\"cc:attributionURL dct:creator\" property=\"cc:attributionName\" href=\"https://www.macti.unam.mx\">Luis M. de la Cruz</a> is licensed under <a href=\"http://creativecommons.org/licenses/by-sa/4.0/?ref=chooser-v1\" target=\"_blank\" rel=\"license noopener noreferrer\" style=\"display:inline-block;\">Attribution-ShareAlike 4.0 International<img style=\"height:22px!important;margin-left:3px;vertical-align:text-bottom;\" src=\"https://mirrors.creativecommons.org/presskit/icons/cc.svg?ref=chooser-v1\"><img style=\"height:22px!important;margin-left:3px;vertical-align:text-bottom;\" src=\"https://mirrors.creativecommons.org/presskit/icons/by.svg?ref=chooser-v1\"><img style=\"height:22px!important;margin-left:3px;vertical-align:text-bottom;\" src=\"https://mirrors.creativecommons.org/presskit/icons/sa.svg?ref=chooser-v1\"></a></p> "
   ]
  },
  {
   "cell_type": "markdown",
   "metadata": {},
   "source": [
    "# Entrada estándar: `input()`\n",
    "\n",
    "La entrada estándar para proporcionar información a un programa se realiza mediante la función `input()`.\n",
    "\n",
    "Veamos algunos ejemplos:"
   ]
  },
  {
   "cell_type": "code",
   "execution_count": 9,
   "metadata": {},
   "outputs": [
    {
     "name": "stdin",
     "output_type": "stream",
     "text": [
      " 34\n"
     ]
    },
    {
     "data": {
      "text/plain": [
       "'34'"
      ]
     },
     "execution_count": 9,
     "metadata": {},
     "output_type": "execute_result"
    }
   ],
   "source": [
    "# Cuando se ejecuta, se espera a que el usuario teclee algo y luego de <enter>\n",
    "input() "
   ]
  },
  {
   "cell_type": "code",
   "execution_count": 10,
   "metadata": {},
   "outputs": [
    {
     "name": "stdin",
     "output_type": "stream",
     "text": [
      " 34\n"
     ]
    }
   ],
   "source": [
    "# Se puede asignar el valor que se teclea a una variable\n",
    "entrada = input()"
   ]
  },
  {
   "cell_type": "code",
   "execution_count": 11,
   "metadata": {},
   "outputs": [
    {
     "name": "stdout",
     "output_type": "stream",
     "text": [
      "34\n"
     ]
    }
   ],
   "source": [
    "# Ahora imprimimos el valor guardado\n",
    "print(entrada) "
   ]
  },
  {
   "cell_type": "code",
   "execution_count": 12,
   "metadata": {},
   "outputs": [
    {
     "name": "stdin",
     "output_type": "stream",
     "text": [
      "Teclea un valor entero : 5\n"
     ]
    }
   ],
   "source": [
    "# Se puede poner un mensaje para que el usuario sepa\n",
    "# lo que se espera:\n",
    "entrada = input('Teclea un valor entero :')"
   ]
  },
  {
   "cell_type": "code",
   "execution_count": 14,
   "metadata": {},
   "outputs": [
    {
     "name": "stdout",
     "output_type": "stream",
     "text": [
      "<class 'str'>\n",
      "5\n"
     ]
    }
   ],
   "source": [
    "# Lo que se lee siempre se transforma en una cadena de texto:\n",
    "print(type(entrada))\n",
    "print(entrada)"
   ]
  },
  {
   "cell_type": "code",
   "execution_count": 15,
   "metadata": {},
   "outputs": [
    {
     "name": "stdin",
     "output_type": "stream",
     "text": [
      "Teclea un valor entero : 5\n"
     ]
    }
   ],
   "source": [
    "# Podemos hacer el 'casting' para transformar lo que teclea el usuario\n",
    "# en el tipo de dato requerido:\n",
    "entrada = int(input('Teclea un valor entero :'))"
   ]
  },
  {
   "cell_type": "code",
   "execution_count": 16,
   "metadata": {},
   "outputs": [
    {
     "name": "stdout",
     "output_type": "stream",
     "text": [
      "<class 'int'>\n",
      "5\n"
     ]
    }
   ],
   "source": [
    "print(type(entrada))\n",
    "print(entrada)"
   ]
  },
  {
   "cell_type": "markdown",
   "metadata": {},
   "source": [
    "Lo anterior se debe realizar con más cuidado e incluso usando declaraciones para capturar posibles errores del usuario al teclear un valor."
   ]
  },
  {
   "cell_type": "markdown",
   "metadata": {},
   "source": [
    "# Salida estándar: `print()`\n",
    "Existen varias formas de presentar la salida de un programa al usuario, la más común es en la pantalla (la salida estándar).\n",
    "\n",
    "En todos los casos se desea un control adecuado sobre el formato de la salida. Para ello se tienen varias maneras de controlar esta salida:\n",
    "\n",
    "## Cadenas con formato `f` o `F`.  \n",
    "\n",
    "Este tipo de cadenas se forman anteponiendo una `f` o `F` al principio de la misma. De esta forma, es posible poner variables entre llaves `{}` dentro de la definición de la cadena. "
   ]
  },
  {
   "cell_type": "code",
   "execution_count": 17,
   "metadata": {},
   "outputs": [
    {
     "data": {
      "text/plain": [
       "'Hola mi nombre es LUIS MIGUEL y tengo 25 años'"
      ]
     },
     "execution_count": 17,
     "metadata": {},
     "output_type": "execute_result"
    }
   ],
   "source": [
    "nombre = 'LUIS MIGUEL'\n",
    "edad = 25\n",
    "f'Hola mi nombre es {nombre} y tengo {edad} años'"
   ]
  },
  {
   "cell_type": "markdown",
   "metadata": {},
   "source": [
    "En el caso de números es posible agregar un formato:"
   ]
  },
  {
   "cell_type": "code",
   "execution_count": 18,
   "metadata": {},
   "outputs": [
    {
     "name": "stdout",
     "output_type": "stream",
     "text": [
      "El valor de PI es aproximadamente 3.1415926536.\n"
     ]
    }
   ],
   "source": [
    "import math\n",
    "print(f'El valor de PI es aproximadamente {math.pi:.10f}.') # {valor:formato}"
   ]
  },
  {
   "cell_type": "markdown",
   "metadata": {},
   "source": [
    "También es posible alinear el texto de la salida."
   ]
  },
  {
   "cell_type": "code",
   "execution_count": 20,
   "metadata": {},
   "outputs": [
    {
     "name": "stdout",
     "output_type": "stream",
     "text": [
      "Fulano     ==>      5521345678\n",
      "Sutano     ==>      7712932143\n"
     ]
    }
   ],
   "source": [
    "na1 = 'Fulano'; n1 = 5_521_345_678\n",
    "na2 = 'Sutano'; n2 = 7_712_932_143\n",
    "print(f'{na1:10} ==> {n1:15d}') # alineación del texto\n",
    "print(f'{na2:10} ==> {n2:15d}') # alineación del texto"
   ]
  },
  {
   "cell_type": "markdown",
   "metadata": {},
   "source": [
    "Para más información véase <a href=\"https://docs.python.org/3.7/library/string.html#formatspec\"> Format Specification Mini-Language </a>"
   ]
  },
  {
   "cell_type": "markdown",
   "metadata": {},
   "source": [
    "## Método `format()`\n",
    "\n",
    "Las cadenas tienen un método llamado `format()` que permite darle formato a la misma.\n",
    "\n",
    "Veamos unos ejemplos¡:"
   ]
  },
  {
   "cell_type": "code",
   "execution_count": 21,
   "metadata": {},
   "outputs": [
    {
     "name": "stdout",
     "output_type": "stream",
     "text": [
      "El curso se llama \"Python de cero a experto\" y tenemos 100 alumnos\n"
     ]
    }
   ],
   "source": [
    "print('El curso se llama \"{}\" y tenemos {} alumnos'.format('Python de cero a experto', 100))"
   ]
  },
  {
   "cell_type": "code",
   "execution_count": 23,
   "metadata": {},
   "outputs": [
    {
     "name": "stdout",
     "output_type": "stream",
     "text": [
      "      42572654       votos a favor (49.67%)\n"
     ]
    }
   ],
   "source": [
    "votos_a_favor = 42_572_654   # Este es un formato de número entero\n",
    "votos_en_contra = 43_132_495 # que usa _ para separar los miles\n",
    "total_de_votos = votos_a_favor + votos_en_contra\n",
    "porcentaje = votos_a_favor / total_de_votos\n",
    "\n",
    "# El primer dato se alinea al centro usando ^\n",
    "# El segundo dato tendrá dos valores antes del punto y dos valores después.\n",
    "print('{:^20} votos a favor ({:2.2%})'.format(votos_a_favor, porcentaje))"
   ]
  },
  {
   "cell_type": "code",
   "execution_count": 30,
   "metadata": {},
   "outputs": [
    {
     "name": "stdout",
     "output_type": "stream",
     "text": [
      "el huevo y la gallina\n",
      "la gallina y       el huevo      \n"
     ]
    }
   ],
   "source": [
    "# Se pueden usar números para identificar los argumentos de format()\n",
    "print('{0} y {1}'.format('el huevo', 'la gallina'))\n",
    "print('{1} y {0:^20}'.format('el huevo', 'la gallina'))"
   ]
  },
  {
   "cell_type": "code",
   "execution_count": 31,
   "metadata": {},
   "outputs": [
    {
     "name": "stdout",
     "output_type": "stream",
     "text": [
      "Esta comida es exquisita.\n"
     ]
    }
   ],
   "source": [
    "# Se le puede dar nombre a los argumentos para que \n",
    "# sea más fácil entender la salida\n",
    "print('Esta {sustantivo} es {adjetivo}.'.format(adjetivo='exquisita', sustantivo='comida'))"
   ]
  },
  {
   "cell_type": "code",
   "execution_count": 32,
   "metadata": {},
   "outputs": [
    {
     "name": "stdout",
     "output_type": "stream",
     "text": [
      "El Bueno, el Malo, y el Feo.\n"
     ]
    }
   ],
   "source": [
    "# Se pueden combinar números con nombres de argumentos\n",
    "print('El {0}, el {1}, y el {otro}.'.format('Bueno', 'Malo', otro='Feo'))"
   ]
  },
  {
   "cell_type": "code",
   "execution_count": 34,
   "metadata": {},
   "outputs": [
    {
     "name": "stdout",
     "output_type": "stream",
     "text": [
      "Sphynx: 0; Siamés: 5; Siberiano: 4\n"
     ]
    }
   ],
   "source": [
    "gatos = {'Siamés': 5, 'Siberiano': 4, 'Sphynx': 0}\n",
    "\n",
    "# Podemos usar las características de los diccionarios\n",
    "# para imprimir la salida.\n",
    "print('Sphynx: {g[Sphynx]:d}; Siamés: {g[Siamés]:d}; Siberiano: {g[Siberiano]:d}'.format(g = gatos))"
   ]
  },
  {
   "cell_type": "code",
   "execution_count": 35,
   "metadata": {},
   "outputs": [
    {
     "name": "stdout",
     "output_type": "stream",
     "text": [
      "Sphynx: 0; Siamés: 5; Siberiano: 4\n"
     ]
    }
   ],
   "source": [
    "# Una manera más entendible:\n",
    "print('Sphynx: {Sphynx:d}; Siamés: {Siamés:d}; Siberiano: {Siberiano:d}'.format(**gatos))"
   ]
  },
  {
   "cell_type": "code",
   "execution_count": 36,
   "metadata": {},
   "outputs": [
    {
     "name": "stdout",
     "output_type": "stream",
     "text": [
      " 1   1    1\n",
      " 2   4    8\n",
      " 3   9   27\n",
      " 4  16   64\n",
      " 5  25  125\n",
      " 6  36  216\n",
      " 7  49  343\n",
      " 8  64  512\n",
      " 9  81  729\n",
      "10 100 1000\n"
     ]
    }
   ],
   "source": [
    "for x in range(1, 11):\n",
    "    print('{0:2d} {1:3d} {2:4d}'.format(x, x*x, x*x*x))"
   ]
  },
  {
   "cell_type": "markdown",
   "metadata": {},
   "source": [
    "Para más información véase <a href=\"https://docs.python.org/3.7/library/string.html#formatstrings\"> Format String Syntax </a>"
   ]
  },
  {
   "cell_type": "markdown",
   "metadata": {},
   "source": [
    "## Forma antigua de formatear la salida\n",
    "\n",
    "Se puede seguir usando la forma antigua de la salida."
   ]
  },
  {
   "cell_type": "code",
   "execution_count": 37,
   "metadata": {},
   "outputs": [
    {
     "name": "stdout",
     "output_type": "stream",
     "text": [
      "El valor aproximado de pi es 3.141593.\n"
     ]
    }
   ],
   "source": [
    "import math\n",
    "print('El valor aproximado de pi es %5.6f.' % math.pi)"
   ]
  },
  {
   "cell_type": "code",
   "execution_count": null,
   "metadata": {},
   "outputs": [],
   "source": []
  }
 ],
 "metadata": {
  "kernelspec": {
   "display_name": "Python 3 (ipykernel)",
   "language": "python",
   "name": "python3"
  },
  "language_info": {
   "codemirror_mode": {
    "name": "ipython",
    "version": 3
   },
   "file_extension": ".py",
   "mimetype": "text/x-python",
   "name": "python",
   "nbconvert_exporter": "python",
   "pygments_lexer": "ipython3",
   "version": "3.11.6"
  }
 },
 "nbformat": 4,
 "nbformat_minor": 4
}
