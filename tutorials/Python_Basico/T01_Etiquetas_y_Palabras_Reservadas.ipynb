{
 "cells": [
  {
   "cell_type": "markdown",
   "metadata": {},
   "source": [
    "# Definición de variables.\n",
    "\n",
    "**Objetivo.**\n",
    "Explicar el concepto de variable, etiqueta, objetos y como se usan mediante algunos ejemplos.\n",
    "\n",
    "**Funciones de Python**:\n",
    "- `print()`, `type()`, `id()`, `chr()`, `ord()`, `del()`\n",
    "\n",
    " <p xmlns:cc=\"http://creativecommons.org/ns#\" xmlns:dct=\"http://purl.org/dc/terms/\"><a property=\"dct:title\" rel=\"cc:attributionURL\" href=\"https://github.com/repomacti/macti/tree/main/notebooks/Algebra_Lineal_01\">MACTI-Algebra_Lineal_01</a> by <a rel=\"cc:attributionURL dct:creator\" property=\"cc:attributionName\" href=\"https://www.macti.unam.mx\">Luis M. de la Cruz</a> is licensed under <a href=\"http://creativecommons.org/licenses/by-sa/4.0/?ref=chooser-v1\" target=\"_blank\" rel=\"license noopener noreferrer\" style=\"display:inline-block;\">Attribution-ShareAlike 4.0 International<img style=\"height:22px!important;margin-left:3px;vertical-align:text-bottom;\" src=\"https://mirrors.creativecommons.org/presskit/icons/cc.svg?ref=chooser-v1\"><img style=\"height:22px!important;margin-left:3px;vertical-align:text-bottom;\" src=\"https://mirrors.creativecommons.org/presskit/icons/by.svg?ref=chooser-v1\"><img style=\"height:22px!important;margin-left:3px;vertical-align:text-bottom;\" src=\"https://mirrors.creativecommons.org/presskit/icons/sa.svg?ref=chooser-v1\"></a></p> "
   ]
  },
  {
   "cell_type": "markdown",
   "metadata": {},
   "source": [
    "## Variables.\n",
    "- Son **símbolos** que permiten identificar la información que se almacena en la memoria de la computadora.\n",
    "- Son **nombres** o **etiquetas** para los objetos que se crean en Python.\n",
    "- Se crean con ayuda del operador de asignación `=`.\n",
    "- No se tiene que establecer explícitamente el tipo de dato de la variable, pues esto se realiza de manera dinámica (tipado dinámico)."
   ]
  },
  {
   "cell_type": "markdown",
   "metadata": {},
   "source": [
    "<div class=\"alert alert-info\">\n",
    "\n",
    "### **Ejemplos de variables válidas.**\n",
    "\n",
    "<font color=\"Black\">\n",
    "\n",
    "Los nombres de las variables: \n",
    "* pueden contener **letras**, **números** y **guiones bajos**,\n",
    "* deben comenzar con una letra o un guion bajo,\n",
    "* se distingue entre mayúsculas y minúsculas, es decir, `variable` y `Variable` son nombres diferentes.\n",
    "\n",
    "A continuación se muestran algunos ejemplos.\n",
    "</font>\n",
    "\n",
    "</div>"
   ]
  },
  {
   "cell_type": "code",
   "execution_count": 2,
   "metadata": {},
   "outputs": [],
   "source": [
    "_luis = \"Luis Miguel de la Cruz\"    # El nombre de la variable es _luis, el contenido es una cadena.\n",
    "LuisXV = \"Louis Michel de la Croix\" \n",
    "luigi = 25\n",
    "luis_b = 0b01110 # Binario\n",
    "luis_o = 0o12376 # Octal\n",
    "luis_h = 0x12323 # Hexadecimal\n",
    "\n",
    "# Sensibilidad a mayúsculas y minúsculas\n",
    "# los siguientes nombres son diferentes\n",
    "pi = 3.14\n",
    "PI = 31416e-4\n",
    "Pi = 3.141592"
   ]
  },
  {
   "cell_type": "markdown",
   "metadata": {},
   "source": [
    "Podemos ver el contenido de la variable usando la función `print()`:"
   ]
  },
  {
   "cell_type": "code",
   "execution_count": 5,
   "metadata": {},
   "outputs": [
    {
     "name": "stdout",
     "output_type": "stream",
     "text": [
      "Luis Miguel de la Cruz\n",
      "Louis Michel de la Croix\n",
      "25\n",
      "14\n",
      "5374\n",
      "74531\n",
      "3.14\n",
      "3.1416\n",
      "3.141592\n"
     ]
    }
   ],
   "source": [
    "# El contenido de cada variable se imprime en renglones\n",
    "# diferentes debido a que usamos el argumento sep='\\n'\n",
    "print(_luis, LuisXV, luigi, luis_b, luis_o, luis_h, pi, PI, Pi, sep='\\n')"
   ]
  },
  {
   "cell_type": "markdown",
   "metadata": {},
   "source": [
    "<div class=\"alert alert-info\">\n",
    "\n",
    "**NOTA**. <font color=\"Black\"> Para saber más sobre la función `print()` revisa la sección XXX.</font>\n",
    "\n",
    "</div>"
   ]
  },
  {
   "cell_type": "markdown",
   "metadata": {},
   "source": [
    "Para saber el tipo de objeto que se creo cuando se definieron las variables anteriores, podemos hacer uso de la función `type()`:"
   ]
  },
  {
   "cell_type": "code",
   "execution_count": 7,
   "metadata": {},
   "outputs": [
    {
     "name": "stdout",
     "output_type": "stream",
     "text": [
      "<class 'str'>\n",
      "<class 'str'>\n",
      "<class 'int'>\n",
      "<class 'int'>\n",
      "<class 'int'>\n",
      "<class 'int'>\n",
      "<class 'float'>\n",
      "<class 'float'>\n",
      "<class 'float'>\n"
     ]
    }
   ],
   "source": [
    "print(type(_luis), type(LuisXV), type(luigi), \n",
    "      type(luis_b), type(luis_o), type(luis_h),\n",
    "      type(pi), type(PI), type(Pi), sep = '\\n')"
   ]
  },
  {
   "cell_type": "markdown",
   "metadata": {},
   "source": [
    "También es posible usar la función `id()` para conocer el identificador en la memoria de cada objeto como sigue:"
   ]
  },
  {
   "cell_type": "code",
   "execution_count": 13,
   "metadata": {},
   "outputs": [
    {
     "name": "stdout",
     "output_type": "stream",
     "text": [
      "139672517675408\n",
      "139672517886160\n",
      "94157725269672\n",
      "94157725269320\n",
      "139672517639248\n",
      "139672517630576\n",
      "139672517623920\n",
      "139672517638992\n",
      "139672518259056\n"
     ]
    }
   ],
   "source": [
    "print(id(_luis), id(LuisXV), id(luigi), \n",
    "      id(luis_b), id(luis_o), id(luis_h),\n",
    "      id(pi), id(PI), id(Pi), sep = '\\n')"
   ]
  },
  {
   "cell_type": "markdown",
   "metadata": {},
   "source": [
    "Observa que cada objeto tiene un identificador diferente. Es posible que un objeto tenga más de un nombre, por ejemplo"
   ]
  },
  {
   "cell_type": "code",
   "execution_count": 14,
   "metadata": {},
   "outputs": [],
   "source": [
    "luiggi = _luis "
   ]
  },
  {
   "cell_type": "markdown",
   "metadata": {},
   "source": [
    "La etiqueta o variable `luiggi` hace referencia al mismo objeto que la variable `_luis`, y eso lo podemos comprbar usando la función `id()`:"
   ]
  },
  {
   "cell_type": "code",
   "execution_count": 15,
   "metadata": {},
   "outputs": [
    {
     "name": "stdout",
     "output_type": "stream",
     "text": [
      "139672517675408\n",
      "139672517675408\n"
     ]
    }
   ],
   "source": [
    "print(id(luiggi))\n",
    "print(id(_luis))"
   ]
  },
  {
   "cell_type": "markdown",
   "metadata": {},
   "source": [
    "<div class=\"alert alert-info\">\n",
    "\n",
    "### **Ejemplos con Unicode.**\n",
    "\n",
    "<font color=\"Black\">\n",
    "\n",
    "**Unicode**: estándar para la codificación de caracteres, que permite el tratamiento informático, la transmisión y visualización de textos de muchos idiomas y disciplinas técnicas. Unicode intenta tener universalidad, uniformidad y unicidad. Unicode define tres formas de codificación bajo el nombre UTF (Unicode transformation format): UTF8, UTF16, UTF32. Véase https://es.wikipedia.org/wiki/Unicode\n",
    "\n",
    "Python 3 utiliza internamente el tipo de datos `str` para representar cadenas de texto Unicode, lo que significa que se puede escribir y manipular texto en cualquier idioma sin preocuparte por la codificación. La compatibilidad con UTF-8 en Python significa que se puede leer, escribir y manipular archivos de texto en cualquier idioma, y también trabajar con datos provenientes de fuentes diversas, como bases de datos, API web, etc., que pueden contener texto en diferentes idiomas y codificaciones.\n",
    "\n",
    "A continuación se muestran algunos ejemplos.\n",
    "</font>\n",
    "\n",
    "</div>"
   ]
  },
  {
   "cell_type": "code",
   "execution_count": 11,
   "metadata": {},
   "outputs": [
    {
     "name": "stdout",
     "output_type": "stream",
     "text": [
      "Luismi\n"
     ]
    }
   ],
   "source": [
    "compañero = 'Luismi' # puedo usar la ñ como parte del nombre de la variable\n",
    "print(compañero)"
   ]
  },
  {
   "cell_type": "markdown",
   "metadata": {},
   "source": [
    "Los códigos Unicode de cada caracter se pueden dar en decimal o hexadecimal, por ejemplo para el símbolo $\\pi$ se tiene el código decimal `120587` y hexadecimal `0x1D70B`. La función `chr()` convierte ese código en el caracter correspondiente:"
   ]
  },
  {
   "cell_type": "code",
   "execution_count": 31,
   "metadata": {},
   "outputs": [
    {
     "data": {
      "text/plain": [
       "'𝜋'"
      ]
     },
     "execution_count": 31,
     "metadata": {},
     "output_type": "execute_result"
    }
   ],
   "source": [
    "chr(0x1D70B)"
   ]
  },
  {
   "cell_type": "code",
   "execution_count": 34,
   "metadata": {},
   "outputs": [
    {
     "data": {
      "text/plain": [
       "'𝜋'"
      ]
     },
     "execution_count": 34,
     "metadata": {},
     "output_type": "execute_result"
    }
   ],
   "source": [
    "chr(120587)"
   ]
  },
  {
   "cell_type": "markdown",
   "metadata": {},
   "source": [
    "La función `ord()` obtiene el código Unicode de un caracter y lo regresa en decimal:"
   ]
  },
  {
   "cell_type": "code",
   "execution_count": 35,
   "metadata": {},
   "outputs": [
    {
     "data": {
      "text/plain": [
       "120587"
      ]
     },
     "execution_count": 35,
     "metadata": {},
     "output_type": "execute_result"
    }
   ],
   "source": [
    "ord('𝜋')"
   ]
  },
  {
   "cell_type": "markdown",
   "metadata": {},
   "source": [
    "Podemos usar la función `print()` para realizar una impresión con formato como sigue:"
   ]
  },
  {
   "cell_type": "code",
   "execution_count": 39,
   "metadata": {},
   "outputs": [
    {
     "name": "stdout",
     "output_type": "stream",
     "text": [
      "120587 \t 𝜋 = 3.141592\n",
      "353413 \t 𝜋 = 3.141592\n",
      "1d70b \t 𝜋 = 3.141592\n"
     ]
    }
   ],
   "source": [
    "𝜋 = 3.141592 \n",
    "print('{:04d} \\t {} = {}'.format(ord('𝜋'), '𝜋', 𝜋)) # Impresión en decimal\n",
    "print('{:04o} \\t {} = {}'.format(ord('𝜋'), '𝜋', 𝜋)) # Impresión en octal\n",
    "print('{:04x} \\t {} = {}'.format(ord('𝜋'), '𝜋', 𝜋)) # Impresión en hexadecimal"
   ]
  },
  {
   "cell_type": "markdown",
   "metadata": {},
   "source": [
    "Podemos usar acentos:"
   ]
  },
  {
   "cell_type": "code",
   "execution_count": 41,
   "metadata": {},
   "outputs": [
    {
     "name": "stdout",
     "output_type": "stream",
     "text": [
      "El ombligo de la luna\n"
     ]
    }
   ],
   "source": [
    "México = 'El ombligo de la luna'\n",
    "print(México)"
   ]
  },
  {
   "cell_type": "markdown",
   "metadata": {},
   "source": [
    "Puedo saber el tipo de codificación que usa Python de la siguiente manera:"
   ]
  },
  {
   "cell_type": "code",
   "execution_count": 43,
   "metadata": {},
   "outputs": [
    {
     "data": {
      "text/plain": [
       "'UTF-8'"
      ]
     },
     "execution_count": 43,
     "metadata": {},
     "output_type": "execute_result"
    }
   ],
   "source": [
    "import sys\n",
    "sys.stdout.encoding"
   ]
  },
  {
   "cell_type": "markdown",
   "metadata": {},
   "source": [
    "También es posible obtener más información de los códigos unicode como sigue:"
   ]
  },
  {
   "cell_type": "code",
   "execution_count": 66,
   "metadata": {},
   "outputs": [
    {
     "name": "stdout",
     "output_type": "stream",
     "text": [
      "cadena :  é௲ᝰ㎯\n",
      "\n",
      "é    e9  Ll LATIN SMALL LETTER E WITH ACUTE\n",
      "௲   bf2  No TAMIL NUMBER ONE THOUSAND\n",
      "ᝰ  1770  Lo TAGBANWA LETTER SA\n",
      "㎯  33af  So SQUARE RAD OVER S SQUARED\n"
     ]
    }
   ],
   "source": [
    "import unicodedata\n",
    "\n",
    "u = chr(233) + chr(0x0bf2) + chr(6000) + chr(13231) \n",
    "print('cadena : ', u)\n",
    "print()\n",
    "for i, c in enumerate(u):\n",
    "    print('{} {:>5x} {:>3}'.format(c, ord(c), unicodedata.category(c)), end=\" \")\n",
    "    print(unicodedata.name(c))"
   ]
  },
  {
   "cell_type": "markdown",
   "metadata": {},
   "source": [
    "Véase: https://docs.python.org/3/howto/unicode.html"
   ]
  },
  {
   "cell_type": "markdown",
   "metadata": {},
   "source": [
    "## Asignación múltiple.\n",
    "\n",
    "Es posible definir varias variables en una sola instrucción:"
   ]
  },
  {
   "cell_type": "code",
   "execution_count": 67,
   "metadata": {},
   "outputs": [],
   "source": [
    "x = y = z = 25"
   ]
  },
  {
   "cell_type": "code",
   "execution_count": 68,
   "metadata": {},
   "outputs": [
    {
     "name": "stdout",
     "output_type": "stream",
     "text": [
      "<class 'int'> <class 'int'> <class 'int'>\n"
     ]
    }
   ],
   "source": [
    "print(type(x), type(y), type(z))"
   ]
  },
  {
   "cell_type": "code",
   "execution_count": 69,
   "metadata": {},
   "outputs": [
    {
     "name": "stdout",
     "output_type": "stream",
     "text": [
      "94157725269672 94157725269672 94157725269672\n"
     ]
    }
   ],
   "source": [
    "print(id(x), id(y), id(z))"
   ]
  },
  {
   "cell_type": "markdown",
   "metadata": {},
   "source": [
    "Observa que se creó el objeto `25` de tipo `<class 'int'>` y los nombres `x`, `y` y `z` son etiquetas al mismo objeto, como se verifica imprimiendo el identificador de cada variable usando la función `id()`.\n",
    "\n",
    "Podemos eliminar la etiqueta `x` con la función `del()`:"
   ]
  },
  {
   "cell_type": "code",
   "execution_count": 70,
   "metadata": {},
   "outputs": [],
   "source": [
    "del(x)"
   ]
  },
  {
   "cell_type": "markdown",
   "metadata": {},
   "source": [
    "Ahora ya no es posible hacer referencia al objeto `25` usando `x`:"
   ]
  },
  {
   "cell_type": "code",
   "execution_count": 71,
   "metadata": {},
   "outputs": [
    {
     "ename": "NameError",
     "evalue": "name 'x' is not defined",
     "output_type": "error",
     "traceback": [
      "\u001b[0;31m---------------------------------------------------------------------------\u001b[0m",
      "\u001b[0;31mNameError\u001b[0m                                 Traceback (most recent call last)",
      "Cell \u001b[0;32mIn[71], line 1\u001b[0m\n\u001b[0;32m----> 1\u001b[0m \u001b[38;5;28mprint\u001b[39m(\u001b[43mx\u001b[49m)\n",
      "\u001b[0;31mNameError\u001b[0m: name 'x' is not defined"
     ]
    }
   ],
   "source": [
    "print(x)"
   ]
  },
  {
   "cell_type": "markdown",
   "metadata": {},
   "source": [
    "Pero si es posible hacer referencia al objeto `25` con los nombres `y` y `z`:"
   ]
  },
  {
   "cell_type": "code",
   "execution_count": 72,
   "metadata": {},
   "outputs": [
    {
     "name": "stdout",
     "output_type": "stream",
     "text": [
      "25 25\n"
     ]
    }
   ],
   "source": [
    "print(y,z)"
   ]
  },
  {
   "cell_type": "markdown",
   "metadata": {},
   "source": [
    "Podemos hacer una asignación múltiples de objetos diferentes a variables diferentes:"
   ]
  },
  {
   "cell_type": "code",
   "execution_count": 74,
   "metadata": {},
   "outputs": [],
   "source": [
    "x, y, z = 'eje x', 3.141592, 50"
   ]
  },
  {
   "cell_type": "code",
   "execution_count": 75,
   "metadata": {},
   "outputs": [
    {
     "name": "stdout",
     "output_type": "stream",
     "text": [
      "<class 'str'> <class 'float'> <class 'int'>\n"
     ]
    }
   ],
   "source": [
    "print(type(x), type(y), type(z))"
   ]
  },
  {
   "cell_type": "code",
   "execution_count": 76,
   "metadata": {},
   "outputs": [
    {
     "name": "stdout",
     "output_type": "stream",
     "text": [
      "139672217233008 139672517638832 94157725270472\n"
     ]
    }
   ],
   "source": [
    "print(id(x), id(y), id(z))"
   ]
  },
  {
   "cell_type": "markdown",
   "metadata": {},
   "source": [
    "Como se observa, ahora las variables `x`, `y` y `z` hacen referencia a diferentes objetos, de distinto tipo."
   ]
  },
  {
   "cell_type": "markdown",
   "metadata": {},
   "source": [
    "\n",
    "<div class=\"alert alert-info\">\n",
    "\n",
    "### **Ejemplos de nombres NO válidos.**\n",
    "\n",
    "<font color=\"Black\">\n",
    "Los siguientes son ejemplos NO VALIDOS para el nombre de variables. Al ejecutar las celdas se obtendrá un error en cada una de ellas.\n",
    "</font>\n",
    "\n",
    "</div>"
   ]
  },
  {
   "cell_type": "code",
   "execution_count": 78,
   "metadata": {},
   "outputs": [
    {
     "ename": "SyntaxError",
     "evalue": "invalid decimal literal (953519616.py, line 1)",
     "output_type": "error",
     "traceback": [
      "\u001b[0;36m  Cell \u001b[0;32mIn[78], line 1\u001b[0;36m\u001b[0m\n\u001b[0;31m    1luis = 20      # No se puede iniciar con un número\u001b[0m\n\u001b[0m    ^\u001b[0m\n\u001b[0;31mSyntaxError\u001b[0m\u001b[0;31m:\u001b[0m invalid decimal literal\n"
     ]
    }
   ],
   "source": [
    "1luis = 20      # No se puede iniciar con un número"
   ]
  },
  {
   "cell_type": "code",
   "execution_count": 79,
   "metadata": {},
   "outputs": [
    {
     "ename": "SyntaxError",
     "evalue": "invalid syntax (2653363214.py, line 1)",
     "output_type": "error",
     "traceback": [
      "\u001b[0;36m  Cell \u001b[0;32mIn[79], line 1\u001b[0;36m\u001b[0m\n\u001b[0;31m    luis$ = 8.2323  # No puede contener caractéres especiales\u001b[0m\n\u001b[0m        ^\u001b[0m\n\u001b[0;31mSyntaxError\u001b[0m\u001b[0;31m:\u001b[0m invalid syntax\n"
     ]
    }
   ],
   "source": [
    "luis$ = 8.2323  # No puede contener caractéres especiales"
   ]
  },
  {
   "cell_type": "code",
   "execution_count": 80,
   "metadata": {},
   "outputs": [
    {
     "ename": "SyntaxError",
     "evalue": "invalid syntax (2521306807.py, line 1)",
     "output_type": "error",
     "traceback": [
      "\u001b[0;36m  Cell \u001b[0;32mIn[80], line 1\u001b[0;36m\u001b[0m\n\u001b[0;31m    for = 35        # Algunos nombres ya están reservados\u001b[0m\n\u001b[0m        ^\u001b[0m\n\u001b[0;31mSyntaxError\u001b[0m\u001b[0;31m:\u001b[0m invalid syntax\n"
     ]
    }
   ],
   "source": [
    "for = 35        # Algunos nombres ya están reservados"
   ]
  },
  {
   "cell_type": "markdown",
   "metadata": {},
   "source": [
    "## Palabras reservadas.\n",
    "\n",
    "Tampoco es posible usar las palabras reservadas para nombrar variables. Podemos conocer las palabras reservadas como sigue:"
   ]
  },
  {
   "cell_type": "code",
   "execution_count": 81,
   "metadata": {},
   "outputs": [
    {
     "name": "stdout",
     "output_type": "stream",
     "text": [
      "\n",
      "Here is a list of the Python keywords.  Enter any keyword to get more help.\n",
      "\n",
      "False               class               from                or\n",
      "None                continue            global              pass\n",
      "True                def                 if                  raise\n",
      "and                 del                 import              return\n",
      "as                  elif                in                  try\n",
      "assert              else                is                  while\n",
      "async               except              lambda              with\n",
      "await               finally             nonlocal            yield\n",
      "break               for                 not                 \n",
      "\n"
     ]
    }
   ],
   "source": [
    "help('keywords')"
   ]
  },
  {
   "cell_type": "code",
   "execution_count": null,
   "metadata": {},
   "outputs": [],
   "source": []
  }
 ],
 "metadata": {
  "kernelspec": {
   "display_name": "Python 3 (ipykernel)",
   "language": "python",
   "name": "python3"
  },
  "language_info": {
   "codemirror_mode": {
    "name": "ipython",
    "version": 3
   },
   "file_extension": ".py",
   "mimetype": "text/x-python",
   "name": "python",
   "nbconvert_exporter": "python",
   "pygments_lexer": "ipython3",
   "version": "3.11.6"
  }
 },
 "nbformat": 4,
 "nbformat_minor": 4
}
