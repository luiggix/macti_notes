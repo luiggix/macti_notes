{
 "cells": [
  {
   "cell_type": "markdown",
   "metadata": {},
   "source": [
    "# Decoradores.\n",
    "\n",
    "**Objetivo.**\n",
    "...\n",
    "\n",
    "**Funciones de Python**:\n",
    "...\n",
    "\n",
    " <p xmlns:cc=\"http://creativecommons.org/ns#\" xmlns:dct=\"http://purl.org/dc/terms/\"><a property=\"dct:title\" rel=\"cc:attributionURL\" href=\"https://github.com/repomacti/macti/tree/main/notebooks/Algebra_Lineal_01\">MACTI-Algebra_Lineal_01</a> by <a rel=\"cc:attributionURL dct:creator\" property=\"cc:attributionName\" href=\"https://www.macti.unam.mx\">Luis M. de la Cruz</a> is licensed under <a href=\"http://creativecommons.org/licenses/by-sa/4.0/?ref=chooser-v1\" target=\"_blank\" rel=\"license noopener noreferrer\" style=\"display:inline-block;\">Attribution-ShareAlike 4.0 International<img style=\"height:22px!important;margin-left:3px;vertical-align:text-bottom;\" src=\"https://mirrors.creativecommons.org/presskit/icons/cc.svg?ref=chooser-v1\"><img style=\"height:22px!important;margin-left:3px;vertical-align:text-bottom;\" src=\"https://mirrors.creativecommons.org/presskit/icons/by.svg?ref=chooser-v1\"><img style=\"height:22px!important;margin-left:3px;vertical-align:text-bottom;\" src=\"https://mirrors.creativecommons.org/presskit/icons/sa.svg?ref=chooser-v1\"></a></p>"
   ]
  },
  {
   "cell_type": "markdown",
   "metadata": {},
   "source": [
    "# Definición.\n",
    "\n",
    "- Se denomina decorador a la persona dedicada a diseñar el interior de oficinas, viviendas o establecimientos comerciales con criterios estéticos y funcionales.\n",
    "- En Python, un decorador es una función para modificar otra función.\n",
    "    - Recibe una función.\n",
    "    - Regresa otra función.\n",
    "- Los decoradores son herramientas bonitas y útiles de Python. <br>"
   ]
  },
  {
   "cell_type": "markdown",
   "metadata": {},
   "source": [
    "<div class=\"alert alert-info\">\n",
    "\n",
    "## **Ejemplo 1.**\n",
    "\n",
    "<font color=\"Black\">\n",
    "    \n",
    "La función `print_hello()` imprime `Hola mundo pythonico`. \n",
    "\n",
    "```python\n",
    "def print_hello():\n",
    "    print('{:^30}'.format('Hola mundo pythonico'))\n",
    "```\n",
    "\n",
    "Crear un decorador que agregue colores al mensaje.\n",
    "</font>\n",
    "</div>"
   ]
  },
  {
   "cell_type": "code",
   "execution_count": 43,
   "metadata": {},
   "outputs": [],
   "source": [
    "def print_hello():\n",
    "    print('{:^30}'.format('Hola mundo pythonico'))"
   ]
  },
  {
   "cell_type": "code",
   "execution_count": 44,
   "metadata": {},
   "outputs": [
    {
     "name": "stdout",
     "output_type": "stream",
     "text": [
      "     Hola mundo pythonico     \n"
     ]
    }
   ],
   "source": [
    "# Uso normal de la función\n",
    "print_hello()"
   ]
  },
  {
   "cell_type": "code",
   "execution_count": 45,
   "metadata": {},
   "outputs": [
    {
     "name": "stdout",
     "output_type": "stream",
     "text": [
      "\u001b[34m------------------------------\u001b[0m\n",
      "\u001b[42m\u001b[37m     Hola mundo pythonico     \n",
      "\u001b[0m\u001b[34m------------------------------\u001b[0m\n"
     ]
    }
   ],
   "source": [
    "from colorama import Fore, Back, Style\n",
    "\n",
    "# Decorador\n",
    "def mi_decorador1(f):\n",
    "\n",
    "    # La función que hace el decorado.\n",
    "    def envoltura():\n",
    "        linea = '-' * 30\n",
    "        print(Fore.BLUE + linea + Style.RESET_ALL)\n",
    "        print(Back.GREEN + Fore.WHITE, end='')\n",
    "        \n",
    "        f() # Ejecución de la función\n",
    "        \n",
    "        print(Style.RESET_ALL, end='')\n",
    "        print(Fore.BLUE + linea + Style.RESET_ALL)\n",
    "\n",
    "    # Regresamos la función decorada\n",
    "    return envoltura \n",
    "\n",
    "# Decorando la función.\n",
    "print_hello_colored = mi_decorador1(print_hello) # Funcion decorada\n",
    "\n",
    "# Ahora se ejecuta la función decorada.\n",
    "print_hello_colored()"
   ]
  },
  {
   "cell_type": "markdown",
   "metadata": {},
   "source": [
    "<div class=\"alert alert-info\">\n",
    "\n",
    "## **Ejemplo 2.**\n",
    "\n",
    "<font color=\"Black\">\n",
    "    \n",
    "La función `print_message(m)` imprime el mensaje que recibe como parámetro. \n",
    "\n",
    "```python\n",
    "def print_message(m):\n",
    "    print('{:^30}'.format(m))\n",
    "```\n",
    "\n",
    "Modificar el decorador creado en el ejemplo 1 para que se pueda recibir el parámetro `m`.\n",
    "</font>\n",
    "</div>"
   ]
  },
  {
   "cell_type": "code",
   "execution_count": 46,
   "metadata": {},
   "outputs": [],
   "source": [
    "# Decorador\n",
    "def mi_decorador2(f):\n",
    "\n",
    "    # La función que hace el decorado.\n",
    "    # Ahora recibe un parámetro\n",
    "    def envoltura(m):\n",
    "        linea = '-' * 30\n",
    "        print(Fore.BLUE + linea + Style.RESET_ALL)\n",
    "        print(Back.GREEN + Fore.WHITE, end='')\n",
    "        \n",
    "        f(m) # Ejecución de la función\n",
    "        \n",
    "        print(Style.RESET_ALL, end='')\n",
    "        print(Fore.BLUE + linea + Style.RESET_ALL)\n",
    "\n",
    "    # Regresamos la función decorada\n",
    "    return envoltura "
   ]
  },
  {
   "cell_type": "code",
   "execution_count": 47,
   "metadata": {},
   "outputs": [],
   "source": [
    "# La función se puede decorar en su definición como sigue\n",
    "@mi_decorador2\n",
    "def print_message(m):\n",
    "    print('{:^30}'.format(m))"
   ]
  },
  {
   "cell_type": "code",
   "execution_count": 49,
   "metadata": {},
   "outputs": [
    {
     "name": "stdout",
     "output_type": "stream",
     "text": [
      "\u001b[34m------------------------------\u001b[0m\n",
      "\u001b[42m\u001b[37m    bueno, bonito y barato    \n",
      "\u001b[0m\u001b[34m------------------------------\u001b[0m\n"
     ]
    }
   ],
   "source": [
    "# Entonces se puede usar la función con su nombre original\n",
    "print_message('bueno, bonito y barato')"
   ]
  },
  {
   "cell_type": "markdown",
   "metadata": {},
   "source": [
    "<div class=\"alert alert-info\">\n",
    "\n",
    "## **Ejemplo 3.**\n",
    "\n",
    "<font color=\"Black\">\n",
    "    \n",
    "Decorar las funciones `sin()` y `cos()` de la biblioteca `math`.\n",
    "\n",
    "</font>\n",
    "</div>\n"
   ]
  },
  {
   "cell_type": "code",
   "execution_count": 61,
   "metadata": {},
   "outputs": [
    {
     "name": "stdout",
     "output_type": "stream",
     "text": [
      "\u001b[34m--------------------------------------------------------------------------------\u001b[0m\n",
      "         \u001b[32msin(\u001b[1m3.141596\u001b[0m\u001b[32m) = \u001b[0m-3.3464102065883993e-06          \n",
      "\u001b[34m--------------------------------------------------------------------------------\u001b[0m\n",
      "\u001b[34m--------------------------------------------------------------------------------\u001b[0m\n",
      "           \u001b[32mcos(\u001b[1m3.141596\u001b[0m\u001b[32m) = \u001b[0m-0.9999999999944008            \n",
      "\u001b[34m--------------------------------------------------------------------------------\u001b[0m\n"
     ]
    }
   ],
   "source": [
    "def mi_decorador3(f):\n",
    "\n",
    "    def coloreado(x):\n",
    "\n",
    "        # Construimos una cadena coloreada con el \n",
    "        # resultado de la evaluación de f(x)\n",
    "        res = Fore.GREEN + f.__name__ \n",
    "        res += '(' + Style.BRIGHT + str(x) + Style.RESET_ALL + Fore.GREEN + ') = ' + Style.RESET_ALL\n",
    "        res += f'{f(x)}'\n",
    "\n",
    "        # Imprimimos el resultado\n",
    "        linea = '-' * 80\n",
    "        print(Fore.BLUE + linea + Style.RESET_ALL)\n",
    "        print('{:^80}'.format(res))\n",
    "        print(Fore.BLUE + linea + Style.RESET_ALL)\n",
    "\n",
    "    return coloreado\n",
    "\n",
    "from math import sin, cos\n",
    "\n",
    "sin = mi_decorador3(sin)\n",
    "cos = mi_decorador3(cos)\n",
    "\n",
    "for f in [sin, cos]:\n",
    "    f(3.141596)\n"
   ]
  },
  {
   "cell_type": "markdown",
   "metadata": {},
   "source": [
    "<div class=\"alert alert-info\">\n",
    "\n",
    "## **Ejemplo 4.**\n",
    "\n",
    "<font color=\"Black\">\n",
    "    \n",
    "Decorar funciones con un número variable de argumentos.\n",
    "</font>\n",
    "</div>\n"
   ]
  },
  {
   "cell_type": "code",
   "execution_count": 96,
   "metadata": {},
   "outputs": [
    {
     "name": "stdout",
     "output_type": "stream",
     "text": [
      "\u001b[34m--------------------------------------------------------------------------------\u001b[0m\n",
      "            \u001b[32mrandom(\u001b[1m(),{}\u001b[0m\u001b[32m) = \u001b[0m0.4390656899525458            \n",
      "\u001b[34m--------------------------------------------------------------------------------\u001b[0m\n",
      "\u001b[34m--------------------------------------------------------------------------------\u001b[0m\n",
      "                  \u001b[32mrandint(\u001b[1m(3, 8),{}\u001b[0m\u001b[32m) = \u001b[0m3                  \n",
      "\u001b[34m--------------------------------------------------------------------------------\u001b[0m\n",
      "\u001b[34m--------------------------------------------------------------------------------\u001b[0m\n",
      "               \u001b[32mchoice(\u001b[1m([4, 5, 6],),{}\u001b[0m\u001b[32m) = \u001b[0m5                \n",
      "\u001b[34m--------------------------------------------------------------------------------\u001b[0m\n",
      "\u001b[34m--------------------------------------------------------------------------------\u001b[0m\n",
      "\u001b[32mchoices(\u001b[1m([0, 1, 2, 3, 4, 5, 6, 7, 8, 9],),{'k': 3}\u001b[0m\u001b[32m) = \u001b[0m[5, 3, 9]\n",
      "\u001b[34m--------------------------------------------------------------------------------\u001b[0m\n"
     ]
    }
   ],
   "source": [
    "from random import random, randint, choice, choices\n",
    "\n",
    "def mi_decorador4(f):\n",
    "    def envoltura(*args, **kwargs):\n",
    "\n",
    "        # Construimos una cadena coloreada con el \n",
    "        # resultado de la evaluación de f(x)\n",
    "        res = Fore.GREEN + f.__name__ \n",
    "        res += '(' + Style.BRIGHT + f'{args},{kwargs}' + Style.RESET_ALL + Fore.GREEN + ') = ' + Style.RESET_ALL\n",
    "        res += f'{f(*args, **kwargs)}'\n",
    "        \n",
    "        # Imprimimos el resultado\n",
    "        linea = '-' * 80\n",
    "        print(Fore.BLUE + linea + Style.RESET_ALL)\n",
    "        print('{:^80}'.format(res))\n",
    "        print(Fore.BLUE + linea + Style.RESET_ALL)\n",
    "        \n",
    "    return envoltura\n",
    "\n",
    "random = mi_decorador4(random)\n",
    "randint = mi_decorador4(randint)\n",
    "choice = mi_decorador4(choice)\n",
    "choices = mi_decorador4(choices)\n",
    "\n",
    "random()\n",
    "randint(3, 8)\n",
    "choice([4, 5, 6])\n",
    "\n",
    "p = [x for x in range(10)]\n",
    "choices(p, k=3)"
   ]
  },
  {
   "cell_type": "markdown",
   "metadata": {},
   "source": [
    "<div class=\"alert alert-info\">\n",
    "\n",
    "## **Ejemplo 5.**\n",
    "\n",
    "<font color=\"Black\">\n",
    "    \n",
    "Crear un decorador que calcule el tiempo de ejecución de una función.\n",
    "</font>\n",
    "</div>\n",
    "\n"
   ]
  },
  {
   "cell_type": "code",
   "execution_count": 97,
   "metadata": {},
   "outputs": [
    {
     "name": "stdout",
     "output_type": "stream",
     "text": [
      "\n",
      "La suma es: 49995000\n",
      "Elapsed time: 0.0012546591460704803\n",
      "\n"
     ]
    }
   ],
   "source": [
    "import time\n",
    "\n",
    "def crono(f):\n",
    "    \"\"\"\n",
    "    Regresa el tiempo que toma en ejecutarse la funcion.\n",
    "    \"\"\"\n",
    "    def tiempo():\n",
    "        t1 = time.perf_counter()\n",
    "        f()\n",
    "        t2 = time.perf_counter()\n",
    "        return 'Elapsed time: ' + str((t2 - t1)) + \"\\n\"\n",
    "    return tiempo\n",
    "\n",
    "@crono\n",
    "def miFuncion():\n",
    "    numeros = []\n",
    "    for num in (range(0, 10000)):\n",
    "        numeros.append(num)\n",
    "    print('\\nLa suma es: ' + str((sum(numeros))))\n",
    "\n",
    "print(miFuncion())\n"
   ]
  },
  {
   "cell_type": "markdown",
   "metadata": {},
   "source": [
    "<div class=\"alert alert-info\">\n",
    "\n",
    "## **Ejemplo 6.**\n",
    "\n",
    "<font color=\"Black\">\n",
    "    \n",
    "Detener la ejecución por un tiempo antes que una función sea ejecutada.\n",
    "</font>\n",
    "</div>"
   ]
  },
  {
   "cell_type": "code",
   "execution_count": 100,
   "metadata": {},
   "outputs": [
    {
     "name": "stdout",
     "output_type": "stream",
     "text": [
      "1 2 3 4 5 \n",
      " --> happy finish!\n"
     ]
    }
   ],
   "source": [
    "from time import sleep\n",
    "\n",
    "def sleepDecorador(function):\n",
    "\n",
    "    def duerme(*args, **kwargs):\n",
    "        sleep(1)\n",
    "        return function(*args, **kwargs)\n",
    "    return duerme\n",
    "\n",
    "\n",
    "@sleepDecorador\n",
    "def imprimeNumero(num):\n",
    "    return num\n",
    "\n",
    "for num in range(1, 6):\n",
    "    print(imprimeNumero(num), end = ' ')\n",
    "\n",
    "print('\\n --> happy finish!')"
   ]
  },
  {
   "cell_type": "markdown",
   "metadata": {},
   "source": [
    "<div class=\"alert alert-info\">\n",
    "\n",
    "## **Ejemplo 7.**\n",
    "\n",
    "<font color=\"Black\">\n",
    "    \n",
    "Crear un decorador que cheque que el argumento de una función que calcula el factorial, sea un entero positivo.\n",
    "</font>\n",
    "</div>\n"
   ]
  },
  {
   "cell_type": "code",
   "execution_count": 102,
   "metadata": {},
   "outputs": [
    {
     "name": "stdout",
     "output_type": "stream",
     "text": [
      "1 1\n",
      "2 2\n",
      "3 6\n",
      "4 24\n",
      "5 120\n",
      "6 720\n",
      "7 5040\n",
      "8 40320\n",
      "9 362880\n"
     ]
    }
   ],
   "source": [
    "def checaArgumento(f):\n",
    "    def checador(x):\n",
    "        if type(x) == int and x > 0:\n",
    "            return f(x)\n",
    "        else:\n",
    "            raise Exception(\"El argumento no es un entero positivo\")\n",
    "    return checador\n",
    "\n",
    "@checaArgumento\n",
    "def factorial(n):\n",
    "    if n == 1:\n",
    "        return 1\n",
    "    else:\n",
    "        return n * factorial(n-1)\n",
    "    \n",
    "for i in range(1,10):\n",
    "    print(i, factorial(i))"
   ]
  },
  {
   "cell_type": "code",
   "execution_count": 103,
   "metadata": {},
   "outputs": [
    {
     "ename": "Exception",
     "evalue": "El argumento no es un entero positivo",
     "output_type": "error",
     "traceback": [
      "\u001b[0;31m---------------------------------------------------------------------------\u001b[0m",
      "\u001b[0;31mException\u001b[0m                                 Traceback (most recent call last)",
      "Cell \u001b[0;32mIn[103], line 1\u001b[0m\n\u001b[0;32m----> 1\u001b[0m \u001b[38;5;28mprint\u001b[39m(\u001b[43mfactorial\u001b[49m\u001b[43m(\u001b[49m\u001b[38;5;241;43m-\u001b[39;49m\u001b[38;5;241;43m1\u001b[39;49m\u001b[43m)\u001b[49m)\n",
      "Cell \u001b[0;32mIn[102], line 6\u001b[0m, in \u001b[0;36mchecaArgumento.<locals>.checador\u001b[0;34m(x)\u001b[0m\n\u001b[1;32m      4\u001b[0m     \u001b[38;5;28;01mreturn\u001b[39;00m f(x)\n\u001b[1;32m      5\u001b[0m \u001b[38;5;28;01melse\u001b[39;00m:\n\u001b[0;32m----> 6\u001b[0m     \u001b[38;5;28;01mraise\u001b[39;00m \u001b[38;5;167;01mException\u001b[39;00m(\u001b[38;5;124m\"\u001b[39m\u001b[38;5;124mEl argumento no es un entero positivo\u001b[39m\u001b[38;5;124m\"\u001b[39m)\n",
      "\u001b[0;31mException\u001b[0m: El argumento no es un entero positivo"
     ]
    }
   ],
   "source": [
    "print(factorial(-1))"
   ]
  },
  {
   "cell_type": "markdown",
   "metadata": {},
   "source": [
    "<div class=\"alert alert-info\">\n",
    "\n",
    "## **Ejemplo 8.**\n",
    "\n",
    "<font color=\"Black\">\n",
    "    \n",
    "Contar el número de llamadas de una función.\n",
    "</font>\n",
    "</div>"
   ]
  },
  {
   "cell_type": "code",
   "execution_count": 108,
   "metadata": {},
   "outputs": [
    {
     "name": "stdout",
     "output_type": "stream",
     "text": [
      "Llamadas a suma = 0\n",
      "Llamadas a suma = 4\n",
      "Llamadas a multp1 = 3\n"
     ]
    }
   ],
   "source": [
    "def contadorDeLlamadas(func):\n",
    "    \n",
    "    def cuenta(*args, **kwargs):\n",
    "        cuenta.calls += 1\n",
    "        return func(*args, **kwargs)\n",
    "        \n",
    "    # Variable estática que lleva la cuenta\n",
    "    cuenta.calls = 0\n",
    "    \n",
    "    return cuenta\n",
    "\n",
    "@contadorDeLlamadas\n",
    "def suma(x):\n",
    "    return x + 1\n",
    "\n",
    "@contadorDeLlamadas\n",
    "def mulp1(x, y=1):\n",
    "    return x*y + 1\n",
    "\n",
    "print('Llamadas a suma = {}'.format(suma.calls))\n",
    "\n",
    "for i in range(4):\n",
    "    suma(i)\n",
    "    \n",
    "mulp1(1, 2)\n",
    "mulp1(5)\n",
    "mulp1(y=2, x=25)\n",
    "\n",
    "print('Llamadas a suma = {}'.format(suma.calls))\n",
    "print('Llamadas a multp1 = {}'.format(mulp1.calls))"
   ]
  },
  {
   "cell_type": "markdown",
   "metadata": {},
   "source": [
    "<div class=\"alert alert-info\">\n",
    "\n",
    "## **Ejemplo 9.**\n",
    "\n",
    "<font color=\"Black\">\n",
    "    \n",
    "Decorar una función con diferentes saludos.\n",
    "</font>\n",
    "</div>\n",
    "\n"
   ]
  },
  {
   "cell_type": "code",
   "execution_count": 109,
   "metadata": {},
   "outputs": [
    {
     "name": "stdout",
     "output_type": "stream",
     "text": [
      "Hola, buenas tardes, son las 3 pm\n",
      "Hola, buenos días, son las 8 am\n"
     ]
    }
   ],
   "source": [
    "def buenasTardes(func):\n",
    "    def saludo(x):\n",
    "        print(\"Hola, buenas tardes, \", end='')\n",
    "        func(x)\n",
    "    return saludo\n",
    "\n",
    "def buenosDias(func):\n",
    "    def saludo(x):\n",
    "        print(\"Hola, buenos días, \", end='')\n",
    "        func(x)\n",
    "    return saludo\n",
    "\n",
    "@buenasTardes\n",
    "def mensaje1(hora):\n",
    "    print(\"son las \" + hora)\n",
    "\n",
    "mensaje1(\"3 pm\")\n",
    "\n",
    "@buenosDias\n",
    "def mensaje2(hora):\n",
    "    print(\"son las \" + hora)\n",
    "    \n",
    "mensaje2(\"8 am\")"
   ]
  },
  {
   "cell_type": "markdown",
   "metadata": {},
   "source": [
    "<div class=\"alert alert-info\">\n",
    "\n",
    "## **Ejemplo 10.**\n",
    "\n",
    "<font color=\"Black\">\n",
    "    \n",
    "El ejemplo anterior se puede realizar como sigue:\n",
    "</font>\n",
    "</div>\n",
    "\n"
   ]
  },
  {
   "cell_type": "code",
   "execution_count": 112,
   "metadata": {},
   "outputs": [
    {
     "name": "stdout",
     "output_type": "stream",
     "text": [
      "Hola, buenas tardes, son las 3 pm\n",
      "Hola, buenos días, son las 8 am\n",
      "καλημερα  <--- en griego  :D \n"
     ]
    }
   ],
   "source": [
    "def saludo(expr):\n",
    "    def saludoDecorador(func):\n",
    "        def saludoGenerico(x):\n",
    "            print(expr, end='')\n",
    "            func(x)\n",
    "        return saludoGenerico\n",
    "    return saludoDecorador\n",
    "\n",
    "@saludo(\"Hola, buenas tardes, \")\n",
    "def mensaje1(hora):\n",
    "    print(\"son las \" + hora)\n",
    "\n",
    "mensaje1(\"3 pm\")\n",
    "\n",
    "@saludo(\"Hola, buenos días, \")\n",
    "def mensaje2(hora):\n",
    "    print(\"son las \" + hora)\n",
    "    \n",
    "mensaje2(\"8 am\")\n",
    "\n",
    "@saludo(\"καλημερα \")\n",
    "def mensaje3(hora):\n",
    "    print(\" <--- en griego \" + hora)\n",
    "    \n",
    "mensaje3(\" :D \")"
   ]
  },
  {
   "cell_type": "code",
   "execution_count": null,
   "metadata": {},
   "outputs": [],
   "source": []
  }
 ],
 "metadata": {
  "kernelspec": {
   "display_name": "Python 3 (ipykernel)",
   "language": "python",
   "name": "python3"
  },
  "language_info": {
   "codemirror_mode": {
    "name": "ipython",
    "version": 3
   },
   "file_extension": ".py",
   "mimetype": "text/x-python",
   "name": "python",
   "nbconvert_exporter": "python",
   "pygments_lexer": "ipython3",
   "version": "3.11.6"
  }
 },
 "nbformat": 4,
 "nbformat_minor": 4
}
