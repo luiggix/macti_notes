{
 "cells": [
  {
   "cell_type": "markdown",
   "metadata": {},
   "source": [
    "# Funciones y docstring.\n",
    "\n",
    "**Objetivo.**\n",
    "...\n",
    "\n",
    "**Funciones de Python**:\n",
    "...\n",
    "\n",
    " <p xmlns:cc=\"http://creativecommons.org/ns#\" xmlns:dct=\"http://purl.org/dc/terms/\"><a property=\"dct:title\" rel=\"cc:attributionURL\" href=\"https://github.com/repomacti/macti/tree/main/notebooks/Algebra_Lineal_01\">MACTI-Algebra_Lineal_01</a> by <a rel=\"cc:attributionURL dct:creator\" property=\"cc:attributionName\" href=\"https://www.macti.unam.mx\">Luis M. de la Cruz</a> is licensed under <a href=\"http://creativecommons.org/licenses/by-sa/4.0/?ref=chooser-v1\" target=\"_blank\" rel=\"license noopener noreferrer\" style=\"display:inline-block;\">Attribution-ShareAlike 4.0 International<img style=\"height:22px!important;margin-left:3px;vertical-align:text-bottom;\" src=\"https://mirrors.creativecommons.org/presskit/icons/cc.svg?ref=chooser-v1\"><img style=\"height:22px!important;margin-left:3px;vertical-align:text-bottom;\" src=\"https://mirrors.creativecommons.org/presskit/icons/by.svg?ref=chooser-v1\"><img style=\"height:22px!important;margin-left:3px;vertical-align:text-bottom;\" src=\"https://mirrors.creativecommons.org/presskit/icons/sa.svg?ref=chooser-v1\"></a></p> "
   ]
  },
  {
   "cell_type": "markdown",
   "metadata": {},
   "source": [
    "# Definición de funciones\n",
    "\n",
    "Las funciones son la primera forma de estructurar un programa. Esto nos lleva al paradigma de programación estructurada, junto con las construcciones de control de flujo. Las funciones nos permiten agrupar y reutilizar líneas de código.\n",
    "\n",
    "La sintáxis es:\n",
    "\n",
    "```python\n",
    "def nombre_de_la_función(parm1, parm2, ...):\n",
    "    bloque_de_código\n",
    "    return resultado\n",
    "```\n",
    "\n",
    "Una vez definida la función, es posible ejecutarla (hacer una llamada a la función) como sigue:\n",
    "\n",
    "```python\n",
    "nombre_de_la_función(arg1, arg2, ...)\n",
    "```\n",
    "\n",
    "También es posible hacer lo siguiente:\n",
    "\n",
    "\n",
    "\n",
    "En ambos casos, la función regresa un resultado debido a que existe la declaración `return` dentro de la función. Este resultado puede ser referenciado por una variable haciendo lo siguiente:\n",
    "\n",
    "```python\n",
    "variable = nombre_de_la_función(arg1, arg2, ...)\n",
    "```\n",
    "\n",
    "La `variable` puede ser utilizada posteriormente para otros cálculos.\n",
    "\n",
    "Observa que:\n",
    "* Cuando se define la función, se definen los **parámetros** que recibirá, en este caso `param1`, `param2`, `...`\n",
    "* Cuando se ejecuta la función, se pasan los valores los `arg1`, `arg2`, `...`, los cuales son los **argumentos** de la ejecución y serán sustituidos en los parámetros de la función.\n",
    "\n",
    "Veamos un ejemplo simple:"
   ]
  },
  {
   "cell_type": "code",
   "execution_count": 5,
   "metadata": {},
   "outputs": [],
   "source": [
    "# Función que calcula el cuadrado de su argumento.\n",
    "def squared(f):\n",
    "    return f ** 2"
   ]
  },
  {
   "cell_type": "code",
   "execution_count": 6,
   "metadata": {},
   "outputs": [
    {
     "data": {
      "text/plain": [
       "4"
      ]
     },
     "execution_count": 6,
     "metadata": {},
     "output_type": "execute_result"
    }
   ],
   "source": [
    "# Se ejecuta la función con el argumento 2\n",
    "squared(2) "
   ]
  },
  {
   "cell_type": "code",
   "execution_count": 9,
   "metadata": {},
   "outputs": [
    {
     "name": "stdout",
     "output_type": "stream",
     "text": [
      "9\n"
     ]
    }
   ],
   "source": [
    "# Se ejecuta la función con el argumento 3\n",
    "# el resultado se almacena en f2\n",
    "f2 = squared(3)\n",
    "print(f2)"
   ]
  },
  {
   "cell_type": "markdown",
   "metadata": {},
   "source": [
    "Veamos ahora un ejemplo más interesante"
   ]
  },
  {
   "cell_type": "code",
   "execution_count": 10,
   "metadata": {},
   "outputs": [],
   "source": [
    "# La siguiente función calcula la secuencia de Fibonacci\n",
    "def fib(n):  # La función se llama fib y tiene el parámetro n\n",
    "    a, b = 0, 1\n",
    "    while a < n:\n",
    "        print(a, end=',')\n",
    "        a, b = b, a+b"
   ]
  },
  {
   "cell_type": "markdown",
   "metadata": {},
   "source": [
    "Observa que esta función no regresa ningún valor, solo imprime en pantalla un valor conforme lo calcula."
   ]
  },
  {
   "cell_type": "code",
   "execution_count": 11,
   "metadata": {},
   "outputs": [
    {
     "name": "stdout",
     "output_type": "stream",
     "text": [
      "0,1,1,2,3,5,8,13,21,34,"
     ]
    }
   ],
   "source": [
    "fib(50) # ejecutamos la función fib con el argumento 10"
   ]
  },
  {
   "cell_type": "markdown",
   "metadata": {},
   "source": [
    "Le podemos poner otro nombre a la función"
   ]
  },
  {
   "cell_type": "code",
   "execution_count": 14,
   "metadata": {},
   "outputs": [],
   "source": [
    "Fibonacci = fib"
   ]
  },
  {
   "cell_type": "code",
   "execution_count": 15,
   "metadata": {},
   "outputs": [
    {
     "name": "stdout",
     "output_type": "stream",
     "text": [
      "0,1,1,2,3,5,8,13,21,34,55,89,144,"
     ]
    }
   ],
   "source": [
    "Fibonacci(200)"
   ]
  },
  {
   "cell_type": "code",
   "execution_count": 16,
   "metadata": {},
   "outputs": [
    {
     "name": "stdout",
     "output_type": "stream",
     "text": [
      "<class 'function'>\n",
      "<class 'function'>\n"
     ]
    }
   ],
   "source": [
    "print(type(fib))\n",
    "print(type(Fibonacci))"
   ]
  },
  {
   "cell_type": "code",
   "execution_count": 17,
   "metadata": {},
   "outputs": [
    {
     "name": "stdout",
     "output_type": "stream",
     "text": [
      "140670158000416\n",
      "140670158000416\n"
     ]
    }
   ],
   "source": [
    "print(id(fib))\n",
    "print(id(Fibonacci))"
   ]
  },
  {
   "cell_type": "markdown",
   "metadata": {},
   "source": [
    "Observamos que se puede ejecutar la función `fib()` a través de `Fibonacci()` y que ambos nombres hacen referencia a la misma función."
   ]
  },
  {
   "cell_type": "markdown",
   "metadata": {},
   "source": [
    "# Ámbitos\n",
    "\n",
    "Las funciones (y otros operadores también), crean su propio ámbito, de tal manera que las etiquetas declaradas dentro de funciones son locales."
   ]
  },
  {
   "cell_type": "code",
   "execution_count": 19,
   "metadata": {},
   "outputs": [],
   "source": [
    "a = 20 # Objeto global etiquetado con a\n",
    "\n",
    "def f():\n",
    "    a = 21 # Objeto local etiquetado con a\n",
    "    return a"
   ]
  },
  {
   "cell_type": "code",
   "execution_count": 26,
   "metadata": {},
   "outputs": [
    {
     "name": "stdout",
     "output_type": "stream",
     "text": [
      "20\n"
     ]
    }
   ],
   "source": [
    "# ¿Que valor tiene 'a' fuera de la función?\n",
    "print(a)"
   ]
  },
  {
   "cell_type": "code",
   "execution_count": 27,
   "metadata": {},
   "outputs": [
    {
     "name": "stdout",
     "output_type": "stream",
     "text": [
      "20\n"
     ]
    }
   ],
   "source": [
    "# ¿Qué valor tiene la 'a' dentro de la función?\n",
    "print(f())"
   ]
  },
  {
   "cell_type": "markdown",
   "metadata": {},
   "source": [
    "Para usar el objeto global dentro de la función debemos usar `global`"
   ]
  },
  {
   "cell_type": "code",
   "execution_count": 28,
   "metadata": {},
   "outputs": [],
   "source": [
    "a = 20\n",
    "\n",
    "def f():\n",
    "    global a \n",
    "    return a"
   ]
  },
  {
   "cell_type": "code",
   "execution_count": 29,
   "metadata": {},
   "outputs": [
    {
     "name": "stdout",
     "output_type": "stream",
     "text": [
      "20\n"
     ]
    }
   ],
   "source": [
    "# ¿Que valor tiene 'a' fuera de la función?\n",
    "print(a)"
   ]
  },
  {
   "cell_type": "code",
   "execution_count": 31,
   "metadata": {},
   "outputs": [
    {
     "name": "stdout",
     "output_type": "stream",
     "text": [
      "20\n"
     ]
    }
   ],
   "source": [
    "# La 'a' dentro de la función hace referencia a la 'a' global\n",
    "print(f())"
   ]
  },
  {
   "cell_type": "markdown",
   "metadata": {},
   "source": [
    "# Retorno de una función\n",
    "\n",
    "Como se mencionó antes, la declaración `return`, dentro de una función, regresa un objeto que en principio contiene el resultado de las operaciones realizadas por la función.\n",
    "\n",
    "Veamos un ejemplo."
   ]
  },
  {
   "cell_type": "code",
   "execution_count": 36,
   "metadata": {},
   "outputs": [],
   "source": [
    "g = 9.81\n",
    "# Función que calcula la posición y velocidad en el tiro vertical de un objeto.\n",
    "def verticalThrow(t, v0): \n",
    "    g = 3.1416 # [m / s**2]\n",
    "    y = v0 * t - 0.5 * g * t**2 \n",
    "    v = v0 - g * t \n",
    "    return (y, v)  # regresa la posición [m] y la velocidad [m/s] en un objeto de tipo tupla"
   ]
  },
  {
   "cell_type": "code",
   "execution_count": 37,
   "metadata": {},
   "outputs": [
    {
     "data": {
      "text/plain": [
       "(33.7168, 13.7168)"
      ]
     },
     "execution_count": 37,
     "metadata": {},
     "output_type": "execute_result"
    }
   ],
   "source": [
    "t = 2.0   # [s]\n",
    "v0 = 20   # [m/s]\n",
    "verticalThrow(t, v0)"
   ]
  },
  {
   "cell_type": "code",
   "execution_count": 38,
   "metadata": {},
   "outputs": [],
   "source": [
    "resultado = verticalThrow(t, v0)"
   ]
  },
  {
   "cell_type": "code",
   "execution_count": 39,
   "metadata": {},
   "outputs": [
    {
     "name": "stdout",
     "output_type": "stream",
     "text": [
      "(33.7168, 13.7168)\n"
     ]
    }
   ],
   "source": [
    "print(resultado)"
   ]
  },
  {
   "cell_type": "markdown",
   "metadata": {},
   "source": [
    "# Argumentos por omisión\n",
    "\n",
    "Los parámetros de una función pueden tener valores (argumentos) por omisión, es decir, si no se da un valor para uno de los parámetros, entonces se toma el valor definido por omisión. Esto crea una función que se puede llamar con menos argumentos de los que está definida inicialmente. \n",
    "\n",
    "Por ejemplo:"
   ]
  },
  {
   "cell_type": "code",
   "execution_count": 40,
   "metadata": {},
   "outputs": [],
   "source": [
    "# Función que calcula la posición y velocidad en el tiro vertical de un objeto.\n",
    "def verticalThrow(t, v0 = 20):  # El valor 20 es un argumento por omisión\n",
    "    g = 9.81 # [m / s**2]\n",
    "    y = v0 * t - 0.5 * g * t**2 \n",
    "    v = v0 - g * t \n",
    "    return (y, v)"
   ]
  },
  {
   "cell_type": "code",
   "execution_count": 48,
   "metadata": {},
   "outputs": [
    {
     "name": "stdout",
     "output_type": "stream",
     "text": [
      "20.38 0.379999999999999\n"
     ]
    }
   ],
   "source": [
    "pos, vel = verticalThrow(2.0) # El valor 2.0 corresponde al primer parámetro de la función, 't'\n",
    "                              # En este caso v0 será igual a 20.\n",
    "print(pos, vel)"
   ]
  },
  {
   "cell_type": "code",
   "execution_count": 47,
   "metadata": {},
   "outputs": [
    {
     "name": "stdout",
     "output_type": "stream",
     "text": [
      "40.379999999999995 10.379999999999999\n"
     ]
    }
   ],
   "source": [
    "pos, vel = verticalThrow(2.0, 30) # En este caso v0 = 30\n",
    "print(pos, vel)"
   ]
  },
  {
   "cell_type": "markdown",
   "metadata": {},
   "source": [
    "Una función puede tener más de un argumento por omisión. Todos los parámetros que tienen argumentos por omisión deben estar al final de la lista en la declaración de la función.\n",
    "\n",
    "Por ejemplo:"
   ]
  },
  {
   "cell_type": "code",
   "execution_count": 55,
   "metadata": {},
   "outputs": [],
   "source": [
    "def f(a,b,c,d=10,e=20):\n",
    "    return a+b+c+d+e"
   ]
  },
  {
   "cell_type": "code",
   "execution_count": 58,
   "metadata": {},
   "outputs": [
    {
     "name": "stdout",
     "output_type": "stream",
     "text": [
      "36\n"
     ]
    }
   ],
   "source": [
    "print(f(1,2,3))  # Se los dos argumentos por omisión 10 y 20"
   ]
  },
  {
   "cell_type": "code",
   "execution_count": 59,
   "metadata": {},
   "outputs": [
    {
     "name": "stdout",
     "output_type": "stream",
     "text": [
      "30\n"
     ]
    }
   ],
   "source": [
    "print(f(1,2,3,4)) # Se usa el último argumento por omisión 20"
   ]
  },
  {
   "cell_type": "code",
   "execution_count": 61,
   "metadata": {},
   "outputs": [
    {
     "name": "stdout",
     "output_type": "stream",
     "text": [
      "15\n"
     ]
    }
   ],
   "source": [
    "print(f(1,2,3,4,5)) # Se dan todos los argumentos."
   ]
  },
  {
   "cell_type": "markdown",
   "metadata": {},
   "source": [
    "# Argumentos posicionales y `keyword`\n",
    "Un **argumento** es el valor que se le pasa a una función cuando se llama. Hay dos tipos de argumentos:\n",
    "\n",
    "***Positional argument*** :\n",
    "\n",
    "1. Un argumento que no es precedido por un identificador: `verticalThrow(3, 50)`\n",
    "    \n",
    "2. Un argumento que es pasado en una tupla precedido por `*`: `verticalThrow(*(3, 50))`.\n",
    "\n",
    "  En este caso, el `*` indica a Python que la tupla `(3, 50)` debe desempacarse cuando se reciba en la función, de tal manera que `3` será el primer argumento y `5` el segundo.\n",
    "\n",
    "  La llamada a la función del punto 2 es equivalente a la del punto 1. \n",
    "  \n",
    "***Keyword argument*** :\n",
    "\n",
    "3. Un argumento precedido por un identificador. `verticalThrow(t=3, v0=50)`\n",
    "    \n",
    "4. Un argumento que se pasa en un diccionario precedido por `**`:`verticalThrow(**{'t': 3, 'v0': 50})`.\n",
    "\n",
    "  En este caso, el `**` indica a Python que el diccionario `{'t': 3, 'v0': 50}` debe desempacarse cuando se reciba en la función. Observa que el diccionario contiene dos pares clave-valor: `'t': 3` y `'v0': 50`. \n",
    "  \n",
    "  La llamada a la función del punto 4 es equivalente a la del punto 3. \n",
    "\n",
    "Veamos los ejemplos en código:\n",
    "\n",
    "Primer recordemos que la firma de la función es `def verticalThrow(t, v0 = 20):` es decir, el primer parámetro es `t` y el segundo `v0`."
   ]
  },
  {
   "cell_type": "code",
   "execution_count": 68,
   "metadata": {},
   "outputs": [
    {
     "data": {
      "text/plain": [
       "(105.85499999999999, 20.57)"
      ]
     },
     "execution_count": 68,
     "metadata": {},
     "output_type": "execute_result"
    }
   ],
   "source": [
    "# Los argumentos se sustituyen en los parámetros en el orden de acuerdo a su posición.\n",
    "verticalThrow(3,50)"
   ]
  },
  {
   "cell_type": "code",
   "execution_count": 69,
   "metadata": {},
   "outputs": [
    {
     "data": {
      "text/plain": [
       "(-12112.5, -487.5)"
      ]
     },
     "execution_count": 69,
     "metadata": {},
     "output_type": "execute_result"
    }
   ],
   "source": [
    "# Lo anterior NO es equivalente a:\n",
    "verticalThrow(50,3)"
   ]
  },
  {
   "cell_type": "code",
   "execution_count": 70,
   "metadata": {},
   "outputs": [
    {
     "data": {
      "text/plain": [
       "(105.85499999999999, 20.57)"
      ]
     },
     "execution_count": 70,
     "metadata": {},
     "output_type": "execute_result"
    }
   ],
   "source": [
    "# Se pueden pasar los argumentos empacados en una tupla\n",
    "verticalThrow(*(3,50))"
   ]
  },
  {
   "cell_type": "code",
   "execution_count": 71,
   "metadata": {},
   "outputs": [
    {
     "data": {
      "text/plain": [
       "(105.85499999999999, 20.57)"
      ]
     },
     "execution_count": 71,
     "metadata": {},
     "output_type": "execute_result"
    }
   ],
   "source": [
    "# Se puede usar el nombre del parámetro para determinar\n",
    "# como se sustituyen los argumentos:\n",
    "verticalThrow(t=3,v0=50)"
   ]
  },
  {
   "cell_type": "code",
   "execution_count": 73,
   "metadata": {},
   "outputs": [
    {
     "data": {
      "text/plain": [
       "(105.85499999999999, 20.57)"
      ]
     },
     "execution_count": 73,
     "metadata": {},
     "output_type": "execute_result"
    }
   ],
   "source": [
    "# Lo anterior SI es equivalente a:\n",
    "verticalThrow(v0=50, t=3)"
   ]
  },
  {
   "cell_type": "code",
   "execution_count": 74,
   "metadata": {},
   "outputs": [
    {
     "data": {
      "text/plain": [
       "(105.85499999999999, 20.57)"
      ]
     },
     "execution_count": 74,
     "metadata": {},
     "output_type": "execute_result"
    }
   ],
   "source": [
    "# Se pueden pasar los argumentos empacados en un diccionario\n",
    "verticalThrow(**{'t':3,'v0':50})"
   ]
  },
  {
   "cell_type": "code",
   "execution_count": 78,
   "metadata": {},
   "outputs": [
    {
     "data": {
      "text/plain": [
       "(105.85499999999999, 20.57)"
      ]
     },
     "execution_count": 78,
     "metadata": {},
     "output_type": "execute_result"
    }
   ],
   "source": [
    "# También se acepta esta forma:\n",
    "verticalThrow(**dict(t = 3,v0 = 50))"
   ]
  },
  {
   "cell_type": "markdown",
   "metadata": {},
   "source": [
    "# Número variable de parámetros\n",
    "\n",
    "Dada la funcionalidad descrita en la sección anterior, es posible que una función reciba un número variable de argumentos."
   ]
  },
  {
   "cell_type": "code",
   "execution_count": 80,
   "metadata": {},
   "outputs": [],
   "source": [
    "# *args: número variable de Positional arguments empacados en una tupla\n",
    "# *kwargs: número variable de Keyword arguments empacados en un diccionario\n",
    "def parametrosVariables(*args, **kwargs):\n",
    "    print('args es una tupla : ', args)\n",
    "    print('kwargs es un diccionario: ', kwargs)\n",
    "    print(set(kwargs))"
   ]
  },
  {
   "cell_type": "code",
   "execution_count": 81,
   "metadata": {},
   "outputs": [
    {
     "name": "stdout",
     "output_type": "stream",
     "text": [
      "args es una tupla :  ('one', 'two', 'three', 'four')\n",
      "kwargs es un diccionario:  {'a': 4, 'x': 1, 'y': 2, 'z': 3, 'w': [1, 2, 2]}\n",
      "{'a', 'y', 'w', 'z', 'x'}\n"
     ]
    }
   ],
   "source": [
    "parametrosVariables('one', 'two','three', 'four', a = 4,  x=1, y=2, z=3, w=[1,2,2])"
   ]
  },
  {
   "cell_type": "code",
   "execution_count": 82,
   "metadata": {},
   "outputs": [
    {
     "name": "stdout",
     "output_type": "stream",
     "text": [
      "args es una tupla :  (1, 2, 3)\n",
      "kwargs es un diccionario:  {'w': 8, 'y': 'cadena'}\n",
      "{'w', 'y'}\n"
     ]
    }
   ],
   "source": [
    "parametrosVariables(1,2,3, w=8, y='cadena')"
   ]
  },
  {
   "cell_type": "code",
   "execution_count": 85,
   "metadata": {},
   "outputs": [],
   "source": [
    "# Los argumentos que vienen en un diccionario se desempacan\n",
    "#  y se pueden usar dentro de la función:\n",
    "def funcion_kargs(**argumentos):\n",
    "    for key, val in argumentos.items():\n",
    "        print(f\" {key} : {val}\")"
   ]
  },
  {
   "cell_type": "code",
   "execution_count": 86,
   "metadata": {},
   "outputs": [
    {
     "name": "stdout",
     "output_type": "stream",
     "text": [
      " nombre : Luis\n",
      " apellido : de la Cruz\n",
      " edad : 15\n",
      " peso : 80.5\n"
     ]
    }
   ],
   "source": [
    "funcion_kargs(nombre = 'Luis', apellido='de la Cruz', edad=15, peso=80.5 )"
   ]
  },
  {
   "cell_type": "code",
   "execution_count": 88,
   "metadata": {},
   "outputs": [
    {
     "name": "stdout",
     "output_type": "stream",
     "text": [
      " nombre : Luis\n",
      " apellido : de la Cruz\n",
      " estudios : primaria\n",
      " edad : 15\n",
      " peso : 80.5\n",
      " num_cuenta : 12334457\n"
     ]
    }
   ],
   "source": [
    "funcion_kargs(nombre = 'Luis', apellido='de la Cruz', estudios='primaria', edad=15, peso=80.5, num_cuenta = 12334457 )"
   ]
  },
  {
   "cell_type": "code",
   "execution_count": 91,
   "metadata": {},
   "outputs": [],
   "source": [
    "# Se puede definir un diccionario\n",
    "mi_dicc = {'nombre':'Luis', 'apellido':'de la Cruz', 'edad':15, 'peso':80.5}"
   ]
  },
  {
   "cell_type": "code",
   "execution_count": 93,
   "metadata": {},
   "outputs": [
    {
     "name": "stdout",
     "output_type": "stream",
     "text": [
      " nombre : Luis\n",
      " apellido : de la Cruz\n",
      " edad : 15\n",
      " peso : 80.5\n"
     ]
    }
   ],
   "source": [
    "# Se usa el diccionario para llamar a la función\n",
    "funcion_kargs(**mi_dicc)"
   ]
  },
  {
   "cell_type": "markdown",
   "metadata": {},
   "source": [
    "# Funciones como parámetros de otras funciones.\n",
    "\n",
    "Las funciones pueden recibir como argumentos objetos muy complejos, incluso otras funciones. Veamos un ejemplo simple:"
   ]
  },
  {
   "cell_type": "code",
   "execution_count": 95,
   "metadata": {},
   "outputs": [],
   "source": [
    "# Un función simple\n",
    "def g():\n",
    "    print(\"Iniciando la función 'g()'\")\n",
    "\n",
    "# Una función que reibirá otra función:\n",
    "def func(f):\n",
    "    print(\"Iniciando la función 'func()'\")\n",
    "    print(\"Ejecución de la función 'f()', nombre real '\" + f.__name__ + \"()'\")\n",
    "    f() # Se ejecuta la función que se recibió en el parámetro f"
   ]
  },
  {
   "cell_type": "code",
   "execution_count": 96,
   "metadata": {},
   "outputs": [
    {
     "name": "stdout",
     "output_type": "stream",
     "text": [
      "Iniciando la función 'func()'\n",
      "Ejecución de la función 'f()', nombre real 'g()'\n",
      "Iniciando la función 'g()'\n"
     ]
    }
   ],
   "source": [
    "func(g)"
   ]
  },
  {
   "cell_type": "markdown",
   "metadata": {},
   "source": [
    "<div class=\"alert alert-info\">\n",
    "\n",
    "### **Ejemplo 1. Integración numérica.**\n",
    "\n",
    "<font color=\"Black\">\n",
    "\n",
    "En este ejemplo el objetivo es crear un función que recibirá como argumentos la funcióm matemática a integrar, los límites de integración y el número de puntos para realizar la integración. Regresará como resultado un número que es la aproximación de la integral.\n",
    "\n",
    "</div>"
   ]
  },
  {
   "cell_type": "code",
   "execution_count": 111,
   "metadata": {},
   "outputs": [],
   "source": [
    "import math\n",
    "\n",
    "def integra(func,a,b,N):\n",
    "    # Se utiliza el método de Simpson para la integración.\n",
    "    # El parámetro 'func' es la función a integrar\n",
    "    print(f\"Integral de la función {func.__name__}() en el intervalo ({a},{b}) usando {N} puntos\")\n",
    "    h = (b - a) / N\n",
    "    resultado = 0\n",
    "    x = [a + h*i for i in range(N+1)]\n",
    "    for xi in x:\n",
    "        resultado += func(xi) * h\n",
    "    return resultado"
   ]
  },
  {
   "cell_type": "code",
   "execution_count": 112,
   "metadata": {},
   "outputs": [
    {
     "name": "stdout",
     "output_type": "stream",
     "text": [
      "Integral de la función sin() en el intervalo (0,3.141592653589793) usando 100 puntos\n",
      "1.9998355038874436\n",
      "Integral de la función cos() en el intervalo (-1.5707963267948966,1.5707963267948966) usando 50 puntos\n",
      "1.9993419830762613\n"
     ]
    }
   ],
   "source": [
    "# Integral de la función sin() de la biblioteca math.\n",
    "print(integra(math.sin, 0, math.pi, 100))\n",
    "\n",
    "# Integral de la función cos() de la biblioteca math.\n",
    "print(integra(math.cos, -0.5 * math.pi, 0.5 * math.pi, 50))"
   ]
  },
  {
   "cell_type": "markdown",
   "metadata": {},
   "source": [
    "# Funciones que regresan otra función.\n",
    "\n",
    "Como vimos antes, una función puede regresar un objeto de cualquier tipo, incluyendo una función. Veamos un ejemplo:"
   ]
  },
  {
   "cell_type": "code",
   "execution_count": 127,
   "metadata": {},
   "outputs": [],
   "source": [
    "# La funcionPadre() regresará como resultado una de dos funciones\n",
    "# definidas dentro de ella.\n",
    "def funcionPadre(n):\n",
    "\n",
    "    # Se define la función 1\n",
    "    def funcionHijo1():\n",
    "        return \"funcionHijo1(): n = {}\".format(n)\n",
    "\n",
    "    # Se define la función 2\n",
    "    def funcionHijo2():\n",
    "        return \"funcionHijo2(): n = {}\".format(n)\n",
    "\n",
    "    # Se determina la función que se va a regresar\n",
    "    if n == 10:\n",
    "        return funcionHijo1\n",
    "    else:\n",
    "        return funcionHijo2"
   ]
  },
  {
   "cell_type": "code",
   "execution_count": 133,
   "metadata": {},
   "outputs": [
    {
     "data": {
      "text/plain": [
       "<function __main__.funcionPadre.<locals>.funcionHijo2()>"
      ]
     },
     "execution_count": 133,
     "metadata": {},
     "output_type": "execute_result"
    }
   ],
   "source": [
    "# La funcionPadre() regresa una función\n",
    "funcionPadre(36)"
   ]
  },
  {
   "cell_type": "code",
   "execution_count": 139,
   "metadata": {},
   "outputs": [],
   "source": [
    "# Asignamos el resultado de la funcionPadre() a un nombre\n",
    "f1 = funcionPadre(10)\n",
    "f2 = funcionPadre(20)"
   ]
  },
  {
   "cell_type": "code",
   "execution_count": 138,
   "metadata": {},
   "outputs": [
    {
     "name": "stdout",
     "output_type": "stream",
     "text": [
      "funcionHijo2(): n = 20\n",
      "funcionHijo1(): n = 10\n"
     ]
    }
   ],
   "source": [
    "print(f1()) # Resultado de la funcionf1(), generada con la funcionPadre()\n",
    "print(f2()) # Resultado de la funcionf2(), generada con la funcionPadre()"
   ]
  },
  {
   "cell_type": "markdown",
   "metadata": {},
   "source": [
    "<div class=\"alert alert-info\">\n",
    "\n",
    "### **Ejemplo 2. Polinomios de segundo grado.**\n",
    "\n",
    "<font color=\"Black\">\n",
    "\n",
    "Implementar una fábrica de polinomios de segundo grado: \n",
    "\n",
    "$$\n",
    "p(x) = a x^2 + b x + c\n",
    "$$\n",
    "\n",
    "</div>"
   ]
  },
  {
   "cell_type": "code",
   "execution_count": 149,
   "metadata": {},
   "outputs": [],
   "source": [
    "# Esta función recibe los coeficientes del polinomio\n",
    "# y regresa una función que calcula el polinomio de\n",
    "# segundo grado.\n",
    "def polinomio(a, b, c):\n",
    "    \n",
    "    def polSegundoGrado(x):\n",
    "        return a * x**2 + b * x + c\n",
    "    \n",
    "    return polSegundoGrado"
   ]
  },
  {
   "cell_type": "code",
   "execution_count": 151,
   "metadata": {},
   "outputs": [
    {
     "name": "stdout",
     "output_type": "stream",
     "text": [
      "x =  -2 \t p1(x) =   1 \t p2(x) =  -7\n",
      "x =  -1 \t p1(x) =  -2 \t p2(x) =  -2\n",
      "x =   0 \t p1(x) =  -1 \t p2(x) =   1\n",
      "x =   1 \t p1(x) =   4 \t p2(x) =   2\n"
     ]
    }
   ],
   "source": [
    "# Dos polinomios de segundo grado\n",
    "p1 = polinomio(2, 3, -1) # 2x^2 + 3x - 1\n",
    "p2 = polinomio(-1, 2, 1) # -x^2 + 2x + 1\n",
    "\n",
    "# Evaluación de los polinomios en el intervalo\n",
    "# (-2,2) con pasos de 1\n",
    "for x in range(-2, 2, 1):\n",
    "    print(f'x = {x:3d} \\t p1(x) = {p1(x):3d} \\t p2(x) = {p2(x):3d}')"
   ]
  },
  {
   "cell_type": "markdown",
   "metadata": {},
   "source": [
    "<div class=\"alert alert-info\">\n",
    "\n",
    "### **Ejemplo 2. Polinomios de cualquier grado.**\n",
    "\n",
    "<font color=\"Black\">\n",
    "\n",
    "Implementar una fábrica de polinomios de cualquier grado: \n",
    "\n",
    "$$\n",
    "\\sum\\limits_{k=0}^{n} a_k x^k = a_n x^n + a_{n-1} x^{n-1} + \\dots + a_1 x + a_0 \n",
    "$$\n",
    "\n",
    "</div>\n"
   ]
  },
  {
   "cell_type": "code",
   "execution_count": 152,
   "metadata": {},
   "outputs": [],
   "source": [
    "# Esta función recibe un conjunto de argumentos variable\n",
    "# para construir un polinomio de cualquier grado.\n",
    "# Regresa la función que implementa el polinomio.\n",
    "def polinomioFactory(*coeficientes):\n",
    "\n",
    "    def polinomio(x):\n",
    "        res = 0\n",
    "        for i, coef in enumerate(coeficientes):\n",
    "            res += coef * x ** i\n",
    "        return res\n",
    "    \n",
    "    return polinomio"
   ]
  },
  {
   "cell_type": "code",
   "execution_count": 153,
   "metadata": {},
   "outputs": [
    {
     "name": "stdout",
     "output_type": "stream",
     "text": [
      "x =  -2 \t p1(x) =   5 \t p2(x) =  -6 \t p3(x) =  -1 \t p4(x) = -18\n",
      "x =  -1 \t p1(x) =   5 \t p2(x) =  -2 \t p3(x) =  -2 \t p4(x) =  -5\n",
      "x =   0 \t p1(x) =   5 \t p2(x) =   2 \t p3(x) =  -1 \t p4(x) =   0\n",
      "x =   1 \t p1(x) =   5 \t p2(x) =   6 \t p3(x) =   2 \t p4(x) =   3\n"
     ]
    }
   ],
   "source": [
    "# Se generan 4 polinomios de diferente grado\n",
    "p1 = polinomioFactory(5)           # a_0 = 5\n",
    "p2 = polinomioFactory(2, 4)        # 4 x + 2\n",
    "p3 = polinomioFactory(-1, 2, 1)    # x^2 + 2x - 1\n",
    "p4 = polinomioFactory(0, 3, -1, 1) # x^3 - x^2 + 3x + 0\n",
    "\n",
    "# Evaluación de los polinomios en el intervalo\n",
    "# (-2,2) con pasos de 1\n",
    "for x in range(-2, 2, 1):\n",
    "    print(f'x = {x:3d} \\t p1(x) = {p1(x):3d} \\t p2(x) = {p2(x):3d} \\t p3(x) = {p3(x):3d} \\t p4(x) = {p4(x):3d}')"
   ]
  },
  {
   "cell_type": "markdown",
   "metadata": {},
   "source": [
    "# Documentación con *docstring*\n",
    "\n",
    "Python ofrece dos tipos básicos de comentarios para documentar el código:\n",
    "\n",
    "1. Lineal.<br>\n",
    "Este tipo de comentarios se llevan a cabo utilizando el símbolo especial `#`. El intérprete de Python sabrá que todo lo que sigue delante de este símbolo es un comentario y por lo tanto no se toma en cuenta en la ejecución:\n",
    "\n",
    "```python\n",
    "a = 10 # Este es un comentario\n",
    "\n",
    "```\n",
    "\n",
    "2. Docstrings<br>\n",
    "En programación, un *docstring* es una cadena de caracteres embedidas en el código fuente, similares a un comentario, para documentar un segmento de código específico. A diferencia de los comentarios tradicionales, las docstrings no se quitan del código cuando es analizado, sino que son retenidas a través de la ejecución del programa. Esto permite al programador inspeccionar esos comentarios en tiempo de ejecución, por ejemplo como un sistema de ayuda interactivo o como metadatos. En Python se utilizan las triples comillas para definir un *docstring*.\n",
    "\n",
    "```python\n",
    "def funcion(x):\n",
    "    '''\n",
    "    Esta es una descripción de la función ...\n",
    "    '''\n",
    "    \n",
    "def foo(y):\n",
    "    \"\"\"\n",
    "    También de esta manera se puede definir una docstring\n",
    "    \"\"\"\n",
    "   \n",
    "```\n"
   ]
  },
  {
   "cell_type": "code",
   "execution_count": 146,
   "metadata": {},
   "outputs": [],
   "source": [
    "def suma(a,b):\n",
    "    '''\n",
    "    Esta función calcula  la suma de los parámetros a y b. \n",
    "    Regresa el resultado de la suma\n",
    "    '''\n",
    "    return a + b"
   ]
  },
  {
   "cell_type": "code",
   "execution_count": 147,
   "metadata": {},
   "outputs": [
    {
     "data": {
      "text/plain": [
       "<function __main__.suma(a, b)>"
      ]
     },
     "execution_count": 147,
     "metadata": {},
     "output_type": "execute_result"
    }
   ],
   "source": [
    "suma"
   ]
  },
  {
   "cell_type": "code",
   "execution_count": 148,
   "metadata": {},
   "outputs": [],
   "source": [
    "# En numpy se usa la siguiente definición de docstrings\n",
    "def suma(a,b):\n",
    "    '''\n",
    "    Calcula la suma de los dos parámetros a y b.\n",
    "    \n",
    "    Args: \n",
    "        a: int Numero a sumar\n",
    "        b: int Numero a sumar\n",
    "    Return:\n",
    "        c: int Suma del numero a y b\n",
    "    '''\n",
    "    c = a + b\n",
    "    return c"
   ]
  },
  {
   "cell_type": "code",
   "execution_count": 4,
   "metadata": {},
   "outputs": [
    {
     "data": {
      "text/plain": [
       "<function __main__.suma(a, b)>"
      ]
     },
     "execution_count": 4,
     "metadata": {},
     "output_type": "execute_result"
    }
   ],
   "source": [
    "suma"
   ]
  },
  {
   "cell_type": "markdown",
   "metadata": {},
   "source": [
    "Existen diferentes estilos de documentación tipo *docstring* vease por ejemplo: [Numpy](https://numpydoc.readthedocs.io/en/latest/format.html), [Matplotlib](https://matplotlib.org/devdocs/devel/document.html#example-docstring).\n",
    "\n",
    "Para más información véase [PEP 257 – Docstring Conventions](https://peps.python.org/pep-0257/) y [PEP 8 – Style Guide for Python Code](https://peps.python.org/pep-0008/).\n"
   ]
  },
  {
   "cell_type": "code",
   "execution_count": null,
   "metadata": {},
   "outputs": [],
   "source": []
  }
 ],
 "metadata": {
  "kernelspec": {
   "display_name": "Python 3 (ipykernel)",
   "language": "python",
   "name": "python3"
  },
  "language_info": {
   "codemirror_mode": {
    "name": "ipython",
    "version": 3
   },
   "file_extension": ".py",
   "mimetype": "text/x-python",
   "name": "python",
   "nbconvert_exporter": "python",
   "pygments_lexer": "ipython3",
   "version": "3.11.6"
  }
 },
 "nbformat": 4,
 "nbformat_minor": 4
}
