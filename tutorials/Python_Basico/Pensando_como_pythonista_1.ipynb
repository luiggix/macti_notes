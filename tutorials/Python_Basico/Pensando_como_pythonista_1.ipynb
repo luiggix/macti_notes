{
 "cells": [
  {
   "cell_type": "markdown",
   "id": "bcbedecb",
   "metadata": {},
   "source": [
    "# Python de cero a experto\n",
    "\n",
    "<a href=\"https://github.com/luiggix/Python_cero_a_experto\">Python de cero a experto</a> by Luis M. de la Cruz Salas is licensed under <a href=\"https://creativecommons.org/licenses/by-nc-nd/4.0?ref=chooser-v1\">Attribution-NonCommercial-NoDerivatives 4.0 International</a>\n",
    "\n",
    "\n",
    "**Objetivos general**\n",
    "- Revisar los conceptos de objetos, etiquetas (nombres, variables), identidad, tipado dinámico,  funciones de la biblioteca estándar, estado interno y comportamiento.\n",
    "\n",
    "**Objetivos particulares**\n",
    "- Se dará una breve descripción del uso de instrucciones básicas del lenguaje Python.\n",
    "- Definiremos algunos elementos importantes del lenguaje, como los tipos y objetos.\n",
    "\n",
    "**Instrucciones.**\n",
    "\n",
    "1. Para ejecutar una celda teclear: [Shift + Enter] <br>\n",
    "2. Cuando se modifica el código de cualquier celda, se debe re-ejecutar la celda. <br> \n",
    "3. Las celdas que dependan de una celda modificada, se deben re-ejecutar. <br>\n",
    "4. Cuando tenemos el nombre de una función de biblioteca, si ubicamos el cursor sobre el nombre y tecleamos [Shift + Tab] obtendremos ayuda sobre dicha función.<br>\n",
    "5. Lo anterior aplica a funciones definidas por el usuario, siempre y cuando se haya documentado con *docstring*.<br>\n",
    "6. Cuando tecleamos el nombre de un objeto, previamente definido, y le agregamos un '.' podemos en ese momento teclear el [Tab] para obtener ayuda sobre su comportamiento.\n",
    "\n",
    "\n",
    "## Contenido\n",
    "- [1 - Objetos, Etiquetas e Identidad.](#1)\n",
    "- [2 - Tipado dinámico.](#2)\n",
    "- [3 - Funciones de la biblioteca estándar.](#3)\n",
    "- [4 - Estado interno y comportamiento de los objetos.](#4)\n",
    "- [5 - Reglas para los nombres de los objetos.](#5)"
   ]
  },
  {
   "cell_type": "markdown",
   "id": "f2454294",
   "metadata": {},
   "source": [
    "<a name='1'></a>\n",
    "## Objetos, Etiquetas e Identidad.\n",
    "\n",
    "En Python, todo lo que se crea es un **objeto** y por lo tanto es conveniente saber reconocerlos y manejarlos."
   ]
  },
  {
   "cell_type": "markdown",
   "id": "af8e441a",
   "metadata": {},
   "source": [
    "En la celda que sigue, teclear lo siguiente: \n",
    "```python\n",
    "a = 1\n",
    "```"
   ]
  },
  {
   "cell_type": "code",
   "execution_count": 1,
   "id": "b14a0a04",
   "metadata": {},
   "outputs": [],
   "source": [
    "a = 1 "
   ]
  },
  {
   "cell_type": "markdown",
   "id": "958db06a",
   "metadata": {},
   "source": [
    "Acabamos de crear uno objeto!\n",
    "- El objeto es `1` \n",
    "- La etiqueta con que identificamos ese objeto es la letra `a` (nombre del objeto)\n",
    "\n",
    "Cuando se pone el nombre del objeto `a` en una celda y se ejecuta, generalmente se obtiene su contenido o su tipo, veamos:"
   ]
  },
  {
   "cell_type": "code",
   "execution_count": 2,
   "id": "430cef4d",
   "metadata": {},
   "outputs": [
    {
     "data": {
      "text/plain": [
       "1"
      ]
     },
     "execution_count": 2,
     "metadata": {},
     "output_type": "execute_result"
    }
   ],
   "source": [
    "a"
   ]
  },
  {
   "cell_type": "markdown",
   "id": "09ef974e",
   "metadata": {},
   "source": [
    "Para saber de qué tipo es el objeto, usamos la función `type(a)`"
   ]
  },
  {
   "cell_type": "code",
   "execution_count": 3,
   "id": "f0052f38",
   "metadata": {},
   "outputs": [
    {
     "data": {
      "text/plain": [
       "int"
      ]
     },
     "execution_count": 3,
     "metadata": {},
     "output_type": "execute_result"
    }
   ],
   "source": [
    "type(a)"
   ]
  },
  {
   "cell_type": "markdown",
   "id": "97873799",
   "metadata": {},
   "source": [
    "Observamos que el objeto cuyo nombre es `a` es de tipo `int` (entero)\n",
    "\n",
    "La función `id()` devuelve la identidad del objeto `a` en la memoria de la computadora"
   ]
  },
  {
   "cell_type": "code",
   "execution_count": 17,
   "id": "90ca4049",
   "metadata": {},
   "outputs": [
    {
     "data": {
      "text/plain": [
       "9801280"
      ]
     },
     "execution_count": 17,
     "metadata": {},
     "output_type": "execute_result"
    }
   ],
   "source": [
    "id(a)"
   ]
  },
  {
   "cell_type": "markdown",
   "id": "ab3d26c5",
   "metadata": {},
   "source": [
    "Creamos ahora el objeto `2` y lo etiquetamos con `a` y luego preguntamos el tipo y la identidad del objeto:"
   ]
  },
  {
   "cell_type": "code",
   "execution_count": 5,
   "id": "dcb28b56",
   "metadata": {},
   "outputs": [],
   "source": [
    "a = 2 "
   ]
  },
  {
   "cell_type": "code",
   "execution_count": 6,
   "id": "6be8f81d",
   "metadata": {},
   "outputs": [
    {
     "data": {
      "text/plain": [
       "int"
      ]
     },
     "execution_count": 6,
     "metadata": {},
     "output_type": "execute_result"
    }
   ],
   "source": [
    "type(a)"
   ]
  },
  {
   "cell_type": "code",
   "execution_count": 20,
   "id": "31c21602",
   "metadata": {},
   "outputs": [
    {
     "data": {
      "text/plain": [
       "9801280"
      ]
     },
     "execution_count": 20,
     "metadata": {},
     "output_type": "execute_result"
    }
   ],
   "source": [
    "id(a) "
   ]
  },
  {
   "cell_type": "code",
   "execution_count": 23,
   "id": "763ded18",
   "metadata": {},
   "outputs": [
    {
     "data": {
      "text/plain": [
       "2"
      ]
     },
     "execution_count": 23,
     "metadata": {},
     "output_type": "execute_result"
    }
   ],
   "source": [
    "a"
   ]
  },
  {
   "cell_type": "markdown",
   "id": "6cc2b796",
   "metadata": {},
   "source": [
    "¿Qué pasó con el objeto `1`?"
   ]
  },
  {
   "cell_type": "markdown",
   "id": "12ffa183",
   "metadata": {},
   "source": [
    "Podemos darle otro nombre al objeto etiquetado previamente con el nombre `a`"
   ]
  },
  {
   "cell_type": "code",
   "execution_count": 24,
   "id": "2cae6e87",
   "metadata": {},
   "outputs": [],
   "source": [
    "b = a "
   ]
  },
  {
   "cell_type": "code",
   "execution_count": 27,
   "id": "e9dd8225",
   "metadata": {},
   "outputs": [
    {
     "data": {
      "text/plain": [
       "9801280"
      ]
     },
     "execution_count": 27,
     "metadata": {},
     "output_type": "execute_result"
    }
   ],
   "source": [
    "id(b)"
   ]
  },
  {
   "cell_type": "code",
   "execution_count": 28,
   "id": "260201e0",
   "metadata": {},
   "outputs": [
    {
     "data": {
      "text/plain": [
       "2"
      ]
     },
     "execution_count": 28,
     "metadata": {},
     "output_type": "execute_result"
    }
   ],
   "source": [
    "b"
   ]
  },
  {
   "cell_type": "markdown",
   "id": "352e4b61",
   "metadata": {},
   "source": [
    "Obsérvese que `b` y `a` tienen el mismo identificador, lo que significa que el objeto al que \"apuntan\" es el mismo. ¿A qué objeto hacen referencia `a` y `b`? Para saberlo, usamos las funciones `type()` y `print()`:"
   ]
  },
  {
   "cell_type": "code",
   "execution_count": 29,
   "id": "84e9587d",
   "metadata": {},
   "outputs": [
    {
     "data": {
      "text/plain": [
       "int"
      ]
     },
     "execution_count": 29,
     "metadata": {},
     "output_type": "execute_result"
    }
   ],
   "source": [
    "type(a)"
   ]
  },
  {
   "cell_type": "code",
   "execution_count": 30,
   "id": "726dcc8b",
   "metadata": {},
   "outputs": [
    {
     "data": {
      "text/plain": [
       "int"
      ]
     },
     "execution_count": 30,
     "metadata": {},
     "output_type": "execute_result"
    }
   ],
   "source": [
    "type(b)"
   ]
  },
  {
   "cell_type": "code",
   "execution_count": 31,
   "id": "c3709cf1",
   "metadata": {},
   "outputs": [
    {
     "name": "stdout",
     "output_type": "stream",
     "text": [
      "2 2\n"
     ]
    }
   ],
   "source": [
    "print(a,b)"
   ]
  },
  {
   "cell_type": "markdown",
   "id": "ebb7999f",
   "metadata": {},
   "source": [
    "Observamos que el objeto al que hacen referencia es el entero `2`.\n",
    "\n",
    "¿Quá pasa si hacemos `a = 5`?"
   ]
  },
  {
   "cell_type": "code",
   "execution_count": 32,
   "id": "d7973004",
   "metadata": {},
   "outputs": [],
   "source": [
    "a = 5"
   ]
  },
  {
   "cell_type": "code",
   "execution_count": 33,
   "id": "5e1ce9ea",
   "metadata": {},
   "outputs": [
    {
     "name": "stdout",
     "output_type": "stream",
     "text": [
      "5 2\n"
     ]
    }
   ],
   "source": [
    "print(a,b)"
   ]
  },
  {
   "cell_type": "code",
   "execution_count": 34,
   "id": "897dc6ba",
   "metadata": {},
   "outputs": [
    {
     "data": {
      "text/plain": [
       "9801376"
      ]
     },
     "execution_count": 34,
     "metadata": {},
     "output_type": "execute_result"
    }
   ],
   "source": [
    "id(a)"
   ]
  },
  {
   "cell_type": "code",
   "execution_count": 35,
   "id": "60256d4b",
   "metadata": {},
   "outputs": [
    {
     "data": {
      "text/plain": [
       "9801280"
      ]
     },
     "execution_count": 35,
     "metadata": {},
     "output_type": "execute_result"
    }
   ],
   "source": [
    "id(b)"
   ]
  },
  {
   "cell_type": "markdown",
   "id": "a11834f8",
   "metadata": {},
   "source": [
    "Ahora hagamos `c = b` y consultemos el tipo e identificador de `a`, `b` y `c`:"
   ]
  },
  {
   "cell_type": "code",
   "execution_count": 36,
   "id": "baa6250c",
   "metadata": {},
   "outputs": [
    {
     "data": {
      "text/plain": [
       "2"
      ]
     },
     "execution_count": 36,
     "metadata": {},
     "output_type": "execute_result"
    }
   ],
   "source": [
    "c = b\n",
    "c"
   ]
  },
  {
   "cell_type": "code",
   "execution_count": 37,
   "id": "ce640d07",
   "metadata": {},
   "outputs": [
    {
     "name": "stdout",
     "output_type": "stream",
     "text": [
      "<class 'int'> <class 'int'> <class 'int'>\n"
     ]
    }
   ],
   "source": [
    "print(type(a), type(b), type(c))"
   ]
  },
  {
   "cell_type": "code",
   "execution_count": 38,
   "id": "5fe3907a",
   "metadata": {},
   "outputs": [
    {
     "name": "stdout",
     "output_type": "stream",
     "text": [
      "9801376 9801280 9801280\n"
     ]
    }
   ],
   "source": [
    "print(id(a), id(b), id(c))"
   ]
  },
  {
   "cell_type": "markdown",
   "id": "04a7427d",
   "metadata": {},
   "source": [
    "Es posible eliminar etiquetas usando la función `del()`"
   ]
  },
  {
   "cell_type": "code",
   "execution_count": 39,
   "id": "08fa8eb2",
   "metadata": {},
   "outputs": [],
   "source": [
    "del(c)"
   ]
  },
  {
   "cell_type": "code",
   "execution_count": 40,
   "id": "ad0203e3",
   "metadata": {},
   "outputs": [
    {
     "ename": "NameError",
     "evalue": "name 'c' is not defined",
     "output_type": "error",
     "traceback": [
      "\u001b[0;31m---------------------------------------------------------------------------\u001b[0m",
      "\u001b[0;31mNameError\u001b[0m                                 Traceback (most recent call last)",
      "\u001b[0;32m/tmp/ipykernel_12121/3235490055.py\u001b[0m in \u001b[0;36m<module>\u001b[0;34m\u001b[0m\n\u001b[0;32m----> 1\u001b[0;31m \u001b[0mc\u001b[0m\u001b[0;34m\u001b[0m\u001b[0;34m\u001b[0m\u001b[0m\n\u001b[0m",
      "\u001b[0;31mNameError\u001b[0m: name 'c' is not defined"
     ]
    }
   ],
   "source": [
    "c"
   ]
  },
  {
   "cell_type": "code",
   "execution_count": 41,
   "id": "65f3c4ce",
   "metadata": {},
   "outputs": [
    {
     "name": "stdout",
     "output_type": "stream",
     "text": [
      "5 2\n"
     ]
    }
   ],
   "source": [
    "print(a, b)"
   ]
  },
  {
   "cell_type": "code",
   "execution_count": 42,
   "id": "9e8abbf5",
   "metadata": {},
   "outputs": [
    {
     "name": "stdout",
     "output_type": "stream",
     "text": [
      "<class 'int'> <class 'int'>\n"
     ]
    }
   ],
   "source": [
    "print(type(a), type(b))"
   ]
  },
  {
   "cell_type": "code",
   "execution_count": 43,
   "id": "b8d0bf48",
   "metadata": {},
   "outputs": [
    {
     "name": "stdout",
     "output_type": "stream",
     "text": [
      "9801376 9801280\n"
     ]
    }
   ],
   "source": [
    "print(id(a), id(b))"
   ]
  },
  {
   "cell_type": "code",
   "execution_count": 44,
   "id": "f7fe9e3c",
   "metadata": {},
   "outputs": [],
   "source": [
    "del(a,b)"
   ]
  },
  {
   "cell_type": "code",
   "execution_count": 45,
   "id": "ab90e054",
   "metadata": {},
   "outputs": [
    {
     "ename": "NameError",
     "evalue": "name 'b' is not defined",
     "output_type": "error",
     "traceback": [
      "\u001b[0;31m---------------------------------------------------------------------------\u001b[0m",
      "\u001b[0;31mNameError\u001b[0m                                 Traceback (most recent call last)",
      "\u001b[0;32m/tmp/ipykernel_12121/1685013873.py\u001b[0m in \u001b[0;36m<module>\u001b[0;34m\u001b[0m\n\u001b[0;32m----> 1\u001b[0;31m \u001b[0mb\u001b[0m\u001b[0;34m\u001b[0m\u001b[0;34m\u001b[0m\u001b[0m\n\u001b[0m",
      "\u001b[0;31mNameError\u001b[0m: name 'b' is not defined"
     ]
    }
   ],
   "source": [
    "b"
   ]
  },
  {
   "cell_type": "markdown",
   "id": "9b19ddf7",
   "metadata": {},
   "source": [
    "<a name='2'></a>\n",
    "## Tipado dinámico\n",
    "\n",
    "Podemos crear objetos de muchos tipos y el tipo del objeto se determina en el momento de su creación. Por ejemplo:"
   ]
  },
  {
   "cell_type": "code",
   "execution_count": 51,
   "id": "379db16c",
   "metadata": {},
   "outputs": [
    {
     "name": "stdout",
     "output_type": "stream",
     "text": [
      "<class 'int'> 9804416 100\n"
     ]
    }
   ],
   "source": [
    "o = 100\n",
    "print(type(o), id(o), o)"
   ]
  },
  {
   "cell_type": "code",
   "execution_count": 64,
   "id": "2b3ebd38",
   "metadata": {},
   "outputs": [
    {
     "name": "stdout",
     "output_type": "stream",
     "text": [
      "<class 'float'> 139809447503088 3.141592\n"
     ]
    }
   ],
   "source": [
    "o = 3.141592\n",
    "print(type(o), id(o), o)"
   ]
  },
  {
   "cell_type": "code",
   "execution_count": 71,
   "id": "8aae8b2a",
   "metadata": {},
   "outputs": [
    {
     "name": "stdout",
     "output_type": "stream",
     "text": [
      "<class 'str'> 139809446931952 21 Hola Mundo Pythonico!\n"
     ]
    }
   ],
   "source": [
    "o = 'Hola Mundo Pythonico!'\n",
    "print(type(o), id(o), len(o), o)"
   ]
  },
  {
   "cell_type": "markdown",
   "id": "c8e4a074",
   "metadata": {},
   "source": [
    "En los tres ejemplos anteriores observamos que `o` hace referencia a objetos de tipos diferentes, y ese tipo se conoce cuando se crea el objeto. Entonces, el tipo de un objeto se determina en el momento de su creación. A esto se le conoce como *tipado dinámico*."
   ]
  },
  {
   "cell_type": "markdown",
   "id": "191eff9b",
   "metadata": {},
   "source": [
    "<a name='3'></a>\n",
    "## Funciones de la biblioteca estándar"
   ]
  },
  {
   "cell_type": "markdown",
   "id": "d9a99a03",
   "metadata": {},
   "source": [
    "Las funciones que hemos estado usando hasta ahora `type()`, `id()`, `print()`, `len()` son funciones de la biblioteca estándar (*Built-in-functions*) que se pueden usar directamente. Puede encontrar una lista de estas funciones en <a href=\"https://docs.python.org/3.8/library/functions.html\">Built-in Functions</a> (se pueden ver las funciones de diferentes versiones de Python).\n",
    "\n",
    "Una función que proporciona ayuda es `help()`, por ejemplo:"
   ]
  },
  {
   "cell_type": "code",
   "execution_count": 74,
   "id": "b8cd5962",
   "metadata": {},
   "outputs": [
    {
     "name": "stdout",
     "output_type": "stream",
     "text": [
      "Help on built-in function print in module builtins:\n",
      "\n",
      "print(...)\n",
      "    print(value, ..., sep=' ', end='\\n', file=sys.stdout, flush=False)\n",
      "    \n",
      "    Prints the values to a stream, or to sys.stdout by default.\n",
      "    Optional keyword arguments:\n",
      "    file:  a file-like object (stream); defaults to the current sys.stdout.\n",
      "    sep:   string inserted between values, default a space.\n",
      "    end:   string appended after the last value, default a newline.\n",
      "    flush: whether to forcibly flush the stream.\n",
      "\n"
     ]
    }
   ],
   "source": [
    "help(print)"
   ]
  },
  {
   "cell_type": "markdown",
   "id": "87afe493",
   "metadata": {},
   "source": [
    "También se puede obtener ayuda si ponemos el cursor en la función y tecleamos [Shift+Tab], por ejemplo:"
   ]
  },
  {
   "cell_type": "code",
   "execution_count": 76,
   "id": "530af892",
   "metadata": {},
   "outputs": [
    {
     "data": {
      "text/plain": [
       "<function print>"
      ]
     },
     "execution_count": 76,
     "metadata": {},
     "output_type": "execute_result"
    }
   ],
   "source": [
    "print"
   ]
  },
  {
   "cell_type": "markdown",
   "id": "a2ce2cfe",
   "metadata": {},
   "source": [
    "Las funciones de la biblioteca estándar reciben como parámetros objetos de distintos tipos. Algunas de ellas no funcionan con ciertos tipos de objetos, por ejemplo:"
   ]
  },
  {
   "cell_type": "code",
   "execution_count": 77,
   "id": "19383137",
   "metadata": {},
   "outputs": [
    {
     "name": "stdout",
     "output_type": "stream",
     "text": [
      "Hola Mundo Pythonico! 21\n"
     ]
    }
   ],
   "source": [
    "print(o, len(o))"
   ]
  },
  {
   "cell_type": "code",
   "execution_count": 78,
   "id": "bc288ab4",
   "metadata": {},
   "outputs": [],
   "source": [
    "p = 3.1416"
   ]
  },
  {
   "cell_type": "code",
   "execution_count": 79,
   "id": "2b9c1886",
   "metadata": {},
   "outputs": [
    {
     "ename": "TypeError",
     "evalue": "object of type 'float' has no len()",
     "output_type": "error",
     "traceback": [
      "\u001b[0;31m---------------------------------------------------------------------------\u001b[0m",
      "\u001b[0;31mTypeError\u001b[0m                                 Traceback (most recent call last)",
      "\u001b[0;32m/tmp/ipykernel_12121/3395151209.py\u001b[0m in \u001b[0;36m<module>\u001b[0;34m\u001b[0m\n\u001b[0;32m----> 1\u001b[0;31m \u001b[0mprint\u001b[0m\u001b[0;34m(\u001b[0m\u001b[0mp\u001b[0m\u001b[0;34m,\u001b[0m \u001b[0mlen\u001b[0m\u001b[0;34m(\u001b[0m\u001b[0mp\u001b[0m\u001b[0;34m)\u001b[0m\u001b[0;34m)\u001b[0m\u001b[0;34m\u001b[0m\u001b[0;34m\u001b[0m\u001b[0m\n\u001b[0m",
      "\u001b[0;31mTypeError\u001b[0m: object of type 'float' has no len()"
     ]
    }
   ],
   "source": [
    "print(p, len(p))"
   ]
  },
  {
   "cell_type": "code",
   "execution_count": 80,
   "id": "913b5df7",
   "metadata": {},
   "outputs": [
    {
     "name": "stdout",
     "output_type": "stream",
     "text": [
      "Help on built-in function len in module builtins:\n",
      "\n",
      "len(obj, /)\n",
      "    Return the number of items in a container.\n",
      "\n"
     ]
    }
   ],
   "source": [
    "help(len)"
   ]
  },
  {
   "cell_type": "markdown",
   "id": "b6bd04f5",
   "metadata": {},
   "source": [
    "Cualquier función en Python, también es un objeto:"
   ]
  },
  {
   "cell_type": "code",
   "execution_count": 43,
   "id": "e8f2bac4",
   "metadata": {},
   "outputs": [
    {
     "data": {
      "text/plain": [
       "<function print>"
      ]
     },
     "execution_count": 43,
     "metadata": {},
     "output_type": "execute_result"
    }
   ],
   "source": [
    "print"
   ]
  },
  {
   "cell_type": "code",
   "execution_count": 81,
   "id": "17c9aa8a",
   "metadata": {},
   "outputs": [
    {
     "data": {
      "text/plain": [
       "(<function print>, <function len(obj, /)>, type, <function id(obj, /)>)"
      ]
     },
     "execution_count": 81,
     "metadata": {},
     "output_type": "execute_result"
    }
   ],
   "source": [
    "print, len, type, id"
   ]
  },
  {
   "cell_type": "code",
   "execution_count": 82,
   "id": "f718fc85",
   "metadata": {},
   "outputs": [
    {
     "name": "stdout",
     "output_type": "stream",
     "text": [
      "<built-in function print> <class 'type'>\n"
     ]
    }
   ],
   "source": [
    "print(print, type)"
   ]
  },
  {
   "cell_type": "markdown",
   "id": "080b2531",
   "metadata": {},
   "source": [
    "<a name='4'></a>\n",
    "## Estado interno y comportamiento de los objetos\n",
    "\n",
    "Los objetos tienen dos características importantes:\n",
    "1. estado interno y\n",
    "2. comportamiento."
   ]
  },
  {
   "cell_type": "code",
   "execution_count": 83,
   "id": "6df81d90",
   "metadata": {},
   "outputs": [],
   "source": [
    "cadena = 'Hola mundo pythonico'"
   ]
  },
  {
   "cell_type": "code",
   "execution_count": 84,
   "id": "f744866b",
   "metadata": {},
   "outputs": [
    {
     "name": "stdout",
     "output_type": "stream",
     "text": [
      "<class 'str'>\n"
     ]
    }
   ],
   "source": [
    "print(type(cadena))"
   ]
  },
  {
   "cell_type": "markdown",
   "id": "ffe472ad",
   "metadata": {},
   "source": [
    "Si tecleamos `cadena.` e inmediatamente después [Tab] obtendremos una lista de funciones y atributos que podemos usar sobre los objetos de tipo `str`:"
   ]
  },
  {
   "cell_type": "code",
   "execution_count": null,
   "id": "91a09825",
   "metadata": {},
   "outputs": [],
   "source": [
    "cadena."
   ]
  },
  {
   "cell_type": "code",
   "execution_count": 85,
   "id": "b443f928",
   "metadata": {},
   "outputs": [
    {
     "data": {
      "text/plain": [
       "['Hola', 'mundo', 'pythonico']"
      ]
     },
     "execution_count": 85,
     "metadata": {},
     "output_type": "execute_result"
    }
   ],
   "source": [
    "cadena.split()"
   ]
  },
  {
   "cell_type": "markdown",
   "id": "a1ea1e9a",
   "metadata": {},
   "source": [
    "En el ejemplo anterior, la función `split()` es parte del comportamiento del objeto. Pruebe otras funciones."
   ]
  },
  {
   "cell_type": "code",
   "execution_count": 86,
   "id": "61ab9cd4",
   "metadata": {},
   "outputs": [
    {
     "data": {
      "text/plain": [
       "'*****Hola mundo pythonico*****'"
      ]
     },
     "execution_count": 86,
     "metadata": {},
     "output_type": "execute_result"
    }
   ],
   "source": [
    "cadena.center(30,'*')"
   ]
  },
  {
   "cell_type": "markdown",
   "id": "17aba882",
   "metadata": {},
   "source": [
    "El estado interno de un objeto, es básicamente el valor que contienen sus atributos. En algunos casos podemos conocer ese estado interno usando la función `print`:"
   ]
  },
  {
   "cell_type": "code",
   "execution_count": 87,
   "id": "1c8ab396",
   "metadata": {},
   "outputs": [
    {
     "name": "stdout",
     "output_type": "stream",
     "text": [
      "Hola mundo pythonico\n"
     ]
    }
   ],
   "source": [
    "print(cadena)"
   ]
  },
  {
   "cell_type": "code",
   "execution_count": 88,
   "id": "cf5fe039",
   "metadata": {},
   "outputs": [
    {
     "name": "stdout",
     "output_type": "stream",
     "text": [
      "u\n"
     ]
    }
   ],
   "source": [
    "print(cadena[6])"
   ]
  },
  {
   "cell_type": "code",
   "execution_count": 89,
   "id": "5957e7cf",
   "metadata": {},
   "outputs": [],
   "source": [
    "p = 5"
   ]
  },
  {
   "cell_type": "code",
   "execution_count": 90,
   "id": "97f0e95f",
   "metadata": {},
   "outputs": [
    {
     "data": {
      "text/plain": [
       "5"
      ]
     },
     "execution_count": 90,
     "metadata": {},
     "output_type": "execute_result"
    }
   ],
   "source": [
    "p.numerator"
   ]
  },
  {
   "cell_type": "code",
   "execution_count": 55,
   "id": "01355f3e",
   "metadata": {},
   "outputs": [
    {
     "data": {
      "text/plain": [
       "1"
      ]
     },
     "execution_count": 55,
     "metadata": {},
     "output_type": "execute_result"
    }
   ],
   "source": [
    "p.denominator"
   ]
  },
  {
   "cell_type": "code",
   "execution_count": 91,
   "id": "e3fde8f1",
   "metadata": {},
   "outputs": [],
   "source": [
    "p = 3.1416"
   ]
  },
  {
   "cell_type": "code",
   "execution_count": 92,
   "id": "4891f01a",
   "metadata": {},
   "outputs": [
    {
     "data": {
      "text/plain": [
       "0.0"
      ]
     },
     "execution_count": 92,
     "metadata": {},
     "output_type": "execute_result"
    }
   ],
   "source": [
    "p.imag"
   ]
  },
  {
   "cell_type": "code",
   "execution_count": 58,
   "id": "856deccf",
   "metadata": {},
   "outputs": [
    {
     "data": {
      "text/plain": [
       "3.1416"
      ]
     },
     "execution_count": 58,
     "metadata": {},
     "output_type": "execute_result"
    }
   ],
   "source": [
    "p.conjugate()"
   ]
  },
  {
   "cell_type": "code",
   "execution_count": 95,
   "id": "1a49c244",
   "metadata": {},
   "outputs": [],
   "source": [
    "p = 1.0 + 5.0j"
   ]
  },
  {
   "cell_type": "code",
   "execution_count": 96,
   "id": "5ef50f38",
   "metadata": {},
   "outputs": [
    {
     "data": {
      "text/plain": [
       "complex"
      ]
     },
     "execution_count": 96,
     "metadata": {},
     "output_type": "execute_result"
    }
   ],
   "source": [
    "type(p)"
   ]
  },
  {
   "cell_type": "code",
   "execution_count": 97,
   "id": "0edf727e",
   "metadata": {},
   "outputs": [
    {
     "data": {
      "text/plain": [
       "5.0"
      ]
     },
     "execution_count": 97,
     "metadata": {},
     "output_type": "execute_result"
    }
   ],
   "source": [
    "p.imag"
   ]
  },
  {
   "cell_type": "code",
   "execution_count": 98,
   "id": "0cfa5e19",
   "metadata": {},
   "outputs": [],
   "source": [
    "P = 10"
   ]
  },
  {
   "cell_type": "code",
   "execution_count": 99,
   "id": "147eb736",
   "metadata": {},
   "outputs": [
    {
     "name": "stdout",
     "output_type": "stream",
     "text": [
      "9801536 139808831711344\n"
     ]
    }
   ],
   "source": [
    "print(id(P), id(p))"
   ]
  },
  {
   "cell_type": "code",
   "execution_count": 105,
   "id": "1cbb1e79",
   "metadata": {},
   "outputs": [
    {
     "ename": "SyntaxError",
     "evalue": "invalid syntax (3268917806.py, line 1)",
     "output_type": "error",
     "traceback": [
      "\u001b[0;36m  File \u001b[0;32m\"/tmp/ipykernel_12121/3268917806.py\"\u001b[0;36m, line \u001b[0;32m1\u001b[0m\n\u001b[0;31m    p = 1.0 + 5.0i\u001b[0m\n\u001b[0m                 ^\u001b[0m\n\u001b[0;31mSyntaxError\u001b[0m\u001b[0;31m:\u001b[0m invalid syntax\n"
     ]
    }
   ],
   "source": [
    "p = 1.0 + 5.0i"
   ]
  },
  {
   "cell_type": "markdown",
   "id": "a034c6f0",
   "metadata": {},
   "source": [
    "<a name='5'></a>\n",
    "## Reglas para los nombres de los objetos.\n",
    "\n",
    "Las siguientes son algunas reglas para poner nombre a los objetos:\n",
    "\n",
    "1. Los nombres no pueden iniciar con un número.\n",
    "2. No puede haber espacios en los nombres; se recomienda usar guión bajo '\\_' para separar nombres: \n",
    "```python\n",
    "fuerza_de_gravedad = 9.8\n",
    "``` \n",
    "3. No se puede usar ninguno de los siguientes símbolos en los nombres de las etiquetas:\n",
    "```python\n",
    "' \" , < > / ? | \\ ( ) ! @ # $ % ^ & * ~ - +\n",
    "```\n",
    "4. Se considera una buena práctica usar minúsculas en los nombres.\n",
    "\n",
    "Para más información véase: <a href=\"https://www.python.org/dev/peps/pep-0008/\"> PEP8 </a>\n",
    "\n",
    "<br>"
   ]
  },
  {
   "cell_type": "code",
   "execution_count": 2,
   "id": "70ce37b2",
   "metadata": {},
   "outputs": [
    {
     "name": "stdout",
     "output_type": "stream",
     "text": [
      "The Zen of Python, by Tim Peters\n",
      "\n",
      "Beautiful is better than ugly.\n",
      "Explicit is better than implicit.\n",
      "Simple is better than complex.\n",
      "Complex is better than complicated.\n",
      "Flat is better than nested.\n",
      "Sparse is better than dense.\n",
      "Readability counts.\n",
      "Special cases aren't special enough to break the rules.\n",
      "Although practicality beats purity.\n",
      "Errors should never pass silently.\n",
      "Unless explicitly silenced.\n",
      "In the face of ambiguity, refuse the temptation to guess.\n",
      "There should be one-- and preferably only one --obvious way to do it.\n",
      "Although that way may not be obvious at first unless you're Dutch.\n",
      "Now is better than never.\n",
      "Although never is often better than *right* now.\n",
      "If the implementation is hard to explain, it's a bad idea.\n",
      "If the implementation is easy to explain, it may be a good idea.\n",
      "Namespaces are one honking great idea -- let's do more of those!\n"
     ]
    }
   ],
   "source": [
    "import this"
   ]
  }
 ],
 "metadata": {
  "kernelspec": {
   "display_name": "Python 3 (ipykernel)",
   "language": "python",
   "name": "python3"
  },
  "language_info": {
   "codemirror_mode": {
    "name": "ipython",
    "version": 3
   },
   "file_extension": ".py",
   "mimetype": "text/x-python",
   "name": "python",
   "nbconvert_exporter": "python",
   "pygments_lexer": "ipython3",
   "version": "3.8.10"
  }
 },
 "nbformat": 4,
 "nbformat_minor": 5
}
