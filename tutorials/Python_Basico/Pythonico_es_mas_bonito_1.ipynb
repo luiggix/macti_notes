{
 "cells": [
  {
   "cell_type": "markdown",
   "id": "bcbedecb",
   "metadata": {},
   "source": [
    "# Python de cero a experto\n",
    "**Autor:** Luis Miguel de la Cruz Salas\n",
    "\n",
    "<a href=\"https://github.com/luiggix/Python_cero_a_experto\">Python de cero a experto</a> by Luis M. de la Cruz Salas is licensed under <a href=\"https://creativecommons.org/licenses/by-nc-nd/4.0?ref=chooser-v1\">Attribution-NonCommercial-NoDerivatives 4.0 International</a>\n",
    "\n",
    "\n",
    "**Objetivos**. Revisar los conceptos de etiquetas, palabras reservadas, expresiones, declaraciones, tipos y operadores, estructura de datos, control de flujo, entrada y salida estándar.\n",
    "\n",
    "**Objetivos particulares**\n",
    "- Resolver un problema práctico usando lo aprendido.\n",
    "- Identificar los posibles error que pueden surguir.\n",
    "\n",
    "## Contenido\n",
    "- [1 - El huevo cocido perfecto.](#1)\n",
    "    - [Ejercicio 1.](#ej-1)\n",
    "    - [Ejercicio 2.](#ej-2)\n",
    "    - [Ejercicio 3.](#ej-3)\n",
    "    - [Ejercicio 4.](#ej-4)\n",
    "    - [Ejercicio 5.](#ej-5)\n",
    "    - [Ejercicio 6.](#ej-6)"
   ]
  },
  {
   "cell_type": "markdown",
   "id": "56ddf6f3",
   "metadata": {},
   "source": [
    "<a name='1'></a>\n",
    "## El huevo cocido perfecto\n",
    "\n",
    "¿Cuál es el tiempo ideal para cocinar un huevo?\n",
    "\n",
    "<img src=\"./utils/figs/Huevo_cocido.jpg\"  style=\"width: 300px;\"/>\n",
    "\n",
    "\n",
    "Para lograr un **huevo cocido** suave, la clara debe haberse calentado el tiempo suficiente para coagular a una temperatura superior a 63 $^o$C, pero la yema no debe calentarse por encima de 70 $^o$C.\n",
    "\n",
    "Para lograr un **huevo duro**, el centro de la yema debe de alcanzar los 70 $^o$C."
   ]
  },
  {
   "cell_type": "markdown",
   "id": "1a22b7f0",
   "metadata": {},
   "source": [
    "<a name='1-1'></a>\n",
    "### Fórmula para calcular el tiempo de cocción.\n",
    "La siguiente fórmula expresa el tiempo $t$, en segundos, que le toma a la yema alcanzar la temperatura $T_y$, en grados Celsius.\n",
    "\n",
    "$$t = \\dfrac{M^{2/3} c \\rho^{1/3}}{K \\pi^2 (4\\pi/3)^{2/3}} \\ln \\left[ 0.76 \\dfrac{T_o - T_w}{T_y - T_w}\\right]$$\n",
    "\n",
    "donde las propiedades son:\n",
    "\n",
    "- $M$ masa; \n",
    "- $\\rho$ densidad; \n",
    "- $c$ capacidad calorífica específica; \n",
    "- $K$ conductividad térmica; \n",
    "- $T_w$ es la temperatura de ebullición del agua;\n",
    "- $T_o$ es la temperatura original del huevo antes de meterlo al agua;\n",
    "- $T_y$ es la temperatura que debe alcanzar la yema."
   ]
  },
  {
   "cell_type": "markdown",
   "id": "79ff44ed",
   "metadata": {},
   "source": [
    "<a name='ej-1'></a>\n",
    "#### **<font color=\"DodgerBlue\">Ejercicio 1.</font>**\n",
    "<font color=\"DarkBlue\">Calcular el tiempo de cocción necesario para un huevo duro pequeño de 47 g \n",
    "(la masa de un huevo grande es 67 g), para cuando la temperatura inicial \n",
    "del huevo es:</font>\n",
    "1. Temperatura ambiente: $T_o$ = 20 $^o$C.\n",
    "2. Temperatura en el refrigerador: $T_o$ = 4 $^o$C.\n",
    "\n",
    "**Datos**:\n",
    "- $M$ = 47 g \n",
    "- $\\rho$ = 1.038 g / cm$^3$\n",
    "- $c$ = 3.7 J / g K\n",
    "- $K$ = 5.4 $\\times 10^{-3}$ W / cm K\n",
    "- $T_w$ = 100 $^o$C\n",
    "- $T_y$ = 70 $^o$C"
   ]
  },
  {
   "cell_type": "markdown",
   "id": "be42ec3f",
   "metadata": {},
   "source": [
    "**<font color=\"#126534\">SOLUCIÓN.</font>**<br>\n",
    "Primera parte de la fórmula: $M^{2/3} c \\rho^{1/3}$"
   ]
  },
  {
   "cell_type": "code",
   "execution_count": 1,
   "id": "d91d27f8",
   "metadata": {},
   "outputs": [
    {
     "name": "stdout",
     "output_type": "stream",
     "text": [
      "<class 'int'> <class 'float'> <class 'float'>\n",
      "9802720 140237595647376 140237655144592\n",
      "47 1.038 3.7\n"
     ]
    }
   ],
   "source": [
    "# Definir los datos iniciales\n",
    "M   = 47    # Un entero\n",
    "rho = 1.038 # Un flotante\n",
    "c   = 3.7   # Otro flotante\n",
    "\n",
    "print(type(M), type(rho), type(c))\n",
    "print(id(M), id(rho), id(c))\n",
    "print(M, rho, c)"
   ]
  },
  {
   "cell_type": "code",
   "execution_count": 2,
   "id": "20179b5e",
   "metadata": {},
   "outputs": [
    {
     "data": {
      "text/plain": [
       "48.790216719661984"
      ]
     },
     "execution_count": 2,
     "metadata": {},
     "output_type": "execute_result"
    }
   ],
   "source": [
    "numerador = M**(2/3) * c * rho**(1/3)\n",
    "numerador"
   ]
  },
  {
   "cell_type": "markdown",
   "id": "d05bdb9f",
   "metadata": {},
   "source": [
    "**Revisar**: <a href=\"./T01_Etiquetas_y_Palabras_Reservadas.ipynb\">Etiquetas y palabras reservadas </a>"
   ]
  },
  {
   "cell_type": "markdown",
   "id": "6012a743",
   "metadata": {},
   "source": [
    "Podríamos usar caracteres matemáticos:"
   ]
  },
  {
   "cell_type": "code",
   "execution_count": 6,
   "id": "0091f33d",
   "metadata": {},
   "outputs": [
    {
     "name": "stdout",
     "output_type": "stream",
     "text": [
      "𝜌\n"
     ]
    }
   ],
   "source": [
    "print(chr(0x1D70C))"
   ]
  },
  {
   "cell_type": "code",
   "execution_count": 7,
   "id": "9dfd79df",
   "metadata": {},
   "outputs": [],
   "source": [
    "𝜌 = 1.038"
   ]
  },
  {
   "cell_type": "code",
   "execution_count": 8,
   "id": "5b2e6741",
   "metadata": {},
   "outputs": [
    {
     "data": {
      "text/plain": [
       "48.790216719661984"
      ]
     },
     "execution_count": 8,
     "metadata": {},
     "output_type": "execute_result"
    }
   ],
   "source": [
    "M**(2/3) * c * 𝜌**(1/3)"
   ]
  },
  {
   "cell_type": "markdown",
   "id": "0c9c7fb2",
   "metadata": {},
   "source": [
    "**Revisar**: <a href=\"./T02_Expr_Decla_Tipos_Oper.ipynb\">Expresiones, Declaraciones, Tipos y Operadores</a>"
   ]
  },
  {
   "cell_type": "markdown",
   "id": "798360ca",
   "metadata": {},
   "source": [
    "Segunda parte de la fórmula: $K \\pi^2 (4\\pi/3)^{2/3}$"
   ]
  },
  {
   "cell_type": "code",
   "execution_count": 5,
   "id": "9d826b4a",
   "metadata": {},
   "outputs": [],
   "source": [
    "# Denominador, necesitamos el valor de Pi.\n",
    "import math\n",
    "# Se puede importar la biblioteca math y ponerle otro nombre \n",
    "#import math as m \n",
    "# Se puede importat solo una función de la biblioteca y ponerle un nombre\n",
    "#from math import sinh as senoHiperbolico"
   ]
  },
  {
   "cell_type": "code",
   "execution_count": 6,
   "id": "6d70a0d9",
   "metadata": {},
   "outputs": [],
   "source": [
    "K = 5.4e-3\n",
    "denominador = K * math.pi**2 * (4 * math.pi / 3)**(2/3)"
   ]
  },
  {
   "cell_type": "code",
   "execution_count": 16,
   "id": "ed4b63d9",
   "metadata": {},
   "outputs": [
    {
     "name": "stdout",
     "output_type": "stream",
     "text": [
      "0.13849026450902358\n"
     ]
    }
   ],
   "source": [
    "print(denominador)"
   ]
  },
  {
   "cell_type": "code",
   "execution_count": 17,
   "id": "a3b49a53",
   "metadata": {},
   "outputs": [
    {
     "data": {
      "text/plain": [
       "'π'"
      ]
     },
     "execution_count": 17,
     "metadata": {},
     "output_type": "execute_result"
    }
   ],
   "source": [
    "chr(0x03C0)"
   ]
  },
  {
   "cell_type": "code",
   "execution_count": 18,
   "id": "112ed3de",
   "metadata": {},
   "outputs": [
    {
     "data": {
      "text/plain": [
       "0.13849026450902358"
      ]
     },
     "execution_count": 18,
     "metadata": {},
     "output_type": "execute_result"
    }
   ],
   "source": [
    "π = math.pi\n",
    "K * π**2 * (4 * π / 3)**(2/3)"
   ]
  },
  {
   "cell_type": "markdown",
   "id": "9521dcd7",
   "metadata": {},
   "source": [
    "Tercera parte de la fórmula: $\\ln \\left[ 0.76 \\dfrac{T_o - T_w}{T_y - T_w}\\right]$\n",
    "\n",
    "**Caso 1.**<br>\n",
    "$T_o$ = 20 $^o$C."
   ]
  },
  {
   "cell_type": "code",
   "execution_count": 19,
   "id": "6639e680",
   "metadata": {},
   "outputs": [],
   "source": [
    "To = 20  # Temp. ambiente\n",
    "Tw = 100\n",
    "Ty = 70"
   ]
  },
  {
   "cell_type": "code",
   "execution_count": 21,
   "id": "d93751ef",
   "metadata": {},
   "outputs": [
    {
     "data": {
      "text/plain": [
       "0.7063924073099658"
      ]
     },
     "execution_count": 21,
     "metadata": {},
     "output_type": "execute_result"
    }
   ],
   "source": [
    "logaritmo = math.log(0.76 * (To - Tw) / (Ty - Tw))\n",
    "logaritmo"
   ]
  },
  {
   "cell_type": "markdown",
   "id": "40e22fdc",
   "metadata": {},
   "source": [
    "Fórmula completa:"
   ]
  },
  {
   "cell_type": "code",
   "execution_count": 22,
   "id": "10cdd257",
   "metadata": {},
   "outputs": [
    {
     "name": "stdout",
     "output_type": "stream",
     "text": [
      "248.86253747844736\n"
     ]
    }
   ],
   "source": [
    "t = numerador / denominador * logaritmo\n",
    "print(t)"
   ]
  },
  {
   "cell_type": "markdown",
   "id": "9580c62a",
   "metadata": {},
   "source": [
    "**Caso 2.**<br>\n",
    "$T_o$ = 4 $^o$C."
   ]
  },
  {
   "cell_type": "code",
   "execution_count": 8,
   "id": "75073fb7",
   "metadata": {},
   "outputs": [],
   "source": [
    "To = 4  # Temp. ambiente\n",
    "Tw = 100\n",
    "Ty = 70"
   ]
  },
  {
   "cell_type": "code",
   "execution_count": 24,
   "id": "e99ab097",
   "metadata": {},
   "outputs": [],
   "source": [
    "logaritmo = math.log(0.76 * (To - Tw) / (Ty - Tw))"
   ]
  },
  {
   "cell_type": "code",
   "execution_count": 25,
   "id": "432c0c3b",
   "metadata": {},
   "outputs": [
    {
     "name": "stdout",
     "output_type": "stream",
     "text": [
      "313.09454902221637\n"
     ]
    }
   ],
   "source": [
    "t = numerador / denominador * logaritmo\n",
    "print(t)"
   ]
  },
  {
   "cell_type": "markdown",
   "id": "b7a3837d",
   "metadata": {},
   "source": [
    "<a name='ej-2'></a>\n",
    "#### **<font color=\"DodgerBlue\">Ejercicio 2.</font>**\n",
    "Imprimir el tiempo de los casos del ejercicio 1 en el siguiente formato usando *cadenas*:<br>\n",
    " `El tiempo de cocción óptimo es: 313.1 [s] (5.2 [m])`"
   ]
  },
  {
   "cell_type": "code",
   "execution_count": 27,
   "id": "cc8d4e52",
   "metadata": {},
   "outputs": [],
   "source": [
    "To = 4\n",
    "logaritmo = math.log(0.76 * (To - Tw) / (Ty - Tw))\n",
    "t1 = numerador /denominador * logaritmo\n",
    "\n",
    "To = 20\n",
    "logaritmo = math.log(0.76 * (To - Tw) / (Ty - Tw))\n",
    "t2 = numerador /denominador * logaritmo"
   ]
  },
  {
   "cell_type": "code",
   "execution_count": 28,
   "id": "40755b03",
   "metadata": {},
   "outputs": [
    {
     "name": "stdout",
     "output_type": "stream",
     "text": [
      "El tiempo de cocción óptimo es: 313.09454902221637  [s] ( 5.218242483703606  [m])\n",
      "El tiempo de cocción óptimo es: 248.86253747844736  [s] ( 4.147708957974123  [m])\n"
     ]
    }
   ],
   "source": [
    "# Solución 1:\n",
    "print('El tiempo de cocción óptimo es:', t1,' [s] (', t1/60, ' [m])')\n",
    "print('El tiempo de cocción óptimo es:', t2,' [s] (', t2/60, ' [m])')"
   ]
  },
  {
   "cell_type": "code",
   "execution_count": 30,
   "id": "c7cb6faa",
   "metadata": {},
   "outputs": [
    {
     "name": "stdout",
     "output_type": "stream",
     "text": [
      "El tiempo de cocción óptimo es: 313.09454902221637 [s] (5.218242483703606 [m])\n",
      "El tiempo de cocción óptimo es: 248.86253747844736 [s] (4.147708957974123 [m])\n"
     ]
    }
   ],
   "source": [
    "# Solución 2:\n",
    "cadena1 = 'El tiempo de cocción óptimo es: '\n",
    "cadena2 = str(t1) + ' [s] (' + str(t1/60) + ' [m])'\n",
    "cadena3 = str(t2) + ' [s] (' + str(t2/60) + ' [m])'\n",
    "print(cadena1 + cadena2)\n",
    "print(cadena1 + cadena3)"
   ]
  },
  {
   "cell_type": "code",
   "execution_count": 31,
   "id": "a1a09897",
   "metadata": {},
   "outputs": [
    {
     "name": "stdout",
     "output_type": "stream",
     "text": [
      "El tiempo de cocción óptimo es: 313.09454902221637 [s] ( 5.218242483703606 [m])\n",
      "El tiempo de cocción óptimo es: 248.86253747844736 [s] ( 4.147708957974123 [m])\n"
     ]
    }
   ],
   "source": [
    "# Solución 3:\n",
    "cadena2 = '{} [s] ( {} [m])'.format(t1, t1/60)\n",
    "cadena3 = '{} [s] ( {} [m])'.format(t2, t2/60)\n",
    "print(cadena1 + cadena2)\n",
    "print(cadena1 + cadena3)"
   ]
  },
  {
   "cell_type": "code",
   "execution_count": 32,
   "id": "21a1b510",
   "metadata": {},
   "outputs": [
    {
     "name": "stdout",
     "output_type": "stream",
     "text": [
      "El tiempo de cocción óptimo es: 313.1 [s] ( 5.2 [m])\n",
      "El tiempo de cocción óptimo es: 248.9 [s] ( 4.1 [m])\n"
     ]
    }
   ],
   "source": [
    "# Solución 4:\n",
    "cadena2 = '{:.1f} [s] ( {:.1f} [m])'.format(t1, t1/60)\n",
    "cadena3 = '{:.1f} [s] ( {:.1f} [m])'.format(t2, t2/60)\n",
    "print(cadena1 + cadena2)\n",
    "print(cadena1 + cadena3)"
   ]
  },
  {
   "cell_type": "code",
   "execution_count": 33,
   "id": "072a6781",
   "metadata": {},
   "outputs": [
    {
     "name": "stdout",
     "output_type": "stream",
     "text": [
      "El tiempo de cocción óptimo es: 313.1 [s] (5.2 [m])\n",
      "El tiempo de cocción óptimo es: 248.9 [s] (4.1 [m])\n"
     ]
    }
   ],
   "source": [
    "# Solución 5:\n",
    "print('El tiempo de cocción óptimo es: {:0.1f} [s] ({:0.1f} [m])'.format(t1, t1/60))\n",
    "print('El tiempo de cocción óptimo es: {:0.1f} [s] ({:0.1f} [m])'.format(t2, t2/60))"
   ]
  },
  {
   "cell_type": "markdown",
   "id": "86916f05",
   "metadata": {},
   "source": [
    "<a name='ej-3'></a>\n",
    "#### **<font color=\"DodgerBlue\">Ejercicio 3.</font>**\n",
    "<font color=\"DarkBlue\">Hacer una lista de tiempos de cocción para temperaturas de huevos, desde la que se tiene en el refrigerador hasta temperatura ambiente, en pasos de 1$^o$C.</font>\n",
    "1. Imprimir dos columnas: temperatura y tiempo.\n",
    "2. Imprimir los tiempos en el formato: min:seg (por ejemplo 5:30).\n",
    "3. Imprimir un encabezado para identificar las columnas.\n",
    "4. Realizar lo mismo que en 1, 2 y 3, pero con dos listas `list`: una para las temperaturas y otra para los tiempos.\n",
    "5. Realizar lo mismo que en 1, 2 y 3, pero con un diccionario `dict`."
   ]
  },
  {
   "cell_type": "markdown",
   "id": "b9567af3",
   "metadata": {},
   "source": [
    "<a href=\"./T03_Estructura_de_Datos.ipynb\">Estructura de datos</a>"
   ]
  },
  {
   "cell_type": "markdown",
   "id": "7fac3245",
   "metadata": {},
   "source": [
    "<a href=\"./T04_Control_de_flujo.ipynb\">Control de flujo</a>"
   ]
  },
  {
   "cell_type": "markdown",
   "id": "8117f170",
   "metadata": {},
   "source": [
    "**<font color=\"#126534\">SOLUCIÓN.</font>**<br>\n",
    "Recordemos la fórmula $$t = \\dfrac{M^{2/3} c \\rho^{1/3}}{K \\pi^2 (4\\pi/3)^{2/3}} \\ln \\left[ 0.76 \\dfrac{T_o - T_w}{T_y - T_w}\\right]$$\n",
    "\n",
    "`numerador` = $M^{2/3} c \\rho^{1/3}$\n",
    "\n",
    "`denominador` = $K \\pi^2 (4\\pi/3)^{2/3}$\n",
    "\n",
    "`logaritmo` = $ln \\left[ 0.76 \\dfrac{T_o - T_w}{T_y - T_w}\\right]$\n",
    "\n",
    "Observamos que lo único que cambia es `logaritmo`."
   ]
  },
  {
   "cell_type": "code",
   "execution_count": 1,
   "id": "eef3286f",
   "metadata": {},
   "outputs": [
    {
     "name": "stdout",
     "output_type": "stream",
     "text": [
      "4\n",
      "5\n",
      "6\n",
      "7\n",
      "8\n",
      "9\n",
      "10\n",
      "11\n",
      "12\n",
      "13\n",
      "14\n",
      "15\n",
      "16\n",
      "17\n",
      "18\n",
      "19\n"
     ]
    }
   ],
   "source": [
    "for To in range(4, 20):\n",
    "    print(To)"
   ]
  },
  {
   "cell_type": "code",
   "execution_count": 9,
   "id": "81d32ae6",
   "metadata": {},
   "outputs": [
    {
     "name": "stdout",
     "output_type": "stream",
     "text": [
      "313.09454902221637\n",
      "309.4055027800624\n",
      "305.67741828677\n",
      "301.9094604759048\n",
      "298.100767196758\n",
      "294.2504480302776\n",
      "290.3575830395756\n",
      "286.42122145062837\n",
      "282.44038025843554\n",
      "278.4140427535251\n",
      "274.34115696328047\n",
      "270.22063400211084\n",
      "266.05134632399177\n",
      "261.83212587036\n",
      "257.5617621057524\n",
      "253.23899993292162\n",
      "248.86253747844736\n"
     ]
    }
   ],
   "source": [
    "for To in range(4, 21):\n",
    "    logaritmo = math.log(0.76 * (To - Tw) / (Ty - Tw))\n",
    "    t = numerador / denominador * logaritmo\n",
    "    print(t)"
   ]
  },
  {
   "cell_type": "code",
   "execution_count": 10,
   "id": "a8245581",
   "metadata": {},
   "outputs": [
    {
     "name": "stdout",
     "output_type": "stream",
     "text": [
      "4 5.218242483703606\n",
      "5 5.156758379667707\n",
      "6 5.094623638112833\n",
      "7 5.03182434126508\n",
      "8 4.968346119945966\n",
      "9 4.90417413383796\n",
      "10 4.8392930506595935\n",
      "11 4.773687024177139\n",
      "12 4.7073396709739255\n",
      "13 4.640234045892085\n",
      "14 4.572352616054674\n",
      "15 4.503677233368514\n",
      "16 4.434189105399863\n",
      "17 4.363868764506\n",
      "18 4.292696035095873\n",
      "19 4.220649998882027\n",
      "20 4.147708957974123\n"
     ]
    }
   ],
   "source": [
    "for To in range(4, 21):\n",
    "    logaritmo = math.log(0.76 * (To - Tw) / (Ty - Tw))\n",
    "    t = numerador / denominador * logaritmo\n",
    "    print(To, t/60)"
   ]
  },
  {
   "cell_type": "code",
   "execution_count": 11,
   "id": "d875b6a7",
   "metadata": {},
   "outputs": [
    {
     "name": "stdout",
     "output_type": "stream",
     "text": [
      "Temperatura \t Tiempo\n",
      " 4 \t\t 5:13\n",
      " 5 \t\t 5:9\n",
      " 6 \t\t 5:5\n",
      " 7 \t\t 5:1\n",
      " 8 \t\t 4:58\n",
      " 9 \t\t 4:54\n",
      " 10 \t\t 4:50\n",
      " 11 \t\t 4:46\n",
      " 12 \t\t 4:42\n",
      " 13 \t\t 4:38\n",
      " 14 \t\t 4:34\n",
      " 15 \t\t 4:30\n",
      " 16 \t\t 4:26\n",
      " 17 \t\t 4:21\n",
      " 18 \t\t 4:17\n",
      " 19 \t\t 4:13\n",
      " 20 \t\t 4:8\n"
     ]
    }
   ],
   "source": [
    "print('Temperatura \\t Tiempo')\n",
    "for To in range(4, 21):\n",
    "    logaritmo = math.log(0.76 * (To - Tw) / (Ty - Tw))\n",
    "    t = numerador / denominador * logaritmo\n",
    "    t_min = int(t / 60)\n",
    "    t_seg = int(t - t_min * 60) \n",
    "    print(' {} \\t\\t {}:{}'.format(To, t_min, t_seg))"
   ]
  },
  {
   "cell_type": "code",
   "execution_count": 13,
   "id": "41255da7",
   "metadata": {},
   "outputs": [
    {
     "name": "stdout",
     "output_type": "stream",
     "text": [
      "Temperatura \t Tiempo\n",
      " 4 \t\t 5:13\n",
      " 5 \t\t 5:9\n",
      " 6 \t\t 5:5\n",
      " 7 \t\t 5:1\n",
      " 8 \t\t 4:58\n",
      " 9 \t\t 4:54\n",
      " 10 \t\t 4:50\n",
      " 11 \t\t 4:46\n",
      " 12 \t\t 4:42\n",
      " 13 \t\t 4:38\n",
      " 14 \t\t 4:34\n",
      " 15 \t\t 4:30\n",
      " 16 \t\t 4:26\n",
      " 17 \t\t 4:21\n",
      " 18 \t\t 4:17\n",
      " 19 \t\t 4:13\n",
      " 20 \t\t 4:8\n"
     ]
    }
   ],
   "source": [
    "#4. Realizar lo mismo que en 1, 2 y 3, pero con dos listas `list`: una para las temperaturas y otra para los tiempos.\n",
    "print('Temperatura \\t Tiempo')\n",
    "Ts = [] # Lista de temperaturas\n",
    "ts = [] # Lista de tiempos\n",
    "for To in range(4,21):\n",
    "    Ts.append(To)\n",
    "    logaritmo = math.log(0.76 * (To - Tw) / (Ty - Tw))\n",
    "    t = numerador / denominador * logaritmo\n",
    "    t_min = int(t / 60)\n",
    "    t_seg = int(t - t_min * 60) \n",
    "    ts.append(str(t_min) + ':' + str(t_seg)) \n",
    "\n",
    "#print(Ts)\n",
    "#print(ts)\n",
    "for T, t in zip(Ts, ts):\n",
    "    print(' {} \\t\\t {}'.format(T, t))"
   ]
  },
  {
   "cell_type": "code",
   "execution_count": 14,
   "id": "8fd3d685",
   "metadata": {},
   "outputs": [
    {
     "name": "stdout",
     "output_type": "stream",
     "text": [
      "Temperatura \t Tiempo\n",
      " 4 \t\t 5:13\n",
      " 5 \t\t 5:9\n",
      " 6 \t\t 5:5\n",
      " 7 \t\t 5:1\n",
      " 8 \t\t 4:58\n",
      " 9 \t\t 4:54\n",
      " 10 \t\t 4:50\n",
      " 11 \t\t 4:46\n",
      " 12 \t\t 4:42\n",
      " 13 \t\t 4:38\n",
      " 14 \t\t 4:34\n",
      " 15 \t\t 4:30\n",
      " 16 \t\t 4:26\n",
      " 17 \t\t 4:21\n",
      " 18 \t\t 4:17\n",
      " 19 \t\t 4:13\n",
      " 20 \t\t 4:8\n"
     ]
    }
   ],
   "source": [
    "#5. Realizar lo mismo que en 1, 2 y 3, pero con un diccionario `dict`.print('Temperatura \\t Tiempo')\n",
    "print('Temperatura \\t Tiempo')\n",
    "tiempos_huevo = {} # diccionario vacío\n",
    "for To in range(4,21):\n",
    "    logaritmo = math.log(0.76 * (To - Tw) / (Ty - Tw))\n",
    "    t = numerador / denominador * logaritmo\n",
    "    t_min = int(t / 60)\n",
    "    t_seg = int(t - t_min * 60) \n",
    "    tiempos_huevo[To] = str(t_min) + ':' + str(t_seg)\n",
    "\n",
    "for key in tiempos_huevo:\n",
    "    print(' {} \\t\\t {}'.format(key, tiempos_huevo[key]))"
   ]
  },
  {
   "cell_type": "markdown",
   "id": "0bf52364",
   "metadata": {},
   "source": [
    "**Ejemplos de como recorrer diccionarios**"
   ]
  },
  {
   "cell_type": "code",
   "execution_count": 15,
   "id": "79304400",
   "metadata": {},
   "outputs": [
    {
     "data": {
      "text/plain": [
       "dict_items([(4, '5:13'), (5, '5:9'), (6, '5:5'), (7, '5:1'), (8, '4:58'), (9, '4:54'), (10, '4:50'), (11, '4:46'), (12, '4:42'), (13, '4:38'), (14, '4:34'), (15, '4:30'), (16, '4:26'), (17, '4:21'), (18, '4:17'), (19, '4:13'), (20, '4:8')])"
      ]
     },
     "execution_count": 15,
     "metadata": {},
     "output_type": "execute_result"
    }
   ],
   "source": [
    "d_items = tiempos_huevo.items()\n",
    "d_items"
   ]
  },
  {
   "cell_type": "code",
   "execution_count": 16,
   "id": "4ee78ae4",
   "metadata": {},
   "outputs": [
    {
     "name": "stdout",
     "output_type": "stream",
     "text": [
      "(4, '5:13')\n",
      "(5, '5:9')\n",
      "(6, '5:5')\n",
      "(7, '5:1')\n",
      "(8, '4:58')\n",
      "(9, '4:54')\n",
      "(10, '4:50')\n",
      "(11, '4:46')\n",
      "(12, '4:42')\n",
      "(13, '4:38')\n",
      "(14, '4:34')\n",
      "(15, '4:30')\n",
      "(16, '4:26')\n",
      "(17, '4:21')\n",
      "(18, '4:17')\n",
      "(19, '4:13')\n",
      "(20, '4:8')\n"
     ]
    }
   ],
   "source": [
    "for item in tiempos_huevo.items():\n",
    "    print(item)"
   ]
  },
  {
   "cell_type": "code",
   "execution_count": 17,
   "id": "b13ba570",
   "metadata": {},
   "outputs": [
    {
     "name": "stdout",
     "output_type": "stream",
     "text": [
      "4 5:13\n",
      "5 5:9\n",
      "6 5:5\n",
      "7 5:1\n",
      "8 4:58\n",
      "9 4:54\n",
      "10 4:50\n",
      "11 4:46\n",
      "12 4:42\n",
      "13 4:38\n",
      "14 4:34\n",
      "15 4:30\n",
      "16 4:26\n",
      "17 4:21\n",
      "18 4:17\n",
      "19 4:13\n",
      "20 4:8\n"
     ]
    }
   ],
   "source": [
    "for k, i in tiempos_huevo.items():\n",
    "    print(k, i)"
   ]
  },
  {
   "cell_type": "code",
   "execution_count": 18,
   "id": "180cfae8",
   "metadata": {},
   "outputs": [
    {
     "name": "stdout",
     "output_type": "stream",
     "text": [
      "4\n",
      "5\n",
      "6\n",
      "7\n",
      "8\n",
      "9\n",
      "10\n",
      "11\n",
      "12\n",
      "13\n",
      "14\n",
      "15\n",
      "16\n",
      "17\n",
      "18\n",
      "19\n",
      "20\n"
     ]
    }
   ],
   "source": [
    "for key in tiempos_huevo.keys():\n",
    "    print(key)"
   ]
  },
  {
   "cell_type": "code",
   "execution_count": 19,
   "id": "b1c97448",
   "metadata": {},
   "outputs": [
    {
     "name": "stdout",
     "output_type": "stream",
     "text": [
      "5:13\n",
      "5:9\n",
      "5:5\n",
      "5:1\n",
      "4:58\n",
      "4:54\n",
      "4:50\n",
      "4:46\n",
      "4:42\n",
      "4:38\n",
      "4:34\n",
      "4:30\n",
      "4:26\n",
      "4:21\n",
      "4:17\n",
      "4:13\n",
      "4:8\n"
     ]
    }
   ],
   "source": [
    "for val in tiempos_huevo.values():\n",
    "    print(val)"
   ]
  },
  {
   "cell_type": "markdown",
   "id": "7f6560dc",
   "metadata": {},
   "source": [
    "<a name='ej-4'></a>\n",
    "#### **<font color=\"DodgerBlue\">Ejercicio 4.</font>**\n",
    "<font color=\"DarkBlue\">Utilice la versión que más le agrade para escribir las temperaturas y los tiempos de cocción de un huevo duro, y modifíquela para que haga lo siguiente:</font>\n",
    "1. Al principio de la ejecución solicite al usuario:\n",
    "    - el nombre de un archivo donde va a guardar la tabla de resultados\n",
    "    - el peso del huevo\n",
    "2. Imprima la tabla de resultados en pantalla.\n",
    "3. Guarde la tabla en el archivo.\n",
    "4. Muestre un mensaje al usuario diciendo el nombre del archivo donde se guardó el resultado."
   ]
  },
  {
   "cell_type": "markdown",
   "id": "52a8037c",
   "metadata": {},
   "source": [
    "<a href=\"./T05_Entrada_Salida_Archivos.ipynb\">Entrada, Salida y Archivos</a>"
   ]
  },
  {
   "cell_type": "code",
   "execution_count": 20,
   "id": "ffed9915",
   "metadata": {},
   "outputs": [
    {
     "name": "stdin",
     "output_type": "stream",
     "text": [
      "Nombre del archivo:  tabla_de_tiempos\n",
      "Peso del huevo =  56\n"
     ]
    },
    {
     "name": "stdout",
     "output_type": "stream",
     "text": [
      "Temperatura \t Tiempo\n",
      " 4 \t\t 5:51\n",
      " 5 \t\t 5:47\n",
      " 6 \t\t 5:43\n",
      " 7 \t\t 5:39\n",
      " 8 \t\t 5:35\n",
      " 9 \t\t 5:30\n",
      " 10 \t\t 5:26\n",
      " 11 \t\t 5:21\n",
      " 12 \t\t 5:17\n",
      " 13 \t\t 5:12\n",
      " 14 \t\t 5:8\n",
      " 15 \t\t 5:3\n",
      " 16 \t\t 4:59\n",
      " 17 \t\t 4:54\n",
      " 18 \t\t 4:49\n",
      " 19 \t\t 4:44\n",
      " 20 \t\t 4:39\n",
      "La tabla de tiempos de cocción se guardó en el archivo: \"tabla_de_tiempos\"\n"
     ]
    }
   ],
   "source": [
    "nombre_archivo = input('Nombre del archivo: ')\n",
    "M = float(input('Peso del huevo = '))\n",
    "numerador = M**(2/3) * c * rho**(1/3)\n",
    "\n",
    "print('Temperatura \\t Tiempo')\n",
    "tiempos_huevo = {} # diccionario vacío\n",
    "for To in range(4,21):\n",
    "    logaritmo = math.log(0.76 * (To - Tw) / (Ty - Tw))\n",
    "    t = numerador / denominador * logaritmo\n",
    "    t_min = int(t / 60)\n",
    "    t_seg = int(t - t_min * 60) \n",
    "    tiempos_huevo[To] = str(t_min) + ':' + str(t_seg)\n",
    "\n",
    "with open(nombre_archivo, 'w') as archivo_abierto:\n",
    "    archivo_abierto.write('Temperatura \\t Tiempo\\n')\n",
    "    for key in tiempos_huevo:\n",
    "        print(' {} \\t\\t {}'.format(key, tiempos_huevo[key]))\n",
    "        archivo_abierto.write(' {} \\t\\t {}\\n'.format(key, tiempos_huevo[key]))\n",
    "    \n",
    "print('La tabla de tiempos de cocción se guardó en el archivo: \"{}\"'.format(nombre_archivo))"
   ]
  },
  {
   "cell_type": "code",
   "execution_count": 21,
   "id": "7e4986b4",
   "metadata": {},
   "outputs": [
    {
     "name": "stdin",
     "output_type": "stream",
     "text": [
      "Nombre del archivo:  tabla_listas\n",
      "Peso del huevo =  50\n"
     ]
    },
    {
     "name": "stdout",
     "output_type": "stream",
     "text": [
      "Temperatura \t Tiempo\n",
      " 4 \t\t 5:26\n",
      " 5 \t\t 5:22\n",
      " 6 \t\t 5:18\n",
      " 7 \t\t 5:14\n",
      " 8 \t\t 5:10\n",
      " 9 \t\t 5:6\n",
      " 10 \t\t 5:2\n",
      " 11 \t\t 4:58\n",
      " 12 \t\t 4:54\n",
      " 13 \t\t 4:50\n",
      " 14 \t\t 4:45\n",
      " 15 \t\t 4:41\n",
      " 16 \t\t 4:37\n",
      " 17 \t\t 4:32\n",
      " 18 \t\t 4:28\n",
      " 19 \t\t 4:23\n",
      " 20 \t\t 4:19\n",
      "La tabla de tiempos de cocción se guardó en el archivo: \"tabla_listas\"\n"
     ]
    }
   ],
   "source": [
    "nombre_archivo = input('Nombre del archivo: ')\n",
    "M = float(input('Peso del huevo = '))\n",
    "numerador = M**(2/3) * c * rho**(1/3)\n",
    "\n",
    "print('Temperatura \\t Tiempo')\n",
    "Ts = []\n",
    "ts = []\n",
    "#tiempos_huevo = {} # diccionario vacío\n",
    "for To in range(4,21):\n",
    "    Ts.append(To)\n",
    "    logaritmo = math.log(0.76 * (To - Tw) / (Ty - Tw))\n",
    "    t = numerador / denominador * logaritmo\n",
    "    t_min = int(t / 60)\n",
    "    t_seg = int(t - t_min * 60) \n",
    "#    tiempos_huevo[To] = str(t_min) + ':' + str(t_seg)\n",
    "    t1 = str(t_min) + ':' + str(t_seg)\n",
    "    ts.append(t1)\n",
    "\n",
    "with open(nombre_archivo, 'w') as archivo_abierto:\n",
    "    archivo_abierto.write('Temperatura \\t Tiempo\\n')\n",
    "    for i in range(len(Ts)):\n",
    "        print(' {} \\t\\t {}'.format(Ts[i], ts[i]))\n",
    "        archivo_abierto.write(' {} \\t\\t {}\\n'.format(Ts[i], ts[i]))\n",
    "\n",
    "print('La tabla de tiempos de cocción se guardó en el archivo: \"{}\"'.format(nombre_archivo))"
   ]
  },
  {
   "cell_type": "code",
   "execution_count": 23,
   "id": "f2ed37f4",
   "metadata": {},
   "outputs": [
    {
     "name": "stdout",
     "output_type": "stream",
     "text": [
      "0,1,2,3,4,5,6,7,8,9,10,11,12,13,14,15,16,17,18,19,20,21,22,23,24,25,26,27,28,29,30,31,32,33,34,35,36,37,38,39,40,41,42,43,44,45,46,47,48,49,50,51,52,53,54,55,56,57,58,59,60,61,62,63,64,65,66,67,68,69,70,71,72,73,74,75,76,77,78,79,80,81,82,83,84,85,86,87,88,89,90,91,92,93,94,95,96,97,98,99,100,101,102,103,104,105,106,107,108,109,110,111,112,113,114,115,116,117,118,119,120,121,122,123,124,125,126,127,128,129,130,131,132,133,134,135,136,137,138,139,140,141,142,143,144,145,146,147,148,149,150,151,152,153,154,155,156,157,158,159,160,161,162,163,164,165,166,167,168,169,170,171,172,173,174,175,176,177,178,179,180,181,182,183,184,185,186,187,188,189,190,191,192,193,194,195,196,197,198,199,200,201,202,203,204,205,206,207,208,209,210,211,212,213,214,215,216,217,218,219,220,221,222,223,224,225,226,227,228,229,230,231,232,233,234,235,236,237,238,239,240,241,242,243,244,245,246,247,248,249,250,251,252,253,254,255,256,257,258,259,260,261,262,263,264,265,266,267,268,269,270,271,272,273,274,275,276,277,278,279,280,281,282,283,284,285,286,287,288,289,290,291,292,293,294,295,296,297,298,299,300,301,302,303,304,305,306,307,308,309,310,311,312,313,314,315,316,317,318,319,320,321,322,323,324,325,326,327,328,329,330,331,332,333,334,335,336,337,338,339,340,341,342,343,344,345,346,347,348,349,350,351,352,353,354,355,356,357,358,359,360,361,362,363,364,365,366,367,368,369,370,371,372,373,374,375,376,377,378,379,380,381,382,383,384,385,386,387,388,389,390,391,392,393,394,395,396,397,398,399,400,401,402,403,404,405,406,407,408,409,410,411,412,413,414,415,416,417,418,419,420,421,422,423,424,425,426,427,428,429,430,431,432,433,434,435,436,437,438,439,440,441,442,443,444,445,446,447,448,449,450,451,452,453,454,455,456,457,458,459,460,461,462,463,464,465,466,467,468,469,470,471,472,473,474,475,476,477,478,479,480,481,482,483,484,485,486,487,488,489,490,491,492,493,494,495,496,497,498,499,500,501,502,503,504,505,506,507,508,509,510,511,512,513,514,515,516,517,518,519,520,521,522,523,524,525,526,527,528,529,530,531,532,533,534,535,536,537,538,539,540,541,542,543,544,545,546,547,548,549,550,551,552,553,554,555,556,557,558,559,560,561,562,563,564,565,566,567,568,569,570,571,572,573,574,575,576,577,578,579,580,581,582,583,584,585,586,587,588,589,590,591,592,593,594,595,596,597,598,599,600,601,602,603,604,605,606,607,608,609,610,611,612,613,614,615,616,617,618,619,620,621,622,623,624,625,626,627,628,629,630,631,632,633,634,635,636,637,638,639,640,641,642,643,644,645,646,647,648,649,650,651,652,653,654,655,656,657,658,659,660,661,662,663,664,665,666,667,668,669,670,671,672,673,674,675,676,677,678,679,680,681,682,683,684,685,686,687,688,689,690,691,692,693,694,695,696,697,698,699,700,701,702,703,704,705,706,707,708,709,710,711,712,713,714,715,716,717,718,719,720,721,722,723,724,725,726,727,728,729,730,731,732,733,734,735,736,737,738,739,740,741,742,743,744,745,746,747,748,749,750,751,752,753,754,755,756,757,758,759,760,761,762,763,764,765,766,767,768,769,770,771,772,773,774,775,776,777,778,779,780,781,782,783,784,785,786,787,788,789,790,791,792,793,794,795,796,797,798,799,800,801,802,803,804,805,806,807,808,809,810,811,812,813,814,815,816,817,818,819,820,821,822,823,824,825,826,827,828,829,830,831,832,833,834,835,836,837,838,839,840,841,842,843,844,845,846,847,848,849,850,851,852,853,854,855,856,857,858,859,860,861,862,863,864,865,866,867,868,869,870,871,872,873,874,875,876,877,878,879,880,881,882,883,884,885,886,887,888,889,890,891,892,893,894,895,896,897,898,899,900,901,902,903,904,905,906,907,908,909,910,911,912,913,914,915,916,917,918,919,920,921,922,923,924,925,926,927,928,929,930,931,932,933,934,935,936,937,938,939,940,941,942,943,944,945,946,947,948,949,950,951,952,953,954,955,956,957,958,959,960,961,962,963,964,965,966,967,968,969,970,971,972,973,974,975,976,977,978,979,980,981,982,983,984,985,986,987,988,989,990,991,992,993,994,995,996,997,998,999,0.0480571880016214\n"
     ]
    }
   ],
   "source": [
    "import time\n",
    "t1 = time.perf_counter()\n",
    "for i in range(1000):\n",
    "    print(i, end=',')\n",
    "t2 = time.perf_counter()\n",
    "print(t2 - t1)"
   ]
  },
  {
   "cell_type": "markdown",
   "id": "596f3eb5",
   "metadata": {},
   "source": [
    "<a name='ej-5'></a>\n",
    "#### **<font color=\"DodgerBlue\">Ejercicio 5.</font>**\n",
    "<font color=\"DarkBlue\">Modificar el código del ejercicio 4 para que el nombre del archivo contenga el peso del huevo. Por ejemplo, si el usuario teclea `tiempo_coccion`, el resultado final se almacenará en un archivo de nombre `tiempo_coccion_67`.</font>"
   ]
  },
  {
   "cell_type": "code",
   "execution_count": 1,
   "id": "9e577644",
   "metadata": {},
   "outputs": [
    {
     "name": "stdout",
     "output_type": "stream",
     "text": [
      "Nombre del archivo: mlkm\n",
      "Peso del huevo = klm\n"
     ]
    },
    {
     "ename": "ValueError",
     "evalue": "could not convert string to float: 'klm'",
     "output_type": "error",
     "traceback": [
      "\u001b[0;31m---------------------------------------------------------------------------\u001b[0m",
      "\u001b[0;31mValueError\u001b[0m                                Traceback (most recent call last)",
      "\u001b[0;32m/tmp/ipykernel_18832/2135425204.py\u001b[0m in \u001b[0;36m<module>\u001b[0;34m\u001b[0m\n\u001b[1;32m      1\u001b[0m \u001b[0mnombre_archivo\u001b[0m \u001b[0;34m=\u001b[0m \u001b[0minput\u001b[0m\u001b[0;34m(\u001b[0m\u001b[0;34m'Nombre del archivo: '\u001b[0m\u001b[0;34m)\u001b[0m\u001b[0;34m\u001b[0m\u001b[0;34m\u001b[0m\u001b[0m\n\u001b[0;32m----> 2\u001b[0;31m \u001b[0mM\u001b[0m \u001b[0;34m=\u001b[0m \u001b[0mfloat\u001b[0m\u001b[0;34m(\u001b[0m\u001b[0minput\u001b[0m\u001b[0;34m(\u001b[0m\u001b[0;34m'Peso del huevo = '\u001b[0m\u001b[0;34m)\u001b[0m\u001b[0;34m)\u001b[0m\u001b[0;34m\u001b[0m\u001b[0;34m\u001b[0m\u001b[0m\n\u001b[0m\u001b[1;32m      3\u001b[0m \u001b[0mnumerador\u001b[0m \u001b[0;34m=\u001b[0m \u001b[0mM\u001b[0m\u001b[0;34m**\u001b[0m\u001b[0;34m(\u001b[0m\u001b[0;36m2\u001b[0m\u001b[0;34m/\u001b[0m\u001b[0;36m3\u001b[0m\u001b[0;34m)\u001b[0m \u001b[0;34m*\u001b[0m \u001b[0mc\u001b[0m \u001b[0;34m*\u001b[0m \u001b[0mrho\u001b[0m\u001b[0;34m**\u001b[0m\u001b[0;34m(\u001b[0m\u001b[0;36m1\u001b[0m\u001b[0;34m/\u001b[0m\u001b[0;36m3\u001b[0m\u001b[0;34m)\u001b[0m\u001b[0;34m\u001b[0m\u001b[0;34m\u001b[0m\u001b[0m\n\u001b[1;32m      4\u001b[0m \u001b[0;34m\u001b[0m\u001b[0m\n\u001b[1;32m      5\u001b[0m \u001b[0metiqueta\u001b[0m \u001b[0;34m=\u001b[0m \u001b[0mstr\u001b[0m\u001b[0;34m(\u001b[0m\u001b[0mint\u001b[0m\u001b[0;34m(\u001b[0m\u001b[0mM\u001b[0m\u001b[0;34m)\u001b[0m\u001b[0;34m)\u001b[0m\u001b[0;34m\u001b[0m\u001b[0;34m\u001b[0m\u001b[0m\n",
      "\u001b[0;31mValueError\u001b[0m: could not convert string to float: 'klm'"
     ]
    }
   ],
   "source": [
    "nombre_archivo = input('Nombre del archivo: ')\n",
    "M = float(input('Peso del huevo = '))\n",
    "numerador = M**(2/3) * c * rho**(1/3)\n",
    "\n",
    "etiqueta = str(int(M))\n",
    "nombre_archivo += '_' + etiqueta\n",
    "\n",
    "print('Temperatura \\t Tiempo')\n",
    "tiempos_huevo = {} # diccionario vacío\n",
    "for To in range(4,21):\n",
    "    logaritmo = math.log(0.76 * (To - Tw) / (Ty - Tw))\n",
    "    t = numerador / denominador * logaritmo\n",
    "    t_min = int(t / 60)\n",
    "    t_seg = int(t - t_min * 60) \n",
    "    tiempos_huevo[To] = str(t_min) + ':' + str(t_seg)\n",
    "\n",
    "with open(nombre_archivo, 'w') as archivo_abierto:\n",
    "    archivo_abierto.write('Temperatura \\t Tiempo\\n')\n",
    "    for key in tiempos_huevo:\n",
    "        print(' {} \\t\\t {}'.format(key, tiempos_huevo[key]))\n",
    "        archivo_abierto.write(' {} \\t\\t {}\\n'.format(key, tiempos_huevo[key]))\n",
    "    \n",
    "print('La tabla de tiempos de cocción se guardó en el archivo: \"{}\"'.format(nombre_archivo))"
   ]
  },
  {
   "cell_type": "markdown",
   "id": "2994bbab",
   "metadata": {},
   "source": [
    "<a name='ej-6'></a>\n",
    "#### **<font color=\"DodgerBlue\">Ejercicio 6.</font>**\n",
    "<font color=\"DarkBlue\">Calcule la tabla de tiempos para un huevo de 67 gramos. Luego determine la temperatura a la cuál debería estar el huevo originalmente para que el tiempo de cocción sea exactamente  de 6 minutos.</font>"
   ]
  },
  {
   "cell_type": "code",
   "execution_count": 34,
   "id": "92e18ada",
   "metadata": {},
   "outputs": [
    {
     "name": "stdout",
     "output_type": "stream",
     "text": [
      "Temperatura \t Tiempo\n",
      "6 36\n",
      "6 31\n",
      "6 27\n",
      "6 22\n",
      "6 17\n",
      "6 12\n",
      "6 7\n",
      "6 2\n"
     ]
    }
   ],
   "source": [
    "M = 67\n",
    "numerador = M**(2/3) * c * rho**(1/3)\n",
    "\n",
    "print('Temperatura \\t Tiempo')\n",
    "tiempos_huevo = {} # diccionario vacío\n",
    "for To in range(4,21):\n",
    "    logaritmo = math.log(0.76 * (To - Tw) / (Ty - Tw))\n",
    "    t = numerador / denominador * logaritmo\n",
    "    t_min = int(t / 60)\n",
    "    t_seg = int(t - t_min * 60) \n",
    "    tiempos_huevo[To] = str(t_min) + ':' + str(t_seg)\n",
    "\n",
    "min_s = 60\n",
    "for key in tiempos_huevo:\n",
    "#    print(' {} \\t\\t {}'.format(key, tiempos_huevo[key]))\n",
    "    m, s = tiempos_huevo[key].split(':')\n",
    "    m = int(m)\n",
    "    s = int(s)\n",
    "    min_s = s if s < min_s else min_s\n",
    "    if m == 6 and s == min_s:\n",
    "        print(m, s)\n",
    "        "
   ]
  }
 ],
 "metadata": {
  "kernelspec": {
   "display_name": "Python 3 (ipykernel)",
   "language": "python",
   "name": "python3"
  },
  "language_info": {
   "codemirror_mode": {
    "name": "ipython",
    "version": 3
   },
   "file_extension": ".py",
   "mimetype": "text/x-python",
   "name": "python",
   "nbconvert_exporter": "python",
   "pygments_lexer": "ipython3",
   "version": "3.8.10"
  }
 },
 "nbformat": 4,
 "nbformat_minor": 5
}
