{
 "cells": [
  {
   "cell_type": "markdown",
   "metadata": {},
   "source": [
    "# Estructura de datos.\n",
    "\n",
    "**Objetivo.**\n",
    "...\n",
    "\n",
    "**Funciones de Python**:\n",
    "...\n",
    "\n",
    " <p xmlns:cc=\"http://creativecommons.org/ns#\" xmlns:dct=\"http://purl.org/dc/terms/\"><a property=\"dct:title\" rel=\"cc:attributionURL\" href=\"https://github.com/repomacti/macti/tree/main/notebooks/Algebra_Lineal_01\">MACTI-Algebra_Lineal_01</a> by <a rel=\"cc:attributionURL dct:creator\" property=\"cc:attributionName\" href=\"https://www.macti.unam.mx\">Luis M. de la Cruz</a> is licensed under <a href=\"http://creativecommons.org/licenses/by-sa/4.0/?ref=chooser-v1\" target=\"_blank\" rel=\"license noopener noreferrer\" style=\"display:inline-block;\">Attribution-ShareAlike 4.0 International<img style=\"height:22px!important;margin-left:3px;vertical-align:text-bottom;\" src=\"https://mirrors.creativecommons.org/presskit/icons/cc.svg?ref=chooser-v1\"><img style=\"height:22px!important;margin-left:3px;vertical-align:text-bottom;\" src=\"https://mirrors.creativecommons.org/presskit/icons/by.svg?ref=chooser-v1\"><img style=\"height:22px!important;margin-left:3px;vertical-align:text-bottom;\" src=\"https://mirrors.creativecommons.org/presskit/icons/sa.svg?ref=chooser-v1\"></a></p> "
   ]
  },
  {
   "cell_type": "markdown",
   "metadata": {},
   "source": [
    "# Introducción\n",
    "\n",
    "Hay cuatro tipos de estructuras de datos, también conocidas como *colecciones*. La siguiente tabla resume estos cuatro tipos:\n",
    "\n",
    "|Tipo|Ordenada|Inmutable|Indexable|Duplicidad|\n",
    "|-:|:-:|:-:|:-:|:-:|\n",
    "|List |SI|NO|SI|SI|\n",
    "|Tuple|SI|SI|SI|SI|\n",
    "|Sets |NO|NO|NO|NO|\n",
    "|Dict |NO|NO|SI|NO|\n",
    "\n",
    "\n",
    "\n",
    "Cuando se selecciona un tipo de colección, es importante conocer sus propiedades para incrementar la eficiencia y/o la seguridad de los datos."
   ]
  },
  {
   "cell_type": "markdown",
   "metadata": {},
   "source": [
    "# Listas\n",
    "\n",
    "* Consisten en una secuencia **ordenada** y **mutable** de elementos. \n",
    "    - Ordenadas significa que cada elemento dentro de la lista está indexado y mantiene su orden definido en su creación.\n",
    "    - Mutable significa que los elementos de la lista se pueden modificar, y además que se pueden agregar o eliminar elementos.\n",
    "* Las listas pueden tener elementos **duplicados**, es decir, **elementos del mismo tipo y con el mismo contenido**.\n",
    "\n",
    "<div class=\"alert alert-info\">\n",
    "\n",
    "## **Ejemplo 1.**\n",
    "\n",
    "<font color=\"Black\">\n",
    "    \n",
    "Creamos 4 listas:\n",
    "    \n",
    "* `gatos` : Razas de gatos.\n",
    "* `origen` : Origen de cada raza de gatos.\n",
    "* `pelo_largo`: Si tienen pelo largo o no.\n",
    "* `pelo_corto`: Si tienen pelo corto o no.\n",
    "* `peso_minimo`: El peso mínimo que pueden tener.\n",
    "* `peso_maximo`: El peso máximo que pueden tener.\n",
    "\n",
    "</font>\n",
    "\n",
    "</div>"
   ]
  },
  {
   "cell_type": "code",
   "execution_count": null,
   "metadata": {
    "tags": []
   },
   "outputs": [],
   "source": [
    "# Las lista se definen usando corchetes []\n",
    "gatos = ['Persa', 'Sphynx', 'Ragdoll','Siamés']\n",
    "origen = ['Irán', 'Toronto', 'California', 'Tailandia']\n",
    "pelo_largo = [True, False, True, True]\n",
    "pelo_corto = [False, False, False, True]\n",
    "peso_minimo = [2.3, 3.5, 5.4, 2.5]\n",
    "peso_maximo = [6.8, 7.0, 9.1, 4.5]"
   ]
  },
  {
   "cell_type": "markdown",
   "metadata": {},
   "source": [
    "**Observaciones**:\n",
    "* Cada lista contiene 4 elementos. \n",
    "* Los elementos de cada lista son del mismo tipo. \n",
    "* Los elementos son cadenas, tipos lógicos y flotantes.\n",
    "\n",
    "Se puede obtaner el tipo de las listas como sigue:"
   ]
  },
  {
   "cell_type": "code",
   "execution_count": null,
   "metadata": {
    "tags": []
   },
   "outputs": [],
   "source": [
    "print(type(gatos))"
   ]
  },
  {
   "cell_type": "code",
   "execution_count": null,
   "metadata": {
    "tags": []
   },
   "outputs": [],
   "source": [
    "print(gatos)"
   ]
  },
  {
   "cell_type": "markdown",
   "metadata": {},
   "source": [
    "## Indexado\n",
    "\n",
    "Se puede acceder a cada elemento de las listas de manera similar a como se hace con las cadenas, veáse la notebook ...\n",
    "\n",
    "Por ejemplo:"
   ]
  },
  {
   "cell_type": "code",
   "execution_count": null,
   "metadata": {
    "tags": []
   },
   "outputs": [],
   "source": [
    "gatos[0] # Primer elemento"
   ]
  },
  {
   "cell_type": "code",
   "execution_count": null,
   "metadata": {
    "tags": []
   },
   "outputs": [],
   "source": [
    "gatos[1:4] # Todos los elementos, desde el 1 hasta el 3"
   ]
  },
  {
   "cell_type": "code",
   "execution_count": null,
   "metadata": {
    "tags": []
   },
   "outputs": [],
   "source": [
    "gatos[-1] # Último elemento"
   ]
  },
  {
   "cell_type": "code",
   "execution_count": null,
   "metadata": {
    "tags": []
   },
   "outputs": [],
   "source": [
    "gatos[::-1] # Todos los elementos en reversa"
   ]
  },
  {
   "cell_type": "markdown",
   "metadata": {},
   "source": [
    "Para conocer el tipo de objeto de uno de los elementos podemos hacer lo siguiente:"
   ]
  },
  {
   "cell_type": "code",
   "execution_count": null,
   "metadata": {
    "tags": []
   },
   "outputs": [],
   "source": [
    "print(type(gatos[0]))"
   ]
  },
  {
   "cell_type": "code",
   "execution_count": null,
   "metadata": {
    "tags": []
   },
   "outputs": [],
   "source": [
    "print(type(peso_maximo[2]))"
   ]
  },
  {
   "cell_type": "markdown",
   "metadata": {},
   "source": [
    "## Operaciones sobre las listas\n",
    "\n",
    "Existen muchas operaciones que se pueden realizar sobre las listas. A continuación se muestran unos ejemplos"
   ]
  },
  {
   "cell_type": "code",
   "execution_count": null,
   "metadata": {
    "tags": []
   },
   "outputs": [],
   "source": [
    "len(gatos) # Determinar la longitud de la lista"
   ]
  },
  {
   "cell_type": "code",
   "execution_count": null,
   "metadata": {
    "tags": []
   },
   "outputs": [],
   "source": [
    "max(gatos) # Determinar el máximo elemento de la lista"
   ]
  },
  {
   "cell_type": "code",
   "execution_count": null,
   "metadata": {
    "tags": []
   },
   "outputs": [],
   "source": [
    "min(gatos) # Determinar el mínimo elemento de la lista"
   ]
  },
  {
   "cell_type": "code",
   "execution_count": null,
   "metadata": {
    "tags": []
   },
   "outputs": [],
   "source": [
    "# Operación lógica elemento a elemento.\n",
    "# Produce una lista con elementos lógicos.\n",
    "sin_pelo = pelo_largo or pelo_corto\n",
    "print(sin_pelo)"
   ]
  },
  {
   "cell_type": "code",
   "execution_count": null,
   "metadata": {
    "tags": []
   },
   "outputs": [],
   "source": [
    "gatos + peso_maximo # Concatenación de dos listas"
   ]
  },
  {
   "cell_type": "code",
   "execution_count": null,
   "metadata": {
    "tags": []
   },
   "outputs": [],
   "source": [
    "origen * 2 # Duplicación de la lista, intenta multiplicar por 3"
   ]
  },
  {
   "cell_type": "code",
   "execution_count": null,
   "metadata": {
    "tags": []
   },
   "outputs": [],
   "source": [
    "'Siamés' in gatos # ¿Está el elemento `Siamés` en la lista gatos?"
   ]
  },
  {
   "cell_type": "markdown",
   "metadata": {},
   "source": [
    "## Métodos de las listas (comportamiento)\n",
    "\n",
    "En términos de Programación Orientada a Objetos, la clase `<class 'list'>` define una serie de métodos que se pueden aplicar sobre los objetos del tipo `list`. Veamos algunos ejemplos:"
   ]
  },
  {
   "cell_type": "code",
   "execution_count": null,
   "metadata": {
    "tags": []
   },
   "outputs": [],
   "source": [
    "print(gatos) # Imprimimos la lista original"
   ]
  },
  {
   "cell_type": "code",
   "execution_count": null,
   "metadata": {
    "tags": []
   },
   "outputs": [],
   "source": [
    "gatos.append('Siberiano') # Se agrega un elemento al final de la lista"
   ]
  },
  {
   "cell_type": "code",
   "execution_count": null,
   "metadata": {
    "tags": []
   },
   "outputs": [],
   "source": [
    "print(gatos)"
   ]
  },
  {
   "cell_type": "code",
   "execution_count": null,
   "metadata": {
    "tags": []
   },
   "outputs": [],
   "source": [
    "gatos.append('Persa') # Se agrega otro elemento al final de la lista, repetido"
   ]
  },
  {
   "cell_type": "code",
   "execution_count": null,
   "metadata": {
    "tags": []
   },
   "outputs": [],
   "source": [
    "print(gatos)"
   ]
  },
  {
   "cell_type": "code",
   "execution_count": null,
   "metadata": {
    "tags": []
   },
   "outputs": [],
   "source": [
    "gatos.remove('Persa') # Eliminamos el elemento 'Persa' de la lista"
   ]
  },
  {
   "cell_type": "code",
   "execution_count": null,
   "metadata": {
    "tags": []
   },
   "outputs": [],
   "source": [
    "print(gatos) "
   ]
  },
  {
   "cell_type": "markdown",
   "metadata": {},
   "source": [
    "Observa que solo se elimina el primer elemento 'Persa' que encuentra."
   ]
  },
  {
   "cell_type": "code",
   "execution_count": null,
   "metadata": {
    "tags": []
   },
   "outputs": [],
   "source": [
    "gatos.insert(0,'Persa') # Podemos insertar un elemento en un lugar específico de la lista"
   ]
  },
  {
   "cell_type": "code",
   "execution_count": null,
   "metadata": {
    "tags": []
   },
   "outputs": [],
   "source": [
    "print(gatos)"
   ]
  },
  {
   "cell_type": "code",
   "execution_count": null,
   "metadata": {
    "tags": []
   },
   "outputs": [],
   "source": [
    "gatos.pop() # Extrae el último elemento de la lista"
   ]
  },
  {
   "cell_type": "code",
   "execution_count": null,
   "metadata": {
    "tags": []
   },
   "outputs": [],
   "source": [
    "print(gatos)"
   ]
  },
  {
   "cell_type": "code",
   "execution_count": null,
   "metadata": {
    "tags": []
   },
   "outputs": [],
   "source": [
    "gatos.sort() # Ordena la lista"
   ]
  },
  {
   "cell_type": "code",
   "execution_count": null,
   "metadata": {
    "tags": []
   },
   "outputs": [],
   "source": [
    "print(gatos)"
   ]
  },
  {
   "cell_type": "code",
   "execution_count": null,
   "metadata": {
    "tags": []
   },
   "outputs": [],
   "source": [
    "gatos.reverse() # Modifca la lista con los elementos en reversa"
   ]
  },
  {
   "cell_type": "code",
   "execution_count": null,
   "metadata": {
    "tags": []
   },
   "outputs": [],
   "source": [
    "print(gatos)"
   ]
  },
  {
   "cell_type": "markdown",
   "metadata": {},
   "source": [
    "Una descripción detallada de los métodos de la listas se puede ver en [More on Lists](https://docs.python.org/3/tutorial/datastructures.html#more-on-lists)."
   ]
  },
  {
   "cell_type": "markdown",
   "metadata": {},
   "source": [
    "## Copiando listas\n",
    "\n",
    "Una lista es un objeto que contiene varios elementos. Para crear una copia de una lista, se debe generar un espacio de memoria en donde se copien todos los elementos de la lista original y asignar un nuevo nombre para esta nueva lista. Lo anterior no se puede hacer simplemente con el operador de asignación. Veamos un ejemplo:"
   ]
  },
  {
   "cell_type": "code",
   "execution_count": null,
   "metadata": {
    "tags": []
   },
   "outputs": [],
   "source": [
    "gatitos = gatos"
   ]
  },
  {
   "cell_type": "code",
   "execution_count": null,
   "metadata": {
    "tags": []
   },
   "outputs": [],
   "source": [
    "print(gatos)\n",
    "print(gatitos)"
   ]
  },
  {
   "cell_type": "markdown",
   "metadata": {
    "tags": []
   },
   "source": [
    "Podemos observar que al imprimir la lista mediante los nombres `gatos` y `gatitos` obtenemos el mismo resultado. Ahora, modifiquemos el primer elemento usando el nombre `gatitos`: "
   ]
  },
  {
   "cell_type": "code",
   "execution_count": null,
   "metadata": {
    "tags": []
   },
   "outputs": [],
   "source": [
    "gatitos[0] = 'Singapur'"
   ]
  },
  {
   "cell_type": "code",
   "execution_count": null,
   "metadata": {
    "tags": []
   },
   "outputs": [],
   "source": [
    "print(gatos)\n",
    "print(gatitos)"
   ]
  },
  {
   "cell_type": "markdown",
   "metadata": {},
   "source": [
    "Observamos que al imprimir la lista usando `gatos` y `gatitos` volvemos a obtener el mismo resultado. Lo anterior significa que el operador de asignación solamente creó un nuevo nombre para el mismo objeto en memoria, por lo que en realidad no hizo una copia de la lista. Lo anterior lo podemos verificar usando la función `id()` para ver la dirección en memoria del objeto:"
   ]
  },
  {
   "cell_type": "code",
   "execution_count": null,
   "metadata": {
    "tags": []
   },
   "outputs": [],
   "source": [
    "print(id(gatitos))\n",
    "print(id(gatos))"
   ]
  },
  {
   "cell_type": "markdown",
   "metadata": {
    "tags": []
   },
   "source": [
    "### Copiando con `[:]`\n",
    "\n",
    "Crear una nueva lista copiando todos los elementos podemos hacer lo siguiente:"
   ]
  },
  {
   "cell_type": "code",
   "execution_count": null,
   "metadata": {
    "tags": []
   },
   "outputs": [],
   "source": [
    "gatitos = gatos[:]"
   ]
  },
  {
   "cell_type": "code",
   "execution_count": null,
   "metadata": {
    "tags": []
   },
   "outputs": [],
   "source": [
    "print(type(gatitos))\n",
    "print(id(gatitos))\n",
    "print(gatitos)\n",
    "\n",
    "print(type(gatos))\n",
    "print(id(gatos))\n",
    "print(gatos)"
   ]
  },
  {
   "cell_type": "markdown",
   "metadata": {},
   "source": [
    "Observa que el identificador en memoria de cada lista es diferente."
   ]
  },
  {
   "cell_type": "markdown",
   "metadata": {},
   "source": [
    "### Copiando con el método `copy()`\n",
    "\n",
    "La clase `<class 'list'>` contiene un método llamado `copy()` que efectivamente realiza una copia de la lista:"
   ]
  },
  {
   "cell_type": "code",
   "execution_count": null,
   "metadata": {
    "tags": []
   },
   "outputs": [],
   "source": [
    "gatitos = gatos.copy()"
   ]
  },
  {
   "cell_type": "code",
   "execution_count": null,
   "metadata": {
    "tags": []
   },
   "outputs": [],
   "source": [
    "print(type(gatitos))\n",
    "print(id(gatitos))\n",
    "print(gatitos)\n",
    "\n",
    "print(type(gatos))\n",
    "print(id(gatos))\n",
    "print(gatos)"
   ]
  },
  {
   "cell_type": "markdown",
   "metadata": {},
   "source": [
    "Observa que el identificador en memoria de cada lista es diferente."
   ]
  },
  {
   "cell_type": "markdown",
   "metadata": {},
   "source": [
    "### Copiando con el constructor\n",
    "\n",
    "La función `list()` transforma un objeto *iterable* en una lista. La podemos usar para copiar una lista como sigue:"
   ]
  },
  {
   "cell_type": "code",
   "execution_count": null,
   "metadata": {
    "tags": []
   },
   "outputs": [],
   "source": [
    "gatitos = list(gatos)"
   ]
  },
  {
   "cell_type": "code",
   "execution_count": null,
   "metadata": {
    "tags": []
   },
   "outputs": [],
   "source": [
    "print(type(gatitos))\n",
    "print(id(gatitos))\n",
    "print(gatitos)\n",
    "\n",
    "print(type(gatos))\n",
    "print(id(gatos))\n",
    "print(gatos)"
   ]
  },
  {
   "cell_type": "markdown",
   "metadata": {},
   "source": [
    "Observa que el identificador en memoria de cada lista es diferente.\n",
    "\n",
    "**NOTA**. Lo que sucede en este último caso, es que se ejecuta el constructor de la clase `<class 'list'>`, el cual recibe un objeto iterable (lista, tupla, diccionario, entre otros), copia todos los elementos de ese iterable y los pone en una lista que se almacena en un espacio en memoria diferente al iterable original."
   ]
  },
  {
   "cell_type": "markdown",
   "metadata": {},
   "source": [
    "### Copiando con la biblioteca `copy`"
   ]
  },
  {
   "cell_type": "code",
   "execution_count": null,
   "metadata": {
    "tags": []
   },
   "outputs": [],
   "source": [
    "import copy\n",
    "gatitos = copy.copy(gatos)"
   ]
  },
  {
   "cell_type": "code",
   "execution_count": null,
   "metadata": {
    "tags": []
   },
   "outputs": [],
   "source": [
    "print(type(gatitos))\n",
    "print(id(gatitos))\n",
    "print(gatitos)\n",
    "\n",
    "print(type(gatos))\n",
    "print(id(gatos))\n",
    "print(gatos)"
   ]
  },
  {
   "cell_type": "markdown",
   "metadata": {},
   "source": [
    "Observa que el identificador en memoria de cada lista es diferente.\n",
    "\n",
    "Más información sobre el uso de esta biblioteca se puede ver en [Shallow and deep copy operations](https://docs.python.org/3/library/copy.html)."
   ]
  },
  {
   "cell_type": "markdown",
   "metadata": {},
   "source": [
    "## Listas mas complejas.\n",
    "\n",
    "Las listas pueden tener elementos de distintos tipos. Por ejemplo:"
   ]
  },
  {
   "cell_type": "code",
   "execution_count": null,
   "metadata": {
    "tags": []
   },
   "outputs": [],
   "source": [
    "superlista = ['México', 3.141592, 20, 1j, [1,2,3,'lista']]"
   ]
  },
  {
   "cell_type": "code",
   "execution_count": null,
   "metadata": {
    "tags": []
   },
   "outputs": [],
   "source": [
    "superlista"
   ]
  },
  {
   "cell_type": "code",
   "execution_count": null,
   "metadata": {
    "tags": []
   },
   "outputs": [],
   "source": [
    "superlista[0] # El elemento 0 de la lista"
   ]
  },
  {
   "cell_type": "code",
   "execution_count": null,
   "metadata": {
    "tags": []
   },
   "outputs": [],
   "source": [
    "superlista[4] # El elemento 4 de la lista (este elemento es otra lista)"
   ]
  },
  {
   "cell_type": "code",
   "execution_count": null,
   "metadata": {
    "tags": []
   },
   "outputs": [],
   "source": [
    "superlista[4][2] # El elemento 2 del elemento 4 de la lista original"
   ]
  },
  {
   "cell_type": "markdown",
   "metadata": {},
   "source": [
    "# Tuplas\n",
    "\n",
    "* Consisten en una secuencia **ordenada** e **inmutable** de elementos. \n",
    "    - Ordenadas significa que cada elemento dentro de la tupla está indexado y mantiene su orden definido en su creación.\n",
    "    - Inmutable significa que los elementos de la tupla **NO se pueden modificar**, tampoco que se pueden agregar o eliminar elementos.\n",
    "* Las tuplas pueden tener elementos **duplicados**, es decir, **elementos del mismo tipo y con el mismo contenido**.\n",
    "\n",
    "Veamos algunos ejemplos:"
   ]
  },
  {
   "cell_type": "code",
   "execution_count": null,
   "metadata": {
    "tags": []
   },
   "outputs": [],
   "source": [
    "# Las tuplas se definen usando paréntesis ()\n",
    "tupla1 = () # tupla vacía\n",
    "\n",
    "print(type(tupla1))\n",
    "print(id(tupla1))\n",
    "print(tupla1)"
   ]
  },
  {
   "cell_type": "markdown",
   "metadata": {},
   "source": [
    "La clase `<class 'tuple'>` solo contiene dos funciones:\n",
    "* `index(o)`, determina el índice dentro de la tupla del objeto `o`. \n",
    "* `count(o)`, determina el número de objetos iguales a `o` existen dentro de la tupla."
   ]
  },
  {
   "cell_type": "code",
   "execution_count": null,
   "metadata": {
    "tags": []
   },
   "outputs": [],
   "source": [
    "tupla = ('a', 'b', 'c', 'b', 'd', 'e', 'f', 'b')\n",
    "print(tupla)"
   ]
  },
  {
   "cell_type": "code",
   "execution_count": null,
   "metadata": {
    "tags": []
   },
   "outputs": [],
   "source": [
    "tupla.index('a')"
   ]
  },
  {
   "cell_type": "code",
   "execution_count": null,
   "metadata": {
    "tags": []
   },
   "outputs": [],
   "source": [
    "tupla.count('b')"
   ]
  },
  {
   "cell_type": "markdown",
   "metadata": {},
   "source": [
    "Si deseamos una tupla de un solo elemento debemos realizar lo siguiente:"
   ]
  },
  {
   "cell_type": "code",
   "execution_count": null,
   "metadata": {
    "tags": []
   },
   "outputs": [],
   "source": [
    "tupla_1 = (1,)\n",
    "print(type(tupla_1))\n",
    "print(tupla_1)"
   ]
  },
  {
   "cell_type": "markdown",
   "metadata": {
    "tags": []
   },
   "source": [
    "La siguiente expresión no construye una tupla, si no un entero:"
   ]
  },
  {
   "cell_type": "code",
   "execution_count": null,
   "metadata": {
    "tags": []
   },
   "outputs": [],
   "source": [
    "tupla_1 = (1)\n",
    "print(type(tupla_1))\n",
    "print(tupla_1)"
   ]
  },
  {
   "cell_type": "markdown",
   "metadata": {},
   "source": [
    "## Indexado.\n",
    "\n",
    "El indexado de las tuplas es similar al de las listas."
   ]
  },
  {
   "cell_type": "code",
   "execution_count": null,
   "metadata": {
    "tags": []
   },
   "outputs": [],
   "source": [
    "print(tupla)"
   ]
  },
  {
   "cell_type": "code",
   "execution_count": null,
   "metadata": {
    "tags": []
   },
   "outputs": [],
   "source": [
    "tupla[0]"
   ]
  },
  {
   "cell_type": "code",
   "execution_count": null,
   "metadata": {
    "tags": []
   },
   "outputs": [],
   "source": [
    "tupla[-1]"
   ]
  },
  {
   "cell_type": "code",
   "execution_count": null,
   "metadata": {
    "tags": []
   },
   "outputs": [],
   "source": [
    "tupla[2:5]"
   ]
  },
  {
   "cell_type": "code",
   "execution_count": null,
   "metadata": {
    "tags": []
   },
   "outputs": [],
   "source": [
    "tupla[::-1]"
   ]
  },
  {
   "cell_type": "markdown",
   "metadata": {},
   "source": [
    "## Inmutabilidad\n",
    "\n",
    "Los elementos de las tuplas no se pueden modificar."
   ]
  },
  {
   "cell_type": "code",
   "execution_count": null,
   "metadata": {
    "tags": []
   },
   "outputs": [],
   "source": [
    "tupla[2]"
   ]
  },
  {
   "cell_type": "code",
   "execution_count": null,
   "metadata": {
    "tags": []
   },
   "outputs": [],
   "source": [
    "tupla[2] = 'h'"
   ]
  },
  {
   "cell_type": "markdown",
   "metadata": {},
   "source": [
    "## ¿Copiando tuplas?\n",
    "\n",
    "No es posible crear una copia de una tupla en otra. Lo que se recomienda es transformar la tupla en otra estructura de datos compatible (por ejemplo `list` o `set`)."
   ]
  },
  {
   "cell_type": "markdown",
   "metadata": {},
   "source": [
    "# Conjuntos\n",
    "\n",
    "* Consisten en una secuencia **NO ordenada**, **modificable**, **NO indexable** y **NO** permite miembros duplicados.\n",
    "\n",
    "Veamos algunos ejemplos:"
   ]
  },
  {
   "cell_type": "code",
   "execution_count": null,
   "metadata": {
    "tags": []
   },
   "outputs": [],
   "source": [
    "# Los conjuntos se definen con {}\n",
    "conjunto = {4,1,8,0,4,20}"
   ]
  },
  {
   "cell_type": "code",
   "execution_count": null,
   "metadata": {
    "tags": []
   },
   "outputs": [],
   "source": [
    "print(type(conjunto))\n",
    "print(id(conjunto))\n",
    "print(conjunto)"
   ]
  },
  {
   "cell_type": "markdown",
   "metadata": {},
   "source": [
    "## Funciones y operaciones sobre conjuntos"
   ]
  },
  {
   "cell_type": "code",
   "execution_count": null,
   "metadata": {
    "tags": []
   },
   "outputs": [],
   "source": [
    "# Adiccionar un elemento\n",
    "conjunto.add(-8)\n",
    "print(conjunto)"
   ]
  },
  {
   "cell_type": "code",
   "execution_count": null,
   "metadata": {
    "tags": []
   },
   "outputs": [],
   "source": [
    "# Eliminar un elemento del conjunto (el elemento debe existir dentro del conjunto)\n",
    "conjunto.remove(4)\n",
    "print(conjunto)"
   ]
  },
  {
   "cell_type": "code",
   "execution_count": null,
   "metadata": {
    "tags": []
   },
   "outputs": [],
   "source": [
    "# ¿El elemento 0 está en el conjunto?\n",
    "0 in conjunto"
   ]
  },
  {
   "cell_type": "code",
   "execution_count": null,
   "metadata": {
    "tags": []
   },
   "outputs": [],
   "source": [
    "# ¿El elemento 10 está en el conjunto?\n",
    "10 in conjunto"
   ]
  },
  {
   "cell_type": "code",
   "execution_count": null,
   "metadata": {
    "tags": []
   },
   "outputs": [],
   "source": [
    "# Limpiar todos los elementos del conjunto\n",
    "conjunto.clear()\n",
    "print(type(conjunto))\n",
    "print(id(conjunto))\n",
    "print(conjunto)"
   ]
  },
  {
   "cell_type": "markdown",
   "metadata": {},
   "source": [
    "Observa que el identificador no ha cambiado, solo se eliminaron todos los elementos."
   ]
  },
  {
   "cell_type": "code",
   "execution_count": null,
   "metadata": {
    "tags": []
   },
   "outputs": [],
   "source": [
    "# Definimos dos conjuntos\n",
    "A = {'Taza', 'Vaso', 'Mesa'}\n",
    "B = {'Casa', 'Mesa', 'Silla'}"
   ]
  },
  {
   "cell_type": "code",
   "execution_count": null,
   "metadata": {
    "tags": []
   },
   "outputs": [],
   "source": [
    "print(A)\n",
    "print(B)"
   ]
  },
  {
   "cell_type": "code",
   "execution_count": null,
   "metadata": {
    "tags": []
   },
   "outputs": [],
   "source": [
    "A - B # elementos en A, pero no en B"
   ]
  },
  {
   "cell_type": "code",
   "execution_count": null,
   "metadata": {
    "tags": []
   },
   "outputs": [],
   "source": [
    "A | B # elementos en A o en B o en ambos"
   ]
  },
  {
   "cell_type": "code",
   "execution_count": null,
   "metadata": {
    "tags": []
   },
   "outputs": [],
   "source": [
    "A & B # elementos en ambos conjuntos"
   ]
  },
  {
   "cell_type": "code",
   "execution_count": null,
   "metadata": {
    "tags": []
   },
   "outputs": [],
   "source": [
    "A ^ B # elementos en A o en B, pero no en ambos"
   ]
  },
  {
   "cell_type": "markdown",
   "metadata": {},
   "source": [
    "## Copiando conjuntos"
   ]
  },
  {
   "cell_type": "code",
   "execution_count": null,
   "metadata": {
    "tags": []
   },
   "outputs": [],
   "source": [
    "conjunto = {4,1,8,0,4,20}"
   ]
  },
  {
   "cell_type": "markdown",
   "metadata": {},
   "source": [
    "### Copiando con el método `copy()`"
   ]
  },
  {
   "cell_type": "code",
   "execution_count": null,
   "metadata": {
    "tags": []
   },
   "outputs": [],
   "source": [
    "# Crear otro conjunto haciendo una copia\n",
    "conjunto2 = conjunto.copy()\n",
    "\n",
    "print(type(conjunto2))\n",
    "print(id(conjunto2))\n",
    "print(conjunto2)\n",
    "\n",
    "print(type(conjunto))\n",
    "print(id(conjunto))\n",
    "print(conjunto)"
   ]
  },
  {
   "cell_type": "markdown",
   "metadata": {},
   "source": [
    "### Copiando con la biblioteca `copy()`"
   ]
  },
  {
   "cell_type": "code",
   "execution_count": null,
   "metadata": {
    "tags": []
   },
   "outputs": [],
   "source": [
    "import copy\n",
    "conjunto2 = conjunto.copy()\n",
    "\n",
    "print(type(conjunto2))\n",
    "print(id(conjunto2))\n",
    "print(conjunto2)\n",
    "\n",
    "print(type(conjunto))\n",
    "print(id(conjunto))\n",
    "print(conjunto)"
   ]
  },
  {
   "cell_type": "markdown",
   "metadata": {},
   "source": [
    "# Diccionarios \n",
    "- Diccionarios son colecciones que **NO** son ordenadas, son **modificables**, **indexables** y **NO** permiten miembros duplicados.\n",
    "- Las colecciones están compuesta por pares `clave:valor`.\n",
    "- Se accede a los valores mediante las claves en lugar de índices.\n",
    "\n",
    "Veamos algunos ejemplos:"
   ]
  },
  {
   "cell_type": "code",
   "execution_count": null,
   "metadata": {
    "tags": []
   },
   "outputs": [],
   "source": [
    "dicc = {'Luis': 20, 'Miguel': 25}"
   ]
  },
  {
   "cell_type": "code",
   "execution_count": null,
   "metadata": {
    "tags": []
   },
   "outputs": [],
   "source": [
    "print(type(dicc))\n",
    "print(dicc)"
   ]
  },
  {
   "cell_type": "markdown",
   "metadata": {},
   "source": [
    "## Operaciones sobre diccionarios"
   ]
  },
  {
   "cell_type": "code",
   "execution_count": null,
   "metadata": {
    "tags": []
   },
   "outputs": [],
   "source": [
    "dicc['Luis'] # acceder a un elemento del diccionario"
   ]
  },
  {
   "cell_type": "markdown",
   "metadata": {},
   "source": [
    "Se puede acceder a las claves y a los valores de manera independiente como sigue:"
   ]
  },
  {
   "cell_type": "code",
   "execution_count": null,
   "metadata": {
    "tags": []
   },
   "outputs": [],
   "source": [
    "dicc.keys() # Obtener todas las claves"
   ]
  },
  {
   "cell_type": "code",
   "execution_count": null,
   "metadata": {
    "tags": []
   },
   "outputs": [],
   "source": [
    "dicc.values() # Obtener todos los valores"
   ]
  },
  {
   "cell_type": "code",
   "execution_count": null,
   "metadata": {
    "tags": []
   },
   "outputs": [],
   "source": [
    "# ¿Existe el elemento 'Miguel' en el diccionario?\n",
    "'Miguel' in dicc"
   ]
  },
  {
   "cell_type": "code",
   "execution_count": null,
   "metadata": {
    "tags": []
   },
   "outputs": [],
   "source": [
    "# ¿Existe el valor 25 en los valores del diccionario?\n",
    "25 in dicc.values()"
   ]
  },
  {
   "cell_type": "code",
   "execution_count": null,
   "metadata": {
    "tags": []
   },
   "outputs": [],
   "source": [
    "# ¿Existe la clave 'Luis' en las claves del diccionario?\n",
    "'Luis' in dicc.keys()"
   ]
  },
  {
   "cell_type": "code",
   "execution_count": null,
   "metadata": {
    "tags": []
   },
   "outputs": [],
   "source": [
    "len(dicc) # Calcular la longitud (el número de parejas)"
   ]
  },
  {
   "cell_type": "code",
   "execution_count": null,
   "metadata": {
    "tags": []
   },
   "outputs": [],
   "source": [
    "dicc['fulano'] = 100 # Agregar el par `'fulano':100`"
   ]
  },
  {
   "cell_type": "code",
   "execution_count": null,
   "metadata": {
    "tags": []
   },
   "outputs": [],
   "source": [
    "print(dicc)"
   ]
  },
  {
   "cell_type": "markdown",
   "metadata": {},
   "source": [
    "Observa que cuando el elemento no existe, la expresión `dicc['fulano'] = 100` agrega el par `'fulano': 100` al diccionario."
   ]
  },
  {
   "cell_type": "code",
   "execution_count": null,
   "metadata": {
    "tags": []
   },
   "outputs": [],
   "source": [
    "del dicc['Miguel'] # Eliminar el par `'Miguel':25`"
   ]
  },
  {
   "cell_type": "code",
   "execution_count": null,
   "metadata": {
    "tags": []
   },
   "outputs": [],
   "source": [
    "print(dicc)"
   ]
  },
  {
   "cell_type": "markdown",
   "metadata": {},
   "source": [
    "Podemos agregar un diccionario en otro:"
   ]
  },
  {
   "cell_type": "code",
   "execution_count": null,
   "metadata": {
    "tags": []
   },
   "outputs": [],
   "source": [
    "dicc_otro = {'nuevo':'estrellas', 'viejo':'cosmos', 'edad':15000000}"
   ]
  },
  {
   "cell_type": "code",
   "execution_count": null,
   "metadata": {
    "tags": []
   },
   "outputs": [],
   "source": [
    "print(dicc_otro)"
   ]
  },
  {
   "cell_type": "code",
   "execution_count": null,
   "metadata": {
    "tags": []
   },
   "outputs": [],
   "source": [
    "dicc.update(dicc_otro) # Agregamos el diccionario dicc_otro al diccionario dicc"
   ]
  },
  {
   "cell_type": "code",
   "execution_count": null,
   "metadata": {
    "tags": []
   },
   "outputs": [],
   "source": [
    "print(dicc)"
   ]
  },
  {
   "cell_type": "markdown",
   "metadata": {},
   "source": [
    "Si los elementos ya existen, solo se actualizan los valores:"
   ]
  },
  {
   "cell_type": "code",
   "execution_count": null,
   "metadata": {
    "tags": []
   },
   "outputs": [],
   "source": [
    "nuevo = {'Luis':512, 'viejo':2.1}"
   ]
  },
  {
   "cell_type": "code",
   "execution_count": null,
   "metadata": {
    "tags": []
   },
   "outputs": [],
   "source": [
    "dicc.update(nuevo)"
   ]
  },
  {
   "cell_type": "code",
   "execution_count": null,
   "metadata": {
    "tags": []
   },
   "outputs": [],
   "source": [
    "print(dicc)"
   ]
  },
  {
   "cell_type": "markdown",
   "metadata": {},
   "source": [
    "## Copiando diccionarios"
   ]
  },
  {
   "cell_type": "code",
   "execution_count": null,
   "metadata": {
    "tags": []
   },
   "outputs": [],
   "source": [
    "print(dicc)"
   ]
  },
  {
   "cell_type": "markdown",
   "metadata": {},
   "source": [
    "### Copiando con el método `copy()`"
   ]
  },
  {
   "cell_type": "code",
   "execution_count": null,
   "metadata": {
    "tags": []
   },
   "outputs": [],
   "source": [
    "dicc_cp = dicc.copy()\n",
    "\n",
    "print(type(dicc_cp))\n",
    "print(id(dicc_cp))\n",
    "print(dicc_cp)\n",
    "\n",
    "print(type(dicc))\n",
    "print(id(dicc))\n",
    "print(dicc)"
   ]
  },
  {
   "cell_type": "markdown",
   "metadata": {},
   "source": [
    "### Copiando con la biblioteca `copy()`"
   ]
  },
  {
   "cell_type": "code",
   "execution_count": null,
   "metadata": {
    "tags": []
   },
   "outputs": [],
   "source": [
    "import copy\n",
    "dicc_cp = dicc.copy()\n",
    "\n",
    "print(type(dicc_cp))\n",
    "print(id(dicc_cp))\n",
    "print(dicc_cp)\n",
    "\n",
    "print(type(dicc))\n",
    "print(id(dicc))\n",
    "print(dicc)"
   ]
  },
  {
   "cell_type": "markdown",
   "metadata": {},
   "source": [
    "# Transformación entre colecciones"
   ]
  },
  {
   "cell_type": "markdown",
   "metadata": {},
   "source": [
    "### listas $\\to$ tuplas"
   ]
  },
  {
   "cell_type": "code",
   "execution_count": 1,
   "metadata": {
    "tags": []
   },
   "outputs": [],
   "source": [
    "lista = ['a', 'b', 'c']"
   ]
  },
  {
   "cell_type": "code",
   "execution_count": 2,
   "metadata": {
    "tags": []
   },
   "outputs": [
    {
     "name": "stdout",
     "output_type": "stream",
     "text": [
      "<class 'tuple'>\n",
      "2215532231808\n",
      "('a', 'b', 'c')\n",
      "<class 'list'>\n",
      "2215532334976\n",
      "['a', 'b', 'c']\n"
     ]
    }
   ],
   "source": [
    "tupla_l = tuple(lista)\n",
    "\n",
    "print(type(tupla_l))\n",
    "print(id(tupla_l))\n",
    "print(tupla_l)\n",
    "\n",
    "print(type(lista))\n",
    "print(id(lista))\n",
    "print(lista)"
   ]
  },
  {
   "cell_type": "markdown",
   "metadata": {},
   "source": [
    "### listas $\\to$ conjuntos"
   ]
  },
  {
   "cell_type": "code",
   "execution_count": 15,
   "metadata": {
    "tags": []
   },
   "outputs": [],
   "source": [
    "lista = ['a', 'b', 'c', 'a']"
   ]
  },
  {
   "cell_type": "code",
   "execution_count": 4,
   "metadata": {
    "tags": []
   },
   "outputs": [
    {
     "name": "stdout",
     "output_type": "stream",
     "text": [
      "<class 'set'>\n",
      "2215531882848\n",
      "{'c', 'a', 'b'}\n",
      "<class 'list'>\n",
      "2215532336832\n",
      "['a', 'b', 'c', 'a']\n"
     ]
    }
   ],
   "source": [
    "conj_l = set(lista)\n",
    "\n",
    "print(type(conj_l))\n",
    "print(id(conj_l))\n",
    "print(conj_l)\n",
    "\n",
    "print(type(lista))\n",
    "print(id(lista))\n",
    "print(lista)"
   ]
  },
  {
   "cell_type": "markdown",
   "metadata": {
    "tags": []
   },
   "source": [
    "Observa que en esta transformación el conjunto elimina los elementos repetidos."
   ]
  },
  {
   "cell_type": "markdown",
   "metadata": {},
   "source": [
    "### listas $\\to$ diccionarios"
   ]
  },
  {
   "cell_type": "code",
   "execution_count": 8,
   "metadata": {
    "tags": []
   },
   "outputs": [],
   "source": [
    "key_l = ['a','b','c','d', 'e']\n",
    "val_l = [1, 2, 3, 4, 5]"
   ]
  },
  {
   "cell_type": "code",
   "execution_count": 9,
   "metadata": {
    "tags": []
   },
   "outputs": [
    {
     "name": "stdout",
     "output_type": "stream",
     "text": [
      "['a', 'b', 'c', 'd', 'e']\n",
      "[1, 2, 3, 4, 5]\n",
      "<class 'dict'>\n",
      "2215509691520\n",
      "{'a': 1, 'b': 2, 'c': 3, 'd': 4, 'e': 5}\n"
     ]
    }
   ],
   "source": [
    "dicc = dict(zip(key_l, val_l))\n",
    "\n",
    "print(key_l)\n",
    "print(val_l)\n",
    "\n",
    "print(type(dicc))\n",
    "print(id(dicc))\n",
    "print(dicc)"
   ]
  },
  {
   "cell_type": "markdown",
   "metadata": {},
   "source": [
    "### tuplas $\\to$ listas"
   ]
  },
  {
   "cell_type": "code",
   "execution_count": 10,
   "metadata": {
    "tags": []
   },
   "outputs": [],
   "source": [
    "tupla = (1,2,3,4)"
   ]
  },
  {
   "cell_type": "code",
   "execution_count": 11,
   "metadata": {
    "tags": []
   },
   "outputs": [
    {
     "name": "stdout",
     "output_type": "stream",
     "text": [
      "<class 'list'>\n",
      "2215537704832\n",
      "[1, 2, 3, 4]\n",
      "<class 'tuple'>\n",
      "2215537784000\n",
      "(1, 2, 3, 4)\n"
     ]
    }
   ],
   "source": [
    "lista_t = list(tupla)\n",
    "\n",
    "print(type(lista_t))\n",
    "print(id(lista_t))\n",
    "print(lista_t)\n",
    "\n",
    "print(type(tupla))\n",
    "print(id(tupla))\n",
    "print(tupla)"
   ]
  },
  {
   "cell_type": "markdown",
   "metadata": {},
   "source": [
    "### tuplas $\\to$ conjuntos"
   ]
  },
  {
   "cell_type": "code",
   "execution_count": 13,
   "metadata": {
    "tags": []
   },
   "outputs": [],
   "source": [
    "tupla = (1,2,3,1,2)"
   ]
  },
  {
   "cell_type": "code",
   "execution_count": 14,
   "metadata": {
    "tags": []
   },
   "outputs": [
    {
     "name": "stdout",
     "output_type": "stream",
     "text": [
      "<class 'set'>\n",
      "2215537722528\n",
      "{1, 2, 3}\n",
      "<class 'tuple'>\n",
      "2215537786320\n",
      "(1, 2, 3, 1, 2)\n"
     ]
    }
   ],
   "source": [
    "conj_t = set(tupla)\n",
    "\n",
    "print(type(conj_t))\n",
    "print(id(conj_t))\n",
    "print(conj_t)\n",
    "\n",
    "print(type(tupla))\n",
    "print(id(tupla))\n",
    "print(tupla)"
   ]
  },
  {
   "cell_type": "markdown",
   "metadata": {},
   "source": [
    "### tuplas $\\to$ diccionarios"
   ]
  },
  {
   "cell_type": "code",
   "execution_count": 16,
   "metadata": {
    "tags": []
   },
   "outputs": [],
   "source": [
    "key_t = ('a','b','c','d', 'e')\n",
    "val_t = (1, 2, 3, 4, 5)"
   ]
  },
  {
   "cell_type": "code",
   "execution_count": 17,
   "metadata": {
    "tags": []
   },
   "outputs": [
    {
     "name": "stdout",
     "output_type": "stream",
     "text": [
      "('a', 'b', 'c', 'd', 'e')\n",
      "(1, 2, 3, 4, 5)\n",
      "<class 'dict'>\n",
      "2215537751808\n",
      "{'a': 1, 'b': 2, 'c': 3, 'd': 4, 'e': 5}\n"
     ]
    }
   ],
   "source": [
    "dicc = dict(zip(key_t, val_t))\n",
    "\n",
    "print(key_t)\n",
    "print(val_t)\n",
    "\n",
    "print(type(dicc))\n",
    "print(id(dicc))\n",
    "print(dicc)"
   ]
  },
  {
   "cell_type": "markdown",
   "metadata": {},
   "source": [
    "### conjunto $\\to$ lista y tupla"
   ]
  },
  {
   "cell_type": "code",
   "execution_count": 21,
   "metadata": {
    "tags": []
   },
   "outputs": [],
   "source": [
    "conj = {1,2,3,'a','b','c'}"
   ]
  },
  {
   "cell_type": "code",
   "execution_count": 22,
   "metadata": {
    "tags": []
   },
   "outputs": [],
   "source": [
    "lista_s = list(conj)\n",
    "tupla_s = tuple(conj)"
   ]
  },
  {
   "cell_type": "code",
   "execution_count": 23,
   "metadata": {
    "tags": []
   },
   "outputs": [
    {
     "name": "stdout",
     "output_type": "stream",
     "text": [
      "<class 'set'>\n",
      "2215537723424\n",
      "{1, 2, 3, 'b', 'c', 'a'}\n",
      "<class 'list'>\n",
      "2215537788864\n",
      "[1, 2, 3, 'b', 'c', 'a']\n",
      "<class 'tuple'>\n",
      "2215534718752\n",
      "(1, 2, 3, 'b', 'c', 'a')\n"
     ]
    }
   ],
   "source": [
    "print(type(conj))\n",
    "print(id(conj))\n",
    "print(conj)\n",
    "\n",
    "print(type(lista_s))\n",
    "print(id(lista_s))\n",
    "print(lista_s)\n",
    "\n",
    "print(type(tupla_s))\n",
    "print(id(tupla_s))\n",
    "print(tupla_s)"
   ]
  },
  {
   "cell_type": "markdown",
   "metadata": {},
   "source": [
    "### conjuntos $\\to$ diccionarios"
   ]
  },
  {
   "cell_type": "code",
   "execution_count": 28,
   "metadata": {
    "tags": []
   },
   "outputs": [
    {
     "name": "stdout",
     "output_type": "stream",
     "text": [
      "{'c', 'a', 'b'}\n",
      "{1, 2, 3}\n",
      "<class 'dict'>\n",
      "2215537993856\n",
      "{'c': 1, 'a': 2, 'b': 3}\n"
     ]
    }
   ],
   "source": [
    "conj1 = {'a','b','c'}\n",
    "conj2 = {1,2,3}\n",
    "\n",
    "dicc = dict(zip(conj1, conj2))\n",
    "\n",
    "print(conj1)\n",
    "print(conj2)\n",
    "\n",
    "print(type(dicc))\n",
    "print(id(dicc))\n",
    "print(dicc)"
   ]
  },
  {
   "cell_type": "markdown",
   "metadata": {},
   "source": [
    "### diccionarios $\\to$ listas, tuplas y conjuntos"
   ]
  },
  {
   "cell_type": "code",
   "execution_count": 34,
   "metadata": {
    "tags": []
   },
   "outputs": [],
   "source": [
    "dicc = {'x':3, 'y':4, 'z':5}"
   ]
  },
  {
   "cell_type": "markdown",
   "metadata": {},
   "source": [
    "Conversión directa:"
   ]
  },
  {
   "cell_type": "code",
   "execution_count": 35,
   "metadata": {
    "tags": []
   },
   "outputs": [],
   "source": [
    "lista = list(dicc)\n",
    "tupla = tuple(dicc)\n",
    "conj = set(dicc)"
   ]
  },
  {
   "cell_type": "code",
   "execution_count": 37,
   "metadata": {
    "tags": []
   },
   "outputs": [
    {
     "name": "stdout",
     "output_type": "stream",
     "text": [
      "{'x': 3, 'y': 4, 'z': 5}\n",
      "<class 'list'>\n",
      "['x', 'y', 'z']\n",
      "<class 'tuple'>\n",
      "('x', 'y', 'z')\n",
      "<class 'set'>\n",
      "{'y', 'x', 'z'}\n"
     ]
    }
   ],
   "source": [
    "print(dicc)\n",
    "\n",
    "print(type(lista))\n",
    "print(lista)\n",
    "print(type(tupla))\n",
    "print(tupla)\n",
    "print(type(conj))\n",
    "print(conj)"
   ]
  },
  {
   "cell_type": "markdown",
   "metadata": {
    "tags": []
   },
   "source": [
    "Conversión desde las claves:"
   ]
  },
  {
   "cell_type": "code",
   "execution_count": 39,
   "metadata": {
    "tags": []
   },
   "outputs": [],
   "source": [
    "lista = list(dicc.keys())\n",
    "tupla = tuple(dicc.keys())\n",
    "conj = set(dicc.keys())"
   ]
  },
  {
   "cell_type": "code",
   "execution_count": 40,
   "metadata": {
    "tags": []
   },
   "outputs": [
    {
     "name": "stdout",
     "output_type": "stream",
     "text": [
      "{'x': 3, 'y': 4, 'z': 5}\n",
      "<class 'list'>\n",
      "['x', 'y', 'z']\n",
      "<class 'tuple'>\n",
      "('x', 'y', 'z')\n",
      "<class 'set'>\n",
      "{'y', 'x', 'z'}\n"
     ]
    }
   ],
   "source": [
    "print(dicc)\n",
    "\n",
    "print(type(lista))\n",
    "print(lista)\n",
    "print(type(tupla))\n",
    "print(tupla)\n",
    "print(type(conj))\n",
    "print(conj)"
   ]
  },
  {
   "cell_type": "markdown",
   "metadata": {},
   "source": [
    "Conversión desde las valores:"
   ]
  },
  {
   "cell_type": "code",
   "execution_count": 41,
   "metadata": {
    "tags": []
   },
   "outputs": [],
   "source": [
    "lista = list(dicc.values())\n",
    "tupla = tuple(dicc.values())\n",
    "conj = set(dicc.values())"
   ]
  },
  {
   "cell_type": "code",
   "execution_count": 42,
   "metadata": {
    "tags": []
   },
   "outputs": [
    {
     "name": "stdout",
     "output_type": "stream",
     "text": [
      "{'x': 3, 'y': 4, 'z': 5}\n",
      "<class 'list'>\n",
      "[3, 4, 5]\n",
      "<class 'tuple'>\n",
      "(3, 4, 5)\n",
      "<class 'set'>\n",
      "{3, 4, 5}\n"
     ]
    }
   ],
   "source": [
    "print(dicc)\n",
    "\n",
    "print(type(lista))\n",
    "print(lista)\n",
    "print(type(tupla))\n",
    "print(tupla)\n",
    "print(type(conj))\n",
    "print(conj)"
   ]
  }
 ],
 "metadata": {
  "kernelspec": {
   "display_name": "Python 3 (ipykernel)",
   "language": "python",
   "name": "python3"
  },
  "language_info": {
   "codemirror_mode": {
    "name": "ipython",
    "version": 3
   },
   "file_extension": ".py",
   "mimetype": "text/x-python",
   "name": "python",
   "nbconvert_exporter": "python",
   "pygments_lexer": "ipython3",
   "version": "3.11.6"
  }
 },
 "nbformat": 4,
 "nbformat_minor": 4
}
