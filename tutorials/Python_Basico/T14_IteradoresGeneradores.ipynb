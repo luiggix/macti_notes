{
 "cells": [
  {
   "cell_type": "markdown",
   "metadata": {},
   "source": [
    "# Iteradores y Generadores.\n",
    "\n",
    "**Objetivo.**\n",
    "...\n",
    "\n",
    "**Funciones de Python**:\n",
    "...\n",
    "\n",
    " <p xmlns:cc=\"http://creativecommons.org/ns#\" xmlns:dct=\"http://purl.org/dc/terms/\"><a property=\"dct:title\" rel=\"cc:attributionURL\" href=\"https://github.com/repomacti/macti/tree/main/notebooks/Algebra_Lineal_01\">MACTI-Algebra_Lineal_01</a> by <a rel=\"cc:attributionURL dct:creator\" property=\"cc:attributionName\" href=\"https://www.macti.unam.mx\">Luis M. de la Cruz</a> is licensed under <a href=\"http://creativecommons.org/licenses/by-sa/4.0/?ref=chooser-v1\" target=\"_blank\" rel=\"license noopener noreferrer\" style=\"display:inline-block;\">Attribution-ShareAlike 4.0 International<img style=\"height:22px!important;margin-left:3px;vertical-align:text-bottom;\" src=\"https://mirrors.creativecommons.org/presskit/icons/cc.svg?ref=chooser-v1\"><img style=\"height:22px!important;margin-left:3px;vertical-align:text-bottom;\" src=\"https://mirrors.creativecommons.org/presskit/icons/by.svg?ref=chooser-v1\"><img style=\"height:22px!important;margin-left:3px;vertical-align:text-bottom;\" src=\"https://mirrors.creativecommons.org/presskit/icons/sa.svg?ref=chooser-v1\"></a></p>"
   ]
  },
  {
   "cell_type": "markdown",
   "metadata": {},
   "source": [
    "# Iteradores\n",
    "\n",
    "- Como vimos en la sección XXXX, en Python existen objetos que contienen secuencias de otros objetos (listas, tuplas, diccionarios, etc).\n",
    "\n",
    "- La mayoría de los objetos contenedores se pueden recorrer usando un ciclo <font color=#009500>**for ... in ...**</font> . Este es un estilo claro y conveniente que impregna el universo de Python. \n",
    "\n",
    "**Por ejemplo**:"
   ]
  },
  {
   "cell_type": "code",
   "execution_count": 15,
   "metadata": {},
   "outputs": [
    {
     "name": "stdout",
     "output_type": "stream",
     "text": [
      "\n",
      "Iteración sobre una cadena: a b c d "
     ]
    }
   ],
   "source": [
    "mi_cadena = \"abcd\"\n",
    "\n",
    "print(\"\\nIteración sobre una cadena: \", end='')\n",
    "for char in mi_cadena:\n",
    "    print(char, end=' ')"
   ]
  },
  {
   "cell_type": "markdown",
   "metadata": {},
   "source": [
    "**Notas importantes**:\n",
    "- La instrucción <font color=#009500>**for**</font> llama a la función <font color=#009500>**iter()**</font> que está definida dentro del objeto **contenedor**.\n",
    "- La función <font color=#009500>**iter()**</font> regresa como resultado un objeto **iterador** que define el método <font color=#009500>**\\_\\_next\\_\\_()**</font>, con el que se puede acceder a los elementos del objeto contenedor, uno a la vez.\n",
    "- Cuando no hay más elementos, <font color=#009500>**\\_\\_next\\_\\_()**</font> lanza una excepción de tipo <font color=#950000>**StopIteration**</font> que le dice al ciclo <font color=#009500>**for**</font> que debe terminar.\n",
    "- Se puede ejecutar al método <font color=#009500>**\\_\\_next\\_\\_()**</font>, al iterador, usando la función de biblioteca <font color=#009500>**next()**</font>.\n",
    "\n",
    "**Por ejemplo**:"
   ]
  },
  {
   "cell_type": "code",
   "execution_count": 2,
   "metadata": {},
   "outputs": [
    {
     "name": "stdout",
     "output_type": "stream",
     "text": [
      "<class 'str_ascii_iterator'>\n",
      "a\n",
      "b\n",
      "c\n",
      "d\n"
     ]
    }
   ],
   "source": [
    "iterador = iter(mi_cadena) # Obtenemos un iterador para la cadena\n",
    "print(type(iterador)) # Obtenemos el tipo del iterador\n",
    "print(next(iterador)) # Aplicamos __next__()  al iterador para obtener: a\n",
    "print(next(iterador)) # Aplicamos __next__()  al iterador para obtener: b\n",
    "print(next(iterador)) # Aplicamos __next__()  al iterador para obtener: c\n",
    "print(next(iterador)) # Aplicamos __next__()  al iterador para obtener: d"
   ]
  },
  {
   "cell_type": "markdown",
   "metadata": {},
   "source": [
    "Cuando ya llegamos al final de la secuencia e intentamos aplicar `__next__()` obtenemos una excepción:"
   ]
  },
  {
   "cell_type": "code",
   "execution_count": 3,
   "metadata": {},
   "outputs": [
    {
     "ename": "StopIteration",
     "evalue": "",
     "output_type": "error",
     "traceback": [
      "\u001b[0;31m---------------------------------------------------------------------------\u001b[0m",
      "\u001b[0;31mStopIteration\u001b[0m                             Traceback (most recent call last)",
      "Cell \u001b[0;32mIn[3], line 1\u001b[0m\n\u001b[0;32m----> 1\u001b[0m \u001b[38;5;28;43mnext\u001b[39;49m\u001b[43m(\u001b[49m\u001b[43miterador\u001b[49m\u001b[43m)\u001b[49m \u001b[38;5;66;03m# Sobrepasó los elementos, se obtiene la excepción StopIteration\u001b[39;00m\n",
      "\u001b[0;31mStopIteration\u001b[0m: "
     ]
    }
   ],
   "source": [
    "next(iterador) # Sobrepasó los elementos, se obtiene la excepción StopIteration"
   ]
  },
  {
   "cell_type": "markdown",
   "metadata": {},
   "source": [
    "Observa que cuando se hace el recorrido de la cadena usando el ciclo `for` no se produce ninguna excepción debido a que maneja la excepción para terminar el proceso adecuadamente. \n",
    "\n",
    "Se puede crear un iterador y aplicarle la función `next()` a cualquier secuencia, por ejemplo a una lista"
   ]
  },
  {
   "cell_type": "code",
   "execution_count": 18,
   "metadata": {},
   "outputs": [
    {
     "name": "stdout",
     "output_type": "stream",
     "text": [
      "[0, 1, 4, 9, 16, 25, 36, 49, 64, 81]\n"
     ]
    }
   ],
   "source": [
    "# Creación de una lista\n",
    "cuadradosI = [x*x for x in range(10)]\n",
    "print(cuadradosI)"
   ]
  },
  {
   "cell_type": "code",
   "execution_count": 19,
   "metadata": {},
   "outputs": [
    {
     "data": {
      "text/plain": [
       "[0, 1, 4, 9, 16, 25, 36, 49, 64, 81]"
      ]
     },
     "execution_count": 19,
     "metadata": {},
     "output_type": "execute_result"
    }
   ],
   "source": [
    "# Recorriendo la lista usando un iterador en una lista concisa:\n",
    "iterador = iter(cuadradosI)\n",
    "[next(iterador) for x in range(10)]"
   ]
  },
  {
   "cell_type": "markdown",
   "metadata": {},
   "source": [
    "Estos objetos iterables son manejables y prácticos debido a que se pueden usar tantas veces como se desee, pero se almacenan todos los valores en memoria y esto no siempre es coveniente, sobre todo cuando se tienen muchos valores."
   ]
  },
  {
   "cell_type": "markdown",
   "metadata": {},
   "source": [
    "# Generadores\n",
    "\n",
    "- Los objetos **generadores** son iteradores. <br>\n",
    "\n",
    "- Pero solo se puede iterar sobre ellos una sola vez. Esto es porque los generadores no almacenan todos los valores en memoria, ellos generan los valores al vuelo.\n",
    "- Un generador se crea como sigue:\n",
    "\n",
    "```python\n",
    "(expresion for x in secuencia)\n",
    "```\n",
    "\n",
    "donde `expresion` es una expresión válida de Python que genera los elementos del generador; `x` es un elemento al que se le aplica la `expresion` y `secuencia` es cualquier secuencia válida en Python.\n",
    "\n",
    "**Por ejemplo**:"
   ]
  },
  {
   "cell_type": "code",
   "execution_count": 41,
   "metadata": {},
   "outputs": [
    {
     "name": "stdout",
     "output_type": "stream",
     "text": [
      "0\n",
      "1\n",
      "2\n"
     ]
    },
    {
     "ename": "StopIteration",
     "evalue": "",
     "output_type": "error",
     "traceback": [
      "\u001b[0;31m---------------------------------------------------------------------------\u001b[0m",
      "\u001b[0;31mStopIteration\u001b[0m                             Traceback (most recent call last)",
      "Cell \u001b[0;32mIn[41], line 7\u001b[0m\n\u001b[1;32m      5\u001b[0m \u001b[38;5;28mprint\u001b[39m(\u001b[38;5;28mnext\u001b[39m(gen))\n\u001b[1;32m      6\u001b[0m \u001b[38;5;28mprint\u001b[39m(\u001b[38;5;28mnext\u001b[39m(gen))\n\u001b[0;32m----> 7\u001b[0m \u001b[38;5;28mprint\u001b[39m(\u001b[38;5;28;43mnext\u001b[39;49m\u001b[43m(\u001b[49m\u001b[43mgen\u001b[49m\u001b[43m)\u001b[49m) \u001b[38;5;66;03m# Produce una excepción de tipo StopIteration\u001b[39;00m\n",
      "\u001b[0;31mStopIteration\u001b[0m: "
     ]
    }
   ],
   "source": [
    "# Un generador simple\n",
    "gen = (x for x in range(3))\n",
    "\n",
    "print(next(gen))\n",
    "print(next(gen))\n",
    "print(next(gen))\n",
    "print(next(gen)) # Produce una excepción de tipo StopIteration"
   ]
  },
  {
   "cell_type": "code",
   "execution_count": 42,
   "metadata": {},
   "outputs": [
    {
     "name": "stdout",
     "output_type": "stream",
     "text": [
      "<class 'generator'>\n",
      "0 1 4 9 16 25 36 49 64 81 "
     ]
    }
   ],
   "source": [
    "# Creamos el generador\n",
    "cuadradosG = (x*x for x in range(10))\n",
    "print(type(cuadradosG))\n",
    "\n",
    "# Recorremos el generador en un ciclo for\n",
    "for i in cuadradosG:\n",
    "    print(i, end=' ')"
   ]
  },
  {
   "cell_type": "markdown",
   "metadata": {},
   "source": [
    "En el ejemplo anterior tenemos:\n",
    "- genera el 0, es usado y lo olvida\n",
    "- genera el 1, es usado y lo olvida\n",
    "- genera el 4, es usado y lo olvida\n",
    "- etcétera.\n",
    "\n",
    "Un generador solo se puede usar una vez, pues va calculando sus valores uno por uno e inmediatamente los va olvidando. Si intentamos utilizar una vez más el generador, ya no obtendremos nada:"
   ]
  },
  {
   "cell_type": "code",
   "execution_count": 45,
   "metadata": {},
   "outputs": [],
   "source": [
    "for i in cuadradosG:    # Este ciclo no imprimirá nada por que\n",
    "    print(i, end=' ')   # el generador ya se usó antes"
   ]
  },
  {
   "cell_type": "markdown",
   "metadata": {},
   "source": [
    "Observa que no se produce un error porque estamos usando el generador, que ya ha sido usado con anterioridad, dentro del ciclo `for`."
   ]
  },
  {
   "cell_type": "markdown",
   "metadata": {},
   "source": [
    "# Yield\n",
    "\n",
    "- Es una palabra clave que suspende la ejecución de una función y envía un valor de regreso a quien la ejecuta, pero retiene la información suficiente para reactivar la ejecución de la función donde se quedó. Si la función se vuelve a ejecutar, se reanuda desde donde se detuvo la última vez.\n",
    "\n",
    "- Esto permite al código producir una serie de valores uno por uno, en vez de calcularlos y regresarlos todos.\n",
    "  \n",
    "- Una función que contiene la declaración `yield` se le conoce como función generadora.\n",
    "\n",
    "**Por ejemplo**:"
   ]
  },
  {
   "cell_type": "code",
   "execution_count": 51,
   "metadata": {},
   "outputs": [
    {
     "name": "stdout",
     "output_type": "stream",
     "text": [
      "yield 1 :  Primera ejecución de la función generadora: 1\n",
      "yield 2 :  Segunda ejecución de la función generadora: 2\n",
      "yield 3 :  Tercera ejecución de la función generadora: 3\n"
     ]
    }
   ],
   "source": [
    "# Función generadora\n",
    "def generadorSimple():\n",
    "    print('yield 1 : ', end=' ')\n",
    "    yield 1\n",
    "    print('yield 2 : ', end=' ')\n",
    "    yield 2\n",
    "    print('yield 3 : ', end=' ')\n",
    "    yield 3\n",
    "\n",
    "# Se construye un generador\n",
    "gen = generadorSimple()\n",
    "\n",
    "# Se usa el generador\n",
    "print('Primera ejecución de la función generadora: {}'.format(next(gen)))\n",
    "print('Segunda ejecución de la función generadora: {}'.format(next(gen)))\n",
    "print('Tercera ejecución de la función generadora: {}'.format(next(gen)))"
   ]
  },
  {
   "cell_type": "markdown",
   "metadata": {},
   "source": [
    "Si se intenta usar una vez más el generador obtendremos una excepción de tipo `StopIteration`: "
   ]
  },
  {
   "cell_type": "code",
   "execution_count": 52,
   "metadata": {},
   "outputs": [
    {
     "ename": "StopIteration",
     "evalue": "",
     "output_type": "error",
     "traceback": [
      "\u001b[0;31m---------------------------------------------------------------------------\u001b[0m",
      "\u001b[0;31mStopIteration\u001b[0m                             Traceback (most recent call last)",
      "Cell \u001b[0;32mIn[52], line 1\u001b[0m\n\u001b[0;32m----> 1\u001b[0m \u001b[38;5;28mprint\u001b[39m(\u001b[38;5;124m'\u001b[39m\u001b[38;5;124mCuarta ejecución de la función generadora: \u001b[39m\u001b[38;5;132;01m{}\u001b[39;00m\u001b[38;5;124m'\u001b[39m\u001b[38;5;241m.\u001b[39mformat(\u001b[38;5;28;43mnext\u001b[39;49m\u001b[43m(\u001b[49m\u001b[43mgen\u001b[49m\u001b[43m)\u001b[49m))\n",
      "\u001b[0;31mStopIteration\u001b[0m: "
     ]
    }
   ],
   "source": [
    "print('Cuarta ejecución de la función generadora: {}'.format(next(gen)))"
   ]
  },
  {
   "cell_type": "markdown",
   "metadata": {},
   "source": [
    "**Notas importantes**.\n",
    "- <font color=#009900>**yield**</font> es usada como un <font color=#009900>**return**</font>, excepto que la función regresa un objeto **generador**.\n",
    "- Las funciones generadoras regresan un objeto generator.\n",
    "- Los objetos generadores pueden ser usados en ciclos <font color=#009900>**for ... in ...**</font> o `while`.\n"
   ]
  },
  {
   "cell_type": "markdown",
   "metadata": {},
   "source": [
    "Entonces, una función generadora regresa un objeto **generador** que es iterable, es decir, se puede usar como un **iterador**."
   ]
  },
  {
   "cell_type": "code",
   "execution_count": 38,
   "metadata": {},
   "outputs": [
    {
     "name": "stdout",
     "output_type": "stream",
     "text": [
      "<class 'generator'>\n",
      "0\n",
      "1\n",
      "4\n",
      "9\n",
      "16\n",
      "25\n",
      "36\n",
      "49\n",
      "64\n",
      "81\n"
     ]
    }
   ],
   "source": [
    "def construyeUnGenerador(v):\n",
    "    for i in range(v):       \n",
    "        yield i*i           \n",
    "\n",
    "# Se construye una función generadora\n",
    "cuadradosY = construyeUnGenerador(10) \n",
    "print(type(cuadradosY))\n",
    "\n",
    "for i in cuadradosY:\n",
    "    print(i)"
   ]
  },
  {
   "cell_type": "markdown",
   "metadata": {},
   "source": [
    "Se recomienda usar <font color=#009900>**yield**</font> cuando se desea iterar sobre una secuencia, pero no se quiere almacenar toda la secuencia en memoria. \n"
   ]
  },
  {
   "cell_type": "markdown",
   "metadata": {},
   "source": [
    "<div class=\"alert alert-info\">\n",
    "\n",
    "## **Ejemplo 1.**\n",
    "\n",
    "<font color=\"Black\">\n",
    "Crear una función generadora que genere los cuadrados del 1 al $\\infty$.\n",
    "</font>\n",
    "\n",
    "</div>"
   ]
  },
  {
   "cell_type": "code",
   "execution_count": 53,
   "metadata": {},
   "outputs": [
    {
     "name": "stdout",
     "output_type": "stream",
     "text": [
      "1\n",
      "4\n",
      "9\n",
      "16\n",
      "25\n",
      "36\n",
      "49\n",
      "64\n",
      "81\n",
      "100\n"
     ]
    }
   ],
   "source": [
    "# Función generadora que genera el cuadrado de un número\n",
    "def cuadradoSiguiente():\n",
    "    i = 1; \n",
    "    while True:\n",
    "        yield i*i                \n",
    "        i += 1  # La siguiente ejecución se \n",
    "                # reactiva en este punto   \n",
    "\n",
    "for numero in cuadradoSiguiente():\n",
    "    if numero > 100:\n",
    "         break   \n",
    "    print(numero)"
   ]
  },
  {
   "cell_type": "markdown",
   "metadata": {},
   "source": [
    "<div class=\"alert alert-info\">\n",
    "\n",
    "## **Ejemplo 1.**\n",
    "\n",
    "<font color=\"Black\">\n",
    "Crear un generador de los números de Fibonacci.\n",
    "</font>\n",
    "\n",
    "</div>\n",
    "\n"
   ]
  },
  {
   "cell_type": "code",
   "execution_count": 58,
   "metadata": {},
   "outputs": [],
   "source": [
    "# Función generadora\n",
    "def fib(limite):\n",
    "    a, b = 0, 1\n",
    "\n",
    "    while a < limite:\n",
    "        yield a \n",
    "        a, b = b, a + b # La siguiente iteración se reactiva en este punto"
   ]
  },
  {
   "cell_type": "code",
   "execution_count": 65,
   "metadata": {},
   "outputs": [
    {
     "name": "stdout",
     "output_type": "stream",
     "text": [
      "0 1 1 2 3 5 8 13 21 34 55 89 "
     ]
    }
   ],
   "source": [
    "N = 100\n",
    "\n",
    "# Generador\n",
    "x = fib(N)\n",
    "\n",
    "while True:\n",
    "    try:\n",
    "        print(next(x), end=' ') # Usamos la función next() para iterar\n",
    "    except StopIteration:       # Manejamos la excepción\n",
    "        break"
   ]
  },
  {
   "cell_type": "code",
   "execution_count": 66,
   "metadata": {},
   "outputs": [
    {
     "name": "stdout",
     "output_type": "stream",
     "text": [
      "0 1 1 2 3 5 8 13 21 34 55 89 "
     ]
    }
   ],
   "source": [
    "# Usando la función generadora directamente en un ciclo for\n",
    "for i in fib(N): \n",
    "    print(i, end=' ')"
   ]
  },
  {
   "cell_type": "code",
   "execution_count": null,
   "metadata": {},
   "outputs": [],
   "source": []
  }
 ],
 "metadata": {
  "kernelspec": {
   "display_name": "Python 3 (ipykernel)",
   "language": "python",
   "name": "python3"
  },
  "language_info": {
   "codemirror_mode": {
    "name": "ipython",
    "version": 3
   },
   "file_extension": ".py",
   "mimetype": "text/x-python",
   "name": "python",
   "nbconvert_exporter": "python",
   "pygments_lexer": "ipython3",
   "version": "3.11.6"
  }
 },
 "nbformat": 4,
 "nbformat_minor": 4
}
