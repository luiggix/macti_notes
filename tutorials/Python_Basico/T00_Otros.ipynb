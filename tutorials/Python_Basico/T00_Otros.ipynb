{
 "cells": [
  {
   "cell_type": "markdown",
   "metadata": {},
   "source": [
    "# Tipos de datos básicos y operadores.\n",
    "\n",
    "**Objetivo.**\n",
    "Explicar el concepto de variable, etiqueta, objetos y como se usan mediante algunos ejemplos.\n",
    "\n",
    "**Funciones de Python**:\n",
    "- `print()`, `type()`, `id()`, `chr()`, `ord()`, `del()`\n",
    "\n",
    " <p xmlns:cc=\"http://creativecommons.org/ns#\" xmlns:dct=\"http://purl.org/dc/terms/\"><a property=\"dct:title\" rel=\"cc:attributionURL\" href=\"https://github.com/repomacti/macti/tree/main/notebooks/Algebra_Lineal_01\">MACTI-Algebra_Lineal_01</a> by <a rel=\"cc:attributionURL dct:creator\" property=\"cc:attributionName\" href=\"https://www.macti.unam.mx\">Luis M. de la Cruz</a> is licensed under <a href=\"http://creativecommons.org/licenses/by-sa/4.0/?ref=chooser-v1\" target=\"_blank\" rel=\"license noopener noreferrer\" style=\"display:inline-block;\">Attribution-ShareAlike 4.0 International<img style=\"height:22px!important;margin-left:3px;vertical-align:text-bottom;\" src=\"https://mirrors.creativecommons.org/presskit/icons/cc.svg?ref=chooser-v1\"><img style=\"height:22px!important;margin-left:3px;vertical-align:text-bottom;\" src=\"https://mirrors.creativecommons.org/presskit/icons/by.svg?ref=chooser-v1\"><img style=\"height:22px!important;margin-left:3px;vertical-align:text-bottom;\" src=\"https://mirrors.creativecommons.org/presskit/icons/sa.svg?ref=chooser-v1\"></a></p> "
   ]
  },
  {
   "cell_type": "markdown",
   "metadata": {},
   "source": [
    "### <font color=\"#DF2145\">Función `Eval` </font>\n",
    "\n",
    "\n",
    "Es una función que permite evaluar una cadena `str`, como si se tratase de una expresión, siempre y cuando la expresión sea válida en Python."
   ]
  },
  {
   "cell_type": "code",
   "execution_count": 116,
   "metadata": {},
   "outputs": [
    {
     "name": "stdout",
     "output_type": "stream",
     "text": [
      "1100\n",
      "<class 'int'>\n"
     ]
    }
   ],
   "source": [
    "suma = '300+800'\n",
    "resultado = eval(suma)\n",
    "print(resultado)\n",
    "print(type(resultado))"
   ]
  },
  {
   "cell_type": "code",
   "execution_count": 117,
   "metadata": {},
   "outputs": [
    {
     "name": "stdout",
     "output_type": "stream",
     "text": [
      "0.09999999999999432\n",
      "<class 'float'>\n"
     ]
    }
   ],
   "source": [
    "a = 220.1\n",
    "resta = 'a - 220'\n",
    "resultado = eval(resta)\n",
    "print(resultado)\n",
    "print(type(resultado))"
   ]
  },
  {
   "cell_type": "code",
   "execution_count": 118,
   "metadata": {},
   "outputs": [
    {
     "name": "stdout",
     "output_type": "stream",
     "text": [
      "True\n",
      "<class 'bool'>\n"
     ]
    }
   ],
   "source": [
    "logica = '32 == 32'\n",
    "resultado = eval(logica)\n",
    "print(resultado)\n",
    "print(type(resultado))"
   ]
  },
  {
   "cell_type": "code",
   "execution_count": 120,
   "metadata": {},
   "outputs": [
    {
     "name": "stdout",
     "output_type": "stream",
     "text": [
      "math.sin(0.25*math.pi)\n",
      "<class 'str'>\n",
      "0.7071067811865475\n"
     ]
    }
   ],
   "source": [
    "import math\n",
    "formula = 'math.sin(0.25*math.pi)'\n",
    "print(formula)\n",
    "print(type(formula))\n",
    "resultado = eval(formula)\n",
    "print(resultado)"
   ]
  },
  {
   "cell_type": "markdown",
   "metadata": {},
   "source": [
    "**Formato en código ANSI**\n",
    "- Un código de formato ANSI lo forma el carácter Escape seguido por tres números enteros separados por un punto y coma (;). \n",
    "- El primero de estos números (un valor de 0 a 7) establece el estilo del texto (negrita, subrayado, etc); el segundo número (de 30 a 37) fija el color del texto y el último número (de 40 a 47) el color del fondo.\n",
    "- El carácter Escape se puede expresar en octal \"\\033\", en hexadecimal \"\\x1b\", o bien, con chr(27).\n",
    "\n",
    "|Estilos|Código ANSI|\n",
    "|-------|-----------|\n",
    "|Sin efecto| 0 |\n",
    "|Negrita | 1 |\n",
    "|Débil| 2 |\n",
    "|Cursiva| 3 |\n",
    "|Subrayado| 4|\n",
    "|Inverso| 5 |\n",
    "|Oculto| 6 |\n",
    "|Tachado| 7 |\n",
    "\n",
    "|Color|Texto|Fondo|\n",
    "|-----|-----|-----|\n",
    "|Negro| 30 | 40 |\n",
    "|Rojo| 31 | 41 |\n",
    "|Verde| 32 | 42 |\n",
    "|Amarillo| 33 | 43 |\n",
    "|Azul| 34 | 44 |\n",
    "|Morado| 35 | 45 |\n",
    "|Cian| 36 | 46 |\n",
    "|Blanco| 37 | 47 |\n",
    "\n",
    "**OJO** : Algunos estilos no están soportados por todas las consolas."
   ]
  },
  {
   "cell_type": "code",
   "execution_count": 121,
   "metadata": {},
   "outputs": [
    {
     "name": "stdout",
     "output_type": "stream",
     "text": [
      "\u001b[0;31mTexto en color rojo\n"
     ]
    }
   ],
   "source": [
    "print(chr(27)+\"[0;31m\"+\"Texto en color rojo\")"
   ]
  },
  {
   "cell_type": "code",
   "execution_count": 122,
   "metadata": {},
   "outputs": [
    {
     "name": "stdout",
     "output_type": "stream",
     "text": [
      "\u001b[1;32mTexto en negrita de color verde\n"
     ]
    }
   ],
   "source": [
    "print(\"\\x1b[1;32m\"+\"Texto en negrita de color verde\") "
   ]
  },
  {
   "cell_type": "code",
   "execution_count": 123,
   "metadata": {},
   "outputs": [
    {
     "name": "stdout",
     "output_type": "stream",
     "text": [
      "\u001b[4;35mTexto subrayado de color morado\n"
     ]
    }
   ],
   "source": [
    "print(\"\\033[4;35m\"+\"Texto subrayado de color morado\") "
   ]
  },
  {
   "cell_type": "code",
   "execution_count": 124,
   "metadata": {},
   "outputs": [
    {
     "name": "stdout",
     "output_type": "stream",
     "text": [
      "\u001b[1;34;46mTexto en negrita de color azul con fondo cyan \n"
     ]
    }
   ],
   "source": [
    "print(\"\\033[1;34;46m\"+\"Texto en negrita de color azul con fondo cyan \")"
   ]
  },
  {
   "cell_type": "markdown",
   "metadata": {},
   "source": [
    "### Constantes\n",
    "\n",
    "Python contiene una serie de constantes integradas en Python; como tales, no se puede cambiar sus valores. \n",
    "\n",
    "Más detalles se pueden encontrar en: [Built-in Constants](https://docs.python.org/3/library/constants.html)\n",
    "\n",
    "Las principales constantes son las siguientes:\n",
    "\n",
    "- `False`: de tipo Booleano.\n",
    "- `True`: de tipo Booleano.\n",
    "- `None`: El único valor para el tipo NoneType. Es usado frecuentemente para representar la ausencia de un valor, por ejemplo cuando no se pasa un argumento a una función.\n",
    "- `NotImplemented`: es un valor especial que es regresado por métodos binarios especiales (por ejemplo `__eq__()`, `__lt__()`, `__add__()`, `__rsub__()`, etc.) para indicar que la operación no está implementada con respecto a otro tipo. \n",
    "\n",
    "- `Ellipsis`: equivalente a `...`, es un valor especial usado mayormente en conjunción con la sintáxis de *slicing* de arreglos.\n",
    "\n",
    "- `__debug__` : Esta constante es verdadera si Python no se inició con la opción -O. \n",
    "\n",
    "Las siguiente constantes son usadas dentro del intérprete interactivo (no se pueden usar dentro de programas ejecutados fuera del intérprete).\n",
    "\n",
    "- `quit`(code=None)\n",
    "- `exit`(code=None)\n",
    "- `copyright`\n",
    "- `credits`\n",
    "- `license`\n",
    "\n"
   ]
  },
  {
   "cell_type": "code",
   "execution_count": 12,
   "metadata": {},
   "outputs": [
    {
     "name": "stdout",
     "output_type": "stream",
     "text": [
      "Copyright (c) 2001-2023 Python Software Foundation.\n",
      "All Rights Reserved.\n",
      "\n",
      "Copyright (c) 2000 BeOpen.com.\n",
      "All Rights Reserved.\n",
      "\n",
      "Copyright (c) 1995-2001 Corporation for National Research Initiatives.\n",
      "All Rights Reserved.\n",
      "\n",
      "Copyright (c) 1991-1995 Stichting Mathematisch Centrum, Amsterdam.\n",
      "All Rights Reserved.\n"
     ]
    }
   ],
   "source": [
    "copyright()"
   ]
  },
  {
   "cell_type": "code",
   "execution_count": 13,
   "metadata": {},
   "outputs": [
    {
     "name": "stdout",
     "output_type": "stream",
     "text": [
      "A. HISTORY OF THE SOFTWARE\n",
      "==========================\n",
      "\n",
      "Python was created in the early 1990s by Guido van Rossum at Stichting\n",
      "Mathematisch Centrum (CWI, see https://www.cwi.nl) in the Netherlands\n",
      "as a successor of a language called ABC.  Guido remains Python's\n",
      "principal author, although it includes many contributions from others.\n",
      "\n",
      "In 1995, Guido continued his work on Python at the Corporation for\n",
      "National Research Initiatives (CNRI, see https://www.cnri.reston.va.us)\n",
      "in Reston, Virginia where he released several versions of the\n",
      "software.\n",
      "\n",
      "In May 2000, Guido and the Python core development team moved to\n",
      "BeOpen.com to form the BeOpen PythonLabs team.  In October of the same\n",
      "year, the PythonLabs team moved to Digital Creations, which became\n",
      "Zope Corporation.  In 2001, the Python Software Foundation (PSF, see\n",
      "https://www.python.org/psf/) was formed, a non-profit organization\n",
      "created specifically to own Python-related Intellectual Property.\n",
      "Zope Corporation was a sponsoring member of the PSF.\n",
      "\n",
      "All Python releases are Open Source (see https://opensource.org for\n",
      "the Open Source Definition).  Historically, most, but not all, Python\n"
     ]
    },
    {
     "name": "stdin",
     "output_type": "stream",
     "text": [
      "Hit Return for more, or q (and Return) to quit:  q\n"
     ]
    }
   ],
   "source": [
    "license()"
   ]
  },
  {
   "cell_type": "code",
   "execution_count": null,
   "metadata": {},
   "outputs": [],
   "source": []
  }
 ],
 "metadata": {
  "kernelspec": {
   "display_name": "Python 3 (ipykernel)",
   "language": "python",
   "name": "python3"
  },
  "language_info": {
   "codemirror_mode": {
    "name": "ipython",
    "version": 3
   },
   "file_extension": ".py",
   "mimetype": "text/x-python",
   "name": "python",
   "nbconvert_exporter": "python",
   "pygments_lexer": "ipython3",
   "version": "3.11.6"
  }
 },
 "nbformat": 4,
 "nbformat_minor": 4
}
