{
 "cells": [
  {
   "cell_type": "markdown",
   "metadata": {},
   "source": [
    "# Control de flujo.\n",
    "\n",
    "**Objetivo.**\n",
    "...\n",
    "\n",
    "**Funciones de Python**:\n",
    "...\n",
    "\n",
    " <p xmlns:cc=\"http://creativecommons.org/ns#\" xmlns:dct=\"http://purl.org/dc/terms/\"><a property=\"dct:title\" rel=\"cc:attributionURL\" href=\"https://github.com/repomacti/macti/tree/main/notebooks/Algebra_Lineal_01\">MACTI-Algebra_Lineal_01</a> by <a rel=\"cc:attributionURL dct:creator\" property=\"cc:attributionName\" href=\"https://www.macti.unam.mx\">Luis M. de la Cruz</a> is licensed under <a href=\"http://creativecommons.org/licenses/by-sa/4.0/?ref=chooser-v1\" target=\"_blank\" rel=\"license noopener noreferrer\" style=\"display:inline-block;\">Attribution-ShareAlike 4.0 International<img style=\"height:22px!important;margin-left:3px;vertical-align:text-bottom;\" src=\"https://mirrors.creativecommons.org/presskit/icons/cc.svg?ref=chooser-v1\"><img style=\"height:22px!important;margin-left:3px;vertical-align:text-bottom;\" src=\"https://mirrors.creativecommons.org/presskit/icons/by.svg?ref=chooser-v1\"><img style=\"height:22px!important;margin-left:3px;vertical-align:text-bottom;\" src=\"https://mirrors.creativecommons.org/presskit/icons/sa.svg?ref=chooser-v1\"></a></p> "
   ]
  },
  {
   "cell_type": "markdown",
   "metadata": {},
   "source": [
    "En Python existen declaraciones que permiten controlar el flujo de un programa para realizar acciones complejas. Entre estas declaraciones tenemos las siguientes:\n",
    "\n",
    "* `while`\n",
    "* `for`\n",
    "* `if`\n",
    "* `match`\n",
    "\n",
    "Junto con estas declaraciones generalmente se utilizan las siguientes operaciones lógicas cuyo resultado puede ser `True` o `False`:\n",
    "\n",
    "| Python | Significado |\n",
    "|---|---|\n",
    "| `a == b` | ¿son iguales `a` y `b`? | \n",
    "| `a != b` | ¿son diferentes `a` y `b`? |\n",
    "| `a < b` |  ¿`a` es menor que `b`?:\n",
    "| `a <= b` | ¿`a` es menor o igual que `b`? |\n",
    "| `a > b` | ¿`a` es mayor que `b`? | \n",
    "| `a >= b` | ¿`a` es mayor o igual que `b`? |\n",
    "| **`not`** `A` | El inverso de la expresión `A` |\n",
    "| `A` **`and`** `B` | ¿La expresión `A` y la expresión `B` son verdaderas? |\n",
    "| `A` **`or`** `B`| ¿La expresión `A` o la expresión `B` es verdadera?:\n"
   ]
  },
  {
   "cell_type": "markdown",
   "metadata": {},
   "source": [
    "# `while`\n",
    "\n",
    "Se utiliza para repetir un conjunto de instrucciones mientras una expresión sea verdadera:\n",
    "\n",
    "```python\n",
    "while expresión:\n",
    "    código ...\n",
    "```\n",
    "\n",
    "Por ejemplo:"
   ]
  },
  {
   "cell_type": "code",
   "execution_count": null,
   "metadata": {},
   "outputs": [],
   "source": [
    "a = 0 # Inicializamos a en 0\n",
    "\n",
    "print('Inicia while') # Instrucción fuera del bloque while\n",
    "\n",
    "while a < 5: # Mientras a sea menor que 5 realiza lo siguiente:\n",
    "    print(a) # Imprime el valor de a\n",
    "    a += 1   # Incrementa el valor de a en 1\n",
    "    \n",
    "print('Finaliza while')  # Instrucción fuera del bloque while"
   ]
  },
  {
   "cell_type": "markdown",
   "metadata": {},
   "source": [
    "* Como se observa, el código después de `while` tiene una sangría (*indentation*): las líneas de código están recorridas hacia la derecha. \n",
    "* Este espacio en blanco debe ser al menos de uno, pero pueden ser más.\n",
    "* Por omisión, en JupyterLab (y algunos otros editores, se usan 4 espacios en blanco para cada línea de código dentro del bloque.\n",
    "* El número de espacios en blanco se debe mantener durante todo el bloque de código.\n",
    "* Cuando termina el sangrado, es decir las líneas de código ya no tienen ningún espacio en blanco al inicio, se cierra el bloque de código, en este caso el `while`.\n",
    "* El uso de una sangría para organizar los bloques de código lo hace Python para que el código sea más entendible.\n",
    "    \n",
    "* **Ejemplos válidos**:\n",
    "\n",
    "```python\n",
    "while a < 5: \n",
    " print(a)\n",
    " a += 1\n",
    "```\n",
    "\n",
    "```python\n",
    "while a < 5: \n",
    "        print(a)\n",
    "        a += 1\n",
    "```\n",
    "\n",
    "* **Ejemplos NO válidos**\n",
    "\n",
    "```python\n",
    "while a < 5: \n",
    " print(a)\n",
    "   a += 1\n",
    "```\n",
    "\n",
    "```python\n",
    "while a < 5: \n",
    "print(a)\n",
    "a += 1\n",
    "``` \n"
   ]
  },
  {
   "cell_type": "markdown",
   "metadata": {},
   "source": [
    "<div class=\"alert alert-info\">\n",
    "\n",
    "## **Ejemplo 1.**\n",
    "\n",
    "<font color=\"Black\">\n",
    "Los número de Fibonacci, denotados con $F_n$ forman una secuencia tal que cada número es la suma de dos números precedentes e inicia con el 0 y el 1. Matemáticamente se escribe como: \n",
    "\n",
    "$$\n",
    "\\begin{eqnarray}\n",
    "F_0 & = & 0 \\\\\n",
    "F_1 & = & 1 \\\\\n",
    "F_n & = & F_{n − 1} + F_{n − 2} \\;\\;\\; \\text{para} \\; n > 1.\n",
    "\\end{eqnarray}\n",
    "$$\n",
    "La secuencia es entonces: 0 , 1 , 1 , 2 , 3 , 5 , 8 , 13 , 21 , 34 , 55 , 89 , 144 , $\\ldots$\n",
    "\n",
    "Vamos a calcular esta secuencia usando la instrucción `while`:\n",
    "\n",
    "</font>\n",
    "\n",
    "</div>\n",
    "\n",
    "\n"
   ]
  },
  {
   "cell_type": "code",
   "execution_count": null,
   "metadata": {},
   "outputs": [],
   "source": [
    "a, b = 0, 1 # Definimos los primeros dos elementos:\n",
    "\n",
    "while a < 1000:       # Mientras a sea menor que 1000 realiza lo siguiente:\n",
    "    print(a, end=', ')   # Imprime a y b (separados por una coma)\n",
    "    a, b = b, a+b       # Calcula los siguientes dos elementos"
   ]
  },
  {
   "cell_type": "markdown",
   "metadata": {},
   "source": [
    "# `if`, `elif`, `else`\n",
    "\n",
    "Esta declaración permite ejecutar un código dependiendo del resultado de una o varias expresiones lógicas. La estructura es como sigue:\n",
    "\n",
    "```python\n",
    "if expresion1:\n",
    "    codigo1 ...\n",
    "elif expresion2:\n",
    "    codigo2 ...\n",
    "elif expresion3:\n",
    "    codigo3 ...\n",
    "else:\n",
    "    codigo4\n",
    "```\n",
    "\n",
    "Si la `expresion1` es verdadera, entonces se ejecuta el `codigo1`, en otro caso se evalúan las siguientes expresiones y dependiendo de cuál es verdadera se ejecuta el código correspondiente. Cuando ninguna de las expresiones es verdadera, entonces se ejecuta el código de la sección `else`, es decir el `codigo4`.\n",
    "\n",
    "Observa que se siguen las mismas reglas de sangrado que en el `while`. \n",
    "\n",
    "Veamos un ejemplo:"
   ]
  },
  {
   "cell_type": "code",
   "execution_count": null,
   "metadata": {},
   "outputs": [],
   "source": [
    "# Modifica los valores de a y b, y observa el resultado\n",
    "a = 10\n",
    "b = 20\n",
    "if a < b:\n",
    "    print('a es menor que b')\n",
    "elif a > b:\n",
    "    print('a es mayor que b')\n",
    "elif a == b:\n",
    "    print('a es igual a b')\n",
    "else:\n",
    "    print('Esto nunca pasa')"
   ]
  },
  {
   "cell_type": "markdown",
   "metadata": {},
   "source": [
    "Las expresiones pueden ser más complejas:"
   ]
  },
  {
   "cell_type": "code",
   "execution_count": null,
   "metadata": {},
   "outputs": [],
   "source": [
    "# Modifica los valores de a y b, y observa el resultado\n",
    "a = 10\n",
    "b = 20\n",
    "if (a < b) or (a > b):\n",
    "    print(f'a = {a}, b = {b}')"
   ]
  },
  {
   "cell_type": "markdown",
   "metadata": {},
   "source": [
    "# Operador ternario\n",
    "\n",
    "Este operador permite evaluar una expresión lógica y generar un valor para un resultado `True` y otro diferente para un resultado `False`; todo esto se logra en una sola línea de código como sigue:\n",
    "\n",
    "```python\n",
    "resultado = valor1 if expresion else valor2\n",
    "```\n",
    "\n",
    "Por ejemplo:"
   ]
  },
  {
   "cell_type": "code",
   "execution_count": null,
   "metadata": {},
   "outputs": [],
   "source": [
    "# Usa valores para c = 1, 2, 4, 4, 5, 6, 20 y observa el resultado\n",
    "c = 1\n",
    "r = c if c > 5 else 0\n",
    "print(r)"
   ]
  },
  {
   "cell_type": "markdown",
   "metadata": {},
   "source": [
    "# `for`\n",
    "\n",
    "Permite iterar sobre el contenido de cualquier secuencia (cadena, lista, tupla, conjunto, diccionario, archivo, ...). La forma de esta declaración es como sigue:\n",
    "\n",
    "```python\n",
    "for i in secuencia:\n",
    "    codigo\n",
    "```\n",
    "\n",
    "Las reglas de sangrado se siguen en esta declaración.\n",
    "\n",
    "Por ejemplo:"
   ]
  },
  {
   "cell_type": "code",
   "execution_count": null,
   "metadata": {},
   "outputs": [],
   "source": [
    "gatos = ['Persa', 'Sphynx', 'Ragdoll','Siamés']\n",
    "\n",
    "for i in gatos:\n",
    "    print(i)"
   ]
  },
  {
   "cell_type": "markdown",
   "metadata": {},
   "source": [
    "## Función `zip`\n",
    "\n",
    "La función `zip(s1, s2, ...)` permite combinar dos o más secuencias en una sola; genera tuplas con los elementos de: las secuencias y va iterando sobre ellas. \n",
    "\n",
    "Por ejemplo"
   ]
  },
  {
   "cell_type": "code",
   "execution_count": 39,
   "metadata": {},
   "outputs": [
    {
     "name": "stdout",
     "output_type": "stream",
     "text": [
      "['Persa', 'Sphynx', 'Ragdoll', 'Siamés']\n",
      "['Irán', 'Toronto', 'California', 'Tailandia']\n",
      "\n",
      "(Raza, Origen)\n",
      "--------------------\n",
      "('Persa', 'Irán')\n",
      "('Sphynx', 'Toronto')\n",
      "('Ragdoll', 'California')\n",
      "('Siamés', 'Tailandia')\n"
     ]
    }
   ],
   "source": [
    "# Dos listas de la misma longitud\n",
    "gatos = ['Persa', 'Sphynx', 'Ragdoll','Siamés']\n",
    "origen = ['Irán', 'Toronto', 'California', 'Tailandia']\n",
    "print(gatos)\n",
    "print(origen)\n",
    "\n",
    "# Combinamos las listas en una sola secuencia\n",
    "print('\\n(Raza, Origen)')\n",
    "print('-'*20)\n",
    "for t in zip(gatos, origen):\n",
    "    print(t)"
   ]
  },
  {
   "cell_type": "code",
   "execution_count": 9,
   "metadata": {},
   "outputs": [
    {
     "name": "stdout",
     "output_type": "stream",
     "text": [
      "La raza Persa proviene de Irán\n",
      "La raza Sphynx proviene de Toronto\n",
      "La raza Ragdoll proviene de California\n",
      "La raza Siamés proviene de Tailandia\n"
     ]
    }
   ],
   "source": [
    "# Se puede extraer la información de cada secuencia:\n",
    "for g, o in zip(gatos, origen):\n",
    "    print('La raza {} proviene de {}'.format(g, o))"
   ]
  },
  {
   "cell_type": "markdown",
   "metadata": {},
   "source": [
    "## Conversión de `zip` a `list`, `tuple`, `set`, `dict`\n",
    "\n",
    "Estrictamente `zip` es una clase que define un tipo dentro de Python, por lo que es posible convertir del tipo `zip` a alguna otra secuencia básica de datos de Python."
   ]
  },
  {
   "cell_type": "code",
   "execution_count": 62,
   "metadata": {},
   "outputs": [
    {
     "name": "stdout",
     "output_type": "stream",
     "text": [
      "<class 'zip'>\n",
      "<zip object at 0x7f0598954a40>\n"
     ]
    }
   ],
   "source": [
    "z = zip(gatos, origen)\n",
    "\n",
    "# Verificar el tipo de zip\n",
    "print(type(z))\n",
    "print(z)"
   ]
  },
  {
   "cell_type": "code",
   "execution_count": 13,
   "metadata": {},
   "outputs": [
    {
     "name": "stdout",
     "output_type": "stream",
     "text": [
      "[('Persa', 'Irán'), ('Sphynx', 'Toronto'), ('Ragdoll', 'California'), ('Siamés', 'Tailandia')]\n",
      "(('Persa', 'Irán'), ('Sphynx', 'Toronto'), ('Ragdoll', 'California'), ('Siamés', 'Tailandia'))\n",
      "{('Persa', 'Irán'), ('Sphynx', 'Toronto'), ('Siamés', 'Tailandia'), ('Ragdoll', 'California')}\n",
      "{'Persa': 'Irán', 'Sphynx': 'Toronto', 'Ragdoll': 'California', 'Siamés': 'Tailandia'}\n"
     ]
    }
   ],
   "source": [
    "lista = list(zip(gatos, origen))\n",
    "tupla = tuple(zip(gatos, origen))\n",
    "conj = set(zip(gatos, origen))\n",
    "dicc = dict(zip(gatos, origen)) # Solo funciona para dos secuencias\n",
    "\n",
    "print(lista)\n",
    "print(tupla)\n",
    "print(conj)\n",
    "print(dicc)"
   ]
  },
  {
   "cell_type": "markdown",
   "metadata": {},
   "source": [
    "## Función `enumerate`\n",
    "\n",
    "Permite enumerar los elementos de una secuencia. Genera tuplas con el número del elemento y el elemento de la secuencia.\n",
    "\n",
    "Por ejemplo:"
   ]
  },
  {
   "cell_type": "code",
   "execution_count": 43,
   "metadata": {},
   "outputs": [
    {
     "name": "stdout",
     "output_type": "stream",
     "text": [
      "['Persa', 'Sphynx', 'Ragdoll', 'Siamés']\n",
      "\n",
      "(Numero, Raza)\n",
      "--------------------\n",
      "(0, 'Persa')\n",
      "(1, 'Sphynx')\n",
      "(2, 'Ragdoll')\n",
      "(3, 'Siamés')\n"
     ]
    }
   ],
   "source": [
    "print(gatos)\n",
    "\n",
    "# Enumeramos la secuencia\n",
    "print('\\n(Numero, Raza)')\n",
    "print('-'*20)\n",
    "\n",
    "for t in enumerate(gatos):\n",
    "    print(t)"
   ]
  },
  {
   "cell_type": "code",
   "execution_count": 22,
   "metadata": {},
   "outputs": [
    {
     "name": "stdout",
     "output_type": "stream",
     "text": [
      "0 Persa\n",
      "1 Sphynx\n",
      "2 Ragdoll\n",
      "3 Siamés\n"
     ]
    }
   ],
   "source": [
    "for i, g in enumerate(gatos):\n",
    "    print(i, g)"
   ]
  },
  {
   "cell_type": "markdown",
   "metadata": {},
   "source": [
    "Lo anterior permite usar el indexado para acceder a los elementos de una secuencia:"
   ]
  },
  {
   "cell_type": "code",
   "execution_count": 26,
   "metadata": {},
   "outputs": [
    {
     "name": "stdout",
     "output_type": "stream",
     "text": [
      "0 Persa\n",
      "1 Sphynx\n",
      "2 Ragdoll\n",
      "3 Siamés\n"
     ]
    }
   ],
   "source": [
    "for i, g in enumerate(gatos):\n",
    "    print(i, gatos[i])"
   ]
  },
  {
   "cell_type": "markdown",
   "metadata": {},
   "source": [
    "## Conversión de `enumerate` a `list`, `tuple`, `set`, `dict`\n",
    "Estrictamente `enumerate` es una clase que define un tipo dentro de Python, por lo que es posible convertir del tipo `enumerate` a alguna otra secuencia básica de datos de Python:"
   ]
  },
  {
   "cell_type": "code",
   "execution_count": 63,
   "metadata": {},
   "outputs": [
    {
     "name": "stdout",
     "output_type": "stream",
     "text": [
      "<class 'enumerate'>\n",
      "<enumerate object at 0x7f0598472d90>\n"
     ]
    }
   ],
   "source": [
    "e = enumerate(gatos)\n",
    "\n",
    "# Verificar el tipo de enumerate\n",
    "print(type(e))\n",
    "print(e)"
   ]
  },
  {
   "cell_type": "code",
   "execution_count": 29,
   "metadata": {},
   "outputs": [
    {
     "name": "stdout",
     "output_type": "stream",
     "text": [
      "[(0, 'Persa'), (1, 'Sphynx'), (2, 'Ragdoll'), (3, 'Siamés')]\n",
      "((0, 'Persa'), (1, 'Sphynx'), (2, 'Ragdoll'), (3, 'Siamés'))\n",
      "{(1, 'Sphynx'), (0, 'Persa'), (3, 'Siamés'), (2, 'Ragdoll')}\n",
      "{0: 'Persa', 1: 'Sphynx', 2: 'Ragdoll', 3: 'Siamés'}\n"
     ]
    }
   ],
   "source": [
    "lista = list(enumerate(gatos))\n",
    "tupla = tuple(enumerate(gatos))\n",
    "conj = set(enumerate(gatos))\n",
    "dicc = dict(enumerate(gatos))\n",
    "\n",
    "print(lista)\n",
    "print(tupla)\n",
    "print(conj)\n",
    "print(dicc)"
   ]
  },
  {
   "cell_type": "markdown",
   "metadata": {},
   "source": [
    "## Funcion range\n",
    "\n",
    "Esta función genera una secuencia iterable con un inicio, un final y un salta:\n",
    "\n",
    "```python\n",
    "range(start, stop, step)\n",
    "```\n",
    "\n",
    "La secuencia irá desde `start` hasta `stop-1` en pasos de `step`. Por ejemplo:"
   ]
  },
  {
   "cell_type": "code",
   "execution_count": 32,
   "metadata": {},
   "outputs": [
    {
     "name": "stdout",
     "output_type": "stream",
     "text": [
      "1, 2, 3, 4, 5, 6, 7, 8, 9, 10, 11, 12, 13, 14, 15, 16, 17, 18, 19, "
     ]
    }
   ],
   "source": [
    "for i in range(1,20): # Por omisión step = 1\n",
    "    print(i, end= ', ')"
   ]
  },
  {
   "cell_type": "code",
   "execution_count": 34,
   "metadata": {},
   "outputs": [
    {
     "name": "stdout",
     "output_type": "stream",
     "text": [
      "1, 3, 5, 7, 9, 11, 13, 15, 17, 19, "
     ]
    }
   ],
   "source": [
    "for i in range(1,20, 2):\n",
    "    print(i, end= ', ')"
   ]
  },
  {
   "cell_type": "code",
   "execution_count": 68,
   "metadata": {},
   "outputs": [
    {
     "name": "stdout",
     "output_type": "stream",
     "text": [
      "20, 18, 16, 14, 12, 10, 8, 6, 4, 2, "
     ]
    }
   ],
   "source": [
    "for i in range(20, 1, -2): # El paso puede ser negativo\n",
    "    print(i, end= ', ')"
   ]
  },
  {
   "cell_type": "markdown",
   "metadata": {},
   "source": [
    "Usando `range()` se puede acceder a una seccuencia mediante el indexado:"
   ]
  },
  {
   "cell_type": "code",
   "execution_count": 48,
   "metadata": {},
   "outputs": [
    {
     "name": "stdout",
     "output_type": "stream",
     "text": [
      "0 Persa\n",
      "1 Sphynx\n",
      "2 Ragdoll\n",
      "3 Siamés\n"
     ]
    }
   ],
   "source": [
    "N = len(gatos) # Longitud de la lista gatos\n",
    "\n",
    "for i in range(0, N):\n",
    "    print(i, gatos[i])"
   ]
  },
  {
   "cell_type": "markdown",
   "metadata": {},
   "source": [
    "## Conversión de `range` a `list`, `tuple`, `set`\n",
    "Estrictamente `range` es una clase que define un tipo dentro de Python, por lo que es posible convertir del tipo `range` a alguna otra secuencia básica de datos de Python:"
   ]
  },
  {
   "cell_type": "code",
   "execution_count": 64,
   "metadata": {},
   "outputs": [
    {
     "name": "stdout",
     "output_type": "stream",
     "text": [
      "<class 'range'>\n",
      "range(0, 4)\n"
     ]
    }
   ],
   "source": [
    "N = len(gatos) # Longitud de la lista gatos\n",
    "r = range(0,N)\n",
    "\n",
    "# Verificar el tipo de range\n",
    "print(type(r))\n",
    "print(r)"
   ]
  },
  {
   "cell_type": "code",
   "execution_count": 65,
   "metadata": {},
   "outputs": [
    {
     "name": "stdout",
     "output_type": "stream",
     "text": [
      "[0, 1, 2, 3]\n",
      "(0, 1, 2, 3)\n",
      "{0, 1, 2, 3}\n"
     ]
    }
   ],
   "source": [
    "lista = list(range(0,N))\n",
    "tupla = tuple(range(0,N))\n",
    "conj = set(range(0,N))\n",
    "\n",
    "print(lista)\n",
    "print(tupla)\n",
    "print(conj)"
   ]
  },
  {
   "cell_type": "markdown",
   "metadata": {},
   "source": [
    "## break, continue, else, pass\n",
    "\n",
    "Estas son palabras clave que se pueden usar en ciclos `while` o `for`:\n",
    "* `break`: terminar el ciclo más interno.\n",
    "* `continue`: saltarse a la siguiente iteración sin terminar de ejecutar el código que sigue.\n",
    "* `else`: **NO** se ejecuta el código de esta cláusula si el ciclo es finalizado por el `break`. \n",
    "* `pass`: no hacer nada y continuar.\n",
    "\n",
    "Veamos algunos ejemplos:"
   ]
  },
  {
   "cell_type": "code",
   "execution_count": 95,
   "metadata": {},
   "outputs": [
    {
     "name": "stdout",
     "output_type": "stream",
     "text": [
      "Palabra:  Hola\n",
      "\t letra:  H\n",
      "\t letra:  o\n",
      "\t letra:  l\n",
      "\t letra:  a\n",
      "Palabra:  mundo\n",
      "\t letra:  m\n",
      "\t letra:  u\n",
      "\t letra:  n\n",
      "\t letra:  d\n",
      "\t letra:  o\n",
      "Palabra:  Pythonico\n",
      "\t letra:  P\n",
      "\t letra:  y\n",
      "\t letra:  t\n",
      "\t letra:  h\n"
     ]
    }
   ],
   "source": [
    "# Se itera por una lista de palabras, cuando se encuentra\n",
    "# la letra 'h' se termina el ciclo interno y se continua con\n",
    "# la siguiente palabra.\n",
    "for palabra in [\"Hola\", \"mundo\", \"Pythonico\"]:\n",
    "    print('Palabra: ', palabra)\n",
    "    for letra in palabra:\n",
    "        print('\\t letra: ', letra)\n",
    "        if letra == \"h\":\n",
    "            break"
   ]
  },
  {
   "cell_type": "code",
   "execution_count": 97,
   "metadata": {},
   "outputs": [
    {
     "name": "stdout",
     "output_type": "stream",
     "text": [
      "Palabra:  Hola\n",
      "\t letra:  H\n",
      "\t letra:  o\n",
      "\t letra:  l\n",
      "\t letra:  a\n",
      "No encontré la letra \"h\"\n",
      "Palabra:  mundo\n",
      "\t letra:  m\n",
      "\t letra:  u\n",
      "\t letra:  n\n",
      "\t letra:  d\n",
      "\t letra:  o\n",
      "No encontré la letra \"h\"\n",
      "Palabra:  Pythonico\n",
      "\t letra:  P\n",
      "\t letra:  y\n",
      "\t letra:  t\n",
      "\t letra:  h\n"
     ]
    }
   ],
   "source": [
    "# Se itera por una lista de palabras, cuando se encuentra\n",
    "# la letra 'h' se termina el ciclo interno y se continua con\n",
    "# la siguiente palabra. La cláusula 'else' se ejecuta si no\n",
    "# se encuentra la letra.\n",
    "for palabra in [\"Hola\", \"mundo\", \"Pythonico\"]:\n",
    "    print('Palabra: ', palabra)\n",
    "    for letra in palabra:\n",
    "        print('\\t letra: ', letra)\n",
    "        if letra == \"h\":\n",
    "            break\n",
    "    else:\n",
    "        print('No encontré la letra \"h\"')"
   ]
  },
  {
   "cell_type": "code",
   "execution_count": 98,
   "metadata": {},
   "outputs": [],
   "source": [
    "# Esta declaración pass no hace nada. Se usa principalmente \n",
    "# para cuestiones de desarrollo de código a un nivel abstracto.\n",
    "i = 0\n",
    "while i > 10:\n",
    "    pass"
   ]
  },
  {
   "cell_type": "code",
   "execution_count": 99,
   "metadata": {},
   "outputs": [],
   "source": [
    "# La siguiente función calcula la secuencia de Fibonacci\n",
    "def fib(n):\n",
    "#    print(i, end=\" \")\n",
    "    pass\n",
    "\n",
    "# En este punto del programa requiero el uso de la función fib(n):\n",
    "\n",
    "fib(100000) # "
   ]
  },
  {
   "cell_type": "markdown",
   "metadata": {},
   "source": [
    "### Más ejemplos."
   ]
  },
  {
   "cell_type": "code",
   "execution_count": 101,
   "metadata": {},
   "outputs": [
    {
     "name": "stdout",
     "output_type": "stream",
     "text": [
      "2 es un número primo\n",
      "3 es un número primo\n",
      "4 igual a  2 * 2\n",
      "5 es un número primo\n",
      "6 igual a  2 * 3\n",
      "7 es un número primo\n",
      "8 igual a  2 * 4\n",
      "9 igual a  3 * 3\n"
     ]
    }
   ],
   "source": [
    "# Calcula números primos usando la\n",
    "# criba de Eratóstenes\n",
    "for n in range(2, 10):\n",
    "    for x in range(2, n):\n",
    "        if n % x == 0:\n",
    "            print(n, 'igual a ', x, '*', n//x)\n",
    "            break\n",
    "    else:\n",
    "        print(n, 'es un número primo')"
   ]
  },
  {
   "cell_type": "code",
   "execution_count": 102,
   "metadata": {},
   "outputs": [
    {
     "name": "stdout",
     "output_type": "stream",
     "text": [
      "Número par  2\n",
      "Número impar 3\n",
      "Número par  4\n",
      "Número impar 5\n",
      "Número par  6\n",
      "Número impar 7\n",
      "Número par  8\n",
      "Número impar 9\n"
     ]
    }
   ],
   "source": [
    "# Determina números pares e impares\n",
    "for num in range(2, 10):\n",
    "    if num % 2 == 0:\n",
    "        print(\"Número par \", num)\n",
    "        continue\n",
    "    print(\"Número impar\", num)"
   ]
  },
  {
   "cell_type": "code",
   "execution_count": 104,
   "metadata": {},
   "outputs": [
    {
     "name": "stdin",
     "output_type": "stream",
     "text": [
      "Clave: despedida\n"
     ]
    },
    {
     "name": "stdout",
     "output_type": "stream",
     "text": [
      "Tuviste 0 intentos fallidos.\n"
     ]
    }
   ],
   "source": [
    "# Checa la clave de un usuario. Después de tres\n",
    "# intentos fallidos termina. Si se da la clave\n",
    "# correcta (despedida) se termina.\n",
    "suma = 0\n",
    "while suma < 3:\n",
    "    entrada = input(\"Clave:\")\n",
    "    if entrada == \"despedida\":\n",
    "        break\n",
    "    suma = suma + 1\n",
    "    print(\"Intento %d. \\n \" % suma)\n",
    "print(\"Tuviste {} intentos fallidos.\".format(suma))"
   ]
  },
  {
   "cell_type": "markdown",
   "metadata": {},
   "source": [
    "# `match` (desde la versión 3.10)\n",
    "\n",
    "Similar al switch de lenguajes como C, C++, Java.\n",
    "\n"
   ]
  },
  {
   "cell_type": "code",
   "execution_count": 105,
   "metadata": {},
   "outputs": [],
   "source": [
    "def http_error(status):\n",
    "    match status:\n",
    "        case 400:\n",
    "            return \"Bad request\"\n",
    "        case 404:\n",
    "            return \"Not found\"\n",
    "        case 418:\n",
    "            return \"I'm a teapot\"\n",
    "        case _:\n",
    "            return \"Something's wrong with the internet\""
   ]
  },
  {
   "cell_type": "code",
   "execution_count": 111,
   "metadata": {},
   "outputs": [
    {
     "data": {
      "text/plain": [
       "\"Something's wrong with the internet\""
      ]
     },
     "execution_count": 111,
     "metadata": {},
     "output_type": "execute_result"
    }
   ],
   "source": [
    "# Modifica el valor del argumento y observa lo que sucede\n",
    "http_error(500)"
   ]
  },
  {
   "cell_type": "code",
   "execution_count": 118,
   "metadata": {},
   "outputs": [
    {
     "name": "stdout",
     "output_type": "stream",
     "text": [
      "Origin\n"
     ]
    }
   ],
   "source": [
    "# Modifica los valores de la siguiente tupla y observa el resultado\n",
    "point = (0,0)\n",
    "\n",
    "match point:\n",
    "    case (0, 0):\n",
    "        print(\"Origin\")\n",
    "    case (0, y):\n",
    "        print(f\"Y={y}\")\n",
    "    case (x, 0):\n",
    "        print(f\"X={x}\")\n",
    "    case (x, y):\n",
    "        print(f\"X={x}, Y={y}\")\n",
    "    case _:\n",
    "        raise ValueError(\"Not a point\")"
   ]
  },
  {
   "cell_type": "markdown",
   "metadata": {},
   "source": [
    "Para más detalles véase [match Statements](https://docs.python.org/3/tutorial/controlflow.html#match-statements)."
   ]
  },
  {
   "cell_type": "code",
   "execution_count": null,
   "metadata": {},
   "outputs": [],
   "source": []
  }
 ],
 "metadata": {
  "kernelspec": {
   "display_name": "Python 3 (ipykernel)",
   "language": "python",
   "name": "python3"
  },
  "language_info": {
   "codemirror_mode": {
    "name": "ipython",
    "version": 3
   },
   "file_extension": ".py",
   "mimetype": "text/x-python",
   "name": "python",
   "nbconvert_exporter": "python",
   "pygments_lexer": "ipython3",
   "version": "3.11.6"
  }
 },
 "nbformat": 4,
 "nbformat_minor": 4
}
