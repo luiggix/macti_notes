{
 "cells": [
  {
   "cell_type": "markdown",
   "metadata": {},
   "source": [
    "# Funciones lambda.\n",
    "\n",
    "**Objetivo.**\n",
    "...\n",
    "\n",
    "**Funciones de Python**:\n",
    "...\n",
    "\n",
    " <p xmlns:cc=\"http://creativecommons.org/ns#\" xmlns:dct=\"http://purl.org/dc/terms/\"><a property=\"dct:title\" rel=\"cc:attributionURL\" href=\"https://github.com/repomacti/macti/tree/main/notebooks/Algebra_Lineal_01\">MACTI-Algebra_Lineal_01</a> by <a rel=\"cc:attributionURL dct:creator\" property=\"cc:attributionName\" href=\"https://www.macti.unam.mx\">Luis M. de la Cruz</a> is licensed under <a href=\"http://creativecommons.org/licenses/by-sa/4.0/?ref=chooser-v1\" target=\"_blank\" rel=\"license noopener noreferrer\" style=\"display:inline-block;\">Attribution-ShareAlike 4.0 International<img style=\"height:22px!important;margin-left:3px;vertical-align:text-bottom;\" src=\"https://mirrors.creativecommons.org/presskit/icons/cc.svg?ref=chooser-v1\"><img style=\"height:22px!important;margin-left:3px;vertical-align:text-bottom;\" src=\"https://mirrors.creativecommons.org/presskit/icons/by.svg?ref=chooser-v1\"><img style=\"height:22px!important;margin-left:3px;vertical-align:text-bottom;\" src=\"https://mirrors.creativecommons.org/presskit/icons/sa.svg?ref=chooser-v1\"></a></p> "
   ]
  },
  {
   "cell_type": "markdown",
   "metadata": {},
   "source": [
    "# Programación funcional.\n",
    "\n",
    "- Paradigma de programación basado en el uso de funciones, entendiendo el concepto de función según su definición matemática, y no como los subprogramas de los lenguajes imperativos.<br>\n",
    "\n",
    "- Tiene sus raíces en el cálculo lambda (un sistema formal desarrollado en los años 1930 para investigar la definición de función, la aplicación de las funciones y la recursión). \n",
    "\n",
    "- Muchos lenguajes de programación funcionales pueden ser vistos como elaboraciones del cálculo lambda.\n",
    "\n",
    "- Las funciones que se usan en este paradigma son *funciones puras*, es decir, que no tienen efectos secundarios, que no manejan datos mutables o de estado. \n",
    "\n",
    "- Lo anterior está en contraposición con la programación imperativa. \n",
    "\n",
    "- Uno de sus principales representantes es el lenguaje Haskell, que compite en belleza, elegancia y expresividad con Python.\n",
    "\n",
    "- Los programas escritos en un estilo funcional son más fáciles de probar y depurar.\n",
    "\n",
    "- Por su característica modular facilita el cómputo concurrente y paralelo.\n",
    "\n",
    "- El estilo funcional se lleva muy bien con los datos, permitiendo crear algoritmos y programas más expresivos para trabajar en *Big Data*."
   ]
  },
  {
   "cell_type": "markdown",
   "metadata": {},
   "source": [
    "# Lambda expressions\n",
    "\n",
    "- Una expresión Lambda (*Lambda expressions*) nos permite crear una función \"anónima\", es decir podemos crear funciones *ad-hoc*, **sin** la necesidad de definir una función propiamente con el comando <font color=#009900>**def**</font>.\n",
    "\n",
    "- Una expresión Lambda o función anónima, es una expresión simple, no un bloque de declaraciones.\n",
    "\n",
    "- Solo hay que escribir el resultado de una expresión en vez de regresar un valor explícitamente.\n",
    "\n",
    "- Dado que se limita a una expresión, una función anónima es menos general que una función normal <font color=#009900>**def**</font>.\n",
    "\n",
    "Por ejemplo, para calcular el cuadrado de un número podemos escribir la siguiente función:"
   ]
  },
  {
   "cell_type": "code",
   "execution_count": null,
   "metadata": {},
   "outputs": [],
   "source": [
    "def square_v1(n):\n",
    "    \"\"\"\n",
    "    Calcula el cuadrado de n y lo regresa. Versión 1.0\n",
    "    \"\"\"\n",
    "    result = n**2\n",
    "    return result"
   ]
  },
  {
   "cell_type": "code",
   "execution_count": null,
   "metadata": {},
   "outputs": [],
   "source": [
    "print(square_v1(5))"
   ]
  },
  {
   "cell_type": "markdown",
   "metadata": {},
   "source": [
    "Se puede reducir el código anterior como sigue:"
   ]
  },
  {
   "cell_type": "code",
   "execution_count": null,
   "metadata": {},
   "outputs": [],
   "source": [
    "def square_v2(n):\n",
    "    \"\"\"\n",
    "    Calcula el cuadrado de n y lo regresa. Versión 2.0\n",
    "    \"\"\"\n",
    "    return n**2"
   ]
  },
  {
   "cell_type": "code",
   "execution_count": null,
   "metadata": {},
   "outputs": [],
   "source": [
    "print(square_v2(5))"
   ]
  },
  {
   "cell_type": "markdown",
   "metadata": {},
   "source": [
    "Se puede reducir aún más, pero puede llevarnos a un mal estilo de programación. Por ejemplo:"
   ]
  },
  {
   "cell_type": "code",
   "execution_count": null,
   "metadata": {},
   "outputs": [],
   "source": [
    "def square_v3(n): return n**2"
   ]
  },
  {
   "cell_type": "code",
   "execution_count": null,
   "metadata": {},
   "outputs": [],
   "source": [
    "print(square_v3(5))"
   ]
  },
  {
   "cell_type": "markdown",
   "metadata": {},
   "source": [
    "**Definición**.\n",
    "La sintáxis de una expresión lambda en Python (función lambda o función anónima) es muy simple:\n",
    "\n",
    "```python\n",
    "lambda argument_list: expression\n",
    "``` \n",
    "1. La lista de argumentos consiste de objetos separados por coma. <br>\n",
    "2. La expresión es cualquiera que sea válida en Python.<br>\n",
    "\n",
    "Se puede asignar la función a una etiqueta para darle un nombre."
   ]
  },
  {
   "cell_type": "markdown",
   "metadata": {},
   "source": [
    "<div class=\"alert alert-info\">\n",
    "\n",
    "## **Ejemplo 1.**\n",
    "\n",
    "<font color=\"Black\">\n",
    "    \n",
    "Función anónima para el cálculo del cuadrado de un número.\n",
    "\n",
    "</font>\n",
    "\n",
    "</div>"
   ]
  },
  {
   "cell_type": "code",
   "execution_count": null,
   "metadata": {},
   "outputs": [],
   "source": [
    "# Se crea una función anónima\n",
    "lambda n: n**2"
   ]
  },
  {
   "cell_type": "markdown",
   "metadata": {},
   "source": [
    "Para poder usar la función anterior debe estar en un contexto donde pueda ser ejecutada o podemos darle un nombre como sigue:"
   ]
  },
  {
   "cell_type": "code",
   "execution_count": null,
   "metadata": {},
   "outputs": [],
   "source": [
    "# La función anónima se llama ahora cuadrado()\n",
    "cuadrado = lambda num: num**2"
   ]
  },
  {
   "cell_type": "code",
   "execution_count": null,
   "metadata": {},
   "outputs": [],
   "source": [
    "# Usamos la función cuadrado()\n",
    "print(cuadrado(7))"
   ]
  },
  {
   "cell_type": "markdown",
   "metadata": {},
   "source": [
    "<div class=\"alert alert-info\">\n",
    "\n",
    "## **Ejemplo 2.**\n",
    "\n",
    "<font color=\"Black\">\n",
    "    \n",
    "Escribir una función lambda para calcular el cubo de un número usando la función lambda que calcula el cuadrado.\n",
    "</font>\n",
    "\n",
    "</div>"
   ]
  },
  {
   "cell_type": "code",
   "execution_count": null,
   "metadata": {},
   "outputs": [],
   "source": [
    "# Construimos la función cubo() usando la función cuadrado()\n",
    "cubo = lambda n: cuadrado(n) * n"
   ]
  },
  {
   "cell_type": "code",
   "execution_count": null,
   "metadata": {},
   "outputs": [],
   "source": [
    "cubo(5)"
   ]
  },
  {
   "cell_type": "markdown",
   "metadata": {},
   "source": [
    "<div class=\"alert alert-info\">\n",
    "\n",
    "## **Ejemplo 3.**\n",
    "\n",
    "<font color=\"Black\">\n",
    "    \n",
    "Construir una función que genere funciones para elevar un número `a` a una potencia `n`.\n",
    "</font>\n",
    "\n",
    "</div>\n",
    "\n",
    "Este ejemplo nos permite mostrar que es posible combinar la definición de funciones normales de Python con las funciones lambda."
   ]
  },
  {
   "cell_type": "code",
   "execution_count": null,
   "metadata": {},
   "outputs": [],
   "source": [
    "def potencia(n):\n",
    "    return lambda a: a ** n # regresa una función lambda"
   ]
  },
  {
   "cell_type": "code",
   "execution_count": null,
   "metadata": {},
   "outputs": [],
   "source": [
    "# Creamos dos funciones.\n",
    "cuadrado = potencia(2) # función para elevar al cuadrado\n",
    "cubo = potencia(3) # función para elevar al cubo"
   ]
  },
  {
   "cell_type": "code",
   "execution_count": null,
   "metadata": {},
   "outputs": [],
   "source": [
    "print(cuadrado(5))\n",
    "print(cubo(2))"
   ]
  },
  {
   "cell_type": "markdown",
   "metadata": {},
   "source": [
    "<div class=\"alert alert-info\">\n",
    "\n",
    "## **Ejemplo 4.**\n",
    "\n",
    "<font color=\"Black\">\n",
    "    \n",
    "Escribir una función lambda para multiplicar dos números.\n",
    "</font>\n",
    "\n",
    "</div>\n",
    "\n",
    "En este ejemplo vemos como una función lambda puede recibir dos argumentos."
   ]
  },
  {
   "cell_type": "code",
   "execution_count": null,
   "metadata": {},
   "outputs": [],
   "source": [
    "mult = lambda a, b: a * b"
   ]
  },
  {
   "cell_type": "code",
   "execution_count": null,
   "metadata": {},
   "outputs": [],
   "source": [
    "print(mult(5,3))"
   ]
  },
  {
   "cell_type": "markdown",
   "metadata": {},
   "source": [
    "<div class=\"alert alert-info\">\n",
    "\n",
    "## **Ejemplo 5.**\n",
    "\n",
    "<font color=\"Black\">\n",
    "    \n",
    "Checar si un número es par.\n",
    "</font>\n",
    "\n",
    "</div>\n",
    "\n",
    "En este ejemplo usamos el operador ternario para probar una condición."
   ]
  },
  {
   "cell_type": "code",
   "execution_count": null,
   "metadata": {},
   "outputs": [],
   "source": [
    "esPar = lambda n: False if n % 2 else True"
   ]
  },
  {
   "cell_type": "code",
   "execution_count": null,
   "metadata": {},
   "outputs": [],
   "source": [
    "print(esPar(2))\n",
    "print(esPar(3))"
   ]
  },
  {
   "cell_type": "markdown",
   "metadata": {},
   "source": [
    "<div class=\"alert alert-info\">\n",
    "\n",
    "## **Ejemplo 6.**\n",
    "\n",
    "<font color=\"Black\">\n",
    "    \n",
    "Obtener el primer y último elemento de una secuencia, la cual puede ser una cadena, una lista y una tupla.\n",
    "</font>\n",
    "\n",
    "</div>"
   ]
  },
  {
   "cell_type": "code",
   "execution_count": null,
   "metadata": {},
   "outputs": [],
   "source": [
    "primer_ultimo= lambda s: (s[0], s[-1])"
   ]
  },
  {
   "cell_type": "code",
   "execution_count": null,
   "metadata": {},
   "outputs": [],
   "source": [
    "# Cadena\n",
    "primer_ultimo('Pythonico')"
   ]
  },
  {
   "cell_type": "code",
   "execution_count": null,
   "metadata": {},
   "outputs": [],
   "source": [
    "# Lista\n",
    "primer_ultimo([1,2,3,4,5,6,7,8,9])"
   ]
  },
  {
   "cell_type": "code",
   "execution_count": null,
   "metadata": {},
   "outputs": [],
   "source": [
    "# Tupla\n",
    "primer_ultimo( (1.2, 3.4, 5.6, 8.4) )"
   ]
  },
  {
   "cell_type": "markdown",
   "metadata": {},
   "source": [
    "<div class=\"alert alert-info\">\n",
    "\n",
    "## **Ejemplo 7.**\n",
    "\n",
    "<font color=\"Black\">\n",
    "    \n",
    "Escribir en reversa una secuencia qu puede ser una cadena, una lista y una tupla.\n",
    "</font>\n",
    "\n",
    "</div>"
   ]
  },
  {
   "cell_type": "code",
   "execution_count": null,
   "metadata": {},
   "outputs": [],
   "source": [
    "c = 'Pythonico'\n",
    "\n",
    "reversa = lambda l: l[::-1]\n",
    "\n",
    "print(c)\n",
    "print(reversa(c))"
   ]
  },
  {
   "cell_type": "markdown",
   "metadata": {},
   "source": [
    "# Funciones puras e impuras\n",
    "\n",
    "- La programación funcional busca usar funciones *puras*, es decir, que no tienen efectos secundarios, no manejan datos mutables o de estado. <br>\n",
    "\n",
    "- Estas funciones puras devuelven un valor que depende solo de sus argumentos.<br>\n"
   ]
  },
  {
   "cell_type": "markdown",
   "metadata": {},
   "source": [
    "Por ejemplo, podemos construir funciones que hagan un cálculo aritmético el cuál solo depende de sus entradas y no modifica otra cosa:"
   ]
  },
  {
   "cell_type": "code",
   "execution_count": 26,
   "metadata": {},
   "outputs": [
    {
     "data": {
      "text/plain": [
       "1.25"
      ]
     },
     "execution_count": 26,
     "metadata": {},
     "output_type": "execute_result"
    }
   ],
   "source": [
    "# La siguiente es una función pura\n",
    "def pura(x, y):\n",
    "    return (x + 2 * y) / (2 * x + y)\n",
    "\n",
    "pura(1,2)"
   ]
  },
  {
   "cell_type": "code",
   "execution_count": 27,
   "metadata": {},
   "outputs": [
    {
     "data": {
      "text/plain": [
       "1.25"
      ]
     },
     "execution_count": 27,
     "metadata": {},
     "output_type": "execute_result"
    }
   ],
   "source": [
    "# La siguiente es una función lambda pura\n",
    "lambda_pura = lambda x,y: (x + 2 * y) / (2 * x + y)\n",
    "\n",
    "lambda_pura(1,2)"
   ]
  },
  {
   "cell_type": "markdown",
   "metadata": {},
   "source": [
    "El que sigue es un ejemplo de una función impura que tiene efectos colaterales en la `lista`: "
   ]
  },
  {
   "cell_type": "code",
   "execution_count": 32,
   "metadata": {},
   "outputs": [
    {
     "name": "stdout",
     "output_type": "stream",
     "text": [
      "[5]\n"
     ]
    }
   ],
   "source": [
    "# Esta es una función impura\n",
    "lista = []\n",
    "\n",
    "def impura(arg):\n",
    "    potencia = 2\n",
    "    lista.append(arg) # Se modifica la lista\n",
    "    return arg ** potencia\n",
    "\n",
    "impura(5)\n",
    "\n",
    "print(lista)"
   ]
  },
  {
   "cell_type": "markdown",
   "metadata": {},
   "source": [
    "Lo anterior también puede suceder usando funciones lambda:"
   ]
  },
  {
   "cell_type": "code",
   "execution_count": 30,
   "metadata": {},
   "outputs": [],
   "source": [
    "# podemos crear funciones lambda impuras :o\n",
    "lambda_impura = lambda l, arg : (l.append(arg), arg**2)"
   ]
  },
  {
   "cell_type": "code",
   "execution_count": 31,
   "metadata": {},
   "outputs": [
    {
     "name": "stdout",
     "output_type": "stream",
     "text": [
      "(None, 25)\n"
     ]
    },
    {
     "data": {
      "text/plain": [
       "[5, 5]"
      ]
     },
     "execution_count": 31,
     "metadata": {},
     "output_type": "execute_result"
    }
   ],
   "source": [
    "print(lambda_impura(lista,5))\n",
    "lista"
   ]
  },
  {
   "cell_type": "markdown",
   "metadata": {},
   "source": [
    "Una buena práctica del estilo funcional es evitar los efectos secundarios, es decir, **que nuestras funciones NO modifiquen los valores de sus argumentos**."
   ]
  }
 ],
 "metadata": {
  "kernelspec": {
   "display_name": "Python 3 (ipykernel)",
   "language": "python",
   "name": "python3"
  },
  "language_info": {
   "codemirror_mode": {
    "name": "ipython",
    "version": 3
   },
   "file_extension": ".py",
   "mimetype": "text/x-python",
   "name": "python",
   "nbconvert_exporter": "python",
   "pygments_lexer": "ipython3",
   "version": "3.11.6"
  }
 },
 "nbformat": 4,
 "nbformat_minor": 4
}
