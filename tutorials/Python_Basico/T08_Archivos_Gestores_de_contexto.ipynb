{
 "cells": [
  {
   "cell_type": "markdown",
   "metadata": {},
   "source": [
    "# Gestión de archivos y gestores de contexto.\n",
    "\n",
    "**Objetivo.**\n",
    "...\n",
    "\n",
    "**Funciones de Python**:\n",
    "...\n",
    "\n",
    " <p xmlns:cc=\"http://creativecommons.org/ns#\" xmlns:dct=\"http://purl.org/dc/terms/\"><a property=\"dct:title\" rel=\"cc:attributionURL\" href=\"https://github.com/repomacti/macti/tree/main/notebooks/Algebra_Lineal_01\">MACTI-Algebra_Lineal_01</a> by <a rel=\"cc:attributionURL dct:creator\" property=\"cc:attributionName\" href=\"https://www.macti.unam.mx\">Luis M. de la Cruz</a> is licensed under <a href=\"http://creativecommons.org/licenses/by-sa/4.0/?ref=chooser-v1\" target=\"_blank\" rel=\"license noopener noreferrer\" style=\"display:inline-block;\">Attribution-ShareAlike 4.0 International<img style=\"height:22px!important;margin-left:3px;vertical-align:text-bottom;\" src=\"https://mirrors.creativecommons.org/presskit/icons/cc.svg?ref=chooser-v1\"><img style=\"height:22px!important;margin-left:3px;vertical-align:text-bottom;\" src=\"https://mirrors.creativecommons.org/presskit/icons/by.svg?ref=chooser-v1\"><img style=\"height:22px!important;margin-left:3px;vertical-align:text-bottom;\" src=\"https://mirrors.creativecommons.org/presskit/icons/sa.svg?ref=chooser-v1\"></a></p> "
   ]
  },
  {
   "cell_type": "markdown",
   "metadata": {},
   "source": [
    "# Gestión de archivos\n",
    "\n",
    "La función para gestionar archivos es `open()`. Toma dos parámetros: el nombre del archivo y el modo. Existen cuatro diferentes modos:\n",
    "\n",
    "- `\"r\"` - Read - Default value. Abre el archivo para lectura. Se produce un error si el archvio no existe.\n",
    "- `\"a\"` - Append - Abre el archivo para agregar información. Si el archivo no existe, lo crea.\n",
    "- `\"w\"` - Write - Abre el archivo para escritura. Si el archivo no existe, lo crea. Si el archivo existe, lo sobreescribe.\n",
    "- `\"x\"` - Create - Crea el archivo, regresa un error si el archivo existe.\n",
    "\n",
    "Adicionalmente se puede especificar si el archivo se abre en modo texto o binario:\n",
    "\n",
    "- `\"t\"` - Text - Valor por omisión. \n",
    "- `\"b\"` - Binary\n",
    "\n"
   ]
  },
  {
   "cell_type": "code",
   "execution_count": 1,
   "metadata": {},
   "outputs": [],
   "source": [
    "# Abrimos el archivo gatos.txt en modo escritura\n",
    "# Ojo: si el archivo existe, lo sobreescribe.\n",
    "f = open('gatos.txt', 'w')"
   ]
  },
  {
   "cell_type": "code",
   "execution_count": 2,
   "metadata": {},
   "outputs": [
    {
     "name": "stdout",
     "output_type": "stream",
     "text": [
      "{'Persa': 2.3, 'Sphynx': 3.5, 'Ragdoll': 5.4, 'Siamés': 2.5}\n"
     ]
    }
   ],
   "source": [
    "# Construimos un diccionario con información\n",
    "gatos = ['Persa', 'Sphynx', 'Ragdoll','Siamés']\n",
    "peso_minimo = [2.3, 3.5, 5.4, 2.5]\n",
    "dicc = dict(zip(gatos,peso_minimo))\n",
    "print(dicc)"
   ]
  },
  {
   "cell_type": "code",
   "execution_count": 3,
   "metadata": {},
   "outputs": [],
   "source": [
    "# Guardamos cada elemento del diccionario en el archivo\n",
    "for i in dicc:\n",
    "    f.write('{:>10} {:>10} \\n'.format(i,dicc[i]))\n",
    "\n",
    "# Es importante siempre cerrar el archivo cuando ya no se use.\n",
    "f.close()"
   ]
  },
  {
   "cell_type": "code",
   "execution_count": 4,
   "metadata": {},
   "outputs": [
    {
     "name": "stdout",
     "output_type": "stream",
     "text": [
      "     Persa        2.3 \n",
      "\n",
      "    Sphynx        3.5 \n",
      "\n",
      "   Ragdoll        5.4 \n",
      "\n",
      "    Siamés        2.5 \n",
      "\n"
     ]
    }
   ],
   "source": [
    "# Ahora abrimos el archivo en modo lectura\n",
    "# El archivo debe existir, de otro modo se genera un error.\n",
    "f = open('gatos.txt','r')\n",
    "for i in f:\n",
    "    print(i)\n",
    "    \n",
    "f.close()"
   ]
  },
  {
   "cell_type": "markdown",
   "metadata": {},
   "source": [
    "# Gestores de contexto\n",
    "Permiten asignar y liberar recursos justo en el momento requerido. Se usa mayormente con `with`, veamos un ejemplo:"
   ]
  },
  {
   "cell_type": "code",
   "execution_count": 5,
   "metadata": {},
   "outputs": [],
   "source": [
    "with open('contexto_ejemplo', 'w') as archivo_abierto:\n",
    "    archivo_abierto.write('En este ejemplo, todo se realiza con un gestor de contexto.')"
   ]
  },
  {
   "cell_type": "markdown",
   "metadata": {},
   "source": [
    "Lo que realiza la operación anterior es: \n",
    "1. Abre el archivo `contexto_ejemplo`.\n",
    "2. Escribe algo en el archivo,\n",
    "3. Cierra el archivo. Si ocurre algún error mientras se escribe en el archivo, entonces se intenta cerrar el archivo.\n",
    "\n",
    "El código es equivalente a:\n",
    "\n",
    "```python\n",
    "archivo_abierto = open('contexto_ejemplo', 'w')\n",
    "try:\n",
    "    archivo_abierto.write('En este ... contexto!')\n",
    "finally:\n",
    "    archivo_abierto.close()\n",
    "```\n",
    "\n",
    "Es posible implemetar nuestros propios gestores de contexto. Para ello se requiere un conocimiento más profundo de Programación Orientada a Objetos."
   ]
  },
  {
   "cell_type": "code",
   "execution_count": null,
   "metadata": {},
   "outputs": [],
   "source": []
  }
 ],
 "metadata": {
  "kernelspec": {
   "display_name": "Python 3 (ipykernel)",
   "language": "python",
   "name": "python3"
  },
  "language_info": {
   "codemirror_mode": {
    "name": "ipython",
    "version": 3
   },
   "file_extension": ".py",
   "mimetype": "text/x-python",
   "name": "python",
   "nbconvert_exporter": "python",
   "pygments_lexer": "ipython3",
   "version": "3.11.6"
  }
 },
 "nbformat": 4,
 "nbformat_minor": 4
}
