{
 "cells": [
  {
   "cell_type": "markdown",
   "metadata": {},
   "source": [
    "# Manejo de excepciones.\n",
    "\n",
    "**Objetivo.**\n",
    "...\n",
    "\n",
    "**Funciones de Python**:\n",
    "...\n",
    "[Errors and Exceptions](https://docs.python.org/3/tutorial/errors.html)\n",
    "\n",
    " <p xmlns:cc=\"http://creativecommons.org/ns#\" xmlns:dct=\"http://purl.org/dc/terms/\"><a property=\"dct:title\" rel=\"cc:attributionURL\" href=\"https://github.com/repomacti/macti/tree/main/notebooks/Algebra_Lineal_01\">MACTI-Algebra_Lineal_01</a> by <a rel=\"cc:attributionURL dct:creator\" property=\"cc:attributionName\" href=\"https://www.macti.unam.mx\">Luis M. de la Cruz</a> is licensed under <a href=\"http://creativecommons.org/licenses/by-sa/4.0/?ref=chooser-v1\" target=\"_blank\" rel=\"license noopener noreferrer\" style=\"display:inline-block;\">Attribution-ShareAlike 4.0 International<img style=\"height:22px!important;margin-left:3px;vertical-align:text-bottom;\" src=\"https://mirrors.creativecommons.org/presskit/icons/cc.svg?ref=chooser-v1\"><img style=\"height:22px!important;margin-left:3px;vertical-align:text-bottom;\" src=\"https://mirrors.creativecommons.org/presskit/icons/by.svg?ref=chooser-v1\"><img style=\"height:22px!important;margin-left:3px;vertical-align:text-bottom;\" src=\"https://mirrors.creativecommons.org/presskit/icons/sa.svg?ref=chooser-v1\"></a></p> "
   ]
  },
  {
   "cell_type": "markdown",
   "metadata": {},
   "source": [
    "# Tipos de errores:\n",
    "\n",
    "En Python existen dos tipos de errores por los cuales un programa se detiene y no continua con su ejecución normal.\n",
    "\n",
    "## Errores de sintaxis.\n",
    "\n",
    "Ocurren cuando no se escriben correctamente las expresiones y declaraciones, siguiendo la especificación de la interfaz de Python.\n",
    "\n",
    "Por ejemplo:"
   ]
  },
  {
   "cell_type": "code",
   "execution_count": 104,
   "metadata": {},
   "outputs": [
    {
     "ename": "NameError",
     "evalue": "name 'printf' is not defined",
     "output_type": "error",
     "traceback": [
      "\u001b[0;31m---------------------------------------------------------------------------\u001b[0m",
      "\u001b[0;31mNameError\u001b[0m                                 Traceback (most recent call last)",
      "Cell \u001b[0;32mIn[104], line 2\u001b[0m\n\u001b[1;32m      1\u001b[0m \u001b[38;5;66;03m# Escribimos a propósito 'printf' que es un nombre incorrecto.\u001b[39;00m\n\u001b[0;32m----> 2\u001b[0m \u001b[43mprintf\u001b[49m(\u001b[38;5;124m'\u001b[39m\u001b[38;5;124mHola mundo!\u001b[39m\u001b[38;5;124m'\u001b[39m)\n",
      "\u001b[0;31mNameError\u001b[0m: name 'printf' is not defined"
     ]
    }
   ],
   "source": [
    "# Escribimos a propósito 'printf' que es un nombre incorrecto.\n",
    "printf('Hola mundo!')"
   ]
  },
  {
   "cell_type": "markdown",
   "metadata": {},
   "source": [
    "* Observa que el tipo de error se imprime cuando éste ocurre. \n",
    "* En el caso anterior el error fue de tipo `NameError`, por lo que hay que revisar que todo esté correctamente escrito."
   ]
  },
  {
   "cell_type": "markdown",
   "metadata": {},
   "source": [
    "## Errores provocados por excepciones.\n",
    "\n",
    "Son errores lógicos que detienen la ejecución de un programa aún cuando la sintaxis sea la correcta.\n",
    "\n",
    "Por ejemplo:"
   ]
  },
  {
   "cell_type": "code",
   "execution_count": 105,
   "metadata": {},
   "outputs": [],
   "source": [
    "def raizCuadrada(numero):\n",
    "    numero = float(numero)\n",
    "    print(\"La raíz cuadrada del número {} es {}\".format(numero, numero ** 0.5))"
   ]
  },
  {
   "cell_type": "code",
   "execution_count": 106,
   "metadata": {},
   "outputs": [
    {
     "name": "stdout",
     "output_type": "stream",
     "text": [
      "La raíz cuadrada del número 1.0 es 1.0\n"
     ]
    }
   ],
   "source": [
    "# Ejemplo correcto que se ejecuta sin problemas.\n",
    "raizCuadrada(1)"
   ]
  },
  {
   "cell_type": "code",
   "execution_count": 107,
   "metadata": {},
   "outputs": [
    {
     "name": "stdout",
     "output_type": "stream",
     "text": [
      "La raíz cuadrada del número -1.0 es (6.123233995736766e-17+1j)\n"
     ]
    }
   ],
   "source": [
    "# Ejemplo correcto, se calcula la raíz cuadrada de -1 en\n",
    "# El resultado es un número complejo. En este caso Python\n",
    "# se encarga de realizar las conversiones necesarias.\n",
    "raizCuadrada(-1)"
   ]
  },
  {
   "cell_type": "code",
   "execution_count": 109,
   "metadata": {},
   "outputs": [
    {
     "ename": "TypeError",
     "evalue": "float() argument must be a string or a real number, not 'complex'",
     "output_type": "error",
     "traceback": [
      "\u001b[0;31m---------------------------------------------------------------------------\u001b[0m",
      "\u001b[0;31mTypeError\u001b[0m                                 Traceback (most recent call last)",
      "Cell \u001b[0;32mIn[109], line 3\u001b[0m\n\u001b[1;32m      1\u001b[0m \u001b[38;5;66;03m# Ejemplo incorrecto. No es posible calcular la raíz cuadrada\u001b[39;00m\n\u001b[1;32m      2\u001b[0m \u001b[38;5;66;03m# de un número complejo, es una operación no definida.\u001b[39;00m\n\u001b[0;32m----> 3\u001b[0m \u001b[43mraizCuadrada\u001b[49m\u001b[43m(\u001b[49m\u001b[38;5;241;43m1\u001b[39;49m\u001b[38;5;241;43m+\u001b[39;49m\u001b[38;5;241;43m1\u001b[39;49m\u001b[43mj\u001b[49m\u001b[43m)\u001b[49m\n",
      "Cell \u001b[0;32mIn[105], line 2\u001b[0m, in \u001b[0;36mraizCuadrada\u001b[0;34m(numero)\u001b[0m\n\u001b[1;32m      1\u001b[0m \u001b[38;5;28;01mdef\u001b[39;00m \u001b[38;5;21mraizCuadrada\u001b[39m(numero):\n\u001b[0;32m----> 2\u001b[0m     numero \u001b[38;5;241m=\u001b[39m \u001b[38;5;28;43mfloat\u001b[39;49m\u001b[43m(\u001b[49m\u001b[43mnumero\u001b[49m\u001b[43m)\u001b[49m\n\u001b[1;32m      3\u001b[0m     \u001b[38;5;28mprint\u001b[39m(\u001b[38;5;124m\"\u001b[39m\u001b[38;5;124mLa raíz cuadrada del número \u001b[39m\u001b[38;5;132;01m{}\u001b[39;00m\u001b[38;5;124m es \u001b[39m\u001b[38;5;132;01m{}\u001b[39;00m\u001b[38;5;124m\"\u001b[39m\u001b[38;5;241m.\u001b[39mformat(numero, numero \u001b[38;5;241m*\u001b[39m\u001b[38;5;241m*\u001b[39m \u001b[38;5;241m0.5\u001b[39m))\n",
      "\u001b[0;31mTypeError\u001b[0m: float() argument must be a string or a real number, not 'complex'"
     ]
    }
   ],
   "source": [
    "# Ejemplo incorrecto. No es posible calcular la raíz cuadrada\n",
    "# de un número complejo, es una operación no definida.\n",
    "raizCuadrada(1+1j)"
   ]
  },
  {
   "cell_type": "markdown",
   "metadata": {},
   "source": [
    "En el ejemplo anterior se produce un error de tipo `TypeError`, es decir hay incompatibilidad con los tipos de datos que se están manipulando."
   ]
  },
  {
   "cell_type": "code",
   "execution_count": 110,
   "metadata": {},
   "outputs": [
    {
     "ename": "ValueError",
     "evalue": "could not convert string to float: 'hola'",
     "output_type": "error",
     "traceback": [
      "\u001b[0;31m---------------------------------------------------------------------------\u001b[0m",
      "\u001b[0;31mValueError\u001b[0m                                Traceback (most recent call last)",
      "Cell \u001b[0;32mIn[110], line 3\u001b[0m\n\u001b[1;32m      1\u001b[0m \u001b[38;5;66;03m# Ejemplo incorrecto. No se puede calcular la raíz cuadrada\u001b[39;00m\n\u001b[1;32m      2\u001b[0m \u001b[38;5;66;03m# de una cadena.\u001b[39;00m\n\u001b[0;32m----> 3\u001b[0m \u001b[43mraizCuadrada\u001b[49m\u001b[43m(\u001b[49m\u001b[38;5;124;43m\"\u001b[39;49m\u001b[38;5;124;43mhola\u001b[39;49m\u001b[38;5;124;43m\"\u001b[39;49m\u001b[43m)\u001b[49m\n",
      "Cell \u001b[0;32mIn[105], line 2\u001b[0m, in \u001b[0;36mraizCuadrada\u001b[0;34m(numero)\u001b[0m\n\u001b[1;32m      1\u001b[0m \u001b[38;5;28;01mdef\u001b[39;00m \u001b[38;5;21mraizCuadrada\u001b[39m(numero):\n\u001b[0;32m----> 2\u001b[0m     numero \u001b[38;5;241m=\u001b[39m \u001b[38;5;28;43mfloat\u001b[39;49m\u001b[43m(\u001b[49m\u001b[43mnumero\u001b[49m\u001b[43m)\u001b[49m\n\u001b[1;32m      3\u001b[0m     \u001b[38;5;28mprint\u001b[39m(\u001b[38;5;124m\"\u001b[39m\u001b[38;5;124mLa raíz cuadrada del número \u001b[39m\u001b[38;5;132;01m{}\u001b[39;00m\u001b[38;5;124m es \u001b[39m\u001b[38;5;132;01m{}\u001b[39;00m\u001b[38;5;124m\"\u001b[39m\u001b[38;5;241m.\u001b[39mformat(numero, numero \u001b[38;5;241m*\u001b[39m\u001b[38;5;241m*\u001b[39m \u001b[38;5;241m0.5\u001b[39m))\n",
      "\u001b[0;31mValueError\u001b[0m: could not convert string to float: 'hola'"
     ]
    }
   ],
   "source": [
    "# Ejemplo incorrecto. No se puede calcular la raíz cuadrada\n",
    "# de una cadena.\n",
    "raizCuadrada(\"hola\")"
   ]
  },
  {
   "cell_type": "markdown",
   "metadata": {},
   "source": [
    "En el ejemplo anterior se produce un error de tipo `ValueError`, es decir es decir hay un problema con el contenido del objeto."
   ]
  },
  {
   "cell_type": "markdown",
   "metadata": {},
   "source": [
    "# Manjeo de excepciones con: `try`, `except`, `finally`\n",
    "\n",
    "Los errores que se pueden manejar, son aquellos errores lógicos como los presentados anteriormente en donde es posible \"predecir\" el tipo de error que puede ocurrir de acuerdo con la implementación que estamos realizando.\n",
    "\n",
    "Todas las excepciones en Python son ejemplos concretos de una clase (*instance*) que se derivan de la clase principal <a href=\"https://docs.python.org/3/library/exceptions.html#BaseException\">BaseExcepcion</a>. Más detalles se pueden consultar <a href=\"http://docs.python.org/3/library/exceptions.html\">aquí</a>.\n",
    "\n",
    "Las excepciones se pueden capturar y manejar adecuadamente. Para ello se tienen las siguientes herramientas:\n",
    "\n",
    "* `try`\n",
    "* `except`\n",
    "* `else`\n",
    "* `finally`\n",
    "\n",
    "Cuando se identifica una sección de código susceptible de errores, ésta puede ser delimitada con la expresión `try`. Cualquier excepción que ocurra dentro de esta sección de código podrá ser capturada y gestionada.\n",
    "\n",
    "La expresión `except` es la encargada de gestionar las excepciones que se capturan. Si se utiliza sin mayor información, ésta ejecutará el código que contiene para todas las excepciones que ocurran.\n",
    "\n",
    "En el ejemplo de la función `raizCuadrada()` podemos manejar las excepciones como sigue:"
   ]
  },
  {
   "cell_type": "code",
   "execution_count": 111,
   "metadata": {},
   "outputs": [],
   "source": [
    "def raizCuadrada(numero):\n",
    "    \"\"\"\n",
    "    Función que calcula la raíz cuadrada de un número.\n",
    "\n",
    "    Parameters\n",
    "    ----------\n",
    "    numero: int o float\n",
    "    Valor al que se le desea calcular la raíz cuadrada.\n",
    "    \n",
    "    \"\"\"\n",
    "    # Intenta realizar el cálculo que está dentro de try\n",
    "    try:\n",
    "        numero = float(numero)\n",
    "        print(f\"La raíz cuadrada del número {numero} es {numero**0.5}\")\n",
    "\n",
    "    # Si ocurre una excepción se captura en el except\n",
    "    except:\n",
    "        # No se hace nada con la excepción (por el momento)\n",
    "        pass\n",
    "\n",
    "    print('Gracias por usar Python!.')"
   ]
  },
  {
   "cell_type": "markdown",
   "metadata": {},
   "source": [
    "Usando la nueva versión de la función `raizCuadrada()` intentemos ejecutarla con los ejemplos anteriores:"
   ]
  },
  {
   "cell_type": "code",
   "execution_count": 112,
   "metadata": {},
   "outputs": [
    {
     "name": "stdout",
     "output_type": "stream",
     "text": [
      "La raíz cuadrada del número 1.0 es 1.0\n",
      "Gracias por usar Python!.\n"
     ]
    }
   ],
   "source": [
    "raizCuadrada(1)"
   ]
  },
  {
   "cell_type": "code",
   "execution_count": 113,
   "metadata": {},
   "outputs": [
    {
     "name": "stdout",
     "output_type": "stream",
     "text": [
      "La raíz cuadrada del número -1.0 es (6.123233995736766e-17+1j)\n",
      "Gracias por usar Python!.\n"
     ]
    }
   ],
   "source": [
    "raizCuadrada(-1)"
   ]
  },
  {
   "cell_type": "code",
   "execution_count": 114,
   "metadata": {},
   "outputs": [
    {
     "name": "stdout",
     "output_type": "stream",
     "text": [
      "Gracias por usar Python!.\n"
     ]
    }
   ],
   "source": [
    "raizCuadrada(1+1j)"
   ]
  },
  {
   "cell_type": "code",
   "execution_count": 115,
   "metadata": {},
   "outputs": [
    {
     "name": "stdout",
     "output_type": "stream",
     "text": [
      "Gracias por usar Python!.\n"
     ]
    }
   ],
   "source": [
    "raizCuadrada(\"hola\")"
   ]
  },
  {
   "cell_type": "markdown",
   "metadata": {},
   "source": [
    "Observa que ya no hay errores. Esto se debe a que la cláusula `except` captura todas las posible excepciones, pero no hace nada, y aún con argumentos erróneos, no se sabe que hubo un error."
   ]
  },
  {
   "cell_type": "markdown",
   "metadata": {},
   "source": [
    "### Gestión general de las excepciones\n",
    "\n",
    "Ya que sabemos como capturar las excepciones, veamos cómo pueden ser tratadas para dar retroalimentación al usuario."
   ]
  },
  {
   "cell_type": "code",
   "execution_count": 116,
   "metadata": {},
   "outputs": [],
   "source": [
    "def raizCuadrada(numero):\n",
    "    \"\"\"\n",
    "    Función que calcula la raíz cuadrada de un número.\n",
    "\n",
    "    Parameters\n",
    "    ----------\n",
    "    numero: int o float\n",
    "    Valor al que se le desea calcular la raíz cuadrada.\n",
    "    \n",
    "    \"\"\"\n",
    "    # Variable Booleana para manejar las excepciones.\n",
    "    ocurre_error = False\n",
    "    \n",
    "    # Intenta realizar el cálculo que está dentro de try    \n",
    "    try:\n",
    "        numero = float(numero)\n",
    "        print(\"La raíz cuadrada del número {} es {}\".format(numero, numero ** 0.5))\n",
    "\n",
    "    # Si ocurre una excepción se captura en el except\n",
    "    except:\n",
    "        ocurre_error = True\n",
    "\n",
    "    # Cuando ocurre un error se hace lo siguiente:\n",
    "    if ocurre_error:\n",
    "        print(\"Cuidado, hubo una falla en el programa, no se pudo realizar el cálculo\")\n",
    "    else:\n",
    "        print('Gracias por usar Python!.')"
   ]
  },
  {
   "cell_type": "code",
   "execution_count": 117,
   "metadata": {},
   "outputs": [
    {
     "name": "stdout",
     "output_type": "stream",
     "text": [
      "La raíz cuadrada del número 1.0 es 1.0\n",
      "Gracias por usar Python!.\n"
     ]
    }
   ],
   "source": [
    "raizCuadrada(1)"
   ]
  },
  {
   "cell_type": "code",
   "execution_count": 118,
   "metadata": {},
   "outputs": [
    {
     "name": "stdout",
     "output_type": "stream",
     "text": [
      "La raíz cuadrada del número -1.0 es (6.123233995736766e-17+1j)\n",
      "Gracias por usar Python!.\n"
     ]
    }
   ],
   "source": [
    "raizCuadrada(-1)"
   ]
  },
  {
   "cell_type": "code",
   "execution_count": 119,
   "metadata": {},
   "outputs": [
    {
     "name": "stdout",
     "output_type": "stream",
     "text": [
      "Cuidado, hubo una falla en el programa, no se pudo realizar el cálculo\n"
     ]
    }
   ],
   "source": [
    "raizCuadrada(1+1j)"
   ]
  },
  {
   "cell_type": "code",
   "execution_count": 120,
   "metadata": {},
   "outputs": [
    {
     "name": "stdout",
     "output_type": "stream",
     "text": [
      "Cuidado, hubo una falla en el programa, no se pudo realizar el cálculo\n"
     ]
    }
   ],
   "source": [
    "raizCuadrada(\"hola\")"
   ]
  },
  {
   "cell_type": "markdown",
   "metadata": {},
   "source": [
    "Observa que ahora se avisa al usuario que hubo un error al ejecutar la función por lo que el cálculo no se realizó. Sin embargo hace falta más información."
   ]
  },
  {
   "cell_type": "markdown",
   "metadata": {},
   "source": [
    "### Gestión de las excepciones por su tipo.\n",
    "\n",
    "La expresión `except` puede ser utilizada de forma tal que ejecute código dependiendo del tipo de error que ocurra. En este caso sabemos que pueden ocurrir dos tipos de errores: `TypeError` y `ValueError`.  Entonces la nueva versión de la función `raizCuadrada()` es como sigue:"
   ]
  },
  {
   "cell_type": "code",
   "execution_count": 121,
   "metadata": {},
   "outputs": [],
   "source": [
    "def raizCuadrada(numero):\n",
    "    \"\"\"\n",
    "    Función que calcula la raíz cuadrada de un número.\n",
    "\n",
    "    Parameters\n",
    "    ----------\n",
    "    numero: int o float\n",
    "    Valor al que se le desea calcular la raíz cuadrada.\n",
    "    \n",
    "    \"\"\"\n",
    "    # Variable Booleana para manejar las excepciones.\n",
    "    ocurre_error = False\n",
    "    \n",
    "    # Intenta realizar el cálculo que está dentro de try\n",
    "    try:\n",
    "        numero = float(numero)\n",
    "        print(\"La raíz cuadrada del número {} es {}\".format(numero, numero ** 0.5))\n",
    "\n",
    "    # En esta sección se trata la excepción de tipo TypeError\n",
    "    except TypeError:\n",
    "        ocurre_error = True\n",
    "        print(\"Ocurrió un error de tipo: TypeError, verifique que los tipos sean compatibles.\")\n",
    "\n",
    "    # En esta sección se trata la excepción de tipo ValueError\n",
    "    except ValueError as detalles:\n",
    "        ocurre_error = True\n",
    "        print(\"Ocurrió un error de tipo ValueError, verifique el contenido de los argumentos.\")\n",
    "\n",
    "    # En esta sección se tratan todas las otras posible excepciones\n",
    "    except:\n",
    "        ocurre_error = True\n",
    "        print(\"Ocurrió algo misterioso\")\n",
    "        \n",
    "    # Cuando ocurre un error se hace lo siguiente:\n",
    "    if ocurre_error:\n",
    "        print(\"Hubo una falla en el programa, no se pudo realizar el cálculo\")\n",
    "    else:\n",
    "        print('Gracias por usar Python!.')"
   ]
  },
  {
   "cell_type": "code",
   "execution_count": 122,
   "metadata": {},
   "outputs": [
    {
     "name": "stdout",
     "output_type": "stream",
     "text": [
      "La raíz cuadrada del número 1.0 es 1.0\n",
      "Gracias por usar Python!.\n"
     ]
    }
   ],
   "source": [
    "raizCuadrada(1)"
   ]
  },
  {
   "cell_type": "code",
   "execution_count": 123,
   "metadata": {},
   "outputs": [
    {
     "name": "stdout",
     "output_type": "stream",
     "text": [
      "La raíz cuadrada del número -1.0 es (6.123233995736766e-17+1j)\n",
      "Gracias por usar Python!.\n"
     ]
    }
   ],
   "source": [
    "raizCuadrada(-1)"
   ]
  },
  {
   "cell_type": "code",
   "execution_count": 124,
   "metadata": {},
   "outputs": [
    {
     "name": "stdout",
     "output_type": "stream",
     "text": [
      "Ocurrió un error de tipo: TypeError, verifique que los tipos sean compatibles.\n",
      "Hubo una falla en el programa, no se pudo realizar el cálculo\n"
     ]
    }
   ],
   "source": [
    "raizCuadrada(1+4j)"
   ]
  },
  {
   "cell_type": "code",
   "execution_count": 125,
   "metadata": {},
   "outputs": [
    {
     "name": "stdout",
     "output_type": "stream",
     "text": [
      "Ocurrió un error de tipo ValueError, verifique el contenido de los argumentos.\n",
      "Hubo una falla en el programa, no se pudo realizar el cálculo\n"
     ]
    }
   ],
   "source": [
    "raizCuadrada(\"hola\")"
   ]
  },
  {
   "cell_type": "markdown",
   "metadata": {},
   "source": [
    "Observa que ya se da mayor información sobre el tipo de error que ocurrió y el usuario puede saber que hacer como corregir los errores.\n",
    "\n",
    "Todos los tipos de errores que existen en Python se pueden consulta en <a href=\"https://docs.python.org/3/library/exceptions.html#concrete-exceptions\"> Concrete exceptions </a>."
   ]
  },
  {
   "cell_type": "markdown",
   "metadata": {},
   "source": [
    "### Información del error\n",
    "\n",
    "Se puede capturar toda la información del error para pasarla al usuario. Esto se hace como sigue:"
   ]
  },
  {
   "cell_type": "code",
   "execution_count": 137,
   "metadata": {},
   "outputs": [],
   "source": [
    "def raizCuadrada(numero): \n",
    "    \"\"\"\n",
    "    Función que calcula la raíz cuadrada de un número.\n",
    "\n",
    "    Parameters\n",
    "    ----------\n",
    "    numero: int o float\n",
    "    Valor al que se le desea calcular la raíz cuadrada.\n",
    "    \n",
    "    \"\"\"\n",
    "    # Variable Booleana para manejar las excepciones.\n",
    "    ocurre_error = False\n",
    "    \n",
    "    # Intenta realizar el cálculo que está dentro de try\n",
    "    try:\n",
    "        numero = float(numero)\n",
    "        print(\"La raíz cuadrada del número {} es {}\".format(numero, numero ** 0.5))\n",
    "\n",
    "    # En esta sección se trata la excepción de tipo TypeError y se obtienen los detalles  \n",
    "    except TypeError as info:\n",
    "        ocurre_error = True\n",
    "        print(\"Ocurrió un error (TypeError):\", info)\n",
    "\n",
    "    # En esta sección se trata la excepción de tipo ValueError y se obtienen los detalles  \n",
    "    except ValueError as info:\n",
    "        ocurre_error = True\n",
    "        print(\"Ocurrió un error (ValueError):\", info)\n",
    "\n",
    "    # En esta sección se tratan todas las otras posible excepciones\n",
    "    except:\n",
    "        ocurre_error = True\n",
    "        print(\"Ocurrió algo misterioso\")\n",
    "\n",
    "    # Cuando ocurre un error se hace lo siguiente:\n",
    "    if ocurre_error:\n",
    "        print(\"Hubo una falla en el programa, no se pudo realizar el cálculo\")\n",
    "    else:\n",
    "        print('Gracias por usar Python!.')"
   ]
  },
  {
   "cell_type": "code",
   "execution_count": 138,
   "metadata": {},
   "outputs": [
    {
     "name": "stdout",
     "output_type": "stream",
     "text": [
      "La raíz cuadrada del número 1.0 es 1.0\n",
      "Gracias por usar Python!.\n"
     ]
    }
   ],
   "source": [
    "raizCuadrada(1)"
   ]
  },
  {
   "cell_type": "code",
   "execution_count": 139,
   "metadata": {},
   "outputs": [
    {
     "name": "stdout",
     "output_type": "stream",
     "text": [
      "La raíz cuadrada del número -1.0 es (6.123233995736766e-17+1j)\n",
      "Gracias por usar Python!.\n"
     ]
    }
   ],
   "source": [
    "raizCuadrada(-1)"
   ]
  },
  {
   "cell_type": "code",
   "execution_count": 129,
   "metadata": {},
   "outputs": [
    {
     "name": "stdout",
     "output_type": "stream",
     "text": [
      "Ocurrió un error (TypeError): float() argument must be a string or a real number, not 'complex'\n",
      "Hubo una falla en el programa, no se pudo realizar el cálculo\n"
     ]
    }
   ],
   "source": [
    "raizCuadrada(1+4j)"
   ]
  },
  {
   "cell_type": "code",
   "execution_count": 130,
   "metadata": {},
   "outputs": [
    {
     "name": "stdout",
     "output_type": "stream",
     "text": [
      "Ocurrió un error (ValueError): could not convert string to float: 'hola'\n",
      "Hubo una falla en el programa, no se pudo realizar el cálculo\n"
     ]
    }
   ],
   "source": [
    "raizCuadrada(\"hola\")"
   ]
  },
  {
   "cell_type": "markdown",
   "metadata": {},
   "source": [
    "Observa que ahora además de conocer el tipo de error, también se muestra toda la información del error para que el usuario tome las acciones pertinentes."
   ]
  },
  {
   "cell_type": "markdown",
   "metadata": {},
   "source": [
    "### `finally`\n",
    "\n",
    "Esta sección se ejecuta siempre, sin importar si hubo una excepción o no."
   ]
  },
  {
   "cell_type": "code",
   "execution_count": 146,
   "metadata": {},
   "outputs": [],
   "source": [
    "def raizCuadrada(numero):\n",
    "    \"\"\"\n",
    "    Función que calcula la raíz cuadrada de un número.\n",
    "\n",
    "    Parameters\n",
    "    ----------\n",
    "    numero: int o float\n",
    "    Valor al que se le desea calcular la raíz cuadrada.\n",
    "    \n",
    "    \"\"\"\n",
    "    # Variable Booleana para manejar las excepciones.\n",
    "    ocurre_error = False\n",
    "    \n",
    "    # Intenta realizar el cálculo que está dentro de try\n",
    "    try:\n",
    "        numero = float(numero)\n",
    "        print(\"La raíz cuadrada del número {} es {}\".format(numero, numero ** 0.5))\n",
    "\n",
    "    # En esta sección se trata la excepción de tipo TypeError y se obtienen los detalles  \n",
    "    except TypeError as info:\n",
    "        ocurre_error = True\n",
    "        print(\"Ocurrió un error (TypeError):\", info)\n",
    "\n",
    "    # En esta sección se trata la excepción de tipo ValueError y se obtienen los detalles  \n",
    "    except ValueError as info:\n",
    "        ocurre_error = True\n",
    "        print(\"Ocurrió un error (ValueError):\", info)\n",
    "\n",
    "    # En esta sección se tratan todas las otras posible excepciones\n",
    "    except:\n",
    "        ocurre_error = True\n",
    "        print(\"Ocurrió algo misterioso\")\n",
    "\n",
    "    # Cuando ocurre un error se hace lo siguiente:\n",
    "    finally:\n",
    "        if ocurre_error:\n",
    "            print(\"Hubo una falla en el programa, no se pudo realizar el cálculo\")\n",
    "        else:\n",
    "            print('Gracias por usar Python!.')"
   ]
  },
  {
   "cell_type": "code",
   "execution_count": 147,
   "metadata": {},
   "outputs": [
    {
     "name": "stdout",
     "output_type": "stream",
     "text": [
      "La raíz cuadrada del número 1.0 es 1.0\n",
      "Gracias por usar Python!.\n"
     ]
    }
   ],
   "source": [
    "raizCuadrada(1)"
   ]
  },
  {
   "cell_type": "code",
   "execution_count": 148,
   "metadata": {},
   "outputs": [
    {
     "name": "stdout",
     "output_type": "stream",
     "text": [
      "La raíz cuadrada del número -1.0 es (6.123233995736766e-17+1j)\n",
      "Gracias por usar Python!.\n"
     ]
    }
   ],
   "source": [
    "raizCuadrada(-1)"
   ]
  },
  {
   "cell_type": "code",
   "execution_count": 149,
   "metadata": {},
   "outputs": [
    {
     "name": "stdout",
     "output_type": "stream",
     "text": [
      "Ocurrió un error (TypeError): float() argument must be a string or a real number, not 'complex'\n",
      "Hubo una falla en el programa, no se pudo realizar el cálculo\n"
     ]
    }
   ],
   "source": [
    "raizCuadrada(1+4j)"
   ]
  },
  {
   "cell_type": "code",
   "execution_count": 150,
   "metadata": {},
   "outputs": [
    {
     "name": "stdout",
     "output_type": "stream",
     "text": [
      "Ocurrió un error (ValueError): could not convert string to float: 'hola'\n",
      "Hubo una falla en el programa, no se pudo realizar el cálculo\n"
     ]
    }
   ],
   "source": [
    "raizCuadrada(\"hola\")"
   ]
  },
  {
   "cell_type": "markdown",
   "metadata": {},
   "source": [
    "### Lanzar excepciones controladas.\n",
    "\n",
    "Es posible presentar toda la información que genera la excepción y agregarle notas para el usuario. Para agregar notas usamos le método `add_note()` y para lanzar la excepción una vez controlada usamos `raise`. La siguiente versión de la función `raizCuadrada()` tiene al final una cláusula `else`, la cual se ejecuta cuando no ocurre ninguna excepción. En este caso, dentro del `try` realizamo el cálculo de la raíz cuadrada y en el `else` hacemos la impresión del resultado."
   ]
  },
  {
   "cell_type": "code",
   "execution_count": 197,
   "metadata": {},
   "outputs": [],
   "source": [
    "def raizCuadrada(numero):\n",
    "    \"\"\"\n",
    "    Función que calcula la raíz cuadrada de un número.\n",
    "\n",
    "    Parameters\n",
    "    ----------\n",
    "    numero: int o float\n",
    "    Valor al que se le desea calcular la raíz cuadrada.\n",
    "    \n",
    "    \"\"\"\n",
    "    \n",
    "    # Intenta realizar el cálculo que está dentro de try\n",
    "    try:\n",
    "        numero_cuadrado = float(numero) ** 0.5\n",
    "\n",
    "    # En esta sección se trata la excepción de tipo TypeError y se obtienen los detalles  \n",
    "    except TypeError as info:\n",
    "        info.add_note(\"\\n\" + \"-\"*20)\n",
    "        info.add_note(f\"raizCuadrada{numero}: Para calcular una raíz cuadrada, el argumento 'numero' debe ser compatible con un int o un float\")\n",
    "        info.add_note(\"-\"*20)\n",
    "        raise # Lanzamos la excepción con toda la información\n",
    "\n",
    "    # En esta sección se trata la excepción de tipo ValueError y se obtienen los detalles  \n",
    "    except ValueError as info:\n",
    "        info.add_note(\"\\n\" + \"-\"*20)\n",
    "        info.add_note(f\"raizCuadrada('{numero}'): Para calcular una raíz cuadrada, el valor del argumento 'numero' debe ser compatible con un int o un float\")\n",
    "        info.add_note(\"-\"*20)\n",
    "        raise # Lanzamos la excepción con toda la información\n",
    "        \n",
    "    # En esta sección se tratan todas las otras posible excepciones\n",
    "    except:\n",
    "        print(\"Ocurrió algo misterioso\")\n",
    "\n",
    "    else:\n",
    "        print(\"La raíz cuadrada del número {} es {}\".format(numero, numero_cuadrado))\n"
   ]
  },
  {
   "cell_type": "code",
   "execution_count": 198,
   "metadata": {},
   "outputs": [
    {
     "name": "stdout",
     "output_type": "stream",
     "text": [
      "La raíz cuadrada del número 1 es 1.0\n"
     ]
    }
   ],
   "source": [
    "raizCuadrada(1)"
   ]
  },
  {
   "cell_type": "code",
   "execution_count": 199,
   "metadata": {},
   "outputs": [
    {
     "name": "stdout",
     "output_type": "stream",
     "text": [
      "La raíz cuadrada del número -1 es (6.123233995736766e-17+1j)\n"
     ]
    }
   ],
   "source": [
    "raizCuadrada(-1)"
   ]
  },
  {
   "cell_type": "code",
   "execution_count": 200,
   "metadata": {},
   "outputs": [
    {
     "ename": "TypeError",
     "evalue": "float() argument must be a string or a real number, not 'complex'",
     "output_type": "error",
     "traceback": [
      "\u001b[0;31m---------------------------------------------------------------------------\u001b[0m",
      "\u001b[0;31mTypeError\u001b[0m                                 Traceback (most recent call last)",
      "Cell \u001b[0;32mIn[200], line 1\u001b[0m\n\u001b[0;32m----> 1\u001b[0m \u001b[43mraizCuadrada\u001b[49m\u001b[43m(\u001b[49m\u001b[38;5;241;43m1\u001b[39;49m\u001b[38;5;241;43m+\u001b[39;49m\u001b[38;5;241;43m4\u001b[39;49m\u001b[43mj\u001b[49m\u001b[43m)\u001b[49m\n",
      "Cell \u001b[0;32mIn[197], line 14\u001b[0m, in \u001b[0;36mraizCuadrada\u001b[0;34m(numero)\u001b[0m\n\u001b[1;32m     12\u001b[0m \u001b[38;5;66;03m# Intenta realizar el cálculo que está dentro de try\u001b[39;00m\n\u001b[1;32m     13\u001b[0m \u001b[38;5;28;01mtry\u001b[39;00m:\n\u001b[0;32m---> 14\u001b[0m     numero_cuadrado \u001b[38;5;241m=\u001b[39m \u001b[38;5;28;43mfloat\u001b[39;49m\u001b[43m(\u001b[49m\u001b[43mnumero\u001b[49m\u001b[43m)\u001b[49m \u001b[38;5;241m*\u001b[39m\u001b[38;5;241m*\u001b[39m \u001b[38;5;241m0.5\u001b[39m\n\u001b[1;32m     16\u001b[0m \u001b[38;5;66;03m# En esta sección se trata la excepción de tipo TypeError y se obtienen los detalles  \u001b[39;00m\n\u001b[1;32m     17\u001b[0m \u001b[38;5;28;01mexcept\u001b[39;00m \u001b[38;5;167;01mTypeError\u001b[39;00m \u001b[38;5;28;01mas\u001b[39;00m info:\n",
      "\u001b[0;31mTypeError\u001b[0m: float() argument must be a string or a real number, not 'complex'",
      "\u001b[0m\n--------------------",
      "\u001b[0mraizCuadrada(1+4j): Para calcular una raíz cuadrada, el argumento 'numero' debe ser compatible con un int o un float",
      "\u001b[0m--------------------"
     ]
    }
   ],
   "source": [
    "raizCuadrada(1+4j)"
   ]
  },
  {
   "cell_type": "code",
   "execution_count": 201,
   "metadata": {},
   "outputs": [
    {
     "ename": "ValueError",
     "evalue": "could not convert string to float: 'hola'",
     "output_type": "error",
     "traceback": [
      "\u001b[0;31m---------------------------------------------------------------------------\u001b[0m",
      "\u001b[0;31mValueError\u001b[0m                                Traceback (most recent call last)",
      "Cell \u001b[0;32mIn[201], line 1\u001b[0m\n\u001b[0;32m----> 1\u001b[0m \u001b[43mraizCuadrada\u001b[49m\u001b[43m(\u001b[49m\u001b[38;5;124;43m\"\u001b[39;49m\u001b[38;5;124;43mhola\u001b[39;49m\u001b[38;5;124;43m\"\u001b[39;49m\u001b[43m)\u001b[49m\n",
      "Cell \u001b[0;32mIn[197], line 14\u001b[0m, in \u001b[0;36mraizCuadrada\u001b[0;34m(numero)\u001b[0m\n\u001b[1;32m     12\u001b[0m \u001b[38;5;66;03m# Intenta realizar el cálculo que está dentro de try\u001b[39;00m\n\u001b[1;32m     13\u001b[0m \u001b[38;5;28;01mtry\u001b[39;00m:\n\u001b[0;32m---> 14\u001b[0m     numero_cuadrado \u001b[38;5;241m=\u001b[39m \u001b[38;5;28;43mfloat\u001b[39;49m\u001b[43m(\u001b[49m\u001b[43mnumero\u001b[49m\u001b[43m)\u001b[49m \u001b[38;5;241m*\u001b[39m\u001b[38;5;241m*\u001b[39m \u001b[38;5;241m0.5\u001b[39m\n\u001b[1;32m     16\u001b[0m \u001b[38;5;66;03m# En esta sección se trata la excepción de tipo TypeError y se obtienen los detalles  \u001b[39;00m\n\u001b[1;32m     17\u001b[0m \u001b[38;5;28;01mexcept\u001b[39;00m \u001b[38;5;167;01mTypeError\u001b[39;00m \u001b[38;5;28;01mas\u001b[39;00m info:\n",
      "\u001b[0;31mValueError\u001b[0m: could not convert string to float: 'hola'",
      "\u001b[0m\n--------------------",
      "\u001b[0mraizCuadrada('hola'): Para calcular una raíz cuadrada, el valor del argumento 'numero' debe ser compatible con un int o un float",
      "\u001b[0m--------------------"
     ]
    }
   ],
   "source": [
    "raizCuadrada(\"hola\")"
   ]
  },
  {
   "cell_type": "code",
   "execution_count": null,
   "metadata": {},
   "outputs": [],
   "source": []
  }
 ],
 "metadata": {
  "anaconda-cloud": {},
  "kernelspec": {
   "display_name": "Python 3 (ipykernel)",
   "language": "python",
   "name": "python3"
  },
  "language_info": {
   "codemirror_mode": {
    "name": "ipython",
    "version": 3
   },
   "file_extension": ".py",
   "mimetype": "text/x-python",
   "name": "python",
   "nbconvert_exporter": "python",
   "pygments_lexer": "ipython3",
   "version": "3.11.6"
  }
 },
 "nbformat": 4,
 "nbformat_minor": 4
}
