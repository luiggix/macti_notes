{
 "cells": [
  {
   "cell_type": "markdown",
   "metadata": {
    "deletable": false,
    "editable": false,
    "nbgrader": {
     "cell_type": "markdown",
     "checksum": "f6495190730c9fa043e688e34620e8ff",
     "grade": false,
     "grade_id": "cell-f2cca333827bccb8",
     "locked": true,
     "schema_version": 3,
     "solution": false,
     "task": false
    }
   },
   "source": [
    "# Matplotlib: las bases\n",
    "\n",
    "Tomado de <a href=\"https://github.com/luiggix/Python_cero_a_experto\">Python de cero a experto</a> by Luis M. de la Cruz Salas is licensed under <a href=\"https://creativecommons.org/licenses/by-nc-nd/4.0?ref=chooser-v1\">Attribution-NonCommercial-NoDerivatives 4.0 International</a>\n",
    "\n",
    "**Objetivo general**\n",
    "- Practicar el uso de las herramientas de Matplotlib para generar gráficos.\n",
    "\n",
    "**Objetivos particulares**\n",
    "- Realizar gráficas de funciones 1D.\n",
    "- Realizar gráficas de funciones 2D.\n",
    "- Realizar gráficas de funciones 3D.\n",
    "\n",
    "## Contenido\n",
    "- [1 - Introducción.](#1)\n",
    "    - [1.1 - Figuras y ejes.](#1-1)\n",
    "- [2 - Función `plot()`.](#2)\n",
    "    - [Ejercicio 1 - Gráfica de $f(x) = \\cos(x)$.](#ej-1)\n",
    "- [3 - Decoración de la gráfica](#3)\n",
    "    - [Ejercicio 2 - Replicar una figura](#ej-2)\n",
    "- [4 - Función `scatter()`.](#4)\n",
    "- [5 - Funciones `contour()` y `contourf()`.](#5)\n",
    "- [6 - Histogramas `hist()`.](#6)\n",
    "- [7 - Histogramas bidimensionales `hist2d()`](#7)\n",
    "- [8 - Gráficos 3D](#8)"
   ]
  },
  {
   "cell_type": "markdown",
   "metadata": {
    "deletable": false,
    "editable": false,
    "nbgrader": {
     "cell_type": "markdown",
     "checksum": "af46473d50db472863b9af7b290f9805",
     "grade": false,
     "grade_id": "cell-435041b901dcd413",
     "locked": true,
     "schema_version": 3,
     "solution": false,
     "task": false
    }
   },
   "source": [
    "<a name='1'></a>\n",
    "## Introducción\n",
    "Matplotlib es una biblioteca de basada Python multiplataforma para generar gráficos (plots) en dos dimensiones con las siguientes características: \n",
    "* Se puede usar en una variedad de ámbitos:\n",
    "    - Scripts de Python, Shells de IPython, Notebooks de Jupyter, Aplicaciones para Web e Interfaces Gráficas de Usuario (GUI). \n",
    "* Se puede usar para desarrollar aplicaciones profesionales.\n",
    "* Puede generar varios tipos de formatos de figuras y videos:\n",
    "    - png, jpg, svg, pdf, mp4, ...\n",
    "* Tiene un soporte limitado para realizar figuras en 3D.\n",
    "* Puede combinarse con otras bibliotecas y aplicaciones para extender su funcionalidad.\n",
    "\n",
    "**Arquitectura** de tres capas:\n",
    "* **Scripting**: API para crear gráficas.\n",
    "    - Provee de una interfaz simple para crear gráficas.\n",
    "    - Está orientada a usuarios sin mucha experiencia en la programación.\n",
    "    - Es lo que se conoce como el API de pyplot.\n",
    "* **Artist**: Hace el trabajo interno de creación de los elementos de la gráfica.\n",
    "   - Los Artist (artesanos?) dibujan los elementos de la gráfica.\n",
    "   - Cada elemento que se ve en la gráfica es un Artist.\n",
    "   - Provee de un API orientado a objetos muy flexible.\n",
    "   - Está orientado a programadores expertos para crear aplicaciones complejas.\n",
    "* **Backend**: El lugar donde se despliega la gráfica. Las gráficas se envían a un dispositivo de salida. Puede ser cualquier interfaz que soporta Matplotlib:\n",
    "   - User interface backends (interactive backends): pygtk, wxpython, tkinter, qt4, macosx, … \n",
    "   - Hard-copy backends (non-interactive backends): .png, .svg, .pdf, .ps\n",
    "\n",
    "<img src=\"../utils/figs/anatomy_001.png\" style=\"width: 400px;\"/>"
   ]
  },
  {
   "cell_type": "markdown",
   "metadata": {
    "deletable": false,
    "editable": false,
    "nbgrader": {
     "cell_type": "markdown",
     "checksum": "238fc4ee1cef43f4464a6b160506ca6f",
     "grade": false,
     "grade_id": "cell-ca8b4265b304172f",
     "locked": true,
     "schema_version": 3,
     "solution": false,
     "task": false
    }
   },
   "source": [
    "<a name='1-1'></a>\n",
    "### Figuras y ejes"
   ]
  },
  {
   "cell_type": "code",
   "execution_count": null,
   "metadata": {
    "deletable": false,
    "editable": false,
    "nbgrader": {
     "cell_type": "code",
     "checksum": "e8662cd194ffdf8809faf2e0c31e9843",
     "grade": false,
     "grade_id": "cell-5ff812bbb257642b",
     "locked": true,
     "schema_version": 3,
     "solution": false,
     "task": false
    }
   },
   "outputs": [],
   "source": [
    "import numpy as np\n",
    "import matplotlib.pyplot as plt"
   ]
  },
  {
   "cell_type": "code",
   "execution_count": null,
   "metadata": {
    "deletable": false,
    "editable": false,
    "nbgrader": {
     "cell_type": "code",
     "checksum": "7eead4a5be39091627c02b94188c1329",
     "grade": false,
     "grade_id": "cell-7bb0b26603ecbcd0",
     "locked": true,
     "schema_version": 3,
     "solution": false,
     "task": false
    }
   },
   "outputs": [],
   "source": [
    "# Creamos un objeto de tipo figure\n",
    "fig = plt.figure()"
   ]
  },
  {
   "cell_type": "code",
   "execution_count": null,
   "metadata": {
    "deletable": false,
    "editable": false,
    "nbgrader": {
     "cell_type": "code",
     "checksum": "042c5d3a39d0ed41891e5eb285334a13",
     "grade": false,
     "grade_id": "cell-2eb3540e4ec3aa33",
     "locked": true,
     "schema_version": 3,
     "solution": false,
     "task": false
    }
   },
   "outputs": [],
   "source": [
    "# Creamos unos ejes\n",
    "ax = plt.axes()"
   ]
  },
  {
   "cell_type": "code",
   "execution_count": null,
   "metadata": {
    "deletable": false,
    "editable": false,
    "nbgrader": {
     "cell_type": "code",
     "checksum": "033acc7c9fa9c85d40e9cd20a5c1cf64",
     "grade": false,
     "grade_id": "cell-f938a3e6403fdd11",
     "locked": true,
     "schema_version": 3,
     "solution": false,
     "task": false
    }
   },
   "outputs": [],
   "source": [
    "# Definir un tamaño para la figura\n",
    "fig = plt.figure(figsize=(6.0, 4.0))\n",
    "ax = plt.axes()"
   ]
  },
  {
   "cell_type": "markdown",
   "metadata": {
    "deletable": false,
    "editable": false,
    "nbgrader": {
     "cell_type": "markdown",
     "checksum": "46a90943950a112230556bf37117b13d",
     "grade": false,
     "grade_id": "cell-b2eae526ccb0c786",
     "locked": true,
     "schema_version": 3,
     "solution": false,
     "task": false
    }
   },
   "source": [
    "<a name='2'></a>\n",
    "## Función `plot()`\n",
    "\n",
    "Grafica un arreglo de coordenadas en 2D usando líneas y/o marcadores."
   ]
  },
  {
   "cell_type": "markdown",
   "metadata": {
    "deletable": false,
    "editable": false,
    "nbgrader": {
     "cell_type": "markdown",
     "checksum": "02801b32988a192f020029e75e3868ca",
     "grade": false,
     "grade_id": "cell-bd161aa1717e90e5",
     "locked": true,
     "schema_version": 3,
     "solution": false,
     "task": false
    }
   },
   "source": [
    "---\n",
    "<a name='ej-1'></a>\n",
    "#### **<font color=\"DodgerBlue\">Ejercicio 1 - Gráfica de $f(x) = \\cos(x)$.</font>**\n",
    "\n",
    "<font color=\"DarkBlue\">Realice la gráfica de la función $f(x) = \\cos(x)$ usando `plt.plot()`. Para ello copie el siguiente código en la celda siguiente y ejecútelo.\n",
    "\n",
    "---\n",
    "\n",
    "```python\n",
    "# Datos\n",
    "L = ...\n",
    "A = ...\n",
    "ω = ...\n",
    "\n",
    "# Arreglos de coordenadas\n",
    "x = np.linspace(0, L, 100)\n",
    "y = A * np.cos(ω * x)\n",
    "\n",
    "# Graficación\n",
    "fig = plt.figure(figsize=(4.0, 2.5))\n",
    "plt.plot(x, y)\n",
    "plt.show()\n",
    "```\n",
    "    \n",
    "---\n",
    "\n",
    "Usted debe elegir un valor para: </font>\n",
    "\n",
    "* El estilo (diferente al `default`): `estilo = ' ... '`\n",
    "* Longitud en el eje $x$ : `L = ...`\n",
    "* Amplitud de la oscilación $A$: `A = ...`\n",
    "* Frecuenta de oscilación $\\omega$: `ω = ...`\n",
    "---"
   ]
  },
  {
   "cell_type": "code",
   "execution_count": null,
   "metadata": {
    "deletable": false,
    "nbgrader": {
     "cell_type": "code",
     "checksum": "d18d06091784dd6e200d98499b0d64f8",
     "grade": false,
     "grade_id": "cell-6df1d30027fd86f0",
     "locked": false,
     "schema_version": 3,
     "solution": true,
     "task": false
    }
   },
   "outputs": [],
   "source": [
    "# Datos\n",
    "\n",
    "# Arreglos de coordenadas\n",
    "\n",
    "# Graficación\n",
    "\n",
    "# YOUR CODE HERE\n",
    "raise NotImplementedError()"
   ]
  },
  {
   "cell_type": "markdown",
   "metadata": {
    "deletable": false,
    "editable": false,
    "nbgrader": {
     "cell_type": "markdown",
     "checksum": "0864fadaa2a1f09d04758c16331b10d0",
     "grade": false,
     "grade_id": "cell-22ab77f91998eac8",
     "locked": true,
     "schema_version": 3,
     "solution": false,
     "task": false
    }
   },
   "source": [
    "<a name='3'></a>\n",
    "## Decoración de la gráfica\n",
    "\n",
    "**Colores**<br>\n",
    "Matplotlib ofrece diferentes colores. Una lista de ellos <a href=\"https://matplotlib.org/stable/gallery/color/named_colors.html\"> aquí</a>. Ejemplos de uso de colores <a href=\"Matplotlib_ejemplos.ipynb#1\">aquí</a>\n",
    "\n",
    "**Tipos de líneas**<br>\n",
    "Matplotlib ofrece diferentes tipos de líneas. Una lista de ellos <a href=\"https://matplotlib.org/stable/gallery/lines_bars_and_markers/linestyles.html\"> aquí</a>. Ejemplos de uso de colores <a href=\"Matplotlib_ejemplos.ipynb#2\">aquí</a>\n",
    "\n",
    "**Marcadores**<br>\n",
    "Matplotlib ofrece diferentes tipos de marcadores. Una lista de ellos <a href=\"https://matplotlib.org/stable/gallery/lines_bars_and_markers/marker_reference.html\"> aquí</a>. Ejemplos de uso de colores <a href=\"Matplotlib_ejemplos.ipynb#3\">aquí</a>\n",
    "\n",
    "**Texto en las gráficas**<br>\n",
    "Se puede agregar texto usando la función `text()`. Mas información <a href=\"https://matplotlib.org/stable/tutorials/text/text_intro.html\">aquí</a>. Un ejemplo se puede ver <a href=\"Matplotlib_ejemplos.ipynb#4\">aquí</a>.\n",
    "\n",
    "**Anotaciones sobre las gráficas**<br>\n",
    "Se puede hacer referencia a ciertos puntos sobre la gráfica con `anotate()`. Mas información <a href=\"https://matplotlib.org/stable/tutorials/text/annotations.html\">aquí</a>. Un ejemplo se puede ver <a href=\"Matplotlib_ejemplos.ipynb#5\">aquí</a>.\n",
    "\n",
    "**Leyendas**<br>\n",
    "Cuando se tienen varias gráficas se puede identificar cada una con una leyenda. Más información <a href=\"https://matplotlib.org/stable/api/_as_gen/matplotlib.pyplot.legend.html\">aquí</a>. Ejemplos de uso de leyendas <a href=\"Matplotlib_ejemplos.ipynb#6\">aquí</a>.\n",
    "\n",
    "**Estilos**<br>\n",
    "Matplotlib ofrece varios estilos de gráficos. Una lista de ellos <a href=\"https://matplotlib.org/3.1.0/gallery/style_sheets/style_sheets_reference.html\"> aquí</a>. Veamos un ejemplo:"
   ]
  },
  {
   "cell_type": "code",
   "execution_count": null,
   "metadata": {
    "deletable": false,
    "editable": false,
    "nbgrader": {
     "cell_type": "code",
     "checksum": "c02ffb26f00a3cfea201673fed2a627e",
     "grade": false,
     "grade_id": "cell-60ecc83ca4f861d0",
     "locked": true,
     "schema_version": 3,
     "solution": false,
     "task": false
    }
   },
   "outputs": [],
   "source": [
    "# Obtener la lista de estilos\n",
    "plt.style.available # 'default'"
   ]
  },
  {
   "cell_type": "code",
   "execution_count": null,
   "metadata": {},
   "outputs": [],
   "source": [
    "with plt.style.context('bmh'):\n",
    "    # Datos\n",
    "    L = 3.141592\n",
    "    A = 10.0\n",
    "    ω = 3\n",
    "\n",
    "    # Arreglos de coordenadas\n",
    "    x = np.linspace(0, L, 100)\n",
    "    y = A * np.cos(ω * x)\n",
    "\n",
    "    # Graficación\n",
    "    fig = plt.figure(figsize=(4.0, 2.5))\n",
    "    plt.plot(x, y)\n",
    "    plt.show()\n",
    "    \n",
    "# plt.style.use('default')"
   ]
  },
  {
   "cell_type": "markdown",
   "metadata": {},
   "source": [
    "---\n",
    "<a name='ej-2'></a>\n",
    "#### **<font color=\"DodgerBlue\">Ejercicio 2 - Replicar una figura</font>**\n",
    "\n",
    "<font color=\"DarkBlue\">Intente replicar la siguiente figura:\n",
    "    \n",
    "<img src='../utils/figs/sin_cos.png' width=500>\n",
    "\n",
    "---"
   ]
  },
  {
   "cell_type": "code",
   "execution_count": null,
   "metadata": {
    "deletable": false,
    "nbgrader": {
     "cell_type": "code",
     "checksum": "5c57646545bd7adef3955338a3219808",
     "grade": false,
     "grade_id": "cell-7b2abb753ae961a2",
     "locked": false,
     "schema_version": 3,
     "solution": true,
     "task": false
    }
   },
   "outputs": [],
   "source": [
    "# YOUR CODE HERE\n",
    "raise NotImplementedError()\n",
    "# Datos\n",
    "\n",
    "# Arreglos de coordenadas\n",
    "\n",
    "# Graficación\n"
   ]
  },
  {
   "cell_type": "markdown",
   "metadata": {
    "deletable": false,
    "editable": false,
    "nbgrader": {
     "cell_type": "markdown",
     "checksum": "55d4b59fd08534200224ff4758c2743c",
     "grade": false,
     "grade_id": "cell-ce8b43bbcab2ac24",
     "locked": true,
     "schema_version": 3,
     "solution": false,
     "task": false
    }
   },
   "source": [
    "<a name='4'></a>\n",
    "## Función `scatter()`\n",
    "\n",
    "Esta función es similar a `plot()` pero solo grafica marcadores. Veamos el siguiente ejemplo."
   ]
  },
  {
   "cell_type": "code",
   "execution_count": null,
   "metadata": {},
   "outputs": [],
   "source": [
    "fig = plt.figure(figsize=(10,5))\n",
    "N = 100\n",
    "xr = np.random.rand(N)  # Coordenada x\n",
    "yr = np.random.rand(N)  # Coordenada y\n",
    "c = np.random.rand(N)   # Colores\n",
    "s = 1000 * np.random.rand(N) # Tamaño de marcador\n",
    "\n",
    "# Graficación de los puntos\n",
    "plt.scatter(xr, yr, \n",
    "            c=c,       # Colores\n",
    "            s = s,     # Tamaño del marcador \n",
    "            ec='k',    # Color del borde\n",
    "            alpha=0.5, # Transparencia\n",
    "            cmap='coolwarm') # Mapa de color\n",
    "\n",
    "# Intente agrega el parámetro: marker='$\\clubsuit$' en la función anterior\n",
    "\n",
    "# Barra de colores\n",
    "plt.colorbar(label='Etiqueta')\n",
    "plt.xlim(-0.1,1.1)\n",
    "plt.ylim(-0.1,1.1)\n",
    "plt.tight_layout()\n",
    "plt.savefig('imagen1.pdf')\n"
   ]
  },
  {
   "cell_type": "code",
   "execution_count": null,
   "metadata": {},
   "outputs": [],
   "source": [
    "# Graficación de información de un archivo de datos\n",
    "\n",
    "i_data = np.loadtxt('utils/data/iris_data.txt')\n",
    "\n",
    "plt.scatter(i_data[:,0], i_data[:,1], alpha=0.75,\n",
    "            s=100*i_data[:,2], c=i_data[:,3], ec='k', cmap='viridis')\n",
    "plt.colorbar()\n",
    "plt.show()"
   ]
  },
  {
   "cell_type": "code",
   "execution_count": null,
   "metadata": {},
   "outputs": [],
   "source": [
    "puntos = np.loadtxt('utils/data/Projection.txt')\n",
    "target = np.loadtxt('utils/data/Target.txt')\n",
    "\n",
    "plt.scatter(puntos[:, 0], puntos[:, 1], lw=0.1,\n",
    "            c=target, ec='k', alpha=0.5, cmap='viridis')\n",
    "plt.colorbar(ticks=range(6), label='digit value')\n",
    "plt.clim(-0.5, 5.5)"
   ]
  },
  {
   "cell_type": "markdown",
   "metadata": {
    "deletable": false,
    "editable": false,
    "nbgrader": {
     "cell_type": "markdown",
     "checksum": "5a818c63a3d63e1b8cd585bd7f93083f",
     "grade": false,
     "grade_id": "cell-79418e0a2bb1e478",
     "locked": true,
     "schema_version": 3,
     "solution": false,
     "task": false
    }
   },
   "source": [
    "<a name='5'></a>\n",
    "## Funciones `contour()` y `contourf()`\n",
    "\n",
    "Estas funciones permiten graficar datos 3D, (x, y, z) proyectados en contornos en 2D. "
   ]
  },
  {
   "cell_type": "code",
   "execution_count": null,
   "metadata": {},
   "outputs": [],
   "source": [
    "f = lambda x, y: np.cos(x) ** 10 + np.sin(y * x / 2) * np.sin(x)"
   ]
  },
  {
   "cell_type": "code",
   "execution_count": null,
   "metadata": {},
   "outputs": [],
   "source": [
    "x = np.linspace(0, 7, 100)\n",
    "y = np.linspace(0, 7, 100)\n",
    "xg, yg = np.meshgrid(x, y)\n",
    "zg = f(xg, yg)"
   ]
  },
  {
   "cell_type": "code",
   "execution_count": null,
   "metadata": {},
   "outputs": [],
   "source": [
    "plt.contour(xg, yg, zg)"
   ]
  },
  {
   "cell_type": "code",
   "execution_count": null,
   "metadata": {},
   "outputs": [],
   "source": [
    "plt.contour(xg, yg, zg, cmap='coolwarm', linewidths=1.0, linestyles='-', levels=20)"
   ]
  },
  {
   "cell_type": "code",
   "execution_count": null,
   "metadata": {},
   "outputs": [],
   "source": [
    "plt.contourf(xg, yg, zg, cmap='coolwarm', levels=30)\n",
    "plt.colorbar()"
   ]
  },
  {
   "cell_type": "code",
   "execution_count": null,
   "metadata": {},
   "outputs": [],
   "source": [
    "plt.contourf(xg, yg, zg, cmap='coolwarm', levels=30)\n",
    "plt.colorbar()\n",
    "plt.contour(xg, yg, zg, cmap='gray', linewidths=1.0, linestyles='-', levels=5)"
   ]
  },
  {
   "cell_type": "code",
   "execution_count": null,
   "metadata": {},
   "outputs": [],
   "source": [
    "plt.contourf(xg, yg, zg, cmap='coolwarm', levels=30)\n",
    "plt.colorbar()\n",
    "contornos = plt.contour(xg, yg, zg, cmap='gray', linewidths=1.0, linestyles='-', levels=5)\n",
    "plt.clabel(contornos, inline=True, fontsize=8)\n",
    "plt.savefig('contornos1.pdf')"
   ]
  },
  {
   "cell_type": "code",
   "execution_count": null,
   "metadata": {},
   "outputs": [],
   "source": [
    "plt.imshow(zg, extent=[0, 7, 0, 7], origin='lower', cmap='coolwarm')\n",
    "plt.colorbar()\n",
    "contornos = plt.contour(xg, yg, zg, cmap='gray', linewidths=1.0, linestyles='-', levels=5)\n",
    "plt.clabel(contornos, inline=True, fontsize=8)\n",
    "plt.savefig('contornos2.pdf')"
   ]
  },
  {
   "cell_type": "markdown",
   "metadata": {
    "deletable": false,
    "editable": false,
    "nbgrader": {
     "cell_type": "markdown",
     "checksum": "a5e9cd83f7e39b60f2c6bae9c5138977",
     "grade": false,
     "grade_id": "cell-270710f929d40e3a",
     "locked": true,
     "schema_version": 3,
     "solution": false,
     "task": false
    }
   },
   "source": [
    "<a name='6'></a>\n",
    "## Histogramas `hist()`\n",
    "\n",
    "Esta función permite realizar histogramas simples."
   ]
  },
  {
   "cell_type": "code",
   "execution_count": null,
   "metadata": {},
   "outputs": [],
   "source": [
    "datos = np.random.randn(1000)\n",
    "plt.hist(datos)"
   ]
  },
  {
   "cell_type": "code",
   "execution_count": null,
   "metadata": {},
   "outputs": [],
   "source": [
    "y, x, a = plt.hist(datos)\n",
    "plt.plot(x[:-1], y, 'ko-', lw=3.0)\n",
    "plt.plot(x[1:] , y, 'ko-', lw=3.0)\n",
    "xm = (x[:-1] + x[1:]) * 0.5\n",
    "plt.plot(xm , y, 'k-', lw=1.0)\n",
    "print(x)\n",
    "print(y)\n",
    "print(xm)"
   ]
  },
  {
   "cell_type": "code",
   "execution_count": null,
   "metadata": {},
   "outputs": [],
   "source": [
    "y, x, a = plt.hist(datos, bins=30, alpha=0.5, histtype='stepfilled', \n",
    "         color='palegreen', edgecolor='k')\n",
    "plt.plot((x[:-1] + x[1:]) * 0.5 , y, 'b-', lw=1.5)"
   ]
  },
  {
   "cell_type": "code",
   "execution_count": null,
   "metadata": {},
   "outputs": [],
   "source": [
    "h1 = np.random.randn(500)\n",
    "h2 = np.random.normal(-3, 2, 500)\n",
    "h3 = np.random.normal(3, 1, 500)\n",
    "argumentos = dict(bins=30, alpha=0.65, histtype='stepfilled', edgecolor='k')\n",
    "        \n",
    "plt.hist(h1, **argumentos, label='h1')\n",
    "plt.hist(h2, **argumentos, label='h2')\n",
    "plt.hist(h3, **argumentos, label='h3')\n",
    "plt.legend()"
   ]
  },
  {
   "cell_type": "markdown",
   "metadata": {
    "deletable": false,
    "editable": false,
    "nbgrader": {
     "cell_type": "markdown",
     "checksum": "89094b5f3c50acf516e565b02473cbf0",
     "grade": false,
     "grade_id": "cell-b41d6c19c0f43d10",
     "locked": true,
     "schema_version": 3,
     "solution": false,
     "task": false
    }
   },
   "source": [
    "<a name='7'></a>\n",
    "## Histogramas bidimensionales `hist2d()`"
   ]
  },
  {
   "cell_type": "code",
   "execution_count": null,
   "metadata": {},
   "outputs": [],
   "source": [
    "mean = [0, 0]\n",
    "cov = [[2, 1], [1, 3]]\n",
    "np.random.multivariate_normal(mean, cov, 10000)"
   ]
  },
  {
   "cell_type": "code",
   "execution_count": null,
   "metadata": {},
   "outputs": [],
   "source": [
    "mean = [0, 0]\n",
    "cov = [[2, 1], [1, 3]]\n",
    "x, y = np.random.multivariate_normal(mean, cov, 10000).T\n",
    "\n",
    "plt.hist2d(x, y, bins=25, cmap='Purples')\n",
    "plt.colorbar(label='Número de ...')"
   ]
  },
  {
   "cell_type": "code",
   "execution_count": null,
   "metadata": {},
   "outputs": [],
   "source": [
    "plt.hexbin(x, y, gridsize=25, cmap='Purples')\n",
    "plt.colorbar(label='Número de ...')"
   ]
  },
  {
   "cell_type": "code",
   "execution_count": null,
   "metadata": {},
   "outputs": [],
   "source": [
    "mean = [0, 0]\n",
    "cov = [[1, 1], [1, 2]]\n",
    "x, y = np.random.multivariate_normal(mean, cov, 3000).T\n",
    "\n",
    "fig = plt.figure(figsize=(6, 6))\n",
    "grid = plt.GridSpec(4, 4, hspace=0.25, wspace=0.25)\n",
    "ax_m = fig.add_subplot(grid[:-1, 1:])\n",
    "ax_hy = fig.add_subplot(grid[:-1, 0], xticklabels=[], sharey=ax_m)\n",
    "ax_hx = fig.add_subplot(grid[-1, 1:], yticklabels=[], sharex=ax_m)\n",
    "\n",
    "ax_m.plot(x, y, 'o', markersize=3, alpha=0.2, color='Purple')\n",
    "\n",
    "ax_hx.hist(x, 40, orientation='vertical', color='Purple')\n",
    "ax_hx.invert_yaxis()\n",
    "\n",
    "d = ax_hy.hist(y, 40, orientation='horizontal', color='Purple')\n",
    "ax_hy.invert_xaxis()"
   ]
  },
  {
   "cell_type": "markdown",
   "metadata": {
    "deletable": false,
    "editable": false,
    "nbgrader": {
     "cell_type": "markdown",
     "checksum": "ce150f8dbba6354926c8834943cc1930",
     "grade": false,
     "grade_id": "cell-4ebd36d31b5f5f70",
     "locked": true,
     "schema_version": 3,
     "solution": false,
     "task": false
    }
   },
   "source": [
    "<a name='8'></a>\n",
    "## Gráficos 3D\n",
    "\n",
    "Los siguientes ejemplos muestran cómo realizar gráficos en 3D."
   ]
  },
  {
   "cell_type": "code",
   "execution_count": null,
   "metadata": {},
   "outputs": [],
   "source": [
    "fig = plt.figure()\n",
    "ax = plt.axes(projection='3d')"
   ]
  },
  {
   "cell_type": "markdown",
   "metadata": {
    "deletable": false,
    "editable": false,
    "nbgrader": {
     "cell_type": "markdown",
     "checksum": "ba1605a0af0bddf478397836898f37b9",
     "grade": false,
     "grade_id": "cell-cea447fcbfd420e5",
     "locked": true,
     "schema_version": 3,
     "solution": false,
     "task": false
    }
   },
   "source": [
    "**Líneas y puntos en 3D**"
   ]
  },
  {
   "cell_type": "code",
   "execution_count": null,
   "metadata": {},
   "outputs": [],
   "source": [
    "ax = plt.axes(projection='3d')\n",
    "\n",
    "# Línea en 3D\n",
    "zline = np.linspace(0, 15, 1000)\n",
    "xline = np.sin(zline)\n",
    "yline = np.cos(zline)\n",
    "ax.plot3D(xline, yline, zline, 'k')\n",
    "\n",
    "# Puntos en 3D\n",
    "zdata = 15 * np.random.random(100)\n",
    "xdata = np.sin(zdata) + 0.1 * np.random.randn(100)\n",
    "ydata = np.cos(zdata) + 0.1 * np.random.randn(100)\n",
    "ax.scatter3D(xdata, ydata, zdata, c=zdata, cmap='winter');"
   ]
  },
  {
   "cell_type": "markdown",
   "metadata": {
    "deletable": false,
    "editable": false,
    "nbgrader": {
     "cell_type": "markdown",
     "checksum": "1b505c4cc8f3cc43956fc94cf1bc3731",
     "grade": false,
     "grade_id": "cell-a54fa9b874bf8e12",
     "locked": true,
     "schema_version": 3,
     "solution": false,
     "task": false
    }
   },
   "source": [
    "**Contornos en 3D**"
   ]
  },
  {
   "cell_type": "code",
   "execution_count": null,
   "metadata": {},
   "outputs": [],
   "source": [
    "def f(x, y):\n",
    "    return np.sin(np.sqrt(x ** 2 + y ** 2))"
   ]
  },
  {
   "cell_type": "code",
   "execution_count": null,
   "metadata": {},
   "outputs": [],
   "source": [
    "x = np.linspace(-7, 7, 30)\n",
    "y = np.linspace(-7, 7, 30)\n",
    "\n",
    "X, Y = np.meshgrid(x, y)\n",
    "Z = f(X, Y)\n",
    "\n",
    "fig = plt.figure()\n",
    "ax = plt.axes(projection='3d')\n",
    "ax.contour3D(X, Y, Z, 30, cmap='Blues')\n",
    "ax.set_xlabel('x')\n",
    "ax.set_ylabel('y')\n",
    "ax.set_zlabel('z');"
   ]
  },
  {
   "cell_type": "code",
   "execution_count": null,
   "metadata": {},
   "outputs": [],
   "source": [
    "ax.view_init(60, 35)\n",
    "fig"
   ]
  },
  {
   "cell_type": "markdown",
   "metadata": {
    "deletable": false,
    "editable": false,
    "nbgrader": {
     "cell_type": "markdown",
     "checksum": "4e658971aba2f528b9533096f71e5863",
     "grade": false,
     "grade_id": "cell-ef3a799819e6f2d3",
     "locked": true,
     "schema_version": 3,
     "solution": false,
     "task": false
    }
   },
   "source": [
    "**`wireframe()`**"
   ]
  },
  {
   "cell_type": "code",
   "execution_count": null,
   "metadata": {},
   "outputs": [],
   "source": [
    "fig = plt.figure()\n",
    "ax = plt.axes(projection='3d')\n",
    "ax.plot_wireframe(X, Y, Z, cmap='Blues', linewidth=0.75)\n",
    "ax.set_title('malla')\n",
    "ax.view_init(60, 35)"
   ]
  },
  {
   "cell_type": "markdown",
   "metadata": {
    "deletable": false,
    "editable": false,
    "nbgrader": {
     "cell_type": "markdown",
     "checksum": "f0df3937064ea8de99693b1c10471418",
     "grade": false,
     "grade_id": "cell-e6082e74d30f27a3",
     "locked": true,
     "schema_version": 3,
     "solution": false,
     "task": false
    }
   },
   "source": [
    "**`plot_surface()`**"
   ]
  },
  {
   "cell_type": "code",
   "execution_count": null,
   "metadata": {},
   "outputs": [],
   "source": [
    "# Interactividad en 3D\n",
    "#%matplotlib inline \n",
    "#%matplotlib notebook\n",
    "#%matplotlib inline"
   ]
  },
  {
   "cell_type": "code",
   "execution_count": null,
   "metadata": {},
   "outputs": [],
   "source": [
    "ax = plt.axes(projection='3d')\n",
    "ax.plot_surface(X, Y, Z, rstride=1, cstride=1, cmap='Blues', \n",
    "                edgecolor='gray', linewidth=0.5)\n",
    "ax.set_title('superficie')"
   ]
  },
  {
   "cell_type": "code",
   "execution_count": null,
   "metadata": {},
   "outputs": [],
   "source": [
    "r = np.linspace(0, 6, 20)\n",
    "theta = np.linspace(-0.9 * np.pi, 0.8 * np.pi, 40)\n",
    "r, theta = np.meshgrid(r, theta)\n",
    "\n",
    "X = r * np.sin(theta)\n",
    "Y = r * np.cos(theta)\n",
    "Z = f(X, Y)\n",
    "\n",
    "ax = plt.axes(projection='3d')\n",
    "ax.plot_surface(X, Y, Z, rstride=1, cstride=1,\n",
    "                cmap='viridis', edgecolor='gray', linewidth=0.5)\n",
    "ax.view_init(40, -80)"
   ]
  },
  {
   "cell_type": "code",
   "execution_count": null,
   "metadata": {},
   "outputs": [],
   "source": [
    "theta = 2 * np.pi * np.random.rand(1000)\n",
    "r = 6 * np.random.rand(1000)\n",
    "x = r * np.sin(theta)\n",
    "y = r * np.cos(theta)\n",
    "z = f(x, y)\n",
    "\n",
    "ax = plt.axes(projection='3d')\n",
    "ax.scatter(x, y, z, c=z, cmap='viridis', linewidth=0.5)"
   ]
  },
  {
   "cell_type": "markdown",
   "metadata": {
    "deletable": false,
    "editable": false,
    "nbgrader": {
     "cell_type": "markdown",
     "checksum": "151d797723f4ef92c9a62b9c04023d3b",
     "grade": false,
     "grade_id": "cell-76e0b56c39724f5f",
     "locked": true,
     "schema_version": 3,
     "solution": false,
     "task": false
    }
   },
   "source": [
    "**`plot_trisurf()`**"
   ]
  },
  {
   "cell_type": "code",
   "execution_count": null,
   "metadata": {},
   "outputs": [],
   "source": [
    "ax = plt.axes(projection='3d')\n",
    "ax.plot_trisurf(x, y, z,\n",
    "                cmap='viridis', edgecolor='none');"
   ]
  },
  {
   "cell_type": "code",
   "execution_count": null,
   "metadata": {},
   "outputs": [],
   "source": []
  }
 ],
 "metadata": {
  "kernelspec": {
   "display_name": "Python 3 (ipykernel)",
   "language": "python",
   "name": "python3"
  },
  "language_info": {
   "codemirror_mode": {
    "name": "ipython",
    "version": 3
   },
   "file_extension": ".py",
   "mimetype": "text/x-python",
   "name": "python",
   "nbconvert_exporter": "python",
   "pygments_lexer": "ipython3",
   "version": "3.9.7"
  }
 },
 "nbformat": 4,
 "nbformat_minor": 4
}
