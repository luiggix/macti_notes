{
 "cells": [
  {
   "cell_type": "markdown",
   "metadata": {},
   "source": [
    "<center>\n",
    "<img src=\"./macti.jpg\" width=200 />\n",
    "</center>\n",
    "\n",
    "Antes de enviar tus respuestas asegurate de que:\n",
    "* haz llenado todos los lugares donde dice `YOUR CODE HERE` o \"YOUR ANSWER HERE\",\n",
    "* haz completado tu nombre y el de tus colaboradores, y\n",
    "* todo funciona correctamente.\n",
    "\n",
    " <p xmlns:cc=\"http://creativecommons.org/ns#\" xmlns:dct=\"http://purl.org/dc/terms/\"><a property=\"dct:title\" rel=\"cc:attributionURL\" href=\"https://github.com/luiggix/intro_MeIA_2023\">MACTI NOTES</a> by <span property=\"cc:attributionName\">Luis Miguel de la Cruz Salas</span> is licensed under <a href=\"http://creativecommons.org/licenses/by-nc-sa/4.0/?ref=chooser-v1\" target=\"_blank\" rel=\"license noopener noreferrer\" style=\"display:inline-block;\">CC BY-NC-SA 4.0<img style=\"height:22px!important;margin-left:3px;vertical-align:text-bottom;\" src=\"https://mirrors.creativecommons.org/presskit/icons/cc.svg?ref=chooser-v1\"><img style=\"height:22px!important;margin-left:3px;vertical-align:text-bottom;\" src=\"https://mirrors.creativecommons.org/presskit/icons/by.svg?ref=chooser-v1\"><img style=\"height:22px!important;margin-left:3px;vertical-align:text-bottom;\" src=\"https://mirrors.creativecommons.org/presskit/icons/nc.svg?ref=chooser-v1\"><img style=\"height:22px!important;margin-left:3px;vertical-align:text-bottom;\" src=\"https://mirrors.creativecommons.org/presskit/icons/sa.svg?ref=chooser-v1\"></a></p> \n",
    " "
   ]
  },
  {
   "cell_type": "code",
   "execution_count": 4,
   "metadata": {},
   "outputs": [],
   "source": [
    "NAME = \"Luis M....\"\n",
    "COLLABORATORS = \"\""
   ]
  },
  {
   "cell_type": "markdown",
   "metadata": {},
   "source": [
    "---"
   ]
  },
  {
   "cell_type": "markdown",
   "metadata": {
    "deletable": false,
    "editable": false,
    "id": "PHtKXySXHupB",
    "nbgrader": {
     "cell_type": "markdown",
     "checksum": "badd5cb9fa0c4d90a0120d911a05944a",
     "grade": false,
     "grade_id": "cell-b80bca37b5810bcb",
     "locked": true,
     "schema_version": 3,
     "solution": false,
     "task": false
    }
   },
   "source": [
    "\n",
    "# Métodos iterativos estacionarios: Jacobi y Gauss-Seidel\n",
    "\n",
    "**Objetivo general**\n",
    "- Comparar los métodos de Jacobi y Gauss-Seidel para la solución de sistemas de ecuaciones lineales y comprender las ventajas y desventajas de cada uno.\n",
    "\n",
    "**Objetivos particulares**\n",
    "- Implementar el método de Jacobi y resolver un problema.\n",
    "- Implementar el método de Gauss-Seidel y resolver un problema.\n",
    "- Comparar ambos métodos y decidir cuál de ellos usar para un problema dado.\n",
    "\n",
    " <p xmlns:cc=\"http://creativecommons.org/ns#\" xmlns:dct=\"http://purl.org/dc/terms/\"><a property=\"dct:title\" rel=\"cc:attributionURL\" href=\"https://github.com/luiggix/intro_MeIA_2023\">MACTI NOTES</a> by <span property=\"cc:attributionName\">Luis Miguel de la Cruz Salas</span> is licensed under <a href=\"http://creativecommons.org/licenses/by-nc-sa/4.0/?ref=chooser-v1\" target=\"_blank\" rel=\"license noopener noreferrer\" style=\"display:inline-block;\">CC BY-NC-SA 4.0<img style=\"height:22px!important;margin-left:3px;vertical-align:text-bottom;\" src=\"https://mirrors.creativecommons.org/presskit/icons/cc.svg?ref=chooser-v1\"><img style=\"height:22px!important;margin-left:3px;vertical-align:text-bottom;\" src=\"https://mirrors.creativecommons.org/presskit/icons/by.svg?ref=chooser-v1\"><img style=\"height:22px!important;margin-left:3px;vertical-align:text-bottom;\" src=\"https://mirrors.creativecommons.org/presskit/icons/nc.svg?ref=chooser-v1\"><img style=\"height:22px!important;margin-left:3px;vertical-align:text-bottom;\" src=\"https://mirrors.creativecommons.org/presskit/icons/sa.svg?ref=chooser-v1\"></a></p> "
   ]
  },
  {
   "cell_type": "markdown",
   "metadata": {
    "deletable": false,
    "editable": false,
    "id": "z1G7ScQ85DrQ",
    "nbgrader": {
     "cell_type": "markdown",
     "checksum": "16587dd625cfe51bcf726d5bc5b58a7b",
     "grade": false,
     "grade_id": "cell-ce92719b57541488",
     "locked": true,
     "schema_version": 3,
     "solution": false,
     "task": false
    }
   },
   "source": [
    "<a name='1'></a>\n",
    "## Sistema positivo definido\n",
    "\n",
    "Considere el siguiente sistema de ecuaciones:\n",
    "\n",
    "$$\n",
    "\\begin{array}{ccc}\n",
    "3x_0 + 2x_1 & = &2 \\\\\n",
    "2x_0 + 6x_1 & = &-8\n",
    "\\end{array} \\Longrightarrow\n",
    "\\left[\n",
    "\\begin{array}{cc}\n",
    "3 & 2 \\\\\n",
    "2 & 6\n",
    "\\end{array} \\right]\n",
    "\\left[\n",
    "\\begin{array}{cccc}\n",
    "x_{0} \\\\\n",
    "x_{1}\n",
    "\\end{array} \\right] \n",
    "=\n",
    "\\left[\n",
    "\\begin{array}{c}\n",
    "2\\\\ -8\n",
    "\\end{array}\n",
    "\\right] \\tag{1}\n",
    "$$\n",
    "\n",
    "**¿Cómo podría comprobar que el sistema de es definido positivo?**"
   ]
  },
  {
   "cell_type": "code",
   "execution_count": 5,
   "metadata": {
    "deletable": false,
    "editable": false,
    "nbgrader": {
     "cell_type": "code",
     "checksum": "8dd261241cb37461a2a960b7668bfac0",
     "grade": false,
     "grade_id": "cell-555c50f3b6c51402",
     "locked": true,
     "schema_version": 3,
     "solution": false,
     "task": false
    },
    "tags": []
   },
   "outputs": [],
   "source": [
    "# Importación de las bibliotecas numpy y matplotlib\n",
    "import numpy as np\n",
    "import matplotlib.pyplot as plt\n",
    "import macti.visual\n",
    "from macti.SistemasLineales.eigen_fc import graficaPasosSolucion\n",
    "\n",
    "from macti.evaluation import Quizz\n",
    "quizz = Quizz('2', 'SMM', 'ejemplos')"
   ]
  },
  {
   "cell_type": "markdown",
   "metadata": {
    "deletable": false,
    "editable": false,
    "id": "Ckmm9NTe5DrU",
    "nbgrader": {
     "cell_type": "markdown",
     "checksum": "1430b8228d810ca5cf5cfd1ef925e39d",
     "grade": false,
     "grade_id": "cell-f0af865d9572b888",
     "locked": true,
     "schema_version": 3,
     "solution": false,
     "task": false
    }
   },
   "source": [
    "---\n",
    "<a name='ej-1'></a>\n",
    "### **<font color=\"DodgerBlue\">Ejercicio 1. Definir el sistema y resolverlo.</font>**\n",
    "\n",
    "<font color=\"DarkBlue\">Definir la matriz $A$, el vector $b$ y resolver el sistema.</font>\n",
    "\n",
    "---"
   ]
  },
  {
   "cell_type": "code",
   "execution_count": 6,
   "metadata": {
    "colab": {
     "base_uri": "https://localhost:8080/"
    },
    "deletable": false,
    "id": "DvA8o9S25DrV",
    "nbgrader": {
     "cell_type": "code",
     "checksum": "28bbac8045b463fc314cd8e3caaf49dd",
     "grade": false,
     "grade_id": "cell-02fd241461ed6ca6",
     "locked": false,
     "schema_version": 3,
     "solution": true,
     "task": false
    },
    "outputId": "3e421840-32d0-4003-b751-b9ab78d7672d",
    "tags": []
   },
   "outputs": [
    {
     "name": "stdout",
     "output_type": "stream",
     "text": [
      "Matriz A : \n",
      " [[3 2]\n",
      " [2 6]]\n",
      "Vector b : \n",
      " [ 2 -8]\n",
      "Solución del sistema : \n",
      " [ 2. -2.]\n"
     ]
    }
   ],
   "source": [
    "# Sistema lineal\n",
    "# A = ...\n",
    "# b = ...\n",
    "# Resolver el sistema\n",
    "# sol = ...\n",
    "\n",
    "# YOUR CODE HERE\n",
    "A = np.array([[3,2],[2,6]])\n",
    "b = np.array([2,-8])\n",
    "sol = np.linalg.solve(A,b)\n",
    "\n",
    "print(\"Matriz A : \\n\",A)\n",
    "print(\"Vector b : \\n\", b)\n",
    "print(\"Solución del sistema : \\n\", sol)\n"
   ]
  },
  {
   "cell_type": "code",
   "execution_count": 7,
   "metadata": {
    "deletable": false,
    "editable": false,
    "nbgrader": {
     "cell_type": "code",
     "checksum": "9be06a16eb8e869f2b008b25a6efe608",
     "grade": true,
     "grade_id": "cell-f286c1d519bbea3c",
     "locked": true,
     "points": 3,
     "schema_version": 3,
     "solution": false,
     "task": false
    },
    "tags": []
   },
   "outputs": [
    {
     "name": "stdout",
     "output_type": "stream",
     "text": [
      "\u001b[39m----------------------------------------\n",
      "\u001b[32mTu resultado es correcto.\n",
      "\u001b[39m----------------------------------------\n",
      "\u001b[39m----------------------------------------\n",
      "\u001b[32mTu resultado es correcto.\n",
      "\u001b[39m----------------------------------------\n",
      "\u001b[39m----------------------------------------\n",
      "\u001b[32mTu resultado es correcto.\n",
      "\u001b[39m----------------------------------------\n"
     ]
    }
   ],
   "source": [
    "quizz.eval_numeric('1', A)\n",
    "quizz.eval_numeric('2', b)\n",
    "quizz.eval_numeric('3', sol)"
   ]
  },
  {
   "cell_type": "markdown",
   "metadata": {
    "deletable": false,
    "editable": false,
    "nbgrader": {
     "cell_type": "markdown",
     "checksum": "456180b8e146db1a9cd4f1e4d0393174",
     "grade": false,
     "grade_id": "cell-39cbd541428d3998",
     "locked": true,
     "schema_version": 3,
     "solution": false,
     "task": false
    }
   },
   "source": [
    "---\n",
    "<a name='ej-2'></a>\n",
    "### **<font color=\"DodgerBlue\">Ejercicio 2. Graficar las líneas y la solución.</font>**\n",
    "\n",
    "<font color=\"DarkBlue\">Las ecuaciones $(1)$ se pueden escribir como sigue:</font>\n",
    "\n",
    "$$\n",
    "\\begin{array}{ccc}\n",
    "\\dfrac{3}{2}x_0 + x_1 & = & \\dfrac{2}{2} \\\\\n",
    "\\dfrac{2}{6}x_0 + x_1 & = & -\\dfrac{8}{6}\n",
    "\\end{array} \\Longrightarrow\n",
    "\\begin{array}{ccc}\n",
    "y_0 = m_0 x + b_0 \\\\\n",
    "y_1 = m_1 x + b_1\n",
    "\\end{array}\n",
    "$$\n",
    "\n",
    "donde\n",
    "$$\n",
    "\\begin{array}{ccc}\n",
    "m_0 = -\\dfrac{3}{2} & b_0 = 1 \\\\\n",
    "m_1 = -\\dfrac{2}{6} & b_1 = -\\dfrac{8}{6}\n",
    "\\end{array}\n",
    "$$\n",
    "\n",
    "<font color=\"DarkBlue\">Realizar las gráficas de estas ecuaciones junto con el punto donde se cruzan. </font>\n",
    "\n",
    "---"
   ]
  },
  {
   "cell_type": "code",
   "execution_count": null,
   "metadata": {
    "colab": {
     "base_uri": "https://localhost:8080/",
     "height": 340
    },
    "deletable": false,
    "id": "RpD384uo5DrT",
    "nbgrader": {
     "cell_type": "code",
     "checksum": "e695b615d85a9968d27f6b6f67f1abed",
     "grade": false,
     "grade_id": "cell-eef2f81aa20a88ed",
     "locked": false,
     "schema_version": 3,
     "solution": true,
     "task": false
    },
    "outputId": "9d7b3dd8-1599-41ae-931e-fde6892cdacb",
    "tags": []
   },
   "outputs": [],
   "source": [
    "# Dominio en x\n",
    "x = np.linspace(0,3,20)\n",
    "\n",
    "# Parámetros de las rectas\n",
    "#m0 = ...\n",
    "#b0 = ...\n",
    "#m1 = ...\n",
    "#b1 = ...\n",
    "# Ecuaciones de las rectas\n",
    "#y0 = ...\n",
    "#y1 = ...\n",
    "\n",
    "# YOUR CODE HERE\n",
    "raise NotImplementedError()\n",
    "\n",
    "#Gráficas\n",
    "plt.plot(x,y0,label = '$3x_0+2x_1=2$')\n",
    "plt.plot(x,y1,label = '$2x_0+6x_1=-8$')\n",
    "plt.scatter(sol[0], sol[1], c='red', s = 75, alpha=0.75, zorder=5, label='Solución')\n",
    "\n",
    "plt.xlabel('$x_0$')\n",
    "plt.ylabel('$x_1$')\n",
    "plt.title('Cruce de rectas')\n",
    "plt.legend()\n",
    "plt.grid()\n",
    "plt.show()"
   ]
  },
  {
   "cell_type": "code",
   "execution_count": null,
   "metadata": {
    "deletable": false,
    "editable": false,
    "nbgrader": {
     "cell_type": "code",
     "checksum": "51eec64d656f0550b72a90c2df655984",
     "grade": true,
     "grade_id": "cell-d08743b39c788d49",
     "locked": true,
     "points": 2,
     "schema_version": 3,
     "solution": false,
     "task": false
    },
    "tags": []
   },
   "outputs": [],
   "source": [
    "quizz.eval_numeric('4', y0)\n",
    "quizz.eval_numeric('5', y1)"
   ]
  },
  {
   "cell_type": "markdown",
   "metadata": {
    "deletable": false,
    "editable": false,
    "id": "NBbmMqKG4E9s",
    "nbgrader": {
     "cell_type": "markdown",
     "checksum": "8b69db86454f6e41e702cf241cb01d35",
     "grade": false,
     "grade_id": "cell-fc76f54222ce34fc",
     "locked": true,
     "schema_version": 3,
     "solution": false,
     "task": false
    }
   },
   "source": [
    "<a name='2'></a>\n",
    "## Método de Jacobi\n",
    "\n",
    "Para entender el método veamos el siguiente ejemplo:\n",
    "\n",
    "<a name='2-1'></a>\n",
    "### Ejemplo 1\n",
    "Consideremos el siguiente sistema de ecuaciones:\n",
    "\n",
    "$$\n",
    "\\begin{align}\n",
    "2x -y &= 9\\\\\n",
    "x +6y -2z &= 15\\\\\n",
    "4x -3y +8z &= 1\\\\\n",
    "\\end{align}\n",
    "$$\n",
    "\n",
    "El algoritmo de Jacobi se basa en despejar $x$ de la primera ecuación, $y$ de la segunda y $z$ de la tercera, de tal manera que obtenemos:\n",
    "\n",
    "$$\n",
    "\\begin{align}\n",
    "x  &= (9 +y )/2\\\\\n",
    "y  &= (15 -x +2z)/6 \\tag{2}\\\\\n",
    "z &= (1-4x+3y)/8\\\\\n",
    "\\end{align}\n",
    "$$\n",
    "\n",
    "Consideramos el lado izquierdo de estas ecuaciones como las incógnitas y el lado derecho como conocido, por esa razón usaremos los super índices $k-1$ para lo que se conoce (de la iteración anterior) y $k$ para las incógnitas. Entonces sistema $(2)$ los escribimos como sigue:\n",
    "\n",
    "$$\n",
    "\\begin{align}\n",
    "x^{k} &= (9 + y^{k-1} )/2\\\\\n",
    "y^{k} &= (15 - x^{k-1} + 2 z^{k-1})/6 \\tag{3}\\\\\n",
    "z^{k} &= (1 - 4 x^{k-1}+3 y^{k-1})/8\\\\\n",
    "\\end{align}\n",
    "$$\n",
    "\n",
    "El sistema $(3)$ representa las fórmulas iterativas del método de Jacobi y se van a usar para ir aproximando la solución paso a paso. \n",
    "\n",
    "Para la primera iteración, $k=1$, elegimos una solución inicial aproximada: $(x^0, y^0, z^0) = (0,0,0)$ y sustituimos para obtener lo siguiente:\n",
    "\n",
    "$$\n",
    "\\begin{align}\n",
    "x^1 &= (9 +0 )/2\\\\\n",
    "y^1 &= (15 -0 +2(0))/6\\\\\n",
    "z^1 &= (1-4(0)+3(0))/8\\\\\n",
    "\\end{align}\n",
    "$$\n",
    "\n",
    "$$\\Longrightarrow (x^1, y^1, z^1) = (4.5,2.5,0.125)$$\n",
    "\n",
    "Continuamos a la siguiente iteración para $k=2$:\n",
    "\n",
    "$$\n",
    "\\begin{align}\n",
    "x^2 &= (9 + (2.5)/2\\\\\n",
    "y^2 &= (15 -4.5 +2(0.125))/6\\\\\n",
    "z^2 &= (1-4(4.5)+3(2.5))/8\\\\\n",
    "\\end{align}\n",
    "$$\n",
    "\n",
    "$$\\Longrightarrow (x^2, y^2, z^2) = (5.75,1.7916,-1.1875)$$.\n",
    "\n",
    "Este procedimiento se continua hasta parar en alguna iteración. En este caso las aproximaciones deberían converger en la solución $(5,1,-2)$."
   ]
  },
  {
   "cell_type": "markdown",
   "metadata": {
    "deletable": false,
    "editable": false,
    "id": "CnNo6k82K2JN",
    "nbgrader": {
     "cell_type": "markdown",
     "checksum": "e23f567d7aa5dbcfb63125f31ebc5d5c",
     "grade": false,
     "grade_id": "cell-e645baecfad85b94",
     "locked": true,
     "schema_version": 3,
     "solution": false,
     "task": false
    }
   },
   "source": [
    "<a name='2-2'></a>\n",
    "### Algoritmo 1.\n",
    "En general, podemos definir el siguiente algoritmo para el método de Jacobi.\n",
    "<center>\n",
    "<img src=\"./Jacobi.png\"  width='500px'/>\n",
    "</center>"
   ]
  },
  {
   "cell_type": "markdown",
   "metadata": {
    "deletable": false,
    "editable": false,
    "id": "Wc2VwYdB5DrX",
    "nbgrader": {
     "cell_type": "markdown",
     "checksum": "05f542ac93c584b5de92de4712bfe983",
     "grade": false,
     "grade_id": "cell-62f3fab7ca14e331",
     "locked": true,
     "schema_version": 3,
     "solution": false,
     "task": false
    }
   },
   "source": [
    "<a name='2-3'></a>\n",
    "### Implementación 1.\n",
    "\n",
    "En la celda siguiente se muestra el código del método de Jacobi"
   ]
  },
  {
   "cell_type": "code",
   "execution_count": null,
   "metadata": {
    "deletable": false,
    "editable": false,
    "id": "kJMD5Mtr5DrY",
    "nbgrader": {
     "cell_type": "code",
     "checksum": "6ac84a2e70c59e346c9230efefc306a1",
     "grade": false,
     "grade_id": "cell-bcbf62f6c782b10b",
     "locked": true,
     "schema_version": 3,
     "solution": false,
     "task": false
    },
    "tags": []
   },
   "outputs": [],
   "source": [
    "def jacobi(A,b,tol,kmax,xini):\n",
    "    N = len(b)\n",
    "    xnew = np.zeros(N)\n",
    "    xold = np.zeros(N)\n",
    "    \n",
    "    # Solución inicial\n",
    "    xold[0] = xini[0][0]\n",
    "    xold[1] = xini[1][0]\n",
    "    \n",
    "    error = 10\n",
    "    k = 0\n",
    "    print('{:^2} {:^10} {:^12} {:^12}'.format(' i ', 'Error', 'x0', 'x1'))\n",
    "    while(error > tol and k < kmax) :\n",
    "        for i in range(0,N): # se puede hacer en paralelo\n",
    "            xnew[i] = 0\n",
    "            for j in range(0,i):\n",
    "                xnew[i] += A[i,j] * xold[j]\n",
    "            for j in range(i+1,N):\n",
    "                xnew[i] += A[i,j] * xold[j]                \n",
    "            xnew[i] = (b[i] - xnew[i]) / A[i,i]\n",
    "        \n",
    "        # Almacenamos la solución actual\n",
    "        xini[0].append(xnew[0])\n",
    "        xini[1].append(xnew[1])\n",
    "        \n",
    "        error = np.linalg.norm(xnew-xold,1)\n",
    "        k += 1\n",
    "        xold[:] = xnew[:]\n",
    "        print('{:2d} {:10.9f} ({:10.9f}, {:10.9f})'.format(k, error, xnew[0], xnew[1]))\n",
    "    return xnew, error, k"
   ]
  },
  {
   "cell_type": "markdown",
   "metadata": {
    "deletable": false,
    "editable": false,
    "nbgrader": {
     "cell_type": "markdown",
     "checksum": "bb084726412f68a5116549d26ff2dc42",
     "grade": false,
     "grade_id": "cell-78568f31c8738001",
     "locked": true,
     "schema_version": 3,
     "solution": false,
     "task": false
    }
   },
   "source": [
    "---\n",
    "<a name='ej-3'></a>\n",
    "### **<font color=\"DodgerBlue\">Ejercicio 3. Aplicación del método de Jacobi.</font>**\n",
    "\n",
    "<font color=\"DarkBlue\"> Haciendo uso de la función `jacobi` definida en la celda superior, aproxima la solución del sistema de ecuaciones del Ejercicio 1. Utiliza la solución inicial `xini` = $(0, 0)$, una tolerancia `tol` = $1 \\times 10^{-5}$ y `kmax` = $100$ iteraciones. Guarda la solución aproximada que devuelve la función en `solucion`.</font>\n",
    "    \n",
    "---"
   ]
  },
  {
   "cell_type": "code",
   "execution_count": null,
   "metadata": {
    "colab": {
     "base_uri": "https://localhost:8080/"
    },
    "deletable": false,
    "id": "BB9P34d-5DrY",
    "nbgrader": {
     "cell_type": "code",
     "checksum": "904134163f77ee21c185d51ebfd754cf",
     "grade": false,
     "grade_id": "cell-a36ade6364fb9e6d",
     "locked": false,
     "schema_version": 3,
     "solution": true,
     "task": false
    },
    "outputId": "efc32185-d095-4312-d95b-9bd83e74725a",
    "tags": []
   },
   "outputs": [],
   "source": [
    "# Solución inicial\n",
    "#xini = ...\n",
    "# Método de Jacobi\n",
    "#solucion, error, it = ...\n",
    "\n",
    "# YOUR CODE HERE\n",
    "raise NotImplementedError()"
   ]
  },
  {
   "cell_type": "code",
   "execution_count": null,
   "metadata": {
    "deletable": false,
    "editable": false,
    "nbgrader": {
     "cell_type": "code",
     "checksum": "b3c04e820155f57ec47a2e3e72cebb26",
     "grade": true,
     "grade_id": "cell-6df3613dbff22d5f",
     "locked": true,
     "points": 3,
     "schema_version": 3,
     "solution": false,
     "task": false
    },
    "tags": []
   },
   "outputs": [],
   "source": [
    "quizz.eval_numeric('6', solucion)\n",
    "quizz.eval_numeric('7', error)\n",
    "quizz.eval_numeric('8', it)"
   ]
  },
  {
   "cell_type": "markdown",
   "metadata": {
    "deletable": false,
    "editable": false,
    "nbgrader": {
     "cell_type": "markdown",
     "checksum": "91b454010128b626989b67c762cca099",
     "grade": false,
     "grade_id": "cell-50c6bcc8eb6d2a98",
     "locked": true,
     "schema_version": 3,
     "solution": false,
     "task": false
    }
   },
   "source": [
    "Una vez que la celda superior se ejecute de manera correcta (que pase la prueba), ejecuta la siguiente celda de\n",
    "código para que veas la gráfica correspondiente a la aproximación de la solución de este sistema usando el método\n",
    "iterativo de Jacobi."
   ]
  },
  {
   "cell_type": "code",
   "execution_count": null,
   "metadata": {
    "colab": {
     "base_uri": "https://localhost:8080/",
     "height": 323
    },
    "deletable": false,
    "editable": false,
    "id": "bbdOtE9k5DrZ",
    "nbgrader": {
     "cell_type": "code",
     "checksum": "640500d779ea9b198adbd7022b944f77",
     "grade": false,
     "grade_id": "cell-a2714796bdd080fd",
     "locked": true,
     "schema_version": 3,
     "solution": false,
     "task": false
    },
    "outputId": "c905316a-d996-46e2-8f3f-82718dcca26c",
    "tags": []
   },
   "outputs": [],
   "source": [
    "graficaPasosSolucion(x, y0, y1, xini, A, b, solucion, 'Jacobi, iter = {}, error = {:4.3e}'.format(it, error) )"
   ]
  },
  {
   "cell_type": "markdown",
   "metadata": {
    "deletable": false,
    "editable": false,
    "id": "sOg_5uyQOhm9",
    "nbgrader": {
     "cell_type": "markdown",
     "checksum": "a2608d9ebdf42ec2e2d1957521cefa4a",
     "grade": false,
     "grade_id": "cell-ed7e86ef97367932",
     "locked": true,
     "schema_version": 3,
     "solution": false,
     "task": false
    }
   },
   "source": [
    "<a name='3'></a>\n",
    "## Método Gauss-Seidel\n",
    "\n",
    "Este método se explica en el siguiente ejemplo:\n",
    "\n",
    "<a name='3-1'></a>\n",
    "### Ejemplo 2\n",
    "\n",
    "Consideremos el mismo sistema de ecuaciones del ejemplo 1, despejamos las incógnitas de manera similar para obtener nuevamente el sistema $(2)$ que reescribimos aquí:\n",
    "\n",
    "$$\n",
    "\\begin{align}\n",
    "x  &= (9 +y )/2\\\\\n",
    "y  &= (15 -x +2z)/6 \\tag{2}\\\\\n",
    "z &= (1-4x+3y)/8\\\\\n",
    "\\end{align}\n",
    "$$\n",
    "\n",
    "Nuevamente consideramos el lado izquierdo de estas ecuaciones como las incógnitas y el lado derecho como conocido, y otra vez usamos el super índice $k-1$ para lo que se conoce y el super índice $k$ para las incógnitas. \n",
    "\n",
    "El cambio con respecto al método de Jacobi es que, una vez que se obtiene $x^{k}$, este valor se utiliza en la evaluación de las siguientes dos ecuaciones; y una vez que se obtiene $y^{k}$, este valor se utiliza en la última ecuación, de tal manera que ahora tenemos lo siguiente:\n",
    "\n",
    "$$\n",
    "\\begin{align}\n",
    "x^{k} &= (9 + y^{k-1} )/2\\\\\n",
    "y^{k} &= (15 - x^{k} + 2 z^{k-1})/6 \\tag{4}\\\\\n",
    "z^{k} &= (1 - 4 x^{k}+3 y^{k})/8\\\\\n",
    "\\end{align}\n",
    "$$\n",
    "\n",
    "El sistema $(4)$ representa las fórmulas iterativas del método de Gauss-Seidel y se van a usar para ir aproximando la solución paso a paso. \n",
    "\n",
    "Para la primera iteración $k=1$ elegimos una solución inicial aproximada: $(x^0, y^0, z^0) = (0,0,0)$ y sustituimos para obtener lo siguiente:\n",
    "\n",
    "$$\n",
    "\\begin{align}\n",
    "x^1 &= (9 +0 )/2 = 4.5\\\\\n",
    "y^1 &= (15 -4.5 +2(0))/6 = 1.75\\\\\n",
    "z^1 &= (1-4(4.5)+3(1.75))/8 = -1.46\\\\\n",
    "\\end{align}\n",
    "$$\n",
    "\n",
    "$$\\Longrightarrow (x^1, y^1, z^1) = (4.5,1.75,-1.46)$$\n",
    "\n",
    "Para la siguiente iteración $k=2$ tenemos:\n",
    "\n",
    "$$\n",
    "\\begin{align}\n",
    "x^2 &= (9 + (4.5)/2 = 5.375\\\\\n",
    "y^2 &= (15 -5.375 +2(-1.46))/6 = 1.11\\\\\n",
    "z^2 &= (1-4(5.375)+3(1.11))/8 = -2.14\\\\\n",
    "\\end{align}\n",
    "$$\n",
    "\n",
    "$$\\Longrightarrow (x^2, y^2, z^2) = (5.375,1.11,-2.14)$$\n",
    "\n",
    "Se realiza el procedimiento recursivamente hasta parar en alguna iteración. En este caso las aproximaciones deben converger en el punto $(5,1,-2)$, pero más rápido que con el método de Jacobi."
   ]
  },
  {
   "cell_type": "markdown",
   "metadata": {
    "deletable": false,
    "editable": false,
    "nbgrader": {
     "cell_type": "markdown",
     "checksum": "2a4d67c6d8c0e415213d812f393839f0",
     "grade": false,
     "grade_id": "cell-84c6aaac242a8a0a",
     "locked": true,
     "schema_version": 3,
     "solution": false,
     "task": false
    }
   },
   "source": [
    "<a name='3-2'></a>\n",
    "### Algoritmo 2.\n",
    "En general, podemos definir el siguiente algoritmo para el método de Gauss-Seidel.\n",
    "\n",
    "<center>\n",
    "<img src=\"./Gauss_Seidel.png\"  width='500px'/>\n",
    "</center>"
   ]
  },
  {
   "cell_type": "markdown",
   "metadata": {
    "deletable": false,
    "editable": false,
    "id": "vsG5mVu55DrZ",
    "nbgrader": {
     "cell_type": "markdown",
     "checksum": "5911573f3f8460c2fbaff26a702be19c",
     "grade": false,
     "grade_id": "cell-939b6c9dc630938f",
     "locked": true,
     "schema_version": 3,
     "solution": false,
     "task": false
    }
   },
   "source": [
    "<a name='3-3'></a>\n",
    "### Implementación 2.\n",
    "\n",
    "A continuación se muestra el código para el método iterativo de Gauss-Seidel"
   ]
  },
  {
   "cell_type": "code",
   "execution_count": null,
   "metadata": {
    "deletable": false,
    "editable": false,
    "id": "QMVYEfy95DrZ",
    "nbgrader": {
     "cell_type": "code",
     "checksum": "d52b3b3f58fff335674e0bb7052e485c",
     "grade": false,
     "grade_id": "cell-ad9e472a46931664",
     "locked": true,
     "schema_version": 3,
     "solution": false,
     "task": false
    },
    "tags": []
   },
   "outputs": [],
   "source": [
    "def gauss_seidel(A,b,tol,kmax,xini):\n",
    "    N = len(b)\n",
    "    xnew = np.zeros(N)\n",
    "    xold = np.zeros(N)\n",
    "    \n",
    "    # Solución inicial\n",
    "    xold[0] = xini[0][0]\n",
    "    xold[1] = xini[1][0]\n",
    "    \n",
    "    error = 10\n",
    "    k = 0\n",
    "    print('{:^2} {:^10} {:^12} {:^12}'.format(' i ', 'Error', 'x0', 'x1'))\n",
    "    while(error > tol and k < kmax) :\n",
    "        for i in range(0,N): # se puede hacer en paralelo\n",
    "            xnew[i] = 0\n",
    "            for j in range(0,i):\n",
    "                xnew[i] += A[i,j] * xnew[j]\n",
    "            for j in range(i+1,N):\n",
    "                xnew[i] += A[i,j] * xold[j]                \n",
    "            xnew[i] = (b[i] - xnew[i]) / A[i,i]\n",
    "            \n",
    "        # Almacenamos la solución actual\n",
    "        xini[0].append(xnew[0])\n",
    "        xini[1].append(xnew[1])\n",
    "        \n",
    "        error = np.linalg.norm(xnew-xold)\n",
    "        k += 1\n",
    "        xold[:] = xnew[:]\n",
    "        print('{:2d} {:10.9f} ({:10.9f}, {:10.9f})'.format(k, error, xnew[0], xnew[1]))\n",
    "    return xnew, error, k"
   ]
  },
  {
   "cell_type": "markdown",
   "metadata": {
    "deletable": false,
    "editable": false,
    "nbgrader": {
     "cell_type": "markdown",
     "checksum": "9cd2a63553b532c317a6522cd4496d04",
     "grade": false,
     "grade_id": "cell-e2080cd527067903",
     "locked": true,
     "schema_version": 3,
     "solution": false,
     "task": false
    }
   },
   "source": [
    "---\n",
    "<a name='ej-4'></a>\n",
    "### **<font color=\"DodgerBlue\">Ejercicio 4. Aplicación del método de Gauss-Seidel.</font>**\n",
    "\n",
    "<font color=\"DarkBlue\">Haciendo uso de la función `gauss_seidel` definida en la celda superior, aproxima la solución del sistema de ecuaciones del Ejercicio 1. Utiliza la solución inicial `xini` = $(0, 0)$, una tolerancia `tol` = $1 \\times 10^{-5}$ y `kmax` = $100$ iteraciones. Guarda la solución aproximada que devuelve la función en `solucion`.</font>\n",
    "    \n",
    "---"
   ]
  },
  {
   "cell_type": "code",
   "execution_count": null,
   "metadata": {
    "colab": {
     "base_uri": "https://localhost:8080/"
    },
    "deletable": false,
    "id": "8OO0YZhw5Dra",
    "nbgrader": {
     "cell_type": "code",
     "checksum": "3ff392823d71639c7bf1c58f28344fe6",
     "grade": false,
     "grade_id": "cell-97076304ca7ed9a8",
     "locked": false,
     "schema_version": 3,
     "solution": true,
     "task": false
    },
    "outputId": "7c53bde7-4bf1-4117-a763-004082033c37",
    "tags": []
   },
   "outputs": [],
   "source": [
    "# Solución inicial\n",
    "#xini = ...\n",
    "# Método de Gauss-Seidel\n",
    "#solucion, error, it = ...\n",
    "\n",
    "# YOUR CODE HERE\n",
    "raise NotImplementedError()"
   ]
  },
  {
   "cell_type": "code",
   "execution_count": null,
   "metadata": {
    "deletable": false,
    "editable": false,
    "nbgrader": {
     "cell_type": "code",
     "checksum": "283005aa22657276b6652662371dca58",
     "grade": true,
     "grade_id": "cell-1431ee568a9eacbf",
     "locked": true,
     "points": 3,
     "schema_version": 3,
     "solution": false,
     "task": false
    },
    "tags": []
   },
   "outputs": [],
   "source": [
    "quizz.eval_numeric('9', solucion)\n",
    "quizz.eval_numeric('10', error)\n",
    "quizz.eval_numeric('11', it)"
   ]
  },
  {
   "cell_type": "markdown",
   "metadata": {
    "deletable": false,
    "editable": false,
    "nbgrader": {
     "cell_type": "markdown",
     "checksum": "08f99c225b028748b5a72704474aee16",
     "grade": false,
     "grade_id": "cell-2e184d5d755cc9ba",
     "locked": true,
     "schema_version": 3,
     "solution": false,
     "task": false
    }
   },
   "source": [
    "Una vez que la celda superior se ejecute de manera correcta (que pase la prueba), ejecuta la siguiente celda de\n",
    "código para que veas la gráfica correspondiente a la aproximación de la solución de este sistema usando el método\n",
    "iterativo de Gauss-Seidel."
   ]
  },
  {
   "cell_type": "code",
   "execution_count": null,
   "metadata": {
    "colab": {
     "base_uri": "https://localhost:8080/",
     "height": 323
    },
    "deletable": false,
    "editable": false,
    "id": "9-NQyuI85Dra",
    "nbgrader": {
     "cell_type": "code",
     "checksum": "e611f74ae773b3c00468f73d135e94c1",
     "grade": false,
     "grade_id": "cell-f54a04b05a71fe63",
     "locked": true,
     "schema_version": 3,
     "solution": false,
     "task": false
    },
    "outputId": "011ac10b-965f-4a2c-e66f-76214d9a5eb9",
    "tags": []
   },
   "outputs": [],
   "source": [
    "graficaPasosSolucion(x, y0, y1, xini, A, b, solucion, 'Gauss-Seidel, iter = {}, error = {:4.3e}'.format(it,error))"
   ]
  },
  {
   "cell_type": "markdown",
   "metadata": {
    "deletable": false,
    "editable": false,
    "nbgrader": {
     "cell_type": "markdown",
     "checksum": "5db9c8e21e773bb8746b87ccb8b82468",
     "grade": false,
     "grade_id": "cell-065ed11b68cde82a",
     "locked": true,
     "schema_version": 3,
     "solution": false,
     "task": false
    }
   },
   "source": [
    "---\n",
    "<a name='ej-5'></a>\n",
    "## **<font color=\"DodgerBlue\">Ejercicio 5. Resolver el sistema de ecuaciones de la práctica de la Pre-clase.</font>**\n",
    "\n",
    "<font color=\"DarkBlue\"> Intente resolver el sistema de ecuaciones definido en el primer ejercicio de la Pre-clase usando los métodos de Jacobi y de Gauss-Seidel. Describe que pasa en cada caso. Busque una solución inicial que le permita obtener la solución. Haga solo unas cuantas iteraciones (2 a 5) y grafique los resultados.\n",
    "En caso de que no logre obtener una solución adecuada, discuta con su equipo las razones de lo anterior y luego exprese sus puntos de vista en la sala general.</font>\n",
    "    \n",
    "---"
   ]
  },
  {
   "cell_type": "code",
   "execution_count": null,
   "metadata": {
    "deletable": false,
    "nbgrader": {
     "cell_type": "code",
     "checksum": "3f19c749f4e8ee7c4605ddfffcf7155b",
     "grade": false,
     "grade_id": "cell-85e6ae332798e7fb",
     "locked": false,
     "schema_version": 3,
     "solution": true,
     "task": false
    },
    "tags": []
   },
   "outputs": [],
   "source": [
    "# Megabytes desde 0 hasta 1500 (1.5 GB)\n",
    "x = np.linspace(0,1500,10)\n",
    "\n",
    "# Fórmulas de cada compañía\n",
    "#PA = ...\n",
    "#PB = ...\n",
    "# Sistema lineal\n",
    "#A = ...\n",
    "#b = ...\n",
    "# Solución inicial\n",
    "#xini = ...\n",
    "# Método de Jacobi\n",
    "#solucion, error, it = ...\n",
    "\n",
    "# YOUR CODE HERE\n",
    "raise NotImplementedError()"
   ]
  },
  {
   "cell_type": "code",
   "execution_count": null,
   "metadata": {
    "deletable": false,
    "editable": false,
    "nbgrader": {
     "cell_type": "code",
     "checksum": "3883e85e0503be3ed1105173b23e5caf",
     "grade": true,
     "grade_id": "cell-b80864399445dcb3",
     "locked": true,
     "points": 3,
     "schema_version": 3,
     "solution": false,
     "task": false
    },
    "tags": []
   },
   "outputs": [],
   "source": [
    "quizz.eval_numeric('12', solucion)\n",
    "quizz.eval_numeric('13', error)\n",
    "quizz.eval_numeric('14', it)"
   ]
  },
  {
   "cell_type": "code",
   "execution_count": null,
   "metadata": {
    "deletable": false,
    "editable": false,
    "nbgrader": {
     "cell_type": "code",
     "checksum": "c625f381d5bd813b712fb6d3f76cfe21",
     "grade": false,
     "grade_id": "cell-037c1bc3a4d240e4",
     "locked": true,
     "schema_version": 3,
     "solution": false,
     "task": false
    },
    "tags": []
   },
   "outputs": [],
   "source": [
    "graficaPasosSolucion(x, PA, PB, xini, A, b, solucion, 'Jacobi, iter = {}, error = {:4.3e}'.format(it,error))"
   ]
  },
  {
   "cell_type": "markdown",
   "metadata": {
    "deletable": false,
    "editable": false,
    "nbgrader": {
     "cell_type": "markdown",
     "checksum": "3d5393040f21a31ee17941a9ee823903",
     "grade": false,
     "grade_id": "cell-23930f76b560abec",
     "locked": true,
     "schema_version": 3,
     "solution": false,
     "task": false
    },
    "tags": []
   },
   "source": [
    "<div class=\"alert alert-danger\">\n",
    "\n",
    "**NOTA**: Observa que aunque el resultado numérico dice ser correcto, las iteraciones no convergen a la solución. **¿A qué crees que se deba?**\n",
    "    \n",
    "</div>"
   ]
  },
  {
   "cell_type": "code",
   "execution_count": null,
   "metadata": {
    "deletable": false,
    "nbgrader": {
     "cell_type": "code",
     "checksum": "bf3dfc88a0aac3b85bed70128ee03a84",
     "grade": false,
     "grade_id": "cell-340a21d76aa4c773",
     "locked": false,
     "schema_version": 3,
     "solution": true,
     "task": false
    },
    "tags": []
   },
   "outputs": [],
   "source": [
    "# YOUR CODE HERE\n",
    "raise NotImplementedError()"
   ]
  },
  {
   "cell_type": "code",
   "execution_count": null,
   "metadata": {
    "deletable": false,
    "editable": false,
    "nbgrader": {
     "cell_type": "code",
     "checksum": "7c9503d1f280c8c100958df69c7702ad",
     "grade": true,
     "grade_id": "cell-bb76efa860b45e31",
     "locked": true,
     "points": 3,
     "schema_version": 3,
     "solution": false,
     "task": false
    },
    "tags": []
   },
   "outputs": [],
   "source": [
    "quizz.eval_numeric('15', solucion)\n",
    "quizz.eval_numeric('16', error)\n",
    "quizz.eval_numeric('17', it)"
   ]
  },
  {
   "cell_type": "code",
   "execution_count": null,
   "metadata": {
    "deletable": false,
    "editable": false,
    "nbgrader": {
     "cell_type": "code",
     "checksum": "35a665ae22faf8173365e4899f571fa2",
     "grade": false,
     "grade_id": "cell-c0bf130f323b1bdb",
     "locked": true,
     "schema_version": 3,
     "solution": false,
     "task": false
    },
    "tags": []
   },
   "outputs": [],
   "source": [
    "graficaPasosSolucion(x, PA, PB, xini, A, b, solucion, 'Gauss-Seidel, iter = {}, error = {:4.3e}'.format(it,error))"
   ]
  },
  {
   "cell_type": "markdown",
   "metadata": {
    "deletable": false,
    "editable": false,
    "nbgrader": {
     "cell_type": "markdown",
     "checksum": "c24075076788b7ce2cabebf244fdfcd6",
     "grade": false,
     "grade_id": "cell-63884807adea3ce5",
     "locked": true,
     "schema_version": 3,
     "solution": false,
     "task": false
    },
    "tags": []
   },
   "source": [
    "<div class=\"alert alert-danger\">\n",
    "\n",
    "**NOTA**: Observa que aunque el resultado numérico dice ser correcto, las iteraciones no convergen a la solución. **¿A qué crees que se deba?**\n",
    "    \n",
    "</div>"
   ]
  },
  {
   "cell_type": "code",
   "execution_count": null,
   "metadata": {},
   "outputs": [],
   "source": []
  }
 ],
 "metadata": {
  "colab": {
   "collapsed_sections": [],
   "name": "MetodosIterativos.ipynb",
   "provenance": [],
   "toc_visible": true
  },
  "kernelspec": {
   "display_name": "Python 3 (ipykernel)",
   "language": "python",
   "name": "python3"
  },
  "language_info": {
   "codemirror_mode": {
    "name": "ipython",
    "version": 3
   },
   "file_extension": ".py",
   "mimetype": "text/x-python",
   "name": "python",
   "nbconvert_exporter": "python",
   "pygments_lexer": "ipython3",
   "version": "3.11.5"
  }
 },
 "nbformat": 4,
 "nbformat_minor": 4
}
