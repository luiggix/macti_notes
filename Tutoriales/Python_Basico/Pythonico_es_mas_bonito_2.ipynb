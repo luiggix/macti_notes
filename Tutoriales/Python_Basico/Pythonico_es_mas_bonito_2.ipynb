{
 "cells": [
  {
   "cell_type": "markdown",
   "id": "bcbedecb",
   "metadata": {},
   "source": [
    "# Python de cero a experto\n",
    "**Autor:** Luis Miguel de la Cruz Salas\n",
    "\n",
    "<a href=\"https://github.com/luiggix/Python_cero_a_experto\">Python de cero a experto</a> by Luis M. de la Cruz Salas is licensed under <a href=\"https://creativecommons.org/licenses/by-nc-nd/4.0?ref=chooser-v1\">Attribution-NonCommercial-NoDerivatives 4.0 International</a>\n",
    "\n",
    "**Objetivos general**\n",
    "Revisar los conceptos de funciones, *docstring*, excepciones, iterables, mapeo, filtrado, funciones lambda y *comprehensions*. \n",
    "\n",
    "**Objetivos particulares**\n",
    "- Describir una lista de objetivos/actividades que se realizarán en esta práctica.\n",
    "- Hacer énfasis en los métodos y conceptos que se aprenderán y en algunas cuestiones computacionales. \n",
    "- No vaya más allá de tres objetivos particulares y sea muy concreto.\n",
    "\n",
    "## Contenido\n",
    "- [1 - Convertidor de unidades.](#1)\n",
    "    - [Ejemplo 1.](#ej-1)\n",
    "- [2 - Obteniendo datos de la web.](#2)"
   ]
  },
  {
   "cell_type": "markdown",
   "id": "24f09845",
   "metadata": {},
   "source": [
    "<a name='1'></a>\n",
    "## Convertidor de unidades\n",
    "\n",
    "El fútbol americano es un derivado del rugby inglés y nació hace más de cien años en Estados Unidos. Es bastante popular en ese país y se practica en más de 60 países. Para un espectador principiante que vive en un país donde se utiliza el Sistema Internacional de Unidades (SI) no es sencillo entender las dimensiones de la cancha dado que están en yardas y en pies.\n",
    "\n",
    "<img src=\"./utils/figs/field-dimensions-image-yards.jpeg\" style=\"width: 500px;\"/>"
   ]
  },
  {
   "cell_type": "markdown",
   "id": "2c9f20a1",
   "metadata": {},
   "source": [
    "### Ejemplo 1.\n",
    "El lanzamiento de balón, de futbol americano, más largo registrado fue de Vinny Testaverde, quien supuestamente lanzó una pelota de 80 yardas en 1988. Randall Cunningham una vez registró 76 yardas y Brett Favre lanzó una bomba de 75 yardas en la competencia del 97. El mariscal de campo Patrick Mahomes asegura que puede lanzar el balón 83 yardas.\n",
    "\n",
    "1. Realice un código que convierta yardas a metros y ordene los lanzamientos mencionados en el párrafo anterior de mayor a menor. Utilice funciones para realizar lo anterior.\n",
    "\n",
    "<img src=\"./utils/figs/unidades1.jpeg\" width=\"400\">"
   ]
  },
  {
   "cell_type": "markdown",
   "id": "4cd30b2f",
   "metadata": {},
   "source": [
    "<a href=\"./T06_Funciones_y_Documentacion.ipynb\">Funciones y documentación</a>"
   ]
  },
  {
   "cell_type": "markdown",
   "id": "8a661f7c",
   "metadata": {},
   "source": [
    "**<font color=\"#126534\">SOLUCIÓN.</font>**<br>"
   ]
  },
  {
   "cell_type": "code",
   "execution_count": 2,
   "id": "6b497f2c",
   "metadata": {},
   "outputs": [],
   "source": [
    "def yardaToMeter(l):\n",
    "    return l / 1.093"
   ]
  },
  {
   "cell_type": "code",
   "execution_count": 3,
   "id": "02ece22b",
   "metadata": {},
   "outputs": [
    {
     "data": {
      "text/plain": [
       "{'Vinny Testaverde': 80,\n",
       " 'Randall Cunningham': 76,\n",
       " 'Brett Favre': 75,\n",
       " 'Patrick Mahomes': 83}"
      ]
     },
     "execution_count": 3,
     "metadata": {},
     "output_type": "execute_result"
    }
   ],
   "source": [
    "lanzamientos = {'Vinny Testaverde':80, 'Randall Cunningham':76, 'Brett Favre':75, 'Patrick Mahomes':83}\n",
    "lanzamientos"
   ]
  },
  {
   "cell_type": "code",
   "execution_count": 4,
   "id": "5e2fa8de",
   "metadata": {},
   "outputs": [
    {
     "name": "stdout",
     "output_type": "stream",
     "text": [
      "Vinny Testaverde 80\n",
      "Randall Cunningham 76\n",
      "Brett Favre 75\n",
      "Patrick Mahomes 83\n"
     ]
    }
   ],
   "source": [
    "for key, val in lanzamientos.items():\n",
    "    print(key, val)"
   ]
  },
  {
   "cell_type": "code",
   "execution_count": 5,
   "id": "e7d51559",
   "metadata": {},
   "outputs": [
    {
     "data": {
      "text/plain": [
       "{'Vinny Testaverde': 73.19304666056725,\n",
       " 'Randall Cunningham': 69.53339432753889,\n",
       " 'Brett Favre': 68.6184812442818,\n",
       " 'Patrick Mahomes': 75.93778591033852}"
      ]
     },
     "execution_count": 5,
     "metadata": {},
     "output_type": "execute_result"
    }
   ],
   "source": [
    "lanza_metros = {}\n",
    "for key, val in lanzamientos.items():\n",
    "    lanza_metros[key] = yardaToMeter(val)\n",
    "    \n",
    "lanza_metros"
   ]
  },
  {
   "cell_type": "code",
   "execution_count": 6,
   "id": "bc075532",
   "metadata": {},
   "outputs": [
    {
     "data": {
      "text/plain": [
       "['Brett Favre', 'Patrick Mahomes', 'Randall Cunningham', 'Vinny Testaverde']"
      ]
     },
     "execution_count": 6,
     "metadata": {},
     "output_type": "execute_result"
    }
   ],
   "source": [
    "sorted(lanza_metros)"
   ]
  },
  {
   "cell_type": "code",
   "execution_count": 7,
   "id": "68b87428",
   "metadata": {},
   "outputs": [
    {
     "data": {
      "text/plain": [
       "[68.6184812442818, 69.53339432753889, 73.19304666056725, 75.93778591033852]"
      ]
     },
     "execution_count": 7,
     "metadata": {},
     "output_type": "execute_result"
    }
   ],
   "source": [
    "sorted(lanza_metros.values())"
   ]
  },
  {
   "cell_type": "code",
   "execution_count": 8,
   "id": "c7be6203",
   "metadata": {},
   "outputs": [
    {
     "data": {
      "text/plain": [
       "[('Patrick Mahomes', 75.93778591033852),\n",
       " ('Vinny Testaverde', 73.19304666056725),\n",
       " ('Randall Cunningham', 69.53339432753889),\n",
       " ('Brett Favre', 68.6184812442818)]"
      ]
     },
     "execution_count": 8,
     "metadata": {},
     "output_type": "execute_result"
    }
   ],
   "source": [
    "import operator\n",
    "sorted(lanza_metros.items(), key=operator.itemgetter(1), reverse=True)"
   ]
  },
  {
   "cell_type": "code",
   "execution_count": 11,
   "id": "38550162",
   "metadata": {},
   "outputs": [
    {
     "data": {
      "text/plain": [
       "[('Brett Favre', 68.6184812442818),\n",
       " ('Randall Cunningham', 69.53339432753889),\n",
       " ('Vinny Testaverde', 73.19304666056725),\n",
       " ('Patrick Mahomes', 75.93778591033852)]"
      ]
     },
     "execution_count": 11,
     "metadata": {},
     "output_type": "execute_result"
    }
   ],
   "source": [
    "sorted(lanza_metros.items(), key=lambda x: x[1])"
   ]
  },
  {
   "cell_type": "code",
   "execution_count": 12,
   "id": "68ede2e9",
   "metadata": {},
   "outputs": [
    {
     "data": {
      "text/plain": [
       "[('Patrick Mahomes', 75.93778591033852),\n",
       " ('Vinny Testaverde', 73.19304666056725),\n",
       " ('Randall Cunningham', 69.53339432753889),\n",
       " ('Brett Favre', 68.6184812442818)]"
      ]
     },
     "execution_count": 12,
     "metadata": {},
     "output_type": "execute_result"
    }
   ],
   "source": [
    "sorted(lanza_metros.items(), key=lambda x: x[1], reverse=True)"
   ]
  },
  {
   "cell_type": "code",
   "execution_count": 13,
   "id": "4f84c1d5",
   "metadata": {},
   "outputs": [
    {
     "data": {
      "text/plain": [
       "OrderedDict([('Brett Favre', 68.6184812442818),\n",
       "             ('Randall Cunningham', 69.53339432753889),\n",
       "             ('Vinny Testaverde', 73.19304666056725),\n",
       "             ('Patrick Mahomes', 75.93778591033852)])"
      ]
     },
     "execution_count": 13,
     "metadata": {},
     "output_type": "execute_result"
    }
   ],
   "source": [
    "from collections import OrderedDict\n",
    "OrderedDict(sorted(lanza_metros.items(), key=lambda x: x[1]))"
   ]
  },
  {
   "cell_type": "markdown",
   "id": "8fddcf11",
   "metadata": {},
   "source": [
    "<a href=\"./T07_Excepciones.ipynb\">Excepciones</a>"
   ]
  },
  {
   "cell_type": "markdown",
   "id": "f0fa920b",
   "metadata": {},
   "source": [
    "<a href=\"./T08_IterablesMapFilter.ipynb\">Iterables, Mapeo y Filtrado</a>"
   ]
  },
  {
   "cell_type": "markdown",
   "id": "157574c2",
   "metadata": {},
   "source": [
    "<a href=\"T09_LambdaExpressions_Reduce.ipynb\">Lambda Expressions y Reduce </a>"
   ]
  },
  {
   "cell_type": "markdown",
   "id": "a40a9253",
   "metadata": {},
   "source": [
    "<a href=\"T10_Comprehensions.ipynb\">Comprehensions</a>\n"
   ]
  },
  {
   "cell_type": "markdown",
   "id": "319988b1",
   "metadata": {},
   "source": [
    "### Miniproyecto 2.\n",
    "Obtener información de internet sobre los mariscales de campo que tienen el mayor número de yardas de todos los tiempos. Para ello siga las instrucciones que se dan en \"Obteniendo datos de la web\". Con esa información hacer lo siguiente:\n",
    "1. Transformar los datos de DataFrame a un diccionario usando *comprehensions*.\n",
    "2. Corregir los nombres para que solo la primera letra del nombre y apellido sean mayúscula.\n",
    "3. Generar un menú que permita al usuario elegir en qué unidades desea ver la información.\n",
    "   * Metros.\n",
    "   * Pies.\n",
    "   * Pulgadas\n",
    "   * Centímetros.\n",
    "4. El usuario podrá decidir el rango de jugadores que desea ver, por ejemplo: `4-8`, y solo mostrará la información de los jugadores del 4 al 8. Si el usuario pone `0-0` entonces se mostrará toda la lista.\n",
    "5. La información se muestra en dos columnas: Jugador, Yardas.\n",
    "6. Una vez mostrada la información, el usuario podrá elegir entre salir o hacer otra consulta.\n",
    "7. Para las conversiones de unidades usar funciones lambda.\n",
    "8. Usar manejo de excepciones para los posibles errores que pueda cometer el usuario."
   ]
  },
  {
   "cell_type": "markdown",
   "id": "cf642a36",
   "metadata": {},
   "source": [
    "<a name='2'></a>\n",
    "### Obteniendo datos de la web."
   ]
  },
  {
   "cell_type": "code",
   "execution_count": 14,
   "id": "f1d21a3e",
   "metadata": {},
   "outputs": [
    {
     "data": {
      "text/plain": [
       "True"
      ]
     },
     "execution_count": 14,
     "metadata": {},
     "output_type": "execute_result"
    }
   ],
   "source": [
    "import webbrowser\n",
    "website = 'http://www.espn.com/nfl/history/leaders/_/stat/passyards'\n",
    "webbrowser.open(website)"
   ]
  },
  {
   "cell_type": "code",
   "execution_count": 15,
   "id": "120b30a8",
   "metadata": {},
   "outputs": [],
   "source": [
    "import pandas as pd"
   ]
  },
  {
   "cell_type": "code",
   "execution_count": 16,
   "id": "c179e934",
   "metadata": {},
   "outputs": [
    {
     "data": {
      "text/html": [
       "<div>\n",
       "<style scoped>\n",
       "    .dataframe tbody tr th:only-of-type {\n",
       "        vertical-align: middle;\n",
       "    }\n",
       "\n",
       "    .dataframe tbody tr th {\n",
       "        vertical-align: top;\n",
       "    }\n",
       "\n",
       "    .dataframe thead th {\n",
       "        text-align: right;\n",
       "    }\n",
       "</style>\n",
       "<table border=\"1\" class=\"dataframe\">\n",
       "  <thead>\n",
       "    <tr style=\"text-align: right;\">\n",
       "      <th></th>\n",
       "      <th>RK</th>\n",
       "      <th>PLAYER</th>\n",
       "      <th>YDS</th>\n",
       "    </tr>\n",
       "  </thead>\n",
       "  <tbody>\n",
       "    <tr>\n",
       "      <th>0</th>\n",
       "      <td>1</td>\n",
       "      <td>DREW BREES</td>\n",
       "      <td>80,358</td>\n",
       "    </tr>\n",
       "    <tr>\n",
       "      <th>1</th>\n",
       "      <td>2</td>\n",
       "      <td>TOM BRADY</td>\n",
       "      <td>79,204</td>\n",
       "    </tr>\n",
       "    <tr>\n",
       "      <th>2</th>\n",
       "      <td>3</td>\n",
       "      <td>Peyton Manning</td>\n",
       "      <td>71,940</td>\n",
       "    </tr>\n",
       "    <tr>\n",
       "      <th>3</th>\n",
       "      <td>4</td>\n",
       "      <td>Brett Favre</td>\n",
       "      <td>71,838</td>\n",
       "    </tr>\n",
       "    <tr>\n",
       "      <th>4</th>\n",
       "      <td>5</td>\n",
       "      <td>Philip Rivers</td>\n",
       "      <td>63,440</td>\n",
       "    </tr>\n",
       "    <tr>\n",
       "      <th>5</th>\n",
       "      <td>6</td>\n",
       "      <td>Dan Marino</td>\n",
       "      <td>61,361</td>\n",
       "    </tr>\n",
       "    <tr>\n",
       "      <th>6</th>\n",
       "      <td>7</td>\n",
       "      <td>BEN ROETHLISBERGER</td>\n",
       "      <td>60,348</td>\n",
       "    </tr>\n",
       "    <tr>\n",
       "      <th>7</th>\n",
       "      <td>8</td>\n",
       "      <td>Eli Manning</td>\n",
       "      <td>57,023</td>\n",
       "    </tr>\n",
       "    <tr>\n",
       "      <th>8</th>\n",
       "      <td>9</td>\n",
       "      <td>MATT RYAN</td>\n",
       "      <td>55,767</td>\n",
       "    </tr>\n",
       "    <tr>\n",
       "      <th>9</th>\n",
       "      <td>10</td>\n",
       "      <td>John Elway</td>\n",
       "      <td>51,475</td>\n",
       "    </tr>\n",
       "    <tr>\n",
       "      <th>10</th>\n",
       "      <td>11</td>\n",
       "      <td>AARON RODGERS</td>\n",
       "      <td>51,245</td>\n",
       "    </tr>\n",
       "    <tr>\n",
       "      <th>11</th>\n",
       "      <td>12</td>\n",
       "      <td>Warren Moon</td>\n",
       "      <td>49,325</td>\n",
       "    </tr>\n",
       "    <tr>\n",
       "      <th>12</th>\n",
       "      <td>13</td>\n",
       "      <td>Fran Tarkenton</td>\n",
       "      <td>47,003</td>\n",
       "    </tr>\n",
       "    <tr>\n",
       "      <th>13</th>\n",
       "      <td>14</td>\n",
       "      <td>Carson Palmer</td>\n",
       "      <td>46,247</td>\n",
       "    </tr>\n",
       "    <tr>\n",
       "      <th>14</th>\n",
       "      <td>15</td>\n",
       "      <td>Vinny Testaverde</td>\n",
       "      <td>46,233</td>\n",
       "    </tr>\n",
       "    <tr>\n",
       "      <th>15</th>\n",
       "      <td>16</td>\n",
       "      <td>MATTHEW STAFFORD</td>\n",
       "      <td>45,109</td>\n",
       "    </tr>\n",
       "    <tr>\n",
       "      <th>16</th>\n",
       "      <td>17</td>\n",
       "      <td>Drew Bledsoe</td>\n",
       "      <td>44,611</td>\n",
       "    </tr>\n",
       "    <tr>\n",
       "      <th>17</th>\n",
       "      <td>18</td>\n",
       "      <td>Dan Fouts</td>\n",
       "      <td>43,040</td>\n",
       "    </tr>\n",
       "    <tr>\n",
       "      <th>18</th>\n",
       "      <td>19</td>\n",
       "      <td>JOE FLACCO</td>\n",
       "      <td>40,931</td>\n",
       "    </tr>\n",
       "    <tr>\n",
       "      <th>19</th>\n",
       "      <td>20</td>\n",
       "      <td>Kerry Collins</td>\n",
       "      <td>40,922</td>\n",
       "    </tr>\n",
       "  </tbody>\n",
       "</table>\n",
       "</div>"
      ],
      "text/plain": [
       "    RK              PLAYER     YDS\n",
       "0    1          DREW BREES  80,358\n",
       "1    2           TOM BRADY  79,204\n",
       "2    3      Peyton Manning  71,940\n",
       "3    4         Brett Favre  71,838\n",
       "4    5       Philip Rivers  63,440\n",
       "5    6          Dan Marino  61,361\n",
       "6    7  BEN ROETHLISBERGER  60,348\n",
       "7    8         Eli Manning  57,023\n",
       "8    9           MATT RYAN  55,767\n",
       "9   10          John Elway  51,475\n",
       "10  11       AARON RODGERS  51,245\n",
       "11  12         Warren Moon  49,325\n",
       "12  13      Fran Tarkenton  47,003\n",
       "13  14       Carson Palmer  46,247\n",
       "14  15    Vinny Testaverde  46,233\n",
       "15  16    MATTHEW STAFFORD  45,109\n",
       "16  17        Drew Bledsoe  44,611\n",
       "17  18           Dan Fouts  43,040\n",
       "18  19          JOE FLACCO  40,931\n",
       "19  20       Kerry Collins  40,922"
      ]
     },
     "execution_count": 16,
     "metadata": {},
     "output_type": "execute_result"
    }
   ],
   "source": [
    "# Antes de ejecutar esta celda, seleccione todos los datos de la tabla, \n",
    "# incluyendo los títulos y copiarlos al clipboard, es decir teclear [Ctrl + c]\n",
    "\n",
    "#-----------------------------------------------------------------------------\n",
    "# Es probable que en Linux se obtenga un error. La forma de resolverlo es como sigue\n",
    "#-----------------------------------------------------------------------------\n",
    "#You may get an error message that says: “Pyperclip could not find a copy/paste mechanism for your system. Please see https://pyperclip.readthedocs.io/en/latest/introduction.html#not-implemented-error for how to fix this.”\n",
    "#\n",
    "#In order to work equally well on Windows, Mac, and Linux, Pyperclip uses various mechanisms to do this. Currently, this error should only appear on Linux (not Windows or Mac). You can fix this by installing one of the copy/paste mechanisms:\n",
    "#\n",
    "#    sudo apt-get install xsel to install the xsel utility.\n",
    "#    sudo apt-get install xclip to install the xclip utility.\n",
    "#    pip install gtk to install the gtk Python module.\n",
    "#    pip install PyQt4 to install the PyQt4 Python module.\n",
    "#-----------------------------------------------------------------------------\n",
    "nfl_frame = pd.read_clipboard(engine='python')\n",
    "nfl_frame"
   ]
  },
  {
   "cell_type": "code",
   "execution_count": 21,
   "id": "356bac06",
   "metadata": {},
   "outputs": [
    {
     "data": {
      "text/html": [
       "<div>\n",
       "<style scoped>\n",
       "    .dataframe tbody tr th:only-of-type {\n",
       "        vertical-align: middle;\n",
       "    }\n",
       "\n",
       "    .dataframe tbody tr th {\n",
       "        vertical-align: top;\n",
       "    }\n",
       "\n",
       "    .dataframe thead th {\n",
       "        text-align: right;\n",
       "    }\n",
       "</style>\n",
       "<table border=\"1\" class=\"dataframe\">\n",
       "  <thead>\n",
       "    <tr style=\"text-align: right;\">\n",
       "      <th></th>\n",
       "      <th>Unnamed: 0</th>\n",
       "      <th>RK</th>\n",
       "      <th>PLAYER</th>\n",
       "      <th>YDS</th>\n",
       "    </tr>\n",
       "  </thead>\n",
       "  <tbody>\n",
       "    <tr>\n",
       "      <th>0</th>\n",
       "      <td>0</td>\n",
       "      <td>1</td>\n",
       "      <td>DREW BREES</td>\n",
       "      <td>80,358</td>\n",
       "    </tr>\n",
       "    <tr>\n",
       "      <th>1</th>\n",
       "      <td>1</td>\n",
       "      <td>2</td>\n",
       "      <td>TOM BRADY</td>\n",
       "      <td>79,204</td>\n",
       "    </tr>\n",
       "    <tr>\n",
       "      <th>2</th>\n",
       "      <td>2</td>\n",
       "      <td>3</td>\n",
       "      <td>Peyton Manning</td>\n",
       "      <td>71,940</td>\n",
       "    </tr>\n",
       "    <tr>\n",
       "      <th>3</th>\n",
       "      <td>3</td>\n",
       "      <td>4</td>\n",
       "      <td>Brett Favre</td>\n",
       "      <td>71,838</td>\n",
       "    </tr>\n",
       "    <tr>\n",
       "      <th>4</th>\n",
       "      <td>4</td>\n",
       "      <td>5</td>\n",
       "      <td>Philip Rivers</td>\n",
       "      <td>63,440</td>\n",
       "    </tr>\n",
       "    <tr>\n",
       "      <th>5</th>\n",
       "      <td>5</td>\n",
       "      <td>6</td>\n",
       "      <td>Dan Marino</td>\n",
       "      <td>61,361</td>\n",
       "    </tr>\n",
       "    <tr>\n",
       "      <th>6</th>\n",
       "      <td>6</td>\n",
       "      <td>7</td>\n",
       "      <td>BEN ROETHLISBERGER</td>\n",
       "      <td>60,348</td>\n",
       "    </tr>\n",
       "    <tr>\n",
       "      <th>7</th>\n",
       "      <td>7</td>\n",
       "      <td>8</td>\n",
       "      <td>Eli Manning</td>\n",
       "      <td>57,023</td>\n",
       "    </tr>\n",
       "    <tr>\n",
       "      <th>8</th>\n",
       "      <td>8</td>\n",
       "      <td>9</td>\n",
       "      <td>MATT RYAN</td>\n",
       "      <td>55,767</td>\n",
       "    </tr>\n",
       "    <tr>\n",
       "      <th>9</th>\n",
       "      <td>9</td>\n",
       "      <td>10</td>\n",
       "      <td>John Elway</td>\n",
       "      <td>51,475</td>\n",
       "    </tr>\n",
       "    <tr>\n",
       "      <th>10</th>\n",
       "      <td>10</td>\n",
       "      <td>11</td>\n",
       "      <td>AARON RODGERS</td>\n",
       "      <td>51,245</td>\n",
       "    </tr>\n",
       "    <tr>\n",
       "      <th>11</th>\n",
       "      <td>11</td>\n",
       "      <td>12</td>\n",
       "      <td>Warren Moon</td>\n",
       "      <td>49,325</td>\n",
       "    </tr>\n",
       "    <tr>\n",
       "      <th>12</th>\n",
       "      <td>12</td>\n",
       "      <td>13</td>\n",
       "      <td>Fran Tarkenton</td>\n",
       "      <td>47,003</td>\n",
       "    </tr>\n",
       "    <tr>\n",
       "      <th>13</th>\n",
       "      <td>13</td>\n",
       "      <td>14</td>\n",
       "      <td>Carson Palmer</td>\n",
       "      <td>46,247</td>\n",
       "    </tr>\n",
       "    <tr>\n",
       "      <th>14</th>\n",
       "      <td>14</td>\n",
       "      <td>15</td>\n",
       "      <td>Vinny Testaverde</td>\n",
       "      <td>46,233</td>\n",
       "    </tr>\n",
       "    <tr>\n",
       "      <th>15</th>\n",
       "      <td>15</td>\n",
       "      <td>16</td>\n",
       "      <td>MATTHEW STAFFORD</td>\n",
       "      <td>45,109</td>\n",
       "    </tr>\n",
       "    <tr>\n",
       "      <th>16</th>\n",
       "      <td>16</td>\n",
       "      <td>17</td>\n",
       "      <td>Drew Bledsoe</td>\n",
       "      <td>44,611</td>\n",
       "    </tr>\n",
       "    <tr>\n",
       "      <th>17</th>\n",
       "      <td>17</td>\n",
       "      <td>18</td>\n",
       "      <td>Dan Fouts</td>\n",
       "      <td>43,040</td>\n",
       "    </tr>\n",
       "    <tr>\n",
       "      <th>18</th>\n",
       "      <td>18</td>\n",
       "      <td>19</td>\n",
       "      <td>JOE FLACCO</td>\n",
       "      <td>40,931</td>\n",
       "    </tr>\n",
       "    <tr>\n",
       "      <th>19</th>\n",
       "      <td>19</td>\n",
       "      <td>20</td>\n",
       "      <td>Kerry Collins</td>\n",
       "      <td>40,922</td>\n",
       "    </tr>\n",
       "  </tbody>\n",
       "</table>\n",
       "</div>"
      ],
      "text/plain": [
       "    Unnamed: 0  RK              PLAYER     YDS\n",
       "0            0   1          DREW BREES  80,358\n",
       "1            1   2           TOM BRADY  79,204\n",
       "2            2   3      Peyton Manning  71,940\n",
       "3            3   4         Brett Favre  71,838\n",
       "4            4   5       Philip Rivers  63,440\n",
       "5            5   6          Dan Marino  61,361\n",
       "6            6   7  BEN ROETHLISBERGER  60,348\n",
       "7            7   8         Eli Manning  57,023\n",
       "8            8   9           MATT RYAN  55,767\n",
       "9            9  10          John Elway  51,475\n",
       "10          10  11       AARON RODGERS  51,245\n",
       "11          11  12         Warren Moon  49,325\n",
       "12          12  13      Fran Tarkenton  47,003\n",
       "13          13  14       Carson Palmer  46,247\n",
       "14          14  15    Vinny Testaverde  46,233\n",
       "15          15  16    MATTHEW STAFFORD  45,109\n",
       "16          16  17        Drew Bledsoe  44,611\n",
       "17          17  18           Dan Fouts  43,040\n",
       "18          18  19          JOE FLACCO  40,931\n",
       "19          19  20       Kerry Collins  40,922"
      ]
     },
     "execution_count": 21,
     "metadata": {},
     "output_type": "execute_result"
    }
   ],
   "source": [
    "# Si no logró obtener los datos del sitio web, puede abrir el archivo local \n",
    "# 'all_time_pass_yards.csv' con el siguiente comando:\n",
    "nfl_frame = pd.read_csv('all_time_pass_yards.csv')\n",
    "nfl_frame"
   ]
  },
  {
   "cell_type": "code",
   "execution_count": 22,
   "id": "5e338b9d",
   "metadata": {},
   "outputs": [],
   "source": [
    "# Convertir el Dataframe en un diccionario\n",
    "dummy = nfl_frame.to_dict('split')"
   ]
  },
  {
   "cell_type": "code",
   "execution_count": 23,
   "id": "362084f8",
   "metadata": {},
   "outputs": [
    {
     "data": {
      "text/plain": [
       "{'index': [0,\n",
       "  1,\n",
       "  2,\n",
       "  3,\n",
       "  4,\n",
       "  5,\n",
       "  6,\n",
       "  7,\n",
       "  8,\n",
       "  9,\n",
       "  10,\n",
       "  11,\n",
       "  12,\n",
       "  13,\n",
       "  14,\n",
       "  15,\n",
       "  16,\n",
       "  17,\n",
       "  18,\n",
       "  19],\n",
       " 'columns': ['Unnamed: 0', 'RK', 'PLAYER', 'YDS'],\n",
       " 'data': [[0, 1, 'DREW BREES', '80,358'],\n",
       "  [1, 2, 'TOM BRADY', '79,204'],\n",
       "  [2, 3, 'Peyton Manning', '71,940'],\n",
       "  [3, 4, 'Brett Favre', '71,838'],\n",
       "  [4, 5, 'Philip Rivers', '63,440'],\n",
       "  [5, 6, 'Dan Marino', '61,361'],\n",
       "  [6, 7, 'BEN ROETHLISBERGER', '60,348'],\n",
       "  [7, 8, 'Eli Manning', '57,023'],\n",
       "  [8, 9, 'MATT RYAN', '55,767'],\n",
       "  [9, 10, 'John Elway', '51,475'],\n",
       "  [10, 11, 'AARON RODGERS', '51,245'],\n",
       "  [11, 12, 'Warren Moon', '49,325'],\n",
       "  [12, 13, 'Fran Tarkenton', '47,003'],\n",
       "  [13, 14, 'Carson Palmer', '46,247'],\n",
       "  [14, 15, 'Vinny Testaverde', '46,233'],\n",
       "  [15, 16, 'MATTHEW STAFFORD', '45,109'],\n",
       "  [16, 17, 'Drew Bledsoe', '44,611'],\n",
       "  [17, 18, 'Dan Fouts', '43,040'],\n",
       "  [18, 19, 'JOE FLACCO', '40,931'],\n",
       "  [19, 20, 'Kerry Collins', '40,922']]}"
      ]
     },
     "execution_count": 23,
     "metadata": {},
     "output_type": "execute_result"
    }
   ],
   "source": [
    "dummy"
   ]
  },
  {
   "cell_type": "code",
   "execution_count": 18,
   "id": "e867dffe",
   "metadata": {},
   "outputs": [
    {
     "data": {
      "text/plain": [
       "[[1, 'DREW BREES', '80,358'],\n",
       " [2, 'TOM BRADY', '79,204'],\n",
       " [3, 'Peyton Manning', '71,940'],\n",
       " [4, 'Brett Favre', '71,838'],\n",
       " [5, 'Philip Rivers', '63,440'],\n",
       " [6, 'Dan Marino', '61,361'],\n",
       " [7, 'BEN ROETHLISBERGER', '60,348'],\n",
       " [8, 'Eli Manning', '57,023'],\n",
       " [9, 'MATT RYAN', '55,767'],\n",
       " [10, 'John Elway', '51,475'],\n",
       " [11, 'AARON RODGERS', '51,245'],\n",
       " [12, 'Warren Moon', '49,325'],\n",
       " [13, 'Fran Tarkenton', '47,003'],\n",
       " [14, 'Carson Palmer', '46,247'],\n",
       " [15, 'Vinny Testaverde', '46,233'],\n",
       " [16, 'MATTHEW STAFFORD', '45,109'],\n",
       " [17, 'Drew Bledsoe', '44,611'],\n",
       " [18, 'Dan Fouts', '43,040'],\n",
       " [19, 'JOE FLACCO', '40,931'],\n",
       " [20, 'Kerry Collins', '40,922']]"
      ]
     },
     "execution_count": 18,
     "metadata": {},
     "output_type": "execute_result"
    }
   ],
   "source": [
    "# Usar los datos de la entrada 'datos'\n",
    "dummy['data']"
   ]
  },
  {
   "cell_type": "code",
   "execution_count": 20,
   "id": "c95e8ef0",
   "metadata": {},
   "outputs": [
    {
     "data": {
      "text/plain": [
       "{'DREW BREES': '80,358',\n",
       " 'TOM BRADY': '79,204',\n",
       " 'Peyton Manning': '71,940',\n",
       " 'Brett Favre': '71,838',\n",
       " 'Philip Rivers': '63,440',\n",
       " 'Dan Marino': '61,361',\n",
       " 'BEN ROETHLISBERGER': '60,348',\n",
       " 'Eli Manning': '57,023',\n",
       " 'MATT RYAN': '55,767',\n",
       " 'John Elway': '51,475',\n",
       " 'AARON RODGERS': '51,245',\n",
       " 'Warren Moon': '49,325',\n",
       " 'Fran Tarkenton': '47,003',\n",
       " 'Carson Palmer': '46,247',\n",
       " 'Vinny Testaverde': '46,233',\n",
       " 'MATTHEW STAFFORD': '45,109',\n",
       " 'Drew Bledsoe': '44,611',\n",
       " 'Dan Fouts': '43,040',\n",
       " 'JOE FLACCO': '40,931',\n",
       " 'Kerry Collins': '40,922'}"
      ]
     },
     "execution_count": 20,
     "metadata": {},
     "output_type": "execute_result"
    }
   ],
   "source": [
    "# Transformar estos datos en un diccionario como sigue:\n",
    "datos_yardas = { qb[1]:qb[2] for qb in dummy['data']}\n",
    "datos_yardas"
   ]
  },
  {
   "cell_type": "markdown",
   "id": "b98f262a",
   "metadata": {},
   "source": [
    "<a href=\"T11_IteradoresGeneradores.ipynb\">Iteradores y generadores</a>"
   ]
  },
  {
   "cell_type": "markdown",
   "id": "ef1cf30b",
   "metadata": {},
   "source": [
    "<a href=\"T12_Decoradores.ipynb\">Decoradores</a>"
   ]
  },
  {
   "cell_type": "markdown",
   "id": "ddcd2bdd",
   "metadata": {},
   "source": [
    "<a href=\"T13_BibliotecaEstandar.ipynb\">Biblioteca estándar</a>"
   ]
  }
 ],
 "metadata": {
  "kernelspec": {
   "display_name": "Python 3 (ipykernel)",
   "language": "python",
   "name": "python3"
  },
  "language_info": {
   "codemirror_mode": {
    "name": "ipython",
    "version": 3
   },
   "file_extension": ".py",
   "mimetype": "text/x-python",
   "name": "python",
   "nbconvert_exporter": "python",
   "pygments_lexer": "ipython3",
   "version": "3.8.10"
  }
 },
 "nbformat": 4,
 "nbformat_minor": 5
}
