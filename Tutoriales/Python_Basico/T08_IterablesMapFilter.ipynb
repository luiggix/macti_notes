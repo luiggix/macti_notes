{
 "cells": [
  {
   "cell_type": "markdown",
   "metadata": {},
   "source": [
    "# Python de cero a experto\n",
    "**Autor:** Luis Miguel de la Cruz Salas\n",
    "\n",
    "<a href=\"https://github.com/luiggix/Python_cero_a_experto\">Python de cero a experto</a> by Luis M. de la Cruz Salas is licensed under <a href=\"https://creativecommons.org/licenses/by-nc-nd/4.0?ref=chooser-v1\">Attribution-NonCommercial-NoDerivatives 4.0 International</a>"
   ]
  },
  {
   "cell_type": "markdown",
   "metadata": {},
   "source": [
    "## Pythonico es más bonito: Pensando como pythonista (intermedio)"
   ]
  },
  {
   "cell_type": "markdown",
   "metadata": {},
   "source": [
    "### Iterables\n",
    "\n",
    "- La mayoría de los objetos contenedores se pueden recorrer usando un ciclo <font color=#009500>**for ... in ...**</font> . <br>\n",
    "\n",
    "- Estos contenedores se conocen como iterables (objetos iterables, secuencias iterables, contenedores iterables, conjunto iterable, ...).\n",
    "\n",
    "**Por ejemplo**:"
   ]
  },
  {
   "cell_type": "code",
   "execution_count": 1,
   "metadata": {},
   "outputs": [
    {
     "name": "stdout",
     "output_type": "stream",
     "text": [
      "\n",
      "cadena: 1 2 3 \n",
      "lista: 1 2 3 "
     ]
    }
   ],
   "source": [
    "mi_cadena = \"123\"\n",
    "mi_lista = [1,2,3]\n",
    "\n",
    "print('\\ncadena:', end=' ')\n",
    "for char in mi_cadena:\n",
    "    print(char, end=' ')\n",
    "    \n",
    "print('\\nlista:', end=' ')\n",
    "for element in mi_lista:\n",
    "    print(element, end=' ')"
   ]
  },
  {
   "cell_type": "markdown",
   "metadata": {},
   "source": [
    "**Mapeo** (`map`)\n",
    "\n",
    "En análisis matemático, un *Mapeo* es una regla que asigna a cada elemento de un primer conjunto, un único elemento de un segundo conjunto:\n",
    "\n",
    "$$\n",
    "\\texttt{map} \n",
    "$$\n",
    "$$\n",
    "\\left[\n",
    "\\begin{matrix}\n",
    "s_1 \\\\\n",
    "s_2 \\\\\n",
    "\\vdots \\\\\n",
    "s_{n-1}\n",
    "\\end{matrix}\n",
    "\\right]\n",
    "\\begin{matrix}\n",
    "\\longrightarrow \\\\\n",
    "\\longrightarrow \\\\\n",
    "\\vdots \\\\\n",
    "\\longrightarrow\n",
    "\\end{matrix}\n",
    "\\left[\n",
    "\\begin{matrix}\n",
    "t_1 \\\\\n",
    "t_2 \\\\\n",
    "\\vdots \\\\\n",
    "t_{n-1}\n",
    "\\end{matrix}\n",
    "\\right]\n",
    "$$\n",
    "\n",
    "**Definición**.\n",
    "```python\n",
    "map(function, sequence)\n",
    "``` \n",
    "<font color=#009500>**map( )**</font> es una función que toma dos argumentos: <br>\n",
    "\n",
    "1. Una función. <br>\n",
    "2. Una secuencia iterable. <br>\n",
    "\n",
    "<font color=#009500>**map( )**</font> aplica la función a todos los elementos de la secuencia y regresa una nueva lista con los elementos transformados por la función.\n",
    "\n",
    "**Por ejemplo**:\n",
    "$$\n",
    "f(x) = x^2 \n",
    "$$\n",
    "$$\n",
    "\\left[\n",
    "\\begin{matrix}\n",
    "0 \\\\\n",
    "1 \\\\\n",
    "2 \\\\\n",
    "3 \\\\\n",
    "4\n",
    "\\end{matrix}\n",
    "\\right]\n",
    "\\begin{matrix}\n",
    "\\longrightarrow \\\\\n",
    "\\longrightarrow \\\\\n",
    "\\longrightarrow \\\\\n",
    "\\longrightarrow \\\\\n",
    "\\longrightarrow\n",
    "\\end{matrix}\n",
    "\\left[\n",
    "\\begin{matrix}\n",
    "0 \\\\\n",
    "1 \\\\\n",
    "4 \\\\\n",
    "9 \\\\\n",
    "16\n",
    "\\end{matrix}\n",
    "\\right]\n",
    "$$\n"
   ]
  },
  {
   "cell_type": "code",
   "execution_count": 2,
   "metadata": {},
   "outputs": [
    {
     "name": "stdout",
     "output_type": "stream",
     "text": [
      "<class 'map'>\n",
      "<map object at 0x7f5450670880>\n",
      "[0, 1, 4, 9, 16]\n"
     ]
    }
   ],
   "source": [
    "def square(x):\n",
    "    return x**2\n",
    "\n",
    "x = [0,1,2,3,4]\n",
    "\n",
    "xs = map(square, x)\n",
    "\n",
    "print(type(xs))\n",
    "print(xs)\n",
    "print(list(xs))"
   ]
  },
  {
   "cell_type": "markdown",
   "metadata": {},
   "source": [
    "#### Ejercicio 1.\n",
    "- Convertir grados Fahrenheit a Celsius y viceversa:"
   ]
  },
  {
   "cell_type": "code",
   "execution_count": 3,
   "metadata": {},
   "outputs": [],
   "source": [
    "def toFahrenheit(T):\n",
    "    return (9/5)*T + 32\n",
    "\n",
    "def toCelsius(T):\n",
    "    return (5/9)*(T-32)\n",
    "    \n",
    "c = [0, 22.5, 40,100]"
   ]
  },
  {
   "cell_type": "code",
   "execution_count": 4,
   "metadata": {},
   "outputs": [],
   "source": [
    "fmap = map(toFahrenheit, c)"
   ]
  },
  {
   "cell_type": "code",
   "execution_count": 5,
   "metadata": {},
   "outputs": [
    {
     "name": "stdout",
     "output_type": "stream",
     "text": [
      "<map object at 0x7f5450601f40>\n"
     ]
    }
   ],
   "source": [
    "print(fmap)"
   ]
  },
  {
   "cell_type": "code",
   "execution_count": 6,
   "metadata": {},
   "outputs": [
    {
     "name": "stdout",
     "output_type": "stream",
     "text": [
      "[0, 22.5, 40, 100]\n",
      "[32.0, 72.5, 104.0, 212.0]\n"
     ]
    }
   ],
   "source": [
    "f = list(fmap)\n",
    "\n",
    "print(c)\n",
    "print(f)"
   ]
  },
  {
   "cell_type": "markdown",
   "metadata": {},
   "source": [
    "- Convertir Fahrenheit a Celsius en una solo línea."
   ]
  },
  {
   "cell_type": "code",
   "execution_count": 7,
   "metadata": {},
   "outputs": [
    {
     "name": "stdout",
     "output_type": "stream",
     "text": [
      "[32.0, 72.5, 104.0, 212.0]\n"
     ]
    }
   ],
   "source": [
    "print(list(map(toFahrenheit,c)))"
   ]
  },
  {
   "cell_type": "markdown",
   "metadata": {},
   "source": [
    "**Observación**:\n",
    "<font color=#009500>**map( )**</font> se puede aplicar a más de un conjunto iterable, siempre y cuando los iterables tengan la misma longitud."
   ]
  },
  {
   "cell_type": "code",
   "execution_count": 8,
   "metadata": {},
   "outputs": [
    {
     "data": {
      "text/plain": [
       "[15, 18, 21, 24]"
      ]
     },
     "execution_count": 8,
     "metadata": {},
     "output_type": "execute_result"
    }
   ],
   "source": [
    "def suma(x,y,z):\n",
    "    return x+y+z\n",
    "\n",
    "a = [1,2,3,4]\n",
    "b = [5,6,7,8]\n",
    "c = [9,10,11,12]\n",
    "\n",
    "list(map(suma, a,b,c))"
   ]
  },
  {
   "cell_type": "markdown",
   "metadata": {},
   "source": [
    "### Filtrado (`filter`) \n",
    "\n",
    "- Filtrar es un procedimiento para seleccionar cosas de un conjunto o para impedir su paso libremente.\n",
    "\n",
    "- En matemáticas, un filtro es un subconjunto especial de un conjunto parcialmente ordenado.\n",
    "\n",
    "$$\n",
    "\\texttt{filter} \n",
    "$$\n",
    "$$\n",
    "\\left[\n",
    "\\begin{matrix}\n",
    "s_1 \\\\ s_2 \\\\ s_3 \\\\ s_4 \\\\ s_{n-1} \n",
    "\\end{matrix}\n",
    "\\right]\n",
    "\\begin{matrix}\n",
    "\\\\ \\xrightarrow{\\texttt{True}} \\\\  \\\\ \\xrightarrow{\\texttt{True}}  \\\\ \\xrightarrow{\\texttt{True}}   \n",
    "\\end{matrix}\n",
    "\\left[\n",
    "\\begin{matrix}\n",
    "- \\\\ f_1 \\\\ - \\\\ f_2 \\\\ f_{m-1} \n",
    "\\end{matrix}\n",
    "\\right]\n",
    "$$\n",
    "\n",
    "#### Definición.\n",
    "```python\n",
    "filter(function, sequence)\n",
    "``` \n",
    "<font color=#009500>**filter( )**</font> es una función que toma dos argumentos:\n",
    "\n",
    "1. Una función que regrese un valor *Booleano* (`True`/`False`)\n",
    "2. Una secuencia iterable\n",
    "\n",
    "La función se aplica a cada elemento de la secuencia y solo cuando esta función regresa `True`, el elemento se incluirá en el subconjunto resultante.\n",
    "\n",
    "**Por ejemplo**:\n",
    "Encontrar los números pares en una lista:\n"
   ]
  },
  {
   "cell_type": "code",
   "execution_count": 30,
   "metadata": {},
   "outputs": [],
   "source": [
    "def esPar(n):\n",
    "    if n%2 == 0:\n",
    "        return True\n",
    "    else:\n",
    "        return False"
   ]
  },
  {
   "cell_type": "code",
   "execution_count": 29,
   "metadata": {},
   "outputs": [
    {
     "name": "stdout",
     "output_type": "stream",
     "text": [
      "True\n"
     ]
    }
   ],
   "source": [
    "print(esPar(10))"
   ]
  },
  {
   "cell_type": "code",
   "execution_count": 19,
   "metadata": {},
   "outputs": [
    {
     "name": "stdout",
     "output_type": "stream",
     "text": [
      "<class 'range'>\n",
      "[0, 1, 2, 3, 4, 5, 6, 7, 8, 9, 10, 11, 12, 13, 14, 15, 16, 17, 18, 19]\n"
     ]
    }
   ],
   "source": [
    "numeros = range(20)\n",
    "print(type(numeros))\n",
    "print(list(numeros))"
   ]
  },
  {
   "cell_type": "code",
   "execution_count": 20,
   "metadata": {},
   "outputs": [
    {
     "name": "stdout",
     "output_type": "stream",
     "text": [
      "[0, 2, 4, 6, 8, 10, 12, 14, 16, 18]\n"
     ]
    }
   ],
   "source": [
    "print(list(filter(esPar, numeros)))"
   ]
  },
  {
   "cell_type": "markdown",
   "metadata": {},
   "source": [
    "#### Ejercicio 2.\n",
    "Encontrar los números pares en una lista que contiene elementos de muchos tipos."
   ]
  },
  {
   "cell_type": "code",
   "execution_count": 21,
   "metadata": {},
   "outputs": [
    {
     "name": "stdout",
     "output_type": "stream",
     "text": [
      "['Hola', 4, 3.1416, 3, 8, ('a', 2), 10, {'x': 1.5, 'y': 5}]\n"
     ]
    }
   ],
   "source": [
    "lista = ['Hola', 4, 3.1416, 3, 8, ('a',2), 10, {'x':1.5, 'y':5} ]\n",
    "print(lista)"
   ]
  },
  {
   "cell_type": "markdown",
   "metadata": {},
   "source": [
    "- Paso 1: escribir una función que verifique si una entrada es de tipo int."
   ]
  },
  {
   "cell_type": "code",
   "execution_count": 22,
   "metadata": {},
   "outputs": [],
   "source": [
    "def esEntero(i):\n",
    "    if type(i) == int:\n",
    "        return True\n",
    "    else:\n",
    "        return False"
   ]
  },
  {
   "cell_type": "code",
   "execution_count": 23,
   "metadata": {},
   "outputs": [
    {
     "name": "stdout",
     "output_type": "stream",
     "text": [
      "False\n"
     ]
    }
   ],
   "source": [
    "print(esEntero(\"Hola\"))"
   ]
  },
  {
   "cell_type": "markdown",
   "metadata": {},
   "source": [
    "- Paso 2: usar la función esPar para encontrar los pares de la lista"
   ]
  },
  {
   "cell_type": "code",
   "execution_count": 26,
   "metadata": {},
   "outputs": [
    {
     "data": {
      "text/plain": [
       "[4, 8, 10]"
      ]
     },
     "execution_count": 26,
     "metadata": {},
     "output_type": "execute_result"
    }
   ],
   "source": [
    "list(filter(esPar, list(filter(esEntero,lista))))"
   ]
  },
  {
   "cell_type": "markdown",
   "metadata": {},
   "source": [
    "#### Ejercicio 3.\n",
    "Encontrar los números primos en el conjunto $\\{2, \\dots, 50\\}$."
   ]
  },
  {
   "cell_type": "code",
   "execution_count": 31,
   "metadata": {},
   "outputs": [
    {
     "name": "stdout",
     "output_type": "stream",
     "text": [
      "[2, 3, 5, 7, 11, 13, 17, 19, 23, 29, 31, 37, 41, 43, 47]\n"
     ]
    }
   ],
   "source": [
    "def noPrimo():\n",
    "    np_list = []\n",
    "    for i in range(2,8):\n",
    "        for j in range(i*2, 50, i):\n",
    "            np_list.append(j)\n",
    "    return np_list\n",
    "\n",
    "no_primo = noPrimo()\n",
    "#print(no_primo)\n",
    "\n",
    "def esPrimo(number):\n",
    "    np_list = noPrimo()\n",
    "    if(number not in np_list):\n",
    "        return True\n",
    "    \n",
    "numeros = list(range(2,50))\n",
    "\n",
    "#print(numeros)\n",
    "primo = list(filter(esPrimo, numeros))\n",
    "print(primo)"
   ]
  }
 ],
 "metadata": {
  "kernelspec": {
   "display_name": "Python 3 (ipykernel)",
   "language": "python",
   "name": "python3"
  },
  "language_info": {
   "codemirror_mode": {
    "name": "ipython",
    "version": 3
   },
   "file_extension": ".py",
   "mimetype": "text/x-python",
   "name": "python",
   "nbconvert_exporter": "python",
   "pygments_lexer": "ipython3",
   "version": "3.8.10"
  }
 },
 "nbformat": 4,
 "nbformat_minor": 4
}
