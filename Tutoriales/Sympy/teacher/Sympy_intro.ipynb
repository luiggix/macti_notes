{
 "cells": [
  {
   "cell_type": "markdown",
   "id": "39b007c6-7b69-409f-94db-7d6158aa3eb2",
   "metadata": {},
   "source": [
    "# SymPy\n",
    "\n",
    "**Autor**: Carlos Japhet Arellanos Balcázar\n",
    "\n",
    "**Objetivo general**\n",
    "- Conocer y usar las funcione básicas de la biblioteca SymPy para su integración en las notebooks de clase.\n",
    "\n",
    "**Objetivos particulares**\n",
    "- Manipular expresiones simbólicas en Python\n",
    "- Resolver simbólicamente ecuaciones algebraicas y diferenciales, así como derivadas e integrales\n",
    "- Conocer el manejo de matrices simbólicamente\n",
    "\n",
    "## Contenido\n",
    "1. [Introducción a SymPy](#1)\n",
    "    1. [¿Qué puede hacer SymPy?](#1-1)\n",
    "    3. [Importación de la biblioteca](#1-2)\n",
    "    4. [Formato de impresión](#1-3)\n",
    "2. [Ejercicio 1. Resolución de ecuaciones](#2)\n",
    "3. [Ejercicio 2. Límite, derivadas e integrales](#3)\n",
    "4. [Ejercicio 3. Matrices](#4)"
   ]
  },
  {
   "cell_type": "markdown",
   "id": "3339040d-5e55-4671-8202-e6034ea8f48e",
   "metadata": {},
   "source": [
    "<a name='1'></a>\n",
    "## Introducción a SymPy"
   ]
  },
  {
   "cell_type": "markdown",
   "id": "ffb0a954-8031-4dbf-a9d3-e3a7cde50814",
   "metadata": {},
   "source": [
    "De la página oficial de [SymPy](https://www.sympy.org/en/index.html):\n",
    "\n",
    "> SymPy es una biblioteca de Python para matemáticas simbólicas. Su objetivo es convertirse en un sistema de álgebra por computadora (CAS por sus siglas en inglés) completo manteniendo el código lo más simple posible a modo de que este sea comprensible y fácilmente extendible. SymPy está escrito completamente en Python.\n",
    "\n",
    "SymPy tiene la capacidad de resolver expresiones matemáticas de manera simbólica igual que si se resolvieran a mano o haciendo uso de cualquier otro CAS conocido (_MATLAB_, _Mathematica_, _Maple_, _Wolfram Alpha_) con la ventaja de ser un recurso libre y basado en Python, lo cual lo hace mucho más accesible a estudiantes y profesores."
   ]
  },
  {
   "cell_type": "markdown",
   "id": "aa53a25b-724b-48bb-9755-1a653a1ad0a0",
   "metadata": {},
   "source": [
    "<a name='1-1'></a>\n",
    "### ¿Qué puede hacer SymPy?\n",
    "\n",
    "SymPy tiene diversas funciones entre las cuales destacan: la simplificación de expresiones, cálculo de derivadas e integrales, solución de ecuaciones algebraicas y diferenciales, manejo de matrices, álgebra lineal, vectores y campos vectoriales.\n",
    "\n",
    "Todas estas funciones se pueden probar sin necesidad de instalar SymPy, a través de su sistema [Gamma](https://www.sympygamma.com/).\n",
    "\n",
    "Antes de entrar por completo a las funciones de SymPy, primero debemos abordar temas preliminares de esta biblioteca como son: la importación al notebook, impresión en notebook y generación de expresiones y ecuaciones."
   ]
  },
  {
   "cell_type": "markdown",
   "id": "a2a7e635-c056-4fda-af1a-698a18782ccd",
   "metadata": {},
   "source": [
    "<a name='1-2'></a>\n",
    "### Importación de la biblioteca"
   ]
  },
  {
   "cell_type": "code",
   "execution_count": 2,
   "id": "9edbcc5e-92af-4c24-b577-c519d28ed0aa",
   "metadata": {},
   "outputs": [],
   "source": [
    "import sympy"
   ]
  },
  {
   "cell_type": "markdown",
   "id": "7c153139-45cb-486f-b780-501118aa2a86",
   "metadata": {},
   "source": [
    "Una vez hecho esto, para llamar a cualquier función o método debemos incluir el prefijo ```sympy.```. Por ejemplo, si se quisiera ocupar el método de simplificación, deberá hacerse el llamado de la siguiente forma:\n",
    "\n",
    "```sympy.simplify()```"
   ]
  },
  {
   "cell_type": "markdown",
   "id": "164c7462-8272-4481-907b-12b64eff4b5a",
   "metadata": {},
   "source": [
    "<a name='1-3'></a>\n",
    "\n",
    "### Formato de impresión"
   ]
  },
  {
   "cell_type": "markdown",
   "id": "ccf3a93e-9027-4f49-9f0b-4a77b1814687",
   "metadata": {},
   "source": [
    "Al momento de trabajar con expresiones simbólicas, lo que buscamos es obtener una visualización adecuada de estas que nos permita observar el resultado. Para esto, SymPy cuenta con una función que busca el mejor estilo de impresión con el que cuenta la interfaz donde se está trabajando y es el que asigna a todo el notebook para hacer la impresión de expresiones. Para un Jupyter Noteboook, SymPy hará uso de **MathJax** o $\\LaTeX$.\n",
    "\n",
    "Para habilitar esta función, se debe ejecutar la siguiente línea:"
   ]
  },
  {
   "cell_type": "code",
   "execution_count": 3,
   "id": "7547aa71-1de8-4b1e-9369-0df0cfb53b0d",
   "metadata": {},
   "outputs": [],
   "source": [
    "sympy.init_printing()"
   ]
  },
  {
   "cell_type": "markdown",
   "id": "0a0952c7-ca27-493f-a1d4-add0979786b6",
   "metadata": {},
   "source": [
    "<a name='2'></a>\n",
    "## Ejercicio 1. Resolución de ecuaciones"
   ]
  },
  {
   "cell_type": "markdown",
   "id": "3ec87e09-1650-4e84-9797-ffddffe1a864",
   "metadata": {},
   "source": [
    "### Símbolos"
   ]
  },
  {
   "cell_type": "code",
   "execution_count": 4,
   "id": "637ea754-2476-4986-85fe-e279464f17e3",
   "metadata": {},
   "outputs": [
    {
     "data": {
      "image/png": "[encoded data removed]",
      "text/latex": [
       "$\\displaystyle x$"
      ],
      "text/plain": [
       "x"
      ]
     },
     "metadata": {},
     "output_type": "display_data"
    }
   ],
   "source": [
    "# Creación de símbolos por medio de la función symbols\n",
    "x = sympy.symbols('x')\n",
    "display(x)"
   ]
  },
  {
   "cell_type": "code",
   "execution_count": 5,
   "id": "2bb6bc57-a85c-4a5a-bd5e-18e60b965783",
   "metadata": {},
   "outputs": [
    {
     "data": {
      "image/png": "[encoded data removed]",
      "text/latex": [
       "$\\displaystyle \\alpha_{1}$"
      ],
      "text/plain": [
       "α₁"
      ]
     },
     "metadata": {},
     "output_type": "display_data"
    },
    {
     "data": {
      "image/png": "[encoded data removed]",
      "text/latex": [
       "$\\displaystyle \\beta_{1}$"
      ],
      "text/plain": [
       "β₁"
      ]
     },
     "metadata": {},
     "output_type": "display_data"
    }
   ],
   "source": [
    "# Se pueden generar símbolos con subíndices y letras griegas\n",
    "alpha_1, beta_1 = sympy.symbols('alpha_1, beta_1')\n",
    "display(alpha_1, beta_1)"
   ]
  },
  {
   "cell_type": "markdown",
   "id": "eac7ea3c-befb-4e02-a684-da9b1a816944",
   "metadata": {},
   "source": [
    "### Expresiones"
   ]
  },
  {
   "cell_type": "code",
   "execution_count": 6,
   "id": "4d025c20-bf8b-41d3-9b23-9608ae5c3120",
   "metadata": {},
   "outputs": [
    {
     "data": {
      "image/png": "[encoded data removed]",
      "text/latex": [
       "$\\displaystyle x \\left(- \\alpha_{1} + 2 x\\right)$"
      ],
      "text/plain": [
       "x⋅(-α₁ + 2⋅x)"
      ]
     },
     "metadata": {},
     "output_type": "display_data"
    },
    {
     "data": {
      "image/png": "[encoded data removed]",
      "text/latex": [
       "$\\displaystyle 3 \\beta_{1} + 4 x$"
      ],
      "text/plain": [
       "3⋅β₁ + 4⋅x"
      ]
     },
     "metadata": {},
     "output_type": "display_data"
    }
   ],
   "source": [
    "# Las expresiones en SymPy se generan igual como si nosotros\n",
    "# escribiésemos en papel una expresión (siguiendo la sintaxis\n",
    "# de Python, cabe aclarar)\n",
    "expresion1 = x * (2 * x - alpha_1)\n",
    "expresion2 = 4 * x + 3 * beta_1\n",
    "\n",
    "display(expresion1, expresion2)"
   ]
  },
  {
   "cell_type": "markdown",
   "id": "76e56259-58f5-4e3e-9575-66d19c266b71",
   "metadata": {},
   "source": [
    "### Ecuaciones"
   ]
  },
  {
   "cell_type": "code",
   "execution_count": 7,
   "id": "f371d77c-10b1-4ae4-b8fa-cd02402a6c27",
   "metadata": {},
   "outputs": [
    {
     "data": {
      "image/png": "[encoded data removed]",
      "text/latex": [
       "$\\displaystyle x \\left(- \\alpha_{1} + 2 x\\right) = 3 \\beta_{1} + 4 x$"
      ],
      "text/plain": [
       "x⋅(-α₁ + 2⋅x) = 3⋅β₁ + 4⋅x"
      ]
     },
     "metadata": {},
     "output_type": "display_data"
    }
   ],
   "source": [
    "# Las ecuaciones deben generarse haciendo uso de la función Eq\n",
    "ecuacion = sympy.Eq(expresion1, expresion2)\n",
    "display(ecuacion)"
   ]
  },
  {
   "cell_type": "markdown",
   "id": "5bd4502a-05d1-4e85-b712-b5b05a6e16de",
   "metadata": {},
   "source": [
    "#### Manejo de ecuaciones"
   ]
  },
  {
   "cell_type": "code",
   "execution_count": 8,
   "id": "14d349a0-ff53-4347-9cba-b30e2d087b0f",
   "metadata": {},
   "outputs": [
    {
     "data": {
      "image/png": "[encoded data removed]",
      "text/latex": [
       "$\\displaystyle x \\left(- \\alpha_{1} + 2 x\\right)$"
      ],
      "text/plain": [
       "x⋅(-α₁ + 2⋅x)"
      ]
     },
     "metadata": {},
     "output_type": "display_data"
    },
    {
     "data": {
      "image/png": "[encoded data removed]",
      "text/latex": [
       "$\\displaystyle 3 \\beta_{1} + 4 x$"
      ],
      "text/plain": [
       "3⋅β₁ + 4⋅x"
      ]
     },
     "metadata": {},
     "output_type": "display_data"
    }
   ],
   "source": [
    "# Para manipular los lados de las ecuaciones, se hace uso de\n",
    "# los métodos rhs y lhs\n",
    "ecuacion_lhs = ecuacion.lhs\n",
    "ecuacion_rhs = ecuacion.rhs\n",
    "\n",
    "display(ecuacion_lhs, ecuacion_rhs)"
   ]
  },
  {
   "cell_type": "code",
   "execution_count": 9,
   "id": "9497e881-41a9-4d6b-ac99-257703a7cdc5",
   "metadata": {},
   "outputs": [
    {
     "data": {
      "image/png": "[encoded data removed]",
      "text/latex": [
       "$\\displaystyle - \\alpha_{1} x + 2 x^{2}$"
      ],
      "text/plain": [
       "           2\n",
       "-α₁⋅x + 2⋅x "
      ]
     },
     "metadata": {},
     "output_type": "display_data"
    }
   ],
   "source": [
    "# Para expandir una expresión, hacemos uso de la función expand\n",
    "ecuacion_lhs = sympy.expand(ecuacion.lhs)\n",
    "\n",
    "display(ecuacion_lhs)"
   ]
  },
  {
   "cell_type": "code",
   "execution_count": 10,
   "id": "10859db0-0a13-45f9-af49-6ca244b839ec",
   "metadata": {},
   "outputs": [
    {
     "data": {
      "image/png": "[encoded data removed]",
      "text/latex": [
       "$\\displaystyle 2 x^{2} - 4 x$"
      ],
      "text/plain": [
       "   2      \n",
       "2⋅x  - 4⋅x"
      ]
     },
     "metadata": {},
     "output_type": "display_data"
    },
    {
     "data": {
      "image/png": "[encoded data removed]",
      "text/latex": [
       "$\\displaystyle 4 x + 9$"
      ],
      "text/plain": [
       "4⋅x + 9"
      ]
     },
     "metadata": {},
     "output_type": "display_data"
    }
   ],
   "source": [
    "# Para sustituir valores en una expresión, se hace uso del método subs\n",
    "ecuacion_lhs = ecuacion_lhs.subs(alpha_1, 4)\n",
    "ecuacion_rhs = ecuacion_rhs.subs(beta_1, 3)\n",
    "\n",
    "display(ecuacion_lhs, ecuacion_rhs)"
   ]
  },
  {
   "cell_type": "code",
   "execution_count": 11,
   "id": "a8a273ad-03da-4d30-ac95-a3b1ce56bde9",
   "metadata": {},
   "outputs": [
    {
     "data": {
      "image/png": "[encoded data removed]",
      "text/latex": [
       "$\\displaystyle x \\left(- \\alpha_{1} + 2 x\\right) = 3 \\beta_{1} + 4 x$"
      ],
      "text/plain": [
       "x⋅(-α₁ + 2⋅x) = 3⋅β₁ + 4⋅x"
      ]
     },
     "metadata": {},
     "output_type": "display_data"
    }
   ],
   "source": [
    "# Notemos que haber manipulado ambos lados de la ecuación por separado\n",
    "# no modifica la ecuación original que generamos\n",
    "display(ecuacion)"
   ]
  },
  {
   "cell_type": "code",
   "execution_count": 12,
   "id": "00437189-e35f-47b8-8523-633908a34554",
   "metadata": {},
   "outputs": [
    {
     "data": {
      "image/png": "[encoded data removed]",
      "text/latex": [
       "$\\displaystyle 2 x^{2} - 4 x = 4 x + 9$"
      ],
      "text/plain": [
       "   2                \n",
       "2⋅x  - 4⋅x = 4⋅x + 9"
      ]
     },
     "metadata": {},
     "output_type": "display_data"
    }
   ],
   "source": [
    "# Por lo tanto, debemos volver a generar la ecuacion\n",
    "ecuacion = sympy.Eq(ecuacion_lhs, ecuacion_rhs)\n",
    "\n",
    "display(ecuacion)"
   ]
  },
  {
   "cell_type": "markdown",
   "id": "dc3118c8-e425-4e9e-8ebb-8dc74b786fe1",
   "metadata": {},
   "source": [
    "### Resolución de ecuaciones algebraicas"
   ]
  },
  {
   "cell_type": "code",
   "execution_count": 13,
   "id": "475c5d52-c86b-4d4b-bcd5-7a5f661e232f",
   "metadata": {},
   "outputs": [
    {
     "data": {
      "image/png": "[encoded data removed]",
      "text/latex": [
       "$\\displaystyle \\left[ 2 - \\frac{\\sqrt{34}}{2}, \\  2 + \\frac{\\sqrt{34}}{2}\\right]$"
      ],
      "text/plain": [
       "⎡    √34      √34⎤\n",
       "⎢2 - ───, 2 + ───⎥\n",
       "⎣     2        2 ⎦"
      ]
     },
     "metadata": {},
     "output_type": "display_data"
    }
   ],
   "source": [
    "# Para resolver la ecuación que hemos generado, hacemos uso de\n",
    "# la función solve\n",
    "soluciones = sympy.solve(ecuacion)\n",
    "\n",
    "display(soluciones)"
   ]
  },
  {
   "cell_type": "markdown",
   "id": "c38c23d1-a9bd-4a4a-8136-c8fc8edf7977",
   "metadata": {},
   "source": [
    "#### Resolución de sistemas de ecuaciones"
   ]
  },
  {
   "cell_type": "code",
   "execution_count": 14,
   "id": "ecd83f8b-f426-419a-ad3e-2c87870346b0",
   "metadata": {},
   "outputs": [
    {
     "data": {
      "image/png": "[encoded data removed]",
      "text/latex": [
       "$\\displaystyle 7 y + \\frac{6 x^{2} + 3 x}{3 x}$"
      ],
      "text/plain": [
       "         2      \n",
       "      6⋅x  + 3⋅x\n",
       "7⋅y + ──────────\n",
       "         3⋅x    "
      ]
     },
     "metadata": {},
     "output_type": "display_data"
    },
    {
     "data": {
      "image/png": "[encoded data removed]",
      "text/latex": [
       "$\\displaystyle 8 x - 5 y$"
      ],
      "text/plain": [
       "8⋅x - 5⋅y"
      ]
     },
     "metadata": {},
     "output_type": "display_data"
    }
   ],
   "source": [
    "# Para resolver sistemas de ecuaciones, simplemente debemos\n",
    "# pasarle a la función solve una lista con las ecuaciones\n",
    "# (o expresiones) que queremos resolver\n",
    "y = sympy.symbols('y')\n",
    "\n",
    "expresion1 = (6 * x**2 + 3 * x) / (3 * x) + 7 * y\n",
    "expresion2 = 8 * x - 5 * y\n",
    "\n",
    "display(expresion1, expresion2)"
   ]
  },
  {
   "cell_type": "code",
   "execution_count": 15,
   "id": "b2bdb397-89b2-48b7-b42a-407807b50580",
   "metadata": {},
   "outputs": [
    {
     "data": {
      "image/png": "[encoded data removed]",
      "text/latex": [
       "$\\displaystyle 2 x + 7 y + 1$"
      ],
      "text/plain": [
       "2⋅x + 7⋅y + 1"
      ]
     },
     "metadata": {},
     "output_type": "display_data"
    }
   ],
   "source": [
    "# Como podemos observar, la expresión 1 está representada por\n",
    "# una fracción. Podemos simplificar esta expresión a manera\n",
    "# de obtener una más sencilla con la función simplify\n",
    "expresion1 = sympy.simplify(expresion1)\n",
    "\n",
    "display(expresion1)"
   ]
  },
  {
   "cell_type": "code",
   "execution_count": 16,
   "id": "9b34b594-3b11-465f-93b1-27ca0a05b091",
   "metadata": {},
   "outputs": [
    {
     "data": {
      "image/png": "[encoded data removed]",
      "text/latex": [
       "$\\displaystyle \\left\\{ x : - \\frac{5}{66}, \\  y : - \\frac{4}{33}\\right\\}$"
      ],
      "text/plain": [
       "{x: -5/66, y: -4/33}"
      ]
     },
     "execution_count": 16,
     "metadata": {},
     "output_type": "execute_result"
    }
   ],
   "source": [
    "# Una vez simplificada nuestra expresión, ahora sí procedemos\n",
    "# a ingresarlas en la función solve\n",
    "sympy.solve([expresion1, expresion2], [x, y])"
   ]
  },
  {
   "cell_type": "code",
   "execution_count": 17,
   "id": "e292cc13-0df1-4f0b-8181-8c36d46cbe73",
   "metadata": {},
   "outputs": [
    {
     "data": {
      "image/png": "[encoded data removed]",
      "text/latex": [
       "$\\displaystyle \\left\\{ x : \\frac{17}{13}, \\  y : \\frac{7}{13}\\right\\}$"
      ],
      "text/plain": [
       "⎧   17         ⎫\n",
       "⎨x: ──, y: 7/13⎬\n",
       "⎩   13         ⎭"
      ]
     },
     "execution_count": 17,
     "metadata": {},
     "output_type": "execute_result"
    }
   ],
   "source": [
    "# Podemos ver que las expresiones anteriores que ingresamos a\n",
    "# la función solve no fueron instancias de la función Eq.\n",
    "# Cuando pasamos expresiones directamente a la función solve,\n",
    "# esta automáticamente asume que estas se encuentran igualadas\n",
    "# a cero. Sin embargo, igual podemos pasarle instancias de Eq\n",
    "# y buscar las soluciones\n",
    "ecuacion1 = sympy.Eq(2 * x - 3 * y + 2, 3)\n",
    "ecuacion2 = sympy.Eq(3 * x + 2 * y - 3, 2)\n",
    "\n",
    "sympy.solve([ecuacion1, ecuacion2], [x, y])"
   ]
  },
  {
   "cell_type": "markdown",
   "id": "2af9d3d1-5b74-465f-aecf-84d0f65144fd",
   "metadata": {},
   "source": [
    "<a name='3'></a>\n",
    "## Ejercicio 2. Límites, derivadas e integrales"
   ]
  },
  {
   "cell_type": "markdown",
   "id": "58ad1fa6-e1fb-4afa-91ae-d77d5d2d0d4e",
   "metadata": {},
   "source": [
    "### Límites"
   ]
  },
  {
   "cell_type": "code",
   "execution_count": 18,
   "id": "6f42ba55-551d-4666-bbb6-06f6a64698f7",
   "metadata": {},
   "outputs": [
    {
     "data": {
      "image/png": "[encoded data removed]",
      "text/latex": [
       "$\\displaystyle 1$"
      ],
      "text/plain": [
       "1"
      ]
     },
     "execution_count": 18,
     "metadata": {},
     "output_type": "execute_result"
    }
   ],
   "source": [
    "# Para evaluar límites en SymPy, basta con hacer uso de la \n",
    "# función limit\n",
    "sympy.limit(sympy.sin(x) / x, x, 0)"
   ]
  },
  {
   "cell_type": "code",
   "execution_count": 19,
   "id": "f90af0ca-a19c-43be-8c01-d8da1821bd03",
   "metadata": {},
   "outputs": [
    {
     "data": {
      "image/png": "[encoded data removed]",
      "text/latex": [
       "$\\displaystyle 0$"
      ],
      "text/plain": [
       "0"
      ]
     },
     "execution_count": 19,
     "metadata": {},
     "output_type": "execute_result"
    }
   ],
   "source": [
    "# También se pueden evaluar límites al infinito\n",
    "sympy.limit(1 / x, x, sympy.oo)"
   ]
  },
  {
   "cell_type": "code",
   "execution_count": 20,
   "id": "ef55eec7-cc9c-4cae-ba59-28bb3117e0eb",
   "metadata": {},
   "outputs": [
    {
     "data": {
      "image/png": "[encoded data removed]",
      "text/latex": [
       "$\\displaystyle -\\infty$"
      ],
      "text/plain": [
       "-∞"
      ]
     },
     "execution_count": 20,
     "metadata": {},
     "output_type": "execute_result"
    }
   ],
   "source": [
    "# Y si queremos evaluar límites por izquierda o por derecha,\n",
    "# se debe agregar el caracter '-' o '+' a la función limit,\n",
    "# respectvamente\n",
    "sympy.limit(1 / x, x, 0, '-')"
   ]
  },
  {
   "cell_type": "code",
   "execution_count": 21,
   "id": "c76b2345-a422-408d-a4ba-ba6c0e3760f3",
   "metadata": {},
   "outputs": [
    {
     "data": {
      "image/png": "[encoded data removed]",
      "text/latex": [
       "$\\displaystyle \\infty$"
      ],
      "text/plain": [
       "∞"
      ]
     },
     "execution_count": 21,
     "metadata": {},
     "output_type": "execute_result"
    }
   ],
   "source": [
    "sympy.limit(1 / x, x, 0, '+')"
   ]
  },
  {
   "cell_type": "markdown",
   "id": "5256e0cf-76df-4d61-b3ab-b0764e5e1554",
   "metadata": {},
   "source": [
    "### Derivadas"
   ]
  },
  {
   "cell_type": "code",
   "execution_count": 22,
   "id": "d70ccfb1-6629-4231-80e9-323ba8998db0",
   "metadata": {},
   "outputs": [
    {
     "data": {
      "image/png": "[encoded data removed]",
      "text/latex": [
       "$\\displaystyle 2 x$"
      ],
      "text/plain": [
       "2⋅x"
      ]
     },
     "execution_count": 22,
     "metadata": {},
     "output_type": "execute_result"
    }
   ],
   "source": [
    "# SymPy cuenta con la función diff, la cual tiene la capacidad\n",
    "# de realizar derivadas de manera simbólica\n",
    "sympy.diff(x ** 2, x)"
   ]
  },
  {
   "cell_type": "code",
   "execution_count": 23,
   "id": "c21d8ad4-57e9-45e4-830b-44cad50f902e",
   "metadata": {},
   "outputs": [
    {
     "data": {
      "image/png": "[encoded data removed]",
      "text/latex": [
       "$\\displaystyle 6 x + 2 e^{x}$"
      ],
      "text/plain": [
       "         x\n",
       "6⋅x + 2⋅ℯ "
      ]
     },
     "execution_count": 23,
     "metadata": {},
     "output_type": "execute_result"
    }
   ],
   "source": [
    "# De igual manera, si tenemos una expresión ya escrita, podemos\n",
    "# aplicar diff como un método de dicha expresión\n",
    "expresion = 2 * sympy.exp(x) + 3 * x**2\n",
    "\n",
    "expresion.diff(x)"
   ]
  },
  {
   "cell_type": "code",
   "execution_count": 24,
   "id": "49bd5a97-a19e-4460-8f8a-e9b52ee37987",
   "metadata": {},
   "outputs": [
    {
     "data": {
      "image/png": "[encoded data removed]",
      "text/latex": [
       "$\\displaystyle 2 \\left(e^{x} + 3\\right)$"
      ],
      "text/plain": [
       "  ⎛ x    ⎞\n",
       "2⋅⎝ℯ  + 3⎠"
      ]
     },
     "execution_count": 24,
     "metadata": {},
     "output_type": "execute_result"
    }
   ],
   "source": [
    "# También podemos escribir derivadas de ordenes superiores\n",
    "# indicándolo como argumento de diff\n",
    "expresion.diff(x, 2)"
   ]
  },
  {
   "cell_type": "code",
   "execution_count": 25,
   "id": "a6f0ea16-199e-48e8-949a-71f120b2be9e",
   "metadata": {},
   "outputs": [
    {
     "data": {
      "image/png": "[encoded data removed]",
      "text/latex": [
       "$\\displaystyle y \\left(x^{2} y^{2} + 6 x y + 6\\right) e^{x y}$"
      ],
      "text/plain": [
       "  ⎛ 2  2            ⎞  x⋅y\n",
       "y⋅⎝x ⋅y  + 6⋅x⋅y + 6⎠⋅ℯ   "
      ]
     },
     "execution_count": 25,
     "metadata": {},
     "output_type": "execute_result"
    }
   ],
   "source": [
    "# Tambien podemos derivar respecto a más de una variable dentro\n",
    "# de la misma función\n",
    "expresion = sympy.exp(x * y) + x * sympy.cos(y)\n",
    "\n",
    "expresion.diff(x, x, y, x, y)"
   ]
  },
  {
   "cell_type": "markdown",
   "id": "748ea3eb-51c4-4a9b-b86c-1c78ae2623a4",
   "metadata": {},
   "source": [
    "#### Resolucion de ecuaciones diferenciales"
   ]
  },
  {
   "cell_type": "code",
   "execution_count": 26,
   "id": "277b9c52-4aa7-4ac4-82c6-23178fa08160",
   "metadata": {},
   "outputs": [
    {
     "data": {
      "image/png": "[encoded data removed]",
      "text/latex": [
       "$\\displaystyle - 4 f{\\left(x \\right)} + \\frac{d^{2}}{d x^{2}} f{\\left(x \\right)} = 2 e^{2 x} + 5 e^{- 2 x}$"
      ],
      "text/plain": [
       "            2                         \n",
       "           d             2⋅x      -2⋅x\n",
       "-4⋅f(x) + ───(f(x)) = 2⋅ℯ    + 5⋅ℯ    \n",
       "            2                         \n",
       "          dx                          "
      ]
     },
     "execution_count": 26,
     "metadata": {},
     "output_type": "execute_result"
    }
   ],
   "source": [
    "# Para resolver ecuaciones diferenciales, existe la función dsolve\n",
    "f = sympy.Function('f')\n",
    "\n",
    "edo = sympy.Eq(f(x).diff(x, 2) - 4 * f(x), 2 * sympy.exp(2 * x) + 5 * sympy.exp(-2 * x))\n",
    "edo"
   ]
  },
  {
   "cell_type": "code",
   "execution_count": 27,
   "id": "e76629ba-1577-4820-a70f-000d6826c2e4",
   "metadata": {},
   "outputs": [
    {
     "data": {
      "image/png": "[encoded data removed]",
      "text/latex": [
       "$\\displaystyle f{\\left(x \\right)} = \\left(C_{1} - \\frac{5 x}{4}\\right) e^{- 2 x} + \\left(C_{2} + \\frac{x}{2}\\right) e^{2 x}$"
      ],
      "text/plain": [
       "       ⎛     5⋅x⎞  -2⋅x   ⎛     x⎞  2⋅x\n",
       "f(x) = ⎜C₁ - ───⎟⋅ℯ     + ⎜C₂ + ─⎟⋅ℯ   \n",
       "       ⎝      4 ⎠         ⎝     2⎠     "
      ]
     },
     "execution_count": 27,
     "metadata": {},
     "output_type": "execute_result"
    }
   ],
   "source": [
    "# Teniendo una ecuación diferencial, lo ingresamos a la función\n",
    "# y obtenemos el resultado\n",
    "sympy.dsolve(edo, f(x))"
   ]
  },
  {
   "cell_type": "code",
   "execution_count": 28,
   "id": "7d1ceba1-c99d-4c2c-b157-c6c962dc81e1",
   "metadata": {},
   "outputs": [
    {
     "data": {
      "image/png": "[encoded data removed]",
      "text/latex": [
       "$\\displaystyle f{\\left(x \\right)} = \\left(- \\frac{5 x}{4} - \\frac{83}{16}\\right) e^{- 2 x} + \\left(\\frac{x}{2} - \\frac{13}{16}\\right) e^{2 x}$"
      ],
      "text/plain": [
       "       ⎛  5⋅x   83⎞  -2⋅x   ⎛x   13⎞  2⋅x\n",
       "f(x) = ⎜- ─── - ──⎟⋅ℯ     + ⎜─ - ──⎟⋅ℯ   \n",
       "       ⎝   4    16⎠         ⎝2   16⎠     "
      ]
     },
     "execution_count": 28,
     "metadata": {},
     "output_type": "execute_result"
    }
   ],
   "source": [
    "# Si conocemos las condiciones iniciales de la ecuación diferencial\n",
    "# podemos pasarlas como argumento a la función dsolve\n",
    "ics = {f(0): -6, f(x).diff(x).subs(x, 0): 8}\n",
    "\n",
    "sympy.dsolve(edo, f(x), ics=ics)"
   ]
  },
  {
   "cell_type": "markdown",
   "id": "cada2c55-8c6b-4169-b037-469463e4e7e5",
   "metadata": {},
   "source": [
    "### Integrales"
   ]
  },
  {
   "cell_type": "code",
   "execution_count": 29,
   "id": "ed239af2-3c61-44ca-8dcd-ccf884a8119b",
   "metadata": {},
   "outputs": [
    {
     "data": {
      "image/png": "[encoded data removed]",
      "text/latex": [
       "$\\displaystyle x^{2}$"
      ],
      "text/plain": [
       " 2\n",
       "x "
      ]
     },
     "execution_count": 29,
     "metadata": {},
     "output_type": "execute_result"
    }
   ],
   "source": [
    "# Para realizar una integral indefinida, se hace uso de la \n",
    "# función integrate\n",
    "sympy.integrate(2 * x, x)"
   ]
  },
  {
   "cell_type": "code",
   "execution_count": 30,
   "id": "27bf4f74-e7f4-437b-ba64-fda235282e1d",
   "metadata": {},
   "outputs": [
    {
     "data": {
      "image/png": "[encoded data removed]",
      "text/latex": [
       "$\\displaystyle c + x^{2}$"
      ],
      "text/plain": [
       "     2\n",
       "c + x "
      ]
     },
     "execution_count": 30,
     "metadata": {},
     "output_type": "execute_result"
    }
   ],
   "source": [
    "# Cabe notar que la función integrate no añade la constante de\n",
    "# integración, lo cual debe agregarse de manera manual\n",
    "c = sympy.symbols('c')\n",
    "\n",
    "sympy.integrate(2 * x, x) + c"
   ]
  },
  {
   "cell_type": "code",
   "execution_count": 31,
   "id": "6ddff715-455c-418e-b6cf-a112964d6608",
   "metadata": {},
   "outputs": [
    {
     "data": {
      "image/png": "[encoded data removed]",
      "text/latex": [
       "$\\displaystyle - \\frac{1}{e^{\\frac{\\pi}{2}}} + e^{\\frac{\\pi}{2}}$"
      ],
      "text/plain": [
       "   -π     π\n",
       "   ───    ─\n",
       "    2     2\n",
       "- ℯ    + ℯ "
      ]
     },
     "execution_count": 31,
     "metadata": {},
     "output_type": "execute_result"
    }
   ],
   "source": [
    "# Para una integral definida, se agregan los límites de\n",
    "# integración a la función integrate\n",
    "resultado = sympy.integrate(sympy.exp(-x), (x, -sympy.pi / 2, sympy.pi / 2))\n",
    "resultado"
   ]
  },
  {
   "cell_type": "code",
   "execution_count": 32,
   "id": "41bf65bd-e50d-4e23-92d0-5dbe998db86b",
   "metadata": {},
   "outputs": [
    {
     "data": {
      "image/png": "[encoded data removed]",
      "text/latex": [
       "$\\displaystyle 4.602597805$"
      ],
      "text/plain": [
       "4.602597805"
      ]
     },
     "execution_count": 32,
     "metadata": {},
     "output_type": "execute_result"
    }
   ],
   "source": [
    "# Si quisiéramos conocer el valor de esta integral, sólo basta\n",
    "# con usar el método evalf\n",
    "resultado.evalf(10)"
   ]
  },
  {
   "cell_type": "markdown",
   "id": "ea00c72d-8ee3-4ca1-bc19-1eda24bd7b04",
   "metadata": {},
   "source": [
    "<a name='4'></a>\n",
    "## Ejercicio 3. Matrices"
   ]
  },
  {
   "cell_type": "markdown",
   "id": "2d675238-76ab-4dd9-b95d-f7e11d795b6c",
   "metadata": {},
   "source": [
    "Para esta sección, demostraremos el manejo de matrices por medio de un ejercicio práctico. Encontraremos los eigenvalores de la siguiente matriz:\n",
    "\n",
    "$$\n",
    "\\begin{bmatrix}\n",
    "3 & 0 & -5 \\\\\n",
    "\\frac{1}{5} & -1 & 0 \\\\\n",
    "1 & 1 & -2\n",
    "\\end{bmatrix}\n",
    "$$"
   ]
  },
  {
   "cell_type": "code",
   "execution_count": 33,
   "id": "589e5fd1-db87-4d36-9026-448c394275e0",
   "metadata": {},
   "outputs": [
    {
     "data": {
      "image/png": "[encoded data removed]",
      "text/latex": [
       "$\\displaystyle \\left[\\begin{matrix}3 & 0 & -5\\\\0.2 & -1 & 0\\\\1 & 1 & -2\\end{matrix}\\right]$"
      ],
      "text/plain": [
       "⎡ 3   0   -5⎤\n",
       "⎢           ⎥\n",
       "⎢0.2  -1  0 ⎥\n",
       "⎢           ⎥\n",
       "⎣ 1   1   -2⎦"
      ]
     },
     "execution_count": 33,
     "metadata": {},
     "output_type": "execute_result"
    }
   ],
   "source": [
    "# Primero, vamos a generar la matriz en SymPy por medio del\n",
    "# objeto Matrix\n",
    "A = sympy.Matrix([[3, 0, -5], [1/5, -1, 0], [1, 1, -2]])\n",
    "A"
   ]
  },
  {
   "cell_type": "code",
   "execution_count": 40,
   "id": "74f9a187-a747-4a32-ae76-2e8b03a30401",
   "metadata": {},
   "outputs": [],
   "source": [
    "# Ahora, vamos a aplicar la ecuación matricial:\n",
    "# A - λI\n",
    "# Para esto, primero asignamos una variable para el símbolo lambda\n",
    "𝜆 = sympy.symbols('lambda')\n",
    "# Se debe tener cuidado en este caso, dado que la palabra\n",
    "# lambda se encuentra reservada en Python. \n",
    "# Debido a que Python está basaso en UTF8, podemos usar símbolos como nombres de variables."
   ]
  },
  {
   "cell_type": "code",
   "execution_count": 41,
   "id": "4015d1c2-910c-4b61-b5da-2a53a600cfcc",
   "metadata": {},
   "outputs": [
    {
     "data": {
      "image/png": "[encoded data removed]",
      "text/latex": [
       "$\\displaystyle \\left[\\begin{matrix}1 & 0 & 0\\\\0 & 1 & 0\\\\0 & 0 & 1\\end{matrix}\\right]$"
      ],
      "text/plain": [
       "⎡1  0  0⎤\n",
       "⎢       ⎥\n",
       "⎢0  1  0⎥\n",
       "⎢       ⎥\n",
       "⎣0  0  1⎦"
      ]
     },
     "execution_count": 41,
     "metadata": {},
     "output_type": "execute_result"
    }
   ],
   "source": [
    "# Ahora, para generar nuestra matriz identidad, podemos hacerlo\n",
    "# con la función eye. Y para obtener sus dimensiones, podemos\n",
    "# hacer uso de la instancia shape\n",
    "I = sympy.eye(A.shape[0])\n",
    "I"
   ]
  },
  {
   "cell_type": "code",
   "execution_count": 42,
   "id": "29942a8b-0a47-4bde-8b18-06d49e50fa28",
   "metadata": {},
   "outputs": [
    {
     "data": {
      "image/png": "[encoded data removed]",
      "text/latex": [
       "$\\displaystyle \\left[\\begin{matrix}3 - \\lambda & 0 & -5\\\\0.2 & - \\lambda - 1 & 0\\\\1 & 1 & - \\lambda - 2\\end{matrix}\\right]$"
      ],
      "text/plain": [
       "⎡3 - λ    0       -5  ⎤\n",
       "⎢                     ⎥\n",
       "⎢ 0.2   -λ - 1    0   ⎥\n",
       "⎢                     ⎥\n",
       "⎣  1      1     -λ - 2⎦"
      ]
     },
     "execution_count": 42,
     "metadata": {},
     "output_type": "execute_result"
    }
   ],
   "source": [
    "# Ahora ya podemos efectuar la ecuación matricial para poder evaluar\n",
    "ecuacion = A - 𝜆 * I\n",
    "ecuacion"
   ]
  },
  {
   "cell_type": "code",
   "execution_count": 43,
   "id": "39da7d0a-c785-4705-bc3d-bbc344e2fc2c",
   "metadata": {},
   "outputs": [
    {
     "data": {
      "image/png": "[encoded data removed]",
      "text/latex": [
       "$\\displaystyle - \\lambda^{3} + 2 \\lambda$"
      ],
      "text/plain": [
       "   3      \n",
       "- λ  + 2⋅λ"
      ]
     },
     "execution_count": 43,
     "metadata": {},
     "output_type": "execute_result"
    }
   ],
   "source": [
    "# Y para obtener el polinomio característico, hacemos uso\n",
    "# del método det\n",
    "poli_car = ecuacion.det()\n",
    "poli_car"
   ]
  },
  {
   "cell_type": "code",
   "execution_count": 44,
   "id": "dc991ec4-e2eb-4a97-ba77-26994f0b8a52",
   "metadata": {},
   "outputs": [
    {
     "data": {
      "image/png": "[encoded data removed]",
      "text/latex": [
       "$\\displaystyle \\left[ 0, \\  - \\sqrt{2}, \\  \\sqrt{2}\\right]$"
      ],
      "text/plain": [
       "[0, -√2, √2]"
      ]
     },
     "execution_count": 44,
     "metadata": {},
     "output_type": "execute_result"
    }
   ],
   "source": [
    "# Finalmente, hacemos uso de la función solve para encontrar\n",
    "# las raíces del polinomio característico.\n",
    "sympy.solve(poli_car)"
   ]
  },
  {
   "cell_type": "markdown",
   "id": "e7dcb71c-e380-4dc1-97e1-9e3f47610cdb",
   "metadata": {},
   "source": [
    "---"
   ]
  }
 ],
 "metadata": {
  "kernelspec": {
   "display_name": "Python 3 (ipykernel)",
   "language": "python",
   "name": "python3"
  },
  "language_info": {
   "codemirror_mode": {
    "name": "ipython",
    "version": 3
   },
   "file_extension": ".py",
   "mimetype": "text/x-python",
   "name": "python",
   "nbconvert_exporter": "python",
   "pygments_lexer": "ipython3",
   "version": "3.9.7"
  }
 },
 "nbformat": 4,
 "nbformat_minor": 5
}
