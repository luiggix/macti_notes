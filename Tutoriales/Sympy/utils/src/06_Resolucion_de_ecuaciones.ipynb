{
 "cells": [
  {
   "cell_type": "markdown",
   "id": "3253efee-89c0-4083-915a-97205e75cd79",
   "metadata": {},
   "source": [
    "# Resolución de ecuaciones\n",
    "\n",
    "**Autor**: Carlos Japhet Arellanos Balcázar"
   ]
  },
  {
   "cell_type": "code",
   "execution_count": 1,
   "id": "f831212c-22c6-4d6a-afb1-74fe98166a59",
   "metadata": {},
   "outputs": [],
   "source": [
    "# Importación de la librería\n",
    "import sympy\n",
    "# Impresión con Latex\n",
    "sympy.init_printing()"
   ]
  },
  {
   "cell_type": "markdown",
   "id": "ec35cdb1-c717-4340-83ae-d8722b0fc0da",
   "metadata": {},
   "source": [
    "## Solución algebraica de ecuaciones"
   ]
  },
  {
   "cell_type": "markdown",
   "id": "4d5abda8-98b6-449c-9425-4ee2ab5c541a",
   "metadata": {},
   "source": [
    "Para resolver ecuaciones algebraicas, se usa la función ```solve``` cuya sintáxis es: la ecuación a resolver y la(s) variable(s) sobre la(s) que se resolverá la ecuación.\n",
    "\n",
    "Hay que recordar que SymPy maneja las funciones de manera diferente a otros sistemas de álgebra computacional. Para generar una ecuación, se debe usar la función ```Eq```"
   ]
  },
  {
   "cell_type": "code",
   "execution_count": 2,
   "id": "d7f588c0-42f2-4dcb-ac40-d111d5888477",
   "metadata": {},
   "outputs": [
    {
     "data": {
      "image/png": "[encoded data removed]",
      "text/latex": [
       "$\\displaystyle x - 2 = 4$"
      ],
      "text/plain": [
       "x - 2 = 4"
      ]
     },
     "execution_count": 2,
     "metadata": {},
     "output_type": "execute_result"
    }
   ],
   "source": [
    "x, y = sympy.symbols('x, y')\n",
    "\n",
    "ecuacion = sympy.Eq(x - 2, 4)\n",
    "ecuacion"
   ]
  },
  {
   "cell_type": "markdown",
   "id": "77831e69-9d28-4089-9d01-bf8316ac1e47",
   "metadata": {},
   "source": [
    "La ecuación que recibe ```solve``` puede ser de dos tipos:\n",
    "\n",
    "* Una ecuación generada por ```Eq```"
   ]
  },
  {
   "cell_type": "code",
   "execution_count": 3,
   "id": "e32936c5-f90e-4698-ac72-fbd7273dd991",
   "metadata": {},
   "outputs": [
    {
     "data": {
      "image/png": "[encoded data removed]",
      "text/latex": [
       "$\\displaystyle x^{2} - 2 = 4$"
      ],
      "text/plain": [
       " 2        \n",
       "x  - 2 = 4"
      ]
     },
     "metadata": {},
     "output_type": "display_data"
    },
    {
     "data": {
      "image/png": "[encoded data removed]",
      "text/latex": [
       "$\\displaystyle \\left[ - \\sqrt{6}, \\  \\sqrt{6}\\right]$"
      ],
      "text/plain": [
       "[-√6, √6]"
      ]
     },
     "execution_count": 3,
     "metadata": {},
     "output_type": "execute_result"
    }
   ],
   "source": [
    "ecuacion = sympy.Eq(x**2 - 2, 4)\n",
    "display(ecuacion)\n",
    "\n",
    "sympy.solve(ecuacion, x)"
   ]
  },
  {
   "cell_type": "markdown",
   "id": "25384311-e5f2-44f9-a5db-41d5cbe30cca",
   "metadata": {},
   "source": [
    "* Una expresión, la cual directamente SymPy asume que está igualada a cero"
   ]
  },
  {
   "cell_type": "code",
   "execution_count": 4,
   "id": "0a1efe79-d7c2-44ea-b31b-2b47e2e6ac2c",
   "metadata": {},
   "outputs": [
    {
     "data": {
      "image/png": "[encoded data removed]",
      "text/latex": [
       "$\\displaystyle x^{2} - 1$"
      ],
      "text/plain": [
       " 2    \n",
       "x  - 1"
      ]
     },
     "metadata": {},
     "output_type": "display_data"
    },
    {
     "data": {
      "image/png": "[encoded data removed]",
      "text/latex": [
       "$\\displaystyle \\left[ -1, \\  1\\right]$"
      ],
      "text/plain": [
       "[-1, 1]"
      ]
     },
     "execution_count": 4,
     "metadata": {},
     "output_type": "execute_result"
    }
   ],
   "source": [
    "expresion =  x**2 - 1\n",
    "display(expresion)\n",
    "\n",
    "sympy.solve(expresion, x)"
   ]
  },
  {
   "cell_type": "markdown",
   "id": "38517d08-e71e-4fe5-b42f-896e2a40f4fa",
   "metadata": {},
   "source": [
    "Con ```solve``` igual pueden resolverse sistemas de ecuaciones. Para esto, el sistema y las variables deben pasarse como argumentos a la función en forma de listas"
   ]
  },
  {
   "cell_type": "code",
   "execution_count": 5,
   "id": "3def60f5-e460-404a-87c7-f0f561121258",
   "metadata": {},
   "outputs": [
    {
     "data": {
      "image/png": "[encoded data removed]",
      "text/latex": [
       "$\\displaystyle \\left\\{ x : 0, \\  y : -1\\right\\}$"
      ],
      "text/plain": [
       "{x: 0, y: -1}"
      ]
     },
     "execution_count": 5,
     "metadata": {},
     "output_type": "execute_result"
    }
   ],
   "source": [
    "ecuacion_1 = sympy.Eq(x - y + 2, 3)\n",
    "ecuacion_2 = sympy.Eq(x + y + 3, 2)\n",
    "\n",
    "sympy.solve([ecuacion_1, ecuacion_2], [x, y])"
   ]
  },
  {
   "cell_type": "markdown",
   "id": "3da7aa39-0eca-4e39-85f6-bc534925afb9",
   "metadata": {},
   "source": [
    "De igual manera, se le pude pasar una lista de expresiones la cual SymPy automaticamente asumirá que están igualadas a cero"
   ]
  },
  {
   "cell_type": "code",
   "execution_count": 6,
   "id": "b7fd7cc5-998f-4f85-9a25-e16a7caaa972",
   "metadata": {},
   "outputs": [
    {
     "data": {
      "image/png": "[encoded data removed]",
      "text/latex": [
       "$\\displaystyle \\left\\{ x : - \\frac{5}{2}, \\  y : - \\frac{1}{2}\\right\\}$"
      ],
      "text/plain": [
       "{x: -5/2, y: -1/2}"
      ]
     },
     "execution_count": 6,
     "metadata": {},
     "output_type": "execute_result"
    }
   ],
   "source": [
    "expresion_1 = x - y + 2\n",
    "expresion_2 = x + y + 3\n",
    "\n",
    "sympy.solve([expresion_1, expresion_2], [x, y])"
   ]
  },
  {
   "cell_type": "markdown",
   "id": "7955d883-a87f-416b-92b1-88415c046d1c",
   "metadata": {
    "tags": []
   },
   "source": [
    "## Resolviendo ecuaciones diferenciales"
   ]
  },
  {
   "cell_type": "markdown",
   "id": "6e74544c-3e77-47a6-9514-7adca9f905ef",
   "metadata": {},
   "source": [
    "Para resolver una ecuación diferencial, se utiliza la función ```dsolve```. \n",
    "\n",
    "Primero, para definir una variable que represente una función debemos hacer uso de ```Function```"
   ]
  },
  {
   "cell_type": "code",
   "execution_count": 7,
   "id": "f34c51a6-c88c-47cc-ab58-e3056b730be5",
   "metadata": {},
   "outputs": [
    {
     "data": {
      "image/png": "[encoded data removed]",
      "text/latex": [
       "$\\displaystyle f{\\left(x \\right)}$"
      ],
      "text/plain": [
       "f(x)"
      ]
     },
     "execution_count": 7,
     "metadata": {},
     "output_type": "execute_result"
    }
   ],
   "source": [
    "f = sympy.Function('f')\n",
    "\n",
    "f(x)"
   ]
  },
  {
   "cell_type": "markdown",
   "id": "50ab338a-6a08-4457-abeb-514c69a296f3",
   "metadata": {},
   "source": [
    "Construimos la ecuación diferencial haciendo uso del método ```diff```"
   ]
  },
  {
   "cell_type": "code",
   "execution_count": 8,
   "id": "fb96bded-200c-4848-8903-cd4c71f458aa",
   "metadata": {},
   "outputs": [
    {
     "data": {
      "image/png": "[encoded data removed]",
      "text/latex": [
       "$\\displaystyle f{\\left(x \\right)} - 2 \\frac{d}{d x} f{\\left(x \\right)} + \\frac{d^{2}}{d x^{2}} f{\\left(x \\right)} = \\sin{\\left(x \\right)}$"
      ],
      "text/plain": [
       "                      2               \n",
       "         d           d                \n",
       "f(x) - 2⋅──(f(x)) + ───(f(x)) = sin(x)\n",
       "         dx           2               \n",
       "                    dx                "
      ]
     },
     "metadata": {},
     "output_type": "display_data"
    }
   ],
   "source": [
    "eq_dif = sympy.Eq(f(x).diff(x, x) - 2 * f(x).diff(x) + f(x), sympy.sin(x))\n",
    "display(eq_dif)"
   ]
  },
  {
   "cell_type": "markdown",
   "id": "1a38bc22-91b4-4f93-81bb-53f153c766ea",
   "metadata": {},
   "source": [
    "Para resolver la ecuación diferencial, usamos ```dsolve``` cuyos argumentos son: la ecuación diferencial y la función que se quiere encontrar"
   ]
  },
  {
   "cell_type": "code",
   "execution_count": 9,
   "id": "22abc46b-2d25-4d44-80cb-33117ab40338",
   "metadata": {},
   "outputs": [
    {
     "data": {
      "image/png": "[encoded data removed]",
      "text/latex": [
       "$\\displaystyle f{\\left(x \\right)} = \\left(C_{1} + C_{2} x\\right) e^{x} + \\frac{\\cos{\\left(x \\right)}}{2}$"
      ],
      "text/plain": [
       "                    x   cos(x)\n",
       "f(x) = (C₁ + C₂⋅x)⋅ℯ  + ──────\n",
       "                          2   "
      ]
     },
     "execution_count": 9,
     "metadata": {},
     "output_type": "execute_result"
    }
   ],
   "source": [
    "sympy.dsolve(eq_dif, f(x))"
   ]
  },
  {
   "cell_type": "markdown",
   "id": "d8aebb93-e60a-4860-bd71-a104c0d386a4",
   "metadata": {},
   "source": [
    "Si se conocen las condiciones iniciales/de frontera, se pueden pasar como un diccionario a ```dsolve```, en el argumento ```ics```.\n",
    "\n",
    "Las condiciones de la función $y(a)$ se representan de la siguiente forma: ```y(a): b```.\n",
    "\n",
    "Para las condiciones iniciales/de frontera de derivadas, se debe hacer uso del método ```diff``` y ```subs```: ```y(x).diff(x).subs(x, a): b```"
   ]
  },
  {
   "cell_type": "code",
   "execution_count": 10,
   "id": "df152794-5e1a-45e0-9cea-4145465043c6",
   "metadata": {},
   "outputs": [
    {
     "data": {
      "image/png": "[encoded data removed]",
      "text/latex": [
       "$\\displaystyle f{\\left(x \\right)} = \\left(\\frac{3 x}{2} + \\frac{1}{2}\\right) e^{x} + \\frac{\\cos{\\left(x \\right)}}{2}$"
      ],
      "text/plain": [
       "       ⎛3⋅x   1⎞  x   cos(x)\n",
       "f(x) = ⎜─── + ─⎟⋅ℯ  + ──────\n",
       "       ⎝ 2    2⎠        2   "
      ]
     },
     "execution_count": 10,
     "metadata": {},
     "output_type": "execute_result"
    }
   ],
   "source": [
    "ics = {f(0): 1, f(x).diff(x).subs(x, 0): 2}\n",
    "\n",
    "sympy.dsolve(eq_dif, f(x), ics = ics)"
   ]
  },
  {
   "cell_type": "markdown",
   "id": "e65bec0a-de46-4bad-ac80-1f5c6c619d7b",
   "metadata": {},
   "source": [
    "---\n",
    "\n",
    "Para conocer más acerca de la resolución de ecuaciones, haga click [aquí](https://docs.sympy.org/latest/tutorial/solvers.html)"
   ]
  }
 ],
 "metadata": {
  "kernelspec": {
   "display_name": "Python 3 (ipykernel)",
   "language": "python",
   "name": "python3"
  },
  "language_info": {
   "codemirror_mode": {
    "name": "ipython",
    "version": 3
   },
   "file_extension": ".py",
   "mimetype": "text/x-python",
   "name": "python",
   "nbconvert_exporter": "python",
   "pygments_lexer": "ipython3",
   "version": "3.8.13"
  }
 },
 "nbformat": 4,
 "nbformat_minor": 5
}
