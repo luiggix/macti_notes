{
 "cells": [
  {
   "cell_type": "markdown",
   "id": "4e17e9f9-d47d-4b8c-84b9-2400ae0243f2",
   "metadata": {},
   "source": [
    "# Preliminares de SymPy\n",
    "\n",
    "**Autor**: Carlos Japhet Arellanos Balcázar"
   ]
  },
  {
   "cell_type": "markdown",
   "id": "3472164b-35c0-41eb-951c-a3dc4c9aac4b",
   "metadata": {},
   "source": [
    "## Impresión de expresiones\n",
    "\n",
    "Antes de poder realizar cualquier operación en SymPy, es crucial primero establecer el estilo de impresión de las expresiones en el notebook. Para hacer esto, hacemos uso de la función ```init_printing()``` y dependiendo del argumento que reciba esta función, será el estilo de impresión que usará SymPy. En caso de no darle un argumento a la función, esta utilizará el estilo más adecuado al ambiente sobre el que se esté trabajando."
   ]
  },
  {
   "cell_type": "code",
   "execution_count": 1,
   "id": "34ad4943-1eda-4228-8ab6-1787ca9b48f5",
   "metadata": {},
   "outputs": [],
   "source": [
    "import sympy\n",
    "sympy.init_printing()"
   ]
  },
  {
   "cell_type": "markdown",
   "id": "92b8210d-a268-497e-9dc3-1cdd14d34bb6",
   "metadata": {},
   "source": [
    "Para ver otros estilos de impresión y otros tipos de impresión de expresiones, puede consultar la documentación al respecto [aquí](http://certik.github.io/scipy-2013-tutorial/html/tutorial/printing.html)."
   ]
  },
  {
   "cell_type": "markdown",
   "id": "884d584d-f419-4f7f-9e10-00bb194ad7c1",
   "metadata": {},
   "source": [
    "## Símbolos"
   ]
  },
  {
   "cell_type": "markdown",
   "id": "1503fba8-cd87-4f93-b9df-b2e40e142897",
   "metadata": {},
   "source": [
    "Al trabajar con expresiones matemáticas, hacemos uso de variables o incógnitas que representan los valores que estamos buscando o, en otros casos, otras expresiones.\n",
    "\n",
    "SymPy sabe muy bien de eso, por lo que está preparado para manejar variables simbólicas. Para esto, debemos hacer uso de la función ```symbols``` incluida en la librería."
   ]
  },
  {
   "cell_type": "code",
   "execution_count": 2,
   "id": "cc554123-a67d-4054-a7e4-7fbcc1e427be",
   "metadata": {},
   "outputs": [
    {
     "data": {
      "image/png": "[encoded data removed]",
      "text/latex": [
       "$\\displaystyle x$"
      ],
      "text/plain": [
       "x"
      ]
     },
     "execution_count": 2,
     "metadata": {},
     "output_type": "execute_result"
    }
   ],
   "source": [
    "x = sympy.symbols('x')\n",
    "x"
   ]
  },
  {
   "cell_type": "markdown",
   "id": "51557da3-e102-47c4-bafd-44d1b192e831",
   "metadata": {},
   "source": [
    "Como una buena práctica, se acostumbra que la variable que contendrá a nuestro símbolo sea idéntica al símbolo, siempre tomando en consideración las palabras reservadas que existen en Python."
   ]
  },
  {
   "cell_type": "markdown",
   "id": "0dde095b-376c-4871-8684-a7ff7faf78ed",
   "metadata": {},
   "source": [
    "Con la función ```symbols``` podemos definir más de un solo símbolo en la misma línea, la función retornará una tupla con los símbolos generados y para asignarlos sólo debemos usar la sintáxis básica de Python."
   ]
  },
  {
   "cell_type": "code",
   "execution_count": 3,
   "id": "1461e1fc-7856-485e-8c67-79d56b8f00a5",
   "metadata": {},
   "outputs": [
    {
     "data": {
      "image/png": "[encoded data removed]",
      "text/latex": [
       "$\\displaystyle \\left( x, \\  y\\right)$"
      ],
      "text/plain": [
       "(x, y)"
      ]
     },
     "execution_count": 3,
     "metadata": {},
     "output_type": "execute_result"
    }
   ],
   "source": [
    "x, y = sympy.symbols('x, y')\n",
    "x, y"
   ]
  },
  {
   "cell_type": "markdown",
   "id": "db68171c-93fd-4318-b54c-cc483b20c445",
   "metadata": {},
   "source": [
    "Cabe mencionar que SymPy asigna las variables en el orden que fueron ingresadas, por lo que se debe tener cuidado al momento de generar los símbolos"
   ]
  },
  {
   "cell_type": "code",
   "execution_count": 4,
   "id": "cc9e165e-54dd-4296-9d19-1e195e674397",
   "metadata": {},
   "outputs": [
    {
     "data": {
      "image/png": "[encoded data removed]",
      "text/latex": [
       "$\\displaystyle \\left( bol, \\  sym\\right)$"
      ],
      "text/plain": [
       "(bol, sym)"
      ]
     },
     "execution_count": 4,
     "metadata": {},
     "output_type": "execute_result"
    }
   ],
   "source": [
    "sym, bol = sympy.symbols('bol, sym')\n",
    "sym, bol"
   ]
  },
  {
   "cell_type": "markdown",
   "id": "0aa670a1-b67d-4db6-a66b-3ab05a8c8320",
   "metadata": {},
   "source": [
    "Finalmente, para generar símbolos con subíndices sólo debemos agregar el caracter ```_``` al símbolo que queremos generar"
   ]
  },
  {
   "cell_type": "code",
   "execution_count": 5,
   "id": "96e688c5-dec2-4154-84dc-6be023f2d6ae",
   "metadata": {},
   "outputs": [
    {
     "data": {
      "image/png": "[encoded data removed]",
      "text/latex": [
       "$\\displaystyle t_{1}$"
      ],
      "text/plain": [
       "t₁"
      ]
     },
     "execution_count": 5,
     "metadata": {},
     "output_type": "execute_result"
    }
   ],
   "source": [
    "t_1 = sympy.symbols('t_1')\n",
    "t_1"
   ]
  },
  {
   "cell_type": "markdown",
   "id": "d1ce677b-be0b-4d39-8f34-9c3aa5e694e7",
   "metadata": {},
   "source": [
    "## Ecuaciones"
   ]
  },
  {
   "cell_type": "markdown",
   "id": "714ec46f-1afd-427b-8fc1-a510456f1065",
   "metadata": {},
   "source": [
    "Las limitaciones de SymPy están directamente ligadas a las de Python; si se quisiera escribir una ecuación, se tendrá que hacer uso de la función ```Eq``` dado que Python interpreta el signo igual (```=```) como una asignación y el doble igual (```==```) como una comparación lógica."
   ]
  },
  {
   "cell_type": "code",
   "execution_count": 6,
   "id": "20e244d0-dc06-4081-a3aa-9ae77ed2233f",
   "metadata": {},
   "outputs": [
    {
     "data": {
      "image/png": "[encoded data removed]",
      "text/latex": [
       "$\\displaystyle x + 1 = y$"
      ],
      "text/plain": [
       "x + 1 = y"
      ]
     },
     "execution_count": 6,
     "metadata": {},
     "output_type": "execute_result"
    }
   ],
   "source": [
    "x, y = sympy.symbols('x, y')\n",
    "ecuacion = sympy.Eq(x + 1, y)\n",
    "ecuacion"
   ]
  },
  {
   "cell_type": "markdown",
   "id": "d326b442-f1bc-4233-8ba9-212e19926849",
   "metadata": {},
   "source": [
    "Supongamos que ahora tenemos la siguiente ecuación"
   ]
  },
  {
   "cell_type": "code",
   "execution_count": 7,
   "id": "56b88f61-9af7-45e9-892c-dd34a5759ae5",
   "metadata": {},
   "outputs": [
    {
     "data": {
      "image/png": "[encoded data removed]",
      "text/latex": [
       "$\\displaystyle 30 x^{2} + 2 x + 10 = 30 x^{2} y$"
      ],
      "text/plain": [
       "    2                  2  \n",
       "30⋅x  + 2⋅x + 10 = 30⋅x ⋅y"
      ]
     },
     "execution_count": 7,
     "metadata": {},
     "output_type": "execute_result"
    }
   ],
   "source": [
    "ecuacion = sympy.Eq(30 * x**2 + 2 * x + 10, 30 * x**2 * y)\n",
    "ecuacion"
   ]
  },
  {
   "cell_type": "markdown",
   "id": "9efc6742-53eb-4fac-9e35-0365d90875fe",
   "metadata": {},
   "source": [
    "y queremos manipular el lado derecho de la ecuación para sustituir el valor de $y = 5$. Para lograr esto, debe hacerse uso del método ```rhs``` (o ```lhs``` si se quisiera manipular el lado izquierdo). De esta manera, el lado derecho podría extraerse así"
   ]
  },
  {
   "cell_type": "code",
   "execution_count": 8,
   "id": "a69ec55c-3adb-476c-ad0f-223dee41badd",
   "metadata": {},
   "outputs": [
    {
     "data": {
      "image/png": "[encoded data removed]",
      "text/latex": [
       "$\\displaystyle 30 x^{2} y$"
      ],
      "text/plain": [
       "    2  \n",
       "30⋅x ⋅y"
      ]
     },
     "execution_count": 8,
     "metadata": {},
     "output_type": "execute_result"
    }
   ],
   "source": [
    "ecuacionRHS = ecuacion.rhs\n",
    "ecuacionRHS"
   ]
  },
  {
   "cell_type": "markdown",
   "id": "89b223af-82f1-456b-b9d3-ce43868c21f4",
   "metadata": {},
   "source": [
    "Esta ya es una expresión que nosotros podemos manipular sin tener errores de algún tipo y a la que podemos aplicarle diversas funciones."
   ]
  },
  {
   "cell_type": "markdown",
   "id": "49c5e342-26f1-45be-afbd-b243a652d527",
   "metadata": {},
   "source": [
    "## Números especiales"
   ]
  },
  {
   "cell_type": "markdown",
   "id": "1850855f-8a46-4312-8bf9-3d866ba33780",
   "metadata": {},
   "source": [
    "Existen diversos números que por las limitaciones de Python no es posible representar de manera adecuada y por lo tanto se manejan de forma diferente en SymPy"
   ]
  },
  {
   "cell_type": "markdown",
   "id": "db10decd-004f-45df-89f4-675f2ce15602",
   "metadata": {},
   "source": [
    "### Racionales"
   ]
  },
  {
   "cell_type": "code",
   "execution_count": 9,
   "id": "101001d6-8378-45e5-89c4-4f92a86a76c1",
   "metadata": {},
   "outputs": [
    {
     "data": {
      "image/png": "[encoded data removed]",
      "text/latex": [
       "$\\displaystyle \\frac{1}{3}$"
      ],
      "text/plain": [
       "1/3"
      ]
     },
     "execution_count": 9,
     "metadata": {},
     "output_type": "execute_result"
    }
   ],
   "source": [
    "sympy.Rational(1, 3)"
   ]
  },
  {
   "cell_type": "markdown",
   "id": "487294b7-4629-4b74-8281-df5f13793c6a",
   "metadata": {},
   "source": [
    "### Pi (π)"
   ]
  },
  {
   "cell_type": "code",
   "execution_count": 10,
   "id": "e70616bb-0f41-4609-b425-2bf8ba8bebca",
   "metadata": {},
   "outputs": [
    {
     "data": {
      "image/png": "[encoded data removed]",
      "text/latex": [
       "$\\displaystyle \\pi$"
      ],
      "text/plain": [
       "π"
      ]
     },
     "execution_count": 10,
     "metadata": {},
     "output_type": "execute_result"
    }
   ],
   "source": [
    "sympy.pi"
   ]
  },
  {
   "cell_type": "code",
   "execution_count": 11,
   "id": "c6081dab-d2a1-4229-a300-28d9807ca4e4",
   "metadata": {},
   "outputs": [
    {
     "data": {
      "image/png": "[encoded data removed]",
      "text/latex": [
       "$\\displaystyle 3.14159265358979$"
      ],
      "text/plain": [
       "3.14159265358979"
      ]
     },
     "execution_count": 11,
     "metadata": {},
     "output_type": "execute_result"
    }
   ],
   "source": [
    "sympy.pi.evalf()"
   ]
  },
  {
   "cell_type": "markdown",
   "id": "df43c843-05d0-45ff-b848-b68bf3d688e7",
   "metadata": {},
   "source": [
    "### Números complejos"
   ]
  },
  {
   "cell_type": "code",
   "execution_count": 12,
   "id": "cd1204bf-00ce-49c0-bb33-fbf7e83cf0e2",
   "metadata": {},
   "outputs": [
    {
     "data": {
      "image/png": "[encoded data removed]",
      "text/latex": [
       "$\\displaystyle 3 + 2 i$"
      ],
      "text/plain": [
       "3 + 2⋅ⅈ"
      ]
     },
     "execution_count": 12,
     "metadata": {},
     "output_type": "execute_result"
    }
   ],
   "source": [
    "3 + 2 * sympy.I"
   ]
  },
  {
   "cell_type": "markdown",
   "id": "d881db22-0c2e-4129-bdc8-a12e5c7d0ef4",
   "metadata": {},
   "source": [
    "### Número de Euler"
   ]
  },
  {
   "cell_type": "code",
   "execution_count": 13,
   "id": "92b89114-57dc-4cdf-815c-3e1899f29128",
   "metadata": {},
   "outputs": [
    {
     "data": {
      "image/png": "[encoded data removed]",
      "text/latex": [
       "$\\displaystyle e^{2}$"
      ],
      "text/plain": [
       " 2\n",
       "ℯ "
      ]
     },
     "execution_count": 13,
     "metadata": {},
     "output_type": "execute_result"
    }
   ],
   "source": [
    "sympy.E**2"
   ]
  },
  {
   "cell_type": "markdown",
   "id": "14a42d11-0b6e-442d-b1a2-01d4e6491926",
   "metadata": {},
   "source": [
    "### Infinito"
   ]
  },
  {
   "cell_type": "code",
   "execution_count": 14,
   "id": "2221c81e-80d1-4a4a-91dd-d964777672cd",
   "metadata": {},
   "outputs": [
    {
     "data": {
      "image/png": "[encoded data removed]",
      "text/latex": [
       "$\\displaystyle \\infty$"
      ],
      "text/plain": [
       "∞"
      ]
     },
     "execution_count": 14,
     "metadata": {},
     "output_type": "execute_result"
    }
   ],
   "source": [
    "sympy.oo"
   ]
  },
  {
   "cell_type": "code",
   "execution_count": 15,
   "id": "fcdf7d32-d430-4c16-a36a-18a553a9f986",
   "metadata": {},
   "outputs": [
    {
     "data": {
      "image/png": "[encoded data removed]",
      "text/latex": [
       "$\\displaystyle \\infty$"
      ],
      "text/plain": [
       "∞"
      ]
     },
     "execution_count": 15,
     "metadata": {},
     "output_type": "execute_result"
    }
   ],
   "source": [
    "sympy.oo + 1"
   ]
  },
  {
   "cell_type": "markdown",
   "id": "52a36243-6867-4d69-a38c-9e7c54c18cb1",
   "metadata": {},
   "source": [
    "---\n",
    "\n",
    "Para más información respecto a estas funciones, haga click [aquí](https://docs.sympy.org/latest/tutorial/gotchas.html)"
   ]
  }
 ],
 "metadata": {
  "kernelspec": {
   "display_name": "Python 3 (ipykernel)",
   "language": "python",
   "name": "python3"
  },
  "language_info": {
   "codemirror_mode": {
    "name": "ipython",
    "version": 3
   },
   "file_extension": ".py",
   "mimetype": "text/x-python",
   "name": "python",
   "nbconvert_exporter": "python",
   "pygments_lexer": "ipython3",
   "version": "3.8.13"
  }
 },
 "nbformat": 4,
 "nbformat_minor": 5
}
