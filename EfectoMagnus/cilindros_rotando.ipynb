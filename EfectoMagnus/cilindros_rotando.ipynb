{
 "cells": [
  {
   "cell_type": "code",
   "execution_count": 1,
   "id": "828a5182-5ffa-447e-8a89-9c65f4341e42",
   "metadata": {},
   "outputs": [],
   "source": [
    "import numpy as np\n",
    "import matplotlib.pyplot as plt\n",
    "import ipywidgets as widgets\n",
    "from magnus_lib import mi_animacion"
   ]
  },
  {
   "cell_type": "code",
   "execution_count": null,
   "id": "10ffc7ac-9dbc-4567-a95d-390a7c6c72f1",
   "metadata": {},
   "outputs": [],
   "source": [
    "# Dimensiones del dominio\n",
    "x_start, x_end = -2.0, 2.0  \n",
    "y_start, y_end = -1.0, 1.0 \n",
    "\n",
    "N = 200                               # Número de puntos discretos\n",
    "x = np.linspace(x_start, x_end, N)    # Arreglo 1D en x\n",
    "y = np.linspace(y_start, y_end, N)    # Arreglo 1D en y\n",
    "xg, yg = np.meshgrid(x, y)            # Malla del dominio"
   ]
  },
  {
   "cell_type": "code",
   "execution_count": null,
   "id": "c98a5c1e-baf7-4051-9bd2-598e5bb34d28",
   "metadata": {},
   "outputs": [],
   "source": [
    "widgets.interact(mi_animacion, \n",
    "                 i = widgets.IntSlider(min = 0, max = 23, description='Giro'),\n",
    "                 𝜅 = widgets.fixed(0.25), \n",
    "                 Γ = widgets.Dropdown(options=[-4.0, 0.0, 4.0], value=0.0, description='Rotación'),\n",
    "                 num_cil = widgets.Dropdown(options=[1,2,3,4], value=1, description='Cilindros'),\n",
    "                 x = widgets.fixed(x),\n",
    "                 y = widgets.fixed(y),\n",
    "                 kind=widgets.ToggleButtons(options=['Streamfunction','Streamplot'], \n",
    "                                            description='Flujo',\n",
    "                                            disabled = False,\n",
    "                                            button_style = '',\n",
    "                                            tooltips = ['Dibuja contornos de la función de corriente',\n",
    "                                                        'Dibuja las líneas de corriente (streamplot)'])\n",
    "                )"
   ]
  },
  {
   "cell_type": "code",
   "execution_count": null,
   "id": "c63d780e-0815-41ef-a4c9-19f954c3203e",
   "metadata": {},
   "outputs": [],
   "source": []
  }
 ],
 "metadata": {
  "kernelspec": {
   "display_name": "Python 3 (ipykernel)",
   "language": "python",
   "name": "python3"
  },
  "language_info": {
   "codemirror_mode": {
    "name": "ipython",
    "version": 3
   },
   "file_extension": ".py",
   "mimetype": "text/x-python",
   "name": "python",
   "nbconvert_exporter": "python",
   "pygments_lexer": "ipython3",
   "version": "3.9.7"
  }
 },
 "nbformat": 4,
 "nbformat_minor": 5
}
