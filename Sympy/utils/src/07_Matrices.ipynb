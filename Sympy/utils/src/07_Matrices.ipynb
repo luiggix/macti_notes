{
 "cells": [
  {
   "cell_type": "markdown",
   "id": "a51cc7e9-4f1e-4274-b61f-a170f3eed9c2",
   "metadata": {},
   "source": [
    "# Matrices\n",
    "\n",
    "**Autor**: Carlos Japhet Arellanos Balcázar"
   ]
  },
  {
   "cell_type": "code",
   "execution_count": 1,
   "id": "ba1df1a6-11e6-4490-9a2c-1f5c95a3f7e9",
   "metadata": {},
   "outputs": [],
   "source": [
    "# Importación de la librería\n",
    "import sympy\n",
    "# Impresión con Latex\n",
    "sympy.init_printing()"
   ]
  },
  {
   "cell_type": "markdown",
   "id": "84dbfaf4-be05-4938-bb82-8ae3d6d34ed3",
   "metadata": {},
   "source": [
    "## Construcción de matrices"
   ]
  },
  {
   "cell_type": "markdown",
   "id": "3ccb3ee9-1bef-4c5b-b318-59419526dd9b",
   "metadata": {},
   "source": [
    "Para construir una matriz, se debe llamar al objeto ```Matrix``` y pasarle una lista de listas que contenga la matriz que queremos representar (parecido a la construcción de una matriz con NumPy)"
   ]
  },
  {
   "cell_type": "code",
   "execution_count": 2,
   "id": "da52f96a-a3a5-4108-a3f3-0d992c77cde5",
   "metadata": {},
   "outputs": [
    {
     "data": {
      "image/png": "[encoded data removed]",
      "text/latex": [
       "$\\displaystyle \\left[\\begin{matrix}1 & 2 & 3\\\\4 & 5 & 6\\\\7 & 8 & 9\\end{matrix}\\right]$"
      ],
      "text/plain": [
       "⎡1  2  3⎤\n",
       "⎢       ⎥\n",
       "⎢4  5  6⎥\n",
       "⎢       ⎥\n",
       "⎣7  8  9⎦"
      ]
     },
     "execution_count": 2,
     "metadata": {},
     "output_type": "execute_result"
    }
   ],
   "source": [
    "sympy.Matrix([[1, 2, 3], [4, 5, 6], [7, 8, 9]])"
   ]
  },
  {
   "cell_type": "markdown",
   "id": "5544ee06-c7de-4933-b0e3-a3a29d1684ea",
   "metadata": {},
   "source": [
    "Si le pasamos una lista al objeto, esta la considera un vector columna, de manera automática"
   ]
  },
  {
   "cell_type": "code",
   "execution_count": 3,
   "id": "2d0f407d-1781-48fc-be64-235b640fb018",
   "metadata": {},
   "outputs": [
    {
     "data": {
      "image/png": "[encoded data removed]",
      "text/latex": [
       "$\\displaystyle \\left[\\begin{matrix}1\\\\2\\\\4\\\\5\\end{matrix}\\right]$"
      ],
      "text/plain": [
       "⎡1⎤\n",
       "⎢ ⎥\n",
       "⎢2⎥\n",
       "⎢ ⎥\n",
       "⎢4⎥\n",
       "⎢ ⎥\n",
       "⎣5⎦"
      ]
     },
     "execution_count": 3,
     "metadata": {},
     "output_type": "execute_result"
    }
   ],
   "source": [
    "sympy.Matrix([1, 2, 4, 5])"
   ]
  },
  {
   "cell_type": "markdown",
   "id": "9e559f29-b97f-4814-b0ac-fe86401a8b0e",
   "metadata": {},
   "source": [
    "## Manipulación de matrices"
   ]
  },
  {
   "cell_type": "markdown",
   "id": "eedbcb86-2993-4d56-9249-d7f1c5ed354a",
   "metadata": {},
   "source": [
    "Existen diversos métodos de los objetos ```Matrix``` que permiten manipular matrices de manera prácticas. Los esenciales para este caso son: ```shape```, ```col``` y ```row```, ```del_col``` y ```del_row```, ```col_insert``` y ```row_insert```."
   ]
  },
  {
   "cell_type": "code",
   "execution_count": 4,
   "id": "224cffe2-2c18-458b-80ad-d52045f5d9ec",
   "metadata": {},
   "outputs": [],
   "source": [
    "M = sympy.Matrix([[1, 2, 3], [-4, -5, -6], [7, -8, 9]])"
   ]
  },
  {
   "cell_type": "markdown",
   "id": "6ac82966-c67e-48f1-bcee-cf2b0a6ebecd",
   "metadata": {},
   "source": [
    "### shape"
   ]
  },
  {
   "cell_type": "code",
   "execution_count": 5,
   "id": "247f42fb-10ea-40b5-bff0-dca1c40ea60f",
   "metadata": {},
   "outputs": [
    {
     "data": {
      "image/png": "[encoded data removed]",
      "text/latex": [
       "$\\displaystyle \\left( 3, \\  3\\right)$"
      ],
      "text/plain": [
       "(3, 3)"
      ]
     },
     "execution_count": 5,
     "metadata": {},
     "output_type": "execute_result"
    }
   ],
   "source": [
    "M.shape"
   ]
  },
  {
   "cell_type": "markdown",
   "id": "58c100e2-1f76-4c3d-af7e-638db6585b16",
   "metadata": {},
   "source": [
    "### row y col"
   ]
  },
  {
   "cell_type": "code",
   "execution_count": 6,
   "id": "fc8c9da1-cf2b-4f23-a01d-7f634aea0c97",
   "metadata": {},
   "outputs": [
    {
     "data": {
      "image/png": "[encoded data removed]",
      "text/latex": [
       "$\\displaystyle \\left[\\begin{matrix}-4 & -5 & -6\\end{matrix}\\right]$"
      ],
      "text/plain": [
       "[-4  -5  -6]"
      ]
     },
     "execution_count": 6,
     "metadata": {},
     "output_type": "execute_result"
    }
   ],
   "source": [
    "M.row(1)"
   ]
  },
  {
   "cell_type": "code",
   "execution_count": 7,
   "id": "d2a1ddc5-0298-4672-ac4d-1a949b052548",
   "metadata": {},
   "outputs": [
    {
     "data": {
      "image/png": "[encoded data removed]",
      "text/latex": [
       "$\\displaystyle \\left[\\begin{matrix}3\\\\-6\\\\9\\end{matrix}\\right]$"
      ],
      "text/plain": [
       "⎡3 ⎤\n",
       "⎢  ⎥\n",
       "⎢-6⎥\n",
       "⎢  ⎥\n",
       "⎣9 ⎦"
      ]
     },
     "execution_count": 7,
     "metadata": {},
     "output_type": "execute_result"
    }
   ],
   "source": [
    "M.col(-1)"
   ]
  },
  {
   "cell_type": "markdown",
   "id": "8244f42a-cf66-4b86-accc-9556a87b1263",
   "metadata": {},
   "source": [
    "### col_de y row_del"
   ]
  },
  {
   "cell_type": "code",
   "execution_count": 8,
   "id": "554ab529-0b69-4d87-8fe9-1056862f6b2e",
   "metadata": {},
   "outputs": [
    {
     "data": {
      "image/png": "[encoded data removed]",
      "text/latex": [
       "$\\displaystyle \\left[\\begin{matrix}1 & 3\\\\-4 & -6\\\\7 & 9\\end{matrix}\\right]$"
      ],
      "text/plain": [
       "⎡1   3 ⎤\n",
       "⎢      ⎥\n",
       "⎢-4  -6⎥\n",
       "⎢      ⎥\n",
       "⎣7   9 ⎦"
      ]
     },
     "metadata": {},
     "output_type": "display_data"
    }
   ],
   "source": [
    "M.col_del(1)\n",
    "display(M)"
   ]
  },
  {
   "cell_type": "code",
   "execution_count": 9,
   "id": "7004148c-90db-42da-9de5-eafec2427fb7",
   "metadata": {},
   "outputs": [
    {
     "data": {
      "image/png": "[encoded data removed]",
      "text/latex": [
       "$\\displaystyle \\left[\\begin{matrix}1 & 3\\\\-4 & -6\\end{matrix}\\right]$"
      ],
      "text/plain": [
       "⎡1   3 ⎤\n",
       "⎢      ⎥\n",
       "⎣-4  -6⎦"
      ]
     },
     "metadata": {},
     "output_type": "display_data"
    }
   ],
   "source": [
    "M.row_del(2)\n",
    "display(M)"
   ]
  },
  {
   "cell_type": "markdown",
   "id": "cb9908a9-11e4-42f8-af4c-33d17f70b7ff",
   "metadata": {},
   "source": [
    "### col_insert y row_insert"
   ]
  },
  {
   "cell_type": "code",
   "execution_count": 10,
   "id": "b1698327-0117-4d1e-99ba-36875679e479",
   "metadata": {},
   "outputs": [
    {
     "data": {
      "image/png": "[encoded data removed]",
      "text/latex": [
       "$\\displaystyle \\left[\\begin{matrix}1 & 3 & 6\\\\-4 & -6 & -4\\end{matrix}\\right]$"
      ],
      "text/plain": [
       "⎡1   3   6 ⎤\n",
       "⎢          ⎥\n",
       "⎣-4  -6  -4⎦"
      ]
     },
     "metadata": {},
     "output_type": "display_data"
    }
   ],
   "source": [
    "M = M.col_insert(2, sympy.Matrix([6, -4]))\n",
    "display(M)"
   ]
  },
  {
   "cell_type": "code",
   "execution_count": 11,
   "id": "8fef95f8-0291-428a-876a-1c33a5962aec",
   "metadata": {},
   "outputs": [
    {
     "data": {
      "image/png": "[encoded data removed]",
      "text/latex": [
       "$\\displaystyle \\left[\\begin{matrix}1 & 3 & 6\\\\2 & 5 & 9\\\\-4 & -6 & -4\\end{matrix}\\right]$"
      ],
      "text/plain": [
       "⎡1   3   6 ⎤\n",
       "⎢          ⎥\n",
       "⎢2   5   9 ⎥\n",
       "⎢          ⎥\n",
       "⎣-4  -6  -4⎦"
      ]
     },
     "metadata": {},
     "output_type": "display_data"
    }
   ],
   "source": [
    "M =  M.row_insert(1, sympy.Matrix([[2, 5, 9]]))\n",
    "display(M)"
   ]
  },
  {
   "cell_type": "markdown",
   "id": "9b470e3f-e862-4197-acf0-b54d1d53358d",
   "metadata": {},
   "source": [
    "## Operaciones con matrices"
   ]
  },
  {
   "cell_type": "markdown",
   "id": "62558b47-7eea-4111-9829-63382b66a25a",
   "metadata": {},
   "source": [
    "Así como en otras librerías, se pueden realizar operaciones básicas con las matrices. Podemos realizar sumas, multiplicaciones escalares, multiplicaciones matriciales, potencias e inversas. También se puede usar la instancia ```.T``` para obtener transpuesta de una matriz y su determinante con el método ```det```"
   ]
  },
  {
   "cell_type": "code",
   "execution_count": 12,
   "id": "7bbbcd18-a847-45af-9cfb-c7225b85ed97",
   "metadata": {},
   "outputs": [],
   "source": [
    "N = sympy.Matrix([[3, 4, -5], [6, -7, 4], [1, 2, 4]])"
   ]
  },
  {
   "cell_type": "markdown",
   "id": "6d0f2183-e22f-4304-9242-76295ebe664f",
   "metadata": {},
   "source": [
    "### Suma"
   ]
  },
  {
   "cell_type": "code",
   "execution_count": 13,
   "id": "a048262c-4442-41c7-92aa-ee4feac79a74",
   "metadata": {},
   "outputs": [
    {
     "data": {
      "image/png": "[encoded data removed]",
      "text/latex": [
       "$\\displaystyle \\left[\\begin{matrix}4 & 7 & 1\\\\8 & -2 & 13\\\\-3 & -4 & 0\\end{matrix}\\right]$"
      ],
      "text/plain": [
       "⎡4   7   1 ⎤\n",
       "⎢          ⎥\n",
       "⎢8   -2  13⎥\n",
       "⎢          ⎥\n",
       "⎣-3  -4  0 ⎦"
      ]
     },
     "execution_count": 13,
     "metadata": {},
     "output_type": "execute_result"
    }
   ],
   "source": [
    "M + N"
   ]
  },
  {
   "cell_type": "code",
   "execution_count": 14,
   "id": "dc58148d-bc55-4c75-a1b1-b48ad9490e12",
   "metadata": {},
   "outputs": [
    {
     "data": {
      "image/png": "[encoded data removed]",
      "text/latex": [
       "$\\displaystyle \\left[\\begin{matrix}-2 & -1 & 11\\\\-4 & 12 & 5\\\\-5 & -8 & -8\\end{matrix}\\right]$"
      ],
      "text/plain": [
       "⎡-2  -1  11⎤\n",
       "⎢          ⎥\n",
       "⎢-4  12  5 ⎥\n",
       "⎢          ⎥\n",
       "⎣-5  -8  -8⎦"
      ]
     },
     "execution_count": 14,
     "metadata": {},
     "output_type": "execute_result"
    }
   ],
   "source": [
    "M - N"
   ]
  },
  {
   "cell_type": "markdown",
   "id": "1a8065ab-5e52-4c77-90dd-adac753337c8",
   "metadata": {},
   "source": [
    "### Multiplicación escalar"
   ]
  },
  {
   "cell_type": "code",
   "execution_count": 15,
   "id": "dbda5a99-342e-496d-ba46-091e1629c2be",
   "metadata": {},
   "outputs": [
    {
     "data": {
      "image/png": "[encoded data removed]",
      "text/latex": [
       "$\\displaystyle \\left[\\begin{matrix}0.25 & 0.75 & 1.5\\\\0.5 & 1.25 & 2.25\\\\-1.0 & -1.5 & -1.0\\end{matrix}\\right]$"
      ],
      "text/plain": [
       "⎡0.25  0.75  1.5 ⎤\n",
       "⎢                ⎥\n",
       "⎢0.5   1.25  2.25⎥\n",
       "⎢                ⎥\n",
       "⎣-1.0  -1.5  -1.0⎦"
      ]
     },
     "execution_count": 15,
     "metadata": {},
     "output_type": "execute_result"
    }
   ],
   "source": [
    "1 / 4 * M"
   ]
  },
  {
   "cell_type": "markdown",
   "id": "e1936263-fc24-4a86-94e0-30ba9cd1b86a",
   "metadata": {},
   "source": [
    "### Multiplicación matricial"
   ]
  },
  {
   "cell_type": "code",
   "execution_count": 16,
   "id": "606b1e1c-ca34-43d5-9433-50181787eecf",
   "metadata": {},
   "outputs": [
    {
     "data": {
      "image/png": "[encoded data removed]",
      "text/latex": [
       "$\\displaystyle \\left[\\begin{matrix}27 & -5 & 31\\\\45 & -9 & 46\\\\-52 & 18 & -20\\end{matrix}\\right]$"
      ],
      "text/plain": [
       "⎡27   -5  31 ⎤\n",
       "⎢            ⎥\n",
       "⎢45   -9  46 ⎥\n",
       "⎢            ⎥\n",
       "⎣-52  18  -20⎦"
      ]
     },
     "execution_count": 16,
     "metadata": {},
     "output_type": "execute_result"
    }
   ],
   "source": [
    "M * N"
   ]
  },
  {
   "cell_type": "markdown",
   "id": "34449ac7-75d2-4adb-b314-be7a0ad59774",
   "metadata": {},
   "source": [
    "### Potencia"
   ]
  },
  {
   "cell_type": "code",
   "execution_count": 17,
   "id": "dd028149-eb26-4842-a8af-84c753333006",
   "metadata": {},
   "outputs": [
    {
     "data": {
      "image/png": "[encoded data removed]",
      "text/latex": [
       "$\\displaystyle \\left[\\begin{matrix}28 & -26 & -19\\\\-20 & 81 & -42\\\\19 & -2 & 19\\end{matrix}\\right]$"
      ],
      "text/plain": [
       "⎡28   -26  -19⎤\n",
       "⎢             ⎥\n",
       "⎢-20  81   -42⎥\n",
       "⎢             ⎥\n",
       "⎣19   -2   19 ⎦"
      ]
     },
     "execution_count": 17,
     "metadata": {},
     "output_type": "execute_result"
    }
   ],
   "source": [
    "N**2"
   ]
  },
  {
   "cell_type": "markdown",
   "id": "eeea4474-0720-4a28-97fd-e5a3a478349e",
   "metadata": {},
   "source": [
    "### Inversa de una matriz"
   ]
  },
  {
   "cell_type": "code",
   "execution_count": 18,
   "id": "8ee4af73-591e-490c-9299-4a7cdbce2ccd",
   "metadata": {},
   "outputs": [
    {
     "data": {
      "image/png": "[encoded data removed]",
      "text/latex": [
       "$\\displaystyle \\left[\\begin{matrix}-17 & 12 & \\frac{3}{2}\\\\14 & -10 & - \\frac{3}{2}\\\\-4 & 3 & \\frac{1}{2}\\end{matrix}\\right]$"
      ],
      "text/plain": [
       "⎡-17  12   3/2 ⎤\n",
       "⎢              ⎥\n",
       "⎢14   -10  -3/2⎥\n",
       "⎢              ⎥\n",
       "⎣-4    3   1/2 ⎦"
      ]
     },
     "execution_count": 18,
     "metadata": {},
     "output_type": "execute_result"
    }
   ],
   "source": [
    "M**-1"
   ]
  },
  {
   "cell_type": "markdown",
   "id": "bf6383f1-0410-4369-80f6-bdd242414265",
   "metadata": {},
   "source": [
    "### Transpuesta"
   ]
  },
  {
   "cell_type": "code",
   "execution_count": 19,
   "id": "c5b7a6dc-6aa7-4818-9755-3a4fa589d866",
   "metadata": {},
   "outputs": [
    {
     "data": {
      "image/png": "[encoded data removed]",
      "text/latex": [
       "$\\displaystyle \\left[\\begin{matrix}1 & 2 & -4\\\\3 & 5 & -6\\\\6 & 9 & -4\\end{matrix}\\right]$"
      ],
      "text/plain": [
       "⎡1  2  -4⎤\n",
       "⎢        ⎥\n",
       "⎢3  5  -6⎥\n",
       "⎢        ⎥\n",
       "⎣6  9  -4⎦"
      ]
     },
     "execution_count": 19,
     "metadata": {},
     "output_type": "execute_result"
    }
   ],
   "source": [
    "M.T"
   ]
  },
  {
   "cell_type": "markdown",
   "id": "22bbcffa-0989-4655-86e8-461c7b1efe01",
   "metadata": {},
   "source": [
    "### Determinante de la matriz"
   ]
  },
  {
   "cell_type": "code",
   "execution_count": 20,
   "id": "13e60619-000c-4572-9abc-ad18aa93a14f",
   "metadata": {},
   "outputs": [
    {
     "data": {
      "image/png": "[encoded data removed]",
      "text/latex": [
       "$\\displaystyle -283$"
      ],
      "text/plain": [
       "-283"
      ]
     },
     "execution_count": 20,
     "metadata": {},
     "output_type": "execute_result"
    }
   ],
   "source": [
    "N.det()"
   ]
  },
  {
   "cell_type": "markdown",
   "id": "74c6d249-1790-48ad-a7e9-283095358aec",
   "metadata": {},
   "source": [
    "## Constructores de matrices"
   ]
  },
  {
   "cell_type": "markdown",
   "id": "c903e7b7-7ee3-45d0-9a5c-ac61d4b3f80d",
   "metadata": {},
   "source": [
    "Existen tres constructores importantes para generar matrices de manera automática: ```eye```, ```zeros``` y ```ones```. ```eye``` genera una matriz identidad de dimensiones $n \\times n$; mientras que ```zeros``` y ```ones``` generan matrices de ceros y unos, respectivamente, con dimensiones $n \\times m$."
   ]
  },
  {
   "cell_type": "markdown",
   "id": "5e522557-7857-4dee-be32-a3aca9e41342",
   "metadata": {},
   "source": [
    "### eye"
   ]
  },
  {
   "cell_type": "code",
   "execution_count": 21,
   "id": "8aa2b316-2097-4cfe-afd5-96d9554ceecb",
   "metadata": {},
   "outputs": [
    {
     "data": {
      "image/png": "[encoded data removed]",
      "text/latex": [
       "$\\displaystyle \\left[\\begin{matrix}1 & 0 & 0\\\\0 & 1 & 0\\\\0 & 0 & 1\\end{matrix}\\right]$"
      ],
      "text/plain": [
       "⎡1  0  0⎤\n",
       "⎢       ⎥\n",
       "⎢0  1  0⎥\n",
       "⎢       ⎥\n",
       "⎣0  0  1⎦"
      ]
     },
     "execution_count": 21,
     "metadata": {},
     "output_type": "execute_result"
    }
   ],
   "source": [
    "sympy.eye(3)"
   ]
  },
  {
   "cell_type": "markdown",
   "id": "69b1d43a-efd1-49b5-9461-36b0db556a98",
   "metadata": {},
   "source": [
    "### zeros"
   ]
  },
  {
   "cell_type": "code",
   "execution_count": 22,
   "id": "5bf21937-1f98-4497-add9-6477deb289cb",
   "metadata": {},
   "outputs": [
    {
     "data": {
      "image/png": "[encoded data removed]",
      "text/latex": [
       "$\\displaystyle \\left[\\begin{matrix}0 & 0 & 0 & 0\\\\0 & 0 & 0 & 0\\\\0 & 0 & 0 & 0\\end{matrix}\\right]$"
      ],
      "text/plain": [
       "⎡0  0  0  0⎤\n",
       "⎢          ⎥\n",
       "⎢0  0  0  0⎥\n",
       "⎢          ⎥\n",
       "⎣0  0  0  0⎦"
      ]
     },
     "execution_count": 22,
     "metadata": {},
     "output_type": "execute_result"
    }
   ],
   "source": [
    "sympy.zeros(3, 4)"
   ]
  },
  {
   "cell_type": "markdown",
   "id": "a227965f-d405-4c10-bc35-2c70d6d76fd5",
   "metadata": {},
   "source": [
    "### ones"
   ]
  },
  {
   "cell_type": "code",
   "execution_count": 23,
   "id": "f9029892-7d93-43ec-969e-fbdb66a13373",
   "metadata": {},
   "outputs": [
    {
     "data": {
      "image/png": "[encoded data removed]",
      "text/latex": [
       "$\\displaystyle \\left[\\begin{matrix}1 & 1 & 1\\\\1 & 1 & 1\\\\1 & 1 & 1\\\\1 & 1 & 1\\end{matrix}\\right]$"
      ],
      "text/plain": [
       "⎡1  1  1⎤\n",
       "⎢       ⎥\n",
       "⎢1  1  1⎥\n",
       "⎢       ⎥\n",
       "⎢1  1  1⎥\n",
       "⎢       ⎥\n",
       "⎣1  1  1⎦"
      ]
     },
     "execution_count": 23,
     "metadata": {},
     "output_type": "execute_result"
    }
   ],
   "source": [
    "sympy.ones(4, 3)"
   ]
  },
  {
   "cell_type": "markdown",
   "id": "09980d52-d9ce-4997-82b4-6d4a42a502e0",
   "metadata": {},
   "source": [
    "## Eigenvalores y eigenvectores"
   ]
  },
  {
   "cell_type": "markdown",
   "id": "645e6a41-2fa2-46fb-b9a5-b84ad0796b5a",
   "metadata": {},
   "source": [
    "Para encontrar los eigenvalores de una matriz, se emplea el método ```eigenvals```, el cual retorna un diccionario con el eigenvalor y se multiplicidad."
   ]
  },
  {
   "cell_type": "code",
   "execution_count": 24,
   "id": "57a2dac7-91cb-4d7a-8c28-6f584260d027",
   "metadata": {},
   "outputs": [
    {
     "data": {
      "image/png": "[encoded data removed]",
      "text/latex": [
       "$\\displaystyle \\left\\{ -1 : 1, \\  2 : 1, \\  8 : 1\\right\\}$"
      ],
      "text/plain": [
       "{-1: 1, 2: 1, 8: 1}"
      ]
     },
     "execution_count": 24,
     "metadata": {},
     "output_type": "execute_result"
    }
   ],
   "source": [
    "M = sympy.Matrix([[2, 0, 0], [0, 4, 5], [0, 4, 3]])\n",
    "\n",
    "M.eigenvals()"
   ]
  },
  {
   "cell_type": "markdown",
   "id": "4c01d38f-4849-4fea-abdd-00d26f079865",
   "metadata": {},
   "source": [
    "Para los eigenvectores, se emplea el método ```eigenvects```, el cual retorna una lista de tuplas, donde cada tupla contiene: el eigenvalor, su multiplicidad y el eigenvector asociado"
   ]
  },
  {
   "cell_type": "code",
   "execution_count": 25,
   "id": "ee40ec83-5470-4f5c-b4d5-e95ac90dd0c6",
   "metadata": {},
   "outputs": [
    {
     "data": {
      "image/png": "[encoded data removed]",
      "text/latex": [
       "$\\displaystyle \\left[ \\left( -1, \\  1, \\  \\left[ \\left[\\begin{matrix}0\\\\-1\\\\1\\end{matrix}\\right]\\right]\\right), \\  \\left( 2, \\  1, \\  \\left[ \\left[\\begin{matrix}1\\\\0\\\\0\\end{matrix}\\right]\\right]\\right), \\  \\left( 8, \\  1, \\  \\left[ \\left[\\begin{matrix}0\\\\\\frac{5}{4}\\\\1\\end{matrix}\\right]\\right]\\right)\\right]$"
      ],
      "text/plain": [
       "⎡⎛       ⎡⎡0 ⎤⎤⎞  ⎛      ⎡⎡1⎤⎤⎞  ⎛      ⎡⎡ 0 ⎤⎤⎞⎤\n",
       "⎢⎜       ⎢⎢  ⎥⎥⎟  ⎜      ⎢⎢ ⎥⎥⎟  ⎜      ⎢⎢   ⎥⎥⎟⎥\n",
       "⎢⎜-1, 1, ⎢⎢-1⎥⎥⎟, ⎜2, 1, ⎢⎢0⎥⎥⎟, ⎜8, 1, ⎢⎢5/4⎥⎥⎟⎥\n",
       "⎢⎜       ⎢⎢  ⎥⎥⎟  ⎜      ⎢⎢ ⎥⎥⎟  ⎜      ⎢⎢   ⎥⎥⎟⎥\n",
       "⎣⎝       ⎣⎣1 ⎦⎦⎠  ⎝      ⎣⎣0⎦⎦⎠  ⎝      ⎣⎣ 1 ⎦⎦⎠⎦"
      ]
     },
     "execution_count": 25,
     "metadata": {},
     "output_type": "execute_result"
    }
   ],
   "source": [
    "M.eigenvects()"
   ]
  },
  {
   "cell_type": "markdown",
   "id": "98ae3f38-e07c-437c-a7c2-32971e603920",
   "metadata": {},
   "source": [
    "Si queremos conocer de manera simbólica el polinomio característico que da lugar a los eigenvalores, podemos usar el método ```charpoly``` al cual se le debe pasar un símbolo el cuál servirá para imprimir el polinomio."
   ]
  },
  {
   "cell_type": "code",
   "execution_count": 26,
   "id": "faeb2853-30d1-4d2b-b9bd-f949b795e308",
   "metadata": {},
   "outputs": [
    {
     "data": {
      "image/png": "[encoded data removed]",
      "text/latex": [
       "$\\displaystyle \\lambda^{3} - 9 \\lambda^{2} + 6 \\lambda + 16$"
      ],
      "text/plain": [
       " 3      2           \n",
       "λ  - 9⋅λ  + 6⋅λ + 16"
      ]
     },
     "execution_count": 26,
     "metadata": {},
     "output_type": "execute_result"
    }
   ],
   "source": [
    "lam = sympy.symbols('lamda')\n",
    "poli_car = M.charpoly(lam)\n",
    "\n",
    "poli_car.as_expr()"
   ]
  },
  {
   "cell_type": "markdown",
   "id": "860d755d-a7be-4518-97db-8dbcf72f5230",
   "metadata": {},
   "source": [
    "---\n",
    "\n",
    "Para más información acerca del uso y manejo de matrices, haga click [aquí](https://docs.sympy.org/latest/tutorial/matrices.html) para ver la documentación."
   ]
  }
 ],
 "metadata": {
  "kernelspec": {
   "display_name": "Python 3 (ipykernel)",
   "language": "python",
   "name": "python3"
  },
  "language_info": {
   "codemirror_mode": {
    "name": "ipython",
    "version": 3
   },
   "file_extension": ".py",
   "mimetype": "text/x-python",
   "name": "python",
   "nbconvert_exporter": "python",
   "pygments_lexer": "ipython3",
   "version": "3.8.13"
  }
 },
 "nbformat": 4,
 "nbformat_minor": 5
}
