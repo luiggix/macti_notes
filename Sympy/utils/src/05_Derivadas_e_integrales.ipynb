{
 "cells": [
  {
   "cell_type": "markdown",
   "id": "a86525ae-787c-4781-9676-213278a2ac34",
   "metadata": {},
   "source": [
    "# Cálculo\n",
    "\n",
    "**Autor**: Carlos Japhet Arellanos Balcázar"
   ]
  },
  {
   "cell_type": "code",
   "execution_count": 1,
   "id": "4eafe63f-62bf-485a-816f-2621772c939c",
   "metadata": {},
   "outputs": [],
   "source": [
    "# Importación de la librería\n",
    "import sympy\n",
    "# Impresión con Latex\n",
    "sympy.init_printing()"
   ]
  },
  {
   "cell_type": "markdown",
   "id": "1eec86f7-9004-41be-976d-e261e12af4d9",
   "metadata": {},
   "source": [
    "## Derivadas"
   ]
  },
  {
   "cell_type": "markdown",
   "id": "1f6e0c84-5746-450e-9301-8e64ffefd61c",
   "metadata": {},
   "source": [
    "Para calcular la derivada de una expresión, basta con llamar a la función ```diff``` la cual recibe como argumentos: la expresión a derivar y la(s) variable(s) sobre las que se realizará la derivación"
   ]
  },
  {
   "cell_type": "code",
   "execution_count": 2,
   "id": "0b5e1a5d-55c8-49e6-a500-035be9138c27",
   "metadata": {},
   "outputs": [
    {
     "data": {
      "image/png": "[encoded data removed]",
      "text/latex": [
       "$\\displaystyle x^{2}$"
      ],
      "text/plain": [
       " 2\n",
       "x "
      ]
     },
     "metadata": {},
     "output_type": "display_data"
    },
    {
     "data": {
      "image/png": "[encoded data removed]",
      "text/latex": [
       "$\\displaystyle 2 x$"
      ],
      "text/plain": [
       "2⋅x"
      ]
     },
     "execution_count": 2,
     "metadata": {},
     "output_type": "execute_result"
    }
   ],
   "source": [
    "x = sympy.symbols('x')\n",
    "\n",
    "expresion = x**2\n",
    "display(expresion)\n",
    "\n",
    "sympy.diff(expresion, x)"
   ]
  },
  {
   "cell_type": "markdown",
   "id": "f208b9c8-0b5f-46b5-9b9c-1091f35e54cf",
   "metadata": {},
   "source": [
    "Si quisiésemos una derivada de orden mayor, basta con pasar la variable sobre la que se hará la derivada un número de veces igual al orden de la derivada"
   ]
  },
  {
   "cell_type": "code",
   "execution_count": 3,
   "id": "d59af4f1-1944-4ef3-8a90-cb84d6a5d411",
   "metadata": {},
   "outputs": [
    {
     "data": {
      "image/png": "[encoded data removed]",
      "text/latex": [
       "$\\displaystyle 2 x^{3}$"
      ],
      "text/plain": [
       "   3\n",
       "2⋅x "
      ]
     },
     "metadata": {},
     "output_type": "display_data"
    },
    {
     "data": {
      "image/png": "[encoded data removed]",
      "text/latex": [
       "$\\displaystyle 12 x$"
      ],
      "text/plain": [
       "12⋅x"
      ]
     },
     "execution_count": 3,
     "metadata": {},
     "output_type": "execute_result"
    }
   ],
   "source": [
    "expresion = 2 * x**3\n",
    "display(expresion)\n",
    "\n",
    "# Derivación\n",
    "sympy.diff(expresion, x, x) # segunda derivada respecto a x"
   ]
  },
  {
   "cell_type": "markdown",
   "id": "b12d9838-ddc1-47dd-a52d-37dee3ba4639",
   "metadata": {},
   "source": [
    "O también podemos pasar la variable seguido del orden al cuál se quiere realizar la derivada sobre dicha variable"
   ]
  },
  {
   "cell_type": "code",
   "execution_count": 4,
   "id": "67d08d30-a3e7-4794-b92c-5f83f65f5fe0",
   "metadata": {},
   "outputs": [
    {
     "data": {
      "image/png": "[encoded data removed]",
      "text/latex": [
       "$\\displaystyle 12 x$"
      ],
      "text/plain": [
       "12⋅x"
      ]
     },
     "execution_count": 4,
     "metadata": {},
     "output_type": "execute_result"
    }
   ],
   "source": [
    "sympy.diff(expresion, x, 2)"
   ]
  },
  {
   "cell_type": "markdown",
   "id": "731939f6-28c3-4c06-8a7c-d56b9a487e6b",
   "metadata": {},
   "source": [
    "Dentro de la función ```diff``` podemos combinar también diversas variables sobre las cuales efectuar la derivada"
   ]
  },
  {
   "cell_type": "code",
   "execution_count": 5,
   "id": "02242a7b-be3f-41ba-bb22-1648a1a76384",
   "metadata": {},
   "outputs": [
    {
     "data": {
      "image/png": "[encoded data removed]",
      "text/latex": [
       "$\\displaystyle e^{x y z}$"
      ],
      "text/plain": [
       " x⋅y⋅z\n",
       "ℯ     "
      ]
     },
     "metadata": {},
     "output_type": "display_data"
    },
    {
     "data": {
      "image/png": "[encoded data removed]",
      "text/latex": [
       "$\\displaystyle y z \\left(x^{4} y^{4} z^{4} + 16 x^{3} y^{3} z^{3} + 74 x^{2} y^{2} z^{2} + 108 x y z + 36\\right) e^{x y z}$"
      ],
      "text/plain": [
       "    ⎛ 4  4  4       3  3  3       2  2  2                 ⎞  x⋅y⋅z\n",
       "y⋅z⋅⎝x ⋅y ⋅z  + 16⋅x ⋅y ⋅z  + 74⋅x ⋅y ⋅z  + 108⋅x⋅y⋅z + 36⎠⋅ℯ     "
      ]
     },
     "execution_count": 5,
     "metadata": {},
     "output_type": "execute_result"
    }
   ],
   "source": [
    "y, z = sympy.symbols('y, z')\n",
    "\n",
    "expresion = sympy.exp(x * y * z)\n",
    "display(expresion)\n",
    "\n",
    "sympy.diff(expresion, x, x, z, y, y, z, x)"
   ]
  },
  {
   "cell_type": "code",
   "execution_count": 6,
   "id": "c7005c86-7365-451b-bca2-7f2965a7f21d",
   "metadata": {},
   "outputs": [
    {
     "data": {
      "image/png": "[encoded data removed]",
      "text/latex": [
       "$\\displaystyle y z \\left(x^{4} y^{4} z^{4} + 16 x^{3} y^{3} z^{3} + 74 x^{2} y^{2} z^{2} + 108 x y z + 36\\right) e^{x y z}$"
      ],
      "text/plain": [
       "    ⎛ 4  4  4       3  3  3       2  2  2                 ⎞  x⋅y⋅z\n",
       "y⋅z⋅⎝x ⋅y ⋅z  + 16⋅x ⋅y ⋅z  + 74⋅x ⋅y ⋅z  + 108⋅x⋅y⋅z + 36⎠⋅ℯ     "
      ]
     },
     "execution_count": 6,
     "metadata": {},
     "output_type": "execute_result"
    }
   ],
   "source": [
    "sympy.diff(expresion, x, 3, y, 2, z, 2)"
   ]
  },
  {
   "cell_type": "markdown",
   "id": "fadef03d-34f9-4898-92b4-3c540d3009dd",
   "metadata": {},
   "source": [
    "La función ```diff``` también es un método y puede usarse sin tener que llamarla, simplemente se usa la expresión que se quiera derivar"
   ]
  },
  {
   "cell_type": "code",
   "execution_count": 7,
   "id": "a9cc0fd1-838c-4f0c-a0d9-b487c5d1eaaa",
   "metadata": {},
   "outputs": [
    {
     "data": {
      "image/png": "[encoded data removed]",
      "text/latex": [
       "$\\displaystyle x \\left(x^{3} y^{3} z^{3} + 8 x^{2} y^{2} z^{2} + 14 x y z + 4\\right) e^{x y z}$"
      ],
      "text/plain": [
       "  ⎛ 3  3  3      2  2  2               ⎞  x⋅y⋅z\n",
       "x⋅⎝x ⋅y ⋅z  + 8⋅x ⋅y ⋅z  + 14⋅x⋅y⋅z + 4⎠⋅ℯ     "
      ]
     },
     "execution_count": 7,
     "metadata": {},
     "output_type": "execute_result"
    }
   ],
   "source": [
    "expresion.diff(x, y, 2, z, 2)"
   ]
  },
  {
   "cell_type": "markdown",
   "id": "7fb52a20-52f0-4f4d-85ae-1b6d2ac02059",
   "metadata": {},
   "source": [
    "En caso de que queramos presentar esta derivada de manera simbólica (sin resolver), se debe llamar a la función ```Derivative```"
   ]
  },
  {
   "cell_type": "code",
   "execution_count": 8,
   "id": "2f76478b-8da7-40bc-b115-677989d997b3",
   "metadata": {},
   "outputs": [
    {
     "data": {
      "image/png": "[encoded data removed]",
      "text/latex": [
       "$\\displaystyle \\frac{\\partial^{5}}{\\partial z^{2}\\partial y^{2}\\partial x} e^{x y z}$"
      ],
      "text/plain": [
       "     5            \n",
       "    ∂     ⎛ x⋅y⋅z⎞\n",
       "──────────⎝ℯ     ⎠\n",
       "  2   2           \n",
       "∂z  ∂y  ∂x        "
      ]
     },
     "execution_count": 8,
     "metadata": {},
     "output_type": "execute_result"
    }
   ],
   "source": [
    "derivada = sympy.Derivative(expresion, x, y, 2, z, 2)\n",
    "derivada"
   ]
  },
  {
   "cell_type": "markdown",
   "id": "a4807c89-3048-4ba2-9dcf-f59ac2b2f38e",
   "metadata": {},
   "source": [
    "Si queremos que SymPy nos muestre el resultado de esta, usamos el método ```doit```"
   ]
  },
  {
   "cell_type": "code",
   "execution_count": 9,
   "id": "07418c7d-0465-405c-ab97-10950ebee37a",
   "metadata": {},
   "outputs": [
    {
     "data": {
      "image/png": "[encoded data removed]",
      "text/latex": [
       "$\\displaystyle x \\left(x^{3} y^{3} z^{3} + 8 x^{2} y^{2} z^{2} + 14 x y z + 4\\right) e^{x y z}$"
      ],
      "text/plain": [
       "  ⎛ 3  3  3      2  2  2               ⎞  x⋅y⋅z\n",
       "x⋅⎝x ⋅y ⋅z  + 8⋅x ⋅y ⋅z  + 14⋅x⋅y⋅z + 4⎠⋅ℯ     "
      ]
     },
     "execution_count": 9,
     "metadata": {},
     "output_type": "execute_result"
    }
   ],
   "source": [
    "derivada.doit()"
   ]
  },
  {
   "cell_type": "markdown",
   "id": "8aa13aac-09cc-4c79-a322-daf671532e13",
   "metadata": {},
   "source": [
    "## Integrales"
   ]
  },
  {
   "cell_type": "markdown",
   "id": "1343dc46-992b-4005-8a6f-540439529d03",
   "metadata": {},
   "source": [
    "Parecido a las derivadas, para realizar una integral debemos hacer uso de la función ```integrate``` la cual recibe como argumentos: la expresión a integrar y la(s) variable(s) de integración."
   ]
  },
  {
   "cell_type": "code",
   "execution_count": 10,
   "id": "593d98ac-7a30-4b4f-a40a-73f3bded0677",
   "metadata": {},
   "outputs": [
    {
     "data": {
      "image/png": "[encoded data removed]",
      "text/latex": [
       "$\\displaystyle 2 x$"
      ],
      "text/plain": [
       "2⋅x"
      ]
     },
     "metadata": {},
     "output_type": "display_data"
    },
    {
     "data": {
      "image/png": "[encoded data removed]",
      "text/latex": [
       "$\\displaystyle x^{2}$"
      ],
      "text/plain": [
       " 2\n",
       "x "
      ]
     },
     "execution_count": 10,
     "metadata": {},
     "output_type": "execute_result"
    }
   ],
   "source": [
    "expresion = 2 * x\n",
    "display(expresion)\n",
    "\n",
    "sympy.integrate(expresion, x)"
   ]
  },
  {
   "cell_type": "markdown",
   "id": "cb6be922-3a1e-4d73-a4d1-17489fa605f2",
   "metadata": {},
   "source": [
    "Cabe mencionar que SymPy no agrega la constante de integración, por lo que se debe cuidar ello. Esta constante se puede agregar manualmente sin problema alguno"
   ]
  },
  {
   "cell_type": "code",
   "execution_count": 11,
   "id": "d96ab5a8-6fcd-4e01-b5a9-53ffe8bc7494",
   "metadata": {},
   "outputs": [
    {
     "data": {
      "image/png": "[encoded data removed]",
      "text/latex": [
       "$\\displaystyle x^{2}$"
      ],
      "text/plain": [
       " 2\n",
       "x "
      ]
     },
     "execution_count": 11,
     "metadata": {},
     "output_type": "execute_result"
    }
   ],
   "source": [
    "c = sympy.symbols('c')\n",
    "\n",
    "sympy.integrate(expresion, x)"
   ]
  },
  {
   "cell_type": "markdown",
   "id": "39f7d325-1c8a-48d2-b147-311aab4702d7",
   "metadata": {},
   "source": [
    "Para realizar una integral definida, la variable de integración y sus límites se pasan como una tupla en el siguiente formato: ```(variable, límite inferior, límite superior)```"
   ]
  },
  {
   "cell_type": "code",
   "execution_count": 12,
   "id": "f31919e4-a6f4-4b30-a73d-326f5900863b",
   "metadata": {},
   "outputs": [
    {
     "data": {
      "image/png": "[encoded data removed]",
      "text/latex": [
       "$\\displaystyle e^{- x}$"
      ],
      "text/plain": [
       " -x\n",
       "ℯ  "
      ]
     },
     "metadata": {},
     "output_type": "display_data"
    },
    {
     "data": {
      "image/png": "[encoded data removed]",
      "text/latex": [
       "$\\displaystyle - \\frac{1}{e^{\\frac{\\pi}{2}}} + e^{\\frac{\\pi}{2}}$"
      ],
      "text/plain": [
       "   -π     π\n",
       "   ───    ─\n",
       "    2     2\n",
       "- ℯ    + ℯ "
      ]
     },
     "execution_count": 12,
     "metadata": {},
     "output_type": "execute_result"
    }
   ],
   "source": [
    "expresion = sympy.exp(-x)\n",
    "display(expresion)\n",
    "\n",
    "sympy.integrate(expresion, (x, -sympy.pi/2, sympy.pi/2))"
   ]
  },
  {
   "cell_type": "markdown",
   "id": "25d4f401-2687-44bf-82cc-b644f45fc477",
   "metadata": {},
   "source": [
    "Para realizar una integral múltiple, basta con pasar las variables de integración (si es una integral indefinida) o las tuplas (si es una integral definida)"
   ]
  },
  {
   "cell_type": "code",
   "execution_count": 13,
   "id": "d55ba1ce-c2e9-4626-b22e-b3269fb7df09",
   "metadata": {},
   "outputs": [
    {
     "data": {
      "image/png": "[encoded data removed]",
      "text/latex": [
       "$\\displaystyle e^{- x^{2} - y^{2}}$"
      ],
      "text/plain": [
       "    2    2\n",
       " - x  - y \n",
       "ℯ         "
      ]
     },
     "metadata": {},
     "output_type": "display_data"
    },
    {
     "data": {
      "image/png": "[encoded data removed]",
      "text/latex": [
       "$\\displaystyle \\frac{\\pi \\operatorname{erf}{\\left(x \\right)} \\operatorname{erf}{\\left(y \\right)}}{4}$"
      ],
      "text/plain": [
       "π⋅erf(x)⋅erf(y)\n",
       "───────────────\n",
       "       4       "
      ]
     },
     "execution_count": 13,
     "metadata": {},
     "output_type": "execute_result"
    }
   ],
   "source": [
    "expresion = sympy.exp(-x**2 - y**2)\n",
    "display(expresion)\n",
    "\n",
    "sympy.integrate(expresion, x, y)"
   ]
  },
  {
   "cell_type": "code",
   "execution_count": 14,
   "id": "d0d398fd-6372-4686-a8bc-ed5f0a2b954b",
   "metadata": {},
   "outputs": [
    {
     "data": {
      "image/png": "[encoded data removed]",
      "text/latex": [
       "$\\displaystyle \\pi$"
      ],
      "text/plain": [
       "π"
      ]
     },
     "execution_count": 14,
     "metadata": {},
     "output_type": "execute_result"
    }
   ],
   "source": [
    "sympy.integrate(expresion, (x, -sympy.oo, sympy.oo), (y, -sympy.oo, sympy.oo))"
   ]
  },
  {
   "cell_type": "markdown",
   "id": "87304e7a-b362-4cef-a7c7-cc0f11102c60",
   "metadata": {},
   "source": [
    "Si queremos sólo la integral de forma simbólica, podemos usar la función ```Integrate```"
   ]
  },
  {
   "cell_type": "code",
   "execution_count": 15,
   "id": "19f7ac46-6ab8-48ba-85dc-8fa1d98994f4",
   "metadata": {},
   "outputs": [
    {
     "data": {
      "image/png": "[encoded data removed]",
      "text/latex": [
       "$\\displaystyle \\int\\limits_{0}^{\\pi} e^{- 2 i \\pi x} \\cos{\\left(x \\right)}\\, dx$"
      ],
      "text/plain": [
       "π                    \n",
       "⌠                    \n",
       "⎮  -2⋅ⅈ⋅π⋅x          \n",
       "⎮ ℯ        ⋅cos(x) dx\n",
       "⌡                    \n",
       "0                    "
      ]
     },
     "execution_count": 15,
     "metadata": {},
     "output_type": "execute_result"
    }
   ],
   "source": [
    "expresion = sympy.cos(x) * sympy.exp(-2 * sympy.pi * x * sympy.I)\n",
    "\n",
    "integral = sympy.Integral(expresion, (x, 0, sympy.pi))\n",
    "integral"
   ]
  },
  {
   "cell_type": "markdown",
   "id": "e8aebda4-f743-4627-9220-b3299244767e",
   "metadata": {},
   "source": [
    "Para evaluarla, simplemente se llama al método ```doit```"
   ]
  },
  {
   "cell_type": "code",
   "execution_count": 16,
   "id": "18059aaa-1621-466a-a7db-6a08de42931c",
   "metadata": {},
   "outputs": [
    {
     "data": {
      "image/png": "[encoded data removed]",
      "text/latex": [
       "$\\displaystyle - \\frac{2 i \\pi}{-1 + 4 \\pi^{2}} - \\frac{2 i \\pi}{- e^{2 i \\pi^{2}} + 4 \\pi^{2} e^{2 i \\pi^{2}}}$"
      ],
      "text/plain": [
       "    2⋅ⅈ⋅π              2⋅ⅈ⋅π          \n",
       "- ───────── - ────────────────────────\n",
       "          2           2              2\n",
       "  -1 + 4⋅π       2⋅ⅈ⋅π       2  2⋅ⅈ⋅π \n",
       "              - ℯ       + 4⋅π ⋅ℯ      "
      ]
     },
     "execution_count": 16,
     "metadata": {},
     "output_type": "execute_result"
    }
   ],
   "source": [
    "integral.doit()"
   ]
  },
  {
   "cell_type": "markdown",
   "id": "2a2e0dc8-4f30-4102-b615-826236bf328f",
   "metadata": {},
   "source": [
    "## Límites"
   ]
  },
  {
   "cell_type": "markdown",
   "id": "9201363d-c9f4-4194-ad5f-8c3ab61a0ae4",
   "metadata": {},
   "source": [
    "Los límites en SymPy se realizan con la función ```limit``` y recibe como argumentos: la expresión, la variable y el valor al que se debe evaluar el límite"
   ]
  },
  {
   "cell_type": "code",
   "execution_count": 17,
   "id": "1beec204-0458-4ff4-a72b-d85948c80e4e",
   "metadata": {},
   "outputs": [
    {
     "data": {
      "image/png": "[encoded data removed]",
      "text/latex": [
       "$\\displaystyle 1$"
      ],
      "text/plain": [
       "1"
      ]
     },
     "execution_count": 17,
     "metadata": {},
     "output_type": "execute_result"
    }
   ],
   "source": [
    "expresion = sympy.sin(x) / x\n",
    "\n",
    "sympy.limit(expresion, x, 0)"
   ]
  },
  {
   "cell_type": "markdown",
   "id": "801a24ce-50e3-48d3-bbb4-6f0fd443dd40",
   "metadata": {},
   "source": [
    "Cabe mencionar que cuando se busque evaluar un límite, la práctica correcta es utilizando la función ```limit``` y no el método ```subs```, dado que ```subs``` devolverá ```NaN``` en caso de encontrar alguna singularidad"
   ]
  },
  {
   "cell_type": "code",
   "execution_count": 18,
   "id": "f3f9c5ed-5d43-4fb2-a332-cd4204b6cdc1",
   "metadata": {},
   "outputs": [
    {
     "data": {
      "image/png": "[encoded data removed]",
      "text/latex": [
       "$\\displaystyle \\text{NaN}$"
      ],
      "text/plain": [
       "nan"
      ]
     },
     "execution_count": 18,
     "metadata": {},
     "output_type": "execute_result"
    }
   ],
   "source": [
    "expresion.subs(x, 0)"
   ]
  },
  {
   "cell_type": "markdown",
   "id": "115d0666-572a-46ac-a2b0-cee7242cdac8",
   "metadata": {},
   "source": [
    "También podemos tener límites simbólicos haciendo uso de la función ```Limit``` y evaluándolo con el método ```doit```"
   ]
  },
  {
   "cell_type": "code",
   "execution_count": 19,
   "id": "5db4799e-e49e-44fa-8a14-a821e5b6fe54",
   "metadata": {},
   "outputs": [
    {
     "data": {
      "image/png": "[encoded data removed]",
      "text/latex": [
       "$\\displaystyle \\lim_{x \\to 0^+}\\left(\\frac{\\sin{\\left(x \\right)}}{x}\\right)$"
      ],
      "text/plain": [
       "     ⎛sin(x)⎞\n",
       " lim ⎜──────⎟\n",
       "x─→0⁺⎝  x   ⎠"
      ]
     },
     "execution_count": 19,
     "metadata": {},
     "output_type": "execute_result"
    }
   ],
   "source": [
    "limite = sympy.Limit(expresion, x, 0)\n",
    "limite"
   ]
  },
  {
   "cell_type": "code",
   "execution_count": 20,
   "id": "5cb602ec-482f-466d-b3bb-1e87da2fc14c",
   "metadata": {},
   "outputs": [
    {
     "data": {
      "image/png": "[encoded data removed]",
      "text/latex": [
       "$\\displaystyle 1$"
      ],
      "text/plain": [
       "1"
      ]
     },
     "execution_count": 20,
     "metadata": {},
     "output_type": "execute_result"
    }
   ],
   "source": [
    "limite.doit()"
   ]
  },
  {
   "cell_type": "markdown",
   "id": "0b6802b3-b547-4e9e-8bd4-8894372725f0",
   "metadata": {},
   "source": [
    "Para evaluar límites a la izquierda o a la derecha, basta con ingresar como argumentos a la función los caracteres ```'-'``` o ```'+'```, respectivamente"
   ]
  },
  {
   "cell_type": "code",
   "execution_count": 21,
   "id": "79306630-8f86-462e-949f-b43f0216d007",
   "metadata": {},
   "outputs": [
    {
     "data": {
      "image/png": "[encoded data removed]",
      "text/latex": [
       "$\\displaystyle -\\infty$"
      ],
      "text/plain": [
       "-∞"
      ]
     },
     "execution_count": 21,
     "metadata": {},
     "output_type": "execute_result"
    }
   ],
   "source": [
    "expresion = 1 / x\n",
    "\n",
    "sympy.limit(expresion, x, 0, '-')"
   ]
  },
  {
   "cell_type": "code",
   "execution_count": 22,
   "id": "b5a0af47-6609-43cb-aca4-d8313ec52953",
   "metadata": {},
   "outputs": [
    {
     "data": {
      "image/png": "[encoded data removed]",
      "text/latex": [
       "$\\displaystyle \\infty$"
      ],
      "text/plain": [
       "∞"
      ]
     },
     "execution_count": 22,
     "metadata": {},
     "output_type": "execute_result"
    }
   ],
   "source": [
    "sympy.limit(expresion, x, 0, '+')"
   ]
  },
  {
   "cell_type": "markdown",
   "id": "cb8c1c2c-c29e-4855-96c2-d9faa3aa1b11",
   "metadata": {},
   "source": [
    "---\n",
    "\n",
    "Para conocer a fondo la funcionalidad de las funciones presentadas y conocer otras más, haga click [aquí](https://docs.sympy.org/latest/tutorial/calculus.html)"
   ]
  }
 ],
 "metadata": {
  "kernelspec": {
   "display_name": "Python 3 (ipykernel)",
   "language": "python",
   "name": "python3"
  },
  "language_info": {
   "codemirror_mode": {
    "name": "ipython",
    "version": 3
   },
   "file_extension": ".py",
   "mimetype": "text/x-python",
   "name": "python",
   "nbconvert_exporter": "python",
   "pygments_lexer": "ipython3",
   "version": "3.8.13"
  }
 },
 "nbformat": 4,
 "nbformat_minor": 5
}
