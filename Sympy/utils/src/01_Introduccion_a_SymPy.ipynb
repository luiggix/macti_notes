{
 "cells": [
  {
   "cell_type": "markdown",
   "id": "02bff9aa-f305-4319-a7a9-8fedf7625d13",
   "metadata": {},
   "source": [
    "# Introducción a SymPy\n",
    "\n",
    "**Autor:** Carlos Japhet Arellanos Balcázar"
   ]
  },
  {
   "cell_type": "markdown",
   "id": "af9f15fc-60d0-40b2-bf9c-b489e0aa2116",
   "metadata": {},
   "source": [
    "## ¿Qué es SymPy?"
   ]
  },
  {
   "cell_type": "markdown",
   "id": "f03b9421-576b-4b7f-9f53-9e927ad5bb65",
   "metadata": {},
   "source": [
    "De la página oficial de [SymPy](https://www.sympy.org/en/index.html):\n",
    "\n",
    "> SymPy es una librería de Python para matemáticas simbólicas. Su objetivo es convertirse en un sistema de álgebra por computadora (CAS) completo manteniendo el código lo más simple posible a modo de que este sea comprensible y fácilmente extendible. SymPy está escrito completamente en Python.\n",
    "\n",
    "SymPy tiene la capacidad de **resolver** expresiones matemáticas de manera **simbólica** igual que si se resolvieran a mano o haciendo uso de cualquier otro CAS conocido (_MATLAB_, _Mathematica_, _Maple_, _Wolfram Alpha_) con la ventaja de ser un recurso **libre** y **basado en Python**, lo cual lo hace mucho más accesible a estudiantes y profesores.\n",
    "\n",
    "Para ver la documentación completa de SymPy, haga click [aquí].(https://docs.sympy.org/latest/index.html)"
   ]
  },
  {
   "cell_type": "markdown",
   "id": "75262e30-aa5f-4c8d-88f0-c84b4fe0f456",
   "metadata": {},
   "source": [
    "## ¿Qué puede hacer SymPy?"
   ]
  },
  {
   "cell_type": "markdown",
   "id": "49814715-1d34-4f58-8a61-de51664afe17",
   "metadata": {},
   "source": [
    "Entre las funcionalidades esenciales que realiza SymPy se encuentran:\n",
    "\n",
    "* Simplificación de expresiones\n",
    "* Cálculo de integrales\n",
    "* Cálculo de derivadas\n",
    "* Cálculo de límites\n",
    "* Solución de ecuaciones\n",
    "* Álgebra lineal\n",
    "* Vectores y campos vectoriales\n",
    "* Estadística\n",
    "* Combinatoria\n",
    "* Física\n",
    "* Teoría de números\n",
    "* Geometría\n",
    "* Lógica\n",
    "\n",
    "De manera similar a _Wolfram Alpha_, SymPy presenta su sistema [Gamma](https://www.sympygamma.com/) con el cual se pueden evaluar expresiones en línea."
   ]
  },
  {
   "cell_type": "markdown",
   "id": "679cda85-91ec-4c20-891e-e5906f552927",
   "metadata": {},
   "source": [
    "## Instalando SymPy"
   ]
  },
  {
   "cell_type": "markdown",
   "id": "da68327c-4c8c-4099-ae0e-74f3630751e5",
   "metadata": {},
   "source": [
    "Para hacer uso de SymPy, primero debe hacerse la instalación en el equipo. Para instalarlo, se puede abrir una ventana de consola del Anaconda Prompt y ejecutar la siguiente línea:\n",
    "\n",
    "```conda install sympy```\n",
    "\n",
    "En este caso haremos uso de la habilidad de Jupyter Notebook de correr comandos _shell_ en las celdas de código:"
   ]
  },
  {
   "cell_type": "code",
   "execution_count": 1,
   "id": "d325ae5f-767f-4cda-9a46-aa2d82e81379",
   "metadata": {},
   "outputs": [],
   "source": [
    "#!conda install sympy"
   ]
  },
  {
   "cell_type": "markdown",
   "id": "14e837d6-2f5c-43c0-b220-7708733184f8",
   "metadata": {},
   "source": [
    "Una vez instalada la librería SymPy, podemos empezar a trabajar con ella.\n",
    "\n",
    "Para ver otros métodos de instalación, haga click [aquí](https://docs.sympy.org/latest/guides/getting_started/install.html#installation)."
   ]
  },
  {
   "cell_type": "markdown",
   "id": "867dad92-d950-432f-a4c8-d20477f5c8e4",
   "metadata": {},
   "source": [
    "## Conociendo SymPy"
   ]
  },
  {
   "cell_type": "markdown",
   "id": "dbdc719e-7b18-40b7-a970-c5111f819ab1",
   "metadata": {},
   "source": [
    "Para trabajar con SymPy, debemos importar la librería a nuestro notebook."
   ]
  },
  {
   "cell_type": "code",
   "execution_count": 2,
   "id": "758b9275-456a-44f0-a7fb-5f13e7ff01e5",
   "metadata": {},
   "outputs": [],
   "source": [
    "import sympy\n",
    "sympy.init_printing()"
   ]
  },
  {
   "cell_type": "markdown",
   "id": "9fec1b91-8395-4b47-96d4-de37b85746d8",
   "metadata": {},
   "source": [
    "Para probar la librería, usemos un ejemplo sencillo: ¿cómo representar una raíz cuadrada?.\n",
    "\n",
    "Con SymPy, basta con ejecutar esta línea y obtenemos el resultado."
   ]
  },
  {
   "cell_type": "code",
   "execution_count": 3,
   "id": "218e9082-0475-41e0-84d4-6263f7efa8d3",
   "metadata": {},
   "outputs": [
    {
     "data": {
      "image/png": "[encoded data removed]",
      "text/latex": [
       "$\\displaystyle \\sqrt{3}$"
      ],
      "text/plain": [
       "√3"
      ]
     },
     "execution_count": 3,
     "metadata": {},
     "output_type": "execute_result"
    }
   ],
   "source": [
    "sympy.sqrt(3)"
   ]
  },
  {
   "cell_type": "markdown",
   "id": "b4318c7f-be8d-49b3-b076-66b87ff355ea",
   "metadata": {},
   "source": [
    "Como se puede observar, el resultado que obtenemos es una expresión simbólica contrario a lo que obtendríamos en caso de usar la librería ```math``` o la librería ```numpy```, las cuales arrojarían un resultado numérico.\n",
    "\n",
    "SymPy tiene la capacidad de simplificar los resultados de manera simbólica automáticamente sin tener que instruirle (en la mayoría de los casos)."
   ]
  },
  {
   "cell_type": "code",
   "execution_count": 4,
   "id": "a5c7a792-9799-4027-864b-937ef19d5200",
   "metadata": {},
   "outputs": [
    {
     "data": {
      "image/png": "[encoded data removed]",
      "text/latex": [
       "$\\displaystyle 2 \\sqrt{2}$"
      ],
      "text/plain": [
       "2⋅√2"
      ]
     },
     "execution_count": 4,
     "metadata": {},
     "output_type": "execute_result"
    }
   ],
   "source": [
    "sympy.sqrt(8)"
   ]
  },
  {
   "cell_type": "markdown",
   "id": "b6fc2064-5bcb-44e3-a72c-94754f89cfad",
   "metadata": {},
   "source": [
    "También podemos generar ecuaciones que podemos manipular más adelante, asignándoles una etiqueta (nombre de variable). De esta manera, podemos realizar operaciones o demostraciones de la misma forma que lo haríamos a mano."
   ]
  },
  {
   "cell_type": "code",
   "execution_count": 5,
   "id": "856f0c4a-df1d-474e-a948-001cf5512d62",
   "metadata": {},
   "outputs": [
    {
     "data": {
      "image/png": "[encoded data removed]",
      "text/latex": [
       "$\\displaystyle 2 x + y^{2}$"
      ],
      "text/plain": [
       "       2\n",
       "2⋅x + y "
      ]
     },
     "execution_count": 5,
     "metadata": {},
     "output_type": "execute_result"
    }
   ],
   "source": [
    "x = sympy.symbols('x')\n",
    "y = sympy.symbols('y')\n",
    "\n",
    "ecuacion = 2 * x + y**2\n",
    "ecuacion"
   ]
  },
  {
   "cell_type": "markdown",
   "id": "b5bdf7bf-f0df-46da-99cc-50494d40f88c",
   "metadata": {},
   "source": [
    "Una vez que hemos definido esta ecuación, hagámosle unos cambios. Por ejemplo, podemos sumarle cualquier escalar."
   ]
  },
  {
   "cell_type": "code",
   "execution_count": 6,
   "id": "0df345a6-e439-4cce-ab13-7eac955400e0",
   "metadata": {},
   "outputs": [
    {
     "data": {
      "image/png": "[encoded data removed]",
      "text/latex": [
       "$\\displaystyle 2 x + y^{2} + 1$"
      ],
      "text/plain": [
       "       2    \n",
       "2⋅x + y  + 1"
      ]
     },
     "execution_count": 6,
     "metadata": {},
     "output_type": "execute_result"
    }
   ],
   "source": [
    "ecuacion + 1"
   ]
  },
  {
   "cell_type": "markdown",
   "id": "1496e65e-0208-4408-afa0-0555c33ca3b7",
   "metadata": {},
   "source": [
    "O bien, podríamos sustraer una variable de la expresión."
   ]
  },
  {
   "cell_type": "code",
   "execution_count": 7,
   "id": "20557200-d536-4bee-805f-0a6113452366",
   "metadata": {},
   "outputs": [
    {
     "data": {
      "image/png": "[encoded data removed]",
      "text/latex": [
       "$\\displaystyle x + y^{2}$"
      ],
      "text/plain": [
       "     2\n",
       "x + y "
      ]
     },
     "execution_count": 7,
     "metadata": {},
     "output_type": "execute_result"
    }
   ],
   "source": [
    "ecuacion - x"
   ]
  },
  {
   "cell_type": "markdown",
   "id": "b5a7d2c8-85a4-4034-810c-4a9ec3975ac5",
   "metadata": {},
   "source": [
    "También, podemos hacer multiplicaciones con esta expresión y factorizarla."
   ]
  },
  {
   "cell_type": "code",
   "execution_count": 8,
   "id": "3eb6470c-2bdf-4f8a-80eb-c77710e292a8",
   "metadata": {},
   "outputs": [
    {
     "data": {
      "image/png": "[encoded data removed]",
      "text/latex": [
       "$\\displaystyle 2 x^{2} + x y^{2}$"
      ],
      "text/plain": [
       "   2      2\n",
       "2⋅x  + x⋅y "
      ]
     },
     "execution_count": 8,
     "metadata": {},
     "output_type": "execute_result"
    }
   ],
   "source": [
    "nueva_ecuacion = sympy.expand(x * ecuacion)\n",
    "nueva_ecuacion"
   ]
  },
  {
   "cell_type": "code",
   "execution_count": 9,
   "id": "f3818701-6599-443d-822d-3585241d08d9",
   "metadata": {},
   "outputs": [
    {
     "data": {
      "image/png": "[encoded data removed]",
      "text/latex": [
       "$\\displaystyle x \\left(2 x + y^{2}\\right)$"
      ],
      "text/plain": [
       "  ⎛       2⎞\n",
       "x⋅⎝2⋅x + y ⎠"
      ]
     },
     "execution_count": 9,
     "metadata": {},
     "output_type": "execute_result"
    }
   ],
   "source": [
    "sympy.factor(nueva_ecuacion)"
   ]
  },
  {
   "cell_type": "markdown",
   "id": "edb79991-e002-49a9-9c92-9404e942503e",
   "metadata": {},
   "source": [
    "---\n",
    "\n",
    "De manera general, SymPy es una herramienta poderosa que puede ser muy útil tanto para alumnos como profesores y brindarles nuevas formas de resolver problemas al tiempo que manejan un lenguaje de programación ampliamente usado en muchas ramas de la vida profesional."
   ]
  }
 ],
 "metadata": {
  "kernelspec": {
   "display_name": "Python 3 (ipykernel)",
   "language": "python",
   "name": "python3"
  },
  "language_info": {
   "codemirror_mode": {
    "name": "ipython",
    "version": 3
   },
   "file_extension": ".py",
   "mimetype": "text/x-python",
   "name": "python",
   "nbconvert_exporter": "python",
   "pygments_lexer": "ipython3",
   "version": "3.8.13"
  }
 },
 "nbformat": 4,
 "nbformat_minor": 5
}
